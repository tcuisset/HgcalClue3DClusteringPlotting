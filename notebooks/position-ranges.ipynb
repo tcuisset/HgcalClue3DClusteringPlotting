{
 "cells": [
  {
   "cell_type": "code",
   "execution_count": 2,
   "metadata": {},
   "outputs": [],
   "source": [
    "import pandas as pd\n",
    "import uproot\n",
    "import sys\n",
    "sys.path.append(\"..\")\n",
    "from hists.dataframe import *\n",
    "import matplotlib.pyplot as plt"
   ]
  },
  {
   "cell_type": "code",
   "execution_count": 3,
   "metadata": {},
   "outputs": [],
   "source": [
    "input_file = '/data_cms_upgrade/cuisset/testbeam18/clue3d/v13/default/sim_proton/CLUE_clusters.root'"
   ]
  },
  {
   "cell_type": "code",
   "execution_count": 4,
   "metadata": {},
   "outputs": [
    {
     "ename": "KeyboardInterrupt",
     "evalue": "",
     "output_type": "error",
     "traceback": [
      "\u001b[0;31m---------------------------------------------------------------------------\u001b[0m",
      "\u001b[0;31mKeyboardInterrupt\u001b[0m                         Traceback (most recent call last)",
      "Cell \u001b[0;32mIn[4], line 5\u001b[0m\n\u001b[1;32m      3\u001b[0m min_y\u001b[39m=\u001b[39m \u001b[39m0\u001b[39m\n\u001b[1;32m      4\u001b[0m max_y \u001b[39m=\u001b[39m \u001b[39m0\u001b[39m\n\u001b[0;32m----> 5\u001b[0m \u001b[39mfor\u001b[39;00m array_i \u001b[39min\u001b[39;00m uproot\u001b[39m.\u001b[39miterate(input_file \u001b[39m+\u001b[39m \u001b[39m\"\u001b[39m\u001b[39m:clusters\u001b[39m\u001b[39m\"\u001b[39m, step_size\u001b[39m=\u001b[39m\u001b[39m\"\u001b[39m\u001b[39m100MB\u001b[39m\u001b[39m\"\u001b[39m, library\u001b[39m=\u001b[39m\u001b[39m\"\u001b[39m\u001b[39mak\u001b[39m\u001b[39m\"\u001b[39m, filter_name\u001b[39m=\u001b[39m[\u001b[39m\"\u001b[39m\u001b[39mrechits_x\u001b[39m\u001b[39m\"\u001b[39m, \u001b[39m\"\u001b[39m\u001b[39mrechits_y\u001b[39m\u001b[39m\"\u001b[39m]):\n\u001b[1;32m      6\u001b[0m     min_x \u001b[39m=\u001b[39m \u001b[39mmin\u001b[39m(ak\u001b[39m.\u001b[39mmin(array_i\u001b[39m.\u001b[39mrechits_x), min_x)\n\u001b[1;32m      7\u001b[0m     min_y \u001b[39m=\u001b[39m \u001b[39mmin\u001b[39m(ak\u001b[39m.\u001b[39mmin(array_i\u001b[39m.\u001b[39mrechits_y), min_y)\n",
      "File \u001b[0;32m~/miniconda3/envs/clustering-analysis/lib/python3.11/site-packages/uproot/behaviors/TBranch.py:193\u001b[0m, in \u001b[0;36miterate\u001b[0;34m(files, expressions, cut, filter_name, filter_typename, filter_branch, aliases, language, step_size, decompression_executor, interpretation_executor, library, ak_add_doc, how, report, custom_classes, allow_missing, **options)\u001b[0m\n\u001b[1;32m    191\u001b[0m \u001b[39mwith\u001b[39;00m hasbranches:\n\u001b[1;32m    192\u001b[0m     \u001b[39mtry\u001b[39;00m:\n\u001b[0;32m--> 193\u001b[0m         \u001b[39mfor\u001b[39;00m item \u001b[39min\u001b[39;00m hasbranches\u001b[39m.\u001b[39miterate(\n\u001b[1;32m    194\u001b[0m             expressions\u001b[39m=\u001b[39mexpressions,\n\u001b[1;32m    195\u001b[0m             cut\u001b[39m=\u001b[39mcut,\n\u001b[1;32m    196\u001b[0m             filter_name\u001b[39m=\u001b[39mfilter_name,\n\u001b[1;32m    197\u001b[0m             filter_typename\u001b[39m=\u001b[39mfilter_typename,\n\u001b[1;32m    198\u001b[0m             filter_branch\u001b[39m=\u001b[39mfilter_branch,\n\u001b[1;32m    199\u001b[0m             aliases\u001b[39m=\u001b[39maliases,\n\u001b[1;32m    200\u001b[0m             language\u001b[39m=\u001b[39mlanguage,\n\u001b[1;32m    201\u001b[0m             step_size\u001b[39m=\u001b[39mstep_size,\n\u001b[1;32m    202\u001b[0m             decompression_executor\u001b[39m=\u001b[39mdecompression_executor,\n\u001b[1;32m    203\u001b[0m             interpretation_executor\u001b[39m=\u001b[39minterpretation_executor,\n\u001b[1;32m    204\u001b[0m             library\u001b[39m=\u001b[39mlibrary,\n\u001b[1;32m    205\u001b[0m             ak_add_doc\u001b[39m=\u001b[39mak_add_doc,\n\u001b[1;32m    206\u001b[0m             how\u001b[39m=\u001b[39mhow,\n\u001b[1;32m    207\u001b[0m             report\u001b[39m=\u001b[39mreport,\n\u001b[1;32m    208\u001b[0m         ):\n\u001b[1;32m    209\u001b[0m             \u001b[39mif\u001b[39;00m report:\n\u001b[1;32m    210\u001b[0m                 arrays, report \u001b[39m=\u001b[39m item\n",
      "File \u001b[0;32m~/miniconda3/envs/clustering-analysis/lib/python3.11/site-packages/uproot/behaviors/TBranch.py:1078\u001b[0m, in \u001b[0;36mHasBranches.iterate\u001b[0;34m(self, expressions, cut, filter_name, filter_typename, filter_branch, aliases, language, entry_start, entry_stop, step_size, decompression_executor, interpretation_executor, library, ak_add_doc, how, report)\u001b[0m\n\u001b[1;32m   1076\u001b[0m arrays \u001b[39m=\u001b[39m {}\n\u001b[1;32m   1077\u001b[0m interp_options \u001b[39m=\u001b[39m {\u001b[39m\"\u001b[39m\u001b[39mak_add_doc\u001b[39m\u001b[39m\"\u001b[39m: ak_add_doc}\n\u001b[0;32m-> 1078\u001b[0m _ranges_or_baskets_to_arrays(\n\u001b[1;32m   1079\u001b[0m     \u001b[39mself\u001b[39;49m,\n\u001b[1;32m   1080\u001b[0m     ranges_or_baskets,\n\u001b[1;32m   1081\u001b[0m     branchid_interpretation,\n\u001b[1;32m   1082\u001b[0m     sub_entry_start,\n\u001b[1;32m   1083\u001b[0m     sub_entry_stop,\n\u001b[1;32m   1084\u001b[0m     decompression_executor,\n\u001b[1;32m   1085\u001b[0m     interpretation_executor,\n\u001b[1;32m   1086\u001b[0m     library,\n\u001b[1;32m   1087\u001b[0m     arrays,\n\u001b[1;32m   1088\u001b[0m     \u001b[39mTrue\u001b[39;49;00m,\n\u001b[1;32m   1089\u001b[0m     interp_options,\n\u001b[1;32m   1090\u001b[0m )\n\u001b[1;32m   1092\u001b[0m _fix_asgrouped(\n\u001b[1;32m   1093\u001b[0m     arrays,\n\u001b[1;32m   1094\u001b[0m     expression_context,\n\u001b[0;32m   (...)\u001b[0m\n\u001b[1;32m   1098\u001b[0m     ak_add_doc,\n\u001b[1;32m   1099\u001b[0m )\n\u001b[1;32m   1101\u001b[0m output \u001b[39m=\u001b[39m language\u001b[39m.\u001b[39mcompute_expressions(\n\u001b[1;32m   1102\u001b[0m     \u001b[39mself\u001b[39m,\n\u001b[1;32m   1103\u001b[0m     arrays,\n\u001b[0;32m   (...)\u001b[0m\n\u001b[1;32m   1108\u001b[0m     \u001b[39mself\u001b[39m\u001b[39m.\u001b[39mobject_path,\n\u001b[1;32m   1109\u001b[0m )\n",
      "File \u001b[0;32m~/miniconda3/envs/clustering-analysis/lib/python3.11/site-packages/uproot/behaviors/TBranch.py:3131\u001b[0m, in \u001b[0;36m_ranges_or_baskets_to_arrays\u001b[0;34m(hasbranches, ranges_or_baskets, branchid_interpretation, entry_start, entry_stop, decompression_executor, interpretation_executor, library, arrays, update_ranges_or_baskets, interp_options)\u001b[0m\n\u001b[1;32m   3129\u001b[0m \u001b[39mif\u001b[39;00m \u001b[39misinstance\u001b[39m(obj, uproot\u001b[39m.\u001b[39msource\u001b[39m.\u001b[39mchunk\u001b[39m.\u001b[39mChunk):\n\u001b[1;32m   3130\u001b[0m     args \u001b[39m=\u001b[39m range_args[(obj\u001b[39m.\u001b[39mstart, obj\u001b[39m.\u001b[39mstop)]\n\u001b[0;32m-> 3131\u001b[0m     decompression_executor\u001b[39m.\u001b[39;49msubmit(chunk_to_basket, obj, \u001b[39m*\u001b[39;49margs)\n\u001b[1;32m   3133\u001b[0m \u001b[39melif\u001b[39;00m \u001b[39misinstance\u001b[39m(obj, uproot\u001b[39m.\u001b[39mmodels\u001b[39m.\u001b[39mTBasket\u001b[39m.\u001b[39mModel_TBasket):\n\u001b[1;32m   3134\u001b[0m     interpretation_executor\u001b[39m.\u001b[39msubmit(basket_to_array, obj)\n",
      "File \u001b[0;32m~/miniconda3/envs/clustering-analysis/lib/python3.11/site-packages/uproot/source/futures.py:73\u001b[0m, in \u001b[0;36mTrivialExecutor.submit\u001b[0;34m(self, task, *args)\u001b[0m\n\u001b[1;32m     69\u001b[0m \u001b[39mdef\u001b[39;00m \u001b[39msubmit\u001b[39m(\u001b[39mself\u001b[39m, task, \u001b[39m*\u001b[39margs):\n\u001b[1;32m     70\u001b[0m \u001b[39m    \u001b[39m\u001b[39m\"\"\"\u001b[39;00m\n\u001b[1;32m     71\u001b[0m \u001b[39m    Immediately runs ``task(*args)``.\u001b[39;00m\n\u001b[1;32m     72\u001b[0m \u001b[39m    \"\"\"\u001b[39;00m\n\u001b[0;32m---> 73\u001b[0m     \u001b[39mreturn\u001b[39;00m TrivialFuture(task(\u001b[39m*\u001b[39;49margs))\n",
      "File \u001b[0;32m~/miniconda3/envs/clustering-analysis/lib/python3.11/site-packages/uproot/behaviors/TBranch.py:3053\u001b[0m, in \u001b[0;36m_ranges_or_baskets_to_arrays.<locals>.chunk_to_basket\u001b[0;34m(chunk, branch, basket_num)\u001b[0m\n\u001b[1;32m   3051\u001b[0m \u001b[39mtry\u001b[39;00m:\n\u001b[1;32m   3052\u001b[0m     cursor \u001b[39m=\u001b[39m uproot\u001b[39m.\u001b[39msource\u001b[39m.\u001b[39mcursor\u001b[39m.\u001b[39mCursor(chunk\u001b[39m.\u001b[39mstart)\n\u001b[0;32m-> 3053\u001b[0m     basket \u001b[39m=\u001b[39m uproot\u001b[39m.\u001b[39;49mmodels\u001b[39m.\u001b[39;49mTBasket\u001b[39m.\u001b[39;49mModel_TBasket\u001b[39m.\u001b[39;49mread(\n\u001b[1;32m   3054\u001b[0m         chunk,\n\u001b[1;32m   3055\u001b[0m         cursor,\n\u001b[1;32m   3056\u001b[0m         {\u001b[39m\"\u001b[39;49m\u001b[39mbasket_num\u001b[39;49m\u001b[39m\"\u001b[39;49m: basket_num},\n\u001b[1;32m   3057\u001b[0m         hasbranches\u001b[39m.\u001b[39;49m_file,\n\u001b[1;32m   3058\u001b[0m         hasbranches\u001b[39m.\u001b[39;49m_file,\n\u001b[1;32m   3059\u001b[0m         branch,\n\u001b[1;32m   3060\u001b[0m     )\n\u001b[1;32m   3061\u001b[0m     original_index \u001b[39m=\u001b[39m range_original_index[(chunk\u001b[39m.\u001b[39mstart, chunk\u001b[39m.\u001b[39mstop)]\n\u001b[1;32m   3062\u001b[0m     \u001b[39mif\u001b[39;00m update_ranges_or_baskets:\n",
      "File \u001b[0;32m~/miniconda3/envs/clustering-analysis/lib/python3.11/site-packages/uproot/model.py:860\u001b[0m, in \u001b[0;36mModel.read\u001b[0;34m(cls, chunk, cursor, context, file, selffile, parent, concrete)\u001b[0m\n\u001b[1;32m    851\u001b[0m     \u001b[39mif\u001b[39;00m forth_stash \u001b[39mis\u001b[39;00m \u001b[39mnot\u001b[39;00m \u001b[39mNone\u001b[39;00m:\n\u001b[1;32m    852\u001b[0m         forth_obj\u001b[39m.\u001b[39madd_node(\n\u001b[1;32m    853\u001b[0m             \u001b[39m\"\u001b[39m\u001b[39mmodel828\u001b[39m\u001b[39m\"\u001b[39m,\n\u001b[1;32m    854\u001b[0m             forth_stash\u001b[39m.\u001b[39mget_attrs(),\n\u001b[0;32m   (...)\u001b[0m\n\u001b[1;32m    857\u001b[0m             {},\n\u001b[1;32m    858\u001b[0m         )\n\u001b[0;32m--> 860\u001b[0m     \u001b[39mself\u001b[39;49m\u001b[39m.\u001b[39;49mread_members(chunk, cursor, context, file)\n\u001b[1;32m    861\u001b[0m     \u001b[39mself\u001b[39m\u001b[39m.\u001b[39mhook_after_read_members(\n\u001b[1;32m    862\u001b[0m         chunk\u001b[39m=\u001b[39mchunk, cursor\u001b[39m=\u001b[39mcursor, context\u001b[39m=\u001b[39mcontext, file\u001b[39m=\u001b[39mfile\n\u001b[1;32m    863\u001b[0m     )\n\u001b[1;32m    865\u001b[0m \u001b[39mself\u001b[39m\u001b[39m.\u001b[39mcheck_numbytes(chunk, cursor, context)\n",
      "File \u001b[0;32m~/miniconda3/envs/clustering-analysis/lib/python3.11/site-packages/uproot/models/TBasket.py:291\u001b[0m, in \u001b[0;36mModel_TBasket.read_members\u001b[0;34m(self, chunk, cursor, context, file)\u001b[0m\n\u001b[1;32m    289\u001b[0m \u001b[39mif\u001b[39;00m compressed_bytes \u001b[39m!=\u001b[39m uncompressed_bytes:\n\u001b[1;32m    290\u001b[0m     \u001b[39mself\u001b[39m\u001b[39m.\u001b[39m_block_compression_info \u001b[39m=\u001b[39m []\n\u001b[0;32m--> 291\u001b[0m     uncompressed \u001b[39m=\u001b[39m uproot\u001b[39m.\u001b[39;49mcompression\u001b[39m.\u001b[39;49mdecompress(\n\u001b[1;32m    292\u001b[0m         chunk,\n\u001b[1;32m    293\u001b[0m         cursor,\n\u001b[1;32m    294\u001b[0m         {},\n\u001b[1;32m    295\u001b[0m         compressed_bytes,\n\u001b[1;32m    296\u001b[0m         uncompressed_bytes,\n\u001b[1;32m    297\u001b[0m         \u001b[39mself\u001b[39;49m\u001b[39m.\u001b[39;49m_block_compression_info,\n\u001b[1;32m    298\u001b[0m     )\n\u001b[1;32m    299\u001b[0m     \u001b[39mself\u001b[39m\u001b[39m.\u001b[39m_block_compression_info \u001b[39m=\u001b[39m \u001b[39mtuple\u001b[39m(\u001b[39mself\u001b[39m\u001b[39m.\u001b[39m_block_compression_info)\n\u001b[1;32m    300\u001b[0m     \u001b[39mself\u001b[39m\u001b[39m.\u001b[39m_raw_data \u001b[39m=\u001b[39m uncompressed\u001b[39m.\u001b[39mget(\n\u001b[1;32m    301\u001b[0m         \u001b[39m0\u001b[39m,\n\u001b[1;32m    302\u001b[0m         uncompressed_bytes,\n\u001b[1;32m    303\u001b[0m         uproot\u001b[39m.\u001b[39msource\u001b[39m.\u001b[39mcursor\u001b[39m.\u001b[39mCursor(\u001b[39m0\u001b[39m),\n\u001b[1;32m    304\u001b[0m         context,\n\u001b[1;32m    305\u001b[0m     )\n",
      "File \u001b[0;32m~/miniconda3/envs/clustering-analysis/lib/python3.11/site-packages/uproot/compression.py:415\u001b[0m, in \u001b[0;36mdecompress\u001b[0;34m(chunk, cursor, context, compressed_bytes, uncompressed_bytes, block_info)\u001b[0m\n\u001b[1;32m    410\u001b[0m \u001b[39mif\u001b[39;00m block_info \u001b[39mis\u001b[39;00m \u001b[39mnot\u001b[39;00m \u001b[39mNone\u001b[39;00m:\n\u001b[1;32m    411\u001b[0m     block_info\u001b[39m.\u001b[39mappend(\n\u001b[1;32m    412\u001b[0m         (decompressor\u001b[39m.\u001b[39mname, block_compressed_bytes, block_uncompressed_bytes)\n\u001b[1;32m    413\u001b[0m     )\n\u001b[0;32m--> 415\u001b[0m uncompressed_bytestring \u001b[39m=\u001b[39m decompressor\u001b[39m.\u001b[39;49mdecompress(\n\u001b[1;32m    416\u001b[0m     data, block_uncompressed_bytes\n\u001b[1;32m    417\u001b[0m )\n\u001b[1;32m    419\u001b[0m \u001b[39mif\u001b[39;00m \u001b[39mlen\u001b[39m(uncompressed_bytestring) \u001b[39m!=\u001b[39m block_uncompressed_bytes:\n\u001b[1;32m    420\u001b[0m     \u001b[39mraise\u001b[39;00m \u001b[39mValueError\u001b[39;00m(\n\u001b[1;32m    421\u001b[0m \u001b[39m        \u001b[39m\u001b[39m\"\"\"after successfully decompressing {} blocks, a block of \"\"\"\u001b[39;00m\n\u001b[1;32m    422\u001b[0m \u001b[39m        \u001b[39m\u001b[39m\"\"\"compressed size {} decompressed to {} bytes, but the \"\"\"\u001b[39;00m\n\u001b[0;32m   (...)\u001b[0m\n\u001b[1;32m    430\u001b[0m         )\n\u001b[1;32m    431\u001b[0m     )\n",
      "File \u001b[0;32m~/miniconda3/envs/clustering-analysis/lib/python3.11/site-packages/uproot/compression.py:94\u001b[0m, in \u001b[0;36m_DecompressZLIB.decompress\u001b[0;34m(self, data, uncompressed_bytes)\u001b[0m\n\u001b[1;32m     91\u001b[0m \u001b[39mdef\u001b[39;00m \u001b[39mdecompress\u001b[39m(\u001b[39mself\u001b[39m, data, uncompressed_bytes\u001b[39m=\u001b[39m\u001b[39mNone\u001b[39;00m):\n\u001b[1;32m     92\u001b[0m     \u001b[39mimport\u001b[39;00m \u001b[39mzlib\u001b[39;00m\n\u001b[0;32m---> 94\u001b[0m     \u001b[39mreturn\u001b[39;00m zlib\u001b[39m.\u001b[39mdecompress(data)\n",
      "\u001b[0;31mKeyboardInterrupt\u001b[0m: "
     ]
    }
   ],
   "source": [
    "min_x = 0\n",
    "max_x = 0\n",
    "min_y= 0\n",
    "max_y = 0\n",
    "for array_i in uproot.iterate(input_file + \":clusters\", step_size=\"100MB\", library=\"ak\", filter_name=[\"rechits_x\", \"rechits_y\"]):\n",
    "    min_x = min(ak.min(array_i.rechits_x), min_x)\n",
    "    min_y = min(ak.min(array_i.rechits_y), min_y)\n",
    "    max_x = max(ak.max(array_i.rechits_x), max_x)\n",
    "    max_y = max(ak.max(array_i.rechits_y), max_y)\n"
   ]
  },
  {
   "cell_type": "code",
   "execution_count": null,
   "metadata": {},
   "outputs": [
    {
     "name": "stdout",
     "output_type": "stream",
     "text": [
      "-6.8023453\n",
      "6.8023453\n",
      "-6.171528\n",
      "6.171528\n"
     ]
    }
   ],
   "source": [
    "print(min_x)\n",
    "print(max_x)\n",
    "print(min_y)\n",
    "print(max_y)"
   ]
  },
  {
   "cell_type": "code",
   "execution_count": 8,
   "metadata": {},
   "outputs": [],
   "source": [
    "beamEn = set()\n",
    "for array_i in uproot.iterate(input_file + \":clusters\", step_size=\"100MB\", library=\"pd\", filter_name=[\"beamEnergy\"]):\n",
    "    beamEn.update(array_i.beamEnergy.unique())\n",
    "    "
   ]
  },
  {
   "cell_type": "code",
   "execution_count": 9,
   "metadata": {},
   "outputs": [
    {
     "data": {
      "text/plain": [
       "{20.0, 30.0, 50.0, 80.0, 100.0, 120.0, 150.0, 200.0, 250.0, 300.0}"
      ]
     },
     "execution_count": 9,
     "metadata": {},
     "output_type": "execute_result"
    }
   ],
   "source": [
    "beamEn"
   ]
  },
  {
   "cell_type": "code",
   "execution_count": null,
   "metadata": {},
   "outputs": [],
   "source": []
  }
 ],
 "metadata": {
  "kernelspec": {
   "display_name": "clustering-analysis",
   "language": "python",
   "name": "python3"
  },
  "language_info": {
   "codemirror_mode": {
    "name": "ipython",
    "version": 3
   },
   "file_extension": ".py",
   "mimetype": "text/x-python",
   "name": "python",
   "nbconvert_exporter": "python",
   "pygments_lexer": "ipython3",
   "version": "3.11.0"
  },
  "orig_nbformat": 4
 },
 "nbformat": 4,
 "nbformat_minor": 2
}
