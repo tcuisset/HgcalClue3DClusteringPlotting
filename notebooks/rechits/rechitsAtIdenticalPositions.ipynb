{
 "cells": [
  {
   "cell_type": "code",
   "execution_count": 1,
   "metadata": {},
   "outputs": [],
   "source": [
    "import uproot"
   ]
  },
  {
   "cell_type": "code",
   "execution_count": 11,
   "metadata": {},
   "outputs": [
    {
     "data": {
      "text/html": [
       "<pre>[{event: 4929, run: 441, NRechits: 312, ce_clean_detid: [...], ...},\n",
       " {event: 4930, run: 441, NRechits: 317, ce_clean_detid: [...], ...},\n",
       " {event: 4932, run: 441, NRechits: 334, ce_clean_detid: [...], ...},\n",
       " {event: 4935, run: 441, NRechits: 296, ce_clean_detid: [...], ...},\n",
       " {event: 4936, run: 441, NRechits: 336, ce_clean_detid: [...], ...},\n",
       " {event: 4937, run: 441, NRechits: 292, ce_clean_detid: [...], ...},\n",
       " {event: 4938, run: 441, NRechits: 258, ce_clean_detid: [...], ...},\n",
       " {event: 4939, run: 441, NRechits: 310, ce_clean_detid: [...], ...},\n",
       " {event: 4940, run: 441, NRechits: 211, ce_clean_detid: [...], ...},\n",
       " {event: 4941, run: 441, NRechits: 362, ce_clean_detid: [...], ...},\n",
       " ...,\n",
       " {event: 5959, run: 441, NRechits: 319, ce_clean_detid: [...], ...},\n",
       " {event: 5960, run: 441, NRechits: 346, ce_clean_detid: [...], ...},\n",
       " {event: 5961, run: 441, NRechits: 191, ce_clean_detid: [...], ...},\n",
       " {event: 5962, run: 441, NRechits: 328, ce_clean_detid: [...], ...},\n",
       " {event: 5963, run: 441, NRechits: 323, ce_clean_detid: [...], ...},\n",
       " {event: 5964, run: 441, NRechits: 327, ce_clean_detid: [...], ...},\n",
       " {event: 5965, run: 441, NRechits: 302, ce_clean_detid: [...], ...},\n",
       " {event: 5966, run: 441, NRechits: 340, ce_clean_detid: [...], ...},\n",
       " {event: 5967, run: 441, NRechits: 316, ce_clean_detid: [...], ...}]\n",
       "--------------------------------------------------------------------\n",
       "type: 1000 * {\n",
       "    event: uint32,\n",
       "    run: uint32,\n",
       "    NRechits: uint32,\n",
       "    ce_clean_detid: var * uint32,\n",
       "    ce_clean_x_unshifted: var * float32,\n",
       "    ce_clean_y_unshifted: var * float32,\n",
       "    ce_clean_z: var * float32,\n",
       "    ce_clean_layer: var * uint32,\n",
       "    ce_clean_energy: var * float32,\n",
       "    ce_clean_energy_MeV: var * float32,\n",
       "    beamEnergy: float32,\n",
       "    impactX_unshifted: var * float32,\n",
       "    impactY_unshifted: var * float32,\n",
       "    DWC_b_x: float64,\n",
       "    DWC_b_y: float64,\n",
       "    DWC_trackChi2_X: float32,\n",
       "    DWC_trackChi2_Y: float32,\n",
       "    impactX_shifted: var * float32,\n",
       "    impactY_shifted: var * float32,\n",
       "    ce_clean_x_shifted: var * float32,\n",
       "    ce_clean_y_shifted: var * float32\n",
       "}</pre>"
      ],
      "text/plain": [
       "<Array [{event: 4929, run: 441, ...}, ...] type='1000 * {event: uint32, run...'>"
      ]
     },
     "execution_count": 11,
     "metadata": {},
     "output_type": "execute_result"
    }
   ],
   "source": [
    "tree = uproot.open(\"/grid_mnt/data_cms_upgrade/cuisset/testbeam18/ntuple-selection/v2/ntuple_selection_data_em_441.root:relevant_branches\")\n",
    "arrays = tree.arrays(entry_stop=1000)\n",
    "arrays"
   ]
  },
  {
   "cell_type": "code",
   "execution_count": 22,
   "metadata": {},
   "outputs": [],
   "source": [
    "event = arrays[arrays.event==5603][0]"
   ]
  },
  {
   "cell_type": "code",
   "execution_count": 24,
   "metadata": {},
   "outputs": [
    {
     "data": {
      "text/plain": [
       "(-1.9489746, -1.9489746, 3.3754883, 3.3754883)"
      ]
     },
     "execution_count": 24,
     "metadata": {},
     "output_type": "execute_result"
    }
   ],
   "source": [
    "event.ce_clean_x_unshifted[25], event.ce_clean_x_unshifted[2], event.ce_clean_y_unshifted[25], event.ce_clean_y_unshifted[26]"
   ]
  },
  {
   "cell_type": "code",
   "execution_count": 28,
   "metadata": {},
   "outputs": [],
   "source": [
    "import os\n",
    "os.environ[\"X509_USER_PROXY\"]=\"~/.t3/proxy.cert\""
   ]
  },
  {
   "cell_type": "code",
   "execution_count": 3,
   "metadata": {},
   "outputs": [],
   "source": [
    "tree = uproot.open(\"root://eoscms.cern.ch///eos/cms/store/group/dpg_hgcal/tb_hgcal/2018/cern_h2_october/offline_analysis/ntuples/v16/ntuple_441.root:rechitntupler/hits\")"
   ]
  },
  {
   "cell_type": "code",
   "execution_count": 6,
   "metadata": {},
   "outputs": [],
   "source": [
    "arrays = tree.arrays(entry_start=5500, entry_stop=5700)"
   ]
  },
  {
   "cell_type": "code",
   "execution_count": 7,
   "metadata": {},
   "outputs": [
    {
     "data": {
      "text/html": [
       "<pre>[{event: 5501, trigger_timestamp: 2645699854849, run: 441, pdgID: 11, ...},\n",
       " {event: 5502, trigger_timestamp: 1, run: 441, pdgID: 11, beamEnergy: 20, ...},\n",
       " {event: 5503, trigger_timestamp: 2645699854849, run: 441, pdgID: 11, ...},\n",
       " {event: 5504, trigger_timestamp: 1, run: 441, pdgID: 11, beamEnergy: 20, ...},\n",
       " {event: 5505, trigger_timestamp: 2645699854849, run: 441, pdgID: 11, ...},\n",
       " {event: 5506, trigger_timestamp: 1, run: 441, pdgID: 11, beamEnergy: 20, ...},\n",
       " {event: 5507, trigger_timestamp: 2645699854849, run: 441, pdgID: 11, ...},\n",
       " {event: 5508, trigger_timestamp: 1, run: 441, pdgID: 11, beamEnergy: 20, ...},\n",
       " {event: 5509, trigger_timestamp: 2645699854849, run: 441, pdgID: 11, ...},\n",
       " {event: 5510, trigger_timestamp: 1, run: 441, pdgID: 11, beamEnergy: 20, ...},\n",
       " ...,\n",
       " {event: 5692, trigger_timestamp: 1, run: 441, pdgID: 11, beamEnergy: 20, ...},\n",
       " {event: 5693, trigger_timestamp: 2645699854849, run: 441, pdgID: 11, ...},\n",
       " {event: 5694, trigger_timestamp: 1, run: 441, pdgID: 11, beamEnergy: 20, ...},\n",
       " {event: 5695, trigger_timestamp: 2645699854849, run: 441, pdgID: 11, ...},\n",
       " {event: 5696, trigger_timestamp: 1, run: 441, pdgID: 11, beamEnergy: 20, ...},\n",
       " {event: 5697, trigger_timestamp: 2645699854849, run: 441, pdgID: 11, ...},\n",
       " {event: 5698, trigger_timestamp: 1, run: 441, pdgID: 11, beamEnergy: 20, ...},\n",
       " {event: 5699, trigger_timestamp: 2645699854849, run: 441, pdgID: 11, ...},\n",
       " {event: 5700, trigger_timestamp: 1, run: 441, pdgID: 11, beamEnergy: 20, ...}]\n",
       "-------------------------------------------------------------------------------\n",
       "type: 200 * {\n",
       "    event: uint32,\n",
       "    trigger_timestamp: uint64,\n",
       "    run: uint32,\n",
       "    pdgID: int32,\n",
       "    beamEnergy: float32,\n",
       "    trueBeamEnergy: float32,\n",
       "    energyLostEE: float32,\n",
       "    energyLostFH: float32,\n",
       "    energyLostBH: float32,\n",
       "    energyLostBeam: float32,\n",
       "    energyLostOutside: float32,\n",
       "    NRechits: uint32,\n",
       "    rechit_detid: var * uint32,\n",
       "    rechit_module: var * uint32,\n",
       "    rechit_layer: var * uint32,\n",
       "    rechit_chip: var * uint32,\n",
       "    rechit_channel: var * uint32,\n",
       "    rechit_type: var * uint32,\n",
       "    rechit_x: var * float32,\n",
       "    rechit_y: var * float32,\n",
       "    rechit_z: var * float32,\n",
       "    rechit_iu: var * int16,\n",
       "    rechit_iv: var * int16,\n",
       "    rechit_iU: var * int16,\n",
       "    rechit_iV: var * int16,\n",
       "    rechit_energy: var * float32,\n",
       "    rechit_energy_noHG: var * float32,\n",
       "    rechit_amplitudeHigh: var * float32,\n",
       "    rechit_amplitudeLow: var * float32,\n",
       "    rechit_hg_goodFit: var * bool,\n",
       "    rechit_lg_goodFit: var * bool,\n",
       "    rechit_hg_saturated: var * bool,\n",
       "    rechit_lg_saturated: var * bool,\n",
       "    rechit_fully_calibrated: var * bool,\n",
       "    rechit_noise_flag: var * bool,\n",
       "    rechit_TS2High: var * float32,\n",
       "    rechit_TS2Low: var * float32,\n",
       "    rechit_TS3High: var * float32,\n",
       "    rechit_TS3Low: var * float32,\n",
       "    rechit_Tot: var * uint16,\n",
       "    rechit_toa_calib_flag: var * int16,\n",
       "    rechit_toaFall_flag: var * int16,\n",
       "    rechit_toaRise_flag: var * int16,\n",
       "    rechit_toaFall_norm: var * float32,\n",
       "    rechit_toaRise_norm: var * float32,\n",
       "    rechit_toaFall_time: var * float32,\n",
       "    rechit_toaRise_time: var * float32,\n",
       "    rechit_toaFall_corr_time: var * float32,\n",
       "    rechit_toaRise_corr_time: var * float32,\n",
       "    rechit_calib_time_toaFall: var * float32,\n",
       "    rechit_calib_time_toaRise: var * float32,\n",
       "    rechit_toaRise: var * uint16,\n",
       "    rechit_toaFall: var * uint16,\n",
       "    rechit_timeMaxHG: var * float32,\n",
       "    rechit_timeMaxLG: var * float32,\n",
       "    rechit_time_mc_firstHit: var * float32,\n",
       "    rechit_time_mc_lastHit: var * float32,\n",
       "    rechit_time_mc: var * float32,\n",
       "    rechit_time_mc_firstHit_nosm_vtx: var * float32,\n",
       "    rechit_time_mc_lastHit_nosm_vtx: var * float32,\n",
       "    rechit_time_mc_nosm_vtx: var * float32,\n",
       "    rechit_time_mc_firstHit_sm_novtx: var * float32,\n",
       "    rechit_time_mc_lastHit_sm_novtx: var * float32,\n",
       "    rechit_time_mc_sm_novtx: var * float32,\n",
       "    rechit_time_mc_firstHit_sm_vtx: var * float32,\n",
       "    rechit_time_mc_lastHit_sm_vtx: var * float32,\n",
       "    rechit_time_mc_sm_vtx: var * float32\n",
       "}</pre>"
      ],
      "text/plain": [
       "<Array [{event: 5501, ...}, {...}, ..., {...}] type='200 * {event: uint32, ...'>"
      ]
     },
     "execution_count": 7,
     "metadata": {},
     "output_type": "execute_result"
    }
   ],
   "source": [
    "arrays"
   ]
  },
  {
   "cell_type": "code",
   "execution_count": 11,
   "metadata": {},
   "outputs": [
    {
     "data": {
      "text/html": [
       "<pre>{event: 5603,\n",
       " trigger_timestamp: 2645699854849,\n",
       " run: 441,\n",
       " pdgID: 11,\n",
       " beamEnergy: 20,\n",
       " trueBeamEnergy: -1,\n",
       " energyLostEE: -1,\n",
       " energyLostFH: -1,\n",
       " energyLostBH: -1,\n",
       " energyLostBeam: -1,\n",
       " energyLostOutside: -1,\n",
       " NRechits: 346,\n",
       " rechit_detid: [16777279, 16777342, 16777405, ..., 622920058, 637534459],\n",
       " rechit_module: [78, 78, 78, 78, 78, 90, 90, ..., 75, 75, 75, 63, 63, 75, 62],\n",
       " rechit_layer: [1, 1, 1, 1, 1, 2, 2, 2, 2, ..., 37, 37, 37, 37, 37, 37, 37, 38],\n",
       " rechit_chip: [2, 2, 1, 1, 1, 2, 2, 2, 2, 2, ..., 1, 0, 3, 3, 3, 3, 3, 0, 3, 3],\n",
       " rechit_channel: [38, 40, 40, 54, 30, 36, 34, ..., 42, 8, 2, 28, 44, 12, 28],\n",
       " rechit_type: [0, 0, 0, 0, 0, 0, 0, 0, 0, 0, ..., 3, 0, 0, 0, 0, 0, 0, 0, 2, 0],\n",
       " rechit_x: [-9e-06, -0.974, -1.95, -1.95, -2.92, ..., 13.6, 13.6, -15.6, -2.92],\n",
       " ...}\n",
       "--------------------------------------------------------------------------------\n",
       "type: {\n",
       "    event: uint32,\n",
       "    trigger_timestamp: uint64,\n",
       "    run: uint32,\n",
       "    pdgID: int32,\n",
       "    beamEnergy: float32,\n",
       "    trueBeamEnergy: float32,\n",
       "    energyLostEE: float32,\n",
       "    energyLostFH: float32,\n",
       "    energyLostBH: float32,\n",
       "    energyLostBeam: float32,\n",
       "    energyLostOutside: float32,\n",
       "    NRechits: uint32,\n",
       "    rechit_detid: var * uint32,\n",
       "    rechit_module: var * uint32,\n",
       "    rechit_layer: var * uint32,\n",
       "    rechit_chip: var * uint32,\n",
       "    rechit_channel: var * uint32,\n",
       "    rechit_type: var * uint32,\n",
       "    rechit_x: var * float32,\n",
       "    rechit_y: var * float32,\n",
       "    rechit_z: var * float32,\n",
       "    rechit_iu: var * int16,\n",
       "    rechit_iv: var * int16,\n",
       "    rechit_iU: var * int16,\n",
       "    rechit_iV: var * int16,\n",
       "    rechit_energy: var * float32,\n",
       "    rechit_energy_noHG: var * float32,\n",
       "    rechit_amplitudeHigh: var * float32,\n",
       "    rechit_amplitudeLow: var * float32,\n",
       "    rechit_hg_goodFit: var * bool,\n",
       "    rechit_lg_goodFit: var * bool,\n",
       "    rechit_hg_saturated: var * bool,\n",
       "    rechit_lg_saturated: var * bool,\n",
       "    rechit_fully_calibrated: var * bool,\n",
       "    rechit_noise_flag: var * bool,\n",
       "    rechit_TS2High: var * float32,\n",
       "    rechit_TS2Low: var * float32,\n",
       "    rechit_TS3High: var * float32,\n",
       "    rechit_TS3Low: var * float32,\n",
       "    rechit_Tot: var * uint16,\n",
       "    rechit_toa_calib_flag: var * int16,\n",
       "    rechit_toaFall_flag: var * int16,\n",
       "    rechit_toaRise_flag: var * int16,\n",
       "    rechit_toaFall_norm: var * float32,\n",
       "    rechit_toaRise_norm: var * float32,\n",
       "    rechit_toaFall_time: var * float32,\n",
       "    rechit_toaRise_time: var * float32,\n",
       "    rechit_toaFall_corr_time: var * float32,\n",
       "    rechit_toaRise_corr_time: var * float32,\n",
       "    rechit_calib_time_toaFall: var * float32,\n",
       "    rechit_calib_time_toaRise: var * float32,\n",
       "    rechit_toaRise: var * uint16,\n",
       "    rechit_toaFall: var * uint16,\n",
       "    rechit_timeMaxHG: var * float32,\n",
       "    rechit_timeMaxLG: var * float32,\n",
       "    rechit_time_mc_firstHit: var * float32,\n",
       "    rechit_time_mc_lastHit: var * float32,\n",
       "    rechit_time_mc: var * float32,\n",
       "    rechit_time_mc_firstHit_nosm_vtx: var * float32,\n",
       "    rechit_time_mc_lastHit_nosm_vtx: var * float32,\n",
       "    rechit_time_mc_nosm_vtx: var * float32,\n",
       "    rechit_time_mc_firstHit_sm_novtx: var * float32,\n",
       "    rechit_time_mc_lastHit_sm_novtx: var * float32,\n",
       "    rechit_time_mc_sm_novtx: var * float32,\n",
       "    rechit_time_mc_firstHit_sm_vtx: var * float32,\n",
       "    rechit_time_mc_lastHit_sm_vtx: var * float32,\n",
       "    rechit_time_mc_sm_vtx: var * float32\n",
       "}</pre>"
      ],
      "text/plain": [
       "<Record {event: 5603, ...} type='{event: uint32, trigger_timestamp: uint64,...'>"
      ]
     },
     "execution_count": 11,
     "metadata": {},
     "output_type": "execute_result"
    }
   ],
   "source": [
    "event = arrays[arrays.event == 5603][0]\n",
    "event"
   ]
  },
  {
   "cell_type": "code",
   "execution_count": null,
   "metadata": {},
   "outputs": [],
   "source": [
    "event.ce_clean_x_unshifted[25], event.ce_clean_x_unshifted[2], event.ce_clean_y_unshifted[25], event.ce_clean_y_unshifted[26]"
   ]
  }
 ],
 "metadata": {
  "kernelspec": {
   "display_name": "clustering-analysis",
   "language": "python",
   "name": "clustering-analysis"
  },
  "language_info": {
   "codemirror_mode": {
    "name": "ipython",
    "version": 3
   },
   "file_extension": ".py",
   "mimetype": "text/x-python",
   "name": "python",
   "nbconvert_exporter": "python",
   "pygments_lexer": "ipython3",
   "version": "3.11.0"
  }
 },
 "nbformat": 4,
 "nbformat_minor": 2
}
