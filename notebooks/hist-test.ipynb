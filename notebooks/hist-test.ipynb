{
 "cells": [
  {
   "cell_type": "code",
   "execution_count": 7,
   "metadata": {},
   "outputs": [],
   "source": [
    "import hist\n",
    "import boost_histogram as bh\n",
    "import numpy as np\n",
    "import functools\n",
    "import operator"
   ]
  },
  {
   "cell_type": "code",
   "execution_count": 8,
   "metadata": {},
   "outputs": [
    {
     "data": {
      "text/plain": [
       "Hist(\n",
       "  Regular(10, 0, 10, name='x'),\n",
       "  Regular(10, 0, 10, name='y'),\n",
       "  StrCategory(['allTracksters', 'mainTrackster'], name='mainOrAllTracksters'),\n",
       "  storage=Double()) # Sum: 4.0"
      ]
     },
     "execution_count": 8,
     "metadata": {},
     "output_type": "execute_result"
    }
   ],
   "source": [
    "h = hist.Hist(\n",
    "    hist.axis.Regular(bins=10, start=0, stop=10, name=\"x\"),\n",
    "    hist.axis.Regular(bins=10, start=0, stop=10, name=\"y\"),\n",
    "    hist.axis.StrCategory([\"allTracksters\", \"mainTrackster\"], name=\"mainOrAllTracksters\")\n",
    ")\n",
    "h.fill(x=[1, 3, 1, 6], y=[3, 8, 4, 8], mainOrAllTracksters=[\"allTracksters\", \"mainTrackster\", \"mainTrackster\", \"mainTrackster\"])"
   ]
  },
  {
   "cell_type": "code",
   "execution_count": 9,
   "metadata": {},
   "outputs": [
    {
     "data": {
      "text/html": [
       "<html>\n",
       "<div style=\"display:flex; align-items:center;\">\n",
       "<div style=\"width:290px;\">\n",
       "<svg xmlns=\"http://www.w3.org/2000/svg\" viewBox=\"-10 -105 270 120\">\n",
       "<line x1=\"-5\" y1=\"0\" x2=\"255\" y2=\"0\" style=\"fill:none;stroke-width:2;stroke:currentColor\"/>\n",
       "<text text-anchor=\"middle\" x=\"0\" y=\"15\" style=\"fill:currentColor;\">\n",
       "0\n",
       "</text>\n",
       "<text text-anchor=\"middle\" x=\"250\" y=\"15\" style=\"fill:currentColor;\">\n",
       "10\n",
       "</text>\n",
       "<text text-anchor=\"middle\" x=\"125.0\" y=\"15\" style=\"fill:currentColor;\">\n",
       "x\n",
       "</text>\n",
       "<polyline points=\"  0,0   0,-0  25,-0  25,-100  50,-100  50,-0  75,-0  75,-100 100,-100 100,-0 125,-0 125,-0 150,-0 150,-100 175,-100 175,-0 200,-0 200,-0 225,-0 225,-0 250,-0 250,0\" style=\"fill:none; stroke:currentColor;\"/>\n",
       "</svg>\n",
       "</div>\n",
       "<div style=\"flex=grow:1;\">\n",
       "Regular(10, 0, 10, name='x')<br/>\n",
       "<hr style=\"margin-top:.2em; margin-bottom:.2em;\"/>\n",
       "Double() Σ=3.0\n",
       "\n",
       "</div>\n",
       "</div>\n",
       "</html>"
      ],
      "text/plain": [
       "Hist(Regular(10, 0, 10, name='x'), storage=Double()) # Sum: 3.0"
      ]
     },
     "execution_count": 9,
     "metadata": {},
     "output_type": "execute_result"
    }
   ],
   "source": [
    "h[{\"y\":slice(hist.loc(1), hist.loc(9), sum), \"mainOrAllTracksters\":hist.loc(\"mainTrackster\")}]"
   ]
  },
  {
   "cell_type": "code",
   "execution_count": 10,
   "metadata": {},
   "outputs": [],
   "source": [
    "cluster2D_rho_axis = hist.axis.Regular(bins=100, start=0, stop=20., name=\"clus2D_rho\", label=\"2D cluster rho (local energy density)\", transform=hist.axis.transform.sqrt)"
   ]
  },
  {
   "cell_type": "code",
   "execution_count": 11,
   "metadata": {},
   "outputs": [
    {
     "data": {
      "text/html": [
       "<html>\n",
       "<div style=\"display:flex; align-items:center;\">\n",
       "<div style=\"width:290px;\">\n",
       "<svg xmlns=\"http://www.w3.org/2000/svg\" viewBox=\"-10 -105 270 120\">\n",
       "<line x1=\"-5\" y1=\"0\" x2=\"255\" y2=\"0\" style=\"fill:none;stroke-width:2;stroke:currentColor\"/>\n",
       "<text text-anchor=\"middle\" x=\"0\" y=\"15\" style=\"fill:currentColor;\">\n",
       "0\n",
       "</text>\n",
       "<text text-anchor=\"middle\" x=\"250\" y=\"15\" style=\"fill:currentColor;\">\n",
       "20\n",
       "</text>\n",
       "<text text-anchor=\"middle\" x=\"125.0\" y=\"15\" style=\"fill:currentColor;\">\n",
       "2D cluster rho (local energy density)\n",
       "</text>\n",
       "<polyline points=\"  0,0   0,-0 0.025,-0 0.025,-0 0.1,-0 0.1,-0 0.225,-0 0.225,-0 0.4,-0 0.4,-0 0.625,-0 0.625,-45.5 0.9,-45.5 0.9,-0 1.225,-0 1.225,-100 1.6,-100 1.6,-29.4 2.025,-29.4 2.025,-0 2.5,-0 2.5,-0 3.025,-0 3.025,-0 3.6,-0 3.6,-0 4.225,-0 4.225,-0 4.9,-0 4.9,-0 5.625,-0 5.625,-0 6.4,-0 6.4,-0 7.225,-0 7.225,-0 8.1,-0 8.1,-0 9.025,-0 9.025,-0  10,-0  10,-0 11.025,-0 11.025,-0 12.1,-0 12.1,-0 13.225,-0 13.225,-0 14.4,-0 14.4,-0 15.625,-0 15.625,-0 16.9,-0 16.9,-0 18.225,-0 18.225,-0 19.6,-0 19.6,-0 21.025,-0 21.025,-0 22.5,-0 22.5,-0 24.025,-0 24.025,-0 25.6,-0 25.6,-0 27.225,-0 27.225,-0 28.9,-0 28.9,-0 30.625,-0 30.625,-0 32.4,-0 32.4,-0 34.225,-0 34.225,-0 36.1,-0 36.1,-0 38.025,-0 38.025,-0  40,-0  40,-0 42.025,-0 42.025,-0 44.1,-0 44.1,-5.88 46.225,-5.88 46.225,-0 48.4,-0 48.4,-0 50.625,-0 50.625,-0 52.9,-0 52.9,-0 55.225,-0 55.225,-0 57.6,-0 57.6,-0 60.025,-0 60.025,-0 62.5,-0 62.5,-0 65.025,-0 65.025,-0 67.6,-0 67.6,-0 70.225,-0 70.225,-0 72.9,-0 72.9,-0 75.625,-0 75.625,-0 78.4,-0 78.4,-0 81.225,-0 81.225,-0 84.1,-0 84.1,-0 87.025,-0 87.025,-0  90,-0  90,-0 93.025,-0 93.025,-4.07 96.1,-4.07 96.1,-0 99.225,-0 99.225,-0 102.4,-0 102.4,-0 105.625,-0 105.625,-0 108.9,-0 108.9,-0 112.225,-0 112.225,-0 115.6,-0 115.6,-0 119.025,-0 119.025,-0 122.5,-0 122.5,-0 126.025,-0 126.025,-0 129.6,-0 129.6,-0 133.225,-0 133.225,-0 136.9,-0 136.9,-0 140.625,-0 140.625,-0 144.4,-0 144.4,-0 148.225,-0 148.225,-0 152.1,-0 152.1,-0 156.025,-0 156.025,-0 160,-0 160,-0 164.025,-0 164.025,-0 168.1,-0 168.1,-0 172.225,-0 172.225,-0 176.4,-0 176.4,-0 180.625,-0 180.625,-0 184.9,-0 184.9,-0 189.225,-0 189.225,-0 193.6,-0 193.6,-0 198.025,-0 198.025,-0 202.5,-0 202.5,-0 207.025,-0 207.025,-2.73 211.6,-2.73 211.6,-0 216.225,-0 216.225,-0 220.9,-0 220.9,-0 225.625,-0 225.625,-0 230.4,-0 230.4,-0 235.225,-0 235.225,-0 240.1,-0 240.1,-0 245.025,-0 245.025,-0 250,-0 250,0\" style=\"fill:none; stroke:currentColor;\"/>\n",
       "</svg>\n",
       "</div>\n",
       "<div style=\"flex=grow:1;\">\n",
       "Regular(100, 0, 20, transform=sqrt, name='clus2D_rho', label='2D cluster rho (local energy density)')<br/>\n",
       "<hr style=\"margin-top:.2em; margin-bottom:.2em;\"/>\n",
       "Double() Σ=8.0 <em>(10.0 with flow)</em>\n",
       "\n",
       "</div>\n",
       "</div>\n",
       "</html>"
      ],
      "text/plain": [
       "Hist(Regular(100, 0, 20, transform=sqrt, name='clus2D_rho', label='2D cluster rho (local energy density)'), storage=Double()) # Sum: 8.0 (10.0 with flow)"
      ]
     },
     "execution_count": 11,
     "metadata": {},
     "output_type": "execute_result"
    }
   ],
   "source": [
    "h = hist.Hist(cluster2D_rho_axis)\n",
    "h.fill([3.587443,  0.105543,7.573667,16.626007,0.150658,26.937487,0.099589,41.380047,0.063965,0.125424])"
   ]
  },
  {
   "cell_type": "code",
   "execution_count": 12,
   "metadata": {},
   "outputs": [
    {
     "data": {
      "text/html": [
       "<html>\n",
       "<div style=\"display:flex; align-items:center;\">\n",
       "<div style=\"width:290px;\">\n",
       "<svg xmlns=\"http://www.w3.org/2000/svg\" viewBox=\"-10 -105 270 120\">\n",
       "<line x1=\"-5\" y1=\"0\" x2=\"255\" y2=\"0\" style=\"fill:none;stroke-width:2;stroke:currentColor\"/>\n",
       "<text text-anchor=\"middle\" x=\"0\" y=\"15\" style=\"fill:currentColor;\">\n",
       "0\n",
       "</text>\n",
       "<text text-anchor=\"middle\" x=\"250\" y=\"15\" style=\"fill:currentColor;\">\n",
       "10\n",
       "</text>\n",
       "<text text-anchor=\"middle\" x=\"125.0\" y=\"15\" style=\"fill:currentColor;\">\n",
       "x\n",
       "</text>\n",
       "<polyline points=\"  0,0   0,-50  25,-50  25,-100  50,-100  50,-0  75,-0  75,-0 100,-0 100,-0 125,-0 125,-50 150,-50 150,-0 175,-0 175,-0 200,-0 200,-0 225,-0 225,-0 250,-0 250,0\" style=\"fill:none; stroke:currentColor;\"/>\n",
       "</svg>\n",
       "</div>\n",
       "<div style=\"flex=grow:1;\">\n",
       "Integer(0, 10, name='x')<br/>\n",
       "<hr style=\"margin-top:.2em; margin-bottom:.2em;\"/>\n",
       "Double() Σ=4.0 <em>(6.0 with flow)</em>\n",
       "\n",
       "</div>\n",
       "</div>\n",
       "</html>"
      ],
      "text/plain": [
       "Hist(Integer(0, 10, name='x'), storage=Double()) # Sum: 4.0 (6.0 with flow)"
      ]
     },
     "execution_count": 12,
     "metadata": {},
     "output_type": "execute_result"
    }
   ],
   "source": [
    "h = hist.Hist(hist.axis.Integer(start=0, stop=10, name=\"x\"))\n",
    "h.fill([0, 1, 1, 5, 15, 20])\n",
    "h"
   ]
  },
  {
   "cell_type": "code",
   "execution_count": 13,
   "metadata": {},
   "outputs": [
    {
     "data": {
      "text/plain": [
       "array([0., 1., 2., 3., 4., 5., 6., 7., 8., 9.])"
      ]
     },
     "execution_count": 13,
     "metadata": {},
     "output_type": "execute_result"
    }
   ],
   "source": [
    "h[{\"x\":slice(hist.loc(3), None, sum)}]\n",
    "h.axes[0].edges[:-1]"
   ]
  },
  {
   "cell_type": "code",
   "execution_count": 14,
   "metadata": {},
   "outputs": [],
   "source": [
    "beamEnergiesAxis = hist.axis.IntCategory([20, 50, 80, 100, 120, 150, 200, 250, 300], name=\"beamEnergy\", label=\"Beam energy (GeV)\")"
   ]
  },
  {
   "cell_type": "code",
   "execution_count": 15,
   "metadata": {},
   "outputs": [
    {
     "data": {
      "text/plain": [
       "True"
      ]
     },
     "execution_count": 15,
     "metadata": {},
     "output_type": "execute_result"
    }
   ],
   "source": [
    "issubclass(type(beamEnergiesAxis), bh.axis.IntCategory)"
   ]
  },
  {
   "cell_type": "code",
   "execution_count": 16,
   "metadata": {},
   "outputs": [
    {
     "data": {
      "text/plain": [
       "9"
      ]
     },
     "execution_count": 16,
     "metadata": {},
     "output_type": "execute_result"
    }
   ],
   "source": [
    "beamEnergiesAxis.size"
   ]
  },
  {
   "cell_type": "code",
   "execution_count": 17,
   "metadata": {},
   "outputs": [
    {
     "data": {
      "text/html": [
       "<html>\n",
       "<div style=\"display:flex; align-items:center;\">\n",
       "<div style=\"width:290px;\">\n",
       "<svg xmlns=\"http://www.w3.org/2000/svg\" viewBox=\"-20 -270 290 290\">\n",
       "<text text-anchor=\"middle\" x=\"0\" y=\"13\" style=\"fill:currentColor;\">\n",
       "0\n",
       "</text>\n",
       "<text text-anchor=\"middle\" x=\"250\" y=\"13\" style=\"fill:currentColor;\">\n",
       "10\n",
       "</text>\n",
       "<text text-anchor=\"middle\" x=\"-10\" y=\"0\" style=\"fill:currentColor;\">\n",
       "0\n",
       "</text>\n",
       "<text text-anchor=\"middle\" x=\"-10\" y=\"-250\" style=\"fill:currentColor;\">\n",
       "9\n",
       "</text>\n",
       "<text text-anchor=\"middle\" x=\"125.0\" y=\"13\" style=\"fill:currentColor;\">\n",
       "x\n",
       "</text>\n",
       "<text text-anchor=\"middle\" x=\"-10\" y=\"-125.0\" transform=\"rotate(-90,-10,-125.0)\" style=\"fill:currentColor;\">\n",
       "Beam energy (GeV)\n",
       "</text>\n",
       "<rect x=\"0.0\" y=\"-27.777777777777775\" width=\"25.0\" height=\"27.778\" opacity=\"1.0\" fill=\"currentColor\" stroke-width=\"0.1\"/>\n",
       "<rect x=\"25.0\" y=\"-27.777777777777775\" width=\"25.0\" height=\"27.778\" opacity=\"1.0\" fill=\"currentColor\" stroke-width=\"0.1\"/>\n",
       "<rect x=\"50.0\" y=\"-27.777777777777775\" width=\"25.0\" height=\"27.778\" opacity=\"0.0\" fill=\"currentColor\" stroke-width=\"0.1\"/>\n",
       "<rect x=\"75.0\" y=\"-27.777777777777775\" width=\"25.0\" height=\"27.778\" opacity=\"1.0\" fill=\"currentColor\" stroke-width=\"0.1\"/>\n",
       "<rect x=\"100.0\" y=\"-27.777777777777775\" width=\"25.0\" height=\"27.778\" opacity=\"0.5\" fill=\"currentColor\" stroke-width=\"0.1\"/>\n",
       "<rect x=\"125.0\" y=\"-27.777777777777775\" width=\"25.0\" height=\"27.778\" opacity=\"0.0\" fill=\"currentColor\" stroke-width=\"0.1\"/>\n",
       "<rect x=\"150.0\" y=\"-27.777777777777775\" width=\"25.0\" height=\"27.778\" opacity=\"0.5\" fill=\"currentColor\" stroke-width=\"0.1\"/>\n",
       "<rect x=\"175.0\" y=\"-27.777777777777775\" width=\"25.0\" height=\"27.778\" opacity=\"0.0\" fill=\"currentColor\" stroke-width=\"0.1\"/>\n",
       "<rect x=\"200.0\" y=\"-27.777777777777775\" width=\"25.0\" height=\"27.778\" opacity=\"1.0\" fill=\"currentColor\" stroke-width=\"0.1\"/>\n",
       "<rect x=\"225.0\" y=\"-27.777777777777775\" width=\"25.0\" height=\"27.778\" opacity=\"0.0\" fill=\"currentColor\" stroke-width=\"0.1\"/>\n",
       "<rect x=\"0.0\" y=\"-55.55555555555555\" width=\"25.0\" height=\"27.778\" opacity=\"0.0\" fill=\"currentColor\" stroke-width=\"0.1\"/>\n",
       "<rect x=\"25.0\" y=\"-55.55555555555555\" width=\"25.0\" height=\"27.778\" opacity=\"0.0\" fill=\"currentColor\" stroke-width=\"0.1\"/>\n",
       "<rect x=\"50.0\" y=\"-55.55555555555555\" width=\"25.0\" height=\"27.778\" opacity=\"0.0\" fill=\"currentColor\" stroke-width=\"0.1\"/>\n",
       "<rect x=\"75.0\" y=\"-55.55555555555555\" width=\"25.0\" height=\"27.778\" opacity=\"0.0\" fill=\"currentColor\" stroke-width=\"0.1\"/>\n",
       "<rect x=\"100.0\" y=\"-55.55555555555555\" width=\"25.0\" height=\"27.778\" opacity=\"0.0\" fill=\"currentColor\" stroke-width=\"0.1\"/>\n",
       "<rect x=\"125.0\" y=\"-55.55555555555555\" width=\"25.0\" height=\"27.778\" opacity=\"0.0\" fill=\"currentColor\" stroke-width=\"0.1\"/>\n",
       "<rect x=\"150.0\" y=\"-55.55555555555555\" width=\"25.0\" height=\"27.778\" opacity=\"0.0\" fill=\"currentColor\" stroke-width=\"0.1\"/>\n",
       "<rect x=\"175.0\" y=\"-55.55555555555555\" width=\"25.0\" height=\"27.778\" opacity=\"0.0\" fill=\"currentColor\" stroke-width=\"0.1\"/>\n",
       "<rect x=\"200.0\" y=\"-55.55555555555555\" width=\"25.0\" height=\"27.778\" opacity=\"0.0\" fill=\"currentColor\" stroke-width=\"0.1\"/>\n",
       "<rect x=\"225.0\" y=\"-55.55555555555555\" width=\"25.0\" height=\"27.778\" opacity=\"0.0\" fill=\"currentColor\" stroke-width=\"0.1\"/>\n",
       "<rect x=\"0.0\" y=\"-83.33333333333333\" width=\"25.0\" height=\"27.778\" opacity=\"0.0\" fill=\"currentColor\" stroke-width=\"0.1\"/>\n",
       "<rect x=\"25.0\" y=\"-83.33333333333333\" width=\"25.0\" height=\"27.778\" opacity=\"0.0\" fill=\"currentColor\" stroke-width=\"0.1\"/>\n",
       "<rect x=\"50.0\" y=\"-83.33333333333333\" width=\"25.0\" height=\"27.778\" opacity=\"0.0\" fill=\"currentColor\" stroke-width=\"0.1\"/>\n",
       "<rect x=\"75.0\" y=\"-83.33333333333333\" width=\"25.0\" height=\"27.778\" opacity=\"0.0\" fill=\"currentColor\" stroke-width=\"0.1\"/>\n",
       "<rect x=\"100.0\" y=\"-83.33333333333333\" width=\"25.0\" height=\"27.778\" opacity=\"0.0\" fill=\"currentColor\" stroke-width=\"0.1\"/>\n",
       "<rect x=\"125.0\" y=\"-83.33333333333333\" width=\"25.0\" height=\"27.778\" opacity=\"0.0\" fill=\"currentColor\" stroke-width=\"0.1\"/>\n",
       "<rect x=\"150.0\" y=\"-83.33333333333333\" width=\"25.0\" height=\"27.778\" opacity=\"0.0\" fill=\"currentColor\" stroke-width=\"0.1\"/>\n",
       "<rect x=\"175.0\" y=\"-83.33333333333333\" width=\"25.0\" height=\"27.778\" opacity=\"0.0\" fill=\"currentColor\" stroke-width=\"0.1\"/>\n",
       "<rect x=\"200.0\" y=\"-83.33333333333333\" width=\"25.0\" height=\"27.778\" opacity=\"0.0\" fill=\"currentColor\" stroke-width=\"0.1\"/>\n",
       "<rect x=\"225.0\" y=\"-83.33333333333333\" width=\"25.0\" height=\"27.778\" opacity=\"0.0\" fill=\"currentColor\" stroke-width=\"0.1\"/>\n",
       "<rect x=\"0.0\" y=\"-111.1111111111111\" width=\"25.0\" height=\"27.778\" opacity=\"0.0\" fill=\"currentColor\" stroke-width=\"0.1\"/>\n",
       "<rect x=\"25.0\" y=\"-111.1111111111111\" width=\"25.0\" height=\"27.778\" opacity=\"0.0\" fill=\"currentColor\" stroke-width=\"0.1\"/>\n",
       "<rect x=\"50.0\" y=\"-111.1111111111111\" width=\"25.0\" height=\"27.778\" opacity=\"0.0\" fill=\"currentColor\" stroke-width=\"0.1\"/>\n",
       "<rect x=\"75.0\" y=\"-111.1111111111111\" width=\"25.0\" height=\"27.778\" opacity=\"0.0\" fill=\"currentColor\" stroke-width=\"0.1\"/>\n",
       "<rect x=\"100.0\" y=\"-111.1111111111111\" width=\"25.0\" height=\"27.778\" opacity=\"0.0\" fill=\"currentColor\" stroke-width=\"0.1\"/>\n",
       "<rect x=\"125.0\" y=\"-111.1111111111111\" width=\"25.0\" height=\"27.778\" opacity=\"0.0\" fill=\"currentColor\" stroke-width=\"0.1\"/>\n",
       "<rect x=\"150.0\" y=\"-111.1111111111111\" width=\"25.0\" height=\"27.778\" opacity=\"0.0\" fill=\"currentColor\" stroke-width=\"0.1\"/>\n",
       "<rect x=\"175.0\" y=\"-111.1111111111111\" width=\"25.0\" height=\"27.778\" opacity=\"0.0\" fill=\"currentColor\" stroke-width=\"0.1\"/>\n",
       "<rect x=\"200.0\" y=\"-111.1111111111111\" width=\"25.0\" height=\"27.778\" opacity=\"0.0\" fill=\"currentColor\" stroke-width=\"0.1\"/>\n",
       "<rect x=\"225.0\" y=\"-111.1111111111111\" width=\"25.0\" height=\"27.778\" opacity=\"0.0\" fill=\"currentColor\" stroke-width=\"0.1\"/>\n",
       "<rect x=\"0.0\" y=\"-138.88888888888889\" width=\"25.0\" height=\"27.778\" opacity=\"0.0\" fill=\"currentColor\" stroke-width=\"0.1\"/>\n",
       "<rect x=\"25.0\" y=\"-138.88888888888889\" width=\"25.0\" height=\"27.778\" opacity=\"0.0\" fill=\"currentColor\" stroke-width=\"0.1\"/>\n",
       "<rect x=\"50.0\" y=\"-138.88888888888889\" width=\"25.0\" height=\"27.778\" opacity=\"0.0\" fill=\"currentColor\" stroke-width=\"0.1\"/>\n",
       "<rect x=\"75.0\" y=\"-138.88888888888889\" width=\"25.0\" height=\"27.778\" opacity=\"0.0\" fill=\"currentColor\" stroke-width=\"0.1\"/>\n",
       "<rect x=\"100.0\" y=\"-138.88888888888889\" width=\"25.0\" height=\"27.778\" opacity=\"0.0\" fill=\"currentColor\" stroke-width=\"0.1\"/>\n",
       "<rect x=\"125.0\" y=\"-138.88888888888889\" width=\"25.0\" height=\"27.778\" opacity=\"0.0\" fill=\"currentColor\" stroke-width=\"0.1\"/>\n",
       "<rect x=\"150.0\" y=\"-138.88888888888889\" width=\"25.0\" height=\"27.778\" opacity=\"0.0\" fill=\"currentColor\" stroke-width=\"0.1\"/>\n",
       "<rect x=\"175.0\" y=\"-138.88888888888889\" width=\"25.0\" height=\"27.778\" opacity=\"0.0\" fill=\"currentColor\" stroke-width=\"0.1\"/>\n",
       "<rect x=\"200.0\" y=\"-138.88888888888889\" width=\"25.0\" height=\"27.778\" opacity=\"0.0\" fill=\"currentColor\" stroke-width=\"0.1\"/>\n",
       "<rect x=\"225.0\" y=\"-138.88888888888889\" width=\"25.0\" height=\"27.778\" opacity=\"0.0\" fill=\"currentColor\" stroke-width=\"0.1\"/>\n",
       "<rect x=\"0.0\" y=\"-166.66666666666666\" width=\"25.0\" height=\"27.778\" opacity=\"0.0\" fill=\"currentColor\" stroke-width=\"0.1\"/>\n",
       "<rect x=\"25.0\" y=\"-166.66666666666666\" width=\"25.0\" height=\"27.778\" opacity=\"0.0\" fill=\"currentColor\" stroke-width=\"0.1\"/>\n",
       "<rect x=\"50.0\" y=\"-166.66666666666666\" width=\"25.0\" height=\"27.778\" opacity=\"0.0\" fill=\"currentColor\" stroke-width=\"0.1\"/>\n",
       "<rect x=\"75.0\" y=\"-166.66666666666666\" width=\"25.0\" height=\"27.778\" opacity=\"0.0\" fill=\"currentColor\" stroke-width=\"0.1\"/>\n",
       "<rect x=\"100.0\" y=\"-166.66666666666666\" width=\"25.0\" height=\"27.778\" opacity=\"0.0\" fill=\"currentColor\" stroke-width=\"0.1\"/>\n",
       "<rect x=\"125.0\" y=\"-166.66666666666666\" width=\"25.0\" height=\"27.778\" opacity=\"0.0\" fill=\"currentColor\" stroke-width=\"0.1\"/>\n",
       "<rect x=\"150.0\" y=\"-166.66666666666666\" width=\"25.0\" height=\"27.778\" opacity=\"0.0\" fill=\"currentColor\" stroke-width=\"0.1\"/>\n",
       "<rect x=\"175.0\" y=\"-166.66666666666666\" width=\"25.0\" height=\"27.778\" opacity=\"0.0\" fill=\"currentColor\" stroke-width=\"0.1\"/>\n",
       "<rect x=\"200.0\" y=\"-166.66666666666666\" width=\"25.0\" height=\"27.778\" opacity=\"0.0\" fill=\"currentColor\" stroke-width=\"0.1\"/>\n",
       "<rect x=\"225.0\" y=\"-166.66666666666666\" width=\"25.0\" height=\"27.778\" opacity=\"0.0\" fill=\"currentColor\" stroke-width=\"0.1\"/>\n",
       "<rect x=\"0.0\" y=\"-194.44444444444446\" width=\"25.0\" height=\"27.778\" opacity=\"0.0\" fill=\"currentColor\" stroke-width=\"0.1\"/>\n",
       "<rect x=\"25.0\" y=\"-194.44444444444446\" width=\"25.0\" height=\"27.778\" opacity=\"0.0\" fill=\"currentColor\" stroke-width=\"0.1\"/>\n",
       "<rect x=\"50.0\" y=\"-194.44444444444446\" width=\"25.0\" height=\"27.778\" opacity=\"0.0\" fill=\"currentColor\" stroke-width=\"0.1\"/>\n",
       "<rect x=\"75.0\" y=\"-194.44444444444446\" width=\"25.0\" height=\"27.778\" opacity=\"0.0\" fill=\"currentColor\" stroke-width=\"0.1\"/>\n",
       "<rect x=\"100.0\" y=\"-194.44444444444446\" width=\"25.0\" height=\"27.778\" opacity=\"0.0\" fill=\"currentColor\" stroke-width=\"0.1\"/>\n",
       "<rect x=\"125.0\" y=\"-194.44444444444446\" width=\"25.0\" height=\"27.778\" opacity=\"0.0\" fill=\"currentColor\" stroke-width=\"0.1\"/>\n",
       "<rect x=\"150.0\" y=\"-194.44444444444446\" width=\"25.0\" height=\"27.778\" opacity=\"0.0\" fill=\"currentColor\" stroke-width=\"0.1\"/>\n",
       "<rect x=\"175.0\" y=\"-194.44444444444446\" width=\"25.0\" height=\"27.778\" opacity=\"0.0\" fill=\"currentColor\" stroke-width=\"0.1\"/>\n",
       "<rect x=\"200.0\" y=\"-194.44444444444446\" width=\"25.0\" height=\"27.778\" opacity=\"0.0\" fill=\"currentColor\" stroke-width=\"0.1\"/>\n",
       "<rect x=\"225.0\" y=\"-194.44444444444446\" width=\"25.0\" height=\"27.778\" opacity=\"0.0\" fill=\"currentColor\" stroke-width=\"0.1\"/>\n",
       "<rect x=\"0.0\" y=\"-222.2222222222222\" width=\"25.0\" height=\"27.778\" opacity=\"0.0\" fill=\"currentColor\" stroke-width=\"0.1\"/>\n",
       "<rect x=\"25.0\" y=\"-222.2222222222222\" width=\"25.0\" height=\"27.778\" opacity=\"0.0\" fill=\"currentColor\" stroke-width=\"0.1\"/>\n",
       "<rect x=\"50.0\" y=\"-222.2222222222222\" width=\"25.0\" height=\"27.778\" opacity=\"0.0\" fill=\"currentColor\" stroke-width=\"0.1\"/>\n",
       "<rect x=\"75.0\" y=\"-222.2222222222222\" width=\"25.0\" height=\"27.778\" opacity=\"0.0\" fill=\"currentColor\" stroke-width=\"0.1\"/>\n",
       "<rect x=\"100.0\" y=\"-222.2222222222222\" width=\"25.0\" height=\"27.778\" opacity=\"0.0\" fill=\"currentColor\" stroke-width=\"0.1\"/>\n",
       "<rect x=\"125.0\" y=\"-222.2222222222222\" width=\"25.0\" height=\"27.778\" opacity=\"0.0\" fill=\"currentColor\" stroke-width=\"0.1\"/>\n",
       "<rect x=\"150.0\" y=\"-222.2222222222222\" width=\"25.0\" height=\"27.778\" opacity=\"0.0\" fill=\"currentColor\" stroke-width=\"0.1\"/>\n",
       "<rect x=\"175.0\" y=\"-222.2222222222222\" width=\"25.0\" height=\"27.778\" opacity=\"0.0\" fill=\"currentColor\" stroke-width=\"0.1\"/>\n",
       "<rect x=\"200.0\" y=\"-222.2222222222222\" width=\"25.0\" height=\"27.778\" opacity=\"0.0\" fill=\"currentColor\" stroke-width=\"0.1\"/>\n",
       "<rect x=\"225.0\" y=\"-222.2222222222222\" width=\"25.0\" height=\"27.778\" opacity=\"0.0\" fill=\"currentColor\" stroke-width=\"0.1\"/>\n",
       "<rect x=\"0.0\" y=\"-250.0\" width=\"25.0\" height=\"27.778\" opacity=\"0.0\" fill=\"currentColor\" stroke-width=\"0.1\"/>\n",
       "<rect x=\"25.0\" y=\"-250.0\" width=\"25.0\" height=\"27.778\" opacity=\"0.0\" fill=\"currentColor\" stroke-width=\"0.1\"/>\n",
       "<rect x=\"50.0\" y=\"-250.0\" width=\"25.0\" height=\"27.778\" opacity=\"0.0\" fill=\"currentColor\" stroke-width=\"0.1\"/>\n",
       "<rect x=\"75.0\" y=\"-250.0\" width=\"25.0\" height=\"27.778\" opacity=\"0.0\" fill=\"currentColor\" stroke-width=\"0.1\"/>\n",
       "<rect x=\"100.0\" y=\"-250.0\" width=\"25.0\" height=\"27.778\" opacity=\"0.0\" fill=\"currentColor\" stroke-width=\"0.1\"/>\n",
       "<rect x=\"125.0\" y=\"-250.0\" width=\"25.0\" height=\"27.778\" opacity=\"0.0\" fill=\"currentColor\" stroke-width=\"0.1\"/>\n",
       "<rect x=\"150.0\" y=\"-250.0\" width=\"25.0\" height=\"27.778\" opacity=\"0.0\" fill=\"currentColor\" stroke-width=\"0.1\"/>\n",
       "<rect x=\"175.0\" y=\"-250.0\" width=\"25.0\" height=\"27.778\" opacity=\"0.0\" fill=\"currentColor\" stroke-width=\"0.1\"/>\n",
       "<rect x=\"200.0\" y=\"-250.0\" width=\"25.0\" height=\"27.778\" opacity=\"0.0\" fill=\"currentColor\" stroke-width=\"0.1\"/>\n",
       "<rect x=\"225.0\" y=\"-250.0\" width=\"25.0\" height=\"27.778\" opacity=\"0.0\" fill=\"currentColor\" stroke-width=\"0.1\"/>\n",
       "</svg>\n",
       "</div>\n",
       "<div style=\"flex=grow:1;\">\n",
       "Regular(10, 0, 10, name='x')<br/>\n",
       "IntCategory([20, 50, 80, 100, 120, 150, 200, 250, 300], name='beamEnergy', label='Beam energy (GeV)')<br/>\n",
       "<hr style=\"margin-top:.2em; margin-bottom:.2em;\"/>\n",
       "Double() Σ=10.0\n",
       "\n",
       "</div>\n",
       "</div>\n",
       "</html>"
      ],
      "text/plain": [
       "Hist(\n",
       "  Regular(10, 0, 10, name='x'),\n",
       "  IntCategory([20, 50, 80, 100, 120, 150, 200, 250, 300], name='beamEnergy', label='Beam energy (GeV)'),\n",
       "  storage=Double()) # Sum: 10.0"
      ]
     },
     "execution_count": 17,
     "metadata": {},
     "output_type": "execute_result"
    }
   ],
   "source": [
    "h = hist.Hist(\n",
    "    hist.axis.Regular(bins=10, start=0, stop=10, name=\"x\"),\n",
    "    beamEnergiesAxis\n",
    ")\n",
    "h.fill(x=[0, 0, 1, 3, 1, 6, 3, 8, 4, 8], beamEnergy=20)"
   ]
  },
  {
   "cell_type": "code",
   "execution_count": 18,
   "metadata": {},
   "outputs": [
    {
     "data": {
      "text/html": [
       "<html>\n",
       "<div style=\"display:flex; align-items:center;\">\n",
       "<div style=\"width:290px;\">\n",
       "<svg xmlns=\"http://www.w3.org/2000/svg\" viewBox=\"-10 -105 270 120\">\n",
       "<line x1=\"-5\" y1=\"0\" x2=\"255\" y2=\"0\" style=\"fill:none;stroke-width:2;stroke:currentColor\"/>\n",
       "<text text-anchor=\"middle\" x=\"0\" y=\"15\" style=\"fill:currentColor;\">\n",
       "0\n",
       "</text>\n",
       "<text text-anchor=\"middle\" x=\"250\" y=\"15\" style=\"fill:currentColor;\">\n",
       "10\n",
       "</text>\n",
       "<text text-anchor=\"middle\" x=\"125.0\" y=\"15\" style=\"fill:currentColor;\">\n",
       "x\n",
       "</text>\n",
       "<polyline points=\"  0,0   0,-0  25,-0  25,-0  50,-0  50,-0  75,-0  75,-0 100,-0 100,-0 125,-0 125,-0 150,-0 150,-0 175,-0 175,-0 200,-0 200,-0 225,-0 225,-0 250,-0 250,0\" style=\"fill:none; stroke:currentColor;\"/>\n",
       "</svg>\n",
       "</div>\n",
       "<div style=\"flex=grow:1;\">\n",
       "Regular(10, 0, 10, name='x')<br/>\n",
       "<hr style=\"margin-top:.2em; margin-bottom:.2em;\"/>\n",
       "Double() Σ=0.0\n",
       "\n",
       "</div>\n",
       "</div>\n",
       "</html>"
      ],
      "text/plain": [
       "Hist(Regular(10, 0, 10, name='x'), storage=Double())"
      ]
     },
     "execution_count": 18,
     "metadata": {},
     "output_type": "execute_result"
    }
   ],
   "source": [
    "h[{\"beamEnergy\":hist.loc(50)}]"
   ]
  },
  {
   "cell_type": "code",
   "execution_count": 19,
   "metadata": {},
   "outputs": [
    {
     "data": {
      "text/html": [
       "<html>\n",
       "<div style=\"display:flex; align-items:center;\">\n",
       "<div style=\"width:290px;\">\n",
       "<svg xmlns=\"http://www.w3.org/2000/svg\" viewBox=\"-20 -270 290 290\">\n",
       "<text text-anchor=\"middle\" x=\"0\" y=\"13\" style=\"fill:currentColor;\">\n",
       "0\n",
       "</text>\n",
       "<text text-anchor=\"middle\" x=\"250\" y=\"13\" style=\"fill:currentColor;\">\n",
       "10\n",
       "</text>\n",
       "<text text-anchor=\"middle\" x=\"-10\" y=\"0\" style=\"fill:currentColor;\">\n",
       "0\n",
       "</text>\n",
       "<text text-anchor=\"middle\" x=\"-10\" y=\"-250\" style=\"fill:currentColor;\">\n",
       "9\n",
       "</text>\n",
       "<text text-anchor=\"middle\" x=\"125.0\" y=\"13\" style=\"fill:currentColor;\">\n",
       "x\n",
       "</text>\n",
       "<text text-anchor=\"middle\" x=\"-10\" y=\"-125.0\" transform=\"rotate(-90,-10,-125.0)\" style=\"fill:currentColor;\">\n",
       "Beam energy (GeV)\n",
       "</text>\n",
       "<rect x=\"0.0\" y=\"-27.777777777777775\" width=\"12.5\" height=\"27.778\" opacity=\"0.25\" fill=\"currentColor\" stroke-width=\"0.1\"/>\n",
       "<rect x=\"12.5\" y=\"-27.777777777777775\" width=\"12.5\" height=\"27.778\" opacity=\"0.0\" fill=\"currentColor\" stroke-width=\"0.1\"/>\n",
       "<rect x=\"25.0\" y=\"-27.777777777777775\" width=\"12.5\" height=\"27.778\" opacity=\"0.16666666666666666\" fill=\"currentColor\" stroke-width=\"0.1\"/>\n",
       "<rect x=\"37.5\" y=\"-27.777777777777775\" width=\"12.5\" height=\"27.778\" opacity=\"0.0\" fill=\"currentColor\" stroke-width=\"0.1\"/>\n",
       "<rect x=\"50.0\" y=\"-27.777777777777775\" width=\"12.5\" height=\"27.778\" opacity=\"0.0\" fill=\"currentColor\" stroke-width=\"0.1\"/>\n",
       "<rect x=\"62.5\" y=\"-27.777777777777775\" width=\"12.5\" height=\"27.778\" opacity=\"0.0\" fill=\"currentColor\" stroke-width=\"0.1\"/>\n",
       "<rect x=\"75.0\" y=\"-27.777777777777775\" width=\"12.5\" height=\"27.778\" opacity=\"0.5\" fill=\"currentColor\" stroke-width=\"0.1\"/>\n",
       "<rect x=\"87.5\" y=\"-27.777777777777775\" width=\"12.5\" height=\"27.778\" opacity=\"0.0\" fill=\"currentColor\" stroke-width=\"0.1\"/>\n",
       "<rect x=\"100.0\" y=\"-27.777777777777775\" width=\"12.5\" height=\"27.778\" opacity=\"0.3333333333333333\" fill=\"currentColor\" stroke-width=\"0.1\"/>\n",
       "<rect x=\"112.5\" y=\"-27.777777777777775\" width=\"12.5\" height=\"27.778\" opacity=\"0.0\" fill=\"currentColor\" stroke-width=\"0.1\"/>\n",
       "<rect x=\"125.0\" y=\"-27.777777777777775\" width=\"12.5\" height=\"27.778\" opacity=\"0.0\" fill=\"currentColor\" stroke-width=\"0.1\"/>\n",
       "<rect x=\"137.5\" y=\"-27.777777777777775\" width=\"12.5\" height=\"27.778\" opacity=\"0.0\" fill=\"currentColor\" stroke-width=\"0.1\"/>\n",
       "<rect x=\"150.0\" y=\"-27.777777777777775\" width=\"12.5\" height=\"27.778\" opacity=\"0.5\" fill=\"currentColor\" stroke-width=\"0.1\"/>\n",
       "<rect x=\"162.5\" y=\"-27.777777777777775\" width=\"12.5\" height=\"27.778\" opacity=\"0.0\" fill=\"currentColor\" stroke-width=\"0.1\"/>\n",
       "<rect x=\"175.0\" y=\"-27.777777777777775\" width=\"12.5\" height=\"27.778\" opacity=\"0.0\" fill=\"currentColor\" stroke-width=\"0.1\"/>\n",
       "<rect x=\"187.5\" y=\"-27.777777777777775\" width=\"12.5\" height=\"27.778\" opacity=\"0.0\" fill=\"currentColor\" stroke-width=\"0.1\"/>\n",
       "<rect x=\"200.0\" y=\"-27.777777777777775\" width=\"12.5\" height=\"27.778\" opacity=\"0.75\" fill=\"currentColor\" stroke-width=\"0.1\"/>\n",
       "<rect x=\"212.5\" y=\"-27.777777777777775\" width=\"12.5\" height=\"27.778\" opacity=\"0.0\" fill=\"currentColor\" stroke-width=\"0.1\"/>\n",
       "<rect x=\"225.0\" y=\"-27.777777777777775\" width=\"12.5\" height=\"27.778\" opacity=\"0.0\" fill=\"currentColor\" stroke-width=\"0.1\"/>\n",
       "<rect x=\"237.5\" y=\"-27.777777777777775\" width=\"12.5\" height=\"27.778\" opacity=\"0.0\" fill=\"currentColor\" stroke-width=\"0.1\"/>\n",
       "<rect x=\"0.0\" y=\"-55.55555555555555\" width=\"12.5\" height=\"27.778\" opacity=\"0.0\" fill=\"currentColor\" stroke-width=\"0.1\"/>\n",
       "<rect x=\"12.5\" y=\"-55.55555555555555\" width=\"12.5\" height=\"27.778\" opacity=\"0.0\" fill=\"currentColor\" stroke-width=\"0.1\"/>\n",
       "<rect x=\"25.0\" y=\"-55.55555555555555\" width=\"12.5\" height=\"27.778\" opacity=\"0.0\" fill=\"currentColor\" stroke-width=\"0.1\"/>\n",
       "<rect x=\"37.5\" y=\"-55.55555555555555\" width=\"12.5\" height=\"27.778\" opacity=\"0.0\" fill=\"currentColor\" stroke-width=\"0.1\"/>\n",
       "<rect x=\"50.0\" y=\"-55.55555555555555\" width=\"12.5\" height=\"27.778\" opacity=\"0.0\" fill=\"currentColor\" stroke-width=\"0.1\"/>\n",
       "<rect x=\"62.5\" y=\"-55.55555555555555\" width=\"12.5\" height=\"27.778\" opacity=\"0.0\" fill=\"currentColor\" stroke-width=\"0.1\"/>\n",
       "<rect x=\"75.0\" y=\"-55.55555555555555\" width=\"12.5\" height=\"27.778\" opacity=\"0.0\" fill=\"currentColor\" stroke-width=\"0.1\"/>\n",
       "<rect x=\"87.5\" y=\"-55.55555555555555\" width=\"12.5\" height=\"27.778\" opacity=\"0.0\" fill=\"currentColor\" stroke-width=\"0.1\"/>\n",
       "<rect x=\"100.0\" y=\"-55.55555555555555\" width=\"12.5\" height=\"27.778\" opacity=\"0.0\" fill=\"currentColor\" stroke-width=\"0.1\"/>\n",
       "<rect x=\"112.5\" y=\"-55.55555555555555\" width=\"12.5\" height=\"27.778\" opacity=\"0.0\" fill=\"currentColor\" stroke-width=\"0.1\"/>\n",
       "<rect x=\"125.0\" y=\"-55.55555555555555\" width=\"12.5\" height=\"27.778\" opacity=\"0.0\" fill=\"currentColor\" stroke-width=\"0.1\"/>\n",
       "<rect x=\"137.5\" y=\"-55.55555555555555\" width=\"12.5\" height=\"27.778\" opacity=\"0.0\" fill=\"currentColor\" stroke-width=\"0.1\"/>\n",
       "<rect x=\"150.0\" y=\"-55.55555555555555\" width=\"12.5\" height=\"27.778\" opacity=\"0.0\" fill=\"currentColor\" stroke-width=\"0.1\"/>\n",
       "<rect x=\"162.5\" y=\"-55.55555555555555\" width=\"12.5\" height=\"27.778\" opacity=\"0.0\" fill=\"currentColor\" stroke-width=\"0.1\"/>\n",
       "<rect x=\"175.0\" y=\"-55.55555555555555\" width=\"12.5\" height=\"27.778\" opacity=\"0.0\" fill=\"currentColor\" stroke-width=\"0.1\"/>\n",
       "<rect x=\"187.5\" y=\"-55.55555555555555\" width=\"12.5\" height=\"27.778\" opacity=\"0.0\" fill=\"currentColor\" stroke-width=\"0.1\"/>\n",
       "<rect x=\"200.0\" y=\"-55.55555555555555\" width=\"12.5\" height=\"27.778\" opacity=\"0.0\" fill=\"currentColor\" stroke-width=\"0.1\"/>\n",
       "<rect x=\"212.5\" y=\"-55.55555555555555\" width=\"12.5\" height=\"27.778\" opacity=\"0.0\" fill=\"currentColor\" stroke-width=\"0.1\"/>\n",
       "<rect x=\"225.0\" y=\"-55.55555555555555\" width=\"12.5\" height=\"27.778\" opacity=\"0.0\" fill=\"currentColor\" stroke-width=\"0.1\"/>\n",
       "<rect x=\"237.5\" y=\"-55.55555555555555\" width=\"12.5\" height=\"27.778\" opacity=\"0.0\" fill=\"currentColor\" stroke-width=\"0.1\"/>\n",
       "<rect x=\"0.0\" y=\"-83.33333333333333\" width=\"12.5\" height=\"27.778\" opacity=\"0.0\" fill=\"currentColor\" stroke-width=\"0.1\"/>\n",
       "<rect x=\"12.5\" y=\"-83.33333333333333\" width=\"12.5\" height=\"27.778\" opacity=\"0.0\" fill=\"currentColor\" stroke-width=\"0.1\"/>\n",
       "<rect x=\"25.0\" y=\"-83.33333333333333\" width=\"12.5\" height=\"27.778\" opacity=\"0.75\" fill=\"currentColor\" stroke-width=\"0.1\"/>\n",
       "<rect x=\"37.5\" y=\"-83.33333333333333\" width=\"12.5\" height=\"27.778\" opacity=\"0.0\" fill=\"currentColor\" stroke-width=\"0.1\"/>\n",
       "<rect x=\"50.0\" y=\"-83.33333333333333\" width=\"12.5\" height=\"27.778\" opacity=\"0.08333333333333333\" fill=\"currentColor\" stroke-width=\"0.1\"/>\n",
       "<rect x=\"62.5\" y=\"-83.33333333333333\" width=\"12.5\" height=\"27.778\" opacity=\"0.0\" fill=\"currentColor\" stroke-width=\"0.1\"/>\n",
       "<rect x=\"75.0\" y=\"-83.33333333333333\" width=\"12.5\" height=\"27.778\" opacity=\"1.0\" fill=\"currentColor\" stroke-width=\"0.1\"/>\n",
       "<rect x=\"87.5\" y=\"-83.33333333333333\" width=\"12.5\" height=\"27.778\" opacity=\"0.0\" fill=\"currentColor\" stroke-width=\"0.1\"/>\n",
       "<rect x=\"100.0\" y=\"-83.33333333333333\" width=\"12.5\" height=\"27.778\" opacity=\"0.08333333333333333\" fill=\"currentColor\" stroke-width=\"0.1\"/>\n",
       "<rect x=\"112.5\" y=\"-83.33333333333333\" width=\"12.5\" height=\"27.778\" opacity=\"0.0\" fill=\"currentColor\" stroke-width=\"0.1\"/>\n",
       "<rect x=\"125.0\" y=\"-83.33333333333333\" width=\"12.5\" height=\"27.778\" opacity=\"0.16666666666666666\" fill=\"currentColor\" stroke-width=\"0.1\"/>\n",
       "<rect x=\"137.5\" y=\"-83.33333333333333\" width=\"12.5\" height=\"27.778\" opacity=\"0.0\" fill=\"currentColor\" stroke-width=\"0.1\"/>\n",
       "<rect x=\"150.0\" y=\"-83.33333333333333\" width=\"12.5\" height=\"27.778\" opacity=\"0.0\" fill=\"currentColor\" stroke-width=\"0.1\"/>\n",
       "<rect x=\"162.5\" y=\"-83.33333333333333\" width=\"12.5\" height=\"27.778\" opacity=\"0.0\" fill=\"currentColor\" stroke-width=\"0.1\"/>\n",
       "<rect x=\"175.0\" y=\"-83.33333333333333\" width=\"12.5\" height=\"27.778\" opacity=\"0.0\" fill=\"currentColor\" stroke-width=\"0.1\"/>\n",
       "<rect x=\"187.5\" y=\"-83.33333333333333\" width=\"12.5\" height=\"27.778\" opacity=\"0.0\" fill=\"currentColor\" stroke-width=\"0.1\"/>\n",
       "<rect x=\"200.0\" y=\"-83.33333333333333\" width=\"12.5\" height=\"27.778\" opacity=\"0.3333333333333333\" fill=\"currentColor\" stroke-width=\"0.1\"/>\n",
       "<rect x=\"212.5\" y=\"-83.33333333333333\" width=\"12.5\" height=\"27.778\" opacity=\"0.0\" fill=\"currentColor\" stroke-width=\"0.1\"/>\n",
       "<rect x=\"225.0\" y=\"-83.33333333333333\" width=\"12.5\" height=\"27.778\" opacity=\"0.0\" fill=\"currentColor\" stroke-width=\"0.1\"/>\n",
       "<rect x=\"237.5\" y=\"-83.33333333333333\" width=\"12.5\" height=\"27.778\" opacity=\"0.0\" fill=\"currentColor\" stroke-width=\"0.1\"/>\n",
       "<rect x=\"0.0\" y=\"-111.1111111111111\" width=\"12.5\" height=\"27.778\" opacity=\"0.0\" fill=\"currentColor\" stroke-width=\"0.1\"/>\n",
       "<rect x=\"12.5\" y=\"-111.1111111111111\" width=\"12.5\" height=\"27.778\" opacity=\"0.0\" fill=\"currentColor\" stroke-width=\"0.1\"/>\n",
       "<rect x=\"25.0\" y=\"-111.1111111111111\" width=\"12.5\" height=\"27.778\" opacity=\"0.0\" fill=\"currentColor\" stroke-width=\"0.1\"/>\n",
       "<rect x=\"37.5\" y=\"-111.1111111111111\" width=\"12.5\" height=\"27.778\" opacity=\"0.0\" fill=\"currentColor\" stroke-width=\"0.1\"/>\n",
       "<rect x=\"50.0\" y=\"-111.1111111111111\" width=\"12.5\" height=\"27.778\" opacity=\"0.0\" fill=\"currentColor\" stroke-width=\"0.1\"/>\n",
       "<rect x=\"62.5\" y=\"-111.1111111111111\" width=\"12.5\" height=\"27.778\" opacity=\"0.0\" fill=\"currentColor\" stroke-width=\"0.1\"/>\n",
       "<rect x=\"75.0\" y=\"-111.1111111111111\" width=\"12.5\" height=\"27.778\" opacity=\"0.0\" fill=\"currentColor\" stroke-width=\"0.1\"/>\n",
       "<rect x=\"87.5\" y=\"-111.1111111111111\" width=\"12.5\" height=\"27.778\" opacity=\"0.0\" fill=\"currentColor\" stroke-width=\"0.1\"/>\n",
       "<rect x=\"100.0\" y=\"-111.1111111111111\" width=\"12.5\" height=\"27.778\" opacity=\"0.0\" fill=\"currentColor\" stroke-width=\"0.1\"/>\n",
       "<rect x=\"112.5\" y=\"-111.1111111111111\" width=\"12.5\" height=\"27.778\" opacity=\"0.0\" fill=\"currentColor\" stroke-width=\"0.1\"/>\n",
       "<rect x=\"125.0\" y=\"-111.1111111111111\" width=\"12.5\" height=\"27.778\" opacity=\"0.0\" fill=\"currentColor\" stroke-width=\"0.1\"/>\n",
       "<rect x=\"137.5\" y=\"-111.1111111111111\" width=\"12.5\" height=\"27.778\" opacity=\"0.0\" fill=\"currentColor\" stroke-width=\"0.1\"/>\n",
       "<rect x=\"150.0\" y=\"-111.1111111111111\" width=\"12.5\" height=\"27.778\" opacity=\"0.0\" fill=\"currentColor\" stroke-width=\"0.1\"/>\n",
       "<rect x=\"162.5\" y=\"-111.1111111111111\" width=\"12.5\" height=\"27.778\" opacity=\"0.0\" fill=\"currentColor\" stroke-width=\"0.1\"/>\n",
       "<rect x=\"175.0\" y=\"-111.1111111111111\" width=\"12.5\" height=\"27.778\" opacity=\"0.0\" fill=\"currentColor\" stroke-width=\"0.1\"/>\n",
       "<rect x=\"187.5\" y=\"-111.1111111111111\" width=\"12.5\" height=\"27.778\" opacity=\"0.0\" fill=\"currentColor\" stroke-width=\"0.1\"/>\n",
       "<rect x=\"200.0\" y=\"-111.1111111111111\" width=\"12.5\" height=\"27.778\" opacity=\"0.0\" fill=\"currentColor\" stroke-width=\"0.1\"/>\n",
       "<rect x=\"212.5\" y=\"-111.1111111111111\" width=\"12.5\" height=\"27.778\" opacity=\"0.0\" fill=\"currentColor\" stroke-width=\"0.1\"/>\n",
       "<rect x=\"225.0\" y=\"-111.1111111111111\" width=\"12.5\" height=\"27.778\" opacity=\"0.0\" fill=\"currentColor\" stroke-width=\"0.1\"/>\n",
       "<rect x=\"237.5\" y=\"-111.1111111111111\" width=\"12.5\" height=\"27.778\" opacity=\"0.0\" fill=\"currentColor\" stroke-width=\"0.1\"/>\n",
       "<rect x=\"0.0\" y=\"-138.88888888888889\" width=\"12.5\" height=\"27.778\" opacity=\"0.0\" fill=\"currentColor\" stroke-width=\"0.1\"/>\n",
       "<rect x=\"12.5\" y=\"-138.88888888888889\" width=\"12.5\" height=\"27.778\" opacity=\"0.0\" fill=\"currentColor\" stroke-width=\"0.1\"/>\n",
       "<rect x=\"25.0\" y=\"-138.88888888888889\" width=\"12.5\" height=\"27.778\" opacity=\"0.0\" fill=\"currentColor\" stroke-width=\"0.1\"/>\n",
       "<rect x=\"37.5\" y=\"-138.88888888888889\" width=\"12.5\" height=\"27.778\" opacity=\"0.0\" fill=\"currentColor\" stroke-width=\"0.1\"/>\n",
       "<rect x=\"50.0\" y=\"-138.88888888888889\" width=\"12.5\" height=\"27.778\" opacity=\"0.0\" fill=\"currentColor\" stroke-width=\"0.1\"/>\n",
       "<rect x=\"62.5\" y=\"-138.88888888888889\" width=\"12.5\" height=\"27.778\" opacity=\"0.0\" fill=\"currentColor\" stroke-width=\"0.1\"/>\n",
       "<rect x=\"75.0\" y=\"-138.88888888888889\" width=\"12.5\" height=\"27.778\" opacity=\"0.0\" fill=\"currentColor\" stroke-width=\"0.1\"/>\n",
       "<rect x=\"87.5\" y=\"-138.88888888888889\" width=\"12.5\" height=\"27.778\" opacity=\"0.0\" fill=\"currentColor\" stroke-width=\"0.1\"/>\n",
       "<rect x=\"100.0\" y=\"-138.88888888888889\" width=\"12.5\" height=\"27.778\" opacity=\"0.0\" fill=\"currentColor\" stroke-width=\"0.1\"/>\n",
       "<rect x=\"112.5\" y=\"-138.88888888888889\" width=\"12.5\" height=\"27.778\" opacity=\"0.0\" fill=\"currentColor\" stroke-width=\"0.1\"/>\n",
       "<rect x=\"125.0\" y=\"-138.88888888888889\" width=\"12.5\" height=\"27.778\" opacity=\"0.0\" fill=\"currentColor\" stroke-width=\"0.1\"/>\n",
       "<rect x=\"137.5\" y=\"-138.88888888888889\" width=\"12.5\" height=\"27.778\" opacity=\"0.0\" fill=\"currentColor\" stroke-width=\"0.1\"/>\n",
       "<rect x=\"150.0\" y=\"-138.88888888888889\" width=\"12.5\" height=\"27.778\" opacity=\"0.0\" fill=\"currentColor\" stroke-width=\"0.1\"/>\n",
       "<rect x=\"162.5\" y=\"-138.88888888888889\" width=\"12.5\" height=\"27.778\" opacity=\"0.0\" fill=\"currentColor\" stroke-width=\"0.1\"/>\n",
       "<rect x=\"175.0\" y=\"-138.88888888888889\" width=\"12.5\" height=\"27.778\" opacity=\"0.0\" fill=\"currentColor\" stroke-width=\"0.1\"/>\n",
       "<rect x=\"187.5\" y=\"-138.88888888888889\" width=\"12.5\" height=\"27.778\" opacity=\"0.0\" fill=\"currentColor\" stroke-width=\"0.1\"/>\n",
       "<rect x=\"200.0\" y=\"-138.88888888888889\" width=\"12.5\" height=\"27.778\" opacity=\"0.0\" fill=\"currentColor\" stroke-width=\"0.1\"/>\n",
       "<rect x=\"212.5\" y=\"-138.88888888888889\" width=\"12.5\" height=\"27.778\" opacity=\"0.0\" fill=\"currentColor\" stroke-width=\"0.1\"/>\n",
       "<rect x=\"225.0\" y=\"-138.88888888888889\" width=\"12.5\" height=\"27.778\" opacity=\"0.0\" fill=\"currentColor\" stroke-width=\"0.1\"/>\n",
       "<rect x=\"237.5\" y=\"-138.88888888888889\" width=\"12.5\" height=\"27.778\" opacity=\"0.0\" fill=\"currentColor\" stroke-width=\"0.1\"/>\n",
       "<rect x=\"0.0\" y=\"-166.66666666666666\" width=\"12.5\" height=\"27.778\" opacity=\"0.0\" fill=\"currentColor\" stroke-width=\"0.1\"/>\n",
       "<rect x=\"12.5\" y=\"-166.66666666666666\" width=\"12.5\" height=\"27.778\" opacity=\"0.0\" fill=\"currentColor\" stroke-width=\"0.1\"/>\n",
       "<rect x=\"25.0\" y=\"-166.66666666666666\" width=\"12.5\" height=\"27.778\" opacity=\"0.0\" fill=\"currentColor\" stroke-width=\"0.1\"/>\n",
       "<rect x=\"37.5\" y=\"-166.66666666666666\" width=\"12.5\" height=\"27.778\" opacity=\"0.0\" fill=\"currentColor\" stroke-width=\"0.1\"/>\n",
       "<rect x=\"50.0\" y=\"-166.66666666666666\" width=\"12.5\" height=\"27.778\" opacity=\"0.0\" fill=\"currentColor\" stroke-width=\"0.1\"/>\n",
       "<rect x=\"62.5\" y=\"-166.66666666666666\" width=\"12.5\" height=\"27.778\" opacity=\"0.0\" fill=\"currentColor\" stroke-width=\"0.1\"/>\n",
       "<rect x=\"75.0\" y=\"-166.66666666666666\" width=\"12.5\" height=\"27.778\" opacity=\"0.0\" fill=\"currentColor\" stroke-width=\"0.1\"/>\n",
       "<rect x=\"87.5\" y=\"-166.66666666666666\" width=\"12.5\" height=\"27.778\" opacity=\"0.0\" fill=\"currentColor\" stroke-width=\"0.1\"/>\n",
       "<rect x=\"100.0\" y=\"-166.66666666666666\" width=\"12.5\" height=\"27.778\" opacity=\"0.0\" fill=\"currentColor\" stroke-width=\"0.1\"/>\n",
       "<rect x=\"112.5\" y=\"-166.66666666666666\" width=\"12.5\" height=\"27.778\" opacity=\"0.0\" fill=\"currentColor\" stroke-width=\"0.1\"/>\n",
       "<rect x=\"125.0\" y=\"-166.66666666666666\" width=\"12.5\" height=\"27.778\" opacity=\"0.0\" fill=\"currentColor\" stroke-width=\"0.1\"/>\n",
       "<rect x=\"137.5\" y=\"-166.66666666666666\" width=\"12.5\" height=\"27.778\" opacity=\"0.0\" fill=\"currentColor\" stroke-width=\"0.1\"/>\n",
       "<rect x=\"150.0\" y=\"-166.66666666666666\" width=\"12.5\" height=\"27.778\" opacity=\"0.0\" fill=\"currentColor\" stroke-width=\"0.1\"/>\n",
       "<rect x=\"162.5\" y=\"-166.66666666666666\" width=\"12.5\" height=\"27.778\" opacity=\"0.0\" fill=\"currentColor\" stroke-width=\"0.1\"/>\n",
       "<rect x=\"175.0\" y=\"-166.66666666666666\" width=\"12.5\" height=\"27.778\" opacity=\"0.0\" fill=\"currentColor\" stroke-width=\"0.1\"/>\n",
       "<rect x=\"187.5\" y=\"-166.66666666666666\" width=\"12.5\" height=\"27.778\" opacity=\"0.0\" fill=\"currentColor\" stroke-width=\"0.1\"/>\n",
       "<rect x=\"200.0\" y=\"-166.66666666666666\" width=\"12.5\" height=\"27.778\" opacity=\"0.0\" fill=\"currentColor\" stroke-width=\"0.1\"/>\n",
       "<rect x=\"212.5\" y=\"-166.66666666666666\" width=\"12.5\" height=\"27.778\" opacity=\"0.0\" fill=\"currentColor\" stroke-width=\"0.1\"/>\n",
       "<rect x=\"225.0\" y=\"-166.66666666666666\" width=\"12.5\" height=\"27.778\" opacity=\"0.0\" fill=\"currentColor\" stroke-width=\"0.1\"/>\n",
       "<rect x=\"237.5\" y=\"-166.66666666666666\" width=\"12.5\" height=\"27.778\" opacity=\"0.0\" fill=\"currentColor\" stroke-width=\"0.1\"/>\n",
       "<rect x=\"0.0\" y=\"-194.44444444444446\" width=\"12.5\" height=\"27.778\" opacity=\"0.0\" fill=\"currentColor\" stroke-width=\"0.1\"/>\n",
       "<rect x=\"12.5\" y=\"-194.44444444444446\" width=\"12.5\" height=\"27.778\" opacity=\"0.0\" fill=\"currentColor\" stroke-width=\"0.1\"/>\n",
       "<rect x=\"25.0\" y=\"-194.44444444444446\" width=\"12.5\" height=\"27.778\" opacity=\"0.0\" fill=\"currentColor\" stroke-width=\"0.1\"/>\n",
       "<rect x=\"37.5\" y=\"-194.44444444444446\" width=\"12.5\" height=\"27.778\" opacity=\"0.0\" fill=\"currentColor\" stroke-width=\"0.1\"/>\n",
       "<rect x=\"50.0\" y=\"-194.44444444444446\" width=\"12.5\" height=\"27.778\" opacity=\"0.0\" fill=\"currentColor\" stroke-width=\"0.1\"/>\n",
       "<rect x=\"62.5\" y=\"-194.44444444444446\" width=\"12.5\" height=\"27.778\" opacity=\"0.0\" fill=\"currentColor\" stroke-width=\"0.1\"/>\n",
       "<rect x=\"75.0\" y=\"-194.44444444444446\" width=\"12.5\" height=\"27.778\" opacity=\"0.0\" fill=\"currentColor\" stroke-width=\"0.1\"/>\n",
       "<rect x=\"87.5\" y=\"-194.44444444444446\" width=\"12.5\" height=\"27.778\" opacity=\"0.0\" fill=\"currentColor\" stroke-width=\"0.1\"/>\n",
       "<rect x=\"100.0\" y=\"-194.44444444444446\" width=\"12.5\" height=\"27.778\" opacity=\"0.0\" fill=\"currentColor\" stroke-width=\"0.1\"/>\n",
       "<rect x=\"112.5\" y=\"-194.44444444444446\" width=\"12.5\" height=\"27.778\" opacity=\"0.0\" fill=\"currentColor\" stroke-width=\"0.1\"/>\n",
       "<rect x=\"125.0\" y=\"-194.44444444444446\" width=\"12.5\" height=\"27.778\" opacity=\"0.0\" fill=\"currentColor\" stroke-width=\"0.1\"/>\n",
       "<rect x=\"137.5\" y=\"-194.44444444444446\" width=\"12.5\" height=\"27.778\" opacity=\"0.0\" fill=\"currentColor\" stroke-width=\"0.1\"/>\n",
       "<rect x=\"150.0\" y=\"-194.44444444444446\" width=\"12.5\" height=\"27.778\" opacity=\"0.0\" fill=\"currentColor\" stroke-width=\"0.1\"/>\n",
       "<rect x=\"162.5\" y=\"-194.44444444444446\" width=\"12.5\" height=\"27.778\" opacity=\"0.0\" fill=\"currentColor\" stroke-width=\"0.1\"/>\n",
       "<rect x=\"175.0\" y=\"-194.44444444444446\" width=\"12.5\" height=\"27.778\" opacity=\"0.0\" fill=\"currentColor\" stroke-width=\"0.1\"/>\n",
       "<rect x=\"187.5\" y=\"-194.44444444444446\" width=\"12.5\" height=\"27.778\" opacity=\"0.0\" fill=\"currentColor\" stroke-width=\"0.1\"/>\n",
       "<rect x=\"200.0\" y=\"-194.44444444444446\" width=\"12.5\" height=\"27.778\" opacity=\"0.0\" fill=\"currentColor\" stroke-width=\"0.1\"/>\n",
       "<rect x=\"212.5\" y=\"-194.44444444444446\" width=\"12.5\" height=\"27.778\" opacity=\"0.0\" fill=\"currentColor\" stroke-width=\"0.1\"/>\n",
       "<rect x=\"225.0\" y=\"-194.44444444444446\" width=\"12.5\" height=\"27.778\" opacity=\"0.0\" fill=\"currentColor\" stroke-width=\"0.1\"/>\n",
       "<rect x=\"237.5\" y=\"-194.44444444444446\" width=\"12.5\" height=\"27.778\" opacity=\"0.0\" fill=\"currentColor\" stroke-width=\"0.1\"/>\n",
       "<rect x=\"0.0\" y=\"-222.2222222222222\" width=\"12.5\" height=\"27.778\" opacity=\"0.0\" fill=\"currentColor\" stroke-width=\"0.1\"/>\n",
       "<rect x=\"12.5\" y=\"-222.2222222222222\" width=\"12.5\" height=\"27.778\" opacity=\"0.0\" fill=\"currentColor\" stroke-width=\"0.1\"/>\n",
       "<rect x=\"25.0\" y=\"-222.2222222222222\" width=\"12.5\" height=\"27.778\" opacity=\"0.0\" fill=\"currentColor\" stroke-width=\"0.1\"/>\n",
       "<rect x=\"37.5\" y=\"-222.2222222222222\" width=\"12.5\" height=\"27.778\" opacity=\"0.0\" fill=\"currentColor\" stroke-width=\"0.1\"/>\n",
       "<rect x=\"50.0\" y=\"-222.2222222222222\" width=\"12.5\" height=\"27.778\" opacity=\"0.0\" fill=\"currentColor\" stroke-width=\"0.1\"/>\n",
       "<rect x=\"62.5\" y=\"-222.2222222222222\" width=\"12.5\" height=\"27.778\" opacity=\"0.0\" fill=\"currentColor\" stroke-width=\"0.1\"/>\n",
       "<rect x=\"75.0\" y=\"-222.2222222222222\" width=\"12.5\" height=\"27.778\" opacity=\"0.0\" fill=\"currentColor\" stroke-width=\"0.1\"/>\n",
       "<rect x=\"87.5\" y=\"-222.2222222222222\" width=\"12.5\" height=\"27.778\" opacity=\"0.0\" fill=\"currentColor\" stroke-width=\"0.1\"/>\n",
       "<rect x=\"100.0\" y=\"-222.2222222222222\" width=\"12.5\" height=\"27.778\" opacity=\"0.0\" fill=\"currentColor\" stroke-width=\"0.1\"/>\n",
       "<rect x=\"112.5\" y=\"-222.2222222222222\" width=\"12.5\" height=\"27.778\" opacity=\"0.0\" fill=\"currentColor\" stroke-width=\"0.1\"/>\n",
       "<rect x=\"125.0\" y=\"-222.2222222222222\" width=\"12.5\" height=\"27.778\" opacity=\"0.0\" fill=\"currentColor\" stroke-width=\"0.1\"/>\n",
       "<rect x=\"137.5\" y=\"-222.2222222222222\" width=\"12.5\" height=\"27.778\" opacity=\"0.0\" fill=\"currentColor\" stroke-width=\"0.1\"/>\n",
       "<rect x=\"150.0\" y=\"-222.2222222222222\" width=\"12.5\" height=\"27.778\" opacity=\"0.0\" fill=\"currentColor\" stroke-width=\"0.1\"/>\n",
       "<rect x=\"162.5\" y=\"-222.2222222222222\" width=\"12.5\" height=\"27.778\" opacity=\"0.0\" fill=\"currentColor\" stroke-width=\"0.1\"/>\n",
       "<rect x=\"175.0\" y=\"-222.2222222222222\" width=\"12.5\" height=\"27.778\" opacity=\"0.0\" fill=\"currentColor\" stroke-width=\"0.1\"/>\n",
       "<rect x=\"187.5\" y=\"-222.2222222222222\" width=\"12.5\" height=\"27.778\" opacity=\"0.0\" fill=\"currentColor\" stroke-width=\"0.1\"/>\n",
       "<rect x=\"200.0\" y=\"-222.2222222222222\" width=\"12.5\" height=\"27.778\" opacity=\"0.0\" fill=\"currentColor\" stroke-width=\"0.1\"/>\n",
       "<rect x=\"212.5\" y=\"-222.2222222222222\" width=\"12.5\" height=\"27.778\" opacity=\"0.0\" fill=\"currentColor\" stroke-width=\"0.1\"/>\n",
       "<rect x=\"225.0\" y=\"-222.2222222222222\" width=\"12.5\" height=\"27.778\" opacity=\"0.0\" fill=\"currentColor\" stroke-width=\"0.1\"/>\n",
       "<rect x=\"237.5\" y=\"-222.2222222222222\" width=\"12.5\" height=\"27.778\" opacity=\"0.0\" fill=\"currentColor\" stroke-width=\"0.1\"/>\n",
       "<rect x=\"0.0\" y=\"-250.0\" width=\"12.5\" height=\"27.778\" opacity=\"0.0\" fill=\"currentColor\" stroke-width=\"0.1\"/>\n",
       "<rect x=\"12.5\" y=\"-250.0\" width=\"12.5\" height=\"27.778\" opacity=\"0.0\" fill=\"currentColor\" stroke-width=\"0.1\"/>\n",
       "<rect x=\"25.0\" y=\"-250.0\" width=\"12.5\" height=\"27.778\" opacity=\"0.0\" fill=\"currentColor\" stroke-width=\"0.1\"/>\n",
       "<rect x=\"37.5\" y=\"-250.0\" width=\"12.5\" height=\"27.778\" opacity=\"0.0\" fill=\"currentColor\" stroke-width=\"0.1\"/>\n",
       "<rect x=\"50.0\" y=\"-250.0\" width=\"12.5\" height=\"27.778\" opacity=\"0.0\" fill=\"currentColor\" stroke-width=\"0.1\"/>\n",
       "<rect x=\"62.5\" y=\"-250.0\" width=\"12.5\" height=\"27.778\" opacity=\"0.0\" fill=\"currentColor\" stroke-width=\"0.1\"/>\n",
       "<rect x=\"75.0\" y=\"-250.0\" width=\"12.5\" height=\"27.778\" opacity=\"0.0\" fill=\"currentColor\" stroke-width=\"0.1\"/>\n",
       "<rect x=\"87.5\" y=\"-250.0\" width=\"12.5\" height=\"27.778\" opacity=\"0.0\" fill=\"currentColor\" stroke-width=\"0.1\"/>\n",
       "<rect x=\"100.0\" y=\"-250.0\" width=\"12.5\" height=\"27.778\" opacity=\"0.0\" fill=\"currentColor\" stroke-width=\"0.1\"/>\n",
       "<rect x=\"112.5\" y=\"-250.0\" width=\"12.5\" height=\"27.778\" opacity=\"0.0\" fill=\"currentColor\" stroke-width=\"0.1\"/>\n",
       "<rect x=\"125.0\" y=\"-250.0\" width=\"12.5\" height=\"27.778\" opacity=\"0.0\" fill=\"currentColor\" stroke-width=\"0.1\"/>\n",
       "<rect x=\"137.5\" y=\"-250.0\" width=\"12.5\" height=\"27.778\" opacity=\"0.0\" fill=\"currentColor\" stroke-width=\"0.1\"/>\n",
       "<rect x=\"150.0\" y=\"-250.0\" width=\"12.5\" height=\"27.778\" opacity=\"0.0\" fill=\"currentColor\" stroke-width=\"0.1\"/>\n",
       "<rect x=\"162.5\" y=\"-250.0\" width=\"12.5\" height=\"27.778\" opacity=\"0.0\" fill=\"currentColor\" stroke-width=\"0.1\"/>\n",
       "<rect x=\"175.0\" y=\"-250.0\" width=\"12.5\" height=\"27.778\" opacity=\"0.0\" fill=\"currentColor\" stroke-width=\"0.1\"/>\n",
       "<rect x=\"187.5\" y=\"-250.0\" width=\"12.5\" height=\"27.778\" opacity=\"0.0\" fill=\"currentColor\" stroke-width=\"0.1\"/>\n",
       "<rect x=\"200.0\" y=\"-250.0\" width=\"12.5\" height=\"27.778\" opacity=\"0.0\" fill=\"currentColor\" stroke-width=\"0.1\"/>\n",
       "<rect x=\"212.5\" y=\"-250.0\" width=\"12.5\" height=\"27.778\" opacity=\"0.0\" fill=\"currentColor\" stroke-width=\"0.1\"/>\n",
       "<rect x=\"225.0\" y=\"-250.0\" width=\"12.5\" height=\"27.778\" opacity=\"0.0\" fill=\"currentColor\" stroke-width=\"0.1\"/>\n",
       "<rect x=\"237.5\" y=\"-250.0\" width=\"12.5\" height=\"27.778\" opacity=\"0.0\" fill=\"currentColor\" stroke-width=\"0.1\"/>\n",
       "</svg>\n",
       "</div>\n",
       "<div style=\"flex=grow:1;\">\n",
       "Regular(20, 0, 10, name='x')<br/>\n",
       "IntCategory([20, 50, 80, 100, 120, 150, 200, 250, 300], name='beamEnergy', label='Beam energy (GeV)')<br/>\n",
       "<hr style=\"margin-top:.2em; margin-bottom:.2em;\"/>\n",
       "Weight() Σ=WeightedSum(value=59, variance=283)\n",
       "\n",
       "</div>\n",
       "</div>\n",
       "</html>"
      ],
      "text/plain": [
       "Hist(\n",
       "  Regular(20, 0, 10, name='x'),\n",
       "  IntCategory([20, 50, 80, 100, 120, 150, 200, 250, 300], name='beamEnergy', label='Beam energy (GeV)'),\n",
       "  storage=Weight()) # Sum: WeightedSum(value=59, variance=283)"
      ]
     },
     "execution_count": 19,
     "metadata": {},
     "output_type": "execute_result"
    }
   ],
   "source": [
    "h = hist.Hist(\n",
    "    hist.axis.Regular(bins=20, start=0, stop=10, name=\"x\"),\n",
    "    beamEnergiesAxis,\n",
    "    storage=hist.storage.Weight()\n",
    ")\n",
    "h.fill(x=[0, 0, 1, 3, 1, 6, 3, 8, 4, 8], beamEnergy=20, weight=[1, 2, 1, 3, 1, 6, 3, 8, 4, 1])\n",
    "h.fill(x=[5, 2, 1, 3, 1, 3, 3, 8, 4], beamEnergy=80, weight=[2, 1, 3, 1, 6, 3, 8, 4, 1])"
   ]
  },
  {
   "cell_type": "code",
   "execution_count": 20,
   "metadata": {},
   "outputs": [
    {
     "data": {
      "text/plain": [
       "array([[0.10169492, 0.        , 0.        , 0.        , 0.        ,\n",
       "        0.        , 0.        , 0.        , 0.        ],\n",
       "       [0.        , 0.        , 0.        , 0.        , 0.        ,\n",
       "        0.        , 0.        , 0.        , 0.        ],\n",
       "       [0.06779661, 0.        , 0.30508475, 0.        , 0.        ,\n",
       "        0.        , 0.        , 0.        , 0.        ],\n",
       "       [0.        , 0.        , 0.        , 0.        , 0.        ,\n",
       "        0.        , 0.        , 0.        , 0.        ],\n",
       "       [0.        , 0.        , 0.03389831, 0.        , 0.        ,\n",
       "        0.        , 0.        , 0.        , 0.        ],\n",
       "       [0.        , 0.        , 0.        , 0.        , 0.        ,\n",
       "        0.        , 0.        , 0.        , 0.        ],\n",
       "       [0.20338983, 0.        , 0.40677966, 0.        , 0.        ,\n",
       "        0.        , 0.        , 0.        , 0.        ],\n",
       "       [0.        , 0.        , 0.        , 0.        , 0.        ,\n",
       "        0.        , 0.        , 0.        , 0.        ],\n",
       "       [0.13559322, 0.        , 0.03389831, 0.        , 0.        ,\n",
       "        0.        , 0.        , 0.        , 0.        ],\n",
       "       [0.        , 0.        , 0.        , 0.        , 0.        ,\n",
       "        0.        , 0.        , 0.        , 0.        ],\n",
       "       [0.        , 0.        , 0.06779661, 0.        , 0.        ,\n",
       "        0.        , 0.        , 0.        , 0.        ],\n",
       "       [0.        , 0.        , 0.        , 0.        , 0.        ,\n",
       "        0.        , 0.        , 0.        , 0.        ],\n",
       "       [0.20338983, 0.        , 0.        , 0.        , 0.        ,\n",
       "        0.        , 0.        , 0.        , 0.        ],\n",
       "       [0.        , 0.        , 0.        , 0.        , 0.        ,\n",
       "        0.        , 0.        , 0.        , 0.        ],\n",
       "       [0.        , 0.        , 0.        , 0.        , 0.        ,\n",
       "        0.        , 0.        , 0.        , 0.        ],\n",
       "       [0.        , 0.        , 0.        , 0.        , 0.        ,\n",
       "        0.        , 0.        , 0.        , 0.        ],\n",
       "       [0.30508475, 0.        , 0.13559322, 0.        , 0.        ,\n",
       "        0.        , 0.        , 0.        , 0.        ],\n",
       "       [0.        , 0.        , 0.        , 0.        , 0.        ,\n",
       "        0.        , 0.        , 0.        , 0.        ],\n",
       "       [0.        , 0.        , 0.        , 0.        , 0.        ,\n",
       "        0.        , 0.        , 0.        , 0.        ],\n",
       "       [0.        , 0.        , 0.        , 0.        , 0.        ,\n",
       "        0.        , 0.        , 0.        , 0.        ]])"
      ]
     },
     "execution_count": 20,
     "metadata": {},
     "output_type": "execute_result"
    }
   ],
   "source": [
    "total = np.sum(h.values()) * functools.reduce(operator.mul, h.axes.widths)\n",
    "total\n",
    "h.values() / np.where(total > 0, total, 1)\n"
   ]
  },
  {
   "cell_type": "code",
   "execution_count": 21,
   "metadata": {},
   "outputs": [
    {
     "data": {
      "text/html": [
       "<html>\n",
       "<div style=\"display:flex; align-items:center;\">\n",
       "<div style=\"width:290px;\">\n",
       "<svg xmlns=\"http://www.w3.org/2000/svg\" viewBox=\"-20 -270 290 290\">\n",
       "<text text-anchor=\"middle\" x=\"0\" y=\"13\" style=\"fill:currentColor;\">\n",
       "0\n",
       "</text>\n",
       "<text text-anchor=\"middle\" x=\"250\" y=\"13\" style=\"fill:currentColor;\">\n",
       "2\n",
       "</text>\n",
       "<text text-anchor=\"middle\" x=\"-10\" y=\"0\" style=\"fill:currentColor;\">\n",
       "0\n",
       "</text>\n",
       "<text text-anchor=\"middle\" x=\"-10\" y=\"-250\" style=\"fill:currentColor;\">\n",
       "1\n",
       "</text>\n",
       "<text text-anchor=\"middle\" x=\"125.0\" y=\"13\" style=\"fill:currentColor;\">\n",
       "x\n",
       "</text>\n",
       "<text text-anchor=\"middle\" x=\"-10\" y=\"-125.0\" transform=\"rotate(-90,-10,-125.0)\" style=\"fill:currentColor;\">\n",
       "y\n",
       "</text>\n",
       "<rect x=\"0.0\" y=\"-25.0\" width=\"125.0\" height=\"25.0\" opacity=\"1.0\" fill=\"currentColor\" stroke-width=\"0.1\"/>\n",
       "<rect x=\"125.0\" y=\"-25.0\" width=\"125.0\" height=\"25.0\" opacity=\"0.0\" fill=\"currentColor\" stroke-width=\"0.1\"/>\n",
       "<rect x=\"0.0\" y=\"-250.0\" width=\"125.0\" height=\"225.0\" opacity=\"0.0\" fill=\"currentColor\" stroke-width=\"0.1\"/>\n",
       "<rect x=\"125.0\" y=\"-250.0\" width=\"125.0\" height=\"225.0\" opacity=\"0.11111111111111112\" fill=\"currentColor\" stroke-width=\"0.1\"/>\n",
       "</svg>\n",
       "</div>\n",
       "<div style=\"flex=grow:1;\">\n",
       "Regular(2, 0, 2, name='x')<br/>\n",
       "Variable([0, 0.1, 1], name='y')<br/>\n",
       "<hr style=\"margin-top:.2em; margin-bottom:.2em;\"/>\n",
       "Double() Σ=4.0\n",
       "\n",
       "</div>\n",
       "</div>\n",
       "</html>"
      ],
      "text/plain": [
       "Hist(\n",
       "  Regular(2, 0, 2, name='x'),\n",
       "  Variable([0, 0.1, 1], name='y'),\n",
       "  storage=Double()) # Sum: 4.0"
      ]
     },
     "execution_count": 21,
     "metadata": {},
     "output_type": "execute_result"
    }
   ],
   "source": [
    "h3 = hist.Hist(\n",
    "    hist.axis.Regular(name=\"x\", bins=2, start=0, stop=2),\n",
    "    hist.axis.Variable([0, .1, 1], name=\"y\")\n",
    ")\n",
    "h3.fill(x=[0, 0.8, 1, 1], y=[0, 0.05, 0.9, 0.9])"
   ]
  },
  {
   "cell_type": "code",
   "execution_count": 22,
   "metadata": {},
   "outputs": [
    {
     "data": {
      "text/plain": [
       "array([[5.        , 0.        ],\n",
       "       [0.        , 0.55555556]])"
      ]
     },
     "execution_count": 22,
     "metadata": {},
     "output_type": "execute_result"
    }
   ],
   "source": [
    "h3.density()"
   ]
  },
  {
   "cell_type": "code",
   "execution_count": 23,
   "metadata": {},
   "outputs": [
    {
     "data": {
      "text/plain": [
       "array([1. , 1. , 1. , 1. , 0.5, 0.5])"
      ]
     },
     "execution_count": 23,
     "metadata": {},
     "output_type": "execute_result"
    }
   ],
   "source": [
    "hist.axis.Variable([1, 2, 3, 4, 5, 5.5, 6], name=\"z\").widths"
   ]
  },
  {
   "cell_type": "code",
   "execution_count": 42,
   "metadata": {},
   "outputs": [
    {
     "data": {
      "text/html": [
       "<style>\n",
       "        .bk-notebook-logo {\n",
       "            display: block;\n",
       "            width: 20px;\n",
       "            height: 20px;\n",
       "            background-image: url(data:image/png;base64,iVBORw0KGgoAAAANSUhEUgAAABQAAAAUCAYAAACNiR0NAAAABHNCSVQICAgIfAhkiAAAAAlwSFlzAAALEgAACxIB0t1+/AAAABx0RVh0U29mdHdhcmUAQWRvYmUgRmlyZXdvcmtzIENTNui8sowAAAOkSURBVDiNjZRtaJVlGMd/1/08zzln5zjP1LWcU9N0NkN8m2CYjpgQYQXqSs0I84OLIC0hkEKoPtiH3gmKoiJDU7QpLgoLjLIQCpEsNJ1vqUOdO7ppbuec5+V+rj4ctwzd8IIbbi6u+8f1539dt3A78eXC7QizUF7gyV1fD1Yqg4JWz84yffhm0qkFqBogB9rM8tZdtwVsPUhWhGcFJngGeWrPzHm5oaMmkfEg1usvLFyc8jLRqDOMru7AyC8saQr7GG7f5fvDeH7Ej8CM66nIF+8yngt6HWaKh7k49Soy9nXurCi1o3qUbS3zWfrYeQDTB/Qj6kX6Ybhw4B+bOYoLKCC9H3Nu/leUTZ1JdRWkkn2ldcCamzrcf47KKXdAJllSlxAOkRgyHsGC/zRday5Qld9DyoM4/q/rUoy/CXh3jzOu3bHUVZeU+DEn8FInkPBFlu3+nW3Nw0mk6vCDiWg8CeJaxEwuHS3+z5RgY+YBR6V1Z1nxSOfoaPa4LASWxxdNp+VWTk7+4vzaou8v8PN+xo+KY2xsw6une2frhw05CTYOmQvsEhjhWjn0bmXPjpE1+kplmmkP3suftwTubK9Vq22qKmrBhpY4jvd5afdRA3wGjFAgcnTK2s4hY0/GPNIb0nErGMCRxWOOX64Z8RAC4oCXdklmEvcL8o0BfkNK4lUg9HTl+oPlQxdNo3Mg4Nv175e/1LDGzZen30MEjRUtmXSfiTVu1kK8W4txyV6BMKlbgk3lMwYCiusNy9fVfvvwMxv8Ynl6vxoByANLTWplvuj/nF9m2+PDtt1eiHPBr1oIfhCChQMBw6Aw0UulqTKZdfVvfG7VcfIqLG9bcldL/+pdWTLxLUy8Qq38heUIjh4XlzZxzQm19lLFlr8vdQ97rjZVOLf8nclzckbcD4wxXMidpX30sFd37Fv/GtwwhzhxGVAprjbg0gCAEeIgwCZyTV2Z1REEW8O4py0wsjeloKoMr6iCY6dP92H6Vw/oTyICIthibxjm/DfN9lVz8IqtqKYLUXfoKVMVQVVJOElGjrnnUt9T9wbgp8AyYKaGlqingHZU/uG2NTZSVqwHQTWkx9hxjkpWDaCg6Ckj5qebgBVbT3V3NNXMSiWSDdGV3hrtzla7J+duwPOToIg42ChPQOQjspnSlp1V+Gjdged7+8UN5CRAV7a5EdFNwCjEaBR27b3W890TE7g24NAP/mMDXRWrGoFPQI9ls/MWO2dWFAar/xcOIImbbpA3zgAAAABJRU5ErkJggg==);\n",
       "        }\n",
       "    </style>\n",
       "    <div>\n",
       "        <a href=\"https://bokeh.org\" target=\"_blank\" class=\"bk-notebook-logo\"></a>\n",
       "        <span id=\"p3365\">Loading BokehJS ...</span>\n",
       "    </div>\n"
      ]
     },
     "metadata": {},
     "output_type": "display_data"
    },
    {
     "data": {
      "application/javascript": "(function(root) {\n  function now() {\n    return new Date();\n  }\n\n  const force = true;\n\n  if (typeof root._bokeh_onload_callbacks === \"undefined\" || force === true) {\n    root._bokeh_onload_callbacks = [];\n    root._bokeh_is_loading = undefined;\n  }\n\nconst JS_MIME_TYPE = 'application/javascript';\n  const HTML_MIME_TYPE = 'text/html';\n  const EXEC_MIME_TYPE = 'application/vnd.bokehjs_exec.v0+json';\n  const CLASS_NAME = 'output_bokeh rendered_html';\n\n  /**\n   * Render data to the DOM node\n   */\n  function render(props, node) {\n    const script = document.createElement(\"script\");\n    node.appendChild(script);\n  }\n\n  /**\n   * Handle when an output is cleared or removed\n   */\n  function handleClearOutput(event, handle) {\n    const cell = handle.cell;\n\n    const id = cell.output_area._bokeh_element_id;\n    const server_id = cell.output_area._bokeh_server_id;\n    // Clean up Bokeh references\n    if (id != null && id in Bokeh.index) {\n      Bokeh.index[id].model.document.clear();\n      delete Bokeh.index[id];\n    }\n\n    if (server_id !== undefined) {\n      // Clean up Bokeh references\n      const cmd_clean = \"from bokeh.io.state import curstate; print(curstate().uuid_to_server['\" + server_id + \"'].get_sessions()[0].document.roots[0]._id)\";\n      cell.notebook.kernel.execute(cmd_clean, {\n        iopub: {\n          output: function(msg) {\n            const id = msg.content.text.trim();\n            if (id in Bokeh.index) {\n              Bokeh.index[id].model.document.clear();\n              delete Bokeh.index[id];\n            }\n          }\n        }\n      });\n      // Destroy server and session\n      const cmd_destroy = \"import bokeh.io.notebook as ion; ion.destroy_server('\" + server_id + \"')\";\n      cell.notebook.kernel.execute(cmd_destroy);\n    }\n  }\n\n  /**\n   * Handle when a new output is added\n   */\n  function handleAddOutput(event, handle) {\n    const output_area = handle.output_area;\n    const output = handle.output;\n\n    // limit handleAddOutput to display_data with EXEC_MIME_TYPE content only\n    if ((output.output_type != \"display_data\") || (!Object.prototype.hasOwnProperty.call(output.data, EXEC_MIME_TYPE))) {\n      return\n    }\n\n    const toinsert = output_area.element.find(\".\" + CLASS_NAME.split(' ')[0]);\n\n    if (output.metadata[EXEC_MIME_TYPE][\"id\"] !== undefined) {\n      toinsert[toinsert.length - 1].firstChild.textContent = output.data[JS_MIME_TYPE];\n      // store reference to embed id on output_area\n      output_area._bokeh_element_id = output.metadata[EXEC_MIME_TYPE][\"id\"];\n    }\n    if (output.metadata[EXEC_MIME_TYPE][\"server_id\"] !== undefined) {\n      const bk_div = document.createElement(\"div\");\n      bk_div.innerHTML = output.data[HTML_MIME_TYPE];\n      const script_attrs = bk_div.children[0].attributes;\n      for (let i = 0; i < script_attrs.length; i++) {\n        toinsert[toinsert.length - 1].firstChild.setAttribute(script_attrs[i].name, script_attrs[i].value);\n        toinsert[toinsert.length - 1].firstChild.textContent = bk_div.children[0].textContent\n      }\n      // store reference to server id on output_area\n      output_area._bokeh_server_id = output.metadata[EXEC_MIME_TYPE][\"server_id\"];\n    }\n  }\n\n  function register_renderer(events, OutputArea) {\n\n    function append_mime(data, metadata, element) {\n      // create a DOM node to render to\n      const toinsert = this.create_output_subarea(\n        metadata,\n        CLASS_NAME,\n        EXEC_MIME_TYPE\n      );\n      this.keyboard_manager.register_events(toinsert);\n      // Render to node\n      const props = {data: data, metadata: metadata[EXEC_MIME_TYPE]};\n      render(props, toinsert[toinsert.length - 1]);\n      element.append(toinsert);\n      return toinsert\n    }\n\n    /* Handle when an output is cleared or removed */\n    events.on('clear_output.CodeCell', handleClearOutput);\n    events.on('delete.Cell', handleClearOutput);\n\n    /* Handle when a new output is added */\n    events.on('output_added.OutputArea', handleAddOutput);\n\n    /**\n     * Register the mime type and append_mime function with output_area\n     */\n    OutputArea.prototype.register_mime_type(EXEC_MIME_TYPE, append_mime, {\n      /* Is output safe? */\n      safe: true,\n      /* Index of renderer in `output_area.display_order` */\n      index: 0\n    });\n  }\n\n  // register the mime type if in Jupyter Notebook environment and previously unregistered\n  if (root.Jupyter !== undefined) {\n    const events = require('base/js/events');\n    const OutputArea = require('notebook/js/outputarea').OutputArea;\n\n    if (OutputArea.prototype.mime_types().indexOf(EXEC_MIME_TYPE) == -1) {\n      register_renderer(events, OutputArea);\n    }\n  }\n  if (typeof (root._bokeh_timeout) === \"undefined\" || force === true) {\n    root._bokeh_timeout = Date.now() + 5000;\n    root._bokeh_failed_load = false;\n  }\n\n  const NB_LOAD_WARNING = {'data': {'text/html':\n     \"<div style='background-color: #fdd'>\\n\"+\n     \"<p>\\n\"+\n     \"BokehJS does not appear to have successfully loaded. If loading BokehJS from CDN, this \\n\"+\n     \"may be due to a slow or bad network connection. Possible fixes:\\n\"+\n     \"</p>\\n\"+\n     \"<ul>\\n\"+\n     \"<li>re-rerun `output_notebook()` to attempt to load from CDN again, or</li>\\n\"+\n     \"<li>use INLINE resources instead, as so:</li>\\n\"+\n     \"</ul>\\n\"+\n     \"<code>\\n\"+\n     \"from bokeh.resources import INLINE\\n\"+\n     \"output_notebook(resources=INLINE)\\n\"+\n     \"</code>\\n\"+\n     \"</div>\"}};\n\n  function display_loaded() {\n    const el = document.getElementById(\"p3365\");\n    if (el != null) {\n      el.textContent = \"BokehJS is loading...\";\n    }\n    if (root.Bokeh !== undefined) {\n      if (el != null) {\n        el.textContent = \"BokehJS \" + root.Bokeh.version + \" successfully loaded.\";\n      }\n    } else if (Date.now() < root._bokeh_timeout) {\n      setTimeout(display_loaded, 100)\n    }\n  }\n\n  function run_callbacks() {\n    try {\n      root._bokeh_onload_callbacks.forEach(function(callback) {\n        if (callback != null)\n          callback();\n      });\n    } finally {\n      delete root._bokeh_onload_callbacks\n    }\n    console.debug(\"Bokeh: all callbacks have finished\");\n  }\n\n  function load_libs(css_urls, js_urls, callback) {\n    if (css_urls == null) css_urls = [];\n    if (js_urls == null) js_urls = [];\n\n    root._bokeh_onload_callbacks.push(callback);\n    if (root._bokeh_is_loading > 0) {\n      console.debug(\"Bokeh: BokehJS is being loaded, scheduling callback at\", now());\n      return null;\n    }\n    if (js_urls == null || js_urls.length === 0) {\n      run_callbacks();\n      return null;\n    }\n    console.debug(\"Bokeh: BokehJS not loaded, scheduling load and callback at\", now());\n    root._bokeh_is_loading = css_urls.length + js_urls.length;\n\n    function on_load() {\n      root._bokeh_is_loading--;\n      if (root._bokeh_is_loading === 0) {\n        console.debug(\"Bokeh: all BokehJS libraries/stylesheets loaded\");\n        run_callbacks()\n      }\n    }\n\n    function on_error(url) {\n      console.error(\"failed to load \" + url);\n    }\n\n    for (let i = 0; i < css_urls.length; i++) {\n      const url = css_urls[i];\n      const element = document.createElement(\"link\");\n      element.onload = on_load;\n      element.onerror = on_error.bind(null, url);\n      element.rel = \"stylesheet\";\n      element.type = \"text/css\";\n      element.href = url;\n      console.debug(\"Bokeh: injecting link tag for BokehJS stylesheet: \", url);\n      document.body.appendChild(element);\n    }\n\n    for (let i = 0; i < js_urls.length; i++) {\n      const url = js_urls[i];\n      const element = document.createElement('script');\n      element.onload = on_load;\n      element.onerror = on_error.bind(null, url);\n      element.async = false;\n      element.src = url;\n      console.debug(\"Bokeh: injecting script tag for BokehJS library: \", url);\n      document.head.appendChild(element);\n    }\n  };\n\n  function inject_raw_css(css) {\n    const element = document.createElement(\"style\");\n    element.appendChild(document.createTextNode(css));\n    document.body.appendChild(element);\n  }\n\n  const js_urls = [\"https://cdn.bokeh.org/bokeh/release/bokeh-3.0.3.min.js\", \"https://cdn.bokeh.org/bokeh/release/bokeh-gl-3.0.3.min.js\", \"https://cdn.bokeh.org/bokeh/release/bokeh-widgets-3.0.3.min.js\", \"https://cdn.bokeh.org/bokeh/release/bokeh-tables-3.0.3.min.js\", \"https://cdn.bokeh.org/bokeh/release/bokeh-mathjax-3.0.3.min.js\"];\n  const css_urls = [];\n\n  const inline_js = [    function(Bokeh) {\n      Bokeh.set_log_level(\"info\");\n    },\nfunction(Bokeh) {\n    }\n  ];\n\n  function run_inline_js() {\n    if (root.Bokeh !== undefined || force === true) {\n          for (let i = 0; i < inline_js.length; i++) {\n      inline_js[i].call(root, root.Bokeh);\n    }\nif (force === true) {\n        display_loaded();\n      }} else if (Date.now() < root._bokeh_timeout) {\n      setTimeout(run_inline_js, 100);\n    } else if (!root._bokeh_failed_load) {\n      console.log(\"Bokeh: BokehJS failed to load within specified timeout.\");\n      root._bokeh_failed_load = true;\n    } else if (force !== true) {\n      const cell = $(document.getElementById(\"p3365\")).parents('.cell').data().cell;\n      cell.output_area.append_execute_result(NB_LOAD_WARNING)\n    }\n  }\n\n  if (root._bokeh_is_loading === 0) {\n    console.debug(\"Bokeh: BokehJS loaded, going straight to plotting\");\n    run_inline_js();\n  } else {\n    load_libs(css_urls, js_urls, function() {\n      console.debug(\"Bokeh: BokehJS plotting callback run at\", now());\n      run_inline_js();\n    });\n  }\n}(window));",
      "application/vnd.bokehjs_load.v0+json": ""
     },
     "metadata": {},
     "output_type": "display_data"
    }
   ],
   "source": [
    "from bokeh.plotting import figure, show\n",
    "import bokeh.models\n",
    "import bokeh\n",
    "bokeh.io.output_notebook()"
   ]
  },
  {
   "cell_type": "code",
   "execution_count": 48,
   "metadata": {},
   "outputs": [
    {
     "data": {
      "text/html": [
       "<html>\n",
       "<div style=\"display:flex; align-items:center;\">\n",
       "<div style=\"width:290px;\">\n",
       "<svg xmlns=\"http://www.w3.org/2000/svg\" viewBox=\"-20 -270 290 290\">\n",
       "<text text-anchor=\"middle\" x=\"0\" y=\"13\" style=\"fill:currentColor;\">\n",
       "0\n",
       "</text>\n",
       "<text text-anchor=\"middle\" x=\"250\" y=\"13\" style=\"fill:currentColor;\">\n",
       "15\n",
       "</text>\n",
       "<text text-anchor=\"middle\" x=\"-10\" y=\"0\" style=\"fill:currentColor;\">\n",
       "0\n",
       "</text>\n",
       "<text text-anchor=\"middle\" x=\"-10\" y=\"-250\" style=\"fill:currentColor;\">\n",
       "10\n",
       "</text>\n",
       "<text text-anchor=\"middle\" x=\"125.0\" y=\"13\" style=\"fill:currentColor;\">\n",
       "x\n",
       "</text>\n",
       "<text text-anchor=\"middle\" x=\"-10\" y=\"-125.0\" transform=\"rotate(-90,-10,-125.0)\" style=\"fill:currentColor;\">\n",
       "y\n",
       "</text>\n",
       "<rect x=\"0.0\" y=\"-83.33333333333333\" width=\"125.0\" height=\"83.333\" opacity=\"1.0\" fill=\"currentColor\" stroke-width=\"0.1\"/>\n",
       "<rect x=\"125.0\" y=\"-83.33333333333333\" width=\"125.0\" height=\"83.333\" opacity=\"0.0\" fill=\"currentColor\" stroke-width=\"0.1\"/>\n",
       "<rect x=\"0.0\" y=\"-166.66666666666666\" width=\"125.0\" height=\"83.333\" opacity=\"0.3333333333333333\" fill=\"currentColor\" stroke-width=\"0.1\"/>\n",
       "<rect x=\"125.0\" y=\"-166.66666666666666\" width=\"125.0\" height=\"83.333\" opacity=\"0.0\" fill=\"currentColor\" stroke-width=\"0.1\"/>\n",
       "<rect x=\"0.0\" y=\"-250.0\" width=\"125.0\" height=\"83.333\" opacity=\"0.6666666666666664\" fill=\"currentColor\" stroke-width=\"0.1\"/>\n",
       "<rect x=\"125.0\" y=\"-250.0\" width=\"125.0\" height=\"83.333\" opacity=\"0.3333333333333332\" fill=\"currentColor\" stroke-width=\"0.1\"/>\n",
       "</svg>\n",
       "</div>\n",
       "<div style=\"flex=grow:1;\">\n",
       "Regular(2, 0, 15, name='x')<br/>\n",
       "Regular(3, 0, 10, name='y')<br/>\n",
       "<hr style=\"margin-top:.2em; margin-bottom:.2em;\"/>\n",
       "Double() Σ=7.0\n",
       "\n",
       "</div>\n",
       "</div>\n",
       "</html>"
      ],
      "text/plain": [
       "Hist(\n",
       "  Regular(2, 0, 15, name='x'),\n",
       "  Regular(3, 0, 10, name='y'),\n",
       "  storage=Double()) # Sum: 7.0"
      ]
     },
     "execution_count": 48,
     "metadata": {},
     "output_type": "execute_result"
    }
   ],
   "source": [
    "h = hist.Hist(\n",
    "    hist.axis.Regular(bins=2, start=0, stop=15, name=\"x\"),\n",
    "    hist.axis.Regular(bins=3, start=0, stop=10, name=\"y\"),\n",
    ")\n",
    "h.fill(x=[1, 3, 1, 6, 9, 1, 4], y=[3, 8, 4, 8, 7, 2, 1],)\n",
    "h"
   ]
  },
  {
   "cell_type": "code",
   "execution_count": 49,
   "metadata": {},
   "outputs": [
    {
     "data": {
      "text/html": [
       "\n",
       "  <div id=\"de471d3b-c58c-4d52-aaff-5e4a941fabdb\" data-root-id=\"p4064\" style=\"display: contents;\"></div>\n"
      ]
     },
     "metadata": {},
     "output_type": "display_data"
    },
    {
     "data": {
      "application/javascript": "(function(root) {\n  function embed_document(root) {\n  const docs_json = {\"3ca42d89-03f4-4d3d-89d6-65f5b0b88a5a\":{\"version\":\"3.0.3\",\"title\":\"Bokeh Application\",\"defs\":[],\"roots\":[{\"type\":\"object\",\"name\":\"Figure\",\"id\":\"p4064\",\"attributes\":{\"x_range\":{\"type\":\"object\",\"name\":\"DataRange1d\",\"id\":\"p4065\"},\"y_range\":{\"type\":\"object\",\"name\":\"DataRange1d\",\"id\":\"p4066\"},\"x_scale\":{\"type\":\"object\",\"name\":\"LinearScale\",\"id\":\"p4077\"},\"y_scale\":{\"type\":\"object\",\"name\":\"LinearScale\",\"id\":\"p4079\"},\"title\":{\"type\":\"object\",\"name\":\"Title\",\"id\":\"p4070\"},\"renderers\":[{\"type\":\"object\",\"name\":\"GlyphRenderer\",\"id\":\"p4122\",\"attributes\":{\"data_source\":{\"type\":\"object\",\"name\":\"ColumnDataSource\",\"id\":\"p4110\",\"attributes\":{\"selected\":{\"type\":\"object\",\"name\":\"Selection\",\"id\":\"p4111\",\"attributes\":{\"indices\":[],\"line_indices\":[]}},\"selection_policy\":{\"type\":\"object\",\"name\":\"UnionRenderers\",\"id\":\"p4112\"},\"data\":{\"type\":\"map\",\"entries\":[[\"image\",[{\"type\":\"ndarray\",\"array\":{\"type\":\"bytes\",\"data\":\"AAAAAAAACEAAAAAAAAAAAAAAAAAAAPA/AAAAAAAAAAAAAAAAAAAAQAAAAAAAAPA/\"},\"shape\":[3,2],\"dtype\":\"float64\",\"order\":\"little\"}]]]}}},\"view\":{\"type\":\"object\",\"name\":\"CDSView\",\"id\":\"p4123\",\"attributes\":{\"filter\":{\"type\":\"object\",\"name\":\"AllIndices\",\"id\":\"p4124\"}}},\"glyph\":{\"type\":\"object\",\"name\":\"Image\",\"id\":\"p4113\",\"attributes\":{\"x\":{\"type\":\"value\",\"value\":0.0},\"y\":{\"type\":\"value\",\"value\":0.0},\"dw\":{\"type\":\"value\",\"value\":15.0},\"dh\":{\"type\":\"value\",\"value\":10.0},\"image\":{\"type\":\"field\",\"field\":\"image\"},\"color_mapper\":{\"type\":\"object\",\"name\":\"LinearColorMapper\",\"id\":\"p4114\",\"attributes\":{\"palette\":[\"#000000\",\"#252525\",\"#525252\",\"#737373\",\"#969696\",\"#bdbdbd\",\"#d9d9d9\",\"#f0f0f0\",\"#ffffff\"]}}}},\"nonselection_glyph\":{\"type\":\"object\",\"name\":\"Image\",\"id\":\"p4116\",\"attributes\":{\"x\":{\"type\":\"value\",\"value\":0.0},\"y\":{\"type\":\"value\",\"value\":0.0},\"dw\":{\"type\":\"value\",\"value\":15.0},\"dh\":{\"type\":\"value\",\"value\":10.0},\"global_alpha\":{\"type\":\"value\",\"value\":0.1},\"image\":{\"type\":\"field\",\"field\":\"image\"},\"color_mapper\":{\"type\":\"object\",\"name\":\"LinearColorMapper\",\"id\":\"p4117\",\"attributes\":{\"palette\":[\"#000000\",\"#252525\",\"#525252\",\"#737373\",\"#969696\",\"#bdbdbd\",\"#d9d9d9\",\"#f0f0f0\",\"#ffffff\"]}}}},\"muted_glyph\":{\"type\":\"object\",\"name\":\"Image\",\"id\":\"p4119\",\"attributes\":{\"x\":{\"type\":\"value\",\"value\":0.0},\"y\":{\"type\":\"value\",\"value\":0.0},\"dw\":{\"type\":\"value\",\"value\":15.0},\"dh\":{\"type\":\"value\",\"value\":10.0},\"global_alpha\":{\"type\":\"value\",\"value\":0.2},\"image\":{\"type\":\"field\",\"field\":\"image\"},\"color_mapper\":{\"type\":\"object\",\"name\":\"LinearColorMapper\",\"id\":\"p4120\",\"attributes\":{\"palette\":[\"#000000\",\"#252525\",\"#525252\",\"#737373\",\"#969696\",\"#bdbdbd\",\"#d9d9d9\",\"#f0f0f0\",\"#ffffff\"]}}}}}}],\"toolbar\":{\"type\":\"object\",\"name\":\"Toolbar\",\"id\":\"p4072\",\"attributes\":{\"tools\":[{\"type\":\"object\",\"name\":\"PanTool\",\"id\":\"p4095\"},{\"type\":\"object\",\"name\":\"WheelZoomTool\",\"id\":\"p4096\"},{\"type\":\"object\",\"name\":\"BoxZoomTool\",\"id\":\"p4097\",\"attributes\":{\"overlay\":{\"type\":\"object\",\"name\":\"BoxAnnotation\",\"id\":\"p4098\",\"attributes\":{\"syncable\":false,\"level\":\"overlay\",\"visible\":false,\"left_units\":\"canvas\",\"right_units\":\"canvas\",\"bottom_units\":\"canvas\",\"top_units\":\"canvas\",\"line_color\":\"black\",\"line_alpha\":1.0,\"line_width\":2,\"line_dash\":[4,4],\"fill_color\":\"lightgrey\",\"fill_alpha\":0.5}}}},{\"type\":\"object\",\"name\":\"SaveTool\",\"id\":\"p4099\"},{\"type\":\"object\",\"name\":\"ResetTool\",\"id\":\"p4100\"},{\"type\":\"object\",\"name\":\"HelpTool\",\"id\":\"p4101\"}]}},\"left\":[{\"type\":\"object\",\"name\":\"LinearAxis\",\"id\":\"p4088\",\"attributes\":{\"ticker\":{\"type\":\"object\",\"name\":\"BasicTicker\",\"id\":\"p4091\",\"attributes\":{\"mantissas\":[1,2,5]}},\"formatter\":{\"type\":\"object\",\"name\":\"BasicTickFormatter\",\"id\":\"p4089\"},\"major_label_policy\":{\"type\":\"object\",\"name\":\"AllLabels\",\"id\":\"p4090\"}}}],\"below\":[{\"type\":\"object\",\"name\":\"LinearAxis\",\"id\":\"p4081\",\"attributes\":{\"ticker\":{\"type\":\"object\",\"name\":\"BasicTicker\",\"id\":\"p4084\",\"attributes\":{\"mantissas\":[1,2,5]}},\"formatter\":{\"type\":\"object\",\"name\":\"BasicTickFormatter\",\"id\":\"p4082\"},\"major_label_policy\":{\"type\":\"object\",\"name\":\"AllLabels\",\"id\":\"p4083\"}}}],\"center\":[{\"type\":\"object\",\"name\":\"Grid\",\"id\":\"p4087\",\"attributes\":{\"axis\":{\"id\":\"p4081\"}}},{\"type\":\"object\",\"name\":\"Grid\",\"id\":\"p4094\",\"attributes\":{\"dimension\":1,\"axis\":{\"id\":\"p4088\"}}}]}}]}};\n  const render_items = [{\"docid\":\"3ca42d89-03f4-4d3d-89d6-65f5b0b88a5a\",\"roots\":{\"p4064\":\"de471d3b-c58c-4d52-aaff-5e4a941fabdb\"},\"root_ids\":[\"p4064\"]}];\n  root.Bokeh.embed.embed_items_notebook(docs_json, render_items);\n  }\n  if (root.Bokeh !== undefined) {\n    embed_document(root);\n  } else {\n    let attempts = 0;\n    const timer = setInterval(function(root) {\n      if (root.Bokeh !== undefined) {\n        clearInterval(timer);\n        embed_document(root);\n      } else {\n        attempts++;\n        if (attempts > 100) {\n          clearInterval(timer);\n          console.log(\"Bokeh: ERROR: Unable to run BokehJS code because BokehJS library is missing\");\n        }\n      }\n    }, 10, root)\n  }\n})(window);",
      "application/vnd.bokehjs_exec.v0+json": ""
     },
     "metadata": {
      "application/vnd.bokehjs_exec.v0+json": {
       "id": "p4064"
      }
     },
     "output_type": "display_data"
    }
   ],
   "source": [
    "f = figure()\n",
    "axes = h.axes\n",
    "f.image(image=[np.transpose(h.values())], x=axes[0].edges[0], y=axes[1].edges[0],\n",
    "            dw=axes[0].edges[-1]-axes[0].edges[0], dh=axes[1].edges[-1]-axes[1].edges[0], \n",
    "            #color_mapper=bokeh.models.LinearColorMapper(palette=\"Spectral11\")\n",
    "            )\n",
    "show(f)"
   ]
  },
  {
   "cell_type": "code",
   "execution_count": 41,
   "metadata": {},
   "outputs": [
    {
     "data": {
      "text/plain": [
       "array([[1., 0.],\n",
       "       [1., 0.],\n",
       "       [2., 0.]])"
      ]
     },
     "execution_count": 41,
     "metadata": {},
     "output_type": "execute_result"
    }
   ],
   "source": [
    "np.transpose(h.values())"
   ]
  },
  {
   "cell_type": "code",
   "execution_count": null,
   "metadata": {},
   "outputs": [],
   "source": []
  }
 ],
 "metadata": {
  "kernelspec": {
   "display_name": "clustering-analysis",
   "language": "python",
   "name": "python3"
  },
  "language_info": {
   "codemirror_mode": {
    "name": "ipython",
    "version": 3
   },
   "file_extension": ".py",
   "mimetype": "text/x-python",
   "name": "python",
   "nbconvert_exporter": "python",
   "pygments_lexer": "ipython3",
   "version": "3.11.0"
  },
  "orig_nbformat": 4,
  "vscode": {
   "interpreter": {
    "hash": "10c896ab6548ca0e382769f2d191d2d67a17ef71ee81cba382c78f2401df2458"
   }
  }
 },
 "nbformat": 4,
 "nbformat_minor": 2
}
