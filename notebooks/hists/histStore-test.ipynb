{
 "cells": [
  {
   "cell_type": "code",
   "execution_count": 3,
   "metadata": {},
   "outputs": [],
   "source": [
    "import sys\n",
    "import numpy as np\n",
    "import matplotlib.pyplot as plt\n",
    "import mplhep as hep\n",
    "plt.style.use(hep.style.CMS)\n",
    "from hist.stack import Stack\n",
    "\n",
    "sys.path.append(\"..\")\n",
    "from HistogramLib.store import HistogramStore\n",
    "from HistogramLib.plot_manager import PlotManager\n",
    "from HistogramLib.bokeh.histogram_widget import *\n",
    "from hists.parameters import beamEnergies\n",
    "from hists.store import HistogramId\n",
    "from bokeh_apps.widgets import *"
   ]
  },
  {
   "cell_type": "code",
   "execution_count": 8,
   "metadata": {},
   "outputs": [],
   "source": [
    "hist_folder = '/grid_mnt/data_cms_upgrade/cuisset/testbeam18/clue3d/v28'\n",
    "histStore = HistogramStore(hist_folder, HistogramId)"
   ]
  },
  {
   "cell_type": "code",
   "execution_count": 15,
   "metadata": {},
   "outputs": [],
   "source": [
    "def getClue3DProjected(datatype, beamEnergy):\n",
    "    return (\n",
    "        histStore.get(HistogramId(\"Clus3DClusteredEnergy\", \"cmssw\", datatype))\n",
    "        .getHistogram(HistogramKind.COUNT)\n",
    "        [{\"beamEnergy\":hist.loc(beamEnergy), \"mainOrAllTracksters\":hist.loc(\"mainTrackster\")}]\n",
    "        .project(\"clus3D_energy\")\n",
    "    )\n",
    "def getClue2DProjected(datatype, beamEnergy):\n",
    "    return (\n",
    "        histStore.get(HistogramId(\"EnergyClustered2DPerEvent\", \"cmssw\", datatype))\n",
    "        .getHistogram(HistogramKind.COUNT)\n",
    "        [{\"beamEnergy\":hist.loc(beamEnergy)}]\n",
    "        .project(\"clus2D_energy_sum\")\n",
    "    )\n",
    "def getRechitsProjected(datatype, beamEnergy):\n",
    "    return (\n",
    "        histStore.get(HistogramId(\"RechitsTotalEnergyPerEvent\", \"cmssw\", datatype))\n",
    "        .getHistogram(HistogramKind.COUNT)\n",
    "        [{\"beamEnergy\":hist.loc(beamEnergy)}]\n",
    "        .project(\"rechits_energy_sum\")\n",
    "    )"
   ]
  },
  {
   "cell_type": "code",
   "execution_count": 11,
   "metadata": {},
   "outputs": [
    {
     "data": {
      "text/plain": [
       "Hist(\n",
       "  IntCategory([20, 30, 50, 80, 100, 120, 150, 200, 250, 300], name='beamEnergy', label='Beam energy (GeV)'),\n",
       "  StrCategory(['allTracksters', 'mainTrackster'], name='mainOrAllTracksters', label='For 3D clusters, whether to consider for each event all 3D clusters (allTracksters) or only the highest energy 3D cluster (mainTrackster)'),\n",
       "  Integer(1, 10, name='clus3D_size', label='3D cluster size ie number of 2D clusters that make out this 3D cluster'),\n",
       "  StrCategory(['0.68', '0.9', '0.95'], name='intervalEnergyFraction', label='Computing the shortest interval that holds at least this fraction of 3D cluster energy'),\n",
       "  Integer(0, 30, name='intervalFractionEnergy_minLayer', label='Minimum layer of smallest interval holding at least fraction of 3D cluster energy'),\n",
       "  storage=Double()) # Sum: 444.0 (12759.0 with flow)"
      ]
     },
     "execution_count": 11,
     "metadata": {},
     "output_type": "execute_result"
    }
   ],
   "source": [
    "h = histStore.get(HistogramId(\"Clus3DIntervalHoldingFractionOfEnergy_Min\", \"single-file\", \"data\")).getHistogram(HistogramKind.COUNT)\n",
    "h"
   ]
  },
  {
   "cell_type": "code",
   "execution_count": null,
   "metadata": {},
   "outputs": [],
   "source": [
    "h[{\"beamEnergy\":hist.loc(beamEnergy)}]"
   ]
  },
  {
   "cell_type": "code",
   "execution_count": 21,
   "metadata": {},
   "outputs": [
    {
     "data": {
      "text/html": [
       "<html>\n",
       "<div style=\"display:flex; align-items:center;\">\n",
       "<div style=\"width:290px;\">\n",
       "<svg xmlns=\"http://www.w3.org/2000/svg\" viewBox=\"-20 -270 290 290\">\n",
       "<text text-anchor=\"middle\" x=\"0\" y=\"13\" style=\"fill:currentColor;\">\n",
       "0\n",
       "</text>\n",
       "<text text-anchor=\"middle\" x=\"250\" y=\"13\" style=\"fill:currentColor;\">\n",
       "3\n",
       "</text>\n",
       "<text text-anchor=\"middle\" x=\"-10\" y=\"0\" style=\"fill:currentColor;\">\n",
       "0\n",
       "</text>\n",
       "<text text-anchor=\"middle\" x=\"-10\" y=\"-250\" style=\"fill:currentColor;\">\n",
       "30\n",
       "</text>\n",
       "<text text-anchor=\"middle\" x=\"125.0\" y=\"13\" style=\"fill:currentColor;\">\n",
       "Computing the shortest interval that holds at least this fraction of 3D cluster energy\n",
       "</text>\n",
       "<text text-anchor=\"middle\" x=\"-10\" y=\"-125.0\" transform=\"rotate(-90,-10,-125.0)\" style=\"fill:currentColor;\">\n",
       "Minimum layer of smallest interval holding at least fraction of 3D cluster energy\n",
       "</text>\n",
       "<rect x=\"0.0\" y=\"-8.333333333333334\" width=\"83.333\" height=\"8.333\" opacity=\"0.0\" fill=\"currentColor\" stroke-width=\"0.1\"/>\n",
       "<rect x=\"83.33333333333333\" y=\"-8.333333333333334\" width=\"83.333\" height=\"8.333\" opacity=\"0.0\" fill=\"currentColor\" stroke-width=\"0.1\"/>\n",
       "<rect x=\"166.66666666666666\" y=\"-8.333333333333334\" width=\"83.333\" height=\"8.333\" opacity=\"0.0\" fill=\"currentColor\" stroke-width=\"0.1\"/>\n",
       "<rect x=\"0.0\" y=\"-16.666666666666668\" width=\"83.333\" height=\"8.333\" opacity=\"1.0\" fill=\"currentColor\" stroke-width=\"0.1\"/>\n",
       "<rect x=\"83.33333333333333\" y=\"-16.666666666666668\" width=\"83.333\" height=\"8.333\" opacity=\"1.0\" fill=\"currentColor\" stroke-width=\"0.1\"/>\n",
       "<rect x=\"166.66666666666666\" y=\"-16.666666666666668\" width=\"83.333\" height=\"8.333\" opacity=\"1.0\" fill=\"currentColor\" stroke-width=\"0.1\"/>\n",
       "<rect x=\"0.0\" y=\"-25.0\" width=\"83.333\" height=\"8.333\" opacity=\"0.8421645997745209\" fill=\"currentColor\" stroke-width=\"0.1\"/>\n",
       "<rect x=\"83.33333333333333\" y=\"-25.0\" width=\"83.333\" height=\"8.333\" opacity=\"0.8421645997745209\" fill=\"currentColor\" stroke-width=\"0.1\"/>\n",
       "<rect x=\"166.66666666666666\" y=\"-25.0\" width=\"83.333\" height=\"8.333\" opacity=\"0.8421645997745209\" fill=\"currentColor\" stroke-width=\"0.1\"/>\n",
       "<rect x=\"0.0\" y=\"-33.333333333333336\" width=\"83.333\" height=\"8.333\" opacity=\"0.3618940248027057\" fill=\"currentColor\" stroke-width=\"0.1\"/>\n",
       "<rect x=\"83.33333333333333\" y=\"-33.333333333333336\" width=\"83.333\" height=\"8.333\" opacity=\"0.3618940248027057\" fill=\"currentColor\" stroke-width=\"0.1\"/>\n",
       "<rect x=\"166.66666666666666\" y=\"-33.333333333333336\" width=\"83.333\" height=\"8.333\" opacity=\"0.3618940248027057\" fill=\"currentColor\" stroke-width=\"0.1\"/>\n",
       "<rect x=\"0.0\" y=\"-41.666666666666664\" width=\"83.333\" height=\"8.333\" opacity=\"0.043968432919954906\" fill=\"currentColor\" stroke-width=\"0.1\"/>\n",
       "<rect x=\"83.33333333333333\" y=\"-41.666666666666664\" width=\"83.333\" height=\"8.333\" opacity=\"0.043968432919954906\" fill=\"currentColor\" stroke-width=\"0.1\"/>\n",
       "<rect x=\"166.66666666666666\" y=\"-41.666666666666664\" width=\"83.333\" height=\"8.333\" opacity=\"0.043968432919954906\" fill=\"currentColor\" stroke-width=\"0.1\"/>\n",
       "<rect x=\"0.0\" y=\"-50.0\" width=\"83.333\" height=\"8.333\" opacity=\"0.011273957158962795\" fill=\"currentColor\" stroke-width=\"0.1\"/>\n",
       "<rect x=\"83.33333333333333\" y=\"-50.0\" width=\"83.333\" height=\"8.333\" opacity=\"0.011273957158962795\" fill=\"currentColor\" stroke-width=\"0.1\"/>\n",
       "<rect x=\"166.66666666666666\" y=\"-50.0\" width=\"83.333\" height=\"8.333\" opacity=\"0.011273957158962795\" fill=\"currentColor\" stroke-width=\"0.1\"/>\n",
       "<rect x=\"0.0\" y=\"-58.333333333333336\" width=\"83.333\" height=\"8.333\" opacity=\"0.002254791431792559\" fill=\"currentColor\" stroke-width=\"0.1\"/>\n",
       "<rect x=\"83.33333333333333\" y=\"-58.333333333333336\" width=\"83.333\" height=\"8.333\" opacity=\"0.002254791431792559\" fill=\"currentColor\" stroke-width=\"0.1\"/>\n",
       "<rect x=\"166.66666666666666\" y=\"-58.333333333333336\" width=\"83.333\" height=\"8.333\" opacity=\"0.002254791431792559\" fill=\"currentColor\" stroke-width=\"0.1\"/>\n",
       "<rect x=\"0.0\" y=\"-66.66666666666667\" width=\"83.333\" height=\"8.333\" opacity=\"0.0011273957158962795\" fill=\"currentColor\" stroke-width=\"0.1\"/>\n",
       "<rect x=\"83.33333333333333\" y=\"-66.66666666666667\" width=\"83.333\" height=\"8.333\" opacity=\"0.0011273957158962795\" fill=\"currentColor\" stroke-width=\"0.1\"/>\n",
       "<rect x=\"166.66666666666666\" y=\"-66.66666666666667\" width=\"83.333\" height=\"8.333\" opacity=\"0.0011273957158962795\" fill=\"currentColor\" stroke-width=\"0.1\"/>\n",
       "<rect x=\"0.0\" y=\"-75.0\" width=\"83.333\" height=\"8.333\" opacity=\"0.0\" fill=\"currentColor\" stroke-width=\"0.1\"/>\n",
       "<rect x=\"83.33333333333333\" y=\"-75.0\" width=\"83.333\" height=\"8.333\" opacity=\"0.0\" fill=\"currentColor\" stroke-width=\"0.1\"/>\n",
       "<rect x=\"166.66666666666666\" y=\"-75.0\" width=\"83.333\" height=\"8.333\" opacity=\"0.0\" fill=\"currentColor\" stroke-width=\"0.1\"/>\n",
       "<rect x=\"0.0\" y=\"-83.33333333333333\" width=\"83.333\" height=\"8.333\" opacity=\"0.0\" fill=\"currentColor\" stroke-width=\"0.1\"/>\n",
       "<rect x=\"83.33333333333333\" y=\"-83.33333333333333\" width=\"83.333\" height=\"8.333\" opacity=\"0.0\" fill=\"currentColor\" stroke-width=\"0.1\"/>\n",
       "<rect x=\"166.66666666666666\" y=\"-83.33333333333333\" width=\"83.333\" height=\"8.333\" opacity=\"0.0\" fill=\"currentColor\" stroke-width=\"0.1\"/>\n",
       "<rect x=\"0.0\" y=\"-91.66666666666666\" width=\"83.333\" height=\"8.333\" opacity=\"0.0\" fill=\"currentColor\" stroke-width=\"0.1\"/>\n",
       "<rect x=\"83.33333333333333\" y=\"-91.66666666666666\" width=\"83.333\" height=\"8.333\" opacity=\"0.0\" fill=\"currentColor\" stroke-width=\"0.1\"/>\n",
       "<rect x=\"166.66666666666666\" y=\"-91.66666666666666\" width=\"83.333\" height=\"8.333\" opacity=\"0.0\" fill=\"currentColor\" stroke-width=\"0.1\"/>\n",
       "<rect x=\"0.0\" y=\"-100.0\" width=\"83.333\" height=\"8.333\" opacity=\"0.0\" fill=\"currentColor\" stroke-width=\"0.1\"/>\n",
       "<rect x=\"83.33333333333333\" y=\"-100.0\" width=\"83.333\" height=\"8.333\" opacity=\"0.0\" fill=\"currentColor\" stroke-width=\"0.1\"/>\n",
       "<rect x=\"166.66666666666666\" y=\"-100.0\" width=\"83.333\" height=\"8.333\" opacity=\"0.0\" fill=\"currentColor\" stroke-width=\"0.1\"/>\n",
       "<rect x=\"0.0\" y=\"-108.33333333333334\" width=\"83.333\" height=\"8.333\" opacity=\"0.0\" fill=\"currentColor\" stroke-width=\"0.1\"/>\n",
       "<rect x=\"83.33333333333333\" y=\"-108.33333333333334\" width=\"83.333\" height=\"8.333\" opacity=\"0.0\" fill=\"currentColor\" stroke-width=\"0.1\"/>\n",
       "<rect x=\"166.66666666666666\" y=\"-108.33333333333334\" width=\"83.333\" height=\"8.333\" opacity=\"0.0\" fill=\"currentColor\" stroke-width=\"0.1\"/>\n",
       "<rect x=\"0.0\" y=\"-116.66666666666667\" width=\"83.333\" height=\"8.333\" opacity=\"0.0\" fill=\"currentColor\" stroke-width=\"0.1\"/>\n",
       "<rect x=\"83.33333333333333\" y=\"-116.66666666666667\" width=\"83.333\" height=\"8.333\" opacity=\"0.0\" fill=\"currentColor\" stroke-width=\"0.1\"/>\n",
       "<rect x=\"166.66666666666666\" y=\"-116.66666666666667\" width=\"83.333\" height=\"8.333\" opacity=\"0.0\" fill=\"currentColor\" stroke-width=\"0.1\"/>\n",
       "<rect x=\"0.0\" y=\"-125.0\" width=\"83.333\" height=\"8.333\" opacity=\"0.0\" fill=\"currentColor\" stroke-width=\"0.1\"/>\n",
       "<rect x=\"83.33333333333333\" y=\"-125.0\" width=\"83.333\" height=\"8.333\" opacity=\"0.0\" fill=\"currentColor\" stroke-width=\"0.1\"/>\n",
       "<rect x=\"166.66666666666666\" y=\"-125.0\" width=\"83.333\" height=\"8.333\" opacity=\"0.0\" fill=\"currentColor\" stroke-width=\"0.1\"/>\n",
       "<rect x=\"0.0\" y=\"-133.33333333333334\" width=\"83.333\" height=\"8.333\" opacity=\"0.0\" fill=\"currentColor\" stroke-width=\"0.1\"/>\n",
       "<rect x=\"83.33333333333333\" y=\"-133.33333333333334\" width=\"83.333\" height=\"8.333\" opacity=\"0.0\" fill=\"currentColor\" stroke-width=\"0.1\"/>\n",
       "<rect x=\"166.66666666666666\" y=\"-133.33333333333334\" width=\"83.333\" height=\"8.333\" opacity=\"0.0\" fill=\"currentColor\" stroke-width=\"0.1\"/>\n",
       "<rect x=\"0.0\" y=\"-141.66666666666666\" width=\"83.333\" height=\"8.333\" opacity=\"0.0\" fill=\"currentColor\" stroke-width=\"0.1\"/>\n",
       "<rect x=\"83.33333333333333\" y=\"-141.66666666666666\" width=\"83.333\" height=\"8.333\" opacity=\"0.0\" fill=\"currentColor\" stroke-width=\"0.1\"/>\n",
       "<rect x=\"166.66666666666666\" y=\"-141.66666666666666\" width=\"83.333\" height=\"8.333\" opacity=\"0.0\" fill=\"currentColor\" stroke-width=\"0.1\"/>\n",
       "<rect x=\"0.0\" y=\"-150.0\" width=\"83.333\" height=\"8.333\" opacity=\"0.0\" fill=\"currentColor\" stroke-width=\"0.1\"/>\n",
       "<rect x=\"83.33333333333333\" y=\"-150.0\" width=\"83.333\" height=\"8.333\" opacity=\"0.0\" fill=\"currentColor\" stroke-width=\"0.1\"/>\n",
       "<rect x=\"166.66666666666666\" y=\"-150.0\" width=\"83.333\" height=\"8.333\" opacity=\"0.0\" fill=\"currentColor\" stroke-width=\"0.1\"/>\n",
       "<rect x=\"0.0\" y=\"-158.33333333333331\" width=\"83.333\" height=\"8.333\" opacity=\"0.0\" fill=\"currentColor\" stroke-width=\"0.1\"/>\n",
       "<rect x=\"83.33333333333333\" y=\"-158.33333333333331\" width=\"83.333\" height=\"8.333\" opacity=\"0.0\" fill=\"currentColor\" stroke-width=\"0.1\"/>\n",
       "<rect x=\"166.66666666666666\" y=\"-158.33333333333331\" width=\"83.333\" height=\"8.333\" opacity=\"0.0\" fill=\"currentColor\" stroke-width=\"0.1\"/>\n",
       "<rect x=\"0.0\" y=\"-166.66666666666666\" width=\"83.333\" height=\"8.333\" opacity=\"0.0\" fill=\"currentColor\" stroke-width=\"0.1\"/>\n",
       "<rect x=\"83.33333333333333\" y=\"-166.66666666666666\" width=\"83.333\" height=\"8.333\" opacity=\"0.0\" fill=\"currentColor\" stroke-width=\"0.1\"/>\n",
       "<rect x=\"166.66666666666666\" y=\"-166.66666666666666\" width=\"83.333\" height=\"8.333\" opacity=\"0.0\" fill=\"currentColor\" stroke-width=\"0.1\"/>\n",
       "<rect x=\"0.0\" y=\"-175.0\" width=\"83.333\" height=\"8.333\" opacity=\"0.0\" fill=\"currentColor\" stroke-width=\"0.1\"/>\n",
       "<rect x=\"83.33333333333333\" y=\"-175.0\" width=\"83.333\" height=\"8.333\" opacity=\"0.0\" fill=\"currentColor\" stroke-width=\"0.1\"/>\n",
       "<rect x=\"166.66666666666666\" y=\"-175.0\" width=\"83.333\" height=\"8.333\" opacity=\"0.0\" fill=\"currentColor\" stroke-width=\"0.1\"/>\n",
       "<rect x=\"0.0\" y=\"-183.33333333333331\" width=\"83.333\" height=\"8.333\" opacity=\"0.0\" fill=\"currentColor\" stroke-width=\"0.1\"/>\n",
       "<rect x=\"83.33333333333333\" y=\"-183.33333333333331\" width=\"83.333\" height=\"8.333\" opacity=\"0.0\" fill=\"currentColor\" stroke-width=\"0.1\"/>\n",
       "<rect x=\"166.66666666666666\" y=\"-183.33333333333331\" width=\"83.333\" height=\"8.333\" opacity=\"0.0\" fill=\"currentColor\" stroke-width=\"0.1\"/>\n",
       "<rect x=\"0.0\" y=\"-191.66666666666669\" width=\"83.333\" height=\"8.333\" opacity=\"0.0\" fill=\"currentColor\" stroke-width=\"0.1\"/>\n",
       "<rect x=\"83.33333333333333\" y=\"-191.66666666666669\" width=\"83.333\" height=\"8.333\" opacity=\"0.0\" fill=\"currentColor\" stroke-width=\"0.1\"/>\n",
       "<rect x=\"166.66666666666666\" y=\"-191.66666666666669\" width=\"83.333\" height=\"8.333\" opacity=\"0.0\" fill=\"currentColor\" stroke-width=\"0.1\"/>\n",
       "<rect x=\"0.0\" y=\"-200.0\" width=\"83.333\" height=\"8.333\" opacity=\"0.0\" fill=\"currentColor\" stroke-width=\"0.1\"/>\n",
       "<rect x=\"83.33333333333333\" y=\"-200.0\" width=\"83.333\" height=\"8.333\" opacity=\"0.0\" fill=\"currentColor\" stroke-width=\"0.1\"/>\n",
       "<rect x=\"166.66666666666666\" y=\"-200.0\" width=\"83.333\" height=\"8.333\" opacity=\"0.0\" fill=\"currentColor\" stroke-width=\"0.1\"/>\n",
       "<rect x=\"0.0\" y=\"-208.33333333333334\" width=\"83.333\" height=\"8.333\" opacity=\"0.0\" fill=\"currentColor\" stroke-width=\"0.1\"/>\n",
       "<rect x=\"83.33333333333333\" y=\"-208.33333333333334\" width=\"83.333\" height=\"8.333\" opacity=\"0.0\" fill=\"currentColor\" stroke-width=\"0.1\"/>\n",
       "<rect x=\"166.66666666666666\" y=\"-208.33333333333334\" width=\"83.333\" height=\"8.333\" opacity=\"0.0\" fill=\"currentColor\" stroke-width=\"0.1\"/>\n",
       "<rect x=\"0.0\" y=\"-216.66666666666669\" width=\"83.333\" height=\"8.333\" opacity=\"0.0\" fill=\"currentColor\" stroke-width=\"0.1\"/>\n",
       "<rect x=\"83.33333333333333\" y=\"-216.66666666666669\" width=\"83.333\" height=\"8.333\" opacity=\"0.0\" fill=\"currentColor\" stroke-width=\"0.1\"/>\n",
       "<rect x=\"166.66666666666666\" y=\"-216.66666666666669\" width=\"83.333\" height=\"8.333\" opacity=\"0.0\" fill=\"currentColor\" stroke-width=\"0.1\"/>\n",
       "<rect x=\"0.0\" y=\"-225.0\" width=\"83.333\" height=\"8.333\" opacity=\"0.0\" fill=\"currentColor\" stroke-width=\"0.1\"/>\n",
       "<rect x=\"83.33333333333333\" y=\"-225.0\" width=\"83.333\" height=\"8.333\" opacity=\"0.0\" fill=\"currentColor\" stroke-width=\"0.1\"/>\n",
       "<rect x=\"166.66666666666666\" y=\"-225.0\" width=\"83.333\" height=\"8.333\" opacity=\"0.0\" fill=\"currentColor\" stroke-width=\"0.1\"/>\n",
       "<rect x=\"0.0\" y=\"-233.33333333333334\" width=\"83.333\" height=\"8.333\" opacity=\"0.0\" fill=\"currentColor\" stroke-width=\"0.1\"/>\n",
       "<rect x=\"83.33333333333333\" y=\"-233.33333333333334\" width=\"83.333\" height=\"8.333\" opacity=\"0.0\" fill=\"currentColor\" stroke-width=\"0.1\"/>\n",
       "<rect x=\"166.66666666666666\" y=\"-233.33333333333334\" width=\"83.333\" height=\"8.333\" opacity=\"0.0\" fill=\"currentColor\" stroke-width=\"0.1\"/>\n",
       "<rect x=\"0.0\" y=\"-241.66666666666666\" width=\"83.333\" height=\"8.333\" opacity=\"0.0\" fill=\"currentColor\" stroke-width=\"0.1\"/>\n",
       "<rect x=\"83.33333333333333\" y=\"-241.66666666666666\" width=\"83.333\" height=\"8.333\" opacity=\"0.0\" fill=\"currentColor\" stroke-width=\"0.1\"/>\n",
       "<rect x=\"166.66666666666666\" y=\"-241.66666666666666\" width=\"83.333\" height=\"8.333\" opacity=\"0.0\" fill=\"currentColor\" stroke-width=\"0.1\"/>\n",
       "<rect x=\"0.0\" y=\"-250.0\" width=\"83.333\" height=\"8.333\" opacity=\"0.0\" fill=\"currentColor\" stroke-width=\"0.1\"/>\n",
       "<rect x=\"83.33333333333333\" y=\"-250.0\" width=\"83.333\" height=\"8.333\" opacity=\"0.0\" fill=\"currentColor\" stroke-width=\"0.1\"/>\n",
       "<rect x=\"166.66666666666666\" y=\"-250.0\" width=\"83.333\" height=\"8.333\" opacity=\"0.0\" fill=\"currentColor\" stroke-width=\"0.1\"/>\n",
       "</svg>\n",
       "</div>\n",
       "<div style=\"flex=grow:1;\">\n",
       "StrCategory(['0.68', '0.9', '0.95'], name='intervalEnergyFraction', label='Computing the shortest interval that holds at least this fraction of 3D cluster energy')<br/>\n",
       "Integer(0, 30, name='intervalFractionEnergy_minLayer', label='Minimum layer of smallest interval holding at least fraction of 3D cluster energy')<br/>\n",
       "<hr style=\"margin-top:.2em; margin-bottom:.2em;\"/>\n",
       "Double() Σ=6021.0\n",
       "\n",
       "</div>\n",
       "</div>\n",
       "</html>"
      ],
      "text/plain": [
       "Hist(\n",
       "  StrCategory(['0.68', '0.9', '0.95'], name='intervalEnergyFraction', label='Computing the shortest interval that holds at least this fraction of 3D cluster energy'),\n",
       "  Integer(0, 30, name='intervalFractionEnergy_minLayer', label='Minimum layer of smallest interval holding at least fraction of 3D cluster energy'),\n",
       "  storage=Double()) # Sum: 6021.0"
      ]
     },
     "execution_count": 21,
     "metadata": {},
     "output_type": "execute_result"
    }
   ],
   "source": [
    "from hist import loc\n",
    "# 'beamEnergy': [loc(20), loc(30), loc(50), loc(80), loc(100), loc(120), loc(150), loc(200), loc(250), loc(300)]\n",
    "h[{'beamEnergy': loc(20), \n",
    "'mainOrAllTracksters': loc(\"mainTrackster\"), \n",
    "'clus3D_size': slice(loc(1), None, sum), \n",
    "#'intervalEnergyFraction': loc(\"0.68\")\n",
    "}]"
   ]
  },
  {
   "cell_type": "code",
   "execution_count": null,
   "metadata": {},
   "outputs": [],
   "source": []
  }
 ],
 "metadata": {
  "kernelspec": {
   "display_name": "clustering-analysis",
   "language": "python",
   "name": "python3"
  },
  "language_info": {
   "codemirror_mode": {
    "name": "ipython",
    "version": 3
   },
   "file_extension": ".py",
   "mimetype": "text/x-python",
   "name": "python",
   "nbconvert_exporter": "python",
   "pygments_lexer": "ipython3",
   "version": "3.11.0"
  },
  "orig_nbformat": 4
 },
 "nbformat": 4,
 "nbformat_minor": 2
}
