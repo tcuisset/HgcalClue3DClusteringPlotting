{
 "cells": [
  {
   "cell_type": "code",
   "execution_count": 26,
   "metadata": {},
   "outputs": [],
   "source": [
    "import pandas as pd\n",
    "import uproot\n",
    "import os\n",
    "import awkward as ak\n",
    "import matplotlib.pyplot as plt\n",
    "import numpy as np\n",
    "#%matplotlib widget"
   ]
  },
  {
   "cell_type": "code",
   "execution_count": 27,
   "metadata": {},
   "outputs": [],
   "source": [
    "os.system(\"/opt/exp_soft/cms/t3/eos-login -username tcuisset\")\n",
    "#Data 100 GeV\n",
    "input_file = '/eos/cms/store/group/dpg_hgcal/tb_hgcal/2018/cern_h2_october/offline_analysis/ntuples/v16/ntuple_484.root'\n",
    "\n",
    "# Simulation 100 GeV v3 (sim_proton)\n",
    "input_file = '/eos/cms/store/group/dpg_hgcal/tb_hgcal/2018/cern_h2_october/offline_analysis/sim_ntuples/CMSSW11_0_withAHCAL_newBeamline/FTFP_BERT_EMN/v3/electrons/ntuple_sim_config22_pdgID11_beamMomentum100_listFTFP_BERT_EMN_0000_1.root'\n",
    "\n",
    "# Simulation 100 GeV v5 (sim_noproton)\n",
    "#input_file = '/eos/cms/store/group/dpg_hgcal/tb_hgcal/2018/cern_h2_october/offline_analysis/sim_ntuples/CMSSW11_0_withAHCAL_newBeamline/FTFP_BERT_EMN/v5/electrons/ntuple_sim_config22_pdgID11_beamMomentum100_listFTFP_BERT_EMN_0000_1.root'\n",
    "\n",
    "# Simulation 100 GeV v7 (with proton)\n",
    "#input_file = '/eos/cms/store/group/dpg_hgcal/tb_hgcal/2018/cern_h2_october/offline_analysis/sim_ntuples/CMSSW11_0_withAHCAL_newBeamline/FTFP_BERT_EMN/v7_33m/electrons/ntuple_sim_config22_pdgID11_beamMomentum100_listFTFP_BERT_EMN_0000_1.root'\n",
    "for array_i in uproot.iterate(input_file + \":trackimpactntupler/impactPoints\", step_size=\"10MB\", library=\"ak\"):\n",
    "    array_impact = array_i\n",
    "    break"
   ]
  },
  {
   "cell_type": "code",
   "execution_count": 28,
   "metadata": {},
   "outputs": [],
   "source": [
    "for array_i in uproot.iterate(input_file + \":rechitntupler/hits\", step_size=\"20MB\", library=\"ak\",\n",
    "    filter_name=[\"event\", 'rechit_detid',\n",
    "       'rechit_module', 'rechit_layer', 'rechit_chip', 'rechit_channel',\n",
    "       'rechit_x', 'rechit_y', 'rechit_z', 'rechit_energy']):\n",
    "    array_hits = array_i\n",
    "    break"
   ]
  },
  {
   "cell_type": "code",
   "execution_count": 29,
   "metadata": {},
   "outputs": [],
   "source": [
    "df_hits = ak.to_dataframe(array_hits, levelname=lambda i : {0 : \"event_minus_one\", 1:\"rechit_id\"}[i]).reset_index(level=1).reset_index(level=0, drop=True).set_index(\"event\")\n",
    "df_impact = ak.to_dataframe(array_impact, levelname=lambda i: {0 : \"event_minus_one\"}[i]).reset_index(drop=True).set_index(\"event\")\n",
    "df_full = pd.merge(df_hits, df_impact, on=\"event\").set_index(\"rechit_id\", append=True)"
   ]
  },
  {
   "cell_type": "code",
   "execution_count": 30,
   "metadata": {},
   "outputs": [
    {
     "data": {
      "text/plain": [
       "True     2214110\n",
       "False     105201\n",
       "dtype: int64"
      ]
     },
     "execution_count": 30,
     "metadata": {},
     "output_type": "execute_result"
    }
   ],
   "source": [
    "#Selections taken from Matteo Bonanomi : https://github.com/bonanomi/HGCALStandaloneAnalysis/blob/master/setup/reader.py\n",
    "hit_sel = (\n",
    "    (df_full.rechit_energy > 0.5) # Half-a-MIP cut\n",
    "    # Kill faulty chips\n",
    "    & (df_full.ntracks == 1) & (df_full.dwcReferenceType == 13)\n",
    "    & ~((df_full.rechit_chip == 3) & (df_full.rechit_channel == 22)) & ~((df_full.rechit_module == 78) & (df_full.rechit_chip == 0)) & (((df_full.rechit_layer != 37) & (df_full.rechit_layer != 36)))\n",
    "    & (df_full.ntracks == 1) & (df_full.dwcReferenceType == 13)\n",
    ")\n",
    "hit_sel.value_counts()"
   ]
  },
  {
   "cell_type": "code",
   "execution_count": 31,
   "metadata": {},
   "outputs": [],
   "source": [
    "df_selected = df_full[hit_sel]"
   ]
  },
  {
   "cell_type": "code",
   "execution_count": 32,
   "metadata": {},
   "outputs": [
    {
     "data": {
      "text/plain": [
       "False    1471687\n",
       "True      742423\n",
       "Name: b_x, dtype: int64"
      ]
     },
     "execution_count": 32,
     "metadata": {},
     "output_type": "execute_result"
    }
   ],
   "source": [
    "(abs(df_selected.b_x+2.7)>=1.).value_counts()"
   ]
  },
  {
   "cell_type": "code",
   "execution_count": 33,
   "metadata": {},
   "outputs": [
    {
     "data": {
      "text/plain": [
       "<Axes: >"
      ]
     },
     "execution_count": 33,
     "metadata": {},
     "output_type": "execute_result"
    },
    {
     "data": {
      "image/png": "[encoded data removed]",
      "text/plain": [
       "<Figure size 640x480 with 1 Axes>"
      ]
     },
     "metadata": {},
     "output_type": "display_data"
    }
   ],
   "source": [
    "df_selected.trackChi2_X[df_selected.trackChi2_X < 100].hist(bins=100)"
   ]
  },
  {
   "cell_type": "code",
   "execution_count": null,
   "metadata": {},
   "outputs": [],
   "source": []
  }
 ],
 "metadata": {
  "kernelspec": {
   "display_name": "clustering-analysis",
   "language": "python",
   "name": "python3"
  },
  "language_info": {
   "codemirror_mode": {
    "name": "ipython",
    "version": 3
   },
   "file_extension": ".py",
   "mimetype": "text/x-python",
   "name": "python",
   "nbconvert_exporter": "python",
   "pygments_lexer": "ipython3",
   "version": "3.11.0"
  },
  "orig_nbformat": 4
 },
 "nbformat": 4,
 "nbformat_minor": 2
}
