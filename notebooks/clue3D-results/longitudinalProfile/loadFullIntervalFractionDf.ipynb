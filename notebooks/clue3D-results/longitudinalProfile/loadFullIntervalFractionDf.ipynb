{
 "cells": [
  {
   "cell_type": "code",
   "execution_count": null,
   "metadata": {},
   "outputs": [],
   "source": [
    "import sys\n",
    "from dataclasses import dataclass\n",
    "from enum import Enum, auto\n",
    "import copy\n",
    "\n",
    "import uproot\n",
    "import numpy as np\n",
    "import pandas as pd\n",
    "import matplotlib.pyplot as plt\n",
    "import matplotlib.ticker\n",
    "import mplhep as hep\n",
    "plt.style.use(hep.style.CMS)\n",
    "import hist\n",
    "\n",
    "sys.path.append(\"../../..\")\n",
    "from HistogramLib.histogram import HistogramKind\n",
    "from HistogramLib.store import HistogramStore\n",
    "from hists.parameters import beamEnergies\n",
    "from hists.store import HistogramId\n",
    "from hists.dataframe import DataframeComputations"
   ]
  },
  {
   "cell_type": "code",
   "execution_count": null,
   "metadata": {},
   "outputs": [],
   "source": [
    "input_file = '/data_cms_upgrade/cuisset/testbeam18/clue3d/v28/cmssw/data/CLUE_clusters.root'\n",
    "df = None\n",
    "for array_i in uproot.iterate(input_file + \":clusters\", step_size=\"100MB\", library=\"ak\"):\n",
    "    comp = DataframeComputations(array_i)\n",
    "    new_df = (comp.clusters3D_intervalHoldingFractionOfEnergy_joined(fraction=0.68)\n",
    "        .loc[comp.clusters3D_largestClusterIndex]\n",
    "        [[ \"beamEnergy\",\"intervalFractionEnergy_minLayer\",\"intervalFractionEnergy_maxLayer\",\"intervalFractionEnergy_length\"]]\n",
    "    )\n",
    "    if df is not None:\n",
    "        df = pd.concat([df, new_df])\n",
    "    else:\n",
    "        df = new_df"
   ]
  }
 ],
 "metadata": {
  "language_info": {
   "name": "python"
  },
  "orig_nbformat": 4
 },
 "nbformat": 4,
 "nbformat_minor": 2
}
