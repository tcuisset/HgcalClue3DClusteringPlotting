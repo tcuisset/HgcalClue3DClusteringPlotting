{
 "cells": [
  {
   "cell_type": "code",
   "execution_count": 151,
   "metadata": {},
   "outputs": [
    {
     "name": "stdout",
     "output_type": "stream",
     "text": [
      "The autoreload extension is already loaded. To reload it, use:\n",
      "  %reload_ext autoreload\n"
     ]
    }
   ],
   "source": [
    "%load_ext autoreload\n",
    "%autoreload 2\n",
    "from functools import partial\n",
    "import itertools\n",
    "import collections\n",
    "import pandas as pd\n",
    "import numpy as np\n",
    "import uproot\n",
    "import awkward as ak\n",
    "import awkward_pandas as akpd\n",
    "import sys\n",
    "sys.path.append(\"..\")\n",
    "from hists.dataframe import *\n",
    "\n",
    "import plotly.express as px\n",
    "import plotly.graph_objects as go\n",
    "import plotly.io as pio"
   ]
  },
  {
   "cell_type": "code",
   "execution_count": 2,
   "metadata": {},
   "outputs": [],
   "source": [
    "input_file = '/data_cms_upgrade/cuisset/testbeam18/clue3d/v29/single-file/data/CLUE_clusters.root'\n",
    "entryStart = 0\n",
    "entryStop = 100"
   ]
  },
  {
   "cell_type": "code",
   "execution_count": 119,
   "metadata": {},
   "outputs": [],
   "source": [
    "comp = DataframeComputations(uproot.open(input_file + \":clusters\").arrays(entry_start=entryStart, entry_stop=entryStop))"
   ]
  },
  {
   "cell_type": "code",
   "execution_count": 4,
   "metadata": {},
   "outputs": [],
   "source": [
    "event = 98"
   ]
  },
  {
   "cell_type": "code",
   "execution_count": 5,
   "metadata": {},
   "outputs": [
    {
     "data": {
      "text/html": [
       "<div>\n",
       "<style scoped>\n",
       "    .dataframe tbody tr th:only-of-type {\n",
       "        vertical-align: middle;\n",
       "    }\n",
       "\n",
       "    .dataframe tbody tr th {\n",
       "        vertical-align: top;\n",
       "    }\n",
       "\n",
       "    .dataframe thead th {\n",
       "        text-align: right;\n",
       "    }\n",
       "</style>\n",
       "<table border=\"1\" class=\"dataframe\">\n",
       "  <thead>\n",
       "    <tr style=\"text-align: right;\">\n",
       "      <th></th>\n",
       "      <th>beamEnergy</th>\n",
       "      <th>clus3D_x</th>\n",
       "      <th>clus3D_y</th>\n",
       "      <th>clus3D_z</th>\n",
       "      <th>clus3D_energy</th>\n",
       "      <th>clus3D_size</th>\n",
       "    </tr>\n",
       "    <tr>\n",
       "      <th>clus3D_id</th>\n",
       "      <th></th>\n",
       "      <th></th>\n",
       "      <th></th>\n",
       "      <th></th>\n",
       "      <th></th>\n",
       "      <th></th>\n",
       "    </tr>\n",
       "  </thead>\n",
       "  <tbody>\n",
       "    <tr>\n",
       "      <th>0</th>\n",
       "      <td>20.0</td>\n",
       "      <td>2.542433</td>\n",
       "      <td>-0.854914</td>\n",
       "      <td>21.770227</td>\n",
       "      <td>16.609020</td>\n",
       "      <td>21</td>\n",
       "    </tr>\n",
       "    <tr>\n",
       "      <th>1</th>\n",
       "      <td>20.0</td>\n",
       "      <td>2.428030</td>\n",
       "      <td>1.530388</td>\n",
       "      <td>31.837212</td>\n",
       "      <td>1.323122</td>\n",
       "      <td>8</td>\n",
       "    </tr>\n",
       "  </tbody>\n",
       "</table>\n",
       "</div>"
      ],
      "text/plain": [
       "           beamEnergy  clus3D_x  clus3D_y   clus3D_z  clus3D_energy   \n",
       "clus3D_id                                                             \n",
       "0                20.0  2.542433 -0.854914  21.770227      16.609020  \\\n",
       "1                20.0  2.428030  1.530388  31.837212       1.323122   \n",
       "\n",
       "           clus3D_size  \n",
       "clus3D_id               \n",
       "0                   21  \n",
       "1                    8  "
      ]
     },
     "execution_count": 5,
     "metadata": {},
     "output_type": "execute_result"
    }
   ],
   "source": [
    "comp.clusters3D.loc[event]"
   ]
  },
  {
   "cell_type": "code",
   "execution_count": 6,
   "metadata": {},
   "outputs": [
    {
     "data": {
      "application/json": {
       "data": [
        {
         "hovertemplate": "clus3D_x=%{x}<br>clus3D_y=%{y}<br>clus3D_z=%{z}<br>clus3D_size=%{marker.size}<br>beamEnergy=%{marker.color}<extra></extra>",
         "legendgroup": "",
         "marker": {
          "color": [
           20,
           20
          ],
          "coloraxis": "coloraxis",
          "size": [
           21,
           8
          ],
          "sizemode": "area",
          "sizeref": 0.0525,
          "symbol": "circle"
         },
         "mode": "markers",
         "name": "",
         "scene": "scene",
         "showlegend": false,
         "type": "scatter3d",
         "x": [
          2.5424327850341797,
          2.428030252456665
         ],
         "y": [
          -0.8549144864082336,
          1.5303878784179688
         ],
         "z": [
          21.770227432250977,
          31.83721160888672
         ]
        }
       ],
       "layout": {
        "coloraxis": {
         "colorbar": {
          "title": {
           "text": "beamEnergy"
          }
         },
         "colorscale": [
          [
           0,
           "#0d0887"
          ],
          [
           0.1111111111111111,
           "#46039f"
          ],
          [
           0.2222222222222222,
           "#7201a8"
          ],
          [
           0.3333333333333333,
           "#9c179e"
          ],
          [
           0.4444444444444444,
           "#bd3786"
          ],
          [
           0.5555555555555556,
           "#d8576b"
          ],
          [
           0.6666666666666666,
           "#ed7953"
          ],
          [
           0.7777777777777778,
           "#fb9f3a"
          ],
          [
           0.8888888888888888,
           "#fdca26"
          ],
          [
           1,
           "#f0f921"
          ]
         ]
        },
        "legend": {
         "itemsizing": "constant",
         "tracegroupgap": 0
        },
        "margin": {
         "t": 60
        },
        "scene": {
         "domain": {
          "x": [
           0,
           1
          ],
          "y": [
           0,
           1
          ]
         },
         "xaxis": {
          "title": {
           "text": "clus3D_x"
          }
         },
         "yaxis": {
          "title": {
           "text": "clus3D_y"
          }
         },
         "zaxis": {
          "title": {
           "text": "clus3D_z"
          }
         }
        },
        "template": {
         "data": {
          "bar": [
           {
            "error_x": {
             "color": "#2a3f5f"
            },
            "error_y": {
             "color": "#2a3f5f"
            },
            "marker": {
             "line": {
              "color": "#E5ECF6",
              "width": 0.5
             },
             "pattern": {
              "fillmode": "overlay",
              "size": 10,
              "solidity": 0.2
             }
            },
            "type": "bar"
           }
          ],
          "barpolar": [
           {
            "marker": {
             "line": {
              "color": "#E5ECF6",
              "width": 0.5
             },
             "pattern": {
              "fillmode": "overlay",
              "size": 10,
              "solidity": 0.2
             }
            },
            "type": "barpolar"
           }
          ],
          "carpet": [
           {
            "aaxis": {
             "endlinecolor": "#2a3f5f",
             "gridcolor": "white",
             "linecolor": "white",
             "minorgridcolor": "white",
             "startlinecolor": "#2a3f5f"
            },
            "baxis": {
             "endlinecolor": "#2a3f5f",
             "gridcolor": "white",
             "linecolor": "white",
             "minorgridcolor": "white",
             "startlinecolor": "#2a3f5f"
            },
            "type": "carpet"
           }
          ],
          "choropleth": [
           {
            "colorbar": {
             "outlinewidth": 0,
             "ticks": ""
            },
            "type": "choropleth"
           }
          ],
          "contour": [
           {
            "colorbar": {
             "outlinewidth": 0,
             "ticks": ""
            },
            "colorscale": [
             [
              0,
              "#0d0887"
             ],
             [
              0.1111111111111111,
              "#46039f"
             ],
             [
              0.2222222222222222,
              "#7201a8"
             ],
             [
              0.3333333333333333,
              "#9c179e"
             ],
             [
              0.4444444444444444,
              "#bd3786"
             ],
             [
              0.5555555555555556,
              "#d8576b"
             ],
             [
              0.6666666666666666,
              "#ed7953"
             ],
             [
              0.7777777777777778,
              "#fb9f3a"
             ],
             [
              0.8888888888888888,
              "#fdca26"
             ],
             [
              1,
              "#f0f921"
             ]
            ],
            "type": "contour"
           }
          ],
          "contourcarpet": [
           {
            "colorbar": {
             "outlinewidth": 0,
             "ticks": ""
            },
            "type": "contourcarpet"
           }
          ],
          "heatmap": [
           {
            "colorbar": {
             "outlinewidth": 0,
             "ticks": ""
            },
            "colorscale": [
             [
              0,
              "#0d0887"
             ],
             [
              0.1111111111111111,
              "#46039f"
             ],
             [
              0.2222222222222222,
              "#7201a8"
             ],
             [
              0.3333333333333333,
              "#9c179e"
             ],
             [
              0.4444444444444444,
              "#bd3786"
             ],
             [
              0.5555555555555556,
              "#d8576b"
             ],
             [
              0.6666666666666666,
              "#ed7953"
             ],
             [
              0.7777777777777778,
              "#fb9f3a"
             ],
             [
              0.8888888888888888,
              "#fdca26"
             ],
             [
              1,
              "#f0f921"
             ]
            ],
            "type": "heatmap"
           }
          ],
          "heatmapgl": [
           {
            "colorbar": {
             "outlinewidth": 0,
             "ticks": ""
            },
            "colorscale": [
             [
              0,
              "#0d0887"
             ],
             [
              0.1111111111111111,
              "#46039f"
             ],
             [
              0.2222222222222222,
              "#7201a8"
             ],
             [
              0.3333333333333333,
              "#9c179e"
             ],
             [
              0.4444444444444444,
              "#bd3786"
             ],
             [
              0.5555555555555556,
              "#d8576b"
             ],
             [
              0.6666666666666666,
              "#ed7953"
             ],
             [
              0.7777777777777778,
              "#fb9f3a"
             ],
             [
              0.8888888888888888,
              "#fdca26"
             ],
             [
              1,
              "#f0f921"
             ]
            ],
            "type": "heatmapgl"
           }
          ],
          "histogram": [
           {
            "marker": {
             "pattern": {
              "fillmode": "overlay",
              "size": 10,
              "solidity": 0.2
             }
            },
            "type": "histogram"
           }
          ],
          "histogram2d": [
           {
            "colorbar": {
             "outlinewidth": 0,
             "ticks": ""
            },
            "colorscale": [
             [
              0,
              "#0d0887"
             ],
             [
              0.1111111111111111,
              "#46039f"
             ],
             [
              0.2222222222222222,
              "#7201a8"
             ],
             [
              0.3333333333333333,
              "#9c179e"
             ],
             [
              0.4444444444444444,
              "#bd3786"
             ],
             [
              0.5555555555555556,
              "#d8576b"
             ],
             [
              0.6666666666666666,
              "#ed7953"
             ],
             [
              0.7777777777777778,
              "#fb9f3a"
             ],
             [
              0.8888888888888888,
              "#fdca26"
             ],
             [
              1,
              "#f0f921"
             ]
            ],
            "type": "histogram2d"
           }
          ],
          "histogram2dcontour": [
           {
            "colorbar": {
             "outlinewidth": 0,
             "ticks": ""
            },
            "colorscale": [
             [
              0,
              "#0d0887"
             ],
             [
              0.1111111111111111,
              "#46039f"
             ],
             [
              0.2222222222222222,
              "#7201a8"
             ],
             [
              0.3333333333333333,
              "#9c179e"
             ],
             [
              0.4444444444444444,
              "#bd3786"
             ],
             [
              0.5555555555555556,
              "#d8576b"
             ],
             [
              0.6666666666666666,
              "#ed7953"
             ],
             [
              0.7777777777777778,
              "#fb9f3a"
             ],
             [
              0.8888888888888888,
              "#fdca26"
             ],
             [
              1,
              "#f0f921"
             ]
            ],
            "type": "histogram2dcontour"
           }
          ],
          "mesh3d": [
           {
            "colorbar": {
             "outlinewidth": 0,
             "ticks": ""
            },
            "type": "mesh3d"
           }
          ],
          "parcoords": [
           {
            "line": {
             "colorbar": {
              "outlinewidth": 0,
              "ticks": ""
             }
            },
            "type": "parcoords"
           }
          ],
          "pie": [
           {
            "automargin": true,
            "type": "pie"
           }
          ],
          "scatter": [
           {
            "fillpattern": {
             "fillmode": "overlay",
             "size": 10,
             "solidity": 0.2
            },
            "type": "scatter"
           }
          ],
          "scatter3d": [
           {
            "line": {
             "colorbar": {
              "outlinewidth": 0,
              "ticks": ""
             }
            },
            "marker": {
             "colorbar": {
              "outlinewidth": 0,
              "ticks": ""
             }
            },
            "type": "scatter3d"
           }
          ],
          "scattercarpet": [
           {
            "marker": {
             "colorbar": {
              "outlinewidth": 0,
              "ticks": ""
             }
            },
            "type": "scattercarpet"
           }
          ],
          "scattergeo": [
           {
            "marker": {
             "colorbar": {
              "outlinewidth": 0,
              "ticks": ""
             }
            },
            "type": "scattergeo"
           }
          ],
          "scattergl": [
           {
            "marker": {
             "colorbar": {
              "outlinewidth": 0,
              "ticks": ""
             }
            },
            "type": "scattergl"
           }
          ],
          "scattermapbox": [
           {
            "marker": {
             "colorbar": {
              "outlinewidth": 0,
              "ticks": ""
             }
            },
            "type": "scattermapbox"
           }
          ],
          "scatterpolar": [
           {
            "marker": {
             "colorbar": {
              "outlinewidth": 0,
              "ticks": ""
             }
            },
            "type": "scatterpolar"
           }
          ],
          "scatterpolargl": [
           {
            "marker": {
             "colorbar": {
              "outlinewidth": 0,
              "ticks": ""
             }
            },
            "type": "scatterpolargl"
           }
          ],
          "scatterternary": [
           {
            "marker": {
             "colorbar": {
              "outlinewidth": 0,
              "ticks": ""
             }
            },
            "type": "scatterternary"
           }
          ],
          "surface": [
           {
            "colorbar": {
             "outlinewidth": 0,
             "ticks": ""
            },
            "colorscale": [
             [
              0,
              "#0d0887"
             ],
             [
              0.1111111111111111,
              "#46039f"
             ],
             [
              0.2222222222222222,
              "#7201a8"
             ],
             [
              0.3333333333333333,
              "#9c179e"
             ],
             [
              0.4444444444444444,
              "#bd3786"
             ],
             [
              0.5555555555555556,
              "#d8576b"
             ],
             [
              0.6666666666666666,
              "#ed7953"
             ],
             [
              0.7777777777777778,
              "#fb9f3a"
             ],
             [
              0.8888888888888888,
              "#fdca26"
             ],
             [
              1,
              "#f0f921"
             ]
            ],
            "type": "surface"
           }
          ],
          "table": [
           {
            "cells": {
             "fill": {
              "color": "#EBF0F8"
             },
             "line": {
              "color": "white"
             }
            },
            "header": {
             "fill": {
              "color": "#C8D4E3"
             },
             "line": {
              "color": "white"
             }
            },
            "type": "table"
           }
          ]
         },
         "layout": {
          "annotationdefaults": {
           "arrowcolor": "#2a3f5f",
           "arrowhead": 0,
           "arrowwidth": 1
          },
          "autotypenumbers": "strict",
          "coloraxis": {
           "colorbar": {
            "outlinewidth": 0,
            "ticks": ""
           }
          },
          "colorscale": {
           "diverging": [
            [
             0,
             "#8e0152"
            ],
            [
             0.1,
             "#c51b7d"
            ],
            [
             0.2,
             "#de77ae"
            ],
            [
             0.3,
             "#f1b6da"
            ],
            [
             0.4,
             "#fde0ef"
            ],
            [
             0.5,
             "#f7f7f7"
            ],
            [
             0.6,
             "#e6f5d0"
            ],
            [
             0.7,
             "#b8e186"
            ],
            [
             0.8,
             "#7fbc41"
            ],
            [
             0.9,
             "#4d9221"
            ],
            [
             1,
             "#276419"
            ]
           ],
           "sequential": [
            [
             0,
             "#0d0887"
            ],
            [
             0.1111111111111111,
             "#46039f"
            ],
            [
             0.2222222222222222,
             "#7201a8"
            ],
            [
             0.3333333333333333,
             "#9c179e"
            ],
            [
             0.4444444444444444,
             "#bd3786"
            ],
            [
             0.5555555555555556,
             "#d8576b"
            ],
            [
             0.6666666666666666,
             "#ed7953"
            ],
            [
             0.7777777777777778,
             "#fb9f3a"
            ],
            [
             0.8888888888888888,
             "#fdca26"
            ],
            [
             1,
             "#f0f921"
            ]
           ],
           "sequentialminus": [
            [
             0,
             "#0d0887"
            ],
            [
             0.1111111111111111,
             "#46039f"
            ],
            [
             0.2222222222222222,
             "#7201a8"
            ],
            [
             0.3333333333333333,
             "#9c179e"
            ],
            [
             0.4444444444444444,
             "#bd3786"
            ],
            [
             0.5555555555555556,
             "#d8576b"
            ],
            [
             0.6666666666666666,
             "#ed7953"
            ],
            [
             0.7777777777777778,
             "#fb9f3a"
            ],
            [
             0.8888888888888888,
             "#fdca26"
            ],
            [
             1,
             "#f0f921"
            ]
           ]
          },
          "colorway": [
           "#636efa",
           "#EF553B",
           "#00cc96",
           "#ab63fa",
           "#FFA15A",
           "#19d3f3",
           "#FF6692",
           "#B6E880",
           "#FF97FF",
           "#FECB52"
          ],
          "font": {
           "color": "#2a3f5f"
          },
          "geo": {
           "bgcolor": "white",
           "lakecolor": "white",
           "landcolor": "#E5ECF6",
           "showlakes": true,
           "showland": true,
           "subunitcolor": "white"
          },
          "hoverlabel": {
           "align": "left"
          },
          "hovermode": "closest",
          "mapbox": {
           "style": "light"
          },
          "paper_bgcolor": "white",
          "plot_bgcolor": "#E5ECF6",
          "polar": {
           "angularaxis": {
            "gridcolor": "white",
            "linecolor": "white",
            "ticks": ""
           },
           "bgcolor": "#E5ECF6",
           "radialaxis": {
            "gridcolor": "white",
            "linecolor": "white",
            "ticks": ""
           }
          },
          "scene": {
           "xaxis": {
            "backgroundcolor": "#E5ECF6",
            "gridcolor": "white",
            "gridwidth": 2,
            "linecolor": "white",
            "showbackground": true,
            "ticks": "",
            "zerolinecolor": "white"
           },
           "yaxis": {
            "backgroundcolor": "#E5ECF6",
            "gridcolor": "white",
            "gridwidth": 2,
            "linecolor": "white",
            "showbackground": true,
            "ticks": "",
            "zerolinecolor": "white"
           },
           "zaxis": {
            "backgroundcolor": "#E5ECF6",
            "gridcolor": "white",
            "gridwidth": 2,
            "linecolor": "white",
            "showbackground": true,
            "ticks": "",
            "zerolinecolor": "white"
           }
          },
          "shapedefaults": {
           "line": {
            "color": "#2a3f5f"
           }
          },
          "ternary": {
           "aaxis": {
            "gridcolor": "white",
            "linecolor": "white",
            "ticks": ""
           },
           "baxis": {
            "gridcolor": "white",
            "linecolor": "white",
            "ticks": ""
           },
           "bgcolor": "#E5ECF6",
           "caxis": {
            "gridcolor": "white",
            "linecolor": "white",
            "ticks": ""
           }
          },
          "title": {
           "x": 0.05
          },
          "xaxis": {
           "automargin": true,
           "gridcolor": "white",
           "linecolor": "white",
           "ticks": "",
           "title": {
            "standoff": 15
           },
           "zerolinecolor": "white",
           "zerolinewidth": 2
          },
          "yaxis": {
           "automargin": true,
           "gridcolor": "white",
           "linecolor": "white",
           "ticks": "",
           "title": {
            "standoff": 15
           },
           "zerolinecolor": "white",
           "zerolinewidth": 2
          }
         }
        }
       }
      }
     },
     "metadata": {},
     "output_type": "display_data"
    }
   ],
   "source": [
    "px.scatter_3d(comp.clusters3D.loc[event], x=\"clus3D_x\", y=\"clus3D_y\", z=\"clus3D_z\", size=\"clus3D_size\", color=\"beamEnergy\").show(\"json\")"
   ]
  },
  {
   "cell_type": "code",
   "execution_count": 224,
   "metadata": {},
   "outputs": [],
   "source": [
    "fig = go.Figure(\n",
    "    layout=go.Layout(\n",
    "        title=go.layout.Title(text=\"Event visualizer\"),\n",
    "        width=1200,\n",
    "        height=600\n",
    "    )\n",
    ")\n",
    "camera = dict(\n",
    "    eye=dict(x=0., y=0., z=2.5)\n",
    ")\n",
    "fig.update_layout(scene_camera=camera)\n",
    "fig.update_layout(legend=dict(groupclick=\"togglegroup\"))\n",
    "\n",
    "df = comp.clusters3D.loc[event]\n",
    "\n",
    "color_cycle = itertools.cycle(px.colors.qualitative.Plotly)\n",
    "mapClus3Did_color = {clus3D_id : next(color_cycle) for clus3D_id in df.index.get_level_values(0).drop_duplicates().to_list()}\n",
    "\n",
    "fig.add_trace(go.Scatter3d(\n",
    "    name=\"3D tracksters\",\n",
    "    x=df[\"clus3D_x\"], y=df[\"clus3D_y\"], z=df[\"clus3D_z\"], \n",
    "    mode=\"markers\",\n",
    "    marker=dict(\n",
    "        symbol=\"cross\",\n",
    "        color=list(mapClus3Did_color.values()),\n",
    "        size=df[\"clus3D_size\"]*2,\n",
    "    ),\n",
    "    hovertemplate=\"clus3D_x=%{x}<br>clus3D_y=%{y}<br>clus3D_z=%{z}<br>clus3D_size=%{marker.size}<extra></extra>\",\n",
    "    )\n",
    ")\n",
    "None"
   ]
  },
  {
   "cell_type": "code",
   "execution_count": 225,
   "metadata": {},
   "outputs": [
    {
     "data": {
      "text/html": [
       "<div>\n",
       "<style scoped>\n",
       "    .dataframe tbody tr th:only-of-type {\n",
       "        vertical-align: middle;\n",
       "    }\n",
       "\n",
       "    .dataframe tbody tr th {\n",
       "        vertical-align: top;\n",
       "    }\n",
       "\n",
       "    .dataframe thead th {\n",
       "        text-align: right;\n",
       "    }\n",
       "</style>\n",
       "<table border=\"1\" class=\"dataframe\">\n",
       "  <thead>\n",
       "    <tr style=\"text-align: right;\">\n",
       "      <th></th>\n",
       "      <th></th>\n",
       "      <th>beamEnergy</th>\n",
       "      <th>clus3D_energy</th>\n",
       "      <th>clus3D_size</th>\n",
       "      <th>beamEnergy_from_2D_clusters</th>\n",
       "      <th>clus2D_x</th>\n",
       "      <th>clus2D_y</th>\n",
       "      <th>clus2D_z</th>\n",
       "      <th>clus2D_energy</th>\n",
       "      <th>clus2D_layer</th>\n",
       "      <th>clus2D_size</th>\n",
       "      <th>clus2D_rho</th>\n",
       "      <th>clus2D_delta</th>\n",
       "      <th>clus2D_nearestHigher</th>\n",
       "      <th>clus2D_pointType</th>\n",
       "      <th>clus2D_x_ofNearestHigher</th>\n",
       "      <th>clus2D_y_ofNearestHigher</th>\n",
       "      <th>clus2D_z_ofNearestHigher</th>\n",
       "    </tr>\n",
       "    <tr>\n",
       "      <th>clus3D_id</th>\n",
       "      <th>clus2D_id</th>\n",
       "      <th></th>\n",
       "      <th></th>\n",
       "      <th></th>\n",
       "      <th></th>\n",
       "      <th></th>\n",
       "      <th></th>\n",
       "      <th></th>\n",
       "      <th></th>\n",
       "      <th></th>\n",
       "      <th></th>\n",
       "      <th></th>\n",
       "      <th></th>\n",
       "      <th></th>\n",
       "      <th></th>\n",
       "      <th></th>\n",
       "      <th></th>\n",
       "      <th></th>\n",
       "    </tr>\n",
       "  </thead>\n",
       "  <tbody>\n",
       "    <tr>\n",
       "      <th rowspan=\"21\" valign=\"top\">0</th>\n",
       "      <th>0</th>\n",
       "      <td>20.0</td>\n",
       "      <td>16.609020</td>\n",
       "      <td>21</td>\n",
       "      <td>20.0</td>\n",
       "      <td>2.055046</td>\n",
       "      <td>-0.680097</td>\n",
       "      <td>13.877500</td>\n",
       "      <td>0.306686</td>\n",
       "      <td>1</td>\n",
       "      <td>3</td>\n",
       "      <td>1.019150</td>\n",
       "      <td>9.363358e-02</td>\n",
       "      <td>3</td>\n",
       "      <td>0</td>\n",
       "      <td>2.082390</td>\n",
       "      <td>-0.769649</td>\n",
       "      <td>17.672501</td>\n",
       "    </tr>\n",
       "    <tr>\n",
       "      <th>1</th>\n",
       "      <td>20.0</td>\n",
       "      <td>16.609020</td>\n",
       "      <td>21</td>\n",
       "      <td>20.0</td>\n",
       "      <td>2.316857</td>\n",
       "      <td>-0.809796</td>\n",
       "      <td>14.767500</td>\n",
       "      <td>0.799716</td>\n",
       "      <td>2</td>\n",
       "      <td>7</td>\n",
       "      <td>1.825104</td>\n",
       "      <td>2.378799e-01</td>\n",
       "      <td>3</td>\n",
       "      <td>0</td>\n",
       "      <td>2.082390</td>\n",
       "      <td>-0.769649</td>\n",
       "      <td>17.672501</td>\n",
       "    </tr>\n",
       "    <tr>\n",
       "      <th>2</th>\n",
       "      <td>20.0</td>\n",
       "      <td>16.609020</td>\n",
       "      <td>21</td>\n",
       "      <td>20.0</td>\n",
       "      <td>2.027748</td>\n",
       "      <td>-0.901947</td>\n",
       "      <td>16.782499</td>\n",
       "      <td>1.299209</td>\n",
       "      <td>3</td>\n",
       "      <td>14</td>\n",
       "      <td>2.563523</td>\n",
       "      <td>1.431375e-01</td>\n",
       "      <td>3</td>\n",
       "      <td>0</td>\n",
       "      <td>2.082390</td>\n",
       "      <td>-0.769649</td>\n",
       "      <td>17.672501</td>\n",
       "    </tr>\n",
       "    <tr>\n",
       "      <th>3</th>\n",
       "      <td>20.0</td>\n",
       "      <td>16.609020</td>\n",
       "      <td>21</td>\n",
       "      <td>20.0</td>\n",
       "      <td>2.082390</td>\n",
       "      <td>-0.769649</td>\n",
       "      <td>17.672501</td>\n",
       "      <td>1.463391</td>\n",
       "      <td>4</td>\n",
       "      <td>9</td>\n",
       "      <td>2.967123</td>\n",
       "      <td>5.257880e-01</td>\n",
       "      <td>5</td>\n",
       "      <td>0</td>\n",
       "      <td>2.593240</td>\n",
       "      <td>-0.894090</td>\n",
       "      <td>20.577499</td>\n",
       "    </tr>\n",
       "    <tr>\n",
       "      <th>4</th>\n",
       "      <td>20.0</td>\n",
       "      <td>16.609020</td>\n",
       "      <td>21</td>\n",
       "      <td>20.0</td>\n",
       "      <td>2.755037</td>\n",
       "      <td>-1.005114</td>\n",
       "      <td>19.687500</td>\n",
       "      <td>2.057656</td>\n",
       "      <td>5</td>\n",
       "      <td>16</td>\n",
       "      <td>3.724012</td>\n",
       "      <td>3.402823e+38</td>\n",
       "      <td>-1</td>\n",
       "      <td>1</td>\n",
       "      <td>NaN</td>\n",
       "      <td>NaN</td>\n",
       "      <td>NaN</td>\n",
       "    </tr>\n",
       "    <tr>\n",
       "      <th>5</th>\n",
       "      <td>20.0</td>\n",
       "      <td>16.609020</td>\n",
       "      <td>21</td>\n",
       "      <td>20.0</td>\n",
       "      <td>2.593240</td>\n",
       "      <td>-0.894090</td>\n",
       "      <td>20.577499</td>\n",
       "      <td>1.694119</td>\n",
       "      <td>6</td>\n",
       "      <td>11</td>\n",
       "      <td>3.563307</td>\n",
       "      <td>1.962270e-01</td>\n",
       "      <td>4</td>\n",
       "      <td>0</td>\n",
       "      <td>2.755037</td>\n",
       "      <td>-1.005114</td>\n",
       "      <td>19.687500</td>\n",
       "    </tr>\n",
       "    <tr>\n",
       "      <th>6</th>\n",
       "      <td>20.0</td>\n",
       "      <td>16.609020</td>\n",
       "      <td>21</td>\n",
       "      <td>20.0</td>\n",
       "      <td>2.879277</td>\n",
       "      <td>-1.055012</td>\n",
       "      <td>22.692499</td>\n",
       "      <td>1.361271</td>\n",
       "      <td>7</td>\n",
       "      <td>17</td>\n",
       "      <td>3.221716</td>\n",
       "      <td>1.338853e-01</td>\n",
       "      <td>4</td>\n",
       "      <td>0</td>\n",
       "      <td>2.755037</td>\n",
       "      <td>-1.005114</td>\n",
       "      <td>19.687500</td>\n",
       "    </tr>\n",
       "    <tr>\n",
       "      <th>7</th>\n",
       "      <td>20.0</td>\n",
       "      <td>16.609020</td>\n",
       "      <td>21</td>\n",
       "      <td>20.0</td>\n",
       "      <td>2.447807</td>\n",
       "      <td>-0.781836</td>\n",
       "      <td>23.582500</td>\n",
       "      <td>1.714076</td>\n",
       "      <td>8</td>\n",
       "      <td>13</td>\n",
       "      <td>3.482796</td>\n",
       "      <td>1.837158e-01</td>\n",
       "      <td>5</td>\n",
       "      <td>0</td>\n",
       "      <td>2.593240</td>\n",
       "      <td>-0.894090</td>\n",
       "      <td>20.577499</td>\n",
       "    </tr>\n",
       "    <tr>\n",
       "      <th>8</th>\n",
       "      <td>20.0</td>\n",
       "      <td>16.609020</td>\n",
       "      <td>21</td>\n",
       "      <td>20.0</td>\n",
       "      <td>5.695515</td>\n",
       "      <td>-0.918263</td>\n",
       "      <td>23.582500</td>\n",
       "      <td>0.028838</td>\n",
       "      <td>8</td>\n",
       "      <td>2</td>\n",
       "      <td>0.028838</td>\n",
       "      <td>2.819556e+00</td>\n",
       "      <td>6</td>\n",
       "      <td>0</td>\n",
       "      <td>2.879277</td>\n",
       "      <td>-1.055012</td>\n",
       "      <td>22.692499</td>\n",
       "    </tr>\n",
       "    <tr>\n",
       "      <th>9</th>\n",
       "      <td>20.0</td>\n",
       "      <td>16.609020</td>\n",
       "      <td>21</td>\n",
       "      <td>20.0</td>\n",
       "      <td>2.812366</td>\n",
       "      <td>-0.627161</td>\n",
       "      <td>25.697500</td>\n",
       "      <td>1.450336</td>\n",
       "      <td>9</td>\n",
       "      <td>22</td>\n",
       "      <td>2.988883</td>\n",
       "      <td>3.453510e-01</td>\n",
       "      <td>5</td>\n",
       "      <td>0</td>\n",
       "      <td>2.593240</td>\n",
       "      <td>-0.894090</td>\n",
       "      <td>20.577499</td>\n",
       "    </tr>\n",
       "    <tr>\n",
       "      <th>10</th>\n",
       "      <td>20.0</td>\n",
       "      <td>16.609020</td>\n",
       "      <td>21</td>\n",
       "      <td>20.0</td>\n",
       "      <td>2.662548</td>\n",
       "      <td>-0.753012</td>\n",
       "      <td>26.587500</td>\n",
       "      <td>0.922647</td>\n",
       "      <td>10</td>\n",
       "      <td>15</td>\n",
       "      <td>2.227909</td>\n",
       "      <td>1.394342e-01</td>\n",
       "      <td>12</td>\n",
       "      <td>0</td>\n",
       "      <td>2.525317</td>\n",
       "      <td>-0.728320</td>\n",
       "      <td>28.702499</td>\n",
       "    </tr>\n",
       "    <tr>\n",
       "      <th>11</th>\n",
       "      <td>20.0</td>\n",
       "      <td>16.609020</td>\n",
       "      <td>21</td>\n",
       "      <td>20.0</td>\n",
       "      <td>1.223113</td>\n",
       "      <td>-3.881627</td>\n",
       "      <td>26.587500</td>\n",
       "      <td>0.089504</td>\n",
       "      <td>10</td>\n",
       "      <td>5</td>\n",
       "      <td>0.089504</td>\n",
       "      <td>3.262274e+00</td>\n",
       "      <td>14</td>\n",
       "      <td>0</td>\n",
       "      <td>2.480366</td>\n",
       "      <td>-0.871353</td>\n",
       "      <td>29.592501</td>\n",
       "    </tr>\n",
       "    <tr>\n",
       "      <th>12</th>\n",
       "      <td>20.0</td>\n",
       "      <td>16.609020</td>\n",
       "      <td>21</td>\n",
       "      <td>20.0</td>\n",
       "      <td>2.525317</td>\n",
       "      <td>-0.728320</td>\n",
       "      <td>28.702499</td>\n",
       "      <td>1.357572</td>\n",
       "      <td>11</td>\n",
       "      <td>22</td>\n",
       "      <td>2.414187</td>\n",
       "      <td>9.418975e-02</td>\n",
       "      <td>7</td>\n",
       "      <td>0</td>\n",
       "      <td>2.447807</td>\n",
       "      <td>-0.781836</td>\n",
       "      <td>23.582500</td>\n",
       "    </tr>\n",
       "    <tr>\n",
       "      <th>14</th>\n",
       "      <td>20.0</td>\n",
       "      <td>16.609020</td>\n",
       "      <td>21</td>\n",
       "      <td>20.0</td>\n",
       "      <td>2.480366</td>\n",
       "      <td>-0.871353</td>\n",
       "      <td>29.592501</td>\n",
       "      <td>0.643054</td>\n",
       "      <td>12</td>\n",
       "      <td>15</td>\n",
       "      <td>1.587184</td>\n",
       "      <td>1.499300e-01</td>\n",
       "      <td>12</td>\n",
       "      <td>0</td>\n",
       "      <td>2.525317</td>\n",
       "      <td>-0.728320</td>\n",
       "      <td>28.702499</td>\n",
       "    </tr>\n",
       "    <tr>\n",
       "      <th>17</th>\n",
       "      <td>20.0</td>\n",
       "      <td>16.609020</td>\n",
       "      <td>21</td>\n",
       "      <td>20.0</td>\n",
       "      <td>2.552563</td>\n",
       "      <td>-0.850558</td>\n",
       "      <td>32.397499</td>\n",
       "      <td>0.552962</td>\n",
       "      <td>14</td>\n",
       "      <td>11</td>\n",
       "      <td>1.101722</td>\n",
       "      <td>7.513247e-02</td>\n",
       "      <td>14</td>\n",
       "      <td>0</td>\n",
       "      <td>2.480366</td>\n",
       "      <td>-0.871353</td>\n",
       "      <td>29.592501</td>\n",
       "    </tr>\n",
       "    <tr>\n",
       "      <th>20</th>\n",
       "      <td>20.0</td>\n",
       "      <td>16.609020</td>\n",
       "      <td>21</td>\n",
       "      <td>20.0</td>\n",
       "      <td>3.105797</td>\n",
       "      <td>-2.128780</td>\n",
       "      <td>34.312500</td>\n",
       "      <td>0.437128</td>\n",
       "      <td>15</td>\n",
       "      <td>12</td>\n",
       "      <td>0.741352</td>\n",
       "      <td>1.392810e+00</td>\n",
       "      <td>17</td>\n",
       "      <td>0</td>\n",
       "      <td>2.552563</td>\n",
       "      <td>-0.850558</td>\n",
       "      <td>32.397499</td>\n",
       "    </tr>\n",
       "    <tr>\n",
       "      <th>21</th>\n",
       "      <td>20.0</td>\n",
       "      <td>16.609020</td>\n",
       "      <td>21</td>\n",
       "      <td>20.0</td>\n",
       "      <td>-0.441109</td>\n",
       "      <td>-2.894973</td>\n",
       "      <td>34.312500</td>\n",
       "      <td>0.040313</td>\n",
       "      <td>15</td>\n",
       "      <td>2</td>\n",
       "      <td>0.040313</td>\n",
       "      <td>3.025355e+00</td>\n",
       "      <td>26</td>\n",
       "      <td>0</td>\n",
       "      <td>2.263122</td>\n",
       "      <td>-1.538540</td>\n",
       "      <td>38.007500</td>\n",
       "    </tr>\n",
       "    <tr>\n",
       "      <th>24</th>\n",
       "      <td>20.0</td>\n",
       "      <td>16.609020</td>\n",
       "      <td>21</td>\n",
       "      <td>20.0</td>\n",
       "      <td>3.612226</td>\n",
       "      <td>-0.969255</td>\n",
       "      <td>37.117500</td>\n",
       "      <td>0.145974</td>\n",
       "      <td>17</td>\n",
       "      <td>3</td>\n",
       "      <td>0.386051</td>\n",
       "      <td>1.066290e+00</td>\n",
       "      <td>17</td>\n",
       "      <td>0</td>\n",
       "      <td>2.552563</td>\n",
       "      <td>-0.850558</td>\n",
       "      <td>32.397499</td>\n",
       "    </tr>\n",
       "    <tr>\n",
       "      <th>26</th>\n",
       "      <td>20.0</td>\n",
       "      <td>16.609020</td>\n",
       "      <td>21</td>\n",
       "      <td>20.0</td>\n",
       "      <td>2.263122</td>\n",
       "      <td>-1.538540</td>\n",
       "      <td>38.007500</td>\n",
       "      <td>0.179128</td>\n",
       "      <td>18</td>\n",
       "      <td>5</td>\n",
       "      <td>0.321173</td>\n",
       "      <td>1.028827e+00</td>\n",
       "      <td>20</td>\n",
       "      <td>0</td>\n",
       "      <td>3.105797</td>\n",
       "      <td>-2.128780</td>\n",
       "      <td>34.312500</td>\n",
       "    </tr>\n",
       "    <tr>\n",
       "      <th>28</th>\n",
       "      <td>20.0</td>\n",
       "      <td>16.609020</td>\n",
       "      <td>21</td>\n",
       "      <td>20.0</td>\n",
       "      <td>2.943513</td>\n",
       "      <td>-1.971638</td>\n",
       "      <td>39.922501</td>\n",
       "      <td>0.031166</td>\n",
       "      <td>19</td>\n",
       "      <td>2</td>\n",
       "      <td>0.103041</td>\n",
       "      <td>8.065394e-01</td>\n",
       "      <td>26</td>\n",
       "      <td>0</td>\n",
       "      <td>2.263122</td>\n",
       "      <td>-1.538540</td>\n",
       "      <td>38.007500</td>\n",
       "    </tr>\n",
       "    <tr>\n",
       "      <th>29</th>\n",
       "      <td>20.0</td>\n",
       "      <td>16.609020</td>\n",
       "      <td>21</td>\n",
       "      <td>20.0</td>\n",
       "      <td>2.457757</td>\n",
       "      <td>-2.832009</td>\n",
       "      <td>44.037498</td>\n",
       "      <td>0.034273</td>\n",
       "      <td>22</td>\n",
       "      <td>2</td>\n",
       "      <td>0.040506</td>\n",
       "      <td>9.880266e-01</td>\n",
       "      <td>28</td>\n",
       "      <td>0</td>\n",
       "      <td>2.943513</td>\n",
       "      <td>-1.971638</td>\n",
       "      <td>39.922501</td>\n",
       "    </tr>\n",
       "    <tr>\n",
       "      <th rowspan=\"8\" valign=\"top\">1</th>\n",
       "      <th>15</th>\n",
       "      <td>20.0</td>\n",
       "      <td>1.323122</td>\n",
       "      <td>8</td>\n",
       "      <td>20.0</td>\n",
       "      <td>2.182559</td>\n",
       "      <td>3.169369</td>\n",
       "      <td>29.592501</td>\n",
       "      <td>0.098103</td>\n",
       "      <td>12</td>\n",
       "      <td>3</td>\n",
       "      <td>0.274044</td>\n",
       "      <td>1.717020e+00</td>\n",
       "      <td>16</td>\n",
       "      <td>0</td>\n",
       "      <td>2.653811</td>\n",
       "      <td>1.518285</td>\n",
       "      <td>31.507500</td>\n",
       "    </tr>\n",
       "    <tr>\n",
       "      <th>16</th>\n",
       "      <td>20.0</td>\n",
       "      <td>1.323122</td>\n",
       "      <td>8</td>\n",
       "      <td>20.0</td>\n",
       "      <td>2.653811</td>\n",
       "      <td>1.518285</td>\n",
       "      <td>31.507500</td>\n",
       "      <td>0.879705</td>\n",
       "      <td>13</td>\n",
       "      <td>26</td>\n",
       "      <td>0.918474</td>\n",
       "      <td>2.250276e+00</td>\n",
       "      <td>12</td>\n",
       "      <td>1</td>\n",
       "      <td>NaN</td>\n",
       "      <td>NaN</td>\n",
       "      <td>NaN</td>\n",
       "    </tr>\n",
       "    <tr>\n",
       "      <th>18</th>\n",
       "      <td>20.0</td>\n",
       "      <td>1.323122</td>\n",
       "      <td>8</td>\n",
       "      <td>20.0</td>\n",
       "      <td>-1.034200</td>\n",
       "      <td>0.960055</td>\n",
       "      <td>32.397499</td>\n",
       "      <td>0.077196</td>\n",
       "      <td>14</td>\n",
       "      <td>3</td>\n",
       "      <td>0.077196</td>\n",
       "      <td>2.483346e+00</td>\n",
       "      <td>22</td>\n",
       "      <td>0</td>\n",
       "      <td>1.387759</td>\n",
       "      <td>0.411310</td>\n",
       "      <td>35.202499</td>\n",
       "    </tr>\n",
       "    <tr>\n",
       "      <th>19</th>\n",
       "      <td>20.0</td>\n",
       "      <td>1.323122</td>\n",
       "      <td>8</td>\n",
       "      <td>20.0</td>\n",
       "      <td>4.287487</td>\n",
       "      <td>1.626473</td>\n",
       "      <td>34.312500</td>\n",
       "      <td>0.031624</td>\n",
       "      <td>15</td>\n",
       "      <td>2</td>\n",
       "      <td>0.218993</td>\n",
       "      <td>1.637254e+00</td>\n",
       "      <td>16</td>\n",
       "      <td>0</td>\n",
       "      <td>2.653811</td>\n",
       "      <td>1.518285</td>\n",
       "      <td>31.507500</td>\n",
       "    </tr>\n",
       "    <tr>\n",
       "      <th>22</th>\n",
       "      <td>20.0</td>\n",
       "      <td>1.323122</td>\n",
       "      <td>8</td>\n",
       "      <td>20.0</td>\n",
       "      <td>1.387759</td>\n",
       "      <td>0.411310</td>\n",
       "      <td>35.202499</td>\n",
       "      <td>0.064113</td>\n",
       "      <td>16</td>\n",
       "      <td>4</td>\n",
       "      <td>0.373695</td>\n",
       "      <td>1.681749e+00</td>\n",
       "      <td>16</td>\n",
       "      <td>0</td>\n",
       "      <td>2.653811</td>\n",
       "      <td>1.518285</td>\n",
       "      <td>31.507500</td>\n",
       "    </tr>\n",
       "    <tr>\n",
       "      <th>23</th>\n",
       "      <td>20.0</td>\n",
       "      <td>1.323122</td>\n",
       "      <td>8</td>\n",
       "      <td>20.0</td>\n",
       "      <td>3.408330</td>\n",
       "      <td>1.621898</td>\n",
       "      <td>37.117500</td>\n",
       "      <td>0.057138</td>\n",
       "      <td>17</td>\n",
       "      <td>2</td>\n",
       "      <td>0.063462</td>\n",
       "      <td>8.791687e-01</td>\n",
       "      <td>19</td>\n",
       "      <td>0</td>\n",
       "      <td>4.287487</td>\n",
       "      <td>1.626473</td>\n",
       "      <td>34.312500</td>\n",
       "    </tr>\n",
       "    <tr>\n",
       "      <th>25</th>\n",
       "      <td>20.0</td>\n",
       "      <td>1.323122</td>\n",
       "      <td>8</td>\n",
       "      <td>20.0</td>\n",
       "      <td>1.390570</td>\n",
       "      <td>-0.009483</td>\n",
       "      <td>37.117500</td>\n",
       "      <td>0.095959</td>\n",
       "      <td>17</td>\n",
       "      <td>2</td>\n",
       "      <td>0.259056</td>\n",
       "      <td>4.208026e-01</td>\n",
       "      <td>22</td>\n",
       "      <td>0</td>\n",
       "      <td>1.387759</td>\n",
       "      <td>0.411310</td>\n",
       "      <td>35.202499</td>\n",
       "    </tr>\n",
       "    <tr>\n",
       "      <th>27</th>\n",
       "      <td>20.0</td>\n",
       "      <td>1.323122</td>\n",
       "      <td>8</td>\n",
       "      <td>20.0</td>\n",
       "      <td>0.994660</td>\n",
       "      <td>0.915074</td>\n",
       "      <td>38.007500</td>\n",
       "      <td>0.019284</td>\n",
       "      <td>18</td>\n",
       "      <td>2</td>\n",
       "      <td>0.051298</td>\n",
       "      <td>6.389872e-01</td>\n",
       "      <td>22</td>\n",
       "      <td>0</td>\n",
       "      <td>1.387759</td>\n",
       "      <td>0.411310</td>\n",
       "      <td>35.202499</td>\n",
       "    </tr>\n",
       "  </tbody>\n",
       "</table>\n",
       "</div>"
      ],
      "text/plain": [
       "                     beamEnergy  ...  clus2D_z_ofNearestHigher\n",
       "clus3D_id clus2D_id              ...                          \n",
       "0         0                20.0  ...                 17.672501\n",
       "          1                20.0  ...                 17.672501\n",
       "          2                20.0  ...                 17.672501\n",
       "          3                20.0  ...                 20.577499\n",
       "          4                20.0  ...                       NaN\n",
       "          5                20.0  ...                 19.687500\n",
       "          6                20.0  ...                 19.687500\n",
       "          7                20.0  ...                 20.577499\n",
       "          8                20.0  ...                 22.692499\n",
       "          9                20.0  ...                 20.577499\n",
       "          10               20.0  ...                 28.702499\n",
       "          11               20.0  ...                 29.592501\n",
       "          12               20.0  ...                 23.582500\n",
       "          14               20.0  ...                 28.702499\n",
       "          17               20.0  ...                 29.592501\n",
       "          20               20.0  ...                 32.397499\n",
       "          21               20.0  ...                 38.007500\n",
       "          24               20.0  ...                 32.397499\n",
       "          26               20.0  ...                 34.312500\n",
       "          28               20.0  ...                 38.007500\n",
       "          29               20.0  ...                 39.922501\n",
       "1         15               20.0  ...                 31.507500\n",
       "          16               20.0  ...                       NaN\n",
       "          18               20.0  ...                 35.202499\n",
       "          19               20.0  ...                 31.507500\n",
       "          22               20.0  ...                 31.507500\n",
       "          23               20.0  ...                 34.312500\n",
       "          25               20.0  ...                 35.202499\n",
       "          27               20.0  ...                 35.202499\n",
       "\n",
       "[29 rows x 17 columns]"
      ]
     },
     "execution_count": 225,
     "metadata": {},
     "output_type": "execute_result"
    }
   ],
   "source": [
    "df = (comp\n",
    "    .clusters3D_merged_2D_custom(comp.clusters3D_with_clus2D_id, comp.clusters2D_withNearestHigher)\n",
    "    .set_index([\"event\", \"clus3D_id\", \"clus2D_id\"])\n",
    "    .loc[event]\n",
    ")\n",
    "df = df.join(df[[\"clus2D_x\", \"clus2D_y\", \"clus2D_z\"]], on=[\"clus3D_id\", \"clus2D_nearestHigher\"], rsuffix=\"_ofNearestHigher\")\n",
    "df"
   ]
  },
  {
   "cell_type": "code",
   "execution_count": 226,
   "metadata": {},
   "outputs": [
    {
     "data": {
      "text/html": [
       "<div>\n",
       "<style scoped>\n",
       "    .dataframe tbody tr th:only-of-type {\n",
       "        vertical-align: middle;\n",
       "    }\n",
       "\n",
       "    .dataframe tbody tr th {\n",
       "        vertical-align: top;\n",
       "    }\n",
       "\n",
       "    .dataframe thead th {\n",
       "        text-align: right;\n",
       "    }\n",
       "</style>\n",
       "<table border=\"1\" class=\"dataframe\">\n",
       "  <thead>\n",
       "    <tr style=\"text-align: right;\">\n",
       "      <th></th>\n",
       "      <th></th>\n",
       "      <th>beamEnergy</th>\n",
       "      <th>clus3D_energy</th>\n",
       "      <th>clus3D_size</th>\n",
       "      <th>beamEnergy_from_2D_clusters</th>\n",
       "      <th>clus2D_x</th>\n",
       "      <th>clus2D_y</th>\n",
       "      <th>clus2D_z</th>\n",
       "      <th>clus2D_energy</th>\n",
       "      <th>clus2D_layer</th>\n",
       "      <th>clus2D_size</th>\n",
       "      <th>clus2D_rho</th>\n",
       "      <th>clus2D_delta</th>\n",
       "      <th>clus2D_nearestHigher</th>\n",
       "      <th>clus2D_pointType</th>\n",
       "      <th>clus2D_x_ofNearestHigher</th>\n",
       "      <th>clus2D_y_ofNearestHigher</th>\n",
       "      <th>clus2D_z_ofNearestHigher</th>\n",
       "    </tr>\n",
       "    <tr>\n",
       "      <th>clus3D_id</th>\n",
       "      <th>clus2D_id</th>\n",
       "      <th></th>\n",
       "      <th></th>\n",
       "      <th></th>\n",
       "      <th></th>\n",
       "      <th></th>\n",
       "      <th></th>\n",
       "      <th></th>\n",
       "      <th></th>\n",
       "      <th></th>\n",
       "      <th></th>\n",
       "      <th></th>\n",
       "      <th></th>\n",
       "      <th></th>\n",
       "      <th></th>\n",
       "      <th></th>\n",
       "      <th></th>\n",
       "      <th></th>\n",
       "    </tr>\n",
       "  </thead>\n",
       "  <tbody>\n",
       "    <tr>\n",
       "      <th rowspan=\"21\" valign=\"top\">0</th>\n",
       "      <th>0</th>\n",
       "      <td>20.0</td>\n",
       "      <td>16.60902</td>\n",
       "      <td>21</td>\n",
       "      <td>20.0</td>\n",
       "      <td>2.055046</td>\n",
       "      <td>-0.680097</td>\n",
       "      <td>13.877500</td>\n",
       "      <td>0.306686</td>\n",
       "      <td>1</td>\n",
       "      <td>3</td>\n",
       "      <td>1.019150</td>\n",
       "      <td>9.363358e-02</td>\n",
       "      <td>3</td>\n",
       "      <td>0</td>\n",
       "      <td>2.082390</td>\n",
       "      <td>-0.769649</td>\n",
       "      <td>17.672501</td>\n",
       "    </tr>\n",
       "    <tr>\n",
       "      <th>1</th>\n",
       "      <td>20.0</td>\n",
       "      <td>16.60902</td>\n",
       "      <td>21</td>\n",
       "      <td>20.0</td>\n",
       "      <td>2.316857</td>\n",
       "      <td>-0.809796</td>\n",
       "      <td>14.767500</td>\n",
       "      <td>0.799716</td>\n",
       "      <td>2</td>\n",
       "      <td>7</td>\n",
       "      <td>1.825104</td>\n",
       "      <td>2.378799e-01</td>\n",
       "      <td>3</td>\n",
       "      <td>0</td>\n",
       "      <td>2.082390</td>\n",
       "      <td>-0.769649</td>\n",
       "      <td>17.672501</td>\n",
       "    </tr>\n",
       "    <tr>\n",
       "      <th>2</th>\n",
       "      <td>20.0</td>\n",
       "      <td>16.60902</td>\n",
       "      <td>21</td>\n",
       "      <td>20.0</td>\n",
       "      <td>2.027748</td>\n",
       "      <td>-0.901947</td>\n",
       "      <td>16.782499</td>\n",
       "      <td>1.299209</td>\n",
       "      <td>3</td>\n",
       "      <td>14</td>\n",
       "      <td>2.563523</td>\n",
       "      <td>1.431375e-01</td>\n",
       "      <td>3</td>\n",
       "      <td>0</td>\n",
       "      <td>2.082390</td>\n",
       "      <td>-0.769649</td>\n",
       "      <td>17.672501</td>\n",
       "    </tr>\n",
       "    <tr>\n",
       "      <th>3</th>\n",
       "      <td>20.0</td>\n",
       "      <td>16.60902</td>\n",
       "      <td>21</td>\n",
       "      <td>20.0</td>\n",
       "      <td>2.082390</td>\n",
       "      <td>-0.769649</td>\n",
       "      <td>17.672501</td>\n",
       "      <td>1.463391</td>\n",
       "      <td>4</td>\n",
       "      <td>9</td>\n",
       "      <td>2.967123</td>\n",
       "      <td>5.257880e-01</td>\n",
       "      <td>5</td>\n",
       "      <td>0</td>\n",
       "      <td>2.593240</td>\n",
       "      <td>-0.894090</td>\n",
       "      <td>20.577499</td>\n",
       "    </tr>\n",
       "    <tr>\n",
       "      <th>4</th>\n",
       "      <td>20.0</td>\n",
       "      <td>16.60902</td>\n",
       "      <td>21</td>\n",
       "      <td>20.0</td>\n",
       "      <td>2.755037</td>\n",
       "      <td>-1.005114</td>\n",
       "      <td>19.687500</td>\n",
       "      <td>2.057656</td>\n",
       "      <td>5</td>\n",
       "      <td>16</td>\n",
       "      <td>3.724012</td>\n",
       "      <td>3.402823e+38</td>\n",
       "      <td>-1</td>\n",
       "      <td>1</td>\n",
       "      <td>NaN</td>\n",
       "      <td>NaN</td>\n",
       "      <td>NaN</td>\n",
       "    </tr>\n",
       "    <tr>\n",
       "      <th>5</th>\n",
       "      <td>20.0</td>\n",
       "      <td>16.60902</td>\n",
       "      <td>21</td>\n",
       "      <td>20.0</td>\n",
       "      <td>2.593240</td>\n",
       "      <td>-0.894090</td>\n",
       "      <td>20.577499</td>\n",
       "      <td>1.694119</td>\n",
       "      <td>6</td>\n",
       "      <td>11</td>\n",
       "      <td>3.563307</td>\n",
       "      <td>1.962270e-01</td>\n",
       "      <td>4</td>\n",
       "      <td>0</td>\n",
       "      <td>2.755037</td>\n",
       "      <td>-1.005114</td>\n",
       "      <td>19.687500</td>\n",
       "    </tr>\n",
       "    <tr>\n",
       "      <th>6</th>\n",
       "      <td>20.0</td>\n",
       "      <td>16.60902</td>\n",
       "      <td>21</td>\n",
       "      <td>20.0</td>\n",
       "      <td>2.879277</td>\n",
       "      <td>-1.055012</td>\n",
       "      <td>22.692499</td>\n",
       "      <td>1.361271</td>\n",
       "      <td>7</td>\n",
       "      <td>17</td>\n",
       "      <td>3.221716</td>\n",
       "      <td>1.338853e-01</td>\n",
       "      <td>4</td>\n",
       "      <td>0</td>\n",
       "      <td>2.755037</td>\n",
       "      <td>-1.005114</td>\n",
       "      <td>19.687500</td>\n",
       "    </tr>\n",
       "    <tr>\n",
       "      <th>7</th>\n",
       "      <td>20.0</td>\n",
       "      <td>16.60902</td>\n",
       "      <td>21</td>\n",
       "      <td>20.0</td>\n",
       "      <td>2.447807</td>\n",
       "      <td>-0.781836</td>\n",
       "      <td>23.582500</td>\n",
       "      <td>1.714076</td>\n",
       "      <td>8</td>\n",
       "      <td>13</td>\n",
       "      <td>3.482796</td>\n",
       "      <td>1.837158e-01</td>\n",
       "      <td>5</td>\n",
       "      <td>0</td>\n",
       "      <td>2.593240</td>\n",
       "      <td>-0.894090</td>\n",
       "      <td>20.577499</td>\n",
       "    </tr>\n",
       "    <tr>\n",
       "      <th>8</th>\n",
       "      <td>20.0</td>\n",
       "      <td>16.60902</td>\n",
       "      <td>21</td>\n",
       "      <td>20.0</td>\n",
       "      <td>5.695515</td>\n",
       "      <td>-0.918263</td>\n",
       "      <td>23.582500</td>\n",
       "      <td>0.028838</td>\n",
       "      <td>8</td>\n",
       "      <td>2</td>\n",
       "      <td>0.028838</td>\n",
       "      <td>2.819556e+00</td>\n",
       "      <td>6</td>\n",
       "      <td>0</td>\n",
       "      <td>2.879277</td>\n",
       "      <td>-1.055012</td>\n",
       "      <td>22.692499</td>\n",
       "    </tr>\n",
       "    <tr>\n",
       "      <th>9</th>\n",
       "      <td>20.0</td>\n",
       "      <td>16.60902</td>\n",
       "      <td>21</td>\n",
       "      <td>20.0</td>\n",
       "      <td>2.812366</td>\n",
       "      <td>-0.627161</td>\n",
       "      <td>25.697500</td>\n",
       "      <td>1.450336</td>\n",
       "      <td>9</td>\n",
       "      <td>22</td>\n",
       "      <td>2.988883</td>\n",
       "      <td>3.453510e-01</td>\n",
       "      <td>5</td>\n",
       "      <td>0</td>\n",
       "      <td>2.593240</td>\n",
       "      <td>-0.894090</td>\n",
       "      <td>20.577499</td>\n",
       "    </tr>\n",
       "    <tr>\n",
       "      <th>10</th>\n",
       "      <td>20.0</td>\n",
       "      <td>16.60902</td>\n",
       "      <td>21</td>\n",
       "      <td>20.0</td>\n",
       "      <td>2.662548</td>\n",
       "      <td>-0.753012</td>\n",
       "      <td>26.587500</td>\n",
       "      <td>0.922647</td>\n",
       "      <td>10</td>\n",
       "      <td>15</td>\n",
       "      <td>2.227909</td>\n",
       "      <td>1.394342e-01</td>\n",
       "      <td>12</td>\n",
       "      <td>0</td>\n",
       "      <td>2.525317</td>\n",
       "      <td>-0.728320</td>\n",
       "      <td>28.702499</td>\n",
       "    </tr>\n",
       "    <tr>\n",
       "      <th>11</th>\n",
       "      <td>20.0</td>\n",
       "      <td>16.60902</td>\n",
       "      <td>21</td>\n",
       "      <td>20.0</td>\n",
       "      <td>1.223113</td>\n",
       "      <td>-3.881627</td>\n",
       "      <td>26.587500</td>\n",
       "      <td>0.089504</td>\n",
       "      <td>10</td>\n",
       "      <td>5</td>\n",
       "      <td>0.089504</td>\n",
       "      <td>3.262274e+00</td>\n",
       "      <td>14</td>\n",
       "      <td>0</td>\n",
       "      <td>2.480366</td>\n",
       "      <td>-0.871353</td>\n",
       "      <td>29.592501</td>\n",
       "    </tr>\n",
       "    <tr>\n",
       "      <th>12</th>\n",
       "      <td>20.0</td>\n",
       "      <td>16.60902</td>\n",
       "      <td>21</td>\n",
       "      <td>20.0</td>\n",
       "      <td>2.525317</td>\n",
       "      <td>-0.728320</td>\n",
       "      <td>28.702499</td>\n",
       "      <td>1.357572</td>\n",
       "      <td>11</td>\n",
       "      <td>22</td>\n",
       "      <td>2.414187</td>\n",
       "      <td>9.418975e-02</td>\n",
       "      <td>7</td>\n",
       "      <td>0</td>\n",
       "      <td>2.447807</td>\n",
       "      <td>-0.781836</td>\n",
       "      <td>23.582500</td>\n",
       "    </tr>\n",
       "    <tr>\n",
       "      <th>14</th>\n",
       "      <td>20.0</td>\n",
       "      <td>16.60902</td>\n",
       "      <td>21</td>\n",
       "      <td>20.0</td>\n",
       "      <td>2.480366</td>\n",
       "      <td>-0.871353</td>\n",
       "      <td>29.592501</td>\n",
       "      <td>0.643054</td>\n",
       "      <td>12</td>\n",
       "      <td>15</td>\n",
       "      <td>1.587184</td>\n",
       "      <td>1.499300e-01</td>\n",
       "      <td>12</td>\n",
       "      <td>0</td>\n",
       "      <td>2.525317</td>\n",
       "      <td>-0.728320</td>\n",
       "      <td>28.702499</td>\n",
       "    </tr>\n",
       "    <tr>\n",
       "      <th>17</th>\n",
       "      <td>20.0</td>\n",
       "      <td>16.60902</td>\n",
       "      <td>21</td>\n",
       "      <td>20.0</td>\n",
       "      <td>2.552563</td>\n",
       "      <td>-0.850558</td>\n",
       "      <td>32.397499</td>\n",
       "      <td>0.552962</td>\n",
       "      <td>14</td>\n",
       "      <td>11</td>\n",
       "      <td>1.101722</td>\n",
       "      <td>7.513247e-02</td>\n",
       "      <td>14</td>\n",
       "      <td>0</td>\n",
       "      <td>2.480366</td>\n",
       "      <td>-0.871353</td>\n",
       "      <td>29.592501</td>\n",
       "    </tr>\n",
       "    <tr>\n",
       "      <th>20</th>\n",
       "      <td>20.0</td>\n",
       "      <td>16.60902</td>\n",
       "      <td>21</td>\n",
       "      <td>20.0</td>\n",
       "      <td>3.105797</td>\n",
       "      <td>-2.128780</td>\n",
       "      <td>34.312500</td>\n",
       "      <td>0.437128</td>\n",
       "      <td>15</td>\n",
       "      <td>12</td>\n",
       "      <td>0.741352</td>\n",
       "      <td>1.392810e+00</td>\n",
       "      <td>17</td>\n",
       "      <td>0</td>\n",
       "      <td>2.552563</td>\n",
       "      <td>-0.850558</td>\n",
       "      <td>32.397499</td>\n",
       "    </tr>\n",
       "    <tr>\n",
       "      <th>21</th>\n",
       "      <td>20.0</td>\n",
       "      <td>16.60902</td>\n",
       "      <td>21</td>\n",
       "      <td>20.0</td>\n",
       "      <td>-0.441109</td>\n",
       "      <td>-2.894973</td>\n",
       "      <td>34.312500</td>\n",
       "      <td>0.040313</td>\n",
       "      <td>15</td>\n",
       "      <td>2</td>\n",
       "      <td>0.040313</td>\n",
       "      <td>3.025355e+00</td>\n",
       "      <td>26</td>\n",
       "      <td>0</td>\n",
       "      <td>2.263122</td>\n",
       "      <td>-1.538540</td>\n",
       "      <td>38.007500</td>\n",
       "    </tr>\n",
       "    <tr>\n",
       "      <th>24</th>\n",
       "      <td>20.0</td>\n",
       "      <td>16.60902</td>\n",
       "      <td>21</td>\n",
       "      <td>20.0</td>\n",
       "      <td>3.612226</td>\n",
       "      <td>-0.969255</td>\n",
       "      <td>37.117500</td>\n",
       "      <td>0.145974</td>\n",
       "      <td>17</td>\n",
       "      <td>3</td>\n",
       "      <td>0.386051</td>\n",
       "      <td>1.066290e+00</td>\n",
       "      <td>17</td>\n",
       "      <td>0</td>\n",
       "      <td>2.552563</td>\n",
       "      <td>-0.850558</td>\n",
       "      <td>32.397499</td>\n",
       "    </tr>\n",
       "    <tr>\n",
       "      <th>26</th>\n",
       "      <td>20.0</td>\n",
       "      <td>16.60902</td>\n",
       "      <td>21</td>\n",
       "      <td>20.0</td>\n",
       "      <td>2.263122</td>\n",
       "      <td>-1.538540</td>\n",
       "      <td>38.007500</td>\n",
       "      <td>0.179128</td>\n",
       "      <td>18</td>\n",
       "      <td>5</td>\n",
       "      <td>0.321173</td>\n",
       "      <td>1.028827e+00</td>\n",
       "      <td>20</td>\n",
       "      <td>0</td>\n",
       "      <td>3.105797</td>\n",
       "      <td>-2.128780</td>\n",
       "      <td>34.312500</td>\n",
       "    </tr>\n",
       "    <tr>\n",
       "      <th>28</th>\n",
       "      <td>20.0</td>\n",
       "      <td>16.60902</td>\n",
       "      <td>21</td>\n",
       "      <td>20.0</td>\n",
       "      <td>2.943513</td>\n",
       "      <td>-1.971638</td>\n",
       "      <td>39.922501</td>\n",
       "      <td>0.031166</td>\n",
       "      <td>19</td>\n",
       "      <td>2</td>\n",
       "      <td>0.103041</td>\n",
       "      <td>8.065394e-01</td>\n",
       "      <td>26</td>\n",
       "      <td>0</td>\n",
       "      <td>2.263122</td>\n",
       "      <td>-1.538540</td>\n",
       "      <td>38.007500</td>\n",
       "    </tr>\n",
       "    <tr>\n",
       "      <th>29</th>\n",
       "      <td>20.0</td>\n",
       "      <td>16.60902</td>\n",
       "      <td>21</td>\n",
       "      <td>20.0</td>\n",
       "      <td>2.457757</td>\n",
       "      <td>-2.832009</td>\n",
       "      <td>44.037498</td>\n",
       "      <td>0.034273</td>\n",
       "      <td>22</td>\n",
       "      <td>2</td>\n",
       "      <td>0.040506</td>\n",
       "      <td>9.880266e-01</td>\n",
       "      <td>28</td>\n",
       "      <td>0</td>\n",
       "      <td>2.943513</td>\n",
       "      <td>-1.971638</td>\n",
       "      <td>39.922501</td>\n",
       "    </tr>\n",
       "  </tbody>\n",
       "</table>\n",
       "</div>"
      ],
      "text/plain": [
       "                     beamEnergy  ...  clus2D_z_ofNearestHigher\n",
       "clus3D_id clus2D_id              ...                          \n",
       "0         0                20.0  ...                 17.672501\n",
       "          1                20.0  ...                 17.672501\n",
       "          2                20.0  ...                 17.672501\n",
       "          3                20.0  ...                 20.577499\n",
       "          4                20.0  ...                       NaN\n",
       "          5                20.0  ...                 19.687500\n",
       "          6                20.0  ...                 19.687500\n",
       "          7                20.0  ...                 20.577499\n",
       "          8                20.0  ...                 22.692499\n",
       "          9                20.0  ...                 20.577499\n",
       "          10               20.0  ...                 28.702499\n",
       "          11               20.0  ...                 29.592501\n",
       "          12               20.0  ...                 23.582500\n",
       "          14               20.0  ...                 28.702499\n",
       "          17               20.0  ...                 29.592501\n",
       "          20               20.0  ...                 32.397499\n",
       "          21               20.0  ...                 38.007500\n",
       "          24               20.0  ...                 32.397499\n",
       "          26               20.0  ...                 34.312500\n",
       "          28               20.0  ...                 38.007500\n",
       "          29               20.0  ...                 39.922501\n",
       "\n",
       "[21 rows x 17 columns]"
      ]
     },
     "execution_count": 226,
     "metadata": {},
     "output_type": "execute_result"
    }
   ],
   "source": [
    "grouped_df = df.groupby(\"clus3D_id\").get_group(0)\n",
    "grouped_df"
   ]
  },
  {
   "cell_type": "code",
   "execution_count": 227,
   "metadata": {},
   "outputs": [],
   "source": [
    "def makeArrow(x1, x2, y1, y2, z1, z2, dictLine=dict(), dictCone=dict()):\n",
    "    traces = []\n",
    "    try:\n",
    "        lengthFactor = 1./math.sqrt((x2-x1)**2 + (y2-y1)**2 + (z2-z1)**2)\n",
    "        traces.append(go.Scatter3d(\n",
    "            **collections.ChainMap(dictLine, dict( # Give preference to keywords from arguments over those specified here\n",
    "                mode=\"lines\",\n",
    "                hoverinfo='skip',\n",
    "                x=[x1, x2],\n",
    "                y=[y1, y2],\n",
    "                z=[z1, z2]\n",
    "            ))\n",
    "        ))\n",
    "        traces.append(go.Cone(\n",
    "            **collections.ChainMap(dictCone, dict(\n",
    "                x=[x2], y=[y2], z=[z2],\n",
    "                u=[lengthFactor*(x2-x1)],\n",
    "                v=[lengthFactor*(y2-y1)],\n",
    "                w=[lengthFactor*(z2-z1)],\n",
    "                colorscale=[[0, \"blue\"], [1, \"blue\"]],\n",
    "                showscale=False,\n",
    "                anchor=\"tip\",\n",
    "                hoverinfo=\"skip\"\n",
    "            ))\n",
    "        ))\n",
    "    except ZeroDivisionError: # In case two rechits are in the same point (should not happen in theory, but...)\n",
    "        pass\n",
    "    return traces"
   ]
  },
  {
   "cell_type": "code",
   "execution_count": 228,
   "metadata": {},
   "outputs": [],
   "source": [
    "showLegend = True\n",
    "for clus3D_id, grouped_df in df.groupby(\"clus3D_id\"):\n",
    "    fig.add_trace(go.Scatter3d(\n",
    "        mode=\"markers\",\n",
    "        legendgroup=\"cluster2D\",\n",
    "        legendgrouptitle_text=\"2D clusters\",\n",
    "        name=f\"Trackster nb {clus3D_id}\",\n",
    "        x=grouped_df[\"clus2D_x\"], y=grouped_df[\"clus2D_y\"], z=grouped_df[\"clus2D_z\"], \n",
    "        marker=dict(\n",
    "            symbol=\"circle\",\n",
    "            color=mapClus3Did_color[clus3D_id],\n",
    "            size=grouped_df[\"clus2D_size\"]\n",
    "        ),\n",
    "        customdata=np.dstack((grouped_df.clus2D_energy, grouped_df.clus2D_rho, grouped_df.clus2D_delta,\n",
    "            grouped_df.clus2D_pointType.map({0:\"Follower\", 1:\"Seed\", 2:\"Outlier\"})))[0],\n",
    "        #hovertemplate=\"clus2D_x=%{x}<br>clus2D_y=%{y}<br>clus2D_z=%{z}<br>clus2D_size=%{marker.size}<extra></extra>\",\n",
    "        hovertemplate=(\n",
    "            \"2D cluster : %{customdata[3]}<br>\"\n",
    "            \"Energy: %{customdata[0]:.2g} GeV<br>Rho: %{customdata[1]:.2g} GeV<br>\"\n",
    "            \"Delta: %{customdata[2]:.2g} cm<br>\"\n",
    "            \"Size: %{marker.size}\"\n",
    "        )\n",
    "    ))\n",
    "\n",
    "    for row in grouped_df.dropna().itertuples(index=False, name=\"Cluster2D\"):\n",
    "        fig.add_traces(makeArrow(\n",
    "            row.clus2D_x, row.clus2D_x_ofNearestHigher, row.clus2D_y, row.clus2D_y_ofNearestHigher, row.clus2D_z, row.clus2D_z_ofNearestHigher,\n",
    "            dictLine=dict(\n",
    "                name=\"Cluster 2D chain\",\n",
    "                legendgroup=\"clus2D_chain\",\n",
    "                showlegend=showLegend\n",
    "            ), dictCone=dict(\n",
    "                legendgroup=\"clus2D_chain\"\n",
    "            )\n",
    "            )\n",
    "        )\n",
    "\n",
    "        showLegend = False\n"
   ]
  },
  {
   "cell_type": "code",
   "execution_count": 229,
   "metadata": {},
   "outputs": [
    {
     "data": {
      "text/html": [
       "<div>\n",
       "<style scoped>\n",
       "    .dataframe tbody tr th:only-of-type {\n",
       "        vertical-align: middle;\n",
       "    }\n",
       "\n",
       "    .dataframe tbody tr th {\n",
       "        vertical-align: top;\n",
       "    }\n",
       "\n",
       "    .dataframe thead th {\n",
       "        text-align: right;\n",
       "    }\n",
       "</style>\n",
       "<table border=\"1\" class=\"dataframe\">\n",
       "  <thead>\n",
       "    <tr style=\"text-align: right;\">\n",
       "      <th></th>\n",
       "      <th></th>\n",
       "      <th>rechits_layer</th>\n",
       "      <th>rechits_id</th>\n",
       "      <th>beamEnergy</th>\n",
       "      <th>clus3D_energy</th>\n",
       "      <th>clus3D_size</th>\n",
       "      <th>clus2D_layer</th>\n",
       "      <th>clus2D_rho</th>\n",
       "      <th>clus2D_delta</th>\n",
       "      <th>clus2D_pointType</th>\n",
       "      <th>rechits_z</th>\n",
       "      <th>rechits_rho</th>\n",
       "      <th>rechits_energy</th>\n",
       "      <th>rechits_x</th>\n",
       "      <th>rechits_delta</th>\n",
       "      <th>rechits_pointType</th>\n",
       "      <th>rechits_y</th>\n",
       "      <th>rechits_nearestHigher</th>\n",
       "      <th>rechits_x_ofNearestHigher</th>\n",
       "      <th>rechits_y_ofNearestHigher</th>\n",
       "      <th>rechits_z_ofNearestHigher</th>\n",
       "    </tr>\n",
       "    <tr>\n",
       "      <th>clus3D_id</th>\n",
       "      <th>clus2D_id</th>\n",
       "      <th></th>\n",
       "      <th></th>\n",
       "      <th></th>\n",
       "      <th></th>\n",
       "      <th></th>\n",
       "      <th></th>\n",
       "      <th></th>\n",
       "      <th></th>\n",
       "      <th></th>\n",
       "      <th></th>\n",
       "      <th></th>\n",
       "      <th></th>\n",
       "      <th></th>\n",
       "      <th></th>\n",
       "      <th></th>\n",
       "      <th></th>\n",
       "      <th></th>\n",
       "      <th></th>\n",
       "      <th></th>\n",
       "      <th></th>\n",
       "    </tr>\n",
       "  </thead>\n",
       "  <tbody>\n",
       "    <tr>\n",
       "      <th rowspan=\"5\" valign=\"top\">0</th>\n",
       "      <th>0</th>\n",
       "      <td>1</td>\n",
       "      <td>0</td>\n",
       "      <td>20.0</td>\n",
       "      <td>16.609020</td>\n",
       "      <td>21</td>\n",
       "      <td>1</td>\n",
       "      <td>1.019150</td>\n",
       "      <td>0.093634</td>\n",
       "      <td>0</td>\n",
       "      <td>13.8775</td>\n",
       "      <td>0.061886</td>\n",
       "      <td>0.021062</td>\n",
       "      <td>3.626411</td>\n",
       "      <td>1.125173e+00</td>\n",
       "      <td>0</td>\n",
       "      <td>-1.587286</td>\n",
       "      <td>1</td>\n",
       "      <td>2.651933</td>\n",
       "      <td>-1.024786</td>\n",
       "      <td>13.8775</td>\n",
       "    </tr>\n",
       "    <tr>\n",
       "      <th>0</th>\n",
       "      <td>1</td>\n",
       "      <td>1</td>\n",
       "      <td>20.0</td>\n",
       "      <td>16.609020</td>\n",
       "      <td>21</td>\n",
       "      <td>1</td>\n",
       "      <td>1.019150</td>\n",
       "      <td>0.093634</td>\n",
       "      <td>0</td>\n",
       "      <td>13.8775</td>\n",
       "      <td>0.194167</td>\n",
       "      <td>0.081648</td>\n",
       "      <td>2.651933</td>\n",
       "      <td>1.125303e+00</td>\n",
       "      <td>0</td>\n",
       "      <td>-1.024786</td>\n",
       "      <td>2</td>\n",
       "      <td>1.677445</td>\n",
       "      <td>-0.462042</td>\n",
       "      <td>13.8775</td>\n",
       "    </tr>\n",
       "    <tr>\n",
       "      <th>0</th>\n",
       "      <td>1</td>\n",
       "      <td>2</td>\n",
       "      <td>20.0</td>\n",
       "      <td>16.609020</td>\n",
       "      <td>21</td>\n",
       "      <td>1</td>\n",
       "      <td>1.019150</td>\n",
       "      <td>0.093634</td>\n",
       "      <td>0</td>\n",
       "      <td>13.8775</td>\n",
       "      <td>0.244800</td>\n",
       "      <td>0.203976</td>\n",
       "      <td>1.677445</td>\n",
       "      <td>3.402823e+38</td>\n",
       "      <td>1</td>\n",
       "      <td>-0.462042</td>\n",
       "      <td>-1</td>\n",
       "      <td>NaN</td>\n",
       "      <td>NaN</td>\n",
       "      <td>NaN</td>\n",
       "    </tr>\n",
       "    <tr>\n",
       "      <th>1</th>\n",
       "      <td>2</td>\n",
       "      <td>5</td>\n",
       "      <td>20.0</td>\n",
       "      <td>16.609020</td>\n",
       "      <td>21</td>\n",
       "      <td>2</td>\n",
       "      <td>1.825104</td>\n",
       "      <td>0.237880</td>\n",
       "      <td>0</td>\n",
       "      <td>14.7675</td>\n",
       "      <td>0.043190</td>\n",
       "      <td>0.036756</td>\n",
       "      <td>3.702781</td>\n",
       "      <td>1.125253e+00</td>\n",
       "      <td>0</td>\n",
       "      <td>-2.735149</td>\n",
       "      <td>7</td>\n",
       "      <td>3.702781</td>\n",
       "      <td>-1.609896</td>\n",
       "      <td>14.7675</td>\n",
       "    </tr>\n",
       "    <tr>\n",
       "      <th>1</th>\n",
       "      <td>2</td>\n",
       "      <td>6</td>\n",
       "      <td>20.0</td>\n",
       "      <td>16.609020</td>\n",
       "      <td>21</td>\n",
       "      <td>2</td>\n",
       "      <td>1.825104</td>\n",
       "      <td>0.237880</td>\n",
       "      <td>0</td>\n",
       "      <td>14.7675</td>\n",
       "      <td>0.265516</td>\n",
       "      <td>0.023792</td>\n",
       "      <td>3.702781</td>\n",
       "      <td>1.125173e+00</td>\n",
       "      <td>0</td>\n",
       "      <td>-0.484652</td>\n",
       "      <td>8</td>\n",
       "      <td>2.728303</td>\n",
       "      <td>0.077848</td>\n",
       "      <td>14.7675</td>\n",
       "    </tr>\n",
       "    <tr>\n",
       "      <th>...</th>\n",
       "      <th>...</th>\n",
       "      <td>...</td>\n",
       "      <td>...</td>\n",
       "      <td>...</td>\n",
       "      <td>...</td>\n",
       "      <td>...</td>\n",
       "      <td>...</td>\n",
       "      <td>...</td>\n",
       "      <td>...</td>\n",
       "      <td>...</td>\n",
       "      <td>...</td>\n",
       "      <td>...</td>\n",
       "      <td>...</td>\n",
       "      <td>...</td>\n",
       "      <td>...</td>\n",
       "      <td>...</td>\n",
       "      <td>...</td>\n",
       "      <td>...</td>\n",
       "      <td>...</td>\n",
       "      <td>...</td>\n",
       "      <td>...</td>\n",
       "    </tr>\n",
       "    <tr>\n",
       "      <th rowspan=\"5\" valign=\"top\">1</th>\n",
       "      <th>23</th>\n",
       "      <td>17</td>\n",
       "      <td>258</td>\n",
       "      <td>20.0</td>\n",
       "      <td>1.323122</td>\n",
       "      <td>8</td>\n",
       "      <td>17</td>\n",
       "      <td>0.063462</td>\n",
       "      <td>0.879169</td>\n",
       "      <td>0</td>\n",
       "      <td>37.1175</td>\n",
       "      <td>0.042746</td>\n",
       "      <td>0.028354</td>\n",
       "      <td>2.964693</td>\n",
       "      <td>1.056478e+00</td>\n",
       "      <td>0</td>\n",
       "      <td>1.331848</td>\n",
       "      <td>255</td>\n",
       "      <td>3.848951</td>\n",
       "      <td>1.909976</td>\n",
       "      <td>37.1175</td>\n",
       "    </tr>\n",
       "    <tr>\n",
       "      <th>25</th>\n",
       "      <td>17</td>\n",
       "      <td>260</td>\n",
       "      <td>20.0</td>\n",
       "      <td>1.323122</td>\n",
       "      <td>8</td>\n",
       "      <td>17</td>\n",
       "      <td>0.259056</td>\n",
       "      <td>0.420803</td>\n",
       "      <td>0</td>\n",
       "      <td>37.1175</td>\n",
       "      <td>0.077471</td>\n",
       "      <td>0.026438</td>\n",
       "      <td>1.990205</td>\n",
       "      <td>1.125075e+00</td>\n",
       "      <td>0</td>\n",
       "      <td>-0.355652</td>\n",
       "      <td>261</td>\n",
       "      <td>1.015840</td>\n",
       "      <td>0.206848</td>\n",
       "      <td>37.1175</td>\n",
       "    </tr>\n",
       "    <tr>\n",
       "      <th>25</th>\n",
       "      <td>17</td>\n",
       "      <td>261</td>\n",
       "      <td>20.0</td>\n",
       "      <td>1.323122</td>\n",
       "      <td>8</td>\n",
       "      <td>17</td>\n",
       "      <td>0.259056</td>\n",
       "      <td>0.420803</td>\n",
       "      <td>0</td>\n",
       "      <td>37.1175</td>\n",
       "      <td>0.082740</td>\n",
       "      <td>0.069521</td>\n",
       "      <td>1.015840</td>\n",
       "      <td>2.250378e+00</td>\n",
       "      <td>1</td>\n",
       "      <td>0.206848</td>\n",
       "      <td>259</td>\n",
       "      <td>2.964693</td>\n",
       "      <td>-0.918396</td>\n",
       "      <td>37.1175</td>\n",
       "    </tr>\n",
       "    <tr>\n",
       "      <th>27</th>\n",
       "      <td>18</td>\n",
       "      <td>267</td>\n",
       "      <td>20.0</td>\n",
       "      <td>1.323122</td>\n",
       "      <td>8</td>\n",
       "      <td>18</td>\n",
       "      <td>0.051298</td>\n",
       "      <td>0.638987</td>\n",
       "      <td>0</td>\n",
       "      <td>38.0075</td>\n",
       "      <td>0.015798</td>\n",
       "      <td>0.012313</td>\n",
       "      <td>0.994660</td>\n",
       "      <td>3.402823e+38</td>\n",
       "      <td>1</td>\n",
       "      <td>1.403728</td>\n",
       "      <td>-1</td>\n",
       "      <td>NaN</td>\n",
       "      <td>NaN</td>\n",
       "      <td>NaN</td>\n",
       "    </tr>\n",
       "    <tr>\n",
       "      <th>27</th>\n",
       "      <td>18</td>\n",
       "      <td>268</td>\n",
       "      <td>20.0</td>\n",
       "      <td>1.323122</td>\n",
       "      <td>8</td>\n",
       "      <td>18</td>\n",
       "      <td>0.051298</td>\n",
       "      <td>0.638987</td>\n",
       "      <td>0</td>\n",
       "      <td>38.0075</td>\n",
       "      <td>0.013127</td>\n",
       "      <td>0.006971</td>\n",
       "      <td>0.994660</td>\n",
       "      <td>1.125000e+00</td>\n",
       "      <td>0</td>\n",
       "      <td>0.278728</td>\n",
       "      <td>267</td>\n",
       "      <td>0.994660</td>\n",
       "      <td>1.403728</td>\n",
       "      <td>38.0075</td>\n",
       "    </tr>\n",
       "  </tbody>\n",
       "</table>\n",
       "<p>252 rows × 20 columns</p>\n",
       "</div>"
      ],
      "text/plain": [
       "                     rechits_layer  ...  rechits_z_ofNearestHigher\n",
       "clus3D_id clus2D_id                 ...                           \n",
       "0         0                      1  ...                    13.8775\n",
       "          0                      1  ...                    13.8775\n",
       "          0                      1  ...                        NaN\n",
       "          1                      2  ...                    14.7675\n",
       "          1                      2  ...                    14.7675\n",
       "...                            ...  ...                        ...\n",
       "1         23                    17  ...                    37.1175\n",
       "          25                    17  ...                    37.1175\n",
       "          25                    17  ...                    37.1175\n",
       "          27                    18  ...                        NaN\n",
       "          27                    18  ...                    38.0075\n",
       "\n",
       "[252 rows x 20 columns]"
      ]
     },
     "execution_count": 229,
     "metadata": {},
     "output_type": "execute_result"
    }
   ],
   "source": [
    "df_rechits = (comp\n",
    "    .clusters3D_merged_rechits_custom([\"rechits_x\", \"rechits_y\", \"rechits_z\", \"rechits_energy\", \n",
    "        \"rechits_rho\", \"rechits_delta\", \"rechits_nearestHigher\", \"rechits_pointType\"])\n",
    "    .loc[event]\n",
    "    .reset_index(level=[\"rechits_layer\", \"rechits_id\"])\n",
    "    .set_index(\"clus2D_id\", append=True)\n",
    ")\n",
    "df_rechits = df_rechits.join(df_rechits[[\"rechits_id\", \"rechits_x\", \"rechits_y\", \"rechits_z\"]].set_index(\"rechits_id\"), on=[\"rechits_nearestHigher\"], rsuffix=\"_ofNearestHigher\")\n",
    "df_rechits"
   ]
  },
  {
   "cell_type": "code",
   "execution_count": 230,
   "metadata": {},
   "outputs": [
    {
     "data": {
      "text/html": [
       "<div>\n",
       "<style scoped>\n",
       "    .dataframe tbody tr th:only-of-type {\n",
       "        vertical-align: middle;\n",
       "    }\n",
       "\n",
       "    .dataframe tbody tr th {\n",
       "        vertical-align: top;\n",
       "    }\n",
       "\n",
       "    .dataframe thead th {\n",
       "        text-align: right;\n",
       "    }\n",
       "</style>\n",
       "<table border=\"1\" class=\"dataframe\">\n",
       "  <thead>\n",
       "    <tr style=\"text-align: right;\">\n",
       "      <th></th>\n",
       "      <th></th>\n",
       "      <th>rechits_layer</th>\n",
       "      <th>rechits_id</th>\n",
       "      <th>beamEnergy</th>\n",
       "      <th>clus3D_energy</th>\n",
       "      <th>clus3D_size</th>\n",
       "      <th>clus2D_layer</th>\n",
       "      <th>clus2D_rho</th>\n",
       "      <th>clus2D_delta</th>\n",
       "      <th>clus2D_pointType</th>\n",
       "      <th>rechits_z</th>\n",
       "      <th>rechits_rho</th>\n",
       "      <th>rechits_energy</th>\n",
       "      <th>rechits_x</th>\n",
       "      <th>rechits_delta</th>\n",
       "      <th>rechits_pointType</th>\n",
       "      <th>rechits_y</th>\n",
       "      <th>rechits_nearestHigher</th>\n",
       "      <th>rechits_x_ofNearestHigher</th>\n",
       "      <th>rechits_y_ofNearestHigher</th>\n",
       "      <th>rechits_z_ofNearestHigher</th>\n",
       "    </tr>\n",
       "    <tr>\n",
       "      <th>clus3D_id</th>\n",
       "      <th>clus2D_id</th>\n",
       "      <th></th>\n",
       "      <th></th>\n",
       "      <th></th>\n",
       "      <th></th>\n",
       "      <th></th>\n",
       "      <th></th>\n",
       "      <th></th>\n",
       "      <th></th>\n",
       "      <th></th>\n",
       "      <th></th>\n",
       "      <th></th>\n",
       "      <th></th>\n",
       "      <th></th>\n",
       "      <th></th>\n",
       "      <th></th>\n",
       "      <th></th>\n",
       "      <th></th>\n",
       "      <th></th>\n",
       "      <th></th>\n",
       "      <th></th>\n",
       "    </tr>\n",
       "  </thead>\n",
       "  <tbody>\n",
       "    <tr>\n",
       "      <th rowspan=\"4\" valign=\"top\">0</th>\n",
       "      <th>2</th>\n",
       "      <td>3</td>\n",
       "      <td>25</td>\n",
       "      <td>20.0</td>\n",
       "      <td>16.60902</td>\n",
       "      <td>21</td>\n",
       "      <td>3</td>\n",
       "      <td>2.563523</td>\n",
       "      <td>1.431375e-01</td>\n",
       "      <td>0</td>\n",
       "      <td>16.782499</td>\n",
       "      <td>0.310677</td>\n",
       "      <td>0.024450</td>\n",
       "      <td>1.732805</td>\n",
       "      <td>0.0</td>\n",
       "      <td>0</td>\n",
       "      <td>0.685358</td>\n",
       "      <td>26</td>\n",
       "      <td>1.732805</td>\n",
       "      <td>0.685358</td>\n",
       "      <td>16.782499</td>\n",
       "    </tr>\n",
       "    <tr>\n",
       "      <th>4</th>\n",
       "      <td>5</td>\n",
       "      <td>53</td>\n",
       "      <td>20.0</td>\n",
       "      <td>16.60902</td>\n",
       "      <td>21</td>\n",
       "      <td>5</td>\n",
       "      <td>3.724012</td>\n",
       "      <td>3.402823e+38</td>\n",
       "      <td>1</td>\n",
       "      <td>19.687500</td>\n",
       "      <td>0.307683</td>\n",
       "      <td>0.022053</td>\n",
       "      <td>1.659975</td>\n",
       "      <td>0.0</td>\n",
       "      <td>0</td>\n",
       "      <td>0.615388</td>\n",
       "      <td>54</td>\n",
       "      <td>1.659975</td>\n",
       "      <td>0.615388</td>\n",
       "      <td>19.687500</td>\n",
       "    </tr>\n",
       "    <tr>\n",
       "      <th>6</th>\n",
       "      <td>7</td>\n",
       "      <td>85</td>\n",
       "      <td>20.0</td>\n",
       "      <td>16.60902</td>\n",
       "      <td>21</td>\n",
       "      <td>7</td>\n",
       "      <td>3.221716</td>\n",
       "      <td>1.338853e-01</td>\n",
       "      <td>0</td>\n",
       "      <td>22.692499</td>\n",
       "      <td>0.187895</td>\n",
       "      <td>0.011339</td>\n",
       "      <td>1.834116</td>\n",
       "      <td>0.0</td>\n",
       "      <td>0</td>\n",
       "      <td>0.675358</td>\n",
       "      <td>86</td>\n",
       "      <td>1.834116</td>\n",
       "      <td>0.675358</td>\n",
       "      <td>22.692499</td>\n",
       "    </tr>\n",
       "    <tr>\n",
       "      <th>9</th>\n",
       "      <td>9</td>\n",
       "      <td>123</td>\n",
       "      <td>20.0</td>\n",
       "      <td>16.60902</td>\n",
       "      <td>21</td>\n",
       "      <td>9</td>\n",
       "      <td>2.988883</td>\n",
       "      <td>3.453510e-01</td>\n",
       "      <td>0</td>\n",
       "      <td>25.697500</td>\n",
       "      <td>0.237086</td>\n",
       "      <td>0.011290</td>\n",
       "      <td>1.849875</td>\n",
       "      <td>0.0</td>\n",
       "      <td>0</td>\n",
       "      <td>0.726548</td>\n",
       "      <td>124</td>\n",
       "      <td>1.849875</td>\n",
       "      <td>0.726548</td>\n",
       "      <td>25.697500</td>\n",
       "    </tr>\n",
       "  </tbody>\n",
       "</table>\n",
       "</div>"
      ],
      "text/plain": [
       "                     rechits_layer  ...  rechits_z_ofNearestHigher\n",
       "clus3D_id clus2D_id                 ...                           \n",
       "0         2                      3  ...                  16.782499\n",
       "          4                      5  ...                  19.687500\n",
       "          6                      7  ...                  22.692499\n",
       "          9                      9  ...                  25.697500\n",
       "\n",
       "[4 rows x 20 columns]"
      ]
     },
     "execution_count": 230,
     "metadata": {},
     "output_type": "execute_result"
    }
   ],
   "source": [
    "df_rechits.query(\"rechits_x == rechits_x_ofNearestHigher and rechits_y == rechits_y_ofNearestHigher \")"
   ]
  },
  {
   "cell_type": "code",
   "execution_count": 231,
   "metadata": {},
   "outputs": [],
   "source": [
    "color_cycle = itertools.cycle(px.colors.qualitative.Plotly)\n",
    "mapClus2Did_color = {clus2D_id : next(color_cycle) for clus2D_id in df.index.get_level_values(\"clus2D_id\").drop_duplicates().to_list()}\n",
    "\n",
    "showLegend = True\n",
    "for index, grouped_df in df_rechits.groupby(level=[\"clus3D_id\", \"clus2D_id\"]):\n",
    "    fig.add_trace(go.Scatter3d(\n",
    "        mode=\"markers\",\n",
    "        legendgroup=\"rechits\",\n",
    "        legendgrouptitle_text=\"Rechits\",\n",
    "        name=f\"2D cluster nb {index[1]}\",\n",
    "        x=grouped_df[\"rechits_x\"], y=grouped_df[\"rechits_y\"], z=grouped_df[\"rechits_z\"], \n",
    "        marker=dict(\n",
    "            symbol=\"circle\",\n",
    "            color=mapClus3Did_color[clus3D_id],\n",
    "            size=grouped_df[\"rechits_energy\"]*30\n",
    "        ),\n",
    "        customdata=np.dstack((grouped_df.rechits_energy, grouped_df.rechits_rho, grouped_df.rechits_delta,\n",
    "            grouped_df.rechits_pointType.map({0:\"Follower\", 1:\"Seed\", 2:\"Outlier\"})))[0],\n",
    "        #hovertemplate=\"clus2D_x=%{x}<br>clus2D_y=%{y}<br>clus2D_z=%{z}<br>clus2D_size=%{marker.size}<extra></extra>\",\n",
    "        hovertemplate=(\n",
    "            \"Rechit : %{customdata[3]}<br>\"\n",
    "            \"Energy: %{customdata[0]:.2g} GeV<br>Rho: %{customdata[1]:.2g} GeV<br>\"\n",
    "            \"Delta: %{customdata[2]:.2g} cm\"\n",
    "        )\n",
    "    ))\n",
    "    for row in grouped_df.dropna().itertuples(index=False):\n",
    "        fig.add_traces(makeArrow(\n",
    "            row.rechits_x, row.rechits_x_ofNearestHigher, row.rechits_y, row.rechits_y_ofNearestHigher, row.rechits_z, row.rechits_z_ofNearestHigher,\n",
    "            dictLine=dict(\n",
    "                name=\"Rechits chain\",\n",
    "                legendgroup=\"rechits_chain\",\n",
    "                showlegend=showLegend\n",
    "            ), dictCone=dict(\n",
    "                legendgroup=\"rechits_chain\"\n",
    "            )\n",
    "            )\n",
    "        )\n",
    "        showLegend = False\n",
    "        "
   ]
  },
  {
   "cell_type": "code",
   "execution_count": 232,
   "metadata": {},
   "outputs": [
    {
     "data": {
      "application/vnd.plotly.v1+json": {
       "config": {
        "plotlyServerURL": "https://plot.ly"
       },
       "data": [
        {
         "hovertemplate": "clus3D_x=%{x}<br>clus3D_y=%{y}<br>clus3D_z=%{z}<br>clus3D_size=%{marker.size}<extra></extra>",
         "marker": {
          "color": [
           "#636EFA",
           "#EF553B"
          ],
          "size": [
           42,
           16
          ],
          "symbol": "cross"
         },
         "mode": "markers",
         "name": "3D tracksters",
         "type": "scatter3d",
         "x": [
          2.5424327850341797,
          2.428030252456665
         ],
         "y": [
          -0.8549144864082336,
          1.5303878784179688
         ],
         "z": [
          21.770227432250977,
          31.83721160888672
         ]
        },
        {
         "customdata": [
          [
           0.3066863715648651,
           1.019149661064148,
           0.09363357722759247,
           "Follower"
          ],
          [
           0.7997156381607056,
           1.8251042366027832,
           0.2378798872232437,
           "Follower"
          ],
          [
           1.2992093563079834,
           2.563523054122925,
           0.14313751459121704,
           "Follower"
          ],
          [
           1.4633911848068237,
           2.967122793197632,
           0.5257880091667175,
           "Follower"
          ],
          [
           2.0576558113098145,
           3.7240123748779297,
           3.4028234663852886e+38,
           "Seed"
          ],
          [
           1.6941187381744385,
           3.5633068084716797,
           0.19622696936130524,
           "Follower"
          ],
          [
           1.3612711429595947,
           3.2217164039611816,
           0.13388530910015106,
           "Follower"
          ],
          [
           1.714076042175293,
           3.4827964305877686,
           0.1837158203125,
           "Follower"
          ],
          [
           0.028838079422712326,
           0.028838079422712326,
           2.81955623626709,
           "Follower"
          ],
          [
           1.4503355026245117,
           2.9888834953308105,
           0.345350980758667,
           "Follower"
          ],
          [
           0.9226474761962891,
           2.2279093265533447,
           0.13943423330783844,
           "Follower"
          ],
          [
           0.08950390666723251,
           0.08950390666723251,
           3.2622740268707275,
           "Follower"
          ],
          [
           1.3575724363327026,
           2.414187431335449,
           0.09418974816799164,
           "Follower"
          ],
          [
           0.6430543661117554,
           1.5871835947036743,
           0.1499299705028534,
           "Follower"
          ],
          [
           0.5529617071151733,
           1.1017221212387085,
           0.07513247430324554,
           "Follower"
          ],
          [
           0.4371283948421478,
           0.7413519620895386,
           1.3928099870681763,
           "Follower"
          ],
          [
           0.04031280428171158,
           0.04031280428171158,
           3.025355100631714,
           "Follower"
          ],
          [
           0.14597418904304504,
           0.386050820350647,
           1.0662899017333984,
           "Follower"
          ],
          [
           0.1791275143623352,
           0.3211729824542999,
           1.0288273096084595,
           "Follower"
          ],
          [
           0.031165584921836853,
           0.10304056853055954,
           0.8065394163131714,
           "Follower"
          ],
          [
           0.034273214638233185,
           0.040506333112716675,
           0.9880266189575195,
           "Follower"
          ]
         ],
         "hovertemplate": "2D cluster : %{customdata[3]}<br>Energy: %{customdata[0]:.2g} GeV<br>Rho: %{customdata[1]:.2g} GeV<br>Delta: %{customdata[2]:.2g} cm<br>Size: %{marker.size}",
         "legendgroup": "cluster2D",
         "legendgrouptitle": {
          "text": "2D clusters"
         },
         "marker": {
          "color": "#636EFA",
          "size": [
           3,
           7,
           14,
           9,
           16,
           11,
           17,
           13,
           2,
           22,
           15,
           5,
           22,
           15,
           11,
           12,
           2,
           3,
           5,
           2,
           2
          ],
          "symbol": "circle"
         },
         "mode": "markers",
         "name": "Trackster nb 0",
         "type": "scatter3d",
         "x": [
          2.0550460815429688,
          2.31685733795166,
          2.0277483463287354,
          2.0823895931243896,
          2.755037307739258,
          2.5932395458221436,
          2.879276990890503,
          2.4478070735931396,
          5.695515155792236,
          2.812366485595703,
          2.6625475883483887,
          1.22311270236969,
          2.5253169536590576,
          2.480365514755249,
          2.552562952041626,
          3.105797052383423,
          -0.4411090016365051,
          3.6122257709503174,
          2.2631216049194336,
          2.9435126781463623,
          2.457756996154785
         ],
         "y": [
          -0.6800972819328308,
          -0.809795618057251,
          -0.9019470810890198,
          -0.7696493864059448,
          -1.0051144361495972,
          -0.8940896391868591,
          -1.0550121068954468,
          -0.7818359136581421,
          -0.91826331615448,
          -0.6271613836288452,
          -0.7530115246772766,
          -3.881626605987549,
          -0.7283202409744263,
          -0.8713529706001282,
          -0.8505582809448242,
          -2.1287803649902344,
          -2.894973039627075,
          -0.9692546129226685,
          -1.538540005683899,
          -1.9716379642486572,
          -2.8320088386535645
         ],
         "z": [
          13.8774995803833,
          14.767499923706055,
          16.782499313354492,
          17.672500610351562,
          19.6875,
          20.577499389648438,
          22.6924991607666,
          23.582500457763672,
          23.582500457763672,
          25.697500228881836,
          26.587499618530273,
          26.587499618530273,
          28.702499389648438,
          29.592500686645508,
          32.397499084472656,
          34.3125,
          34.3125,
          37.11750030517578,
          38.00749969482422,
          39.92250061035156,
          44.037498474121094
         ]
        },
        {
         "hoverinfo": "skip",
         "legendgroup": "clus2D_chain",
         "mode": "lines",
         "name": "Cluster 2D chain",
         "showlegend": true,
         "type": "scatter3d",
         "x": [
          2.0550460815429688,
          2.0823895931243896
         ],
         "y": [
          -0.6800972819328308,
          -0.7696493864059448
         ],
         "z": [
          13.8774995803833,
          17.672500610351562
         ]
        },
        {
         "anchor": "tip",
         "colorscale": [
          [
           0,
           "blue"
          ],
          [
           1,
           "blue"
          ]
         ],
         "hoverinfo": "skip",
         "legendgroup": "clus2D_chain",
         "showscale": false,
         "type": "cone",
         "u": [
          0.007202947370251227
         ],
         "v": [
          -0.02359020689403202
         ],
         "w": [
          0.9996957635640346
         ],
         "x": [
          2.0823895931243896
         ],
         "y": [
          -0.7696493864059448
         ],
         "z": [
          17.672500610351562
         ]
        },
        {
         "hoverinfo": "skip",
         "legendgroup": "clus2D_chain",
         "mode": "lines",
         "name": "Cluster 2D chain",
         "showlegend": false,
         "type": "scatter3d",
         "x": [
          2.31685733795166,
          2.0823895931243896
         ],
         "y": [
          -0.809795618057251,
          -0.7696493864059448
         ],
         "z": [
          14.767499923706055,
          17.672500610351562
         ]
        },
        {
         "anchor": "tip",
         "colorscale": [
          [
           0,
           "blue"
          ],
          [
           1,
           "blue"
          ]
         ],
         "hoverinfo": "skip",
         "legendgroup": "clus2D_chain",
         "showscale": false,
         "type": "cone",
         "u": [
          -0.08044252117293248
         ],
         "v": [
          0.013773596415160445
         ],
         "w": [
          0.9966640802342256
         ],
         "x": [
          2.0823895931243896
         ],
         "y": [
          -0.7696493864059448
         ],
         "z": [
          17.672500610351562
         ]
        },
        {
         "hoverinfo": "skip",
         "legendgroup": "clus2D_chain",
         "mode": "lines",
         "name": "Cluster 2D chain",
         "showlegend": false,
         "type": "scatter3d",
         "x": [
          2.0277483463287354,
          2.0823895931243896
         ],
         "y": [
          -0.9019470810890198,
          -0.7696493864059448
         ],
         "z": [
          16.782499313354492,
          17.672500610351562
         ]
        },
        {
         "anchor": "tip",
         "colorscale": [
          [
           0,
           "blue"
          ],
          [
           1,
           "blue"
          ]
         ],
         "hoverinfo": "skip",
         "legendgroup": "clus2D_chain",
         "showscale": false,
         "type": "cone",
         "u": [
          0.06061563914444503
         ],
         "v": [
          0.14676292710782404
         ],
         "w": [
          0.9873127100963778
         ],
         "x": [
          2.0823895931243896
         ],
         "y": [
          -0.7696493864059448
         ],
         "z": [
          17.672500610351562
         ]
        },
        {
         "hoverinfo": "skip",
         "legendgroup": "clus2D_chain",
         "mode": "lines",
         "name": "Cluster 2D chain",
         "showlegend": false,
         "type": "scatter3d",
         "x": [
          2.0823895931243896,
          2.5932395458221436
         ],
         "y": [
          -0.7696493864059448,
          -0.8940896391868591
         ],
         "z": [
          17.672500610351562,
          20.577499389648438
         ]
        },
        {
         "anchor": "tip",
         "colorscale": [
          [
           0,
           "blue"
          ],
          [
           1,
           "blue"
          ]
         ],
         "hoverinfo": "skip",
         "legendgroup": "clus2D_chain",
         "showscale": false,
         "type": "cone",
         "u": [
          0.17304056619697655
         ],
         "v": [
          -0.04215173493741027
         ],
         "w": [
          0.9840122934658875
         ],
         "x": [
          2.5932395458221436
         ],
         "y": [
          -0.8940896391868591
         ],
         "z": [
          20.577499389648438
         ]
        },
        {
         "hoverinfo": "skip",
         "legendgroup": "clus2D_chain",
         "mode": "lines",
         "name": "Cluster 2D chain",
         "showlegend": false,
         "type": "scatter3d",
         "x": [
          2.5932395458221436,
          2.755037307739258
         ],
         "y": [
          -0.8940896391868591,
          -1.0051144361495972
         ],
         "z": [
          20.577499389648438,
          19.6875
         ]
        },
        {
         "anchor": "tip",
         "colorscale": [
          [
           0,
           "blue"
          ],
          [
           1,
           "blue"
          ]
         ],
         "hoverinfo": "skip",
         "legendgroup": "clus2D_chain",
         "showscale": false,
         "type": "cone",
         "u": [
          0.1775315389449316
         ],
         "v": [
          -0.12182123431312167
         ],
         "w": [
          -0.9765460253107745
         ],
         "x": [
          2.755037307739258
         ],
         "y": [
          -1.0051144361495972
         ],
         "z": [
          19.6875
         ]
        },
        {
         "hoverinfo": "skip",
         "legendgroup": "clus2D_chain",
         "mode": "lines",
         "name": "Cluster 2D chain",
         "showlegend": false,
         "type": "scatter3d",
         "x": [
          2.879276990890503,
          2.755037307739258
         ],
         "y": [
          -1.0550121068954468,
          -1.0051144361495972
         ],
         "z": [
          22.6924991607666,
          19.6875
         ]
        },
        {
         "anchor": "tip",
         "colorscale": [
          [
           0,
           "blue"
          ],
          [
           1,
           "blue"
          ]
         ],
         "hoverinfo": "skip",
         "legendgroup": "clus2D_chain",
         "showscale": false,
         "type": "cone",
         "u": [
          -0.04130335723450749
         ],
         "v": [
          0.016588430264078677
         ],
         "w": [
          -0.9990089372285578
         ],
         "x": [
          2.755037307739258
         ],
         "y": [
          -1.0051144361495972
         ],
         "z": [
          19.6875
         ]
        },
        {
         "hoverinfo": "skip",
         "legendgroup": "clus2D_chain",
         "mode": "lines",
         "name": "Cluster 2D chain",
         "showlegend": false,
         "type": "scatter3d",
         "x": [
          2.4478070735931396,
          2.5932395458221436
         ],
         "y": [
          -0.7818359136581421,
          -0.8940896391868591
         ],
         "z": [
          23.582500457763672,
          20.577499389648438
         ]
        },
        {
         "anchor": "tip",
         "colorscale": [
          [
           0,
           "blue"
          ],
          [
           1,
           "blue"
          ]
         ],
         "hoverinfo": "skip",
         "legendgroup": "clus2D_chain",
         "showscale": false,
         "type": "cone",
         "u": [
          0.048306618656217756
         ],
         "v": [
          -0.03728601892510516
         ],
         "w": [
          -0.9981363751445588
         ],
         "x": [
          2.5932395458221436
         ],
         "y": [
          -0.8940896391868591
         ],
         "z": [
          20.577499389648438
         ]
        },
        {
         "hoverinfo": "skip",
         "legendgroup": "clus2D_chain",
         "mode": "lines",
         "name": "Cluster 2D chain",
         "showlegend": false,
         "type": "scatter3d",
         "x": [
          5.695515155792236,
          2.879276990890503
         ],
         "y": [
          -0.91826331615448,
          -1.0550121068954468
         ],
         "z": [
          23.582500457763672,
          22.6924991607666
         ]
        },
        {
         "anchor": "tip",
         "colorscale": [
          [
           0,
           "blue"
          ],
          [
           1,
           "blue"
          ]
         ],
         "hoverinfo": "skip",
         "legendgroup": "clus2D_chain",
         "showscale": false,
         "type": "cone",
         "u": [
          -0.9524977972596164
         ],
         "v": [
          -0.046250677084774185
         ],
         "w": [
          -0.30101299155481426
         ],
         "x": [
          2.879276990890503
         ],
         "y": [
          -1.0550121068954468
         ],
         "z": [
          22.6924991607666
         ]
        },
        {
         "hoverinfo": "skip",
         "legendgroup": "clus2D_chain",
         "mode": "lines",
         "name": "Cluster 2D chain",
         "showlegend": false,
         "type": "scatter3d",
         "x": [
          2.812366485595703,
          2.5932395458221436
         ],
         "y": [
          -0.6271613836288452,
          -0.8940896391868591
         ],
         "z": [
          25.697500228881836,
          20.577499389648438
         ]
        },
        {
         "anchor": "tip",
         "colorscale": [
          [
           0,
           "blue"
          ],
          [
           1,
           "blue"
          ]
         ],
         "hoverinfo": "skip",
         "legendgroup": "clus2D_chain",
         "showscale": false,
         "type": "cone",
         "u": [
          -0.04270119514625837
         ],
         "v": [
          -0.05201622193241805
         ],
         "w": [
          -0.9977328904015136
         ],
         "x": [
          2.5932395458221436
         ],
         "y": [
          -0.8940896391868591
         ],
         "z": [
          20.577499389648438
         ]
        },
        {
         "hoverinfo": "skip",
         "legendgroup": "clus2D_chain",
         "mode": "lines",
         "name": "Cluster 2D chain",
         "showlegend": false,
         "type": "scatter3d",
         "x": [
          2.6625475883483887,
          2.5253169536590576
         ],
         "y": [
          -0.7530115246772766,
          -0.7283202409744263
         ],
         "z": [
          26.587499618530273,
          28.702499389648438
         ]
        },
        {
         "anchor": "tip",
         "colorscale": [
          [
           0,
           "blue"
          ],
          [
           1,
           "blue"
          ]
         ],
         "hoverinfo": "skip",
         "legendgroup": "clus2D_chain",
         "showscale": false,
         "type": "cone",
         "u": [
          -0.0647439226440655
         ],
         "v": [
          0.011649079417719121
         ],
         "w": [
          0.9978339157542095
         ],
         "x": [
          2.5253169536590576
         ],
         "y": [
          -0.7283202409744263
         ],
         "z": [
          28.702499389648438
         ]
        },
        {
         "hoverinfo": "skip",
         "legendgroup": "clus2D_chain",
         "mode": "lines",
         "name": "Cluster 2D chain",
         "showlegend": false,
         "type": "scatter3d",
         "x": [
          1.22311270236969,
          2.480365514755249
         ],
         "y": [
          -3.881626605987549,
          -0.8713529706001282
         ],
         "z": [
          26.587499618530273,
          29.592500686645508
         ]
        },
        {
         "anchor": "tip",
         "colorscale": [
          [
           0,
           "blue"
          ],
          [
           1,
           "blue"
          ]
         ],
         "hoverinfo": "skip",
         "legendgroup": "clus2D_chain",
         "showscale": false,
         "type": "cone",
         "u": [
          0.2834609528299949
         ],
         "v": [
          0.6786980506703791
         ],
         "w": [
          0.6775092945760514
         ],
         "x": [
          2.480365514755249
         ],
         "y": [
          -0.8713529706001282
         ],
         "z": [
          29.592500686645508
         ]
        },
        {
         "hoverinfo": "skip",
         "legendgroup": "clus2D_chain",
         "mode": "lines",
         "name": "Cluster 2D chain",
         "showlegend": false,
         "type": "scatter3d",
         "x": [
          2.5253169536590576,
          2.4478070735931396
         ],
         "y": [
          -0.7283202409744263,
          -0.7818359136581421
         ],
         "z": [
          28.702499389648438,
          23.582500457763672
         ]
        },
        {
         "anchor": "tip",
         "colorscale": [
          [
           0,
           "blue"
          ],
          [
           1,
           "blue"
          ]
         ],
         "hoverinfo": "skip",
         "legendgroup": "clus2D_chain",
         "showscale": false,
         "type": "cone",
         "u": [
          -0.015136090579422563
         ],
         "v": [
          -0.010450513772832262
         ],
         "w": [
          -0.9998308284524214
         ],
         "x": [
          2.4478070735931396
         ],
         "y": [
          -0.7818359136581421
         ],
         "z": [
          23.582500457763672
         ]
        },
        {
         "hoverinfo": "skip",
         "legendgroup": "clus2D_chain",
         "mode": "lines",
         "name": "Cluster 2D chain",
         "showlegend": false,
         "type": "scatter3d",
         "x": [
          2.480365514755249,
          2.5253169536590576
         ],
         "y": [
          -0.8713529706001282,
          -0.7283202409744263
         ],
         "z": [
          29.592500686645508,
          28.702499389648438
         ]
        },
        {
         "anchor": "tip",
         "colorscale": [
          [
           0,
           "blue"
          ],
          [
           1,
           "blue"
          ]
         ],
         "hoverinfo": "skip",
         "legendgroup": "clus2D_chain",
         "showscale": false,
         "type": "cone",
         "u": [
          0.04980539394270806
         ],
         "v": [
          0.15847771772007407
         ],
         "w": [
          -0.9861055905532877
         ],
         "x": [
          2.5253169536590576
         ],
         "y": [
          -0.7283202409744263
         ],
         "z": [
          28.702499389648438
         ]
        },
        {
         "hoverinfo": "skip",
         "legendgroup": "clus2D_chain",
         "mode": "lines",
         "name": "Cluster 2D chain",
         "showlegend": false,
         "type": "scatter3d",
         "x": [
          2.552562952041626,
          2.480365514755249
         ],
         "y": [
          -0.8505582809448242,
          -0.8713529706001282
         ],
         "z": [
          32.397499084472656,
          29.592500686645508
         ]
        },
        {
         "anchor": "tip",
         "colorscale": [
          [
           0,
           "blue"
          ],
          [
           1,
           "blue"
          ]
         ],
         "hoverinfo": "skip",
         "legendgroup": "clus2D_chain",
         "showscale": false,
         "type": "cone",
         "u": [
          -0.025729623350720886
         ],
         "v": [
          -0.007410782884215478
         ],
         "w": [
          -0.9996414691174397
         ],
         "x": [
          2.480365514755249
         ],
         "y": [
          -0.8713529706001282
         ],
         "z": [
          29.592500686645508
         ]
        },
        {
         "hoverinfo": "skip",
         "legendgroup": "clus2D_chain",
         "mode": "lines",
         "name": "Cluster 2D chain",
         "showlegend": false,
         "type": "scatter3d",
         "x": [
          3.105797052383423,
          2.552562952041626
         ],
         "y": [
          -2.1287803649902344,
          -0.8505582809448242
         ],
         "z": [
          34.3125,
          32.397499084472656
         ]
        },
        {
         "anchor": "tip",
         "colorscale": [
          [
           0,
           "blue"
          ],
          [
           1,
           "blue"
          ]
         ],
         "hoverinfo": "skip",
         "legendgroup": "clus2D_chain",
         "showscale": false,
         "type": "cone",
         "u": [
          -0.23363501163791386
         ],
         "v": [
          0.5398030079803195
         ],
         "w": [
          -0.8087196015383521
         ],
         "x": [
          2.552562952041626
         ],
         "y": [
          -0.8505582809448242
         ],
         "z": [
          32.397499084472656
         ]
        },
        {
         "hoverinfo": "skip",
         "legendgroup": "clus2D_chain",
         "mode": "lines",
         "name": "Cluster 2D chain",
         "showlegend": false,
         "type": "scatter3d",
         "x": [
          -0.4411090016365051,
          2.2631216049194336
         ],
         "y": [
          -2.894973039627075,
          -1.538540005683899
         ],
         "z": [
          34.3125,
          38.00749969482422
         ]
        },
        {
         "anchor": "tip",
         "colorscale": [
          [
           0,
           "blue"
          ],
          [
           1,
           "blue"
          ]
         ],
         "hoverinfo": "skip",
         "legendgroup": "clus2D_chain",
         "showscale": false,
         "type": "cone",
         "u": [
          0.5662668021909657
         ],
         "v": [
          0.28403753535481013
         ],
         "w": [
          0.7737341838422177
         ],
         "x": [
          2.2631216049194336
         ],
         "y": [
          -1.538540005683899
         ],
         "z": [
          38.00749969482422
         ]
        },
        {
         "hoverinfo": "skip",
         "legendgroup": "clus2D_chain",
         "mode": "lines",
         "name": "Cluster 2D chain",
         "showlegend": false,
         "type": "scatter3d",
         "x": [
          3.6122257709503174,
          2.552562952041626
         ],
         "y": [
          -0.9692546129226685,
          -0.8505582809448242
         ],
         "z": [
          37.11750030517578,
          32.397499084472656
         ]
        },
        {
         "anchor": "tip",
         "colorscale": [
          [
           0,
           "blue"
          ],
          [
           1,
           "blue"
          ]
         ],
         "hoverinfo": "skip",
         "legendgroup": "clus2D_chain",
         "showscale": false,
         "type": "cone",
         "u": [
          -0.21898634694433647
         ],
         "v": [
          0.024529383943365554
         ],
         "w": [
          -0.9754195452087957
         ],
         "x": [
          2.552562952041626
         ],
         "y": [
          -0.8505582809448242
         ],
         "z": [
          32.397499084472656
         ]
        },
        {
         "hoverinfo": "skip",
         "legendgroup": "clus2D_chain",
         "mode": "lines",
         "name": "Cluster 2D chain",
         "showlegend": false,
         "type": "scatter3d",
         "x": [
          2.2631216049194336,
          3.105797052383423
         ],
         "y": [
          -1.538540005683899,
          -2.1287803649902344
         ],
         "z": [
          38.00749969482422,
          34.3125
         ]
        },
        {
         "anchor": "tip",
         "colorscale": [
          [
           0,
           "blue"
          ],
          [
           1,
           "blue"
          ]
         ],
         "hoverinfo": "skip",
         "legendgroup": "clus2D_chain",
         "showscale": false,
         "type": "cone",
         "u": [
          0.2197008510420721
         ],
         "v": [
          -0.15388642169323663
         ],
         "w": [
          -0.9633537799115343
         ],
         "x": [
          3.105797052383423
         ],
         "y": [
          -2.1287803649902344
         ],
         "z": [
          34.3125
         ]
        },
        {
         "hoverinfo": "skip",
         "legendgroup": "clus2D_chain",
         "mode": "lines",
         "name": "Cluster 2D chain",
         "showlegend": false,
         "type": "scatter3d",
         "x": [
          2.9435126781463623,
          2.2631216049194336
         ],
         "y": [
          -1.9716379642486572,
          -1.538540005683899
         ],
         "z": [
          39.92250061035156,
          38.00749969482422
         ]
        },
        {
         "anchor": "tip",
         "colorscale": [
          [
           0,
           "blue"
          ],
          [
           1,
           "blue"
          ]
         ],
         "hoverinfo": "skip",
         "legendgroup": "clus2D_chain",
         "showscale": false,
         "type": "cone",
         "u": [
          -0.3274391823146327
         ],
         "v": [
          0.20842901530438304
         ],
         "w": [
          -0.9215969441487802
         ],
         "x": [
          2.2631216049194336
         ],
         "y": [
          -1.538540005683899
         ],
         "z": [
          38.00749969482422
         ]
        },
        {
         "hoverinfo": "skip",
         "legendgroup": "clus2D_chain",
         "mode": "lines",
         "name": "Cluster 2D chain",
         "showlegend": false,
         "type": "scatter3d",
         "x": [
          2.457756996154785,
          2.9435126781463623
         ],
         "y": [
          -2.8320088386535645,
          -1.9716379642486572
         ],
         "z": [
          44.037498474121094,
          39.92250061035156
         ]
        },
        {
         "anchor": "tip",
         "colorscale": [
          [
           0,
           "blue"
          ],
          [
           1,
           "blue"
          ]
         ],
         "hoverinfo": "skip",
         "legendgroup": "clus2D_chain",
         "showscale": false,
         "type": "cone",
         "u": [
          0.11478293411936752
         ],
         "v": [
          0.20330362990330084
         ],
         "w": [
          -0.9723643926548785
         ],
         "x": [
          2.9435126781463623
         ],
         "y": [
          -1.9716379642486572
         ],
         "z": [
          39.92250061035156
         ]
        },
        {
         "customdata": [
          [
           0.09810255467891693,
           0.27404364943504333,
           1.7170201539993286,
           "Follower"
          ],
          [
           0.8797054886817932,
           0.9184735417366028,
           2.2502763271331787,
           "Seed"
          ],
          [
           0.07719585299491882,
           0.07719585299491882,
           2.4833457469940186,
           "Follower"
          ],
          [
           0.03162428364157677,
           0.2189929038286209,
           1.6372544765472412,
           "Follower"
          ],
          [
           0.06411341577768326,
           0.37369540333747864,
           1.6817489862442017,
           "Follower"
          ],
          [
           0.05713760107755661,
           0.06346245855093002,
           0.8791687488555908,
           "Follower"
          ],
          [
           0.0959591418504715,
           0.2590563893318176,
           0.42080259323120117,
           "Follower"
          ],
          [
           0.019283652305603027,
           0.05129816383123398,
           0.6389871835708618,
           "Follower"
          ]
         ],
         "hovertemplate": "2D cluster : %{customdata[3]}<br>Energy: %{customdata[0]:.2g} GeV<br>Rho: %{customdata[1]:.2g} GeV<br>Delta: %{customdata[2]:.2g} cm<br>Size: %{marker.size}",
         "legendgroup": "cluster2D",
         "legendgrouptitle": {
          "text": "2D clusters"
         },
         "marker": {
          "color": "#EF553B",
          "size": [
           3,
           26,
           3,
           2,
           4,
           2,
           2,
           2
          ],
          "symbol": "circle"
         },
         "mode": "markers",
         "name": "Trackster nb 1",
         "type": "scatter3d",
         "x": [
          2.1825592517852783,
          2.653810501098633,
          -1.0342004299163818,
          4.287486553192139,
          1.3877586126327515,
          3.408329725265503,
          1.3905701637268066,
          0.9946600794792175
         ],
         "y": [
          3.1693692207336426,
          1.5182846784591675,
          0.9600549340248108,
          1.6264729499816895,
          0.4113103449344635,
          1.6218982934951782,
          -0.009482856839895248,
          0.9150744080543518
         ],
         "z": [
          29.592500686645508,
          31.50749969482422,
          32.397499084472656,
          34.3125,
          35.20249938964844,
          37.11750030517578,
          37.11750030517578,
          38.00749969482422
         ]
        },
        {
         "hoverinfo": "skip",
         "legendgroup": "clus2D_chain",
         "mode": "lines",
         "name": "Cluster 2D chain",
         "showlegend": false,
         "type": "scatter3d",
         "x": [
          2.1825592517852783,
          2.653810501098633
         ],
         "y": [
          3.1693692207336426,
          1.5182846784591675
         ],
         "z": [
          29.592500686645508,
          31.50749969482422
         ]
        },
        {
         "anchor": "tip",
         "colorscale": [
          [
           0,
           "blue"
          ],
          [
           1,
           "blue"
          ]
         ],
         "hoverinfo": "skip",
         "legendgroup": "clus2D_chain",
         "showscale": false,
         "type": "cone",
         "u": [
          0.18322095644146327
         ],
         "v": [
          -0.641936311982255
         ],
         "w": [
          0.7445453998778693
         ],
         "x": [
          2.653810501098633
         ],
         "y": [
          1.5182846784591675
         ],
         "z": [
          31.50749969482422
         ]
        },
        {
         "hoverinfo": "skip",
         "legendgroup": "clus2D_chain",
         "mode": "lines",
         "name": "Cluster 2D chain",
         "showlegend": false,
         "type": "scatter3d",
         "x": [
          -1.0342004299163818,
          1.3877586126327515
         ],
         "y": [
          0.9600549340248108,
          0.4113103449344635
         ],
         "z": [
          32.397499084472656,
          35.20249938964844
         ]
        },
        {
         "anchor": "tip",
         "colorscale": [
          [
           0,
           "blue"
          ],
          [
           1,
           "blue"
          ]
         ],
         "hoverinfo": "skip",
         "legendgroup": "clus2D_chain",
         "showscale": false,
         "type": "cone",
         "u": [
          0.6464874171451223
         ],
         "v": [
          -0.14647500880113798
         ],
         "w": [
          0.7487316550472107
         ],
         "x": [
          1.3877586126327515
         ],
         "y": [
          0.4113103449344635
         ],
         "z": [
          35.20249938964844
         ]
        },
        {
         "hoverinfo": "skip",
         "legendgroup": "clus2D_chain",
         "mode": "lines",
         "name": "Cluster 2D chain",
         "showlegend": false,
         "type": "scatter3d",
         "x": [
          4.287486553192139,
          2.653810501098633
         ],
         "y": [
          1.6264729499816895,
          1.5182846784591675
         ],
         "z": [
          34.3125,
          31.50749969482422
         ]
        },
        {
         "anchor": "tip",
         "colorscale": [
          [
           0,
           "blue"
          ],
          [
           1,
           "blue"
          ]
         ],
         "hoverinfo": "skip",
         "legendgroup": "clus2D_chain",
         "showscale": false,
         "type": "cone",
         "u": [
          -0.5029999438954869
         ],
         "v": [
          -0.03331057857905327
         ],
         "w": [
          -0.8636442912425613
         ],
         "x": [
          2.653810501098633
         ],
         "y": [
          1.5182846784591675
         ],
         "z": [
          31.50749969482422
         ]
        },
        {
         "hoverinfo": "skip",
         "legendgroup": "clus2D_chain",
         "mode": "lines",
         "name": "Cluster 2D chain",
         "showlegend": false,
         "type": "scatter3d",
         "x": [
          1.3877586126327515,
          2.653810501098633
         ],
         "y": [
          0.4113103449344635,
          1.5182846784591675
         ],
         "z": [
          35.20249938964844,
          31.50749969482422
         ]
        },
        {
         "anchor": "tip",
         "colorscale": [
          [
           0,
           "blue"
          ],
          [
           1,
           "blue"
          ]
         ],
         "hoverinfo": "skip",
         "legendgroup": "clus2D_chain",
         "showscale": false,
         "type": "cone",
         "u": [
          0.31185717659566514
         ],
         "v": [
          0.27267278170975656
         ],
         "w": [
          -0.9101618842384268
         ],
         "x": [
          2.653810501098633
         ],
         "y": [
          1.5182846784591675
         ],
         "z": [
          31.50749969482422
         ]
        },
        {
         "hoverinfo": "skip",
         "legendgroup": "clus2D_chain",
         "mode": "lines",
         "name": "Cluster 2D chain",
         "showlegend": false,
         "type": "scatter3d",
         "x": [
          3.408329725265503,
          4.287486553192139
         ],
         "y": [
          1.6218982934951782,
          1.6264729499816895
         ],
         "z": [
          37.11750030517578,
          34.3125
         ]
        },
        {
         "anchor": "tip",
         "colorscale": [
          [
           0,
           "blue"
          ],
          [
           1,
           "blue"
          ]
         ],
         "hoverinfo": "skip",
         "legendgroup": "clus2D_chain",
         "showscale": false,
         "type": "cone",
         "u": [
          0.29907853610677043
         ],
         "v": [
          0.0015562428928679074
         ],
         "w": [
          -0.9542272304583901
         ],
         "x": [
          4.287486553192139
         ],
         "y": [
          1.6264729499816895
         ],
         "z": [
          34.3125
         ]
        },
        {
         "hoverinfo": "skip",
         "legendgroup": "clus2D_chain",
         "mode": "lines",
         "name": "Cluster 2D chain",
         "showlegend": false,
         "type": "scatter3d",
         "x": [
          1.3905701637268066,
          1.3877586126327515
         ],
         "y": [
          -0.009482856839895248,
          0.4113103449344635
         ],
         "z": [
          37.11750030517578,
          35.20249938964844
         ]
        },
        {
         "anchor": "tip",
         "colorscale": [
          [
           0,
           "blue"
          ],
          [
           1,
           "blue"
          ]
         ],
         "hoverinfo": "skip",
         "legendgroup": "clus2D_chain",
         "showscale": false,
         "type": "cone",
         "u": [
          -0.0014339603944114804
         ],
         "v": [
          0.2146149102030822
         ],
         "w": [
          -0.9766976932890289
         ],
         "x": [
          1.3877586126327515
         ],
         "y": [
          0.4113103449344635
         ],
         "z": [
          35.20249938964844
         ]
        },
        {
         "hoverinfo": "skip",
         "legendgroup": "clus2D_chain",
         "mode": "lines",
         "name": "Cluster 2D chain",
         "showlegend": false,
         "type": "scatter3d",
         "x": [
          0.9946600794792175,
          1.3877586126327515
         ],
         "y": [
          0.9150744080543518,
          0.4113103449344635
         ],
         "z": [
          38.00749969482422,
          35.20249938964844
         ]
        },
        {
         "anchor": "tip",
         "colorscale": [
          [
           0,
           "blue"
          ],
          [
           1,
           "blue"
          ]
         ],
         "hoverinfo": "skip",
         "legendgroup": "clus2D_chain",
         "showscale": false,
         "type": "cone",
         "u": [
          0.1366414579019454
         ],
         "v": [
          -0.175108910916297
         ],
         "w": [
          -0.9750210158248587
         ],
         "x": [
          1.3877586126327515
         ],
         "y": [
          0.4113103449344635
         ],
         "z": [
          35.20249938964844
         ]
        },
        {
         "customdata": [
          [
           0.021062301471829414,
           0.061886340379714966,
           1.1251729726791382,
           "Follower"
          ],
          [
           0.0816480740904808,
           0.19416722655296326,
           1.125302791595459,
           "Follower"
          ],
          [
           0.20397600531578064,
           0.24480004608631134,
           3.4028234663852886e+38,
           "Seed"
          ]
         ],
         "hovertemplate": "Rechit : %{customdata[3]}<br>Energy: %{customdata[0]:.2g} GeV<br>Rho: %{customdata[1]:.2g} GeV<br>Delta: %{customdata[2]:.2g} cm",
         "legendgroup": "rechits",
         "legendgrouptitle": {
          "text": "Rechits"
         },
         "marker": {
          "color": "#EF553B",
          "size": [
           0.6318690180778503,
           2.449442148208618,
           6.1192803382873535
          ],
          "symbol": "circle"
         },
         "mode": "markers",
         "name": "2D cluster nb 0",
         "type": "scatter3d",
         "x": [
          3.626410961151123,
          2.651932716369629,
          1.677445411682129
         ],
         "y": [
          -1.5872857570648193,
          -1.0247857570648193,
          -0.46204161643981934
         ],
         "z": [
          13.8774995803833,
          13.8774995803833,
          13.8774995803833
         ]
        },
        {
         "hoverinfo": "skip",
         "legendgroup": "rechits_chain",
         "mode": "lines",
         "name": "Rechits chain",
         "showlegend": true,
         "type": "scatter3d",
         "x": [
          3.626410961151123,
          2.651932716369629
         ],
         "y": [
          -1.5872857570648193,
          -1.0247857570648193
         ],
         "z": [
          13.8774995803833,
          13.8774995803833
         ]
        },
        {
         "anchor": "tip",
         "colorscale": [
          [
           0,
           "blue"
          ],
          [
           1,
           "blue"
          ]
         ],
         "hoverinfo": "skip",
         "legendgroup": "rechits_chain",
         "showscale": false,
         "type": "cone",
         "u": [
          -0.8660697636731018
         ],
         "v": [
          0.4999231585466086
         ],
         "w": [
          0
         ],
         "x": [
          2.651932716369629
         ],
         "y": [
          -1.0247857570648193
         ],
         "z": [
          13.8774995803833
         ]
        },
        {
         "hoverinfo": "skip",
         "legendgroup": "rechits_chain",
         "mode": "lines",
         "name": "Rechits chain",
         "showlegend": false,
         "type": "scatter3d",
         "x": [
          2.651932716369629,
          1.677445411682129
         ],
         "y": [
          -1.0247857570648193,
          -0.46204161643981934
         ],
         "z": [
          13.8774995803833,
          13.8774995803833
         ]
        },
        {
         "anchor": "tip",
         "colorscale": [
          [
           0,
           "blue"
          ],
          [
           1,
           "blue"
          ]
         ],
         "hoverinfo": "skip",
         "legendgroup": "rechits_chain",
         "showscale": false,
         "type": "cone",
         "u": [
          -0.8659778263291473
         ],
         "v": [
          0.5000823975168945
         ],
         "w": [
          0
         ],
         "x": [
          1.677445411682129
         ],
         "y": [
          -0.46204161643981934
         ],
         "z": [
          13.8774995803833
         ]
        },
        {
         "customdata": [
          [
           0.03675572946667671,
           0.04318994656205177,
           1.1252532005310059,
           "Follower"
          ],
          [
           0.023792143911123276,
           0.2655158042907715,
           1.1251729726791382,
           "Follower"
          ],
          [
           0.012868434190750122,
           0.2752615511417389,
           1.1251729726791382,
           "Follower"
          ],
          [
           0.006340529303997755,
           0.3734402656555176,
           1.125180721282959,
           "Follower"
          ],
          [
           0.46423837542533875,
           0.6088233590126038,
           3.4028234663852886e+38,
           "Seed"
          ],
          [
           0.24616892635822296,
           0.4862341284751892,
           1.125302791595459,
           "Follower"
          ],
          [
           0.009551506489515305,
           0.1326359659433365,
           1.125197172164917,
           "Follower"
          ]
         ],
         "hovertemplate": "Rechit : %{customdata[3]}<br>Energy: %{customdata[0]:.2g} GeV<br>Rho: %{customdata[1]:.2g} GeV<br>Delta: %{customdata[2]:.2g} cm",
         "legendgroup": "rechits",
         "legendgrouptitle": {
          "text": "Rechits"
         },
         "marker": {
          "color": "#EF553B",
          "size": [
           1.1026718616485596,
           0.7137643098831177,
           0.38605302572250366,
           0.19021588563919067,
           13.927151679992676,
           7.385067939758301,
           0.28654518723487854
          ],
          "symbol": "circle"
         },
         "mode": "markers",
         "name": "2D cluster nb 1",
         "type": "scatter3d",
         "x": [
          3.7027809619903564,
          3.7027809619903564,
          3.7027809619903564,
          2.7283027172088623,
          2.7283027172088623,
          1.7538154125213623,
          0.7794501781463623
         ],
         "y": [
          -2.7351491451263428,
          -0.4846518039703369,
          -1.609895944595337,
          0.07784819602966309,
          -1.047395944595337,
          -0.4846518039703369,
          -1.047395944595337
         ],
         "z": [
          14.767499923706055,
          14.767499923706055,
          14.767499923706055,
          14.767499923706055,
          14.767499923706055,
          14.767499923706055,
          14.767499923706055
         ]
        },
        {
         "hoverinfo": "skip",
         "legendgroup": "rechits_chain",
         "mode": "lines",
         "name": "Rechits chain",
         "showlegend": false,
         "type": "scatter3d",
         "x": [
          3.7027809619903564,
          3.7027809619903564
         ],
         "y": [
          -2.7351491451263428,
          -1.609895944595337
         ],
         "z": [
          14.767499923706055,
          14.767499923706055
         ]
        },
        {
         "anchor": "tip",
         "colorscale": [
          [
           0,
           "blue"
          ],
          [
           1,
           "blue"
          ]
         ],
         "hoverinfo": "skip",
         "legendgroup": "rechits_chain",
         "showscale": false,
         "type": "cone",
         "u": [
          0
         ],
         "v": [
          1
         ],
         "w": [
          0
         ],
         "x": [
          3.7027809619903564
         ],
         "y": [
          -1.609895944595337
         ],
         "z": [
          14.767499923706055
         ]
        },
        {
         "hoverinfo": "skip",
         "legendgroup": "rechits_chain",
         "mode": "lines",
         "name": "Rechits chain",
         "showlegend": false,
         "type": "scatter3d",
         "x": [
          3.7027809619903564,
          2.7283027172088623
         ],
         "y": [
          -0.4846518039703369,
          0.07784819602966309
         ],
         "z": [
          14.767499923706055,
          14.767499923706055
         ]
        },
        {
         "anchor": "tip",
         "colorscale": [
          [
           0,
           "blue"
          ],
          [
           1,
           "blue"
          ]
         ],
         "hoverinfo": "skip",
         "legendgroup": "rechits_chain",
         "showscale": false,
         "type": "cone",
         "u": [
          -0.8660697636731018
         ],
         "v": [
          0.4999231585466086
         ],
         "w": [
          0
         ],
         "x": [
          2.7283027172088623
         ],
         "y": [
          0.07784819602966309
         ],
         "z": [
          14.767499923706055
         ]
        },
        {
         "hoverinfo": "skip",
         "legendgroup": "rechits_chain",
         "mode": "lines",
         "name": "Rechits chain",
         "showlegend": false,
         "type": "scatter3d",
         "x": [
          3.7027809619903564,
          2.7283027172088623
         ],
         "y": [
          -1.609895944595337,
          -1.047395944595337
         ],
         "z": [
          14.767499923706055,
          14.767499923706055
         ]
        },
        {
         "anchor": "tip",
         "colorscale": [
          [
           0,
           "blue"
          ],
          [
           1,
           "blue"
          ]
         ],
         "hoverinfo": "skip",
         "legendgroup": "rechits_chain",
         "showscale": false,
         "type": "cone",
         "u": [
          -0.8660697636731018
         ],
         "v": [
          0.4999231585466086
         ],
         "w": [
          0
         ],
         "x": [
          2.7283027172088623
         ],
         "y": [
          -1.047395944595337
         ],
         "z": [
          14.767499923706055
         ]
        },
        {
         "hoverinfo": "skip",
         "legendgroup": "rechits_chain",
         "mode": "lines",
         "name": "Rechits chain",
         "showlegend": false,
         "type": "scatter3d",
         "x": [
          2.7283027172088623,
          1.7538154125213623
         ],
         "y": [
          0.07784819602966309,
          -0.4846518039703369
         ],
         "z": [
          14.767499923706055,
          14.767499923706055
         ]
        },
        {
         "anchor": "tip",
         "colorscale": [
          [
           0,
           "blue"
          ],
          [
           1,
           "blue"
          ]
         ],
         "hoverinfo": "skip",
         "legendgroup": "rechits_chain",
         "showscale": false,
         "type": "cone",
         "u": [
          -0.866071776036405
         ],
         "v": [
          -0.499919672300608
         ],
         "w": [
          0
         ],
         "x": [
          1.7538154125213623
         ],
         "y": [
          -0.4846518039703369
         ],
         "z": [
          14.767499923706055
         ]
        },
        {
         "hoverinfo": "skip",
         "legendgroup": "rechits_chain",
         "mode": "lines",
         "name": "Rechits chain",
         "showlegend": false,
         "type": "scatter3d",
         "x": [
          1.7538154125213623,
          2.7283027172088623
         ],
         "y": [
          -0.4846518039703369,
          -1.047395944595337
         ],
         "z": [
          14.767499923706055,
          14.767499923706055
         ]
        },
        {
         "anchor": "tip",
         "colorscale": [
          [
           0,
           "blue"
          ],
          [
           1,
           "blue"
          ]
         ],
         "hoverinfo": "skip",
         "legendgroup": "rechits_chain",
         "showscale": false,
         "type": "cone",
         "u": [
          0.8659778263291473
         ],
         "v": [
          -0.5000823975168945
         ],
         "w": [
          0
         ],
         "x": [
          2.7283027172088623
         ],
         "y": [
          -1.047395944595337
         ],
         "z": [
          14.767499923706055
         ]
        },
        {
         "hoverinfo": "skip",
         "legendgroup": "rechits_chain",
         "mode": "lines",
         "name": "Rechits chain",
         "showlegend": false,
         "type": "scatter3d",
         "x": [
          0.7794501781463623,
          1.7538154125213623
         ],
         "y": [
          -1.047395944595337,
          -0.4846518039703369
         ],
         "z": [
          14.767499923706055,
          14.767499923706055
         ]
        },
        {
         "anchor": "tip",
         "colorscale": [
          [
           0,
           "blue"
          ],
          [
           1,
           "blue"
          ]
         ],
         "hoverinfo": "skip",
         "legendgroup": "rechits_chain",
         "showscale": false,
         "type": "cone",
         "u": [
          0.8659506941311695
         ],
         "v": [
          0.500129378594925
         ],
         "w": [
          0
         ],
         "x": [
          1.7538154125213623
         ],
         "y": [
          -0.4846518039703369
         ],
         "z": [
          14.767499923706055
         ]
        },
        {
         "customdata": [
          [
           0.02274029143154621,
           0.20622488856315613,
           1.1251729726791382,
           "Follower"
          ],
          [
           0.01124319527298212,
           0.07226106524467468,
           1.125,
           "Follower"
          ],
          [
           0.02587815932929516,
           0.44193413853645325,
           1.125180721282959,
           "Follower"
          ],
          [
           0.3198776841163635,
           0.6637868881225586,
           1.125302791595459,
           "Follower"
          ],
          [
           0.0470915250480175,
           0.31203800439834595,
           1.1251220703125,
           "Follower"
          ],
          [
           0.40483349561691284,
           0.7913942337036133,
           3.4028234663852886e+38,
           "Seed"
          ],
          [
           0.18727493286132812,
           0.6260030269622803,
           1.125180721282959,
           "Follower"
          ],
          [
           0.05879215523600578,
           0.35879045724868774,
           1.1250749826431274,
           "Follower"
          ],
          [
           0.08514080196619034,
           0.42777979373931885,
           1.1250749826431274,
           "Follower"
          ],
          [
           0.020512642338871956,
           0.15672050416469574,
           1.1251220703125,
           "Follower"
          ],
          [
           0.013864756561815739,
           0.08583123236894608,
           1.1252864599227905,
           "Follower"
          ],
          [
           0.0058019994758069515,
           0.0058019994758069515,
           1.948974370956421,
           "Follower"
          ],
          [
           0.024450378492474556,
           0.31067749857902527,
           0,
           "Follower"
          ],
          [
           0.07170719653367996,
           0.33430588245391846,
           1.125,
           "Follower"
          ]
         ],
         "hovertemplate": "Rechit : %{customdata[3]}<br>Energy: %{customdata[0]:.2g} GeV<br>Rho: %{customdata[1]:.2g} GeV<br>Delta: %{customdata[2]:.2g} cm",
         "legendgroup": "rechits",
         "legendgrouptitle": {
          "text": "Rechits"
         },
         "marker": {
          "color": "#EF553B",
          "size": [
           0.6822087168693542,
           0.33729586005210876,
           0.7763447761535645,
           9.596330642700195,
           1.412745714187622,
           12.145005226135254,
           5.618247985839844,
           1.7637646198272705,
           2.5542240142822266,
           0.615379273891449,
           0.4159426987171173,
           0.17405998706817627,
           0.7335113286972046,
           2.1512157917022705
          ],
          "symbol": "circle"
         },
         "mode": "markers",
         "name": "2D cluster nb 2",
         "type": "scatter3d",
         "x": [
          3.6817710399627686,
          2.7072927951812744,
          2.7072927951812744,
          2.7072927951812744,
          2.7072927951812744,
          1.7328054904937744,
          1.7328054904937744,
          0.7584402561187744,
          0.7584402561187744,
          0.7584402561187744,
          -0.21616911888122559,
          4.656267166137695,
          1.7328054904937744,
          1.7328054904937744
         ],
         "y": [
          -1.5648858547210693,
          1.2478582859039307,
          0.12285828590393066,
          -1.0023858547210693,
          -2.1275079250335693,
          -0.43964171409606934,
          -1.5648858547210693,
          0.12285828590393066,
          -1.0023858547210693,
          -2.1275079250335693,
          -0.43964171409606934,
          1.2478582859039307,
          0.6853582859039307,
          0.6853582859039307
         ],
         "z": [
          16.782499313354492,
          16.782499313354492,
          16.782499313354492,
          16.782499313354492,
          16.782499313354492,
          16.782499313354492,
          16.782499313354492,
          16.782499313354492,
          16.782499313354492,
          16.782499313354492,
          16.782499313354492,
          16.782499313354492,
          16.782499313354492,
          16.782499313354492
         ]
        },
        {
         "hoverinfo": "skip",
         "legendgroup": "rechits_chain",
         "mode": "lines",
         "name": "Rechits chain",
         "showlegend": false,
         "type": "scatter3d",
         "x": [
          3.6817710399627686,
          2.7072927951812744
         ],
         "y": [
          -1.5648858547210693,
          -1.0023858547210693
         ],
         "z": [
          16.782499313354492,
          16.782499313354492
         ]
        },
        {
         "anchor": "tip",
         "colorscale": [
          [
           0,
           "blue"
          ],
          [
           1,
           "blue"
          ]
         ],
         "hoverinfo": "skip",
         "legendgroup": "rechits_chain",
         "showscale": false,
         "type": "cone",
         "u": [
          -0.8660697636731018
         ],
         "v": [
          0.4999231585466086
         ],
         "w": [
          0
         ],
         "x": [
          2.7072927951812744
         ],
         "y": [
          -1.0023858547210693
         ],
         "z": [
          16.782499313354492
         ]
        },
        {
         "hoverinfo": "skip",
         "legendgroup": "rechits_chain",
         "mode": "lines",
         "name": "Rechits chain",
         "showlegend": false,
         "type": "scatter3d",
         "x": [
          2.7072927951812744,
          2.7072927951812744
         ],
         "y": [
          1.2478582859039307,
          0.12285828590393066
         ],
         "z": [
          16.782499313354492,
          16.782499313354492
         ]
        },
        {
         "anchor": "tip",
         "colorscale": [
          [
           0,
           "blue"
          ],
          [
           1,
           "blue"
          ]
         ],
         "hoverinfo": "skip",
         "legendgroup": "rechits_chain",
         "showscale": false,
         "type": "cone",
         "u": [
          0
         ],
         "v": [
          -1
         ],
         "w": [
          0
         ],
         "x": [
          2.7072927951812744
         ],
         "y": [
          0.12285828590393066
         ],
         "z": [
          16.782499313354492
         ]
        },
        {
         "hoverinfo": "skip",
         "legendgroup": "rechits_chain",
         "mode": "lines",
         "name": "Rechits chain",
         "showlegend": false,
         "type": "scatter3d",
         "x": [
          2.7072927951812744,
          1.7328054904937744
         ],
         "y": [
          0.12285828590393066,
          -0.43964171409606934
         ],
         "z": [
          16.782499313354492,
          16.782499313354492
         ]
        },
        {
         "anchor": "tip",
         "colorscale": [
          [
           0,
           "blue"
          ],
          [
           1,
           "blue"
          ]
         ],
         "hoverinfo": "skip",
         "legendgroup": "rechits_chain",
         "showscale": false,
         "type": "cone",
         "u": [
          -0.866071776036405
         ],
         "v": [
          -0.499919672300608
         ],
         "w": [
          0
         ],
         "x": [
          1.7328054904937744
         ],
         "y": [
          -0.43964171409606934
         ],
         "z": [
          16.782499313354492
         ]
        },
        {
         "hoverinfo": "skip",
         "legendgroup": "rechits_chain",
         "mode": "lines",
         "name": "Rechits chain",
         "showlegend": false,
         "type": "scatter3d",
         "x": [
          2.7072927951812744,
          1.7328054904937744
         ],
         "y": [
          -1.0023858547210693,
          -0.43964171409606934
         ],
         "z": [
          16.782499313354492,
          16.782499313354492
         ]
        },
        {
         "anchor": "tip",
         "colorscale": [
          [
           0,
           "blue"
          ],
          [
           1,
           "blue"
          ]
         ],
         "hoverinfo": "skip",
         "legendgroup": "rechits_chain",
         "showscale": false,
         "type": "cone",
         "u": [
          -0.8659778263291473
         ],
         "v": [
          0.5000823975168945
         ],
         "w": [
          0
         ],
         "x": [
          1.7328054904937744
         ],
         "y": [
          -0.43964171409606934
         ],
         "z": [
          16.782499313354492
         ]
        },
        {
         "hoverinfo": "skip",
         "legendgroup": "rechits_chain",
         "mode": "lines",
         "name": "Rechits chain",
         "showlegend": false,
         "type": "scatter3d",
         "x": [
          2.7072927951812744,
          2.7072927951812744
         ],
         "y": [
          -2.1275079250335693,
          -1.0023858547210693
         ],
         "z": [
          16.782499313354492,
          16.782499313354492
         ]
        },
        {
         "anchor": "tip",
         "colorscale": [
          [
           0,
           "blue"
          ],
          [
           1,
           "blue"
          ]
         ],
         "hoverinfo": "skip",
         "legendgroup": "rechits_chain",
         "showscale": false,
         "type": "cone",
         "u": [
          0
         ],
         "v": [
          1
         ],
         "w": [
          0
         ],
         "x": [
          2.7072927951812744
         ],
         "y": [
          -1.0023858547210693
         ],
         "z": [
          16.782499313354492
         ]
        },
        {
         "hoverinfo": "skip",
         "legendgroup": "rechits_chain",
         "mode": "lines",
         "name": "Rechits chain",
         "showlegend": false,
         "type": "scatter3d",
         "x": [
          1.7328054904937744,
          2.7072927951812744
         ],
         "y": [
          -1.5648858547210693,
          -1.0023858547210693
         ],
         "z": [
          16.782499313354492,
          16.782499313354492
         ]
        },
        {
         "anchor": "tip",
         "colorscale": [
          [
           0,
           "blue"
          ],
          [
           1,
           "blue"
          ]
         ],
         "hoverinfo": "skip",
         "legendgroup": "rechits_chain",
         "showscale": false,
         "type": "cone",
         "u": [
          0.866071776036405
         ],
         "v": [
          0.499919672300608
         ],
         "w": [
          0
         ],
         "x": [
          2.7072927951812744
         ],
         "y": [
          -1.0023858547210693
         ],
         "z": [
          16.782499313354492
         ]
        },
        {
         "hoverinfo": "skip",
         "legendgroup": "rechits_chain",
         "mode": "lines",
         "name": "Rechits chain",
         "showlegend": false,
         "type": "scatter3d",
         "x": [
          0.7584402561187744,
          1.7328054904937744
         ],
         "y": [
          0.12285828590393066,
          -0.43964171409606934
         ],
         "z": [
          16.782499313354492,
          16.782499313354492
         ]
        },
        {
         "anchor": "tip",
         "colorscale": [
          [
           0,
           "blue"
          ],
          [
           1,
           "blue"
          ]
         ],
         "hoverinfo": "skip",
         "legendgroup": "rechits_chain",
         "showscale": false,
         "type": "cone",
         "u": [
          0.8660446585505366
         ],
         "v": [
          -0.4999666482837475
         ],
         "w": [
          0
         ],
         "x": [
          1.7328054904937744
         ],
         "y": [
          -0.43964171409606934
         ],
         "z": [
          16.782499313354492
         ]
        },
        {
         "hoverinfo": "skip",
         "legendgroup": "rechits_chain",
         "mode": "lines",
         "name": "Rechits chain",
         "showlegend": false,
         "type": "scatter3d",
         "x": [
          0.7584402561187744,
          1.7328054904937744
         ],
         "y": [
          -1.0023858547210693,
          -1.5648858547210693
         ],
         "z": [
          16.782499313354492,
          16.782499313354492
         ]
        },
        {
         "anchor": "tip",
         "colorscale": [
          [
           0,
           "blue"
          ],
          [
           1,
           "blue"
          ]
         ],
         "hoverinfo": "skip",
         "legendgroup": "rechits_chain",
         "showscale": false,
         "type": "cone",
         "u": [
          0.8660446585505366
         ],
         "v": [
          -0.4999666482837475
         ],
         "w": [
          0
         ],
         "x": [
          1.7328054904937744
         ],
         "y": [
          -1.5648858547210693
         ],
         "z": [
          16.782499313354492
         ]
        },
        {
         "hoverinfo": "skip",
         "legendgroup": "rechits_chain",
         "mode": "lines",
         "name": "Rechits chain",
         "showlegend": false,
         "type": "scatter3d",
         "x": [
          0.7584402561187744,
          0.7584402561187744
         ],
         "y": [
          -2.1275079250335693,
          -1.0023858547210693
         ],
         "z": [
          16.782499313354492,
          16.782499313354492
         ]
        },
        {
         "anchor": "tip",
         "colorscale": [
          [
           0,
           "blue"
          ],
          [
           1,
           "blue"
          ]
         ],
         "hoverinfo": "skip",
         "legendgroup": "rechits_chain",
         "showscale": false,
         "type": "cone",
         "u": [
          0
         ],
         "v": [
          1
         ],
         "w": [
          0
         ],
         "x": [
          0.7584402561187744
         ],
         "y": [
          -1.0023858547210693
         ],
         "z": [
          16.782499313354492
         ]
        },
        {
         "hoverinfo": "skip",
         "legendgroup": "rechits_chain",
         "mode": "lines",
         "name": "Rechits chain",
         "showlegend": false,
         "type": "scatter3d",
         "x": [
          -0.21616911888122559,
          0.7584402561187744
         ],
         "y": [
          -0.43964171409606934,
          0.12285828590393066
         ],
         "z": [
          16.782499313354492,
          16.782499313354492
         ]
        },
        {
         "anchor": "tip",
         "colorscale": [
          [
           0,
           "blue"
          ],
          [
           1,
           "blue"
          ]
         ],
         "hoverinfo": "skip",
         "legendgroup": "rechits_chain",
         "showscale": false,
         "type": "cone",
         "u": [
          0.8660988858794976
         ],
         "v": [
          0.4998727036739385
         ],
         "w": [
          0
         ],
         "x": [
          0.7584402561187744
         ],
         "y": [
          0.12285828590393066
         ],
         "z": [
          16.782499313354492
         ]
        },
        {
         "hoverinfo": "skip",
         "legendgroup": "rechits_chain",
         "mode": "lines",
         "name": "Rechits chain",
         "showlegend": false,
         "type": "scatter3d",
         "x": [
          4.656267166137695,
          2.7072927951812744
         ],
         "y": [
          1.2478582859039307,
          1.2478582859039307
         ],
         "z": [
          16.782499313354492,
          16.782499313354492
         ]
        },
        {
         "anchor": "tip",
         "colorscale": [
          [
           0,
           "blue"
          ],
          [
           1,
           "blue"
          ]
         ],
         "hoverinfo": "skip",
         "legendgroup": "rechits_chain",
         "showscale": false,
         "type": "cone",
         "u": [
          -0.9999999999999999
         ],
         "v": [
          0
         ],
         "w": [
          0
         ],
         "x": [
          2.7072927951812744
         ],
         "y": [
          1.2478582859039307
         ],
         "z": [
          16.782499313354492
         ]
        },
        {
         "hoverinfo": "skip",
         "legendgroup": "rechits_chain",
         "mode": "lines",
         "name": "Rechits chain",
         "showlegend": false,
         "type": "scatter3d",
         "x": [
          1.7328054904937744,
          1.7328054904937744
         ],
         "y": [
          0.6853582859039307,
          -0.43964171409606934
         ],
         "z": [
          16.782499313354492,
          16.782499313354492
         ]
        },
        {
         "anchor": "tip",
         "colorscale": [
          [
           0,
           "blue"
          ],
          [
           1,
           "blue"
          ]
         ],
         "hoverinfo": "skip",
         "legendgroup": "rechits_chain",
         "showscale": false,
         "type": "cone",
         "u": [
          0
         ],
         "v": [
          -1
         ],
         "w": [
          0
         ],
         "x": [
          1.7328054904937744
         ],
         "y": [
          -0.43964171409606934
         ],
         "z": [
          16.782499313354492
         ]
        },
        {
         "customdata": [
          [
           0.022975409403443336,
           0.06650714576244354,
           1.1252385377883911,
           "Follower"
          ],
          [
           0.06388982385396957,
           0.38166096806526184,
           1.1251729726791382,
           "Follower"
          ],
          [
           0.05190572515130043,
           0.6467342376708984,
           1.125180721282959,
           "Follower"
          ],
          [
           0.5893932580947876,
           0.9416670799255371,
           1.125302791595459,
           "Follower"
          ],
          [
           0.023173652589321136,
           0.36130291223526,
           1.1251220703125,
           "Follower"
          ],
          [
           0.03468533232808113,
           0.37443649768829346,
           1.125,
           "Follower"
          ],
          [
           0.5655783414840698,
           0.9594653844833374,
           3.4028234663852886e+38,
           "Seed"
          ],
          [
           0.06201818585395813,
           0.3870357871055603,
           1.1250749826431274,
           "Follower"
          ],
          [
           0.04977152496576309,
           0.36356979608535767,
           1.125197172164917,
           "Follower"
          ]
         ],
         "hovertemplate": "Rechit : %{customdata[3]}<br>Energy: %{customdata[0]:.2g} GeV<br>Rho: %{customdata[1]:.2g} GeV<br>Delta: %{customdata[2]:.2g} cm",
         "legendgroup": "rechits",
         "legendgrouptitle": {
          "text": "Rechits"
         },
         "marker": {
          "color": "#EF553B",
          "size": [
           0.6892622709274292,
           1.9166947603225708,
           1.5571717023849487,
           17.68179702758789,
           0.6952095627784729,
           1.040560007095337,
           16.967350006103516,
           1.8605456352233887,
           1.4931457042694092
          ],
          "symbol": "circle"
         },
         "mode": "markers",
         "name": "2D cluster nb 3",
         "type": "scatter3d",
         "x": [
          3.539011001586914,
          3.539011001586914,
          2.56453275680542,
          2.56453275680542,
          2.56453275680542,
          1.59004545211792,
          1.59004545211792,
          0.6156802177429199,
          0.6156802177429199
         ],
         "y": [
          -2.7358291149139404,
          -1.6105759143829346,
          0.07716822624206543,
          -1.0480759143829346,
          -2.1731979846954346,
          0.6396682262420654,
          -0.48533177375793457,
          0.07716822624206543,
          -1.0480759143829346
         ],
         "z": [
          17.672500610351562,
          17.672500610351562,
          17.672500610351562,
          17.672500610351562,
          17.672500610351562,
          17.672500610351562,
          17.672500610351562,
          17.672500610351562,
          17.672500610351562
         ]
        },
        {
         "hoverinfo": "skip",
         "legendgroup": "rechits_chain",
         "mode": "lines",
         "name": "Rechits chain",
         "showlegend": false,
         "type": "scatter3d",
         "x": [
          3.539011001586914,
          2.56453275680542
         ],
         "y": [
          -2.7358291149139404,
          -2.1731979846954346
         ],
         "z": [
          17.672500610351562,
          17.672500610351562
         ]
        },
        {
         "anchor": "tip",
         "colorscale": [
          [
           0,
           "blue"
          ],
          [
           1,
           "blue"
          ]
         ],
         "hoverinfo": "skip",
         "legendgroup": "rechits_chain",
         "showscale": false,
         "type": "cone",
         "u": [
          -0.8660193030850141
         ],
         "v": [
          0.5000105665724939
         ],
         "w": [
          0
         ],
         "x": [
          2.56453275680542
         ],
         "y": [
          -2.1731979846954346
         ],
         "z": [
          17.672500610351562
         ]
        },
        {
         "hoverinfo": "skip",
         "legendgroup": "rechits_chain",
         "mode": "lines",
         "name": "Rechits chain",
         "showlegend": false,
         "type": "scatter3d",
         "x": [
          3.539011001586914,
          2.56453275680542
         ],
         "y": [
          -1.6105759143829346,
          -1.0480759143829346
         ],
         "z": [
          17.672500610351562,
          17.672500610351562
         ]
        },
        {
         "anchor": "tip",
         "colorscale": [
          [
           0,
           "blue"
          ],
          [
           1,
           "blue"
          ]
         ],
         "hoverinfo": "skip",
         "legendgroup": "rechits_chain",
         "showscale": false,
         "type": "cone",
         "u": [
          -0.8660697636731018
         ],
         "v": [
          0.4999231585466086
         ],
         "w": [
          0
         ],
         "x": [
          2.56453275680542
         ],
         "y": [
          -1.0480759143829346
         ],
         "z": [
          17.672500610351562
         ]
        },
        {
         "hoverinfo": "skip",
         "legendgroup": "rechits_chain",
         "mode": "lines",
         "name": "Rechits chain",
         "showlegend": false,
         "type": "scatter3d",
         "x": [
          2.56453275680542,
          1.59004545211792
         ],
         "y": [
          0.07716822624206543,
          -0.48533177375793457
         ],
         "z": [
          17.672500610351562,
          17.672500610351562
         ]
        },
        {
         "anchor": "tip",
         "colorscale": [
          [
           0,
           "blue"
          ],
          [
           1,
           "blue"
          ]
         ],
         "hoverinfo": "skip",
         "legendgroup": "rechits_chain",
         "showscale": false,
         "type": "cone",
         "u": [
          -0.866071776036405
         ],
         "v": [
          -0.499919672300608
         ],
         "w": [
          0
         ],
         "x": [
          1.59004545211792
         ],
         "y": [
          -0.48533177375793457
         ],
         "z": [
          17.672500610351562
         ]
        },
        {
         "hoverinfo": "skip",
         "legendgroup": "rechits_chain",
         "mode": "lines",
         "name": "Rechits chain",
         "showlegend": false,
         "type": "scatter3d",
         "x": [
          2.56453275680542,
          1.59004545211792
         ],
         "y": [
          -1.0480759143829346,
          -0.48533177375793457
         ],
         "z": [
          17.672500610351562,
          17.672500610351562
         ]
        },
        {
         "anchor": "tip",
         "colorscale": [
          [
           0,
           "blue"
          ],
          [
           1,
           "blue"
          ]
         ],
         "hoverinfo": "skip",
         "legendgroup": "rechits_chain",
         "showscale": false,
         "type": "cone",
         "u": [
          -0.8659778263291473
         ],
         "v": [
          0.5000823975168945
         ],
         "w": [
          0
         ],
         "x": [
          1.59004545211792
         ],
         "y": [
          -0.48533177375793457
         ],
         "z": [
          17.672500610351562
         ]
        },
        {
         "hoverinfo": "skip",
         "legendgroup": "rechits_chain",
         "mode": "lines",
         "name": "Rechits chain",
         "showlegend": false,
         "type": "scatter3d",
         "x": [
          2.56453275680542,
          2.56453275680542
         ],
         "y": [
          -2.1731979846954346,
          -1.0480759143829346
         ],
         "z": [
          17.672500610351562,
          17.672500610351562
         ]
        },
        {
         "anchor": "tip",
         "colorscale": [
          [
           0,
           "blue"
          ],
          [
           1,
           "blue"
          ]
         ],
         "hoverinfo": "skip",
         "legendgroup": "rechits_chain",
         "showscale": false,
         "type": "cone",
         "u": [
          0
         ],
         "v": [
          1
         ],
         "w": [
          0
         ],
         "x": [
          2.56453275680542
         ],
         "y": [
          -1.0480759143829346
         ],
         "z": [
          17.672500610351562
         ]
        },
        {
         "hoverinfo": "skip",
         "legendgroup": "rechits_chain",
         "mode": "lines",
         "name": "Rechits chain",
         "showlegend": false,
         "type": "scatter3d",
         "x": [
          1.59004545211792,
          1.59004545211792
         ],
         "y": [
          0.6396682262420654,
          -0.48533177375793457
         ],
         "z": [
          17.672500610351562,
          17.672500610351562
         ]
        },
        {
         "anchor": "tip",
         "colorscale": [
          [
           0,
           "blue"
          ],
          [
           1,
           "blue"
          ]
         ],
         "hoverinfo": "skip",
         "legendgroup": "rechits_chain",
         "showscale": false,
         "type": "cone",
         "u": [
          0
         ],
         "v": [
          -1
         ],
         "w": [
          0
         ],
         "x": [
          1.59004545211792
         ],
         "y": [
          -0.48533177375793457
         ],
         "z": [
          17.672500610351562
         ]
        },
        {
         "hoverinfo": "skip",
         "legendgroup": "rechits_chain",
         "mode": "lines",
         "name": "Rechits chain",
         "showlegend": false,
         "type": "scatter3d",
         "x": [
          0.6156802177429199,
          1.59004545211792
         ],
         "y": [
          0.07716822624206543,
          -0.48533177375793457
         ],
         "z": [
          17.672500610351562,
          17.672500610351562
         ]
        },
        {
         "anchor": "tip",
         "colorscale": [
          [
           0,
           "blue"
          ],
          [
           1,
           "blue"
          ]
         ],
         "hoverinfo": "skip",
         "legendgroup": "rechits_chain",
         "showscale": false,
         "type": "cone",
         "u": [
          0.8660446585505366
         ],
         "v": [
          -0.4999666482837475
         ],
         "w": [
          0
         ],
         "x": [
          1.59004545211792
         ],
         "y": [
          -0.48533177375793457
         ],
         "z": [
          17.672500610351562
         ]
        },
        {
         "hoverinfo": "skip",
         "legendgroup": "rechits_chain",
         "mode": "lines",
         "name": "Rechits chain",
         "showlegend": false,
         "type": "scatter3d",
         "x": [
          0.6156802177429199,
          1.59004545211792
         ],
         "y": [
          -1.0480759143829346,
          -0.48533177375793457
         ],
         "z": [
          17.672500610351562,
          17.672500610351562
         ]
        },
        {
         "anchor": "tip",
         "colorscale": [
          [
           0,
           "blue"
          ],
          [
           1,
           "blue"
          ]
         ],
         "hoverinfo": "skip",
         "legendgroup": "rechits_chain",
         "showscale": false,
         "type": "cone",
         "u": [
          0.8659506941311695
         ],
         "v": [
          0.500129378594925
         ],
         "w": [
          0
         ],
         "x": [
          1.59004545211792
         ],
         "y": [
          -0.48533177375793457
         ],
         "z": [
          17.672500610351562
         ]
        },
        {
         "customdata": [
          [
           0.09454699605703354,
           0.28458938002586365,
           1.1031919717788696,
           "Follower"
          ],
          [
           0.18983514606952667,
           0.7129698395729065,
           1.0783343315124512,
           "Follower"
          ],
          [
           0.32504117488861084,
           0.8257558345794678,
           1.1251729726791382,
           "Follower"
          ],
          [
           0.006066666916012764,
           0.09703096747398376,
           1.125,
           "Follower"
          ],
          [
           0.0592246912419796,
           0.6562799215316772,
           1.052562952041626,
           "Follower"
          ],
          [
           0.5628400444984436,
           1.035860300064087,
           3.4028234663852886e+38,
           "Seed"
          ],
          [
           0.31266477704048157,
           0.7889233231544495,
           1.125302791595459,
           "Follower"
          ],
          [
           0.05927487462759018,
           0.5249376893043518,
           1.125180721282959,
           "Follower"
          ],
          [
           0.09265265613794327,
           0.34306570887565613,
           1.1250749826431274,
           "Follower"
          ],
          [
           0.055820778012275696,
           0.29293525218963623,
           1.1250749826431274,
           "Follower"
          ],
          [
           0.009636636823415756,
           0.08387335389852524,
           1.1252864599227905,
           "Follower"
          ],
          [
           0.013140317983925343,
           0.013140317983925343,
           1.9488525390625,
           "Follower"
          ],
          [
           0.05504359304904938,
           0.3144194781780243,
           1.1251220703125,
           "Follower"
          ],
          [
           0.09916359186172485,
           0.3841235339641571,
           1.1251883506774902,
           "Follower"
          ],
          [
           0.022052546963095665,
           0.3076826333999634,
           0,
           "Follower"
          ],
          [
           0.10065136104822159,
           0.34698203206062317,
           1.125,
           "Follower"
          ]
         ],
         "hovertemplate": "Rechit : %{customdata[3]}<br>Energy: %{customdata[0]:.2g} GeV<br>Rho: %{customdata[1]:.2g} GeV<br>Delta: %{customdata[2]:.2g} cm",
         "legendgroup": "rechits",
         "legendgrouptitle": {
          "text": "Rechits"
         },
         "marker": {
          "color": "#EF553B",
          "size": [
           2.8364098072052,
           5.695054531097412,
           9.751235008239746,
           0.18200001120567322,
           1.7767407894134521,
           16.88520050048828,
           9.379942893981934,
           1.778246283531189,
           2.7795796394348145,
           1.6746233701705933,
           0.2890990972518921,
           0.39420953392982483,
           1.6513078212738037,
           2.974907875061035,
           0.6615763902664185,
           3.019540786743164
          ],
          "symbol": "circle"
         },
         "mode": "markers",
         "name": "2D cluster nb 4",
         "type": "scatter3d",
         "x": [
          3.539011001586914,
          3.539011001586914,
          3.608940839767456,
          2.634462594985962,
          2.634462594985962,
          2.634462594985962,
          1.659975290298462,
          1.659975290298462,
          0.6856100559234619,
          0.6856100559234619,
          -0.2889993190765381,
          6.532289505004883,
          4.583436965942383,
          4.583436965942383,
          1.659975290298462,
          1.659975290298462
         ],
         "y": [
          -2.7358291149139404,
          -0.48533177375793457,
          -1.6348557472229004,
          1.1778883934020996,
          0.05288839340209961,
          -1.0723557472229004,
          -0.5096116065979004,
          -1.6348557472229004,
          0.05288839340209961,
          -1.0723557472229004,
          -0.5096116065979004,
          -1.0723557472229004,
          -2.1974778175354004,
          -1.0723557472229004,
          0.6153883934020996,
          0.6153883934020996
         ],
         "z": [
          19.6875,
          19.6875,
          19.6875,
          19.6875,
          19.6875,
          19.6875,
          19.6875,
          19.6875,
          19.6875,
          19.6875,
          19.6875,
          19.6875,
          19.6875,
          19.6875,
          19.6875,
          19.6875
         ]
        },
        {
         "hoverinfo": "skip",
         "legendgroup": "rechits_chain",
         "mode": "lines",
         "name": "Rechits chain",
         "showlegend": false,
         "type": "scatter3d",
         "x": [
          3.539011001586914,
          3.608940839767456
         ],
         "y": [
          -2.7358291149139404,
          -1.6348557472229004
         ],
         "z": [
          19.6875,
          19.6875
         ]
        },
        {
         "anchor": "tip",
         "colorscale": [
          [
           0,
           "blue"
          ],
          [
           1,
           "blue"
          ]
         ],
         "hoverinfo": "skip",
         "legendgroup": "rechits_chain",
         "showscale": false,
         "type": "cone",
         "u": [
          0.06338863917039256
         ],
         "v": [
          0.9979889179866307
         ],
         "w": [
          0
         ],
         "x": [
          3.608940839767456
         ],
         "y": [
          -1.6348557472229004
         ],
         "z": [
          19.6875
         ]
        },
        {
         "hoverinfo": "skip",
         "legendgroup": "rechits_chain",
         "mode": "lines",
         "name": "Rechits chain",
         "showlegend": false,
         "type": "scatter3d",
         "x": [
          3.539011001586914,
          2.634462594985962
         ],
         "y": [
          -0.48533177375793457,
          -1.0723557472229004
         ],
         "z": [
          19.6875,
          19.6875
         ]
        },
        {
         "anchor": "tip",
         "colorscale": [
          [
           0,
           "blue"
          ],
          [
           1,
           "blue"
          ]
         ],
         "hoverinfo": "skip",
         "legendgroup": "rechits_chain",
         "showscale": false,
         "type": "cone",
         "u": [
          -0.838838537025174
         ],
         "v": [
          -0.5443802979549001
         ],
         "w": [
          0
         ],
         "x": [
          2.634462594985962
         ],
         "y": [
          -1.0723557472229004
         ],
         "z": [
          19.6875
         ]
        },
        {
         "hoverinfo": "skip",
         "legendgroup": "rechits_chain",
         "mode": "lines",
         "name": "Rechits chain",
         "showlegend": false,
         "type": "scatter3d",
         "x": [
          3.608940839767456,
          2.634462594985962
         ],
         "y": [
          -1.6348557472229004,
          -1.0723557472229004
         ],
         "z": [
          19.6875,
          19.6875
         ]
        },
        {
         "anchor": "tip",
         "colorscale": [
          [
           0,
           "blue"
          ],
          [
           1,
           "blue"
          ]
         ],
         "hoverinfo": "skip",
         "legendgroup": "rechits_chain",
         "showscale": false,
         "type": "cone",
         "u": [
          -0.8660697636731018
         ],
         "v": [
          0.4999231585466086
         ],
         "w": [
          0
         ],
         "x": [
          2.634462594985962
         ],
         "y": [
          -1.0723557472229004
         ],
         "z": [
          19.6875
         ]
        },
        {
         "hoverinfo": "skip",
         "legendgroup": "rechits_chain",
         "mode": "lines",
         "name": "Rechits chain",
         "showlegend": false,
         "type": "scatter3d",
         "x": [
          2.634462594985962,
          2.634462594985962
         ],
         "y": [
          1.1778883934020996,
          0.05288839340209961
         ],
         "z": [
          19.6875,
          19.6875
         ]
        },
        {
         "anchor": "tip",
         "colorscale": [
          [
           0,
           "blue"
          ],
          [
           1,
           "blue"
          ]
         ],
         "hoverinfo": "skip",
         "legendgroup": "rechits_chain",
         "showscale": false,
         "type": "cone",
         "u": [
          0
         ],
         "v": [
          -1
         ],
         "w": [
          0
         ],
         "x": [
          2.634462594985962
         ],
         "y": [
          0.05288839340209961
         ],
         "z": [
          19.6875
         ]
        },
        {
         "hoverinfo": "skip",
         "legendgroup": "rechits_chain",
         "mode": "lines",
         "name": "Rechits chain",
         "showlegend": false,
         "type": "scatter3d",
         "x": [
          2.634462594985962,
          3.539011001586914
         ],
         "y": [
          0.05288839340209961,
          -0.48533177375793457
         ],
         "z": [
          19.6875,
          19.6875
         ]
        },
        {
         "anchor": "tip",
         "colorscale": [
          [
           0,
           "blue"
          ],
          [
           1,
           "blue"
          ]
         ],
         "hoverinfo": "skip",
         "legendgroup": "rechits_chain",
         "showscale": false,
         "type": "cone",
         "u": [
          0.8593770137549294
         ],
         "v": [
          -0.511342496013836
         ],
         "w": [
          0
         ],
         "x": [
          3.539011001586914
         ],
         "y": [
          -0.48533177375793457
         ],
         "z": [
          19.6875
         ]
        },
        {
         "hoverinfo": "skip",
         "legendgroup": "rechits_chain",
         "mode": "lines",
         "name": "Rechits chain",
         "showlegend": false,
         "type": "scatter3d",
         "x": [
          1.659975290298462,
          2.634462594985962
         ],
         "y": [
          -0.5096116065979004,
          -1.0723557472229004
         ],
         "z": [
          19.6875,
          19.6875
         ]
        },
        {
         "anchor": "tip",
         "colorscale": [
          [
           0,
           "blue"
          ],
          [
           1,
           "blue"
          ]
         ],
         "hoverinfo": "skip",
         "legendgroup": "rechits_chain",
         "showscale": false,
         "type": "cone",
         "u": [
          0.8659778263291473
         ],
         "v": [
          -0.5000823975168945
         ],
         "w": [
          0
         ],
         "x": [
          2.634462594985962
         ],
         "y": [
          -1.0723557472229004
         ],
         "z": [
          19.6875
         ]
        },
        {
         "hoverinfo": "skip",
         "legendgroup": "rechits_chain",
         "mode": "lines",
         "name": "Rechits chain",
         "showlegend": false,
         "type": "scatter3d",
         "x": [
          1.659975290298462,
          2.634462594985962
         ],
         "y": [
          -1.6348557472229004,
          -1.0723557472229004
         ],
         "z": [
          19.6875,
          19.6875
         ]
        },
        {
         "anchor": "tip",
         "colorscale": [
          [
           0,
           "blue"
          ],
          [
           1,
           "blue"
          ]
         ],
         "hoverinfo": "skip",
         "legendgroup": "rechits_chain",
         "showscale": false,
         "type": "cone",
         "u": [
          0.866071776036405
         ],
         "v": [
          0.499919672300608
         ],
         "w": [
          0
         ],
         "x": [
          2.634462594985962
         ],
         "y": [
          -1.0723557472229004
         ],
         "z": [
          19.6875
         ]
        },
        {
         "hoverinfo": "skip",
         "legendgroup": "rechits_chain",
         "mode": "lines",
         "name": "Rechits chain",
         "showlegend": false,
         "type": "scatter3d",
         "x": [
          0.6856100559234619,
          1.659975290298462
         ],
         "y": [
          0.05288839340209961,
          -0.5096116065979004
         ],
         "z": [
          19.6875,
          19.6875
         ]
        },
        {
         "anchor": "tip",
         "colorscale": [
          [
           0,
           "blue"
          ],
          [
           1,
           "blue"
          ]
         ],
         "hoverinfo": "skip",
         "legendgroup": "rechits_chain",
         "showscale": false,
         "type": "cone",
         "u": [
          0.8660446585505366
         ],
         "v": [
          -0.4999666482837475
         ],
         "w": [
          0
         ],
         "x": [
          1.659975290298462
         ],
         "y": [
          -0.5096116065979004
         ],
         "z": [
          19.6875
         ]
        },
        {
         "hoverinfo": "skip",
         "legendgroup": "rechits_chain",
         "mode": "lines",
         "name": "Rechits chain",
         "showlegend": false,
         "type": "scatter3d",
         "x": [
          0.6856100559234619,
          1.659975290298462
         ],
         "y": [
          -1.0723557472229004,
          -1.6348557472229004
         ],
         "z": [
          19.6875,
          19.6875
         ]
        },
        {
         "anchor": "tip",
         "colorscale": [
          [
           0,
           "blue"
          ],
          [
           1,
           "blue"
          ]
         ],
         "hoverinfo": "skip",
         "legendgroup": "rechits_chain",
         "showscale": false,
         "type": "cone",
         "u": [
          0.8660446585505366
         ],
         "v": [
          -0.4999666482837475
         ],
         "w": [
          0
         ],
         "x": [
          1.659975290298462
         ],
         "y": [
          -1.6348557472229004
         ],
         "z": [
          19.6875
         ]
        },
        {
         "hoverinfo": "skip",
         "legendgroup": "rechits_chain",
         "mode": "lines",
         "name": "Rechits chain",
         "showlegend": false,
         "type": "scatter3d",
         "x": [
          -0.2889993190765381,
          0.6856100559234619
         ],
         "y": [
          -0.5096116065979004,
          0.05288839340209961
         ],
         "z": [
          19.6875,
          19.6875
         ]
        },
        {
         "anchor": "tip",
         "colorscale": [
          [
           0,
           "blue"
          ],
          [
           1,
           "blue"
          ]
         ],
         "hoverinfo": "skip",
         "legendgroup": "rechits_chain",
         "showscale": false,
         "type": "cone",
         "u": [
          0.8660988858794976
         ],
         "v": [
          0.4998727036739385
         ],
         "w": [
          0
         ],
         "x": [
          0.6856100559234619
         ],
         "y": [
          0.05288839340209961
         ],
         "z": [
          19.6875
         ]
        },
        {
         "hoverinfo": "skip",
         "legendgroup": "rechits_chain",
         "mode": "lines",
         "name": "Rechits chain",
         "showlegend": false,
         "type": "scatter3d",
         "x": [
          6.532289505004883,
          4.583436965942383
         ],
         "y": [
          -1.0723557472229004,
          -1.0723557472229004
         ],
         "z": [
          19.6875,
          19.6875
         ]
        },
        {
         "anchor": "tip",
         "colorscale": [
          [
           0,
           "blue"
          ],
          [
           1,
           "blue"
          ]
         ],
         "hoverinfo": "skip",
         "legendgroup": "rechits_chain",
         "showscale": false,
         "type": "cone",
         "u": [
          -1
         ],
         "v": [
          0
         ],
         "w": [
          0
         ],
         "x": [
          4.583436965942383
         ],
         "y": [
          -1.0723557472229004
         ],
         "z": [
          19.6875
         ]
        },
        {
         "hoverinfo": "skip",
         "legendgroup": "rechits_chain",
         "mode": "lines",
         "name": "Rechits chain",
         "showlegend": false,
         "type": "scatter3d",
         "x": [
          4.583436965942383,
          4.583436965942383
         ],
         "y": [
          -2.1974778175354004,
          -1.0723557472229004
         ],
         "z": [
          19.6875,
          19.6875
         ]
        },
        {
         "anchor": "tip",
         "colorscale": [
          [
           0,
           "blue"
          ],
          [
           1,
           "blue"
          ]
         ],
         "hoverinfo": "skip",
         "legendgroup": "rechits_chain",
         "showscale": false,
         "type": "cone",
         "u": [
          0
         ],
         "v": [
          1
         ],
         "w": [
          0
         ],
         "x": [
          4.583436965942383
         ],
         "y": [
          -1.0723557472229004
         ],
         "z": [
          19.6875
         ]
        },
        {
         "hoverinfo": "skip",
         "legendgroup": "rechits_chain",
         "mode": "lines",
         "name": "Rechits chain",
         "showlegend": false,
         "type": "scatter3d",
         "x": [
          4.583436965942383,
          3.608940839767456
         ],
         "y": [
          -1.0723557472229004,
          -1.6348557472229004
         ],
         "z": [
          19.6875,
          19.6875
         ]
        },
        {
         "anchor": "tip",
         "colorscale": [
          [
           0,
           "blue"
          ],
          [
           1,
           "blue"
          ]
         ],
         "hoverinfo": "skip",
         "legendgroup": "rechits_chain",
         "showscale": false,
         "type": "cone",
         "u": [
          -0.8660737354023266
         ],
         "v": [
          -0.4999162778368602
         ],
         "w": [
          0
         ],
         "x": [
          3.608940839767456
         ],
         "y": [
          -1.6348557472229004
         ],
         "z": [
          19.6875
         ]
        },
        {
         "hoverinfo": "skip",
         "legendgroup": "rechits_chain",
         "mode": "lines",
         "name": "Rechits chain",
         "showlegend": false,
         "type": "scatter3d",
         "x": [
          1.659975290298462,
          1.659975290298462
         ],
         "y": [
          0.6153883934020996,
          -0.5096116065979004
         ],
         "z": [
          19.6875,
          19.6875
         ]
        },
        {
         "anchor": "tip",
         "colorscale": [
          [
           0,
           "blue"
          ],
          [
           1,
           "blue"
          ]
         ],
         "hoverinfo": "skip",
         "legendgroup": "rechits_chain",
         "showscale": false,
         "type": "cone",
         "u": [
          0
         ],
         "v": [
          -1
         ],
         "w": [
          0
         ],
         "x": [
          1.659975290298462
         ],
         "y": [
          -0.5096116065979004
         ],
         "z": [
          19.6875
         ]
        },
        {
         "customdata": [
          [
           0.1405513733625412,
           0.18782758712768555,
           0.9514858722686768,
           "Follower"
          ],
          [
           0.08834650367498398,
           0.6448255181312561,
           0.9516155123710632,
           "Follower"
          ],
          [
           0.09574663639068604,
           0.5847092270851135,
           1.0810531377792358,
           "Follower"
          ],
          [
           0.006205910816788673,
           0.7093762755393982,
           1.125180721282959,
           "Follower"
          ],
          [
           0.8704541921615601,
           1.0762386322021484,
           3.4028234663852886e+38,
           "Seed"
          ],
          [
           0.01912454329431057,
           0.5137639045715332,
           1.1251220703125,
           "Follower"
          ],
          [
           0.1279209852218628,
           0.2205577790737152,
           1.125,
           "Follower"
          ],
          [
           0.1790676862001419,
           0.7499818205833435,
           1.125302791595459,
           "Follower"
          ],
          [
           0.023077791556715965,
           0.6144856810569763,
           1.125180721282959,
           "Follower"
          ],
          [
           0.11416932195425034,
           0.22996890544891357,
           1.1250749826431274,
           "Follower"
          ],
          [
           0.029453692957758904,
           0.08653835207223892,
           1.1252864599227905,
           "Follower"
          ]
         ],
         "hovertemplate": "Rechit : %{customdata[3]}<br>Energy: %{customdata[0]:.2g} GeV<br>Rho: %{customdata[1]:.2g} GeV<br>Delta: %{customdata[2]:.2g} cm",
         "legendgroup": "rechits",
         "legendgrouptitle": {
          "text": "Rechits"
         },
         "marker": {
          "color": "#EF553B",
          "size": [
           4.216541290283203,
           2.650395154953003,
           2.872399091720581,
           0.1861773282289505,
           26.11362648010254,
           0.573736310005188,
           3.837629556655884,
           5.372030735015869,
           0.6923337578773499,
           3.425079584121704,
           0.8836107850074768
          ],
          "symbol": "circle"
         },
         "mode": "markers",
         "name": "2D cluster nb 5",
         "type": "scatter3d",
         "x": [
          3.608940839767456,
          3.608940839767456,
          3.7771010398864746,
          2.8026227951049805,
          2.8026227951049805,
          2.8026227951049805,
          1.8281354904174805,
          1.8281354904174805,
          1.8281354904174805,
          0.8537702560424805,
          -0.12083911895751953
         ],
         "y": [
          0.6153883934020996,
          -0.5096116065979004,
          -1.5775058269500732,
          0.11023831367492676,
          -1.0150058269500732,
          -2.1401278972625732,
          0.6727383136749268,
          -0.45226168632507324,
          -1.5775058269500732,
          -1.0150058269500732,
          -1.5775058269500732
         ],
         "z": [
          20.577499389648438,
          20.577499389648438,
          20.577499389648438,
          20.577499389648438,
          20.577499389648438,
          20.577499389648438,
          20.577499389648438,
          20.577499389648438,
          20.577499389648438,
          20.577499389648438,
          20.577499389648438
         ]
        },
        {
         "hoverinfo": "skip",
         "legendgroup": "rechits_chain",
         "mode": "lines",
         "name": "Rechits chain",
         "showlegend": false,
         "type": "scatter3d",
         "x": [
          3.608940839767456,
          2.8026227951049805
         ],
         "y": [
          0.6153883934020996,
          0.11023831367492676
         ],
         "z": [
          20.577499389648438,
          20.577499389648438
         ]
        },
        {
         "anchor": "tip",
         "colorscale": [
          [
           0,
           "blue"
          ],
          [
           1,
           "blue"
          ]
         ],
         "hoverinfo": "skip",
         "legendgroup": "rechits_chain",
         "showscale": false,
         "type": "cone",
         "u": [
          -0.847430378220141
         ],
         "v": [
          -0.5309065398633444
         ],
         "w": [
          0
         ],
         "x": [
          2.8026227951049805
         ],
         "y": [
          0.11023831367492676
         ],
         "z": [
          20.577499389648438
         ]
        },
        {
         "hoverinfo": "skip",
         "legendgroup": "rechits_chain",
         "mode": "lines",
         "name": "Rechits chain",
         "showlegend": false,
         "type": "scatter3d",
         "x": [
          3.608940839767456,
          2.8026227951049805
         ],
         "y": [
          -0.5096116065979004,
          -1.0150058269500732
         ],
         "z": [
          20.577499389648438,
          20.577499389648438
         ]
        },
        {
         "anchor": "tip",
         "colorscale": [
          [
           0,
           "blue"
          ],
          [
           1,
           "blue"
          ]
         ],
         "hoverinfo": "skip",
         "legendgroup": "rechits_chain",
         "showscale": false,
         "type": "cone",
         "u": [
          -0.8473149329917637
         ],
         "v": [
          -0.5310907684465651
         ],
         "w": [
          0
         ],
         "x": [
          2.8026227951049805
         ],
         "y": [
          -1.0150058269500732
         ],
         "z": [
          20.577499389648438
         ]
        },
        {
         "hoverinfo": "skip",
         "legendgroup": "rechits_chain",
         "mode": "lines",
         "name": "Rechits chain",
         "showlegend": false,
         "type": "scatter3d",
         "x": [
          3.7771010398864746,
          3.608940839767456
         ],
         "y": [
          -1.5775058269500732,
          -0.5096116065979004
         ],
         "z": [
          20.577499389648438,
          20.577499389648438
         ]
        },
        {
         "anchor": "tip",
         "colorscale": [
          [
           0,
           "blue"
          ],
          [
           1,
           "blue"
          ]
         ],
         "hoverinfo": "skip",
         "legendgroup": "rechits_chain",
         "showscale": false,
         "type": "cone",
         "u": [
          -0.15555220362032918
         ],
         "v": [
          0.9878276732046231
         ],
         "w": [
          0
         ],
         "x": [
          3.608940839767456
         ],
         "y": [
          -0.5096116065979004
         ],
         "z": [
          20.577499389648438
         ]
        },
        {
         "hoverinfo": "skip",
         "legendgroup": "rechits_chain",
         "mode": "lines",
         "name": "Rechits chain",
         "showlegend": false,
         "type": "scatter3d",
         "x": [
          2.8026227951049805,
          1.8281354904174805
         ],
         "y": [
          0.11023831367492676,
          -0.45226168632507324
         ],
         "z": [
          20.577499389648438,
          20.577499389648438
         ]
        },
        {
         "anchor": "tip",
         "colorscale": [
          [
           0,
           "blue"
          ],
          [
           1,
           "blue"
          ]
         ],
         "hoverinfo": "skip",
         "legendgroup": "rechits_chain",
         "showscale": false,
         "type": "cone",
         "u": [
          -0.866071776036405
         ],
         "v": [
          -0.499919672300608
         ],
         "w": [
          0
         ],
         "x": [
          1.8281354904174805
         ],
         "y": [
          -0.45226168632507324
         ],
         "z": [
          20.577499389648438
         ]
        },
        {
         "hoverinfo": "skip",
         "legendgroup": "rechits_chain",
         "mode": "lines",
         "name": "Rechits chain",
         "showlegend": false,
         "type": "scatter3d",
         "x": [
          2.8026227951049805,
          2.8026227951049805
         ],
         "y": [
          -2.1401278972625732,
          -1.0150058269500732
         ],
         "z": [
          20.577499389648438,
          20.577499389648438
         ]
        },
        {
         "anchor": "tip",
         "colorscale": [
          [
           0,
           "blue"
          ],
          [
           1,
           "blue"
          ]
         ],
         "hoverinfo": "skip",
         "legendgroup": "rechits_chain",
         "showscale": false,
         "type": "cone",
         "u": [
          0
         ],
         "v": [
          1
         ],
         "w": [
          0
         ],
         "x": [
          2.8026227951049805
         ],
         "y": [
          -1.0150058269500732
         ],
         "z": [
          20.577499389648438
         ]
        },
        {
         "hoverinfo": "skip",
         "legendgroup": "rechits_chain",
         "mode": "lines",
         "name": "Rechits chain",
         "showlegend": false,
         "type": "scatter3d",
         "x": [
          1.8281354904174805,
          1.8281354904174805
         ],
         "y": [
          0.6727383136749268,
          -0.45226168632507324
         ],
         "z": [
          20.577499389648438,
          20.577499389648438
         ]
        },
        {
         "anchor": "tip",
         "colorscale": [
          [
           0,
           "blue"
          ],
          [
           1,
           "blue"
          ]
         ],
         "hoverinfo": "skip",
         "legendgroup": "rechits_chain",
         "showscale": false,
         "type": "cone",
         "u": [
          0
         ],
         "v": [
          -1
         ],
         "w": [
          0
         ],
         "x": [
          1.8281354904174805
         ],
         "y": [
          -0.45226168632507324
         ],
         "z": [
          20.577499389648438
         ]
        },
        {
         "hoverinfo": "skip",
         "legendgroup": "rechits_chain",
         "mode": "lines",
         "name": "Rechits chain",
         "showlegend": false,
         "type": "scatter3d",
         "x": [
          1.8281354904174805,
          2.8026227951049805
         ],
         "y": [
          -0.45226168632507324,
          -1.0150058269500732
         ],
         "z": [
          20.577499389648438,
          20.577499389648438
         ]
        },
        {
         "anchor": "tip",
         "colorscale": [
          [
           0,
           "blue"
          ],
          [
           1,
           "blue"
          ]
         ],
         "hoverinfo": "skip",
         "legendgroup": "rechits_chain",
         "showscale": false,
         "type": "cone",
         "u": [
          0.8659778263291473
         ],
         "v": [
          -0.5000823975168945
         ],
         "w": [
          0
         ],
         "x": [
          2.8026227951049805
         ],
         "y": [
          -1.0150058269500732
         ],
         "z": [
          20.577499389648438
         ]
        },
        {
         "hoverinfo": "skip",
         "legendgroup": "rechits_chain",
         "mode": "lines",
         "name": "Rechits chain",
         "showlegend": false,
         "type": "scatter3d",
         "x": [
          1.8281354904174805,
          2.8026227951049805
         ],
         "y": [
          -1.5775058269500732,
          -1.0150058269500732
         ],
         "z": [
          20.577499389648438,
          20.577499389648438
         ]
        },
        {
         "anchor": "tip",
         "colorscale": [
          [
           0,
           "blue"
          ],
          [
           1,
           "blue"
          ]
         ],
         "hoverinfo": "skip",
         "legendgroup": "rechits_chain",
         "showscale": false,
         "type": "cone",
         "u": [
          0.866071776036405
         ],
         "v": [
          0.499919672300608
         ],
         "w": [
          0
         ],
         "x": [
          2.8026227951049805
         ],
         "y": [
          -1.0150058269500732
         ],
         "z": [
          20.577499389648438
         ]
        },
        {
         "hoverinfo": "skip",
         "legendgroup": "rechits_chain",
         "mode": "lines",
         "name": "Rechits chain",
         "showlegend": false,
         "type": "scatter3d",
         "x": [
          0.8537702560424805,
          1.8281354904174805
         ],
         "y": [
          -1.0150058269500732,
          -1.5775058269500732
         ],
         "z": [
          20.577499389648438,
          20.577499389648438
         ]
        },
        {
         "anchor": "tip",
         "colorscale": [
          [
           0,
           "blue"
          ],
          [
           1,
           "blue"
          ]
         ],
         "hoverinfo": "skip",
         "legendgroup": "rechits_chain",
         "showscale": false,
         "type": "cone",
         "u": [
          0.8660446585505366
         ],
         "v": [
          -0.4999666482837475
         ],
         "w": [
          0
         ],
         "x": [
          1.8281354904174805
         ],
         "y": [
          -1.5775058269500732
         ],
         "z": [
          20.577499389648438
         ]
        },
        {
         "hoverinfo": "skip",
         "legendgroup": "rechits_chain",
         "mode": "lines",
         "name": "Rechits chain",
         "showlegend": false,
         "type": "scatter3d",
         "x": [
          -0.12083911895751953,
          0.8537702560424805
         ],
         "y": [
          -1.5775058269500732,
          -1.0150058269500732
         ],
         "z": [
          20.577499389648438,
          20.577499389648438
         ]
        },
        {
         "anchor": "tip",
         "colorscale": [
          [
           0,
           "blue"
          ],
          [
           1,
           "blue"
          ]
         ],
         "hoverinfo": "skip",
         "legendgroup": "rechits_chain",
         "showscale": false,
         "type": "cone",
         "u": [
          0.8660988858794976
         ],
         "v": [
          0.4998727036739385
         ],
         "w": [
          0
         ],
         "x": [
          0.8537702560424805
         ],
         "y": [
          -1.0150058269500732
         ],
         "z": [
          20.577499389648438
         ]
        },
        {
         "customdata": [
          [
           0.04957970976829529,
           0.382434606552124,
           1.1188064813613892,
           "Follower"
          ],
          [
           0.24116787314414978,
           0.5069062113761902,
           1.1213159561157227,
           "Follower"
          ],
          [
           0.04566045477986336,
           0.09774988144636154,
           1.125237226486206,
           "Follower"
          ],
          [
           0.029510460793972015,
           0.07069621980190277,
           1.125,
           "Follower"
          ],
          [
           0.012952537275850773,
           0.3841319978237152,
           1.125180721282959,
           "Follower"
          ],
          [
           0.4115893840789795,
           0.691395103931427,
           3.4028234663852886e+38,
           "Seed"
          ],
          [
           0.04470811411738396,
           0.4381237030029297,
           1.1187453269958496,
           "Follower"
          ],
          [
           0.1822604537010193,
           0.5154014229774475,
           1.125302791595459,
           "Follower"
          ],
          [
           0.028942683711647987,
           0.4144921600818634,
           1.125180721282959,
           "Follower"
          ],
          [
           0.05947074294090271,
           0.11912636458873749,
           1.125246286392212,
           "Follower"
          ],
          [
           0.07030792534351349,
           0.23268279433250427,
           1.1250749826431274,
           "Follower"
          ],
          [
           0.07307032495737076,
           0.21382585167884827,
           1.1250749826431274,
           "Follower"
          ],
          [
           0.008985445834696293,
           0.008985445834696293,
           1.94873046875,
           "Follower"
          ],
          [
           0.00804633367806673,
           0.00804633367806673,
           1.9489786624908447,
           "Follower"
          ],
          [
           0.025599470362067223,
           0.14618340134620667,
           1.1291307210922241,
           "Follower"
          ],
          [
           0.011339312419295311,
           0.1878948211669922,
           0,
           "Follower"
          ],
          [
           0.058079663664102554,
           0.21126499772071838,
           1.125,
           "Follower"
          ]
         ],
         "hovertemplate": "Rechit : %{customdata[3]}<br>Energy: %{customdata[0]:.2g} GeV<br>Rho: %{customdata[1]:.2g} GeV<br>Delta: %{customdata[2]:.2g} cm",
         "legendgroup": "rechits",
         "legendgrouptitle": {
          "text": "Rechits"
         },
         "marker": {
          "color": "#EF553B",
          "size": [
           1.4873912334442139,
           7.235036373138428,
           1.3698136806488037,
           0.8853138089179993,
           0.38857612013816833,
           12.347681045532227,
           1.3412433862686157,
           5.467813491821289,
           0.8682805299758911,
           1.7841222286224365,
           2.1092376708984375,
           2.1921098232269287,
           0.26956337690353394,
           0.24139000475406647,
           0.7679840922355652,
           0.3401793837547302,
           1.7423899173736572
          ],
          "symbol": "circle"
         },
         "mode": "markers",
         "name": "2D cluster nb 6",
         "type": "scatter3d",
         "x": [
          3.7771010398864746,
          3.7771010398864746,
          2.808602809906006,
          2.808602809906006,
          2.808602809906006,
          2.808602809906006,
          2.808602809906006,
          1.8341155052185059,
          1.8341155052185059,
          1.8341155052185059,
          0.8597502708435059,
          0.8597502708435059,
          -1.0889801979064941,
          5.732064723968506,
          4.757577419281006,
          1.8341155052185059,
          1.8341155052185059
         ],
         "y": [
          -0.45226168632507324,
          -1.5775058269500732,
          -3.262752056121826,
          1.2378582954406738,
          0.11285829544067383,
          -1.0123858451843262,
          -2.137507915496826,
          -0.44964170455932617,
          -1.5748858451843262,
          -2.700139045715332,
          0.11285829544067383,
          -1.0123858451843262,
          -1.0123858451843262,
          -0.44964170455932617,
          -2.137507915496826,
          0.6753582954406738,
          0.6753582954406738
         ],
         "z": [
          22.6924991607666,
          22.6924991607666,
          22.6924991607666,
          22.6924991607666,
          22.6924991607666,
          22.6924991607666,
          22.6924991607666,
          22.6924991607666,
          22.6924991607666,
          22.6924991607666,
          22.6924991607666,
          22.6924991607666,
          22.6924991607666,
          22.6924991607666,
          22.6924991607666,
          22.6924991607666,
          22.6924991607666
         ]
        },
        {
         "hoverinfo": "skip",
         "legendgroup": "rechits_chain",
         "mode": "lines",
         "name": "Rechits chain",
         "showlegend": false,
         "type": "scatter3d",
         "x": [
          3.7771010398864746,
          2.808602809906006
         ],
         "y": [
          -0.45226168632507324,
          -1.0123858451843262
         ],
         "z": [
          22.6924991607666,
          22.6924991607666
         ]
        },
        {
         "anchor": "tip",
         "colorscale": [
          [
           0,
           "blue"
          ],
          [
           1,
           "blue"
          ]
         ],
         "hoverinfo": "skip",
         "legendgroup": "rechits_chain",
         "showscale": false,
         "type": "cone",
         "u": [
          -0.8656530549785076
         ],
         "v": [
          -0.5006443731895694
         ],
         "w": [
          0
         ],
         "x": [
          2.808602809906006
         ],
         "y": [
          -1.0123858451843262
         ],
         "z": [
          22.6924991607666
         ]
        },
        {
         "hoverinfo": "skip",
         "legendgroup": "rechits_chain",
         "mode": "lines",
         "name": "Rechits chain",
         "showlegend": false,
         "type": "scatter3d",
         "x": [
          3.7771010398864746,
          2.808602809906006
         ],
         "y": [
          -1.5775058269500732,
          -1.0123858451843262
         ],
         "z": [
          22.6924991607666,
          22.6924991607666
         ]
        },
        {
         "anchor": "tip",
         "colorscale": [
          [
           0,
           "blue"
          ],
          [
           1,
           "blue"
          ]
         ],
         "hoverinfo": "skip",
         "legendgroup": "rechits_chain",
         "showscale": false,
         "type": "cone",
         "u": [
          -0.8637157503225257
         ],
         "v": [
          0.5039792680704203
         ],
         "w": [
          0
         ],
         "x": [
          2.808602809906006
         ],
         "y": [
          -1.0123858451843262
         ],
         "z": [
          22.6924991607666
         ]
        },
        {
         "hoverinfo": "skip",
         "legendgroup": "rechits_chain",
         "mode": "lines",
         "name": "Rechits chain",
         "showlegend": false,
         "type": "scatter3d",
         "x": [
          2.808602809906006,
          1.8341155052185059
         ],
         "y": [
          -3.262752056121826,
          -2.700139045715332
         ],
         "z": [
          22.6924991607666,
          22.6924991607666
         ]
        },
        {
         "anchor": "tip",
         "colorscale": [
          [
           0,
           "blue"
          ],
          [
           1,
           "blue"
          ]
         ],
         "hoverinfo": "skip",
         "legendgroup": "rechits_chain",
         "showscale": false,
         "type": "cone",
         "u": [
          -0.8660282888646941
         ],
         "v": [
          0.4999950028611187
         ],
         "w": [
          0
         ],
         "x": [
          1.8341155052185059
         ],
         "y": [
          -2.700139045715332
         ],
         "z": [
          22.6924991607666
         ]
        },
        {
         "hoverinfo": "skip",
         "legendgroup": "rechits_chain",
         "mode": "lines",
         "name": "Rechits chain",
         "showlegend": false,
         "type": "scatter3d",
         "x": [
          2.808602809906006,
          2.808602809906006
         ],
         "y": [
          1.2378582954406738,
          0.11285829544067383
         ],
         "z": [
          22.6924991607666,
          22.6924991607666
         ]
        },
        {
         "anchor": "tip",
         "colorscale": [
          [
           0,
           "blue"
          ],
          [
           1,
           "blue"
          ]
         ],
         "hoverinfo": "skip",
         "legendgroup": "rechits_chain",
         "showscale": false,
         "type": "cone",
         "u": [
          0
         ],
         "v": [
          -1
         ],
         "w": [
          0
         ],
         "x": [
          2.808602809906006
         ],
         "y": [
          0.11285829544067383
         ],
         "z": [
          22.6924991607666
         ]
        },
        {
         "hoverinfo": "skip",
         "legendgroup": "rechits_chain",
         "mode": "lines",
         "name": "Rechits chain",
         "showlegend": false,
         "type": "scatter3d",
         "x": [
          2.808602809906006,
          1.8341155052185059
         ],
         "y": [
          0.11285829544067383,
          -0.44964170455932617
         ],
         "z": [
          22.6924991607666,
          22.6924991607666
         ]
        },
        {
         "anchor": "tip",
         "colorscale": [
          [
           0,
           "blue"
          ],
          [
           1,
           "blue"
          ]
         ],
         "hoverinfo": "skip",
         "legendgroup": "rechits_chain",
         "showscale": false,
         "type": "cone",
         "u": [
          -0.866071776036405
         ],
         "v": [
          -0.499919672300608
         ],
         "w": [
          0
         ],
         "x": [
          1.8341155052185059
         ],
         "y": [
          -0.44964170455932617
         ],
         "z": [
          22.6924991607666
         ]
        },
        {
         "hoverinfo": "skip",
         "legendgroup": "rechits_chain",
         "mode": "lines",
         "name": "Rechits chain",
         "showlegend": false,
         "type": "scatter3d",
         "x": [
          2.808602809906006,
          3.7771010398864746
         ],
         "y": [
          -2.137507915496826,
          -1.5775058269500732
         ],
         "z": [
          22.6924991607666,
          22.6924991607666
         ]
        },
        {
         "anchor": "tip",
         "colorscale": [
          [
           0,
           "blue"
          ],
          [
           1,
           "blue"
          ]
         ],
         "hoverinfo": "skip",
         "legendgroup": "rechits_chain",
         "showscale": false,
         "type": "cone",
         "u": [
          0.8657003392336879
         ],
         "v": [
          0.5005626061250256
         ],
         "w": [
          0
         ],
         "x": [
          3.7771010398864746
         ],
         "y": [
          -1.5775058269500732
         ],
         "z": [
          22.6924991607666
         ]
        },
        {
         "hoverinfo": "skip",
         "legendgroup": "rechits_chain",
         "mode": "lines",
         "name": "Rechits chain",
         "showlegend": false,
         "type": "scatter3d",
         "x": [
          1.8341155052185059,
          2.808602809906006
         ],
         "y": [
          -0.44964170455932617,
          -1.0123858451843262
         ],
         "z": [
          22.6924991607666,
          22.6924991607666
         ]
        },
        {
         "anchor": "tip",
         "colorscale": [
          [
           0,
           "blue"
          ],
          [
           1,
           "blue"
          ]
         ],
         "hoverinfo": "skip",
         "legendgroup": "rechits_chain",
         "showscale": false,
         "type": "cone",
         "u": [
          0.8659778263291473
         ],
         "v": [
          -0.5000823975168945
         ],
         "w": [
          0
         ],
         "x": [
          2.808602809906006
         ],
         "y": [
          -1.0123858451843262
         ],
         "z": [
          22.6924991607666
         ]
        },
        {
         "hoverinfo": "skip",
         "legendgroup": "rechits_chain",
         "mode": "lines",
         "name": "Rechits chain",
         "showlegend": false,
         "type": "scatter3d",
         "x": [
          1.8341155052185059,
          2.808602809906006
         ],
         "y": [
          -1.5748858451843262,
          -1.0123858451843262
         ],
         "z": [
          22.6924991607666,
          22.6924991607666
         ]
        },
        {
         "anchor": "tip",
         "colorscale": [
          [
           0,
           "blue"
          ],
          [
           1,
           "blue"
          ]
         ],
         "hoverinfo": "skip",
         "legendgroup": "rechits_chain",
         "showscale": false,
         "type": "cone",
         "u": [
          0.866071776036405
         ],
         "v": [
          0.499919672300608
         ],
         "w": [
          0
         ],
         "x": [
          2.808602809906006
         ],
         "y": [
          -1.0123858451843262
         ],
         "z": [
          22.6924991607666
         ]
        },
        {
         "hoverinfo": "skip",
         "legendgroup": "rechits_chain",
         "mode": "lines",
         "name": "Rechits chain",
         "showlegend": false,
         "type": "scatter3d",
         "x": [
          1.8341155052185059,
          2.808602809906006
         ],
         "y": [
          -2.700139045715332,
          -2.137507915496826
         ],
         "z": [
          22.6924991607666,
          22.6924991607666
         ]
        },
        {
         "anchor": "tip",
         "colorscale": [
          [
           0,
           "blue"
          ],
          [
           1,
           "blue"
          ]
         ],
         "hoverinfo": "skip",
         "legendgroup": "rechits_chain",
         "showscale": false,
         "type": "cone",
         "u": [
          0.8660213160347869
         ],
         "v": [
          0.5000070801232472
         ],
         "w": [
          0
         ],
         "x": [
          2.808602809906006
         ],
         "y": [
          -2.137507915496826
         ],
         "z": [
          22.6924991607666
         ]
        },
        {
         "hoverinfo": "skip",
         "legendgroup": "rechits_chain",
         "mode": "lines",
         "name": "Rechits chain",
         "showlegend": false,
         "type": "scatter3d",
         "x": [
          0.8597502708435059,
          1.8341155052185059
         ],
         "y": [
          0.11285829544067383,
          -0.44964170455932617
         ],
         "z": [
          22.6924991607666,
          22.6924991607666
         ]
        },
        {
         "anchor": "tip",
         "colorscale": [
          [
           0,
           "blue"
          ],
          [
           1,
           "blue"
          ]
         ],
         "hoverinfo": "skip",
         "legendgroup": "rechits_chain",
         "showscale": false,
         "type": "cone",
         "u": [
          0.8660446585505366
         ],
         "v": [
          -0.4999666482837475
         ],
         "w": [
          0
         ],
         "x": [
          1.8341155052185059
         ],
         "y": [
          -0.44964170455932617
         ],
         "z": [
          22.6924991607666
         ]
        },
        {
         "hoverinfo": "skip",
         "legendgroup": "rechits_chain",
         "mode": "lines",
         "name": "Rechits chain",
         "showlegend": false,
         "type": "scatter3d",
         "x": [
          0.8597502708435059,
          1.8341155052185059
         ],
         "y": [
          -1.0123858451843262,
          -1.5748858451843262
         ],
         "z": [
          22.6924991607666,
          22.6924991607666
         ]
        },
        {
         "anchor": "tip",
         "colorscale": [
          [
           0,
           "blue"
          ],
          [
           1,
           "blue"
          ]
         ],
         "hoverinfo": "skip",
         "legendgroup": "rechits_chain",
         "showscale": false,
         "type": "cone",
         "u": [
          0.8660446585505366
         ],
         "v": [
          -0.4999666482837475
         ],
         "w": [
          0
         ],
         "x": [
          1.8341155052185059
         ],
         "y": [
          -1.5748858451843262
         ],
         "z": [
          22.6924991607666
         ]
        },
        {
         "hoverinfo": "skip",
         "legendgroup": "rechits_chain",
         "mode": "lines",
         "name": "Rechits chain",
         "showlegend": false,
         "type": "scatter3d",
         "x": [
          -1.0889801979064941,
          0.8597502708435059
         ],
         "y": [
          -1.0123858451843262,
          -1.0123858451843262
         ],
         "z": [
          22.6924991607666,
          22.6924991607666
         ]
        },
        {
         "anchor": "tip",
         "colorscale": [
          [
           0,
           "blue"
          ],
          [
           1,
           "blue"
          ]
         ],
         "hoverinfo": "skip",
         "legendgroup": "rechits_chain",
         "showscale": false,
         "type": "cone",
         "u": [
          1
         ],
         "v": [
          0
         ],
         "w": [
          0
         ],
         "x": [
          0.8597502708435059
         ],
         "y": [
          -1.0123858451843262
         ],
         "z": [
          22.6924991607666
         ]
        },
        {
         "hoverinfo": "skip",
         "legendgroup": "rechits_chain",
         "mode": "lines",
         "name": "Rechits chain",
         "showlegend": false,
         "type": "scatter3d",
         "x": [
          5.732064723968506,
          4.757577419281006
         ],
         "y": [
          -0.44964170455932617,
          -2.137507915496826
         ],
         "z": [
          22.6924991607666,
          22.6924991607666
         ]
        },
        {
         "anchor": "tip",
         "colorscale": [
          [
           0,
           "blue"
          ],
          [
           1,
           "blue"
          ]
         ],
         "hoverinfo": "skip",
         "legendgroup": "rechits_chain",
         "showscale": false,
         "type": "cone",
         "u": [
          -0.499998958472075
         ],
         "v": [
          -0.8660260051100314
         ],
         "w": [
          0
         ],
         "x": [
          4.757577419281006
         ],
         "y": [
          -2.137507915496826
         ],
         "z": [
          22.6924991607666
         ]
        },
        {
         "hoverinfo": "skip",
         "legendgroup": "rechits_chain",
         "mode": "lines",
         "name": "Rechits chain",
         "showlegend": false,
         "type": "scatter3d",
         "x": [
          4.757577419281006,
          3.7771010398864746
         ],
         "y": [
          -2.137507915496826,
          -1.5775058269500732
         ],
         "z": [
          22.6924991607666,
          22.6924991607666
         ]
        },
        {
         "anchor": "tip",
         "colorscale": [
          [
           0,
           "blue"
          ],
          [
           1,
           "blue"
          ]
         ],
         "hoverinfo": "skip",
         "legendgroup": "rechits_chain",
         "showscale": false,
         "type": "cone",
         "u": [
          -0.868346178720212
         ],
         "v": [
          0.4959585808331233
         ],
         "w": [
          0
         ],
         "x": [
          3.7771010398864746
         ],
         "y": [
          -1.5775058269500732
         ],
         "z": [
          22.6924991607666
         ]
        },
        {
         "hoverinfo": "skip",
         "legendgroup": "rechits_chain",
         "mode": "lines",
         "name": "Rechits chain",
         "showlegend": false,
         "type": "scatter3d",
         "x": [
          1.8341155052185059,
          1.8341155052185059
         ],
         "y": [
          0.6753582954406738,
          -0.44964170455932617
         ],
         "z": [
          22.6924991607666,
          22.6924991607666
         ]
        },
        {
         "anchor": "tip",
         "colorscale": [
          [
           0,
           "blue"
          ],
          [
           1,
           "blue"
          ]
         ],
         "hoverinfo": "skip",
         "legendgroup": "rechits_chain",
         "showscale": false,
         "type": "cone",
         "u": [
          0
         ],
         "v": [
          -1
         ],
         "w": [
          0
         ],
         "x": [
          1.8341155052185059
         ],
         "y": [
          -0.44964170455932617
         ],
         "z": [
          22.6924991607666
         ]
        },
        {
         "customdata": [
          [
           0.007648820988833904,
           0.011961942538619041,
           1.1239830255508423,
           "Follower"
          ],
          [
           0.02664821408689022,
           0.5150812268257141,
           1.1240363121032715,
           "Follower"
          ],
          [
           0.026552438735961914,
           0.07797634601593018,
           1.125244140625,
           "Follower"
          ],
          [
           0.008626244030892849,
           0.6870831847190857,
           1.125180721282959,
           "Follower"
          ],
          [
           0.874018132686615,
           1.110054612159729,
           3.4028234663852886e+38,
           "Seed"
          ],
          [
           0.10284782201051712,
           0.5839895606040955,
           1.1251220703125,
           "Follower"
          ],
          [
           0.1763608753681183,
           0.3585089147090912,
           1.125,
           "Follower"
          ],
          [
           0.29888609051704407,
           0.8595913052558899,
           1.125302791595459,
           "Follower"
          ],
          [
           0.03506465256214142,
           0.6981244087219238,
           1.125180721282959,
           "Follower"
          ],
          [
           0.056783732026815414,
           0.14496417343616486,
           1.1250749826431274,
           "Follower"
          ],
          [
           0.0273404810577631,
           0.23096512258052826,
           1.1250749826431274,
           "Follower"
          ],
          [
           0.02302694320678711,
           0.054229509085416794,
           1.1251220703125,
           "Follower"
          ],
          [
           0.05027158185839653,
           0.0639418214559555,
           1.1254085302352905,
           "Follower"
          ]
         ],
         "hovertemplate": "Rechit : %{customdata[3]}<br>Energy: %{customdata[0]:.2g} GeV<br>Rho: %{customdata[1]:.2g} GeV<br>Delta: %{customdata[2]:.2g} cm",
         "legendgroup": "rechits",
         "legendgrouptitle": {
          "text": "Rechits"
         },
         "marker": {
          "color": "#EF553B",
          "size": [
           0.22946463525295258,
           0.7994464039802551,
           0.7965731620788574,
           0.2587873339653015,
           26.220544815063477,
           3.085434675216675,
           5.290826320648193,
           8.966582298278809,
           1.051939606666565,
           1.7035119533538818,
           0.8202144503593445,
           0.6908082962036133,
           1.5081474781036377
          ],
          "symbol": "circle"
         },
         "mode": "markers",
         "name": "2D cluster nb 7",
         "type": "scatter3d",
         "x": [
          3.7830810546875,
          3.7830810546875,
          2.772052764892578,
          2.772052764892578,
          2.772052764892578,
          2.772052764892578,
          1.7975654602050781,
          1.7975654602050781,
          1.7975654602050781,
          0.8232002258300781,
          0.8232002258300781,
          0.8232002258300781,
          -0.15140914916992188
         ],
         "y": [
          0.6753582954406738,
          -1.5748858451843262,
          -3.1913321018218994,
          0.18427824974060059,
          -0.9409658908843994,
          -2.0660879611968994,
          0.7467782497406006,
          -0.3782217502593994,
          -1.5034658908843994,
          1.3092782497406006,
          -0.9409658908843994,
          -2.0660879611968994,
          -0.3782217502593994
         ],
         "z": [
          23.582500457763672,
          23.582500457763672,
          23.582500457763672,
          23.582500457763672,
          23.582500457763672,
          23.582500457763672,
          23.582500457763672,
          23.582500457763672,
          23.582500457763672,
          23.582500457763672,
          23.582500457763672,
          23.582500457763672,
          23.582500457763672
         ]
        },
        {
         "hoverinfo": "skip",
         "legendgroup": "rechits_chain",
         "mode": "lines",
         "name": "Rechits chain",
         "showlegend": false,
         "type": "scatter3d",
         "x": [
          3.7830810546875,
          2.772052764892578
         ],
         "y": [
          0.6753582954406738,
          0.18427824974060059
         ],
         "z": [
          23.582500457763672,
          23.582500457763672
         ]
        },
        {
         "anchor": "tip",
         "colorscale": [
          [
           0,
           "blue"
          ],
          [
           1,
           "blue"
          ]
         ],
         "hoverinfo": "skip",
         "legendgroup": "rechits_chain",
         "showscale": false,
         "type": "cone",
         "u": [
          -0.8995049550448114
         ],
         "v": [
          -0.43691055818076974
         ],
         "w": [
          0
         ],
         "x": [
          2.772052764892578
         ],
         "y": [
          0.18427824974060059
         ],
         "z": [
          23.582500457763672
         ]
        },
        {
         "hoverinfo": "skip",
         "legendgroup": "rechits_chain",
         "mode": "lines",
         "name": "Rechits chain",
         "showlegend": false,
         "type": "scatter3d",
         "x": [
          3.7830810546875,
          2.772052764892578
         ],
         "y": [
          -1.5748858451843262,
          -2.0660879611968994
         ],
         "z": [
          23.582500457763672,
          23.582500457763672
         ]
        },
        {
         "anchor": "tip",
         "colorscale": [
          [
           0,
           "blue"
          ],
          [
           1,
           "blue"
          ]
         ],
         "hoverinfo": "skip",
         "legendgroup": "rechits_chain",
         "showscale": false,
         "type": "cone",
         "u": [
          -0.8994622706165499
         ],
         "v": [
          -0.43699842532590455
         ],
         "w": [
          0
         ],
         "x": [
          2.772052764892578
         ],
         "y": [
          -2.0660879611968994
         ],
         "z": [
          23.582500457763672
         ]
        },
        {
         "hoverinfo": "skip",
         "legendgroup": "rechits_chain",
         "mode": "lines",
         "name": "Rechits chain",
         "showlegend": false,
         "type": "scatter3d",
         "x": [
          2.772052764892578,
          2.772052764892578
         ],
         "y": [
          -3.1913321018218994,
          -2.0660879611968994
         ],
         "z": [
          23.582500457763672,
          23.582500457763672
         ]
        },
        {
         "anchor": "tip",
         "colorscale": [
          [
           0,
           "blue"
          ],
          [
           1,
           "blue"
          ]
         ],
         "hoverinfo": "skip",
         "legendgroup": "rechits_chain",
         "showscale": false,
         "type": "cone",
         "u": [
          0
         ],
         "v": [
          1
         ],
         "w": [
          0
         ],
         "x": [
          2.772052764892578
         ],
         "y": [
          -2.0660879611968994
         ],
         "z": [
          23.582500457763672
         ]
        },
        {
         "hoverinfo": "skip",
         "legendgroup": "rechits_chain",
         "mode": "lines",
         "name": "Rechits chain",
         "showlegend": false,
         "type": "scatter3d",
         "x": [
          2.772052764892578,
          1.7975654602050781
         ],
         "y": [
          0.18427824974060059,
          -0.3782217502593994
         ],
         "z": [
          23.582500457763672,
          23.582500457763672
         ]
        },
        {
         "anchor": "tip",
         "colorscale": [
          [
           0,
           "blue"
          ],
          [
           1,
           "blue"
          ]
         ],
         "hoverinfo": "skip",
         "legendgroup": "rechits_chain",
         "showscale": false,
         "type": "cone",
         "u": [
          -0.866071776036405
         ],
         "v": [
          -0.499919672300608
         ],
         "w": [
          0
         ],
         "x": [
          1.7975654602050781
         ],
         "y": [
          -0.3782217502593994
         ],
         "z": [
          23.582500457763672
         ]
        },
        {
         "hoverinfo": "skip",
         "legendgroup": "rechits_chain",
         "mode": "lines",
         "name": "Rechits chain",
         "showlegend": false,
         "type": "scatter3d",
         "x": [
          2.772052764892578,
          2.772052764892578
         ],
         "y": [
          -2.0660879611968994,
          -0.9409658908843994
         ],
         "z": [
          23.582500457763672,
          23.582500457763672
         ]
        },
        {
         "anchor": "tip",
         "colorscale": [
          [
           0,
           "blue"
          ],
          [
           1,
           "blue"
          ]
         ],
         "hoverinfo": "skip",
         "legendgroup": "rechits_chain",
         "showscale": false,
         "type": "cone",
         "u": [
          0
         ],
         "v": [
          1
         ],
         "w": [
          0
         ],
         "x": [
          2.772052764892578
         ],
         "y": [
          -0.9409658908843994
         ],
         "z": [
          23.582500457763672
         ]
        },
        {
         "hoverinfo": "skip",
         "legendgroup": "rechits_chain",
         "mode": "lines",
         "name": "Rechits chain",
         "showlegend": false,
         "type": "scatter3d",
         "x": [
          1.7975654602050781,
          1.7975654602050781
         ],
         "y": [
          0.7467782497406006,
          -0.3782217502593994
         ],
         "z": [
          23.582500457763672,
          23.582500457763672
         ]
        },
        {
         "anchor": "tip",
         "colorscale": [
          [
           0,
           "blue"
          ],
          [
           1,
           "blue"
          ]
         ],
         "hoverinfo": "skip",
         "legendgroup": "rechits_chain",
         "showscale": false,
         "type": "cone",
         "u": [
          0
         ],
         "v": [
          -1
         ],
         "w": [
          0
         ],
         "x": [
          1.7975654602050781
         ],
         "y": [
          -0.3782217502593994
         ],
         "z": [
          23.582500457763672
         ]
        },
        {
         "hoverinfo": "skip",
         "legendgroup": "rechits_chain",
         "mode": "lines",
         "name": "Rechits chain",
         "showlegend": false,
         "type": "scatter3d",
         "x": [
          1.7975654602050781,
          2.772052764892578
         ],
         "y": [
          -0.3782217502593994,
          -0.9409658908843994
         ],
         "z": [
          23.582500457763672,
          23.582500457763672
         ]
        },
        {
         "anchor": "tip",
         "colorscale": [
          [
           0,
           "blue"
          ],
          [
           1,
           "blue"
          ]
         ],
         "hoverinfo": "skip",
         "legendgroup": "rechits_chain",
         "showscale": false,
         "type": "cone",
         "u": [
          0.8659778263291473
         ],
         "v": [
          -0.5000823975168945
         ],
         "w": [
          0
         ],
         "x": [
          2.772052764892578
         ],
         "y": [
          -0.9409658908843994
         ],
         "z": [
          23.582500457763672
         ]
        },
        {
         "hoverinfo": "skip",
         "legendgroup": "rechits_chain",
         "mode": "lines",
         "name": "Rechits chain",
         "showlegend": false,
         "type": "scatter3d",
         "x": [
          1.7975654602050781,
          2.772052764892578
         ],
         "y": [
          -1.5034658908843994,
          -0.9409658908843994
         ],
         "z": [
          23.582500457763672,
          23.582500457763672
         ]
        },
        {
         "anchor": "tip",
         "colorscale": [
          [
           0,
           "blue"
          ],
          [
           1,
           "blue"
          ]
         ],
         "hoverinfo": "skip",
         "legendgroup": "rechits_chain",
         "showscale": false,
         "type": "cone",
         "u": [
          0.866071776036405
         ],
         "v": [
          0.499919672300608
         ],
         "w": [
          0
         ],
         "x": [
          2.772052764892578
         ],
         "y": [
          -0.9409658908843994
         ],
         "z": [
          23.582500457763672
         ]
        },
        {
         "hoverinfo": "skip",
         "legendgroup": "rechits_chain",
         "mode": "lines",
         "name": "Rechits chain",
         "showlegend": false,
         "type": "scatter3d",
         "x": [
          0.8232002258300781,
          1.7975654602050781
         ],
         "y": [
          1.3092782497406006,
          0.7467782497406006
         ],
         "z": [
          23.582500457763672,
          23.582500457763672
         ]
        },
        {
         "anchor": "tip",
         "colorscale": [
          [
           0,
           "blue"
          ],
          [
           1,
           "blue"
          ]
         ],
         "hoverinfo": "skip",
         "legendgroup": "rechits_chain",
         "showscale": false,
         "type": "cone",
         "u": [
          0.8660446585505366
         ],
         "v": [
          -0.4999666482837475
         ],
         "w": [
          0
         ],
         "x": [
          1.7975654602050781
         ],
         "y": [
          0.7467782497406006
         ],
         "z": [
          23.582500457763672
         ]
        },
        {
         "hoverinfo": "skip",
         "legendgroup": "rechits_chain",
         "mode": "lines",
         "name": "Rechits chain",
         "showlegend": false,
         "type": "scatter3d",
         "x": [
          0.8232002258300781,
          1.7975654602050781
         ],
         "y": [
          -0.9409658908843994,
          -1.5034658908843994
         ],
         "z": [
          23.582500457763672,
          23.582500457763672
         ]
        },
        {
         "anchor": "tip",
         "colorscale": [
          [
           0,
           "blue"
          ],
          [
           1,
           "blue"
          ]
         ],
         "hoverinfo": "skip",
         "legendgroup": "rechits_chain",
         "showscale": false,
         "type": "cone",
         "u": [
          0.8660446585505366
         ],
         "v": [
          -0.4999666482837475
         ],
         "w": [
          0
         ],
         "x": [
          1.7975654602050781
         ],
         "y": [
          -1.5034658908843994
         ],
         "z": [
          23.582500457763672
         ]
        },
        {
         "hoverinfo": "skip",
         "legendgroup": "rechits_chain",
         "mode": "lines",
         "name": "Rechits chain",
         "showlegend": false,
         "type": "scatter3d",
         "x": [
          0.8232002258300781,
          0.8232002258300781
         ],
         "y": [
          -2.0660879611968994,
          -0.9409658908843994
         ],
         "z": [
          23.582500457763672,
          23.582500457763672
         ]
        },
        {
         "anchor": "tip",
         "colorscale": [
          [
           0,
           "blue"
          ],
          [
           1,
           "blue"
          ]
         ],
         "hoverinfo": "skip",
         "legendgroup": "rechits_chain",
         "showscale": false,
         "type": "cone",
         "u": [
          0
         ],
         "v": [
          1
         ],
         "w": [
          0
         ],
         "x": [
          0.8232002258300781
         ],
         "y": [
          -0.9409658908843994
         ],
         "z": [
          23.582500457763672
         ]
        },
        {
         "hoverinfo": "skip",
         "legendgroup": "rechits_chain",
         "mode": "lines",
         "name": "Rechits chain",
         "showlegend": false,
         "type": "scatter3d",
         "x": [
          -0.15140914916992188,
          0.8232002258300781
         ],
         "y": [
          -0.3782217502593994,
          -0.9409658908843994
         ],
         "z": [
          23.582500457763672,
          23.582500457763672
         ]
        },
        {
         "anchor": "tip",
         "colorscale": [
          [
           0,
           "blue"
          ],
          [
           1,
           "blue"
          ]
         ],
         "hoverinfo": "skip",
         "legendgroup": "rechits_chain",
         "showscale": false,
         "type": "cone",
         "u": [
          0.8660049508818618
         ],
         "v": [
          -0.5000354237932594
         ],
         "w": [
          0
         ],
         "x": [
          0.8232002258300781
         ],
         "y": [
          -0.9409658908843994
         ],
         "z": [
          23.582500457763672
         ]
        },
        {
         "customdata": [
          [
           0.013147502206265926,
           0.020992791280150414,
           1.125244140625,
           "Follower"
          ],
          [
           0.015690578147768974,
           0.022264329716563225,
           2.2559714317321777,
           "Seed"
          ]
         ],
         "hovertemplate": "Rechit : %{customdata[3]}<br>Energy: %{customdata[0]:.2g} GeV<br>Rho: %{customdata[1]:.2g} GeV<br>Delta: %{customdata[2]:.2g} cm",
         "legendgroup": "rechits",
         "legendgrouptitle": {
          "text": "Rechits"
         },
         "marker": {
          "color": "#EF553B",
          "size": [
           0.39442506432533264,
           0.47071734070777893
          ],
          "symbol": "circle"
         },
         "mode": "markers",
         "name": "2D cluster nb 8",
         "type": "scatter3d",
         "x": [
          5.695514678955078,
          5.695514678955078
         ],
         "y": [
          -1.5034658908843994,
          -0.3782217502593994
         ],
         "z": [
          23.582500457763672,
          23.582500457763672
         ]
        },
        {
         "hoverinfo": "skip",
         "legendgroup": "rechits_chain",
         "mode": "lines",
         "name": "Rechits chain",
         "showlegend": false,
         "type": "scatter3d",
         "x": [
          5.695514678955078,
          5.695514678955078
         ],
         "y": [
          -1.5034658908843994,
          -0.3782217502593994
         ],
         "z": [
          23.582500457763672,
          23.582500457763672
         ]
        },
        {
         "anchor": "tip",
         "colorscale": [
          [
           0,
           "blue"
          ],
          [
           1,
           "blue"
          ]
         ],
         "hoverinfo": "skip",
         "legendgroup": "rechits_chain",
         "showscale": false,
         "type": "cone",
         "u": [
          0
         ],
         "v": [
          1
         ],
         "w": [
          0
         ],
         "x": [
          5.695514678955078
         ],
         "y": [
          -0.3782217502593994
         ],
         "z": [
          23.582500457763672
         ]
        },
        {
         "hoverinfo": "skip",
         "legendgroup": "rechits_chain",
         "mode": "lines",
         "name": "Rechits chain",
         "showlegend": false,
         "type": "scatter3d",
         "x": [
          5.695514678955078,
          3.7830810546875
         ],
         "y": [
          -0.3782217502593994,
          -1.5748858451843262
         ],
         "z": [
          23.582500457763672,
          23.582500457763672
         ]
        },
        {
         "anchor": "tip",
         "colorscale": [
          [
           0,
           "blue"
          ],
          [
           1,
           "blue"
          ]
         ],
         "hoverinfo": "skip",
         "legendgroup": "rechits_chain",
         "showscale": false,
         "type": "cone",
         "u": [
          -0.8477206561925701
         ],
         "v": [
          -0.530442917819098
         ],
         "w": [
          0
         ],
         "x": [
          3.7830810546875
         ],
         "y": [
          -1.5748858451843262
         ],
         "z": [
          23.582500457763672
         ]
        },
        {
         "customdata": [
          [
           0.008472480811178684,
           0.07750573009252548,
           1.0698566436767578,
           "Follower"
          ],
          [
           0.008843299932777882,
           0.17661736905574799,
           1.0908567905426025,
           "Follower"
          ],
          [
           0.21033069491386414,
           0.4570973515510559,
           1.1251729726791382,
           "Follower"
          ],
          [
           0.03178245946764946,
           0.3365592956542969,
           1.1251729726791382,
           "Follower"
          ],
          [
           0.06817115098237991,
           0.11726882308721542,
           1.125237226486206,
           "Follower"
          ],
          [
           0.024947432801127434,
           0.1094609722495079,
           1.0697901248931885,
           "Follower"
          ],
          [
           0.07410550862550735,
           0.47622716426849365,
           1.125180721282959,
           "Follower"
          ],
          [
           0.309437096118927,
           0.605443000793457,
           3.4028234663852886e+38,
           "Seed"
          ],
          [
           0.038112886250019073,
           0.2821185290813446,
           1.1251220703125,
           "Follower"
          ],
          [
           0.054535605013370514,
           0.08278065919876099,
           1.1254249811172485,
           "Follower"
          ],
          [
           0.21914218366146088,
           0.5239940285682678,
           1.125302791595459,
           "Follower"
          ],
          [
           0.018538137897849083,
           0.3864249885082245,
           1.125180721282959,
           "Follower"
          ],
          [
           0.051609981805086136,
           0.11915973573923111,
           1.125246286392212,
           "Follower"
          ],
          [
           0.058608803898096085,
           0.26061689853668213,
           1.1250749826431274,
           "Follower"
          ],
          [
           0.11747151613235474,
           0.2656160891056061,
           1.1250749826431274,
           "Follower"
          ],
          [
           0.010277333669364452,
           0.04067308083176613,
           1.1251314878463745,
           "Follower"
          ],
          [
           0.03585981950163841,
           0.0651642233133316,
           1.1252864599227905,
           "Follower"
          ],
          [
           0.009181510657072067,
           0.01432017795741558,
           1.1253429651260376,
           "Follower"
          ],
          [
           0.026164498180150986,
           0.15735173225402832,
           1.1251885890960693,
           "Follower"
          ],
          [
           0.043200477957725525,
           0.17733930051326752,
           1.1251885890960693,
           "Follower"
          ],
          [
           0.01128991786390543,
           0.23708607256412506,
           0,
           "Follower"
          ],
          [
           0.020252753049135208,
           0.2415674775838852,
           1.125,
           "Follower"
          ]
         ],
         "hovertemplate": "Rechit : %{customdata[3]}<br>Energy: %{customdata[0]:.2g} GeV<br>Rho: %{customdata[1]:.2g} GeV<br>Delta: %{customdata[2]:.2g} cm",
         "legendgroup": "rechits",
         "legendgrouptitle": {
          "text": "Rechits"
         },
         "marker": {
          "color": "#EF553B",
          "size": [
           0.2541744112968445,
           0.265298992395401,
           6.309920787811279,
           0.9534738063812256,
           2.0451345443725586,
           0.7484229803085327,
           2.223165273666382,
           9.283112525939941,
           1.1433866024017334,
           1.6360681056976318,
           6.574265480041504,
           0.556144118309021,
           1.5482994318008423,
           1.7582640647888184,
           3.5241456031799316,
           0.308320015668869,
           1.0757945775985718,
           0.2754453122615814,
           0.784934937953949,
           1.2960143089294434,
           0.33869752287864685,
           0.6075825691223145
          ],
          "symbol": "circle"
         },
         "mode": "markers",
         "name": "2D cluster nb 9",
         "type": "scatter3d",
         "x": [
          3.7465310096740723,
          3.7465310096740723,
          3.7988409996032715,
          3.7988409996032715,
          2.8243627548217773,
          2.8243627548217773,
          2.8243627548217773,
          2.8243627548217773,
          2.8243627548217773,
          1.8498754501342773,
          1.8498754501342773,
          1.8498754501342773,
          1.8498754501342773,
          0.8755102157592773,
          0.8755102157592773,
          0.8755102157592773,
          -0.09909915924072266,
          -0.09909915924072266,
          4.773337364196777,
          4.773337364196777,
          1.8498754501342773,
          1.8498754501342773
         ],
         "y": [
          -2.6287190914154053,
          0.7467782497406006,
          -0.3984518051147461,
          -1.523695945739746,
          -3.211562156677246,
          1.289048194885254,
          0.1640481948852539,
          -0.9611959457397461,
          -2.086318016052246,
          1.852036476135254,
          -0.3984518051147461,
          -1.523695945739746,
          -2.648949146270752,
          0.1640481948852539,
          -0.9611959457397461,
          -3.211562156677246,
          0.7265481948852539,
          -2.648949146270752,
          0.1640481948852539,
          -0.9611959457397461,
          0.7265481948852539,
          0.7265481948852539
         ],
         "z": [
          25.697500228881836,
          25.697500228881836,
          25.697500228881836,
          25.697500228881836,
          25.697500228881836,
          25.697500228881836,
          25.697500228881836,
          25.697500228881836,
          25.697500228881836,
          25.697500228881836,
          25.697500228881836,
          25.697500228881836,
          25.697500228881836,
          25.697500228881836,
          25.697500228881836,
          25.697500228881836,
          25.697500228881836,
          25.697500228881836,
          25.697500228881836,
          25.697500228881836,
          25.697500228881836,
          25.697500228881836
         ]
        },
        {
         "hoverinfo": "skip",
         "legendgroup": "rechits_chain",
         "mode": "lines",
         "name": "Rechits chain",
         "showlegend": false,
         "type": "scatter3d",
         "x": [
          3.7465310096740723,
          2.8243627548217773
         ],
         "y": [
          -2.6287190914154053,
          -2.086318016052246
         ],
         "z": [
          25.697500228881836,
          25.697500228881836
         ]
        },
        {
         "anchor": "tip",
         "colorscale": [
          [
           0,
           "blue"
          ],
          [
           1,
           "blue"
          ]
         ],
         "hoverinfo": "skip",
         "legendgroup": "rechits_chain",
         "showscale": false,
         "type": "cone",
         "u": [
          -0.8619549813945124
         ],
         "v": [
          0.506984822306532
         ],
         "w": [
          0
         ],
         "x": [
          2.8243627548217773
         ],
         "y": [
          -2.086318016052246
         ],
         "z": [
          25.697500228881836
         ]
        },
        {
         "hoverinfo": "skip",
         "legendgroup": "rechits_chain",
         "mode": "lines",
         "name": "Rechits chain",
         "showlegend": false,
         "type": "scatter3d",
         "x": [
          3.7465310096740723,
          2.8243627548217773
         ],
         "y": [
          0.7467782497406006,
          0.1640481948852539
         ],
         "z": [
          25.697500228881836,
          25.697500228881836
         ]
        },
        {
         "anchor": "tip",
         "colorscale": [
          [
           0,
           "blue"
          ],
          [
           1,
           "blue"
          ]
         ],
         "hoverinfo": "skip",
         "legendgroup": "rechits_chain",
         "showscale": false,
         "type": "cone",
         "u": [
          -0.8453614038732127
         ],
         "v": [
          -0.5341948116946764
         ],
         "w": [
          0
         ],
         "x": [
          2.8243627548217773
         ],
         "y": [
          0.1640481948852539
         ],
         "z": [
          25.697500228881836
         ]
        },
        {
         "hoverinfo": "skip",
         "legendgroup": "rechits_chain",
         "mode": "lines",
         "name": "Rechits chain",
         "showlegend": false,
         "type": "scatter3d",
         "x": [
          3.7988409996032715,
          2.8243627548217773
         ],
         "y": [
          -0.3984518051147461,
          0.1640481948852539
         ],
         "z": [
          25.697500228881836,
          25.697500228881836
         ]
        },
        {
         "anchor": "tip",
         "colorscale": [
          [
           0,
           "blue"
          ],
          [
           1,
           "blue"
          ]
         ],
         "hoverinfo": "skip",
         "legendgroup": "rechits_chain",
         "showscale": false,
         "type": "cone",
         "u": [
          -0.8660697636731018
         ],
         "v": [
          0.4999231585466086
         ],
         "w": [
          0
         ],
         "x": [
          2.8243627548217773
         ],
         "y": [
          0.1640481948852539
         ],
         "z": [
          25.697500228881836
         ]
        },
        {
         "hoverinfo": "skip",
         "legendgroup": "rechits_chain",
         "mode": "lines",
         "name": "Rechits chain",
         "showlegend": false,
         "type": "scatter3d",
         "x": [
          3.7988409996032715,
          2.8243627548217773
         ],
         "y": [
          -1.523695945739746,
          -0.9611959457397461
         ],
         "z": [
          25.697500228881836,
          25.697500228881836
         ]
        },
        {
         "anchor": "tip",
         "colorscale": [
          [
           0,
           "blue"
          ],
          [
           1,
           "blue"
          ]
         ],
         "hoverinfo": "skip",
         "legendgroup": "rechits_chain",
         "showscale": false,
         "type": "cone",
         "u": [
          -0.8660697636731018
         ],
         "v": [
          0.4999231585466086
         ],
         "w": [
          0
         ],
         "x": [
          2.8243627548217773
         ],
         "y": [
          -0.9611959457397461
         ],
         "z": [
          25.697500228881836
         ]
        },
        {
         "hoverinfo": "skip",
         "legendgroup": "rechits_chain",
         "mode": "lines",
         "name": "Rechits chain",
         "showlegend": false,
         "type": "scatter3d",
         "x": [
          2.8243627548217773,
          1.8498754501342773
         ],
         "y": [
          -3.211562156677246,
          -2.648949146270752
         ],
         "z": [
          25.697500228881836,
          25.697500228881836
         ]
        },
        {
         "anchor": "tip",
         "colorscale": [
          [
           0,
           "blue"
          ],
          [
           1,
           "blue"
          ]
         ],
         "hoverinfo": "skip",
         "legendgroup": "rechits_chain",
         "showscale": false,
         "type": "cone",
         "u": [
          -0.8660282888646941
         ],
         "v": [
          0.4999950028611187
         ],
         "w": [
          0
         ],
         "x": [
          1.8498754501342773
         ],
         "y": [
          -2.648949146270752
         ],
         "z": [
          25.697500228881836
         ]
        },
        {
         "hoverinfo": "skip",
         "legendgroup": "rechits_chain",
         "mode": "lines",
         "name": "Rechits chain",
         "showlegend": false,
         "type": "scatter3d",
         "x": [
          2.8243627548217773,
          3.7465310096740723
         ],
         "y": [
          1.289048194885254,
          0.7467782497406006
         ],
         "z": [
          25.697500228881836,
          25.697500228881836
         ]
        },
        {
         "anchor": "tip",
         "colorscale": [
          [
           0,
           "blue"
          ],
          [
           1,
           "blue"
          ]
         ],
         "hoverinfo": "skip",
         "legendgroup": "rechits_chain",
         "showscale": false,
         "type": "cone",
         "u": [
          0.8620085419065843
         ],
         "v": [
          -0.506893749892504
         ],
         "w": [
          0
         ],
         "x": [
          3.7465310096740723
         ],
         "y": [
          0.7467782497406006
         ],
         "z": [
          25.697500228881836
         ]
        },
        {
         "hoverinfo": "skip",
         "legendgroup": "rechits_chain",
         "mode": "lines",
         "name": "Rechits chain",
         "showlegend": false,
         "type": "scatter3d",
         "x": [
          2.8243627548217773,
          1.8498754501342773
         ],
         "y": [
          0.1640481948852539,
          -0.3984518051147461
         ],
         "z": [
          25.697500228881836,
          25.697500228881836
         ]
        },
        {
         "anchor": "tip",
         "colorscale": [
          [
           0,
           "blue"
          ],
          [
           1,
           "blue"
          ]
         ],
         "hoverinfo": "skip",
         "legendgroup": "rechits_chain",
         "showscale": false,
         "type": "cone",
         "u": [
          -0.866071776036405
         ],
         "v": [
          -0.499919672300608
         ],
         "w": [
          0
         ],
         "x": [
          1.8498754501342773
         ],
         "y": [
          -0.3984518051147461
         ],
         "z": [
          25.697500228881836
         ]
        },
        {
         "hoverinfo": "skip",
         "legendgroup": "rechits_chain",
         "mode": "lines",
         "name": "Rechits chain",
         "showlegend": false,
         "type": "scatter3d",
         "x": [
          2.8243627548217773,
          2.8243627548217773
         ],
         "y": [
          -2.086318016052246,
          -0.9611959457397461
         ],
         "z": [
          25.697500228881836,
          25.697500228881836
         ]
        },
        {
         "anchor": "tip",
         "colorscale": [
          [
           0,
           "blue"
          ],
          [
           1,
           "blue"
          ]
         ],
         "hoverinfo": "skip",
         "legendgroup": "rechits_chain",
         "showscale": false,
         "type": "cone",
         "u": [
          0
         ],
         "v": [
          1
         ],
         "w": [
          0
         ],
         "x": [
          2.8243627548217773
         ],
         "y": [
          -0.9611959457397461
         ],
         "z": [
          25.697500228881836
         ]
        },
        {
         "hoverinfo": "skip",
         "legendgroup": "rechits_chain",
         "mode": "lines",
         "name": "Rechits chain",
         "showlegend": false,
         "type": "scatter3d",
         "x": [
          1.8498754501342773,
          2.8243627548217773
         ],
         "y": [
          1.852036476135254,
          1.289048194885254
         ],
         "z": [
          25.697500228881836,
          25.697500228881836
         ]
        },
        {
         "anchor": "tip",
         "colorscale": [
          [
           0,
           "blue"
          ],
          [
           1,
           "blue"
          ]
         ],
         "hoverinfo": "skip",
         "legendgroup": "rechits_chain",
         "showscale": false,
         "type": "cone",
         "u": [
          0.8658838664416397
         ],
         "v": [
          -0.5002450697768811
         ],
         "w": [
          0
         ],
         "x": [
          2.8243627548217773
         ],
         "y": [
          1.289048194885254
         ],
         "z": [
          25.697500228881836
         ]
        },
        {
         "hoverinfo": "skip",
         "legendgroup": "rechits_chain",
         "mode": "lines",
         "name": "Rechits chain",
         "showlegend": false,
         "type": "scatter3d",
         "x": [
          1.8498754501342773,
          2.8243627548217773
         ],
         "y": [
          -0.3984518051147461,
          -0.9611959457397461
         ],
         "z": [
          25.697500228881836,
          25.697500228881836
         ]
        },
        {
         "anchor": "tip",
         "colorscale": [
          [
           0,
           "blue"
          ],
          [
           1,
           "blue"
          ]
         ],
         "hoverinfo": "skip",
         "legendgroup": "rechits_chain",
         "showscale": false,
         "type": "cone",
         "u": [
          0.8659778263291473
         ],
         "v": [
          -0.5000823975168945
         ],
         "w": [
          0
         ],
         "x": [
          2.8243627548217773
         ],
         "y": [
          -0.9611959457397461
         ],
         "z": [
          25.697500228881836
         ]
        },
        {
         "hoverinfo": "skip",
         "legendgroup": "rechits_chain",
         "mode": "lines",
         "name": "Rechits chain",
         "showlegend": false,
         "type": "scatter3d",
         "x": [
          1.8498754501342773,
          2.8243627548217773
         ],
         "y": [
          -1.523695945739746,
          -0.9611959457397461
         ],
         "z": [
          25.697500228881836,
          25.697500228881836
         ]
        },
        {
         "anchor": "tip",
         "colorscale": [
          [
           0,
           "blue"
          ],
          [
           1,
           "blue"
          ]
         ],
         "hoverinfo": "skip",
         "legendgroup": "rechits_chain",
         "showscale": false,
         "type": "cone",
         "u": [
          0.866071776036405
         ],
         "v": [
          0.499919672300608
         ],
         "w": [
          0
         ],
         "x": [
          2.8243627548217773
         ],
         "y": [
          -0.9611959457397461
         ],
         "z": [
          25.697500228881836
         ]
        },
        {
         "hoverinfo": "skip",
         "legendgroup": "rechits_chain",
         "mode": "lines",
         "name": "Rechits chain",
         "showlegend": false,
         "type": "scatter3d",
         "x": [
          1.8498754501342773,
          2.8243627548217773
         ],
         "y": [
          -2.648949146270752,
          -2.086318016052246
         ],
         "z": [
          25.697500228881836,
          25.697500228881836
         ]
        },
        {
         "anchor": "tip",
         "colorscale": [
          [
           0,
           "blue"
          ],
          [
           1,
           "blue"
          ]
         ],
         "hoverinfo": "skip",
         "legendgroup": "rechits_chain",
         "showscale": false,
         "type": "cone",
         "u": [
          0.8660213160347869
         ],
         "v": [
          0.5000070801232472
         ],
         "w": [
          0
         ],
         "x": [
          2.8243627548217773
         ],
         "y": [
          -2.086318016052246
         ],
         "z": [
          25.697500228881836
         ]
        },
        {
         "hoverinfo": "skip",
         "legendgroup": "rechits_chain",
         "mode": "lines",
         "name": "Rechits chain",
         "showlegend": false,
         "type": "scatter3d",
         "x": [
          0.8755102157592773,
          1.8498754501342773
         ],
         "y": [
          0.1640481948852539,
          -0.3984518051147461
         ],
         "z": [
          25.697500228881836,
          25.697500228881836
         ]
        },
        {
         "anchor": "tip",
         "colorscale": [
          [
           0,
           "blue"
          ],
          [
           1,
           "blue"
          ]
         ],
         "hoverinfo": "skip",
         "legendgroup": "rechits_chain",
         "showscale": false,
         "type": "cone",
         "u": [
          0.8660446585505366
         ],
         "v": [
          -0.4999666482837475
         ],
         "w": [
          0
         ],
         "x": [
          1.8498754501342773
         ],
         "y": [
          -0.3984518051147461
         ],
         "z": [
          25.697500228881836
         ]
        },
        {
         "hoverinfo": "skip",
         "legendgroup": "rechits_chain",
         "mode": "lines",
         "name": "Rechits chain",
         "showlegend": false,
         "type": "scatter3d",
         "x": [
          0.8755102157592773,
          1.8498754501342773
         ],
         "y": [
          -0.9611959457397461,
          -1.523695945739746
         ],
         "z": [
          25.697500228881836,
          25.697500228881836
         ]
        },
        {
         "anchor": "tip",
         "colorscale": [
          [
           0,
           "blue"
          ],
          [
           1,
           "blue"
          ]
         ],
         "hoverinfo": "skip",
         "legendgroup": "rechits_chain",
         "showscale": false,
         "type": "cone",
         "u": [
          0.8660446585505366
         ],
         "v": [
          -0.4999666482837475
         ],
         "w": [
          0
         ],
         "x": [
          1.8498754501342773
         ],
         "y": [
          -1.523695945739746
         ],
         "z": [
          25.697500228881836
         ]
        },
        {
         "hoverinfo": "skip",
         "legendgroup": "rechits_chain",
         "mode": "lines",
         "name": "Rechits chain",
         "showlegend": false,
         "type": "scatter3d",
         "x": [
          0.8755102157592773,
          1.8498754501342773
         ],
         "y": [
          -3.211562156677246,
          -2.648949146270752
         ],
         "z": [
          25.697500228881836,
          25.697500228881836
         ]
        },
        {
         "anchor": "tip",
         "colorscale": [
          [
           0,
           "blue"
          ],
          [
           1,
           "blue"
          ]
         ],
         "hoverinfo": "skip",
         "legendgroup": "rechits_chain",
         "showscale": false,
         "type": "cone",
         "u": [
          0.8660011645682122
         ],
         "v": [
          0.5000419812040788
         ],
         "w": [
          0
         ],
         "x": [
          1.8498754501342773
         ],
         "y": [
          -2.648949146270752
         ],
         "z": [
          25.697500228881836
         ]
        },
        {
         "hoverinfo": "skip",
         "legendgroup": "rechits_chain",
         "mode": "lines",
         "name": "Rechits chain",
         "showlegend": false,
         "type": "scatter3d",
         "x": [
          -0.09909915924072266,
          0.8755102157592773
         ],
         "y": [
          0.7265481948852539,
          0.1640481948852539
         ],
         "z": [
          25.697500228881836,
          25.697500228881836
         ]
        },
        {
         "anchor": "tip",
         "colorscale": [
          [
           0,
           "blue"
          ],
          [
           1,
           "blue"
          ]
         ],
         "hoverinfo": "skip",
         "legendgroup": "rechits_chain",
         "showscale": false,
         "type": "cone",
         "u": [
          0.8660988858794976
         ],
         "v": [
          -0.4998727036739385
         ],
         "w": [
          0
         ],
         "x": [
          0.8755102157592773
         ],
         "y": [
          0.1640481948852539
         ],
         "z": [
          25.697500228881836
         ]
        },
        {
         "hoverinfo": "skip",
         "legendgroup": "rechits_chain",
         "mode": "lines",
         "name": "Rechits chain",
         "showlegend": false,
         "type": "scatter3d",
         "x": [
          -0.09909915924072266,
          0.8755102157592773
         ],
         "y": [
          -2.648949146270752,
          -3.211562156677246
         ],
         "z": [
          25.697500228881836,
          25.697500228881836
         ]
        },
        {
         "anchor": "tip",
         "colorscale": [
          [
           0,
           "blue"
          ],
          [
           1,
           "blue"
          ]
         ],
         "hoverinfo": "skip",
         "legendgroup": "rechits_chain",
         "showscale": false,
         "type": "cone",
         "u": [
          0.8660554055172482
         ],
         "v": [
          -0.4999480318736685
         ],
         "w": [
          0
         ],
         "x": [
          0.8755102157592773
         ],
         "y": [
          -3.211562156677246
         ],
         "z": [
          25.697500228881836
         ]
        },
        {
         "hoverinfo": "skip",
         "legendgroup": "rechits_chain",
         "mode": "lines",
         "name": "Rechits chain",
         "showlegend": false,
         "type": "scatter3d",
         "x": [
          4.773337364196777,
          3.7988409996032715
         ],
         "y": [
          0.1640481948852539,
          -0.3984518051147461
         ],
         "z": [
          25.697500228881836,
          25.697500228881836
         ]
        },
        {
         "anchor": "tip",
         "colorscale": [
          [
           0,
           "blue"
          ],
          [
           1,
           "blue"
          ]
         ],
         "hoverinfo": "skip",
         "legendgroup": "rechits_chain",
         "showscale": false,
         "type": "cone",
         "u": [
          -0.8660737883576084
         ],
         "v": [
          -0.49991618609512994
         ],
         "w": [
          0
         ],
         "x": [
          3.7988409996032715
         ],
         "y": [
          -0.3984518051147461
         ],
         "z": [
          25.697500228881836
         ]
        },
        {
         "hoverinfo": "skip",
         "legendgroup": "rechits_chain",
         "mode": "lines",
         "name": "Rechits chain",
         "showlegend": false,
         "type": "scatter3d",
         "x": [
          4.773337364196777,
          3.7988409996032715
         ],
         "y": [
          -0.9611959457397461,
          -1.523695945739746
         ],
         "z": [
          25.697500228881836,
          25.697500228881836
         ]
        },
        {
         "anchor": "tip",
         "colorscale": [
          [
           0,
           "blue"
          ],
          [
           1,
           "blue"
          ]
         ],
         "hoverinfo": "skip",
         "legendgroup": "rechits_chain",
         "showscale": false,
         "type": "cone",
         "u": [
          -0.8660737883576084
         ],
         "v": [
          -0.49991618609512994
         ],
         "w": [
          0
         ],
         "x": [
          3.7988409996032715
         ],
         "y": [
          -1.523695945739746
         ],
         "z": [
          25.697500228881836
         ]
        },
        {
         "hoverinfo": "skip",
         "legendgroup": "rechits_chain",
         "mode": "lines",
         "name": "Rechits chain",
         "showlegend": false,
         "type": "scatter3d",
         "x": [
          1.8498754501342773,
          1.8498754501342773
         ],
         "y": [
          0.7265481948852539,
          -0.3984518051147461
         ],
         "z": [
          25.697500228881836,
          25.697500228881836
         ]
        },
        {
         "anchor": "tip",
         "colorscale": [
          [
           0,
           "blue"
          ],
          [
           1,
           "blue"
          ]
         ],
         "hoverinfo": "skip",
         "legendgroup": "rechits_chain",
         "showscale": false,
         "type": "cone",
         "u": [
          0
         ],
         "v": [
          -1
         ],
         "w": [
          0
         ],
         "x": [
          1.8498754501342773
         ],
         "y": [
          -0.3984518051147461
         ],
         "z": [
          25.697500228881836
         ]
        },
        {
         "customdata": [
          [
           0.03167932853102684,
           0.09387102723121643,
           1.0809921026229858,
           "Follower"
          ],
          [
           0.023137422278523445,
           0.2530713975429535,
           1.1251729726791382,
           "Follower"
          ],
          [
           0.08873754739761353,
           0.25468212366104126,
           1.1251729726791382,
           "Follower"
          ],
          [
           0.039280619472265244,
           0.12919281423091888,
           1.125,
           "Follower"
          ],
          [
           0.06196536496281624,
           0.363081693649292,
           1.125180721282959,
           "Follower"
          ],
          [
           0.24120889604091644,
           0.4233257472515106,
           3.4028234663852886e+38,
           "Seed"
          ],
          [
           0.009646745398640633,
           0.17849639058113098,
           1.1251220703125,
           "Follower"
          ],
          [
           0.0861797109246254,
           0.2462875097990036,
           1.125,
           "Follower"
          ],
          [
           0.18074661493301392,
           0.3945351243019104,
           1.125302791595459,
           "Follower"
          ],
          [
           0.038223009556531906,
           0.20050685107707977,
           1.1250749826431274,
           "Follower"
          ],
          [
           0.04212132841348648,
           0.06899284571409225,
           1.1252864599227905,
           "Follower"
          ],
          [
           0.015520020388066769,
           0.05569218844175339,
           1.125,
           "Follower"
          ],
          [
           0.02161933295428753,
           0.08412651717662811,
           1.1251220703125,
           "Follower"
          ],
          [
           0.036276813596487045,
           0.103023961186409,
           1.1251885890960693,
           "Follower"
          ],
          [
           0.006304657086730003,
           0.006304657086730003,
           1.9488729238510132,
           "Follower"
          ]
         ],
         "hovertemplate": "Rechit : %{customdata[3]}<br>Energy: %{customdata[0]:.2g} GeV<br>Rho: %{customdata[1]:.2g} GeV<br>Delta: %{customdata[2]:.2g} cm",
         "legendgroup": "rechits",
         "legendgrouptitle": {
          "text": "Rechits"
         },
         "marker": {
          "color": "#EF553B",
          "size": [
           0.9503798484802246,
           0.6941226720809937,
           2.6621265411376953,
           1.1784186363220215,
           1.8589609861373901,
           7.23626708984375,
           0.2894023656845093,
           2.5853912830352783,
           5.422398567199707,
           1.1466902494430542,
           1.2636398077011108,
           0.4656006097793579,
           0.648580014705658,
           1.0883044004440308,
           0.1891397088766098
          ],
          "symbol": "circle"
         },
         "mode": "markers",
         "name": "2D cluster nb 10",
         "type": "scatter3d",
         "x": [
          3.7988409996032715,
          3.830350875854492,
          3.830350875854492,
          2.855872631072998,
          2.855872631072998,
          2.855872631072998,
          2.855872631072998,
          1.881385326385498,
          1.881385326385498,
          0.907020092010498,
          -0.06758928298950195,
          -0.06758928298950195,
          4.804847240447998,
          4.804847240447998,
          5.779334545135498
         ],
         "y": [
          0.7265481948852539,
          -0.36449170112609863,
          -1.4897358417510986,
          1.3230082988739014,
          0.19800829887390137,
          -0.9272358417510986,
          -2.0523579120635986,
          0.7605082988739014,
          -0.36449170112609863,
          0.19800829887390137,
          0.7605082988739014,
          -0.36449170112609863,
          -2.0523579120635986,
          -0.9272358417510986,
          0.7605082988739014
         ],
         "z": [
          26.587499618530273,
          26.587499618530273,
          26.587499618530273,
          26.587499618530273,
          26.587499618530273,
          26.587499618530273,
          26.587499618530273,
          26.587499618530273,
          26.587499618530273,
          26.587499618530273,
          26.587499618530273,
          26.587499618530273,
          26.587499618530273,
          26.587499618530273,
          26.587499618530273
         ]
        },
        {
         "hoverinfo": "skip",
         "legendgroup": "rechits_chain",
         "mode": "lines",
         "name": "Rechits chain",
         "showlegend": false,
         "type": "scatter3d",
         "x": [
          3.7988409996032715,
          2.855872631072998
         ],
         "y": [
          0.7265481948852539,
          0.19800829887390137
         ],
         "z": [
          26.587499618530273,
          26.587499618530273
         ]
        },
        {
         "anchor": "tip",
         "colorscale": [
          [
           0,
           "blue"
          ],
          [
           1,
           "blue"
          ]
         ],
         "hoverinfo": "skip",
         "legendgroup": "rechits_chain",
         "showscale": false,
         "type": "cone",
         "u": [
          -0.8723175968476665
         ],
         "v": [
          -0.48893967954126205
         ],
         "w": [
          0
         ],
         "x": [
          2.855872631072998
         ],
         "y": [
          0.19800829887390137
         ],
         "z": [
          26.587499618530273
         ]
        },
        {
         "hoverinfo": "skip",
         "legendgroup": "rechits_chain",
         "mode": "lines",
         "name": "Rechits chain",
         "showlegend": false,
         "type": "scatter3d",
         "x": [
          3.830350875854492,
          2.855872631072998
         ],
         "y": [
          -0.36449170112609863,
          0.19800829887390137
         ],
         "z": [
          26.587499618530273,
          26.587499618530273
         ]
        },
        {
         "anchor": "tip",
         "colorscale": [
          [
           0,
           "blue"
          ],
          [
           1,
           "blue"
          ]
         ],
         "hoverinfo": "skip",
         "legendgroup": "rechits_chain",
         "showscale": false,
         "type": "cone",
         "u": [
          -0.8660697636731018
         ],
         "v": [
          0.4999231585466086
         ],
         "w": [
          0
         ],
         "x": [
          2.855872631072998
         ],
         "y": [
          0.19800829887390137
         ],
         "z": [
          26.587499618530273
         ]
        },
        {
         "hoverinfo": "skip",
         "legendgroup": "rechits_chain",
         "mode": "lines",
         "name": "Rechits chain",
         "showlegend": false,
         "type": "scatter3d",
         "x": [
          3.830350875854492,
          2.855872631072998
         ],
         "y": [
          -1.4897358417510986,
          -0.9272358417510986
         ],
         "z": [
          26.587499618530273,
          26.587499618530273
         ]
        },
        {
         "anchor": "tip",
         "colorscale": [
          [
           0,
           "blue"
          ],
          [
           1,
           "blue"
          ]
         ],
         "hoverinfo": "skip",
         "legendgroup": "rechits_chain",
         "showscale": false,
         "type": "cone",
         "u": [
          -0.8660697636731018
         ],
         "v": [
          0.4999231585466086
         ],
         "w": [
          0
         ],
         "x": [
          2.855872631072998
         ],
         "y": [
          -0.9272358417510986
         ],
         "z": [
          26.587499618530273
         ]
        },
        {
         "hoverinfo": "skip",
         "legendgroup": "rechits_chain",
         "mode": "lines",
         "name": "Rechits chain",
         "showlegend": false,
         "type": "scatter3d",
         "x": [
          2.855872631072998,
          2.855872631072998
         ],
         "y": [
          1.3230082988739014,
          0.19800829887390137
         ],
         "z": [
          26.587499618530273,
          26.587499618530273
         ]
        },
        {
         "anchor": "tip",
         "colorscale": [
          [
           0,
           "blue"
          ],
          [
           1,
           "blue"
          ]
         ],
         "hoverinfo": "skip",
         "legendgroup": "rechits_chain",
         "showscale": false,
         "type": "cone",
         "u": [
          0
         ],
         "v": [
          -1
         ],
         "w": [
          0
         ],
         "x": [
          2.855872631072998
         ],
         "y": [
          0.19800829887390137
         ],
         "z": [
          26.587499618530273
         ]
        },
        {
         "hoverinfo": "skip",
         "legendgroup": "rechits_chain",
         "mode": "lines",
         "name": "Rechits chain",
         "showlegend": false,
         "type": "scatter3d",
         "x": [
          2.855872631072998,
          1.881385326385498
         ],
         "y": [
          0.19800829887390137,
          -0.36449170112609863
         ],
         "z": [
          26.587499618530273,
          26.587499618530273
         ]
        },
        {
         "anchor": "tip",
         "colorscale": [
          [
           0,
           "blue"
          ],
          [
           1,
           "blue"
          ]
         ],
         "hoverinfo": "skip",
         "legendgroup": "rechits_chain",
         "showscale": false,
         "type": "cone",
         "u": [
          -0.866071776036405
         ],
         "v": [
          -0.499919672300608
         ],
         "w": [
          0
         ],
         "x": [
          1.881385326385498
         ],
         "y": [
          -0.36449170112609863
         ],
         "z": [
          26.587499618530273
         ]
        },
        {
         "hoverinfo": "skip",
         "legendgroup": "rechits_chain",
         "mode": "lines",
         "name": "Rechits chain",
         "showlegend": false,
         "type": "scatter3d",
         "x": [
          2.855872631072998,
          2.855872631072998
         ],
         "y": [
          -2.0523579120635986,
          -0.9272358417510986
         ],
         "z": [
          26.587499618530273,
          26.587499618530273
         ]
        },
        {
         "anchor": "tip",
         "colorscale": [
          [
           0,
           "blue"
          ],
          [
           1,
           "blue"
          ]
         ],
         "hoverinfo": "skip",
         "legendgroup": "rechits_chain",
         "showscale": false,
         "type": "cone",
         "u": [
          0
         ],
         "v": [
          1
         ],
         "w": [
          0
         ],
         "x": [
          2.855872631072998
         ],
         "y": [
          -0.9272358417510986
         ],
         "z": [
          26.587499618530273
         ]
        },
        {
         "hoverinfo": "skip",
         "legendgroup": "rechits_chain",
         "mode": "lines",
         "name": "Rechits chain",
         "showlegend": false,
         "type": "scatter3d",
         "x": [
          1.881385326385498,
          1.881385326385498
         ],
         "y": [
          0.7605082988739014,
          -0.36449170112609863
         ],
         "z": [
          26.587499618530273,
          26.587499618530273
         ]
        },
        {
         "anchor": "tip",
         "colorscale": [
          [
           0,
           "blue"
          ],
          [
           1,
           "blue"
          ]
         ],
         "hoverinfo": "skip",
         "legendgroup": "rechits_chain",
         "showscale": false,
         "type": "cone",
         "u": [
          0
         ],
         "v": [
          -1
         ],
         "w": [
          0
         ],
         "x": [
          1.881385326385498
         ],
         "y": [
          -0.36449170112609863
         ],
         "z": [
          26.587499618530273
         ]
        },
        {
         "hoverinfo": "skip",
         "legendgroup": "rechits_chain",
         "mode": "lines",
         "name": "Rechits chain",
         "showlegend": false,
         "type": "scatter3d",
         "x": [
          1.881385326385498,
          2.855872631072998
         ],
         "y": [
          -0.36449170112609863,
          -0.9272358417510986
         ],
         "z": [
          26.587499618530273,
          26.587499618530273
         ]
        },
        {
         "anchor": "tip",
         "colorscale": [
          [
           0,
           "blue"
          ],
          [
           1,
           "blue"
          ]
         ],
         "hoverinfo": "skip",
         "legendgroup": "rechits_chain",
         "showscale": false,
         "type": "cone",
         "u": [
          0.8659778263291473
         ],
         "v": [
          -0.5000823975168945
         ],
         "w": [
          0
         ],
         "x": [
          2.855872631072998
         ],
         "y": [
          -0.9272358417510986
         ],
         "z": [
          26.587499618530273
         ]
        },
        {
         "hoverinfo": "skip",
         "legendgroup": "rechits_chain",
         "mode": "lines",
         "name": "Rechits chain",
         "showlegend": false,
         "type": "scatter3d",
         "x": [
          0.907020092010498,
          1.881385326385498
         ],
         "y": [
          0.19800829887390137,
          -0.36449170112609863
         ],
         "z": [
          26.587499618530273,
          26.587499618530273
         ]
        },
        {
         "anchor": "tip",
         "colorscale": [
          [
           0,
           "blue"
          ],
          [
           1,
           "blue"
          ]
         ],
         "hoverinfo": "skip",
         "legendgroup": "rechits_chain",
         "showscale": false,
         "type": "cone",
         "u": [
          0.8660446585505366
         ],
         "v": [
          -0.4999666482837475
         ],
         "w": [
          0
         ],
         "x": [
          1.881385326385498
         ],
         "y": [
          -0.36449170112609863
         ],
         "z": [
          26.587499618530273
         ]
        },
        {
         "hoverinfo": "skip",
         "legendgroup": "rechits_chain",
         "mode": "lines",
         "name": "Rechits chain",
         "showlegend": false,
         "type": "scatter3d",
         "x": [
          -0.06758928298950195,
          0.907020092010498
         ],
         "y": [
          0.7605082988739014,
          0.19800829887390137
         ],
         "z": [
          26.587499618530273,
          26.587499618530273
         ]
        },
        {
         "anchor": "tip",
         "colorscale": [
          [
           0,
           "blue"
          ],
          [
           1,
           "blue"
          ]
         ],
         "hoverinfo": "skip",
         "legendgroup": "rechits_chain",
         "showscale": false,
         "type": "cone",
         "u": [
          0.8660988858794976
         ],
         "v": [
          -0.4998727036739385
         ],
         "w": [
          0
         ],
         "x": [
          0.907020092010498
         ],
         "y": [
          0.19800829887390137
         ],
         "z": [
          26.587499618530273
         ]
        },
        {
         "hoverinfo": "skip",
         "legendgroup": "rechits_chain",
         "mode": "lines",
         "name": "Rechits chain",
         "showlegend": false,
         "type": "scatter3d",
         "x": [
          -0.06758928298950195,
          -0.06758928298950195
         ],
         "y": [
          -0.36449170112609863,
          0.7605082988739014
         ],
         "z": [
          26.587499618530273,
          26.587499618530273
         ]
        },
        {
         "anchor": "tip",
         "colorscale": [
          [
           0,
           "blue"
          ],
          [
           1,
           "blue"
          ]
         ],
         "hoverinfo": "skip",
         "legendgroup": "rechits_chain",
         "showscale": false,
         "type": "cone",
         "u": [
          0
         ],
         "v": [
          1
         ],
         "w": [
          0
         ],
         "x": [
          -0.06758928298950195
         ],
         "y": [
          0.7605082988739014
         ],
         "z": [
          26.587499618530273
         ]
        },
        {
         "hoverinfo": "skip",
         "legendgroup": "rechits_chain",
         "mode": "lines",
         "name": "Rechits chain",
         "showlegend": false,
         "type": "scatter3d",
         "x": [
          4.804847240447998,
          4.804847240447998
         ],
         "y": [
          -2.0523579120635986,
          -0.9272358417510986
         ],
         "z": [
          26.587499618530273,
          26.587499618530273
         ]
        },
        {
         "anchor": "tip",
         "colorscale": [
          [
           0,
           "blue"
          ],
          [
           1,
           "blue"
          ]
         ],
         "hoverinfo": "skip",
         "legendgroup": "rechits_chain",
         "showscale": false,
         "type": "cone",
         "u": [
          0
         ],
         "v": [
          1
         ],
         "w": [
          0
         ],
         "x": [
          4.804847240447998
         ],
         "y": [
          -0.9272358417510986
         ],
         "z": [
          26.587499618530273
         ]
        },
        {
         "hoverinfo": "skip",
         "legendgroup": "rechits_chain",
         "mode": "lines",
         "name": "Rechits chain",
         "showlegend": false,
         "type": "scatter3d",
         "x": [
          4.804847240447998,
          3.830350875854492
         ],
         "y": [
          -0.9272358417510986,
          -1.4897358417510986
         ],
         "z": [
          26.587499618530273,
          26.587499618530273
         ]
        },
        {
         "anchor": "tip",
         "colorscale": [
          [
           0,
           "blue"
          ],
          [
           1,
           "blue"
          ]
         ],
         "hoverinfo": "skip",
         "legendgroup": "rechits_chain",
         "showscale": false,
         "type": "cone",
         "u": [
          -0.8660737883576084
         ],
         "v": [
          -0.49991618609512994
         ],
         "w": [
          0
         ],
         "x": [
          3.830350875854492
         ],
         "y": [
          -1.4897358417510986
         ],
         "z": [
          26.587499618530273
         ]
        },
        {
         "hoverinfo": "skip",
         "legendgroup": "rechits_chain",
         "mode": "lines",
         "name": "Rechits chain",
         "showlegend": false,
         "type": "scatter3d",
         "x": [
          5.779334545135498,
          4.804847240447998
         ],
         "y": [
          0.7605082988739014,
          -0.9272358417510986
         ],
         "z": [
          26.587499618530273,
          26.587499618530273
         ]
        },
        {
         "anchor": "tip",
         "colorscale": [
          [
           0,
           "blue"
          ],
          [
           1,
           "blue"
          ]
         ],
         "hoverinfo": "skip",
         "legendgroup": "rechits_chain",
         "showscale": false,
         "type": "cone",
         "u": [
          -0.5000260805296963
         ],
         "v": [
          -0.8660103456599751
         ],
         "w": [
          0
         ],
         "x": [
          4.804847240447998
         ],
         "y": [
          -0.9272358417510986
         ],
         "z": [
          26.587499618530273
         ]
        },
        {
         "customdata": [
          [
           0.01323410589247942,
           0.01323410589247942,
           1.9177563190460205,
           "Follower"
          ],
          [
           0.019932696595788002,
           0.04810125008225441,
           1.125074863433838,
           "Follower"
          ],
          [
           0.007752832490950823,
           0.02868439070880413,
           1.1251314878463745,
           "Follower"
          ],
          [
           0.036300595849752426,
           0.05240878090262413,
           3.4028234663852886e+38,
           "Seed"
          ],
          [
           0.01228367444127798,
           0.04427673667669296,
           1.125121831893921,
           "Follower"
          ]
         ],
         "hovertemplate": "Rechit : %{customdata[3]}<br>Energy: %{customdata[0]:.2g} GeV<br>Rho: %{customdata[1]:.2g} GeV<br>Delta: %{customdata[2]:.2g} cm",
         "legendgroup": "rechits",
         "legendgrouptitle": {
          "text": "Rechits"
         },
         "marker": {
          "color": "#EF553B",
          "size": [
           0.39702317118644714,
           0.5979809165000916,
           0.23258496820926666,
           1.0890178680419922,
           0.36851024627685547
          ],
          "symbol": "circle"
         },
         "mode": "markers",
         "name": "2D cluster nb 11",
         "type": "scatter3d",
         "x": [
          3.7988409996032715,
          1.881385326385498,
          1.881385326385498,
          0.907020092010498,
          0.907020092010498
         ],
         "y": [
          -3.774184226989746,
          -3.7402241230010986,
          -2.6149890422821045,
          -4.3027238845825195,
          -3.1776020526885986
         ],
         "z": [
          26.587499618530273,
          26.587499618530273,
          26.587499618530273,
          26.587499618530273,
          26.587499618530273
         ]
        },
        {
         "hoverinfo": "skip",
         "legendgroup": "rechits_chain",
         "mode": "lines",
         "name": "Rechits chain",
         "showlegend": false,
         "type": "scatter3d",
         "x": [
          3.7988409996032715,
          1.881385326385498
         ],
         "y": [
          -3.774184226989746,
          -3.7402241230010986
         ],
         "z": [
          26.587499618530273,
          26.587499618530273
         ]
        },
        {
         "anchor": "tip",
         "colorscale": [
          [
           0,
           "blue"
          ],
          [
           1,
           "blue"
          ]
         ],
         "hoverinfo": "skip",
         "legendgroup": "rechits_chain",
         "showscale": false,
         "type": "cone",
         "u": [
          -0.999843196698061
         ],
         "v": [
          0.017708247135239753
         ],
         "w": [
          0
         ],
         "x": [
          1.881385326385498
         ],
         "y": [
          -3.7402241230010986
         ],
         "z": [
          26.587499618530273
         ]
        },
        {
         "hoverinfo": "skip",
         "legendgroup": "rechits_chain",
         "mode": "lines",
         "name": "Rechits chain",
         "showlegend": false,
         "type": "scatter3d",
         "x": [
          1.881385326385498,
          0.907020092010498
         ],
         "y": [
          -3.7402241230010986,
          -4.3027238845825195
         ],
         "z": [
          26.587499618530273,
          26.587499618530273
         ]
        },
        {
         "anchor": "tip",
         "colorscale": [
          [
           0,
           "blue"
          ],
          [
           1,
           "blue"
          ]
         ],
         "hoverinfo": "skip",
         "legendgroup": "rechits_chain",
         "showscale": false,
         "type": "cone",
         "u": [
          -0.8660447503076836
         ],
         "v": [
          -0.49996648934153753
         ],
         "w": [
          0
         ],
         "x": [
          0.907020092010498
         ],
         "y": [
          -4.3027238845825195
         ],
         "z": [
          26.587499618530273
         ]
        },
        {
         "hoverinfo": "skip",
         "legendgroup": "rechits_chain",
         "mode": "lines",
         "name": "Rechits chain",
         "showlegend": false,
         "type": "scatter3d",
         "x": [
          1.881385326385498,
          0.907020092010498
         ],
         "y": [
          -2.6149890422821045,
          -3.1776020526885986
         ],
         "z": [
          26.587499618530273,
          26.587499618530273
         ]
        },
        {
         "anchor": "tip",
         "colorscale": [
          [
           0,
           "blue"
          ],
          [
           1,
           "blue"
          ]
         ],
         "hoverinfo": "skip",
         "legendgroup": "rechits_chain",
         "showscale": false,
         "type": "cone",
         "u": [
          -0.8660011645682122
         ],
         "v": [
          -0.5000419812040788
         ],
         "w": [
          0
         ],
         "x": [
          0.907020092010498
         ],
         "y": [
          -3.1776020526885986
         ],
         "z": [
          26.587499618530273
         ]
        },
        {
         "hoverinfo": "skip",
         "legendgroup": "rechits_chain",
         "mode": "lines",
         "name": "Rechits chain",
         "showlegend": false,
         "type": "scatter3d",
         "x": [
          0.907020092010498,
          0.907020092010498
         ],
         "y": [
          -3.1776020526885986,
          -4.3027238845825195
         ],
         "z": [
          26.587499618530273,
          26.587499618530273
         ]
        },
        {
         "anchor": "tip",
         "colorscale": [
          [
           0,
           "blue"
          ],
          [
           1,
           "blue"
          ]
         ],
         "hoverinfo": "skip",
         "legendgroup": "rechits_chain",
         "showscale": false,
         "type": "cone",
         "u": [
          0
         ],
         "v": [
          -1
         ],
         "w": [
          0
         ],
         "x": [
          0.907020092010498
         ],
         "y": [
          -4.3027238845825195
         ],
         "z": [
          26.587499618530273
         ]
        },
        {
         "customdata": [
          [
           0.0391816608607769,
           0.28514188528060913,
           1.10599684715271,
           "Follower"
          ],
          [
           0.05853208154439926,
           0.30101925134658813,
           1.10599684715271,
           "Follower"
          ],
          [
           0.01542047318071127,
           0.04852219671010971,
           1.125244140625,
           "Follower"
          ],
          [
           0.011113140732049942,
           0.3088909983634949,
           1.125180721282959,
           "Follower"
          ],
          [
           0.3270889222621918,
           0.512443482875824,
           3.4028234663852886e+38,
           "Seed"
          ],
          [
           0.04451890289783478,
           0.26805979013442993,
           1.1096947193145752,
           "Follower"
          ],
          [
           0.021684542298316956,
           0.038017064332962036,
           1.125241756439209,
           "Follower"
          ],
          [
           0.015750447288155556,
           0.05823446065187454,
           1.125,
           "Follower"
          ],
          [
           0.08496803045272827,
           0.1368357390165329,
           1.12548828125,
           "Follower"
          ],
          [
           0.17132297158241272,
           0.476441353559494,
           1.125302791595459,
           "Follower"
          ],
          [
           0.04604032635688782,
           0.36777475476264954,
           1.125180721282959,
           "Follower"
          ],
          [
           0.030022775754332542,
           0.135234996676445,
           1.125,
           "Follower"
          ],
          [
           0.0674942135810852,
           0.25082632899284363,
           1.1250749826431274,
           "Follower"
          ],
          [
           0.10053800046443939,
           0.2899472415447235,
           1.1250749826431274,
           "Follower"
          ],
          [
           0.017244573682546616,
           0.028086844831705093,
           1.1251360177993774,
           "Follower"
          ],
          [
           0.006818315014243126,
           0.13733358681201935,
           1.125244140625,
           "Follower"
          ],
          [
           0.08714266121387482,
           0.14082081615924835,
           1.1252864599227905,
           "Follower"
          ],
          [
           0.0058556669391691685,
           0.009264824911952019,
           1.124863624572754,
           "Follower"
          ],
          [
           0.05368611961603165,
           0.09320150315761566,
           1.1251220703125,
           "Follower"
          ],
          [
           0.07468760758638382,
           0.1045277863740921,
           1.125244140625,
           "Follower"
          ],
          [
           0.020498700439929962,
           0.13354243338108063,
           1.1408828496932983,
           "Follower"
          ],
          [
           0.05796218290925026,
           0.24042274057865143,
           1.125,
           "Follower"
          ]
         ],
         "hovertemplate": "Rechit : %{customdata[3]}<br>Energy: %{customdata[0]:.2g} GeV<br>Rho: %{customdata[1]:.2g} GeV<br>Delta: %{customdata[2]:.2g} cm",
         "legendgroup": "rechits",
         "legendgrouptitle": {
          "text": "Rechits"
         },
         "marker": {
          "color": "#EF553B",
          "size": [
           1.1754498481750488,
           1.7559624910354614,
           0.4626142084598541,
           0.33339422941207886,
           9.812667846679688,
           1.3355671167373657,
           0.650536298751831,
           0.4725134074687958,
           2.5490407943725586,
           5.139688968658447,
           1.3812098503112793,
           0.9006832838058472,
           2.0248265266418457,
           3.0161399841308594,
           0.5173372030258179,
           0.20454944670200348,
           2.6142797470092773,
           0.17567001283168793,
           1.6105835437774658,
           2.240628242492676,
           0.6149610280990601,
           1.7388654947280884
          ],
          "symbol": "circle"
         },
         "mode": "markers",
         "name": "2D cluster nb 12",
         "type": "scatter3d",
         "x": [
          3.830350875854492,
          3.830350875854492,
          2.8759727478027344,
          2.8759727478027344,
          2.8759727478027344,
          2.8759727478027344,
          1.9014854431152344,
          1.9014854431152344,
          1.9014854431152344,
          1.9014854431152344,
          1.9014854431152344,
          0.9271202087402344,
          0.9271202087402344,
          0.9271202087402344,
          0.9271202087402344,
          -0.047489166259765625,
          -0.047489166259765625,
          -1.0216102600097656,
          4.824947357177734,
          4.824947357177734,
          4.824947357177734,
          1.9014854431152344
         ],
         "y": [
          -0.36449170112609863,
          -1.4897358417510986,
          -3.1811821460723877,
          0.1944282054901123,
          -0.9308159351348877,
          -2.0559380054473877,
          -3.7438042163848877,
          3.0074164867401123,
          1.8824164867401123,
          -0.3680717945098877,
          -1.4933159351348877,
          1.3194282054901123,
          0.1944282054901123,
          -0.9308159351348877,
          -3.1811821460723877,
          -0.3680717945098877,
          -1.4933159351348877,
          0.1944282054901123,
          -2.0559380054473877,
          0.1944282054901123,
          -0.9308159351348877,
          0.7569282054901123
         ],
         "z": [
          28.702499389648438,
          28.702499389648438,
          28.702499389648438,
          28.702499389648438,
          28.702499389648438,
          28.702499389648438,
          28.702499389648438,
          28.702499389648438,
          28.702499389648438,
          28.702499389648438,
          28.702499389648438,
          28.702499389648438,
          28.702499389648438,
          28.702499389648438,
          28.702499389648438,
          28.702499389648438,
          28.702499389648438,
          28.702499389648438,
          28.702499389648438,
          28.702499389648438,
          28.702499389648438,
          28.702499389648438
         ]
        },
        {
         "hoverinfo": "skip",
         "legendgroup": "rechits_chain",
         "mode": "lines",
         "name": "Rechits chain",
         "showlegend": false,
         "type": "scatter3d",
         "x": [
          3.830350875854492,
          2.8759727478027344
         ],
         "y": [
          -0.36449170112609863,
          0.1944282054901123
         ],
         "z": [
          28.702499389648438,
          28.702499389648438
         ]
        },
        {
         "anchor": "tip",
         "colorscale": [
          [
           0,
           "blue"
          ],
          [
           1,
           "blue"
          ]
         ],
         "hoverinfo": "skip",
         "legendgroup": "rechits_chain",
         "showscale": false,
         "type": "cone",
         "u": [
          -0.8629121430284744
         ],
         "v": [
          0.5053539684359922
         ],
         "w": [
          0
         ],
         "x": [
          2.8759727478027344
         ],
         "y": [
          0.1944282054901123
         ],
         "z": [
          28.702499389648438
         ]
        },
        {
         "hoverinfo": "skip",
         "legendgroup": "rechits_chain",
         "mode": "lines",
         "name": "Rechits chain",
         "showlegend": false,
         "type": "scatter3d",
         "x": [
          3.830350875854492,
          2.8759727478027344
         ],
         "y": [
          -1.4897358417510986,
          -0.9308159351348877
         ],
         "z": [
          28.702499389648438,
          28.702499389648438
         ]
        },
        {
         "anchor": "tip",
         "colorscale": [
          [
           0,
           "blue"
          ],
          [
           1,
           "blue"
          ]
         ],
         "hoverinfo": "skip",
         "legendgroup": "rechits_chain",
         "showscale": false,
         "type": "cone",
         "u": [
          -0.8629121430284744
         ],
         "v": [
          0.5053539684359922
         ],
         "w": [
          0
         ],
         "x": [
          2.8759727478027344
         ],
         "y": [
          -0.9308159351348877
         ],
         "z": [
          28.702499389648438
         ]
        },
        {
         "hoverinfo": "skip",
         "legendgroup": "rechits_chain",
         "mode": "lines",
         "name": "Rechits chain",
         "showlegend": false,
         "type": "scatter3d",
         "x": [
          2.8759727478027344,
          2.8759727478027344
         ],
         "y": [
          -3.1811821460723877,
          -2.0559380054473877
         ],
         "z": [
          28.702499389648438,
          28.702499389648438
         ]
        },
        {
         "anchor": "tip",
         "colorscale": [
          [
           0,
           "blue"
          ],
          [
           1,
           "blue"
          ]
         ],
         "hoverinfo": "skip",
         "legendgroup": "rechits_chain",
         "showscale": false,
         "type": "cone",
         "u": [
          0
         ],
         "v": [
          1
         ],
         "w": [
          0
         ],
         "x": [
          2.8759727478027344
         ],
         "y": [
          -2.0559380054473877
         ],
         "z": [
          28.702499389648438
         ]
        },
        {
         "hoverinfo": "skip",
         "legendgroup": "rechits_chain",
         "mode": "lines",
         "name": "Rechits chain",
         "showlegend": false,
         "type": "scatter3d",
         "x": [
          2.8759727478027344,
          1.9014854431152344
         ],
         "y": [
          0.1944282054901123,
          -0.3680717945098877
         ],
         "z": [
          28.702499389648438,
          28.702499389648438
         ]
        },
        {
         "anchor": "tip",
         "colorscale": [
          [
           0,
           "blue"
          ],
          [
           1,
           "blue"
          ]
         ],
         "hoverinfo": "skip",
         "legendgroup": "rechits_chain",
         "showscale": false,
         "type": "cone",
         "u": [
          -0.866071776036405
         ],
         "v": [
          -0.499919672300608
         ],
         "w": [
          0
         ],
         "x": [
          1.9014854431152344
         ],
         "y": [
          -0.3680717945098877
         ],
         "z": [
          28.702499389648438
         ]
        },
        {
         "hoverinfo": "skip",
         "legendgroup": "rechits_chain",
         "mode": "lines",
         "name": "Rechits chain",
         "showlegend": false,
         "type": "scatter3d",
         "x": [
          2.8759727478027344,
          3.830350875854492
         ],
         "y": [
          -2.0559380054473877,
          -1.4897358417510986
         ],
         "z": [
          28.702499389648438,
          28.702499389648438
         ]
        },
        {
         "anchor": "tip",
         "colorscale": [
          [
           0,
           "blue"
          ],
          [
           1,
           "blue"
          ]
         ],
         "hoverinfo": "skip",
         "legendgroup": "rechits_chain",
         "showscale": false,
         "type": "cone",
         "u": [
          0.8600366033291608
         ],
         "v": [
          0.5102323401491127
         ],
         "w": [
          0
         ],
         "x": [
          3.830350875854492
         ],
         "y": [
          -1.4897358417510986
         ],
         "z": [
          28.702499389648438
         ]
        },
        {
         "hoverinfo": "skip",
         "legendgroup": "rechits_chain",
         "mode": "lines",
         "name": "Rechits chain",
         "showlegend": false,
         "type": "scatter3d",
         "x": [
          1.9014854431152344,
          2.8759727478027344
         ],
         "y": [
          -3.7438042163848877,
          -3.1811821460723877
         ],
         "z": [
          28.702499389648438,
          28.702499389648438
         ]
        },
        {
         "anchor": "tip",
         "colorscale": [
          [
           0,
           "blue"
          ],
          [
           1,
           "blue"
          ]
         ],
         "hoverinfo": "skip",
         "legendgroup": "rechits_chain",
         "showscale": false,
         "type": "cone",
         "u": [
          0.8660248024567582
         ],
         "v": [
          0.5000010415286482
         ],
         "w": [
          0
         ],
         "x": [
          2.8759727478027344
         ],
         "y": [
          -3.1811821460723877
         ],
         "z": [
          28.702499389648438
         ]
        },
        {
         "hoverinfo": "skip",
         "legendgroup": "rechits_chain",
         "mode": "lines",
         "name": "Rechits chain",
         "showlegend": false,
         "type": "scatter3d",
         "x": [
          1.9014854431152344,
          1.9014854431152344
         ],
         "y": [
          3.0074164867401123,
          1.8824164867401123
         ],
         "z": [
          28.702499389648438,
          28.702499389648438
         ]
        },
        {
         "anchor": "tip",
         "colorscale": [
          [
           0,
           "blue"
          ],
          [
           1,
           "blue"
          ]
         ],
         "hoverinfo": "skip",
         "legendgroup": "rechits_chain",
         "showscale": false,
         "type": "cone",
         "u": [
          0
         ],
         "v": [
          -1
         ],
         "w": [
          0
         ],
         "x": [
          1.9014854431152344
         ],
         "y": [
          1.8824164867401123
         ],
         "z": [
          28.702499389648438
         ]
        },
        {
         "hoverinfo": "skip",
         "legendgroup": "rechits_chain",
         "mode": "lines",
         "name": "Rechits chain",
         "showlegend": false,
         "type": "scatter3d",
         "x": [
          1.9014854431152344,
          1.9014854431152344
         ],
         "y": [
          1.8824164867401123,
          0.7569282054901123
         ],
         "z": [
          28.702499389648438,
          28.702499389648438
         ]
        },
        {
         "anchor": "tip",
         "colorscale": [
          [
           0,
           "blue"
          ],
          [
           1,
           "blue"
          ]
         ],
         "hoverinfo": "skip",
         "legendgroup": "rechits_chain",
         "showscale": false,
         "type": "cone",
         "u": [
          0
         ],
         "v": [
          -1
         ],
         "w": [
          0
         ],
         "x": [
          1.9014854431152344
         ],
         "y": [
          0.7569282054901123
         ],
         "z": [
          28.702499389648438
         ]
        },
        {
         "hoverinfo": "skip",
         "legendgroup": "rechits_chain",
         "mode": "lines",
         "name": "Rechits chain",
         "showlegend": false,
         "type": "scatter3d",
         "x": [
          1.9014854431152344,
          2.8759727478027344
         ],
         "y": [
          -0.3680717945098877,
          -0.9308159351348877
         ],
         "z": [
          28.702499389648438,
          28.702499389648438
         ]
        },
        {
         "anchor": "tip",
         "colorscale": [
          [
           0,
           "blue"
          ],
          [
           1,
           "blue"
          ]
         ],
         "hoverinfo": "skip",
         "legendgroup": "rechits_chain",
         "showscale": false,
         "type": "cone",
         "u": [
          0.8659778263291473
         ],
         "v": [
          -0.5000823975168945
         ],
         "w": [
          0
         ],
         "x": [
          2.8759727478027344
         ],
         "y": [
          -0.9308159351348877
         ],
         "z": [
          28.702499389648438
         ]
        },
        {
         "hoverinfo": "skip",
         "legendgroup": "rechits_chain",
         "mode": "lines",
         "name": "Rechits chain",
         "showlegend": false,
         "type": "scatter3d",
         "x": [
          1.9014854431152344,
          2.8759727478027344
         ],
         "y": [
          -1.4933159351348877,
          -0.9308159351348877
         ],
         "z": [
          28.702499389648438,
          28.702499389648438
         ]
        },
        {
         "anchor": "tip",
         "colorscale": [
          [
           0,
           "blue"
          ],
          [
           1,
           "blue"
          ]
         ],
         "hoverinfo": "skip",
         "legendgroup": "rechits_chain",
         "showscale": false,
         "type": "cone",
         "u": [
          0.866071776036405
         ],
         "v": [
          0.499919672300608
         ],
         "w": [
          0
         ],
         "x": [
          2.8759727478027344
         ],
         "y": [
          -0.9308159351348877
         ],
         "z": [
          28.702499389648438
         ]
        },
        {
         "hoverinfo": "skip",
         "legendgroup": "rechits_chain",
         "mode": "lines",
         "name": "Rechits chain",
         "showlegend": false,
         "type": "scatter3d",
         "x": [
          0.9271202087402344,
          0.9271202087402344
         ],
         "y": [
          1.3194282054901123,
          0.1944282054901123
         ],
         "z": [
          28.702499389648438,
          28.702499389648438
         ]
        },
        {
         "anchor": "tip",
         "colorscale": [
          [
           0,
           "blue"
          ],
          [
           1,
           "blue"
          ]
         ],
         "hoverinfo": "skip",
         "legendgroup": "rechits_chain",
         "showscale": false,
         "type": "cone",
         "u": [
          0
         ],
         "v": [
          -1
         ],
         "w": [
          0
         ],
         "x": [
          0.9271202087402344
         ],
         "y": [
          0.1944282054901123
         ],
         "z": [
          28.702499389648438
         ]
        },
        {
         "hoverinfo": "skip",
         "legendgroup": "rechits_chain",
         "mode": "lines",
         "name": "Rechits chain",
         "showlegend": false,
         "type": "scatter3d",
         "x": [
          0.9271202087402344,
          1.9014854431152344
         ],
         "y": [
          0.1944282054901123,
          -0.3680717945098877
         ],
         "z": [
          28.702499389648438,
          28.702499389648438
         ]
        },
        {
         "anchor": "tip",
         "colorscale": [
          [
           0,
           "blue"
          ],
          [
           1,
           "blue"
          ]
         ],
         "hoverinfo": "skip",
         "legendgroup": "rechits_chain",
         "showscale": false,
         "type": "cone",
         "u": [
          0.8660446585505366
         ],
         "v": [
          -0.4999666482837475
         ],
         "w": [
          0
         ],
         "x": [
          1.9014854431152344
         ],
         "y": [
          -0.3680717945098877
         ],
         "z": [
          28.702499389648438
         ]
        },
        {
         "hoverinfo": "skip",
         "legendgroup": "rechits_chain",
         "mode": "lines",
         "name": "Rechits chain",
         "showlegend": false,
         "type": "scatter3d",
         "x": [
          0.9271202087402344,
          1.9014854431152344
         ],
         "y": [
          -0.9308159351348877,
          -1.4933159351348877
         ],
         "z": [
          28.702499389648438,
          28.702499389648438
         ]
        },
        {
         "anchor": "tip",
         "colorscale": [
          [
           0,
           "blue"
          ],
          [
           1,
           "blue"
          ]
         ],
         "hoverinfo": "skip",
         "legendgroup": "rechits_chain",
         "showscale": false,
         "type": "cone",
         "u": [
          0.8660446585505366
         ],
         "v": [
          -0.4999666482837475
         ],
         "w": [
          0
         ],
         "x": [
          1.9014854431152344
         ],
         "y": [
          -1.4933159351348877
         ],
         "z": [
          28.702499389648438
         ]
        },
        {
         "hoverinfo": "skip",
         "legendgroup": "rechits_chain",
         "mode": "lines",
         "name": "Rechits chain",
         "showlegend": false,
         "type": "scatter3d",
         "x": [
          0.9271202087402344,
          1.9014854431152344
         ],
         "y": [
          -3.1811821460723877,
          -3.7438042163848877
         ],
         "z": [
          28.702499389648438,
          28.702499389648438
         ]
        },
        {
         "anchor": "tip",
         "colorscale": [
          [
           0,
           "blue"
          ],
          [
           1,
           "blue"
          ]
         ],
         "hoverinfo": "skip",
         "legendgroup": "rechits_chain",
         "showscale": false,
         "type": "cone",
         "u": [
          0.8659976776143162
         ],
         "v": [
          -0.5000480200606845
         ],
         "w": [
          0
         ],
         "x": [
          1.9014854431152344
         ],
         "y": [
          -3.7438042163848877
         ],
         "z": [
          28.702499389648438
         ]
        },
        {
         "hoverinfo": "skip",
         "legendgroup": "rechits_chain",
         "mode": "lines",
         "name": "Rechits chain",
         "showlegend": false,
         "type": "scatter3d",
         "x": [
          -0.047489166259765625,
          -0.047489166259765625
         ],
         "y": [
          -0.3680717945098877,
          -1.4933159351348877
         ],
         "z": [
          28.702499389648438,
          28.702499389648438
         ]
        },
        {
         "anchor": "tip",
         "colorscale": [
          [
           0,
           "blue"
          ],
          [
           1,
           "blue"
          ]
         ],
         "hoverinfo": "skip",
         "legendgroup": "rechits_chain",
         "showscale": false,
         "type": "cone",
         "u": [
          0
         ],
         "v": [
          -1
         ],
         "w": [
          0
         ],
         "x": [
          -0.047489166259765625
         ],
         "y": [
          -1.4933159351348877
         ],
         "z": [
          28.702499389648438
         ]
        },
        {
         "hoverinfo": "skip",
         "legendgroup": "rechits_chain",
         "mode": "lines",
         "name": "Rechits chain",
         "showlegend": false,
         "type": "scatter3d",
         "x": [
          -0.047489166259765625,
          0.9271202087402344
         ],
         "y": [
          -1.4933159351348877,
          -0.9308159351348877
         ],
         "z": [
          28.702499389648438,
          28.702499389648438
         ]
        },
        {
         "anchor": "tip",
         "colorscale": [
          [
           0,
           "blue"
          ],
          [
           1,
           "blue"
          ]
         ],
         "hoverinfo": "skip",
         "legendgroup": "rechits_chain",
         "showscale": false,
         "type": "cone",
         "u": [
          0.8660988858794976
         ],
         "v": [
          0.4998727036739385
         ],
         "w": [
          0
         ],
         "x": [
          0.9271202087402344
         ],
         "y": [
          -0.9308159351348877
         ],
         "z": [
          28.702499389648438
         ]
        },
        {
         "hoverinfo": "skip",
         "legendgroup": "rechits_chain",
         "mode": "lines",
         "name": "Rechits chain",
         "showlegend": false,
         "type": "scatter3d",
         "x": [
          -1.0216102600097656,
          -0.047489166259765625
         ],
         "y": [
          0.1944282054901123,
          -0.3680717945098877
         ],
         "z": [
          28.702499389648438,
          28.702499389648438
         ]
        },
        {
         "anchor": "tip",
         "colorscale": [
          [
           0,
           "blue"
          ],
          [
           1,
           "blue"
          ]
         ],
         "hoverinfo": "skip",
         "legendgroup": "rechits_chain",
         "showscale": false,
         "type": "cone",
         "u": [
          0.8659904006399372
         ],
         "v": [
          -0.5000606223244148
         ],
         "w": [
          0
         ],
         "x": [
          -0.047489166259765625
         ],
         "y": [
          -0.3680717945098877
         ],
         "z": [
          28.702499389648438
         ]
        },
        {
         "hoverinfo": "skip",
         "legendgroup": "rechits_chain",
         "mode": "lines",
         "name": "Rechits chain",
         "showlegend": false,
         "type": "scatter3d",
         "x": [
          4.824947357177734,
          4.824947357177734
         ],
         "y": [
          -2.0559380054473877,
          -0.9308159351348877
         ],
         "z": [
          28.702499389648438,
          28.702499389648438
         ]
        },
        {
         "anchor": "tip",
         "colorscale": [
          [
           0,
           "blue"
          ],
          [
           1,
           "blue"
          ]
         ],
         "hoverinfo": "skip",
         "legendgroup": "rechits_chain",
         "showscale": false,
         "type": "cone",
         "u": [
          0
         ],
         "v": [
          1
         ],
         "w": [
          0
         ],
         "x": [
          4.824947357177734
         ],
         "y": [
          -0.9308159351348877
         ],
         "z": [
          28.702499389648438
         ]
        },
        {
         "hoverinfo": "skip",
         "legendgroup": "rechits_chain",
         "mode": "lines",
         "name": "Rechits chain",
         "showlegend": false,
         "type": "scatter3d",
         "x": [
          4.824947357177734,
          4.824947357177734
         ],
         "y": [
          0.1944282054901123,
          -0.9308159351348877
         ],
         "z": [
          28.702499389648438,
          28.702499389648438
         ]
        },
        {
         "anchor": "tip",
         "colorscale": [
          [
           0,
           "blue"
          ],
          [
           1,
           "blue"
          ]
         ],
         "hoverinfo": "skip",
         "legendgroup": "rechits_chain",
         "showscale": false,
         "type": "cone",
         "u": [
          0
         ],
         "v": [
          -1
         ],
         "w": [
          0
         ],
         "x": [
          4.824947357177734
         ],
         "y": [
          -0.9308159351348877
         ],
         "z": [
          28.702499389648438
         ]
        },
        {
         "hoverinfo": "skip",
         "legendgroup": "rechits_chain",
         "mode": "lines",
         "name": "Rechits chain",
         "showlegend": false,
         "type": "scatter3d",
         "x": [
          4.824947357177734,
          3.830350875854492
         ],
         "y": [
          -0.9308159351348877,
          -1.4897358417510986
         ],
         "z": [
          28.702499389648438,
          28.702499389648438
         ]
        },
        {
         "anchor": "tip",
         "colorscale": [
          [
           0,
           "blue"
          ],
          [
           1,
           "blue"
          ]
         ],
         "hoverinfo": "skip",
         "legendgroup": "rechits_chain",
         "showscale": false,
         "type": "cone",
         "u": [
          -0.8717779413038103
         ],
         "v": [
          -0.48990123602221103
         ],
         "w": [
          0
         ],
         "x": [
          3.830350875854492
         ],
         "y": [
          -1.4897358417510986
         ],
         "z": [
          28.702499389648438
         ]
        },
        {
         "hoverinfo": "skip",
         "legendgroup": "rechits_chain",
         "mode": "lines",
         "name": "Rechits chain",
         "showlegend": false,
         "type": "scatter3d",
         "x": [
          1.9014854431152344,
          1.9014854431152344
         ],
         "y": [
          0.7569282054901123,
          -0.3680717945098877
         ],
         "z": [
          28.702499389648438,
          28.702499389648438
         ]
        },
        {
         "anchor": "tip",
         "colorscale": [
          [
           0,
           "blue"
          ],
          [
           1,
           "blue"
          ]
         ],
         "hoverinfo": "skip",
         "legendgroup": "rechits_chain",
         "showscale": false,
         "type": "cone",
         "u": [
          0
         ],
         "v": [
          -1
         ],
         "w": [
          0
         ],
         "x": [
          1.9014854431152344
         ],
         "y": [
          -0.3680717945098877
         ],
         "z": [
          28.702499389648438
         ]
        },
        {
         "customdata": [
          [
           0.00703580304980278,
           0.029513400048017502,
           1.1015146970748901,
           "Follower"
          ],
          [
           0.02474602870643139,
           0.03795713558793068,
           1.173824667930603,
           "Follower"
          ],
          [
           0.018956037238240242,
           0.1816604733467102,
           1.1251729726791382,
           "Follower"
          ],
          [
           0.014662745408713818,
           0.023848852142691612,
           1.125244140625,
           "Follower"
          ],
          [
           0.017873909324407578,
           0.03452107682824135,
           1.125,
           "Follower"
          ],
          [
           0.008548307232558727,
           0.2134122997522354,
           1.125180721282959,
           "Follower"
          ],
          [
           0.2852521240711212,
           0.3707032799720764,
           3.4028234663852886e+38,
           "Seed"
          ],
          [
           0.011336411349475384,
           0.19939255714416504,
           1.1251220703125,
           "Follower"
          ],
          [
           0.08185593783855438,
           0.2943122982978821,
           1.125302791595459,
           "Follower"
          ],
          [
           0.05020558089017868,
           0.2564198970794678,
           1.125180721282959,
           "Follower"
          ],
          [
           0.008711368776857853,
           0.03776206821203232,
           1.125,
           "Follower"
          ],
          [
           0.05810139700770378,
           0.11478769779205322,
           1.1250749826431274,
           "Follower"
          ],
          [
           0.02280530147254467,
           0.12347619235515594,
           1.1250749826431274,
           "Follower"
          ],
          [
           0.011178859509527683,
           0.04768430069088936,
           1.1251220703125,
           "Follower"
          ],
          [
           0.02178451605141163,
           0.031262535601854324,
           1.1251883506774902,
           "Follower"
          ]
         ],
         "hovertemplate": "Rechit : %{customdata[3]}<br>Energy: %{customdata[0]:.2g} GeV<br>Rho: %{customdata[1]:.2g} GeV<br>Delta: %{customdata[2]:.2g} cm",
         "legendgroup": "rechits",
         "legendgrouptitle": {
          "text": "Rechits"
         },
         "marker": {
          "color": "#EF553B",
          "size": [
           0.2110740840435028,
           0.7423808574676514,
           0.5686811208724976,
           0.43988236784935,
           0.5362172722816467,
           0.25644922256469727,
           8.557563781738281,
           0.34009233117103577,
           2.4556782245635986,
           1.5061674118041992,
           0.26134106516838074,
           1.7430418729782104,
           0.6841590404510498,
           0.33536577224731445,
           0.6535354852676392
          ],
          "symbol": "circle"
         },
         "mode": "markers",
         "name": "2D cluster nb 14",
         "type": "scatter3d",
         "x": [
          3.8504509925842285,
          3.8504509925842285,
          3.808440923690796,
          2.8339626789093018,
          2.8339626789093018,
          2.8339626789093018,
          2.8339626789093018,
          2.8339626789093018,
          1.8594753742218018,
          1.8594753742218018,
          0.8851101398468018,
          0.8851101398468018,
          0.8851101398468018,
          0.8851101398468018,
          4.782937049865723
         ],
         "y": [
          -2.6185691356658936,
          0.7569282054901123,
          -1.5178558826446533,
          -3.2057220935821533,
          1.2948882579803467,
          0.16988825798034668,
          -0.9553558826446533,
          -2.0804779529571533,
          -0.3926117420196533,
          -1.5178558826446533,
          1.2948882579803467,
          0.16988825798034668,
          -0.9553558826446533,
          -2.0804779529571533,
          -0.9553558826446533
         ],
         "z": [
          29.592500686645508,
          29.592500686645508,
          29.592500686645508,
          29.592500686645508,
          29.592500686645508,
          29.592500686645508,
          29.592500686645508,
          29.592500686645508,
          29.592500686645508,
          29.592500686645508,
          29.592500686645508,
          29.592500686645508,
          29.592500686645508,
          29.592500686645508,
          29.592500686645508
         ]
        },
        {
         "hoverinfo": "skip",
         "legendgroup": "rechits_chain",
         "mode": "lines",
         "name": "Rechits chain",
         "showlegend": false,
         "type": "scatter3d",
         "x": [
          3.8504509925842285,
          3.808440923690796
         ],
         "y": [
          -2.6185691356658936,
          -1.5178558826446533
         ],
         "z": [
          29.592500686645508,
          29.592500686645508
         ]
        },
        {
         "anchor": "tip",
         "colorscale": [
          [
           0,
           "blue"
          ],
          [
           1,
           "blue"
          ]
         ],
         "hoverinfo": "skip",
         "legendgroup": "rechits_chain",
         "showscale": false,
         "type": "cone",
         "u": [
          -0.03813845700259009
         ],
         "v": [
          0.9992724643947023
         ],
         "w": [
          0
         ],
         "x": [
          3.808440923690796
         ],
         "y": [
          -1.5178558826446533
         ],
         "z": [
          29.592500686645508
         ]
        },
        {
         "hoverinfo": "skip",
         "legendgroup": "rechits_chain",
         "mode": "lines",
         "name": "Rechits chain",
         "showlegend": false,
         "type": "scatter3d",
         "x": [
          3.8504509925842285,
          2.8339626789093018
         ],
         "y": [
          0.7569282054901123,
          0.16988825798034668
         ],
         "z": [
          29.592500686645508,
          29.592500686645508
         ]
        },
        {
         "anchor": "tip",
         "colorscale": [
          [
           0,
           "blue"
          ],
          [
           1,
           "blue"
          ]
         ],
         "hoverinfo": "skip",
         "legendgroup": "rechits_chain",
         "showscale": false,
         "type": "cone",
         "u": [
          -0.865962631735512
         ],
         "v": [
          -0.500108708620142
         ],
         "w": [
          0
         ],
         "x": [
          2.8339626789093018
         ],
         "y": [
          0.16988825798034668
         ],
         "z": [
          29.592500686645508
         ]
        },
        {
         "hoverinfo": "skip",
         "legendgroup": "rechits_chain",
         "mode": "lines",
         "name": "Rechits chain",
         "showlegend": false,
         "type": "scatter3d",
         "x": [
          3.808440923690796,
          2.8339626789093018
         ],
         "y": [
          -1.5178558826446533,
          -0.9553558826446533
         ],
         "z": [
          29.592500686645508,
          29.592500686645508
         ]
        },
        {
         "anchor": "tip",
         "colorscale": [
          [
           0,
           "blue"
          ],
          [
           1,
           "blue"
          ]
         ],
         "hoverinfo": "skip",
         "legendgroup": "rechits_chain",
         "showscale": false,
         "type": "cone",
         "u": [
          -0.8660697636731018
         ],
         "v": [
          0.4999231585466086
         ],
         "w": [
          0
         ],
         "x": [
          2.8339626789093018
         ],
         "y": [
          -0.9553558826446533
         ],
         "z": [
          29.592500686645508
         ]
        },
        {
         "hoverinfo": "skip",
         "legendgroup": "rechits_chain",
         "mode": "lines",
         "name": "Rechits chain",
         "showlegend": false,
         "type": "scatter3d",
         "x": [
          2.8339626789093018,
          2.8339626789093018
         ],
         "y": [
          -3.2057220935821533,
          -2.0804779529571533
         ],
         "z": [
          29.592500686645508,
          29.592500686645508
         ]
        },
        {
         "anchor": "tip",
         "colorscale": [
          [
           0,
           "blue"
          ],
          [
           1,
           "blue"
          ]
         ],
         "hoverinfo": "skip",
         "legendgroup": "rechits_chain",
         "showscale": false,
         "type": "cone",
         "u": [
          0
         ],
         "v": [
          1
         ],
         "w": [
          0
         ],
         "x": [
          2.8339626789093018
         ],
         "y": [
          -2.0804779529571533
         ],
         "z": [
          29.592500686645508
         ]
        },
        {
         "hoverinfo": "skip",
         "legendgroup": "rechits_chain",
         "mode": "lines",
         "name": "Rechits chain",
         "showlegend": false,
         "type": "scatter3d",
         "x": [
          2.8339626789093018,
          2.8339626789093018
         ],
         "y": [
          1.2948882579803467,
          0.16988825798034668
         ],
         "z": [
          29.592500686645508,
          29.592500686645508
         ]
        },
        {
         "anchor": "tip",
         "colorscale": [
          [
           0,
           "blue"
          ],
          [
           1,
           "blue"
          ]
         ],
         "hoverinfo": "skip",
         "legendgroup": "rechits_chain",
         "showscale": false,
         "type": "cone",
         "u": [
          0
         ],
         "v": [
          -1
         ],
         "w": [
          0
         ],
         "x": [
          2.8339626789093018
         ],
         "y": [
          0.16988825798034668
         ],
         "z": [
          29.592500686645508
         ]
        },
        {
         "hoverinfo": "skip",
         "legendgroup": "rechits_chain",
         "mode": "lines",
         "name": "Rechits chain",
         "showlegend": false,
         "type": "scatter3d",
         "x": [
          2.8339626789093018,
          1.8594753742218018
         ],
         "y": [
          0.16988825798034668,
          -0.3926117420196533
         ],
         "z": [
          29.592500686645508,
          29.592500686645508
         ]
        },
        {
         "anchor": "tip",
         "colorscale": [
          [
           0,
           "blue"
          ],
          [
           1,
           "blue"
          ]
         ],
         "hoverinfo": "skip",
         "legendgroup": "rechits_chain",
         "showscale": false,
         "type": "cone",
         "u": [
          -0.866071776036405
         ],
         "v": [
          -0.499919672300608
         ],
         "w": [
          0
         ],
         "x": [
          1.8594753742218018
         ],
         "y": [
          -0.3926117420196533
         ],
         "z": [
          29.592500686645508
         ]
        },
        {
         "hoverinfo": "skip",
         "legendgroup": "rechits_chain",
         "mode": "lines",
         "name": "Rechits chain",
         "showlegend": false,
         "type": "scatter3d",
         "x": [
          2.8339626789093018,
          2.8339626789093018
         ],
         "y": [
          -2.0804779529571533,
          -0.9553558826446533
         ],
         "z": [
          29.592500686645508,
          29.592500686645508
         ]
        },
        {
         "anchor": "tip",
         "colorscale": [
          [
           0,
           "blue"
          ],
          [
           1,
           "blue"
          ]
         ],
         "hoverinfo": "skip",
         "legendgroup": "rechits_chain",
         "showscale": false,
         "type": "cone",
         "u": [
          0
         ],
         "v": [
          1
         ],
         "w": [
          0
         ],
         "x": [
          2.8339626789093018
         ],
         "y": [
          -0.9553558826446533
         ],
         "z": [
          29.592500686645508
         ]
        },
        {
         "hoverinfo": "skip",
         "legendgroup": "rechits_chain",
         "mode": "lines",
         "name": "Rechits chain",
         "showlegend": false,
         "type": "scatter3d",
         "x": [
          1.8594753742218018,
          2.8339626789093018
         ],
         "y": [
          -0.3926117420196533,
          -0.9553558826446533
         ],
         "z": [
          29.592500686645508,
          29.592500686645508
         ]
        },
        {
         "anchor": "tip",
         "colorscale": [
          [
           0,
           "blue"
          ],
          [
           1,
           "blue"
          ]
         ],
         "hoverinfo": "skip",
         "legendgroup": "rechits_chain",
         "showscale": false,
         "type": "cone",
         "u": [
          0.8659778263291473
         ],
         "v": [
          -0.5000823975168945
         ],
         "w": [
          0
         ],
         "x": [
          2.8339626789093018
         ],
         "y": [
          -0.9553558826446533
         ],
         "z": [
          29.592500686645508
         ]
        },
        {
         "hoverinfo": "skip",
         "legendgroup": "rechits_chain",
         "mode": "lines",
         "name": "Rechits chain",
         "showlegend": false,
         "type": "scatter3d",
         "x": [
          1.8594753742218018,
          2.8339626789093018
         ],
         "y": [
          -1.5178558826446533,
          -0.9553558826446533
         ],
         "z": [
          29.592500686645508,
          29.592500686645508
         ]
        },
        {
         "anchor": "tip",
         "colorscale": [
          [
           0,
           "blue"
          ],
          [
           1,
           "blue"
          ]
         ],
         "hoverinfo": "skip",
         "legendgroup": "rechits_chain",
         "showscale": false,
         "type": "cone",
         "u": [
          0.866071776036405
         ],
         "v": [
          0.499919672300608
         ],
         "w": [
          0
         ],
         "x": [
          2.8339626789093018
         ],
         "y": [
          -0.9553558826446533
         ],
         "z": [
          29.592500686645508
         ]
        },
        {
         "hoverinfo": "skip",
         "legendgroup": "rechits_chain",
         "mode": "lines",
         "name": "Rechits chain",
         "showlegend": false,
         "type": "scatter3d",
         "x": [
          0.8851101398468018,
          0.8851101398468018
         ],
         "y": [
          1.2948882579803467,
          0.16988825798034668
         ],
         "z": [
          29.592500686645508,
          29.592500686645508
         ]
        },
        {
         "anchor": "tip",
         "colorscale": [
          [
           0,
           "blue"
          ],
          [
           1,
           "blue"
          ]
         ],
         "hoverinfo": "skip",
         "legendgroup": "rechits_chain",
         "showscale": false,
         "type": "cone",
         "u": [
          0
         ],
         "v": [
          -1
         ],
         "w": [
          0
         ],
         "x": [
          0.8851101398468018
         ],
         "y": [
          0.16988825798034668
         ],
         "z": [
          29.592500686645508
         ]
        },
        {
         "hoverinfo": "skip",
         "legendgroup": "rechits_chain",
         "mode": "lines",
         "name": "Rechits chain",
         "showlegend": false,
         "type": "scatter3d",
         "x": [
          0.8851101398468018,
          1.8594753742218018
         ],
         "y": [
          0.16988825798034668,
          -0.3926117420196533
         ],
         "z": [
          29.592500686645508,
          29.592500686645508
         ]
        },
        {
         "anchor": "tip",
         "colorscale": [
          [
           0,
           "blue"
          ],
          [
           1,
           "blue"
          ]
         ],
         "hoverinfo": "skip",
         "legendgroup": "rechits_chain",
         "showscale": false,
         "type": "cone",
         "u": [
          0.8660446585505366
         ],
         "v": [
          -0.4999666482837475
         ],
         "w": [
          0
         ],
         "x": [
          1.8594753742218018
         ],
         "y": [
          -0.3926117420196533
         ],
         "z": [
          29.592500686645508
         ]
        },
        {
         "hoverinfo": "skip",
         "legendgroup": "rechits_chain",
         "mode": "lines",
         "name": "Rechits chain",
         "showlegend": false,
         "type": "scatter3d",
         "x": [
          0.8851101398468018,
          1.8594753742218018
         ],
         "y": [
          -0.9553558826446533,
          -1.5178558826446533
         ],
         "z": [
          29.592500686645508,
          29.592500686645508
         ]
        },
        {
         "anchor": "tip",
         "colorscale": [
          [
           0,
           "blue"
          ],
          [
           1,
           "blue"
          ]
         ],
         "hoverinfo": "skip",
         "legendgroup": "rechits_chain",
         "showscale": false,
         "type": "cone",
         "u": [
          0.8660446585505366
         ],
         "v": [
          -0.4999666482837475
         ],
         "w": [
          0
         ],
         "x": [
          1.8594753742218018
         ],
         "y": [
          -1.5178558826446533
         ],
         "z": [
          29.592500686645508
         ]
        },
        {
         "hoverinfo": "skip",
         "legendgroup": "rechits_chain",
         "mode": "lines",
         "name": "Rechits chain",
         "showlegend": false,
         "type": "scatter3d",
         "x": [
          0.8851101398468018,
          0.8851101398468018
         ],
         "y": [
          -2.0804779529571533,
          -0.9553558826446533
         ],
         "z": [
          29.592500686645508,
          29.592500686645508
         ]
        },
        {
         "anchor": "tip",
         "colorscale": [
          [
           0,
           "blue"
          ],
          [
           1,
           "blue"
          ]
         ],
         "hoverinfo": "skip",
         "legendgroup": "rechits_chain",
         "showscale": false,
         "type": "cone",
         "u": [
          0
         ],
         "v": [
          1
         ],
         "w": [
          0
         ],
         "x": [
          0.8851101398468018
         ],
         "y": [
          -0.9553558826446533
         ],
         "z": [
          29.592500686645508
         ]
        },
        {
         "hoverinfo": "skip",
         "legendgroup": "rechits_chain",
         "mode": "lines",
         "name": "Rechits chain",
         "showlegend": false,
         "type": "scatter3d",
         "x": [
          4.782937049865723,
          3.808440923690796
         ],
         "y": [
          -0.9553558826446533,
          -1.5178558826446533
         ],
         "z": [
          29.592500686645508,
          29.592500686645508
         ]
        },
        {
         "anchor": "tip",
         "colorscale": [
          [
           0,
           "blue"
          ],
          [
           1,
           "blue"
          ]
         ],
         "hoverinfo": "skip",
         "legendgroup": "rechits_chain",
         "showscale": false,
         "type": "cone",
         "u": [
          -0.8660737354023266
         ],
         "v": [
          -0.4999162778368602
         ],
         "w": [
          0
         ],
         "x": [
          3.808440923690796
         ],
         "y": [
          -1.5178558826446533
         ],
         "z": [
          29.592500686645508
         ]
        },
        {
         "customdata": [
          [
           0.019977781921625137,
           0.036074843257665634,
           1.1252532005310059,
           "Follower"
          ],
          [
           0.02252090349793434,
           0.11008354276418686,
           1.1348215341567993,
           "Follower"
          ],
          [
           0.07926081120967865,
           0.20194290578365326,
           1.2046608924865723,
           "Follower"
          ],
          [
           0.1551474928855896,
           0.27555885910987854,
           3.4028234663852886e+38,
           "Seed"
          ],
          [
           0.061285633593797684,
           0.1424621045589447,
           1.125,
           "Follower"
          ],
          [
           0.028931068256497383,
           0.24398985505104065,
           1.125302791595459,
           "Follower"
          ],
          [
           0.11010992527008057,
           0.20214921236038208,
           1.125180721282959,
           "Follower"
          ],
          [
           0.029847346246242523,
           0.07264702767133713,
           1.125,
           "Follower"
          ],
          [
           0.024313729256391525,
           0.09007781744003296,
           1.1250749826431274,
           "Follower"
          ],
          [
           0.009673221036791801,
           0.01966211199760437,
           1.1233996152877808,
           "Follower"
          ],
          [
           0.011893752962350845,
           0.011893752962350845,
           2.166707992553711,
           "Follower"
          ]
         ],
         "hovertemplate": "Rechit : %{customdata[3]}<br>Energy: %{customdata[0]:.2g} GeV<br>Rho: %{customdata[1]:.2g} GeV<br>Delta: %{customdata[2]:.2g} cm",
         "legendgroup": "rechits",
         "legendgrouptitle": {
          "text": "Rechits"
         },
         "marker": {
          "color": "#EF553B",
          "size": [
           0.5993334650993347,
           0.6756271123886108,
           2.377824306488037,
           4.654424667358398,
           1.8385690450668335,
           0.8679320216178894,
           3.303297758102417,
           0.8954203724861145,
           0.7294119000434875,
           0.29019662737846375,
           0.35681259632110596
          ],
          "symbol": "circle"
         },
         "mode": "markers",
         "name": "2D cluster nb 17",
         "type": "scatter3d",
         "x": [
          3.889720916748047,
          3.889720916748047,
          2.9152426719665527,
          2.863382577896118,
          1.8888952732086182,
          1.8888952732086182,
          1.8888952732086182,
          0.9145300388336182,
          0.9145300388336182,
          4.812356948852539,
          4.812356948852539
         ],
         "y": [
          -2.570749044418335,
          -1.445495843887329,
          0.2422482967376709,
          -0.9612958431243896,
          0.7264482975006104,
          -0.39855170249938965,
          -1.5237958431243896,
          1.2889482975006104,
          0.16394829750061035,
          -3.2116620540618896,
          1.2889482975006104
         ],
         "z": [
          32.397499084472656,
          32.397499084472656,
          32.397499084472656,
          32.397499084472656,
          32.397499084472656,
          32.397499084472656,
          32.397499084472656,
          32.397499084472656,
          32.397499084472656,
          32.397499084472656,
          32.397499084472656
         ]
        },
        {
         "hoverinfo": "skip",
         "legendgroup": "rechits_chain",
         "mode": "lines",
         "name": "Rechits chain",
         "showlegend": false,
         "type": "scatter3d",
         "x": [
          3.889720916748047,
          3.889720916748047
         ],
         "y": [
          -2.570749044418335,
          -1.445495843887329
         ],
         "z": [
          32.397499084472656,
          32.397499084472656
         ]
        },
        {
         "anchor": "tip",
         "colorscale": [
          [
           0,
           "blue"
          ],
          [
           1,
           "blue"
          ]
         ],
         "hoverinfo": "skip",
         "legendgroup": "rechits_chain",
         "showscale": false,
         "type": "cone",
         "u": [
          0
         ],
         "v": [
          1
         ],
         "w": [
          0
         ],
         "x": [
          3.889720916748047
         ],
         "y": [
          -1.445495843887329
         ],
         "z": [
          32.397499084472656
         ]
        },
        {
         "hoverinfo": "skip",
         "legendgroup": "rechits_chain",
         "mode": "lines",
         "name": "Rechits chain",
         "showlegend": false,
         "type": "scatter3d",
         "x": [
          3.889720916748047,
          2.863382577896118
         ],
         "y": [
          -1.445495843887329,
          -0.9612958431243896
         ],
         "z": [
          32.397499084472656,
          32.397499084472656
         ]
        },
        {
         "anchor": "tip",
         "colorscale": [
          [
           0,
           "blue"
          ],
          [
           1,
           "blue"
          ]
         ],
         "hoverinfo": "skip",
         "legendgroup": "rechits_chain",
         "showscale": false,
         "type": "cone",
         "u": [
          -0.9044050216451336
         ],
         "v": [
          0.4266750014039554
         ],
         "w": [
          0
         ],
         "x": [
          2.863382577896118
         ],
         "y": [
          -0.9612958431243896
         ],
         "z": [
          32.397499084472656
         ]
        },
        {
         "hoverinfo": "skip",
         "legendgroup": "rechits_chain",
         "mode": "lines",
         "name": "Rechits chain",
         "showlegend": false,
         "type": "scatter3d",
         "x": [
          2.9152426719665527,
          2.863382577896118
         ],
         "y": [
          0.2422482967376709,
          -0.9612958431243896
         ],
         "z": [
          32.397499084472656,
          32.397499084472656
         ]
        },
        {
         "anchor": "tip",
         "colorscale": [
          [
           0,
           "blue"
          ],
          [
           1,
           "blue"
          ]
         ],
         "hoverinfo": "skip",
         "legendgroup": "rechits_chain",
         "showscale": false,
         "type": "cone",
         "u": [
          -0.04304953585353418
         ],
         "v": [
          -0.9990729390103585
         ],
         "w": [
          0
         ],
         "x": [
          2.863382577896118
         ],
         "y": [
          -0.9612958431243896
         ],
         "z": [
          32.397499084472656
         ]
        },
        {
         "hoverinfo": "skip",
         "legendgroup": "rechits_chain",
         "mode": "lines",
         "name": "Rechits chain",
         "showlegend": false,
         "type": "scatter3d",
         "x": [
          1.8888952732086182,
          1.8888952732086182
         ],
         "y": [
          0.7264482975006104,
          -0.39855170249938965
         ],
         "z": [
          32.397499084472656,
          32.397499084472656
         ]
        },
        {
         "anchor": "tip",
         "colorscale": [
          [
           0,
           "blue"
          ],
          [
           1,
           "blue"
          ]
         ],
         "hoverinfo": "skip",
         "legendgroup": "rechits_chain",
         "showscale": false,
         "type": "cone",
         "u": [
          0
         ],
         "v": [
          -1
         ],
         "w": [
          0
         ],
         "x": [
          1.8888952732086182
         ],
         "y": [
          -0.39855170249938965
         ],
         "z": [
          32.397499084472656
         ]
        },
        {
         "hoverinfo": "skip",
         "legendgroup": "rechits_chain",
         "mode": "lines",
         "name": "Rechits chain",
         "showlegend": false,
         "type": "scatter3d",
         "x": [
          1.8888952732086182,
          2.863382577896118
         ],
         "y": [
          -0.39855170249938965,
          -0.9612958431243896
         ],
         "z": [
          32.397499084472656,
          32.397499084472656
         ]
        },
        {
         "anchor": "tip",
         "colorscale": [
          [
           0,
           "blue"
          ],
          [
           1,
           "blue"
          ]
         ],
         "hoverinfo": "skip",
         "legendgroup": "rechits_chain",
         "showscale": false,
         "type": "cone",
         "u": [
          0.8659778263291473
         ],
         "v": [
          -0.5000823975168945
         ],
         "w": [
          0
         ],
         "x": [
          2.863382577896118
         ],
         "y": [
          -0.9612958431243896
         ],
         "z": [
          32.397499084472656
         ]
        },
        {
         "hoverinfo": "skip",
         "legendgroup": "rechits_chain",
         "mode": "lines",
         "name": "Rechits chain",
         "showlegend": false,
         "type": "scatter3d",
         "x": [
          1.8888952732086182,
          2.863382577896118
         ],
         "y": [
          -1.5237958431243896,
          -0.9612958431243896
         ],
         "z": [
          32.397499084472656,
          32.397499084472656
         ]
        },
        {
         "anchor": "tip",
         "colorscale": [
          [
           0,
           "blue"
          ],
          [
           1,
           "blue"
          ]
         ],
         "hoverinfo": "skip",
         "legendgroup": "rechits_chain",
         "showscale": false,
         "type": "cone",
         "u": [
          0.866071776036405
         ],
         "v": [
          0.499919672300608
         ],
         "w": [
          0
         ],
         "x": [
          2.863382577896118
         ],
         "y": [
          -0.9612958431243896
         ],
         "z": [
          32.397499084472656
         ]
        },
        {
         "hoverinfo": "skip",
         "legendgroup": "rechits_chain",
         "mode": "lines",
         "name": "Rechits chain",
         "showlegend": false,
         "type": "scatter3d",
         "x": [
          0.9145300388336182,
          0.9145300388336182
         ],
         "y": [
          1.2889482975006104,
          0.16394829750061035
         ],
         "z": [
          32.397499084472656,
          32.397499084472656
         ]
        },
        {
         "anchor": "tip",
         "colorscale": [
          [
           0,
           "blue"
          ],
          [
           1,
           "blue"
          ]
         ],
         "hoverinfo": "skip",
         "legendgroup": "rechits_chain",
         "showscale": false,
         "type": "cone",
         "u": [
          0
         ],
         "v": [
          -1
         ],
         "w": [
          0
         ],
         "x": [
          0.9145300388336182
         ],
         "y": [
          0.16394829750061035
         ],
         "z": [
          32.397499084472656
         ]
        },
        {
         "hoverinfo": "skip",
         "legendgroup": "rechits_chain",
         "mode": "lines",
         "name": "Rechits chain",
         "showlegend": false,
         "type": "scatter3d",
         "x": [
          0.9145300388336182,
          1.8888952732086182
         ],
         "y": [
          0.16394829750061035,
          -0.39855170249938965
         ],
         "z": [
          32.397499084472656,
          32.397499084472656
         ]
        },
        {
         "anchor": "tip",
         "colorscale": [
          [
           0,
           "blue"
          ],
          [
           1,
           "blue"
          ]
         ],
         "hoverinfo": "skip",
         "legendgroup": "rechits_chain",
         "showscale": false,
         "type": "cone",
         "u": [
          0.8660446585505366
         ],
         "v": [
          -0.4999666482837475
         ],
         "w": [
          0
         ],
         "x": [
          1.8888952732086182
         ],
         "y": [
          -0.39855170249938965
         ],
         "z": [
          32.397499084472656
         ]
        },
        {
         "hoverinfo": "skip",
         "legendgroup": "rechits_chain",
         "mode": "lines",
         "name": "Rechits chain",
         "showlegend": false,
         "type": "scatter3d",
         "x": [
          4.812356948852539,
          3.889720916748047
         ],
         "y": [
          -3.2116620540618896,
          -2.570749044418335
         ],
         "z": [
          32.397499084472656,
          32.397499084472656
         ]
        },
        {
         "anchor": "tip",
         "colorscale": [
          [
           0,
           "blue"
          ],
          [
           1,
           "blue"
          ]
         ],
         "hoverinfo": "skip",
         "legendgroup": "rechits_chain",
         "showscale": false,
         "type": "cone",
         "u": [
          -0.8212892417302533
         ],
         "v": [
          0.5705120344200859
         ],
         "w": [
          0
         ],
         "x": [
          3.889720916748047
         ],
         "y": [
          -2.570749044418335
         ],
         "z": [
          32.397499084472656
         ]
        },
        {
         "hoverinfo": "skip",
         "legendgroup": "rechits_chain",
         "mode": "lines",
         "name": "Rechits chain",
         "showlegend": false,
         "type": "scatter3d",
         "x": [
          4.812356948852539,
          2.9152426719665527
         ],
         "y": [
          1.2889482975006104,
          0.2422482967376709
         ],
         "z": [
          32.397499084472656,
          32.397499084472656
         ]
        },
        {
         "anchor": "tip",
         "colorscale": [
          [
           0,
           "blue"
          ],
          [
           1,
           "blue"
          ]
         ],
         "hoverinfo": "skip",
         "legendgroup": "rechits_chain",
         "showscale": false,
         "type": "cone",
         "u": [
          -0.8755745094784788
         ],
         "v": [
          -0.48308309673545946
         ],
         "w": [
          0
         ],
         "x": [
          2.9152426719665527
         ],
         "y": [
          0.2422482967376709
         ],
         "z": [
          32.397499084472656
         ]
        },
        {
         "customdata": [
          [
           0.009356474503874779,
           0.13186943531036377,
           1.0311764478683472,
           "Follower"
          ],
          [
           0.019889740273356438,
           0.06670263409614563,
           1.0311180353164673,
           "Follower"
          ],
          [
           0.07450350373983383,
           0.14318600296974182,
           1.1252338886260986,
           "Follower"
          ],
          [
           0.0404035709798336,
           0.15308913588523865,
           1.125244140625,
           "Follower"
          ],
          [
           0.043865736573934555,
           0.074012391269207,
           1.125122308731079,
           "Follower"
          ],
          [
           0.01777944341301918,
           0.13956904411315918,
           1.1251220703125,
           "Follower"
          ],
          [
           0.11022908985614777,
           0.20728635787963867,
           3.4028234663852886e+38,
           "Seed"
          ],
          [
           0.04880516976118088,
           0.06271561980247498,
           1.125244140625,
           "Follower"
          ],
          [
           0.010041453875601292,
           0.11946335434913635,
           1.125180721282959,
           "Follower"
          ],
          [
           0.04203011095523834,
           0.12236717343330383,
           1.125237226486206,
           "Follower"
          ],
          [
           0.012941302731633186,
           0.012941302731633186,
           1.9486005306243896,
           "Follower"
          ],
          [
           0.007282760925590992,
           0.007282760925590992,
           1.94873046875,
           "Follower"
          ]
         ],
         "hovertemplate": "Rechit : %{customdata[3]}<br>Energy: %{customdata[0]:.2g} GeV<br>Rho: %{customdata[1]:.2g} GeV<br>Delta: %{customdata[2]:.2g} cm",
         "legendgroup": "rechits",
         "legendgrouptitle": {
          "text": "Rechits"
         },
         "marker": {
          "color": "#EF553B",
          "size": [
           0.28069424629211426,
           0.5966922044754028,
           2.235105037689209,
           1.2121071815490723,
           1.315972089767456,
           0.533383309841156,
           3.306872606277466,
           1.4641550779342651,
           0.3012436032295227,
           1.2609033584594727,
           0.3882390856742859,
           0.2184828221797943
          ],
          "symbol": "circle"
         },
         "mode": "markers",
         "name": "2D cluster nb 20",
         "type": "scatter3d",
         "x": [
          3.8378608226776123,
          3.8378608226776123,
          3.930711030960083,
          2.956232786178589,
          2.956232786178589,
          2.956232786178589,
          2.956232786178589,
          1.9817454814910889,
          1.9817454814910889,
          1.9817454814910889,
          1.0073802471160889,
          -0.9413502216339111
         ],
         "y": [
          -2.6490490436553955,
          -3.7742841243743896,
          -1.496025800704956,
          -3.183892011642456,
          -4.309014320373535,
          -0.933525800704956,
          -2.058647871017456,
          -0.37078166007995605,
          -1.496025800704956,
          -2.621279001235962,
          1.316718339920044,
          1.316718339920044
         ],
         "z": [
          34.3125,
          34.3125,
          34.3125,
          34.3125,
          34.3125,
          34.3125,
          34.3125,
          34.3125,
          34.3125,
          34.3125,
          34.3125,
          34.3125
         ]
        },
        {
         "hoverinfo": "skip",
         "legendgroup": "rechits_chain",
         "mode": "lines",
         "name": "Rechits chain",
         "showlegend": false,
         "type": "scatter3d",
         "x": [
          3.8378608226776123,
          2.956232786178589
         ],
         "y": [
          -2.6490490436553955,
          -3.183892011642456
         ],
         "z": [
          34.3125,
          34.3125
         ]
        },
        {
         "anchor": "tip",
         "colorscale": [
          [
           0,
           "blue"
          ],
          [
           1,
           "blue"
          ]
         ],
         "hoverinfo": "skip",
         "legendgroup": "rechits_chain",
         "showscale": false,
         "type": "cone",
         "u": [
          -0.8549729632082165
         ],
         "v": [
          -0.5186725674093067
         ],
         "w": [
          0
         ],
         "x": [
          2.956232786178589
         ],
         "y": [
          -3.183892011642456
         ],
         "z": [
          34.3125
         ]
        },
        {
         "hoverinfo": "skip",
         "legendgroup": "rechits_chain",
         "mode": "lines",
         "name": "Rechits chain",
         "showlegend": false,
         "type": "scatter3d",
         "x": [
          3.8378608226776123,
          2.956232786178589
         ],
         "y": [
          -3.7742841243743896,
          -4.309014320373535
         ],
         "z": [
          34.3125,
          34.3125
         ]
        },
        {
         "anchor": "tip",
         "colorscale": [
          [
           0,
           "blue"
          ],
          [
           1,
           "blue"
          ]
         ],
         "hoverinfo": "skip",
         "legendgroup": "rechits_chain",
         "showscale": false,
         "type": "cone",
         "u": [
          -0.855021459110804
         ],
         "v": [
          -0.5185926189795146
         ],
         "w": [
          0
         ],
         "x": [
          2.956232786178589
         ],
         "y": [
          -4.309014320373535
         ],
         "z": [
          34.3125
         ]
        },
        {
         "hoverinfo": "skip",
         "legendgroup": "rechits_chain",
         "mode": "lines",
         "name": "Rechits chain",
         "showlegend": false,
         "type": "scatter3d",
         "x": [
          3.930711030960083,
          2.956232786178589
         ],
         "y": [
          -1.496025800704956,
          -2.058647871017456
         ],
         "z": [
          34.3125,
          34.3125
         ]
        },
        {
         "anchor": "tip",
         "colorscale": [
          [
           0,
           "blue"
          ],
          [
           1,
           "blue"
          ]
         ],
         "hoverinfo": "skip",
         "legendgroup": "rechits_chain",
         "showscale": false,
         "type": "cone",
         "u": [
          -0.8660227895475022
         ],
         "v": [
          -0.5000045279638604
         ],
         "w": [
          0
         ],
         "x": [
          2.956232786178589
         ],
         "y": [
          -2.058647871017456
         ],
         "z": [
          34.3125
         ]
        },
        {
         "hoverinfo": "skip",
         "legendgroup": "rechits_chain",
         "mode": "lines",
         "name": "Rechits chain",
         "showlegend": false,
         "type": "scatter3d",
         "x": [
          2.956232786178589,
          2.956232786178589
         ],
         "y": [
          -3.183892011642456,
          -2.058647871017456
         ],
         "z": [
          34.3125,
          34.3125
         ]
        },
        {
         "anchor": "tip",
         "colorscale": [
          [
           0,
           "blue"
          ],
          [
           1,
           "blue"
          ]
         ],
         "hoverinfo": "skip",
         "legendgroup": "rechits_chain",
         "showscale": false,
         "type": "cone",
         "u": [
          0
         ],
         "v": [
          1
         ],
         "w": [
          0
         ],
         "x": [
          2.956232786178589
         ],
         "y": [
          -2.058647871017456
         ],
         "z": [
          34.3125
         ]
        },
        {
         "hoverinfo": "skip",
         "legendgroup": "rechits_chain",
         "mode": "lines",
         "name": "Rechits chain",
         "showlegend": false,
         "type": "scatter3d",
         "x": [
          2.956232786178589,
          2.956232786178589
         ],
         "y": [
          -4.309014320373535,
          -3.183892011642456
         ],
         "z": [
          34.3125,
          34.3125
         ]
        },
        {
         "anchor": "tip",
         "colorscale": [
          [
           0,
           "blue"
          ],
          [
           1,
           "blue"
          ]
         ],
         "hoverinfo": "skip",
         "legendgroup": "rechits_chain",
         "showscale": false,
         "type": "cone",
         "u": [
          0
         ],
         "v": [
          1
         ],
         "w": [
          0
         ],
         "x": [
          2.956232786178589
         ],
         "y": [
          -3.183892011642456
         ],
         "z": [
          34.3125
         ]
        },
        {
         "hoverinfo": "skip",
         "legendgroup": "rechits_chain",
         "mode": "lines",
         "name": "Rechits chain",
         "showlegend": false,
         "type": "scatter3d",
         "x": [
          2.956232786178589,
          2.956232786178589
         ],
         "y": [
          -0.933525800704956,
          -2.058647871017456
         ],
         "z": [
          34.3125,
          34.3125
         ]
        },
        {
         "anchor": "tip",
         "colorscale": [
          [
           0,
           "blue"
          ],
          [
           1,
           "blue"
          ]
         ],
         "hoverinfo": "skip",
         "legendgroup": "rechits_chain",
         "showscale": false,
         "type": "cone",
         "u": [
          0
         ],
         "v": [
          -1
         ],
         "w": [
          0
         ],
         "x": [
          2.956232786178589
         ],
         "y": [
          -2.058647871017456
         ],
         "z": [
          34.3125
         ]
        },
        {
         "hoverinfo": "skip",
         "legendgroup": "rechits_chain",
         "mode": "lines",
         "name": "Rechits chain",
         "showlegend": false,
         "type": "scatter3d",
         "x": [
          1.9817454814910889,
          1.9817454814910889
         ],
         "y": [
          -0.37078166007995605,
          -1.496025800704956
         ],
         "z": [
          34.3125,
          34.3125
         ]
        },
        {
         "anchor": "tip",
         "colorscale": [
          [
           0,
           "blue"
          ],
          [
           1,
           "blue"
          ]
         ],
         "hoverinfo": "skip",
         "legendgroup": "rechits_chain",
         "showscale": false,
         "type": "cone",
         "u": [
          0
         ],
         "v": [
          -1
         ],
         "w": [
          0
         ],
         "x": [
          1.9817454814910889
         ],
         "y": [
          -1.496025800704956
         ],
         "z": [
          34.3125
         ]
        },
        {
         "hoverinfo": "skip",
         "legendgroup": "rechits_chain",
         "mode": "lines",
         "name": "Rechits chain",
         "showlegend": false,
         "type": "scatter3d",
         "x": [
          1.9817454814910889,
          2.956232786178589
         ],
         "y": [
          -1.496025800704956,
          -0.933525800704956
         ],
         "z": [
          34.3125,
          34.3125
         ]
        },
        {
         "anchor": "tip",
         "colorscale": [
          [
           0,
           "blue"
          ],
          [
           1,
           "blue"
          ]
         ],
         "hoverinfo": "skip",
         "legendgroup": "rechits_chain",
         "showscale": false,
         "type": "cone",
         "u": [
          0.866071776036405
         ],
         "v": [
          0.499919672300608
         ],
         "w": [
          0
         ],
         "x": [
          2.956232786178589
         ],
         "y": [
          -0.933525800704956
         ],
         "z": [
          34.3125
         ]
        },
        {
         "hoverinfo": "skip",
         "legendgroup": "rechits_chain",
         "mode": "lines",
         "name": "Rechits chain",
         "showlegend": false,
         "type": "scatter3d",
         "x": [
          1.9817454814910889,
          2.956232786178589
         ],
         "y": [
          -2.621279001235962,
          -3.183892011642456
         ],
         "z": [
          34.3125,
          34.3125
         ]
        },
        {
         "anchor": "tip",
         "colorscale": [
          [
           0,
           "blue"
          ],
          [
           1,
           "blue"
          ]
         ],
         "hoverinfo": "skip",
         "legendgroup": "rechits_chain",
         "showscale": false,
         "type": "cone",
         "u": [
          0.8660282888646941
         ],
         "v": [
          -0.4999950028611187
         ],
         "w": [
          0
         ],
         "x": [
          2.956232786178589
         ],
         "y": [
          -3.183892011642456
         ],
         "z": [
          34.3125
         ]
        },
        {
         "hoverinfo": "skip",
         "legendgroup": "rechits_chain",
         "mode": "lines",
         "name": "Rechits chain",
         "showlegend": false,
         "type": "scatter3d",
         "x": [
          1.0073802471160889,
          1.9817454814910889
         ],
         "y": [
          1.316718339920044,
          -0.37078166007995605
         ],
         "z": [
          34.3125,
          34.3125
         ]
        },
        {
         "anchor": "tip",
         "colorscale": [
          [
           0,
           "blue"
          ],
          [
           1,
           "blue"
          ]
         ],
         "hoverinfo": "skip",
         "legendgroup": "rechits_chain",
         "showscale": false,
         "type": "cone",
         "u": [
          0.500033352457827
         ],
         "v": [
          -0.8660061468775996
         ],
         "w": [
          0
         ],
         "x": [
          1.9817454814910889
         ],
         "y": [
          -0.37078166007995605
         ],
         "z": [
          34.3125
         ]
        },
        {
         "hoverinfo": "skip",
         "legendgroup": "rechits_chain",
         "mode": "lines",
         "name": "Rechits chain",
         "showlegend": false,
         "type": "scatter3d",
         "x": [
          -0.9413502216339111,
          1.0073802471160889
         ],
         "y": [
          1.316718339920044,
          1.316718339920044
         ],
         "z": [
          34.3125,
          34.3125
         ]
        },
        {
         "anchor": "tip",
         "colorscale": [
          [
           0,
           "blue"
          ],
          [
           1,
           "blue"
          ]
         ],
         "hoverinfo": "skip",
         "legendgroup": "rechits_chain",
         "showscale": false,
         "type": "cone",
         "u": [
          1
         ],
         "v": [
          0
         ],
         "w": [
          0
         ],
         "x": [
          1.0073802471160889
         ],
         "y": [
          1.316718339920044
         ],
         "z": [
          34.3125
         ]
        },
        {
         "customdata": [
          [
           0.021357769146561623,
           0.030835285782814026,
           1.948974609375,
           "Seed"
          ],
          [
           0.018955033272504807,
           0.029633916914463043,
           1.124920129776001,
           "Follower"
          ]
         ],
         "hovertemplate": "Rechit : %{customdata[3]}<br>Energy: %{customdata[0]:.2g} GeV<br>Rho: %{customdata[1]:.2g} GeV<br>Delta: %{customdata[2]:.2g} cm",
         "legendgroup": "rechits",
         "legendgrouptitle": {
          "text": "Rechits"
         },
         "marker": {
          "color": "#EF553B",
          "size": [
           0.6407330632209778,
           0.568651020526886
          ],
          "symbol": "circle"
         },
         "mode": "markers",
         "name": "2D cluster nb 21",
         "type": "scatter3d",
         "x": [
          0.03277087211608887,
          -0.9413502216339111
         ],
         "y": [
          -2.621279001235962,
          -3.183892011642456
         ],
         "z": [
          34.3125,
          34.3125
         ]
        },
        {
         "hoverinfo": "skip",
         "legendgroup": "rechits_chain",
         "mode": "lines",
         "name": "Rechits chain",
         "showlegend": false,
         "type": "scatter3d",
         "x": [
          0.03277087211608887,
          1.9817454814910889
         ],
         "y": [
          -2.621279001235962,
          -2.621279001235962
         ],
         "z": [
          34.3125,
          34.3125
         ]
        },
        {
         "anchor": "tip",
         "colorscale": [
          [
           0,
           "blue"
          ],
          [
           1,
           "blue"
          ]
         ],
         "hoverinfo": "skip",
         "legendgroup": "rechits_chain",
         "showscale": false,
         "type": "cone",
         "u": [
          1
         ],
         "v": [
          0
         ],
         "w": [
          0
         ],
         "x": [
          1.9817454814910889
         ],
         "y": [
          -2.621279001235962
         ],
         "z": [
          34.3125
         ]
        },
        {
         "hoverinfo": "skip",
         "legendgroup": "rechits_chain",
         "mode": "lines",
         "name": "Rechits chain",
         "showlegend": false,
         "type": "scatter3d",
         "x": [
          -0.9413502216339111,
          0.03277087211608887
         ],
         "y": [
          -3.183892011642456,
          -2.621279001235962
         ],
         "z": [
          34.3125,
          34.3125
         ]
        },
        {
         "anchor": "tip",
         "colorscale": [
          [
           0,
           "blue"
          ],
          [
           1,
           "blue"
          ]
         ],
         "hoverinfo": "skip",
         "legendgroup": "rechits_chain",
         "showscale": false,
         "type": "cone",
         "u": [
          0.8659468930329299
         ],
         "v": [
          0.5001359599615046
         ],
         "w": [
          0
         ],
         "x": [
          0.03277087211608887
         ],
         "y": [
          -2.621279001235962
         ],
         "z": [
          34.3125
         ]
        },
        {
         "customdata": [
          [
           0.04081076756119728,
           0.09339247643947601,
           1.0563440322875977,
           "Follower"
          ],
          [
           0.07261867821216583,
           0.10929642617702484,
           3.4028234663852886e+38,
           "Seed"
          ],
          [
           0.03254473954439163,
           0.10247854143381119,
           1.0399595499038696,
           "Follower"
          ]
         ],
         "hovertemplate": "Rechit : %{customdata[3]}<br>Energy: %{customdata[0]:.2g} GeV<br>Rho: %{customdata[1]:.2g} GeV<br>Delta: %{customdata[2]:.2g} cm",
         "legendgroup": "rechits",
         "legendgrouptitle": {
          "text": "Rechits"
         },
         "marker": {
          "color": "#EF553B",
          "size": [
           1.224323034286499,
           2.178560256958008,
           0.9763422012329102
          ],
          "symbol": "circle"
         },
         "mode": "markers",
         "name": "2D cluster nb 24",
         "type": "scatter3d",
         "x": [
          3.8489508628845215,
          3.8489508628845215,
          2.9646925926208496
         ],
         "y": [
          -0.3405117988586426,
          -1.4657559394836426,
          -0.9183957576751709
         ],
         "z": [
          37.11750030517578,
          37.11750030517578,
          37.11750030517578
         ]
        },
        {
         "hoverinfo": "skip",
         "legendgroup": "rechits_chain",
         "mode": "lines",
         "name": "Rechits chain",
         "showlegend": false,
         "type": "scatter3d",
         "x": [
          3.8489508628845215,
          2.9646925926208496
         ],
         "y": [
          -0.3405117988586426,
          -0.9183957576751709
         ],
         "z": [
          37.11750030517578,
          37.11750030517578
         ]
        },
        {
         "anchor": "tip",
         "colorscale": [
          [
           0,
           "blue"
          ],
          [
           1,
           "blue"
          ]
         ],
         "hoverinfo": "skip",
         "legendgroup": "rechits_chain",
         "showscale": false,
         "type": "cone",
         "u": [
          -0.8370931298051794
         ],
         "v": [
          -0.5470604098570553
         ],
         "w": [
          0
         ],
         "x": [
          2.9646925926208496
         ],
         "y": [
          -0.9183957576751709
         ],
         "z": [
          37.11750030517578
         ]
        },
        {
         "hoverinfo": "skip",
         "legendgroup": "rechits_chain",
         "mode": "lines",
         "name": "Rechits chain",
         "showlegend": false,
         "type": "scatter3d",
         "x": [
          2.9646925926208496,
          3.8489508628845215
         ],
         "y": [
          -0.9183957576751709,
          -1.4657559394836426
         ],
         "z": [
          37.11750030517578,
          37.11750030517578
         ]
        },
        {
         "anchor": "tip",
         "colorscale": [
          [
           0,
           "blue"
          ],
          [
           1,
           "blue"
          ]
         ],
         "hoverinfo": "skip",
         "legendgroup": "rechits_chain",
         "showscale": false,
         "type": "cone",
         "u": [
          0.8502814111656097
         ],
         "v": [
          -0.526328340322103
         ],
         "w": [
          0
         ],
         "x": [
          3.8489508628845215
         ],
         "y": [
          -1.4657559394836426
         ],
         "z": [
          37.11750030517578
         ]
        },
        {
         "customdata": [
          [
           0.02234606258571148,
           0.044615793973207474,
           1.1251729726791382,
           "Follower"
          ],
          [
           0.033582188189029694,
           0.0888710767030716,
           1.125180721282959,
           "Follower"
          ],
          [
           0.08823170512914658,
           0.11702795326709747,
           3.4028234663852886e+38,
           "Seed"
          ],
          [
           0.024010293185710907,
           0.0681261420249939,
           1.0535862445831299,
           "Follower"
          ],
          [
           0.010957278311252594,
           0.022130310535430908,
           1.1450984477996826,
           "Follower"
          ]
         ],
         "hovertemplate": "Rechit : %{customdata[3]}<br>Energy: %{customdata[0]:.2g} GeV<br>Rho: %{customdata[1]:.2g} GeV<br>Delta: %{customdata[2]:.2g} cm",
         "legendgroup": "rechits",
         "legendgrouptitle": {
          "text": "Rechits"
         },
         "marker": {
          "color": "#EF553B",
          "size": [
           0.6703819036483765,
           1.0074656009674072,
           2.646951198577881,
           0.720308780670166,
           0.328718364238739
          ],
          "symbol": "circle"
         },
         "mode": "markers",
         "name": "2D cluster nb 26",
         "type": "scatter3d",
         "x": [
          3.9391708374023438,
          2.9646925926208496,
          1.9902052879333496,
          1.9690253734588623,
          4.892487525939941
         ],
         "y": [
          -1.480895757675171,
          -0.9183957576751709,
          -1.480895757675171,
          -2.534269094467163,
          -0.8465158939361572
         ],
         "z": [
          38.00749969482422,
          38.00749969482422,
          38.00749969482422,
          38.00749969482422,
          38.00749969482422
         ]
        },
        {
         "hoverinfo": "skip",
         "legendgroup": "rechits_chain",
         "mode": "lines",
         "name": "Rechits chain",
         "showlegend": false,
         "type": "scatter3d",
         "x": [
          3.9391708374023438,
          2.9646925926208496
         ],
         "y": [
          -1.480895757675171,
          -0.9183957576751709
         ],
         "z": [
          38.00749969482422,
          38.00749969482422
         ]
        },
        {
         "anchor": "tip",
         "colorscale": [
          [
           0,
           "blue"
          ],
          [
           1,
           "blue"
          ]
         ],
         "hoverinfo": "skip",
         "legendgroup": "rechits_chain",
         "showscale": false,
         "type": "cone",
         "u": [
          -0.8660697636731018
         ],
         "v": [
          0.4999231585466086
         ],
         "w": [
          0
         ],
         "x": [
          2.9646925926208496
         ],
         "y": [
          -0.9183957576751709
         ],
         "z": [
          38.00749969482422
         ]
        },
        {
         "hoverinfo": "skip",
         "legendgroup": "rechits_chain",
         "mode": "lines",
         "name": "Rechits chain",
         "showlegend": false,
         "type": "scatter3d",
         "x": [
          2.9646925926208496,
          1.9902052879333496
         ],
         "y": [
          -0.9183957576751709,
          -1.480895757675171
         ],
         "z": [
          38.00749969482422,
          38.00749969482422
         ]
        },
        {
         "anchor": "tip",
         "colorscale": [
          [
           0,
           "blue"
          ],
          [
           1,
           "blue"
          ]
         ],
         "hoverinfo": "skip",
         "legendgroup": "rechits_chain",
         "showscale": false,
         "type": "cone",
         "u": [
          -0.866071776036405
         ],
         "v": [
          -0.499919672300608
         ],
         "w": [
          0
         ],
         "x": [
          1.9902052879333496
         ],
         "y": [
          -1.480895757675171
         ],
         "z": [
          38.00749969482422
         ]
        },
        {
         "hoverinfo": "skip",
         "legendgroup": "rechits_chain",
         "mode": "lines",
         "name": "Rechits chain",
         "showlegend": false,
         "type": "scatter3d",
         "x": [
          1.9690253734588623,
          1.9902052879333496
         ],
         "y": [
          -2.534269094467163,
          -1.480895757675171
         ],
         "z": [
          38.00749969482422,
          38.00749969482422
         ]
        },
        {
         "anchor": "tip",
         "colorscale": [
          [
           0,
           "blue"
          ],
          [
           1,
           "blue"
          ]
         ],
         "hoverinfo": "skip",
         "legendgroup": "rechits_chain",
         "showscale": false,
         "type": "cone",
         "u": [
          0.02010268696750829
         ],
         "v": [
          0.9997979205702952
         ],
         "w": [
          0
         ],
         "x": [
          1.9902052879333496
         ],
         "y": [
          -1.480895757675171
         ],
         "z": [
          38.00749969482422
         ]
        },
        {
         "hoverinfo": "skip",
         "legendgroup": "rechits_chain",
         "mode": "lines",
         "name": "Rechits chain",
         "showlegend": false,
         "type": "scatter3d",
         "x": [
          4.892487525939941,
          3.9391708374023438
         ],
         "y": [
          -0.8465158939361572,
          -1.480895757675171
         ],
         "z": [
          38.00749969482422,
          38.00749969482422
         ]
        },
        {
         "anchor": "tip",
         "colorscale": [
          [
           0,
           "blue"
          ],
          [
           1,
           "blue"
          ]
         ],
         "hoverinfo": "skip",
         "legendgroup": "rechits_chain",
         "showscale": false,
         "type": "cone",
         "u": [
          -0.8325193931909131
         ],
         "v": [
          -0.5539959024767548
         ],
         "w": [
          0
         ],
         "x": [
          3.9391708374023438
         ],
         "y": [
          -1.480895757675171
         ],
         "z": [
          38.00749969482422
         ]
        },
        {
         "customdata": [
          [
           0.007133386097848415,
           0.007133386097848415,
           1.9489741325378418,
           "Follower"
          ],
          [
           0.024032197892665863,
           0.024032197892665863,
           3.4028234663852886e+38,
           "Seed"
          ]
         ],
         "hovertemplate": "Rechit : %{customdata[3]}<br>Energy: %{customdata[0]:.2g} GeV<br>Rho: %{customdata[1]:.2g} GeV<br>Delta: %{customdata[2]:.2g} cm",
         "legendgroup": "rechits",
         "legendgrouptitle": {
          "text": "Rechits"
         },
         "marker": {
          "color": "#EF553B",
          "size": [
           0.2140015810728073,
           0.7209659218788147
          ],
          "symbol": "circle"
         },
         "mode": "markers",
         "name": "2D cluster nb 28",
         "type": "scatter3d",
         "x": [
          3.9179909229278564,
          2.9435126781463623
         ],
         "y": [
          -3.6595041751861572,
          -1.9716379642486572
         ],
         "z": [
          39.92250061035156,
          39.92250061035156
         ]
        },
        {
         "hoverinfo": "skip",
         "legendgroup": "rechits_chain",
         "mode": "lines",
         "name": "Rechits chain",
         "showlegend": false,
         "type": "scatter3d",
         "x": [
          3.9179909229278564,
          2.9435126781463623
         ],
         "y": [
          -3.6595041751861572,
          -1.9716379642486572
         ],
         "z": [
          39.92250061035156,
          39.92250061035156
         ]
        },
        {
         "anchor": "tip",
         "colorscale": [
          [
           0,
           "blue"
          ],
          [
           1,
           "blue"
          ]
         ],
         "hoverinfo": "skip",
         "legendgroup": "rechits_chain",
         "showscale": false,
         "type": "cone",
         "u": [
          -0.49999547204980793
         ],
         "v": [
          0.8660280179819183
         ],
         "w": [
          0
         ],
         "x": [
          2.9435126781463623
         ],
         "y": [
          -1.9716379642486572
         ],
         "z": [
          39.92250061035156
         ]
        },
        {
         "customdata": [
          [
           0.013971302658319473,
           0.02412225678563118,
           1.125237226486206,
           "Follower"
          ],
          [
           0.020301910117268562,
           0.0272875614464283,
           3.4028234663852886e+38,
           "Seed"
          ]
         ],
         "hovertemplate": "Rechit : %{customdata[3]}<br>Energy: %{customdata[0]:.2g} GeV<br>Rho: %{customdata[1]:.2g} GeV<br>Delta: %{customdata[2]:.2g} cm",
         "legendgroup": "rechits",
         "legendgrouptitle": {
          "text": "Rechits"
         },
         "marker": {
          "color": "#EF553B",
          "size": [
           0.4191390872001648,
           0.6090573072433472
          ],
          "symbol": "circle"
         },
         "mode": "markers",
         "name": "2D cluster nb 29",
         "type": "scatter3d",
         "x": [
          2.9865827560424805,
          2.0120954513549805
         ],
         "y": [
          -3.137322187423706,
          -2.574709177017212
         ],
         "z": [
          44.037498474121094,
          44.037498474121094
         ]
        },
        {
         "hoverinfo": "skip",
         "legendgroup": "rechits_chain",
         "mode": "lines",
         "name": "Rechits chain",
         "showlegend": false,
         "type": "scatter3d",
         "x": [
          2.9865827560424805,
          2.0120954513549805
         ],
         "y": [
          -3.137322187423706,
          -2.574709177017212
         ],
         "z": [
          44.037498474121094,
          44.037498474121094
         ]
        },
        {
         "anchor": "tip",
         "colorscale": [
          [
           0,
           "blue"
          ],
          [
           1,
           "blue"
          ]
         ],
         "hoverinfo": "skip",
         "legendgroup": "rechits_chain",
         "showscale": false,
         "type": "cone",
         "u": [
          -0.8660282888646941
         ],
         "v": [
          0.4999950028611187
         ],
         "w": [
          0
         ],
         "x": [
          2.0120954513549805
         ],
         "y": [
          -2.574709177017212
         ],
         "z": [
          44.037498474121094
         ]
        },
        {
         "customdata": [
          [
           0.01945893093943596,
           0.028423067182302475,
           1.1500650644302368,
           "Follower"
          ],
          [
           0.06071535497903824,
           0.06967949122190475,
           3.4028234663852886e+38,
           "Seed"
          ],
          [
           0.017928270623087883,
           0.05801541358232498,
           1.125180721282959,
           "Follower"
          ]
         ],
         "hovertemplate": "Rechit : %{customdata[3]}<br>Energy: %{customdata[0]:.2g} GeV<br>Rho: %{customdata[1]:.2g} GeV<br>Delta: %{customdata[2]:.2g} cm",
         "legendgroup": "rechits",
         "legendgrouptitle": {
          "text": "Rechits"
         },
         "marker": {
          "color": "#EF553B",
          "size": [
           0.5837679505348206,
           1.8214606046676636,
           0.5378481149673462
          ],
          "symbol": "circle"
         },
         "mode": "markers",
         "name": "2D cluster nb 15",
         "type": "scatter3d",
         "x": [
          3.8504509925842285,
          1.8594753742218018,
          2.8339626789093018
         ],
         "y": [
          3.0074164867401123,
          2.9828765392303467,
          3.5453765392303467
         ],
         "z": [
          29.592500686645508,
          29.592500686645508,
          29.592500686645508
         ]
        },
        {
         "hoverinfo": "skip",
         "legendgroup": "rechits_chain",
         "mode": "lines",
         "name": "Rechits chain",
         "showlegend": false,
         "type": "scatter3d",
         "x": [
          3.8504509925842285,
          2.8339626789093018
         ],
         "y": [
          3.0074164867401123,
          3.5453765392303467
         ],
         "z": [
          29.592500686645508,
          29.592500686645508
         ]
        },
        {
         "anchor": "tip",
         "colorscale": [
          [
           0,
           "blue"
          ],
          [
           1,
           "blue"
          ]
         ],
         "hoverinfo": "skip",
         "legendgroup": "rechits_chain",
         "showscale": false,
         "type": "cone",
         "u": [
          -0.8838529226515429
         ],
         "v": [
          0.4677649100994278
         ],
         "w": [
          0
         ],
         "x": [
          2.8339626789093018
         ],
         "y": [
          3.5453765392303467
         ],
         "z": [
          29.592500686645508
         ]
        },
        {
         "hoverinfo": "skip",
         "legendgroup": "rechits_chain",
         "mode": "lines",
         "name": "Rechits chain",
         "showlegend": false,
         "type": "scatter3d",
         "x": [
          2.8339626789093018,
          1.8594753742218018
         ],
         "y": [
          3.5453765392303467,
          2.9828765392303467
         ],
         "z": [
          29.592500686645508,
          29.592500686645508
         ]
        },
        {
         "anchor": "tip",
         "colorscale": [
          [
           0,
           "blue"
          ],
          [
           1,
           "blue"
          ]
         ],
         "hoverinfo": "skip",
         "legendgroup": "rechits_chain",
         "showscale": false,
         "type": "cone",
         "u": [
          -0.866071776036405
         ],
         "v": [
          -0.499919672300608
         ],
         "w": [
          0
         ],
         "x": [
          1.8594753742218018
         ],
         "y": [
          2.9828765392303467
         ],
         "z": [
          29.592500686645508
         ]
        },
        {
         "customdata": [
          [
           0.024468550458550453,
           0.09117791056632996,
           1.0959091186523438,
           "Follower"
          ],
          [
           0.015783466398715973,
           0.0396147221326828,
           1.0959038734436035,
           "Follower"
          ],
          [
           0.0237355288118124,
           0.1253920942544937,
           1.0188425779342651,
           "Follower"
          ],
          [
           0.04074028879404068,
           0.09925787895917892,
           1.055773377418518,
           "Follower"
          ],
          [
           0.01150638610124588,
           0.06652982532978058,
           1.0188969373703003,
           "Follower"
          ],
          [
           0.15013273060321808,
           0.20487180352210999,
           3.4028234663852886e+38,
           "Seed"
          ],
          [
           0.012440127320587635,
           0.16977325081825256,
           1.125,
           "Follower"
          ],
          [
           0.0435178317129612,
           0.13327540457248688,
           1.125244140625,
           "Follower"
          ],
          [
           0.06979487091302872,
           0.10954125225543976,
           1.1251220703125,
           "Follower"
          ],
          [
           0.07330252230167389,
           0.17362219095230103,
           1.1254249811172485,
           "Follower"
          ],
          [
           0.0565398670732975,
           0.09510627388954163,
           1.125180721282959,
           "Follower"
          ],
          [
           0.050506576895713806,
           0.1034773662686348,
           1.125319242477417,
           "Follower"
          ],
          [
           0.006940413266420364,
           0.08713221549987793,
           1.125,
           "Follower"
          ],
          [
           0.01423443853855133,
           0.07770244777202606,
           1.125197172164917,
           "Follower"
          ],
          [
           0.008370836265385151,
           0.04260623827576637,
           1.1251220703125,
           "Follower"
          ],
          [
           0.012555532157421112,
           0.0167409498244524,
           1.125244140625,
           "Follower"
          ],
          [
           0.025698645040392876,
           0.061124175786972046,
           1.1252864599227905,
           "Follower"
          ],
          [
           0.013404074124991894,
           0.057681240141391754,
           1.125,
           "Follower"
          ],
          [
           0.04168083518743515,
           0.06906410306692123,
           1.1252864599227905,
           "Follower"
          ],
          [
           0.01875719241797924,
           0.0657997876405716,
           1.124924659729004,
           "Follower"
          ],
          [
           0.052404362708330154,
           0.06178295984864235,
           1.125244140625,
           "Follower"
          ],
          [
           0.007844357751309872,
           0.026011355221271515,
           1.125237226486206,
           "Follower"
          ],
          [
           0.031670428812503815,
           0.050341278314590454,
           1.125302791595459,
           "Follower"
          ],
          [
           0.024646420031785965,
           0.06531751155853271,
           1.1251220703125,
           "Follower"
          ],
          [
           0.011687575839459896,
           0.048058971762657166,
           1.125244140625,
           "Follower"
          ],
          [
           0.03734169900417328,
           0.08587026596069336,
           1.1253106594085693,
           "Follower"
          ]
         ],
         "hovertemplate": "Rechit : %{customdata[3]}<br>Energy: %{customdata[0]:.2g} GeV<br>Rho: %{customdata[1]:.2g} GeV<br>Delta: %{customdata[2]:.2g} cm",
         "legendgroup": "rechits",
         "legendgrouptitle": {
          "text": "Rechits"
         },
         "marker": {
          "color": "#EF553B",
          "size": [
           0.7340565323829651,
           0.4735040068626404,
           0.7120658755302429,
           1.2222086191177368,
           0.3451915979385376,
           4.503982067108154,
           0.3732038140296936,
           1.3055349588394165,
           2.093846082687378,
           2.199075698852539,
           1.6961959600448608,
           1.5151972770690918,
           0.20821240544319153,
           0.4270331561565399,
           0.2511250972747803,
           0.37666594982147217,
           0.7709593772888184,
           0.40212222933769226,
           1.250425100326538,
           0.5627157688140869,
           1.5721309185028076,
           0.235330730676651,
           0.9501128792762756,
           0.7393925786018372,
           0.35062727332115173,
           1.120250940322876
          ],
          "symbol": "circle"
         },
         "mode": "markers",
         "name": "2D cluster nb 16",
         "type": "scatter3d",
         "x": [
          3.808440923690796,
          3.808440923690796,
          3.808440923690796,
          3.889720916748047,
          2.9152426719665527,
          2.9152426719665527,
          2.9152426719665527,
          2.9152426719665527,
          2.9152426719665527,
          1.9407553672790527,
          1.9407553672790527,
          0.9663901329040527,
          0.9663901329040527,
          0.9663901329040527,
          0.9663901329040527,
          0.9663901329040527,
          -0.008219242095947266,
          -0.008219242095947266,
          -0.008219242095947266,
          -0.9823403358459473,
          -0.9823403358459473,
          5.838704586029053,
          5.838704586029053,
          4.864217281341553,
          4.864217281341553,
          4.864217281341553
         ],
         "y": [
          -2.643109083175659,
          -3.7683441638946533,
          0.7323882579803467,
          -0.3202517032623291,
          -3.133362054824829,
          1.367248296737671,
          0.2422482967376709,
          -0.8829958438873291,
          -2.008117914199829,
          1.930236577987671,
          -0.3202517032623291,
          1.367248296737671,
          0.2422482967376709,
          -0.8829958438873291,
          -2.008117914199829,
          -3.133362054824829,
          0.8047482967376709,
          -0.3202517032623291,
          -1.445495843887329,
          -2.008117914199829,
          -3.133362054824829,
          -2.570749044418335,
          -0.3202517032623291,
          -2.008117914199829,
          -3.133362054824829,
          -0.8829958438873291
         ],
         "z": [
          31.50749969482422,
          31.50749969482422,
          31.50749969482422,
          31.50749969482422,
          31.50749969482422,
          31.50749969482422,
          31.50749969482422,
          31.50749969482422,
          31.50749969482422,
          31.50749969482422,
          31.50749969482422,
          31.50749969482422,
          31.50749969482422,
          31.50749969482422,
          31.50749969482422,
          31.50749969482422,
          31.50749969482422,
          31.50749969482422,
          31.50749969482422,
          31.50749969482422,
          31.50749969482422,
          31.50749969482422,
          31.50749969482422,
          31.50749969482422,
          31.50749969482422,
          31.50749969482422
         ]
        },
        {
         "hoverinfo": "skip",
         "legendgroup": "rechits_chain",
         "mode": "lines",
         "name": "Rechits chain",
         "showlegend": false,
         "type": "scatter3d",
         "x": [
          3.808440923690796,
          2.9152426719665527
         ],
         "y": [
          -2.643109083175659,
          -2.008117914199829
         ],
         "z": [
          31.50749969482422,
          31.50749969482422
         ]
        },
        {
         "anchor": "tip",
         "colorscale": [
          [
           0,
           "blue"
          ],
          [
           1,
           "blue"
          ]
         ],
         "hoverinfo": "skip",
         "legendgroup": "rechits_chain",
         "showscale": false,
         "type": "cone",
         "u": [
          -0.8150294558168024
         ],
         "v": [
          0.5794195251723633
         ],
         "w": [
          0
         ],
         "x": [
          2.9152426719665527
         ],
         "y": [
          -2.008117914199829
         ],
         "z": [
          31.50749969482422
         ]
        },
        {
         "hoverinfo": "skip",
         "legendgroup": "rechits_chain",
         "mode": "lines",
         "name": "Rechits chain",
         "showlegend": false,
         "type": "scatter3d",
         "x": [
          3.808440923690796,
          2.9152426719665527
         ],
         "y": [
          -3.7683441638946533,
          -3.133362054824829
         ],
         "z": [
          31.50749969482422,
          31.50749969482422
         ]
        },
        {
         "anchor": "tip",
         "colorscale": [
          [
           0,
           "blue"
          ],
          [
           1,
           "blue"
          ]
         ],
         "hoverinfo": "skip",
         "legendgroup": "rechits_chain",
         "showscale": false,
         "type": "cone",
         "u": [
          -0.8150333598687279
         ],
         "v": [
          0.5794140335727921
         ],
         "w": [
          0
         ],
         "x": [
          2.9152426719665527
         ],
         "y": [
          -3.133362054824829
         ],
         "z": [
          31.50749969482422
         ]
        },
        {
         "hoverinfo": "skip",
         "legendgroup": "rechits_chain",
         "mode": "lines",
         "name": "Rechits chain",
         "showlegend": false,
         "type": "scatter3d",
         "x": [
          3.808440923690796,
          2.9152426719665527
         ],
         "y": [
          0.7323882579803467,
          0.2422482967376709
         ],
         "z": [
          31.50749969482422,
          31.50749969482422
         ]
        },
        {
         "anchor": "tip",
         "colorscale": [
          [
           0,
           "blue"
          ],
          [
           1,
           "blue"
          ]
         ],
         "hoverinfo": "skip",
         "legendgroup": "rechits_chain",
         "showscale": false,
         "type": "cone",
         "u": [
          -0.8766793105213748
         ],
         "v": [
          -0.4810752399612423
         ],
         "w": [
          0
         ],
         "x": [
          2.9152426719665527
         ],
         "y": [
          0.2422482967376709
         ],
         "z": [
          31.50749969482422
         ]
        },
        {
         "hoverinfo": "skip",
         "legendgroup": "rechits_chain",
         "mode": "lines",
         "name": "Rechits chain",
         "showlegend": false,
         "type": "scatter3d",
         "x": [
          3.889720916748047,
          3.808440923690796
         ],
         "y": [
          -0.3202517032623291,
          0.7323882579803467
         ],
         "z": [
          31.50749969482422,
          31.50749969482422
         ]
        },
        {
         "anchor": "tip",
         "colorscale": [
          [
           0,
           "blue"
          ],
          [
           1,
           "blue"
          ]
         ],
         "hoverinfo": "skip",
         "legendgroup": "rechits_chain",
         "showscale": false,
         "type": "cone",
         "u": [
          -0.07698621542474973
         ],
         "v": [
          0.9970321572720581
         ],
         "w": [
          0
         ],
         "x": [
          3.808440923690796
         ],
         "y": [
          0.7323882579803467
         ],
         "z": [
          31.50749969482422
         ]
        },
        {
         "hoverinfo": "skip",
         "legendgroup": "rechits_chain",
         "mode": "lines",
         "name": "Rechits chain",
         "showlegend": false,
         "type": "scatter3d",
         "x": [
          2.9152426719665527,
          3.808440923690796
         ],
         "y": [
          -3.133362054824829,
          -2.643109083175659
         ],
         "z": [
          31.50749969482422,
          31.50749969482422
         ]
        },
        {
         "anchor": "tip",
         "colorscale": [
          [
           0,
           "blue"
          ],
          [
           1,
           "blue"
          ]
         ],
         "hoverinfo": "skip",
         "legendgroup": "rechits_chain",
         "showscale": false,
         "type": "cone",
         "u": [
          0.876632528348119
         ],
         "v": [
          0.4811604828349729
         ],
         "w": [
          0
         ],
         "x": [
          3.808440923690796
         ],
         "y": [
          -2.643109083175659
         ],
         "z": [
          31.50749969482422
         ]
        },
        {
         "hoverinfo": "skip",
         "legendgroup": "rechits_chain",
         "mode": "lines",
         "name": "Rechits chain",
         "showlegend": false,
         "type": "scatter3d",
         "x": [
          2.9152426719665527,
          2.9152426719665527
         ],
         "y": [
          0.2422482967376709,
          1.367248296737671
         ],
         "z": [
          31.50749969482422,
          31.50749969482422
         ]
        },
        {
         "anchor": "tip",
         "colorscale": [
          [
           0,
           "blue"
          ],
          [
           1,
           "blue"
          ]
         ],
         "hoverinfo": "skip",
         "legendgroup": "rechits_chain",
         "showscale": false,
         "type": "cone",
         "u": [
          0
         ],
         "v": [
          1
         ],
         "w": [
          0
         ],
         "x": [
          2.9152426719665527
         ],
         "y": [
          1.367248296737671
         ],
         "z": [
          31.50749969482422
         ]
        },
        {
         "hoverinfo": "skip",
         "legendgroup": "rechits_chain",
         "mode": "lines",
         "name": "Rechits chain",
         "showlegend": false,
         "type": "scatter3d",
         "x": [
          2.9152426719665527,
          2.9152426719665527
         ],
         "y": [
          -0.8829958438873291,
          0.2422482967376709
         ],
         "z": [
          31.50749969482422,
          31.50749969482422
         ]
        },
        {
         "anchor": "tip",
         "colorscale": [
          [
           0,
           "blue"
          ],
          [
           1,
           "blue"
          ]
         ],
         "hoverinfo": "skip",
         "legendgroup": "rechits_chain",
         "showscale": false,
         "type": "cone",
         "u": [
          0
         ],
         "v": [
          1
         ],
         "w": [
          0
         ],
         "x": [
          2.9152426719665527
         ],
         "y": [
          0.2422482967376709
         ],
         "z": [
          31.50749969482422
         ]
        },
        {
         "hoverinfo": "skip",
         "legendgroup": "rechits_chain",
         "mode": "lines",
         "name": "Rechits chain",
         "showlegend": false,
         "type": "scatter3d",
         "x": [
          2.9152426719665527,
          2.9152426719665527
         ],
         "y": [
          -2.008117914199829,
          -0.8829958438873291
         ],
         "z": [
          31.50749969482422,
          31.50749969482422
         ]
        },
        {
         "anchor": "tip",
         "colorscale": [
          [
           0,
           "blue"
          ],
          [
           1,
           "blue"
          ]
         ],
         "hoverinfo": "skip",
         "legendgroup": "rechits_chain",
         "showscale": false,
         "type": "cone",
         "u": [
          0
         ],
         "v": [
          1
         ],
         "w": [
          0
         ],
         "x": [
          2.9152426719665527
         ],
         "y": [
          -0.8829958438873291
         ],
         "z": [
          31.50749969482422
         ]
        },
        {
         "hoverinfo": "skip",
         "legendgroup": "rechits_chain",
         "mode": "lines",
         "name": "Rechits chain",
         "showlegend": false,
         "type": "scatter3d",
         "x": [
          1.9407553672790527,
          2.9152426719665527
         ],
         "y": [
          1.930236577987671,
          1.367248296737671
         ],
         "z": [
          31.50749969482422,
          31.50749969482422
         ]
        },
        {
         "anchor": "tip",
         "colorscale": [
          [
           0,
           "blue"
          ],
          [
           1,
           "blue"
          ]
         ],
         "hoverinfo": "skip",
         "legendgroup": "rechits_chain",
         "showscale": false,
         "type": "cone",
         "u": [
          0.8658838664416397
         ],
         "v": [
          -0.5002450697768811
         ],
         "w": [
          0
         ],
         "x": [
          2.9152426719665527
         ],
         "y": [
          1.367248296737671
         ],
         "z": [
          31.50749969482422
         ]
        },
        {
         "hoverinfo": "skip",
         "legendgroup": "rechits_chain",
         "mode": "lines",
         "name": "Rechits chain",
         "showlegend": false,
         "type": "scatter3d",
         "x": [
          1.9407553672790527,
          2.9152426719665527
         ],
         "y": [
          -0.3202517032623291,
          0.2422482967376709
         ],
         "z": [
          31.50749969482422,
          31.50749969482422
         ]
        },
        {
         "anchor": "tip",
         "colorscale": [
          [
           0,
           "blue"
          ],
          [
           1,
           "blue"
          ]
         ],
         "hoverinfo": "skip",
         "legendgroup": "rechits_chain",
         "showscale": false,
         "type": "cone",
         "u": [
          0.866071776036405
         ],
         "v": [
          0.499919672300608
         ],
         "w": [
          0
         ],
         "x": [
          2.9152426719665527
         ],
         "y": [
          0.2422482967376709
         ],
         "z": [
          31.50749969482422
         ]
        },
        {
         "hoverinfo": "skip",
         "legendgroup": "rechits_chain",
         "mode": "lines",
         "name": "Rechits chain",
         "showlegend": false,
         "type": "scatter3d",
         "x": [
          0.9663901329040527,
          1.9407553672790527
         ],
         "y": [
          1.367248296737671,
          1.930236577987671
         ],
         "z": [
          31.50749969482422,
          31.50749969482422
         ]
        },
        {
         "anchor": "tip",
         "colorscale": [
          [
           0,
           "blue"
          ],
          [
           1,
           "blue"
          ]
         ],
         "hoverinfo": "skip",
         "legendgroup": "rechits_chain",
         "showscale": false,
         "type": "cone",
         "u": [
          0.8658567195357058
         ],
         "v": [
          0.5002920559381953
         ],
         "w": [
          0
         ],
         "x": [
          1.9407553672790527
         ],
         "y": [
          1.930236577987671
         ],
         "z": [
          31.50749969482422
         ]
        },
        {
         "hoverinfo": "skip",
         "legendgroup": "rechits_chain",
         "mode": "lines",
         "name": "Rechits chain",
         "showlegend": false,
         "type": "scatter3d",
         "x": [
          0.9663901329040527,
          0.9663901329040527
         ],
         "y": [
          0.2422482967376709,
          1.367248296737671
         ],
         "z": [
          31.50749969482422,
          31.50749969482422
         ]
        },
        {
         "anchor": "tip",
         "colorscale": [
          [
           0,
           "blue"
          ],
          [
           1,
           "blue"
          ]
         ],
         "hoverinfo": "skip",
         "legendgroup": "rechits_chain",
         "showscale": false,
         "type": "cone",
         "u": [
          0
         ],
         "v": [
          1
         ],
         "w": [
          0
         ],
         "x": [
          0.9663901329040527
         ],
         "y": [
          1.367248296737671
         ],
         "z": [
          31.50749969482422
         ]
        },
        {
         "hoverinfo": "skip",
         "legendgroup": "rechits_chain",
         "mode": "lines",
         "name": "Rechits chain",
         "showlegend": false,
         "type": "scatter3d",
         "x": [
          0.9663901329040527,
          1.9407553672790527
         ],
         "y": [
          -0.8829958438873291,
          -0.3202517032623291
         ],
         "z": [
          31.50749969482422,
          31.50749969482422
         ]
        },
        {
         "anchor": "tip",
         "colorscale": [
          [
           0,
           "blue"
          ],
          [
           1,
           "blue"
          ]
         ],
         "hoverinfo": "skip",
         "legendgroup": "rechits_chain",
         "showscale": false,
         "type": "cone",
         "u": [
          0.8659506941311695
         ],
         "v": [
          0.500129378594925
         ],
         "w": [
          0
         ],
         "x": [
          1.9407553672790527
         ],
         "y": [
          -0.3202517032623291
         ],
         "z": [
          31.50749969482422
         ]
        },
        {
         "hoverinfo": "skip",
         "legendgroup": "rechits_chain",
         "mode": "lines",
         "name": "Rechits chain",
         "showlegend": false,
         "type": "scatter3d",
         "x": [
          0.9663901329040527,
          0.9663901329040527
         ],
         "y": [
          -2.008117914199829,
          -0.8829958438873291
         ],
         "z": [
          31.50749969482422,
          31.50749969482422
         ]
        },
        {
         "anchor": "tip",
         "colorscale": [
          [
           0,
           "blue"
          ],
          [
           1,
           "blue"
          ]
         ],
         "hoverinfo": "skip",
         "legendgroup": "rechits_chain",
         "showscale": false,
         "type": "cone",
         "u": [
          0
         ],
         "v": [
          1
         ],
         "w": [
          0
         ],
         "x": [
          0.9663901329040527
         ],
         "y": [
          -0.8829958438873291
         ],
         "z": [
          31.50749969482422
         ]
        },
        {
         "hoverinfo": "skip",
         "legendgroup": "rechits_chain",
         "mode": "lines",
         "name": "Rechits chain",
         "showlegend": false,
         "type": "scatter3d",
         "x": [
          0.9663901329040527,
          0.9663901329040527
         ],
         "y": [
          -3.133362054824829,
          -2.008117914199829
         ],
         "z": [
          31.50749969482422,
          31.50749969482422
         ]
        },
        {
         "anchor": "tip",
         "colorscale": [
          [
           0,
           "blue"
          ],
          [
           1,
           "blue"
          ]
         ],
         "hoverinfo": "skip",
         "legendgroup": "rechits_chain",
         "showscale": false,
         "type": "cone",
         "u": [
          0
         ],
         "v": [
          1
         ],
         "w": [
          0
         ],
         "x": [
          0.9663901329040527
         ],
         "y": [
          -2.008117914199829
         ],
         "z": [
          31.50749969482422
         ]
        },
        {
         "hoverinfo": "skip",
         "legendgroup": "rechits_chain",
         "mode": "lines",
         "name": "Rechits chain",
         "showlegend": false,
         "type": "scatter3d",
         "x": [
          -0.008219242095947266,
          0.9663901329040527
         ],
         "y": [
          0.8047482967376709,
          1.367248296737671
         ],
         "z": [
          31.50749969482422,
          31.50749969482422
         ]
        },
        {
         "anchor": "tip",
         "colorscale": [
          [
           0,
           "blue"
          ],
          [
           1,
           "blue"
          ]
         ],
         "hoverinfo": "skip",
         "legendgroup": "rechits_chain",
         "showscale": false,
         "type": "cone",
         "u": [
          0.8660988858794976
         ],
         "v": [
          0.4998727036739385
         ],
         "w": [
          0
         ],
         "x": [
          0.9663901329040527
         ],
         "y": [
          1.367248296737671
         ],
         "z": [
          31.50749969482422
         ]
        },
        {
         "hoverinfo": "skip",
         "legendgroup": "rechits_chain",
         "mode": "lines",
         "name": "Rechits chain",
         "showlegend": false,
         "type": "scatter3d",
         "x": [
          -0.008219242095947266,
          -0.008219242095947266
         ],
         "y": [
          -0.3202517032623291,
          0.8047482967376709
         ],
         "z": [
          31.50749969482422,
          31.50749969482422
         ]
        },
        {
         "anchor": "tip",
         "colorscale": [
          [
           0,
           "blue"
          ],
          [
           1,
           "blue"
          ]
         ],
         "hoverinfo": "skip",
         "legendgroup": "rechits_chain",
         "showscale": false,
         "type": "cone",
         "u": [
          0
         ],
         "v": [
          1
         ],
         "w": [
          0
         ],
         "x": [
          -0.008219242095947266
         ],
         "y": [
          0.8047482967376709
         ],
         "z": [
          31.50749969482422
         ]
        },
        {
         "hoverinfo": "skip",
         "legendgroup": "rechits_chain",
         "mode": "lines",
         "name": "Rechits chain",
         "showlegend": false,
         "type": "scatter3d",
         "x": [
          -0.008219242095947266,
          0.9663901329040527
         ],
         "y": [
          -1.445495843887329,
          -0.8829958438873291
         ],
         "z": [
          31.50749969482422,
          31.50749969482422
         ]
        },
        {
         "anchor": "tip",
         "colorscale": [
          [
           0,
           "blue"
          ],
          [
           1,
           "blue"
          ]
         ],
         "hoverinfo": "skip",
         "legendgroup": "rechits_chain",
         "showscale": false,
         "type": "cone",
         "u": [
          0.8660988858794976
         ],
         "v": [
          0.4998727036739385
         ],
         "w": [
          0
         ],
         "x": [
          0.9663901329040527
         ],
         "y": [
          -0.8829958438873291
         ],
         "z": [
          31.50749969482422
         ]
        },
        {
         "hoverinfo": "skip",
         "legendgroup": "rechits_chain",
         "mode": "lines",
         "name": "Rechits chain",
         "showlegend": false,
         "type": "scatter3d",
         "x": [
          -0.9823403358459473,
          -0.008219242095947266
         ],
         "y": [
          -2.008117914199829,
          -1.445495843887329
         ],
         "z": [
          31.50749969482422,
          31.50749969482422
         ]
        },
        {
         "anchor": "tip",
         "colorscale": [
          [
           0,
           "blue"
          ],
          [
           1,
           "blue"
          ]
         ],
         "hoverinfo": "skip",
         "legendgroup": "rechits_chain",
         "showscale": false,
         "type": "cone",
         "u": [
          0.8659434049868368
         ],
         "v": [
          0.5001419991960314
         ],
         "w": [
          0
         ],
         "x": [
          -0.008219242095947266
         ],
         "y": [
          -1.445495843887329
         ],
         "z": [
          31.50749969482422
         ]
        },
        {
         "hoverinfo": "skip",
         "legendgroup": "rechits_chain",
         "mode": "lines",
         "name": "Rechits chain",
         "showlegend": false,
         "type": "scatter3d",
         "x": [
          -0.9823403358459473,
          -0.9823403358459473
         ],
         "y": [
          -3.133362054824829,
          -2.008117914199829
         ],
         "z": [
          31.50749969482422,
          31.50749969482422
         ]
        },
        {
         "anchor": "tip",
         "colorscale": [
          [
           0,
           "blue"
          ],
          [
           1,
           "blue"
          ]
         ],
         "hoverinfo": "skip",
         "legendgroup": "rechits_chain",
         "showscale": false,
         "type": "cone",
         "u": [
          0
         ],
         "v": [
          1
         ],
         "w": [
          0
         ],
         "x": [
          -0.9823403358459473
         ],
         "y": [
          -2.008117914199829
         ],
         "z": [
          31.50749969482422
         ]
        },
        {
         "hoverinfo": "skip",
         "legendgroup": "rechits_chain",
         "mode": "lines",
         "name": "Rechits chain",
         "showlegend": false,
         "type": "scatter3d",
         "x": [
          5.838704586029053,
          4.864217281341553
         ],
         "y": [
          -2.570749044418335,
          -3.133362054824829
         ],
         "z": [
          31.50749969482422,
          31.50749969482422
         ]
        },
        {
         "anchor": "tip",
         "colorscale": [
          [
           0,
           "blue"
          ],
          [
           1,
           "blue"
          ]
         ],
         "hoverinfo": "skip",
         "legendgroup": "rechits_chain",
         "showscale": false,
         "type": "cone",
         "u": [
          -0.8660282888646941
         ],
         "v": [
          -0.4999950028611187
         ],
         "w": [
          0
         ],
         "x": [
          4.864217281341553
         ],
         "y": [
          -3.133362054824829
         ],
         "z": [
          31.50749969482422
         ]
        },
        {
         "hoverinfo": "skip",
         "legendgroup": "rechits_chain",
         "mode": "lines",
         "name": "Rechits chain",
         "showlegend": false,
         "type": "scatter3d",
         "x": [
          5.838704586029053,
          4.864217281341553
         ],
         "y": [
          -0.3202517032623291,
          -0.8829958438873291
         ],
         "z": [
          31.50749969482422,
          31.50749969482422
         ]
        },
        {
         "anchor": "tip",
         "colorscale": [
          [
           0,
           "blue"
          ],
          [
           1,
           "blue"
          ]
         ],
         "hoverinfo": "skip",
         "legendgroup": "rechits_chain",
         "showscale": false,
         "type": "cone",
         "u": [
          -0.8659778263291473
         ],
         "v": [
          -0.5000823975168945
         ],
         "w": [
          0
         ],
         "x": [
          4.864217281341553
         ],
         "y": [
          -0.8829958438873291
         ],
         "z": [
          31.50749969482422
         ]
        },
        {
         "hoverinfo": "skip",
         "legendgroup": "rechits_chain",
         "mode": "lines",
         "name": "Rechits chain",
         "showlegend": false,
         "type": "scatter3d",
         "x": [
          4.864217281341553,
          4.864217281341553
         ],
         "y": [
          -2.008117914199829,
          -0.8829958438873291
         ],
         "z": [
          31.50749969482422,
          31.50749969482422
         ]
        },
        {
         "anchor": "tip",
         "colorscale": [
          [
           0,
           "blue"
          ],
          [
           1,
           "blue"
          ]
         ],
         "hoverinfo": "skip",
         "legendgroup": "rechits_chain",
         "showscale": false,
         "type": "cone",
         "u": [
          0
         ],
         "v": [
          1
         ],
         "w": [
          0
         ],
         "x": [
          4.864217281341553
         ],
         "y": [
          -0.8829958438873291
         ],
         "z": [
          31.50749969482422
         ]
        },
        {
         "hoverinfo": "skip",
         "legendgroup": "rechits_chain",
         "mode": "lines",
         "name": "Rechits chain",
         "showlegend": false,
         "type": "scatter3d",
         "x": [
          4.864217281341553,
          4.864217281341553
         ],
         "y": [
          -3.133362054824829,
          -2.008117914199829
         ],
         "z": [
          31.50749969482422,
          31.50749969482422
         ]
        },
        {
         "anchor": "tip",
         "colorscale": [
          [
           0,
           "blue"
          ],
          [
           1,
           "blue"
          ]
         ],
         "hoverinfo": "skip",
         "legendgroup": "rechits_chain",
         "showscale": false,
         "type": "cone",
         "u": [
          0
         ],
         "v": [
          1
         ],
         "w": [
          0
         ],
         "x": [
          4.864217281341553
         ],
         "y": [
          -2.008117914199829
         ],
         "z": [
          31.50749969482422
         ]
        },
        {
         "hoverinfo": "skip",
         "legendgroup": "rechits_chain",
         "mode": "lines",
         "name": "Rechits chain",
         "showlegend": false,
         "type": "scatter3d",
         "x": [
          4.864217281341553,
          3.889720916748047
         ],
         "y": [
          -0.8829958438873291,
          -0.3202517032623291
         ],
         "z": [
          31.50749969482422,
          31.50749969482422
         ]
        },
        {
         "anchor": "tip",
         "colorscale": [
          [
           0,
           "blue"
          ],
          [
           1,
           "blue"
          ]
         ],
         "hoverinfo": "skip",
         "legendgroup": "rechits_chain",
         "showscale": false,
         "type": "cone",
         "u": [
          -0.865979839742166
         ],
         "v": [
          0.5000789109331973
         ],
         "w": [
          0
         ],
         "x": [
          3.889720916748047
         ],
         "y": [
          -0.3202517032623291
         ],
         "z": [
          31.50749969482422
         ]
        },
        {
         "customdata": [
          [
           0.011464109644293785,
           0.029675105586647987,
           1.124863624572754,
           "Follower"
          ],
          [
           0.01210826076567173,
           0.0446520559489727,
           1.125,
           "Follower"
          ],
          [
           0.05362348258495331,
           0.0596776120364666,
           1.94873046875,
           "Seed"
          ]
         ],
         "hovertemplate": "Rechit : %{customdata[3]}<br>Energy: %{customdata[0]:.2g} GeV<br>Rho: %{customdata[1]:.2g} GeV<br>Delta: %{customdata[2]:.2g} cm",
         "legendgroup": "rechits",
         "legendgrouptitle": {
          "text": "Rechits"
         },
         "marker": {
          "color": "#EF553B",
          "size": [
           0.34392330050468445,
           0.363247811794281,
           1.6087044477462769
          ],
          "symbol": "circle"
         },
         "mode": "markers",
         "name": "2D cluster nb 18",
         "type": "scatter3d",
         "x": [
          -0.060079336166381836,
          -1.0342004299163818,
          -1.0342004299163818
         ],
         "y": [
          -0.39855170249938965,
          0.16394829750061035,
          1.2889482975006104
         ],
         "z": [
          32.397499084472656,
          32.397499084472656,
          32.397499084472656
         ]
        },
        {
         "hoverinfo": "skip",
         "legendgroup": "rechits_chain",
         "mode": "lines",
         "name": "Rechits chain",
         "showlegend": false,
         "type": "scatter3d",
         "x": [
          -0.060079336166381836,
          -1.0342004299163818
         ],
         "y": [
          -0.39855170249938965,
          0.16394829750061035
         ],
         "z": [
          32.397499084472656,
          32.397499084472656
         ]
        },
        {
         "anchor": "tip",
         "colorscale": [
          [
           0,
           "blue"
          ],
          [
           1,
           "blue"
          ]
         ],
         "hoverinfo": "skip",
         "legendgroup": "rechits_chain",
         "showscale": false,
         "type": "cone",
         "u": [
          -0.8659904006399372
         ],
         "v": [
          0.5000606223244148
         ],
         "w": [
          0
         ],
         "x": [
          -1.0342004299163818
         ],
         "y": [
          0.16394829750061035
         ],
         "z": [
          32.397499084472656
         ]
        },
        {
         "hoverinfo": "skip",
         "legendgroup": "rechits_chain",
         "mode": "lines",
         "name": "Rechits chain",
         "showlegend": false,
         "type": "scatter3d",
         "x": [
          -1.0342004299163818,
          -1.0342004299163818
         ],
         "y": [
          0.16394829750061035,
          1.2889482975006104
         ],
         "z": [
          32.397499084472656,
          32.397499084472656
         ]
        },
        {
         "anchor": "tip",
         "colorscale": [
          [
           0,
           "blue"
          ],
          [
           1,
           "blue"
          ]
         ],
         "hoverinfo": "skip",
         "legendgroup": "rechits_chain",
         "showscale": false,
         "type": "cone",
         "u": [
          0
         ],
         "v": [
          1
         ],
         "w": [
          0
         ],
         "x": [
          -1.0342004299163818
         ],
         "y": [
          1.2889482975006104
         ],
         "z": [
          32.397499084472656
         ]
        },
        {
         "hoverinfo": "skip",
         "legendgroup": "rechits_chain",
         "mode": "lines",
         "name": "Rechits chain",
         "showlegend": false,
         "type": "scatter3d",
         "x": [
          -1.0342004299163818,
          0.9145300388336182
         ],
         "y": [
          1.2889482975006104,
          1.2889482975006104
         ],
         "z": [
          32.397499084472656,
          32.397499084472656
         ]
        },
        {
         "anchor": "tip",
         "colorscale": [
          [
           0,
           "blue"
          ],
          [
           1,
           "blue"
          ]
         ],
         "hoverinfo": "skip",
         "legendgroup": "rechits_chain",
         "showscale": false,
         "type": "cone",
         "u": [
          1
         ],
         "v": [
          0
         ],
         "w": [
          0
         ],
         "x": [
          0.9145300388336182
         ],
         "y": [
          1.2889482975006104
         ],
         "z": [
          32.397499084472656
         ]
        },
        {
         "customdata": [
          [
           0.020971758291125298,
           0.026298021897673607,
           3.4028234663852886e+38,
           "Seed"
          ],
          [
           0.010652526281774044,
           0.021138405427336693,
           1.1940217018127441,
           "Follower"
          ]
         ],
         "hovertemplate": "Rechit : %{customdata[3]}<br>Energy: %{customdata[0]:.2g} GeV<br>Rho: %{customdata[1]:.2g} GeV<br>Delta: %{customdata[2]:.2g} cm",
         "legendgroup": "rechits",
         "legendgrouptitle": {
          "text": "Rechits"
         },
         "marker": {
          "color": "#EF553B",
          "size": [
           0.629152774810791,
           0.31957578659057617
          ],
          "symbol": "circle"
         },
         "mode": "markers",
         "name": "2D cluster nb 19",
         "type": "scatter3d",
         "x": [
          3.8378608226776123,
          4.905207633972168
         ],
         "y": [
          1.8519365787506104,
          1.316718339920044
         ],
         "z": [
          34.3125,
          34.3125
         ]
        },
        {
         "hoverinfo": "skip",
         "legendgroup": "rechits_chain",
         "mode": "lines",
         "name": "Rechits chain",
         "showlegend": false,
         "type": "scatter3d",
         "x": [
          4.905207633972168,
          3.8378608226776123
         ],
         "y": [
          1.316718339920044,
          1.8519365787506104
         ],
         "z": [
          34.3125,
          34.3125
         ]
        },
        {
         "anchor": "tip",
         "colorscale": [
          [
           0,
           "blue"
          ],
          [
           1,
           "blue"
          ]
         ],
         "hoverinfo": "skip",
         "legendgroup": "rechits_chain",
         "showscale": false,
         "type": "cone",
         "u": [
          -0.8939090694576606
         ],
         "v": [
          0.4482483413704278
         ],
         "w": [
          0
         ],
         "x": [
          3.8378608226776123
         ],
         "y": [
          1.8519365787506104
         ],
         "z": [
          34.3125
         ]
        },
        {
         "customdata": [
          [
           0.013378700241446495,
           0.013378700241446495,
           1.9488729238510132,
           "Follower"
          ],
          [
           0.012960324063897133,
           0.026417072862386703,
           1.1250749826431274,
           "Follower"
          ],
          [
           0.02691349759697914,
           0.03339365869760513,
           3.4028234663852886e+38,
           "Seed"
          ],
          [
           0.010860895738005638,
           0.010860895738005638,
           1.867459774017334,
           "Follower"
          ]
         ],
         "hovertemplate": "Rechit : %{customdata[3]}<br>Energy: %{customdata[0]:.2g} GeV<br>Rho: %{customdata[1]:.2g} GeV<br>Delta: %{customdata[2]:.2g} cm",
         "legendgroup": "rechits",
         "legendgrouptitle": {
          "text": "Rechits"
         },
         "marker": {
          "color": "#EF553B",
          "size": [
           0.40136101841926575,
           0.3888097107410431,
           0.8074049353599548,
           0.32582688331604004
          ],
          "symbol": "circle"
         },
         "mode": "markers",
         "name": "2D cluster nb 22",
         "type": "scatter3d",
         "x": [
          2.956232786178589,
          1.9817454814910889,
          1.0073802471160889,
          4.823447227478027
         ],
         "y": [
          -0.933525800704956,
          0.754218339920044,
          0.19171833992004395,
          -0.9032559394836426
         ],
         "z": [
          35.20249938964844,
          35.20249938964844,
          35.20249938964844,
          35.20249938964844
         ]
        },
        {
         "hoverinfo": "skip",
         "legendgroup": "rechits_chain",
         "mode": "lines",
         "name": "Rechits chain",
         "showlegend": false,
         "type": "scatter3d",
         "x": [
          2.956232786178589,
          1.9817454814910889
         ],
         "y": [
          -0.933525800704956,
          0.754218339920044
         ],
         "z": [
          35.20249938964844,
          35.20249938964844
         ]
        },
        {
         "anchor": "tip",
         "colorscale": [
          [
           0,
           "blue"
          ],
          [
           1,
           "blue"
          ]
         ],
         "hoverinfo": "skip",
         "legendgroup": "rechits_chain",
         "showscale": false,
         "type": "cone",
         "u": [
          -0.5000260805296963
         ],
         "v": [
          0.8660103456599751
         ],
         "w": [
          0
         ],
         "x": [
          1.9817454814910889
         ],
         "y": [
          0.754218339920044
         ],
         "z": [
          35.20249938964844
         ]
        },
        {
         "hoverinfo": "skip",
         "legendgroup": "rechits_chain",
         "mode": "lines",
         "name": "Rechits chain",
         "showlegend": false,
         "type": "scatter3d",
         "x": [
          1.9817454814910889,
          1.0073802471160889
         ],
         "y": [
          0.754218339920044,
          0.19171833992004395
         ],
         "z": [
          35.20249938964844,
          35.20249938964844
         ]
        },
        {
         "anchor": "tip",
         "colorscale": [
          [
           0,
           "blue"
          ],
          [
           1,
           "blue"
          ]
         ],
         "hoverinfo": "skip",
         "legendgroup": "rechits_chain",
         "showscale": false,
         "type": "cone",
         "u": [
          -0.8660446585505366
         ],
         "v": [
          -0.4999666482837475
         ],
         "w": [
          0
         ],
         "x": [
          1.0073802471160889
         ],
         "y": [
          0.19171833992004395
         ],
         "z": [
          35.20249938964844
         ]
        },
        {
         "hoverinfo": "skip",
         "legendgroup": "rechits_chain",
         "mode": "lines",
         "name": "Rechits chain",
         "showlegend": false,
         "type": "scatter3d",
         "x": [
          4.823447227478027,
          2.956232786178589
         ],
         "y": [
          -0.9032559394836426,
          -0.933525800704956
         ],
         "z": [
          35.20249938964844,
          35.20249938964844
         ]
        },
        {
         "anchor": "tip",
         "colorscale": [
          [
           0,
           "blue"
          ],
          [
           1,
           "blue"
          ]
         ],
         "hoverinfo": "skip",
         "legendgroup": "rechits_chain",
         "showscale": false,
         "type": "cone",
         "u": [
          -0.9998686237448408
         ],
         "v": [
          -0.016209110111230336
         ],
         "w": [
          0
         ],
         "x": [
          2.956232786178589
         ],
         "y": [
          -0.933525800704956
         ],
         "z": [
          35.20249938964844
         ]
        },
        {
         "customdata": [
          [
           0.02878383919596672,
           0.042960718274116516,
           2.25048828125,
           "Seed"
          ],
          [
           0.02835376188158989,
           0.0427456796169281,
           1.0564775466918945,
           "Follower"
          ]
         ],
         "hovertemplate": "Rechit : %{customdata[3]}<br>Energy: %{customdata[0]:.2g} GeV<br>Rho: %{customdata[1]:.2g} GeV<br>Delta: %{customdata[2]:.2g} cm",
         "legendgroup": "rechits",
         "legendgrouptitle": {
          "text": "Rechits"
         },
         "marker": {
          "color": "#EF553B",
          "size": [
           0.8635151982307434,
           0.8506128787994385
          ],
          "symbol": "circle"
         },
         "mode": "markers",
         "name": "2D cluster nb 23",
         "type": "scatter3d",
         "x": [
          3.8489508628845215,
          2.9646925926208496
         ],
         "y": [
          1.9099764823913574,
          1.331848382949829
         ],
         "z": [
          37.11750030517578,
          37.11750030517578
         ]
        },
        {
         "hoverinfo": "skip",
         "legendgroup": "rechits_chain",
         "mode": "lines",
         "name": "Rechits chain",
         "showlegend": false,
         "type": "scatter3d",
         "x": [
          3.8489508628845215,
          3.8489508628845215
         ],
         "y": [
          1.9099764823913574,
          -0.3405117988586426
         ],
         "z": [
          37.11750030517578,
          37.11750030517578
         ]
        },
        {
         "anchor": "tip",
         "colorscale": [
          [
           0,
           "blue"
          ],
          [
           1,
           "blue"
          ]
         ],
         "hoverinfo": "skip",
         "legendgroup": "rechits_chain",
         "showscale": false,
         "type": "cone",
         "u": [
          0
         ],
         "v": [
          -1
         ],
         "w": [
          0
         ],
         "x": [
          3.8489508628845215
         ],
         "y": [
          -0.3405117988586426
         ],
         "z": [
          37.11750030517578
         ]
        },
        {
         "hoverinfo": "skip",
         "legendgroup": "rechits_chain",
         "mode": "lines",
         "name": "Rechits chain",
         "showlegend": false,
         "type": "scatter3d",
         "x": [
          2.9646925926208496,
          3.8489508628845215
         ],
         "y": [
          1.331848382949829,
          1.9099764823913574
         ],
         "z": [
          37.11750030517578,
          37.11750030517578
         ]
        },
        {
         "anchor": "tip",
         "colorscale": [
          [
           0,
           "blue"
          ],
          [
           1,
           "blue"
          ]
         ],
         "hoverinfo": "skip",
         "legendgroup": "rechits_chain",
         "showscale": false,
         "type": "cone",
         "u": [
          0.8369872890038557
         ],
         "v": [
          0.5472223296302664
         ],
         "w": [
          0
         ],
         "x": [
          3.8489508628845215
         ],
         "y": [
          1.9099764823913574
         ],
         "z": [
          37.11750030517578
         ]
        },
        {
         "customdata": [
          [
           0.026438158005475998,
           0.07747101783752441,
           1.1250749826431274,
           "Follower"
          ],
          [
           0.0695209875702858,
           0.08274006843566895,
           2.250377893447876,
           "Seed"
          ]
         ],
         "hovertemplate": "Rechit : %{customdata[3]}<br>Energy: %{customdata[0]:.2g} GeV<br>Rho: %{customdata[1]:.2g} GeV<br>Delta: %{customdata[2]:.2g} cm",
         "legendgroup": "rechits",
         "legendgrouptitle": {
          "text": "Rechits"
         },
         "marker": {
          "color": "#EF553B",
          "size": [
           0.7931447625160217,
           2.08562970161438
          ],
          "symbol": "circle"
         },
         "mode": "markers",
         "name": "2D cluster nb 25",
         "type": "scatter3d",
         "x": [
          1.9902052879333496,
          1.0158400535583496
         ],
         "y": [
          -0.3556516170501709,
          0.2068483829498291
         ],
         "z": [
          37.11750030517578,
          37.11750030517578
         ]
        },
        {
         "hoverinfo": "skip",
         "legendgroup": "rechits_chain",
         "mode": "lines",
         "name": "Rechits chain",
         "showlegend": false,
         "type": "scatter3d",
         "x": [
          1.9902052879333496,
          1.0158400535583496
         ],
         "y": [
          -0.3556516170501709,
          0.2068483829498291
         ],
         "z": [
          37.11750030517578,
          37.11750030517578
         ]
        },
        {
         "anchor": "tip",
         "colorscale": [
          [
           0,
           "blue"
          ],
          [
           1,
           "blue"
          ]
         ],
         "hoverinfo": "skip",
         "legendgroup": "rechits_chain",
         "showscale": false,
         "type": "cone",
         "u": [
          -0.8660446585505366
         ],
         "v": [
          0.4999666482837475
         ],
         "w": [
          0
         ],
         "x": [
          1.0158400535583496
         ],
         "y": [
          0.2068483829498291
         ],
         "z": [
          37.11750030517578
         ]
        },
        {
         "hoverinfo": "skip",
         "legendgroup": "rechits_chain",
         "mode": "lines",
         "name": "Rechits chain",
         "showlegend": false,
         "type": "scatter3d",
         "x": [
          1.0158400535583496,
          2.9646925926208496
         ],
         "y": [
          0.2068483829498291,
          -0.9183957576751709
         ],
         "z": [
          37.11750030517578,
          37.11750030517578
         ]
        },
        {
         "anchor": "tip",
         "colorscale": [
          [
           0,
           "blue"
          ],
          [
           1,
           "blue"
          ]
         ],
         "hoverinfo": "skip",
         "legendgroup": "rechits_chain",
         "showscale": false,
         "type": "cone",
         "u": [
          0.8660112409912043
         ],
         "v": [
          -0.5000245298751594
         ],
         "w": [
          0
         ],
         "x": [
          2.9646925926208496
         ],
         "y": [
          -0.9183957576751709
         ],
         "z": [
          37.11750030517578
         ]
        },
        {
         "customdata": [
          [
           0.012313042767345905,
           0.01579834707081318,
           3.4028234663852886e+38,
           "Seed"
          ],
          [
           0.006970610003918409,
           0.013127131387591362,
           1.125,
           "Follower"
          ]
         ],
         "hovertemplate": "Rechit : %{customdata[3]}<br>Energy: %{customdata[0]:.2g} GeV<br>Rho: %{customdata[1]:.2g} GeV<br>Delta: %{customdata[2]:.2g} cm",
         "legendgroup": "rechits",
         "legendgrouptitle": {
          "text": "Rechits"
         },
         "marker": {
          "color": "#EF553B",
          "size": [
           0.3693912923336029,
           0.2091183066368103
          ],
          "symbol": "circle"
         },
         "mode": "markers",
         "name": "2D cluster nb 27",
         "type": "scatter3d",
         "x": [
          0.9946601390838623,
          0.9946601390838623
         ],
         "y": [
          1.4037282466888428,
          0.2787282466888428
         ],
         "z": [
          38.00749969482422,
          38.00749969482422
         ]
        },
        {
         "hoverinfo": "skip",
         "legendgroup": "rechits_chain",
         "mode": "lines",
         "name": "Rechits chain",
         "showlegend": false,
         "type": "scatter3d",
         "x": [
          0.9946601390838623,
          0.9946601390838623
         ],
         "y": [
          0.2787282466888428,
          1.4037282466888428
         ],
         "z": [
          38.00749969482422,
          38.00749969482422
         ]
        },
        {
         "anchor": "tip",
         "colorscale": [
          [
           0,
           "blue"
          ],
          [
           1,
           "blue"
          ]
         ],
         "hoverinfo": "skip",
         "legendgroup": "rechits_chain",
         "showscale": false,
         "type": "cone",
         "u": [
          0
         ],
         "v": [
          1
         ],
         "w": [
          0
         ],
         "x": [
          0.9946601390838623
         ],
         "y": [
          1.4037282466888428
         ],
         "z": [
          38.00749969482422
         ]
        }
       ],
       "layout": {
        "height": 600,
        "legend": {
         "groupclick": "togglegroup"
        },
        "scene": {
         "camera": {
          "eye": {
           "x": 0,
           "y": 0,
           "z": 2.5
          }
         }
        },
        "template": {
         "data": {
          "bar": [
           {
            "error_x": {
             "color": "#2a3f5f"
            },
            "error_y": {
             "color": "#2a3f5f"
            },
            "marker": {
             "line": {
              "color": "#E5ECF6",
              "width": 0.5
             },
             "pattern": {
              "fillmode": "overlay",
              "size": 10,
              "solidity": 0.2
             }
            },
            "type": "bar"
           }
          ],
          "barpolar": [
           {
            "marker": {
             "line": {
              "color": "#E5ECF6",
              "width": 0.5
             },
             "pattern": {
              "fillmode": "overlay",
              "size": 10,
              "solidity": 0.2
             }
            },
            "type": "barpolar"
           }
          ],
          "carpet": [
           {
            "aaxis": {
             "endlinecolor": "#2a3f5f",
             "gridcolor": "white",
             "linecolor": "white",
             "minorgridcolor": "white",
             "startlinecolor": "#2a3f5f"
            },
            "baxis": {
             "endlinecolor": "#2a3f5f",
             "gridcolor": "white",
             "linecolor": "white",
             "minorgridcolor": "white",
             "startlinecolor": "#2a3f5f"
            },
            "type": "carpet"
           }
          ],
          "choropleth": [
           {
            "colorbar": {
             "outlinewidth": 0,
             "ticks": ""
            },
            "type": "choropleth"
           }
          ],
          "contour": [
           {
            "colorbar": {
             "outlinewidth": 0,
             "ticks": ""
            },
            "colorscale": [
             [
              0,
              "#0d0887"
             ],
             [
              0.1111111111111111,
              "#46039f"
             ],
             [
              0.2222222222222222,
              "#7201a8"
             ],
             [
              0.3333333333333333,
              "#9c179e"
             ],
             [
              0.4444444444444444,
              "#bd3786"
             ],
             [
              0.5555555555555556,
              "#d8576b"
             ],
             [
              0.6666666666666666,
              "#ed7953"
             ],
             [
              0.7777777777777778,
              "#fb9f3a"
             ],
             [
              0.8888888888888888,
              "#fdca26"
             ],
             [
              1,
              "#f0f921"
             ]
            ],
            "type": "contour"
           }
          ],
          "contourcarpet": [
           {
            "colorbar": {
             "outlinewidth": 0,
             "ticks": ""
            },
            "type": "contourcarpet"
           }
          ],
          "heatmap": [
           {
            "colorbar": {
             "outlinewidth": 0,
             "ticks": ""
            },
            "colorscale": [
             [
              0,
              "#0d0887"
             ],
             [
              0.1111111111111111,
              "#46039f"
             ],
             [
              0.2222222222222222,
              "#7201a8"
             ],
             [
              0.3333333333333333,
              "#9c179e"
             ],
             [
              0.4444444444444444,
              "#bd3786"
             ],
             [
              0.5555555555555556,
              "#d8576b"
             ],
             [
              0.6666666666666666,
              "#ed7953"
             ],
             [
              0.7777777777777778,
              "#fb9f3a"
             ],
             [
              0.8888888888888888,
              "#fdca26"
             ],
             [
              1,
              "#f0f921"
             ]
            ],
            "type": "heatmap"
           }
          ],
          "heatmapgl": [
           {
            "colorbar": {
             "outlinewidth": 0,
             "ticks": ""
            },
            "colorscale": [
             [
              0,
              "#0d0887"
             ],
             [
              0.1111111111111111,
              "#46039f"
             ],
             [
              0.2222222222222222,
              "#7201a8"
             ],
             [
              0.3333333333333333,
              "#9c179e"
             ],
             [
              0.4444444444444444,
              "#bd3786"
             ],
             [
              0.5555555555555556,
              "#d8576b"
             ],
             [
              0.6666666666666666,
              "#ed7953"
             ],
             [
              0.7777777777777778,
              "#fb9f3a"
             ],
             [
              0.8888888888888888,
              "#fdca26"
             ],
             [
              1,
              "#f0f921"
             ]
            ],
            "type": "heatmapgl"
           }
          ],
          "histogram": [
           {
            "marker": {
             "pattern": {
              "fillmode": "overlay",
              "size": 10,
              "solidity": 0.2
             }
            },
            "type": "histogram"
           }
          ],
          "histogram2d": [
           {
            "colorbar": {
             "outlinewidth": 0,
             "ticks": ""
            },
            "colorscale": [
             [
              0,
              "#0d0887"
             ],
             [
              0.1111111111111111,
              "#46039f"
             ],
             [
              0.2222222222222222,
              "#7201a8"
             ],
             [
              0.3333333333333333,
              "#9c179e"
             ],
             [
              0.4444444444444444,
              "#bd3786"
             ],
             [
              0.5555555555555556,
              "#d8576b"
             ],
             [
              0.6666666666666666,
              "#ed7953"
             ],
             [
              0.7777777777777778,
              "#fb9f3a"
             ],
             [
              0.8888888888888888,
              "#fdca26"
             ],
             [
              1,
              "#f0f921"
             ]
            ],
            "type": "histogram2d"
           }
          ],
          "histogram2dcontour": [
           {
            "colorbar": {
             "outlinewidth": 0,
             "ticks": ""
            },
            "colorscale": [
             [
              0,
              "#0d0887"
             ],
             [
              0.1111111111111111,
              "#46039f"
             ],
             [
              0.2222222222222222,
              "#7201a8"
             ],
             [
              0.3333333333333333,
              "#9c179e"
             ],
             [
              0.4444444444444444,
              "#bd3786"
             ],
             [
              0.5555555555555556,
              "#d8576b"
             ],
             [
              0.6666666666666666,
              "#ed7953"
             ],
             [
              0.7777777777777778,
              "#fb9f3a"
             ],
             [
              0.8888888888888888,
              "#fdca26"
             ],
             [
              1,
              "#f0f921"
             ]
            ],
            "type": "histogram2dcontour"
           }
          ],
          "mesh3d": [
           {
            "colorbar": {
             "outlinewidth": 0,
             "ticks": ""
            },
            "type": "mesh3d"
           }
          ],
          "parcoords": [
           {
            "line": {
             "colorbar": {
              "outlinewidth": 0,
              "ticks": ""
             }
            },
            "type": "parcoords"
           }
          ],
          "pie": [
           {
            "automargin": true,
            "type": "pie"
           }
          ],
          "scatter": [
           {
            "fillpattern": {
             "fillmode": "overlay",
             "size": 10,
             "solidity": 0.2
            },
            "type": "scatter"
           }
          ],
          "scatter3d": [
           {
            "line": {
             "colorbar": {
              "outlinewidth": 0,
              "ticks": ""
             }
            },
            "marker": {
             "colorbar": {
              "outlinewidth": 0,
              "ticks": ""
             }
            },
            "type": "scatter3d"
           }
          ],
          "scattercarpet": [
           {
            "marker": {
             "colorbar": {
              "outlinewidth": 0,
              "ticks": ""
             }
            },
            "type": "scattercarpet"
           }
          ],
          "scattergeo": [
           {
            "marker": {
             "colorbar": {
              "outlinewidth": 0,
              "ticks": ""
             }
            },
            "type": "scattergeo"
           }
          ],
          "scattergl": [
           {
            "marker": {
             "colorbar": {
              "outlinewidth": 0,
              "ticks": ""
             }
            },
            "type": "scattergl"
           }
          ],
          "scattermapbox": [
           {
            "marker": {
             "colorbar": {
              "outlinewidth": 0,
              "ticks": ""
             }
            },
            "type": "scattermapbox"
           }
          ],
          "scatterpolar": [
           {
            "marker": {
             "colorbar": {
              "outlinewidth": 0,
              "ticks": ""
             }
            },
            "type": "scatterpolar"
           }
          ],
          "scatterpolargl": [
           {
            "marker": {
             "colorbar": {
              "outlinewidth": 0,
              "ticks": ""
             }
            },
            "type": "scatterpolargl"
           }
          ],
          "scatterternary": [
           {
            "marker": {
             "colorbar": {
              "outlinewidth": 0,
              "ticks": ""
             }
            },
            "type": "scatterternary"
           }
          ],
          "surface": [
           {
            "colorbar": {
             "outlinewidth": 0,
             "ticks": ""
            },
            "colorscale": [
             [
              0,
              "#0d0887"
             ],
             [
              0.1111111111111111,
              "#46039f"
             ],
             [
              0.2222222222222222,
              "#7201a8"
             ],
             [
              0.3333333333333333,
              "#9c179e"
             ],
             [
              0.4444444444444444,
              "#bd3786"
             ],
             [
              0.5555555555555556,
              "#d8576b"
             ],
             [
              0.6666666666666666,
              "#ed7953"
             ],
             [
              0.7777777777777778,
              "#fb9f3a"
             ],
             [
              0.8888888888888888,
              "#fdca26"
             ],
             [
              1,
              "#f0f921"
             ]
            ],
            "type": "surface"
           }
          ],
          "table": [
           {
            "cells": {
             "fill": {
              "color": "#EBF0F8"
             },
             "line": {
              "color": "white"
             }
            },
            "header": {
             "fill": {
              "color": "#C8D4E3"
             },
             "line": {
              "color": "white"
             }
            },
            "type": "table"
           }
          ]
         },
         "layout": {
          "annotationdefaults": {
           "arrowcolor": "#2a3f5f",
           "arrowhead": 0,
           "arrowwidth": 1
          },
          "autotypenumbers": "strict",
          "coloraxis": {
           "colorbar": {
            "outlinewidth": 0,
            "ticks": ""
           }
          },
          "colorscale": {
           "diverging": [
            [
             0,
             "#8e0152"
            ],
            [
             0.1,
             "#c51b7d"
            ],
            [
             0.2,
             "#de77ae"
            ],
            [
             0.3,
             "#f1b6da"
            ],
            [
             0.4,
             "#fde0ef"
            ],
            [
             0.5,
             "#f7f7f7"
            ],
            [
             0.6,
             "#e6f5d0"
            ],
            [
             0.7,
             "#b8e186"
            ],
            [
             0.8,
             "#7fbc41"
            ],
            [
             0.9,
             "#4d9221"
            ],
            [
             1,
             "#276419"
            ]
           ],
           "sequential": [
            [
             0,
             "#0d0887"
            ],
            [
             0.1111111111111111,
             "#46039f"
            ],
            [
             0.2222222222222222,
             "#7201a8"
            ],
            [
             0.3333333333333333,
             "#9c179e"
            ],
            [
             0.4444444444444444,
             "#bd3786"
            ],
            [
             0.5555555555555556,
             "#d8576b"
            ],
            [
             0.6666666666666666,
             "#ed7953"
            ],
            [
             0.7777777777777778,
             "#fb9f3a"
            ],
            [
             0.8888888888888888,
             "#fdca26"
            ],
            [
             1,
             "#f0f921"
            ]
           ],
           "sequentialminus": [
            [
             0,
             "#0d0887"
            ],
            [
             0.1111111111111111,
             "#46039f"
            ],
            [
             0.2222222222222222,
             "#7201a8"
            ],
            [
             0.3333333333333333,
             "#9c179e"
            ],
            [
             0.4444444444444444,
             "#bd3786"
            ],
            [
             0.5555555555555556,
             "#d8576b"
            ],
            [
             0.6666666666666666,
             "#ed7953"
            ],
            [
             0.7777777777777778,
             "#fb9f3a"
            ],
            [
             0.8888888888888888,
             "#fdca26"
            ],
            [
             1,
             "#f0f921"
            ]
           ]
          },
          "colorway": [
           "#636efa",
           "#EF553B",
           "#00cc96",
           "#ab63fa",
           "#FFA15A",
           "#19d3f3",
           "#FF6692",
           "#B6E880",
           "#FF97FF",
           "#FECB52"
          ],
          "font": {
           "color": "#2a3f5f"
          },
          "geo": {
           "bgcolor": "white",
           "lakecolor": "white",
           "landcolor": "#E5ECF6",
           "showlakes": true,
           "showland": true,
           "subunitcolor": "white"
          },
          "hoverlabel": {
           "align": "left"
          },
          "hovermode": "closest",
          "mapbox": {
           "style": "light"
          },
          "paper_bgcolor": "white",
          "plot_bgcolor": "#E5ECF6",
          "polar": {
           "angularaxis": {
            "gridcolor": "white",
            "linecolor": "white",
            "ticks": ""
           },
           "bgcolor": "#E5ECF6",
           "radialaxis": {
            "gridcolor": "white",
            "linecolor": "white",
            "ticks": ""
           }
          },
          "scene": {
           "xaxis": {
            "backgroundcolor": "#E5ECF6",
            "gridcolor": "white",
            "gridwidth": 2,
            "linecolor": "white",
            "showbackground": true,
            "ticks": "",
            "zerolinecolor": "white"
           },
           "yaxis": {
            "backgroundcolor": "#E5ECF6",
            "gridcolor": "white",
            "gridwidth": 2,
            "linecolor": "white",
            "showbackground": true,
            "ticks": "",
            "zerolinecolor": "white"
           },
           "zaxis": {
            "backgroundcolor": "#E5ECF6",
            "gridcolor": "white",
            "gridwidth": 2,
            "linecolor": "white",
            "showbackground": true,
            "ticks": "",
            "zerolinecolor": "white"
           }
          },
          "shapedefaults": {
           "line": {
            "color": "#2a3f5f"
           }
          },
          "ternary": {
           "aaxis": {
            "gridcolor": "white",
            "linecolor": "white",
            "ticks": ""
           },
           "baxis": {
            "gridcolor": "white",
            "linecolor": "white",
            "ticks": ""
           },
           "bgcolor": "#E5ECF6",
           "caxis": {
            "gridcolor": "white",
            "linecolor": "white",
            "ticks": ""
           }
          },
          "title": {
           "x": 0.05
          },
          "xaxis": {
           "automargin": true,
           "gridcolor": "white",
           "linecolor": "white",
           "ticks": "",
           "title": {
            "standoff": 15
           },
           "zerolinecolor": "white",
           "zerolinewidth": 2
          },
          "yaxis": {
           "automargin": true,
           "gridcolor": "white",
           "linecolor": "white",
           "ticks": "",
           "title": {
            "standoff": 15
           },
           "zerolinecolor": "white",
           "zerolinewidth": 2
          }
         }
        },
        "title": {
         "text": "Event visualizer"
        },
        "width": 1200
       }
      }
     },
     "metadata": {},
     "output_type": "display_data"
    }
   ],
   "source": [
    "\n",
    "fig.show()"
   ]
  },
  {
   "cell_type": "code",
   "execution_count": 207,
   "metadata": {},
   "outputs": [
    {
     "data": {
      "text/html": [
       "<div>\n",
       "<style scoped>\n",
       "    .dataframe tbody tr th:only-of-type {\n",
       "        vertical-align: middle;\n",
       "    }\n",
       "\n",
       "    .dataframe tbody tr th {\n",
       "        vertical-align: top;\n",
       "    }\n",
       "\n",
       "    .dataframe thead th {\n",
       "        text-align: right;\n",
       "    }\n",
       "</style>\n",
       "<table border=\"1\" class=\"dataframe\">\n",
       "  <thead>\n",
       "    <tr style=\"text-align: right;\">\n",
       "      <th></th>\n",
       "      <th>beamEnergy</th>\n",
       "      <th>rechits_x</th>\n",
       "      <th>rechits_y</th>\n",
       "      <th>rechits_z</th>\n",
       "      <th>rechits_energy</th>\n",
       "      <th>rechits_layer</th>\n",
       "      <th>rechits_rho</th>\n",
       "      <th>rechits_delta</th>\n",
       "      <th>rechits_nearestHigher</th>\n",
       "      <th>rechits_pointType</th>\n",
       "    </tr>\n",
       "    <tr>\n",
       "      <th>rechits_id</th>\n",
       "      <th></th>\n",
       "      <th></th>\n",
       "      <th></th>\n",
       "      <th></th>\n",
       "      <th></th>\n",
       "      <th></th>\n",
       "      <th></th>\n",
       "      <th></th>\n",
       "      <th></th>\n",
       "      <th></th>\n",
       "    </tr>\n",
       "  </thead>\n",
       "  <tbody>\n",
       "    <tr>\n",
       "      <th>25</th>\n",
       "      <td>20.0</td>\n",
       "      <td>1.732805</td>\n",
       "      <td>0.685358</td>\n",
       "      <td>16.782499</td>\n",
       "      <td>0.024450</td>\n",
       "      <td>3</td>\n",
       "      <td>0.310677</td>\n",
       "      <td>0.000</td>\n",
       "      <td>26</td>\n",
       "      <td>0</td>\n",
       "    </tr>\n",
       "    <tr>\n",
       "      <th>26</th>\n",
       "      <td>20.0</td>\n",
       "      <td>1.732805</td>\n",
       "      <td>0.685358</td>\n",
       "      <td>16.782499</td>\n",
       "      <td>0.071707</td>\n",
       "      <td>3</td>\n",
       "      <td>0.334306</td>\n",
       "      <td>1.125</td>\n",
       "      <td>17</td>\n",
       "      <td>0</td>\n",
       "    </tr>\n",
       "  </tbody>\n",
       "</table>\n",
       "</div>"
      ],
      "text/plain": [
       "            beamEnergy  rechits_x  ...  rechits_nearestHigher  rechits_pointType\n",
       "rechits_id                         ...                                          \n",
       "25                20.0   1.732805  ...                     26                  0\n",
       "26                20.0   1.732805  ...                     17                  0\n",
       "\n",
       "[2 rows x 10 columns]"
      ]
     },
     "execution_count": 207,
     "metadata": {},
     "output_type": "execute_result"
    }
   ],
   "source": [
    "comp.rechits.loc[event].loc[25:26]"
   ]
  },
  {
   "cell_type": "code",
   "execution_count": 235,
   "metadata": {},
   "outputs": [
    {
     "data": {
      "text/html": [
       "<div>\n",
       "<style scoped>\n",
       "    .dataframe tbody tr th:only-of-type {\n",
       "        vertical-align: middle;\n",
       "    }\n",
       "\n",
       "    .dataframe tbody tr th {\n",
       "        vertical-align: top;\n",
       "    }\n",
       "\n",
       "    .dataframe thead th {\n",
       "        text-align: right;\n",
       "    }\n",
       "</style>\n",
       "<table border=\"1\" class=\"dataframe\">\n",
       "  <thead>\n",
       "    <tr style=\"text-align: right;\">\n",
       "      <th></th>\n",
       "      <th>beamEnergy</th>\n",
       "      <th>rechits_x</th>\n",
       "      <th>rechits_y</th>\n",
       "      <th>rechits_z</th>\n",
       "      <th>rechits_energy</th>\n",
       "      <th>rechits_layer</th>\n",
       "      <th>rechits_rho</th>\n",
       "      <th>rechits_delta</th>\n",
       "      <th>rechits_nearestHigher</th>\n",
       "      <th>rechits_pointType</th>\n",
       "    </tr>\n",
       "    <tr>\n",
       "      <th>rechits_id</th>\n",
       "      <th></th>\n",
       "      <th></th>\n",
       "      <th></th>\n",
       "      <th></th>\n",
       "      <th></th>\n",
       "      <th></th>\n",
       "      <th></th>\n",
       "      <th></th>\n",
       "      <th></th>\n",
       "      <th></th>\n",
       "    </tr>\n",
       "  </thead>\n",
       "  <tbody>\n",
       "    <tr>\n",
       "      <th>0</th>\n",
       "      <td>20.0</td>\n",
       "      <td>3.626411</td>\n",
       "      <td>-1.587286</td>\n",
       "      <td>13.877500</td>\n",
       "      <td>0.021062</td>\n",
       "      <td>1</td>\n",
       "      <td>0.061886</td>\n",
       "      <td>1.125173e+00</td>\n",
       "      <td>1</td>\n",
       "      <td>0</td>\n",
       "    </tr>\n",
       "    <tr>\n",
       "      <th>1</th>\n",
       "      <td>20.0</td>\n",
       "      <td>2.651933</td>\n",
       "      <td>-1.024786</td>\n",
       "      <td>13.877500</td>\n",
       "      <td>0.081648</td>\n",
       "      <td>1</td>\n",
       "      <td>0.194167</td>\n",
       "      <td>1.125303e+00</td>\n",
       "      <td>2</td>\n",
       "      <td>0</td>\n",
       "    </tr>\n",
       "    <tr>\n",
       "      <th>2</th>\n",
       "      <td>20.0</td>\n",
       "      <td>1.677445</td>\n",
       "      <td>-0.462042</td>\n",
       "      <td>13.877500</td>\n",
       "      <td>0.203976</td>\n",
       "      <td>1</td>\n",
       "      <td>0.244800</td>\n",
       "      <td>3.402823e+38</td>\n",
       "      <td>-1</td>\n",
       "      <td>1</td>\n",
       "    </tr>\n",
       "    <tr>\n",
       "      <th>3</th>\n",
       "      <td>20.0</td>\n",
       "      <td>1.677445</td>\n",
       "      <td>-2.712539</td>\n",
       "      <td>13.877500</td>\n",
       "      <td>0.200998</td>\n",
       "      <td>1</td>\n",
       "      <td>0.200998</td>\n",
       "      <td>2.250497e+00</td>\n",
       "      <td>2</td>\n",
       "      <td>1</td>\n",
       "    </tr>\n",
       "    <tr>\n",
       "      <th>4</th>\n",
       "      <td>20.0</td>\n",
       "      <td>0.703080</td>\n",
       "      <td>1.225458</td>\n",
       "      <td>13.877500</td>\n",
       "      <td>0.014758</td>\n",
       "      <td>1</td>\n",
       "      <td>0.014758</td>\n",
       "      <td>1.948601e+00</td>\n",
       "      <td>2</td>\n",
       "      <td>1</td>\n",
       "    </tr>\n",
       "    <tr>\n",
       "      <th>...</th>\n",
       "      <td>...</td>\n",
       "      <td>...</td>\n",
       "      <td>...</td>\n",
       "      <td>...</td>\n",
       "      <td>...</td>\n",
       "      <td>...</td>\n",
       "      <td>...</td>\n",
       "      <td>...</td>\n",
       "      <td>...</td>\n",
       "      <td>...</td>\n",
       "    </tr>\n",
       "    <tr>\n",
       "      <th>279</th>\n",
       "      <td>20.0</td>\n",
       "      <td>5.925315</td>\n",
       "      <td>-3.654544</td>\n",
       "      <td>49.681999</td>\n",
       "      <td>0.047627</td>\n",
       "      <td>25</td>\n",
       "      <td>0.047627</td>\n",
       "      <td>3.402823e+38</td>\n",
       "      <td>-1</td>\n",
       "      <td>1</td>\n",
       "    </tr>\n",
       "    <tr>\n",
       "      <th>280</th>\n",
       "      <td>20.0</td>\n",
       "      <td>3.981021</td>\n",
       "      <td>1.907357</td>\n",
       "      <td>52.881500</td>\n",
       "      <td>0.022236</td>\n",
       "      <td>27</td>\n",
       "      <td>0.022236</td>\n",
       "      <td>1.911437e+00</td>\n",
       "      <td>282</td>\n",
       "      <td>1</td>\n",
       "    </tr>\n",
       "    <tr>\n",
       "      <th>281</th>\n",
       "      <td>20.0</td>\n",
       "      <td>3.981021</td>\n",
       "      <td>-0.343132</td>\n",
       "      <td>52.881500</td>\n",
       "      <td>0.015394</td>\n",
       "      <td>27</td>\n",
       "      <td>0.033082</td>\n",
       "      <td>1.094088e+00</td>\n",
       "      <td>282</td>\n",
       "      <td>0</td>\n",
       "    </tr>\n",
       "    <tr>\n",
       "      <th>282</th>\n",
       "      <td>20.0</td>\n",
       "      <td>3.052983</td>\n",
       "      <td>0.236328</td>\n",
       "      <td>52.881500</td>\n",
       "      <td>0.035375</td>\n",
       "      <td>27</td>\n",
       "      <td>0.043072</td>\n",
       "      <td>3.402823e+38</td>\n",
       "      <td>-1</td>\n",
       "      <td>1</td>\n",
       "    </tr>\n",
       "    <tr>\n",
       "      <th>283</th>\n",
       "      <td>20.0</td>\n",
       "      <td>2.078496</td>\n",
       "      <td>-1.451416</td>\n",
       "      <td>52.881500</td>\n",
       "      <td>0.018839</td>\n",
       "      <td>27</td>\n",
       "      <td>0.018839</td>\n",
       "      <td>1.948873e+00</td>\n",
       "      <td>282</td>\n",
       "      <td>1</td>\n",
       "    </tr>\n",
       "  </tbody>\n",
       "</table>\n",
       "<p>284 rows × 10 columns</p>\n",
       "</div>"
      ],
      "text/plain": [
       "            beamEnergy  rechits_x  ...  rechits_nearestHigher  rechits_pointType\n",
       "rechits_id                         ...                                          \n",
       "0                 20.0   3.626411  ...                      1                  0\n",
       "1                 20.0   2.651933  ...                      2                  0\n",
       "2                 20.0   1.677445  ...                     -1                  1\n",
       "3                 20.0   1.677445  ...                      2                  1\n",
       "4                 20.0   0.703080  ...                      2                  1\n",
       "...                ...        ...  ...                    ...                ...\n",
       "279               20.0   5.925315  ...                     -1                  1\n",
       "280               20.0   3.981021  ...                    282                  1\n",
       "281               20.0   3.981021  ...                    282                  0\n",
       "282               20.0   3.052983  ...                     -1                  1\n",
       "283               20.0   2.078496  ...                    282                  1\n",
       "\n",
       "[284 rows x 10 columns]"
      ]
     },
     "execution_count": 235,
     "metadata": {},
     "output_type": "execute_result"
    }
   ],
   "source": [
    "comp.rechits.loc[event]"
   ]
  },
  {
   "cell_type": "code",
   "execution_count": 236,
   "metadata": {},
   "outputs": [
    {
     "data": {
      "text/html": [
       "<pre>{beamEnergy: 20,\n",
       " ntupleNumber: 441,\n",
       " NRechits: 346,\n",
       " impactX: [3.18, 3.18, 3.18, 3.18, 3.18, ..., 3.25, 3.26, 3.26, 3.27, 3.27],\n",
       " impactY: [-1.01, -1.01, -1.01, -1.01, -1.01, ..., -1.07, -1.07, -1.07, -1.08],\n",
       " DWC_passes_cuts: True,\n",
       " rechits_x: [3.63, 2.65, 1.68, 1.68, 0.703, ..., 5.93, 3.98, 3.98, 3.05, 2.08],\n",
       " rechits_y: [-1.59, -1.02, -0.462, -2.71, ..., 1.91, -0.343, 0.236, -1.45],\n",
       " rechits_z: [13.9, 13.9, 13.9, 13.9, 13.9, ..., 49.7, 52.9, 52.9, 52.9, 52.9],\n",
       " rechits_energy: [0.0211, 0.0816, 0.204, 0.201, ..., 0.0154, 0.0354, 0.0188],\n",
       " rechits_layer: [1, 1, 1, 1, 1, 2, 2, 2, ..., 23, 23, 25, 25, 27, 27, 27, 27],\n",
       " rechits_rho: [0.0619, 0.194, 0.245, 0.201, ..., 0.0331, 0.0431, 0.0188],\n",
       " rechits_delta: [1.13, 1.13, 3.4e+38, 2.25, ..., 1.91, 1.09, 3.4e+38, 1.95],\n",
       " rechits_nearestHigher: [1, 2, -1, 2, 2, 7, 8, ..., -1, -1, 282, 282, -1, 282],\n",
       " rechits_pointType: [0, 0, 1, 1, 1, 0, 0, 0, 0, ..., 2, 1, 0, 2, 1, 1, 0, 1, 1],\n",
       " clus2D_x: [2.06, 2.32, 2.03, 2.08, 2.76, ..., 0.995, 2.94, 2.46, 3.59, 3.43],\n",
       " clus2D_y: [-0.68, -0.81, -0.902, -0.77, ..., -1.97, -2.83, -0.502, 0.00338],\n",
       " clus2D_z: [13.9, 14.8, 16.8, 17.7, 19.7, 20.6, ..., 38, 39.9, 44, 46.4, 52.9],\n",
       " clus2D_energy: [0.307, 0.8, 1.3, 1.46, ..., 0.0312, 0.0343, 0.063, 0.0508],\n",
       " ...}\n",
       "--------------------------------------------------------------------------------\n",
       "type: {\n",
       "    beamEnergy: float32,\n",
       "    ntupleNumber: uint16,\n",
       "    NRechits: uint32,\n",
       "    impactX: var * float32,\n",
       "    impactY: var * float32,\n",
       "    DWC_passes_cuts: bool,\n",
       "    rechits_x: var * float32,\n",
       "    rechits_y: var * float32,\n",
       "    rechits_z: var * float32,\n",
       "    rechits_energy: var * float32,\n",
       "    rechits_layer: var * uint32,\n",
       "    rechits_rho: var * float32,\n",
       "    rechits_delta: var * float32,\n",
       "    rechits_nearestHigher: var * int32,\n",
       "    rechits_pointType: var * int8,\n",
       "    clus2D_x: var * float32,\n",
       "    clus2D_y: var * float32,\n",
       "    clus2D_z: var * float32,\n",
       "    clus2D_energy: var * float32,\n",
       "    clus2D_layer: var * int32,\n",
       "    clus2D_size: var * int32,\n",
       "    clus2D_idxs: var * var * int32,\n",
       "    clus2D_rho: var * float32,\n",
       "    clus2D_delta: var * float32,\n",
       "    clus2D_nearestHigher: var * int32,\n",
       "    clus2D_pointType: var * int8,\n",
       "    clus3D_x: var * float32,\n",
       "    clus3D_y: var * float32,\n",
       "    clus3D_z: var * float32,\n",
       "    clus3D_energy: var * float32,\n",
       "    clus3D_layer: var * int32,\n",
       "    clus3D_size: var * int32,\n",
       "    clus3D_idxs: var * var * int32\n",
       "}</pre>"
      ],
      "text/plain": [
       "<Record {beamEnergy: 20, ntupleNumber: 441, ...} type='{beamEnergy: float32...'>"
      ]
     },
     "execution_count": 236,
     "metadata": {},
     "output_type": "execute_result"
    }
   ],
   "source": [
    "comp.array[98]"
   ]
  },
  {
   "cell_type": "code",
   "execution_count": null,
   "metadata": {},
   "outputs": [],
   "source": []
  }
 ],
 "metadata": {
  "kernelspec": {
   "display_name": "Python 3",
   "language": "python",
   "name": "python3"
  },
  "language_info": {
   "codemirror_mode": {
    "name": "ipython",
    "version": 3
   },
   "file_extension": ".py",
   "mimetype": "text/x-python",
   "name": "python",
   "nbconvert_exporter": "python",
   "pygments_lexer": "ipython3",
   "version": "3.11.0"
  },
  "orig_nbformat": 4
 },
 "nbformat": 4,
 "nbformat_minor": 2
}
