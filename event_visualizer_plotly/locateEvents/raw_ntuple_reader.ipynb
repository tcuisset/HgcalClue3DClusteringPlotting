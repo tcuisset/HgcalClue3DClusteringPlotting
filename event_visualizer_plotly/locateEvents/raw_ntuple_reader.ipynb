{
 "cells": [
  {
   "cell_type": "code",
   "execution_count": 1,
   "metadata": {},
   "outputs": [],
   "source": [
    "import os\n",
    "\n",
    "import uproot\n",
    "import awkward as ak"
   ]
  },
  {
   "cell_type": "code",
   "execution_count": 2,
   "metadata": {},
   "outputs": [],
   "source": [
    "energy = \"100\"\n",
    "ntupleNumber = 0\n",
    "os.environ[\"X509_USER_PROXY\"]=\"~/.t3/proxy.cert\"\n",
    "\n",
    "file = uproot.open(os.path.join(\"root://eoscms.cern.ch//\", \"eos/cms/store/group/dpg_hgcal/tb_hgcal/2018/cern_h2_october/offline_analysis/sim_ntuples/CMSSW11_0_withAHCAL_newBeamline/FTFP_BERT_EMN/\",\n",
    "    \"v46_patchMIP\", f\"electrons/ntuple_sim_config22_pdgID11_beamMomentum{energy}_listFTFP_BERT_EMN_0000_{ntupleNumber}.root\"))\n",
    "tree = file[\"rechitntupler/hits\"]"
   ]
  },
  {
   "cell_type": "code",
   "execution_count": 3,
   "metadata": {},
   "outputs": [],
   "source": [
    "event = 2876\n",
    "event_data = tree.arrays(entry_start=event-2, entry_stop=event+2, cut=f\"event=={event}\")"
   ]
  },
  {
   "cell_type": "code",
   "execution_count": 5,
   "metadata": {},
   "outputs": [
    {
     "data": {
      "text/html": [
       "<pre>[{rechit_energy: 0.914, rechit_layer: 1},\n",
       " {rechit_energy: 0.987, rechit_layer: 2},\n",
       " {rechit_energy: 1.04, rechit_layer: 3},\n",
       " {rechit_energy: 0.941, rechit_layer: 4},\n",
       " {rechit_energy: 0.932, rechit_layer: 5},\n",
       " {rechit_energy: 1.46, rechit_layer: 6},\n",
       " {rechit_energy: 1.43, rechit_layer: 7},\n",
       " {rechit_energy: 1.4, rechit_layer: 8},\n",
       " {rechit_energy: 0.886, rechit_layer: 9},\n",
       " {rechit_energy: 1.14, rechit_layer: 10},\n",
       " ...,\n",
       " {rechit_energy: 0.834, rechit_layer: 37},\n",
       " {rechit_energy: 3.31, rechit_layer: 37},\n",
       " {rechit_energy: 1.16, rechit_layer: 37},\n",
       " {rechit_energy: 0.847, rechit_layer: 37},\n",
       " {rechit_energy: 2.83, rechit_layer: 37},\n",
       " {rechit_energy: 0.469, rechit_layer: 37},\n",
       " {rechit_energy: 2.37, rechit_layer: 37},\n",
       " {rechit_energy: 2.87, rechit_layer: 38},\n",
       " {rechit_energy: 0.181, rechit_layer: 38}]\n",
       "------------------------------------------\n",
       "type: 427 * {\n",
       "    rechit_energy: float32,\n",
       "    rechit_layer: uint32\n",
       "}</pre>"
      ],
      "text/plain": [
       "<Array [{rechit_energy: 0.914, ...}, ...] type='427 * {rechit_energy: float...'>"
      ]
     },
     "execution_count": 5,
     "metadata": {},
     "output_type": "execute_result"
    }
   ],
   "source": [
    "record = event_data[0][[\"rechit_energy\", \"rechit_layer\"]]\n",
    "energy_layer = ak.zip({key : record[key] for key in record.fields})#[:, event_data.rechit_layer > 28]\n",
    "energy_layer"
   ]
  },
  {
   "cell_type": "code",
   "execution_count": 54,
   "metadata": {},
   "outputs": [
    {
     "data": {
      "text/html": [
       "<pre>[{rechit_energy: 12.1, rechit_layer: 29},\n",
       " {rechit_energy: 2.63, rechit_layer: 29},\n",
       " {rechit_energy: 1.82, rechit_layer: 29},\n",
       " {rechit_energy: 1.19, rechit_layer: 29},\n",
       " {rechit_energy: 1.73, rechit_layer: 29},\n",
       " {rechit_energy: 6.1, rechit_layer: 29},\n",
       " {rechit_energy: 8.2, rechit_layer: 29},\n",
       " {rechit_energy: 6.41, rechit_layer: 29},\n",
       " {rechit_energy: 3.64, rechit_layer: 29},\n",
       " {rechit_energy: 4.17, rechit_layer: 29},\n",
       " ...,\n",
       " {rechit_energy: 1.12, rechit_layer: 37},\n",
       " {rechit_energy: 1.57, rechit_layer: 37},\n",
       " {rechit_energy: 11.5, rechit_layer: 37},\n",
       " {rechit_energy: 1.31, rechit_layer: 38},\n",
       " {rechit_energy: 2.11, rechit_layer: 38},\n",
       " {rechit_energy: 3.07, rechit_layer: 38},\n",
       " {rechit_energy: 0.438, rechit_layer: 38},\n",
       " {rechit_energy: 7.9, rechit_layer: 39},\n",
       " {rechit_energy: 1.15, rechit_layer: 39}]\n",
       "------------------------------------------\n",
       "type: 211 * {\n",
       "    rechit_energy: float32,\n",
       "    rechit_layer: uint32\n",
       "}</pre>"
      ],
      "text/plain": [
       "<Array [{rechit_energy: 12.1, ...}, ..., {...}] type='211 * {rechit_energy:...'>"
      ]
     },
     "execution_count": 54,
     "metadata": {},
     "output_type": "execute_result"
    }
   ],
   "source": [
    "energy_layer[energy_layer.rechit_layer > 28]"
   ]
  },
  {
   "cell_type": "code",
   "execution_count": 10,
   "metadata": {},
   "outputs": [
    {
     "data": {
      "text/plain": [
       "354"
      ]
     },
     "execution_count": 10,
     "metadata": {},
     "output_type": "execute_result"
    }
   ],
   "source": [
    "ak.count(energy_layer.rechit_energy[energy_layer.rechit_layer > 28])"
   ]
  }
 ],
 "metadata": {
  "kernelspec": {
   "display_name": "clustering-analysis",
   "language": "python",
   "name": "python3"
  },
  "language_info": {
   "codemirror_mode": {
    "name": "ipython",
    "version": 3
   },
   "file_extension": ".py",
   "mimetype": "text/x-python",
   "name": "python",
   "nbconvert_exporter": "python",
   "pygments_lexer": "ipython3",
   "version": "3.10.10"
  },
  "orig_nbformat": 4
 },
 "nbformat": 4,
 "nbformat_minor": 2
}
