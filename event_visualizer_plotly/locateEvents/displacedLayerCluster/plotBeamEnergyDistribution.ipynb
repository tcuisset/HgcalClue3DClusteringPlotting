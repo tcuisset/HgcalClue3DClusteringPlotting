{
 "cells": [
  {
   "cell_type": "code",
   "execution_count": null,
   "metadata": {},
   "outputs": [],
   "source": []
  },
  {
   "cell_type": "code",
   "execution_count": null,
   "metadata": {},
   "outputs": [],
   "source": [
    "import hists.custom_hists\n",
    "hist_folder = '/grid_mnt/data_cms_upgrade/cuisset/testbeam18/clue3d/v37'\n",
    "clueParams = \"cmssw\"\n",
    "histStore = HistogramStore(hist_folder, HistogramId)\n",
    "#eventsPerBeamEnergy = histStore.get(HistogramId(\"EventsPerBeamEnergy\", clueParams, datatype)).getHistogram(HistogramKind.COUNT)\n",
    "def fillHistogram(result_df:pd.DataFrame):\n",
    "    h = hist.Hist(hists.custom_hists.beamEnergiesAxis, hists.custom_hists.layerAxis_custom())\n",
    "    h.fill(result_df.beamEnergy, result_df.clus2D_layer)"
   ]
  }
 ],
 "metadata": {
  "language_info": {
   "name": "python"
  },
  "orig_nbformat": 4
 },
 "nbformat": 4,
 "nbformat_minor": 2
}
