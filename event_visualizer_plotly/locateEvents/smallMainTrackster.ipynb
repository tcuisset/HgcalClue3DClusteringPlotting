{
 "cells": [
  {
   "cell_type": "code",
   "execution_count": 20,
   "metadata": {},
   "outputs": [
    {
     "name": "stdout",
     "output_type": "stream",
     "text": [
      "The autoreload extension is already loaded. To reload it, use:\n",
      "  %reload_ext autoreload\n"
     ]
    }
   ],
   "source": [
    "%load_ext autoreload\n",
    "%autoreload 2\n",
    "import math\n",
    "import sys\n",
    "import os\n",
    "\n",
    "import uproot\n",
    "import numpy as np\n",
    "import pandas as pd\n",
    "import awkward as ak\n",
    "\n",
    "import matplotlib\n",
    "import matplotlib.ticker as mtick\n",
    "import matplotlib.pyplot as plt\n",
    "import mplhep as hep\n",
    "plt.style.use(hep.style.CMS)\n",
    "\n",
    "sys.path.append(\"../..\")\n",
    "from hists.parameters import synchrotronBeamEnergiesMap, beamEnergies\n",
    "from ratios_utils import makeFrequencyPerBeamEnergy\n",
    "from HistogramLib.store import HistogramStore\n",
    "from hists.store import HistogramId"
   ]
  },
  {
   "cell_type": "code",
   "execution_count": 21,
   "metadata": {},
   "outputs": [],
   "source": [
    "hist_folder = '/grid_mnt/data_cms_upgrade/cuisset/testbeam18/clue3d/v38'\n",
    "clueParams = \"cmssw\"\n",
    "histStore = HistogramStore(hist_folder, HistogramId)\n",
    "datatypeToLegendMap = {\"data\":\"Data\", \"sim_proton_v46_patchMIP\":\"Simulation\"}\n",
    "datatypes = [\"data\", \"sim_proton_v46_patchMIP\"]\n",
    "\n",
    "def loadTree(datatype):\n",
    "    path = os.path.join(hist_folder, clueParams, datatype, \"CLUE_clusters.root:clusters\")\n",
    "    tree = uproot.open(path)\n",
    "    return tree"
   ]
  },
  {
   "cell_type": "code",
   "execution_count": 22,
   "metadata": {},
   "outputs": [],
   "source": [
    "def findEventsWithSmallMainTrackster(tree, sizeThreshold=20, energyFractionThreshold=0.7, stopAfter=math.inf):\n",
    "    \"\"\" Find events where the main trackster size is less than sizeThreshold\n",
    "    \"\"\"\n",
    "    filtered_arrays = []\n",
    "    count = 0\n",
    "    for array in tree.iterate(step_size=\"100MB\", library=\"ak\", \n",
    "            filter_name=[\"event\", \"ntupleNumber\", \"beamEnergy\", \"rechits_energy\", \"clus3D_size\"]):\n",
    "        cut = ak.max(array.clus3D_size, axis=-1) < sizeThreshold\n",
    "        cut = cut & (ak.sum(array.rechits_energy, axis=-1)<array.beamEnergy*energyFractionThreshold)\n",
    "        filtered_arrays.append(ak.copy(array[cut]))\n",
    "        count += np.sum(cut)\n",
    "        if count > stopAfter:\n",
    "            break\n",
    "    return ak.drop_none(ak.concatenate(filtered_arrays))"
   ]
  },
  {
   "cell_type": "code",
   "execution_count": 24,
   "metadata": {},
   "outputs": [
    {
     "data": {
      "text/plain": [
       "{'data': <Array [{beamEnergy: 20, ...}, ..., {...}] type='15 * {beamEnergy: float32,...'>,\n",
       " 'sim_proton_v46_patchMIP': <Array [{beamEnergy: 100, ...}, ..., {...}] type='458 * {beamEnergy: float3...'>}"
      ]
     },
     "execution_count": 24,
     "metadata": {},
     "output_type": "execute_result"
    }
   ],
   "source": [
    "smallTracksterEvents = {datatype : findEventsWithSmallMainTrackster(loadTree(datatype), 15) for datatype in datatypes}\n",
    "smallTracksterEvents"
   ]
  },
  {
   "cell_type": "code",
   "execution_count": 25,
   "metadata": {},
   "outputs": [
    {
     "data": {
      "text/html": [
       "<pre>[{beamEnergy: 100, ntupleNumber: 1, event: 6299, rechits_energy: [...], ...},\n",
       " {beamEnergy: 100, ntupleNumber: 2, event: 3088, rechits_energy: [...], ...},\n",
       " {beamEnergy: 100, ntupleNumber: 4, event: 14161, rechits_energy: [...], ...},\n",
       " {beamEnergy: 100, ntupleNumber: 4, event: 17908, rechits_energy: [...], ...},\n",
       " {beamEnergy: 120, ntupleNumber: 1, event: 8863, rechits_energy: [...], ...},\n",
       " {beamEnergy: 120, ntupleNumber: 2, event: 5981, rechits_energy: [...], ...},\n",
       " {beamEnergy: 120, ntupleNumber: 2, event: 13752, rechits_energy: [...], ...},\n",
       " {beamEnergy: 150, ntupleNumber: 0, event: 18228, rechits_energy: [...], ...},\n",
       " {beamEnergy: 150, ntupleNumber: 1, event: 9645, rechits_energy: [...], ...},\n",
       " {beamEnergy: 150, ntupleNumber: 2, event: 14267, rechits_energy: [...], ...},\n",
       " ...,\n",
       " {beamEnergy: 50, ntupleNumber: 4, event: 388, rechits_energy: [...], ...},\n",
       " {beamEnergy: 50, ntupleNumber: 4, event: 9508, rechits_energy: [...], ...},\n",
       " {beamEnergy: 50, ntupleNumber: 4, event: 12074, rechits_energy: [...], ...},\n",
       " {beamEnergy: 50, ntupleNumber: 4, event: 14689, rechits_energy: [...], ...},\n",
       " {beamEnergy: 50, ntupleNumber: 4, event: 16557, rechits_energy: [...], ...},\n",
       " {beamEnergy: 80, ntupleNumber: 0, event: 2276, rechits_energy: [...], ...},\n",
       " {beamEnergy: 80, ntupleNumber: 0, event: 18092, rechits_energy: [...], ...},\n",
       " {beamEnergy: 80, ntupleNumber: 3, event: 16756, rechits_energy: [...], ...},\n",
       " {beamEnergy: 80, ntupleNumber: 4, event: 6939, rechits_energy: [...], ...}]\n",
       "------------------------------------------------------------------------------\n",
       "type: 458 * {\n",
       "    beamEnergy: float32,\n",
       "    ntupleNumber: uint16,\n",
       "    event: uint32,\n",
       "    rechits_energy: var * float32,\n",
       "    clus3D_size: var * int32\n",
       "}</pre>"
      ],
      "text/plain": [
       "<Array [{beamEnergy: 100, ...}, ..., {...}] type='458 * {beamEnergy: float3...'>"
      ]
     },
     "execution_count": 25,
     "metadata": {},
     "output_type": "execute_result"
    }
   ],
   "source": [
    "smallTracksterEvents[\"sim_proton_v46_patchMIP\"]"
   ]
  },
  {
   "cell_type": "code",
   "execution_count": 26,
   "metadata": {},
   "outputs": [],
   "source": [
    "def plotFrequencyPerBeamEnergy(series_dict:dict[str, pd.Series], settings:dict=dict(), ax=None, alternative_hypothesis=\"two-sided\", datatypeToLegendMap={\"data\":\"Data\", \"sim_proton_v46_patchMIP\":\"Simulation\"}):\n",
    "    \"\"\" Plot the frequency of occurence per beam energy, given a set of beam energy values to histogram\n",
    "    Parameters : \n",
    "     - series : datatype -> (series of beam energies to histogram)\n",
    "     - settings : dict to plot on top right\n",
    "     - alternative_hypothesis : two-sided or greater \n",
    "    \"\"\"\n",
    "    if ax is None:\n",
    "        fig, ax = plt.subplots()\n",
    "    \n",
    "    errorbar_kwargs = dict()\n",
    "    if alternative_hypothesis == \"greater\":\n",
    "        errorbar_kwargs[\"lolims\"] = True\n",
    "\n",
    "    offset_x = 3\n",
    "    cur_offset = 0\n",
    "    for datatype, series in series_dict.items():\n",
    "        ratio_val, ratio_errors = makeFrequencyPerBeamEnergy(histStore, clueParams, series, datatype)\n",
    "        ax.errorbar(x=np.array(beamEnergies)+cur_offset, y=ratio_val, yerr=ratio_errors, fmt=\"o-\", #ecolor=\"black\", \n",
    "                     label=datatypeToLegendMap.get(datatype, datatype), **errorbar_kwargs)\n",
    "        cur_offset += offset_x\n",
    "\n",
    "    ax.yaxis.set_major_formatter(mtick.PercentFormatter(1.))\n",
    "    ax.set_xlabel(\"Beam energy (GeV)\")\n",
    "    ax.set_ylabel(\"Fraction of small-main-trackster events\")\n",
    "    hep.cms.text(\"Preliminary\", ax=ax)\n",
    "    hep.cms.lumitext(\" \".join([f\"{key}={val}\" for key, val in settings.items()]) + \" $e^+$ TB\", ax=ax, fontsize=15)\n",
    "    ax.legend()\n",
    "    return fig, ax\n",
    "    #return ratio_val, ratio_errors"
   ]
  },
  {
   "cell_type": "code",
   "execution_count": 27,
   "metadata": {},
   "outputs": [
    {
     "ename": "FileNotFoundError",
     "evalue": "[Errno 2] No such file or directory: '/grid_mnt/data_cms_upgrade/cuisset/testbeam18/clue3d/v38/cmssw/data/EventsPerBeamEnergy.pickle'",
     "output_type": "error",
     "traceback": [
      "\u001b[0;31m---------------------------------------------------------------------------\u001b[0m",
      "\u001b[0;31mFileNotFoundError\u001b[0m                         Traceback (most recent call last)",
      "Cell \u001b[0;32mIn[27], line 1\u001b[0m\n\u001b[0;32m----> 1\u001b[0m plotFrequencyPerBeamEnergy({datatype : tree\u001b[39m.\u001b[39;49mbeamEnergy \u001b[39mfor\u001b[39;49;00m datatype, tree \u001b[39min\u001b[39;49;00m smallTracksterEvents\u001b[39m.\u001b[39;49mitems()})\n",
      "Cell \u001b[0;32mIn[26], line 18\u001b[0m, in \u001b[0;36mplotFrequencyPerBeamEnergy\u001b[0;34m(series_dict, settings, ax, alternative_hypothesis, datatypeToLegendMap)\u001b[0m\n\u001b[1;32m     16\u001b[0m cur_offset \u001b[39m=\u001b[39m \u001b[39m0\u001b[39m\n\u001b[1;32m     17\u001b[0m \u001b[39mfor\u001b[39;00m datatype, series \u001b[39min\u001b[39;00m series_dict\u001b[39m.\u001b[39mitems():\n\u001b[0;32m---> 18\u001b[0m     ratio_val, ratio_errors \u001b[39m=\u001b[39m makeFrequencyPerBeamEnergy(histStore, clueParams, series, datatype)\n\u001b[1;32m     19\u001b[0m     ax\u001b[39m.\u001b[39merrorbar(x\u001b[39m=\u001b[39mnp\u001b[39m.\u001b[39marray(beamEnergies)\u001b[39m+\u001b[39mcur_offset, y\u001b[39m=\u001b[39mratio_val, yerr\u001b[39m=\u001b[39mratio_errors, fmt\u001b[39m=\u001b[39m\u001b[39m\"\u001b[39m\u001b[39mo-\u001b[39m\u001b[39m\"\u001b[39m, \u001b[39m#ecolor=\"black\", \u001b[39;00m\n\u001b[1;32m     20\u001b[0m                  label\u001b[39m=\u001b[39mdatatypeToLegendMap\u001b[39m.\u001b[39mget(datatype, datatype), \u001b[39m*\u001b[39m\u001b[39m*\u001b[39merrorbar_kwargs)\n\u001b[1;32m     21\u001b[0m     cur_offset \u001b[39m+\u001b[39m\u001b[39m=\u001b[39m offset_x\n",
      "File \u001b[0;32m/grid_mnt/vol_home/llr/cms/cuisset/hgcal/testbeam18/clue3d-dev/src/Plotting/event_visualizer_plotly/locateEvents/ratios_utils.py:17\u001b[0m, in \u001b[0;36mmakeFrequencyPerBeamEnergy\u001b[0;34m(histStore, clueParams, series, datatype, alternative_hypothesis)\u001b[0m\n\u001b[1;32m     12\u001b[0m \u001b[39mdef\u001b[39;00m \u001b[39mmakeFrequencyPerBeamEnergy\u001b[39m(histStore:HistogramStore, clueParams, series:pd\u001b[39m.\u001b[39mSeries, datatype, alternative_hypothesis\u001b[39m=\u001b[39m\u001b[39m\"\u001b[39m\u001b[39mtwo-sided\u001b[39m\u001b[39m\"\u001b[39m):\n\u001b[1;32m     13\u001b[0m \u001b[39m    \u001b[39m\u001b[39m\"\"\" Make ratio of frequency of occurence per beam energy\u001b[39;00m\n\u001b[1;32m     14\u001b[0m \u001b[39m    Parameters : \u001b[39;00m\n\u001b[1;32m     15\u001b[0m \u001b[39m     - series : a Pandas series of beam energy values to histogram (or anything that can be passed to hist.Hist.fill)\u001b[39;00m\n\u001b[1;32m     16\u001b[0m \u001b[39m    \"\"\"\u001b[39;00m\n\u001b[0;32m---> 17\u001b[0m     eventsPerBeamEnergy \u001b[39m=\u001b[39m histStore\u001b[39m.\u001b[39;49mget(HistogramId(\u001b[39m\"\u001b[39;49m\u001b[39mEventsPerBeamEnergy\u001b[39;49m\u001b[39m\"\u001b[39;49m, clueParams, datatype))\u001b[39m.\u001b[39mgetHistogram(HistogramKind\u001b[39m.\u001b[39mCOUNT)\n\u001b[1;32m     18\u001b[0m     beamEnergy_axis \u001b[39m=\u001b[39m eventsPerBeamEnergy\u001b[39m.\u001b[39maxes[\u001b[39m0\u001b[39m]\n\u001b[1;32m     19\u001b[0m     splitTracksters_hist \u001b[39m=\u001b[39m hist\u001b[39m.\u001b[39mHist(beamEnergy_axis, storage\u001b[39m=\u001b[39mhist\u001b[39m.\u001b[39mstorage\u001b[39m.\u001b[39mInt64())\n",
      "File \u001b[0;32m/grid_mnt/vol_home/llr/cms/cuisset/hgcal/testbeam18/clue3d-dev/src/Plotting/event_visualizer_plotly/locateEvents/../../HistogramLib/store.py:41\u001b[0m, in \u001b[0;36mHistogramStore.get\u001b[0;34m(self, id)\u001b[0m\n\u001b[1;32m     39\u001b[0m \u001b[39mdef\u001b[39;00m \u001b[39mget\u001b[39m(\u001b[39mself\u001b[39m, \u001b[39mid\u001b[39m:AbstractHistogramId):\n\u001b[1;32m     40\u001b[0m     \u001b[39mif\u001b[39;00m \u001b[39mid\u001b[39m \u001b[39mnot\u001b[39;00m \u001b[39min\u001b[39;00m \u001b[39mself\u001b[39m\u001b[39m.\u001b[39mloadedHists:\n\u001b[0;32m---> 41\u001b[0m         \u001b[39mself\u001b[39;49m\u001b[39m.\u001b[39;49m_loadHist(\u001b[39mid\u001b[39;49m)\n\u001b[1;32m     42\u001b[0m     \u001b[39mreturn\u001b[39;00m \u001b[39mself\u001b[39m\u001b[39m.\u001b[39mloadedHists[\u001b[39mid\u001b[39m]\n",
      "File \u001b[0;32m/grid_mnt/vol_home/llr/cms/cuisset/hgcal/testbeam18/clue3d-dev/src/Plotting/event_visualizer_plotly/locateEvents/../../HistogramLib/store.py:65\u001b[0m, in \u001b[0;36mHistogramStore._loadHist\u001b[0;34m(self, id)\u001b[0m\n\u001b[1;32m     63\u001b[0m \u001b[39mdef\u001b[39;00m \u001b[39m_loadHist\u001b[39m(\u001b[39mself\u001b[39m, \u001b[39mid\u001b[39m:AbstractHistogramId):\n\u001b[1;32m     64\u001b[0m     \u001b[39m# Copy the id otherwise it could be changed by the caller and break the dictionnary\u001b[39;00m\n\u001b[0;32m---> 65\u001b[0m     \u001b[39mwith\u001b[39;00m \u001b[39mopen\u001b[39;49m(os\u001b[39m.\u001b[39;49mpath\u001b[39m.\u001b[39;49mjoin(\u001b[39mself\u001b[39;49m\u001b[39m.\u001b[39;49mhist_folder, \u001b[39mid\u001b[39;49m\u001b[39m.\u001b[39;49mpath), \u001b[39m\"\u001b[39;49m\u001b[39mrb\u001b[39;49m\u001b[39m\"\u001b[39;49m) \u001b[39mas\u001b[39;00m f:\n\u001b[1;32m     66\u001b[0m         \u001b[39mself\u001b[39m\u001b[39m.\u001b[39mloadedHists[copy\u001b[39m.\u001b[39mcopy(\u001b[39mid\u001b[39m)] \u001b[39m=\u001b[39m pickle\u001b[39m.\u001b[39mload(f)\n",
      "\u001b[0;31mFileNotFoundError\u001b[0m: [Errno 2] No such file or directory: '/grid_mnt/data_cms_upgrade/cuisset/testbeam18/clue3d/v38/cmssw/data/EventsPerBeamEnergy.pickle'"
     ]
    },
    {
     "data": {
      "image/png": "[encoded data removed]",
      "text/plain": [
       "<Figure size 1000x1000 with 1 Axes>"
      ]
     },
     "metadata": {},
     "output_type": "display_data"
    }
   ],
   "source": [
    "plotFrequencyPerBeamEnergy({datatype : tree.beamEnergy for datatype, tree in smallTracksterEvents.items()})"
   ]
  },
  {
   "cell_type": "code",
   "execution_count": null,
   "metadata": {},
   "outputs": [],
   "source": []
  }
 ],
 "metadata": {
  "kernelspec": {
   "display_name": "clustering-analysis",
   "language": "python",
   "name": "python3"
  },
  "language_info": {
   "codemirror_mode": {
    "name": "ipython",
    "version": 3
   },
   "file_extension": ".py",
   "mimetype": "text/x-python",
   "name": "python",
   "nbconvert_exporter": "python",
   "pygments_lexer": "ipython3",
   "version": "3.10.10"
  },
  "orig_nbformat": 4
 },
 "nbformat": 4,
 "nbformat_minor": 2
}
