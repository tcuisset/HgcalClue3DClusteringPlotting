{
 "cells": [
  {
   "cell_type": "code",
   "execution_count": 4,
   "metadata": {},
   "outputs": [],
   "source": [
    "import uproot\n",
    "import numpy as np\n",
    "import awkward as ak"
   ]
  },
  {
   "cell_type": "code",
   "execution_count": 5,
   "metadata": {},
   "outputs": [],
   "source": [
    "tree = uproot.open('/data_cms_upgrade/cuisset/testbeam18/clue3d/v31/cmssw/data/CLUE_clusters.root:clusters')"
   ]
  },
  {
   "cell_type": "code",
   "execution_count": 7,
   "metadata": {},
   "outputs": [],
   "source": [
    "filtered_arrays = []\n",
    "count = 0\n",
    "for array in tree.iterate(step_size=\"100MB\", library=\"ak\", cut=\"beamEnergy==100\", \n",
    "        filter_name=[\"event\", \"ntupleNumber\", \"beamEnergy\", \"rechits_energy\"]):\n",
    "    cut = ak.sum(array.rechits_energy, axis=-1)<array.beamEnergy*0.8\n",
    "    filtered_arrays.append(ak.copy(array[cut]))\n",
    "    count += np.sum(cut)\n",
    "    if count > 10:\n",
    "        break\n",
    "filtered_events = ak.concatenate(filtered_arrays)"
   ]
  },
  {
   "cell_type": "code",
   "execution_count": null,
   "metadata": {},
   "outputs": [],
   "source": [
    "filtered_events[[\"ntupleNumber\", \"event\"]]"
   ]
  }
 ],
 "metadata": {
  "kernelspec": {
   "display_name": "clustering-analysis-dash",
   "language": "python",
   "name": "python3"
  },
  "language_info": {
   "codemirror_mode": {
    "name": "ipython",
    "version": 3
   },
   "file_extension": ".py",
   "mimetype": "text/x-python",
   "name": "python",
   "nbconvert_exporter": "python",
   "pygments_lexer": "ipython3",
   "version": "3.11.3"
  },
  "orig_nbformat": 4
 },
 "nbformat": 4,
 "nbformat_minor": 2
}
