{
 "cells": [
  {
   "cell_type": "code",
   "execution_count": 1,
   "metadata": {},
   "outputs": [],
   "source": [
    "import uproot\n",
    "import numpy as np\n",
    "import awkward as ak"
   ]
  },
  {
   "cell_type": "code",
   "execution_count": 2,
   "metadata": {},
   "outputs": [],
   "source": [
    "tree = uproot.open('/data_cms_upgrade/cuisset/testbeam18/clue3d/v31/cmssw/data/CLUE_clusters.root:clusters')"
   ]
  },
  {
   "cell_type": "code",
   "execution_count": 7,
   "metadata": {},
   "outputs": [
    {
     "data": {
      "text/html": [
       "<pre>[{beamEnergy: 20, ntupleNumber: 436},\n",
       " {beamEnergy: 20, ntupleNumber: 437},\n",
       " {beamEnergy: 20, ntupleNumber: 439},\n",
       " {beamEnergy: 20, ntupleNumber: 441},\n",
       " {beamEnergy: 20, ntupleNumber: 442},\n",
       " {beamEnergy: 20, ntupleNumber: 443},\n",
       " {beamEnergy: 20, ntupleNumber: 444},\n",
       " {beamEnergy: 20, ntupleNumber: 447},\n",
       " {beamEnergy: 20, ntupleNumber: 450},\n",
       " {beamEnergy: 20, ntupleNumber: 451},\n",
       " ...,\n",
       " {beamEnergy: 250, ntupleNumber: 646},\n",
       " {beamEnergy: 250, ntupleNumber: 647},\n",
       " {beamEnergy: 250, ntupleNumber: 648},\n",
       " {beamEnergy: 250, ntupleNumber: 649},\n",
       " {beamEnergy: 250, ntupleNumber: 650},\n",
       " {beamEnergy: 250, ntupleNumber: 652},\n",
       " {beamEnergy: 250, ntupleNumber: 653},\n",
       " {beamEnergy: 250, ntupleNumber: 654},\n",
       " {beamEnergy: 300, ntupleNumber: 435}]\n",
       "--------------------------------------\n",
       "type: 116 * {\n",
       "    beamEnergy: float32,\n",
       "    ntupleNumber: uint16\n",
       "}</pre>"
      ],
      "text/plain": [
       "<Array [{beamEnergy: 20, ...}, ..., {...}] type='116 * {beamEnergy: float32...'>"
      ]
     },
     "execution_count": 7,
     "metadata": {},
     "output_type": "execute_result"
    }
   ],
   "source": [
    "energyPerNTuple = np.unique(tree.arrays(filter_name=[\"ntupleNumber\", \"beamEnergy\"]))\n",
    "energyPerNTuple#[energyPerNTuple.beamEnergy==30]"
   ]
  },
  {
   "cell_type": "code",
   "execution_count": 12,
   "metadata": {},
   "outputs": [
    {
     "name": "stdout",
     "output_type": "stream",
     "text": [
      " - 20 GeV : [436, 437, 439, 441, 442, 443, 444, 447, 450, 451, 452, 453, 455]\n",
      " - 30 GeV : [594, 595, 596, 597, 599, 601, 603, 604, 606, 607]\n",
      " - 50 GeV : [456, 457, 458, 459, 460, 461, 462, 463, 464, 465, 608, 609, 610, 611, 613, 614, 616, 617, 618, 619]\n",
      " - 80 GeV : [466, 467, 468, 469, 470, 471, 472, 473, 474, 475, 655, 656, 657, 659, 661, 663]\n",
      " - 100 GeV : [477, 479, 480, 481, 482, 483, 484, 486, 487, 489, 490, 491]\n",
      " - 120 GeV : [620, 621, 622, 635, 636, 637, 639, 640, 641, 642, 643, 644]\n",
      " - 150 GeV : [493, 494, 495, 496, 501, 502, 503, 504, 505, 506, 507, 508, 509]\n",
      " - 200 GeV : [664, 665, 666, 667, 671, 672, 673, 674, 675, 676]\n",
      " - 250 GeV : [645, 646, 647, 648, 649, 650, 652, 653, 654]\n",
      " - 300 GeV : [435]\n"
     ]
    },
    {
     "data": {
      "text/plain": [
       "{20.0: [436, 437, 439, 441, 442, 443, 444, 447, 450, 451, 452, 453, 455],\n",
       " 30.0: [594, 595, 596, 597, 599, 601, 603, 604, 606, 607],\n",
       " 50.0: [456,\n",
       "  457,\n",
       "  458,\n",
       "  459,\n",
       "  460,\n",
       "  461,\n",
       "  462,\n",
       "  463,\n",
       "  464,\n",
       "  465,\n",
       "  608,\n",
       "  609,\n",
       "  610,\n",
       "  611,\n",
       "  613,\n",
       "  614,\n",
       "  616,\n",
       "  617,\n",
       "  618,\n",
       "  619],\n",
       " 80.0: [466,\n",
       "  467,\n",
       "  468,\n",
       "  469,\n",
       "  470,\n",
       "  471,\n",
       "  472,\n",
       "  473,\n",
       "  474,\n",
       "  475,\n",
       "  655,\n",
       "  656,\n",
       "  657,\n",
       "  659,\n",
       "  661,\n",
       "  663],\n",
       " 100.0: [477, 479, 480, 481, 482, 483, 484, 486, 487, 489, 490, 491],\n",
       " 120.0: [620, 621, 622, 635, 636, 637, 639, 640, 641, 642, 643, 644],\n",
       " 150.0: [493, 494, 495, 496, 501, 502, 503, 504, 505, 506, 507, 508, 509],\n",
       " 200.0: [664, 665, 666, 667, 671, 672, 673, 674, 675, 676],\n",
       " 250.0: [645, 646, 647, 648, 649, 650, 652, 653, 654],\n",
       " 300.0: [435]}"
      ]
     },
     "execution_count": 12,
     "metadata": {},
     "output_type": "execute_result"
    }
   ],
   "source": [
    "d = dict()\n",
    "for beamEnergy in np.unique(energyPerNTuple.beamEnergy):\n",
    "    print(f\" - {int(beamEnergy)} GeV : \", end='')\n",
    "    print(list(energyPerNTuple[energyPerNTuple.beamEnergy==beamEnergy].ntupleNumber))\n",
    "    d[beamEnergy] = list(energyPerNTuple[energyPerNTuple.beamEnergy==beamEnergy].ntupleNumber)\n",
    "d"
   ]
  },
  {
   "cell_type": "code",
   "execution_count": 5,
   "metadata": {},
   "outputs": [
    {
     "data": {
      "text/html": [
       "<pre>[{event: 7},\n",
       " {event: 8},\n",
       " {event: 15},\n",
       " {event: 19},\n",
       " {event: 23},\n",
       " {event: 24},\n",
       " {event: 26},\n",
       " {event: 35},\n",
       " {event: 45},\n",
       " {event: 57},\n",
       " ...,\n",
       " {event: 10200},\n",
       " {event: 10202},\n",
       " {event: 10203},\n",
       " {event: 10205},\n",
       " {event: 10213},\n",
       " {event: 10215},\n",
       " {event: 10217},\n",
       " {event: 10223},\n",
       " {event: 10225}]\n",
       "-----------------\n",
       "type: 1956 * {\n",
       "    event: uint32\n",
       "}</pre>"
      ],
      "text/plain": [
       "<Array [{event: 7}, {...}, ..., {event: 10225}] type='1956 * {event: uint32}'>"
      ]
     },
     "execution_count": 5,
     "metadata": {},
     "output_type": "execute_result"
    }
   ],
   "source": [
    "ntupleNumber = 650\n",
    "eventNbInNtuple = tree.arrays(cut=f\"(ntupleNumber == {ntupleNumber})\", filter_name=[\"event\"])\n",
    "np.sort(eventNbInNtuple)"
   ]
  }
 ],
 "metadata": {
  "kernelspec": {
   "display_name": "Python 3",
   "language": "python",
   "name": "python3"
  },
  "language_info": {
   "codemirror_mode": {
    "name": "ipython",
    "version": 3
   },
   "file_extension": ".py",
   "mimetype": "text/x-python",
   "name": "python",
   "nbconvert_exporter": "python",
   "pygments_lexer": "ipython3",
   "version": "3.11.0"
  },
  "orig_nbformat": 4
 },
 "nbformat": 4,
 "nbformat_minor": 2
}
