{
 "cells": [
  {
   "cell_type": "code",
   "execution_count": 7,
   "metadata": {},
   "outputs": [],
   "source": [
    "import uproot\n",
    "import numpy as np"
   ]
  },
  {
   "cell_type": "code",
   "execution_count": 8,
   "metadata": {},
   "outputs": [],
   "source": [
    "tree = uproot.open('/data_cms_upgrade/cuisset/testbeam18/clue3d/v31/cmssw/data/CLUE_clusters.root:clusters')"
   ]
  },
  {
   "cell_type": "code",
   "execution_count": 14,
   "metadata": {},
   "outputs": [
    {
     "data": {
      "text/html": [
       "<pre>[{beamEnergy: 30, ntupleNumber: 594},\n",
       " {beamEnergy: 30, ntupleNumber: 595},\n",
       " {beamEnergy: 30, ntupleNumber: 596},\n",
       " {beamEnergy: 30, ntupleNumber: 597},\n",
       " {beamEnergy: 30, ntupleNumber: 599},\n",
       " {beamEnergy: 30, ntupleNumber: 601},\n",
       " {beamEnergy: 30, ntupleNumber: 603},\n",
       " {beamEnergy: 30, ntupleNumber: 604},\n",
       " {beamEnergy: 30, ntupleNumber: 606},\n",
       " {beamEnergy: 30, ntupleNumber: 607}]\n",
       "-------------------------------------\n",
       "type: 10 * {\n",
       "    beamEnergy: float32,\n",
       "    ntupleNumber: uint16\n",
       "}</pre>"
      ],
      "text/plain": [
       "<Array [{beamEnergy: 30, ...}, ..., {...}] type='10 * {beamEnergy: float32,...'>"
      ]
     },
     "execution_count": 14,
     "metadata": {},
     "output_type": "execute_result"
    }
   ],
   "source": [
    "energyPerNTuple = np.unique(tree.arrays(filter_name=[\"ntupleNumber\", \"beamEnergy\"]))\n",
    "energyPerNTuple[energyPerNTuple.beamEnergy==30]"
   ]
  },
  {
   "cell_type": "code",
   "execution_count": 18,
   "metadata": {},
   "outputs": [
    {
     "name": "stdout",
     "output_type": "stream",
     "text": [
      " - 20 GeV : [436, 437, 439, 441, 442, 443, 444, 447, 450, 451, 452, 453, 455]\n",
      " - 30 GeV : [594, 595, 596, 597, 599, 601, 603, 604, 606, 607]\n",
      " - 50 GeV : [456, 457, 458, 459, 460, 461, 462, 463, 464, 465, 608, 609, 610, 611, 613, 614, 616, 617, 618, 619]\n",
      " - 80 GeV : [466, 467, 468, 469, 470, 471, 472, 473, 474, 475, 655, 656, 657, 659, 661, 663]\n",
      " - 100 GeV : [477, 479, 480, 481, 482, 483, 484, 486, 487, 489, 490, 491]\n",
      " - 120 GeV : [620, 621, 622, 635, 636, 637, 639, 640, 641, 642, 643, 644]\n",
      " - 150 GeV : [493, 494, 495, 496, 501, 502, 503, 504, 505, 506, 507, 508, 509]\n",
      " - 200 GeV : [664, 665, 666, 667, 671, 672, 673, 674, 675, 676]\n",
      " - 250 GeV : [645, 646, 647, 648, 649, 650, 652, 653, 654]\n",
      " - 300 GeV : [435]\n"
     ]
    }
   ],
   "source": [
    "for beamEnergy in np.unique(energyPerNTuple.beamEnergy):\n",
    "    print(f\" - {int(beamEnergy)} GeV : \", end='')\n",
    "    print(list(energyPerNTuple[energyPerNTuple.beamEnergy==beamEnergy].ntupleNumber))"
   ]
  },
  {
   "cell_type": "code",
   "execution_count": 12,
   "metadata": {},
   "outputs": [
    {
     "data": {
      "text/html": [
       "<pre>[{event: 7},\n",
       " {event: 8},\n",
       " {event: 15},\n",
       " {event: 19},\n",
       " {event: 23},\n",
       " {event: 24},\n",
       " {event: 26},\n",
       " {event: 35},\n",
       " {event: 45},\n",
       " {event: 57},\n",
       " ...,\n",
       " {event: 10200},\n",
       " {event: 10202},\n",
       " {event: 10203},\n",
       " {event: 10205},\n",
       " {event: 10213},\n",
       " {event: 10215},\n",
       " {event: 10217},\n",
       " {event: 10223},\n",
       " {event: 10225}]\n",
       "-----------------\n",
       "type: 1956 * {\n",
       "    event: uint32\n",
       "}</pre>"
      ],
      "text/plain": [
       "<Array [{event: 7}, {...}, ..., {event: 10225}] type='1956 * {event: uint32}'>"
      ]
     },
     "execution_count": 12,
     "metadata": {},
     "output_type": "execute_result"
    }
   ],
   "source": [
    "ntupleNumber = 650\n",
    "eventNbInNtuple = tree.arrays(cut=f\"(ntupleNumber == {ntupleNumber})\", filter_name=[\"event\"])\n",
    "np.sort(eventNbInNtuple)"
   ]
  }
 ],
 "metadata": {
  "kernelspec": {
   "display_name": "Python 3",
   "language": "python",
   "name": "python3"
  },
  "language_info": {
   "codemirror_mode": {
    "name": "ipython",
    "version": 3
   },
   "file_extension": ".py",
   "mimetype": "text/x-python",
   "name": "python",
   "nbconvert_exporter": "python",
   "pygments_lexer": "ipython3",
   "version": "3.11.0"
  },
  "orig_nbformat": 4
 },
 "nbformat": 4,
 "nbformat_minor": 2
}
