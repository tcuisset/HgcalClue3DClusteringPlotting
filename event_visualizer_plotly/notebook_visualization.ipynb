{
 "cells": [
  {
   "cell_type": "code",
   "execution_count": 25,
   "metadata": {},
   "outputs": [
    {
     "name": "stdout",
     "output_type": "stream",
     "text": [
      "The autoreload extension is already loaded. To reload it, use:\n",
      "  %reload_ext autoreload\n"
     ]
    }
   ],
   "source": [
    "%load_ext autoreload\n",
    "%autoreload 2\n",
    "import sys\n",
    "sys.path.append(\"..\")\n",
    "import pandas as pd\n",
    "from vis_clue3D import Clue3DVisualization\n",
    "from vis_layer import LayerVisualization\n",
    "from hists.dataframe import DataframeComputations\n",
    "from utils import EventLoader, EventID"
   ]
  },
  {
   "attachments": {},
   "cell_type": "markdown",
   "metadata": {},
   "source": [
    "## Ntuple to beamEnergy mapping\n",
    " - 20 GeV : [436, 437, 439, 441, 442, 443, 444, 447, 450, 451, 452, 453, 455]\n",
    " - 30 GeV : [594, 595, 596, 597, 599, 601, 603, 604, 606, 607]\n",
    " - 50 GeV : [456, 457, 458, 459, 460, 461, 462, 463, 464, 465, 608, 609, 610, 611, 613, 614, 616, 617, 618, 619]\n",
    " - 80 GeV : [466, 467, 468, 469, 470, 471, 472, 473, 474, 475, 655, 656, 657, 659, 661, 663]\n",
    " - 100 GeV : [477, 479, 480, 481, 482, 483, 484, 486, 487, 489, 490, 491]\n",
    " - 120 GeV : [620, 621, 622, 635, 636, 637, 639, 640, 641, 642, 643, 644]\n",
    " - 150 GeV : [493, 494, 495, 496, 501, 502, 503, 504, 505, 506, 507, 508, 509]\n",
    " - 200 GeV : [664, 665, 666, 667, 671, 672, 673, 674, 675, 676]\n",
    " - 250 GeV : [645, 646, 647, 648, 649, 650, 652, 653, 654]\n",
    " - 300 GeV : [435]"
   ]
  },
  {
   "attachments": {},
   "cell_type": "markdown",
   "metadata": {},
   "source": [
    "## List of interesting events\n",
    "(ntuple nb, event)\n",
    "- (441, 5603) : Displaced layer cluster on layer 13 leading layer being eliminated from trackster. On layer 10 : extra layer cluster\n",
    "- (650, 7) : 250 GeV event"
   ]
  },
  {
   "cell_type": "code",
   "execution_count": 26,
   "metadata": {},
   "outputs": [],
   "source": [
    "el = EventLoader('/data_cms_upgrade/cuisset/testbeam18/clue3d/v31/cmssw/data/CLUE_clusters.root')"
   ]
  },
  {
   "cell_type": "code",
   "execution_count": 27,
   "metadata": {},
   "outputs": [],
   "source": [
    "event = el.loadEvent(EventID(441, 5603))"
   ]
  },
  {
   "cell_type": "code",
   "execution_count": 28,
   "metadata": {},
   "outputs": [
    {
     "data": {
      "application/vnd.plotly.v1+json": {
       "config": {
        "plotlyServerURL": "https://plot.ly"
       },
       "data": [
        {
         "customdata": [
          [
           17.50897789001465,
           21
          ],
          [
           1.3948155641555786,
           8
          ]
         ],
         "hovertemplate": "clus3D_energy=%{customdata[0]:.2g} GeV<br>clus3D_x=%{x}<br>clus3D_y=%{y}<br>clus3D_z=%{z}<br>clus3D_size=%{customdata[1]}<extra></extra>",
         "marker": {
          "color": [
           "#636EFA",
           "#EF553B"
          ],
          "size": [
           40,
           1
          ],
          "symbol": "cross"
         },
         "mode": "markers",
         "name": "3D tracksters",
         "type": "scatter3d",
         "x": [
          2.542433023452759,
          2.428030252456665
         ],
         "y": [
          -0.8549145460128784,
          1.5303876399993896
         ],
         "z": [
          21.770231246948242,
          31.837209701538086
         ]
        },
        {
         "customdata": [
          [
           0.3233042359352112,
           1.074372410774231,
           0.09363353252410889,
           "Follower",
           1,
           3
          ],
          [
           0.8430483937263489,
           1.9239977598190308,
           0.2378799021244049,
           "Follower",
           2,
           7
          ],
          [
           1.3696070909500122,
           2.702427864074707,
           0.1431376338005066,
           "Follower",
           3,
           14
          ],
          [
           1.5426853895187378,
           3.127896785736084,
           0.5257880687713623,
           "Follower",
           4,
           9
          ],
          [
           2.1691501140594482,
           3.9257984161376953,
           3.4028234663852886e+38,
           "Seed",
           5,
           16
          ],
          [
           1.785914659500122,
           3.7563846111297607,
           0.19622696936130524,
           "Follower",
           6,
           11
          ],
          [
           1.435031533241272,
           3.396285057067871,
           0.13388553261756897,
           "Follower",
           7,
           17
          ],
          [
           1.8069535493850708,
           3.6715123653411865,
           0.1837158203125,
           "Follower",
           8,
           13
          ],
          [
           0.030400676652789116,
           0.030400676652789116,
           2.8195550441741943,
           "Follower",
           8,
           2
          ],
          [
           1.5289220809936523,
           3.150836229324341,
           0.3453509509563446,
           "Follower",
           9,
           22
          ],
          [
           0.972641110420227,
           2.348628520965576,
           0.13943423330783844,
           "Follower",
           10,
           15
          ],
          [
           0.09435369074344635,
           0.09435369074344635,
           3.2622742652893066,
           "Follower",
           10,
           5
          ],
          [
           1.431132435798645,
           2.5450000762939453,
           0.09418991208076477,
           "Follower",
           11,
           22
          ],
          [
           0.6778983473777771,
           1.673185110092163,
           0.1499299705028534,
           "Follower",
           12,
           15
          ],
          [
           0.582923948764801,
           1.1614189147949219,
           0.07513228058815002,
           "Follower",
           14,
           11
          ],
          [
           0.4608142375946045,
           0.7815221548080444,
           1.3928102254867554,
           "Follower",
           15,
           12
          ],
          [
           0.04249715805053711,
           0.04249715805053711,
           3.025355100631714,
           "Follower",
           15,
           2
          ],
          [
           0.15388381481170654,
           0.40696901082992554,
           1.0662901401519775,
           "Follower",
           17,
           3
          ],
          [
           0.1888335645198822,
           0.3385757505893707,
           1.0288273096084595,
           "Follower",
           18,
           5
          ],
          [
           0.03285429626703262,
           0.10862383991479874,
           0.8065394163131714,
           "Follower",
           19,
           2
          ],
          [
           0.03613031283020973,
           0.042701173573732376,
           0.9880266189575195,
           "Follower",
           22,
           2
          ]
         ],
         "hovertemplate": "2D cluster : %{customdata[3]}<br>Layer : %{customdata[4]}<br>Energy: %{customdata[0]:.2g} GeV<br>Rho: %{customdata[1]:.2g} GeV<br>Delta: %{customdata[2]:.2g} cm<br>Size: %{customdata[5]}",
         "legendgroup": "cluster2D",
         "legendgrouptitle": {
          "text": "2D clusters"
         },
         "marker": {
          "color": [
           "#AB63FA",
           "#FFA15A",
           "#19D3F3",
           "#FF6692",
           "#B6E880",
           "#FF97FF",
           "#FECB52",
           "#636EFA",
           "#EF553B",
           "#00CC96",
           "#AB63FA",
           "#FFA15A",
           "#19D3F3",
           "#FF6692",
           "#B6E880",
           "#FF97FF",
           "#FECB52",
           "#636EFA",
           "#EF553B",
           "#00CC96",
           "#AB63FA",
           "#FFA15A",
           "#19D3F3",
           "#FF6692",
           "#B6E880",
           "#FF97FF",
           "#FECB52",
           "#636EFA",
           "#EF553B",
           "#00CC96",
           "#AB63FA",
           "#FFA15A"
          ],
          "line": {
           "color": "#636EFA",
           "width": 3
          },
          "size": [
           18.179733276367188,
           24.13136100769043,
           27.144678115844727,
           27.88364601135254,
           30,
           28.79279327392578,
           27.434446334838867,
           28.86551856994629,
           3.4990506172180176,
           27.82799530029297,
           25.01930046081543,
           10.532139778137207,
           27.41754913330078,
           22.777463912963867,
           21.840158462524414,
           20.380481719970703,
           5.579150199890137,
           13.569629669189453,
           14.840571403503418,
           3.9810378551483154,
           4.571273326873779
          ],
          "symbol": "circle"
         },
         "mode": "markers",
         "name": "Trackster nb 0.0",
         "type": "scatter3d",
         "x": [
          2.0550458431243896,
          2.31685733795166,
          2.0277485847473145,
          2.0823895931243896,
          2.755037307739258,
          2.5932395458221436,
          2.879277229309082,
          2.4478070735931396,
          5.69551420211792,
          2.812366485595703,
          2.6625478267669678,
          1.2231128215789795,
          2.5253171920776367,
          2.480365514755249,
          2.552562713623047,
          3.105797052383423,
          -0.4411090016365051,
          3.6122257709503174,
          2.2631216049194336,
          2.9435126781463623,
          2.457756996154785
         ],
         "y": [
          -0.6800972819328308,
          -0.809795618057251,
          -0.9019472002983093,
          -0.7696492671966553,
          -1.0051144361495972,
          -0.8940896391868591,
          -1.0550121068954468,
          -0.7818359136581421,
          -0.9182631969451904,
          -0.62716144323349,
          -0.7530115842819214,
          -3.881626844406128,
          -0.728320300579071,
          -0.8713529706001282,
          -0.8505581617355347,
          -2.1287803649902344,
          -2.894973039627075,
          -0.9692546129226685,
          -1.538540005683899,
          -1.9716379642486572,
          -2.8320088386535645
         ],
         "z": [
          13.8774995803833,
          14.767499923706055,
          16.782499313354492,
          17.672500610351562,
          19.6875,
          20.577499389648438,
          22.6924991607666,
          23.582500457763672,
          23.582500457763672,
          25.697500228881836,
          26.587499618530273,
          26.587499618530273,
          28.702499389648438,
          29.592500686645508,
          32.397499084472656,
          34.3125,
          34.3125,
          37.11750030517578,
          38.00749969482422,
          39.92250061035156,
          44.037498474121094
         ]
        },
        {
         "hoverinfo": "skip",
         "legendgroup": "clus2D_chain",
         "line": {
          "width": 1.1734236008387535
         },
         "marker": {
          "color": "#636EFA"
         },
         "mode": "lines",
         "name": "Cluster 2D chain",
         "showlegend": true,
         "type": "scatter3d",
         "x": [
          2.0550458431243896,
          2.0823895931243896
         ],
         "y": [
          -0.6800972819328308,
          -0.7696492671966553
         ],
         "z": [
          13.8774995803833,
          17.672500610351562
         ]
        },
        {
         "anchor": "tip",
         "colorscale": [
          [
           0,
           "#636EFA"
          ],
          [
           1,
           "#636EFA"
          ]
         ],
         "hoverinfo": "skip",
         "legendgroup": "clus2D_chain",
         "showscale": false,
         "sizeref": 0.1,
         "type": "cone",
         "u": [
          0.007203010177593145
         ],
         "v": [
          -0.02359017549820339
         ],
         "w": [
          0.9996957638523559
         ],
         "x": [
          2.0823895931243896
         ],
         "y": [
          -0.7696492671966553
         ],
         "z": [
          17.672500610351562
         ]
        },
        {
         "hoverinfo": "skip",
         "legendgroup": "clus2D_chain",
         "line": {
          "width": 2.131854176921645
         },
         "marker": {
          "color": "#636EFA"
         },
         "mode": "lines",
         "name": "Cluster 2D chain",
         "showlegend": false,
         "type": "scatter3d",
         "x": [
          2.31685733795166,
          2.0823895931243896
         ],
         "y": [
          -0.809795618057251,
          -0.7696492671966553
         ],
         "z": [
          14.767499923706055,
          17.672500610351562
         ]
        },
        {
         "anchor": "tip",
         "colorscale": [
          [
           0,
           "#636EFA"
          ],
          [
           1,
           "#636EFA"
          ]
         ],
         "hoverinfo": "skip",
         "legendgroup": "clus2D_chain",
         "showscale": false,
         "sizeref": 0.1,
         "type": "cone",
         "u": [
          -0.08044252112761703
         ],
         "v": [
          0.013773637306399262
         ],
         "w": [
          0.9966640796727776
         ],
         "x": [
          2.0823895931243896
         ],
         "y": [
          -0.7696492671966553
         ],
         "z": [
          17.672500610351562
         ]
        },
        {
         "hoverinfo": "skip",
         "legendgroup": "clus2D_chain",
         "line": {
          "width": 2.617108996773551
         },
         "marker": {
          "color": "#636EFA"
         },
         "mode": "lines",
         "name": "Cluster 2D chain",
         "showlegend": false,
         "type": "scatter3d",
         "x": [
          2.0277485847473145,
          2.0823895931243896
         ],
         "y": [
          -0.9019472002983093,
          -0.7696492671966553
         ],
         "z": [
          16.782499313354492,
          17.672500610351562
         ]
        },
        {
         "anchor": "tip",
         "colorscale": [
          [
           0,
           "#636EFA"
          ],
          [
           1,
           "#636EFA"
          ]
         ],
         "hoverinfo": "skip",
         "legendgroup": "clus2D_chain",
         "showscale": false,
         "sizeref": 0.1,
         "type": "cone",
         "u": [
          0.06061537327641922
         ],
         "v": [
          0.14676318825075008
         ],
         "w": [
          0.987312687600557
         ],
         "x": [
          2.0823895931243896
         ],
         "y": [
          -0.7696492671966553
         ],
         "z": [
          17.672500610351562
         ]
        },
        {
         "hoverinfo": "skip",
         "legendgroup": "clus2D_chain",
         "line": {
          "width": 3.708349945408646
         },
         "marker": {
          "color": "#636EFA"
         },
         "mode": "lines",
         "name": "Cluster 2D chain",
         "showlegend": false,
         "type": "scatter3d",
         "x": [
          2.0823895931243896,
          2.5932395458221436
         ],
         "y": [
          -0.7696492671966553,
          -0.8940896391868591
         ],
         "z": [
          17.672500610351562,
          20.577499389648438
         ]
        },
        {
         "anchor": "tip",
         "colorscale": [
          [
           0,
           "#636EFA"
          ],
          [
           1,
           "#636EFA"
          ]
         ],
         "hoverinfo": "skip",
         "legendgroup": "clus2D_chain",
         "showscale": false,
         "sizeref": 0.1,
         "type": "cone",
         "u": [
          0.17304056590244746
         ],
         "v": [
          -0.04215177524551158
         ],
         "w": [
          0.9840122917910186
         ],
         "x": [
          2.5932395458221436
         ],
         "y": [
          -0.8940896391868591
         ],
         "z": [
          20.577499389648438
         ]
        },
        {
         "hoverinfo": "skip",
         "legendgroup": "clus2D_chain",
         "line": {
          "width": 5.034038102269682
         },
         "marker": {
          "color": "#636EFA"
         },
         "mode": "lines",
         "name": "Cluster 2D chain",
         "showlegend": false,
         "type": "scatter3d",
         "x": [
          2.5932395458221436,
          2.755037307739258
         ],
         "y": [
          -0.8940896391868591,
          -1.0051144361495972
         ],
         "z": [
          20.577499389648438,
          19.6875
         ]
        },
        {
         "anchor": "tip",
         "colorscale": [
          [
           0,
           "#636EFA"
          ],
          [
           1,
           "#636EFA"
          ]
         ],
         "hoverinfo": "skip",
         "legendgroup": "clus2D_chain",
         "showscale": false,
         "sizeref": 0.1,
         "type": "cone",
         "u": [
          0.1775315389449316
         ],
         "v": [
          -0.12182123431312167
         ],
         "w": [
          -0.9765460253107745
         ],
         "x": [
          2.755037307739258
         ],
         "y": [
          -1.0051144361495972
         ],
         "z": [
          19.6875
         ]
        },
        {
         "hoverinfo": "skip",
         "legendgroup": "clus2D_chain",
         "line": {
          "width": 2.684735315770579
         },
         "marker": {
          "color": "#636EFA"
         },
         "mode": "lines",
         "name": "Cluster 2D chain",
         "showlegend": false,
         "type": "scatter3d",
         "x": [
          2.879277229309082,
          2.755037307739258
         ],
         "y": [
          -1.0550121068954468,
          -1.0051144361495972
         ],
         "z": [
          22.6924991607666,
          19.6875
         ]
        },
        {
         "anchor": "tip",
         "colorscale": [
          [
           0,
           "#636EFA"
          ],
          [
           1,
           "#636EFA"
          ]
         ],
         "hoverinfo": "skip",
         "legendgroup": "clus2D_chain",
         "showscale": false,
         "sizeref": 0.1,
         "type": "cone",
         "u": [
          -0.04130343636130461
         ],
         "v": [
          0.016588430209771632
         ],
         "w": [
          -0.9990089339580118
         ],
         "x": [
          2.755037307739258
         ],
         "y": [
          -1.0051144361495972
         ],
         "z": [
          19.6875
         ]
        },
        {
         "hoverinfo": "skip",
         "legendgroup": "clus2D_chain",
         "line": {
          "width": 4.377227661733668
         },
         "marker": {
          "color": "#636EFA"
         },
         "mode": "lines",
         "name": "Cluster 2D chain",
         "showlegend": false,
         "type": "scatter3d",
         "x": [
          2.4478070735931396,
          2.5932395458221436
         ],
         "y": [
          -0.7818359136581421,
          -0.8940896391868591
         ],
         "z": [
          23.582500457763672,
          20.577499389648438
         ]
        },
        {
         "anchor": "tip",
         "colorscale": [
          [
           0,
           "#636EFA"
          ],
          [
           1,
           "#636EFA"
          ]
         ],
         "hoverinfo": "skip",
         "legendgroup": "clus2D_chain",
         "showscale": false,
         "sizeref": 0.1,
         "type": "cone",
         "u": [
          0.048306618656217756
         ],
         "v": [
          -0.03728601892510516
         ],
         "w": [
          -0.9981363751445588
         ],
         "x": [
          2.5932395458221436
         ],
         "y": [
          -0.8940896391868591
         ],
         "z": [
          20.577499389648438
         ]
        },
        {
         "hoverinfo": "skip",
         "legendgroup": "clus2D_chain",
         "line": {
          "width": 1
         },
         "marker": {
          "color": "#636EFA"
         },
         "mode": "lines",
         "name": "Cluster 2D chain",
         "showlegend": false,
         "type": "scatter3d",
         "x": [
          5.69551420211792,
          2.879277229309082
         ],
         "y": [
          -0.9182631969451904,
          -1.0550121068954468
         ],
         "z": [
          23.582500457763672,
          22.6924991607666
         ]
        },
        {
         "anchor": "tip",
         "colorscale": [
          [
           0,
           "#636EFA"
          ],
          [
           1,
           "#636EFA"
          ]
         ],
         "hoverinfo": "skip",
         "legendgroup": "clus2D_chain",
         "showscale": false,
         "sizeref": 0.1,
         "type": "cone",
         "u": [
          -0.9524977580888042
         ],
         "v": [
          -0.04625073507887233
         ],
         "w": [
          -0.3010131065924969
         ],
         "x": [
          2.879277229309082
         ],
         "y": [
          -1.0550121068954468
         ],
         "z": [
          22.6924991607666
         ]
        },
        {
         "hoverinfo": "skip",
         "legendgroup": "clus2D_chain",
         "line": {
          "width": 2.7271480578796097
         },
         "marker": {
          "color": "#636EFA"
         },
         "mode": "lines",
         "name": "Cluster 2D chain",
         "showlegend": false,
         "type": "scatter3d",
         "x": [
          2.812366485595703,
          2.5932395458221436
         ],
         "y": [
          -0.62716144323349,
          -0.8940896391868591
         ],
         "z": [
          25.697500228881836,
          20.577499389648438
         ]
        },
        {
         "anchor": "tip",
         "colorscale": [
          [
           0,
           "#636EFA"
          ],
          [
           1,
           "#636EFA"
          ]
         ],
         "hoverinfo": "skip",
         "legendgroup": "clus2D_chain",
         "showscale": false,
         "sizeref": 0.1,
         "type": "cone",
         "u": [
          -0.042701195172057387
         ],
         "v": [
          -0.05201621034870732
         ],
         "w": [
          -0.9977328910043194
         ],
         "x": [
          2.5932395458221436
         ],
         "y": [
          -0.8940896391868591
         ],
         "z": [
          20.577499389648438
         ]
        },
        {
         "hoverinfo": "skip",
         "legendgroup": "clus2D_chain",
         "line": {
          "width": 2.274844979667603
         },
         "marker": {
          "color": "#636EFA"
         },
         "mode": "lines",
         "name": "Cluster 2D chain",
         "showlegend": false,
         "type": "scatter3d",
         "x": [
          2.6625478267669678,
          2.5253171920776367
         ],
         "y": [
          -0.7530115842819214,
          -0.728320300579071
         ],
         "z": [
          26.587499618530273,
          28.702499389648438
         ]
        },
        {
         "anchor": "tip",
         "colorscale": [
          [
           0,
           "#636EFA"
          ],
          [
           1,
           "#636EFA"
          ]
         ],
         "hoverinfo": "skip",
         "legendgroup": "clus2D_chain",
         "showscale": false,
         "sizeref": 0.1,
         "type": "cone",
         "u": [
          -0.0647439226440655
         ],
         "v": [
          0.011649079417719121
         ],
         "w": [
          0.9978339157542095
         ],
         "x": [
          2.5253171920776367
         ],
         "y": [
          -0.728320300579071
         ],
         "z": [
          28.702499389648438
         ]
        },
        {
         "hoverinfo": "skip",
         "legendgroup": "clus2D_chain",
         "line": {
          "width": 1
         },
         "marker": {
          "color": "#636EFA"
         },
         "mode": "lines",
         "name": "Cluster 2D chain",
         "showlegend": false,
         "type": "scatter3d",
         "x": [
          1.2231128215789795,
          2.480365514755249
         ],
         "y": [
          -3.881626844406128,
          -0.8713529706001282
         ],
         "z": [
          26.587499618530273,
          29.592500686645508
         ]
        },
        {
         "anchor": "tip",
         "colorscale": [
          [
           0,
           "#636EFA"
          ],
          [
           1,
           "#636EFA"
          ]
         ],
         "hoverinfo": "skip",
         "legendgroup": "clus2D_chain",
         "showscale": false,
         "sizeref": 0.1,
         "type": "cone",
         "u": [
          0.2834609177711399
         ],
         "v": [
          0.6786980848343265
         ],
         "w": [
          0.6775092750203207
         ],
         "x": [
          2.480365514755249
         ],
         "y": [
          -0.8713529706001282
         ],
         "z": [
          29.592500686645508
         ]
        },
        {
         "hoverinfo": "skip",
         "legendgroup": "clus2D_chain",
         "line": {
          "width": 4.1198086885782965
         },
         "marker": {
          "color": "#636EFA"
         },
         "mode": "lines",
         "name": "Cluster 2D chain",
         "showlegend": false,
         "type": "scatter3d",
         "x": [
          2.5253171920776367,
          2.4478070735931396
         ],
         "y": [
          -0.728320300579071,
          -0.7818359136581421
         ],
         "z": [
          28.702499389648438,
          23.582500457763672
         ]
        },
        {
         "anchor": "tip",
         "colorscale": [
          [
           0,
           "#636EFA"
          ],
          [
           1,
           "#636EFA"
          ]
         ],
         "hoverinfo": "skip",
         "legendgroup": "clus2D_chain",
         "showscale": false,
         "sizeref": 0.1,
         "type": "cone",
         "u": [
          -0.015136137128857889
         ],
         "v": [
          -0.010450502127173673
         ],
         "w": [
          -0.9998308278694483
         ],
         "x": [
          2.4478070735931396
         ],
         "y": [
          -0.7818359136581421
         ],
         "z": [
          23.582500457763672
         ]
        },
        {
         "hoverinfo": "skip",
         "legendgroup": "clus2D_chain",
         "line": {
          "width": 3.1224483443382196
         },
         "marker": {
          "color": "#636EFA"
         },
         "mode": "lines",
         "name": "Cluster 2D chain",
         "showlegend": false,
         "type": "scatter3d",
         "x": [
          2.480365514755249,
          2.5253171920776367
         ],
         "y": [
          -0.8713529706001282,
          -0.728320300579071
         ],
         "z": [
          29.592500686645508,
          28.702499389648438
         ]
        },
        {
         "anchor": "tip",
         "colorscale": [
          [
           0,
           "#636EFA"
          ],
          [
           1,
           "#636EFA"
          ]
         ],
         "hoverinfo": "skip",
         "legendgroup": "clus2D_chain",
         "showscale": false,
         "sizeref": 0.1,
         "type": "cone",
         "u": [
          0.04980565797223171
         ],
         "v": [
          0.15847765125275762
         ],
         "w": [
          -0.9861055878998771
         ],
         "x": [
          2.5253171920776367
         ],
         "y": [
          -0.728320300579071
         ],
         "z": [
          28.702499389648438
         ]
        },
        {
         "hoverinfo": "skip",
         "legendgroup": "clus2D_chain",
         "line": {
          "width": 2.706674143328013
         },
         "marker": {
          "color": "#636EFA"
         },
         "mode": "lines",
         "name": "Cluster 2D chain",
         "showlegend": false,
         "type": "scatter3d",
         "x": [
          2.552562713623047,
          2.480365514755249
         ],
         "y": [
          -0.8505581617355347,
          -0.8713529706001282
         ],
         "z": [
          32.397499084472656,
          29.592500686645508
         ]
        },
        {
         "anchor": "tip",
         "colorscale": [
          [
           0,
           "#636EFA"
          ],
          [
           1,
           "#636EFA"
          ]
         ],
         "hoverinfo": "skip",
         "legendgroup": "clus2D_chain",
         "showscale": false,
         "sizeref": 0.1,
         "type": "cone",
         "u": [
          -0.025729538431584327
         ],
         "v": [
          -0.007410825381726182
         ],
         "w": [
          -0.9996414709881035
         ],
         "x": [
          2.480365514755249
         ],
         "y": [
          -0.8713529706001282
         ],
         "z": [
          29.592500686645508
         ]
        },
        {
         "hoverinfo": "skip",
         "legendgroup": "clus2D_chain",
         "line": {
          "width": 2.0296334192233543
         },
         "marker": {
          "color": "#636EFA"
         },
         "mode": "lines",
         "name": "Cluster 2D chain",
         "showlegend": false,
         "type": "scatter3d",
         "x": [
          3.105797052383423,
          2.552562713623047
         ],
         "y": [
          -2.1287803649902344,
          -0.8505581617355347
         ],
         "z": [
          34.3125,
          32.397499084472656
         ]
        },
        {
         "anchor": "tip",
         "colorscale": [
          [
           0,
           "#636EFA"
          ],
          [
           1,
           "#636EFA"
          ]
         ],
         "hoverinfo": "skip",
         "legendgroup": "clus2D_chain",
         "showscale": false,
         "sizeref": 0.1,
         "type": "cone",
         "u": [
          -0.2336351004788268
         ],
         "v": [
          0.5398030309558006
         ],
         "w": [
          -0.808719560537013
         ],
         "x": [
          2.552562713623047
         ],
         "y": [
          -0.8505581617355347
         ],
         "z": [
          32.397499084472656
         ]
        },
        {
         "hoverinfo": "skip",
         "legendgroup": "clus2D_chain",
         "line": {
          "width": 1
         },
         "marker": {
          "color": "#636EFA"
         },
         "mode": "lines",
         "name": "Cluster 2D chain",
         "showlegend": false,
         "type": "scatter3d",
         "x": [
          -0.4411090016365051,
          2.2631216049194336
         ],
         "y": [
          -2.894973039627075,
          -1.538540005683899
         ],
         "z": [
          34.3125,
          38.00749969482422
         ]
        },
        {
         "anchor": "tip",
         "colorscale": [
          [
           0,
           "#636EFA"
          ],
          [
           1,
           "#636EFA"
          ]
         ],
         "hoverinfo": "skip",
         "legendgroup": "clus2D_chain",
         "showscale": false,
         "sizeref": 0.1,
         "type": "cone",
         "u": [
          0.5662668021909657
         ],
         "v": [
          0.28403753535481013
         ],
         "w": [
          0.7737341838422177
         ],
         "x": [
          2.2631216049194336
         ],
         "y": [
          -1.538540005683899
         ],
         "z": [
          38.00749969482422
         ]
        },
        {
         "hoverinfo": "skip",
         "legendgroup": "clus2D_chain",
         "line": {
          "width": 1
         },
         "marker": {
          "color": "#636EFA"
         },
         "mode": "lines",
         "name": "Cluster 2D chain",
         "showlegend": false,
         "type": "scatter3d",
         "x": [
          3.6122257709503174,
          2.552562713623047
         ],
         "y": [
          -0.9692546129226685,
          -0.8505581617355347
         ],
         "z": [
          37.11750030517578,
          32.397499084472656
         ]
        },
        {
         "anchor": "tip",
         "colorscale": [
          [
           0,
           "#636EFA"
          ],
          [
           1,
           "#636EFA"
          ]
         ],
         "hoverinfo": "skip",
         "legendgroup": "clus2D_chain",
         "showscale": false,
         "sizeref": 0.1,
         "type": "cone",
         "u": [
          -0.21898639372000295
         ],
         "v": [
          0.024529408299269452
         ],
         "w": [
          -0.975419534094943
         ],
         "x": [
          2.552562713623047
         ],
         "y": [
          -0.8505581617355347
         ],
         "z": [
          32.397499084472656
         ]
        },
        {
         "hoverinfo": "skip",
         "legendgroup": "clus2D_chain",
         "line": {
          "width": 1.0996628422023242
         },
         "marker": {
          "color": "#636EFA"
         },
         "mode": "lines",
         "name": "Cluster 2D chain",
         "showlegend": false,
         "type": "scatter3d",
         "x": [
          2.2631216049194336,
          3.105797052383423
         ],
         "y": [
          -1.538540005683899,
          -2.1287803649902344
         ],
         "z": [
          38.00749969482422,
          34.3125
         ]
        },
        {
         "anchor": "tip",
         "colorscale": [
          [
           0,
           "#636EFA"
          ],
          [
           1,
           "#636EFA"
          ]
         ],
         "hoverinfo": "skip",
         "legendgroup": "clus2D_chain",
         "showscale": false,
         "sizeref": 0.1,
         "type": "cone",
         "u": [
          0.2197008510420721
         ],
         "v": [
          -0.15388642169323663
         ],
         "w": [
          -0.9633537799115343
         ],
         "x": [
          3.105797052383423
         ],
         "y": [
          -2.1287803649902344
         ],
         "z": [
          34.3125
         ]
        },
        {
         "hoverinfo": "skip",
         "legendgroup": "clus2D_chain",
         "line": {
          "width": 1
         },
         "marker": {
          "color": "#636EFA"
         },
         "mode": "lines",
         "name": "Cluster 2D chain",
         "showlegend": false,
         "type": "scatter3d",
         "x": [
          2.9435126781463623,
          2.2631216049194336
         ],
         "y": [
          -1.9716379642486572,
          -1.538540005683899
         ],
         "z": [
          39.92250061035156,
          38.00749969482422
         ]
        },
        {
         "anchor": "tip",
         "colorscale": [
          [
           0,
           "#636EFA"
          ],
          [
           1,
           "#636EFA"
          ]
         ],
         "hoverinfo": "skip",
         "legendgroup": "clus2D_chain",
         "showscale": false,
         "sizeref": 0.1,
         "type": "cone",
         "u": [
          -0.3274391823146327
         ],
         "v": [
          0.20842901530438304
         ],
         "w": [
          -0.9215969441487802
         ],
         "x": [
          2.2631216049194336
         ],
         "y": [
          -1.538540005683899
         ],
         "z": [
          38.00749969482422
         ]
        },
        {
         "hoverinfo": "skip",
         "legendgroup": "clus2D_chain",
         "line": {
          "width": 1
         },
         "marker": {
          "color": "#636EFA"
         },
         "mode": "lines",
         "name": "Cluster 2D chain",
         "showlegend": false,
         "type": "scatter3d",
         "x": [
          2.457756996154785,
          2.9435126781463623
         ],
         "y": [
          -2.8320088386535645,
          -1.9716379642486572
         ],
         "z": [
          44.037498474121094,
          39.92250061035156
         ]
        },
        {
         "anchor": "tip",
         "colorscale": [
          [
           0,
           "#636EFA"
          ],
          [
           1,
           "#636EFA"
          ]
         ],
         "hoverinfo": "skip",
         "legendgroup": "clus2D_chain",
         "showscale": false,
         "sizeref": 0.1,
         "type": "cone",
         "u": [
          0.11478293411936752
         ],
         "v": [
          0.20330362990330084
         ],
         "w": [
          -0.9723643926548785
         ],
         "x": [
          2.9435126781463623
         ],
         "y": [
          -1.9716379642486572
         ],
         "z": [
          39.92250061035156
         ]
        },
        {
         "customdata": [
          [
           0.1034182533621788,
           0.2888927459716797,
           1.7170201539993286,
           "Follower",
           12,
           3
          ],
          [
           0.9273725152015686,
           0.9682412147521973,
           2.2502763271331787,
           "Seed",
           13,
           26
          ],
          [
           0.08137872070074081,
           0.08137872070074081,
           2.4833457469940186,
           "Follower",
           14,
           3
          ],
          [
           0.033337850123643875,
           0.23085907101631165,
           1.6372544765472412,
           "Follower",
           15,
           2
          ],
          [
           0.06758741289377213,
           0.3939441740512848,
           1.6817489862442017,
           "Follower",
           16,
           4
          ],
          [
           0.06023360788822174,
           0.06690117716789246,
           0.8791689872741699,
           "Follower",
           17,
           2
          ],
          [
           0.10115870833396912,
           0.27309343218803406,
           0.42080259323120117,
           "Follower",
           17,
           2
          ],
          [
           0.020328540354967117,
           0.054077766835689545,
           0.638987123966217,
           "Follower",
           18,
           2
          ]
         ],
         "hovertemplate": "2D cluster : %{customdata[3]}<br>Layer : %{customdata[4]}<br>Energy: %{customdata[0]:.2g} GeV<br>Rho: %{customdata[1]:.2g} GeV<br>Delta: %{customdata[2]:.2g} cm<br>Size: %{customdata[5]}",
         "legendgroup": "cluster2D",
         "legendgrouptitle": {
          "text": "2D clusters"
         },
         "marker": {
          "color": [
           "#AB63FA",
           "#FFA15A",
           "#19D3F3",
           "#FF6692",
           "#B6E880",
           "#FF97FF",
           "#FECB52",
           "#636EFA",
           "#EF553B",
           "#00CC96",
           "#AB63FA",
           "#FFA15A",
           "#19D3F3",
           "#FF6692",
           "#B6E880",
           "#FF97FF",
           "#FECB52",
           "#636EFA",
           "#EF553B",
           "#00CC96",
           "#AB63FA",
           "#FFA15A",
           "#19D3F3",
           "#FF6692",
           "#B6E880",
           "#FF97FF",
           "#FECB52",
           "#636EFA",
           "#EF553B",
           "#00CC96",
           "#AB63FA",
           "#FFA15A"
          ],
          "line": {
           "color": "#EF553B",
           "width": 3
          },
          "size": [
           11.101767539978027,
           24.723344802856445,
           9.61348819732666,
           4.071767330169678,
           8.460384368896484,
           7.7450737953186035,
           10.964588165283203,
           1
          ],
          "symbol": "circle"
         },
         "mode": "markers",
         "name": "Trackster nb 1.0",
         "type": "scatter3d",
         "x": [
          2.1825592517852783,
          2.653810501098633,
          -1.0342004299163818,
          4.287486553192139,
          1.3877586126327515,
          3.408329486846924,
          1.3905701637268066,
          0.9946601986885071
         ],
         "y": [
          3.1693692207336426,
          1.5182846784591675,
          0.9600549340248108,
          1.6264729499816895,
          0.4113103449344635,
          1.6218982934951782,
          -0.009482856839895248,
          0.9150744080543518
         ],
         "z": [
          29.592500686645508,
          31.50749969482422,
          32.397499084472656,
          34.3125,
          35.20249938964844,
          37.11750030517578,
          37.11750030517578,
          38.00749969482422
         ]
        },
        {
         "hoverinfo": "skip",
         "legendgroup": "clus2D_chain",
         "line": {
          "width": 1
         },
         "marker": {
          "color": "#EF553B"
         },
         "mode": "lines",
         "name": "Cluster 2D chain",
         "showlegend": false,
         "type": "scatter3d",
         "x": [
          2.1825592517852783,
          2.653810501098633
         ],
         "y": [
          3.1693692207336426,
          1.5182846784591675
         ],
         "z": [
          29.592500686645508,
          31.50749969482422
         ]
        },
        {
         "anchor": "tip",
         "colorscale": [
          [
           0,
           "#EF553B"
          ],
          [
           1,
           "#EF553B"
          ]
         ],
         "hoverinfo": "skip",
         "legendgroup": "clus2D_chain",
         "showscale": false,
         "sizeref": 0.1,
         "type": "cone",
         "u": [
          0.18322095644146327
         ],
         "v": [
          -0.641936311982255
         ],
         "w": [
          0.7445453998778693
         ],
         "x": [
          2.653810501098633
         ],
         "y": [
          1.5182846784591675
         ],
         "z": [
          31.50749969482422
         ]
        },
        {
         "hoverinfo": "skip",
         "legendgroup": "clus2D_chain",
         "line": {
          "width": 1
         },
         "marker": {
          "color": "#EF553B"
         },
         "mode": "lines",
         "name": "Cluster 2D chain",
         "showlegend": false,
         "type": "scatter3d",
         "x": [
          -1.0342004299163818,
          1.3877586126327515
         ],
         "y": [
          0.9600549340248108,
          0.4113103449344635
         ],
         "z": [
          32.397499084472656,
          35.20249938964844
         ]
        },
        {
         "anchor": "tip",
         "colorscale": [
          [
           0,
           "#EF553B"
          ],
          [
           1,
           "#EF553B"
          ]
         ],
         "hoverinfo": "skip",
         "legendgroup": "clus2D_chain",
         "showscale": false,
         "sizeref": 0.1,
         "type": "cone",
         "u": [
          0.6464874171451223
         ],
         "v": [
          -0.14647500880113798
         ],
         "w": [
          0.7487316550472107
         ],
         "x": [
          1.3877586126327515
         ],
         "y": [
          0.4113103449344635
         ],
         "z": [
          35.20249938964844
         ]
        },
        {
         "hoverinfo": "skip",
         "legendgroup": "clus2D_chain",
         "line": {
          "width": 1
         },
         "marker": {
          "color": "#EF553B"
         },
         "mode": "lines",
         "name": "Cluster 2D chain",
         "showlegend": false,
         "type": "scatter3d",
         "x": [
          4.287486553192139,
          2.653810501098633
         ],
         "y": [
          1.6264729499816895,
          1.5182846784591675
         ],
         "z": [
          34.3125,
          31.50749969482422
         ]
        },
        {
         "anchor": "tip",
         "colorscale": [
          [
           0,
           "#EF553B"
          ],
          [
           1,
           "#EF553B"
          ]
         ],
         "hoverinfo": "skip",
         "legendgroup": "clus2D_chain",
         "showscale": false,
         "sizeref": 0.1,
         "type": "cone",
         "u": [
          -0.5029999438954869
         ],
         "v": [
          -0.03331057857905327
         ],
         "w": [
          -0.8636442912425613
         ],
         "x": [
          2.653810501098633
         ],
         "y": [
          1.5182846784591675
         ],
         "z": [
          31.50749969482422
         ]
        },
        {
         "hoverinfo": "skip",
         "legendgroup": "clus2D_chain",
         "line": {
          "width": 1
         },
         "marker": {
          "color": "#EF553B"
         },
         "mode": "lines",
         "name": "Cluster 2D chain",
         "showlegend": false,
         "type": "scatter3d",
         "x": [
          1.3877586126327515,
          2.653810501098633
         ],
         "y": [
          0.4113103449344635,
          1.5182846784591675
         ],
         "z": [
          35.20249938964844,
          31.50749969482422
         ]
        },
        {
         "anchor": "tip",
         "colorscale": [
          [
           0,
           "#EF553B"
          ],
          [
           1,
           "#EF553B"
          ]
         ],
         "hoverinfo": "skip",
         "legendgroup": "clus2D_chain",
         "showscale": false,
         "sizeref": 0.1,
         "type": "cone",
         "u": [
          0.31185717659566514
         ],
         "v": [
          0.27267278170975656
         ],
         "w": [
          -0.9101618842384268
         ],
         "x": [
          2.653810501098633
         ],
         "y": [
          1.5182846784591675
         ],
         "z": [
          31.50749969482422
         ]
        },
        {
         "hoverinfo": "skip",
         "legendgroup": "clus2D_chain",
         "line": {
          "width": 1
         },
         "marker": {
          "color": "#EF553B"
         },
         "mode": "lines",
         "name": "Cluster 2D chain",
         "showlegend": false,
         "type": "scatter3d",
         "x": [
          3.408329486846924,
          4.287486553192139
         ],
         "y": [
          1.6218982934951782,
          1.6264729499816895
         ],
         "z": [
          37.11750030517578,
          34.3125
         ]
        },
        {
         "anchor": "tip",
         "colorscale": [
          [
           0,
           "#EF553B"
          ],
          [
           1,
           "#EF553B"
          ]
         ],
         "hoverinfo": "skip",
         "legendgroup": "clus2D_chain",
         "showscale": false,
         "sizeref": 0.1,
         "type": "cone",
         "u": [
          0.2990786099590218
         ],
         "v": [
          0.0015562428551174985
         ],
         "w": [
          -0.9542272073113169
         ],
         "x": [
          4.287486553192139
         ],
         "y": [
          1.6264729499816895
         ],
         "z": [
          34.3125
         ]
        },
        {
         "hoverinfo": "skip",
         "legendgroup": "clus2D_chain",
         "line": {
          "width": 1
         },
         "marker": {
          "color": "#EF553B"
         },
         "mode": "lines",
         "name": "Cluster 2D chain",
         "showlegend": false,
         "type": "scatter3d",
         "x": [
          1.3905701637268066,
          1.3877586126327515
         ],
         "y": [
          -0.009482856839895248,
          0.4113103449344635
         ],
         "z": [
          37.11750030517578,
          35.20249938964844
         ]
        },
        {
         "anchor": "tip",
         "colorscale": [
          [
           0,
           "#EF553B"
          ],
          [
           1,
           "#EF553B"
          ]
         ],
         "hoverinfo": "skip",
         "legendgroup": "clus2D_chain",
         "showscale": false,
         "sizeref": 0.1,
         "type": "cone",
         "u": [
          -0.0014339603944114804
         ],
         "v": [
          0.2146149102030822
         ],
         "w": [
          -0.9766976932890289
         ],
         "x": [
          1.3877586126327515
         ],
         "y": [
          0.4113103449344635
         ],
         "z": [
          35.20249938964844
         ]
        },
        {
         "hoverinfo": "skip",
         "legendgroup": "clus2D_chain",
         "line": {
          "width": 1
         },
         "marker": {
          "color": "#EF553B"
         },
         "mode": "lines",
         "name": "Cluster 2D chain",
         "showlegend": false,
         "type": "scatter3d",
         "x": [
          0.9946601986885071,
          1.3877586126327515
         ],
         "y": [
          0.9150744080543518,
          0.4113103449344635
         ],
         "z": [
          38.00749969482422,
          35.20249938964844
         ]
        },
        {
         "anchor": "tip",
         "colorscale": [
          [
           0,
           "#EF553B"
          ],
          [
           1,
           "#EF553B"
          ]
         ],
         "hoverinfo": "skip",
         "legendgroup": "clus2D_chain",
         "showscale": false,
         "sizeref": 0.1,
         "type": "cone",
         "u": [
          0.13664141723834303
         ],
         "v": [
          -0.17510891190777214
         ],
         "w": [
          -0.975021021345475
         ],
         "x": [
          1.3877586126327515
         ],
         "y": [
          0.4113103449344635
         ],
         "z": [
          35.20249938964844
         ]
        },
        {
         "customdata": [
          [
           0.08596811443567276,
           0.08596811443567276,
           4.125191688537598,
           "Outlier",
           11,
           2
          ],
          [
           0.06636610627174377,
           0.06636610627174377,
           3.4028234663852886e+38,
           "Outlier",
           23,
           2
          ],
          [
           0.05352038890123367,
           0.05352038890123367,
           3.4028234663852886e+38,
           "Outlier",
           27,
           2
          ]
         ],
         "hovertemplate": "2D cluster : %{customdata[3]}<br>Layer : %{customdata[4]}<br>Energy: %{customdata[0]:.2g} GeV<br>Rho: %{customdata[1]:.2g} GeV<br>Delta: %{customdata[2]:.2g} cm<br>Size: %{customdata[5]}",
         "legendgroup": "cluster2D",
         "legendgrouptitle": {
          "text": "2D clusters"
         },
         "marker": {
          "color": [
           "#AB63FA",
           "#FFA15A",
           "#19D3F3",
           "#FF6692",
           "#B6E880",
           "#FF97FF",
           "#FECB52",
           "#636EFA",
           "#EF553B",
           "#00CC96",
           "#AB63FA",
           "#FFA15A",
           "#19D3F3",
           "#FF6692",
           "#B6E880",
           "#FF97FF",
           "#FECB52",
           "#636EFA",
           "#EF553B",
           "#00CC96",
           "#AB63FA",
           "#FFA15A",
           "#19D3F3",
           "#FF6692",
           "#B6E880",
           "#FF97FF",
           "#FECB52",
           "#636EFA",
           "#EF553B",
           "#00CC96",
           "#AB63FA",
           "#FFA15A"
          ],
          "line": {
           "color": "#00CC96",
           "width": 3
          },
          "size": [
           9.95417308807373,
           8.347147941589355,
           7.011279106140137
          ],
          "symbol": "circle"
         },
         "mode": "markers",
         "name": "Trackster nb nan",
         "type": "scatter3d",
         "x": [
          6.773800373077393,
          3.5906336307525635,
          3.426060438156128
         ],
         "y": [
          1.7253832817077637,
          -0.5015450716018677,
          0.0033815563656389713
         ],
         "z": [
          28.702499389648438,
          46.412498474121094,
          52.881500244140625
         ]
        },
        {
         "customdata": [
          [
           "0.022203567",
           "0.06523966",
           "1.125173",
           "Follower",
           "1"
          ],
          [
           "0.086072184",
           "0.2046882",
           "1.1253028",
           "Follower",
           "1"
          ],
          [
           "0.21502848",
           "0.25806457",
           "3.4028235e+38",
           "Seed",
           "1"
          ]
         ],
         "hovertemplate": "Rechit : %{customdata[3]}<br>Layer : %{customdata[4]}<br>Energy: %{customdata[0]:.2g} GeV<br>Rho: %{customdata[1]:.2g} GeV<br>Delta: %{customdata[2]:.2g} cm",
         "legendgroup": "rechits",
         "legendgrouptitle": {
          "text": "Rechits"
         },
         "marker": {
          "color": "#AB63FA",
          "size": [
           7.170168876647949,
           13.654526710510254,
           18.036273956298828
          ],
          "symbol": "circle"
         },
         "mode": "markers",
         "name": "2D cluster nb 0.0",
         "type": "scatter3d",
         "x": [
          3.626410961151123,
          2.651932716369629,
          1.677445411682129
         ],
         "y": [
          -1.5872857570648193,
          -1.0247857570648193,
          -0.46204161643981934
         ],
         "z": [
          13.8774995803833,
          13.8774995803833,
          13.8774995803833
         ]
        },
        {
         "hoverinfo": "skip",
         "legendgroup": "rechits_chain",
         "line": {
          "width": 1
         },
         "marker": {
          "color": "#AB63FA"
         },
         "mode": "lines",
         "name": "Rechits chain",
         "showlegend": true,
         "type": "scatter3d",
         "x": [
          3.626410961151123,
          2.651932716369629
         ],
         "y": [
          -1.5872857570648193,
          -1.0247857570648193
         ],
         "z": [
          13.8774995803833,
          13.8774995803833
         ]
        },
        {
         "anchor": "tip",
         "colorscale": [
          [
           0,
           "#AB63FA"
          ],
          [
           1,
           "#AB63FA"
          ]
         ],
         "hoverinfo": "skip",
         "legendgroup": "rechits_chain",
         "showscale": false,
         "sizeref": 0.1,
         "type": "cone",
         "u": [
          -0.8660697636731018
         ],
         "v": [
          0.4999231585466086
         ],
         "w": [
          0
         ],
         "x": [
          2.651932716369629
         ],
         "y": [
          -1.0247857570648193
         ],
         "z": [
          13.8774995803833
         ]
        },
        {
         "hoverinfo": "skip",
         "legendgroup": "rechits_chain",
         "line": {
          "width": 2.382096126910649
         },
         "marker": {
          "color": "#AB63FA"
         },
         "mode": "lines",
         "name": "Rechits chain",
         "showlegend": false,
         "type": "scatter3d",
         "x": [
          2.651932716369629,
          1.677445411682129
         ],
         "y": [
          -1.0247857570648193,
          -0.46204161643981934
         ],
         "z": [
          13.8774995803833,
          13.8774995803833
         ]
        },
        {
         "anchor": "tip",
         "colorscale": [
          [
           0,
           "#AB63FA"
          ],
          [
           1,
           "#AB63FA"
          ]
         ],
         "hoverinfo": "skip",
         "legendgroup": "rechits_chain",
         "showscale": false,
         "sizeref": 0.1,
         "type": "cone",
         "u": [
          -0.8659778263291473
         ],
         "v": [
          0.5000823975168945
         ],
         "w": [
          0
         ],
         "x": [
          1.677445411682129
         ],
         "y": [
          -0.46204161643981934
         ],
         "z": [
          13.8774995803833
         ]
        },
        {
         "customdata": [
          [
           "0.038747344",
           "0.0455302",
           "1.1252532",
           "Follower",
           "2"
          ],
          [
           "0.025081325",
           "0.27990282",
           "1.125173",
           "Follower",
           "2"
          ],
          [
           "0.013565712",
           "0.29017663",
           "1.125173",
           "Follower",
           "2"
          ],
          [
           "0.006684092",
           "0.39367518",
           "1.1251807",
           "Follower",
           "2"
          ],
          [
           "0.48939317",
           "0.64181256",
           "3.4028235e+38",
           "Seed",
           "2"
          ],
          [
           "0.25950763",
           "0.51258075",
           "1.1253028",
           "Follower",
           "2"
          ],
          [
           "0.0100690555",
           "0.13982287",
           "1.1251972",
           "Follower",
           "2"
          ]
         ],
         "hovertemplate": "Rechit : %{customdata[3]}<br>Layer : %{customdata[4]}<br>Energy: %{customdata[0]:.2g} GeV<br>Rho: %{customdata[1]:.2g} GeV<br>Delta: %{customdata[2]:.2g} cm",
         "legendgroup": "rechits",
         "legendgrouptitle": {
          "text": "Rechits"
         },
         "marker": {
          "color": "#FFA15A",
          "size": [
           9.834912300109863,
           7.753409385681152,
           4.812197685241699,
           1.4247783422470093,
           21.9720458984375,
           18.936067581176758,
           3.385671377182007
          ],
          "symbol": "circle"
         },
         "mode": "markers",
         "name": "2D cluster nb 1.0",
         "type": "scatter3d",
         "x": [
          3.7027809619903564,
          3.7027809619903564,
          3.7027809619903564,
          2.7283027172088623,
          2.7283027172088623,
          1.7538154125213623,
          0.7794501781463623
         ],
         "y": [
          -2.7351491451263428,
          -0.4846518039703369,
          -1.609895944595337,
          0.07784819602966309,
          -1.047395944595337,
          -0.4846518039703369,
          -1.047395944595337
         ],
         "z": [
          14.767499923706055,
          14.767499923706055,
          14.767499923706055,
          14.767499923706055,
          14.767499923706055,
          14.767499923706055,
          14.767499923706055
         ]
        },
        {
         "hoverinfo": "skip",
         "legendgroup": "rechits_chain",
         "line": {
          "width": 1.3544771228059285
         },
         "marker": {
          "color": "#FFA15A"
         },
         "mode": "lines",
         "name": "Rechits chain",
         "showlegend": false,
         "type": "scatter3d",
         "x": [
          3.7027809619903564,
          3.7027809619903564
         ],
         "y": [
          -2.7351491451263428,
          -1.609895944595337
         ],
         "z": [
          14.767499923706055,
          14.767499923706055
         ]
        },
        {
         "anchor": "tip",
         "colorscale": [
          [
           0,
           "#FFA15A"
          ],
          [
           1,
           "#FFA15A"
          ]
         ],
         "hoverinfo": "skip",
         "legendgroup": "rechits_chain",
         "showscale": false,
         "sizeref": 0.1,
         "type": "cone",
         "u": [
          0
         ],
         "v": [
          1
         ],
         "w": [
          0
         ],
         "x": [
          3.7027809619903564
         ],
         "y": [
          -1.609895944595337
         ],
         "z": [
          14.767499923706055
         ]
        },
        {
         "hoverinfo": "skip",
         "legendgroup": "rechits_chain",
         "line": {
          "width": 1
         },
         "marker": {
          "color": "#FFA15A"
         },
         "mode": "lines",
         "name": "Rechits chain",
         "showlegend": false,
         "type": "scatter3d",
         "x": [
          3.7027809619903564,
          2.7283027172088623
         ],
         "y": [
          -0.4846518039703369,
          0.07784819602966309
         ],
         "z": [
          14.767499923706055,
          14.767499923706055
         ]
        },
        {
         "anchor": "tip",
         "colorscale": [
          [
           0,
           "#FFA15A"
          ],
          [
           1,
           "#FFA15A"
          ]
         ],
         "hoverinfo": "skip",
         "legendgroup": "rechits_chain",
         "showscale": false,
         "sizeref": 0.1,
         "type": "cone",
         "u": [
          -0.8660697636731018
         ],
         "v": [
          0.4999231585466086
         ],
         "w": [
          0
         ],
         "x": [
          2.7283027172088623
         ],
         "y": [
          0.07784819602966309
         ],
         "z": [
          14.767499923706055
         ]
        },
        {
         "hoverinfo": "skip",
         "legendgroup": "rechits_chain",
         "line": {
          "width": 1.6546608806350862
         },
         "marker": {
          "color": "#FFA15A"
         },
         "mode": "lines",
         "name": "Rechits chain",
         "showlegend": false,
         "type": "scatter3d",
         "x": [
          3.7027809619903564,
          2.7283027172088623
         ],
         "y": [
          -1.609895944595337,
          -1.047395944595337
         ],
         "z": [
          14.767499923706055,
          14.767499923706055
         ]
        },
        {
         "anchor": "tip",
         "colorscale": [
          [
           0,
           "#FFA15A"
          ],
          [
           1,
           "#FFA15A"
          ]
         ],
         "hoverinfo": "skip",
         "legendgroup": "rechits_chain",
         "showscale": false,
         "sizeref": 0.1,
         "type": "cone",
         "u": [
          -0.8660697636731018
         ],
         "v": [
          0.4999231585466086
         ],
         "w": [
          0
         ],
         "x": [
          2.7283027172088623
         ],
         "y": [
          -1.047395944595337
         ],
         "z": [
          14.767499923706055
         ]
        },
        {
         "hoverinfo": "skip",
         "legendgroup": "rechits_chain",
         "line": {
          "width": 1.1557930954602262
         },
         "marker": {
          "color": "#FFA15A"
         },
         "mode": "lines",
         "name": "Rechits chain",
         "showlegend": false,
         "type": "scatter3d",
         "x": [
          2.7283027172088623,
          1.7538154125213623
         ],
         "y": [
          0.07784819602966309,
          -0.4846518039703369
         ],
         "z": [
          14.767499923706055,
          14.767499923706055
         ]
        },
        {
         "anchor": "tip",
         "colorscale": [
          [
           0,
           "#FFA15A"
          ],
          [
           1,
           "#FFA15A"
          ]
         ],
         "hoverinfo": "skip",
         "legendgroup": "rechits_chain",
         "showscale": false,
         "sizeref": 0.1,
         "type": "cone",
         "u": [
          -0.866071776036405
         ],
         "v": [
          -0.499919672300608
         ],
         "w": [
          0
         ],
         "x": [
          1.7538154125213623
         ],
         "y": [
          -0.4846518039703369
         ],
         "z": [
          14.767499923706055
         ]
        },
        {
         "hoverinfo": "skip",
         "legendgroup": "rechits_chain",
         "line": {
          "width": 3.4056610678213923
         },
         "marker": {
          "color": "#FFA15A"
         },
         "mode": "lines",
         "name": "Rechits chain",
         "showlegend": false,
         "type": "scatter3d",
         "x": [
          1.7538154125213623,
          2.7283027172088623
         ],
         "y": [
          -0.4846518039703369,
          -1.047395944595337
         ],
         "z": [
          14.767499923706055,
          14.767499923706055
         ]
        },
        {
         "anchor": "tip",
         "colorscale": [
          [
           0,
           "#FFA15A"
          ],
          [
           1,
           "#FFA15A"
          ]
         ],
         "hoverinfo": "skip",
         "legendgroup": "rechits_chain",
         "showscale": false,
         "sizeref": 0.1,
         "type": "cone",
         "u": [
          0.8659778263291473
         ],
         "v": [
          -0.5000823975168945
         ],
         "w": [
          0
         ],
         "x": [
          2.7283027172088623
         ],
         "y": [
          -1.047395944595337
         ],
         "z": [
          14.767499923706055
         ]
        },
        {
         "hoverinfo": "skip",
         "legendgroup": "rechits_chain",
         "line": {
          "width": 1
         },
         "marker": {
          "color": "#FFA15A"
         },
         "mode": "lines",
         "name": "Rechits chain",
         "showlegend": false,
         "type": "scatter3d",
         "x": [
          0.7794501781463623,
          1.7538154125213623
         ],
         "y": [
          -1.047395944595337,
          -0.4846518039703369
         ],
         "z": [
          14.767499923706055,
          14.767499923706055
         ]
        },
        {
         "anchor": "tip",
         "colorscale": [
          [
           0,
           "#FFA15A"
          ],
          [
           1,
           "#FFA15A"
          ]
         ],
         "hoverinfo": "skip",
         "legendgroup": "rechits_chain",
         "showscale": false,
         "sizeref": 0.1,
         "type": "cone",
         "u": [
          0.8659506941311695
         ],
         "v": [
          0.500129378594925
         ],
         "w": [
          0
         ],
         "x": [
          1.7538154125213623
         ],
         "y": [
          -0.4846518039703369
         ],
         "z": [
          14.767499923706055
         ]
        },
        {
         "customdata": [
          [
           "0.023972478",
           "0.21739922",
           "1.125173",
           "Follower",
           "3"
          ],
          [
           "0.01185241",
           "0.07617654",
           "1.125",
           "Follower",
           "3"
          ],
          [
           "0.027280372",
           "0.4658804",
           "1.1251807",
           "Follower",
           "3"
          ],
          [
           "0.3372103",
           "0.6997543",
           "1.1253028",
           "Follower",
           "3"
          ],
          [
           "0.04964319",
           "0.32894582",
           "1.1251221",
           "Follower",
           "3"
          ],
          [
           "0.42676947",
           "0.8342759",
           "3.4028235e+38",
           "Seed",
           "3"
          ],
          [
           "0.19742246",
           "0.6599231",
           "1.1251807",
           "Follower",
           "3"
          ],
          [
           "0.06197782",
           "0.37823159",
           "1.125075",
           "Follower",
           "3"
          ],
          [
           "0.089754164",
           "0.45095912",
           "1.125075",
           "Follower",
           "3"
          ],
          [
           "0.021624122",
           "0.16521242",
           "1.1251221",
           "Follower",
           "3"
          ],
          [
           "0.01461602",
           "0.09048201",
           "1.1252865",
           "Follower",
           "3"
          ],
          [
           "0.006116382",
           "0.006116382",
           "1.9489744",
           "Follower",
           "3"
          ],
          [
           "0.025775226",
           "0.3275116",
           "0.0",
           "Follower",
           "3"
          ],
          [
           "0.07559267",
           "0.35242033",
           "1.125",
           "Follower",
           "3"
          ]
         ],
         "hovertemplate": "Rechit : %{customdata[3]}<br>Layer : %{customdata[4]}<br>Energy: %{customdata[0]:.2g} GeV<br>Rho: %{customdata[1]:.2g} GeV<br>Delta: %{customdata[2]:.2g} cm",
         "legendgroup": "rechits",
         "legendgrouptitle": {
          "text": "Rechits"
         },
         "marker": {
          "color": "#19D3F3",
          "size": [
           7.537012100219727,
           4.166055679321289,
           8.155621528625488,
           20.189552307128906,
           11.020813941955566,
           21.3167724609375,
           17.62745475769043,
           12.082843780517578,
           13.854992866516113,
           7.043617248535156,
           5.1690850257873535,
           1,
           7.884013652801514,
           13.033208847045898
          ],
          "symbol": "circle"
         },
         "mode": "markers",
         "name": "2D cluster nb 2.0",
         "type": "scatter3d",
         "x": [
          3.6817710399627686,
          2.7072927951812744,
          2.7072927951812744,
          2.7072927951812744,
          2.7072927951812744,
          1.7328054904937744,
          1.7328054904937744,
          0.7584402561187744,
          0.7584402561187744,
          0.7584402561187744,
          -0.21616911888122559,
          4.656267166137695,
          1.7328054904937744,
          1.7328054904937744
         ],
         "y": [
          -1.5648858547210693,
          1.2478582859039307,
          0.12285828590393066,
          -1.0023858547210693,
          -2.1275079250335693,
          -0.43964171409606934,
          -1.5648858547210693,
          0.12285828590393066,
          -1.0023858547210693,
          -2.1275079250335693,
          -0.43964171409606934,
          1.2478582859039307,
          0.6853582859039307,
          0.6853582859039307
         ],
         "z": [
          16.782499313354492,
          16.782499313354492,
          16.782499313354492,
          16.782499313354492,
          16.782499313354492,
          16.782499313354492,
          16.782499313354492,
          16.782499313354492,
          16.782499313354492,
          16.782499313354492,
          16.782499313354492,
          16.782499313354492,
          16.782499313354492,
          16.782499313354492
         ]
        },
        {
         "hoverinfo": "skip",
         "legendgroup": "rechits_chain",
         "line": {
          "width": 1
         },
         "marker": {
          "color": "#19D3F3"
         },
         "mode": "lines",
         "name": "Rechits chain",
         "showlegend": false,
         "type": "scatter3d",
         "x": [
          3.6817710399627686,
          2.7072927951812744
         ],
         "y": [
          -1.5648858547210693,
          -1.0023858547210693
         ],
         "z": [
          16.782499313354492,
          16.782499313354492
         ]
        },
        {
         "anchor": "tip",
         "colorscale": [
          [
           0,
           "#19D3F3"
          ],
          [
           1,
           "#19D3F3"
          ]
         ],
         "hoverinfo": "skip",
         "legendgroup": "rechits_chain",
         "showscale": false,
         "sizeref": 0.1,
         "type": "cone",
         "u": [
          -0.8660697636731018
         ],
         "v": [
          0.4999231585466086
         ],
         "w": [
          0
         ],
         "x": [
          2.7072927951812744
         ],
         "y": [
          -1.0023858547210693
         ],
         "z": [
          16.782499313354492
         ]
        },
        {
         "hoverinfo": "skip",
         "legendgroup": "rechits_chain",
         "line": {
          "width": 1
         },
         "marker": {
          "color": "#19D3F3"
         },
         "mode": "lines",
         "name": "Rechits chain",
         "showlegend": false,
         "type": "scatter3d",
         "x": [
          2.7072927951812744,
          2.7072927951812744
         ],
         "y": [
          1.2478582859039307,
          0.12285828590393066
         ],
         "z": [
          16.782499313354492,
          16.782499313354492
         ]
        },
        {
         "anchor": "tip",
         "colorscale": [
          [
           0,
           "#19D3F3"
          ],
          [
           1,
           "#19D3F3"
          ]
         ],
         "hoverinfo": "skip",
         "legendgroup": "rechits_chain",
         "showscale": false,
         "sizeref": 0.1,
         "type": "cone",
         "u": [
          0
         ],
         "v": [
          -1
         ],
         "w": [
          0
         ],
         "x": [
          2.7072927951812744
         ],
         "y": [
          0.12285828590393066
         ],
         "z": [
          16.782499313354492
         ]
        },
        {
         "hoverinfo": "skip",
         "legendgroup": "rechits_chain",
         "line": {
          "width": 1.5095990835695936
         },
         "marker": {
          "color": "#19D3F3"
         },
         "mode": "lines",
         "name": "Rechits chain",
         "showlegend": false,
         "type": "scatter3d",
         "x": [
          2.7072927951812744,
          1.7328054904937744
         ],
         "y": [
          0.12285828590393066,
          -0.43964171409606934
         ],
         "z": [
          16.782499313354492,
          16.782499313354492
         ]
        },
        {
         "anchor": "tip",
         "colorscale": [
          [
           0,
           "#19D3F3"
          ],
          [
           1,
           "#19D3F3"
          ]
         ],
         "hoverinfo": "skip",
         "legendgroup": "rechits_chain",
         "showscale": false,
         "sizeref": 0.1,
         "type": "cone",
         "u": [
          -0.866071776036405
         ],
         "v": [
          -0.499919672300608
         ],
         "w": [
          0
         ],
         "x": [
          1.7328054904937744
         ],
         "y": [
          -0.43964171409606934
         ],
         "z": [
          16.782499313354492
         ]
        },
        {
         "hoverinfo": "skip",
         "legendgroup": "rechits_chain",
         "line": {
          "width": 4.276147525984987
         },
         "marker": {
          "color": "#19D3F3"
         },
         "mode": "lines",
         "name": "Rechits chain",
         "showlegend": false,
         "type": "scatter3d",
         "x": [
          2.7072927951812744,
          1.7328054904937744
         ],
         "y": [
          -1.0023858547210693,
          -0.43964171409606934
         ],
         "z": [
          16.782499313354492,
          16.782499313354492
         ]
        },
        {
         "anchor": "tip",
         "colorscale": [
          [
           0,
           "#19D3F3"
          ],
          [
           1,
           "#19D3F3"
          ]
         ],
         "hoverinfo": "skip",
         "legendgroup": "rechits_chain",
         "showscale": false,
         "sizeref": 0.1,
         "type": "cone",
         "u": [
          -0.8659778263291473
         ],
         "v": [
          0.5000823975168945
         ],
         "w": [
          0
         ],
         "x": [
          1.7328054904937744
         ],
         "y": [
          -0.43964171409606934
         ],
         "z": [
          16.782499313354492
         ]
        },
        {
         "hoverinfo": "skip",
         "legendgroup": "rechits_chain",
         "line": {
          "width": 1.6022761020838805
         },
         "marker": {
          "color": "#19D3F3"
         },
         "mode": "lines",
         "name": "Rechits chain",
         "showlegend": false,
         "type": "scatter3d",
         "x": [
          2.7072927951812744,
          2.7072927951812744
         ],
         "y": [
          -2.1275079250335693,
          -1.0023858547210693
         ],
         "z": [
          16.782499313354492,
          16.782499313354492
         ]
        },
        {
         "anchor": "tip",
         "colorscale": [
          [
           0,
           "#19D3F3"
          ],
          [
           1,
           "#19D3F3"
          ]
         ],
         "hoverinfo": "skip",
         "legendgroup": "rechits_chain",
         "showscale": false,
         "sizeref": 0.1,
         "type": "cone",
         "u": [
          0
         ],
         "v": [
          1
         ],
         "w": [
          0
         ],
         "x": [
          2.7072927951812744
         ],
         "y": [
          -1.0023858547210693
         ],
         "z": [
          16.782499313354492
         ]
        },
        {
         "hoverinfo": "skip",
         "legendgroup": "rechits_chain",
         "line": {
          "width": 3.43011114016478
         },
         "marker": {
          "color": "#19D3F3"
         },
         "mode": "lines",
         "name": "Rechits chain",
         "showlegend": false,
         "type": "scatter3d",
         "x": [
          1.7328054904937744,
          2.7072927951812744
         ],
         "y": [
          -1.5648858547210693,
          -1.0023858547210693
         ],
         "z": [
          16.782499313354492,
          16.782499313354492
         ]
        },
        {
         "anchor": "tip",
         "colorscale": [
          [
           0,
           "#19D3F3"
          ],
          [
           1,
           "#19D3F3"
          ]
         ],
         "hoverinfo": "skip",
         "legendgroup": "rechits_chain",
         "showscale": false,
         "sizeref": 0.1,
         "type": "cone",
         "u": [
          0.866071776036405
         ],
         "v": [
          0.499919672300608
         ],
         "w": [
          0
         ],
         "x": [
          2.7072927951812744
         ],
         "y": [
          -1.0023858547210693
         ],
         "z": [
          16.782499313354492
         ]
        },
        {
         "hoverinfo": "skip",
         "legendgroup": "rechits_chain",
         "line": {
          "width": 2.0359315449052
         },
         "marker": {
          "color": "#19D3F3"
         },
         "mode": "lines",
         "name": "Rechits chain",
         "showlegend": false,
         "type": "scatter3d",
         "x": [
          0.7584402561187744,
          1.7328054904937744
         ],
         "y": [
          0.12285828590393066,
          -0.43964171409606934
         ],
         "z": [
          16.782499313354492,
          16.782499313354492
         ]
        },
        {
         "anchor": "tip",
         "colorscale": [
          [
           0,
           "#19D3F3"
          ],
          [
           1,
           "#19D3F3"
          ]
         ],
         "hoverinfo": "skip",
         "legendgroup": "rechits_chain",
         "showscale": false,
         "sizeref": 0.1,
         "type": "cone",
         "u": [
          0.8660446585505366
         ],
         "v": [
          -0.4999666482837475
         ],
         "w": [
          0
         ],
         "x": [
          1.7328054904937744
         ],
         "y": [
          -0.43964171409606934
         ],
         "z": [
          16.782499313354492
         ]
        },
        {
         "hoverinfo": "skip",
         "legendgroup": "rechits_chain",
         "line": {
          "width": 2.410347296593954
         },
         "marker": {
          "color": "#19D3F3"
         },
         "mode": "lines",
         "name": "Rechits chain",
         "showlegend": false,
         "type": "scatter3d",
         "x": [
          0.7584402561187744,
          1.7328054904937744
         ],
         "y": [
          -1.0023858547210693,
          -1.5648858547210693
         ],
         "z": [
          16.782499313354492,
          16.782499313354492
         ]
        },
        {
         "anchor": "tip",
         "colorscale": [
          [
           0,
           "#19D3F3"
          ],
          [
           1,
           "#19D3F3"
          ]
         ],
         "hoverinfo": "skip",
         "legendgroup": "rechits_chain",
         "showscale": false,
         "sizeref": 0.1,
         "type": "cone",
         "u": [
          0.8660446585505366
         ],
         "v": [
          -0.4999666482837475
         ],
         "w": [
          0
         ],
         "x": [
          1.7328054904937744
         ],
         "y": [
          -1.5648858547210693
         ],
         "z": [
          16.782499313354492
         ]
        },
        {
         "hoverinfo": "skip",
         "legendgroup": "rechits_chain",
         "line": {
          "width": 1
         },
         "marker": {
          "color": "#19D3F3"
         },
         "mode": "lines",
         "name": "Rechits chain",
         "showlegend": false,
         "type": "scatter3d",
         "x": [
          0.7584402561187744,
          0.7584402561187744
         ],
         "y": [
          -2.1275079250335693,
          -1.0023858547210693
         ],
         "z": [
          16.782499313354492,
          16.782499313354492
         ]
        },
        {
         "anchor": "tip",
         "colorscale": [
          [
           0,
           "#19D3F3"
          ],
          [
           1,
           "#19D3F3"
          ]
         ],
         "hoverinfo": "skip",
         "legendgroup": "rechits_chain",
         "showscale": false,
         "sizeref": 0.1,
         "type": "cone",
         "u": [
          0
         ],
         "v": [
          1
         ],
         "w": [
          0
         ],
         "x": [
          0.7584402561187744
         ],
         "y": [
          -1.0023858547210693
         ],
         "z": [
          16.782499313354492
         ]
        },
        {
         "hoverinfo": "skip",
         "legendgroup": "rechits_chain",
         "line": {
          "width": 1
         },
         "marker": {
          "color": "#19D3F3"
         },
         "mode": "lines",
         "name": "Rechits chain",
         "showlegend": false,
         "type": "scatter3d",
         "x": [
          -0.21616911888122559,
          0.7584402561187744
         ],
         "y": [
          -0.43964171409606934,
          0.12285828590393066
         ],
         "z": [
          16.782499313354492,
          16.782499313354492
         ]
        },
        {
         "anchor": "tip",
         "colorscale": [
          [
           0,
           "#19D3F3"
          ],
          [
           1,
           "#19D3F3"
          ]
         ],
         "hoverinfo": "skip",
         "legendgroup": "rechits_chain",
         "showscale": false,
         "sizeref": 0.1,
         "type": "cone",
         "u": [
          0.8660988858794976
         ],
         "v": [
          0.4998727036739385
         ],
         "w": [
          0
         ],
         "x": [
          0.7584402561187744
         ],
         "y": [
          0.12285828590393066
         ],
         "z": [
          16.782499313354492
         ]
        },
        {
         "hoverinfo": "skip",
         "legendgroup": "rechits_chain",
         "line": {
          "width": 1
         },
         "marker": {
          "color": "#19D3F3"
         },
         "mode": "lines",
         "name": "Rechits chain",
         "showlegend": false,
         "type": "scatter3d",
         "x": [
          4.656267166137695,
          2.7072927951812744
         ],
         "y": [
          1.2478582859039307,
          1.2478582859039307
         ],
         "z": [
          16.782499313354492,
          16.782499313354492
         ]
        },
        {
         "anchor": "tip",
         "colorscale": [
          [
           0,
           "#19D3F3"
          ],
          [
           1,
           "#19D3F3"
          ]
         ],
         "hoverinfo": "skip",
         "legendgroup": "rechits_chain",
         "showscale": false,
         "sizeref": 0.1,
         "type": "cone",
         "u": [
          -0.9999999999999999
         ],
         "v": [
          0
         ],
         "w": [
          0
         ],
         "x": [
          2.7072927951812744
         ],
         "y": [
          1.2478582859039307
         ],
         "z": [
          16.782499313354492
         ]
        },
        {
         "hoverinfo": "skip",
         "legendgroup": "rechits_chain",
         "line": {
          "width": 2.316171307957426
         },
         "marker": {
          "color": "#19D3F3"
         },
         "mode": "lines",
         "name": "Rechits chain",
         "showlegend": false,
         "type": "scatter3d",
         "x": [
          1.7328054904937744,
          1.7328054904937744
         ],
         "y": [
          0.6853582859039307,
          -0.43964171409606934
         ],
         "z": [
          16.782499313354492,
          16.782499313354492
         ]
        },
        {
         "anchor": "tip",
         "colorscale": [
          [
           0,
           "#19D3F3"
          ],
          [
           1,
           "#19D3F3"
          ]
         ],
         "hoverinfo": "skip",
         "legendgroup": "rechits_chain",
         "showscale": false,
         "sizeref": 0.1,
         "type": "cone",
         "u": [
          0
         ],
         "v": [
          -1
         ],
         "w": [
          0
         ],
         "x": [
          1.7328054904937744
         ],
         "y": [
          -0.43964171409606934
         ],
         "z": [
          16.782499313354492
         ]
        },
        {
         "customdata": [
          [
           "0.024220334",
           "0.07011085",
           "1.1252385",
           "Follower",
           "4"
          ],
          [
           "0.06735171",
           "0.40234134",
           "1.125173",
           "Follower",
           "4"
          ],
          [
           "0.05471824",
           "0.68177754",
           "1.1251807",
           "Follower",
           "4"
          ],
          [
           "0.6213296",
           "0.9926914",
           "1.1253028",
           "Follower",
           "4"
          ],
          [
           "0.024429321",
           "0.38088015",
           "1.1251221",
           "Follower",
           "4"
          ],
          [
           "0.036564764",
           "0.39472538",
           "1.125",
           "Follower",
           "4"
          ],
          [
           "0.5962243",
           "1.0114541",
           "3.4028235e+38",
           "Seed",
           "4"
          ],
          [
           "0.06537864",
           "0.40800738",
           "1.125075",
           "Follower",
           "4"
          ],
          [
           "0.052468404",
           "0.3832699",
           "1.1251972",
           "Follower",
           "4"
          ]
         ],
         "hovertemplate": "Rechit : %{customdata[3]}<br>Layer : %{customdata[4]}<br>Energy: %{customdata[0]:.2g} GeV<br>Rho: %{customdata[1]:.2g} GeV<br>Delta: %{customdata[2]:.2g} cm",
         "legendgroup": "rechits",
         "legendgrouptitle": {
          "text": "Rechits"
         },
         "marker": {
          "color": "#FF6692",
          "size": [
           7.586238861083984,
           12.480785369873047,
           11.486639022827148,
           23.114381790161133,
           7.627355098724365,
           9.557448387145996,
           22.916994094848633,
           12.338493347167969,
           11.285704612731934
          ],
          "symbol": "circle"
         },
         "mode": "markers",
         "name": "2D cluster nb 3.0",
         "type": "scatter3d",
         "x": [
          3.539011001586914,
          3.539011001586914,
          2.56453275680542,
          2.56453275680542,
          2.56453275680542,
          1.59004545211792,
          1.59004545211792,
          0.6156802177429199,
          0.6156802177429199
         ],
         "y": [
          -2.7358291149139404,
          -1.6105759143829346,
          0.07716822624206543,
          -1.0480759143829346,
          -2.1731979846954346,
          0.6396682262420654,
          -0.48533177375793457,
          0.07716822624206543,
          -1.0480759143829346
         ],
         "z": [
          17.672500610351562,
          17.672500610351562,
          17.672500610351562,
          17.672500610351562,
          17.672500610351562,
          17.672500610351562,
          17.672500610351562,
          17.672500610351562,
          17.672500610351562
         ]
        },
        {
         "hoverinfo": "skip",
         "legendgroup": "rechits_chain",
         "line": {
          "width": 1.7003754808758382
         },
         "marker": {
          "color": "#FF6692"
         },
         "mode": "lines",
         "name": "Rechits chain",
         "showlegend": false,
         "type": "scatter3d",
         "x": [
          3.539011001586914,
          2.56453275680542
         ],
         "y": [
          -2.7358291149139404,
          -2.1731979846954346
         ],
         "z": [
          17.672500610351562,
          17.672500610351562
         ]
        },
        {
         "anchor": "tip",
         "colorscale": [
          [
           0,
           "#FF6692"
          ],
          [
           1,
           "#FF6692"
          ]
         ],
         "hoverinfo": "skip",
         "legendgroup": "rechits_chain",
         "showscale": false,
         "sizeref": 0.1,
         "type": "cone",
         "u": [
          -0.8660193030850141
         ],
         "v": [
          0.5000105665724939
         ],
         "w": [
          0
         ],
         "x": [
          2.56453275680542
         ],
         "y": [
          -2.1731979846954346
         ],
         "z": [
          17.672500610351562
         ]
        },
        {
         "hoverinfo": "skip",
         "legendgroup": "rechits_chain",
         "line": {
          "width": 1.9073431447456703
         },
         "marker": {
          "color": "#FF6692"
         },
         "mode": "lines",
         "name": "Rechits chain",
         "showlegend": false,
         "type": "scatter3d",
         "x": [
          3.539011001586914,
          2.56453275680542
         ],
         "y": [
          -1.6105759143829346,
          -1.0480759143829346
         ],
         "z": [
          17.672500610351562,
          17.672500610351562
         ]
        },
        {
         "anchor": "tip",
         "colorscale": [
          [
           0,
           "#FF6692"
          ],
          [
           1,
           "#FF6692"
          ]
         ],
         "hoverinfo": "skip",
         "legendgroup": "rechits_chain",
         "showscale": false,
         "sizeref": 0.1,
         "type": "cone",
         "u": [
          -0.8660697636731018
         ],
         "v": [
          0.4999231585466086
         ],
         "w": [
          0
         ],
         "x": [
          2.56453275680542
         ],
         "y": [
          -1.0480759143829346
         ],
         "z": [
          17.672500610351562
         ]
        },
        {
         "hoverinfo": "skip",
         "legendgroup": "rechits_chain",
         "line": {
          "width": 1.6996120360818252
         },
         "marker": {
          "color": "#FF6692"
         },
         "mode": "lines",
         "name": "Rechits chain",
         "showlegend": false,
         "type": "scatter3d",
         "x": [
          2.56453275680542,
          1.59004545211792
         ],
         "y": [
          0.07716822624206543,
          -0.48533177375793457
         ],
         "z": [
          17.672500610351562,
          17.672500610351562
         ]
        },
        {
         "anchor": "tip",
         "colorscale": [
          [
           0,
           "#FF6692"
          ],
          [
           1,
           "#FF6692"
          ]
         ],
         "hoverinfo": "skip",
         "legendgroup": "rechits_chain",
         "showscale": false,
         "sizeref": 0.1,
         "type": "cone",
         "u": [
          -0.866071776036405
         ],
         "v": [
          -0.499919672300608
         ],
         "w": [
          0
         ],
         "x": [
          1.59004545211792
         ],
         "y": [
          -0.48533177375793457
         ],
         "z": [
          17.672500610351562
         ]
        },
        {
         "hoverinfo": "skip",
         "legendgroup": "rechits_chain",
         "line": {
          "width": 4.341036220498601
         },
         "marker": {
          "color": "#FF6692"
         },
         "mode": "lines",
         "name": "Rechits chain",
         "showlegend": false,
         "type": "scatter3d",
         "x": [
          2.56453275680542,
          1.59004545211792
         ],
         "y": [
          -1.0480759143829346,
          -0.48533177375793457
         ],
         "z": [
          17.672500610351562,
          17.672500610351562
         ]
        },
        {
         "anchor": "tip",
         "colorscale": [
          [
           0,
           "#FF6692"
          ],
          [
           1,
           "#FF6692"
          ]
         ],
         "hoverinfo": "skip",
         "legendgroup": "rechits_chain",
         "showscale": false,
         "sizeref": 0.1,
         "type": "cone",
         "u": [
          -0.8659778263291473
         ],
         "v": [
          0.5000823975168945
         ],
         "w": [
          0
         ],
         "x": [
          1.59004545211792
         ],
         "y": [
          -0.48533177375793457
         ],
         "z": [
          17.672500610351562
         ]
        },
        {
         "hoverinfo": "skip",
         "legendgroup": "rechits_chain",
         "line": {
          "width": 2.069256761071538
         },
         "marker": {
          "color": "#FF6692"
         },
         "mode": "lines",
         "name": "Rechits chain",
         "showlegend": false,
         "type": "scatter3d",
         "x": [
          2.56453275680542,
          2.56453275680542
         ],
         "y": [
          -2.1731979846954346,
          -1.0480759143829346
         ],
         "z": [
          17.672500610351562,
          17.672500610351562
         ]
        },
        {
         "anchor": "tip",
         "colorscale": [
          [
           0,
           "#FF6692"
          ],
          [
           1,
           "#FF6692"
          ]
         ],
         "hoverinfo": "skip",
         "legendgroup": "rechits_chain",
         "showscale": false,
         "sizeref": 0.1,
         "type": "cone",
         "u": [
          0
         ],
         "v": [
          1
         ],
         "w": [
          0
         ],
         "x": [
          2.56453275680542
         ],
         "y": [
          -1.0480759143829346
         ],
         "z": [
          17.672500610351562
         ]
        },
        {
         "hoverinfo": "skip",
         "legendgroup": "rechits_chain",
         "line": {
          "width": 1.2964999414770706
         },
         "marker": {
          "color": "#FF6692"
         },
         "mode": "lines",
         "name": "Rechits chain",
         "showlegend": false,
         "type": "scatter3d",
         "x": [
          1.59004545211792,
          1.59004545211792
         ],
         "y": [
          0.6396682262420654,
          -0.48533177375793457
         ],
         "z": [
          17.672500610351562,
          17.672500610351562
         ]
        },
        {
         "anchor": "tip",
         "colorscale": [
          [
           0,
           "#FF6692"
          ],
          [
           1,
           "#FF6692"
          ]
         ],
         "hoverinfo": "skip",
         "legendgroup": "rechits_chain",
         "showscale": false,
         "sizeref": 0.1,
         "type": "cone",
         "u": [
          0
         ],
         "v": [
          -1
         ],
         "w": [
          0
         ],
         "x": [
          1.59004545211792
         ],
         "y": [
          -0.48533177375793457
         ],
         "z": [
          17.672500610351562
         ]
        },
        {
         "hoverinfo": "skip",
         "legendgroup": "rechits_chain",
         "line": {
          "width": 1.877610561257961
         },
         "marker": {
          "color": "#FF6692"
         },
         "mode": "lines",
         "name": "Rechits chain",
         "showlegend": false,
         "type": "scatter3d",
         "x": [
          0.6156802177429199,
          1.59004545211792
         ],
         "y": [
          0.07716822624206543,
          -0.48533177375793457
         ],
         "z": [
          17.672500610351562,
          17.672500610351562
         ]
        },
        {
         "anchor": "tip",
         "colorscale": [
          [
           0,
           "#FF6692"
          ],
          [
           1,
           "#FF6692"
          ]
         ],
         "hoverinfo": "skip",
         "legendgroup": "rechits_chain",
         "showscale": false,
         "sizeref": 0.1,
         "type": "cone",
         "u": [
          0.8660446585505366
         ],
         "v": [
          -0.4999666482837475
         ],
         "w": [
          0
         ],
         "x": [
          1.59004545211792
         ],
         "y": [
          -0.48533177375793457
         ],
         "z": [
          17.672500610351562
         ]
        },
        {
         "hoverinfo": "skip",
         "legendgroup": "rechits_chain",
         "line": {
          "width": 1.657626070174038
         },
         "marker": {
          "color": "#FF6692"
         },
         "mode": "lines",
         "name": "Rechits chain",
         "showlegend": false,
         "type": "scatter3d",
         "x": [
          0.6156802177429199,
          1.59004545211792
         ],
         "y": [
          -1.0480759143829346,
          -0.48533177375793457
         ],
         "z": [
          17.672500610351562,
          17.672500610351562
         ]
        },
        {
         "anchor": "tip",
         "colorscale": [
          [
           0,
           "#FF6692"
          ],
          [
           1,
           "#FF6692"
          ]
         ],
         "hoverinfo": "skip",
         "legendgroup": "rechits_chain",
         "showscale": false,
         "sizeref": 0.1,
         "type": "cone",
         "u": [
          0.8659506941311695
         ],
         "v": [
          0.500129378594925
         ],
         "w": [
          0
         ],
         "x": [
          1.59004545211792
         ],
         "y": [
          -0.48533177375793457
         ],
         "z": [
          17.672500610351562
         ]
        },
        {
         "customdata": [
          [
           "0.099670045",
           "0.3000099",
           "1.103192",
           "Follower",
           "5"
          ],
          [
           "0.20012139",
           "0.75160223",
           "1.0783343",
           "Follower",
           "5"
          ],
          [
           "0.34265357",
           "0.87049955",
           "1.125173",
           "Follower",
           "5"
          ],
          [
           "0.0063953907",
           "0.102288604",
           "1.125",
           "Follower",
           "5"
          ],
          [
           "0.062433787",
           "0.6918406",
           "1.052563",
           "Follower",
           "5"
          ],
          [
           "0.5933376",
           "1.0919886",
           "3.4028235e+38",
           "Seed",
           "5"
          ],
          [
           "0.32960656",
           "0.8316712",
           "1.1253028",
           "Follower",
           "5"
          ],
          [
           "0.062486693",
           "0.5533815",
           "1.1251807",
           "Follower",
           "5"
          ],
          [
           "0.09767306",
           "0.3616548",
           "1.125075",
           "Follower",
           "5"
          ],
          [
           "0.058845434",
           "0.308808",
           "1.125075",
           "Follower",
           "5"
          ],
          [
           "0.0101588",
           "0.088418044",
           "1.1252865",
           "Follower",
           "5"
          ],
          [
           "0.013852328",
           "0.013852328",
           "1.9488525",
           "Follower",
           "5"
          ],
          [
           "0.05802614",
           "0.33145633",
           "1.1251221",
           "Follower",
           "5"
          ],
          [
           "0.10453678",
           "0.40493733",
           "1.1251884",
           "Follower",
           "5"
          ],
          [
           "0.02324747",
           "0.32435444",
           "0.0",
           "Follower",
           "5"
          ],
          [
           "0.10610517",
           "0.3657833",
           "1.125",
           "Follower",
           "5"
          ]
         ],
         "hovertemplate": "Rechit : %{customdata[3]}<br>Layer : %{customdata[4]}<br>Energy: %{customdata[0]:.2g} GeV<br>Rho: %{customdata[1]:.2g} GeV<br>Delta: %{customdata[2]:.2g} cm",
         "legendgroup": "rechits",
         "legendgrouptitle": {
          "text": "Rechits"
         },
         "marker": {
          "color": "#B6E880",
          "size": [
           14.356493949890137,
           17.69243621826172,
           20.26618766784668,
           1.2134747505187988,
           12.11792278289795,
           22.893768310546875,
           20.08040428161621,
           12.121976852416992,
           14.259634017944336,
           11.834644317626953,
           3.4281373023986816,
           4.912257194519043,
           11.767544746398926,
           14.584648132324219,
           7.390041351318359,
           14.655916213989258
          ],
          "symbol": "circle"
         },
         "mode": "markers",
         "name": "2D cluster nb 4.0",
         "type": "scatter3d",
         "x": [
          3.539011001586914,
          3.539011001586914,
          3.608940839767456,
          2.634462594985962,
          2.634462594985962,
          2.634462594985962,
          1.659975290298462,
          1.659975290298462,
          0.6856100559234619,
          0.6856100559234619,
          -0.2889993190765381,
          6.532289505004883,
          4.583436965942383,
          4.583436965942383,
          1.659975290298462,
          1.659975290298462
         ],
         "y": [
          -2.7358291149139404,
          -0.48533177375793457,
          -1.6348557472229004,
          1.1778883934020996,
          0.05288839340209961,
          -1.0723557472229004,
          -0.5096116065979004,
          -1.6348557472229004,
          0.05288839340209961,
          -1.0723557472229004,
          -0.5096116065979004,
          -1.0723557472229004,
          -2.1974778175354004,
          -1.0723557472229004,
          0.6153883934020996,
          0.6153883934020996
         ],
         "z": [
          19.6875,
          19.6875,
          19.6875,
          19.6875,
          19.6875,
          19.6875,
          19.6875,
          19.6875,
          19.6875,
          19.6875,
          19.6875,
          19.6875,
          19.6875,
          19.6875,
          19.6875,
          19.6875
         ]
        },
        {
         "hoverinfo": "skip",
         "legendgroup": "rechits_chain",
         "line": {
          "width": 2.299280088255717
         },
         "marker": {
          "color": "#B6E880"
         },
         "mode": "lines",
         "name": "Rechits chain",
         "showlegend": false,
         "type": "scatter3d",
         "x": [
          3.539011001586914,
          3.608940839767456
         ],
         "y": [
          -2.7358291149139404,
          -1.6348557472229004
         ],
         "z": [
          19.6875,
          19.6875
         ]
        },
        {
         "anchor": "tip",
         "colorscale": [
          [
           0,
           "#B6E880"
          ],
          [
           1,
           "#B6E880"
          ]
         ],
         "hoverinfo": "skip",
         "legendgroup": "rechits_chain",
         "showscale": false,
         "sizeref": 0.1,
         "type": "cone",
         "u": [
          0.06338863917039256
         ],
         "v": [
          0.9979889179866307
         ],
         "w": [
          0
         ],
         "x": [
          3.608940839767456
         ],
         "y": [
          -1.6348557472229004
         ],
         "z": [
          19.6875
         ]
        },
        {
         "hoverinfo": "skip",
         "legendgroup": "rechits_chain",
         "line": {
          "width": 3.351520832225574
         },
         "marker": {
          "color": "#B6E880"
         },
         "mode": "lines",
         "name": "Rechits chain",
         "showlegend": false,
         "type": "scatter3d",
         "x": [
          3.539011001586914,
          2.634462594985962
         ],
         "y": [
          -0.48533177375793457,
          -1.0723557472229004
         ],
         "z": [
          19.6875,
          19.6875
         ]
        },
        {
         "anchor": "tip",
         "colorscale": [
          [
           0,
           "#B6E880"
          ],
          [
           1,
           "#B6E880"
          ]
         ],
         "hoverinfo": "skip",
         "legendgroup": "rechits_chain",
         "showscale": false,
         "sizeref": 0.1,
         "type": "cone",
         "u": [
          -0.838838537025174
         ],
         "v": [
          -0.5443802979549001
         ],
         "w": [
          0
         ],
         "x": [
          2.634462594985962
         ],
         "y": [
          -1.0723557472229004
         ],
         "z": [
          19.6875
         ]
        },
        {
         "hoverinfo": "skip",
         "legendgroup": "rechits_chain",
         "line": {
          "width": 4.125098222532431
         },
         "marker": {
          "color": "#B6E880"
         },
         "mode": "lines",
         "name": "Rechits chain",
         "showlegend": false,
         "type": "scatter3d",
         "x": [
          3.608940839767456,
          2.634462594985962
         ],
         "y": [
          -1.6348557472229004,
          -1.0723557472229004
         ],
         "z": [
          19.6875,
          19.6875
         ]
        },
        {
         "anchor": "tip",
         "colorscale": [
          [
           0,
           "#B6E880"
          ],
          [
           1,
           "#B6E880"
          ]
         ],
         "hoverinfo": "skip",
         "legendgroup": "rechits_chain",
         "showscale": false,
         "sizeref": 0.1,
         "type": "cone",
         "u": [
          -0.8660697636731018
         ],
         "v": [
          0.4999231585466086
         ],
         "w": [
          0
         ],
         "x": [
          2.634462594985962
         ],
         "y": [
          -1.0723557472229004
         ],
         "z": [
          19.6875
         ]
        },
        {
         "hoverinfo": "skip",
         "legendgroup": "rechits_chain",
         "line": {
          "width": 1
         },
         "marker": {
          "color": "#B6E880"
         },
         "mode": "lines",
         "name": "Rechits chain",
         "showlegend": false,
         "type": "scatter3d",
         "x": [
          2.634462594985962,
          2.634462594985962
         ],
         "y": [
          1.1778883934020996,
          0.05288839340209961
         ],
         "z": [
          19.6875,
          19.6875
         ]
        },
        {
         "anchor": "tip",
         "colorscale": [
          [
           0,
           "#B6E880"
          ],
          [
           1,
           "#B6E880"
          ]
         ],
         "hoverinfo": "skip",
         "legendgroup": "rechits_chain",
         "showscale": false,
         "sizeref": 0.1,
         "type": "cone",
         "u": [
          0
         ],
         "v": [
          -1
         ],
         "w": [
          0
         ],
         "x": [
          2.634462594985962
         ],
         "y": [
          0.05288839340209961
         ],
         "z": [
          19.6875
         ]
        },
        {
         "hoverinfo": "skip",
         "legendgroup": "rechits_chain",
         "line": {
          "width": 2.144055339064272
         },
         "marker": {
          "color": "#B6E880"
         },
         "mode": "lines",
         "name": "Rechits chain",
         "showlegend": false,
         "type": "scatter3d",
         "x": [
          2.634462594985962,
          3.539011001586914
         ],
         "y": [
          0.05288839340209961,
          -0.48533177375793457
         ],
         "z": [
          19.6875,
          19.6875
         ]
        },
        {
         "anchor": "tip",
         "colorscale": [
          [
           0,
           "#B6E880"
          ],
          [
           1,
           "#B6E880"
          ]
         ],
         "hoverinfo": "skip",
         "legendgroup": "rechits_chain",
         "showscale": false,
         "sizeref": 0.1,
         "type": "cone",
         "u": [
          0.8593770137549294
         ],
         "v": [
          -0.511342496013836
         ],
         "w": [
          0
         ],
         "x": [
          3.539011001586914
         ],
         "y": [
          -0.48533177375793457
         ],
         "z": [
          19.6875
         ]
        },
        {
         "hoverinfo": "skip",
         "legendgroup": "rechits_chain",
         "line": {
          "width": 4.037405644253454
         },
         "marker": {
          "color": "#B6E880"
         },
         "mode": "lines",
         "name": "Rechits chain",
         "showlegend": false,
         "type": "scatter3d",
         "x": [
          1.659975290298462,
          2.634462594985962
         ],
         "y": [
          -0.5096116065979004,
          -1.0723557472229004
         ],
         "z": [
          19.6875,
          19.6875
         ]
        },
        {
         "anchor": "tip",
         "colorscale": [
          [
           0,
           "#B6E880"
          ],
          [
           1,
           "#B6E880"
          ]
         ],
         "hoverinfo": "skip",
         "legendgroup": "rechits_chain",
         "showscale": false,
         "sizeref": 0.1,
         "type": "cone",
         "u": [
          0.8659778263291473
         ],
         "v": [
          -0.5000823975168945
         ],
         "w": [
          0
         ],
         "x": [
          2.634462594985962
         ],
         "y": [
          -1.0723557472229004
         ],
         "z": [
          19.6875
         ]
        },
        {
         "hoverinfo": "skip",
         "legendgroup": "rechits_chain",
         "line": {
          "width": 2.495946548570058
         },
         "marker": {
          "color": "#B6E880"
         },
         "mode": "lines",
         "name": "Rechits chain",
         "showlegend": false,
         "type": "scatter3d",
         "x": [
          1.659975290298462,
          2.634462594985962
         ],
         "y": [
          -1.6348557472229004,
          -1.0723557472229004
         ],
         "z": [
          19.6875,
          19.6875
         ]
        },
        {
         "anchor": "tip",
         "colorscale": [
          [
           0,
           "#B6E880"
          ],
          [
           1,
           "#B6E880"
          ]
         ],
         "hoverinfo": "skip",
         "legendgroup": "rechits_chain",
         "showscale": false,
         "sizeref": 0.1,
         "type": "cone",
         "u": [
          0.866071776036405
         ],
         "v": [
          0.499919672300608
         ],
         "w": [
          0
         ],
         "x": [
          2.634462594985962
         ],
         "y": [
          -1.0723557472229004
         ],
         "z": [
          19.6875
         ]
        },
        {
         "hoverinfo": "skip",
         "legendgroup": "rechits_chain",
         "line": {
          "width": 2.3779880514913105
         },
         "marker": {
          "color": "#B6E880"
         },
         "mode": "lines",
         "name": "Rechits chain",
         "showlegend": false,
         "type": "scatter3d",
         "x": [
          0.6856100559234619,
          1.659975290298462
         ],
         "y": [
          0.05288839340209961,
          -0.5096116065979004
         ],
         "z": [
          19.6875,
          19.6875
         ]
        },
        {
         "anchor": "tip",
         "colorscale": [
          [
           0,
           "#B6E880"
          ],
          [
           1,
           "#B6E880"
          ]
         ],
         "hoverinfo": "skip",
         "legendgroup": "rechits_chain",
         "showscale": false,
         "sizeref": 0.1,
         "type": "cone",
         "u": [
          0.8660446585505366
         ],
         "v": [
          -0.4999666482837475
         ],
         "w": [
          0
         ],
         "x": [
          1.659975290298462
         ],
         "y": [
          -0.5096116065979004
         ],
         "z": [
          19.6875
         ]
        },
        {
         "hoverinfo": "skip",
         "legendgroup": "rechits_chain",
         "line": {
          "width": 1.7723291563577817
         },
         "marker": {
          "color": "#B6E880"
         },
         "mode": "lines",
         "name": "Rechits chain",
         "showlegend": false,
         "type": "scatter3d",
         "x": [
          0.6856100559234619,
          1.659975290298462
         ],
         "y": [
          -1.0723557472229004,
          -1.6348557472229004
         ],
         "z": [
          19.6875,
          19.6875
         ]
        },
        {
         "anchor": "tip",
         "colorscale": [
          [
           0,
           "#B6E880"
          ],
          [
           1,
           "#B6E880"
          ]
         ],
         "hoverinfo": "skip",
         "legendgroup": "rechits_chain",
         "showscale": false,
         "sizeref": 0.1,
         "type": "cone",
         "u": [
          0.8660446585505366
         ],
         "v": [
          -0.4999666482837475
         ],
         "w": [
          0
         ],
         "x": [
          1.659975290298462
         ],
         "y": [
          -1.6348557472229004
         ],
         "z": [
          19.6875
         ]
        },
        {
         "hoverinfo": "skip",
         "legendgroup": "rechits_chain",
         "line": {
          "width": 1
         },
         "marker": {
          "color": "#B6E880"
         },
         "mode": "lines",
         "name": "Rechits chain",
         "showlegend": false,
         "type": "scatter3d",
         "x": [
          -0.2889993190765381,
          0.6856100559234619
         ],
         "y": [
          -0.5096116065979004,
          0.05288839340209961
         ],
         "z": [
          19.6875,
          19.6875
         ]
        },
        {
         "anchor": "tip",
         "colorscale": [
          [
           0,
           "#B6E880"
          ],
          [
           1,
           "#B6E880"
          ]
         ],
         "hoverinfo": "skip",
         "legendgroup": "rechits_chain",
         "showscale": false,
         "sizeref": 0.1,
         "type": "cone",
         "u": [
          0.8660988858794976
         ],
         "v": [
          0.4998727036739385
         ],
         "w": [
          0
         ],
         "x": [
          0.6856100559234619
         ],
         "y": [
          0.05288839340209961
         ],
         "z": [
          19.6875
         ]
        },
        {
         "hoverinfo": "skip",
         "legendgroup": "rechits_chain",
         "line": {
          "width": 1
         },
         "marker": {
          "color": "#B6E880"
         },
         "mode": "lines",
         "name": "Rechits chain",
         "showlegend": false,
         "type": "scatter3d",
         "x": [
          6.532289505004883,
          4.583436965942383
         ],
         "y": [
          -1.0723557472229004,
          -1.0723557472229004
         ],
         "z": [
          19.6875,
          19.6875
         ]
        },
        {
         "anchor": "tip",
         "colorscale": [
          [
           0,
           "#B6E880"
          ],
          [
           1,
           "#B6E880"
          ]
         ],
         "hoverinfo": "skip",
         "legendgroup": "rechits_chain",
         "showscale": false,
         "sizeref": 0.1,
         "type": "cone",
         "u": [
          -1
         ],
         "v": [
          0
         ],
         "w": [
          0
         ],
         "x": [
          4.583436965942383
         ],
         "y": [
          -1.0723557472229004
         ],
         "z": [
          19.6875
         ]
        },
        {
         "hoverinfo": "skip",
         "legendgroup": "rechits_chain",
         "line": {
          "width": 1.7583084831547608
         },
         "marker": {
          "color": "#B6E880"
         },
         "mode": "lines",
         "name": "Rechits chain",
         "showlegend": false,
         "type": "scatter3d",
         "x": [
          4.583436965942383,
          4.583436965942383
         ],
         "y": [
          -2.1974778175354004,
          -1.0723557472229004
         ],
         "z": [
          19.6875,
          19.6875
         ]
        },
        {
         "anchor": "tip",
         "colorscale": [
          [
           0,
           "#B6E880"
          ],
          [
           1,
           "#B6E880"
          ]
         ],
         "hoverinfo": "skip",
         "legendgroup": "rechits_chain",
         "showscale": false,
         "sizeref": 0.1,
         "type": "cone",
         "u": [
          0
         ],
         "v": [
          1
         ],
         "w": [
          0
         ],
         "x": [
          4.583436965942383
         ],
         "y": [
          -1.0723557472229004
         ],
         "z": [
          19.6875
         ]
        },
        {
         "hoverinfo": "skip",
         "legendgroup": "rechits_chain",
         "line": {
          "width": 2.870255475302109
         },
         "marker": {
          "color": "#B6E880"
         },
         "mode": "lines",
         "name": "Rechits chain",
         "showlegend": false,
         "type": "scatter3d",
         "x": [
          4.583436965942383,
          3.608940839767456
         ],
         "y": [
          -1.0723557472229004,
          -1.6348557472229004
         ],
         "z": [
          19.6875,
          19.6875
         ]
        },
        {
         "anchor": "tip",
         "colorscale": [
          [
           0,
           "#B6E880"
          ],
          [
           1,
           "#B6E880"
          ]
         ],
         "hoverinfo": "skip",
         "legendgroup": "rechits_chain",
         "showscale": false,
         "sizeref": 0.1,
         "type": "cone",
         "u": [
          -0.8660737354023266
         ],
         "v": [
          -0.4999162778368602
         ],
         "w": [
          0
         ],
         "x": [
          3.608940839767456
         ],
         "y": [
          -1.6348557472229004
         ],
         "z": [
          19.6875
         ]
        },
        {
         "hoverinfo": "skip",
         "legendgroup": "rechits_chain",
         "line": {
          "width": 2.5599572279584093
         },
         "marker": {
          "color": "#B6E880"
         },
         "mode": "lines",
         "name": "Rechits chain",
         "showlegend": false,
         "type": "scatter3d",
         "x": [
          1.659975290298462,
          1.659975290298462
         ],
         "y": [
          0.6153883934020996,
          -0.5096116065979004
         ],
         "z": [
          19.6875,
          19.6875
         ]
        },
        {
         "anchor": "tip",
         "colorscale": [
          [
           0,
           "#B6E880"
          ],
          [
           1,
           "#B6E880"
          ]
         ],
         "hoverinfo": "skip",
         "legendgroup": "rechits_chain",
         "showscale": false,
         "sizeref": 0.1,
         "type": "cone",
         "u": [
          0
         ],
         "v": [
          -1
         ],
         "w": [
          0
         ],
         "x": [
          1.659975290298462
         ],
         "y": [
          -0.5096116065979004
         ],
         "z": [
          19.6875
         ]
        },
        {
         "customdata": [
          [
           "0.14816718",
           "0.19800505",
           "0.9514859",
           "Follower",
           "6"
          ],
          [
           "0.093133576",
           "0.6797655",
           "0.9516155",
           "Follower",
           "6"
          ],
          [
           "0.100934684",
           "0.61639184",
           "1.0810531",
           "Follower",
           "6"
          ],
          [
           "0.0065421793",
           "0.747814",
           "1.1251807",
           "Follower",
           "6"
          ],
          [
           "0.9176199",
           "1.134555",
           "3.4028235e+38",
           "Seed",
           "6"
          ],
          [
           "0.020160811",
           "0.5416022",
           "1.1251221",
           "Follower",
           "6"
          ],
          [
           "0.1348524",
           "0.23250872",
           "1.125",
           "Follower",
           "6"
          ],
          [
           "0.18877049",
           "0.7906197",
           "1.1253028",
           "Follower",
           "6"
          ],
          [
           "0.024328263",
           "0.64778167",
           "1.1251807",
           "Follower",
           "6"
          ],
          [
           "0.1203556",
           "0.2424298",
           "1.125075",
           "Follower",
           "6"
          ],
          [
           "0.031049646",
           "0.09122744",
           "1.1252865",
           "Follower",
           "6"
          ]
         ],
         "hovertemplate": "Rechit : %{customdata[3]}<br>Layer : %{customdata[4]}<br>Energy: %{customdata[0]:.2g} GeV<br>Rho: %{customdata[1]:.2g} GeV<br>Delta: %{customdata[2]:.2g} cm",
         "legendgroup": "rechits",
         "legendgrouptitle": {
          "text": "Rechits"
         },
         "marker": {
          "color": "#FF97FF",
          "size": [
           16.253925323486328,
           14.031875610351562,
           14.416834831237793,
           1.3220783472061157,
           24.980445861816406,
           6.708285808563232,
           15.803297996520996,
           17.412986755371094,
           7.607517719268799,
           15.259015083312988,
           8.774991035461426
          ],
          "symbol": "circle"
         },
         "mode": "markers",
         "name": "2D cluster nb 5.0",
         "type": "scatter3d",
         "x": [
          3.608940839767456,
          3.608940839767456,
          3.7771010398864746,
          2.8026227951049805,
          2.8026227951049805,
          2.8026227951049805,
          1.8281354904174805,
          1.8281354904174805,
          1.8281354904174805,
          0.8537702560424805,
          -0.12083911895751953
         ],
         "y": [
          0.6153883934020996,
          -0.5096116065979004,
          -1.5775058269500732,
          0.11023831367492676,
          -1.0150058269500732,
          -2.1401278972625732,
          0.6727383136749268,
          -0.45226168632507324,
          -1.5775058269500732,
          -1.0150058269500732,
          -1.5775058269500732
         ],
         "z": [
          20.577499389648438,
          20.577499389648438,
          20.577499389648438,
          20.577499389648438,
          20.577499389648438,
          20.577499389648438,
          20.577499389648438,
          20.577499389648438,
          20.577499389648438,
          20.577499389648438,
          20.577499389648438
         ]
        },
        {
         "hoverinfo": "skip",
         "legendgroup": "rechits_chain",
         "line": {
          "width": 2.6957561245892165
         },
         "marker": {
          "color": "#FF97FF"
         },
         "mode": "lines",
         "name": "Rechits chain",
         "showlegend": false,
         "type": "scatter3d",
         "x": [
          3.608940839767456,
          2.8026227951049805
         ],
         "y": [
          0.6153883934020996,
          0.11023831367492676
         ],
         "z": [
          20.577499389648438,
          20.577499389648438
         ]
        },
        {
         "anchor": "tip",
         "colorscale": [
          [
           0,
           "#FF97FF"
          ],
          [
           1,
           "#FF97FF"
          ]
         ],
         "hoverinfo": "skip",
         "legendgroup": "rechits_chain",
         "showscale": false,
         "sizeref": 0.1,
         "type": "cone",
         "u": [
          -0.847430378220141
         ],
         "v": [
          -0.5309065398633444
         ],
         "w": [
          0
         ],
         "x": [
          2.8026227951049805
         ],
         "y": [
          0.11023831367492676
         ],
         "z": [
          20.577499389648438
         ]
        },
        {
         "hoverinfo": "skip",
         "legendgroup": "rechits_chain",
         "line": {
          "width": 3.071899978979248
         },
         "marker": {
          "color": "#FF97FF"
         },
         "mode": "lines",
         "name": "Rechits chain",
         "showlegend": false,
         "type": "scatter3d",
         "x": [
          3.608940839767456,
          2.8026227951049805
         ],
         "y": [
          -0.5096116065979004,
          -1.0150058269500732
         ],
         "z": [
          20.577499389648438,
          20.577499389648438
         ]
        },
        {
         "anchor": "tip",
         "colorscale": [
          [
           0,
           "#FF97FF"
          ],
          [
           1,
           "#FF97FF"
          ]
         ],
         "hoverinfo": "skip",
         "legendgroup": "rechits_chain",
         "showscale": false,
         "sizeref": 0.1,
         "type": "cone",
         "u": [
          -0.8473149329917637
         ],
         "v": [
          -0.5310907684465651
         ],
         "w": [
          0
         ],
         "x": [
          2.8026227951049805
         ],
         "y": [
          -1.0150058269500732
         ],
         "z": [
          20.577499389648438
         ]
        },
        {
         "hoverinfo": "skip",
         "legendgroup": "rechits_chain",
         "line": {
          "width": 2.5071175776370365
         },
         "marker": {
          "color": "#FF97FF"
         },
         "mode": "lines",
         "name": "Rechits chain",
         "showlegend": false,
         "type": "scatter3d",
         "x": [
          3.7771010398864746,
          3.608940839767456
         ],
         "y": [
          -1.5775058269500732,
          -0.5096116065979004
         ],
         "z": [
          20.577499389648438,
          20.577499389648438
         ]
        },
        {
         "anchor": "tip",
         "colorscale": [
          [
           0,
           "#FF97FF"
          ],
          [
           1,
           "#FF97FF"
          ]
         ],
         "hoverinfo": "skip",
         "legendgroup": "rechits_chain",
         "showscale": false,
         "sizeref": 0.1,
         "type": "cone",
         "u": [
          -0.15555220362032918
         ],
         "v": [
          0.9878276732046231
         ],
         "w": [
          0
         ],
         "x": [
          3.608940839767456
         ],
         "y": [
          -0.5096116065979004
         ],
         "z": [
          20.577499389648438
         ]
        },
        {
         "hoverinfo": "skip",
         "legendgroup": "rechits_chain",
         "line": {
          "width": 2.7389631495213087
         },
         "marker": {
          "color": "#FF97FF"
         },
         "mode": "lines",
         "name": "Rechits chain",
         "showlegend": false,
         "type": "scatter3d",
         "x": [
          2.8026227951049805,
          1.8281354904174805
         ],
         "y": [
          0.11023831367492676,
          -0.45226168632507324
         ],
         "z": [
          20.577499389648438,
          20.577499389648438
         ]
        },
        {
         "anchor": "tip",
         "colorscale": [
          [
           0,
           "#FF97FF"
          ],
          [
           1,
           "#FF97FF"
          ]
         ],
         "hoverinfo": "skip",
         "legendgroup": "rechits_chain",
         "showscale": false,
         "sizeref": 0.1,
         "type": "cone",
         "u": [
          -0.866071776036405
         ],
         "v": [
          -0.499919672300608
         ],
         "w": [
          0
         ],
         "x": [
          1.8281354904174805
         ],
         "y": [
          -0.45226168632507324
         ],
         "z": [
          20.577499389648438
         ]
        },
        {
         "hoverinfo": "skip",
         "legendgroup": "rechits_chain",
         "line": {
          "width": 1
         },
         "marker": {
          "color": "#FF97FF"
         },
         "mode": "lines",
         "name": "Rechits chain",
         "showlegend": false,
         "type": "scatter3d",
         "x": [
          2.8026227951049805,
          2.8026227951049805
         ],
         "y": [
          -2.1401278972625732,
          -1.0150058269500732
         ],
         "z": [
          20.577499389648438,
          20.577499389648438
         ]
        },
        {
         "anchor": "tip",
         "colorscale": [
          [
           0,
           "#FF97FF"
          ],
          [
           1,
           "#FF97FF"
          ]
         ],
         "hoverinfo": "skip",
         "legendgroup": "rechits_chain",
         "showscale": false,
         "sizeref": 0.1,
         "type": "cone",
         "u": [
          0
         ],
         "v": [
          1
         ],
         "w": [
          0
         ],
         "x": [
          2.8026227951049805
         ],
         "y": [
          -1.0150058269500732
         ],
         "z": [
          20.577499389648438
         ]
        },
        {
         "hoverinfo": "skip",
         "legendgroup": "rechits_chain",
         "line": {
          "width": 2.6015957129163017
         },
         "marker": {
          "color": "#FF97FF"
         },
         "mode": "lines",
         "name": "Rechits chain",
         "showlegend": false,
         "type": "scatter3d",
         "x": [
          1.8281354904174805,
          1.8281354904174805
         ],
         "y": [
          0.6727383136749268,
          -0.45226168632507324
         ],
         "z": [
          20.577499389648438,
          20.577499389648438
         ]
        },
        {
         "anchor": "tip",
         "colorscale": [
          [
           0,
           "#FF97FF"
          ],
          [
           1,
           "#FF97FF"
          ]
         ],
         "hoverinfo": "skip",
         "legendgroup": "rechits_chain",
         "showscale": false,
         "sizeref": 0.1,
         "type": "cone",
         "u": [
          0
         ],
         "v": [
          -1
         ],
         "w": [
          0
         ],
         "x": [
          1.8281354904174805
         ],
         "y": [
          -0.45226168632507324
         ],
         "z": [
          20.577499389648438
         ]
        },
        {
         "hoverinfo": "skip",
         "legendgroup": "rechits_chain",
         "line": {
          "width": 3.8677204601222965
         },
         "marker": {
          "color": "#FF97FF"
         },
         "mode": "lines",
         "name": "Rechits chain",
         "showlegend": false,
         "type": "scatter3d",
         "x": [
          1.8281354904174805,
          2.8026227951049805
         ],
         "y": [
          -0.45226168632507324,
          -1.0150058269500732
         ],
         "z": [
          20.577499389648438,
          20.577499389648438
         ]
        },
        {
         "anchor": "tip",
         "colorscale": [
          [
           0,
           "#FF97FF"
          ],
          [
           1,
           "#FF97FF"
          ]
         ],
         "hoverinfo": "skip",
         "legendgroup": "rechits_chain",
         "showscale": false,
         "sizeref": 0.1,
         "type": "cone",
         "u": [
          0.8659778263291473
         ],
         "v": [
          -0.5000823975168945
         ],
         "w": [
          0
         ],
         "x": [
          2.8026227951049805
         ],
         "y": [
          -1.0150058269500732
         ],
         "z": [
          20.577499389648438
         ]
        },
        {
         "hoverinfo": "skip",
         "legendgroup": "rechits_chain",
         "line": {
          "width": 2.8663835985410855
         },
         "marker": {
          "color": "#FF97FF"
         },
         "mode": "lines",
         "name": "Rechits chain",
         "showlegend": false,
         "type": "scatter3d",
         "x": [
          1.8281354904174805,
          2.8026227951049805
         ],
         "y": [
          -1.5775058269500732,
          -1.0150058269500732
         ],
         "z": [
          20.577499389648438,
          20.577499389648438
         ]
        },
        {
         "anchor": "tip",
         "colorscale": [
          [
           0,
           "#FF97FF"
          ],
          [
           1,
           "#FF97FF"
          ]
         ],
         "hoverinfo": "skip",
         "legendgroup": "rechits_chain",
         "showscale": false,
         "sizeref": 0.1,
         "type": "cone",
         "u": [
          0.866071776036405
         ],
         "v": [
          0.499919672300608
         ],
         "w": [
          0
         ],
         "x": [
          2.8026227951049805
         ],
         "y": [
          -1.0150058269500732
         ],
         "z": [
          20.577499389648438
         ]
        },
        {
         "hoverinfo": "skip",
         "legendgroup": "rechits_chain",
         "line": {
          "width": 2.717374891172029
         },
         "marker": {
          "color": "#FF97FF"
         },
         "mode": "lines",
         "name": "Rechits chain",
         "showlegend": false,
         "type": "scatter3d",
         "x": [
          0.8537702560424805,
          1.8281354904174805
         ],
         "y": [
          -1.0150058269500732,
          -1.5775058269500732
         ],
         "z": [
          20.577499389648438,
          20.577499389648438
         ]
        },
        {
         "anchor": "tip",
         "colorscale": [
          [
           0,
           "#FF97FF"
          ],
          [
           1,
           "#FF97FF"
          ]
         ],
         "hoverinfo": "skip",
         "legendgroup": "rechits_chain",
         "showscale": false,
         "sizeref": 0.1,
         "type": "cone",
         "u": [
          0.8660446585505366
         ],
         "v": [
          -0.4999666482837475
         ],
         "w": [
          0
         ],
         "x": [
          1.8281354904174805
         ],
         "y": [
          -1.5775058269500732
         ],
         "z": [
          20.577499389648438
         ]
        },
        {
         "hoverinfo": "skip",
         "legendgroup": "rechits_chain",
         "line": {
          "width": 1.1330023284339161
         },
         "marker": {
          "color": "#FF97FF"
         },
         "mode": "lines",
         "name": "Rechits chain",
         "showlegend": false,
         "type": "scatter3d",
         "x": [
          -0.12083911895751953,
          0.8537702560424805
         ],
         "y": [
          -1.5775058269500732,
          -1.0150058269500732
         ],
         "z": [
          20.577499389648438,
          20.577499389648438
         ]
        },
        {
         "anchor": "tip",
         "colorscale": [
          [
           0,
           "#FF97FF"
          ],
          [
           1,
           "#FF97FF"
          ]
         ],
         "hoverinfo": "skip",
         "legendgroup": "rechits_chain",
         "showscale": false,
         "sizeref": 0.1,
         "type": "cone",
         "u": [
          0.8660988858794976
         ],
         "v": [
          0.4998727036739385
         ],
         "w": [
          0
         ],
         "x": [
          0.8537702560424805
         ],
         "y": [
          -1.0150058269500732
         ],
         "z": [
          20.577499389648438
         ]
        },
        {
         "customdata": [
          [
           "0.05226619",
           "0.40315688",
           "1.1188065",
           "Follower",
           "7"
          ],
          [
           "0.2542356",
           "0.534373",
           "1.121316",
           "Follower",
           "7"
          ],
          [
           "0.048134573",
           "0.10304648",
           "1.1252372",
           "Follower",
           "7"
          ],
          [
           "0.03110949",
           "0.074526906",
           "1.125",
           "Follower",
           "7"
          ],
          [
           "0.013654374",
           "0.40494627",
           "1.1251807",
           "Follower",
           "7"
          ],
          [
           "0.43389142",
           "0.72885835",
           "3.4028235e+38",
           "Seed",
           "7"
          ],
          [
           "0.04713063",
           "0.46186352",
           "1.1187453",
           "Follower",
           "7"
          ],
          [
           "0.19213626",
           "0.54332846",
           "1.1253028",
           "Follower",
           "7"
          ],
          [
           "0.030510949",
           "0.43695152",
           "1.1251807",
           "Follower",
           "7"
          ],
          [
           "0.06269317",
           "0.12558125",
           "1.1252463",
           "Follower",
           "7"
          ],
          [
           "0.07411757",
           "0.24529076",
           "1.125075",
           "Follower",
           "7"
          ],
          [
           "0.07702965",
           "0.22541204",
           "1.125075",
           "Follower",
           "7"
          ],
          [
           "0.009472324",
           "0.009472324",
           "1.9487305",
           "Follower",
           "7"
          ],
          [
           "0.008482326",
           "0.008482326",
           "1.9489787",
           "Follower",
           "7"
          ],
          [
           "0.026986582",
           "0.15410438",
           "1.1291307",
           "Follower",
           "7"
          ],
          [
           "0.011953736",
           "0.19807595",
           "0.0",
           "Follower",
           "7"
          ],
          [
           "0.061226718",
           "0.22271243",
           "1.125",
           "Follower",
           "7"
          ]
         ],
         "hovertemplate": "Rechit : %{customdata[3]}<br>Layer : %{customdata[4]}<br>Energy: %{customdata[0]:.2g} GeV<br>Rho: %{customdata[1]:.2g} GeV<br>Delta: %{customdata[2]:.2g} cm",
         "legendgroup": "rechits",
         "legendgrouptitle": {
          "text": "Rechits"
         },
         "marker": {
          "color": "#FECB52",
          "size": [
           11.26722526550293,
           18.83784294128418,
           10.873124122619629,
           8.78420639038086,
           4.843374729156494,
           21.395978927612305,
           10.772252082824707,
           17.4975643157959,
           8.691231727600098,
           12.137764930725098,
           12.938897132873535,
           13.123330116271973,
           3.093299150466919,
           2.565002679824829,
           8.103802680969238,
           4.206794261932373,
           12.024491310119629
          ],
          "symbol": "circle"
         },
         "mode": "markers",
         "name": "2D cluster nb 6.0",
         "type": "scatter3d",
         "x": [
          3.7771010398864746,
          3.7771010398864746,
          2.808602809906006,
          2.808602809906006,
          2.808602809906006,
          2.808602809906006,
          2.808602809906006,
          1.8341155052185059,
          1.8341155052185059,
          1.8341155052185059,
          0.8597502708435059,
          0.8597502708435059,
          -1.0889801979064941,
          5.732064723968506,
          4.757577419281006,
          1.8341155052185059,
          1.8341155052185059
         ],
         "y": [
          -0.45226168632507324,
          -1.5775058269500732,
          -3.262752056121826,
          1.2378582954406738,
          0.11285829544067383,
          -1.0123858451843262,
          -2.137507915496826,
          -0.44964170455932617,
          -1.5748858451843262,
          -2.700139045715332,
          0.11285829544067383,
          -1.0123858451843262,
          -1.0123858451843262,
          -0.44964170455932617,
          -2.137507915496826,
          0.6753582954406738,
          0.6753582954406738
         ],
         "z": [
          22.6924991607666,
          22.6924991607666,
          22.6924991607666,
          22.6924991607666,
          22.6924991607666,
          22.6924991607666,
          22.6924991607666,
          22.6924991607666,
          22.6924991607666,
          22.6924991607666,
          22.6924991607666,
          22.6924991607666,
          22.6924991607666,
          22.6924991607666,
          22.6924991607666,
          22.6924991607666,
          22.6924991607666
         ]
        },
        {
         "hoverinfo": "skip",
         "legendgroup": "rechits_chain",
         "line": {
          "width": 1.6537646386712823
         },
         "marker": {
          "color": "#FECB52"
         },
         "mode": "lines",
         "name": "Rechits chain",
         "showlegend": false,
         "type": "scatter3d",
         "x": [
          3.7771010398864746,
          2.808602809906006
         ],
         "y": [
          -0.45226168632507324,
          -1.0123858451843262
         ],
         "z": [
          22.6924991607666,
          22.6924991607666
         ]
        },
        {
         "anchor": "tip",
         "colorscale": [
          [
           0,
           "#FECB52"
          ],
          [
           1,
           "#FECB52"
          ]
         ],
         "hoverinfo": "skip",
         "legendgroup": "rechits_chain",
         "showscale": false,
         "sizeref": 0.1,
         "type": "cone",
         "u": [
          -0.8656530549785076
         ],
         "v": [
          -0.5006443731895694
         ],
         "w": [
          0
         ],
         "x": [
          2.808602809906006
         ],
         "y": [
          -1.0123858451843262
         ],
         "z": [
          22.6924991607666
         ]
        },
        {
         "hoverinfo": "skip",
         "legendgroup": "rechits_chain",
         "line": {
          "width": 3.863746854699181
         },
         "marker": {
          "color": "#FECB52"
         },
         "mode": "lines",
         "name": "Rechits chain",
         "showlegend": false,
         "type": "scatter3d",
         "x": [
          3.7771010398864746,
          2.808602809906006
         ],
         "y": [
          -1.5775058269500732,
          -1.0123858451843262
         ],
         "z": [
          22.6924991607666,
          22.6924991607666
         ]
        },
        {
         "anchor": "tip",
         "colorscale": [
          [
           0,
           "#FECB52"
          ],
          [
           1,
           "#FECB52"
          ]
         ],
         "hoverinfo": "skip",
         "legendgroup": "rechits_chain",
         "showscale": false,
         "sizeref": 0.1,
         "type": "cone",
         "u": [
          -0.8637157503225257
         ],
         "v": [
          0.5039792680704203
         ],
         "w": [
          0
         ],
         "x": [
          2.808602809906006
         ],
         "y": [
          -1.0123858451843262
         ],
         "z": [
          22.6924991607666
         ]
        },
        {
         "hoverinfo": "skip",
         "legendgroup": "rechits_chain",
         "line": {
          "width": 2.0400118495711976
         },
         "marker": {
          "color": "#FECB52"
         },
         "mode": "lines",
         "name": "Rechits chain",
         "showlegend": false,
         "type": "scatter3d",
         "x": [
          2.808602809906006,
          1.8341155052185059
         ],
         "y": [
          -3.262752056121826,
          -2.700139045715332
         ],
         "z": [
          22.6924991607666,
          22.6924991607666
         ]
        },
        {
         "anchor": "tip",
         "colorscale": [
          [
           0,
           "#FECB52"
          ],
          [
           1,
           "#FECB52"
          ]
         ],
         "hoverinfo": "skip",
         "legendgroup": "rechits_chain",
         "showscale": false,
         "sizeref": 0.1,
         "type": "cone",
         "u": [
          -0.8660282888646941
         ],
         "v": [
          0.4999950028611187
         ],
         "w": [
          0
         ],
         "x": [
          1.8341155052185059
         ],
         "y": [
          -2.700139045715332
         ],
         "z": [
          22.6924991607666
         ]
        },
        {
         "hoverinfo": "skip",
         "legendgroup": "rechits_chain",
         "line": {
          "width": 1.5346304306085456
         },
         "marker": {
          "color": "#FECB52"
         },
         "mode": "lines",
         "name": "Rechits chain",
         "showlegend": false,
         "type": "scatter3d",
         "x": [
          2.808602809906006,
          2.808602809906006
         ],
         "y": [
          1.2378582954406738,
          0.11285829544067383
         ],
         "z": [
          22.6924991607666,
          22.6924991607666
         ]
        },
        {
         "anchor": "tip",
         "colorscale": [
          [
           0,
           "#FECB52"
          ],
          [
           1,
           "#FECB52"
          ]
         ],
         "hoverinfo": "skip",
         "legendgroup": "rechits_chain",
         "showscale": false,
         "sizeref": 0.1,
         "type": "cone",
         "u": [
          0
         ],
         "v": [
          -1
         ],
         "w": [
          0
         ],
         "x": [
          2.808602809906006
         ],
         "y": [
          0.11285829544067383
         ],
         "z": [
          22.6924991607666
         ]
        },
        {
         "hoverinfo": "skip",
         "legendgroup": "rechits_chain",
         "line": {
          "width": 1.7926004344577733
         },
         "marker": {
          "color": "#FECB52"
         },
         "mode": "lines",
         "name": "Rechits chain",
         "showlegend": false,
         "type": "scatter3d",
         "x": [
          2.808602809906006,
          1.8341155052185059
         ],
         "y": [
          0.11285829544067383,
          -0.44964170455932617
         ],
         "z": [
          22.6924991607666,
          22.6924991607666
         ]
        },
        {
         "anchor": "tip",
         "colorscale": [
          [
           0,
           "#FECB52"
          ],
          [
           1,
           "#FECB52"
          ]
         ],
         "hoverinfo": "skip",
         "legendgroup": "rechits_chain",
         "showscale": false,
         "sizeref": 0.1,
         "type": "cone",
         "u": [
          -0.866071776036405
         ],
         "v": [
          -0.499919672300608
         ],
         "w": [
          0
         ],
         "x": [
          1.8341155052185059
         ],
         "y": [
          -0.44964170455932617
         ],
         "z": [
          22.6924991607666
         ]
        },
        {
         "hoverinfo": "skip",
         "legendgroup": "rechits_chain",
         "line": {
          "width": 2.92708293549099
         },
         "marker": {
          "color": "#FECB52"
         },
         "mode": "lines",
         "name": "Rechits chain",
         "showlegend": false,
         "type": "scatter3d",
         "x": [
          2.808602809906006,
          3.7771010398864746
         ],
         "y": [
          -2.137507915496826,
          -1.5775058269500732
         ],
         "z": [
          22.6924991607666,
          22.6924991607666
         ]
        },
        {
         "anchor": "tip",
         "colorscale": [
          [
           0,
           "#FECB52"
          ],
          [
           1,
           "#FECB52"
          ]
         ],
         "hoverinfo": "skip",
         "legendgroup": "rechits_chain",
         "showscale": false,
         "sizeref": 0.1,
         "type": "cone",
         "u": [
          0.8657003392336879
         ],
         "v": [
          0.5005626061250256
         ],
         "w": [
          0
         ],
         "x": [
          3.7771010398864746
         ],
         "y": [
          -1.5775058269500732
         ],
         "z": [
          22.6924991607666
         ]
        },
        {
         "hoverinfo": "skip",
         "legendgroup": "rechits_chain",
         "line": {
          "width": 3.6875905287829718
         },
         "marker": {
          "color": "#FECB52"
         },
         "mode": "lines",
         "name": "Rechits chain",
         "showlegend": false,
         "type": "scatter3d",
         "x": [
          1.8341155052185059,
          2.808602809906006
         ],
         "y": [
          -0.44964170455932617,
          -1.0123858451843262
         ],
         "z": [
          22.6924991607666,
          22.6924991607666
         ]
        },
        {
         "anchor": "tip",
         "colorscale": [
          [
           0,
           "#FECB52"
          ],
          [
           1,
           "#FECB52"
          ]
         ],
         "hoverinfo": "skip",
         "legendgroup": "rechits_chain",
         "showscale": false,
         "sizeref": 0.1,
         "type": "cone",
         "u": [
          0.8659778263291473
         ],
         "v": [
          -0.5000823975168945
         ],
         "w": [
          0
         ],
         "x": [
          2.808602809906006
         ],
         "y": [
          -1.0123858451843262
         ],
         "z": [
          22.6924991607666
         ]
        },
        {
         "hoverinfo": "skip",
         "legendgroup": "rechits_chain",
         "line": {
          "width": 2.4596993095996407
         },
         "marker": {
          "color": "#FECB52"
         },
         "mode": "lines",
         "name": "Rechits chain",
         "showlegend": false,
         "type": "scatter3d",
         "x": [
          1.8341155052185059,
          2.808602809906006
         ],
         "y": [
          -1.5748858451843262,
          -1.0123858451843262
         ],
         "z": [
          22.6924991607666,
          22.6924991607666
         ]
        },
        {
         "anchor": "tip",
         "colorscale": [
          [
           0,
           "#FECB52"
          ],
          [
           1,
           "#FECB52"
          ]
         ],
         "hoverinfo": "skip",
         "legendgroup": "rechits_chain",
         "showscale": false,
         "sizeref": 0.1,
         "type": "cone",
         "u": [
          0.866071776036405
         ],
         "v": [
          0.499919672300608
         ],
         "w": [
          0
         ],
         "x": [
          2.808602809906006
         ],
         "y": [
          -1.0123858451843262
         ],
         "z": [
          22.6924991607666
         ]
        },
        {
         "hoverinfo": "skip",
         "legendgroup": "rechits_chain",
         "line": {
          "width": 2.6361973473444644
         },
         "marker": {
          "color": "#FECB52"
         },
         "mode": "lines",
         "name": "Rechits chain",
         "showlegend": false,
         "type": "scatter3d",
         "x": [
          1.8341155052185059,
          2.808602809906006
         ],
         "y": [
          -2.700139045715332,
          -2.137507915496826
         ],
         "z": [
          22.6924991607666,
          22.6924991607666
         ]
        },
        {
         "anchor": "tip",
         "colorscale": [
          [
           0,
           "#FECB52"
          ],
          [
           1,
           "#FECB52"
          ]
         ],
         "hoverinfo": "skip",
         "legendgroup": "rechits_chain",
         "showscale": false,
         "sizeref": 0.1,
         "type": "cone",
         "u": [
          0.8660213160347869
         ],
         "v": [
          0.5000070801232472
         ],
         "w": [
          0
         ],
         "x": [
          2.808602809906006
         ],
         "y": [
          -2.137507915496826
         ],
         "z": [
          22.6924991607666
         ]
        },
        {
         "hoverinfo": "skip",
         "legendgroup": "rechits_chain",
         "line": {
          "width": 2.0030675382625103
         },
         "marker": {
          "color": "#FECB52"
         },
         "mode": "lines",
         "name": "Rechits chain",
         "showlegend": false,
         "type": "scatter3d",
         "x": [
          0.8597502708435059,
          1.8341155052185059
         ],
         "y": [
          0.11285829544067383,
          -0.44964170455932617
         ],
         "z": [
          22.6924991607666,
          22.6924991607666
         ]
        },
        {
         "anchor": "tip",
         "colorscale": [
          [
           0,
           "#FECB52"
          ],
          [
           1,
           "#FECB52"
          ]
         ],
         "hoverinfo": "skip",
         "legendgroup": "rechits_chain",
         "showscale": false,
         "sizeref": 0.1,
         "type": "cone",
         "u": [
          0.8660446585505366
         ],
         "v": [
          -0.4999666482837475
         ],
         "w": [
          0
         ],
         "x": [
          1.8341155052185059
         ],
         "y": [
          -0.44964170455932617
         ],
         "z": [
          22.6924991607666
         ]
        },
        {
         "hoverinfo": "skip",
         "legendgroup": "rechits_chain",
         "line": {
          "width": 2.1575821701060915
         },
         "marker": {
          "color": "#FECB52"
         },
         "mode": "lines",
         "name": "Rechits chain",
         "showlegend": false,
         "type": "scatter3d",
         "x": [
          0.8597502708435059,
          1.8341155052185059
         ],
         "y": [
          -1.0123858451843262,
          -1.5748858451843262
         ],
         "z": [
          22.6924991607666,
          22.6924991607666
         ]
        },
        {
         "anchor": "tip",
         "colorscale": [
          [
           0,
           "#FECB52"
          ],
          [
           1,
           "#FECB52"
          ]
         ],
         "hoverinfo": "skip",
         "legendgroup": "rechits_chain",
         "showscale": false,
         "sizeref": 0.1,
         "type": "cone",
         "u": [
          0.8660446585505366
         ],
         "v": [
          -0.4999666482837475
         ],
         "w": [
          0
         ],
         "x": [
          1.8341155052185059
         ],
         "y": [
          -1.5748858451843262
         ],
         "z": [
          22.6924991607666
         ]
        },
        {
         "hoverinfo": "skip",
         "legendgroup": "rechits_chain",
         "line": {
          "width": 1
         },
         "marker": {
          "color": "#FECB52"
         },
         "mode": "lines",
         "name": "Rechits chain",
         "showlegend": false,
         "type": "scatter3d",
         "x": [
          -1.0889801979064941,
          0.8597502708435059
         ],
         "y": [
          -1.0123858451843262,
          -1.0123858451843262
         ],
         "z": [
          22.6924991607666,
          22.6924991607666
         ]
        },
        {
         "anchor": "tip",
         "colorscale": [
          [
           0,
           "#FECB52"
          ],
          [
           1,
           "#FECB52"
          ]
         ],
         "hoverinfo": "skip",
         "legendgroup": "rechits_chain",
         "showscale": false,
         "sizeref": 0.1,
         "type": "cone",
         "u": [
          1
         ],
         "v": [
          0
         ],
         "w": [
          0
         ],
         "x": [
          0.8597502708435059
         ],
         "y": [
          -1.0123858451843262
         ],
         "z": [
          22.6924991607666
         ]
        },
        {
         "hoverinfo": "skip",
         "legendgroup": "rechits_chain",
         "line": {
          "width": 1
         },
         "marker": {
          "color": "#FECB52"
         },
         "mode": "lines",
         "name": "Rechits chain",
         "showlegend": false,
         "type": "scatter3d",
         "x": [
          5.732064723968506,
          4.757577419281006
         ],
         "y": [
          -0.44964170455932617,
          -2.137507915496826
         ],
         "z": [
          22.6924991607666,
          22.6924991607666
         ]
        },
        {
         "anchor": "tip",
         "colorscale": [
          [
           0,
           "#FECB52"
          ],
          [
           1,
           "#FECB52"
          ]
         ],
         "hoverinfo": "skip",
         "legendgroup": "rechits_chain",
         "showscale": false,
         "sizeref": 0.1,
         "type": "cone",
         "u": [
          -0.499998958472075
         ],
         "v": [
          -0.8660260051100314
         ],
         "w": [
          0
         ],
         "x": [
          4.757577419281006
         ],
         "y": [
          -2.137507915496826
         ],
         "z": [
          22.6924991607666
         ]
        },
        {
         "hoverinfo": "skip",
         "legendgroup": "rechits_chain",
         "line": {
          "width": 1.2660713894933586
         },
         "marker": {
          "color": "#FECB52"
         },
         "mode": "lines",
         "name": "Rechits chain",
         "showlegend": false,
         "type": "scatter3d",
         "x": [
          4.757577419281006,
          3.7771010398864746
         ],
         "y": [
          -2.137507915496826,
          -1.5775058269500732
         ],
         "z": [
          22.6924991607666,
          22.6924991607666
         ]
        },
        {
         "anchor": "tip",
         "colorscale": [
          [
           0,
           "#FECB52"
          ],
          [
           1,
           "#FECB52"
          ]
         ],
         "hoverinfo": "skip",
         "legendgroup": "rechits_chain",
         "showscale": false,
         "sizeref": 0.1,
         "type": "cone",
         "u": [
          -0.868346178720212
         ],
         "v": [
          0.4959585808331233
         ],
         "w": [
          0
         ],
         "x": [
          3.7771010398864746
         ],
         "y": [
          -1.5775058269500732
         ],
         "z": [
          22.6924991607666
         ]
        },
        {
         "hoverinfo": "skip",
         "legendgroup": "rechits_chain",
         "line": {
          "width": 1.990343268433742
         },
         "marker": {
          "color": "#FECB52"
         },
         "mode": "lines",
         "name": "Rechits chain",
         "showlegend": false,
         "type": "scatter3d",
         "x": [
          1.8341155052185059,
          1.8341155052185059
         ],
         "y": [
          0.6753582954406738,
          -0.44964170455932617
         ],
         "z": [
          22.6924991607666,
          22.6924991607666
         ]
        },
        {
         "anchor": "tip",
         "colorscale": [
          [
           0,
           "#FECB52"
          ],
          [
           1,
           "#FECB52"
          ]
         ],
         "hoverinfo": "skip",
         "legendgroup": "rechits_chain",
         "showscale": false,
         "sizeref": 0.1,
         "type": "cone",
         "u": [
          0
         ],
         "v": [
          -1
         ],
         "w": [
          0
         ],
         "x": [
          1.8341155052185059
         ],
         "y": [
          -0.44964170455932617
         ],
         "z": [
          22.6924991607666
         ]
        },
        {
         "customdata": [
          [
           "0.0080632735",
           "0.012610102",
           "1.123983",
           "Follower",
           "8"
          ],
          [
           "0.028092152",
           "0.5429909",
           "1.1240363",
           "Follower",
           "8"
          ],
          [
           "0.027991187",
           "0.08220151",
           "1.1252441",
           "Follower",
           "8"
          ],
          [
           "0.009093657",
           "0.7243129",
           "1.1251807",
           "Follower",
           "8"
          ],
          [
           "0.92137694",
           "1.1702032",
           "3.4028235e+38",
           "Seed",
           "8"
          ],
          [
           "0.10842065",
           "0.61563313",
           "1.1251221",
           "Follower",
           "8"
          ],
          [
           "0.185917",
           "0.37793475",
           "1.125",
           "Follower",
           "8"
          ],
          [
           "0.31508127",
           "0.90616834",
           "1.1253028",
           "Follower",
           "8"
          ],
          [
           "0.036964633",
           "0.7359524",
           "1.1251807",
           "Follower",
           "8"
          ],
          [
           "0.05986057",
           "0.15281907",
           "1.125075",
           "Follower",
           "8"
          ],
          [
           "0.028821928",
           "0.24348",
           "1.125075",
           "Follower",
           "8"
          ],
          [
           "0.024274662",
           "0.057167944",
           "1.1251221",
           "Follower",
           "8"
          ],
          [
           "0.052995555",
           "0.06740652",
           "1.1254085",
           "Follower",
           "8"
          ]
         ],
         "hovertemplate": "Rechit : %{customdata[3]}<br>Layer : %{customdata[4]}<br>Energy: %{customdata[0]:.2g} GeV<br>Rho: %{customdata[1]:.2g} GeV<br>Delta: %{customdata[2]:.2g} cm",
         "legendgroup": "rechits",
         "legendgrouptitle": {
          "text": "Rechits"
         },
         "marker": {
          "color": "#636EFA",
          "size": [
           2.32253360748291,
           8.295952796936035,
           8.278721809387207,
           2.8980541229248047,
           25,
           14.759230613708496,
           17.340091705322266,
           19.864715576171875,
           9.609501838684082,
           11.916498184204102,
           8.418689727783203,
           7.59696102142334,
           11.333547592163086
          ],
          "symbol": "circle"
         },
         "mode": "markers",
         "name": "2D cluster nb 7.0",
         "type": "scatter3d",
         "x": [
          3.7830810546875,
          3.7830810546875,
          2.772052764892578,
          2.772052764892578,
          2.772052764892578,
          2.772052764892578,
          1.7975654602050781,
          1.7975654602050781,
          1.7975654602050781,
          0.8232002258300781,
          0.8232002258300781,
          0.8232002258300781,
          -0.15140914916992188
         ],
         "y": [
          0.6753582954406738,
          -1.5748858451843262,
          -3.1913321018218994,
          0.18427824974060059,
          -0.9409658908843994,
          -2.0660879611968994,
          0.7467782497406006,
          -0.3782217502593994,
          -1.5034658908843994,
          1.3092782497406006,
          -0.9409658908843994,
          -2.0660879611968994,
          -0.3782217502593994
         ],
         "z": [
          23.582500457763672,
          23.582500457763672,
          23.582500457763672,
          23.582500457763672,
          23.582500457763672,
          23.582500457763672,
          23.582500457763672,
          23.582500457763672,
          23.582500457763672,
          23.582500457763672,
          23.582500457763672,
          23.582500457763672,
          23.582500457763672
         ]
        },
        {
         "hoverinfo": "skip",
         "legendgroup": "rechits_chain",
         "line": {
          "width": 1
         },
         "marker": {
          "color": "#636EFA"
         },
         "mode": "lines",
         "name": "Rechits chain",
         "showlegend": false,
         "type": "scatter3d",
         "x": [
          3.7830810546875,
          2.772052764892578
         ],
         "y": [
          0.6753582954406738,
          0.18427824974060059
         ],
         "z": [
          23.582500457763672,
          23.582500457763672
         ]
        },
        {
         "anchor": "tip",
         "colorscale": [
          [
           0,
           "#636EFA"
          ],
          [
           1,
           "#636EFA"
          ]
         ],
         "hoverinfo": "skip",
         "legendgroup": "rechits_chain",
         "showscale": false,
         "sizeref": 0.1,
         "type": "cone",
         "u": [
          -0.8995049550448114
         ],
         "v": [
          -0.43691055818076974
         ],
         "w": [
          0
         ],
         "x": [
          2.772052764892578
         ],
         "y": [
          0.18427824974060059
         ],
         "z": [
          23.582500457763672
         ]
        },
        {
         "hoverinfo": "skip",
         "legendgroup": "rechits_chain",
         "line": {
          "width": 1.766319058181725
         },
         "marker": {
          "color": "#636EFA"
         },
         "mode": "lines",
         "name": "Rechits chain",
         "showlegend": false,
         "type": "scatter3d",
         "x": [
          3.7830810546875,
          2.772052764892578
         ],
         "y": [
          -1.5748858451843262,
          -2.0660879611968994
         ],
         "z": [
          23.582500457763672,
          23.582500457763672
         ]
        },
        {
         "anchor": "tip",
         "colorscale": [
          [
           0,
           "#636EFA"
          ],
          [
           1,
           "#636EFA"
          ]
         ],
         "hoverinfo": "skip",
         "legendgroup": "rechits_chain",
         "showscale": false,
         "sizeref": 0.1,
         "type": "cone",
         "u": [
          -0.8994622706165499
         ],
         "v": [
          -0.43699842532590455
         ],
         "w": [
          0
         ],
         "x": [
          2.772052764892578
         ],
         "y": [
          -2.0660879611968994
         ],
         "z": [
          23.582500457763672
         ]
        },
        {
         "hoverinfo": "skip",
         "legendgroup": "rechits_chain",
         "line": {
          "width": 1.0293046114715112
         },
         "marker": {
          "color": "#636EFA"
         },
         "mode": "lines",
         "name": "Rechits chain",
         "showlegend": false,
         "type": "scatter3d",
         "x": [
          2.772052764892578,
          2.772052764892578
         ],
         "y": [
          -3.1913321018218994,
          -2.0660879611968994
         ],
         "z": [
          23.582500457763672,
          23.582500457763672
         ]
        },
        {
         "anchor": "tip",
         "colorscale": [
          [
           0,
           "#636EFA"
          ],
          [
           1,
           "#636EFA"
          ]
         ],
         "hoverinfo": "skip",
         "legendgroup": "rechits_chain",
         "showscale": false,
         "sizeref": 0.1,
         "type": "cone",
         "u": [
          0
         ],
         "v": [
          1
         ],
         "w": [
          0
         ],
         "x": [
          2.772052764892578
         ],
         "y": [
          -2.0660879611968994
         ],
         "z": [
          23.582500457763672
         ]
        },
        {
         "hoverinfo": "skip",
         "legendgroup": "rechits_chain",
         "line": {
          "width": 1
         },
         "marker": {
          "color": "#636EFA"
         },
         "mode": "lines",
         "name": "Rechits chain",
         "showlegend": false,
         "type": "scatter3d",
         "x": [
          2.772052764892578,
          1.7975654602050781
         ],
         "y": [
          0.18427824974060059,
          -0.3782217502593994
         ],
         "z": [
          23.582500457763672,
          23.582500457763672
         ]
        },
        {
         "anchor": "tip",
         "colorscale": [
          [
           0,
           "#636EFA"
          ],
          [
           1,
           "#636EFA"
          ]
         ],
         "hoverinfo": "skip",
         "legendgroup": "rechits_chain",
         "showscale": false,
         "sizeref": 0.1,
         "type": "cone",
         "u": [
          -0.866071776036405
         ],
         "v": [
          -0.499919672300608
         ],
         "w": [
          0
         ],
         "x": [
          1.7975654602050781
         ],
         "y": [
          -0.3782217502593994
         ],
         "z": [
          23.582500457763672
         ]
        },
        {
         "hoverinfo": "skip",
         "legendgroup": "rechits_chain",
         "line": {
          "width": 2.969925436623279
         },
         "marker": {
          "color": "#636EFA"
         },
         "mode": "lines",
         "name": "Rechits chain",
         "showlegend": false,
         "type": "scatter3d",
         "x": [
          2.772052764892578,
          2.772052764892578
         ],
         "y": [
          -2.0660879611968994,
          -0.9409658908843994
         ],
         "z": [
          23.582500457763672,
          23.582500457763672
         ]
        },
        {
         "anchor": "tip",
         "colorscale": [
          [
           0,
           "#636EFA"
          ],
          [
           1,
           "#636EFA"
          ]
         ],
         "hoverinfo": "skip",
         "legendgroup": "rechits_chain",
         "showscale": false,
         "sizeref": 0.1,
         "type": "cone",
         "u": [
          0
         ],
         "v": [
          1
         ],
         "w": [
          0
         ],
         "x": [
          2.772052764892578
         ],
         "y": [
          -0.9409658908843994
         ],
         "z": [
          23.582500457763672
         ]
        },
        {
         "hoverinfo": "skip",
         "legendgroup": "rechits_chain",
         "line": {
          "width": 3.2018418609049637
         },
         "marker": {
          "color": "#636EFA"
         },
         "mode": "lines",
         "name": "Rechits chain",
         "showlegend": false,
         "type": "scatter3d",
         "x": [
          1.7975654602050781,
          1.7975654602050781
         ],
         "y": [
          0.7467782497406006,
          -0.3782217502593994
         ],
         "z": [
          23.582500457763672,
          23.582500457763672
         ]
        },
        {
         "anchor": "tip",
         "colorscale": [
          [
           0,
           "#636EFA"
          ],
          [
           1,
           "#636EFA"
          ]
         ],
         "hoverinfo": "skip",
         "legendgroup": "rechits_chain",
         "showscale": false,
         "sizeref": 0.1,
         "type": "cone",
         "u": [
          0
         ],
         "v": [
          -1
         ],
         "w": [
          0
         ],
         "x": [
          1.7975654602050781
         ],
         "y": [
          -0.3782217502593994
         ],
         "z": [
          23.582500457763672
         ]
        },
        {
         "hoverinfo": "skip",
         "legendgroup": "rechits_chain",
         "line": {
          "width": 4.057016063585951
         },
         "marker": {
          "color": "#636EFA"
         },
         "mode": "lines",
         "name": "Rechits chain",
         "showlegend": false,
         "type": "scatter3d",
         "x": [
          1.7975654602050781,
          2.772052764892578
         ],
         "y": [
          -0.3782217502593994,
          -0.9409658908843994
         ],
         "z": [
          23.582500457763672,
          23.582500457763672
         ]
        },
        {
         "anchor": "tip",
         "colorscale": [
          [
           0,
           "#636EFA"
          ],
          [
           1,
           "#636EFA"
          ]
         ],
         "hoverinfo": "skip",
         "legendgroup": "rechits_chain",
         "showscale": false,
         "sizeref": 0.1,
         "type": "cone",
         "u": [
          0.8659778263291473
         ],
         "v": [
          -0.5000823975168945
         ],
         "w": [
          0
         ],
         "x": [
          2.772052764892578
         ],
         "y": [
          -0.9409658908843994
         ],
         "z": [
          23.582500457763672
         ]
        },
        {
         "hoverinfo": "skip",
         "legendgroup": "rechits_chain",
         "line": {
          "width": 2.660656509072082
         },
         "marker": {
          "color": "#636EFA"
         },
         "mode": "lines",
         "name": "Rechits chain",
         "showlegend": false,
         "type": "scatter3d",
         "x": [
          1.7975654602050781,
          2.772052764892578
         ],
         "y": [
          -1.5034658908843994,
          -0.9409658908843994
         ],
         "z": [
          23.582500457763672,
          23.582500457763672
         ]
        },
        {
         "anchor": "tip",
         "colorscale": [
          [
           0,
           "#636EFA"
          ],
          [
           1,
           "#636EFA"
          ]
         ],
         "hoverinfo": "skip",
         "legendgroup": "rechits_chain",
         "showscale": false,
         "sizeref": 0.1,
         "type": "cone",
         "u": [
          0.866071776036405
         ],
         "v": [
          0.499919672300608
         ],
         "w": [
          0
         ],
         "x": [
          2.772052764892578
         ],
         "y": [
          -0.9409658908843994
         ],
         "z": [
          23.582500457763672
         ]
        },
        {
         "hoverinfo": "skip",
         "legendgroup": "rechits_chain",
         "line": {
          "width": 1.7894329064386123
         },
         "marker": {
          "color": "#636EFA"
         },
         "mode": "lines",
         "name": "Rechits chain",
         "showlegend": false,
         "type": "scatter3d",
         "x": [
          0.8232002258300781,
          1.7975654602050781
         ],
         "y": [
          1.3092782497406006,
          0.7467782497406006
         ],
         "z": [
          23.582500457763672,
          23.582500457763672
         ]
        },
        {
         "anchor": "tip",
         "colorscale": [
          [
           0,
           "#636EFA"
          ],
          [
           1,
           "#636EFA"
          ]
         ],
         "hoverinfo": "skip",
         "legendgroup": "rechits_chain",
         "showscale": false,
         "sizeref": 0.1,
         "type": "cone",
         "u": [
          0.8660446585505366
         ],
         "v": [
          -0.4999666482837475
         ],
         "w": [
          0
         ],
         "x": [
          1.7975654602050781
         ],
         "y": [
          0.7467782497406006
         ],
         "z": [
          23.582500457763672
         ]
        },
        {
         "hoverinfo": "skip",
         "legendgroup": "rechits_chain",
         "line": {
          "width": 2.3617229222370772
         },
         "marker": {
          "color": "#636EFA"
         },
         "mode": "lines",
         "name": "Rechits chain",
         "showlegend": false,
         "type": "scatter3d",
         "x": [
          0.8232002258300781,
          1.7975654602050781
         ],
         "y": [
          -0.9409658908843994,
          -1.5034658908843994
         ],
         "z": [
          23.582500457763672,
          23.582500457763672
         ]
        },
        {
         "anchor": "tip",
         "colorscale": [
          [
           0,
           "#636EFA"
          ],
          [
           1,
           "#636EFA"
          ]
         ],
         "hoverinfo": "skip",
         "legendgroup": "rechits_chain",
         "showscale": false,
         "sizeref": 0.1,
         "type": "cone",
         "u": [
          0.8660446585505366
         ],
         "v": [
          -0.4999666482837475
         ],
         "w": [
          0
         ],
         "x": [
          1.7975654602050781
         ],
         "y": [
          -1.5034658908843994
         ],
         "z": [
          23.582500457763672
         ]
        },
        {
         "hoverinfo": "skip",
         "legendgroup": "rechits_chain",
         "line": {
          "width": 1
         },
         "marker": {
          "color": "#636EFA"
         },
         "mode": "lines",
         "name": "Rechits chain",
         "showlegend": false,
         "type": "scatter3d",
         "x": [
          0.8232002258300781,
          0.8232002258300781
         ],
         "y": [
          -2.0660879611968994,
          -0.9409658908843994
         ],
         "z": [
          23.582500457763672,
          23.582500457763672
         ]
        },
        {
         "anchor": "tip",
         "colorscale": [
          [
           0,
           "#636EFA"
          ],
          [
           1,
           "#636EFA"
          ]
         ],
         "hoverinfo": "skip",
         "legendgroup": "rechits_chain",
         "showscale": false,
         "sizeref": 0.1,
         "type": "cone",
         "u": [
          0
         ],
         "v": [
          1
         ],
         "w": [
          0
         ],
         "x": [
          0.8232002258300781
         ],
         "y": [
          -0.9409658908843994
         ],
         "z": [
          23.582500457763672
         ]
        },
        {
         "hoverinfo": "skip",
         "legendgroup": "rechits_chain",
         "line": {
          "width": 1.667622951056697
         },
         "marker": {
          "color": "#636EFA"
         },
         "mode": "lines",
         "name": "Rechits chain",
         "showlegend": false,
         "type": "scatter3d",
         "x": [
          -0.15140914916992188,
          0.8232002258300781
         ],
         "y": [
          -0.3782217502593994,
          -0.9409658908843994
         ],
         "z": [
          23.582500457763672,
          23.582500457763672
         ]
        },
        {
         "anchor": "tip",
         "colorscale": [
          [
           0,
           "#636EFA"
          ],
          [
           1,
           "#636EFA"
          ]
         ],
         "hoverinfo": "skip",
         "legendgroup": "rechits_chain",
         "showscale": false,
         "sizeref": 0.1,
         "type": "cone",
         "u": [
          0.8660049508818618
         ],
         "v": [
          -0.5000354237932594
         ],
         "w": [
          0
         ],
         "x": [
          0.8232002258300781
         ],
         "y": [
          -0.9409658908843994
         ],
         "z": [
          23.582500457763672
         ]
        },
        {
         "customdata": [
          [
           "0.013859902",
           "0.022130288",
           "1.1252441",
           "Follower",
           "8"
          ],
          [
           "0.016540775",
           "0.023470726",
           "2.2559714",
           "Seed",
           "8"
          ]
         ],
         "hovertemplate": "Rechit : %{customdata[3]}<br>Layer : %{customdata[4]}<br>Energy: %{customdata[0]:.2g} GeV<br>Rho: %{customdata[1]:.2g} GeV<br>Delta: %{customdata[2]:.2g} cm",
         "legendgroup": "rechits",
         "legendgrouptitle": {
          "text": "Rechits"
         },
         "marker": {
          "color": "#EF553B",
          "size": [
           4.91487455368042,
           5.761129379272461
          ],
          "symbol": "circle"
         },
         "mode": "markers",
         "name": "2D cluster nb 8.0",
         "type": "scatter3d",
         "x": [
          5.695514678955078,
          5.695514678955078
         ],
         "y": [
          -1.5034658908843994,
          -0.3782217502593994
         ],
         "z": [
          23.582500457763672,
          23.582500457763672
         ]
        },
        {
         "hoverinfo": "skip",
         "legendgroup": "rechits_chain",
         "line": {
          "width": 1
         },
         "marker": {
          "color": "#EF553B"
         },
         "mode": "lines",
         "name": "Rechits chain",
         "showlegend": false,
         "type": "scatter3d",
         "x": [
          5.695514678955078,
          5.695514678955078
         ],
         "y": [
          -1.5034658908843994,
          -0.3782217502593994
         ],
         "z": [
          23.582500457763672,
          23.582500457763672
         ]
        },
        {
         "anchor": "tip",
         "colorscale": [
          [
           0,
           "#EF553B"
          ],
          [
           1,
           "#EF553B"
          ]
         ],
         "hoverinfo": "skip",
         "legendgroup": "rechits_chain",
         "showscale": false,
         "sizeref": 0.1,
         "type": "cone",
         "u": [
          0
         ],
         "v": [
          1
         ],
         "w": [
          0
         ],
         "x": [
          5.695514678955078
         ],
         "y": [
          -0.3782217502593994
         ],
         "z": [
          23.582500457763672
         ]
        },
        {
         "customdata": [
          [
           "0.008931563",
           "0.08170539",
           "1.0698566",
           "Follower",
           "9"
          ],
          [
           "0.009322476",
           "0.1861874",
           "1.0908568",
           "Follower",
           "9"
          ],
          [
           "0.22172749",
           "0.48186526",
           "1.125173",
           "Follower",
           "9"
          ],
          [
           "0.0335046",
           "0.3547958",
           "1.125173",
           "Follower",
           "9"
          ],
          [
           "0.071865015",
           "0.12362305",
           "1.1252372",
           "Follower",
           "9"
          ],
          [
           "0.026299214",
           "0.11539213",
           "1.0697901",
           "Follower",
           "9"
          ],
          [
           "0.078120925",
           "0.5020317",
           "1.1251807",
           "Follower",
           "9"
          ],
          [
           "0.326204",
           "0.63824904",
           "3.4028235e+38",
           "Seed",
           "9"
          ],
          [
           "0.040178034",
           "0.29740518",
           "1.1251221",
           "Follower",
           "9"
          ],
          [
           "0.05749063",
           "0.08726614",
           "1.125425",
           "Follower",
           "9"
          ],
          [
           "0.23101643",
           "0.5523867",
           "1.1253028",
           "Follower",
           "9"
          ],
          [
           "0.019542629",
           "0.40736347",
           "1.1251807",
           "Follower",
           "9"
          ],
          [
           "0.054406475",
           "0.12561643",
           "1.1252463",
           "Follower",
           "9"
          ],
          [
           "0.061784532",
           "0.27473846",
           "1.125075",
           "Follower",
           "9"
          ],
          [
           "0.12383673",
           "0.28000852",
           "1.125075",
           "Follower",
           "9"
          ],
          [
           "0.010834212",
           "0.042876955",
           "1.1251315",
           "Follower",
           "9"
          ],
          [
           "0.03780289",
           "0.06869516",
           "1.1252865",
           "Follower",
           "9"
          ],
          [
           "0.009679012",
           "0.015096119",
           "1.125343",
           "Follower",
           "9"
          ],
          [
           "0.027582224",
           "0.16587785",
           "1.1251886",
           "Follower",
           "9"
          ],
          [
           "0.0455413",
           "0.18694846",
           "1.1251886",
           "Follower",
           "9"
          ],
          [
           "0.011901664",
           "0.24993259",
           "0.0",
           "Follower",
           "9"
          ],
          [
           "0.02135015",
           "0.25465685",
           "1.125",
           "Follower",
           "9"
          ]
         ],
         "hovertemplate": "Rechit : %{customdata[3]}<br>Layer : %{customdata[4]}<br>Energy: %{customdata[0]:.2g} GeV<br>Rho: %{customdata[1]:.2g} GeV<br>Delta: %{customdata[2]:.2g} cm",
         "legendgroup": "rechits",
         "legendgrouptitle": {
          "text": "Rechits"
         },
         "marker": {
          "color": "#00CC96",
          "size": [
           2.811978578567505,
           3.0169837474823,
           18.183094024658203,
           9.139164924621582,
           12.791194915771484,
           7.980327606201172,
           13.190652847290039,
           20.030742645263672,
           10.008435249328613,
           11.723173141479492,
           18.379499435424805,
           6.559246063232422,
           11.459293365478516,
           12.06789493560791,
           15.395471572875977,
           3.736189365386963,
           9.716816902160645,
           3.196601390838623,
           8.208284378051758,
           10.608084678649902,
           4.185902118682861,
           6.982595920562744
          ],
          "symbol": "circle"
         },
         "mode": "markers",
         "name": "2D cluster nb 9.0",
         "type": "scatter3d",
         "x": [
          3.7465310096740723,
          3.7465310096740723,
          3.7988409996032715,
          3.7988409996032715,
          2.8243627548217773,
          2.8243627548217773,
          2.8243627548217773,
          2.8243627548217773,
          2.8243627548217773,
          1.8498754501342773,
          1.8498754501342773,
          1.8498754501342773,
          1.8498754501342773,
          0.8755102157592773,
          0.8755102157592773,
          0.8755102157592773,
          -0.09909915924072266,
          -0.09909915924072266,
          4.773337364196777,
          4.773337364196777,
          1.8498754501342773,
          1.8498754501342773
         ],
         "y": [
          -2.6287190914154053,
          0.7467782497406006,
          -0.3984518051147461,
          -1.523695945739746,
          -3.211562156677246,
          1.289048194885254,
          0.1640481948852539,
          -0.9611959457397461,
          -2.086318016052246,
          1.852036476135254,
          -0.3984518051147461,
          -1.523695945739746,
          -2.648949146270752,
          0.1640481948852539,
          -0.9611959457397461,
          -3.211562156677246,
          0.7265481948852539,
          -2.648949146270752,
          0.1640481948852539,
          -0.9611959457397461,
          0.7265481948852539,
          0.7265481948852539
         ],
         "z": [
          25.697500228881836,
          25.697500228881836,
          25.697500228881836,
          25.697500228881836,
          25.697500228881836,
          25.697500228881836,
          25.697500228881836,
          25.697500228881836,
          25.697500228881836,
          25.697500228881836,
          25.697500228881836,
          25.697500228881836,
          25.697500228881836,
          25.697500228881836,
          25.697500228881836,
          25.697500228881836,
          25.697500228881836,
          25.697500228881836,
          25.697500228881836,
          25.697500228881836,
          25.697500228881836,
          25.697500228881836
         ]
        },
        {
         "hoverinfo": "skip",
         "legendgroup": "rechits_chain",
         "line": {
          "width": 1.5075929941279371
         },
         "marker": {
          "color": "#00CC96"
         },
         "mode": "lines",
         "name": "Rechits chain",
         "showlegend": false,
         "type": "scatter3d",
         "x": [
          3.7465310096740723,
          2.8243627548217773
         ],
         "y": [
          -2.6287190914154053,
          -2.086318016052246
         ],
         "z": [
          25.697500228881836,
          25.697500228881836
         ]
        },
        {
         "anchor": "tip",
         "colorscale": [
          [
           0,
           "#00CC96"
          ],
          [
           1,
           "#00CC96"
          ]
         ],
         "hoverinfo": "skip",
         "legendgroup": "rechits_chain",
         "showscale": false,
         "sizeref": 0.1,
         "type": "cone",
         "u": [
          -0.8619549813945124
         ],
         "v": [
          0.506984822306532
         ],
         "w": [
          0
         ],
         "x": [
          2.8243627548217773
         ],
         "y": [
          -2.086318016052246
         ],
         "z": [
          25.697500228881836
         ]
        },
        {
         "hoverinfo": "skip",
         "legendgroup": "rechits_chain",
         "line": {
          "width": 2.2312213902194205
         },
         "marker": {
          "color": "#00CC96"
         },
         "mode": "lines",
         "name": "Rechits chain",
         "showlegend": false,
         "type": "scatter3d",
         "x": [
          3.7465310096740723,
          2.8243627548217773
         ],
         "y": [
          0.7467782497406006,
          0.1640481948852539
         ],
         "z": [
          25.697500228881836,
          25.697500228881836
         ]
        },
        {
         "anchor": "tip",
         "colorscale": [
          [
           0,
           "#00CC96"
          ],
          [
           1,
           "#00CC96"
          ]
         ],
         "hoverinfo": "skip",
         "legendgroup": "rechits_chain",
         "showscale": false,
         "sizeref": 0.1,
         "type": "cone",
         "u": [
          -0.8453614038732127
         ],
         "v": [
          -0.5341948116946764
         ],
         "w": [
          0
         ],
         "x": [
          2.8243627548217773
         ],
         "y": [
          0.1640481948852539
         ],
         "z": [
          25.697500228881836
         ]
        },
        {
         "hoverinfo": "skip",
         "legendgroup": "rechits_chain",
         "line": {
          "width": 3.2161108654226824
         },
         "marker": {
          "color": "#00CC96"
         },
         "mode": "lines",
         "name": "Rechits chain",
         "showlegend": false,
         "type": "scatter3d",
         "x": [
          3.7988409996032715,
          2.8243627548217773
         ],
         "y": [
          -0.3984518051147461,
          0.1640481948852539
         ],
         "z": [
          25.697500228881836,
          25.697500228881836
         ]
        },
        {
         "anchor": "tip",
         "colorscale": [
          [
           0,
           "#00CC96"
          ],
          [
           1,
           "#00CC96"
          ]
         ],
         "hoverinfo": "skip",
         "legendgroup": "rechits_chain",
         "showscale": false,
         "sizeref": 0.1,
         "type": "cone",
         "u": [
          -0.8660697636731018
         ],
         "v": [
          0.4999231585466086
         ],
         "w": [
          0
         ],
         "x": [
          2.8243627548217773
         ],
         "y": [
          0.1640481948852539
         ],
         "z": [
          25.697500228881836
         ]
        },
        {
         "hoverinfo": "skip",
         "legendgroup": "rechits_chain",
         "line": {
          "width": 2.0674436405725576
         },
         "marker": {
          "color": "#00CC96"
         },
         "mode": "lines",
         "name": "Rechits chain",
         "showlegend": false,
         "type": "scatter3d",
         "x": [
          3.7988409996032715,
          2.8243627548217773
         ],
         "y": [
          -1.523695945739746,
          -0.9611959457397461
         ],
         "z": [
          25.697500228881836,
          25.697500228881836
         ]
        },
        {
         "anchor": "tip",
         "colorscale": [
          [
           0,
           "#00CC96"
          ],
          [
           1,
           "#00CC96"
          ]
         ],
         "hoverinfo": "skip",
         "legendgroup": "rechits_chain",
         "showscale": false,
         "sizeref": 0.1,
         "type": "cone",
         "u": [
          -0.8660697636731018
         ],
         "v": [
          0.4999231585466086
         ],
         "w": [
          0
         ],
         "x": [
          2.8243627548217773
         ],
         "y": [
          -0.9611959457397461
         ],
         "z": [
          25.697500228881836
         ]
        },
        {
         "hoverinfo": "skip",
         "legendgroup": "rechits_chain",
         "line": {
          "width": 1.972204471002992
         },
         "marker": {
          "color": "#00CC96"
         },
         "mode": "lines",
         "name": "Rechits chain",
         "showlegend": false,
         "type": "scatter3d",
         "x": [
          2.8243627548217773,
          1.8498754501342773
         ],
         "y": [
          -3.211562156677246,
          -2.648949146270752
         ],
         "z": [
          25.697500228881836,
          25.697500228881836
         ]
        },
        {
         "anchor": "tip",
         "colorscale": [
          [
           0,
           "#00CC96"
          ],
          [
           1,
           "#00CC96"
          ]
         ],
         "hoverinfo": "skip",
         "legendgroup": "rechits_chain",
         "showscale": false,
         "sizeref": 0.1,
         "type": "cone",
         "u": [
          -0.8660282888646941
         ],
         "v": [
          0.4999950028611187
         ],
         "w": [
          0
         ],
         "x": [
          1.8498754501342773
         ],
         "y": [
          -2.648949146270752
         ],
         "z": [
          25.697500228881836
         ]
        },
        {
         "hoverinfo": "skip",
         "legendgroup": "rechits_chain",
         "line": {
          "width": 2.125726692388649
         },
         "marker": {
          "color": "#00CC96"
         },
         "mode": "lines",
         "name": "Rechits chain",
         "showlegend": false,
         "type": "scatter3d",
         "x": [
          2.8243627548217773,
          3.7465310096740723
         ],
         "y": [
          1.289048194885254,
          0.7467782497406006
         ],
         "z": [
          25.697500228881836,
          25.697500228881836
         ]
        },
        {
         "anchor": "tip",
         "colorscale": [
          [
           0,
           "#00CC96"
          ],
          [
           1,
           "#00CC96"
          ]
         ],
         "hoverinfo": "skip",
         "legendgroup": "rechits_chain",
         "showscale": false,
         "sizeref": 0.1,
         "type": "cone",
         "u": [
          0.8620085419065843
         ],
         "v": [
          -0.506893749892504
         ],
         "w": [
          0
         ],
         "x": [
          3.7465310096740723
         ],
         "y": [
          0.7467782497406006
         ],
         "z": [
          25.697500228881836
         ]
        },
        {
         "hoverinfo": "skip",
         "legendgroup": "rechits_chain",
         "line": {
          "width": 3.7389615387784083
         },
         "marker": {
          "color": "#00CC96"
         },
         "mode": "lines",
         "name": "Rechits chain",
         "showlegend": false,
         "type": "scatter3d",
         "x": [
          2.8243627548217773,
          1.8498754501342773
         ],
         "y": [
          0.1640481948852539,
          -0.3984518051147461
         ],
         "z": [
          25.697500228881836,
          25.697500228881836
         ]
        },
        {
         "anchor": "tip",
         "colorscale": [
          [
           0,
           "#00CC96"
          ],
          [
           1,
           "#00CC96"
          ]
         ],
         "hoverinfo": "skip",
         "legendgroup": "rechits_chain",
         "showscale": false,
         "sizeref": 0.1,
         "type": "cone",
         "u": [
          -0.866071776036405
         ],
         "v": [
          -0.499919672300608
         ],
         "w": [
          0
         ],
         "x": [
          1.8498754501342773
         ],
         "y": [
          -0.3984518051147461
         ],
         "z": [
          25.697500228881836
         ]
        },
        {
         "hoverinfo": "skip",
         "legendgroup": "rechits_chain",
         "line": {
          "width": 3.1446746817294406
         },
         "marker": {
          "color": "#00CC96"
         },
         "mode": "lines",
         "name": "Rechits chain",
         "showlegend": false,
         "type": "scatter3d",
         "x": [
          2.8243627548217773,
          2.8243627548217773
         ],
         "y": [
          -2.086318016052246,
          -0.9611959457397461
         ],
         "z": [
          25.697500228881836,
          25.697500228881836
         ]
        },
        {
         "anchor": "tip",
         "colorscale": [
          [
           0,
           "#00CC96"
          ],
          [
           1,
           "#00CC96"
          ]
         ],
         "hoverinfo": "skip",
         "legendgroup": "rechits_chain",
         "showscale": false,
         "sizeref": 0.1,
         "type": "cone",
         "u": [
          0
         ],
         "v": [
          1
         ],
         "w": [
          0
         ],
         "x": [
          2.8243627548217773
         ],
         "y": [
          -0.9611959457397461
         ],
         "z": [
          25.697500228881836
         ]
        },
        {
         "hoverinfo": "skip",
         "legendgroup": "rechits_chain",
         "line": {
          "width": 1.7490368539199508
         },
         "marker": {
          "color": "#00CC96"
         },
         "mode": "lines",
         "name": "Rechits chain",
         "showlegend": false,
         "type": "scatter3d",
         "x": [
          1.8498754501342773,
          2.8243627548217773
         ],
         "y": [
          1.852036476135254,
          1.289048194885254
         ],
         "z": [
          25.697500228881836,
          25.697500228881836
         ]
        },
        {
         "anchor": "tip",
         "colorscale": [
          [
           0,
           "#00CC96"
          ],
          [
           1,
           "#00CC96"
          ]
         ],
         "hoverinfo": "skip",
         "legendgroup": "rechits_chain",
         "showscale": false,
         "sizeref": 0.1,
         "type": "cone",
         "u": [
          0.8658838664416397
         ],
         "v": [
          -0.5002450697768811
         ],
         "w": [
          0
         ],
         "x": [
          2.8243627548217773
         ],
         "y": [
          1.289048194885254
         ],
         "z": [
          25.697500228881836
         ]
        },
        {
         "hoverinfo": "skip",
         "legendgroup": "rechits_chain",
         "line": {
          "width": 4.36233224322894
         },
         "marker": {
          "color": "#00CC96"
         },
         "mode": "lines",
         "name": "Rechits chain",
         "showlegend": false,
         "type": "scatter3d",
         "x": [
          1.8498754501342773,
          2.8243627548217773
         ],
         "y": [
          -0.3984518051147461,
          -0.9611959457397461
         ],
         "z": [
          25.697500228881836,
          25.697500228881836
         ]
        },
        {
         "anchor": "tip",
         "colorscale": [
          [
           0,
           "#00CC96"
          ],
          [
           1,
           "#00CC96"
          ]
         ],
         "hoverinfo": "skip",
         "legendgroup": "rechits_chain",
         "showscale": false,
         "sizeref": 0.1,
         "type": "cone",
         "u": [
          0.8659778263291473
         ],
         "v": [
          -0.5000823975168945
         ],
         "w": [
          0
         ],
         "x": [
          2.8243627548217773
         ],
         "y": [
          -0.9611959457397461
         ],
         "z": [
          25.697500228881836
         ]
        },
        {
         "hoverinfo": "skip",
         "legendgroup": "rechits_chain",
         "line": {
          "width": 2.6629089077993524
         },
         "marker": {
          "color": "#00CC96"
         },
         "mode": "lines",
         "name": "Rechits chain",
         "showlegend": false,
         "type": "scatter3d",
         "x": [
          1.8498754501342773,
          2.8243627548217773
         ],
         "y": [
          -1.523695945739746,
          -0.9611959457397461
         ],
         "z": [
          25.697500228881836,
          25.697500228881836
         ]
        },
        {
         "anchor": "tip",
         "colorscale": [
          [
           0,
           "#00CC96"
          ],
          [
           1,
           "#00CC96"
          ]
         ],
         "hoverinfo": "skip",
         "legendgroup": "rechits_chain",
         "showscale": false,
         "sizeref": 0.1,
         "type": "cone",
         "u": [
          0.866071776036405
         ],
         "v": [
          0.499919672300608
         ],
         "w": [
          0
         ],
         "x": [
          2.8243627548217773
         ],
         "y": [
          -0.9611959457397461
         ],
         "z": [
          25.697500228881836
         ]
        },
        {
         "hoverinfo": "skip",
         "legendgroup": "rechits_chain",
         "line": {
          "width": 2.6863818925818603
         },
         "marker": {
          "color": "#00CC96"
         },
         "mode": "lines",
         "name": "Rechits chain",
         "showlegend": false,
         "type": "scatter3d",
         "x": [
          1.8498754501342773,
          2.8243627548217773
         ],
         "y": [
          -2.648949146270752,
          -2.086318016052246
         ],
         "z": [
          25.697500228881836,
          25.697500228881836
         ]
        },
        {
         "anchor": "tip",
         "colorscale": [
          [
           0,
           "#00CC96"
          ],
          [
           1,
           "#00CC96"
          ]
         ],
         "hoverinfo": "skip",
         "legendgroup": "rechits_chain",
         "showscale": false,
         "sizeref": 0.1,
         "type": "cone",
         "u": [
          0.8660213160347869
         ],
         "v": [
          0.5000070801232472
         ],
         "w": [
          0
         ],
         "x": [
          2.8243627548217773
         ],
         "y": [
          -2.086318016052246
         ],
         "z": [
          25.697500228881836
         ]
        },
        {
         "hoverinfo": "skip",
         "legendgroup": "rechits_chain",
         "line": {
          "width": 2.2984507771183935
         },
         "marker": {
          "color": "#00CC96"
         },
         "mode": "lines",
         "name": "Rechits chain",
         "showlegend": false,
         "type": "scatter3d",
         "x": [
          0.8755102157592773,
          1.8498754501342773
         ],
         "y": [
          0.1640481948852539,
          -0.3984518051147461
         ],
         "z": [
          25.697500228881836,
          25.697500228881836
         ]
        },
        {
         "anchor": "tip",
         "colorscale": [
          [
           0,
           "#00CC96"
          ],
          [
           1,
           "#00CC96"
          ]
         ],
         "hoverinfo": "skip",
         "legendgroup": "rechits_chain",
         "showscale": false,
         "sizeref": 0.1,
         "type": "cone",
         "u": [
          0.8660446585505366
         ],
         "v": [
          -0.4999666482837475
         ],
         "w": [
          0
         ],
         "x": [
          1.8498754501342773
         ],
         "y": [
          -0.3984518051147461
         ],
         "z": [
          25.697500228881836
         ]
        },
        {
         "hoverinfo": "skip",
         "legendgroup": "rechits_chain",
         "line": {
          "width": 2.5163789389221325
         },
         "marker": {
          "color": "#00CC96"
         },
         "mode": "lines",
         "name": "Rechits chain",
         "showlegend": false,
         "type": "scatter3d",
         "x": [
          0.8755102157592773,
          1.8498754501342773
         ],
         "y": [
          -0.9611959457397461,
          -1.523695945739746
         ],
         "z": [
          25.697500228881836,
          25.697500228881836
         ]
        },
        {
         "anchor": "tip",
         "colorscale": [
          [
           0,
           "#00CC96"
          ],
          [
           1,
           "#00CC96"
          ]
         ],
         "hoverinfo": "skip",
         "legendgroup": "rechits_chain",
         "showscale": false,
         "sizeref": 0.1,
         "type": "cone",
         "u": [
          0.8660446585505366
         ],
         "v": [
          -0.4999666482837475
         ],
         "w": [
          0
         ],
         "x": [
          1.8498754501342773
         ],
         "y": [
          -1.523695945739746
         ],
         "z": [
          25.697500228881836
         ]
        },
        {
         "hoverinfo": "skip",
         "legendgroup": "rechits_chain",
         "line": {
          "width": 1
         },
         "marker": {
          "color": "#00CC96"
         },
         "mode": "lines",
         "name": "Rechits chain",
         "showlegend": false,
         "type": "scatter3d",
         "x": [
          0.8755102157592773,
          1.8498754501342773
         ],
         "y": [
          -3.211562156677246,
          -2.648949146270752
         ],
         "z": [
          25.697500228881836,
          25.697500228881836
         ]
        },
        {
         "anchor": "tip",
         "colorscale": [
          [
           0,
           "#00CC96"
          ],
          [
           1,
           "#00CC96"
          ]
         ],
         "hoverinfo": "skip",
         "legendgroup": "rechits_chain",
         "showscale": false,
         "sizeref": 0.1,
         "type": "cone",
         "u": [
          0.8660011645682122
         ],
         "v": [
          0.5000419812040788
         ],
         "w": [
          0
         ],
         "x": [
          1.8498754501342773
         ],
         "y": [
          -2.648949146270752
         ],
         "z": [
          25.697500228881836
         ]
        },
        {
         "hoverinfo": "skip",
         "legendgroup": "rechits_chain",
         "line": {
          "width": 1.3298004602308438
         },
         "marker": {
          "color": "#00CC96"
         },
         "mode": "lines",
         "name": "Rechits chain",
         "showlegend": false,
         "type": "scatter3d",
         "x": [
          -0.09909915924072266,
          0.8755102157592773
         ],
         "y": [
          0.7265481948852539,
          0.1640481948852539
         ],
         "z": [
          25.697500228881836,
          25.697500228881836
         ]
        },
        {
         "anchor": "tip",
         "colorscale": [
          [
           0,
           "#00CC96"
          ],
          [
           1,
           "#00CC96"
          ]
         ],
         "hoverinfo": "skip",
         "legendgroup": "rechits_chain",
         "showscale": false,
         "sizeref": 0.1,
         "type": "cone",
         "u": [
          0.8660988858794976
         ],
         "v": [
          -0.4998727036739385
         ],
         "w": [
          0
         ],
         "x": [
          0.8755102157592773
         ],
         "y": [
          0.1640481948852539
         ],
         "z": [
          25.697500228881836
         ]
        },
        {
         "hoverinfo": "skip",
         "legendgroup": "rechits_chain",
         "line": {
          "width": 1
         },
         "marker": {
          "color": "#00CC96"
         },
         "mode": "lines",
         "name": "Rechits chain",
         "showlegend": false,
         "type": "scatter3d",
         "x": [
          -0.09909915924072266,
          0.8755102157592773
         ],
         "y": [
          -2.648949146270752,
          -3.211562156677246
         ],
         "z": [
          25.697500228881836,
          25.697500228881836
         ]
        },
        {
         "anchor": "tip",
         "colorscale": [
          [
           0,
           "#00CC96"
          ],
          [
           1,
           "#00CC96"
          ]
         ],
         "hoverinfo": "skip",
         "legendgroup": "rechits_chain",
         "showscale": false,
         "sizeref": 0.1,
         "type": "cone",
         "u": [
          0.8660554055172482
         ],
         "v": [
          -0.4999480318736685
         ],
         "w": [
          0
         ],
         "x": [
          0.8755102157592773
         ],
         "y": [
          -3.211562156677246
         ],
         "z": [
          25.697500228881836
         ]
        },
        {
         "hoverinfo": "skip",
         "legendgroup": "rechits_chain",
         "line": {
          "width": 1.0145864308850432
         },
         "marker": {
          "color": "#00CC96"
         },
         "mode": "lines",
         "name": "Rechits chain",
         "showlegend": false,
         "type": "scatter3d",
         "x": [
          4.773337364196777,
          3.7988409996032715
         ],
         "y": [
          0.1640481948852539,
          -0.3984518051147461
         ],
         "z": [
          25.697500228881836,
          25.697500228881836
         ]
        },
        {
         "anchor": "tip",
         "colorscale": [
          [
           0,
           "#00CC96"
          ],
          [
           1,
           "#00CC96"
          ]
         ],
         "hoverinfo": "skip",
         "legendgroup": "rechits_chain",
         "showscale": false,
         "sizeref": 0.1,
         "type": "cone",
         "u": [
          -0.8660737883576084
         ],
         "v": [
          -0.49991618609512994
         ],
         "w": [
          0
         ],
         "x": [
          3.7988409996032715
         ],
         "y": [
          -0.3984518051147461
         ],
         "z": [
          25.697500228881836
         ]
        },
        {
         "hoverinfo": "skip",
         "legendgroup": "rechits_chain",
         "line": {
          "width": 1.5160345436422762
         },
         "marker": {
          "color": "#00CC96"
         },
         "mode": "lines",
         "name": "Rechits chain",
         "showlegend": false,
         "type": "scatter3d",
         "x": [
          4.773337364196777,
          3.7988409996032715
         ],
         "y": [
          -0.9611959457397461,
          -1.523695945739746
         ],
         "z": [
          25.697500228881836,
          25.697500228881836
         ]
        },
        {
         "anchor": "tip",
         "colorscale": [
          [
           0,
           "#00CC96"
          ],
          [
           1,
           "#00CC96"
          ]
         ],
         "hoverinfo": "skip",
         "legendgroup": "rechits_chain",
         "showscale": false,
         "sizeref": 0.1,
         "type": "cone",
         "u": [
          -0.8660737883576084
         ],
         "v": [
          -0.49991618609512994
         ],
         "w": [
          0
         ],
         "x": [
          3.7988409996032715
         ],
         "y": [
          -1.523695945739746
         ],
         "z": [
          25.697500228881836
         ]
        },
        {
         "hoverinfo": "skip",
         "legendgroup": "rechits_chain",
         "line": {
          "width": 1.2015242453767003
         },
         "marker": {
          "color": "#00CC96"
         },
         "mode": "lines",
         "name": "Rechits chain",
         "showlegend": false,
         "type": "scatter3d",
         "x": [
          1.8498754501342773,
          1.8498754501342773
         ],
         "y": [
          0.7265481948852539,
          -0.3984518051147461
         ],
         "z": [
          25.697500228881836,
          25.697500228881836
         ]
        },
        {
         "anchor": "tip",
         "colorscale": [
          [
           0,
           "#00CC96"
          ],
          [
           1,
           "#00CC96"
          ]
         ],
         "hoverinfo": "skip",
         "legendgroup": "rechits_chain",
         "showscale": false,
         "sizeref": 0.1,
         "type": "cone",
         "u": [
          0
         ],
         "v": [
          -1
         ],
         "w": [
          0
         ],
         "x": [
          1.8498754501342773
         ],
         "y": [
          -0.3984518051147461
         ],
         "z": [
          25.697500228881836
         ]
        },
        {
         "customdata": [
          [
           "0.03339588",
           "0.09895745",
           "1.0809921",
           "Follower",
           "10"
          ],
          [
           "0.024391126",
           "0.26678413",
           "1.125173",
           "Follower",
           "10"
          ],
          [
           "0.09354581",
           "0.26848215",
           "1.125173",
           "Follower",
           "10"
          ],
          [
           "0.041409045",
           "0.13619316",
           "1.125",
           "Follower",
           "10"
          ],
          [
           "0.065322965",
           "0.38275528",
           "1.1251807",
           "Follower",
           "10"
          ],
          [
           "0.25427884",
           "0.44626373",
           "3.4028235e+38",
           "Seed",
           "10"
          ],
          [
           "0.010169457",
           "0.18816824",
           "1.1251221",
           "Follower",
           "10"
          ],
          [
           "0.09084937",
           "0.25963262",
           "1.125",
           "Follower",
           "10"
          ],
          [
           "0.19054039",
           "0.41591308",
           "1.1253028",
           "Follower",
           "10"
          ],
          [
           "0.040294133",
           "0.21137133",
           "1.125075",
           "Follower",
           "10"
          ],
          [
           "0.044403683",
           "0.07273124",
           "1.1252865",
           "Follower",
           "10"
          ],
          [
           "0.016360976",
           "0.058709886",
           "1.125",
           "Follower",
           "10"
          ],
          [
           "0.02279078",
           "0.088684924",
           "1.1251221",
           "Follower",
           "10"
          ],
          [
           "0.038242478",
           "0.10860634",
           "1.1251886",
           "Follower",
           "10"
          ],
          [
           "0.006646276",
           "0.006646276",
           "1.9488729",
           "Follower",
           "10"
          ]
         ],
         "hovertemplate": "Rechit : %{customdata[3]}<br>Layer : %{customdata[4]}<br>Energy: %{customdata[0]:.2g} GeV<br>Rho: %{customdata[1]:.2g} GeV<br>Delta: %{customdata[2]:.2g} cm",
         "legendgroup": "rechits",
         "legendgrouptitle": {
          "text": "Rechits"
         },
         "marker": {
          "color": "#AB63FA",
          "size": [
           9.12360954284668,
           7.619866847991943,
           14.053010940551758,
           10.152863502502441,
           12.334415435791016,
           18.83865737915039,
           3.4331555366516113,
           13.913036346435547,
           17.45764923095703,
           10.022244453430176,
           10.487018585205078,
           5.708823204040527,
           7.295091152191162,
           9.77214527130127,
           1.3976268768310547
          ],
          "symbol": "circle"
         },
         "mode": "markers",
         "name": "2D cluster nb 10.0",
         "type": "scatter3d",
         "x": [
          3.7988409996032715,
          3.830350875854492,
          3.830350875854492,
          2.855872631072998,
          2.855872631072998,
          2.855872631072998,
          2.855872631072998,
          1.881385326385498,
          1.881385326385498,
          0.907020092010498,
          -0.06758928298950195,
          -0.06758928298950195,
          4.804847240447998,
          4.804847240447998,
          5.779334545135498
         ],
         "y": [
          0.7265481948852539,
          -0.36449170112609863,
          -1.4897358417510986,
          1.3230082988739014,
          0.19800829887390137,
          -0.9272358417510986,
          -2.0523579120635986,
          0.7605082988739014,
          -0.36449170112609863,
          0.19800829887390137,
          0.7605082988739014,
          -0.36449170112609863,
          -2.0523579120635986,
          -0.9272358417510986,
          0.7605082988739014
         ],
         "z": [
          26.587499618530273,
          26.587499618530273,
          26.587499618530273,
          26.587499618530273,
          26.587499618530273,
          26.587499618530273,
          26.587499618530273,
          26.587499618530273,
          26.587499618530273,
          26.587499618530273,
          26.587499618530273,
          26.587499618530273,
          26.587499618530273,
          26.587499618530273,
          26.587499618530273
         ]
        },
        {
         "hoverinfo": "skip",
         "legendgroup": "rechits_chain",
         "line": {
          "width": 1.2058474152630798
         },
         "marker": {
          "color": "#AB63FA"
         },
         "mode": "lines",
         "name": "Rechits chain",
         "showlegend": false,
         "type": "scatter3d",
         "x": [
          3.7988409996032715,
          2.855872631072998
         ],
         "y": [
          0.7265481948852539,
          0.19800829887390137
         ],
         "z": [
          26.587499618530273,
          26.587499618530273
         ]
        },
        {
         "anchor": "tip",
         "colorscale": [
          [
           0,
           "#AB63FA"
          ],
          [
           1,
           "#AB63FA"
          ]
         ],
         "hoverinfo": "skip",
         "legendgroup": "rechits_chain",
         "showscale": false,
         "sizeref": 0.1,
         "type": "cone",
         "u": [
          -0.8723175968476665
         ],
         "v": [
          -0.48893967954126205
         ],
         "w": [
          0
         ],
         "x": [
          2.855872631072998
         ],
         "y": [
          0.19800829887390137
         ],
         "z": [
          26.587499618530273
         ]
        },
        {
         "hoverinfo": "skip",
         "legendgroup": "rechits_chain",
         "line": {
          "width": 1
         },
         "marker": {
          "color": "#AB63FA"
         },
         "mode": "lines",
         "name": "Rechits chain",
         "showlegend": false,
         "type": "scatter3d",
         "x": [
          3.830350875854492,
          2.855872631072998
         ],
         "y": [
          -0.36449170112609863,
          0.19800829887390137
         ],
         "z": [
          26.587499618530273,
          26.587499618530273
         ]
        },
        {
         "anchor": "tip",
         "colorscale": [
          [
           0,
           "#AB63FA"
          ],
          [
           1,
           "#AB63FA"
          ]
         ],
         "hoverinfo": "skip",
         "legendgroup": "rechits_chain",
         "showscale": false,
         "sizeref": 0.1,
         "type": "cone",
         "u": [
          -0.8660697636731018
         ],
         "v": [
          0.4999231585466086
         ],
         "w": [
          0
         ],
         "x": [
          2.855872631072998
         ],
         "y": [
          0.19800829887390137
         ],
         "z": [
          26.587499618530273
         ]
        },
        {
         "hoverinfo": "skip",
         "legendgroup": "rechits_chain",
         "line": {
          "width": 2.7802179430134113
         },
         "marker": {
          "color": "#AB63FA"
         },
         "mode": "lines",
         "name": "Rechits chain",
         "showlegend": false,
         "type": "scatter3d",
         "x": [
          3.830350875854492,
          2.855872631072998
         ],
         "y": [
          -1.4897358417510986,
          -0.9272358417510986
         ],
         "z": [
          26.587499618530273,
          26.587499618530273
         ]
        },
        {
         "anchor": "tip",
         "colorscale": [
          [
           0,
           "#AB63FA"
          ],
          [
           1,
           "#AB63FA"
          ]
         ],
         "hoverinfo": "skip",
         "legendgroup": "rechits_chain",
         "showscale": false,
         "sizeref": 0.1,
         "type": "cone",
         "u": [
          -0.8660697636731018
         ],
         "v": [
          0.4999231585466086
         ],
         "w": [
          0
         ],
         "x": [
          2.855872631072998
         ],
         "y": [
          -0.9272358417510986
         ],
         "z": [
          26.587499618530273
         ]
        },
        {
         "hoverinfo": "skip",
         "legendgroup": "rechits_chain",
         "line": {
          "width": 1.4209142532917136
         },
         "marker": {
          "color": "#AB63FA"
         },
         "mode": "lines",
         "name": "Rechits chain",
         "showlegend": false,
         "type": "scatter3d",
         "x": [
          2.855872631072998,
          2.855872631072998
         ],
         "y": [
          1.3230082988739014,
          0.19800829887390137
         ],
         "z": [
          26.587499618530273,
          26.587499618530273
         ]
        },
        {
         "anchor": "tip",
         "colorscale": [
          [
           0,
           "#AB63FA"
          ],
          [
           1,
           "#AB63FA"
          ]
         ],
         "hoverinfo": "skip",
         "legendgroup": "rechits_chain",
         "showscale": false,
         "sizeref": 0.1,
         "type": "cone",
         "u": [
          0
         ],
         "v": [
          -1
         ],
         "w": [
          0
         ],
         "x": [
          2.855872631072998
         ],
         "y": [
          0.19800829887390137
         ],
         "z": [
          26.587499618530273
         ]
        },
        {
         "hoverinfo": "skip",
         "legendgroup": "rechits_chain",
         "line": {
          "width": 2.8004410674887743
         },
         "marker": {
          "color": "#AB63FA"
         },
         "mode": "lines",
         "name": "Rechits chain",
         "showlegend": false,
         "type": "scatter3d",
         "x": [
          2.855872631072998,
          1.881385326385498
         ],
         "y": [
          0.19800829887390137,
          -0.36449170112609863
         ],
         "z": [
          26.587499618530273,
          26.587499618530273
         ]
        },
        {
         "anchor": "tip",
         "colorscale": [
          [
           0,
           "#AB63FA"
          ],
          [
           1,
           "#AB63FA"
          ]
         ],
         "hoverinfo": "skip",
         "legendgroup": "rechits_chain",
         "showscale": false,
         "sizeref": 0.1,
         "type": "cone",
         "u": [
          -0.866071776036405
         ],
         "v": [
          -0.499919672300608
         ],
         "w": [
          0
         ],
         "x": [
          1.881385326385498
         ],
         "y": [
          -0.36449170112609863
         ],
         "z": [
          26.587499618530273
         ]
        },
        {
         "hoverinfo": "skip",
         "legendgroup": "rechits_chain",
         "line": {
          "width": 1
         },
         "marker": {
          "color": "#AB63FA"
         },
         "mode": "lines",
         "name": "Rechits chain",
         "showlegend": false,
         "type": "scatter3d",
         "x": [
          2.855872631072998,
          2.855872631072998
         ],
         "y": [
          -2.0523579120635986,
          -0.9272358417510986
         ],
         "z": [
          26.587499618530273,
          26.587499618530273
         ]
        },
        {
         "anchor": "tip",
         "colorscale": [
          [
           0,
           "#AB63FA"
          ],
          [
           1,
           "#AB63FA"
          ]
         ],
         "hoverinfo": "skip",
         "legendgroup": "rechits_chain",
         "showscale": false,
         "sizeref": 0.1,
         "type": "cone",
         "u": [
          0
         ],
         "v": [
          1
         ],
         "w": [
          0
         ],
         "x": [
          2.855872631072998
         ],
         "y": [
          -0.9272358417510986
         ],
         "z": [
          26.587499618530273
         ]
        },
        {
         "hoverinfo": "skip",
         "legendgroup": "rechits_chain",
         "line": {
          "width": 2.206617764722565
         },
         "marker": {
          "color": "#AB63FA"
         },
         "mode": "lines",
         "name": "Rechits chain",
         "showlegend": false,
         "type": "scatter3d",
         "x": [
          1.881385326385498,
          1.881385326385498
         ],
         "y": [
          0.7605082988739014,
          -0.36449170112609863
         ],
         "z": [
          26.587499618530273,
          26.587499618530273
         ]
        },
        {
         "anchor": "tip",
         "colorscale": [
          [
           0,
           "#AB63FA"
          ],
          [
           1,
           "#AB63FA"
          ]
         ],
         "hoverinfo": "skip",
         "legendgroup": "rechits_chain",
         "showscale": false,
         "sizeref": 0.1,
         "type": "cone",
         "u": [
          0
         ],
         "v": [
          -1
         ],
         "w": [
          0
         ],
         "x": [
          1.881385326385498
         ],
         "y": [
          -0.36449170112609863
         ],
         "z": [
          26.587499618530273
         ]
        },
        {
         "hoverinfo": "skip",
         "legendgroup": "rechits_chain",
         "line": {
          "width": 4.001804413361615
         },
         "marker": {
          "color": "#AB63FA"
         },
         "mode": "lines",
         "name": "Rechits chain",
         "showlegend": false,
         "type": "scatter3d",
         "x": [
          1.881385326385498,
          2.855872631072998
         ],
         "y": [
          -0.36449170112609863,
          -0.9272358417510986
         ],
         "z": [
          26.587499618530273,
          26.587499618530273
         ]
        },
        {
         "anchor": "tip",
         "colorscale": [
          [
           0,
           "#AB63FA"
          ],
          [
           1,
           "#AB63FA"
          ]
         ],
         "hoverinfo": "skip",
         "legendgroup": "rechits_chain",
         "showscale": false,
         "sizeref": 0.1,
         "type": "cone",
         "u": [
          0.8659778263291473
         ],
         "v": [
          -0.5000823975168945
         ],
         "w": [
          0
         ],
         "x": [
          2.855872631072998
         ],
         "y": [
          -0.9272358417510986
         ],
         "z": [
          26.587499618530273
         ]
        },
        {
         "hoverinfo": "skip",
         "legendgroup": "rechits_chain",
         "line": {
          "width": 2.3131173566981165
         },
         "marker": {
          "color": "#AB63FA"
         },
         "mode": "lines",
         "name": "Rechits chain",
         "showlegend": false,
         "type": "scatter3d",
         "x": [
          0.907020092010498,
          1.881385326385498
         ],
         "y": [
          0.19800829887390137,
          -0.36449170112609863
         ],
         "z": [
          26.587499618530273,
          26.587499618530273
         ]
        },
        {
         "anchor": "tip",
         "colorscale": [
          [
           0,
           "#AB63FA"
          ],
          [
           1,
           "#AB63FA"
          ]
         ],
         "hoverinfo": "skip",
         "legendgroup": "rechits_chain",
         "showscale": false,
         "sizeref": 0.1,
         "type": "cone",
         "u": [
          0.8660446585505366
         ],
         "v": [
          -0.4999666482837475
         ],
         "w": [
          0
         ],
         "x": [
          1.881385326385498
         ],
         "y": [
          -0.36449170112609863
         ],
         "z": [
          26.587499618530273
         ]
        },
        {
         "hoverinfo": "skip",
         "legendgroup": "rechits_chain",
         "line": {
          "width": 1.8044232637577093
         },
         "marker": {
          "color": "#AB63FA"
         },
         "mode": "lines",
         "name": "Rechits chain",
         "showlegend": false,
         "type": "scatter3d",
         "x": [
          -0.06758928298950195,
          0.907020092010498
         ],
         "y": [
          0.7605082988739014,
          0.19800829887390137
         ],
         "z": [
          26.587499618530273,
          26.587499618530273
         ]
        },
        {
         "anchor": "tip",
         "colorscale": [
          [
           0,
           "#AB63FA"
          ],
          [
           1,
           "#AB63FA"
          ]
         ],
         "hoverinfo": "skip",
         "legendgroup": "rechits_chain",
         "showscale": false,
         "sizeref": 0.1,
         "type": "cone",
         "u": [
          0.8660988858794976
         ],
         "v": [
          -0.4998727036739385
         ],
         "w": [
          0
         ],
         "x": [
          0.907020092010498
         ],
         "y": [
          0.19800829887390137
         ],
         "z": [
          26.587499618530273
         ]
        },
        {
         "hoverinfo": "skip",
         "legendgroup": "rechits_chain",
         "line": {
          "width": 1
         },
         "marker": {
          "color": "#AB63FA"
         },
         "mode": "lines",
         "name": "Rechits chain",
         "showlegend": false,
         "type": "scatter3d",
         "x": [
          -0.06758928298950195,
          -0.06758928298950195
         ],
         "y": [
          -0.36449170112609863,
          0.7605082988739014
         ],
         "z": [
          26.587499618530273,
          26.587499618530273
         ]
        },
        {
         "anchor": "tip",
         "colorscale": [
          [
           0,
           "#AB63FA"
          ],
          [
           1,
           "#AB63FA"
          ]
         ],
         "hoverinfo": "skip",
         "legendgroup": "rechits_chain",
         "showscale": false,
         "sizeref": 0.1,
         "type": "cone",
         "u": [
          0
         ],
         "v": [
          1
         ],
         "w": [
          0
         ],
         "x": [
          -0.06758928298950195
         ],
         "y": [
          0.7605082988739014
         ],
         "z": [
          26.587499618530273
         ]
        },
        {
         "hoverinfo": "skip",
         "legendgroup": "rechits_chain",
         "line": {
          "width": 1
         },
         "marker": {
          "color": "#AB63FA"
         },
         "mode": "lines",
         "name": "Rechits chain",
         "showlegend": false,
         "type": "scatter3d",
         "x": [
          4.804847240447998,
          4.804847240447998
         ],
         "y": [
          -2.0523579120635986,
          -0.9272358417510986
         ],
         "z": [
          26.587499618530273,
          26.587499618530273
         ]
        },
        {
         "anchor": "tip",
         "colorscale": [
          [
           0,
           "#AB63FA"
          ],
          [
           1,
           "#AB63FA"
          ]
         ],
         "hoverinfo": "skip",
         "legendgroup": "rechits_chain",
         "showscale": false,
         "sizeref": 0.1,
         "type": "cone",
         "u": [
          0
         ],
         "v": [
          1
         ],
         "w": [
          0
         ],
         "x": [
          4.804847240447998
         ],
         "y": [
          -0.9272358417510986
         ],
         "z": [
          26.587499618530273
         ]
        },
        {
         "hoverinfo": "skip",
         "legendgroup": "rechits_chain",
         "line": {
          "width": 1.9121987399010856
         },
         "marker": {
          "color": "#AB63FA"
         },
         "mode": "lines",
         "name": "Rechits chain",
         "showlegend": false,
         "type": "scatter3d",
         "x": [
          4.804847240447998,
          3.830350875854492
         ],
         "y": [
          -0.9272358417510986,
          -1.4897358417510986
         ],
         "z": [
          26.587499618530273,
          26.587499618530273
         ]
        },
        {
         "anchor": "tip",
         "colorscale": [
          [
           0,
           "#AB63FA"
          ],
          [
           1,
           "#AB63FA"
          ]
         ],
         "hoverinfo": "skip",
         "legendgroup": "rechits_chain",
         "showscale": false,
         "sizeref": 0.1,
         "type": "cone",
         "u": [
          -0.8660737883576084
         ],
         "v": [
          -0.49991618609512994
         ],
         "w": [
          0
         ],
         "x": [
          3.830350875854492
         ],
         "y": [
          -1.4897358417510986
         ],
         "z": [
          26.587499618530273
         ]
        },
        {
         "hoverinfo": "skip",
         "legendgroup": "rechits_chain",
         "line": {
          "width": 1
         },
         "marker": {
          "color": "#AB63FA"
         },
         "mode": "lines",
         "name": "Rechits chain",
         "showlegend": false,
         "type": "scatter3d",
         "x": [
          5.779334545135498,
          4.804847240447998
         ],
         "y": [
          0.7605082988739014,
          -0.9272358417510986
         ],
         "z": [
          26.587499618530273,
          26.587499618530273
         ]
        },
        {
         "anchor": "tip",
         "colorscale": [
          [
           0,
           "#AB63FA"
          ],
          [
           1,
           "#AB63FA"
          ]
         ],
         "hoverinfo": "skip",
         "legendgroup": "rechits_chain",
         "showscale": false,
         "sizeref": 0.1,
         "type": "cone",
         "u": [
          -0.5000260805296963
         ],
         "v": [
          -0.8660103456599751
         ],
         "w": [
          0
         ],
         "x": [
          4.804847240447998
         ],
         "y": [
          -0.9272358417510986
         ],
         "z": [
          26.587499618530273
         ]
        },
        {
         "customdata": [
          [
           "0.013951198",
           "0.013951198",
           "1.9177563",
           "Follower",
           "10"
          ],
          [
           "0.021012755",
           "0.050707623",
           "1.1250749",
           "Follower",
           "10"
          ],
          [
           "0.008172921",
           "0.030238658",
           "1.1251315",
           "Follower",
           "10"
          ],
          [
           "0.03826755",
           "0.05524856",
           "3.4028235e+38",
           "Seed",
           "10"
          ],
          [
           "0.012949267",
           "0.046675876",
           "1.1251218",
           "Follower",
           "10"
          ]
         ],
         "hovertemplate": "Rechit : %{customdata[3]}<br>Layer : %{customdata[4]}<br>Energy: %{customdata[0]:.2g} GeV<br>Rho: %{customdata[1]:.2g} GeV<br>Delta: %{customdata[2]:.2g} cm",
         "legendgroup": "rechits",
         "legendgrouptitle": {
          "text": "Rechits"
         },
         "marker": {
          "color": "#FFA15A",
          "size": [
           4.946293830871582,
           6.906362533569336,
           2.387171745300293,
           9.77528190612793,
           4.589632511138916
          ],
          "symbol": "circle"
         },
         "mode": "markers",
         "name": "2D cluster nb 11.0",
         "type": "scatter3d",
         "x": [
          3.7988409996032715,
          1.881385326385498,
          1.881385326385498,
          0.907020092010498,
          0.907020092010498
         ],
         "y": [
          -3.774184226989746,
          -3.7402241230010986,
          -2.6149890422821045,
          -4.3027238845825195,
          -3.1776020526885986
         ],
         "z": [
          26.587499618530273,
          26.587499618530273,
          26.587499618530273,
          26.587499618530273,
          26.587499618530273
         ]
        },
        {
         "hoverinfo": "skip",
         "legendgroup": "rechits_chain",
         "line": {
          "width": 1
         },
         "marker": {
          "color": "#FFA15A"
         },
         "mode": "lines",
         "name": "Rechits chain",
         "showlegend": false,
         "type": "scatter3d",
         "x": [
          3.7988409996032715,
          1.881385326385498
         ],
         "y": [
          -3.774184226989746,
          -3.7402241230010986
         ],
         "z": [
          26.587499618530273,
          26.587499618530273
         ]
        },
        {
         "anchor": "tip",
         "colorscale": [
          [
           0,
           "#FFA15A"
          ],
          [
           1,
           "#FFA15A"
          ]
         ],
         "hoverinfo": "skip",
         "legendgroup": "rechits_chain",
         "showscale": false,
         "sizeref": 0.1,
         "type": "cone",
         "u": [
          -0.999843196698061
         ],
         "v": [
          0.017708247135239753
         ],
         "w": [
          0
         ],
         "x": [
          1.881385326385498
         ],
         "y": [
          -3.7402241230010986
         ],
         "z": [
          26.587499618530273
         ]
        },
        {
         "hoverinfo": "skip",
         "legendgroup": "rechits_chain",
         "line": {
          "width": 1.251732532314344
         },
         "marker": {
          "color": "#FFA15A"
         },
         "mode": "lines",
         "name": "Rechits chain",
         "showlegend": false,
         "type": "scatter3d",
         "x": [
          1.881385326385498,
          0.907020092010498
         ],
         "y": [
          -3.7402241230010986,
          -4.3027238845825195
         ],
         "z": [
          26.587499618530273,
          26.587499618530273
         ]
        },
        {
         "anchor": "tip",
         "colorscale": [
          [
           0,
           "#FFA15A"
          ],
          [
           1,
           "#FFA15A"
          ]
         ],
         "hoverinfo": "skip",
         "legendgroup": "rechits_chain",
         "showscale": false,
         "sizeref": 0.1,
         "type": "cone",
         "u": [
          -0.8660447503076836
         ],
         "v": [
          -0.49996648934153753
         ],
         "w": [
          0
         ],
         "x": [
          0.907020092010498
         ],
         "y": [
          -4.3027238845825195
         ],
         "z": [
          26.587499618530273
         ]
        },
        {
         "hoverinfo": "skip",
         "legendgroup": "rechits_chain",
         "line": {
          "width": 1
         },
         "marker": {
          "color": "#FFA15A"
         },
         "mode": "lines",
         "name": "Rechits chain",
         "showlegend": false,
         "type": "scatter3d",
         "x": [
          1.881385326385498,
          0.907020092010498
         ],
         "y": [
          -2.6149890422821045,
          -3.1776020526885986
         ],
         "z": [
          26.587499618530273,
          26.587499618530273
         ]
        },
        {
         "anchor": "tip",
         "colorscale": [
          [
           0,
           "#FFA15A"
          ],
          [
           1,
           "#FFA15A"
          ]
         ],
         "hoverinfo": "skip",
         "legendgroup": "rechits_chain",
         "showscale": false,
         "sizeref": 0.1,
         "type": "cone",
         "u": [
          -0.8660011645682122
         ],
         "v": [
          -0.5000419812040788
         ],
         "w": [
          0
         ],
         "x": [
          0.907020092010498
         ],
         "y": [
          -3.1776020526885986
         ],
         "z": [
          26.587499618530273
         ]
        },
        {
         "hoverinfo": "skip",
         "legendgroup": "rechits_chain",
         "line": {
          "width": 1
         },
         "marker": {
          "color": "#FFA15A"
         },
         "mode": "lines",
         "name": "Rechits chain",
         "showlegend": false,
         "type": "scatter3d",
         "x": [
          0.907020092010498,
          0.907020092010498
         ],
         "y": [
          -3.1776020526885986,
          -4.3027238845825195
         ],
         "z": [
          26.587499618530273,
          26.587499618530273
         ]
        },
        {
         "anchor": "tip",
         "colorscale": [
          [
           0,
           "#FFA15A"
          ],
          [
           1,
           "#FFA15A"
          ]
         ],
         "hoverinfo": "skip",
         "legendgroup": "rechits_chain",
         "showscale": false,
         "sizeref": 0.1,
         "type": "cone",
         "u": [
          0
         ],
         "v": [
          -1
         ],
         "w": [
          0
         ],
         "x": [
          0.907020092010498
         ],
         "y": [
          -4.3027238845825195
         ],
         "z": [
          26.587499618530273
         ]
        },
        {
         "customdata": [
          [
           "0.041304726",
           "0.30059233",
           "1.1059968",
           "Follower",
           "11"
          ],
          [
           "0.061703652",
           "0.31732997",
           "1.1059968",
           "Follower",
           "11"
          ],
          [
           "0.016256033",
           "0.051151376",
           "1.1252441",
           "Follower",
           "11"
          ],
          [
           "0.011715308",
           "0.32562828",
           "1.1251807",
           "Follower",
           "11"
          ],
          [
           "0.34481227",
           "0.54021025",
           "3.4028235e+38",
           "Seed",
           "11"
          ],
          [
           "0.046931162",
           "0.28258467",
           "1.1096947",
           "Follower",
           "11"
          ],
          [
           "0.022859521",
           "0.040077023",
           "1.1252418",
           "Follower",
           "11"
          ],
          [
           "0.016603887",
           "0.061389904",
           "1.125",
           "Follower",
           "11"
          ],
          [
           "0.089572035",
           "0.1442502",
           "1.1254883",
           "Follower",
           "11"
          ],
          [
           "0.18060613",
           "0.5022574",
           "1.1253028",
           "Follower",
           "11"
          ],
          [
           "0.048535027",
           "0.38770264",
           "1.1251807",
           "Follower",
           "11"
          ],
          [
           "0.031649563",
           "0.14256272",
           "1.125",
           "Follower",
           "11"
          ],
          [
           "0.0711514",
           "0.26441738",
           "1.125075",
           "Follower",
           "11"
          ],
          [
           "0.10598567",
           "0.30565807",
           "1.125075",
           "Follower",
           "11"
          ],
          [
           "0.018178973",
           "0.029608734",
           "1.125136",
           "Follower",
           "11"
          ],
          [
           "0.0071877665",
           "0.14477503",
           "1.1252441",
           "Follower",
           "11"
          ],
          [
           "0.091864504",
           "0.14845122",
           "1.1252865",
           "Follower",
           "11"
          ],
          [
           "0.0061729574",
           "0.00976684",
           "1.1248636",
           "Follower",
           "11"
          ],
          [
           "0.05659511",
           "0.09825165",
           "1.1251221",
           "Follower",
           "11"
          ],
          [
           "0.07873457",
           "0.11019164",
           "1.1252441",
           "Follower",
           "11"
          ],
          [
           "0.021609427",
           "0.14077845",
           "1.1408828",
           "Follower",
           "11"
          ],
          [
           "0.06110287",
           "0.2534501",
           "1.125",
           "Follower",
           "11"
          ]
         ],
         "hovertemplate": "Rechit : %{customdata[3]}<br>Layer : %{customdata[4]}<br>Energy: %{customdata[0]:.2g} GeV<br>Rho: %{customdata[1]:.2g} GeV<br>Delta: %{customdata[2]:.2g} cm",
         "legendgroup": "rechits",
         "legendgrouptitle": {
          "text": "Rechits"
         },
         "marker": {
          "color": "#19D3F3",
          "size": [
           10.140791893005371,
           12.061626434326172,
           5.678027629852295,
           4.1103739738464355,
           20.296241760253906,
           10.751954078674316,
           7.30950403213501,
           5.779356002807617,
           13.845272064208984,
           17.201393127441406,
           10.912774085998535,
           8.8665771484375,
           12.743435859680176,
           14.650524139404297,
           6.213080883026123,
           1.772464394569397,
           13.966214179992676,
           1.0440622568130493,
           11.648039817810059,
           13.22809886932373,
           7.04036283493042,
           12.014801025390625
          ],
          "symbol": "circle"
         },
         "mode": "markers",
         "name": "2D cluster nb 12.0",
         "type": "scatter3d",
         "x": [
          3.830350875854492,
          3.830350875854492,
          2.8759727478027344,
          2.8759727478027344,
          2.8759727478027344,
          2.8759727478027344,
          1.9014854431152344,
          1.9014854431152344,
          1.9014854431152344,
          1.9014854431152344,
          1.9014854431152344,
          0.9271202087402344,
          0.9271202087402344,
          0.9271202087402344,
          0.9271202087402344,
          -0.047489166259765625,
          -0.047489166259765625,
          -1.0216102600097656,
          4.824947357177734,
          4.824947357177734,
          4.824947357177734,
          1.9014854431152344
         ],
         "y": [
          -0.36449170112609863,
          -1.4897358417510986,
          -3.1811821460723877,
          0.1944282054901123,
          -0.9308159351348877,
          -2.0559380054473877,
          -3.7438042163848877,
          3.0074164867401123,
          1.8824164867401123,
          -0.3680717945098877,
          -1.4933159351348877,
          1.3194282054901123,
          0.1944282054901123,
          -0.9308159351348877,
          -3.1811821460723877,
          -0.3680717945098877,
          -1.4933159351348877,
          0.1944282054901123,
          -2.0559380054473877,
          0.1944282054901123,
          -0.9308159351348877,
          0.7569282054901123
         ],
         "z": [
          28.702499389648438,
          28.702499389648438,
          28.702499389648438,
          28.702499389648438,
          28.702499389648438,
          28.702499389648438,
          28.702499389648438,
          28.702499389648438,
          28.702499389648438,
          28.702499389648438,
          28.702499389648438,
          28.702499389648438,
          28.702499389648438,
          28.702499389648438,
          28.702499389648438,
          28.702499389648438,
          28.702499389648438,
          28.702499389648438,
          28.702499389648438,
          28.702499389648438,
          28.702499389648438,
          28.702499389648438
         ]
        },
        {
         "hoverinfo": "skip",
         "legendgroup": "rechits_chain",
         "line": {
          "width": 1.4183918351379474
         },
         "marker": {
          "color": "#19D3F3"
         },
         "mode": "lines",
         "name": "Rechits chain",
         "showlegend": false,
         "type": "scatter3d",
         "x": [
          3.830350875854492,
          2.8759727478027344
         ],
         "y": [
          -0.36449170112609863,
          0.1944282054901123
         ],
         "z": [
          28.702499389648438,
          28.702499389648438
         ]
        },
        {
         "anchor": "tip",
         "colorscale": [
          [
           0,
           "#19D3F3"
          ],
          [
           1,
           "#19D3F3"
          ]
         ],
         "hoverinfo": "skip",
         "legendgroup": "rechits_chain",
         "showscale": false,
         "sizeref": 0.1,
         "type": "cone",
         "u": [
          -0.8629121430284744
         ],
         "v": [
          0.5053539684359922
         ],
         "w": [
          0
         ],
         "x": [
          2.8759727478027344
         ],
         "y": [
          0.1944282054901123
         ],
         "z": [
          28.702499389648438
         ]
        },
        {
         "hoverinfo": "skip",
         "legendgroup": "rechits_chain",
         "line": {
          "width": 3.836266988215746
         },
         "marker": {
          "color": "#19D3F3"
         },
         "mode": "lines",
         "name": "Rechits chain",
         "showlegend": false,
         "type": "scatter3d",
         "x": [
          3.830350875854492,
          2.8759727478027344
         ],
         "y": [
          -1.4897358417510986,
          -0.9308159351348877
         ],
         "z": [
          28.702499389648438,
          28.702499389648438
         ]
        },
        {
         "anchor": "tip",
         "colorscale": [
          [
           0,
           "#19D3F3"
          ],
          [
           1,
           "#19D3F3"
          ]
         ],
         "hoverinfo": "skip",
         "legendgroup": "rechits_chain",
         "showscale": false,
         "sizeref": 0.1,
         "type": "cone",
         "u": [
          -0.8629121430284744
         ],
         "v": [
          0.5053539684359922
         ],
         "w": [
          0
         ],
         "x": [
          2.8759727478027344
         ],
         "y": [
          -0.9308159351348877
         ],
         "z": [
          28.702499389648438
         ]
        },
        {
         "hoverinfo": "skip",
         "legendgroup": "rechits_chain",
         "line": {
          "width": 2.4157275772107503
         },
         "marker": {
          "color": "#19D3F3"
         },
         "mode": "lines",
         "name": "Rechits chain",
         "showlegend": false,
         "type": "scatter3d",
         "x": [
          2.8759727478027344,
          2.8759727478027344
         ],
         "y": [
          -3.1811821460723877,
          -2.0559380054473877
         ],
         "z": [
          28.702499389648438,
          28.702499389648438
         ]
        },
        {
         "anchor": "tip",
         "colorscale": [
          [
           0,
           "#19D3F3"
          ],
          [
           1,
           "#19D3F3"
          ]
         ],
         "hoverinfo": "skip",
         "legendgroup": "rechits_chain",
         "showscale": false,
         "sizeref": 0.1,
         "type": "cone",
         "u": [
          0
         ],
         "v": [
          1
         ],
         "w": [
          0
         ],
         "x": [
          2.8759727478027344
         ],
         "y": [
          -2.0559380054473877
         ],
         "z": [
          28.702499389648438
         ]
        },
        {
         "hoverinfo": "skip",
         "legendgroup": "rechits_chain",
         "line": {
          "width": 1.6680847488582609
         },
         "marker": {
          "color": "#19D3F3"
         },
         "mode": "lines",
         "name": "Rechits chain",
         "showlegend": false,
         "type": "scatter3d",
         "x": [
          2.8759727478027344,
          1.9014854431152344
         ],
         "y": [
          0.1944282054901123,
          -0.3680717945098877
         ],
         "z": [
          28.702499389648438,
          28.702499389648438
         ]
        },
        {
         "anchor": "tip",
         "colorscale": [
          [
           0,
           "#19D3F3"
          ],
          [
           1,
           "#19D3F3"
          ]
         ],
         "hoverinfo": "skip",
         "legendgroup": "rechits_chain",
         "showscale": false,
         "sizeref": 0.1,
         "type": "cone",
         "u": [
          -0.866071776036405
         ],
         "v": [
          -0.499919672300608
         ],
         "w": [
          0
         ],
         "x": [
          1.9014854431152344
         ],
         "y": [
          -0.3680717945098877
         ],
         "z": [
          28.702499389648438
         ]
        },
        {
         "hoverinfo": "skip",
         "legendgroup": "rechits_chain",
         "line": {
          "width": 2.765754861363096
         },
         "marker": {
          "color": "#19D3F3"
         },
         "mode": "lines",
         "name": "Rechits chain",
         "showlegend": false,
         "type": "scatter3d",
         "x": [
          2.8759727478027344,
          3.830350875854492
         ],
         "y": [
          -2.0559380054473877,
          -1.4897358417510986
         ],
         "z": [
          28.702499389648438,
          28.702499389648438
         ]
        },
        {
         "anchor": "tip",
         "colorscale": [
          [
           0,
           "#19D3F3"
          ],
          [
           1,
           "#19D3F3"
          ]
         ],
         "hoverinfo": "skip",
         "legendgroup": "rechits_chain",
         "showscale": false,
         "sizeref": 0.1,
         "type": "cone",
         "u": [
          0.8600366033291608
         ],
         "v": [
          0.5102323401491127
         ],
         "w": [
          0
         ],
         "x": [
          3.830350875854492
         ],
         "y": [
          -1.4897358417510986
         ],
         "z": [
          28.702499389648438
         ]
        },
        {
         "hoverinfo": "skip",
         "legendgroup": "rechits_chain",
         "line": {
          "width": 1.7538313609608491
         },
         "marker": {
          "color": "#19D3F3"
         },
         "mode": "lines",
         "name": "Rechits chain",
         "showlegend": false,
         "type": "scatter3d",
         "x": [
          1.9014854431152344,
          2.8759727478027344
         ],
         "y": [
          -3.7438042163848877,
          -3.1811821460723877
         ],
         "z": [
          28.702499389648438,
          28.702499389648438
         ]
        },
        {
         "anchor": "tip",
         "colorscale": [
          [
           0,
           "#19D3F3"
          ],
          [
           1,
           "#19D3F3"
          ]
         ],
         "hoverinfo": "skip",
         "legendgroup": "rechits_chain",
         "showscale": false,
         "sizeref": 0.1,
         "type": "cone",
         "u": [
          0.8660248024567582
         ],
         "v": [
          0.5000010415286482
         ],
         "w": [
          0
         ],
         "x": [
          2.8759727478027344
         ],
         "y": [
          -3.1811821460723877
         ],
         "z": [
          28.702499389648438
         ]
        },
        {
         "hoverinfo": "skip",
         "legendgroup": "rechits_chain",
         "line": {
          "width": 1
         },
         "marker": {
          "color": "#19D3F3"
         },
         "mode": "lines",
         "name": "Rechits chain",
         "showlegend": false,
         "type": "scatter3d",
         "x": [
          1.9014854431152344,
          1.9014854431152344
         ],
         "y": [
          3.0074164867401123,
          1.8824164867401123
         ],
         "z": [
          28.702499389648438,
          28.702499389648438
         ]
        },
        {
         "anchor": "tip",
         "colorscale": [
          [
           0,
           "#19D3F3"
          ],
          [
           1,
           "#19D3F3"
          ]
         ],
         "hoverinfo": "skip",
         "legendgroup": "rechits_chain",
         "showscale": false,
         "sizeref": 0.1,
         "type": "cone",
         "u": [
          0
         ],
         "v": [
          -1
         ],
         "w": [
          0
         ],
         "x": [
          1.9014854431152344
         ],
         "y": [
          1.8824164867401123
         ],
         "z": [
          28.702499389648438
         ]
        },
        {
         "hoverinfo": "skip",
         "legendgroup": "rechits_chain",
         "line": {
          "width": 2.3625122656009103
         },
         "marker": {
          "color": "#19D3F3"
         },
         "mode": "lines",
         "name": "Rechits chain",
         "showlegend": false,
         "type": "scatter3d",
         "x": [
          1.9014854431152344,
          1.9014854431152344
         ],
         "y": [
          1.8824164867401123,
          0.7569282054901123
         ],
         "z": [
          28.702499389648438,
          28.702499389648438
         ]
        },
        {
         "anchor": "tip",
         "colorscale": [
          [
           0,
           "#19D3F3"
          ],
          [
           1,
           "#19D3F3"
          ]
         ],
         "hoverinfo": "skip",
         "legendgroup": "rechits_chain",
         "showscale": false,
         "sizeref": 0.1,
         "type": "cone",
         "u": [
          0
         ],
         "v": [
          -1
         ],
         "w": [
          0
         ],
         "x": [
          1.9014854431152344
         ],
         "y": [
          0.7569282054901123
         ],
         "z": [
          28.702499389648438
         ]
        },
        {
         "hoverinfo": "skip",
         "legendgroup": "rechits_chain",
         "line": {
          "width": 3.919407502915965
         },
         "marker": {
          "color": "#19D3F3"
         },
         "mode": "lines",
         "name": "Rechits chain",
         "showlegend": false,
         "type": "scatter3d",
         "x": [
          1.9014854431152344,
          2.8759727478027344
         ],
         "y": [
          -0.3680717945098877,
          -0.9308159351348877
         ],
         "z": [
          28.702499389648438,
          28.702499389648438
         ]
        },
        {
         "anchor": "tip",
         "colorscale": [
          [
           0,
           "#19D3F3"
          ],
          [
           1,
           "#19D3F3"
          ]
         ],
         "hoverinfo": "skip",
         "legendgroup": "rechits_chain",
         "showscale": false,
         "sizeref": 0.1,
         "type": "cone",
         "u": [
          0.8659778263291473
         ],
         "v": [
          -0.5000823975168945
         ],
         "w": [
          0
         ],
         "x": [
          2.8759727478027344
         ],
         "y": [
          -0.9308159351348877
         ],
         "z": [
          28.702499389648438
         ]
        },
        {
         "hoverinfo": "skip",
         "legendgroup": "rechits_chain",
         "line": {
          "width": 3.2571188512603526
         },
         "marker": {
          "color": "#19D3F3"
         },
         "mode": "lines",
         "name": "Rechits chain",
         "showlegend": false,
         "type": "scatter3d",
         "x": [
          1.9014854431152344,
          2.8759727478027344
         ],
         "y": [
          -1.4933159351348877,
          -0.9308159351348877
         ],
         "z": [
          28.702499389648438,
          28.702499389648438
         ]
        },
        {
         "anchor": "tip",
         "colorscale": [
          [
           0,
           "#19D3F3"
          ],
          [
           1,
           "#19D3F3"
          ]
         ],
         "hoverinfo": "skip",
         "legendgroup": "rechits_chain",
         "showscale": false,
         "sizeref": 0.1,
         "type": "cone",
         "u": [
          0.866071776036405
         ],
         "v": [
          0.499919672300608
         ],
         "w": [
          0
         ],
         "x": [
          2.8759727478027344
         ],
         "y": [
          -0.9308159351348877
         ],
         "z": [
          28.702499389648438
         ]
        },
        {
         "hoverinfo": "skip",
         "legendgroup": "rechits_chain",
         "line": {
          "width": 1.1521392628167266
         },
         "marker": {
          "color": "#19D3F3"
         },
         "mode": "lines",
         "name": "Rechits chain",
         "showlegend": false,
         "type": "scatter3d",
         "x": [
          0.9271202087402344,
          0.9271202087402344
         ],
         "y": [
          1.3194282054901123,
          0.1944282054901123
         ],
         "z": [
          28.702499389648438,
          28.702499389648438
         ]
        },
        {
         "anchor": "tip",
         "colorscale": [
          [
           0,
           "#19D3F3"
          ],
          [
           1,
           "#19D3F3"
          ]
         ],
         "hoverinfo": "skip",
         "legendgroup": "rechits_chain",
         "showscale": false,
         "sizeref": 0.1,
         "type": "cone",
         "u": [
          0
         ],
         "v": [
          -1
         ],
         "w": [
          0
         ],
         "x": [
          0.9271202087402344
         ],
         "y": [
          0.1944282054901123
         ],
         "z": [
          28.702499389648438
         ]
        },
        {
         "hoverinfo": "skip",
         "legendgroup": "rechits_chain",
         "line": {
          "width": 2.3302096139118
         },
         "marker": {
          "color": "#19D3F3"
         },
         "mode": "lines",
         "name": "Rechits chain",
         "showlegend": false,
         "type": "scatter3d",
         "x": [
          0.9271202087402344,
          1.9014854431152344
         ],
         "y": [
          0.1944282054901123,
          -0.3680717945098877
         ],
         "z": [
          28.702499389648438,
          28.702499389648438
         ]
        },
        {
         "anchor": "tip",
         "colorscale": [
          [
           0,
           "#19D3F3"
          ],
          [
           1,
           "#19D3F3"
          ]
         ],
         "hoverinfo": "skip",
         "legendgroup": "rechits_chain",
         "showscale": false,
         "sizeref": 0.1,
         "type": "cone",
         "u": [
          0.8660446585505366
         ],
         "v": [
          -0.4999666482837475
         ],
         "w": [
          0
         ],
         "x": [
          1.9014854431152344
         ],
         "y": [
          -0.3680717945098877
         ],
         "z": [
          28.702499389648438
         ]
        },
        {
         "hoverinfo": "skip",
         "legendgroup": "rechits_chain",
         "line": {
          "width": 3.0502720628806217
         },
         "marker": {
          "color": "#19D3F3"
         },
         "mode": "lines",
         "name": "Rechits chain",
         "showlegend": false,
         "type": "scatter3d",
         "x": [
          0.9271202087402344,
          1.9014854431152344
         ],
         "y": [
          -0.9308159351348877,
          -1.4933159351348877
         ],
         "z": [
          28.702499389648438,
          28.702499389648438
         ]
        },
        {
         "anchor": "tip",
         "colorscale": [
          [
           0,
           "#19D3F3"
          ],
          [
           1,
           "#19D3F3"
          ]
         ],
         "hoverinfo": "skip",
         "legendgroup": "rechits_chain",
         "showscale": false,
         "sizeref": 0.1,
         "type": "cone",
         "u": [
          0.8660446585505366
         ],
         "v": [
          -0.4999666482837475
         ],
         "w": [
          0
         ],
         "x": [
          1.9014854431152344
         ],
         "y": [
          -1.4933159351348877
         ],
         "z": [
          28.702499389648438
         ]
        },
        {
         "hoverinfo": "skip",
         "legendgroup": "rechits_chain",
         "line": {
          "width": 1.2501139789798865
         },
         "marker": {
          "color": "#19D3F3"
         },
         "mode": "lines",
         "name": "Rechits chain",
         "showlegend": false,
         "type": "scatter3d",
         "x": [
          0.9271202087402344,
          1.9014854431152344
         ],
         "y": [
          -3.1811821460723877,
          -3.7438042163848877
         ],
         "z": [
          28.702499389648438,
          28.702499389648438
         ]
        },
        {
         "anchor": "tip",
         "colorscale": [
          [
           0,
           "#19D3F3"
          ],
          [
           1,
           "#19D3F3"
          ]
         ],
         "hoverinfo": "skip",
         "legendgroup": "rechits_chain",
         "showscale": false,
         "sizeref": 0.1,
         "type": "cone",
         "u": [
          0.8659976776143162
         ],
         "v": [
          -0.5000480200606845
         ],
         "w": [
          0
         ],
         "x": [
          1.9014854431152344
         ],
         "y": [
          -3.7438042163848877
         ],
         "z": [
          28.702499389648438
         ]
        },
        {
         "hoverinfo": "skip",
         "legendgroup": "rechits_chain",
         "line": {
          "width": 1
         },
         "marker": {
          "color": "#19D3F3"
         },
         "mode": "lines",
         "name": "Rechits chain",
         "showlegend": false,
         "type": "scatter3d",
         "x": [
          -0.047489166259765625,
          -0.047489166259765625
         ],
         "y": [
          -0.3680717945098877,
          -1.4933159351348877
         ],
         "z": [
          28.702499389648438,
          28.702499389648438
         ]
        },
        {
         "anchor": "tip",
         "colorscale": [
          [
           0,
           "#19D3F3"
          ],
          [
           1,
           "#19D3F3"
          ]
         ],
         "hoverinfo": "skip",
         "legendgroup": "rechits_chain",
         "showscale": false,
         "sizeref": 0.1,
         "type": "cone",
         "u": [
          0
         ],
         "v": [
          -1
         ],
         "w": [
          0
         ],
         "x": [
          -0.047489166259765625
         ],
         "y": [
          -1.4933159351348877
         ],
         "z": [
          28.702499389648438
         ]
        },
        {
         "hoverinfo": "skip",
         "legendgroup": "rechits_chain",
         "line": {
          "width": 2.3535179862902247
         },
         "marker": {
          "color": "#19D3F3"
         },
         "mode": "lines",
         "name": "Rechits chain",
         "showlegend": false,
         "type": "scatter3d",
         "x": [
          -0.047489166259765625,
          0.9271202087402344
         ],
         "y": [
          -1.4933159351348877,
          -0.9308159351348877
         ],
         "z": [
          28.702499389648438,
          28.702499389648438
         ]
        },
        {
         "anchor": "tip",
         "colorscale": [
          [
           0,
           "#19D3F3"
          ],
          [
           1,
           "#19D3F3"
          ]
         ],
         "hoverinfo": "skip",
         "legendgroup": "rechits_chain",
         "showscale": false,
         "sizeref": 0.1,
         "type": "cone",
         "u": [
          0.8660988858794976
         ],
         "v": [
          0.4998727036739385
         ],
         "w": [
          0
         ],
         "x": [
          0.9271202087402344
         ],
         "y": [
          -0.9308159351348877
         ],
         "z": [
          28.702499389648438
         ]
        },
        {
         "hoverinfo": "skip",
         "legendgroup": "rechits_chain",
         "line": {
          "width": 1
         },
         "marker": {
          "color": "#19D3F3"
         },
         "mode": "lines",
         "name": "Rechits chain",
         "showlegend": false,
         "type": "scatter3d",
         "x": [
          -1.0216102600097656,
          -0.047489166259765625
         ],
         "y": [
          0.1944282054901123,
          -0.3680717945098877
         ],
         "z": [
          28.702499389648438,
          28.702499389648438
         ]
        },
        {
         "anchor": "tip",
         "colorscale": [
          [
           0,
           "#19D3F3"
          ],
          [
           1,
           "#19D3F3"
          ]
         ],
         "hoverinfo": "skip",
         "legendgroup": "rechits_chain",
         "showscale": false,
         "sizeref": 0.1,
         "type": "cone",
         "u": [
          0.8659904006399372
         ],
         "v": [
          -0.5000606223244148
         ],
         "w": [
          0
         ],
         "x": [
          -0.047489166259765625
         ],
         "y": [
          -0.3680717945098877
         ],
         "z": [
          28.702499389648438
         ]
        },
        {
         "hoverinfo": "skip",
         "legendgroup": "rechits_chain",
         "line": {
          "width": 1.733337482176788
         },
         "marker": {
          "color": "#19D3F3"
         },
         "mode": "lines",
         "name": "Rechits chain",
         "showlegend": false,
         "type": "scatter3d",
         "x": [
          4.824947357177734,
          4.824947357177734
         ],
         "y": [
          -2.0559380054473877,
          -0.9308159351348877
         ],
         "z": [
          28.702499389648438,
          28.702499389648438
         ]
        },
        {
         "anchor": "tip",
         "colorscale": [
          [
           0,
           "#19D3F3"
          ],
          [
           1,
           "#19D3F3"
          ]
         ],
         "hoverinfo": "skip",
         "legendgroup": "rechits_chain",
         "showscale": false,
         "sizeref": 0.1,
         "type": "cone",
         "u": [
          0
         ],
         "v": [
          1
         ],
         "w": [
          0
         ],
         "x": [
          4.824947357177734
         ],
         "y": [
          -0.9308159351348877
         ],
         "z": [
          28.702499389648438
         ]
        },
        {
         "hoverinfo": "skip",
         "legendgroup": "rechits_chain",
         "line": {
          "width": 2.801556827144807
         },
         "marker": {
          "color": "#19D3F3"
         },
         "mode": "lines",
         "name": "Rechits chain",
         "showlegend": false,
         "type": "scatter3d",
         "x": [
          4.824947357177734,
          4.824947357177734
         ],
         "y": [
          0.1944282054901123,
          -0.9308159351348877
         ],
         "z": [
          28.702499389648438,
          28.702499389648438
         ]
        },
        {
         "anchor": "tip",
         "colorscale": [
          [
           0,
           "#19D3F3"
          ],
          [
           1,
           "#19D3F3"
          ]
         ],
         "hoverinfo": "skip",
         "legendgroup": "rechits_chain",
         "showscale": false,
         "sizeref": 0.1,
         "type": "cone",
         "u": [
          0
         ],
         "v": [
          -1
         ],
         "w": [
          0
         ],
         "x": [
          4.824947357177734
         ],
         "y": [
          -0.9308159351348877
         ],
         "z": [
          28.702499389648438
         ]
        },
        {
         "hoverinfo": "skip",
         "legendgroup": "rechits_chain",
         "line": {
          "width": 3.1900944611195596
         },
         "marker": {
          "color": "#19D3F3"
         },
         "mode": "lines",
         "name": "Rechits chain",
         "showlegend": false,
         "type": "scatter3d",
         "x": [
          4.824947357177734,
          3.830350875854492
         ],
         "y": [
          -0.9308159351348877,
          -1.4897358417510986
         ],
         "z": [
          28.702499389648438,
          28.702499389648438
         ]
        },
        {
         "anchor": "tip",
         "colorscale": [
          [
           0,
           "#19D3F3"
          ],
          [
           1,
           "#19D3F3"
          ]
         ],
         "hoverinfo": "skip",
         "legendgroup": "rechits_chain",
         "showscale": false,
         "sizeref": 0.1,
         "type": "cone",
         "u": [
          -0.8717779413038103
         ],
         "v": [
          -0.48990123602221103
         ],
         "w": [
          0
         ],
         "x": [
          3.830350875854492
         ],
         "y": [
          -1.4897358417510986
         ],
         "z": [
          28.702499389648438
         ]
        },
        {
         "hoverinfo": "skip",
         "legendgroup": "rechits_chain",
         "line": {
          "width": 2.817076744914206
         },
         "marker": {
          "color": "#19D3F3"
         },
         "mode": "lines",
         "name": "Rechits chain",
         "showlegend": false,
         "type": "scatter3d",
         "x": [
          1.9014854431152344,
          1.9014854431152344
         ],
         "y": [
          0.7569282054901123,
          -0.3680717945098877
         ],
         "z": [
          28.702499389648438,
          28.702499389648438
         ]
        },
        {
         "anchor": "tip",
         "colorscale": [
          [
           0,
           "#19D3F3"
          ],
          [
           1,
           "#19D3F3"
          ]
         ],
         "hoverinfo": "skip",
         "legendgroup": "rechits_chain",
         "showscale": false,
         "sizeref": 0.1,
         "type": "cone",
         "u": [
          0
         ],
         "v": [
          -1
         ],
         "w": [
          0
         ],
         "x": [
          1.9014854431152344
         ],
         "y": [
          -0.3680717945098877
         ],
         "z": [
          28.702499389648438
         ]
        },
        {
         "customdata": [
          [
           "0.007417039",
           "0.031112589",
           "1.1015147",
           "Follower",
           "12"
          ],
          [
           "0.026086897",
           "0.04001385",
           "1.1738247",
           "Follower",
           "12"
          ],
          [
           "0.019983174",
           "0.19150378",
           "1.125173",
           "Follower",
           "12"
          ],
          [
           "0.015457248",
           "0.025141105",
           "1.1252441",
           "Follower",
           "12"
          ],
          [
           "0.018842408",
           "0.036391605",
           "1.125",
           "Follower",
           "12"
          ],
          [
           "0.009011499",
           "0.22497608",
           "1.1251807",
           "Follower",
           "12"
          ],
          [
           "0.30070856",
           "0.3907899",
           "3.4028235e+38",
           "Seed",
           "12"
          ],
          [
           "0.011950677",
           "0.21019667",
           "1.1251221",
           "Follower",
           "12"
          ],
          [
           "0.08629131",
           "0.31025964",
           "1.1253028",
           "Follower",
           "12"
          ],
          [
           "0.052925978",
           "0.27031407",
           "1.1251807",
           "Follower",
           "12"
          ],
          [
           "0.009183396",
           "0.03980821",
           "1.125",
           "Follower",
           "12"
          ],
          [
           "0.06124963",
           "0.12100749",
           "1.125075",
           "Follower",
           "12"
          ],
          [
           "0.02404101",
           "0.13016677",
           "1.125075",
           "Follower",
           "12"
          ],
          [
           "0.011784588",
           "0.05026808",
           "1.1251221",
           "Follower",
           "12"
          ],
          [
           "0.022964912",
           "0.0329565",
           "1.1251884",
           "Follower",
           "12"
          ]
         ],
         "hovertemplate": "Rechit : %{customdata[3]}<br>Layer : %{customdata[4]}<br>Energy: %{customdata[0]:.2g} GeV<br>Rho: %{customdata[1]:.2g} GeV<br>Delta: %{customdata[2]:.2g} cm",
         "legendgroup": "rechits",
         "legendgrouptitle": {
          "text": "Rechits"
         },
         "marker": {
          "color": "#B6E880",
          "size": [
           1.9227330684661865,
           7.941534519195557,
           6.665931701660156,
           5.436893463134766,
           6.3846235275268555,
           2.8546204566955566,
           19.64127540588379,
           4.205570697784424,
           13.666695594787598,
           11.32726001739502,
           2.945050001144409,
           12.026281356811523,
           7.550673484802246,
           4.138591289520264,
           7.331517696380615
          ],
          "symbol": "circle"
         },
         "mode": "markers",
         "name": "2D cluster nb 14.0",
         "type": "scatter3d",
         "x": [
          3.8504509925842285,
          3.8504509925842285,
          3.808440923690796,
          2.8339626789093018,
          2.8339626789093018,
          2.8339626789093018,
          2.8339626789093018,
          2.8339626789093018,
          1.8594753742218018,
          1.8594753742218018,
          0.8851101398468018,
          0.8851101398468018,
          0.8851101398468018,
          0.8851101398468018,
          4.782937049865723
         ],
         "y": [
          -2.6185691356658936,
          0.7569282054901123,
          -1.5178558826446533,
          -3.2057220935821533,
          1.2948882579803467,
          0.16988825798034668,
          -0.9553558826446533,
          -2.0804779529571533,
          -0.3926117420196533,
          -1.5178558826446533,
          1.2948882579803467,
          0.16988825798034668,
          -0.9553558826446533,
          -2.0804779529571533,
          -0.9553558826446533
         ],
         "z": [
          29.592500686645508,
          29.592500686645508,
          29.592500686645508,
          29.592500686645508,
          29.592500686645508,
          29.592500686645508,
          29.592500686645508,
          29.592500686645508,
          29.592500686645508,
          29.592500686645508,
          29.592500686645508,
          29.592500686645508,
          29.592500686645508,
          29.592500686645508,
          29.592500686645508
         ]
        },
        {
         "hoverinfo": "skip",
         "legendgroup": "rechits_chain",
         "line": {
          "width": 1
         },
         "marker": {
          "color": "#B6E880"
         },
         "mode": "lines",
         "name": "Rechits chain",
         "showlegend": false,
         "type": "scatter3d",
         "x": [
          3.8504509925842285,
          3.808440923690796
         ],
         "y": [
          -2.6185691356658936,
          -1.5178558826446533
         ],
         "z": [
          29.592500686645508,
          29.592500686645508
         ]
        },
        {
         "anchor": "tip",
         "colorscale": [
          [
           0,
           "#B6E880"
          ],
          [
           1,
           "#B6E880"
          ]
         ],
         "hoverinfo": "skip",
         "legendgroup": "rechits_chain",
         "showscale": false,
         "sizeref": 0.1,
         "type": "cone",
         "u": [
          -0.03813845700259009
         ],
         "v": [
          0.9992724643947023
         ],
         "w": [
          0
         ],
         "x": [
          3.808440923690796
         ],
         "y": [
          -1.5178558826446533
         ],
         "z": [
          29.592500686645508
         ]
        },
        {
         "hoverinfo": "skip",
         "legendgroup": "rechits_chain",
         "line": {
          "width": 1
         },
         "marker": {
          "color": "#B6E880"
         },
         "mode": "lines",
         "name": "Rechits chain",
         "showlegend": false,
         "type": "scatter3d",
         "x": [
          3.8504509925842285,
          2.8339626789093018
         ],
         "y": [
          0.7569282054901123,
          0.16988825798034668
         ],
         "z": [
          29.592500686645508,
          29.592500686645508
         ]
        },
        {
         "anchor": "tip",
         "colorscale": [
          [
           0,
           "#B6E880"
          ],
          [
           1,
           "#B6E880"
          ]
         ],
         "hoverinfo": "skip",
         "legendgroup": "rechits_chain",
         "showscale": false,
         "sizeref": 0.1,
         "type": "cone",
         "u": [
          -0.865962631735512
         ],
         "v": [
          -0.500108708620142
         ],
         "w": [
          0
         ],
         "x": [
          2.8339626789093018
         ],
         "y": [
          0.16988825798034668
         ],
         "z": [
          29.592500686645508
         ]
        },
        {
         "hoverinfo": "skip",
         "legendgroup": "rechits_chain",
         "line": {
          "width": 1.616713874886825
         },
         "marker": {
          "color": "#B6E880"
         },
         "mode": "lines",
         "name": "Rechits chain",
         "showlegend": false,
         "type": "scatter3d",
         "x": [
          3.808440923690796,
          2.8339626789093018
         ],
         "y": [
          -1.5178558826446533,
          -0.9553558826446533
         ],
         "z": [
          29.592500686645508,
          29.592500686645508
         ]
        },
        {
         "anchor": "tip",
         "colorscale": [
          [
           0,
           "#B6E880"
          ],
          [
           1,
           "#B6E880"
          ]
         ],
         "hoverinfo": "skip",
         "legendgroup": "rechits_chain",
         "showscale": false,
         "sizeref": 0.1,
         "type": "cone",
         "u": [
          -0.8660697636731018
         ],
         "v": [
          0.4999231585466086
         ],
         "w": [
          0
         ],
         "x": [
          2.8339626789093018
         ],
         "y": [
          -0.9553558826446533
         ],
         "z": [
          29.592500686645508
         ]
        },
        {
         "hoverinfo": "skip",
         "legendgroup": "rechits_chain",
         "line": {
          "width": 1
         },
         "marker": {
          "color": "#B6E880"
         },
         "mode": "lines",
         "name": "Rechits chain",
         "showlegend": false,
         "type": "scatter3d",
         "x": [
          2.8339626789093018,
          2.8339626789093018
         ],
         "y": [
          -3.2057220935821533,
          -2.0804779529571533
         ],
         "z": [
          29.592500686645508,
          29.592500686645508
         ]
        },
        {
         "anchor": "tip",
         "colorscale": [
          [
           0,
           "#B6E880"
          ],
          [
           1,
           "#B6E880"
          ]
         ],
         "hoverinfo": "skip",
         "legendgroup": "rechits_chain",
         "showscale": false,
         "sizeref": 0.1,
         "type": "cone",
         "u": [
          0
         ],
         "v": [
          1
         ],
         "w": [
          0
         ],
         "x": [
          2.8339626789093018
         ],
         "y": [
          -2.0804779529571533
         ],
         "z": [
          29.592500686645508
         ]
        },
        {
         "hoverinfo": "skip",
         "legendgroup": "rechits_chain",
         "line": {
          "width": 1
         },
         "marker": {
          "color": "#B6E880"
         },
         "mode": "lines",
         "name": "Rechits chain",
         "showlegend": false,
         "type": "scatter3d",
         "x": [
          2.8339626789093018,
          2.8339626789093018
         ],
         "y": [
          1.2948882579803467,
          0.16988825798034668
         ],
         "z": [
          29.592500686645508,
          29.592500686645508
         ]
        },
        {
         "anchor": "tip",
         "colorscale": [
          [
           0,
           "#B6E880"
          ],
          [
           1,
           "#B6E880"
          ]
         ],
         "hoverinfo": "skip",
         "legendgroup": "rechits_chain",
         "showscale": false,
         "sizeref": 0.1,
         "type": "cone",
         "u": [
          0
         ],
         "v": [
          -1
         ],
         "w": [
          0
         ],
         "x": [
          2.8339626789093018
         ],
         "y": [
          0.16988825798034668
         ],
         "z": [
          29.592500686645508
         ]
        },
        {
         "hoverinfo": "skip",
         "legendgroup": "rechits_chain",
         "line": {
          "width": 1.6853021253091354
         },
         "marker": {
          "color": "#B6E880"
         },
         "mode": "lines",
         "name": "Rechits chain",
         "showlegend": false,
         "type": "scatter3d",
         "x": [
          2.8339626789093018,
          1.8594753742218018
         ],
         "y": [
          0.16988825798034668,
          -0.3926117420196533
         ],
         "z": [
          29.592500686645508,
          29.592500686645508
         ]
        },
        {
         "anchor": "tip",
         "colorscale": [
          [
           0,
           "#B6E880"
          ],
          [
           1,
           "#B6E880"
          ]
         ],
         "hoverinfo": "skip",
         "legendgroup": "rechits_chain",
         "showscale": false,
         "sizeref": 0.1,
         "type": "cone",
         "u": [
          -0.866071776036405
         ],
         "v": [
          -0.499919672300608
         ],
         "w": [
          0
         ],
         "x": [
          1.8594753742218018
         ],
         "y": [
          -0.3926117420196533
         ],
         "z": [
          29.592500686645508
         ]
        },
        {
         "hoverinfo": "skip",
         "legendgroup": "rechits_chain",
         "line": {
          "width": 1.0082471331714369
         },
         "marker": {
          "color": "#B6E880"
         },
         "mode": "lines",
         "name": "Rechits chain",
         "showlegend": false,
         "type": "scatter3d",
         "x": [
          2.8339626789093018,
          2.8339626789093018
         ],
         "y": [
          -2.0804779529571533,
          -0.9553558826446533
         ],
         "z": [
          29.592500686645508,
          29.592500686645508
         ]
        },
        {
         "anchor": "tip",
         "colorscale": [
          [
           0,
           "#B6E880"
          ],
          [
           1,
           "#B6E880"
          ]
         ],
         "hoverinfo": "skip",
         "legendgroup": "rechits_chain",
         "showscale": false,
         "sizeref": 0.1,
         "type": "cone",
         "u": [
          0
         ],
         "v": [
          1
         ],
         "w": [
          0
         ],
         "x": [
          2.8339626789093018
         ],
         "y": [
          -0.9553558826446533
         ],
         "z": [
          29.592500686645508
         ]
        },
        {
         "hoverinfo": "skip",
         "legendgroup": "rechits_chain",
         "line": {
          "width": 3.047684771472624
         },
         "marker": {
          "color": "#B6E880"
         },
         "mode": "lines",
         "name": "Rechits chain",
         "showlegend": false,
         "type": "scatter3d",
         "x": [
          1.8594753742218018,
          2.8339626789093018
         ],
         "y": [
          -0.3926117420196533,
          -0.9553558826446533
         ],
         "z": [
          29.592500686645508,
          29.592500686645508
         ]
        },
        {
         "anchor": "tip",
         "colorscale": [
          [
           0,
           "#B6E880"
          ],
          [
           1,
           "#B6E880"
          ]
         ],
         "hoverinfo": "skip",
         "legendgroup": "rechits_chain",
         "showscale": false,
         "sizeref": 0.1,
         "type": "cone",
         "u": [
          0.8659778263291473
         ],
         "v": [
          -0.5000823975168945
         ],
         "w": [
          0
         ],
         "x": [
          2.8339626789093018
         ],
         "y": [
          -0.9553558826446533
         ],
         "z": [
          29.592500686645508
         ]
        },
        {
         "hoverinfo": "skip",
         "legendgroup": "rechits_chain",
         "line": {
          "width": 2.3420880940881443
         },
         "marker": {
          "color": "#B6E880"
         },
         "mode": "lines",
         "name": "Rechits chain",
         "showlegend": false,
         "type": "scatter3d",
         "x": [
          1.8594753742218018,
          2.8339626789093018
         ],
         "y": [
          -1.5178558826446533,
          -0.9553558826446533
         ],
         "z": [
          29.592500686645508,
          29.592500686645508
         ]
        },
        {
         "anchor": "tip",
         "colorscale": [
          [
           0,
           "#B6E880"
          ],
          [
           1,
           "#B6E880"
          ]
         ],
         "hoverinfo": "skip",
         "legendgroup": "rechits_chain",
         "showscale": false,
         "sizeref": 0.1,
         "type": "cone",
         "u": [
          0.866071776036405
         ],
         "v": [
          0.499919672300608
         ],
         "w": [
          0
         ],
         "x": [
          2.8339626789093018
         ],
         "y": [
          -0.9553558826446533
         ],
         "z": [
          29.592500686645508
         ]
        },
        {
         "hoverinfo": "skip",
         "legendgroup": "rechits_chain",
         "line": {
          "width": 1
         },
         "marker": {
          "color": "#B6E880"
         },
         "mode": "lines",
         "name": "Rechits chain",
         "showlegend": false,
         "type": "scatter3d",
         "x": [
          0.8851101398468018,
          0.8851101398468018
         ],
         "y": [
          1.2948882579803467,
          0.16988825798034668
         ],
         "z": [
          29.592500686645508,
          29.592500686645508
         ]
        },
        {
         "anchor": "tip",
         "colorscale": [
          [
           0,
           "#B6E880"
          ],
          [
           1,
           "#B6E880"
          ]
         ],
         "hoverinfo": "skip",
         "legendgroup": "rechits_chain",
         "showscale": false,
         "sizeref": 0.1,
         "type": "cone",
         "u": [
          0
         ],
         "v": [
          -1
         ],
         "w": [
          0
         ],
         "x": [
          0.8851101398468018
         ],
         "y": [
          0.16988825798034668
         ],
         "z": [
          29.592500686645508
         ]
        },
        {
         "hoverinfo": "skip",
         "legendgroup": "rechits_chain",
         "line": {
          "width": 1.9520771555913974
         },
         "marker": {
          "color": "#B6E880"
         },
         "mode": "lines",
         "name": "Rechits chain",
         "showlegend": false,
         "type": "scatter3d",
         "x": [
          0.8851101398468018,
          1.8594753742218018
         ],
         "y": [
          0.16988825798034668,
          -0.3926117420196533
         ],
         "z": [
          29.592500686645508,
          29.592500686645508
         ]
        },
        {
         "anchor": "tip",
         "colorscale": [
          [
           0,
           "#B6E880"
          ],
          [
           1,
           "#B6E880"
          ]
         ],
         "hoverinfo": "skip",
         "legendgroup": "rechits_chain",
         "showscale": false,
         "sizeref": 0.1,
         "type": "cone",
         "u": [
          0.8660446585505366
         ],
         "v": [
          -0.4999666482837475
         ],
         "w": [
          0
         ],
         "x": [
          1.8594753742218018
         ],
         "y": [
          -0.3926117420196533
         ],
         "z": [
          29.592500686645508
         ]
        },
        {
         "hoverinfo": "skip",
         "legendgroup": "rechits_chain",
         "line": {
          "width": 1.6312656296941093
         },
         "marker": {
          "color": "#B6E880"
         },
         "mode": "lines",
         "name": "Rechits chain",
         "showlegend": false,
         "type": "scatter3d",
         "x": [
          0.8851101398468018,
          1.8594753742218018
         ],
         "y": [
          -0.9553558826446533,
          -1.5178558826446533
         ],
         "z": [
          29.592500686645508,
          29.592500686645508
         ]
        },
        {
         "anchor": "tip",
         "colorscale": [
          [
           0,
           "#B6E880"
          ],
          [
           1,
           "#B6E880"
          ]
         ],
         "hoverinfo": "skip",
         "legendgroup": "rechits_chain",
         "showscale": false,
         "sizeref": 0.1,
         "type": "cone",
         "u": [
          0.8660446585505366
         ],
         "v": [
          -0.4999666482837475
         ],
         "w": [
          0
         ],
         "x": [
          1.8594753742218018
         ],
         "y": [
          -1.5178558826446533
         ],
         "z": [
          29.592500686645508
         ]
        },
        {
         "hoverinfo": "skip",
         "legendgroup": "rechits_chain",
         "line": {
          "width": 1
         },
         "marker": {
          "color": "#B6E880"
         },
         "mode": "lines",
         "name": "Rechits chain",
         "showlegend": false,
         "type": "scatter3d",
         "x": [
          0.8851101398468018,
          0.8851101398468018
         ],
         "y": [
          -2.0804779529571533,
          -0.9553558826446533
         ],
         "z": [
          29.592500686645508,
          29.592500686645508
         ]
        },
        {
         "anchor": "tip",
         "colorscale": [
          [
           0,
           "#B6E880"
          ],
          [
           1,
           "#B6E880"
          ]
         ],
         "hoverinfo": "skip",
         "legendgroup": "rechits_chain",
         "showscale": false,
         "sizeref": 0.1,
         "type": "cone",
         "u": [
          0
         ],
         "v": [
          1
         ],
         "w": [
          0
         ],
         "x": [
          0.8851101398468018
         ],
         "y": [
          -0.9553558826446533
         ],
         "z": [
          29.592500686645508
         ]
        },
        {
         "hoverinfo": "skip",
         "legendgroup": "rechits_chain",
         "line": {
          "width": 1
         },
         "marker": {
          "color": "#B6E880"
         },
         "mode": "lines",
         "name": "Rechits chain",
         "showlegend": false,
         "type": "scatter3d",
         "x": [
          4.782937049865723,
          3.808440923690796
         ],
         "y": [
          -0.9553558826446533,
          -1.5178558826446533
         ],
         "z": [
          29.592500686645508,
          29.592500686645508
         ]
        },
        {
         "anchor": "tip",
         "colorscale": [
          [
           0,
           "#B6E880"
          ],
          [
           1,
           "#B6E880"
          ]
         ],
         "hoverinfo": "skip",
         "legendgroup": "rechits_chain",
         "showscale": false,
         "sizeref": 0.1,
         "type": "cone",
         "u": [
          -0.8660737354023266
         ],
         "v": [
          -0.4999162778368602
         ],
         "w": [
          0
         ],
         "x": [
          3.808440923690796
         ],
         "y": [
          -1.5178558826446533
         ],
         "z": [
          29.592500686645508
         ]
        },
        {
         "customdata": [
          [
           "0.02106028",
           "0.038029563",
           "1.1252532",
           "Follower",
           "14"
          ],
          [
           "0.0237412",
           "0.116048425",
           "1.1348215",
           "Follower",
           "14"
          ],
          [
           "0.08355557",
           "0.21288522",
           "1.2046609",
           "Follower",
           "14"
          ],
          [
           "0.16355418",
           "0.29049006",
           "3.4028235e+38",
           "Seed",
           "14"
          ],
          [
           "0.064606406",
           "0.15018144",
           "1.125",
           "Follower",
           "14"
          ],
          [
           "0.030498702",
           "0.2572105",
           "1.1253028",
           "Follower",
           "14"
          ],
          [
           "0.116076246",
           "0.21310268",
           "1.1251807",
           "Follower",
           "14"
          ],
          [
           "0.03146463",
           "0.07658342",
           "1.125",
           "Follower",
           "14"
          ],
          [
           "0.025631173",
           "0.09495869",
           "1.125075",
           "Follower",
           "14"
          ],
          [
           "0.010197366",
           "0.020727506",
           "1.1233996",
           "Follower",
           "14"
          ],
          [
           "0.012538218",
           "0.012538218",
           "2.166708",
           "Follower",
           "14"
          ]
         ],
         "hovertemplate": "Rechit : %{customdata[3]}<br>Layer : %{customdata[4]}<br>Energy: %{customdata[0]:.2g} GeV<br>Rho: %{customdata[1]:.2g} GeV<br>Delta: %{customdata[2]:.2g} cm",
         "legendgroup": "rechits",
         "legendgrouptitle": {
          "text": "Rechits"
         },
         "marker": {
          "color": "#636EFA",
          "size": [
           6.917173862457275,
           7.490616798400879,
           13.512513160705566,
           16.726770401000977,
           12.281628608703613,
           8.689311981201172,
           15.085755348205566,
           8.838530540466309,
           7.857192039489746,
           3.446272611618042,
           4.435253620147705
          ],
          "symbol": "circle"
         },
         "mode": "markers",
         "name": "2D cluster nb 17.0",
         "type": "scatter3d",
         "x": [
          3.889720916748047,
          3.889720916748047,
          2.9152426719665527,
          2.863382577896118,
          1.8888952732086182,
          1.8888952732086182,
          1.8888952732086182,
          0.9145300388336182,
          0.9145300388336182,
          4.812356948852539,
          4.812356948852539
         ],
         "y": [
          -2.570749044418335,
          -1.445495843887329,
          0.2422482967376709,
          -0.9612958431243896,
          0.7264482975006104,
          -0.39855170249938965,
          -1.5237958431243896,
          1.2889482975006104,
          0.16394829750061035,
          -3.2116620540618896,
          1.2889482975006104
         ],
         "z": [
          32.397499084472656,
          32.397499084472656,
          32.397499084472656,
          32.397499084472656,
          32.397499084472656,
          32.397499084472656,
          32.397499084472656,
          32.397499084472656,
          32.397499084472656,
          32.397499084472656,
          32.397499084472656
         ]
        },
        {
         "hoverinfo": "skip",
         "legendgroup": "rechits_chain",
         "line": {
          "width": 1.1396789303266162
         },
         "marker": {
          "color": "#636EFA"
         },
         "mode": "lines",
         "name": "Rechits chain",
         "showlegend": false,
         "type": "scatter3d",
         "x": [
          3.889720916748047,
          3.889720916748047
         ],
         "y": [
          -2.570749044418335,
          -1.445495843887329
         ],
         "z": [
          32.397499084472656,
          32.397499084472656
         ]
        },
        {
         "anchor": "tip",
         "colorscale": [
          [
           0,
           "#636EFA"
          ],
          [
           1,
           "#636EFA"
          ]
         ],
         "hoverinfo": "skip",
         "legendgroup": "rechits_chain",
         "showscale": false,
         "sizeref": 0.1,
         "type": "cone",
         "u": [
          0
         ],
         "v": [
          1
         ],
         "w": [
          0
         ],
         "x": [
          3.889720916748047
         ],
         "y": [
          -1.445495843887329
         ],
         "z": [
          32.397499084472656
         ]
        },
        {
         "hoverinfo": "skip",
         "legendgroup": "rechits_chain",
         "line": {
          "width": 1.7047271233754784
         },
         "marker": {
          "color": "#636EFA"
         },
         "mode": "lines",
         "name": "Rechits chain",
         "showlegend": false,
         "type": "scatter3d",
         "x": [
          3.889720916748047,
          2.863382577896118
         ],
         "y": [
          -1.445495843887329,
          -0.9612958431243896
         ],
         "z": [
          32.397499084472656,
          32.397499084472656
         ]
        },
        {
         "anchor": "tip",
         "colorscale": [
          [
           0,
           "#636EFA"
          ],
          [
           1,
           "#636EFA"
          ]
         ],
         "hoverinfo": "skip",
         "legendgroup": "rechits_chain",
         "showscale": false,
         "sizeref": 0.1,
         "type": "cone",
         "u": [
          -0.9044050216451336
         ],
         "v": [
          0.4266750014039554
         ],
         "w": [
          0
         ],
         "x": [
          2.863382577896118
         ],
         "y": [
          -0.9612958431243896
         ],
         "z": [
          32.397499084472656
         ]
        },
        {
         "hoverinfo": "skip",
         "legendgroup": "rechits_chain",
         "line": {
          "width": 2.262739597317959
         },
         "marker": {
          "color": "#636EFA"
         },
         "mode": "lines",
         "name": "Rechits chain",
         "showlegend": false,
         "type": "scatter3d",
         "x": [
          2.9152426719665527,
          2.863382577896118
         ],
         "y": [
          0.2422482967376709,
          -0.9612958431243896
         ],
         "z": [
          32.397499084472656,
          32.397499084472656
         ]
        },
        {
         "anchor": "tip",
         "colorscale": [
          [
           0,
           "#636EFA"
          ],
          [
           1,
           "#636EFA"
          ]
         ],
         "hoverinfo": "skip",
         "legendgroup": "rechits_chain",
         "showscale": false,
         "sizeref": 0.1,
         "type": "cone",
         "u": [
          -0.04304953585353418
         ],
         "v": [
          -0.9990729390103585
         ],
         "w": [
          0
         ],
         "x": [
          2.863382577896118
         ],
         "y": [
          -0.9612958431243896
         ],
         "z": [
          32.397499084472656
         ]
        },
        {
         "hoverinfo": "skip",
         "legendgroup": "rechits_chain",
         "line": {
          "width": 1.865728473785831
         },
         "marker": {
          "color": "#636EFA"
         },
         "mode": "lines",
         "name": "Rechits chain",
         "showlegend": false,
         "type": "scatter3d",
         "x": [
          1.8888952732086182,
          1.8888952732086182
         ],
         "y": [
          0.7264482975006104,
          -0.39855170249938965
         ],
         "z": [
          32.397499084472656,
          32.397499084472656
         ]
        },
        {
         "anchor": "tip",
         "colorscale": [
          [
           0,
           "#636EFA"
          ],
          [
           1,
           "#636EFA"
          ]
         ],
         "hoverinfo": "skip",
         "legendgroup": "rechits_chain",
         "showscale": false,
         "sizeref": 0.1,
         "type": "cone",
         "u": [
          0
         ],
         "v": [
          -1
         ],
         "w": [
          0
         ],
         "x": [
          1.8888952732086182
         ],
         "y": [
          -0.39855170249938965
         ],
         "z": [
          32.397499084472656
         ]
        },
        {
         "hoverinfo": "skip",
         "legendgroup": "rechits_chain",
         "line": {
          "width": 3.150937953953166
         },
         "marker": {
          "color": "#636EFA"
         },
         "mode": "lines",
         "name": "Rechits chain",
         "showlegend": false,
         "type": "scatter3d",
         "x": [
          1.8888952732086182,
          2.863382577896118
         ],
         "y": [
          -0.39855170249938965,
          -0.9612958431243896
         ],
         "z": [
          32.397499084472656,
          32.397499084472656
         ]
        },
        {
         "anchor": "tip",
         "colorscale": [
          [
           0,
           "#636EFA"
          ],
          [
           1,
           "#636EFA"
          ]
         ],
         "hoverinfo": "skip",
         "legendgroup": "rechits_chain",
         "showscale": false,
         "sizeref": 0.1,
         "type": "cone",
         "u": [
          0.8659778263291473
         ],
         "v": [
          -0.5000823975168945
         ],
         "w": [
          0
         ],
         "x": [
          2.863382577896118
         ],
         "y": [
          -0.9612958431243896
         ],
         "z": [
          32.397499084472656
         ]
        },
        {
         "hoverinfo": "skip",
         "legendgroup": "rechits_chain",
         "line": {
          "width": 2.4516621744659552
         },
         "marker": {
          "color": "#636EFA"
         },
         "mode": "lines",
         "name": "Rechits chain",
         "showlegend": false,
         "type": "scatter3d",
         "x": [
          1.8888952732086182,
          2.863382577896118
         ],
         "y": [
          -1.5237958431243896,
          -0.9612958431243896
         ],
         "z": [
          32.397499084472656,
          32.397499084472656
         ]
        },
        {
         "anchor": "tip",
         "colorscale": [
          [
           0,
           "#636EFA"
          ],
          [
           1,
           "#636EFA"
          ]
         ],
         "hoverinfo": "skip",
         "legendgroup": "rechits_chain",
         "showscale": false,
         "sizeref": 0.1,
         "type": "cone",
         "u": [
          0.866071776036405
         ],
         "v": [
          0.499919672300608
         ],
         "w": [
          0
         ],
         "x": [
          2.863382577896118
         ],
         "y": [
          -0.9612958431243896
         ],
         "z": [
          32.397499084472656
         ]
        },
        {
         "hoverinfo": "skip",
         "legendgroup": "rechits_chain",
         "line": {
          "width": 2.4234154769954968
         },
         "marker": {
          "color": "#636EFA"
         },
         "mode": "lines",
         "name": "Rechits chain",
         "showlegend": false,
         "type": "scatter3d",
         "x": [
          0.9145300388336182,
          0.9145300388336182
         ],
         "y": [
          1.2889482975006104,
          0.16394829750061035
         ],
         "z": [
          32.397499084472656,
          32.397499084472656
         ]
        },
        {
         "anchor": "tip",
         "colorscale": [
          [
           0,
           "#636EFA"
          ],
          [
           1,
           "#636EFA"
          ]
         ],
         "hoverinfo": "skip",
         "legendgroup": "rechits_chain",
         "showscale": false,
         "sizeref": 0.1,
         "type": "cone",
         "u": [
          0
         ],
         "v": [
          -1
         ],
         "w": [
          0
         ],
         "x": [
          0.9145300388336182
         ],
         "y": [
          0.16394829750061035
         ],
         "z": [
          32.397499084472656
         ]
        },
        {
         "hoverinfo": "skip",
         "legendgroup": "rechits_chain",
         "line": {
          "width": 2.6281012601771825
         },
         "marker": {
          "color": "#636EFA"
         },
         "mode": "lines",
         "name": "Rechits chain",
         "showlegend": false,
         "type": "scatter3d",
         "x": [
          0.9145300388336182,
          1.8888952732086182
         ],
         "y": [
          0.16394829750061035,
          -0.39855170249938965
         ],
         "z": [
          32.397499084472656,
          32.397499084472656
         ]
        },
        {
         "anchor": "tip",
         "colorscale": [
          [
           0,
           "#636EFA"
          ],
          [
           1,
           "#636EFA"
          ]
         ],
         "hoverinfo": "skip",
         "legendgroup": "rechits_chain",
         "showscale": false,
         "sizeref": 0.1,
         "type": "cone",
         "u": [
          0.8660446585505366
         ],
         "v": [
          -0.4999666482837475
         ],
         "w": [
          0
         ],
         "x": [
          1.8888952732086182
         ],
         "y": [
          -0.39855170249938965
         ],
         "z": [
          32.397499084472656
         ]
        },
        {
         "hoverinfo": "skip",
         "legendgroup": "rechits_chain",
         "line": {
          "width": 1
         },
         "marker": {
          "color": "#636EFA"
         },
         "mode": "lines",
         "name": "Rechits chain",
         "showlegend": false,
         "type": "scatter3d",
         "x": [
          4.812356948852539,
          3.889720916748047
         ],
         "y": [
          -3.2116620540618896,
          -2.570749044418335
         ],
         "z": [
          32.397499084472656,
          32.397499084472656
         ]
        },
        {
         "anchor": "tip",
         "colorscale": [
          [
           0,
           "#636EFA"
          ],
          [
           1,
           "#636EFA"
          ]
         ],
         "hoverinfo": "skip",
         "legendgroup": "rechits_chain",
         "showscale": false,
         "sizeref": 0.1,
         "type": "cone",
         "u": [
          -0.8212892417302533
         ],
         "v": [
          0.5705120344200859
         ],
         "w": [
          0
         ],
         "x": [
          3.889720916748047
         ],
         "y": [
          -2.570749044418335
         ],
         "z": [
          32.397499084472656
         ]
        },
        {
         "hoverinfo": "skip",
         "legendgroup": "rechits_chain",
         "line": {
          "width": 1
         },
         "marker": {
          "color": "#636EFA"
         },
         "mode": "lines",
         "name": "Rechits chain",
         "showlegend": false,
         "type": "scatter3d",
         "x": [
          4.812356948852539,
          2.9152426719665527
         ],
         "y": [
          1.2889482975006104,
          0.2422482967376709
         ],
         "z": [
          32.397499084472656,
          32.397499084472656
         ]
        },
        {
         "anchor": "tip",
         "colorscale": [
          [
           0,
           "#636EFA"
          ],
          [
           1,
           "#636EFA"
          ]
         ],
         "hoverinfo": "skip",
         "legendgroup": "rechits_chain",
         "showscale": false,
         "sizeref": 0.1,
         "type": "cone",
         "u": [
          -0.8755745094784788
         ],
         "v": [
          -0.48308309673545946
         ],
         "w": [
          0
         ],
         "x": [
          2.9152426719665527
         ],
         "y": [
          0.2422482967376709
         ],
         "z": [
          32.397499084472656
         ]
        },
        {
         "customdata": [
          [
           "0.009863457",
           "0.13901478",
           "1.0311764",
           "Follower",
           "15"
          ],
          [
           "0.020967469",
           "0.070316926",
           "1.031118",
           "Follower",
           "15"
          ],
          [
           "0.07854049",
           "0.15094456",
           "1.1252339",
           "Follower",
           "15"
          ],
          [
           "0.042592846",
           "0.16138431",
           "1.1252441",
           "Follower",
           "15"
          ],
          [
           "0.04624261",
           "0.07802276",
           "1.1251223",
           "Follower",
           "15"
          ],
          [
           "0.018742826",
           "0.14713162",
           "1.1251221",
           "Follower",
           "15"
          ],
          [
           "0.11620186",
           "0.21851821",
           "3.4028235e+38",
           "Seed",
           "15"
          ],
          [
           "0.051449683",
           "0.06611387",
           "1.1252441",
           "Follower",
           "15"
          ],
          [
           "0.010585552",
           "0.12593651",
           "1.1251807",
           "Follower",
           "15"
          ],
          [
           "0.04430752",
           "0.12899764",
           "1.1252372",
           "Follower",
           "15"
          ],
          [
           "0.013642528",
           "0.013642528",
           "1.9486005",
           "Follower",
           "15"
          ],
          [
           "0.0076773786",
           "0.0076773786",
           "1.9487305",
           "Follower",
           "15"
          ]
         ],
         "hovertemplate": "Rechit : %{customdata[3]}<br>Layer : %{customdata[4]}<br>Energy: %{customdata[0]:.2g} GeV<br>Rho: %{customdata[1]:.2g} GeV<br>Delta: %{customdata[2]:.2g} cm",
         "legendgroup": "rechits",
         "legendgrouptitle": {
          "text": "Rechits"
         },
         "marker": {
          "color": "#AB63FA",
          "size": [
           3.2869420051574707,
           6.896036624908447,
           13.216286659240723,
           10.287758827209473,
           10.681220054626465,
           6.3592634201049805,
           15.090930938720703,
           11.191871643066406,
           3.6250686645507812,
           10.476642608642578,
           4.839221477508545,
           2.087832450866699
          ],
          "symbol": "circle"
         },
         "mode": "markers",
         "name": "2D cluster nb 20.0",
         "type": "scatter3d",
         "x": [
          3.8378608226776123,
          3.8378608226776123,
          3.930711030960083,
          2.956232786178589,
          2.956232786178589,
          2.956232786178589,
          2.956232786178589,
          1.9817454814910889,
          1.9817454814910889,
          1.9817454814910889,
          1.0073802471160889,
          -0.9413502216339111
         ],
         "y": [
          -2.6490490436553955,
          -3.7742841243743896,
          -1.496025800704956,
          -3.183892011642456,
          -4.309014320373535,
          -0.933525800704956,
          -2.058647871017456,
          -0.37078166007995605,
          -1.496025800704956,
          -2.621279001235962,
          1.316718339920044,
          1.316718339920044
         ],
         "z": [
          34.3125,
          34.3125,
          34.3125,
          34.3125,
          34.3125,
          34.3125,
          34.3125,
          34.3125,
          34.3125,
          34.3125,
          34.3125,
          34.3125
         ]
        },
        {
         "hoverinfo": "skip",
         "legendgroup": "rechits_chain",
         "line": {
          "width": 1
         },
         "marker": {
          "color": "#AB63FA"
         },
         "mode": "lines",
         "name": "Rechits chain",
         "showlegend": false,
         "type": "scatter3d",
         "x": [
          3.8378608226776123,
          2.956232786178589
         ],
         "y": [
          -2.6490490436553955,
          -3.183892011642456
         ],
         "z": [
          34.3125,
          34.3125
         ]
        },
        {
         "anchor": "tip",
         "colorscale": [
          [
           0,
           "#AB63FA"
          ],
          [
           1,
           "#AB63FA"
          ]
         ],
         "hoverinfo": "skip",
         "legendgroup": "rechits_chain",
         "showscale": false,
         "sizeref": 0.1,
         "type": "cone",
         "u": [
          -0.8549729632082165
         ],
         "v": [
          -0.5186725674093067
         ],
         "w": [
          0
         ],
         "x": [
          2.956232786178589
         ],
         "y": [
          -3.183892011642456
         ],
         "z": [
          34.3125
         ]
        },
        {
         "hoverinfo": "skip",
         "legendgroup": "rechits_chain",
         "line": {
          "width": 1
         },
         "marker": {
          "color": "#AB63FA"
         },
         "mode": "lines",
         "name": "Rechits chain",
         "showlegend": false,
         "type": "scatter3d",
         "x": [
          3.8378608226776123,
          2.956232786178589
         ],
         "y": [
          -3.7742841243743896,
          -4.309014320373535
         ],
         "z": [
          34.3125,
          34.3125
         ]
        },
        {
         "anchor": "tip",
         "colorscale": [
          [
           0,
           "#AB63FA"
          ],
          [
           1,
           "#AB63FA"
          ]
         ],
         "hoverinfo": "skip",
         "legendgroup": "rechits_chain",
         "showscale": false,
         "sizeref": 0.1,
         "type": "cone",
         "u": [
          -0.855021459110804
         ],
         "v": [
          -0.5185926189795146
         ],
         "w": [
          0
         ],
         "x": [
          2.956232786178589
         ],
         "y": [
          -4.309014320373535
         ],
         "z": [
          34.3125
         ]
        },
        {
         "hoverinfo": "skip",
         "legendgroup": "rechits_chain",
         "line": {
          "width": 2.0610291832508687
         },
         "marker": {
          "color": "#AB63FA"
         },
         "mode": "lines",
         "name": "Rechits chain",
         "showlegend": false,
         "type": "scatter3d",
         "x": [
          3.930711030960083,
          2.956232786178589
         ],
         "y": [
          -1.496025800704956,
          -2.058647871017456
         ],
         "z": [
          34.3125,
          34.3125
         ]
        },
        {
         "anchor": "tip",
         "colorscale": [
          [
           0,
           "#AB63FA"
          ],
          [
           1,
           "#AB63FA"
          ]
         ],
         "hoverinfo": "skip",
         "legendgroup": "rechits_chain",
         "showscale": false,
         "sizeref": 0.1,
         "type": "cone",
         "u": [
          -0.8660227895475022
         ],
         "v": [
          -0.5000045279638604
         ],
         "w": [
          0
         ],
         "x": [
          2.956232786178589
         ],
         "y": [
          -2.058647871017456
         ],
         "z": [
          34.3125
         ]
        },
        {
         "hoverinfo": "skip",
         "legendgroup": "rechits_chain",
         "line": {
          "width": 3.0275751437043326
         },
         "marker": {
          "color": "#AB63FA"
         },
         "mode": "lines",
         "name": "Rechits chain",
         "showlegend": false,
         "type": "scatter3d",
         "x": [
          2.956232786178589,
          2.956232786178589
         ],
         "y": [
          -3.183892011642456,
          -2.058647871017456
         ],
         "z": [
          34.3125,
          34.3125
         ]
        },
        {
         "anchor": "tip",
         "colorscale": [
          [
           0,
           "#AB63FA"
          ],
          [
           1,
           "#AB63FA"
          ]
         ],
         "hoverinfo": "skip",
         "legendgroup": "rechits_chain",
         "showscale": false,
         "sizeref": 0.1,
         "type": "cone",
         "u": [
          0
         ],
         "v": [
          1
         ],
         "w": [
          0
         ],
         "x": [
          2.956232786178589
         ],
         "y": [
          -2.058647871017456
         ],
         "z": [
          34.3125
         ]
        },
        {
         "hoverinfo": "skip",
         "legendgroup": "rechits_chain",
         "line": {
          "width": 1.905238117091316
         },
         "marker": {
          "color": "#AB63FA"
         },
         "mode": "lines",
         "name": "Rechits chain",
         "showlegend": false,
         "type": "scatter3d",
         "x": [
          2.956232786178589,
          2.956232786178589
         ],
         "y": [
          -4.309014320373535,
          -3.183892011642456
         ],
         "z": [
          34.3125,
          34.3125
         ]
        },
        {
         "anchor": "tip",
         "colorscale": [
          [
           0,
           "#AB63FA"
          ],
          [
           1,
           "#AB63FA"
          ]
         ],
         "hoverinfo": "skip",
         "legendgroup": "rechits_chain",
         "showscale": false,
         "sizeref": 0.1,
         "type": "cone",
         "u": [
          0
         ],
         "v": [
          1
         ],
         "w": [
          0
         ],
         "x": [
          2.956232786178589
         ],
         "y": [
          -3.183892011642456
         ],
         "z": [
          34.3125
         ]
        },
        {
         "hoverinfo": "skip",
         "legendgroup": "rechits_chain",
         "line": {
          "width": 2.3233477218305114
         },
         "marker": {
          "color": "#AB63FA"
         },
         "mode": "lines",
         "name": "Rechits chain",
         "showlegend": false,
         "type": "scatter3d",
         "x": [
          2.956232786178589,
          2.956232786178589
         ],
         "y": [
          -0.933525800704956,
          -2.058647871017456
         ],
         "z": [
          34.3125,
          34.3125
         ]
        },
        {
         "anchor": "tip",
         "colorscale": [
          [
           0,
           "#AB63FA"
          ],
          [
           1,
           "#AB63FA"
          ]
         ],
         "hoverinfo": "skip",
         "legendgroup": "rechits_chain",
         "showscale": false,
         "sizeref": 0.1,
         "type": "cone",
         "u": [
          0
         ],
         "v": [
          -1
         ],
         "w": [
          0
         ],
         "x": [
          2.956232786178589
         ],
         "y": [
          -2.058647871017456
         ],
         "z": [
          34.3125
         ]
        },
        {
         "hoverinfo": "skip",
         "legendgroup": "rechits_chain",
         "line": {
          "width": 1.9847130449419184
         },
         "marker": {
          "color": "#AB63FA"
         },
         "mode": "lines",
         "name": "Rechits chain",
         "showlegend": false,
         "type": "scatter3d",
         "x": [
          1.9817454814910889,
          1.9817454814910889
         ],
         "y": [
          -0.37078166007995605,
          -1.496025800704956
         ],
         "z": [
          34.3125,
          34.3125
         ]
        },
        {
         "anchor": "tip",
         "colorscale": [
          [
           0,
           "#AB63FA"
          ],
          [
           1,
           "#AB63FA"
          ]
         ],
         "hoverinfo": "skip",
         "legendgroup": "rechits_chain",
         "showscale": false,
         "sizeref": 0.1,
         "type": "cone",
         "u": [
          0
         ],
         "v": [
          -1
         ],
         "w": [
          0
         ],
         "x": [
          1.9817454814910889
         ],
         "y": [
          -1.496025800704956
         ],
         "z": [
          34.3125
         ]
        },
        {
         "hoverinfo": "skip",
         "legendgroup": "rechits_chain",
         "line": {
          "width": 2.1205251980191826
         },
         "marker": {
          "color": "#AB63FA"
         },
         "mode": "lines",
         "name": "Rechits chain",
         "showlegend": false,
         "type": "scatter3d",
         "x": [
          1.9817454814910889,
          2.956232786178589
         ],
         "y": [
          -1.496025800704956,
          -0.933525800704956
         ],
         "z": [
          34.3125,
          34.3125
         ]
        },
        {
         "anchor": "tip",
         "colorscale": [
          [
           0,
           "#AB63FA"
          ],
          [
           1,
           "#AB63FA"
          ]
         ],
         "hoverinfo": "skip",
         "legendgroup": "rechits_chain",
         "showscale": false,
         "sizeref": 0.1,
         "type": "cone",
         "u": [
          0.866071776036405
         ],
         "v": [
          0.499919672300608
         ],
         "w": [
          0
         ],
         "x": [
          2.956232786178589
         ],
         "y": [
          -0.933525800704956
         ],
         "z": [
          34.3125
         ]
        },
        {
         "hoverinfo": "skip",
         "legendgroup": "rechits_chain",
         "line": {
          "width": 2.1610753859583474
         },
         "marker": {
          "color": "#AB63FA"
         },
         "mode": "lines",
         "name": "Rechits chain",
         "showlegend": false,
         "type": "scatter3d",
         "x": [
          1.9817454814910889,
          2.956232786178589
         ],
         "y": [
          -2.621279001235962,
          -3.183892011642456
         ],
         "z": [
          34.3125,
          34.3125
         ]
        },
        {
         "anchor": "tip",
         "colorscale": [
          [
           0,
           "#AB63FA"
          ],
          [
           1,
           "#AB63FA"
          ]
         ],
         "hoverinfo": "skip",
         "legendgroup": "rechits_chain",
         "showscale": false,
         "sizeref": 0.1,
         "type": "cone",
         "u": [
          0.8660282888646941
         ],
         "v": [
          -0.4999950028611187
         ],
         "w": [
          0
         ],
         "x": [
          2.956232786178589
         ],
         "y": [
          -3.183892011642456
         ],
         "z": [
          34.3125
         ]
        },
        {
         "hoverinfo": "skip",
         "legendgroup": "rechits_chain",
         "line": {
          "width": 1
         },
         "marker": {
          "color": "#AB63FA"
         },
         "mode": "lines",
         "name": "Rechits chain",
         "showlegend": false,
         "type": "scatter3d",
         "x": [
          1.0073802471160889,
          1.9817454814910889
         ],
         "y": [
          1.316718339920044,
          -0.37078166007995605
         ],
         "z": [
          34.3125,
          34.3125
         ]
        },
        {
         "anchor": "tip",
         "colorscale": [
          [
           0,
           "#AB63FA"
          ],
          [
           1,
           "#AB63FA"
          ]
         ],
         "hoverinfo": "skip",
         "legendgroup": "rechits_chain",
         "showscale": false,
         "sizeref": 0.1,
         "type": "cone",
         "u": [
          0.500033352457827
         ],
         "v": [
          -0.8660061468775996
         ],
         "w": [
          0
         ],
         "x": [
          1.9817454814910889
         ],
         "y": [
          -0.37078166007995605
         ],
         "z": [
          34.3125
         ]
        },
        {
         "hoverinfo": "skip",
         "legendgroup": "rechits_chain",
         "line": {
          "width": 1
         },
         "marker": {
          "color": "#AB63FA"
         },
         "mode": "lines",
         "name": "Rechits chain",
         "showlegend": false,
         "type": "scatter3d",
         "x": [
          -0.9413502216339111,
          1.0073802471160889
         ],
         "y": [
          1.316718339920044,
          1.316718339920044
         ],
         "z": [
          34.3125,
          34.3125
         ]
        },
        {
         "anchor": "tip",
         "colorscale": [
          [
           0,
           "#AB63FA"
          ],
          [
           1,
           "#AB63FA"
          ]
         ],
         "hoverinfo": "skip",
         "legendgroup": "rechits_chain",
         "showscale": false,
         "sizeref": 0.1,
         "type": "cone",
         "u": [
          1
         ],
         "v": [
          0
         ],
         "w": [
          0
         ],
         "x": [
          1.0073802471160889
         ],
         "y": [
          1.316718339920044
         ],
         "z": [
          34.3125
         ]
        },
        {
         "customdata": [
          [
           "0.022515044",
           "0.0325061",
           "1.9489746",
           "Seed",
           "15"
          ],
          [
           "0.019982113",
           "0.031239634",
           "1.1249201",
           "Follower",
           "15"
          ]
         ],
         "hovertemplate": "Rechit : %{customdata[3]}<br>Layer : %{customdata[4]}<br>Energy: %{customdata[0]:.2g} GeV<br>Rho: %{customdata[1]:.2g} GeV<br>Delta: %{customdata[2]:.2g} cm",
         "legendgroup": "rechits",
         "legendgrouptitle": {
          "text": "Rechits"
         },
         "marker": {
          "color": "#FFA15A",
          "size": [
           7.236836910247803,
           6.665677070617676
          ],
          "symbol": "circle"
         },
         "mode": "markers",
         "name": "2D cluster nb 21.0",
         "type": "scatter3d",
         "x": [
          0.03277087211608887,
          -0.9413502216339111
         ],
         "y": [
          -2.621279001235962,
          -3.183892011642456
         ],
         "z": [
          34.3125,
          34.3125
         ]
        },
        {
         "hoverinfo": "skip",
         "legendgroup": "rechits_chain",
         "line": {
          "width": 1
         },
         "marker": {
          "color": "#FFA15A"
         },
         "mode": "lines",
         "name": "Rechits chain",
         "showlegend": false,
         "type": "scatter3d",
         "x": [
          -0.9413502216339111,
          0.03277087211608887
         ],
         "y": [
          -3.183892011642456,
          -2.621279001235962
         ],
         "z": [
          34.3125,
          34.3125
         ]
        },
        {
         "anchor": "tip",
         "colorscale": [
          [
           0,
           "#FFA15A"
          ],
          [
           1,
           "#FFA15A"
          ]
         ],
         "hoverinfo": "skip",
         "legendgroup": "rechits_chain",
         "showscale": false,
         "sizeref": 0.1,
         "type": "cone",
         "u": [
          0.8659468930329299
         ],
         "v": [
          0.5001359599615046
         ],
         "w": [
          0
         ],
         "x": [
          0.03277087211608887
         ],
         "y": [
          -2.621279001235962
         ],
         "z": [
          34.3125
         ]
        },
        {
         "customdata": [
          [
           "0.043022107",
           "0.09845296",
           "1.056344",
           "Follower",
           "17"
          ],
          [
           "0.07655353",
           "0.11521868",
           "3.4028235e+38",
           "Seed",
           "17"
          ],
          [
           "0.03430818",
           "0.108031355",
           "1.0399595",
           "Follower",
           "17"
          ]
         ],
         "hovertemplate": "Rechit : %{customdata[3]}<br>Layer : %{customdata[4]}<br>Energy: %{customdata[0]:.2g} GeV<br>Rho: %{customdata[1]:.2g} GeV<br>Delta: %{customdata[2]:.2g} cm",
         "legendgroup": "rechits",
         "legendgrouptitle": {
          "text": "Rechits"
         },
         "marker": {
          "color": "#B6E880",
          "size": [
           10.335749626159668,
           13.093656539916992,
           9.252592086791992
          ],
          "symbol": "circle"
         },
         "mode": "markers",
         "name": "2D cluster nb 24.0",
         "type": "scatter3d",
         "x": [
          3.8489508628845215,
          3.8489508628845215,
          2.9646925926208496
         ],
         "y": [
          -0.3405117988586426,
          -1.4657559394836426,
          -0.9183957576751709
         ],
         "z": [
          37.11750030517578,
          37.11750030517578,
          37.11750030517578
         ]
        },
        {
         "hoverinfo": "skip",
         "legendgroup": "rechits_chain",
         "line": {
          "width": 2.5230602530558954
         },
         "marker": {
          "color": "#B6E880"
         },
         "mode": "lines",
         "name": "Rechits chain",
         "showlegend": false,
         "type": "scatter3d",
         "x": [
          3.8489508628845215,
          2.9646925926208496
         ],
         "y": [
          -0.3405117988586426,
          -0.9183957576751709
         ],
         "z": [
          37.11750030517578,
          37.11750030517578
         ]
        },
        {
         "anchor": "tip",
         "colorscale": [
          [
           0,
           "#B6E880"
          ],
          [
           1,
           "#B6E880"
          ]
         ],
         "hoverinfo": "skip",
         "legendgroup": "rechits_chain",
         "showscale": false,
         "sizeref": 0.1,
         "type": "cone",
         "u": [
          -0.8370931298051794
         ],
         "v": [
          -0.5470604098570553
         ],
         "w": [
          0
         ],
         "x": [
          2.9646925926208496
         ],
         "y": [
          -0.9183957576751709
         ],
         "z": [
          37.11750030517578
         ]
        },
        {
         "hoverinfo": "skip",
         "legendgroup": "rechits_chain",
         "line": {
          "width": 3.2586109605463163
         },
         "marker": {
          "color": "#B6E880"
         },
         "mode": "lines",
         "name": "Rechits chain",
         "showlegend": false,
         "type": "scatter3d",
         "x": [
          2.9646925926208496,
          3.8489508628845215
         ],
         "y": [
          -0.9183957576751709,
          -1.4657559394836426
         ],
         "z": [
          37.11750030517578,
          37.11750030517578
         ]
        },
        {
         "anchor": "tip",
         "colorscale": [
          [
           0,
           "#B6E880"
          ],
          [
           1,
           "#B6E880"
          ]
         ],
         "hoverinfo": "skip",
         "legendgroup": "rechits_chain",
         "showscale": false,
         "sizeref": 0.1,
         "type": "cone",
         "u": [
          0.8502814111656097
         ],
         "v": [
          -0.526328340322103
         ],
         "w": [
          0
         ],
         "x": [
          3.8489508628845215
         ],
         "y": [
          -1.4657559394836426
         ],
         "z": [
          37.11750030517578
         ]
        },
        {
         "customdata": [
          [
           "0.023556886",
           "0.047033306",
           "1.125173",
           "Follower",
           "18"
          ],
          [
           "0.035401843",
           "0.093686566",
           "1.1251807",
           "Follower",
           "18"
          ],
          [
           "0.09301255",
           "0.12336911",
           "3.4028235e+38",
           "Seed",
           "18"
          ],
          [
           "0.025311295",
           "0.07181757",
           "1.0535862",
           "Follower",
           "18"
          ],
          [
           "0.011550999",
           "0.023329442",
           "1.1450984",
           "Follower",
           "18"
          ]
         ],
         "hovertemplate": "Rechit : %{customdata[3]}<br>Layer : %{customdata[4]}<br>Energy: %{customdata[0]:.2g} GeV<br>Rho: %{customdata[1]:.2g} GeV<br>Delta: %{customdata[2]:.2g} cm",
         "legendgroup": "rechits",
         "legendgrouptitle": {
          "text": "Rechits"
         },
         "marker": {
          "color": "#FECB52",
          "size": [
           7.453318119049072,
           9.4027681350708,
           14.025651931762695,
           7.797089576721191,
           4.042778491973877
          ],
          "symbol": "circle"
         },
         "mode": "markers",
         "name": "2D cluster nb 26.0",
         "type": "scatter3d",
         "x": [
          3.9391708374023438,
          2.9646925926208496,
          1.9902052879333496,
          1.9690253734588623,
          4.892487525939941
         ],
         "y": [
          -1.480895757675171,
          -0.9183957576751709,
          -1.480895757675171,
          -2.534269094467163,
          -0.8465158939361572
         ],
         "z": [
          38.00749969482422,
          38.00749969482422,
          38.00749969482422,
          38.00749969482422,
          38.00749969482422
         ]
        },
        {
         "hoverinfo": "skip",
         "legendgroup": "rechits_chain",
         "line": {
          "width": 1.2558406700060456
         },
         "marker": {
          "color": "#FECB52"
         },
         "mode": "lines",
         "name": "Rechits chain",
         "showlegend": false,
         "type": "scatter3d",
         "x": [
          3.9391708374023438,
          2.9646925926208496
         ],
         "y": [
          -1.480895757675171,
          -0.9183957576751709
         ],
         "z": [
          38.00749969482422,
          38.00749969482422
         ]
        },
        {
         "anchor": "tip",
         "colorscale": [
          [
           0,
           "#FECB52"
          ],
          [
           1,
           "#FECB52"
          ]
         ],
         "hoverinfo": "skip",
         "legendgroup": "rechits_chain",
         "showscale": false,
         "sizeref": 0.1,
         "type": "cone",
         "u": [
          -0.8660697636731018
         ],
         "v": [
          0.4999231585466086
         ],
         "w": [
          0
         ],
         "x": [
          2.9646925926208496
         ],
         "y": [
          -0.9183957576751709
         ],
         "z": [
          38.00749969482422
         ]
        },
        {
         "hoverinfo": "skip",
         "legendgroup": "rechits_chain",
         "line": {
          "width": 1.9531656069569172
         },
         "marker": {
          "color": "#FECB52"
         },
         "mode": "lines",
         "name": "Rechits chain",
         "showlegend": false,
         "type": "scatter3d",
         "x": [
          2.9646925926208496,
          1.9902052879333496
         ],
         "y": [
          -0.9183957576751709,
          -1.480895757675171
         ],
         "z": [
          38.00749969482422,
          38.00749969482422
         ]
        },
        {
         "anchor": "tip",
         "colorscale": [
          [
           0,
           "#FECB52"
          ],
          [
           1,
           "#FECB52"
          ]
         ],
         "hoverinfo": "skip",
         "legendgroup": "rechits_chain",
         "showscale": false,
         "sizeref": 0.1,
         "type": "cone",
         "u": [
          -0.866071776036405
         ],
         "v": [
          -0.499919672300608
         ],
         "w": [
          0
         ],
         "x": [
          1.9902052879333496
         ],
         "y": [
          -1.480895757675171
         ],
         "z": [
          38.00749969482422
         ]
        },
        {
         "hoverinfo": "skip",
         "legendgroup": "rechits_chain",
         "line": {
          "width": 1
         },
         "marker": {
          "color": "#FECB52"
         },
         "mode": "lines",
         "name": "Rechits chain",
         "showlegend": false,
         "type": "scatter3d",
         "x": [
          1.9690253734588623,
          1.9902052879333496
         ],
         "y": [
          -2.534269094467163,
          -1.480895757675171
         ],
         "z": [
          38.00749969482422,
          38.00749969482422
         ]
        },
        {
         "anchor": "tip",
         "colorscale": [
          [
           0,
           "#FECB52"
          ],
          [
           1,
           "#FECB52"
          ]
         ],
         "hoverinfo": "skip",
         "legendgroup": "rechits_chain",
         "showscale": false,
         "sizeref": 0.1,
         "type": "cone",
         "u": [
          0.02010268696750829
         ],
         "v": [
          0.9997979205702952
         ],
         "w": [
          0
         ],
         "x": [
          1.9902052879333496
         ],
         "y": [
          -1.480895757675171
         ],
         "z": [
          38.00749969482422
         ]
        },
        {
         "hoverinfo": "skip",
         "legendgroup": "rechits_chain",
         "line": {
          "width": 1
         },
         "marker": {
          "color": "#FECB52"
         },
         "mode": "lines",
         "name": "Rechits chain",
         "showlegend": false,
         "type": "scatter3d",
         "x": [
          4.892487525939941,
          3.9391708374023438
         ],
         "y": [
          -0.8465158939361572,
          -1.480895757675171
         ],
         "z": [
          38.00749969482422,
          38.00749969482422
         ]
        },
        {
         "anchor": "tip",
         "colorscale": [
          [
           0,
           "#FECB52"
          ],
          [
           1,
           "#FECB52"
          ]
         ],
         "hoverinfo": "skip",
         "legendgroup": "rechits_chain",
         "showscale": false,
         "sizeref": 0.1,
         "type": "cone",
         "u": [
          -0.8325193931909131
         ],
         "v": [
          -0.5539959024767548
         ],
         "w": [
          0
         ],
         "x": [
          3.9391708374023438
         ],
         "y": [
          -1.480895757675171
         ],
         "z": [
          38.00749969482422
         ]
        },
        {
         "customdata": [
          [
           "0.0075199096",
           "0.0075199096",
           "1.9489741",
           "Follower",
           "19"
          ],
          [
           "0.025334386",
           "0.025334386",
           "3.4028235e+38",
           "Seed",
           "19"
          ]
         ],
         "hovertemplate": "Rechit : %{customdata[3]}<br>Layer : %{customdata[4]}<br>Energy: %{customdata[0]:.2g} GeV<br>Rho: %{customdata[1]:.2g} GeV<br>Delta: %{customdata[2]:.2g} cm",
         "legendgroup": "rechits",
         "legendgrouptitle": {
          "text": "Rechits"
         },
         "marker": {
          "color": "#EF553B",
          "size": [
           1.9886536598205566,
           7.801453590393066
          ],
          "symbol": "circle"
         },
         "mode": "markers",
         "name": "2D cluster nb 28.0",
         "type": "scatter3d",
         "x": [
          3.9179909229278564,
          2.9435126781463623
         ],
         "y": [
          -3.6595041751861572,
          -1.9716379642486572
         ],
         "z": [
          39.92250061035156,
          39.92250061035156
         ]
        },
        {
         "hoverinfo": "skip",
         "legendgroup": "rechits_chain",
         "line": {
          "width": 1
         },
         "marker": {
          "color": "#EF553B"
         },
         "mode": "lines",
         "name": "Rechits chain",
         "showlegend": false,
         "type": "scatter3d",
         "x": [
          3.9179909229278564,
          2.9435126781463623
         ],
         "y": [
          -3.6595041751861572,
          -1.9716379642486572
         ],
         "z": [
          39.92250061035156,
          39.92250061035156
         ]
        },
        {
         "anchor": "tip",
         "colorscale": [
          [
           0,
           "#EF553B"
          ],
          [
           1,
           "#EF553B"
          ]
         ],
         "hoverinfo": "skip",
         "legendgroup": "rechits_chain",
         "showscale": false,
         "sizeref": 0.1,
         "type": "cone",
         "u": [
          -0.49999547204980793
         ],
         "v": [
          0.8660280179819183
         ],
         "w": [
          0
         ],
         "x": [
          2.9435126781463623
         ],
         "y": [
          -1.9716379642486572
         ],
         "z": [
          39.92250061035156
         ]
        },
        {
         "customdata": [
          [
           "0.01472834",
           "0.025429327",
           "1.1252372",
           "Follower",
           "22"
          ],
          [
           "0.021401972",
           "0.028766142",
           "3.4028235e+38",
           "Seed",
           "22"
          ]
         ],
         "hovertemplate": "Rechit : %{customdata[3]}<br>Layer : %{customdata[4]}<br>Energy: %{customdata[0]:.2g} GeV<br>Rho: %{customdata[1]:.2g} GeV<br>Delta: %{customdata[2]:.2g} cm",
         "legendgroup": "rechits",
         "legendgrouptitle": {
          "text": "Rechits"
         },
         "marker": {
          "color": "#00CC96",
          "size": [
           5.2057204246521,
           6.994197845458984
          ],
          "symbol": "circle"
         },
         "mode": "markers",
         "name": "2D cluster nb 29.0",
         "type": "scatter3d",
         "x": [
          2.9865827560424805,
          2.0120954513549805
         ],
         "y": [
          -3.137322187423706,
          -2.574709177017212
         ],
         "z": [
          44.037498474121094,
          44.037498474121094
         ]
        },
        {
         "hoverinfo": "skip",
         "legendgroup": "rechits_chain",
         "line": {
          "width": 1
         },
         "marker": {
          "color": "#00CC96"
         },
         "mode": "lines",
         "name": "Rechits chain",
         "showlegend": false,
         "type": "scatter3d",
         "x": [
          2.9865827560424805,
          2.0120954513549805
         ],
         "y": [
          -3.137322187423706,
          -2.574709177017212
         ],
         "z": [
          44.037498474121094,
          44.037498474121094
         ]
        },
        {
         "anchor": "tip",
         "colorscale": [
          [
           0,
           "#00CC96"
          ],
          [
           1,
           "#00CC96"
          ]
         ],
         "hoverinfo": "skip",
         "legendgroup": "rechits_chain",
         "showscale": false,
         "sizeref": 0.1,
         "type": "cone",
         "u": [
          -0.8660282888646941
         ],
         "v": [
          0.4999950028611187
         ],
         "w": [
          0
         ],
         "x": [
          2.0120954513549805
         ],
         "y": [
          -2.574709177017212
         ],
         "z": [
          44.037498474121094
         ]
        },
        {
         "customdata": [
          [
           "0.020513315",
           "0.029963173",
           "1.1500651",
           "Follower",
           "12"
          ],
          [
           "0.064005226",
           "0.07345508",
           "3.4028235e+38",
           "Seed",
           "12"
          ],
          [
           "0.018899716",
           "0.061158985",
           "1.1251807",
           "Follower",
           "12"
          ]
         ],
         "hovertemplate": "Rechit : %{customdata[3]}<br>Layer : %{customdata[4]}<br>Energy: %{customdata[0]:.2g} GeV<br>Rho: %{customdata[1]:.2g} GeV<br>Delta: %{customdata[2]:.2g} cm",
         "legendgroup": "rechits",
         "legendgrouptitle": {
          "text": "Rechits"
         },
         "marker": {
          "color": "#FF97FF",
          "size": [
           6.791239261627197,
           12.23688793182373,
           6.39915657043457
          ],
          "symbol": "circle"
         },
         "mode": "markers",
         "name": "2D cluster nb 15.0",
         "type": "scatter3d",
         "x": [
          3.8504509925842285,
          1.8594753742218018,
          2.8339626789093018
         ],
         "y": [
          3.0074164867401123,
          2.9828765392303467,
          3.5453765392303467
         ],
         "z": [
          29.592500686645508,
          29.592500686645508,
          29.592500686645508
         ]
        },
        {
         "hoverinfo": "skip",
         "legendgroup": "rechits_chain",
         "line": {
          "width": 1
         },
         "marker": {
          "color": "#FF97FF"
         },
         "mode": "lines",
         "name": "Rechits chain",
         "showlegend": false,
         "type": "scatter3d",
         "x": [
          3.8504509925842285,
          2.8339626789093018
         ],
         "y": [
          3.0074164867401123,
          3.5453765392303467
         ],
         "z": [
          29.592500686645508,
          29.592500686645508
         ]
        },
        {
         "anchor": "tip",
         "colorscale": [
          [
           0,
           "#FF97FF"
          ],
          [
           1,
           "#FF97FF"
          ]
         ],
         "hoverinfo": "skip",
         "legendgroup": "rechits_chain",
         "showscale": false,
         "sizeref": 0.1,
         "type": "cone",
         "u": [
          -0.8838529226515429
         ],
         "v": [
          0.4677649100994278
         ],
         "w": [
          0
         ],
         "x": [
          2.8339626789093018
         ],
         "y": [
          3.5453765392303467
         ],
         "z": [
          29.592500686645508
         ]
        },
        {
         "hoverinfo": "skip",
         "legendgroup": "rechits_chain",
         "line": {
          "width": 1.3715114095061647
         },
         "marker": {
          "color": "#FF97FF"
         },
         "mode": "lines",
         "name": "Rechits chain",
         "showlegend": false,
         "type": "scatter3d",
         "x": [
          2.8339626789093018,
          1.8594753742218018
         ],
         "y": [
          3.5453765392303467,
          2.9828765392303467
         ],
         "z": [
          29.592500686645508,
          29.592500686645508
         ]
        },
        {
         "anchor": "tip",
         "colorscale": [
          [
           0,
           "#FF97FF"
          ],
          [
           1,
           "#FF97FF"
          ]
         ],
         "hoverinfo": "skip",
         "legendgroup": "rechits_chain",
         "showscale": false,
         "sizeref": 0.1,
         "type": "cone",
         "u": [
          -0.866071776036405
         ],
         "v": [
          -0.499919672300608
         ],
         "w": [
          0
         ],
         "x": [
          1.8594753742218018
         ],
         "y": [
          2.9828765392303467
         ],
         "z": [
          29.592500686645508
         ]
        },
        {
         "customdata": [
          [
           "0.025794381",
           "0.0961184",
           "1.0959091",
           "Follower",
           "13"
          ],
          [
           "0.016638696",
           "0.04176125",
           "1.0959039",
           "Follower",
           "13"
          ],
          [
           "0.025021642",
           "0.13218649",
           "1.0188426",
           "Follower",
           "13"
          ],
          [
           "0.042947806",
           "0.104636185",
           "1.0557734",
           "Follower",
           "13"
          ],
          [
           "0.012129861",
           "0.07013476",
           "1.0188969",
           "Follower",
           "13"
          ],
          [
           "0.1582677",
           "0.21597284",
           "3.4028235e+38",
           "Seed",
           "13"
          ],
          [
           "0.013114198",
           "0.17897245",
           "1.125",
           "Follower",
           "13"
          ],
          [
           "0.04587585",
           "0.14049694",
           "1.1252441",
           "Follower",
           "13"
          ],
          [
           "0.07357671",
           "0.11547676",
           "1.1251221",
           "Follower",
           "13"
          ],
          [
           "0.07727443",
           "0.18302992",
           "1.125425",
           "Follower",
           "13"
          ],
          [
           "0.05960349",
           "0.100259624",
           "1.1251807",
           "Follower",
           "13"
          ],
          [
           "0.053243283",
           "0.1090843",
           "1.1253192",
           "Follower",
           "13"
          ],
          [
           "0.007316481",
           "0.091853485",
           "1.125",
           "Follower",
           "13"
          ],
          [
           "0.015005735",
           "0.08191278",
           "1.1251972",
           "Follower",
           "13"
          ],
          [
           "0.008824412",
           "0.044914864",
           "1.1251221",
           "Follower",
           "13"
          ],
          [
           "0.013235856",
           "0.017648062",
           "1.1252441",
           "Follower",
           "13"
          ],
          [
           "0.027091129",
           "0.0644362",
           "1.1252865",
           "Follower",
           "13"
          ],
          [
           "0.014130376",
           "0.06080671",
           "1.125",
           "Follower",
           "13"
          ],
          [
           "0.04393932",
           "0.07280636",
           "1.1252865",
           "Follower",
           "13"
          ],
          [
           "0.019773554",
           "0.06936516",
           "1.1249247",
           "Follower",
           "13"
          ],
          [
           "0.055243902",
           "0.06513068",
           "1.1252441",
           "Follower",
           "13"
          ],
          [
           "0.008269405",
           "0.027420785",
           "1.1252372",
           "Follower",
           "13"
          ],
          [
           "0.033386495",
           "0.053069025",
           "1.1253028",
           "Follower",
           "13"
          ],
          [
           "0.02598189",
           "0.068856746",
           "1.1251221",
           "Follower",
           "13"
          ],
          [
           "0.01232087",
           "0.050663054",
           "1.1252441",
           "Follower",
           "13"
          ],
          [
           "0.039365064",
           "0.09052316",
           "1.1253107",
           "Follower",
           "13"
          ]
         ],
         "hovertemplate": "Rechit : %{customdata[3]}<br>Layer : %{customdata[4]}<br>Energy: %{customdata[0]:.2g} GeV<br>Rho: %{customdata[1]:.2g} GeV<br>Delta: %{customdata[2]:.2g} cm",
         "legendgroup": "rechits",
         "legendgrouptitle": {
          "text": "Rechits"
         },
         "marker": {
          "color": "#FECB52",
          "size": [
           7.887568950653076,
           5.789378643035889,
           7.742008209228516,
           10.32747745513916,
           4.276792526245117,
           16.569528579711914,
           4.650201797485352,
           10.643112182617188,
           12.903846740722656,
           13.138513565063477,
           11.89590072631836,
           11.355865478515625,
           1.857405662536621,
           5.295018196105957,
           2.754218578338623,
           4.694393157958984,
           8.122307777404785,
           5.007367134094238,
           10.436707496643066,
           6.615464687347412,
           11.532394409179688,
           2.4433391094207764,
           9.122264862060547,
           7.922231674194336,
           4.35156774520874,
           9.910606384277344
          ],
          "symbol": "circle"
         },
         "mode": "markers",
         "name": "2D cluster nb 16.0",
         "type": "scatter3d",
         "x": [
          3.808440923690796,
          3.808440923690796,
          3.808440923690796,
          3.889720916748047,
          2.9152426719665527,
          2.9152426719665527,
          2.9152426719665527,
          2.9152426719665527,
          2.9152426719665527,
          1.9407553672790527,
          1.9407553672790527,
          0.9663901329040527,
          0.9663901329040527,
          0.9663901329040527,
          0.9663901329040527,
          0.9663901329040527,
          -0.008219242095947266,
          -0.008219242095947266,
          -0.008219242095947266,
          -0.9823403358459473,
          -0.9823403358459473,
          5.838704586029053,
          5.838704586029053,
          4.864217281341553,
          4.864217281341553,
          4.864217281341553
         ],
         "y": [
          -2.643109083175659,
          -3.7683441638946533,
          0.7323882579803467,
          -0.3202517032623291,
          -3.133362054824829,
          1.367248296737671,
          0.2422482967376709,
          -0.8829958438873291,
          -2.008117914199829,
          1.930236577987671,
          -0.3202517032623291,
          1.367248296737671,
          0.2422482967376709,
          -0.8829958438873291,
          -2.008117914199829,
          -3.133362054824829,
          0.8047482967376709,
          -0.3202517032623291,
          -1.445495843887329,
          -2.008117914199829,
          -3.133362054824829,
          -2.570749044418335,
          -0.3202517032623291,
          -2.008117914199829,
          -3.133362054824829,
          -0.8829958438873291
         ],
         "z": [
          31.50749969482422,
          31.50749969482422,
          31.50749969482422,
          31.50749969482422,
          31.50749969482422,
          31.50749969482422,
          31.50749969482422,
          31.50749969482422,
          31.50749969482422,
          31.50749969482422,
          31.50749969482422,
          31.50749969482422,
          31.50749969482422,
          31.50749969482422,
          31.50749969482422,
          31.50749969482422,
          31.50749969482422,
          31.50749969482422,
          31.50749969482422,
          31.50749969482422,
          31.50749969482422,
          31.50749969482422,
          31.50749969482422,
          31.50749969482422,
          31.50749969482422,
          31.50749969482422
         ]
        },
        {
         "hoverinfo": "skip",
         "legendgroup": "rechits_chain",
         "line": {
          "width": 1.696769775388853
         },
         "marker": {
          "color": "#FECB52"
         },
         "mode": "lines",
         "name": "Rechits chain",
         "showlegend": false,
         "type": "scatter3d",
         "x": [
          3.808440923690796,
          2.9152426719665527
         ],
         "y": [
          -2.643109083175659,
          -2.008117914199829
         ],
         "z": [
          31.50749969482422,
          31.50749969482422
         ]
        },
        {
         "anchor": "tip",
         "colorscale": [
          [
           0,
           "#FECB52"
          ],
          [
           1,
           "#FECB52"
          ]
         ],
         "hoverinfo": "skip",
         "legendgroup": "rechits_chain",
         "showscale": false,
         "sizeref": 0.1,
         "type": "cone",
         "u": [
          -0.8150294558168024
         ],
         "v": [
          0.5794195251723633
         ],
         "w": [
          0
         ],
         "x": [
          2.9152426719665527
         ],
         "y": [
          -2.008117914199829
         ],
         "z": [
          31.50749969482422
         ]
        },
        {
         "hoverinfo": "skip",
         "legendgroup": "rechits_chain",
         "line": {
          "width": 1
         },
         "marker": {
          "color": "#FECB52"
         },
         "mode": "lines",
         "name": "Rechits chain",
         "showlegend": false,
         "type": "scatter3d",
         "x": [
          3.808440923690796,
          2.9152426719665527
         ],
         "y": [
          -3.7683441638946533,
          -3.133362054824829
         ],
         "z": [
          31.50749969482422,
          31.50749969482422
         ]
        },
        {
         "anchor": "tip",
         "colorscale": [
          [
           0,
           "#FECB52"
          ],
          [
           1,
           "#FECB52"
          ]
         ],
         "hoverinfo": "skip",
         "legendgroup": "rechits_chain",
         "showscale": false,
         "sizeref": 0.1,
         "type": "cone",
         "u": [
          -0.8150333598687279
         ],
         "v": [
          0.5794140335727921
         ],
         "w": [
          0
         ],
         "x": [
          2.9152426719665527
         ],
         "y": [
          -3.133362054824829
         ],
         "z": [
          31.50749969482422
         ]
        },
        {
         "hoverinfo": "skip",
         "legendgroup": "rechits_chain",
         "line": {
          "width": 2.9300900652521618
         },
         "marker": {
          "color": "#FECB52"
         },
         "mode": "lines",
         "name": "Rechits chain",
         "showlegend": false,
         "type": "scatter3d",
         "x": [
          3.808440923690796,
          2.9152426719665527
         ],
         "y": [
          0.7323882579803467,
          0.2422482967376709
         ],
         "z": [
          31.50749969482422,
          31.50749969482422
         ]
        },
        {
         "anchor": "tip",
         "colorscale": [
          [
           0,
           "#FECB52"
          ],
          [
           1,
           "#FECB52"
          ]
         ],
         "hoverinfo": "skip",
         "legendgroup": "rechits_chain",
         "showscale": false,
         "sizeref": 0.1,
         "type": "cone",
         "u": [
          -0.8766793105213748
         ],
         "v": [
          -0.4810752399612423
         ],
         "w": [
          0
         ],
         "x": [
          2.9152426719665527
         ],
         "y": [
          0.2422482967376709
         ],
         "z": [
          31.50749969482422
         ]
        },
        {
         "hoverinfo": "skip",
         "legendgroup": "rechits_chain",
         "line": {
          "width": 2.78668595250716
         },
         "marker": {
          "color": "#FECB52"
         },
         "mode": "lines",
         "name": "Rechits chain",
         "showlegend": false,
         "type": "scatter3d",
         "x": [
          3.889720916748047,
          3.808440923690796
         ],
         "y": [
          -0.3202517032623291,
          0.7323882579803467
         ],
         "z": [
          31.50749969482422,
          31.50749969482422
         ]
        },
        {
         "anchor": "tip",
         "colorscale": [
          [
           0,
           "#FECB52"
          ],
          [
           1,
           "#FECB52"
          ]
         ],
         "hoverinfo": "skip",
         "legendgroup": "rechits_chain",
         "showscale": false,
         "sizeref": 0.1,
         "type": "cone",
         "u": [
          -0.07698621542474973
         ],
         "v": [
          0.9970321572720581
         ],
         "w": [
          0
         ],
         "x": [
          3.808440923690796
         ],
         "y": [
          0.7323882579803467
         ],
         "z": [
          31.50749969482422
         ]
        },
        {
         "hoverinfo": "skip",
         "legendgroup": "rechits_chain",
         "line": {
          "width": 1.0566979312033005
         },
         "marker": {
          "color": "#FECB52"
         },
         "mode": "lines",
         "name": "Rechits chain",
         "showlegend": false,
         "type": "scatter3d",
         "x": [
          2.9152426719665527,
          3.808440923690796
         ],
         "y": [
          -3.133362054824829,
          -2.643109083175659
         ],
         "z": [
          31.50749969482422,
          31.50749969482422
         ]
        },
        {
         "anchor": "tip",
         "colorscale": [
          [
           0,
           "#FECB52"
          ],
          [
           1,
           "#FECB52"
          ]
         ],
         "hoverinfo": "skip",
         "legendgroup": "rechits_chain",
         "showscale": false,
         "sizeref": 0.1,
         "type": "cone",
         "u": [
          0.876632528348119
         ],
         "v": [
          0.4811604828349729
         ],
         "w": [
          0
         ],
         "x": [
          3.808440923690796
         ],
         "y": [
          -2.643109083175659
         ],
         "z": [
          31.50749969482422
         ]
        },
        {
         "hoverinfo": "skip",
         "legendgroup": "rechits_chain",
         "line": {
          "width": 4.07762072567951
         },
         "marker": {
          "color": "#FECB52"
         },
         "mode": "lines",
         "name": "Rechits chain",
         "showlegend": false,
         "type": "scatter3d",
         "x": [
          2.9152426719665527,
          2.9152426719665527
         ],
         "y": [
          0.2422482967376709,
          1.367248296737671
         ],
         "z": [
          31.50749969482422,
          31.50749969482422
         ]
        },
        {
         "anchor": "tip",
         "colorscale": [
          [
           0,
           "#FECB52"
          ],
          [
           1,
           "#FECB52"
          ]
         ],
         "hoverinfo": "skip",
         "legendgroup": "rechits_chain",
         "showscale": false,
         "sizeref": 0.1,
         "type": "cone",
         "u": [
          0
         ],
         "v": [
          1
         ],
         "w": [
          0
         ],
         "x": [
          2.9152426719665527
         ],
         "y": [
          1.367248296737671
         ],
         "z": [
          31.50749969482422
         ]
        },
        {
         "hoverinfo": "skip",
         "legendgroup": "rechits_chain",
         "line": {
          "width": 2.856559286061691
         },
         "marker": {
          "color": "#FECB52"
         },
         "mode": "lines",
         "name": "Rechits chain",
         "showlegend": false,
         "type": "scatter3d",
         "x": [
          2.9152426719665527,
          2.9152426719665527
         ],
         "y": [
          -0.8829958438873291,
          0.2422482967376709
         ],
         "z": [
          31.50749969482422,
          31.50749969482422
         ]
        },
        {
         "anchor": "tip",
         "colorscale": [
          [
           0,
           "#FECB52"
          ],
          [
           1,
           "#FECB52"
          ]
         ],
         "hoverinfo": "skip",
         "legendgroup": "rechits_chain",
         "showscale": false,
         "sizeref": 0.1,
         "type": "cone",
         "u": [
          0
         ],
         "v": [
          1
         ],
         "w": [
          0
         ],
         "x": [
          2.9152426719665527
         ],
         "y": [
          0.2422482967376709
         ],
         "z": [
          31.50749969482422
         ]
        },
        {
         "hoverinfo": "skip",
         "legendgroup": "rechits_chain",
         "line": {
          "width": 2.5505355880627394
         },
         "marker": {
          "color": "#FECB52"
         },
         "mode": "lines",
         "name": "Rechits chain",
         "showlegend": false,
         "type": "scatter3d",
         "x": [
          2.9152426719665527,
          2.9152426719665527
         ],
         "y": [
          -2.008117914199829,
          -0.8829958438873291
         ],
         "z": [
          31.50749969482422,
          31.50749969482422
         ]
        },
        {
         "anchor": "tip",
         "colorscale": [
          [
           0,
           "#FECB52"
          ],
          [
           1,
           "#FECB52"
          ]
         ],
         "hoverinfo": "skip",
         "legendgroup": "rechits_chain",
         "showscale": false,
         "sizeref": 0.1,
         "type": "cone",
         "u": [
          0
         ],
         "v": [
          1
         ],
         "w": [
          0
         ],
         "x": [
          2.9152426719665527
         ],
         "y": [
          -0.8829958438873291
         ],
         "z": [
          31.50749969482422
         ]
        },
        {
         "hoverinfo": "skip",
         "legendgroup": "rechits_chain",
         "line": {
          "width": 2.8851118146598846
         },
         "marker": {
          "color": "#FECB52"
         },
         "mode": "lines",
         "name": "Rechits chain",
         "showlegend": false,
         "type": "scatter3d",
         "x": [
          1.9407553672790527,
          2.9152426719665527
         ],
         "y": [
          1.930236577987671,
          1.367248296737671
         ],
         "z": [
          31.50749969482422,
          31.50749969482422
         ]
        },
        {
         "anchor": "tip",
         "colorscale": [
          [
           0,
           "#FECB52"
          ],
          [
           1,
           "#FECB52"
          ]
         ],
         "hoverinfo": "skip",
         "legendgroup": "rechits_chain",
         "showscale": false,
         "sizeref": 0.1,
         "type": "cone",
         "u": [
          0.8658838664416397
         ],
         "v": [
          -0.5002450697768811
         ],
         "w": [
          0
         ],
         "x": [
          2.9152426719665527
         ],
         "y": [
          1.367248296737671
         ],
         "z": [
          31.50749969482422
         ]
        },
        {
         "hoverinfo": "skip",
         "legendgroup": "rechits_chain",
         "line": {
          "width": 3.070961569719091
         },
         "marker": {
          "color": "#FECB52"
         },
         "mode": "lines",
         "name": "Rechits chain",
         "showlegend": false,
         "type": "scatter3d",
         "x": [
          1.9407553672790527,
          2.9152426719665527
         ],
         "y": [
          -0.3202517032623291,
          0.2422482967376709
         ],
         "z": [
          31.50749969482422,
          31.50749969482422
         ]
        },
        {
         "anchor": "tip",
         "colorscale": [
          [
           0,
           "#FECB52"
          ],
          [
           1,
           "#FECB52"
          ]
         ],
         "hoverinfo": "skip",
         "legendgroup": "rechits_chain",
         "showscale": false,
         "sizeref": 0.1,
         "type": "cone",
         "u": [
          0.866071776036405
         ],
         "v": [
          0.499919672300608
         ],
         "w": [
          0
         ],
         "x": [
          2.9152426719665527
         ],
         "y": [
          0.2422482967376709
         ],
         "z": [
          31.50749969482422
         ]
        },
        {
         "hoverinfo": "skip",
         "legendgroup": "rechits_chain",
         "line": {
          "width": 2.3202409968426996
         },
         "marker": {
          "color": "#FECB52"
         },
         "mode": "lines",
         "name": "Rechits chain",
         "showlegend": false,
         "type": "scatter3d",
         "x": [
          0.9663901329040527,
          1.9407553672790527
         ],
         "y": [
          1.367248296737671,
          1.930236577987671
         ],
         "z": [
          31.50749969482422,
          31.50749969482422
         ]
        },
        {
         "anchor": "tip",
         "colorscale": [
          [
           0,
           "#FECB52"
          ],
          [
           1,
           "#FECB52"
          ]
         ],
         "hoverinfo": "skip",
         "legendgroup": "rechits_chain",
         "showscale": false,
         "sizeref": 0.1,
         "type": "cone",
         "u": [
          0.8658567195357058
         ],
         "v": [
          0.5002920559381953
         ],
         "w": [
          0
         ],
         "x": [
          1.9407553672790527
         ],
         "y": [
          1.930236577987671
         ],
         "z": [
          31.50749969482422
         ]
        },
        {
         "hoverinfo": "skip",
         "legendgroup": "rechits_chain",
         "line": {
          "width": 1
         },
         "marker": {
          "color": "#FECB52"
         },
         "mode": "lines",
         "name": "Rechits chain",
         "showlegend": false,
         "type": "scatter3d",
         "x": [
          0.9663901329040527,
          0.9663901329040527
         ],
         "y": [
          0.2422482967376709,
          1.367248296737671
         ],
         "z": [
          31.50749969482422,
          31.50749969482422
         ]
        },
        {
         "anchor": "tip",
         "colorscale": [
          [
           0,
           "#FECB52"
          ],
          [
           1,
           "#FECB52"
          ]
         ],
         "hoverinfo": "skip",
         "legendgroup": "rechits_chain",
         "showscale": false,
         "sizeref": 0.1,
         "type": "cone",
         "u": [
          0
         ],
         "v": [
          1
         ],
         "w": [
          0
         ],
         "x": [
          0.9663901329040527
         ],
         "y": [
          1.367248296737671
         ],
         "z": [
          31.50749969482422
         ]
        },
        {
         "hoverinfo": "skip",
         "legendgroup": "rechits_chain",
         "line": {
          "width": 2.7474169090436815
         },
         "marker": {
          "color": "#FECB52"
         },
         "mode": "lines",
         "name": "Rechits chain",
         "showlegend": false,
         "type": "scatter3d",
         "x": [
          0.9663901329040527,
          1.9407553672790527
         ],
         "y": [
          -0.8829958438873291,
          -0.3202517032623291
         ],
         "z": [
          31.50749969482422,
          31.50749969482422
         ]
        },
        {
         "anchor": "tip",
         "colorscale": [
          [
           0,
           "#FECB52"
          ],
          [
           1,
           "#FECB52"
          ]
         ],
         "hoverinfo": "skip",
         "legendgroup": "rechits_chain",
         "showscale": false,
         "sizeref": 0.1,
         "type": "cone",
         "u": [
          0.8659506941311695
         ],
         "v": [
          0.500129378594925
         ],
         "w": [
          0
         ],
         "x": [
          1.9407553672790527
         ],
         "y": [
          -0.3202517032623291
         ],
         "z": [
          31.50749969482422
         ]
        },
        {
         "hoverinfo": "skip",
         "legendgroup": "rechits_chain",
         "line": {
          "width": 1
         },
         "marker": {
          "color": "#FECB52"
         },
         "mode": "lines",
         "name": "Rechits chain",
         "showlegend": false,
         "type": "scatter3d",
         "x": [
          0.9663901329040527,
          0.9663901329040527
         ],
         "y": [
          -2.008117914199829,
          -0.8829958438873291
         ],
         "z": [
          31.50749969482422,
          31.50749969482422
         ]
        },
        {
         "anchor": "tip",
         "colorscale": [
          [
           0,
           "#FECB52"
          ],
          [
           1,
           "#FECB52"
          ]
         ],
         "hoverinfo": "skip",
         "legendgroup": "rechits_chain",
         "showscale": false,
         "sizeref": 0.1,
         "type": "cone",
         "u": [
          0
         ],
         "v": [
          1
         ],
         "w": [
          0
         ],
         "x": [
          0.9663901329040527
         ],
         "y": [
          -0.8829958438873291
         ],
         "z": [
          31.50749969482422
         ]
        },
        {
         "hoverinfo": "skip",
         "legendgroup": "rechits_chain",
         "line": {
          "width": 1
         },
         "marker": {
          "color": "#FECB52"
         },
         "mode": "lines",
         "name": "Rechits chain",
         "showlegend": false,
         "type": "scatter3d",
         "x": [
          0.9663901329040527,
          0.9663901329040527
         ],
         "y": [
          -3.133362054824829,
          -2.008117914199829
         ],
         "z": [
          31.50749969482422,
          31.50749969482422
         ]
        },
        {
         "anchor": "tip",
         "colorscale": [
          [
           0,
           "#FECB52"
          ],
          [
           1,
           "#FECB52"
          ]
         ],
         "hoverinfo": "skip",
         "legendgroup": "rechits_chain",
         "showscale": false,
         "sizeref": 0.1,
         "type": "cone",
         "u": [
          0
         ],
         "v": [
          1
         ],
         "w": [
          0
         ],
         "x": [
          0.9663901329040527
         ],
         "y": [
          -2.008117914199829
         ],
         "z": [
          31.50749969482422
         ]
        },
        {
         "hoverinfo": "skip",
         "legendgroup": "rechits_chain",
         "line": {
          "width": 1.4163749939557577
         },
         "marker": {
          "color": "#FECB52"
         },
         "mode": "lines",
         "name": "Rechits chain",
         "showlegend": false,
         "type": "scatter3d",
         "x": [
          -0.008219242095947266,
          0.9663901329040527
         ],
         "y": [
          0.8047482967376709,
          1.367248296737671
         ],
         "z": [
          31.50749969482422,
          31.50749969482422
         ]
        },
        {
         "anchor": "tip",
         "colorscale": [
          [
           0,
           "#FECB52"
          ],
          [
           1,
           "#FECB52"
          ]
         ],
         "hoverinfo": "skip",
         "legendgroup": "rechits_chain",
         "showscale": false,
         "sizeref": 0.1,
         "type": "cone",
         "u": [
          0.8660988858794976
         ],
         "v": [
          0.4998727036739385
         ],
         "w": [
          0
         ],
         "x": [
          0.9663901329040527
         ],
         "y": [
          1.367248296737671
         ],
         "z": [
          31.50749969482422
         ]
        },
        {
         "hoverinfo": "skip",
         "legendgroup": "rechits_chain",
         "line": {
          "width": 1
         },
         "marker": {
          "color": "#FECB52"
         },
         "mode": "lines",
         "name": "Rechits chain",
         "showlegend": false,
         "type": "scatter3d",
         "x": [
          -0.008219242095947266,
          -0.008219242095947266
         ],
         "y": [
          -0.3202517032623291,
          0.8047482967376709
         ],
         "z": [
          31.50749969482422,
          31.50749969482422
         ]
        },
        {
         "anchor": "tip",
         "colorscale": [
          [
           0,
           "#FECB52"
          ],
          [
           1,
           "#FECB52"
          ]
         ],
         "hoverinfo": "skip",
         "legendgroup": "rechits_chain",
         "showscale": false,
         "sizeref": 0.1,
         "type": "cone",
         "u": [
          0
         ],
         "v": [
          1
         ],
         "w": [
          0
         ],
         "x": [
          -0.008219242095947266
         ],
         "y": [
          0.8047482967376709
         ],
         "z": [
          31.50749969482422
         ]
        },
        {
         "hoverinfo": "skip",
         "legendgroup": "rechits_chain",
         "line": {
          "width": 2.4761750944088665
         },
         "marker": {
          "color": "#FECB52"
         },
         "mode": "lines",
         "name": "Rechits chain",
         "showlegend": false,
         "type": "scatter3d",
         "x": [
          -0.008219242095947266,
          0.9663901329040527
         ],
         "y": [
          -1.445495843887329,
          -0.8829958438873291
         ],
         "z": [
          31.50749969482422,
          31.50749969482422
         ]
        },
        {
         "anchor": "tip",
         "colorscale": [
          [
           0,
           "#FECB52"
          ],
          [
           1,
           "#FECB52"
          ]
         ],
         "hoverinfo": "skip",
         "legendgroup": "rechits_chain",
         "showscale": false,
         "sizeref": 0.1,
         "type": "cone",
         "u": [
          0.8660988858794976
         ],
         "v": [
          0.4998727036739385
         ],
         "w": [
          0
         ],
         "x": [
          0.9663901329040527
         ],
         "y": [
          -0.8829958438873291
         ],
         "z": [
          31.50749969482422
         ]
        },
        {
         "hoverinfo": "skip",
         "legendgroup": "rechits_chain",
         "line": {
          "width": 2.0151357396648093
         },
         "marker": {
          "color": "#FECB52"
         },
         "mode": "lines",
         "name": "Rechits chain",
         "showlegend": false,
         "type": "scatter3d",
         "x": [
          -0.9823403358459473,
          -0.008219242095947266
         ],
         "y": [
          -2.008117914199829,
          -1.445495843887329
         ],
         "z": [
          31.50749969482422,
          31.50749969482422
         ]
        },
        {
         "anchor": "tip",
         "colorscale": [
          [
           0,
           "#FECB52"
          ],
          [
           1,
           "#FECB52"
          ]
         ],
         "hoverinfo": "skip",
         "legendgroup": "rechits_chain",
         "showscale": false,
         "sizeref": 0.1,
         "type": "cone",
         "u": [
          0.8659434049868368
         ],
         "v": [
          0.5001419991960314
         ],
         "w": [
          0
         ],
         "x": [
          -0.008219242095947266
         ],
         "y": [
          -1.445495843887329
         ],
         "z": [
          31.50749969482422
         ]
        },
        {
         "hoverinfo": "skip",
         "legendgroup": "rechits_chain",
         "line": {
          "width": 1.7091728686136174
         },
         "marker": {
          "color": "#FECB52"
         },
         "mode": "lines",
         "name": "Rechits chain",
         "showlegend": false,
         "type": "scatter3d",
         "x": [
          -0.9823403358459473,
          -0.9823403358459473
         ],
         "y": [
          -3.133362054824829,
          -2.008117914199829
         ],
         "z": [
          31.50749969482422,
          31.50749969482422
         ]
        },
        {
         "anchor": "tip",
         "colorscale": [
          [
           0,
           "#FECB52"
          ],
          [
           1,
           "#FECB52"
          ]
         ],
         "hoverinfo": "skip",
         "legendgroup": "rechits_chain",
         "showscale": false,
         "sizeref": 0.1,
         "type": "cone",
         "u": [
          0
         ],
         "v": [
          1
         ],
         "w": [
          0
         ],
         "x": [
          -0.9823403358459473
         ],
         "y": [
          -2.008117914199829
         ],
         "z": [
          31.50749969482422
         ]
        },
        {
         "hoverinfo": "skip",
         "legendgroup": "rechits_chain",
         "line": {
          "width": 1
         },
         "marker": {
          "color": "#FECB52"
         },
         "mode": "lines",
         "name": "Rechits chain",
         "showlegend": false,
         "type": "scatter3d",
         "x": [
          5.838704586029053,
          4.864217281341553
         ],
         "y": [
          -2.570749044418335,
          -3.133362054824829
         ],
         "z": [
          31.50749969482422,
          31.50749969482422
         ]
        },
        {
         "anchor": "tip",
         "colorscale": [
          [
           0,
           "#FECB52"
          ],
          [
           1,
           "#FECB52"
          ]
         ],
         "hoverinfo": "skip",
         "legendgroup": "rechits_chain",
         "showscale": false,
         "sizeref": 0.1,
         "type": "cone",
         "u": [
          -0.8660282888646941
         ],
         "v": [
          -0.4999950028611187
         ],
         "w": [
          0
         ],
         "x": [
          4.864217281341553
         ],
         "y": [
          -3.133362054824829
         ],
         "z": [
          31.50749969482422
         ]
        },
        {
         "hoverinfo": "skip",
         "legendgroup": "rechits_chain",
         "line": {
          "width": 1.2055663828357892
         },
         "marker": {
          "color": "#FECB52"
         },
         "mode": "lines",
         "name": "Rechits chain",
         "showlegend": false,
         "type": "scatter3d",
         "x": [
          5.838704586029053,
          4.864217281341553
         ],
         "y": [
          -0.3202517032623291,
          -0.8829958438873291
         ],
         "z": [
          31.50749969482422,
          31.50749969482422
         ]
        },
        {
         "anchor": "tip",
         "colorscale": [
          [
           0,
           "#FECB52"
          ],
          [
           1,
           "#FECB52"
          ]
         ],
         "hoverinfo": "skip",
         "legendgroup": "rechits_chain",
         "showscale": false,
         "sizeref": 0.1,
         "type": "cone",
         "u": [
          -0.8659778263291473
         ],
         "v": [
          -0.5000823975168945
         ],
         "w": [
          0
         ],
         "x": [
          4.864217281341553
         ],
         "y": [
          -0.8829958438873291
         ],
         "z": [
          31.50749969482422
         ]
        },
        {
         "hoverinfo": "skip",
         "legendgroup": "rechits_chain",
         "line": {
          "width": 1.538417944182206
         },
         "marker": {
          "color": "#FECB52"
         },
         "mode": "lines",
         "name": "Rechits chain",
         "showlegend": false,
         "type": "scatter3d",
         "x": [
          4.864217281341553,
          4.864217281341553
         ],
         "y": [
          -2.008117914199829,
          -0.8829958438873291
         ],
         "z": [
          31.50749969482422,
          31.50749969482422
         ]
        },
        {
         "anchor": "tip",
         "colorscale": [
          [
           0,
           "#FECB52"
          ],
          [
           1,
           "#FECB52"
          ]
         ],
         "hoverinfo": "skip",
         "legendgroup": "rechits_chain",
         "showscale": false,
         "sizeref": 0.1,
         "type": "cone",
         "u": [
          0
         ],
         "v": [
          1
         ],
         "w": [
          0
         ],
         "x": [
          4.864217281341553
         ],
         "y": [
          -0.8829958438873291
         ],
         "z": [
          31.50749969482422
         ]
        },
        {
         "hoverinfo": "skip",
         "legendgroup": "rechits_chain",
         "line": {
          "width": 1
         },
         "marker": {
          "color": "#FECB52"
         },
         "mode": "lines",
         "name": "Rechits chain",
         "showlegend": false,
         "type": "scatter3d",
         "x": [
          4.864217281341553,
          4.864217281341553
         ],
         "y": [
          -3.133362054824829,
          -2.008117914199829
         ],
         "z": [
          31.50749969482422,
          31.50749969482422
         ]
        },
        {
         "anchor": "tip",
         "colorscale": [
          [
           0,
           "#FECB52"
          ],
          [
           1,
           "#FECB52"
          ]
         ],
         "hoverinfo": "skip",
         "legendgroup": "rechits_chain",
         "showscale": false,
         "sizeref": 0.1,
         "type": "cone",
         "u": [
          0
         ],
         "v": [
          1
         ],
         "w": [
          0
         ],
         "x": [
          4.864217281341553
         ],
         "y": [
          -2.008117914199829
         ],
         "z": [
          31.50749969482422
         ]
        },
        {
         "hoverinfo": "skip",
         "legendgroup": "rechits_chain",
         "line": {
          "width": 2.4792550759332714
         },
         "marker": {
          "color": "#FECB52"
         },
         "mode": "lines",
         "name": "Rechits chain",
         "showlegend": false,
         "type": "scatter3d",
         "x": [
          4.864217281341553,
          3.889720916748047
         ],
         "y": [
          -0.8829958438873291,
          -0.3202517032623291
         ],
         "z": [
          31.50749969482422,
          31.50749969482422
         ]
        },
        {
         "anchor": "tip",
         "colorscale": [
          [
           0,
           "#FECB52"
          ],
          [
           1,
           "#FECB52"
          ]
         ],
         "hoverinfo": "skip",
         "legendgroup": "rechits_chain",
         "showscale": false,
         "sizeref": 0.1,
         "type": "cone",
         "u": [
          -0.865979839742166
         ],
         "v": [
          0.5000789109331973
         ],
         "w": [
          0
         ],
         "x": [
          3.889720916748047
         ],
         "y": [
          -0.3202517032623291
         ],
         "z": [
          31.50749969482422
         ]
        },
        {
         "customdata": [
          [
           "0.012085293",
           "0.031283055",
           "1.1248636",
           "Follower",
           "14"
          ],
          [
           "0.012764349",
           "0.047071535",
           "1.125",
           "Follower",
           "14"
          ],
          [
           "0.05652908",
           "0.06291125",
           "1.9487305",
           "Seed",
           "14"
          ]
         ],
         "hovertemplate": "Rechit : %{customdata[3]}<br>Layer : %{customdata[4]}<br>Energy: %{customdata[0]:.2g} GeV<br>Rho: %{customdata[1]:.2g} GeV<br>Delta: %{customdata[2]:.2g} cm",
         "legendgroup": "rechits",
         "legendgrouptitle": {
          "text": "Rechits"
         },
         "marker": {
          "color": "#EF553B",
          "size": [
           4.2591776847839355,
           4.5207977294921875,
           11.64245319366455
          ],
          "symbol": "circle"
         },
         "mode": "markers",
         "name": "2D cluster nb 18.0",
         "type": "scatter3d",
         "x": [
          -0.060079336166381836,
          -1.0342004299163818,
          -1.0342004299163818
         ],
         "y": [
          -0.39855170249938965,
          0.16394829750061035,
          1.2889482975006104
         ],
         "z": [
          32.397499084472656,
          32.397499084472656,
          32.397499084472656
         ]
        },
        {
         "hoverinfo": "skip",
         "legendgroup": "rechits_chain",
         "line": {
          "width": 1
         },
         "marker": {
          "color": "#EF553B"
         },
         "mode": "lines",
         "name": "Rechits chain",
         "showlegend": false,
         "type": "scatter3d",
         "x": [
          -0.060079336166381836,
          -1.0342004299163818
         ],
         "y": [
          -0.39855170249938965,
          0.16394829750061035
         ],
         "z": [
          32.397499084472656,
          32.397499084472656
         ]
        },
        {
         "anchor": "tip",
         "colorscale": [
          [
           0,
           "#EF553B"
          ],
          [
           1,
           "#EF553B"
          ]
         ],
         "hoverinfo": "skip",
         "legendgroup": "rechits_chain",
         "showscale": false,
         "sizeref": 0.1,
         "type": "cone",
         "u": [
          -0.8659904006399372
         ],
         "v": [
          0.5000606223244148
         ],
         "w": [
          0
         ],
         "x": [
          -1.0342004299163818
         ],
         "y": [
          0.16394829750061035
         ],
         "z": [
          32.397499084472656
         ]
        },
        {
         "hoverinfo": "skip",
         "legendgroup": "rechits_chain",
         "line": {
          "width": 1
         },
         "marker": {
          "color": "#EF553B"
         },
         "mode": "lines",
         "name": "Rechits chain",
         "showlegend": false,
         "type": "scatter3d",
         "x": [
          -1.0342004299163818,
          -1.0342004299163818
         ],
         "y": [
          0.16394829750061035,
          1.2889482975006104
         ],
         "z": [
          32.397499084472656,
          32.397499084472656
         ]
        },
        {
         "anchor": "tip",
         "colorscale": [
          [
           0,
           "#EF553B"
          ],
          [
           1,
           "#EF553B"
          ]
         ],
         "hoverinfo": "skip",
         "legendgroup": "rechits_chain",
         "showscale": false,
         "sizeref": 0.1,
         "type": "cone",
         "u": [
          0
         ],
         "v": [
          1
         ],
         "w": [
          0
         ],
         "x": [
          -1.0342004299163818
         ],
         "y": [
          1.2889482975006104
         ],
         "z": [
          32.397499084472656
         ]
        },
        {
         "customdata": [
          [
           "0.022108115",
           "0.027722983",
           "3.4028235e+38",
           "Seed",
           "15"
          ],
          [
           "0.011229735",
           "0.022283792",
           "1.1940217",
           "Follower",
           "15"
          ]
         ],
         "hovertemplate": "Rechit : %{customdata[3]}<br>Layer : %{customdata[4]}<br>Energy: %{customdata[0]:.2g} GeV<br>Rho: %{customdata[1]:.2g} GeV<br>Delta: %{customdata[2]:.2g} cm",
         "legendgroup": "rechits",
         "legendgrouptitle": {
          "text": "Rechits"
         },
         "marker": {
          "color": "#00CC96",
          "size": [
           7.149550437927246,
           3.907788038253784
          ],
          "symbol": "circle"
         },
         "mode": "markers",
         "name": "2D cluster nb 19.0",
         "type": "scatter3d",
         "x": [
          3.8378608226776123,
          4.905207633972168
         ],
         "y": [
          1.8519365787506104,
          1.316718339920044
         ],
         "z": [
          34.3125,
          34.3125
         ]
        },
        {
         "hoverinfo": "skip",
         "legendgroup": "rechits_chain",
         "line": {
          "width": 1
         },
         "marker": {
          "color": "#00CC96"
         },
         "mode": "lines",
         "name": "Rechits chain",
         "showlegend": false,
         "type": "scatter3d",
         "x": [
          4.905207633972168,
          3.8378608226776123
         ],
         "y": [
          1.316718339920044,
          1.8519365787506104
         ],
         "z": [
          34.3125,
          34.3125
         ]
        },
        {
         "anchor": "tip",
         "colorscale": [
          [
           0,
           "#00CC96"
          ],
          [
           1,
           "#00CC96"
          ]
         ],
         "hoverinfo": "skip",
         "legendgroup": "rechits_chain",
         "showscale": false,
         "sizeref": 0.1,
         "type": "cone",
         "u": [
          -0.8939090694576606
         ],
         "v": [
          0.4482483413704278
         ],
         "w": [
          0
         ],
         "x": [
          3.8378608226776123
         ],
         "y": [
          1.8519365787506104
         ],
         "z": [
          34.3125
         ]
        },
        {
         "customdata": [
          [
           "0.014103627",
           "0.014103627",
           "1.9488729",
           "Follower",
           "16"
          ],
          [
           "0.013662581",
           "0.027848486",
           "1.125075",
           "Follower",
           "16"
          ],
          [
           "0.028371809",
           "0.0352031",
           "3.4028235e+38",
           "Seed",
           "16"
          ],
          [
           "0.011449395",
           "0.011449395",
           "1.8674598",
           "Follower",
           "16"
          ]
         ],
         "hovertemplate": "Rechit : %{customdata[3]}<br>Layer : %{customdata[4]}<br>Energy: %{customdata[0]:.2g} GeV<br>Rho: %{customdata[1]:.2g} GeV<br>Delta: %{customdata[2]:.2g} cm",
         "legendgroup": "rechits",
         "legendgrouptitle": {
          "text": "Rechits"
         },
         "marker": {
          "color": "#19D3F3",
          "size": [
           4.998298645019531,
           4.846250057220459,
           8.343358993530273,
           4.000494956970215
          ],
          "symbol": "circle"
         },
         "mode": "markers",
         "name": "2D cluster nb 22.0",
         "type": "scatter3d",
         "x": [
          2.956232786178589,
          1.9817454814910889,
          1.0073802471160889,
          4.823447227478027
         ],
         "y": [
          -0.933525800704956,
          0.754218339920044,
          0.19171833992004395,
          -0.9032559394836426
         ],
         "z": [
          35.20249938964844,
          35.20249938964844,
          35.20249938964844,
          35.20249938964844
         ]
        },
        {
         "hoverinfo": "skip",
         "legendgroup": "rechits_chain",
         "line": {
          "width": 1
         },
         "marker": {
          "color": "#19D3F3"
         },
         "mode": "lines",
         "name": "Rechits chain",
         "showlegend": false,
         "type": "scatter3d",
         "x": [
          2.956232786178589,
          1.9817454814910889
         ],
         "y": [
          -0.933525800704956,
          0.754218339920044
         ],
         "z": [
          35.20249938964844,
          35.20249938964844
         ]
        },
        {
         "anchor": "tip",
         "colorscale": [
          [
           0,
           "#19D3F3"
          ],
          [
           1,
           "#19D3F3"
          ]
         ],
         "hoverinfo": "skip",
         "legendgroup": "rechits_chain",
         "showscale": false,
         "sizeref": 0.1,
         "type": "cone",
         "u": [
          -0.5000260805296963
         ],
         "v": [
          0.8660103456599751
         ],
         "w": [
          0
         ],
         "x": [
          1.9817454814910889
         ],
         "y": [
          0.754218339920044
         ],
         "z": [
          35.20249938964844
         ]
        },
        {
         "hoverinfo": "skip",
         "legendgroup": "rechits_chain",
         "line": {
          "width": 1.366489608077675
         },
         "marker": {
          "color": "#19D3F3"
         },
         "mode": "lines",
         "name": "Rechits chain",
         "showlegend": false,
         "type": "scatter3d",
         "x": [
          1.9817454814910889,
          1.0073802471160889
         ],
         "y": [
          0.754218339920044,
          0.19171833992004395
         ],
         "z": [
          35.20249938964844,
          35.20249938964844
         ]
        },
        {
         "anchor": "tip",
         "colorscale": [
          [
           0,
           "#19D3F3"
          ],
          [
           1,
           "#19D3F3"
          ]
         ],
         "hoverinfo": "skip",
         "legendgroup": "rechits_chain",
         "showscale": false,
         "sizeref": 0.1,
         "type": "cone",
         "u": [
          -0.8660446585505366
         ],
         "v": [
          -0.4999666482837475
         ],
         "w": [
          0
         ],
         "x": [
          1.0073802471160889
         ],
         "y": [
          0.19171833992004395
         ],
         "z": [
          35.20249938964844
         ]
        },
        {
         "hoverinfo": "skip",
         "legendgroup": "rechits_chain",
         "line": {
          "width": 1
         },
         "marker": {
          "color": "#19D3F3"
         },
         "mode": "lines",
         "name": "Rechits chain",
         "showlegend": false,
         "type": "scatter3d",
         "x": [
          4.823447227478027,
          2.956232786178589
         ],
         "y": [
          -0.9032559394836426,
          -0.933525800704956
         ],
         "z": [
          35.20249938964844,
          35.20249938964844
         ]
        },
        {
         "anchor": "tip",
         "colorscale": [
          [
           0,
           "#19D3F3"
          ],
          [
           1,
           "#19D3F3"
          ]
         ],
         "hoverinfo": "skip",
         "legendgroup": "rechits_chain",
         "showscale": false,
         "sizeref": 0.1,
         "type": "cone",
         "u": [
          -0.9998686237448408
         ],
         "v": [
          -0.016209110111230336
         ],
         "w": [
          0
         ],
         "x": [
          2.956232786178589
         ],
         "y": [
          -0.933525800704956
         ],
         "z": [
          35.20249938964844
         ]
        },
        {
         "customdata": [
          [
           "0.030343495",
           "0.04528855",
           "2.2504883",
           "Seed",
           "17"
          ],
          [
           "0.029890114",
           "0.045061864",
           "1.0564775",
           "Follower",
           "17"
          ]
         ],
         "hovertemplate": "Rechit : %{customdata[3]}<br>Layer : %{customdata[4]}<br>Energy: %{customdata[0]:.2g} GeV<br>Rho: %{customdata[1]:.2g} GeV<br>Delta: %{customdata[2]:.2g} cm",
         "legendgroup": "rechits",
         "legendgrouptitle": {
          "text": "Rechits"
         },
         "marker": {
          "color": "#FF6692",
          "size": [
           8.664894104003906,
           8.592848777770996
          ],
          "symbol": "circle"
         },
         "mode": "markers",
         "name": "2D cluster nb 23.0",
         "type": "scatter3d",
         "x": [
          3.8489508628845215,
          2.9646925926208496
         ],
         "y": [
          1.9099764823913574,
          1.331848382949829
         ],
         "z": [
          37.11750030517578,
          37.11750030517578
         ]
        },
        {
         "hoverinfo": "skip",
         "legendgroup": "rechits_chain",
         "line": {
          "width": 1.0949427120503767
         },
         "marker": {
          "color": "#FF6692"
         },
         "mode": "lines",
         "name": "Rechits chain",
         "showlegend": false,
         "type": "scatter3d",
         "x": [
          2.9646925926208496,
          3.8489508628845215
         ],
         "y": [
          1.331848382949829,
          1.9099764823913574
         ],
         "z": [
          37.11750030517578,
          37.11750030517578
         ]
        },
        {
         "anchor": "tip",
         "colorscale": [
          [
           0,
           "#FF6692"
          ],
          [
           1,
           "#FF6692"
          ]
         ],
         "hoverinfo": "skip",
         "legendgroup": "rechits_chain",
         "showscale": false,
         "sizeref": 0.1,
         "type": "cone",
         "u": [
          0.8369872890038557
         ],
         "v": [
          0.5472223296302664
         ],
         "w": [
          0
         ],
         "x": [
          3.8489508628845215
         ],
         "y": [
          1.9099764823913574
         ],
         "z": [
          37.11750030517578
         ]
        },
        {
         "customdata": [
          [
           "0.027870715",
           "0.0816688",
           "1.125075",
           "Follower",
           "17"
          ],
          [
           "0.07328799",
           "0.08722335",
           "2.250378",
           "Seed",
           "17"
          ]
         ],
         "hovertemplate": "Rechit : %{customdata[3]}<br>Layer : %{customdata[4]}<br>Energy: %{customdata[0]:.2g} GeV<br>Rho: %{customdata[1]:.2g} GeV<br>Delta: %{customdata[2]:.2g} cm",
         "legendgroup": "rechits",
         "legendgrouptitle": {
          "text": "Rechits"
         },
         "marker": {
          "color": "#FF97FF",
          "size": [
           8.258079528808594,
           12.885029792785645
          ],
          "symbol": "circle"
         },
         "mode": "markers",
         "name": "2D cluster nb 25.0",
         "type": "scatter3d",
         "x": [
          1.9902052879333496,
          1.0158400535583496
         ],
         "y": [
          -0.3556516170501709,
          0.2068483829498291
         ],
         "z": [
          37.11750030517578,
          37.11750030517578
         ]
        },
        {
         "hoverinfo": "skip",
         "legendgroup": "rechits_chain",
         "line": {
          "width": 1.0249913909575217
         },
         "marker": {
          "color": "#FF97FF"
         },
         "mode": "lines",
         "name": "Rechits chain",
         "showlegend": false,
         "type": "scatter3d",
         "x": [
          1.9902052879333496,
          1.0158400535583496
         ],
         "y": [
          -0.3556516170501709,
          0.2068483829498291
         ],
         "z": [
          37.11750030517578,
          37.11750030517578
         ]
        },
        {
         "anchor": "tip",
         "colorscale": [
          [
           0,
           "#FF97FF"
          ],
          [
           1,
           "#FF97FF"
          ]
         ],
         "hoverinfo": "skip",
         "legendgroup": "rechits_chain",
         "showscale": false,
         "sizeref": 0.1,
         "type": "cone",
         "u": [
          -0.8660446585505366
         ],
         "v": [
          0.4999666482837475
         ],
         "w": [
          0
         ],
         "x": [
          1.0158400535583496
         ],
         "y": [
          0.2068483829498291
         ],
         "z": [
          37.11750030517578
         ]
        },
        {
         "customdata": [
          [
           "0.012980226",
           "0.016654383",
           "3.4028235e+38",
           "Seed",
           "18"
          ],
          [
           "0.007348314",
           "0.013838427",
           "1.125",
           "Follower",
           "18"
          ]
         ],
         "hovertemplate": "Rechit : %{customdata[3]}<br>Layer : %{customdata[4]}<br>Energy: %{customdata[0]:.2g} GeV<br>Rho: %{customdata[1]:.2g} GeV<br>Delta: %{customdata[2]:.2g} cm",
         "legendgroup": "rechits",
         "legendgrouptitle": {
          "text": "Rechits"
         },
         "marker": {
          "color": "#636EFA",
          "size": [
           4.60106086730957,
           1.8781834840774536
          ],
          "symbol": "circle"
         },
         "mode": "markers",
         "name": "2D cluster nb 27.0",
         "type": "scatter3d",
         "x": [
          0.9946601390838623,
          0.9946601390838623
         ],
         "y": [
          1.4037282466888428,
          0.2787282466888428
         ],
         "z": [
          38.00749969482422,
          38.00749969482422
         ]
        },
        {
         "hoverinfo": "skip",
         "legendgroup": "rechits_chain",
         "line": {
          "width": 1
         },
         "marker": {
          "color": "#636EFA"
         },
         "mode": "lines",
         "name": "Rechits chain",
         "showlegend": false,
         "type": "scatter3d",
         "x": [
          0.9946601390838623,
          0.9946601390838623
         ],
         "y": [
          0.2787282466888428,
          1.4037282466888428
         ],
         "z": [
          38.00749969482422,
          38.00749969482422
         ]
        },
        {
         "anchor": "tip",
         "colorscale": [
          [
           0,
           "#636EFA"
          ],
          [
           1,
           "#636EFA"
          ]
         ],
         "hoverinfo": "skip",
         "legendgroup": "rechits_chain",
         "showscale": false,
         "sizeref": 0.1,
         "type": "cone",
         "u": [
          0
         ],
         "v": [
          1
         ],
         "w": [
          0
         ],
         "x": [
          0.9946601390838623
         ],
         "y": [
          1.4037282466888428
         ],
         "z": [
          38.00749969482422
         ]
        },
        {
         "customdata": [
          [
           "0.020780547",
           "0.053374328",
           "1.1254883",
           "Follower",
           "11"
          ],
          [
           "0.065187566",
           "0.07557784",
           "2.2502558",
           "Seed",
           "11"
          ]
         ],
         "hovertemplate": "Rechit : %{customdata[3]}<br>Layer : %{customdata[4]}<br>Energy: %{customdata[0]:.2g} GeV<br>Rho: %{customdata[1]:.2g} GeV<br>Delta: %{customdata[2]:.2g} cm",
         "legendgroup": "rechits",
         "legendgrouptitle": {
          "text": "Rechits"
         },
         "marker": {
          "color": "#FF6692",
          "size": [
           6.8531813621521,
           12.324485778808594
          ],
          "symbol": "circle"
         },
         "mode": "markers",
         "name": "2D cluster nb 13.0",
         "type": "scatter3d",
         "x": [
          6.773799896240234,
          6.773799896240234
         ],
         "y": [
          2.4449164867401123,
          1.3194282054901123
         ],
         "z": [
          28.702499389648438,
          28.702499389648438
         ]
        },
        {
         "hoverinfo": "skip",
         "legendgroup": "rechits_chain",
         "line": {
          "width": 1
         },
         "marker": {
          "color": "#FF6692"
         },
         "mode": "lines",
         "name": "Rechits chain",
         "showlegend": false,
         "type": "scatter3d",
         "x": [
          6.773799896240234,
          6.773799896240234
         ],
         "y": [
          2.4449164867401123,
          1.3194282054901123
         ],
         "z": [
          28.702499389648438,
          28.702499389648438
         ]
        },
        {
         "anchor": "tip",
         "colorscale": [
          [
           0,
           "#FF6692"
          ],
          [
           1,
           "#FF6692"
          ]
         ],
         "hoverinfo": "skip",
         "legendgroup": "rechits_chain",
         "showscale": false,
         "sizeref": 0.1,
         "type": "cone",
         "u": [
          0
         ],
         "v": [
          -1
         ],
         "w": [
          0
         ],
         "x": [
          6.773799896240234
         ],
         "y": [
          1.3194282054901123
         ],
         "z": [
          28.702499389648438
         ]
        },
        {
         "customdata": [
          [
           "0.046918146",
           "0.056642123",
           "3.4028235e+38",
           "Seed",
           "23"
          ],
          [
           "0.019447956",
           "0.04290703",
           "1.1252949",
           "Follower",
           "23"
          ]
         ],
         "hovertemplate": "Rechit : %{customdata[3]}<br>Layer : %{customdata[4]}<br>Energy: %{customdata[0]:.2g} GeV<br>Rho: %{customdata[1]:.2g} GeV<br>Delta: %{customdata[2]:.2g} cm",
         "legendgroup": "rechits",
         "legendgrouptitle": {
          "text": "Rechits"
         },
         "marker": {
          "color": "#AB63FA",
          "size": [
           10.750627517700195,
           6.536005020141602
          ],
          "symbol": "circle"
         },
         "mode": "markers",
         "name": "2D cluster nb 30.0",
         "type": "scatter3d",
         "x": [
          3.9763309955596924,
          3.0018527507781982
         ],
         "y": [
          -0.2788116931915283,
          -0.8415558338165283
         ],
         "z": [
          46.412498474121094,
          46.412498474121094
         ]
        },
        {
         "hoverinfo": "skip",
         "legendgroup": "rechits_chain",
         "line": {
          "width": 1
         },
         "marker": {
          "color": "#AB63FA"
         },
         "mode": "lines",
         "name": "Rechits chain",
         "showlegend": false,
         "type": "scatter3d",
         "x": [
          3.0018527507781982,
          3.9763309955596924
         ],
         "y": [
          -0.8415558338165283,
          -0.2788116931915283
         ],
         "z": [
          46.412498474121094,
          46.412498474121094
         ]
        },
        {
         "anchor": "tip",
         "colorscale": [
          [
           0,
           "#AB63FA"
          ],
          [
           1,
           "#AB63FA"
          ]
         ],
         "hoverinfo": "skip",
         "legendgroup": "rechits_chain",
         "showscale": false,
         "sizeref": 0.1,
         "type": "cone",
         "u": [
          0.8659758128740153
         ],
         "v": [
          0.5000858841411029
         ],
         "w": [
          0
         ],
         "x": [
          3.9763309955596924
         ],
         "y": [
          -0.2788116931915283
         ],
         "z": [
          46.412498474121094
         ]
        },
        {
         "customdata": [
          [
           "0.01622809",
           "0.034874238",
           "1.0940882",
           "Follower",
           "27"
          ],
          [
           "0.037292298",
           "0.04540634",
           "3.4028235e+38",
           "Seed",
           "27"
          ]
         ],
         "hovertemplate": "Rechit : %{customdata[3]}<br>Layer : %{customdata[4]}<br>Energy: %{customdata[0]:.2g} GeV<br>Rho: %{customdata[1]:.2g} GeV<br>Delta: %{customdata[2]:.2g} cm",
         "legendgroup": "rechits",
         "legendgrouptitle": {
          "text": "Rechits"
         },
         "marker": {
          "color": "#FFA15A",
          "size": [
           5.669794082641602,
           9.65173625946045
          ],
          "symbol": "circle"
         },
         "mode": "markers",
         "name": "2D cluster nb 31.0",
         "type": "scatter3d",
         "x": [
          3.981020927429199,
          3.052982807159424
         ],
         "y": [
          -0.34313178062438965,
          0.2363283634185791
         ],
         "z": [
          52.881500244140625,
          52.881500244140625
         ]
        },
        {
         "hoverinfo": "skip",
         "legendgroup": "rechits_chain",
         "line": {
          "width": 1
         },
         "marker": {
          "color": "#FFA15A"
         },
         "mode": "lines",
         "name": "Rechits chain",
         "showlegend": false,
         "type": "scatter3d",
         "x": [
          3.981020927429199,
          3.052982807159424
         ],
         "y": [
          -0.34313178062438965,
          0.2363283634185791
         ],
         "z": [
          52.881500244140625,
          52.881500244140625
         ]
        },
        {
         "anchor": "tip",
         "colorscale": [
          [
           0,
           "#FFA15A"
          ],
          [
           1,
           "#FFA15A"
          ]
         ],
         "hoverinfo": "skip",
         "legendgroup": "rechits_chain",
         "showscale": false,
         "sizeref": 0.1,
         "type": "cone",
         "u": [
          -0.8482297764809367
         ],
         "v": [
          0.5296284039693305
         ],
         "w": [
          0
         ],
         "x": [
          3.052982807159424
         ],
         "y": [
          0.2363283634185791
         ],
         "z": [
          52.881500244140625
         ]
        },
        {
         "customdata": [
          [
           "0.2118894",
           "0.2118894",
           "2.2504973",
           "Masked cluster seed",
           "1"
          ],
          [
           "0.015557373",
           "0.015557373",
           "1.9486005",
           "Masked cluster seed",
           "1"
          ],
          [
           "0.044947505",
           "0.044947505",
           "3.4028235e+38",
           "Masked cluster seed",
           "3"
          ],
          [
           "0.030539697",
           "0.030539697",
           "1.9488604",
           "Masked cluster seed",
           "4"
          ],
          [
           "0.01924176",
           "0.01924176",
           "3.4028235e+38",
           "Masked cluster seed",
           "5"
          ],
          [
           "0.01651058",
           "0.01651058",
           "1.9490844",
           "Masked cluster seed",
           "5"
          ],
          [
           "0.021760447",
           "0.021760447",
           "1.9489837",
           "Masked cluster seed",
           "6"
          ],
          [
           "0.026580647",
           "0.026580647",
           "3.4028235e+38",
           "Masked cluster seed",
           "6"
          ],
          [
           "0.02877243",
           "0.02877243",
           "1.9489787",
           "Masked cluster seed",
           "7"
          ],
          [
           "0.015286616",
           "0.015286616",
           "2.2506056",
           "Masked cluster seed",
           "7"
          ],
          [
           "0.022632008",
           "0.022632008",
           "3.4028235e+38",
           "Masked cluster seed",
           "8"
          ],
          [
           "0.036226917",
           "0.036226917",
           "1.9928563",
           "Masked cluster seed",
           "9"
          ],
          [
           "0.012745979",
           "0.012745979",
           "3.4028235e+38",
           "Outlier",
           "10"
          ],
          [
           "0.0073921983",
           "0.0073921983",
           "3.4028235e+38",
           "Outlier",
           "10"
          ],
          [
           "0.037956186",
           "0.037956186",
           "1.9358865",
           "Masked cluster seed",
           "11"
          ],
          [
           "0.016728435",
           "0.016728435",
           "1.9490395",
           "Masked cluster seed",
           "11"
          ],
          [
           "0.015277786",
           "0.015277786",
           "1.9487305",
           "Masked cluster seed",
           "12"
          ],
          [
           "0.10975886",
           "0.10975886",
           "3.4028235e+38",
           "Masked cluster seed",
           "15"
          ],
          [
           "0.019169679",
           "0.019169679",
           "3.4028235e+38",
           "Masked cluster seed",
           "16"
          ],
          [
           "0.021411179",
           "0.021411179",
           "2.03926",
           "Masked cluster seed",
           "17"
          ],
          [
           "0.027232872",
           "0.027232872",
           "3.4028235e+38",
           "Masked cluster seed",
           "22"
          ],
          [
           "0.014443945",
           "0.014443945",
           "3.4028235e+38",
           "Masked cluster seed",
           "22"
          ],
          [
           "0.011023067",
           "0.011023067",
           "3.4028235e+38",
           "Outlier",
           "25"
          ],
          [
           "0.050207596",
           "0.050207596",
           "3.4028235e+38",
           "Masked cluster seed",
           "25"
          ],
          [
           "0.023441032",
           "0.023441032",
           "1.9114366",
           "Masked cluster seed",
           "27"
          ],
          [
           "0.01985939",
           "0.01985939",
           "1.9488729",
           "Masked cluster seed",
           "27"
          ]
         ],
         "hovertemplate": "Rechit : %{customdata[3]}<br>Layer : %{customdata[4]}<br>Energy: %{customdata[0]:.2g} GeV<br>Rho: %{customdata[1]:.2g} GeV<br>Delta: %{customdata[2]:.2g} cm",
         "legendgroup": "rechits",
         "legendgrouptitle": {
          "text": "Rechits"
         },
         "marker": {
          "color": "#19D3F3",
          "size": [
           17.96589469909668,
           5.467794418334961,
           10.545273780822754,
           8.695740699768066,
           6.484993934631348,
           5.752384662628174,
           7.073692798614502,
           8.031269073486328,
           8.410463333129883,
           5.38377046585083,
           7.261634349822998,
           9.51302433013916,
           4.513906002044678,
           1.9066790342330933,
           9.736184120178223,
           5.815119743347168,
           5.381004333496094,
           14.817937850952148,
           6.467031955718994,
           6.996255874633789,
           8.1472806930542,
           5.112406253814697,
           3.818892002105713,
           11.074917793273926,
           7.429723262786865,
           6.636194705963135
          ],
          "symbol": "circle"
         },
         "mode": "markers",
         "name": "2D cluster nb nan",
         "type": "scatter3d",
         "x": [
          1.677445411682129,
          0.7030801773071289,
          5.630754470825195,
          2.56453275680542,
          1.659975290298462,
          1.659975290298462,
          5.7260847091674805,
          2.8026227951049805,
          1.8341155052185059,
          4.757577419281006,
          7.644489288330078,
          4.773337364196777,
          1.881385326385498,
          7.728309154510498,
          3.830350875854492,
          -0.047489166259765625,
          -1.0636203289031982,
          1.0073802471160889,
          2.8744726181030273,
          5.88815450668335,
          3.9179909229278564,
          5.9100446701049805,
          2.0273654460906982,
          5.925314903259277,
          3.981020927429199,
          2.078495502471924
         ],
         "y": [
          -2.712538957595825,
          1.2254583835601807,
          -3.8153741359710693,
          -4.4235639572143555,
          -6.1355881690979,
          2.8658766746520996,
          -1.5775058269500732,
          3.4857265949249268,
          -4.950618267059326,
          2.363346576690674,
          -2.6287190914154053,
          -4.336684226989746,
          -8.24095630645752,
          -0.36449170112609863,
          -4.8654680252075195,
          -4.869048118591309,
          -0.9553558826446533,
          -5.434258460998535,
          3.5974764823913574,
          -0.3556516170501709,
          -0.2837717533111572,
          1.926276445388794,
          -1.4040558338165283,
          -3.6545441150665283,
          1.9073565006256104,
          -1.451415777206421
         ],
         "z": [
          13.8774995803833,
          13.8774995803833,
          16.782499313354492,
          17.672500610351562,
          19.6875,
          19.6875,
          20.577499389648438,
          20.577499389648438,
          22.6924991607666,
          22.6924991607666,
          23.582500457763672,
          25.697500228881836,
          26.587499618530273,
          26.587499618530273,
          28.702499389648438,
          28.702499389648438,
          29.592500686645508,
          34.3125,
          35.20249938964844,
          37.11750030517578,
          44.037498474121094,
          44.037498474121094,
          49.68199920654297,
          49.68199920654297,
          52.881500244140625,
          52.881500244140625
         ]
        },
        {
         "hoverinfo": "skip",
         "line": {
          "color": "black",
          "width": 3
         },
         "mode": "lines",
         "name": "Impact from DWC",
         "type": "scatter3d",
         "x": [
          3.1775784492492676,
          3.1781883239746094,
          3.1795690059661865,
          3.1801788806915283,
          3.1815598011016846,
          3.1821694374084473,
          3.1836187839508057,
          3.1842286586761475,
          3.185678005218506,
          3.1862876415252686,
          3.187736988067627,
          3.1883468627929688,
          3.1896591186523438,
          3.1902689933776855,
          3.1915810108184814,
          3.1921908855438232,
          3.1935031414031982,
          3.19411301612854,
          3.195425271987915,
          3.196035146713257,
          3.1974706649780273,
          3.198245048522949,
          3.1998722553253174,
          3.2006466388702393,
          3.2021126747131348,
          3.2028019428253174,
          3.2043051719665527,
          3.205005407333374
         ],
         "y": [
          -1.0072102546691895,
          -1.007663607597351,
          -1.0086897611618042,
          -1.0091431140899658,
          -1.0101693868637085,
          -1.0106226205825806,
          -1.0116997957229614,
          -1.0121530294418335,
          -1.0132302045822144,
          -1.013683557510376,
          -1.0147607326507568,
          -1.015213966369629,
          -1.0161893367767334,
          -1.0166425704956055,
          -1.01761794090271,
          -1.018071174621582,
          -1.019046425819397,
          -1.0194997787475586,
          -1.0204750299453735,
          -1.0209283828735352,
          -1.0219953060150146,
          -1.0225708484649658,
          -1.0237804651260376,
          -1.0243560075759888,
          -1.025445580482483,
          -1.0259579420089722,
          -1.027075171470642,
          -1.0275956392288208
         ],
         "z": [
          13.8774995803833,
          14.767499923706055,
          16.782499313354492,
          17.672500610351562,
          19.6875,
          20.577499389648438,
          22.6924991607666,
          23.582500457763672,
          25.697500228881836,
          26.587499618530273,
          28.702499389648438,
          29.592500686645508,
          31.50749969482422,
          32.397499084472656,
          34.3125,
          35.20249938964844,
          37.11750030517578,
          38.00749969482422,
          39.92250061035156,
          40.8125,
          42.907501220703125,
          44.037498474121094,
          46.412498474121094,
          47.54249954223633,
          49.68199920654297,
          50.6879997253418,
          52.881500244140625,
          53.903499603271484
         ]
        }
       ],
       "layout": {
        "autosize": true,
        "scene": {
         "camera": {
          "eye": {
           "x": 0,
           "y": 0,
           "z": -2.5
          },
          "up": {
           "x": 0,
           "y": 0,
           "z": 1
          }
         }
        },
        "template": {
         "data": {
          "bar": [
           {
            "error_x": {
             "color": "#2a3f5f"
            },
            "error_y": {
             "color": "#2a3f5f"
            },
            "marker": {
             "line": {
              "color": "#E5ECF6",
              "width": 0.5
             },
             "pattern": {
              "fillmode": "overlay",
              "size": 10,
              "solidity": 0.2
             }
            },
            "type": "bar"
           }
          ],
          "barpolar": [
           {
            "marker": {
             "line": {
              "color": "#E5ECF6",
              "width": 0.5
             },
             "pattern": {
              "fillmode": "overlay",
              "size": 10,
              "solidity": 0.2
             }
            },
            "type": "barpolar"
           }
          ],
          "carpet": [
           {
            "aaxis": {
             "endlinecolor": "#2a3f5f",
             "gridcolor": "white",
             "linecolor": "white",
             "minorgridcolor": "white",
             "startlinecolor": "#2a3f5f"
            },
            "baxis": {
             "endlinecolor": "#2a3f5f",
             "gridcolor": "white",
             "linecolor": "white",
             "minorgridcolor": "white",
             "startlinecolor": "#2a3f5f"
            },
            "type": "carpet"
           }
          ],
          "choropleth": [
           {
            "colorbar": {
             "outlinewidth": 0,
             "ticks": ""
            },
            "type": "choropleth"
           }
          ],
          "contour": [
           {
            "colorbar": {
             "outlinewidth": 0,
             "ticks": ""
            },
            "colorscale": [
             [
              0,
              "#0d0887"
             ],
             [
              0.1111111111111111,
              "#46039f"
             ],
             [
              0.2222222222222222,
              "#7201a8"
             ],
             [
              0.3333333333333333,
              "#9c179e"
             ],
             [
              0.4444444444444444,
              "#bd3786"
             ],
             [
              0.5555555555555556,
              "#d8576b"
             ],
             [
              0.6666666666666666,
              "#ed7953"
             ],
             [
              0.7777777777777778,
              "#fb9f3a"
             ],
             [
              0.8888888888888888,
              "#fdca26"
             ],
             [
              1,
              "#f0f921"
             ]
            ],
            "type": "contour"
           }
          ],
          "contourcarpet": [
           {
            "colorbar": {
             "outlinewidth": 0,
             "ticks": ""
            },
            "type": "contourcarpet"
           }
          ],
          "heatmap": [
           {
            "colorbar": {
             "outlinewidth": 0,
             "ticks": ""
            },
            "colorscale": [
             [
              0,
              "#0d0887"
             ],
             [
              0.1111111111111111,
              "#46039f"
             ],
             [
              0.2222222222222222,
              "#7201a8"
             ],
             [
              0.3333333333333333,
              "#9c179e"
             ],
             [
              0.4444444444444444,
              "#bd3786"
             ],
             [
              0.5555555555555556,
              "#d8576b"
             ],
             [
              0.6666666666666666,
              "#ed7953"
             ],
             [
              0.7777777777777778,
              "#fb9f3a"
             ],
             [
              0.8888888888888888,
              "#fdca26"
             ],
             [
              1,
              "#f0f921"
             ]
            ],
            "type": "heatmap"
           }
          ],
          "heatmapgl": [
           {
            "colorbar": {
             "outlinewidth": 0,
             "ticks": ""
            },
            "colorscale": [
             [
              0,
              "#0d0887"
             ],
             [
              0.1111111111111111,
              "#46039f"
             ],
             [
              0.2222222222222222,
              "#7201a8"
             ],
             [
              0.3333333333333333,
              "#9c179e"
             ],
             [
              0.4444444444444444,
              "#bd3786"
             ],
             [
              0.5555555555555556,
              "#d8576b"
             ],
             [
              0.6666666666666666,
              "#ed7953"
             ],
             [
              0.7777777777777778,
              "#fb9f3a"
             ],
             [
              0.8888888888888888,
              "#fdca26"
             ],
             [
              1,
              "#f0f921"
             ]
            ],
            "type": "heatmapgl"
           }
          ],
          "histogram": [
           {
            "marker": {
             "pattern": {
              "fillmode": "overlay",
              "size": 10,
              "solidity": 0.2
             }
            },
            "type": "histogram"
           }
          ],
          "histogram2d": [
           {
            "colorbar": {
             "outlinewidth": 0,
             "ticks": ""
            },
            "colorscale": [
             [
              0,
              "#0d0887"
             ],
             [
              0.1111111111111111,
              "#46039f"
             ],
             [
              0.2222222222222222,
              "#7201a8"
             ],
             [
              0.3333333333333333,
              "#9c179e"
             ],
             [
              0.4444444444444444,
              "#bd3786"
             ],
             [
              0.5555555555555556,
              "#d8576b"
             ],
             [
              0.6666666666666666,
              "#ed7953"
             ],
             [
              0.7777777777777778,
              "#fb9f3a"
             ],
             [
              0.8888888888888888,
              "#fdca26"
             ],
             [
              1,
              "#f0f921"
             ]
            ],
            "type": "histogram2d"
           }
          ],
          "histogram2dcontour": [
           {
            "colorbar": {
             "outlinewidth": 0,
             "ticks": ""
            },
            "colorscale": [
             [
              0,
              "#0d0887"
             ],
             [
              0.1111111111111111,
              "#46039f"
             ],
             [
              0.2222222222222222,
              "#7201a8"
             ],
             [
              0.3333333333333333,
              "#9c179e"
             ],
             [
              0.4444444444444444,
              "#bd3786"
             ],
             [
              0.5555555555555556,
              "#d8576b"
             ],
             [
              0.6666666666666666,
              "#ed7953"
             ],
             [
              0.7777777777777778,
              "#fb9f3a"
             ],
             [
              0.8888888888888888,
              "#fdca26"
             ],
             [
              1,
              "#f0f921"
             ]
            ],
            "type": "histogram2dcontour"
           }
          ],
          "mesh3d": [
           {
            "colorbar": {
             "outlinewidth": 0,
             "ticks": ""
            },
            "type": "mesh3d"
           }
          ],
          "parcoords": [
           {
            "line": {
             "colorbar": {
              "outlinewidth": 0,
              "ticks": ""
             }
            },
            "type": "parcoords"
           }
          ],
          "pie": [
           {
            "automargin": true,
            "type": "pie"
           }
          ],
          "scatter": [
           {
            "fillpattern": {
             "fillmode": "overlay",
             "size": 10,
             "solidity": 0.2
            },
            "type": "scatter"
           }
          ],
          "scatter3d": [
           {
            "line": {
             "colorbar": {
              "outlinewidth": 0,
              "ticks": ""
             }
            },
            "marker": {
             "colorbar": {
              "outlinewidth": 0,
              "ticks": ""
             }
            },
            "type": "scatter3d"
           }
          ],
          "scattercarpet": [
           {
            "marker": {
             "colorbar": {
              "outlinewidth": 0,
              "ticks": ""
             }
            },
            "type": "scattercarpet"
           }
          ],
          "scattergeo": [
           {
            "marker": {
             "colorbar": {
              "outlinewidth": 0,
              "ticks": ""
             }
            },
            "type": "scattergeo"
           }
          ],
          "scattergl": [
           {
            "marker": {
             "colorbar": {
              "outlinewidth": 0,
              "ticks": ""
             }
            },
            "type": "scattergl"
           }
          ],
          "scattermapbox": [
           {
            "marker": {
             "colorbar": {
              "outlinewidth": 0,
              "ticks": ""
             }
            },
            "type": "scattermapbox"
           }
          ],
          "scatterpolar": [
           {
            "marker": {
             "colorbar": {
              "outlinewidth": 0,
              "ticks": ""
             }
            },
            "type": "scatterpolar"
           }
          ],
          "scatterpolargl": [
           {
            "marker": {
             "colorbar": {
              "outlinewidth": 0,
              "ticks": ""
             }
            },
            "type": "scatterpolargl"
           }
          ],
          "scatterternary": [
           {
            "marker": {
             "colorbar": {
              "outlinewidth": 0,
              "ticks": ""
             }
            },
            "type": "scatterternary"
           }
          ],
          "surface": [
           {
            "colorbar": {
             "outlinewidth": 0,
             "ticks": ""
            },
            "colorscale": [
             [
              0,
              "#0d0887"
             ],
             [
              0.1111111111111111,
              "#46039f"
             ],
             [
              0.2222222222222222,
              "#7201a8"
             ],
             [
              0.3333333333333333,
              "#9c179e"
             ],
             [
              0.4444444444444444,
              "#bd3786"
             ],
             [
              0.5555555555555556,
              "#d8576b"
             ],
             [
              0.6666666666666666,
              "#ed7953"
             ],
             [
              0.7777777777777778,
              "#fb9f3a"
             ],
             [
              0.8888888888888888,
              "#fdca26"
             ],
             [
              1,
              "#f0f921"
             ]
            ],
            "type": "surface"
           }
          ],
          "table": [
           {
            "cells": {
             "fill": {
              "color": "#EBF0F8"
             },
             "line": {
              "color": "white"
             }
            },
            "header": {
             "fill": {
              "color": "#C8D4E3"
             },
             "line": {
              "color": "white"
             }
            },
            "type": "table"
           }
          ]
         },
         "layout": {
          "annotationdefaults": {
           "arrowcolor": "#2a3f5f",
           "arrowhead": 0,
           "arrowwidth": 1
          },
          "autotypenumbers": "strict",
          "coloraxis": {
           "colorbar": {
            "outlinewidth": 0,
            "ticks": ""
           }
          },
          "colorscale": {
           "diverging": [
            [
             0,
             "#8e0152"
            ],
            [
             0.1,
             "#c51b7d"
            ],
            [
             0.2,
             "#de77ae"
            ],
            [
             0.3,
             "#f1b6da"
            ],
            [
             0.4,
             "#fde0ef"
            ],
            [
             0.5,
             "#f7f7f7"
            ],
            [
             0.6,
             "#e6f5d0"
            ],
            [
             0.7,
             "#b8e186"
            ],
            [
             0.8,
             "#7fbc41"
            ],
            [
             0.9,
             "#4d9221"
            ],
            [
             1,
             "#276419"
            ]
           ],
           "sequential": [
            [
             0,
             "#0d0887"
            ],
            [
             0.1111111111111111,
             "#46039f"
            ],
            [
             0.2222222222222222,
             "#7201a8"
            ],
            [
             0.3333333333333333,
             "#9c179e"
            ],
            [
             0.4444444444444444,
             "#bd3786"
            ],
            [
             0.5555555555555556,
             "#d8576b"
            ],
            [
             0.6666666666666666,
             "#ed7953"
            ],
            [
             0.7777777777777778,
             "#fb9f3a"
            ],
            [
             0.8888888888888888,
             "#fdca26"
            ],
            [
             1,
             "#f0f921"
            ]
           ],
           "sequentialminus": [
            [
             0,
             "#0d0887"
            ],
            [
             0.1111111111111111,
             "#46039f"
            ],
            [
             0.2222222222222222,
             "#7201a8"
            ],
            [
             0.3333333333333333,
             "#9c179e"
            ],
            [
             0.4444444444444444,
             "#bd3786"
            ],
            [
             0.5555555555555556,
             "#d8576b"
            ],
            [
             0.6666666666666666,
             "#ed7953"
            ],
            [
             0.7777777777777778,
             "#fb9f3a"
            ],
            [
             0.8888888888888888,
             "#fdca26"
            ],
            [
             1,
             "#f0f921"
            ]
           ]
          },
          "colorway": [
           "#636efa",
           "#EF553B",
           "#00cc96",
           "#ab63fa",
           "#FFA15A",
           "#19d3f3",
           "#FF6692",
           "#B6E880",
           "#FF97FF",
           "#FECB52"
          ],
          "font": {
           "color": "#2a3f5f"
          },
          "geo": {
           "bgcolor": "white",
           "lakecolor": "white",
           "landcolor": "#E5ECF6",
           "showlakes": true,
           "showland": true,
           "subunitcolor": "white"
          },
          "hoverlabel": {
           "align": "left"
          },
          "hovermode": "closest",
          "mapbox": {
           "style": "light"
          },
          "paper_bgcolor": "white",
          "plot_bgcolor": "#E5ECF6",
          "polar": {
           "angularaxis": {
            "gridcolor": "white",
            "linecolor": "white",
            "ticks": ""
           },
           "bgcolor": "#E5ECF6",
           "radialaxis": {
            "gridcolor": "white",
            "linecolor": "white",
            "ticks": ""
           }
          },
          "scene": {
           "xaxis": {
            "backgroundcolor": "#E5ECF6",
            "gridcolor": "white",
            "gridwidth": 2,
            "linecolor": "white",
            "showbackground": true,
            "ticks": "",
            "zerolinecolor": "white"
           },
           "yaxis": {
            "backgroundcolor": "#E5ECF6",
            "gridcolor": "white",
            "gridwidth": 2,
            "linecolor": "white",
            "showbackground": true,
            "ticks": "",
            "zerolinecolor": "white"
           },
           "zaxis": {
            "backgroundcolor": "#E5ECF6",
            "gridcolor": "white",
            "gridwidth": 2,
            "linecolor": "white",
            "showbackground": true,
            "ticks": "",
            "zerolinecolor": "white"
           }
          },
          "shapedefaults": {
           "line": {
            "color": "#2a3f5f"
           }
          },
          "ternary": {
           "aaxis": {
            "gridcolor": "white",
            "linecolor": "white",
            "ticks": ""
           },
           "baxis": {
            "gridcolor": "white",
            "linecolor": "white",
            "ticks": ""
           },
           "bgcolor": "#E5ECF6",
           "caxis": {
            "gridcolor": "white",
            "linecolor": "white",
            "ticks": ""
           }
          },
          "title": {
           "x": 0.05
          },
          "xaxis": {
           "automargin": true,
           "gridcolor": "white",
           "linecolor": "white",
           "ticks": "",
           "title": {
            "standoff": 15
           },
           "zerolinecolor": "white",
           "zerolinewidth": 2
          },
          "yaxis": {
           "automargin": true,
           "gridcolor": "white",
           "linecolor": "white",
           "ticks": "",
           "title": {
            "standoff": 15
           },
           "zerolinecolor": "white",
           "zerolinewidth": 2
          }
         }
        },
        "title": {
         "text": "CLUE3D visualization - ntuple 441, event 5603 - e+ 20.0 GeV"
        }
       }
      },
      "text/html": [
       "<div>                            <div id=\"5381ab9c-e32d-4291-bac9-b5e0bd61359a\" class=\"plotly-graph-div\" style=\"height:525px; width:100%;\"></div>            <script type=\"text/javascript\">                require([\"plotly\"], function(Plotly) {                    window.PLOTLYENV=window.PLOTLYENV || {};                                    if (document.getElementById(\"5381ab9c-e32d-4291-bac9-b5e0bd61359a\")) {                    Plotly.newPlot(                        \"5381ab9c-e32d-4291-bac9-b5e0bd61359a\",                        [{\"customdata\":[[17.50897789001465,21.0],[1.3948155641555786,8.0]],\"hovertemplate\":\"clus3D_energy=%{customdata[0]:.2g} GeV<br>clus3D_x=%{x}<br>clus3D_y=%{y}<br>clus3D_z=%{z}<br>clus3D_size=%{customdata[1]}<extra></extra>\",\"marker\":{\"color\":[\"#636EFA\",\"#EF553B\"],\"size\":[40.0,1.0],\"symbol\":\"cross\"},\"mode\":\"markers\",\"name\":\"3D tracksters\",\"x\":[2.542433023452759,2.428030252456665],\"y\":[-0.8549145460128784,1.5303876399993896],\"z\":[21.770231246948242,31.837209701538086],\"type\":\"scatter3d\"},{\"customdata\":[[0.3233042359352112,1.074372410774231,0.09363353252410889,\"Follower\",1,3],[0.8430483937263489,1.9239977598190308,0.2378799021244049,\"Follower\",2,7],[1.3696070909500122,2.702427864074707,0.1431376338005066,\"Follower\",3,14],[1.5426853895187378,3.127896785736084,0.5257880687713623,\"Follower\",4,9],[2.1691501140594482,3.9257984161376953,3.4028234663852886e+38,\"Seed\",5,16],[1.785914659500122,3.7563846111297607,0.19622696936130524,\"Follower\",6,11],[1.435031533241272,3.396285057067871,0.13388553261756897,\"Follower\",7,17],[1.8069535493850708,3.6715123653411865,0.1837158203125,\"Follower\",8,13],[0.030400676652789116,0.030400676652789116,2.8195550441741943,\"Follower\",8,2],[1.5289220809936523,3.150836229324341,0.3453509509563446,\"Follower\",9,22],[0.972641110420227,2.348628520965576,0.13943423330783844,\"Follower\",10,15],[0.09435369074344635,0.09435369074344635,3.2622742652893066,\"Follower\",10,5],[1.431132435798645,2.5450000762939453,0.09418991208076477,\"Follower\",11,22],[0.6778983473777771,1.673185110092163,0.1499299705028534,\"Follower\",12,15],[0.582923948764801,1.1614189147949219,0.07513228058815002,\"Follower\",14,11],[0.4608142375946045,0.7815221548080444,1.3928102254867554,\"Follower\",15,12],[0.04249715805053711,0.04249715805053711,3.025355100631714,\"Follower\",15,2],[0.15388381481170654,0.40696901082992554,1.0662901401519775,\"Follower\",17,3],[0.1888335645198822,0.3385757505893707,1.0288273096084595,\"Follower\",18,5],[0.03285429626703262,0.10862383991479874,0.8065394163131714,\"Follower\",19,2],[0.03613031283020973,0.042701173573732376,0.9880266189575195,\"Follower\",22,2]],\"hovertemplate\":\"2D cluster : %{customdata[3]}<br>Layer : %{customdata[4]}<br>Energy: %{customdata[0]:.2g} GeV<br>Rho: %{customdata[1]:.2g} GeV<br>Delta: %{customdata[2]:.2g} cm<br>Size: %{customdata[5]}\",\"legendgroup\":\"cluster2D\",\"legendgrouptitle\":{\"text\":\"2D clusters\"},\"marker\":{\"color\":[\"#AB63FA\",\"#FFA15A\",\"#19D3F3\",\"#FF6692\",\"#B6E880\",\"#FF97FF\",\"#FECB52\",\"#636EFA\",\"#EF553B\",\"#00CC96\",\"#AB63FA\",\"#FFA15A\",\"#19D3F3\",\"#FF6692\",\"#B6E880\",\"#FF97FF\",\"#FECB52\",\"#636EFA\",\"#EF553B\",\"#00CC96\",\"#AB63FA\",\"#FFA15A\",\"#19D3F3\",\"#FF6692\",\"#B6E880\",\"#FF97FF\",\"#FECB52\",\"#636EFA\",\"#EF553B\",\"#00CC96\",\"#AB63FA\",\"#FFA15A\"],\"line\":{\"color\":\"#636EFA\",\"width\":3.0},\"size\":[18.179733276367188,24.13136100769043,27.144678115844727,27.88364601135254,30.0,28.79279327392578,27.434446334838867,28.86551856994629,3.4990506172180176,27.82799530029297,25.01930046081543,10.532139778137207,27.41754913330078,22.777463912963867,21.840158462524414,20.380481719970703,5.579150199890137,13.569629669189453,14.840571403503418,3.9810378551483154,4.571273326873779],\"symbol\":\"circle\"},\"mode\":\"markers\",\"name\":\"Trackster nb 0.0\",\"x\":[2.0550458431243896,2.31685733795166,2.0277485847473145,2.0823895931243896,2.755037307739258,2.5932395458221436,2.879277229309082,2.4478070735931396,5.69551420211792,2.812366485595703,2.6625478267669678,1.2231128215789795,2.5253171920776367,2.480365514755249,2.552562713623047,3.105797052383423,-0.4411090016365051,3.6122257709503174,2.2631216049194336,2.9435126781463623,2.457756996154785],\"y\":[-0.6800972819328308,-0.809795618057251,-0.9019472002983093,-0.7696492671966553,-1.0051144361495972,-0.8940896391868591,-1.0550121068954468,-0.7818359136581421,-0.9182631969451904,-0.62716144323349,-0.7530115842819214,-3.881626844406128,-0.728320300579071,-0.8713529706001282,-0.8505581617355347,-2.1287803649902344,-2.894973039627075,-0.9692546129226685,-1.538540005683899,-1.9716379642486572,-2.8320088386535645],\"z\":[13.8774995803833,14.767499923706055,16.782499313354492,17.672500610351562,19.6875,20.577499389648438,22.6924991607666,23.582500457763672,23.582500457763672,25.697500228881836,26.587499618530273,26.587499618530273,28.702499389648438,29.592500686645508,32.397499084472656,34.3125,34.3125,37.11750030517578,38.00749969482422,39.92250061035156,44.037498474121094],\"type\":\"scatter3d\"},{\"hoverinfo\":\"skip\",\"legendgroup\":\"clus2D_chain\",\"line\":{\"width\":1.1734236008387535},\"marker\":{\"color\":\"#636EFA\"},\"mode\":\"lines\",\"name\":\"Cluster 2D chain\",\"showlegend\":true,\"x\":[2.0550458431243896,2.0823895931243896],\"y\":[-0.6800972819328308,-0.7696492671966553],\"z\":[13.8774995803833,17.672500610351562],\"type\":\"scatter3d\"},{\"anchor\":\"tip\",\"colorscale\":[[0,\"#636EFA\"],[1,\"#636EFA\"]],\"hoverinfo\":\"skip\",\"legendgroup\":\"clus2D_chain\",\"showscale\":false,\"sizeref\":0.1,\"u\":[0.007203010177593145],\"v\":[-0.02359017549820339],\"w\":[0.9996957638523559],\"x\":[2.0823895931243896],\"y\":[-0.7696492671966553],\"z\":[17.672500610351562],\"type\":\"cone\"},{\"hoverinfo\":\"skip\",\"legendgroup\":\"clus2D_chain\",\"line\":{\"width\":2.131854176921645},\"marker\":{\"color\":\"#636EFA\"},\"mode\":\"lines\",\"name\":\"Cluster 2D chain\",\"showlegend\":false,\"x\":[2.31685733795166,2.0823895931243896],\"y\":[-0.809795618057251,-0.7696492671966553],\"z\":[14.767499923706055,17.672500610351562],\"type\":\"scatter3d\"},{\"anchor\":\"tip\",\"colorscale\":[[0,\"#636EFA\"],[1,\"#636EFA\"]],\"hoverinfo\":\"skip\",\"legendgroup\":\"clus2D_chain\",\"showscale\":false,\"sizeref\":0.1,\"u\":[-0.08044252112761703],\"v\":[0.013773637306399262],\"w\":[0.9966640796727776],\"x\":[2.0823895931243896],\"y\":[-0.7696492671966553],\"z\":[17.672500610351562],\"type\":\"cone\"},{\"hoverinfo\":\"skip\",\"legendgroup\":\"clus2D_chain\",\"line\":{\"width\":2.617108996773551},\"marker\":{\"color\":\"#636EFA\"},\"mode\":\"lines\",\"name\":\"Cluster 2D chain\",\"showlegend\":false,\"x\":[2.0277485847473145,2.0823895931243896],\"y\":[-0.9019472002983093,-0.7696492671966553],\"z\":[16.782499313354492,17.672500610351562],\"type\":\"scatter3d\"},{\"anchor\":\"tip\",\"colorscale\":[[0,\"#636EFA\"],[1,\"#636EFA\"]],\"hoverinfo\":\"skip\",\"legendgroup\":\"clus2D_chain\",\"showscale\":false,\"sizeref\":0.1,\"u\":[0.06061537327641922],\"v\":[0.14676318825075008],\"w\":[0.987312687600557],\"x\":[2.0823895931243896],\"y\":[-0.7696492671966553],\"z\":[17.672500610351562],\"type\":\"cone\"},{\"hoverinfo\":\"skip\",\"legendgroup\":\"clus2D_chain\",\"line\":{\"width\":3.708349945408646},\"marker\":{\"color\":\"#636EFA\"},\"mode\":\"lines\",\"name\":\"Cluster 2D chain\",\"showlegend\":false,\"x\":[2.0823895931243896,2.5932395458221436],\"y\":[-0.7696492671966553,-0.8940896391868591],\"z\":[17.672500610351562,20.577499389648438],\"type\":\"scatter3d\"},{\"anchor\":\"tip\",\"colorscale\":[[0,\"#636EFA\"],[1,\"#636EFA\"]],\"hoverinfo\":\"skip\",\"legendgroup\":\"clus2D_chain\",\"showscale\":false,\"sizeref\":0.1,\"u\":[0.17304056590244746],\"v\":[-0.04215177524551158],\"w\":[0.9840122917910186],\"x\":[2.5932395458221436],\"y\":[-0.8940896391868591],\"z\":[20.577499389648438],\"type\":\"cone\"},{\"hoverinfo\":\"skip\",\"legendgroup\":\"clus2D_chain\",\"line\":{\"width\":5.034038102269682},\"marker\":{\"color\":\"#636EFA\"},\"mode\":\"lines\",\"name\":\"Cluster 2D chain\",\"showlegend\":false,\"x\":[2.5932395458221436,2.755037307739258],\"y\":[-0.8940896391868591,-1.0051144361495972],\"z\":[20.577499389648438,19.6875],\"type\":\"scatter3d\"},{\"anchor\":\"tip\",\"colorscale\":[[0,\"#636EFA\"],[1,\"#636EFA\"]],\"hoverinfo\":\"skip\",\"legendgroup\":\"clus2D_chain\",\"showscale\":false,\"sizeref\":0.1,\"u\":[0.1775315389449316],\"v\":[-0.12182123431312167],\"w\":[-0.9765460253107745],\"x\":[2.755037307739258],\"y\":[-1.0051144361495972],\"z\":[19.6875],\"type\":\"cone\"},{\"hoverinfo\":\"skip\",\"legendgroup\":\"clus2D_chain\",\"line\":{\"width\":2.684735315770579},\"marker\":{\"color\":\"#636EFA\"},\"mode\":\"lines\",\"name\":\"Cluster 2D chain\",\"showlegend\":false,\"x\":[2.879277229309082,2.755037307739258],\"y\":[-1.0550121068954468,-1.0051144361495972],\"z\":[22.6924991607666,19.6875],\"type\":\"scatter3d\"},{\"anchor\":\"tip\",\"colorscale\":[[0,\"#636EFA\"],[1,\"#636EFA\"]],\"hoverinfo\":\"skip\",\"legendgroup\":\"clus2D_chain\",\"showscale\":false,\"sizeref\":0.1,\"u\":[-0.04130343636130461],\"v\":[0.016588430209771632],\"w\":[-0.9990089339580118],\"x\":[2.755037307739258],\"y\":[-1.0051144361495972],\"z\":[19.6875],\"type\":\"cone\"},{\"hoverinfo\":\"skip\",\"legendgroup\":\"clus2D_chain\",\"line\":{\"width\":4.377227661733668},\"marker\":{\"color\":\"#636EFA\"},\"mode\":\"lines\",\"name\":\"Cluster 2D chain\",\"showlegend\":false,\"x\":[2.4478070735931396,2.5932395458221436],\"y\":[-0.7818359136581421,-0.8940896391868591],\"z\":[23.582500457763672,20.577499389648438],\"type\":\"scatter3d\"},{\"anchor\":\"tip\",\"colorscale\":[[0,\"#636EFA\"],[1,\"#636EFA\"]],\"hoverinfo\":\"skip\",\"legendgroup\":\"clus2D_chain\",\"showscale\":false,\"sizeref\":0.1,\"u\":[0.048306618656217756],\"v\":[-0.03728601892510516],\"w\":[-0.9981363751445588],\"x\":[2.5932395458221436],\"y\":[-0.8940896391868591],\"z\":[20.577499389648438],\"type\":\"cone\"},{\"hoverinfo\":\"skip\",\"legendgroup\":\"clus2D_chain\",\"line\":{\"width\":1},\"marker\":{\"color\":\"#636EFA\"},\"mode\":\"lines\",\"name\":\"Cluster 2D chain\",\"showlegend\":false,\"x\":[5.69551420211792,2.879277229309082],\"y\":[-0.9182631969451904,-1.0550121068954468],\"z\":[23.582500457763672,22.6924991607666],\"type\":\"scatter3d\"},{\"anchor\":\"tip\",\"colorscale\":[[0,\"#636EFA\"],[1,\"#636EFA\"]],\"hoverinfo\":\"skip\",\"legendgroup\":\"clus2D_chain\",\"showscale\":false,\"sizeref\":0.1,\"u\":[-0.9524977580888042],\"v\":[-0.04625073507887233],\"w\":[-0.3010131065924969],\"x\":[2.879277229309082],\"y\":[-1.0550121068954468],\"z\":[22.6924991607666],\"type\":\"cone\"},{\"hoverinfo\":\"skip\",\"legendgroup\":\"clus2D_chain\",\"line\":{\"width\":2.7271480578796097},\"marker\":{\"color\":\"#636EFA\"},\"mode\":\"lines\",\"name\":\"Cluster 2D chain\",\"showlegend\":false,\"x\":[2.812366485595703,2.5932395458221436],\"y\":[-0.62716144323349,-0.8940896391868591],\"z\":[25.697500228881836,20.577499389648438],\"type\":\"scatter3d\"},{\"anchor\":\"tip\",\"colorscale\":[[0,\"#636EFA\"],[1,\"#636EFA\"]],\"hoverinfo\":\"skip\",\"legendgroup\":\"clus2D_chain\",\"showscale\":false,\"sizeref\":0.1,\"u\":[-0.042701195172057387],\"v\":[-0.05201621034870732],\"w\":[-0.9977328910043194],\"x\":[2.5932395458221436],\"y\":[-0.8940896391868591],\"z\":[20.577499389648438],\"type\":\"cone\"},{\"hoverinfo\":\"skip\",\"legendgroup\":\"clus2D_chain\",\"line\":{\"width\":2.274844979667603},\"marker\":{\"color\":\"#636EFA\"},\"mode\":\"lines\",\"name\":\"Cluster 2D chain\",\"showlegend\":false,\"x\":[2.6625478267669678,2.5253171920776367],\"y\":[-0.7530115842819214,-0.728320300579071],\"z\":[26.587499618530273,28.702499389648438],\"type\":\"scatter3d\"},{\"anchor\":\"tip\",\"colorscale\":[[0,\"#636EFA\"],[1,\"#636EFA\"]],\"hoverinfo\":\"skip\",\"legendgroup\":\"clus2D_chain\",\"showscale\":false,\"sizeref\":0.1,\"u\":[-0.0647439226440655],\"v\":[0.011649079417719121],\"w\":[0.9978339157542095],\"x\":[2.5253171920776367],\"y\":[-0.728320300579071],\"z\":[28.702499389648438],\"type\":\"cone\"},{\"hoverinfo\":\"skip\",\"legendgroup\":\"clus2D_chain\",\"line\":{\"width\":1},\"marker\":{\"color\":\"#636EFA\"},\"mode\":\"lines\",\"name\":\"Cluster 2D chain\",\"showlegend\":false,\"x\":[1.2231128215789795,2.480365514755249],\"y\":[-3.881626844406128,-0.8713529706001282],\"z\":[26.587499618530273,29.592500686645508],\"type\":\"scatter3d\"},{\"anchor\":\"tip\",\"colorscale\":[[0,\"#636EFA\"],[1,\"#636EFA\"]],\"hoverinfo\":\"skip\",\"legendgroup\":\"clus2D_chain\",\"showscale\":false,\"sizeref\":0.1,\"u\":[0.2834609177711399],\"v\":[0.6786980848343265],\"w\":[0.6775092750203207],\"x\":[2.480365514755249],\"y\":[-0.8713529706001282],\"z\":[29.592500686645508],\"type\":\"cone\"},{\"hoverinfo\":\"skip\",\"legendgroup\":\"clus2D_chain\",\"line\":{\"width\":4.1198086885782965},\"marker\":{\"color\":\"#636EFA\"},\"mode\":\"lines\",\"name\":\"Cluster 2D chain\",\"showlegend\":false,\"x\":[2.5253171920776367,2.4478070735931396],\"y\":[-0.728320300579071,-0.7818359136581421],\"z\":[28.702499389648438,23.582500457763672],\"type\":\"scatter3d\"},{\"anchor\":\"tip\",\"colorscale\":[[0,\"#636EFA\"],[1,\"#636EFA\"]],\"hoverinfo\":\"skip\",\"legendgroup\":\"clus2D_chain\",\"showscale\":false,\"sizeref\":0.1,\"u\":[-0.015136137128857889],\"v\":[-0.010450502127173673],\"w\":[-0.9998308278694483],\"x\":[2.4478070735931396],\"y\":[-0.7818359136581421],\"z\":[23.582500457763672],\"type\":\"cone\"},{\"hoverinfo\":\"skip\",\"legendgroup\":\"clus2D_chain\",\"line\":{\"width\":3.1224483443382196},\"marker\":{\"color\":\"#636EFA\"},\"mode\":\"lines\",\"name\":\"Cluster 2D chain\",\"showlegend\":false,\"x\":[2.480365514755249,2.5253171920776367],\"y\":[-0.8713529706001282,-0.728320300579071],\"z\":[29.592500686645508,28.702499389648438],\"type\":\"scatter3d\"},{\"anchor\":\"tip\",\"colorscale\":[[0,\"#636EFA\"],[1,\"#636EFA\"]],\"hoverinfo\":\"skip\",\"legendgroup\":\"clus2D_chain\",\"showscale\":false,\"sizeref\":0.1,\"u\":[0.04980565797223171],\"v\":[0.15847765125275762],\"w\":[-0.9861055878998771],\"x\":[2.5253171920776367],\"y\":[-0.728320300579071],\"z\":[28.702499389648438],\"type\":\"cone\"},{\"hoverinfo\":\"skip\",\"legendgroup\":\"clus2D_chain\",\"line\":{\"width\":2.706674143328013},\"marker\":{\"color\":\"#636EFA\"},\"mode\":\"lines\",\"name\":\"Cluster 2D chain\",\"showlegend\":false,\"x\":[2.552562713623047,2.480365514755249],\"y\":[-0.8505581617355347,-0.8713529706001282],\"z\":[32.397499084472656,29.592500686645508],\"type\":\"scatter3d\"},{\"anchor\":\"tip\",\"colorscale\":[[0,\"#636EFA\"],[1,\"#636EFA\"]],\"hoverinfo\":\"skip\",\"legendgroup\":\"clus2D_chain\",\"showscale\":false,\"sizeref\":0.1,\"u\":[-0.025729538431584327],\"v\":[-0.007410825381726182],\"w\":[-0.9996414709881035],\"x\":[2.480365514755249],\"y\":[-0.8713529706001282],\"z\":[29.592500686645508],\"type\":\"cone\"},{\"hoverinfo\":\"skip\",\"legendgroup\":\"clus2D_chain\",\"line\":{\"width\":2.0296334192233543},\"marker\":{\"color\":\"#636EFA\"},\"mode\":\"lines\",\"name\":\"Cluster 2D chain\",\"showlegend\":false,\"x\":[3.105797052383423,2.552562713623047],\"y\":[-2.1287803649902344,-0.8505581617355347],\"z\":[34.3125,32.397499084472656],\"type\":\"scatter3d\"},{\"anchor\":\"tip\",\"colorscale\":[[0,\"#636EFA\"],[1,\"#636EFA\"]],\"hoverinfo\":\"skip\",\"legendgroup\":\"clus2D_chain\",\"showscale\":false,\"sizeref\":0.1,\"u\":[-0.2336351004788268],\"v\":[0.5398030309558006],\"w\":[-0.808719560537013],\"x\":[2.552562713623047],\"y\":[-0.8505581617355347],\"z\":[32.397499084472656],\"type\":\"cone\"},{\"hoverinfo\":\"skip\",\"legendgroup\":\"clus2D_chain\",\"line\":{\"width\":1},\"marker\":{\"color\":\"#636EFA\"},\"mode\":\"lines\",\"name\":\"Cluster 2D chain\",\"showlegend\":false,\"x\":[-0.4411090016365051,2.2631216049194336],\"y\":[-2.894973039627075,-1.538540005683899],\"z\":[34.3125,38.00749969482422],\"type\":\"scatter3d\"},{\"anchor\":\"tip\",\"colorscale\":[[0,\"#636EFA\"],[1,\"#636EFA\"]],\"hoverinfo\":\"skip\",\"legendgroup\":\"clus2D_chain\",\"showscale\":false,\"sizeref\":0.1,\"u\":[0.5662668021909657],\"v\":[0.28403753535481013],\"w\":[0.7737341838422177],\"x\":[2.2631216049194336],\"y\":[-1.538540005683899],\"z\":[38.00749969482422],\"type\":\"cone\"},{\"hoverinfo\":\"skip\",\"legendgroup\":\"clus2D_chain\",\"line\":{\"width\":1},\"marker\":{\"color\":\"#636EFA\"},\"mode\":\"lines\",\"name\":\"Cluster 2D chain\",\"showlegend\":false,\"x\":[3.6122257709503174,2.552562713623047],\"y\":[-0.9692546129226685,-0.8505581617355347],\"z\":[37.11750030517578,32.397499084472656],\"type\":\"scatter3d\"},{\"anchor\":\"tip\",\"colorscale\":[[0,\"#636EFA\"],[1,\"#636EFA\"]],\"hoverinfo\":\"skip\",\"legendgroup\":\"clus2D_chain\",\"showscale\":false,\"sizeref\":0.1,\"u\":[-0.21898639372000295],\"v\":[0.024529408299269452],\"w\":[-0.975419534094943],\"x\":[2.552562713623047],\"y\":[-0.8505581617355347],\"z\":[32.397499084472656],\"type\":\"cone\"},{\"hoverinfo\":\"skip\",\"legendgroup\":\"clus2D_chain\",\"line\":{\"width\":1.0996628422023242},\"marker\":{\"color\":\"#636EFA\"},\"mode\":\"lines\",\"name\":\"Cluster 2D chain\",\"showlegend\":false,\"x\":[2.2631216049194336,3.105797052383423],\"y\":[-1.538540005683899,-2.1287803649902344],\"z\":[38.00749969482422,34.3125],\"type\":\"scatter3d\"},{\"anchor\":\"tip\",\"colorscale\":[[0,\"#636EFA\"],[1,\"#636EFA\"]],\"hoverinfo\":\"skip\",\"legendgroup\":\"clus2D_chain\",\"showscale\":false,\"sizeref\":0.1,\"u\":[0.2197008510420721],\"v\":[-0.15388642169323663],\"w\":[-0.9633537799115343],\"x\":[3.105797052383423],\"y\":[-2.1287803649902344],\"z\":[34.3125],\"type\":\"cone\"},{\"hoverinfo\":\"skip\",\"legendgroup\":\"clus2D_chain\",\"line\":{\"width\":1},\"marker\":{\"color\":\"#636EFA\"},\"mode\":\"lines\",\"name\":\"Cluster 2D chain\",\"showlegend\":false,\"x\":[2.9435126781463623,2.2631216049194336],\"y\":[-1.9716379642486572,-1.538540005683899],\"z\":[39.92250061035156,38.00749969482422],\"type\":\"scatter3d\"},{\"anchor\":\"tip\",\"colorscale\":[[0,\"#636EFA\"],[1,\"#636EFA\"]],\"hoverinfo\":\"skip\",\"legendgroup\":\"clus2D_chain\",\"showscale\":false,\"sizeref\":0.1,\"u\":[-0.3274391823146327],\"v\":[0.20842901530438304],\"w\":[-0.9215969441487802],\"x\":[2.2631216049194336],\"y\":[-1.538540005683899],\"z\":[38.00749969482422],\"type\":\"cone\"},{\"hoverinfo\":\"skip\",\"legendgroup\":\"clus2D_chain\",\"line\":{\"width\":1},\"marker\":{\"color\":\"#636EFA\"},\"mode\":\"lines\",\"name\":\"Cluster 2D chain\",\"showlegend\":false,\"x\":[2.457756996154785,2.9435126781463623],\"y\":[-2.8320088386535645,-1.9716379642486572],\"z\":[44.037498474121094,39.92250061035156],\"type\":\"scatter3d\"},{\"anchor\":\"tip\",\"colorscale\":[[0,\"#636EFA\"],[1,\"#636EFA\"]],\"hoverinfo\":\"skip\",\"legendgroup\":\"clus2D_chain\",\"showscale\":false,\"sizeref\":0.1,\"u\":[0.11478293411936752],\"v\":[0.20330362990330084],\"w\":[-0.9723643926548785],\"x\":[2.9435126781463623],\"y\":[-1.9716379642486572],\"z\":[39.92250061035156],\"type\":\"cone\"},{\"customdata\":[[0.1034182533621788,0.2888927459716797,1.7170201539993286,\"Follower\",12,3],[0.9273725152015686,0.9682412147521973,2.2502763271331787,\"Seed\",13,26],[0.08137872070074081,0.08137872070074081,2.4833457469940186,\"Follower\",14,3],[0.033337850123643875,0.23085907101631165,1.6372544765472412,\"Follower\",15,2],[0.06758741289377213,0.3939441740512848,1.6817489862442017,\"Follower\",16,4],[0.06023360788822174,0.06690117716789246,0.8791689872741699,\"Follower\",17,2],[0.10115870833396912,0.27309343218803406,0.42080259323120117,\"Follower\",17,2],[0.020328540354967117,0.054077766835689545,0.638987123966217,\"Follower\",18,2]],\"hovertemplate\":\"2D cluster : %{customdata[3]}<br>Layer : %{customdata[4]}<br>Energy: %{customdata[0]:.2g} GeV<br>Rho: %{customdata[1]:.2g} GeV<br>Delta: %{customdata[2]:.2g} cm<br>Size: %{customdata[5]}\",\"legendgroup\":\"cluster2D\",\"legendgrouptitle\":{\"text\":\"2D clusters\"},\"marker\":{\"color\":[\"#AB63FA\",\"#FFA15A\",\"#19D3F3\",\"#FF6692\",\"#B6E880\",\"#FF97FF\",\"#FECB52\",\"#636EFA\",\"#EF553B\",\"#00CC96\",\"#AB63FA\",\"#FFA15A\",\"#19D3F3\",\"#FF6692\",\"#B6E880\",\"#FF97FF\",\"#FECB52\",\"#636EFA\",\"#EF553B\",\"#00CC96\",\"#AB63FA\",\"#FFA15A\",\"#19D3F3\",\"#FF6692\",\"#B6E880\",\"#FF97FF\",\"#FECB52\",\"#636EFA\",\"#EF553B\",\"#00CC96\",\"#AB63FA\",\"#FFA15A\"],\"line\":{\"color\":\"#EF553B\",\"width\":3.0},\"size\":[11.101767539978027,24.723344802856445,9.61348819732666,4.071767330169678,8.460384368896484,7.7450737953186035,10.964588165283203,1.0],\"symbol\":\"circle\"},\"mode\":\"markers\",\"name\":\"Trackster nb 1.0\",\"x\":[2.1825592517852783,2.653810501098633,-1.0342004299163818,4.287486553192139,1.3877586126327515,3.408329486846924,1.3905701637268066,0.9946601986885071],\"y\":[3.1693692207336426,1.5182846784591675,0.9600549340248108,1.6264729499816895,0.4113103449344635,1.6218982934951782,-0.009482856839895248,0.9150744080543518],\"z\":[29.592500686645508,31.50749969482422,32.397499084472656,34.3125,35.20249938964844,37.11750030517578,37.11750030517578,38.00749969482422],\"type\":\"scatter3d\"},{\"hoverinfo\":\"skip\",\"legendgroup\":\"clus2D_chain\",\"line\":{\"width\":1},\"marker\":{\"color\":\"#EF553B\"},\"mode\":\"lines\",\"name\":\"Cluster 2D chain\",\"showlegend\":false,\"x\":[2.1825592517852783,2.653810501098633],\"y\":[3.1693692207336426,1.5182846784591675],\"z\":[29.592500686645508,31.50749969482422],\"type\":\"scatter3d\"},{\"anchor\":\"tip\",\"colorscale\":[[0,\"#EF553B\"],[1,\"#EF553B\"]],\"hoverinfo\":\"skip\",\"legendgroup\":\"clus2D_chain\",\"showscale\":false,\"sizeref\":0.1,\"u\":[0.18322095644146327],\"v\":[-0.641936311982255],\"w\":[0.7445453998778693],\"x\":[2.653810501098633],\"y\":[1.5182846784591675],\"z\":[31.50749969482422],\"type\":\"cone\"},{\"hoverinfo\":\"skip\",\"legendgroup\":\"clus2D_chain\",\"line\":{\"width\":1},\"marker\":{\"color\":\"#EF553B\"},\"mode\":\"lines\",\"name\":\"Cluster 2D chain\",\"showlegend\":false,\"x\":[-1.0342004299163818,1.3877586126327515],\"y\":[0.9600549340248108,0.4113103449344635],\"z\":[32.397499084472656,35.20249938964844],\"type\":\"scatter3d\"},{\"anchor\":\"tip\",\"colorscale\":[[0,\"#EF553B\"],[1,\"#EF553B\"]],\"hoverinfo\":\"skip\",\"legendgroup\":\"clus2D_chain\",\"showscale\":false,\"sizeref\":0.1,\"u\":[0.6464874171451223],\"v\":[-0.14647500880113798],\"w\":[0.7487316550472107],\"x\":[1.3877586126327515],\"y\":[0.4113103449344635],\"z\":[35.20249938964844],\"type\":\"cone\"},{\"hoverinfo\":\"skip\",\"legendgroup\":\"clus2D_chain\",\"line\":{\"width\":1},\"marker\":{\"color\":\"#EF553B\"},\"mode\":\"lines\",\"name\":\"Cluster 2D chain\",\"showlegend\":false,\"x\":[4.287486553192139,2.653810501098633],\"y\":[1.6264729499816895,1.5182846784591675],\"z\":[34.3125,31.50749969482422],\"type\":\"scatter3d\"},{\"anchor\":\"tip\",\"colorscale\":[[0,\"#EF553B\"],[1,\"#EF553B\"]],\"hoverinfo\":\"skip\",\"legendgroup\":\"clus2D_chain\",\"showscale\":false,\"sizeref\":0.1,\"u\":[-0.5029999438954869],\"v\":[-0.03331057857905327],\"w\":[-0.8636442912425613],\"x\":[2.653810501098633],\"y\":[1.5182846784591675],\"z\":[31.50749969482422],\"type\":\"cone\"},{\"hoverinfo\":\"skip\",\"legendgroup\":\"clus2D_chain\",\"line\":{\"width\":1},\"marker\":{\"color\":\"#EF553B\"},\"mode\":\"lines\",\"name\":\"Cluster 2D chain\",\"showlegend\":false,\"x\":[1.3877586126327515,2.653810501098633],\"y\":[0.4113103449344635,1.5182846784591675],\"z\":[35.20249938964844,31.50749969482422],\"type\":\"scatter3d\"},{\"anchor\":\"tip\",\"colorscale\":[[0,\"#EF553B\"],[1,\"#EF553B\"]],\"hoverinfo\":\"skip\",\"legendgroup\":\"clus2D_chain\",\"showscale\":false,\"sizeref\":0.1,\"u\":[0.31185717659566514],\"v\":[0.27267278170975656],\"w\":[-0.9101618842384268],\"x\":[2.653810501098633],\"y\":[1.5182846784591675],\"z\":[31.50749969482422],\"type\":\"cone\"},{\"hoverinfo\":\"skip\",\"legendgroup\":\"clus2D_chain\",\"line\":{\"width\":1},\"marker\":{\"color\":\"#EF553B\"},\"mode\":\"lines\",\"name\":\"Cluster 2D chain\",\"showlegend\":false,\"x\":[3.408329486846924,4.287486553192139],\"y\":[1.6218982934951782,1.6264729499816895],\"z\":[37.11750030517578,34.3125],\"type\":\"scatter3d\"},{\"anchor\":\"tip\",\"colorscale\":[[0,\"#EF553B\"],[1,\"#EF553B\"]],\"hoverinfo\":\"skip\",\"legendgroup\":\"clus2D_chain\",\"showscale\":false,\"sizeref\":0.1,\"u\":[0.2990786099590218],\"v\":[0.0015562428551174985],\"w\":[-0.9542272073113169],\"x\":[4.287486553192139],\"y\":[1.6264729499816895],\"z\":[34.3125],\"type\":\"cone\"},{\"hoverinfo\":\"skip\",\"legendgroup\":\"clus2D_chain\",\"line\":{\"width\":1},\"marker\":{\"color\":\"#EF553B\"},\"mode\":\"lines\",\"name\":\"Cluster 2D chain\",\"showlegend\":false,\"x\":[1.3905701637268066,1.3877586126327515],\"y\":[-0.009482856839895248,0.4113103449344635],\"z\":[37.11750030517578,35.20249938964844],\"type\":\"scatter3d\"},{\"anchor\":\"tip\",\"colorscale\":[[0,\"#EF553B\"],[1,\"#EF553B\"]],\"hoverinfo\":\"skip\",\"legendgroup\":\"clus2D_chain\",\"showscale\":false,\"sizeref\":0.1,\"u\":[-0.0014339603944114804],\"v\":[0.2146149102030822],\"w\":[-0.9766976932890289],\"x\":[1.3877586126327515],\"y\":[0.4113103449344635],\"z\":[35.20249938964844],\"type\":\"cone\"},{\"hoverinfo\":\"skip\",\"legendgroup\":\"clus2D_chain\",\"line\":{\"width\":1},\"marker\":{\"color\":\"#EF553B\"},\"mode\":\"lines\",\"name\":\"Cluster 2D chain\",\"showlegend\":false,\"x\":[0.9946601986885071,1.3877586126327515],\"y\":[0.9150744080543518,0.4113103449344635],\"z\":[38.00749969482422,35.20249938964844],\"type\":\"scatter3d\"},{\"anchor\":\"tip\",\"colorscale\":[[0,\"#EF553B\"],[1,\"#EF553B\"]],\"hoverinfo\":\"skip\",\"legendgroup\":\"clus2D_chain\",\"showscale\":false,\"sizeref\":0.1,\"u\":[0.13664141723834303],\"v\":[-0.17510891190777214],\"w\":[-0.975021021345475],\"x\":[1.3877586126327515],\"y\":[0.4113103449344635],\"z\":[35.20249938964844],\"type\":\"cone\"},{\"customdata\":[[0.08596811443567276,0.08596811443567276,4.125191688537598,\"Outlier\",11,2],[0.06636610627174377,0.06636610627174377,3.4028234663852886e+38,\"Outlier\",23,2],[0.05352038890123367,0.05352038890123367,3.4028234663852886e+38,\"Outlier\",27,2]],\"hovertemplate\":\"2D cluster : %{customdata[3]}<br>Layer : %{customdata[4]}<br>Energy: %{customdata[0]:.2g} GeV<br>Rho: %{customdata[1]:.2g} GeV<br>Delta: %{customdata[2]:.2g} cm<br>Size: %{customdata[5]}\",\"legendgroup\":\"cluster2D\",\"legendgrouptitle\":{\"text\":\"2D clusters\"},\"marker\":{\"color\":[\"#AB63FA\",\"#FFA15A\",\"#19D3F3\",\"#FF6692\",\"#B6E880\",\"#FF97FF\",\"#FECB52\",\"#636EFA\",\"#EF553B\",\"#00CC96\",\"#AB63FA\",\"#FFA15A\",\"#19D3F3\",\"#FF6692\",\"#B6E880\",\"#FF97FF\",\"#FECB52\",\"#636EFA\",\"#EF553B\",\"#00CC96\",\"#AB63FA\",\"#FFA15A\",\"#19D3F3\",\"#FF6692\",\"#B6E880\",\"#FF97FF\",\"#FECB52\",\"#636EFA\",\"#EF553B\",\"#00CC96\",\"#AB63FA\",\"#FFA15A\"],\"line\":{\"color\":\"#00CC96\",\"width\":3.0},\"size\":[9.95417308807373,8.347147941589355,7.011279106140137],\"symbol\":\"circle\"},\"mode\":\"markers\",\"name\":\"Trackster nb nan\",\"x\":[6.773800373077393,3.5906336307525635,3.426060438156128],\"y\":[1.7253832817077637,-0.5015450716018677,0.0033815563656389713],\"z\":[28.702499389648438,46.412498474121094,52.881500244140625],\"type\":\"scatter3d\"},{\"customdata\":[[\"0.022203567\",\"0.06523966\",\"1.125173\",\"Follower\",\"1\"],[\"0.086072184\",\"0.2046882\",\"1.1253028\",\"Follower\",\"1\"],[\"0.21502848\",\"0.25806457\",\"3.4028235e+38\",\"Seed\",\"1\"]],\"hovertemplate\":\"Rechit : %{customdata[3]}<br>Layer : %{customdata[4]}<br>Energy: %{customdata[0]:.2g} GeV<br>Rho: %{customdata[1]:.2g} GeV<br>Delta: %{customdata[2]:.2g} cm\",\"legendgroup\":\"rechits\",\"legendgrouptitle\":{\"text\":\"Rechits\"},\"marker\":{\"color\":\"#AB63FA\",\"size\":[7.170168876647949,13.654526710510254,18.036273956298828],\"symbol\":\"circle\"},\"mode\":\"markers\",\"name\":\"2D cluster nb 0.0\",\"x\":[3.626410961151123,2.651932716369629,1.677445411682129],\"y\":[-1.5872857570648193,-1.0247857570648193,-0.46204161643981934],\"z\":[13.8774995803833,13.8774995803833,13.8774995803833],\"type\":\"scatter3d\"},{\"hoverinfo\":\"skip\",\"legendgroup\":\"rechits_chain\",\"line\":{\"width\":1},\"marker\":{\"color\":\"#AB63FA\"},\"mode\":\"lines\",\"name\":\"Rechits chain\",\"showlegend\":true,\"x\":[3.626410961151123,2.651932716369629],\"y\":[-1.5872857570648193,-1.0247857570648193],\"z\":[13.8774995803833,13.8774995803833],\"type\":\"scatter3d\"},{\"anchor\":\"tip\",\"colorscale\":[[0,\"#AB63FA\"],[1,\"#AB63FA\"]],\"hoverinfo\":\"skip\",\"legendgroup\":\"rechits_chain\",\"showscale\":false,\"sizeref\":0.1,\"u\":[-0.8660697636731018],\"v\":[0.4999231585466086],\"w\":[0.0],\"x\":[2.651932716369629],\"y\":[-1.0247857570648193],\"z\":[13.8774995803833],\"type\":\"cone\"},{\"hoverinfo\":\"skip\",\"legendgroup\":\"rechits_chain\",\"line\":{\"width\":2.382096126910649},\"marker\":{\"color\":\"#AB63FA\"},\"mode\":\"lines\",\"name\":\"Rechits chain\",\"showlegend\":false,\"x\":[2.651932716369629,1.677445411682129],\"y\":[-1.0247857570648193,-0.46204161643981934],\"z\":[13.8774995803833,13.8774995803833],\"type\":\"scatter3d\"},{\"anchor\":\"tip\",\"colorscale\":[[0,\"#AB63FA\"],[1,\"#AB63FA\"]],\"hoverinfo\":\"skip\",\"legendgroup\":\"rechits_chain\",\"showscale\":false,\"sizeref\":0.1,\"u\":[-0.8659778263291473],\"v\":[0.5000823975168945],\"w\":[0.0],\"x\":[1.677445411682129],\"y\":[-0.46204161643981934],\"z\":[13.8774995803833],\"type\":\"cone\"},{\"customdata\":[[\"0.038747344\",\"0.0455302\",\"1.1252532\",\"Follower\",\"2\"],[\"0.025081325\",\"0.27990282\",\"1.125173\",\"Follower\",\"2\"],[\"0.013565712\",\"0.29017663\",\"1.125173\",\"Follower\",\"2\"],[\"0.006684092\",\"0.39367518\",\"1.1251807\",\"Follower\",\"2\"],[\"0.48939317\",\"0.64181256\",\"3.4028235e+38\",\"Seed\",\"2\"],[\"0.25950763\",\"0.51258075\",\"1.1253028\",\"Follower\",\"2\"],[\"0.0100690555\",\"0.13982287\",\"1.1251972\",\"Follower\",\"2\"]],\"hovertemplate\":\"Rechit : %{customdata[3]}<br>Layer : %{customdata[4]}<br>Energy: %{customdata[0]:.2g} GeV<br>Rho: %{customdata[1]:.2g} GeV<br>Delta: %{customdata[2]:.2g} cm\",\"legendgroup\":\"rechits\",\"legendgrouptitle\":{\"text\":\"Rechits\"},\"marker\":{\"color\":\"#FFA15A\",\"size\":[9.834912300109863,7.753409385681152,4.812197685241699,1.4247783422470093,21.9720458984375,18.936067581176758,3.385671377182007],\"symbol\":\"circle\"},\"mode\":\"markers\",\"name\":\"2D cluster nb 1.0\",\"x\":[3.7027809619903564,3.7027809619903564,3.7027809619903564,2.7283027172088623,2.7283027172088623,1.7538154125213623,0.7794501781463623],\"y\":[-2.7351491451263428,-0.4846518039703369,-1.609895944595337,0.07784819602966309,-1.047395944595337,-0.4846518039703369,-1.047395944595337],\"z\":[14.767499923706055,14.767499923706055,14.767499923706055,14.767499923706055,14.767499923706055,14.767499923706055,14.767499923706055],\"type\":\"scatter3d\"},{\"hoverinfo\":\"skip\",\"legendgroup\":\"rechits_chain\",\"line\":{\"width\":1.3544771228059285},\"marker\":{\"color\":\"#FFA15A\"},\"mode\":\"lines\",\"name\":\"Rechits chain\",\"showlegend\":false,\"x\":[3.7027809619903564,3.7027809619903564],\"y\":[-2.7351491451263428,-1.609895944595337],\"z\":[14.767499923706055,14.767499923706055],\"type\":\"scatter3d\"},{\"anchor\":\"tip\",\"colorscale\":[[0,\"#FFA15A\"],[1,\"#FFA15A\"]],\"hoverinfo\":\"skip\",\"legendgroup\":\"rechits_chain\",\"showscale\":false,\"sizeref\":0.1,\"u\":[0.0],\"v\":[1.0],\"w\":[0.0],\"x\":[3.7027809619903564],\"y\":[-1.609895944595337],\"z\":[14.767499923706055],\"type\":\"cone\"},{\"hoverinfo\":\"skip\",\"legendgroup\":\"rechits_chain\",\"line\":{\"width\":1},\"marker\":{\"color\":\"#FFA15A\"},\"mode\":\"lines\",\"name\":\"Rechits chain\",\"showlegend\":false,\"x\":[3.7027809619903564,2.7283027172088623],\"y\":[-0.4846518039703369,0.07784819602966309],\"z\":[14.767499923706055,14.767499923706055],\"type\":\"scatter3d\"},{\"anchor\":\"tip\",\"colorscale\":[[0,\"#FFA15A\"],[1,\"#FFA15A\"]],\"hoverinfo\":\"skip\",\"legendgroup\":\"rechits_chain\",\"showscale\":false,\"sizeref\":0.1,\"u\":[-0.8660697636731018],\"v\":[0.4999231585466086],\"w\":[0.0],\"x\":[2.7283027172088623],\"y\":[0.07784819602966309],\"z\":[14.767499923706055],\"type\":\"cone\"},{\"hoverinfo\":\"skip\",\"legendgroup\":\"rechits_chain\",\"line\":{\"width\":1.6546608806350862},\"marker\":{\"color\":\"#FFA15A\"},\"mode\":\"lines\",\"name\":\"Rechits chain\",\"showlegend\":false,\"x\":[3.7027809619903564,2.7283027172088623],\"y\":[-1.609895944595337,-1.047395944595337],\"z\":[14.767499923706055,14.767499923706055],\"type\":\"scatter3d\"},{\"anchor\":\"tip\",\"colorscale\":[[0,\"#FFA15A\"],[1,\"#FFA15A\"]],\"hoverinfo\":\"skip\",\"legendgroup\":\"rechits_chain\",\"showscale\":false,\"sizeref\":0.1,\"u\":[-0.8660697636731018],\"v\":[0.4999231585466086],\"w\":[0.0],\"x\":[2.7283027172088623],\"y\":[-1.047395944595337],\"z\":[14.767499923706055],\"type\":\"cone\"},{\"hoverinfo\":\"skip\",\"legendgroup\":\"rechits_chain\",\"line\":{\"width\":1.1557930954602262},\"marker\":{\"color\":\"#FFA15A\"},\"mode\":\"lines\",\"name\":\"Rechits chain\",\"showlegend\":false,\"x\":[2.7283027172088623,1.7538154125213623],\"y\":[0.07784819602966309,-0.4846518039703369],\"z\":[14.767499923706055,14.767499923706055],\"type\":\"scatter3d\"},{\"anchor\":\"tip\",\"colorscale\":[[0,\"#FFA15A\"],[1,\"#FFA15A\"]],\"hoverinfo\":\"skip\",\"legendgroup\":\"rechits_chain\",\"showscale\":false,\"sizeref\":0.1,\"u\":[-0.866071776036405],\"v\":[-0.499919672300608],\"w\":[0.0],\"x\":[1.7538154125213623],\"y\":[-0.4846518039703369],\"z\":[14.767499923706055],\"type\":\"cone\"},{\"hoverinfo\":\"skip\",\"legendgroup\":\"rechits_chain\",\"line\":{\"width\":3.4056610678213923},\"marker\":{\"color\":\"#FFA15A\"},\"mode\":\"lines\",\"name\":\"Rechits chain\",\"showlegend\":false,\"x\":[1.7538154125213623,2.7283027172088623],\"y\":[-0.4846518039703369,-1.047395944595337],\"z\":[14.767499923706055,14.767499923706055],\"type\":\"scatter3d\"},{\"anchor\":\"tip\",\"colorscale\":[[0,\"#FFA15A\"],[1,\"#FFA15A\"]],\"hoverinfo\":\"skip\",\"legendgroup\":\"rechits_chain\",\"showscale\":false,\"sizeref\":0.1,\"u\":[0.8659778263291473],\"v\":[-0.5000823975168945],\"w\":[0.0],\"x\":[2.7283027172088623],\"y\":[-1.047395944595337],\"z\":[14.767499923706055],\"type\":\"cone\"},{\"hoverinfo\":\"skip\",\"legendgroup\":\"rechits_chain\",\"line\":{\"width\":1},\"marker\":{\"color\":\"#FFA15A\"},\"mode\":\"lines\",\"name\":\"Rechits chain\",\"showlegend\":false,\"x\":[0.7794501781463623,1.7538154125213623],\"y\":[-1.047395944595337,-0.4846518039703369],\"z\":[14.767499923706055,14.767499923706055],\"type\":\"scatter3d\"},{\"anchor\":\"tip\",\"colorscale\":[[0,\"#FFA15A\"],[1,\"#FFA15A\"]],\"hoverinfo\":\"skip\",\"legendgroup\":\"rechits_chain\",\"showscale\":false,\"sizeref\":0.1,\"u\":[0.8659506941311695],\"v\":[0.500129378594925],\"w\":[0.0],\"x\":[1.7538154125213623],\"y\":[-0.4846518039703369],\"z\":[14.767499923706055],\"type\":\"cone\"},{\"customdata\":[[\"0.023972478\",\"0.21739922\",\"1.125173\",\"Follower\",\"3\"],[\"0.01185241\",\"0.07617654\",\"1.125\",\"Follower\",\"3\"],[\"0.027280372\",\"0.4658804\",\"1.1251807\",\"Follower\",\"3\"],[\"0.3372103\",\"0.6997543\",\"1.1253028\",\"Follower\",\"3\"],[\"0.04964319\",\"0.32894582\",\"1.1251221\",\"Follower\",\"3\"],[\"0.42676947\",\"0.8342759\",\"3.4028235e+38\",\"Seed\",\"3\"],[\"0.19742246\",\"0.6599231\",\"1.1251807\",\"Follower\",\"3\"],[\"0.06197782\",\"0.37823159\",\"1.125075\",\"Follower\",\"3\"],[\"0.089754164\",\"0.45095912\",\"1.125075\",\"Follower\",\"3\"],[\"0.021624122\",\"0.16521242\",\"1.1251221\",\"Follower\",\"3\"],[\"0.01461602\",\"0.09048201\",\"1.1252865\",\"Follower\",\"3\"],[\"0.006116382\",\"0.006116382\",\"1.9489744\",\"Follower\",\"3\"],[\"0.025775226\",\"0.3275116\",\"0.0\",\"Follower\",\"3\"],[\"0.07559267\",\"0.35242033\",\"1.125\",\"Follower\",\"3\"]],\"hovertemplate\":\"Rechit : %{customdata[3]}<br>Layer : %{customdata[4]}<br>Energy: %{customdata[0]:.2g} GeV<br>Rho: %{customdata[1]:.2g} GeV<br>Delta: %{customdata[2]:.2g} cm\",\"legendgroup\":\"rechits\",\"legendgrouptitle\":{\"text\":\"Rechits\"},\"marker\":{\"color\":\"#19D3F3\",\"size\":[7.537012100219727,4.166055679321289,8.155621528625488,20.189552307128906,11.020813941955566,21.3167724609375,17.62745475769043,12.082843780517578,13.854992866516113,7.043617248535156,5.1690850257873535,1.0,7.884013652801514,13.033208847045898],\"symbol\":\"circle\"},\"mode\":\"markers\",\"name\":\"2D cluster nb 2.0\",\"x\":[3.6817710399627686,2.7072927951812744,2.7072927951812744,2.7072927951812744,2.7072927951812744,1.7328054904937744,1.7328054904937744,0.7584402561187744,0.7584402561187744,0.7584402561187744,-0.21616911888122559,4.656267166137695,1.7328054904937744,1.7328054904937744],\"y\":[-1.5648858547210693,1.2478582859039307,0.12285828590393066,-1.0023858547210693,-2.1275079250335693,-0.43964171409606934,-1.5648858547210693,0.12285828590393066,-1.0023858547210693,-2.1275079250335693,-0.43964171409606934,1.2478582859039307,0.6853582859039307,0.6853582859039307],\"z\":[16.782499313354492,16.782499313354492,16.782499313354492,16.782499313354492,16.782499313354492,16.782499313354492,16.782499313354492,16.782499313354492,16.782499313354492,16.782499313354492,16.782499313354492,16.782499313354492,16.782499313354492,16.782499313354492],\"type\":\"scatter3d\"},{\"hoverinfo\":\"skip\",\"legendgroup\":\"rechits_chain\",\"line\":{\"width\":1},\"marker\":{\"color\":\"#19D3F3\"},\"mode\":\"lines\",\"name\":\"Rechits chain\",\"showlegend\":false,\"x\":[3.6817710399627686,2.7072927951812744],\"y\":[-1.5648858547210693,-1.0023858547210693],\"z\":[16.782499313354492,16.782499313354492],\"type\":\"scatter3d\"},{\"anchor\":\"tip\",\"colorscale\":[[0,\"#19D3F3\"],[1,\"#19D3F3\"]],\"hoverinfo\":\"skip\",\"legendgroup\":\"rechits_chain\",\"showscale\":false,\"sizeref\":0.1,\"u\":[-0.8660697636731018],\"v\":[0.4999231585466086],\"w\":[0.0],\"x\":[2.7072927951812744],\"y\":[-1.0023858547210693],\"z\":[16.782499313354492],\"type\":\"cone\"},{\"hoverinfo\":\"skip\",\"legendgroup\":\"rechits_chain\",\"line\":{\"width\":1},\"marker\":{\"color\":\"#19D3F3\"},\"mode\":\"lines\",\"name\":\"Rechits chain\",\"showlegend\":false,\"x\":[2.7072927951812744,2.7072927951812744],\"y\":[1.2478582859039307,0.12285828590393066],\"z\":[16.782499313354492,16.782499313354492],\"type\":\"scatter3d\"},{\"anchor\":\"tip\",\"colorscale\":[[0,\"#19D3F3\"],[1,\"#19D3F3\"]],\"hoverinfo\":\"skip\",\"legendgroup\":\"rechits_chain\",\"showscale\":false,\"sizeref\":0.1,\"u\":[0.0],\"v\":[-1.0],\"w\":[0.0],\"x\":[2.7072927951812744],\"y\":[0.12285828590393066],\"z\":[16.782499313354492],\"type\":\"cone\"},{\"hoverinfo\":\"skip\",\"legendgroup\":\"rechits_chain\",\"line\":{\"width\":1.5095990835695936},\"marker\":{\"color\":\"#19D3F3\"},\"mode\":\"lines\",\"name\":\"Rechits chain\",\"showlegend\":false,\"x\":[2.7072927951812744,1.7328054904937744],\"y\":[0.12285828590393066,-0.43964171409606934],\"z\":[16.782499313354492,16.782499313354492],\"type\":\"scatter3d\"},{\"anchor\":\"tip\",\"colorscale\":[[0,\"#19D3F3\"],[1,\"#19D3F3\"]],\"hoverinfo\":\"skip\",\"legendgroup\":\"rechits_chain\",\"showscale\":false,\"sizeref\":0.1,\"u\":[-0.866071776036405],\"v\":[-0.499919672300608],\"w\":[0.0],\"x\":[1.7328054904937744],\"y\":[-0.43964171409606934],\"z\":[16.782499313354492],\"type\":\"cone\"},{\"hoverinfo\":\"skip\",\"legendgroup\":\"rechits_chain\",\"line\":{\"width\":4.276147525984987},\"marker\":{\"color\":\"#19D3F3\"},\"mode\":\"lines\",\"name\":\"Rechits chain\",\"showlegend\":false,\"x\":[2.7072927951812744,1.7328054904937744],\"y\":[-1.0023858547210693,-0.43964171409606934],\"z\":[16.782499313354492,16.782499313354492],\"type\":\"scatter3d\"},{\"anchor\":\"tip\",\"colorscale\":[[0,\"#19D3F3\"],[1,\"#19D3F3\"]],\"hoverinfo\":\"skip\",\"legendgroup\":\"rechits_chain\",\"showscale\":false,\"sizeref\":0.1,\"u\":[-0.8659778263291473],\"v\":[0.5000823975168945],\"w\":[0.0],\"x\":[1.7328054904937744],\"y\":[-0.43964171409606934],\"z\":[16.782499313354492],\"type\":\"cone\"},{\"hoverinfo\":\"skip\",\"legendgroup\":\"rechits_chain\",\"line\":{\"width\":1.6022761020838805},\"marker\":{\"color\":\"#19D3F3\"},\"mode\":\"lines\",\"name\":\"Rechits chain\",\"showlegend\":false,\"x\":[2.7072927951812744,2.7072927951812744],\"y\":[-2.1275079250335693,-1.0023858547210693],\"z\":[16.782499313354492,16.782499313354492],\"type\":\"scatter3d\"},{\"anchor\":\"tip\",\"colorscale\":[[0,\"#19D3F3\"],[1,\"#19D3F3\"]],\"hoverinfo\":\"skip\",\"legendgroup\":\"rechits_chain\",\"showscale\":false,\"sizeref\":0.1,\"u\":[0.0],\"v\":[1.0],\"w\":[0.0],\"x\":[2.7072927951812744],\"y\":[-1.0023858547210693],\"z\":[16.782499313354492],\"type\":\"cone\"},{\"hoverinfo\":\"skip\",\"legendgroup\":\"rechits_chain\",\"line\":{\"width\":3.43011114016478},\"marker\":{\"color\":\"#19D3F3\"},\"mode\":\"lines\",\"name\":\"Rechits chain\",\"showlegend\":false,\"x\":[1.7328054904937744,2.7072927951812744],\"y\":[-1.5648858547210693,-1.0023858547210693],\"z\":[16.782499313354492,16.782499313354492],\"type\":\"scatter3d\"},{\"anchor\":\"tip\",\"colorscale\":[[0,\"#19D3F3\"],[1,\"#19D3F3\"]],\"hoverinfo\":\"skip\",\"legendgroup\":\"rechits_chain\",\"showscale\":false,\"sizeref\":0.1,\"u\":[0.866071776036405],\"v\":[0.499919672300608],\"w\":[0.0],\"x\":[2.7072927951812744],\"y\":[-1.0023858547210693],\"z\":[16.782499313354492],\"type\":\"cone\"},{\"hoverinfo\":\"skip\",\"legendgroup\":\"rechits_chain\",\"line\":{\"width\":2.0359315449052},\"marker\":{\"color\":\"#19D3F3\"},\"mode\":\"lines\",\"name\":\"Rechits chain\",\"showlegend\":false,\"x\":[0.7584402561187744,1.7328054904937744],\"y\":[0.12285828590393066,-0.43964171409606934],\"z\":[16.782499313354492,16.782499313354492],\"type\":\"scatter3d\"},{\"anchor\":\"tip\",\"colorscale\":[[0,\"#19D3F3\"],[1,\"#19D3F3\"]],\"hoverinfo\":\"skip\",\"legendgroup\":\"rechits_chain\",\"showscale\":false,\"sizeref\":0.1,\"u\":[0.8660446585505366],\"v\":[-0.4999666482837475],\"w\":[0.0],\"x\":[1.7328054904937744],\"y\":[-0.43964171409606934],\"z\":[16.782499313354492],\"type\":\"cone\"},{\"hoverinfo\":\"skip\",\"legendgroup\":\"rechits_chain\",\"line\":{\"width\":2.410347296593954},\"marker\":{\"color\":\"#19D3F3\"},\"mode\":\"lines\",\"name\":\"Rechits chain\",\"showlegend\":false,\"x\":[0.7584402561187744,1.7328054904937744],\"y\":[-1.0023858547210693,-1.5648858547210693],\"z\":[16.782499313354492,16.782499313354492],\"type\":\"scatter3d\"},{\"anchor\":\"tip\",\"colorscale\":[[0,\"#19D3F3\"],[1,\"#19D3F3\"]],\"hoverinfo\":\"skip\",\"legendgroup\":\"rechits_chain\",\"showscale\":false,\"sizeref\":0.1,\"u\":[0.8660446585505366],\"v\":[-0.4999666482837475],\"w\":[0.0],\"x\":[1.7328054904937744],\"y\":[-1.5648858547210693],\"z\":[16.782499313354492],\"type\":\"cone\"},{\"hoverinfo\":\"skip\",\"legendgroup\":\"rechits_chain\",\"line\":{\"width\":1},\"marker\":{\"color\":\"#19D3F3\"},\"mode\":\"lines\",\"name\":\"Rechits chain\",\"showlegend\":false,\"x\":[0.7584402561187744,0.7584402561187744],\"y\":[-2.1275079250335693,-1.0023858547210693],\"z\":[16.782499313354492,16.782499313354492],\"type\":\"scatter3d\"},{\"anchor\":\"tip\",\"colorscale\":[[0,\"#19D3F3\"],[1,\"#19D3F3\"]],\"hoverinfo\":\"skip\",\"legendgroup\":\"rechits_chain\",\"showscale\":false,\"sizeref\":0.1,\"u\":[0.0],\"v\":[1.0],\"w\":[0.0],\"x\":[0.7584402561187744],\"y\":[-1.0023858547210693],\"z\":[16.782499313354492],\"type\":\"cone\"},{\"hoverinfo\":\"skip\",\"legendgroup\":\"rechits_chain\",\"line\":{\"width\":1},\"marker\":{\"color\":\"#19D3F3\"},\"mode\":\"lines\",\"name\":\"Rechits chain\",\"showlegend\":false,\"x\":[-0.21616911888122559,0.7584402561187744],\"y\":[-0.43964171409606934,0.12285828590393066],\"z\":[16.782499313354492,16.782499313354492],\"type\":\"scatter3d\"},{\"anchor\":\"tip\",\"colorscale\":[[0,\"#19D3F3\"],[1,\"#19D3F3\"]],\"hoverinfo\":\"skip\",\"legendgroup\":\"rechits_chain\",\"showscale\":false,\"sizeref\":0.1,\"u\":[0.8660988858794976],\"v\":[0.4998727036739385],\"w\":[0.0],\"x\":[0.7584402561187744],\"y\":[0.12285828590393066],\"z\":[16.782499313354492],\"type\":\"cone\"},{\"hoverinfo\":\"skip\",\"legendgroup\":\"rechits_chain\",\"line\":{\"width\":1},\"marker\":{\"color\":\"#19D3F3\"},\"mode\":\"lines\",\"name\":\"Rechits chain\",\"showlegend\":false,\"x\":[4.656267166137695,2.7072927951812744],\"y\":[1.2478582859039307,1.2478582859039307],\"z\":[16.782499313354492,16.782499313354492],\"type\":\"scatter3d\"},{\"anchor\":\"tip\",\"colorscale\":[[0,\"#19D3F3\"],[1,\"#19D3F3\"]],\"hoverinfo\":\"skip\",\"legendgroup\":\"rechits_chain\",\"showscale\":false,\"sizeref\":0.1,\"u\":[-0.9999999999999999],\"v\":[0.0],\"w\":[0.0],\"x\":[2.7072927951812744],\"y\":[1.2478582859039307],\"z\":[16.782499313354492],\"type\":\"cone\"},{\"hoverinfo\":\"skip\",\"legendgroup\":\"rechits_chain\",\"line\":{\"width\":2.316171307957426},\"marker\":{\"color\":\"#19D3F3\"},\"mode\":\"lines\",\"name\":\"Rechits chain\",\"showlegend\":false,\"x\":[1.7328054904937744,1.7328054904937744],\"y\":[0.6853582859039307,-0.43964171409606934],\"z\":[16.782499313354492,16.782499313354492],\"type\":\"scatter3d\"},{\"anchor\":\"tip\",\"colorscale\":[[0,\"#19D3F3\"],[1,\"#19D3F3\"]],\"hoverinfo\":\"skip\",\"legendgroup\":\"rechits_chain\",\"showscale\":false,\"sizeref\":0.1,\"u\":[0.0],\"v\":[-1.0],\"w\":[0.0],\"x\":[1.7328054904937744],\"y\":[-0.43964171409606934],\"z\":[16.782499313354492],\"type\":\"cone\"},{\"customdata\":[[\"0.024220334\",\"0.07011085\",\"1.1252385\",\"Follower\",\"4\"],[\"0.06735171\",\"0.40234134\",\"1.125173\",\"Follower\",\"4\"],[\"0.05471824\",\"0.68177754\",\"1.1251807\",\"Follower\",\"4\"],[\"0.6213296\",\"0.9926914\",\"1.1253028\",\"Follower\",\"4\"],[\"0.024429321\",\"0.38088015\",\"1.1251221\",\"Follower\",\"4\"],[\"0.036564764\",\"0.39472538\",\"1.125\",\"Follower\",\"4\"],[\"0.5962243\",\"1.0114541\",\"3.4028235e+38\",\"Seed\",\"4\"],[\"0.06537864\",\"0.40800738\",\"1.125075\",\"Follower\",\"4\"],[\"0.052468404\",\"0.3832699\",\"1.1251972\",\"Follower\",\"4\"]],\"hovertemplate\":\"Rechit : %{customdata[3]}<br>Layer : %{customdata[4]}<br>Energy: %{customdata[0]:.2g} GeV<br>Rho: %{customdata[1]:.2g} GeV<br>Delta: %{customdata[2]:.2g} cm\",\"legendgroup\":\"rechits\",\"legendgrouptitle\":{\"text\":\"Rechits\"},\"marker\":{\"color\":\"#FF6692\",\"size\":[7.586238861083984,12.480785369873047,11.486639022827148,23.114381790161133,7.627355098724365,9.557448387145996,22.916994094848633,12.338493347167969,11.285704612731934],\"symbol\":\"circle\"},\"mode\":\"markers\",\"name\":\"2D cluster nb 3.0\",\"x\":[3.539011001586914,3.539011001586914,2.56453275680542,2.56453275680542,2.56453275680542,1.59004545211792,1.59004545211792,0.6156802177429199,0.6156802177429199],\"y\":[-2.7358291149139404,-1.6105759143829346,0.07716822624206543,-1.0480759143829346,-2.1731979846954346,0.6396682262420654,-0.48533177375793457,0.07716822624206543,-1.0480759143829346],\"z\":[17.672500610351562,17.672500610351562,17.672500610351562,17.672500610351562,17.672500610351562,17.672500610351562,17.672500610351562,17.672500610351562,17.672500610351562],\"type\":\"scatter3d\"},{\"hoverinfo\":\"skip\",\"legendgroup\":\"rechits_chain\",\"line\":{\"width\":1.7003754808758382},\"marker\":{\"color\":\"#FF6692\"},\"mode\":\"lines\",\"name\":\"Rechits chain\",\"showlegend\":false,\"x\":[3.539011001586914,2.56453275680542],\"y\":[-2.7358291149139404,-2.1731979846954346],\"z\":[17.672500610351562,17.672500610351562],\"type\":\"scatter3d\"},{\"anchor\":\"tip\",\"colorscale\":[[0,\"#FF6692\"],[1,\"#FF6692\"]],\"hoverinfo\":\"skip\",\"legendgroup\":\"rechits_chain\",\"showscale\":false,\"sizeref\":0.1,\"u\":[-0.8660193030850141],\"v\":[0.5000105665724939],\"w\":[0.0],\"x\":[2.56453275680542],\"y\":[-2.1731979846954346],\"z\":[17.672500610351562],\"type\":\"cone\"},{\"hoverinfo\":\"skip\",\"legendgroup\":\"rechits_chain\",\"line\":{\"width\":1.9073431447456703},\"marker\":{\"color\":\"#FF6692\"},\"mode\":\"lines\",\"name\":\"Rechits chain\",\"showlegend\":false,\"x\":[3.539011001586914,2.56453275680542],\"y\":[-1.6105759143829346,-1.0480759143829346],\"z\":[17.672500610351562,17.672500610351562],\"type\":\"scatter3d\"},{\"anchor\":\"tip\",\"colorscale\":[[0,\"#FF6692\"],[1,\"#FF6692\"]],\"hoverinfo\":\"skip\",\"legendgroup\":\"rechits_chain\",\"showscale\":false,\"sizeref\":0.1,\"u\":[-0.8660697636731018],\"v\":[0.4999231585466086],\"w\":[0.0],\"x\":[2.56453275680542],\"y\":[-1.0480759143829346],\"z\":[17.672500610351562],\"type\":\"cone\"},{\"hoverinfo\":\"skip\",\"legendgroup\":\"rechits_chain\",\"line\":{\"width\":1.6996120360818252},\"marker\":{\"color\":\"#FF6692\"},\"mode\":\"lines\",\"name\":\"Rechits chain\",\"showlegend\":false,\"x\":[2.56453275680542,1.59004545211792],\"y\":[0.07716822624206543,-0.48533177375793457],\"z\":[17.672500610351562,17.672500610351562],\"type\":\"scatter3d\"},{\"anchor\":\"tip\",\"colorscale\":[[0,\"#FF6692\"],[1,\"#FF6692\"]],\"hoverinfo\":\"skip\",\"legendgroup\":\"rechits_chain\",\"showscale\":false,\"sizeref\":0.1,\"u\":[-0.866071776036405],\"v\":[-0.499919672300608],\"w\":[0.0],\"x\":[1.59004545211792],\"y\":[-0.48533177375793457],\"z\":[17.672500610351562],\"type\":\"cone\"},{\"hoverinfo\":\"skip\",\"legendgroup\":\"rechits_chain\",\"line\":{\"width\":4.341036220498601},\"marker\":{\"color\":\"#FF6692\"},\"mode\":\"lines\",\"name\":\"Rechits chain\",\"showlegend\":false,\"x\":[2.56453275680542,1.59004545211792],\"y\":[-1.0480759143829346,-0.48533177375793457],\"z\":[17.672500610351562,17.672500610351562],\"type\":\"scatter3d\"},{\"anchor\":\"tip\",\"colorscale\":[[0,\"#FF6692\"],[1,\"#FF6692\"]],\"hoverinfo\":\"skip\",\"legendgroup\":\"rechits_chain\",\"showscale\":false,\"sizeref\":0.1,\"u\":[-0.8659778263291473],\"v\":[0.5000823975168945],\"w\":[0.0],\"x\":[1.59004545211792],\"y\":[-0.48533177375793457],\"z\":[17.672500610351562],\"type\":\"cone\"},{\"hoverinfo\":\"skip\",\"legendgroup\":\"rechits_chain\",\"line\":{\"width\":2.069256761071538},\"marker\":{\"color\":\"#FF6692\"},\"mode\":\"lines\",\"name\":\"Rechits chain\",\"showlegend\":false,\"x\":[2.56453275680542,2.56453275680542],\"y\":[-2.1731979846954346,-1.0480759143829346],\"z\":[17.672500610351562,17.672500610351562],\"type\":\"scatter3d\"},{\"anchor\":\"tip\",\"colorscale\":[[0,\"#FF6692\"],[1,\"#FF6692\"]],\"hoverinfo\":\"skip\",\"legendgroup\":\"rechits_chain\",\"showscale\":false,\"sizeref\":0.1,\"u\":[0.0],\"v\":[1.0],\"w\":[0.0],\"x\":[2.56453275680542],\"y\":[-1.0480759143829346],\"z\":[17.672500610351562],\"type\":\"cone\"},{\"hoverinfo\":\"skip\",\"legendgroup\":\"rechits_chain\",\"line\":{\"width\":1.2964999414770706},\"marker\":{\"color\":\"#FF6692\"},\"mode\":\"lines\",\"name\":\"Rechits chain\",\"showlegend\":false,\"x\":[1.59004545211792,1.59004545211792],\"y\":[0.6396682262420654,-0.48533177375793457],\"z\":[17.672500610351562,17.672500610351562],\"type\":\"scatter3d\"},{\"anchor\":\"tip\",\"colorscale\":[[0,\"#FF6692\"],[1,\"#FF6692\"]],\"hoverinfo\":\"skip\",\"legendgroup\":\"rechits_chain\",\"showscale\":false,\"sizeref\":0.1,\"u\":[0.0],\"v\":[-1.0],\"w\":[0.0],\"x\":[1.59004545211792],\"y\":[-0.48533177375793457],\"z\":[17.672500610351562],\"type\":\"cone\"},{\"hoverinfo\":\"skip\",\"legendgroup\":\"rechits_chain\",\"line\":{\"width\":1.877610561257961},\"marker\":{\"color\":\"#FF6692\"},\"mode\":\"lines\",\"name\":\"Rechits chain\",\"showlegend\":false,\"x\":[0.6156802177429199,1.59004545211792],\"y\":[0.07716822624206543,-0.48533177375793457],\"z\":[17.672500610351562,17.672500610351562],\"type\":\"scatter3d\"},{\"anchor\":\"tip\",\"colorscale\":[[0,\"#FF6692\"],[1,\"#FF6692\"]],\"hoverinfo\":\"skip\",\"legendgroup\":\"rechits_chain\",\"showscale\":false,\"sizeref\":0.1,\"u\":[0.8660446585505366],\"v\":[-0.4999666482837475],\"w\":[0.0],\"x\":[1.59004545211792],\"y\":[-0.48533177375793457],\"z\":[17.672500610351562],\"type\":\"cone\"},{\"hoverinfo\":\"skip\",\"legendgroup\":\"rechits_chain\",\"line\":{\"width\":1.657626070174038},\"marker\":{\"color\":\"#FF6692\"},\"mode\":\"lines\",\"name\":\"Rechits chain\",\"showlegend\":false,\"x\":[0.6156802177429199,1.59004545211792],\"y\":[-1.0480759143829346,-0.48533177375793457],\"z\":[17.672500610351562,17.672500610351562],\"type\":\"scatter3d\"},{\"anchor\":\"tip\",\"colorscale\":[[0,\"#FF6692\"],[1,\"#FF6692\"]],\"hoverinfo\":\"skip\",\"legendgroup\":\"rechits_chain\",\"showscale\":false,\"sizeref\":0.1,\"u\":[0.8659506941311695],\"v\":[0.500129378594925],\"w\":[0.0],\"x\":[1.59004545211792],\"y\":[-0.48533177375793457],\"z\":[17.672500610351562],\"type\":\"cone\"},{\"customdata\":[[\"0.099670045\",\"0.3000099\",\"1.103192\",\"Follower\",\"5\"],[\"0.20012139\",\"0.75160223\",\"1.0783343\",\"Follower\",\"5\"],[\"0.34265357\",\"0.87049955\",\"1.125173\",\"Follower\",\"5\"],[\"0.0063953907\",\"0.102288604\",\"1.125\",\"Follower\",\"5\"],[\"0.062433787\",\"0.6918406\",\"1.052563\",\"Follower\",\"5\"],[\"0.5933376\",\"1.0919886\",\"3.4028235e+38\",\"Seed\",\"5\"],[\"0.32960656\",\"0.8316712\",\"1.1253028\",\"Follower\",\"5\"],[\"0.062486693\",\"0.5533815\",\"1.1251807\",\"Follower\",\"5\"],[\"0.09767306\",\"0.3616548\",\"1.125075\",\"Follower\",\"5\"],[\"0.058845434\",\"0.308808\",\"1.125075\",\"Follower\",\"5\"],[\"0.0101588\",\"0.088418044\",\"1.1252865\",\"Follower\",\"5\"],[\"0.013852328\",\"0.013852328\",\"1.9488525\",\"Follower\",\"5\"],[\"0.05802614\",\"0.33145633\",\"1.1251221\",\"Follower\",\"5\"],[\"0.10453678\",\"0.40493733\",\"1.1251884\",\"Follower\",\"5\"],[\"0.02324747\",\"0.32435444\",\"0.0\",\"Follower\",\"5\"],[\"0.10610517\",\"0.3657833\",\"1.125\",\"Follower\",\"5\"]],\"hovertemplate\":\"Rechit : %{customdata[3]}<br>Layer : %{customdata[4]}<br>Energy: %{customdata[0]:.2g} GeV<br>Rho: %{customdata[1]:.2g} GeV<br>Delta: %{customdata[2]:.2g} cm\",\"legendgroup\":\"rechits\",\"legendgrouptitle\":{\"text\":\"Rechits\"},\"marker\":{\"color\":\"#B6E880\",\"size\":[14.356493949890137,17.69243621826172,20.26618766784668,1.2134747505187988,12.11792278289795,22.893768310546875,20.08040428161621,12.121976852416992,14.259634017944336,11.834644317626953,3.4281373023986816,4.912257194519043,11.767544746398926,14.584648132324219,7.390041351318359,14.655916213989258],\"symbol\":\"circle\"},\"mode\":\"markers\",\"name\":\"2D cluster nb 4.0\",\"x\":[3.539011001586914,3.539011001586914,3.608940839767456,2.634462594985962,2.634462594985962,2.634462594985962,1.659975290298462,1.659975290298462,0.6856100559234619,0.6856100559234619,-0.2889993190765381,6.532289505004883,4.583436965942383,4.583436965942383,1.659975290298462,1.659975290298462],\"y\":[-2.7358291149139404,-0.48533177375793457,-1.6348557472229004,1.1778883934020996,0.05288839340209961,-1.0723557472229004,-0.5096116065979004,-1.6348557472229004,0.05288839340209961,-1.0723557472229004,-0.5096116065979004,-1.0723557472229004,-2.1974778175354004,-1.0723557472229004,0.6153883934020996,0.6153883934020996],\"z\":[19.6875,19.6875,19.6875,19.6875,19.6875,19.6875,19.6875,19.6875,19.6875,19.6875,19.6875,19.6875,19.6875,19.6875,19.6875,19.6875],\"type\":\"scatter3d\"},{\"hoverinfo\":\"skip\",\"legendgroup\":\"rechits_chain\",\"line\":{\"width\":2.299280088255717},\"marker\":{\"color\":\"#B6E880\"},\"mode\":\"lines\",\"name\":\"Rechits chain\",\"showlegend\":false,\"x\":[3.539011001586914,3.608940839767456],\"y\":[-2.7358291149139404,-1.6348557472229004],\"z\":[19.6875,19.6875],\"type\":\"scatter3d\"},{\"anchor\":\"tip\",\"colorscale\":[[0,\"#B6E880\"],[1,\"#B6E880\"]],\"hoverinfo\":\"skip\",\"legendgroup\":\"rechits_chain\",\"showscale\":false,\"sizeref\":0.1,\"u\":[0.06338863917039256],\"v\":[0.9979889179866307],\"w\":[0.0],\"x\":[3.608940839767456],\"y\":[-1.6348557472229004],\"z\":[19.6875],\"type\":\"cone\"},{\"hoverinfo\":\"skip\",\"legendgroup\":\"rechits_chain\",\"line\":{\"width\":3.351520832225574},\"marker\":{\"color\":\"#B6E880\"},\"mode\":\"lines\",\"name\":\"Rechits chain\",\"showlegend\":false,\"x\":[3.539011001586914,2.634462594985962],\"y\":[-0.48533177375793457,-1.0723557472229004],\"z\":[19.6875,19.6875],\"type\":\"scatter3d\"},{\"anchor\":\"tip\",\"colorscale\":[[0,\"#B6E880\"],[1,\"#B6E880\"]],\"hoverinfo\":\"skip\",\"legendgroup\":\"rechits_chain\",\"showscale\":false,\"sizeref\":0.1,\"u\":[-0.838838537025174],\"v\":[-0.5443802979549001],\"w\":[0.0],\"x\":[2.634462594985962],\"y\":[-1.0723557472229004],\"z\":[19.6875],\"type\":\"cone\"},{\"hoverinfo\":\"skip\",\"legendgroup\":\"rechits_chain\",\"line\":{\"width\":4.125098222532431},\"marker\":{\"color\":\"#B6E880\"},\"mode\":\"lines\",\"name\":\"Rechits chain\",\"showlegend\":false,\"x\":[3.608940839767456,2.634462594985962],\"y\":[-1.6348557472229004,-1.0723557472229004],\"z\":[19.6875,19.6875],\"type\":\"scatter3d\"},{\"anchor\":\"tip\",\"colorscale\":[[0,\"#B6E880\"],[1,\"#B6E880\"]],\"hoverinfo\":\"skip\",\"legendgroup\":\"rechits_chain\",\"showscale\":false,\"sizeref\":0.1,\"u\":[-0.8660697636731018],\"v\":[0.4999231585466086],\"w\":[0.0],\"x\":[2.634462594985962],\"y\":[-1.0723557472229004],\"z\":[19.6875],\"type\":\"cone\"},{\"hoverinfo\":\"skip\",\"legendgroup\":\"rechits_chain\",\"line\":{\"width\":1},\"marker\":{\"color\":\"#B6E880\"},\"mode\":\"lines\",\"name\":\"Rechits chain\",\"showlegend\":false,\"x\":[2.634462594985962,2.634462594985962],\"y\":[1.1778883934020996,0.05288839340209961],\"z\":[19.6875,19.6875],\"type\":\"scatter3d\"},{\"anchor\":\"tip\",\"colorscale\":[[0,\"#B6E880\"],[1,\"#B6E880\"]],\"hoverinfo\":\"skip\",\"legendgroup\":\"rechits_chain\",\"showscale\":false,\"sizeref\":0.1,\"u\":[0.0],\"v\":[-1.0],\"w\":[0.0],\"x\":[2.634462594985962],\"y\":[0.05288839340209961],\"z\":[19.6875],\"type\":\"cone\"},{\"hoverinfo\":\"skip\",\"legendgroup\":\"rechits_chain\",\"line\":{\"width\":2.144055339064272},\"marker\":{\"color\":\"#B6E880\"},\"mode\":\"lines\",\"name\":\"Rechits chain\",\"showlegend\":false,\"x\":[2.634462594985962,3.539011001586914],\"y\":[0.05288839340209961,-0.48533177375793457],\"z\":[19.6875,19.6875],\"type\":\"scatter3d\"},{\"anchor\":\"tip\",\"colorscale\":[[0,\"#B6E880\"],[1,\"#B6E880\"]],\"hoverinfo\":\"skip\",\"legendgroup\":\"rechits_chain\",\"showscale\":false,\"sizeref\":0.1,\"u\":[0.8593770137549294],\"v\":[-0.511342496013836],\"w\":[0.0],\"x\":[3.539011001586914],\"y\":[-0.48533177375793457],\"z\":[19.6875],\"type\":\"cone\"},{\"hoverinfo\":\"skip\",\"legendgroup\":\"rechits_chain\",\"line\":{\"width\":4.037405644253454},\"marker\":{\"color\":\"#B6E880\"},\"mode\":\"lines\",\"name\":\"Rechits chain\",\"showlegend\":false,\"x\":[1.659975290298462,2.634462594985962],\"y\":[-0.5096116065979004,-1.0723557472229004],\"z\":[19.6875,19.6875],\"type\":\"scatter3d\"},{\"anchor\":\"tip\",\"colorscale\":[[0,\"#B6E880\"],[1,\"#B6E880\"]],\"hoverinfo\":\"skip\",\"legendgroup\":\"rechits_chain\",\"showscale\":false,\"sizeref\":0.1,\"u\":[0.8659778263291473],\"v\":[-0.5000823975168945],\"w\":[0.0],\"x\":[2.634462594985962],\"y\":[-1.0723557472229004],\"z\":[19.6875],\"type\":\"cone\"},{\"hoverinfo\":\"skip\",\"legendgroup\":\"rechits_chain\",\"line\":{\"width\":2.495946548570058},\"marker\":{\"color\":\"#B6E880\"},\"mode\":\"lines\",\"name\":\"Rechits chain\",\"showlegend\":false,\"x\":[1.659975290298462,2.634462594985962],\"y\":[-1.6348557472229004,-1.0723557472229004],\"z\":[19.6875,19.6875],\"type\":\"scatter3d\"},{\"anchor\":\"tip\",\"colorscale\":[[0,\"#B6E880\"],[1,\"#B6E880\"]],\"hoverinfo\":\"skip\",\"legendgroup\":\"rechits_chain\",\"showscale\":false,\"sizeref\":0.1,\"u\":[0.866071776036405],\"v\":[0.499919672300608],\"w\":[0.0],\"x\":[2.634462594985962],\"y\":[-1.0723557472229004],\"z\":[19.6875],\"type\":\"cone\"},{\"hoverinfo\":\"skip\",\"legendgroup\":\"rechits_chain\",\"line\":{\"width\":2.3779880514913105},\"marker\":{\"color\":\"#B6E880\"},\"mode\":\"lines\",\"name\":\"Rechits chain\",\"showlegend\":false,\"x\":[0.6856100559234619,1.659975290298462],\"y\":[0.05288839340209961,-0.5096116065979004],\"z\":[19.6875,19.6875],\"type\":\"scatter3d\"},{\"anchor\":\"tip\",\"colorscale\":[[0,\"#B6E880\"],[1,\"#B6E880\"]],\"hoverinfo\":\"skip\",\"legendgroup\":\"rechits_chain\",\"showscale\":false,\"sizeref\":0.1,\"u\":[0.8660446585505366],\"v\":[-0.4999666482837475],\"w\":[0.0],\"x\":[1.659975290298462],\"y\":[-0.5096116065979004],\"z\":[19.6875],\"type\":\"cone\"},{\"hoverinfo\":\"skip\",\"legendgroup\":\"rechits_chain\",\"line\":{\"width\":1.7723291563577817},\"marker\":{\"color\":\"#B6E880\"},\"mode\":\"lines\",\"name\":\"Rechits chain\",\"showlegend\":false,\"x\":[0.6856100559234619,1.659975290298462],\"y\":[-1.0723557472229004,-1.6348557472229004],\"z\":[19.6875,19.6875],\"type\":\"scatter3d\"},{\"anchor\":\"tip\",\"colorscale\":[[0,\"#B6E880\"],[1,\"#B6E880\"]],\"hoverinfo\":\"skip\",\"legendgroup\":\"rechits_chain\",\"showscale\":false,\"sizeref\":0.1,\"u\":[0.8660446585505366],\"v\":[-0.4999666482837475],\"w\":[0.0],\"x\":[1.659975290298462],\"y\":[-1.6348557472229004],\"z\":[19.6875],\"type\":\"cone\"},{\"hoverinfo\":\"skip\",\"legendgroup\":\"rechits_chain\",\"line\":{\"width\":1},\"marker\":{\"color\":\"#B6E880\"},\"mode\":\"lines\",\"name\":\"Rechits chain\",\"showlegend\":false,\"x\":[-0.2889993190765381,0.6856100559234619],\"y\":[-0.5096116065979004,0.05288839340209961],\"z\":[19.6875,19.6875],\"type\":\"scatter3d\"},{\"anchor\":\"tip\",\"colorscale\":[[0,\"#B6E880\"],[1,\"#B6E880\"]],\"hoverinfo\":\"skip\",\"legendgroup\":\"rechits_chain\",\"showscale\":false,\"sizeref\":0.1,\"u\":[0.8660988858794976],\"v\":[0.4998727036739385],\"w\":[0.0],\"x\":[0.6856100559234619],\"y\":[0.05288839340209961],\"z\":[19.6875],\"type\":\"cone\"},{\"hoverinfo\":\"skip\",\"legendgroup\":\"rechits_chain\",\"line\":{\"width\":1},\"marker\":{\"color\":\"#B6E880\"},\"mode\":\"lines\",\"name\":\"Rechits chain\",\"showlegend\":false,\"x\":[6.532289505004883,4.583436965942383],\"y\":[-1.0723557472229004,-1.0723557472229004],\"z\":[19.6875,19.6875],\"type\":\"scatter3d\"},{\"anchor\":\"tip\",\"colorscale\":[[0,\"#B6E880\"],[1,\"#B6E880\"]],\"hoverinfo\":\"skip\",\"legendgroup\":\"rechits_chain\",\"showscale\":false,\"sizeref\":0.1,\"u\":[-1.0],\"v\":[0.0],\"w\":[0.0],\"x\":[4.583436965942383],\"y\":[-1.0723557472229004],\"z\":[19.6875],\"type\":\"cone\"},{\"hoverinfo\":\"skip\",\"legendgroup\":\"rechits_chain\",\"line\":{\"width\":1.7583084831547608},\"marker\":{\"color\":\"#B6E880\"},\"mode\":\"lines\",\"name\":\"Rechits chain\",\"showlegend\":false,\"x\":[4.583436965942383,4.583436965942383],\"y\":[-2.1974778175354004,-1.0723557472229004],\"z\":[19.6875,19.6875],\"type\":\"scatter3d\"},{\"anchor\":\"tip\",\"colorscale\":[[0,\"#B6E880\"],[1,\"#B6E880\"]],\"hoverinfo\":\"skip\",\"legendgroup\":\"rechits_chain\",\"showscale\":false,\"sizeref\":0.1,\"u\":[0.0],\"v\":[1.0],\"w\":[0.0],\"x\":[4.583436965942383],\"y\":[-1.0723557472229004],\"z\":[19.6875],\"type\":\"cone\"},{\"hoverinfo\":\"skip\",\"legendgroup\":\"rechits_chain\",\"line\":{\"width\":2.870255475302109},\"marker\":{\"color\":\"#B6E880\"},\"mode\":\"lines\",\"name\":\"Rechits chain\",\"showlegend\":false,\"x\":[4.583436965942383,3.608940839767456],\"y\":[-1.0723557472229004,-1.6348557472229004],\"z\":[19.6875,19.6875],\"type\":\"scatter3d\"},{\"anchor\":\"tip\",\"colorscale\":[[0,\"#B6E880\"],[1,\"#B6E880\"]],\"hoverinfo\":\"skip\",\"legendgroup\":\"rechits_chain\",\"showscale\":false,\"sizeref\":0.1,\"u\":[-0.8660737354023266],\"v\":[-0.4999162778368602],\"w\":[0.0],\"x\":[3.608940839767456],\"y\":[-1.6348557472229004],\"z\":[19.6875],\"type\":\"cone\"},{\"hoverinfo\":\"skip\",\"legendgroup\":\"rechits_chain\",\"line\":{\"width\":2.5599572279584093},\"marker\":{\"color\":\"#B6E880\"},\"mode\":\"lines\",\"name\":\"Rechits chain\",\"showlegend\":false,\"x\":[1.659975290298462,1.659975290298462],\"y\":[0.6153883934020996,-0.5096116065979004],\"z\":[19.6875,19.6875],\"type\":\"scatter3d\"},{\"anchor\":\"tip\",\"colorscale\":[[0,\"#B6E880\"],[1,\"#B6E880\"]],\"hoverinfo\":\"skip\",\"legendgroup\":\"rechits_chain\",\"showscale\":false,\"sizeref\":0.1,\"u\":[0.0],\"v\":[-1.0],\"w\":[0.0],\"x\":[1.659975290298462],\"y\":[-0.5096116065979004],\"z\":[19.6875],\"type\":\"cone\"},{\"customdata\":[[\"0.14816718\",\"0.19800505\",\"0.9514859\",\"Follower\",\"6\"],[\"0.093133576\",\"0.6797655\",\"0.9516155\",\"Follower\",\"6\"],[\"0.100934684\",\"0.61639184\",\"1.0810531\",\"Follower\",\"6\"],[\"0.0065421793\",\"0.747814\",\"1.1251807\",\"Follower\",\"6\"],[\"0.9176199\",\"1.134555\",\"3.4028235e+38\",\"Seed\",\"6\"],[\"0.020160811\",\"0.5416022\",\"1.1251221\",\"Follower\",\"6\"],[\"0.1348524\",\"0.23250872\",\"1.125\",\"Follower\",\"6\"],[\"0.18877049\",\"0.7906197\",\"1.1253028\",\"Follower\",\"6\"],[\"0.024328263\",\"0.64778167\",\"1.1251807\",\"Follower\",\"6\"],[\"0.1203556\",\"0.2424298\",\"1.125075\",\"Follower\",\"6\"],[\"0.031049646\",\"0.09122744\",\"1.1252865\",\"Follower\",\"6\"]],\"hovertemplate\":\"Rechit : %{customdata[3]}<br>Layer : %{customdata[4]}<br>Energy: %{customdata[0]:.2g} GeV<br>Rho: %{customdata[1]:.2g} GeV<br>Delta: %{customdata[2]:.2g} cm\",\"legendgroup\":\"rechits\",\"legendgrouptitle\":{\"text\":\"Rechits\"},\"marker\":{\"color\":\"#FF97FF\",\"size\":[16.253925323486328,14.031875610351562,14.416834831237793,1.3220783472061157,24.980445861816406,6.708285808563232,15.803297996520996,17.412986755371094,7.607517719268799,15.259015083312988,8.774991035461426],\"symbol\":\"circle\"},\"mode\":\"markers\",\"name\":\"2D cluster nb 5.0\",\"x\":[3.608940839767456,3.608940839767456,3.7771010398864746,2.8026227951049805,2.8026227951049805,2.8026227951049805,1.8281354904174805,1.8281354904174805,1.8281354904174805,0.8537702560424805,-0.12083911895751953],\"y\":[0.6153883934020996,-0.5096116065979004,-1.5775058269500732,0.11023831367492676,-1.0150058269500732,-2.1401278972625732,0.6727383136749268,-0.45226168632507324,-1.5775058269500732,-1.0150058269500732,-1.5775058269500732],\"z\":[20.577499389648438,20.577499389648438,20.577499389648438,20.577499389648438,20.577499389648438,20.577499389648438,20.577499389648438,20.577499389648438,20.577499389648438,20.577499389648438,20.577499389648438],\"type\":\"scatter3d\"},{\"hoverinfo\":\"skip\",\"legendgroup\":\"rechits_chain\",\"line\":{\"width\":2.6957561245892165},\"marker\":{\"color\":\"#FF97FF\"},\"mode\":\"lines\",\"name\":\"Rechits chain\",\"showlegend\":false,\"x\":[3.608940839767456,2.8026227951049805],\"y\":[0.6153883934020996,0.11023831367492676],\"z\":[20.577499389648438,20.577499389648438],\"type\":\"scatter3d\"},{\"anchor\":\"tip\",\"colorscale\":[[0,\"#FF97FF\"],[1,\"#FF97FF\"]],\"hoverinfo\":\"skip\",\"legendgroup\":\"rechits_chain\",\"showscale\":false,\"sizeref\":0.1,\"u\":[-0.847430378220141],\"v\":[-0.5309065398633444],\"w\":[0.0],\"x\":[2.8026227951049805],\"y\":[0.11023831367492676],\"z\":[20.577499389648438],\"type\":\"cone\"},{\"hoverinfo\":\"skip\",\"legendgroup\":\"rechits_chain\",\"line\":{\"width\":3.071899978979248},\"marker\":{\"color\":\"#FF97FF\"},\"mode\":\"lines\",\"name\":\"Rechits chain\",\"showlegend\":false,\"x\":[3.608940839767456,2.8026227951049805],\"y\":[-0.5096116065979004,-1.0150058269500732],\"z\":[20.577499389648438,20.577499389648438],\"type\":\"scatter3d\"},{\"anchor\":\"tip\",\"colorscale\":[[0,\"#FF97FF\"],[1,\"#FF97FF\"]],\"hoverinfo\":\"skip\",\"legendgroup\":\"rechits_chain\",\"showscale\":false,\"sizeref\":0.1,\"u\":[-0.8473149329917637],\"v\":[-0.5310907684465651],\"w\":[0.0],\"x\":[2.8026227951049805],\"y\":[-1.0150058269500732],\"z\":[20.577499389648438],\"type\":\"cone\"},{\"hoverinfo\":\"skip\",\"legendgroup\":\"rechits_chain\",\"line\":{\"width\":2.5071175776370365},\"marker\":{\"color\":\"#FF97FF\"},\"mode\":\"lines\",\"name\":\"Rechits chain\",\"showlegend\":false,\"x\":[3.7771010398864746,3.608940839767456],\"y\":[-1.5775058269500732,-0.5096116065979004],\"z\":[20.577499389648438,20.577499389648438],\"type\":\"scatter3d\"},{\"anchor\":\"tip\",\"colorscale\":[[0,\"#FF97FF\"],[1,\"#FF97FF\"]],\"hoverinfo\":\"skip\",\"legendgroup\":\"rechits_chain\",\"showscale\":false,\"sizeref\":0.1,\"u\":[-0.15555220362032918],\"v\":[0.9878276732046231],\"w\":[0.0],\"x\":[3.608940839767456],\"y\":[-0.5096116065979004],\"z\":[20.577499389648438],\"type\":\"cone\"},{\"hoverinfo\":\"skip\",\"legendgroup\":\"rechits_chain\",\"line\":{\"width\":2.7389631495213087},\"marker\":{\"color\":\"#FF97FF\"},\"mode\":\"lines\",\"name\":\"Rechits chain\",\"showlegend\":false,\"x\":[2.8026227951049805,1.8281354904174805],\"y\":[0.11023831367492676,-0.45226168632507324],\"z\":[20.577499389648438,20.577499389648438],\"type\":\"scatter3d\"},{\"anchor\":\"tip\",\"colorscale\":[[0,\"#FF97FF\"],[1,\"#FF97FF\"]],\"hoverinfo\":\"skip\",\"legendgroup\":\"rechits_chain\",\"showscale\":false,\"sizeref\":0.1,\"u\":[-0.866071776036405],\"v\":[-0.499919672300608],\"w\":[0.0],\"x\":[1.8281354904174805],\"y\":[-0.45226168632507324],\"z\":[20.577499389648438],\"type\":\"cone\"},{\"hoverinfo\":\"skip\",\"legendgroup\":\"rechits_chain\",\"line\":{\"width\":1},\"marker\":{\"color\":\"#FF97FF\"},\"mode\":\"lines\",\"name\":\"Rechits chain\",\"showlegend\":false,\"x\":[2.8026227951049805,2.8026227951049805],\"y\":[-2.1401278972625732,-1.0150058269500732],\"z\":[20.577499389648438,20.577499389648438],\"type\":\"scatter3d\"},{\"anchor\":\"tip\",\"colorscale\":[[0,\"#FF97FF\"],[1,\"#FF97FF\"]],\"hoverinfo\":\"skip\",\"legendgroup\":\"rechits_chain\",\"showscale\":false,\"sizeref\":0.1,\"u\":[0.0],\"v\":[1.0],\"w\":[0.0],\"x\":[2.8026227951049805],\"y\":[-1.0150058269500732],\"z\":[20.577499389648438],\"type\":\"cone\"},{\"hoverinfo\":\"skip\",\"legendgroup\":\"rechits_chain\",\"line\":{\"width\":2.6015957129163017},\"marker\":{\"color\":\"#FF97FF\"},\"mode\":\"lines\",\"name\":\"Rechits chain\",\"showlegend\":false,\"x\":[1.8281354904174805,1.8281354904174805],\"y\":[0.6727383136749268,-0.45226168632507324],\"z\":[20.577499389648438,20.577499389648438],\"type\":\"scatter3d\"},{\"anchor\":\"tip\",\"colorscale\":[[0,\"#FF97FF\"],[1,\"#FF97FF\"]],\"hoverinfo\":\"skip\",\"legendgroup\":\"rechits_chain\",\"showscale\":false,\"sizeref\":0.1,\"u\":[0.0],\"v\":[-1.0],\"w\":[0.0],\"x\":[1.8281354904174805],\"y\":[-0.45226168632507324],\"z\":[20.577499389648438],\"type\":\"cone\"},{\"hoverinfo\":\"skip\",\"legendgroup\":\"rechits_chain\",\"line\":{\"width\":3.8677204601222965},\"marker\":{\"color\":\"#FF97FF\"},\"mode\":\"lines\",\"name\":\"Rechits chain\",\"showlegend\":false,\"x\":[1.8281354904174805,2.8026227951049805],\"y\":[-0.45226168632507324,-1.0150058269500732],\"z\":[20.577499389648438,20.577499389648438],\"type\":\"scatter3d\"},{\"anchor\":\"tip\",\"colorscale\":[[0,\"#FF97FF\"],[1,\"#FF97FF\"]],\"hoverinfo\":\"skip\",\"legendgroup\":\"rechits_chain\",\"showscale\":false,\"sizeref\":0.1,\"u\":[0.8659778263291473],\"v\":[-0.5000823975168945],\"w\":[0.0],\"x\":[2.8026227951049805],\"y\":[-1.0150058269500732],\"z\":[20.577499389648438],\"type\":\"cone\"},{\"hoverinfo\":\"skip\",\"legendgroup\":\"rechits_chain\",\"line\":{\"width\":2.8663835985410855},\"marker\":{\"color\":\"#FF97FF\"},\"mode\":\"lines\",\"name\":\"Rechits chain\",\"showlegend\":false,\"x\":[1.8281354904174805,2.8026227951049805],\"y\":[-1.5775058269500732,-1.0150058269500732],\"z\":[20.577499389648438,20.577499389648438],\"type\":\"scatter3d\"},{\"anchor\":\"tip\",\"colorscale\":[[0,\"#FF97FF\"],[1,\"#FF97FF\"]],\"hoverinfo\":\"skip\",\"legendgroup\":\"rechits_chain\",\"showscale\":false,\"sizeref\":0.1,\"u\":[0.866071776036405],\"v\":[0.499919672300608],\"w\":[0.0],\"x\":[2.8026227951049805],\"y\":[-1.0150058269500732],\"z\":[20.577499389648438],\"type\":\"cone\"},{\"hoverinfo\":\"skip\",\"legendgroup\":\"rechits_chain\",\"line\":{\"width\":2.717374891172029},\"marker\":{\"color\":\"#FF97FF\"},\"mode\":\"lines\",\"name\":\"Rechits chain\",\"showlegend\":false,\"x\":[0.8537702560424805,1.8281354904174805],\"y\":[-1.0150058269500732,-1.5775058269500732],\"z\":[20.577499389648438,20.577499389648438],\"type\":\"scatter3d\"},{\"anchor\":\"tip\",\"colorscale\":[[0,\"#FF97FF\"],[1,\"#FF97FF\"]],\"hoverinfo\":\"skip\",\"legendgroup\":\"rechits_chain\",\"showscale\":false,\"sizeref\":0.1,\"u\":[0.8660446585505366],\"v\":[-0.4999666482837475],\"w\":[0.0],\"x\":[1.8281354904174805],\"y\":[-1.5775058269500732],\"z\":[20.577499389648438],\"type\":\"cone\"},{\"hoverinfo\":\"skip\",\"legendgroup\":\"rechits_chain\",\"line\":{\"width\":1.1330023284339161},\"marker\":{\"color\":\"#FF97FF\"},\"mode\":\"lines\",\"name\":\"Rechits chain\",\"showlegend\":false,\"x\":[-0.12083911895751953,0.8537702560424805],\"y\":[-1.5775058269500732,-1.0150058269500732],\"z\":[20.577499389648438,20.577499389648438],\"type\":\"scatter3d\"},{\"anchor\":\"tip\",\"colorscale\":[[0,\"#FF97FF\"],[1,\"#FF97FF\"]],\"hoverinfo\":\"skip\",\"legendgroup\":\"rechits_chain\",\"showscale\":false,\"sizeref\":0.1,\"u\":[0.8660988858794976],\"v\":[0.4998727036739385],\"w\":[0.0],\"x\":[0.8537702560424805],\"y\":[-1.0150058269500732],\"z\":[20.577499389648438],\"type\":\"cone\"},{\"customdata\":[[\"0.05226619\",\"0.40315688\",\"1.1188065\",\"Follower\",\"7\"],[\"0.2542356\",\"0.534373\",\"1.121316\",\"Follower\",\"7\"],[\"0.048134573\",\"0.10304648\",\"1.1252372\",\"Follower\",\"7\"],[\"0.03110949\",\"0.074526906\",\"1.125\",\"Follower\",\"7\"],[\"0.013654374\",\"0.40494627\",\"1.1251807\",\"Follower\",\"7\"],[\"0.43389142\",\"0.72885835\",\"3.4028235e+38\",\"Seed\",\"7\"],[\"0.04713063\",\"0.46186352\",\"1.1187453\",\"Follower\",\"7\"],[\"0.19213626\",\"0.54332846\",\"1.1253028\",\"Follower\",\"7\"],[\"0.030510949\",\"0.43695152\",\"1.1251807\",\"Follower\",\"7\"],[\"0.06269317\",\"0.12558125\",\"1.1252463\",\"Follower\",\"7\"],[\"0.07411757\",\"0.24529076\",\"1.125075\",\"Follower\",\"7\"],[\"0.07702965\",\"0.22541204\",\"1.125075\",\"Follower\",\"7\"],[\"0.009472324\",\"0.009472324\",\"1.9487305\",\"Follower\",\"7\"],[\"0.008482326\",\"0.008482326\",\"1.9489787\",\"Follower\",\"7\"],[\"0.026986582\",\"0.15410438\",\"1.1291307\",\"Follower\",\"7\"],[\"0.011953736\",\"0.19807595\",\"0.0\",\"Follower\",\"7\"],[\"0.061226718\",\"0.22271243\",\"1.125\",\"Follower\",\"7\"]],\"hovertemplate\":\"Rechit : %{customdata[3]}<br>Layer : %{customdata[4]}<br>Energy: %{customdata[0]:.2g} GeV<br>Rho: %{customdata[1]:.2g} GeV<br>Delta: %{customdata[2]:.2g} cm\",\"legendgroup\":\"rechits\",\"legendgrouptitle\":{\"text\":\"Rechits\"},\"marker\":{\"color\":\"#FECB52\",\"size\":[11.26722526550293,18.83784294128418,10.873124122619629,8.78420639038086,4.843374729156494,21.395978927612305,10.772252082824707,17.4975643157959,8.691231727600098,12.137764930725098,12.938897132873535,13.123330116271973,3.093299150466919,2.565002679824829,8.103802680969238,4.206794261932373,12.024491310119629],\"symbol\":\"circle\"},\"mode\":\"markers\",\"name\":\"2D cluster nb 6.0\",\"x\":[3.7771010398864746,3.7771010398864746,2.808602809906006,2.808602809906006,2.808602809906006,2.808602809906006,2.808602809906006,1.8341155052185059,1.8341155052185059,1.8341155052185059,0.8597502708435059,0.8597502708435059,-1.0889801979064941,5.732064723968506,4.757577419281006,1.8341155052185059,1.8341155052185059],\"y\":[-0.45226168632507324,-1.5775058269500732,-3.262752056121826,1.2378582954406738,0.11285829544067383,-1.0123858451843262,-2.137507915496826,-0.44964170455932617,-1.5748858451843262,-2.700139045715332,0.11285829544067383,-1.0123858451843262,-1.0123858451843262,-0.44964170455932617,-2.137507915496826,0.6753582954406738,0.6753582954406738],\"z\":[22.6924991607666,22.6924991607666,22.6924991607666,22.6924991607666,22.6924991607666,22.6924991607666,22.6924991607666,22.6924991607666,22.6924991607666,22.6924991607666,22.6924991607666,22.6924991607666,22.6924991607666,22.6924991607666,22.6924991607666,22.6924991607666,22.6924991607666],\"type\":\"scatter3d\"},{\"hoverinfo\":\"skip\",\"legendgroup\":\"rechits_chain\",\"line\":{\"width\":1.6537646386712823},\"marker\":{\"color\":\"#FECB52\"},\"mode\":\"lines\",\"name\":\"Rechits chain\",\"showlegend\":false,\"x\":[3.7771010398864746,2.808602809906006],\"y\":[-0.45226168632507324,-1.0123858451843262],\"z\":[22.6924991607666,22.6924991607666],\"type\":\"scatter3d\"},{\"anchor\":\"tip\",\"colorscale\":[[0,\"#FECB52\"],[1,\"#FECB52\"]],\"hoverinfo\":\"skip\",\"legendgroup\":\"rechits_chain\",\"showscale\":false,\"sizeref\":0.1,\"u\":[-0.8656530549785076],\"v\":[-0.5006443731895694],\"w\":[0.0],\"x\":[2.808602809906006],\"y\":[-1.0123858451843262],\"z\":[22.6924991607666],\"type\":\"cone\"},{\"hoverinfo\":\"skip\",\"legendgroup\":\"rechits_chain\",\"line\":{\"width\":3.863746854699181},\"marker\":{\"color\":\"#FECB52\"},\"mode\":\"lines\",\"name\":\"Rechits chain\",\"showlegend\":false,\"x\":[3.7771010398864746,2.808602809906006],\"y\":[-1.5775058269500732,-1.0123858451843262],\"z\":[22.6924991607666,22.6924991607666],\"type\":\"scatter3d\"},{\"anchor\":\"tip\",\"colorscale\":[[0,\"#FECB52\"],[1,\"#FECB52\"]],\"hoverinfo\":\"skip\",\"legendgroup\":\"rechits_chain\",\"showscale\":false,\"sizeref\":0.1,\"u\":[-0.8637157503225257],\"v\":[0.5039792680704203],\"w\":[0.0],\"x\":[2.808602809906006],\"y\":[-1.0123858451843262],\"z\":[22.6924991607666],\"type\":\"cone\"},{\"hoverinfo\":\"skip\",\"legendgroup\":\"rechits_chain\",\"line\":{\"width\":2.0400118495711976},\"marker\":{\"color\":\"#FECB52\"},\"mode\":\"lines\",\"name\":\"Rechits chain\",\"showlegend\":false,\"x\":[2.808602809906006,1.8341155052185059],\"y\":[-3.262752056121826,-2.700139045715332],\"z\":[22.6924991607666,22.6924991607666],\"type\":\"scatter3d\"},{\"anchor\":\"tip\",\"colorscale\":[[0,\"#FECB52\"],[1,\"#FECB52\"]],\"hoverinfo\":\"skip\",\"legendgroup\":\"rechits_chain\",\"showscale\":false,\"sizeref\":0.1,\"u\":[-0.8660282888646941],\"v\":[0.4999950028611187],\"w\":[0.0],\"x\":[1.8341155052185059],\"y\":[-2.700139045715332],\"z\":[22.6924991607666],\"type\":\"cone\"},{\"hoverinfo\":\"skip\",\"legendgroup\":\"rechits_chain\",\"line\":{\"width\":1.5346304306085456},\"marker\":{\"color\":\"#FECB52\"},\"mode\":\"lines\",\"name\":\"Rechits chain\",\"showlegend\":false,\"x\":[2.808602809906006,2.808602809906006],\"y\":[1.2378582954406738,0.11285829544067383],\"z\":[22.6924991607666,22.6924991607666],\"type\":\"scatter3d\"},{\"anchor\":\"tip\",\"colorscale\":[[0,\"#FECB52\"],[1,\"#FECB52\"]],\"hoverinfo\":\"skip\",\"legendgroup\":\"rechits_chain\",\"showscale\":false,\"sizeref\":0.1,\"u\":[0.0],\"v\":[-1.0],\"w\":[0.0],\"x\":[2.808602809906006],\"y\":[0.11285829544067383],\"z\":[22.6924991607666],\"type\":\"cone\"},{\"hoverinfo\":\"skip\",\"legendgroup\":\"rechits_chain\",\"line\":{\"width\":1.7926004344577733},\"marker\":{\"color\":\"#FECB52\"},\"mode\":\"lines\",\"name\":\"Rechits chain\",\"showlegend\":false,\"x\":[2.808602809906006,1.8341155052185059],\"y\":[0.11285829544067383,-0.44964170455932617],\"z\":[22.6924991607666,22.6924991607666],\"type\":\"scatter3d\"},{\"anchor\":\"tip\",\"colorscale\":[[0,\"#FECB52\"],[1,\"#FECB52\"]],\"hoverinfo\":\"skip\",\"legendgroup\":\"rechits_chain\",\"showscale\":false,\"sizeref\":0.1,\"u\":[-0.866071776036405],\"v\":[-0.499919672300608],\"w\":[0.0],\"x\":[1.8341155052185059],\"y\":[-0.44964170455932617],\"z\":[22.6924991607666],\"type\":\"cone\"},{\"hoverinfo\":\"skip\",\"legendgroup\":\"rechits_chain\",\"line\":{\"width\":2.92708293549099},\"marker\":{\"color\":\"#FECB52\"},\"mode\":\"lines\",\"name\":\"Rechits chain\",\"showlegend\":false,\"x\":[2.808602809906006,3.7771010398864746],\"y\":[-2.137507915496826,-1.5775058269500732],\"z\":[22.6924991607666,22.6924991607666],\"type\":\"scatter3d\"},{\"anchor\":\"tip\",\"colorscale\":[[0,\"#FECB52\"],[1,\"#FECB52\"]],\"hoverinfo\":\"skip\",\"legendgroup\":\"rechits_chain\",\"showscale\":false,\"sizeref\":0.1,\"u\":[0.8657003392336879],\"v\":[0.5005626061250256],\"w\":[0.0],\"x\":[3.7771010398864746],\"y\":[-1.5775058269500732],\"z\":[22.6924991607666],\"type\":\"cone\"},{\"hoverinfo\":\"skip\",\"legendgroup\":\"rechits_chain\",\"line\":{\"width\":3.6875905287829718},\"marker\":{\"color\":\"#FECB52\"},\"mode\":\"lines\",\"name\":\"Rechits chain\",\"showlegend\":false,\"x\":[1.8341155052185059,2.808602809906006],\"y\":[-0.44964170455932617,-1.0123858451843262],\"z\":[22.6924991607666,22.6924991607666],\"type\":\"scatter3d\"},{\"anchor\":\"tip\",\"colorscale\":[[0,\"#FECB52\"],[1,\"#FECB52\"]],\"hoverinfo\":\"skip\",\"legendgroup\":\"rechits_chain\",\"showscale\":false,\"sizeref\":0.1,\"u\":[0.8659778263291473],\"v\":[-0.5000823975168945],\"w\":[0.0],\"x\":[2.808602809906006],\"y\":[-1.0123858451843262],\"z\":[22.6924991607666],\"type\":\"cone\"},{\"hoverinfo\":\"skip\",\"legendgroup\":\"rechits_chain\",\"line\":{\"width\":2.4596993095996407},\"marker\":{\"color\":\"#FECB52\"},\"mode\":\"lines\",\"name\":\"Rechits chain\",\"showlegend\":false,\"x\":[1.8341155052185059,2.808602809906006],\"y\":[-1.5748858451843262,-1.0123858451843262],\"z\":[22.6924991607666,22.6924991607666],\"type\":\"scatter3d\"},{\"anchor\":\"tip\",\"colorscale\":[[0,\"#FECB52\"],[1,\"#FECB52\"]],\"hoverinfo\":\"skip\",\"legendgroup\":\"rechits_chain\",\"showscale\":false,\"sizeref\":0.1,\"u\":[0.866071776036405],\"v\":[0.499919672300608],\"w\":[0.0],\"x\":[2.808602809906006],\"y\":[-1.0123858451843262],\"z\":[22.6924991607666],\"type\":\"cone\"},{\"hoverinfo\":\"skip\",\"legendgroup\":\"rechits_chain\",\"line\":{\"width\":2.6361973473444644},\"marker\":{\"color\":\"#FECB52\"},\"mode\":\"lines\",\"name\":\"Rechits chain\",\"showlegend\":false,\"x\":[1.8341155052185059,2.808602809906006],\"y\":[-2.700139045715332,-2.137507915496826],\"z\":[22.6924991607666,22.6924991607666],\"type\":\"scatter3d\"},{\"anchor\":\"tip\",\"colorscale\":[[0,\"#FECB52\"],[1,\"#FECB52\"]],\"hoverinfo\":\"skip\",\"legendgroup\":\"rechits_chain\",\"showscale\":false,\"sizeref\":0.1,\"u\":[0.8660213160347869],\"v\":[0.5000070801232472],\"w\":[0.0],\"x\":[2.808602809906006],\"y\":[-2.137507915496826],\"z\":[22.6924991607666],\"type\":\"cone\"},{\"hoverinfo\":\"skip\",\"legendgroup\":\"rechits_chain\",\"line\":{\"width\":2.0030675382625103},\"marker\":{\"color\":\"#FECB52\"},\"mode\":\"lines\",\"name\":\"Rechits chain\",\"showlegend\":false,\"x\":[0.8597502708435059,1.8341155052185059],\"y\":[0.11285829544067383,-0.44964170455932617],\"z\":[22.6924991607666,22.6924991607666],\"type\":\"scatter3d\"},{\"anchor\":\"tip\",\"colorscale\":[[0,\"#FECB52\"],[1,\"#FECB52\"]],\"hoverinfo\":\"skip\",\"legendgroup\":\"rechits_chain\",\"showscale\":false,\"sizeref\":0.1,\"u\":[0.8660446585505366],\"v\":[-0.4999666482837475],\"w\":[0.0],\"x\":[1.8341155052185059],\"y\":[-0.44964170455932617],\"z\":[22.6924991607666],\"type\":\"cone\"},{\"hoverinfo\":\"skip\",\"legendgroup\":\"rechits_chain\",\"line\":{\"width\":2.1575821701060915},\"marker\":{\"color\":\"#FECB52\"},\"mode\":\"lines\",\"name\":\"Rechits chain\",\"showlegend\":false,\"x\":[0.8597502708435059,1.8341155052185059],\"y\":[-1.0123858451843262,-1.5748858451843262],\"z\":[22.6924991607666,22.6924991607666],\"type\":\"scatter3d\"},{\"anchor\":\"tip\",\"colorscale\":[[0,\"#FECB52\"],[1,\"#FECB52\"]],\"hoverinfo\":\"skip\",\"legendgroup\":\"rechits_chain\",\"showscale\":false,\"sizeref\":0.1,\"u\":[0.8660446585505366],\"v\":[-0.4999666482837475],\"w\":[0.0],\"x\":[1.8341155052185059],\"y\":[-1.5748858451843262],\"z\":[22.6924991607666],\"type\":\"cone\"},{\"hoverinfo\":\"skip\",\"legendgroup\":\"rechits_chain\",\"line\":{\"width\":1},\"marker\":{\"color\":\"#FECB52\"},\"mode\":\"lines\",\"name\":\"Rechits chain\",\"showlegend\":false,\"x\":[-1.0889801979064941,0.8597502708435059],\"y\":[-1.0123858451843262,-1.0123858451843262],\"z\":[22.6924991607666,22.6924991607666],\"type\":\"scatter3d\"},{\"anchor\":\"tip\",\"colorscale\":[[0,\"#FECB52\"],[1,\"#FECB52\"]],\"hoverinfo\":\"skip\",\"legendgroup\":\"rechits_chain\",\"showscale\":false,\"sizeref\":0.1,\"u\":[1.0],\"v\":[0.0],\"w\":[0.0],\"x\":[0.8597502708435059],\"y\":[-1.0123858451843262],\"z\":[22.6924991607666],\"type\":\"cone\"},{\"hoverinfo\":\"skip\",\"legendgroup\":\"rechits_chain\",\"line\":{\"width\":1},\"marker\":{\"color\":\"#FECB52\"},\"mode\":\"lines\",\"name\":\"Rechits chain\",\"showlegend\":false,\"x\":[5.732064723968506,4.757577419281006],\"y\":[-0.44964170455932617,-2.137507915496826],\"z\":[22.6924991607666,22.6924991607666],\"type\":\"scatter3d\"},{\"anchor\":\"tip\",\"colorscale\":[[0,\"#FECB52\"],[1,\"#FECB52\"]],\"hoverinfo\":\"skip\",\"legendgroup\":\"rechits_chain\",\"showscale\":false,\"sizeref\":0.1,\"u\":[-0.499998958472075],\"v\":[-0.8660260051100314],\"w\":[0.0],\"x\":[4.757577419281006],\"y\":[-2.137507915496826],\"z\":[22.6924991607666],\"type\":\"cone\"},{\"hoverinfo\":\"skip\",\"legendgroup\":\"rechits_chain\",\"line\":{\"width\":1.2660713894933586},\"marker\":{\"color\":\"#FECB52\"},\"mode\":\"lines\",\"name\":\"Rechits chain\",\"showlegend\":false,\"x\":[4.757577419281006,3.7771010398864746],\"y\":[-2.137507915496826,-1.5775058269500732],\"z\":[22.6924991607666,22.6924991607666],\"type\":\"scatter3d\"},{\"anchor\":\"tip\",\"colorscale\":[[0,\"#FECB52\"],[1,\"#FECB52\"]],\"hoverinfo\":\"skip\",\"legendgroup\":\"rechits_chain\",\"showscale\":false,\"sizeref\":0.1,\"u\":[-0.868346178720212],\"v\":[0.4959585808331233],\"w\":[0.0],\"x\":[3.7771010398864746],\"y\":[-1.5775058269500732],\"z\":[22.6924991607666],\"type\":\"cone\"},{\"hoverinfo\":\"skip\",\"legendgroup\":\"rechits_chain\",\"line\":{\"width\":1.990343268433742},\"marker\":{\"color\":\"#FECB52\"},\"mode\":\"lines\",\"name\":\"Rechits chain\",\"showlegend\":false,\"x\":[1.8341155052185059,1.8341155052185059],\"y\":[0.6753582954406738,-0.44964170455932617],\"z\":[22.6924991607666,22.6924991607666],\"type\":\"scatter3d\"},{\"anchor\":\"tip\",\"colorscale\":[[0,\"#FECB52\"],[1,\"#FECB52\"]],\"hoverinfo\":\"skip\",\"legendgroup\":\"rechits_chain\",\"showscale\":false,\"sizeref\":0.1,\"u\":[0.0],\"v\":[-1.0],\"w\":[0.0],\"x\":[1.8341155052185059],\"y\":[-0.44964170455932617],\"z\":[22.6924991607666],\"type\":\"cone\"},{\"customdata\":[[\"0.0080632735\",\"0.012610102\",\"1.123983\",\"Follower\",\"8\"],[\"0.028092152\",\"0.5429909\",\"1.1240363\",\"Follower\",\"8\"],[\"0.027991187\",\"0.08220151\",\"1.1252441\",\"Follower\",\"8\"],[\"0.009093657\",\"0.7243129\",\"1.1251807\",\"Follower\",\"8\"],[\"0.92137694\",\"1.1702032\",\"3.4028235e+38\",\"Seed\",\"8\"],[\"0.10842065\",\"0.61563313\",\"1.1251221\",\"Follower\",\"8\"],[\"0.185917\",\"0.37793475\",\"1.125\",\"Follower\",\"8\"],[\"0.31508127\",\"0.90616834\",\"1.1253028\",\"Follower\",\"8\"],[\"0.036964633\",\"0.7359524\",\"1.1251807\",\"Follower\",\"8\"],[\"0.05986057\",\"0.15281907\",\"1.125075\",\"Follower\",\"8\"],[\"0.028821928\",\"0.24348\",\"1.125075\",\"Follower\",\"8\"],[\"0.024274662\",\"0.057167944\",\"1.1251221\",\"Follower\",\"8\"],[\"0.052995555\",\"0.06740652\",\"1.1254085\",\"Follower\",\"8\"]],\"hovertemplate\":\"Rechit : %{customdata[3]}<br>Layer : %{customdata[4]}<br>Energy: %{customdata[0]:.2g} GeV<br>Rho: %{customdata[1]:.2g} GeV<br>Delta: %{customdata[2]:.2g} cm\",\"legendgroup\":\"rechits\",\"legendgrouptitle\":{\"text\":\"Rechits\"},\"marker\":{\"color\":\"#636EFA\",\"size\":[2.32253360748291,8.295952796936035,8.278721809387207,2.8980541229248047,25.0,14.759230613708496,17.340091705322266,19.864715576171875,9.609501838684082,11.916498184204102,8.418689727783203,7.59696102142334,11.333547592163086],\"symbol\":\"circle\"},\"mode\":\"markers\",\"name\":\"2D cluster nb 7.0\",\"x\":[3.7830810546875,3.7830810546875,2.772052764892578,2.772052764892578,2.772052764892578,2.772052764892578,1.7975654602050781,1.7975654602050781,1.7975654602050781,0.8232002258300781,0.8232002258300781,0.8232002258300781,-0.15140914916992188],\"y\":[0.6753582954406738,-1.5748858451843262,-3.1913321018218994,0.18427824974060059,-0.9409658908843994,-2.0660879611968994,0.7467782497406006,-0.3782217502593994,-1.5034658908843994,1.3092782497406006,-0.9409658908843994,-2.0660879611968994,-0.3782217502593994],\"z\":[23.582500457763672,23.582500457763672,23.582500457763672,23.582500457763672,23.582500457763672,23.582500457763672,23.582500457763672,23.582500457763672,23.582500457763672,23.582500457763672,23.582500457763672,23.582500457763672,23.582500457763672],\"type\":\"scatter3d\"},{\"hoverinfo\":\"skip\",\"legendgroup\":\"rechits_chain\",\"line\":{\"width\":1},\"marker\":{\"color\":\"#636EFA\"},\"mode\":\"lines\",\"name\":\"Rechits chain\",\"showlegend\":false,\"x\":[3.7830810546875,2.772052764892578],\"y\":[0.6753582954406738,0.18427824974060059],\"z\":[23.582500457763672,23.582500457763672],\"type\":\"scatter3d\"},{\"anchor\":\"tip\",\"colorscale\":[[0,\"#636EFA\"],[1,\"#636EFA\"]],\"hoverinfo\":\"skip\",\"legendgroup\":\"rechits_chain\",\"showscale\":false,\"sizeref\":0.1,\"u\":[-0.8995049550448114],\"v\":[-0.43691055818076974],\"w\":[0.0],\"x\":[2.772052764892578],\"y\":[0.18427824974060059],\"z\":[23.582500457763672],\"type\":\"cone\"},{\"hoverinfo\":\"skip\",\"legendgroup\":\"rechits_chain\",\"line\":{\"width\":1.766319058181725},\"marker\":{\"color\":\"#636EFA\"},\"mode\":\"lines\",\"name\":\"Rechits chain\",\"showlegend\":false,\"x\":[3.7830810546875,2.772052764892578],\"y\":[-1.5748858451843262,-2.0660879611968994],\"z\":[23.582500457763672,23.582500457763672],\"type\":\"scatter3d\"},{\"anchor\":\"tip\",\"colorscale\":[[0,\"#636EFA\"],[1,\"#636EFA\"]],\"hoverinfo\":\"skip\",\"legendgroup\":\"rechits_chain\",\"showscale\":false,\"sizeref\":0.1,\"u\":[-0.8994622706165499],\"v\":[-0.43699842532590455],\"w\":[0.0],\"x\":[2.772052764892578],\"y\":[-2.0660879611968994],\"z\":[23.582500457763672],\"type\":\"cone\"},{\"hoverinfo\":\"skip\",\"legendgroup\":\"rechits_chain\",\"line\":{\"width\":1.0293046114715112},\"marker\":{\"color\":\"#636EFA\"},\"mode\":\"lines\",\"name\":\"Rechits chain\",\"showlegend\":false,\"x\":[2.772052764892578,2.772052764892578],\"y\":[-3.1913321018218994,-2.0660879611968994],\"z\":[23.582500457763672,23.582500457763672],\"type\":\"scatter3d\"},{\"anchor\":\"tip\",\"colorscale\":[[0,\"#636EFA\"],[1,\"#636EFA\"]],\"hoverinfo\":\"skip\",\"legendgroup\":\"rechits_chain\",\"showscale\":false,\"sizeref\":0.1,\"u\":[0.0],\"v\":[1.0],\"w\":[0.0],\"x\":[2.772052764892578],\"y\":[-2.0660879611968994],\"z\":[23.582500457763672],\"type\":\"cone\"},{\"hoverinfo\":\"skip\",\"legendgroup\":\"rechits_chain\",\"line\":{\"width\":1},\"marker\":{\"color\":\"#636EFA\"},\"mode\":\"lines\",\"name\":\"Rechits chain\",\"showlegend\":false,\"x\":[2.772052764892578,1.7975654602050781],\"y\":[0.18427824974060059,-0.3782217502593994],\"z\":[23.582500457763672,23.582500457763672],\"type\":\"scatter3d\"},{\"anchor\":\"tip\",\"colorscale\":[[0,\"#636EFA\"],[1,\"#636EFA\"]],\"hoverinfo\":\"skip\",\"legendgroup\":\"rechits_chain\",\"showscale\":false,\"sizeref\":0.1,\"u\":[-0.866071776036405],\"v\":[-0.499919672300608],\"w\":[0.0],\"x\":[1.7975654602050781],\"y\":[-0.3782217502593994],\"z\":[23.582500457763672],\"type\":\"cone\"},{\"hoverinfo\":\"skip\",\"legendgroup\":\"rechits_chain\",\"line\":{\"width\":2.969925436623279},\"marker\":{\"color\":\"#636EFA\"},\"mode\":\"lines\",\"name\":\"Rechits chain\",\"showlegend\":false,\"x\":[2.772052764892578,2.772052764892578],\"y\":[-2.0660879611968994,-0.9409658908843994],\"z\":[23.582500457763672,23.582500457763672],\"type\":\"scatter3d\"},{\"anchor\":\"tip\",\"colorscale\":[[0,\"#636EFA\"],[1,\"#636EFA\"]],\"hoverinfo\":\"skip\",\"legendgroup\":\"rechits_chain\",\"showscale\":false,\"sizeref\":0.1,\"u\":[0.0],\"v\":[1.0],\"w\":[0.0],\"x\":[2.772052764892578],\"y\":[-0.9409658908843994],\"z\":[23.582500457763672],\"type\":\"cone\"},{\"hoverinfo\":\"skip\",\"legendgroup\":\"rechits_chain\",\"line\":{\"width\":3.2018418609049637},\"marker\":{\"color\":\"#636EFA\"},\"mode\":\"lines\",\"name\":\"Rechits chain\",\"showlegend\":false,\"x\":[1.7975654602050781,1.7975654602050781],\"y\":[0.7467782497406006,-0.3782217502593994],\"z\":[23.582500457763672,23.582500457763672],\"type\":\"scatter3d\"},{\"anchor\":\"tip\",\"colorscale\":[[0,\"#636EFA\"],[1,\"#636EFA\"]],\"hoverinfo\":\"skip\",\"legendgroup\":\"rechits_chain\",\"showscale\":false,\"sizeref\":0.1,\"u\":[0.0],\"v\":[-1.0],\"w\":[0.0],\"x\":[1.7975654602050781],\"y\":[-0.3782217502593994],\"z\":[23.582500457763672],\"type\":\"cone\"},{\"hoverinfo\":\"skip\",\"legendgroup\":\"rechits_chain\",\"line\":{\"width\":4.057016063585951},\"marker\":{\"color\":\"#636EFA\"},\"mode\":\"lines\",\"name\":\"Rechits chain\",\"showlegend\":false,\"x\":[1.7975654602050781,2.772052764892578],\"y\":[-0.3782217502593994,-0.9409658908843994],\"z\":[23.582500457763672,23.582500457763672],\"type\":\"scatter3d\"},{\"anchor\":\"tip\",\"colorscale\":[[0,\"#636EFA\"],[1,\"#636EFA\"]],\"hoverinfo\":\"skip\",\"legendgroup\":\"rechits_chain\",\"showscale\":false,\"sizeref\":0.1,\"u\":[0.8659778263291473],\"v\":[-0.5000823975168945],\"w\":[0.0],\"x\":[2.772052764892578],\"y\":[-0.9409658908843994],\"z\":[23.582500457763672],\"type\":\"cone\"},{\"hoverinfo\":\"skip\",\"legendgroup\":\"rechits_chain\",\"line\":{\"width\":2.660656509072082},\"marker\":{\"color\":\"#636EFA\"},\"mode\":\"lines\",\"name\":\"Rechits chain\",\"showlegend\":false,\"x\":[1.7975654602050781,2.772052764892578],\"y\":[-1.5034658908843994,-0.9409658908843994],\"z\":[23.582500457763672,23.582500457763672],\"type\":\"scatter3d\"},{\"anchor\":\"tip\",\"colorscale\":[[0,\"#636EFA\"],[1,\"#636EFA\"]],\"hoverinfo\":\"skip\",\"legendgroup\":\"rechits_chain\",\"showscale\":false,\"sizeref\":0.1,\"u\":[0.866071776036405],\"v\":[0.499919672300608],\"w\":[0.0],\"x\":[2.772052764892578],\"y\":[-0.9409658908843994],\"z\":[23.582500457763672],\"type\":\"cone\"},{\"hoverinfo\":\"skip\",\"legendgroup\":\"rechits_chain\",\"line\":{\"width\":1.7894329064386123},\"marker\":{\"color\":\"#636EFA\"},\"mode\":\"lines\",\"name\":\"Rechits chain\",\"showlegend\":false,\"x\":[0.8232002258300781,1.7975654602050781],\"y\":[1.3092782497406006,0.7467782497406006],\"z\":[23.582500457763672,23.582500457763672],\"type\":\"scatter3d\"},{\"anchor\":\"tip\",\"colorscale\":[[0,\"#636EFA\"],[1,\"#636EFA\"]],\"hoverinfo\":\"skip\",\"legendgroup\":\"rechits_chain\",\"showscale\":false,\"sizeref\":0.1,\"u\":[0.8660446585505366],\"v\":[-0.4999666482837475],\"w\":[0.0],\"x\":[1.7975654602050781],\"y\":[0.7467782497406006],\"z\":[23.582500457763672],\"type\":\"cone\"},{\"hoverinfo\":\"skip\",\"legendgroup\":\"rechits_chain\",\"line\":{\"width\":2.3617229222370772},\"marker\":{\"color\":\"#636EFA\"},\"mode\":\"lines\",\"name\":\"Rechits chain\",\"showlegend\":false,\"x\":[0.8232002258300781,1.7975654602050781],\"y\":[-0.9409658908843994,-1.5034658908843994],\"z\":[23.582500457763672,23.582500457763672],\"type\":\"scatter3d\"},{\"anchor\":\"tip\",\"colorscale\":[[0,\"#636EFA\"],[1,\"#636EFA\"]],\"hoverinfo\":\"skip\",\"legendgroup\":\"rechits_chain\",\"showscale\":false,\"sizeref\":0.1,\"u\":[0.8660446585505366],\"v\":[-0.4999666482837475],\"w\":[0.0],\"x\":[1.7975654602050781],\"y\":[-1.5034658908843994],\"z\":[23.582500457763672],\"type\":\"cone\"},{\"hoverinfo\":\"skip\",\"legendgroup\":\"rechits_chain\",\"line\":{\"width\":1},\"marker\":{\"color\":\"#636EFA\"},\"mode\":\"lines\",\"name\":\"Rechits chain\",\"showlegend\":false,\"x\":[0.8232002258300781,0.8232002258300781],\"y\":[-2.0660879611968994,-0.9409658908843994],\"z\":[23.582500457763672,23.582500457763672],\"type\":\"scatter3d\"},{\"anchor\":\"tip\",\"colorscale\":[[0,\"#636EFA\"],[1,\"#636EFA\"]],\"hoverinfo\":\"skip\",\"legendgroup\":\"rechits_chain\",\"showscale\":false,\"sizeref\":0.1,\"u\":[0.0],\"v\":[1.0],\"w\":[0.0],\"x\":[0.8232002258300781],\"y\":[-0.9409658908843994],\"z\":[23.582500457763672],\"type\":\"cone\"},{\"hoverinfo\":\"skip\",\"legendgroup\":\"rechits_chain\",\"line\":{\"width\":1.667622951056697},\"marker\":{\"color\":\"#636EFA\"},\"mode\":\"lines\",\"name\":\"Rechits chain\",\"showlegend\":false,\"x\":[-0.15140914916992188,0.8232002258300781],\"y\":[-0.3782217502593994,-0.9409658908843994],\"z\":[23.582500457763672,23.582500457763672],\"type\":\"scatter3d\"},{\"anchor\":\"tip\",\"colorscale\":[[0,\"#636EFA\"],[1,\"#636EFA\"]],\"hoverinfo\":\"skip\",\"legendgroup\":\"rechits_chain\",\"showscale\":false,\"sizeref\":0.1,\"u\":[0.8660049508818618],\"v\":[-0.5000354237932594],\"w\":[0.0],\"x\":[0.8232002258300781],\"y\":[-0.9409658908843994],\"z\":[23.582500457763672],\"type\":\"cone\"},{\"customdata\":[[\"0.013859902\",\"0.022130288\",\"1.1252441\",\"Follower\",\"8\"],[\"0.016540775\",\"0.023470726\",\"2.2559714\",\"Seed\",\"8\"]],\"hovertemplate\":\"Rechit : %{customdata[3]}<br>Layer : %{customdata[4]}<br>Energy: %{customdata[0]:.2g} GeV<br>Rho: %{customdata[1]:.2g} GeV<br>Delta: %{customdata[2]:.2g} cm\",\"legendgroup\":\"rechits\",\"legendgrouptitle\":{\"text\":\"Rechits\"},\"marker\":{\"color\":\"#EF553B\",\"size\":[4.91487455368042,5.761129379272461],\"symbol\":\"circle\"},\"mode\":\"markers\",\"name\":\"2D cluster nb 8.0\",\"x\":[5.695514678955078,5.695514678955078],\"y\":[-1.5034658908843994,-0.3782217502593994],\"z\":[23.582500457763672,23.582500457763672],\"type\":\"scatter3d\"},{\"hoverinfo\":\"skip\",\"legendgroup\":\"rechits_chain\",\"line\":{\"width\":1},\"marker\":{\"color\":\"#EF553B\"},\"mode\":\"lines\",\"name\":\"Rechits chain\",\"showlegend\":false,\"x\":[5.695514678955078,5.695514678955078],\"y\":[-1.5034658908843994,-0.3782217502593994],\"z\":[23.582500457763672,23.582500457763672],\"type\":\"scatter3d\"},{\"anchor\":\"tip\",\"colorscale\":[[0,\"#EF553B\"],[1,\"#EF553B\"]],\"hoverinfo\":\"skip\",\"legendgroup\":\"rechits_chain\",\"showscale\":false,\"sizeref\":0.1,\"u\":[0.0],\"v\":[1.0],\"w\":[0.0],\"x\":[5.695514678955078],\"y\":[-0.3782217502593994],\"z\":[23.582500457763672],\"type\":\"cone\"},{\"customdata\":[[\"0.008931563\",\"0.08170539\",\"1.0698566\",\"Follower\",\"9\"],[\"0.009322476\",\"0.1861874\",\"1.0908568\",\"Follower\",\"9\"],[\"0.22172749\",\"0.48186526\",\"1.125173\",\"Follower\",\"9\"],[\"0.0335046\",\"0.3547958\",\"1.125173\",\"Follower\",\"9\"],[\"0.071865015\",\"0.12362305\",\"1.1252372\",\"Follower\",\"9\"],[\"0.026299214\",\"0.11539213\",\"1.0697901\",\"Follower\",\"9\"],[\"0.078120925\",\"0.5020317\",\"1.1251807\",\"Follower\",\"9\"],[\"0.326204\",\"0.63824904\",\"3.4028235e+38\",\"Seed\",\"9\"],[\"0.040178034\",\"0.29740518\",\"1.1251221\",\"Follower\",\"9\"],[\"0.05749063\",\"0.08726614\",\"1.125425\",\"Follower\",\"9\"],[\"0.23101643\",\"0.5523867\",\"1.1253028\",\"Follower\",\"9\"],[\"0.019542629\",\"0.40736347\",\"1.1251807\",\"Follower\",\"9\"],[\"0.054406475\",\"0.12561643\",\"1.1252463\",\"Follower\",\"9\"],[\"0.061784532\",\"0.27473846\",\"1.125075\",\"Follower\",\"9\"],[\"0.12383673\",\"0.28000852\",\"1.125075\",\"Follower\",\"9\"],[\"0.010834212\",\"0.042876955\",\"1.1251315\",\"Follower\",\"9\"],[\"0.03780289\",\"0.06869516\",\"1.1252865\",\"Follower\",\"9\"],[\"0.009679012\",\"0.015096119\",\"1.125343\",\"Follower\",\"9\"],[\"0.027582224\",\"0.16587785\",\"1.1251886\",\"Follower\",\"9\"],[\"0.0455413\",\"0.18694846\",\"1.1251886\",\"Follower\",\"9\"],[\"0.011901664\",\"0.24993259\",\"0.0\",\"Follower\",\"9\"],[\"0.02135015\",\"0.25465685\",\"1.125\",\"Follower\",\"9\"]],\"hovertemplate\":\"Rechit : %{customdata[3]}<br>Layer : %{customdata[4]}<br>Energy: %{customdata[0]:.2g} GeV<br>Rho: %{customdata[1]:.2g} GeV<br>Delta: %{customdata[2]:.2g} cm\",\"legendgroup\":\"rechits\",\"legendgrouptitle\":{\"text\":\"Rechits\"},\"marker\":{\"color\":\"#00CC96\",\"size\":[2.811978578567505,3.0169837474823,18.183094024658203,9.139164924621582,12.791194915771484,7.980327606201172,13.190652847290039,20.030742645263672,10.008435249328613,11.723173141479492,18.379499435424805,6.559246063232422,11.459293365478516,12.06789493560791,15.395471572875977,3.736189365386963,9.716816902160645,3.196601390838623,8.208284378051758,10.608084678649902,4.185902118682861,6.982595920562744],\"symbol\":\"circle\"},\"mode\":\"markers\",\"name\":\"2D cluster nb 9.0\",\"x\":[3.7465310096740723,3.7465310096740723,3.7988409996032715,3.7988409996032715,2.8243627548217773,2.8243627548217773,2.8243627548217773,2.8243627548217773,2.8243627548217773,1.8498754501342773,1.8498754501342773,1.8498754501342773,1.8498754501342773,0.8755102157592773,0.8755102157592773,0.8755102157592773,-0.09909915924072266,-0.09909915924072266,4.773337364196777,4.773337364196777,1.8498754501342773,1.8498754501342773],\"y\":[-2.6287190914154053,0.7467782497406006,-0.3984518051147461,-1.523695945739746,-3.211562156677246,1.289048194885254,0.1640481948852539,-0.9611959457397461,-2.086318016052246,1.852036476135254,-0.3984518051147461,-1.523695945739746,-2.648949146270752,0.1640481948852539,-0.9611959457397461,-3.211562156677246,0.7265481948852539,-2.648949146270752,0.1640481948852539,-0.9611959457397461,0.7265481948852539,0.7265481948852539],\"z\":[25.697500228881836,25.697500228881836,25.697500228881836,25.697500228881836,25.697500228881836,25.697500228881836,25.697500228881836,25.697500228881836,25.697500228881836,25.697500228881836,25.697500228881836,25.697500228881836,25.697500228881836,25.697500228881836,25.697500228881836,25.697500228881836,25.697500228881836,25.697500228881836,25.697500228881836,25.697500228881836,25.697500228881836,25.697500228881836],\"type\":\"scatter3d\"},{\"hoverinfo\":\"skip\",\"legendgroup\":\"rechits_chain\",\"line\":{\"width\":1.5075929941279371},\"marker\":{\"color\":\"#00CC96\"},\"mode\":\"lines\",\"name\":\"Rechits chain\",\"showlegend\":false,\"x\":[3.7465310096740723,2.8243627548217773],\"y\":[-2.6287190914154053,-2.086318016052246],\"z\":[25.697500228881836,25.697500228881836],\"type\":\"scatter3d\"},{\"anchor\":\"tip\",\"colorscale\":[[0,\"#00CC96\"],[1,\"#00CC96\"]],\"hoverinfo\":\"skip\",\"legendgroup\":\"rechits_chain\",\"showscale\":false,\"sizeref\":0.1,\"u\":[-0.8619549813945124],\"v\":[0.506984822306532],\"w\":[0.0],\"x\":[2.8243627548217773],\"y\":[-2.086318016052246],\"z\":[25.697500228881836],\"type\":\"cone\"},{\"hoverinfo\":\"skip\",\"legendgroup\":\"rechits_chain\",\"line\":{\"width\":2.2312213902194205},\"marker\":{\"color\":\"#00CC96\"},\"mode\":\"lines\",\"name\":\"Rechits chain\",\"showlegend\":false,\"x\":[3.7465310096740723,2.8243627548217773],\"y\":[0.7467782497406006,0.1640481948852539],\"z\":[25.697500228881836,25.697500228881836],\"type\":\"scatter3d\"},{\"anchor\":\"tip\",\"colorscale\":[[0,\"#00CC96\"],[1,\"#00CC96\"]],\"hoverinfo\":\"skip\",\"legendgroup\":\"rechits_chain\",\"showscale\":false,\"sizeref\":0.1,\"u\":[-0.8453614038732127],\"v\":[-0.5341948116946764],\"w\":[0.0],\"x\":[2.8243627548217773],\"y\":[0.1640481948852539],\"z\":[25.697500228881836],\"type\":\"cone\"},{\"hoverinfo\":\"skip\",\"legendgroup\":\"rechits_chain\",\"line\":{\"width\":3.2161108654226824},\"marker\":{\"color\":\"#00CC96\"},\"mode\":\"lines\",\"name\":\"Rechits chain\",\"showlegend\":false,\"x\":[3.7988409996032715,2.8243627548217773],\"y\":[-0.3984518051147461,0.1640481948852539],\"z\":[25.697500228881836,25.697500228881836],\"type\":\"scatter3d\"},{\"anchor\":\"tip\",\"colorscale\":[[0,\"#00CC96\"],[1,\"#00CC96\"]],\"hoverinfo\":\"skip\",\"legendgroup\":\"rechits_chain\",\"showscale\":false,\"sizeref\":0.1,\"u\":[-0.8660697636731018],\"v\":[0.4999231585466086],\"w\":[0.0],\"x\":[2.8243627548217773],\"y\":[0.1640481948852539],\"z\":[25.697500228881836],\"type\":\"cone\"},{\"hoverinfo\":\"skip\",\"legendgroup\":\"rechits_chain\",\"line\":{\"width\":2.0674436405725576},\"marker\":{\"color\":\"#00CC96\"},\"mode\":\"lines\",\"name\":\"Rechits chain\",\"showlegend\":false,\"x\":[3.7988409996032715,2.8243627548217773],\"y\":[-1.523695945739746,-0.9611959457397461],\"z\":[25.697500228881836,25.697500228881836],\"type\":\"scatter3d\"},{\"anchor\":\"tip\",\"colorscale\":[[0,\"#00CC96\"],[1,\"#00CC96\"]],\"hoverinfo\":\"skip\",\"legendgroup\":\"rechits_chain\",\"showscale\":false,\"sizeref\":0.1,\"u\":[-0.8660697636731018],\"v\":[0.4999231585466086],\"w\":[0.0],\"x\":[2.8243627548217773],\"y\":[-0.9611959457397461],\"z\":[25.697500228881836],\"type\":\"cone\"},{\"hoverinfo\":\"skip\",\"legendgroup\":\"rechits_chain\",\"line\":{\"width\":1.972204471002992},\"marker\":{\"color\":\"#00CC96\"},\"mode\":\"lines\",\"name\":\"Rechits chain\",\"showlegend\":false,\"x\":[2.8243627548217773,1.8498754501342773],\"y\":[-3.211562156677246,-2.648949146270752],\"z\":[25.697500228881836,25.697500228881836],\"type\":\"scatter3d\"},{\"anchor\":\"tip\",\"colorscale\":[[0,\"#00CC96\"],[1,\"#00CC96\"]],\"hoverinfo\":\"skip\",\"legendgroup\":\"rechits_chain\",\"showscale\":false,\"sizeref\":0.1,\"u\":[-0.8660282888646941],\"v\":[0.4999950028611187],\"w\":[0.0],\"x\":[1.8498754501342773],\"y\":[-2.648949146270752],\"z\":[25.697500228881836],\"type\":\"cone\"},{\"hoverinfo\":\"skip\",\"legendgroup\":\"rechits_chain\",\"line\":{\"width\":2.125726692388649},\"marker\":{\"color\":\"#00CC96\"},\"mode\":\"lines\",\"name\":\"Rechits chain\",\"showlegend\":false,\"x\":[2.8243627548217773,3.7465310096740723],\"y\":[1.289048194885254,0.7467782497406006],\"z\":[25.697500228881836,25.697500228881836],\"type\":\"scatter3d\"},{\"anchor\":\"tip\",\"colorscale\":[[0,\"#00CC96\"],[1,\"#00CC96\"]],\"hoverinfo\":\"skip\",\"legendgroup\":\"rechits_chain\",\"showscale\":false,\"sizeref\":0.1,\"u\":[0.8620085419065843],\"v\":[-0.506893749892504],\"w\":[0.0],\"x\":[3.7465310096740723],\"y\":[0.7467782497406006],\"z\":[25.697500228881836],\"type\":\"cone\"},{\"hoverinfo\":\"skip\",\"legendgroup\":\"rechits_chain\",\"line\":{\"width\":3.7389615387784083},\"marker\":{\"color\":\"#00CC96\"},\"mode\":\"lines\",\"name\":\"Rechits chain\",\"showlegend\":false,\"x\":[2.8243627548217773,1.8498754501342773],\"y\":[0.1640481948852539,-0.3984518051147461],\"z\":[25.697500228881836,25.697500228881836],\"type\":\"scatter3d\"},{\"anchor\":\"tip\",\"colorscale\":[[0,\"#00CC96\"],[1,\"#00CC96\"]],\"hoverinfo\":\"skip\",\"legendgroup\":\"rechits_chain\",\"showscale\":false,\"sizeref\":0.1,\"u\":[-0.866071776036405],\"v\":[-0.499919672300608],\"w\":[0.0],\"x\":[1.8498754501342773],\"y\":[-0.3984518051147461],\"z\":[25.697500228881836],\"type\":\"cone\"},{\"hoverinfo\":\"skip\",\"legendgroup\":\"rechits_chain\",\"line\":{\"width\":3.1446746817294406},\"marker\":{\"color\":\"#00CC96\"},\"mode\":\"lines\",\"name\":\"Rechits chain\",\"showlegend\":false,\"x\":[2.8243627548217773,2.8243627548217773],\"y\":[-2.086318016052246,-0.9611959457397461],\"z\":[25.697500228881836,25.697500228881836],\"type\":\"scatter3d\"},{\"anchor\":\"tip\",\"colorscale\":[[0,\"#00CC96\"],[1,\"#00CC96\"]],\"hoverinfo\":\"skip\",\"legendgroup\":\"rechits_chain\",\"showscale\":false,\"sizeref\":0.1,\"u\":[0.0],\"v\":[1.0],\"w\":[0.0],\"x\":[2.8243627548217773],\"y\":[-0.9611959457397461],\"z\":[25.697500228881836],\"type\":\"cone\"},{\"hoverinfo\":\"skip\",\"legendgroup\":\"rechits_chain\",\"line\":{\"width\":1.7490368539199508},\"marker\":{\"color\":\"#00CC96\"},\"mode\":\"lines\",\"name\":\"Rechits chain\",\"showlegend\":false,\"x\":[1.8498754501342773,2.8243627548217773],\"y\":[1.852036476135254,1.289048194885254],\"z\":[25.697500228881836,25.697500228881836],\"type\":\"scatter3d\"},{\"anchor\":\"tip\",\"colorscale\":[[0,\"#00CC96\"],[1,\"#00CC96\"]],\"hoverinfo\":\"skip\",\"legendgroup\":\"rechits_chain\",\"showscale\":false,\"sizeref\":0.1,\"u\":[0.8658838664416397],\"v\":[-0.5002450697768811],\"w\":[0.0],\"x\":[2.8243627548217773],\"y\":[1.289048194885254],\"z\":[25.697500228881836],\"type\":\"cone\"},{\"hoverinfo\":\"skip\",\"legendgroup\":\"rechits_chain\",\"line\":{\"width\":4.36233224322894},\"marker\":{\"color\":\"#00CC96\"},\"mode\":\"lines\",\"name\":\"Rechits chain\",\"showlegend\":false,\"x\":[1.8498754501342773,2.8243627548217773],\"y\":[-0.3984518051147461,-0.9611959457397461],\"z\":[25.697500228881836,25.697500228881836],\"type\":\"scatter3d\"},{\"anchor\":\"tip\",\"colorscale\":[[0,\"#00CC96\"],[1,\"#00CC96\"]],\"hoverinfo\":\"skip\",\"legendgroup\":\"rechits_chain\",\"showscale\":false,\"sizeref\":0.1,\"u\":[0.8659778263291473],\"v\":[-0.5000823975168945],\"w\":[0.0],\"x\":[2.8243627548217773],\"y\":[-0.9611959457397461],\"z\":[25.697500228881836],\"type\":\"cone\"},{\"hoverinfo\":\"skip\",\"legendgroup\":\"rechits_chain\",\"line\":{\"width\":2.6629089077993524},\"marker\":{\"color\":\"#00CC96\"},\"mode\":\"lines\",\"name\":\"Rechits chain\",\"showlegend\":false,\"x\":[1.8498754501342773,2.8243627548217773],\"y\":[-1.523695945739746,-0.9611959457397461],\"z\":[25.697500228881836,25.697500228881836],\"type\":\"scatter3d\"},{\"anchor\":\"tip\",\"colorscale\":[[0,\"#00CC96\"],[1,\"#00CC96\"]],\"hoverinfo\":\"skip\",\"legendgroup\":\"rechits_chain\",\"showscale\":false,\"sizeref\":0.1,\"u\":[0.866071776036405],\"v\":[0.499919672300608],\"w\":[0.0],\"x\":[2.8243627548217773],\"y\":[-0.9611959457397461],\"z\":[25.697500228881836],\"type\":\"cone\"},{\"hoverinfo\":\"skip\",\"legendgroup\":\"rechits_chain\",\"line\":{\"width\":2.6863818925818603},\"marker\":{\"color\":\"#00CC96\"},\"mode\":\"lines\",\"name\":\"Rechits chain\",\"showlegend\":false,\"x\":[1.8498754501342773,2.8243627548217773],\"y\":[-2.648949146270752,-2.086318016052246],\"z\":[25.697500228881836,25.697500228881836],\"type\":\"scatter3d\"},{\"anchor\":\"tip\",\"colorscale\":[[0,\"#00CC96\"],[1,\"#00CC96\"]],\"hoverinfo\":\"skip\",\"legendgroup\":\"rechits_chain\",\"showscale\":false,\"sizeref\":0.1,\"u\":[0.8660213160347869],\"v\":[0.5000070801232472],\"w\":[0.0],\"x\":[2.8243627548217773],\"y\":[-2.086318016052246],\"z\":[25.697500228881836],\"type\":\"cone\"},{\"hoverinfo\":\"skip\",\"legendgroup\":\"rechits_chain\",\"line\":{\"width\":2.2984507771183935},\"marker\":{\"color\":\"#00CC96\"},\"mode\":\"lines\",\"name\":\"Rechits chain\",\"showlegend\":false,\"x\":[0.8755102157592773,1.8498754501342773],\"y\":[0.1640481948852539,-0.3984518051147461],\"z\":[25.697500228881836,25.697500228881836],\"type\":\"scatter3d\"},{\"anchor\":\"tip\",\"colorscale\":[[0,\"#00CC96\"],[1,\"#00CC96\"]],\"hoverinfo\":\"skip\",\"legendgroup\":\"rechits_chain\",\"showscale\":false,\"sizeref\":0.1,\"u\":[0.8660446585505366],\"v\":[-0.4999666482837475],\"w\":[0.0],\"x\":[1.8498754501342773],\"y\":[-0.3984518051147461],\"z\":[25.697500228881836],\"type\":\"cone\"},{\"hoverinfo\":\"skip\",\"legendgroup\":\"rechits_chain\",\"line\":{\"width\":2.5163789389221325},\"marker\":{\"color\":\"#00CC96\"},\"mode\":\"lines\",\"name\":\"Rechits chain\",\"showlegend\":false,\"x\":[0.8755102157592773,1.8498754501342773],\"y\":[-0.9611959457397461,-1.523695945739746],\"z\":[25.697500228881836,25.697500228881836],\"type\":\"scatter3d\"},{\"anchor\":\"tip\",\"colorscale\":[[0,\"#00CC96\"],[1,\"#00CC96\"]],\"hoverinfo\":\"skip\",\"legendgroup\":\"rechits_chain\",\"showscale\":false,\"sizeref\":0.1,\"u\":[0.8660446585505366],\"v\":[-0.4999666482837475],\"w\":[0.0],\"x\":[1.8498754501342773],\"y\":[-1.523695945739746],\"z\":[25.697500228881836],\"type\":\"cone\"},{\"hoverinfo\":\"skip\",\"legendgroup\":\"rechits_chain\",\"line\":{\"width\":1},\"marker\":{\"color\":\"#00CC96\"},\"mode\":\"lines\",\"name\":\"Rechits chain\",\"showlegend\":false,\"x\":[0.8755102157592773,1.8498754501342773],\"y\":[-3.211562156677246,-2.648949146270752],\"z\":[25.697500228881836,25.697500228881836],\"type\":\"scatter3d\"},{\"anchor\":\"tip\",\"colorscale\":[[0,\"#00CC96\"],[1,\"#00CC96\"]],\"hoverinfo\":\"skip\",\"legendgroup\":\"rechits_chain\",\"showscale\":false,\"sizeref\":0.1,\"u\":[0.8660011645682122],\"v\":[0.5000419812040788],\"w\":[0.0],\"x\":[1.8498754501342773],\"y\":[-2.648949146270752],\"z\":[25.697500228881836],\"type\":\"cone\"},{\"hoverinfo\":\"skip\",\"legendgroup\":\"rechits_chain\",\"line\":{\"width\":1.3298004602308438},\"marker\":{\"color\":\"#00CC96\"},\"mode\":\"lines\",\"name\":\"Rechits chain\",\"showlegend\":false,\"x\":[-0.09909915924072266,0.8755102157592773],\"y\":[0.7265481948852539,0.1640481948852539],\"z\":[25.697500228881836,25.697500228881836],\"type\":\"scatter3d\"},{\"anchor\":\"tip\",\"colorscale\":[[0,\"#00CC96\"],[1,\"#00CC96\"]],\"hoverinfo\":\"skip\",\"legendgroup\":\"rechits_chain\",\"showscale\":false,\"sizeref\":0.1,\"u\":[0.8660988858794976],\"v\":[-0.4998727036739385],\"w\":[0.0],\"x\":[0.8755102157592773],\"y\":[0.1640481948852539],\"z\":[25.697500228881836],\"type\":\"cone\"},{\"hoverinfo\":\"skip\",\"legendgroup\":\"rechits_chain\",\"line\":{\"width\":1},\"marker\":{\"color\":\"#00CC96\"},\"mode\":\"lines\",\"name\":\"Rechits chain\",\"showlegend\":false,\"x\":[-0.09909915924072266,0.8755102157592773],\"y\":[-2.648949146270752,-3.211562156677246],\"z\":[25.697500228881836,25.697500228881836],\"type\":\"scatter3d\"},{\"anchor\":\"tip\",\"colorscale\":[[0,\"#00CC96\"],[1,\"#00CC96\"]],\"hoverinfo\":\"skip\",\"legendgroup\":\"rechits_chain\",\"showscale\":false,\"sizeref\":0.1,\"u\":[0.8660554055172482],\"v\":[-0.4999480318736685],\"w\":[0.0],\"x\":[0.8755102157592773],\"y\":[-3.211562156677246],\"z\":[25.697500228881836],\"type\":\"cone\"},{\"hoverinfo\":\"skip\",\"legendgroup\":\"rechits_chain\",\"line\":{\"width\":1.0145864308850432},\"marker\":{\"color\":\"#00CC96\"},\"mode\":\"lines\",\"name\":\"Rechits chain\",\"showlegend\":false,\"x\":[4.773337364196777,3.7988409996032715],\"y\":[0.1640481948852539,-0.3984518051147461],\"z\":[25.697500228881836,25.697500228881836],\"type\":\"scatter3d\"},{\"anchor\":\"tip\",\"colorscale\":[[0,\"#00CC96\"],[1,\"#00CC96\"]],\"hoverinfo\":\"skip\",\"legendgroup\":\"rechits_chain\",\"showscale\":false,\"sizeref\":0.1,\"u\":[-0.8660737883576084],\"v\":[-0.49991618609512994],\"w\":[0.0],\"x\":[3.7988409996032715],\"y\":[-0.3984518051147461],\"z\":[25.697500228881836],\"type\":\"cone\"},{\"hoverinfo\":\"skip\",\"legendgroup\":\"rechits_chain\",\"line\":{\"width\":1.5160345436422762},\"marker\":{\"color\":\"#00CC96\"},\"mode\":\"lines\",\"name\":\"Rechits chain\",\"showlegend\":false,\"x\":[4.773337364196777,3.7988409996032715],\"y\":[-0.9611959457397461,-1.523695945739746],\"z\":[25.697500228881836,25.697500228881836],\"type\":\"scatter3d\"},{\"anchor\":\"tip\",\"colorscale\":[[0,\"#00CC96\"],[1,\"#00CC96\"]],\"hoverinfo\":\"skip\",\"legendgroup\":\"rechits_chain\",\"showscale\":false,\"sizeref\":0.1,\"u\":[-0.8660737883576084],\"v\":[-0.49991618609512994],\"w\":[0.0],\"x\":[3.7988409996032715],\"y\":[-1.523695945739746],\"z\":[25.697500228881836],\"type\":\"cone\"},{\"hoverinfo\":\"skip\",\"legendgroup\":\"rechits_chain\",\"line\":{\"width\":1.2015242453767003},\"marker\":{\"color\":\"#00CC96\"},\"mode\":\"lines\",\"name\":\"Rechits chain\",\"showlegend\":false,\"x\":[1.8498754501342773,1.8498754501342773],\"y\":[0.7265481948852539,-0.3984518051147461],\"z\":[25.697500228881836,25.697500228881836],\"type\":\"scatter3d\"},{\"anchor\":\"tip\",\"colorscale\":[[0,\"#00CC96\"],[1,\"#00CC96\"]],\"hoverinfo\":\"skip\",\"legendgroup\":\"rechits_chain\",\"showscale\":false,\"sizeref\":0.1,\"u\":[0.0],\"v\":[-1.0],\"w\":[0.0],\"x\":[1.8498754501342773],\"y\":[-0.3984518051147461],\"z\":[25.697500228881836],\"type\":\"cone\"},{\"customdata\":[[\"0.03339588\",\"0.09895745\",\"1.0809921\",\"Follower\",\"10\"],[\"0.024391126\",\"0.26678413\",\"1.125173\",\"Follower\",\"10\"],[\"0.09354581\",\"0.26848215\",\"1.125173\",\"Follower\",\"10\"],[\"0.041409045\",\"0.13619316\",\"1.125\",\"Follower\",\"10\"],[\"0.065322965\",\"0.38275528\",\"1.1251807\",\"Follower\",\"10\"],[\"0.25427884\",\"0.44626373\",\"3.4028235e+38\",\"Seed\",\"10\"],[\"0.010169457\",\"0.18816824\",\"1.1251221\",\"Follower\",\"10\"],[\"0.09084937\",\"0.25963262\",\"1.125\",\"Follower\",\"10\"],[\"0.19054039\",\"0.41591308\",\"1.1253028\",\"Follower\",\"10\"],[\"0.040294133\",\"0.21137133\",\"1.125075\",\"Follower\",\"10\"],[\"0.044403683\",\"0.07273124\",\"1.1252865\",\"Follower\",\"10\"],[\"0.016360976\",\"0.058709886\",\"1.125\",\"Follower\",\"10\"],[\"0.02279078\",\"0.088684924\",\"1.1251221\",\"Follower\",\"10\"],[\"0.038242478\",\"0.10860634\",\"1.1251886\",\"Follower\",\"10\"],[\"0.006646276\",\"0.006646276\",\"1.9488729\",\"Follower\",\"10\"]],\"hovertemplate\":\"Rechit : %{customdata[3]}<br>Layer : %{customdata[4]}<br>Energy: %{customdata[0]:.2g} GeV<br>Rho: %{customdata[1]:.2g} GeV<br>Delta: %{customdata[2]:.2g} cm\",\"legendgroup\":\"rechits\",\"legendgrouptitle\":{\"text\":\"Rechits\"},\"marker\":{\"color\":\"#AB63FA\",\"size\":[9.12360954284668,7.619866847991943,14.053010940551758,10.152863502502441,12.334415435791016,18.83865737915039,3.4331555366516113,13.913036346435547,17.45764923095703,10.022244453430176,10.487018585205078,5.708823204040527,7.295091152191162,9.77214527130127,1.3976268768310547],\"symbol\":\"circle\"},\"mode\":\"markers\",\"name\":\"2D cluster nb 10.0\",\"x\":[3.7988409996032715,3.830350875854492,3.830350875854492,2.855872631072998,2.855872631072998,2.855872631072998,2.855872631072998,1.881385326385498,1.881385326385498,0.907020092010498,-0.06758928298950195,-0.06758928298950195,4.804847240447998,4.804847240447998,5.779334545135498],\"y\":[0.7265481948852539,-0.36449170112609863,-1.4897358417510986,1.3230082988739014,0.19800829887390137,-0.9272358417510986,-2.0523579120635986,0.7605082988739014,-0.36449170112609863,0.19800829887390137,0.7605082988739014,-0.36449170112609863,-2.0523579120635986,-0.9272358417510986,0.7605082988739014],\"z\":[26.587499618530273,26.587499618530273,26.587499618530273,26.587499618530273,26.587499618530273,26.587499618530273,26.587499618530273,26.587499618530273,26.587499618530273,26.587499618530273,26.587499618530273,26.587499618530273,26.587499618530273,26.587499618530273,26.587499618530273],\"type\":\"scatter3d\"},{\"hoverinfo\":\"skip\",\"legendgroup\":\"rechits_chain\",\"line\":{\"width\":1.2058474152630798},\"marker\":{\"color\":\"#AB63FA\"},\"mode\":\"lines\",\"name\":\"Rechits chain\",\"showlegend\":false,\"x\":[3.7988409996032715,2.855872631072998],\"y\":[0.7265481948852539,0.19800829887390137],\"z\":[26.587499618530273,26.587499618530273],\"type\":\"scatter3d\"},{\"anchor\":\"tip\",\"colorscale\":[[0,\"#AB63FA\"],[1,\"#AB63FA\"]],\"hoverinfo\":\"skip\",\"legendgroup\":\"rechits_chain\",\"showscale\":false,\"sizeref\":0.1,\"u\":[-0.8723175968476665],\"v\":[-0.48893967954126205],\"w\":[0.0],\"x\":[2.855872631072998],\"y\":[0.19800829887390137],\"z\":[26.587499618530273],\"type\":\"cone\"},{\"hoverinfo\":\"skip\",\"legendgroup\":\"rechits_chain\",\"line\":{\"width\":1},\"marker\":{\"color\":\"#AB63FA\"},\"mode\":\"lines\",\"name\":\"Rechits chain\",\"showlegend\":false,\"x\":[3.830350875854492,2.855872631072998],\"y\":[-0.36449170112609863,0.19800829887390137],\"z\":[26.587499618530273,26.587499618530273],\"type\":\"scatter3d\"},{\"anchor\":\"tip\",\"colorscale\":[[0,\"#AB63FA\"],[1,\"#AB63FA\"]],\"hoverinfo\":\"skip\",\"legendgroup\":\"rechits_chain\",\"showscale\":false,\"sizeref\":0.1,\"u\":[-0.8660697636731018],\"v\":[0.4999231585466086],\"w\":[0.0],\"x\":[2.855872631072998],\"y\":[0.19800829887390137],\"z\":[26.587499618530273],\"type\":\"cone\"},{\"hoverinfo\":\"skip\",\"legendgroup\":\"rechits_chain\",\"line\":{\"width\":2.7802179430134113},\"marker\":{\"color\":\"#AB63FA\"},\"mode\":\"lines\",\"name\":\"Rechits chain\",\"showlegend\":false,\"x\":[3.830350875854492,2.855872631072998],\"y\":[-1.4897358417510986,-0.9272358417510986],\"z\":[26.587499618530273,26.587499618530273],\"type\":\"scatter3d\"},{\"anchor\":\"tip\",\"colorscale\":[[0,\"#AB63FA\"],[1,\"#AB63FA\"]],\"hoverinfo\":\"skip\",\"legendgroup\":\"rechits_chain\",\"showscale\":false,\"sizeref\":0.1,\"u\":[-0.8660697636731018],\"v\":[0.4999231585466086],\"w\":[0.0],\"x\":[2.855872631072998],\"y\":[-0.9272358417510986],\"z\":[26.587499618530273],\"type\":\"cone\"},{\"hoverinfo\":\"skip\",\"legendgroup\":\"rechits_chain\",\"line\":{\"width\":1.4209142532917136},\"marker\":{\"color\":\"#AB63FA\"},\"mode\":\"lines\",\"name\":\"Rechits chain\",\"showlegend\":false,\"x\":[2.855872631072998,2.855872631072998],\"y\":[1.3230082988739014,0.19800829887390137],\"z\":[26.587499618530273,26.587499618530273],\"type\":\"scatter3d\"},{\"anchor\":\"tip\",\"colorscale\":[[0,\"#AB63FA\"],[1,\"#AB63FA\"]],\"hoverinfo\":\"skip\",\"legendgroup\":\"rechits_chain\",\"showscale\":false,\"sizeref\":0.1,\"u\":[0.0],\"v\":[-1.0],\"w\":[0.0],\"x\":[2.855872631072998],\"y\":[0.19800829887390137],\"z\":[26.587499618530273],\"type\":\"cone\"},{\"hoverinfo\":\"skip\",\"legendgroup\":\"rechits_chain\",\"line\":{\"width\":2.8004410674887743},\"marker\":{\"color\":\"#AB63FA\"},\"mode\":\"lines\",\"name\":\"Rechits chain\",\"showlegend\":false,\"x\":[2.855872631072998,1.881385326385498],\"y\":[0.19800829887390137,-0.36449170112609863],\"z\":[26.587499618530273,26.587499618530273],\"type\":\"scatter3d\"},{\"anchor\":\"tip\",\"colorscale\":[[0,\"#AB63FA\"],[1,\"#AB63FA\"]],\"hoverinfo\":\"skip\",\"legendgroup\":\"rechits_chain\",\"showscale\":false,\"sizeref\":0.1,\"u\":[-0.866071776036405],\"v\":[-0.499919672300608],\"w\":[0.0],\"x\":[1.881385326385498],\"y\":[-0.36449170112609863],\"z\":[26.587499618530273],\"type\":\"cone\"},{\"hoverinfo\":\"skip\",\"legendgroup\":\"rechits_chain\",\"line\":{\"width\":1},\"marker\":{\"color\":\"#AB63FA\"},\"mode\":\"lines\",\"name\":\"Rechits chain\",\"showlegend\":false,\"x\":[2.855872631072998,2.855872631072998],\"y\":[-2.0523579120635986,-0.9272358417510986],\"z\":[26.587499618530273,26.587499618530273],\"type\":\"scatter3d\"},{\"anchor\":\"tip\",\"colorscale\":[[0,\"#AB63FA\"],[1,\"#AB63FA\"]],\"hoverinfo\":\"skip\",\"legendgroup\":\"rechits_chain\",\"showscale\":false,\"sizeref\":0.1,\"u\":[0.0],\"v\":[1.0],\"w\":[0.0],\"x\":[2.855872631072998],\"y\":[-0.9272358417510986],\"z\":[26.587499618530273],\"type\":\"cone\"},{\"hoverinfo\":\"skip\",\"legendgroup\":\"rechits_chain\",\"line\":{\"width\":2.206617764722565},\"marker\":{\"color\":\"#AB63FA\"},\"mode\":\"lines\",\"name\":\"Rechits chain\",\"showlegend\":false,\"x\":[1.881385326385498,1.881385326385498],\"y\":[0.7605082988739014,-0.36449170112609863],\"z\":[26.587499618530273,26.587499618530273],\"type\":\"scatter3d\"},{\"anchor\":\"tip\",\"colorscale\":[[0,\"#AB63FA\"],[1,\"#AB63FA\"]],\"hoverinfo\":\"skip\",\"legendgroup\":\"rechits_chain\",\"showscale\":false,\"sizeref\":0.1,\"u\":[0.0],\"v\":[-1.0],\"w\":[0.0],\"x\":[1.881385326385498],\"y\":[-0.36449170112609863],\"z\":[26.587499618530273],\"type\":\"cone\"},{\"hoverinfo\":\"skip\",\"legendgroup\":\"rechits_chain\",\"line\":{\"width\":4.001804413361615},\"marker\":{\"color\":\"#AB63FA\"},\"mode\":\"lines\",\"name\":\"Rechits chain\",\"showlegend\":false,\"x\":[1.881385326385498,2.855872631072998],\"y\":[-0.36449170112609863,-0.9272358417510986],\"z\":[26.587499618530273,26.587499618530273],\"type\":\"scatter3d\"},{\"anchor\":\"tip\",\"colorscale\":[[0,\"#AB63FA\"],[1,\"#AB63FA\"]],\"hoverinfo\":\"skip\",\"legendgroup\":\"rechits_chain\",\"showscale\":false,\"sizeref\":0.1,\"u\":[0.8659778263291473],\"v\":[-0.5000823975168945],\"w\":[0.0],\"x\":[2.855872631072998],\"y\":[-0.9272358417510986],\"z\":[26.587499618530273],\"type\":\"cone\"},{\"hoverinfo\":\"skip\",\"legendgroup\":\"rechits_chain\",\"line\":{\"width\":2.3131173566981165},\"marker\":{\"color\":\"#AB63FA\"},\"mode\":\"lines\",\"name\":\"Rechits chain\",\"showlegend\":false,\"x\":[0.907020092010498,1.881385326385498],\"y\":[0.19800829887390137,-0.36449170112609863],\"z\":[26.587499618530273,26.587499618530273],\"type\":\"scatter3d\"},{\"anchor\":\"tip\",\"colorscale\":[[0,\"#AB63FA\"],[1,\"#AB63FA\"]],\"hoverinfo\":\"skip\",\"legendgroup\":\"rechits_chain\",\"showscale\":false,\"sizeref\":0.1,\"u\":[0.8660446585505366],\"v\":[-0.4999666482837475],\"w\":[0.0],\"x\":[1.881385326385498],\"y\":[-0.36449170112609863],\"z\":[26.587499618530273],\"type\":\"cone\"},{\"hoverinfo\":\"skip\",\"legendgroup\":\"rechits_chain\",\"line\":{\"width\":1.8044232637577093},\"marker\":{\"color\":\"#AB63FA\"},\"mode\":\"lines\",\"name\":\"Rechits chain\",\"showlegend\":false,\"x\":[-0.06758928298950195,0.907020092010498],\"y\":[0.7605082988739014,0.19800829887390137],\"z\":[26.587499618530273,26.587499618530273],\"type\":\"scatter3d\"},{\"anchor\":\"tip\",\"colorscale\":[[0,\"#AB63FA\"],[1,\"#AB63FA\"]],\"hoverinfo\":\"skip\",\"legendgroup\":\"rechits_chain\",\"showscale\":false,\"sizeref\":0.1,\"u\":[0.8660988858794976],\"v\":[-0.4998727036739385],\"w\":[0.0],\"x\":[0.907020092010498],\"y\":[0.19800829887390137],\"z\":[26.587499618530273],\"type\":\"cone\"},{\"hoverinfo\":\"skip\",\"legendgroup\":\"rechits_chain\",\"line\":{\"width\":1},\"marker\":{\"color\":\"#AB63FA\"},\"mode\":\"lines\",\"name\":\"Rechits chain\",\"showlegend\":false,\"x\":[-0.06758928298950195,-0.06758928298950195],\"y\":[-0.36449170112609863,0.7605082988739014],\"z\":[26.587499618530273,26.587499618530273],\"type\":\"scatter3d\"},{\"anchor\":\"tip\",\"colorscale\":[[0,\"#AB63FA\"],[1,\"#AB63FA\"]],\"hoverinfo\":\"skip\",\"legendgroup\":\"rechits_chain\",\"showscale\":false,\"sizeref\":0.1,\"u\":[0.0],\"v\":[1.0],\"w\":[0.0],\"x\":[-0.06758928298950195],\"y\":[0.7605082988739014],\"z\":[26.587499618530273],\"type\":\"cone\"},{\"hoverinfo\":\"skip\",\"legendgroup\":\"rechits_chain\",\"line\":{\"width\":1},\"marker\":{\"color\":\"#AB63FA\"},\"mode\":\"lines\",\"name\":\"Rechits chain\",\"showlegend\":false,\"x\":[4.804847240447998,4.804847240447998],\"y\":[-2.0523579120635986,-0.9272358417510986],\"z\":[26.587499618530273,26.587499618530273],\"type\":\"scatter3d\"},{\"anchor\":\"tip\",\"colorscale\":[[0,\"#AB63FA\"],[1,\"#AB63FA\"]],\"hoverinfo\":\"skip\",\"legendgroup\":\"rechits_chain\",\"showscale\":false,\"sizeref\":0.1,\"u\":[0.0],\"v\":[1.0],\"w\":[0.0],\"x\":[4.804847240447998],\"y\":[-0.9272358417510986],\"z\":[26.587499618530273],\"type\":\"cone\"},{\"hoverinfo\":\"skip\",\"legendgroup\":\"rechits_chain\",\"line\":{\"width\":1.9121987399010856},\"marker\":{\"color\":\"#AB63FA\"},\"mode\":\"lines\",\"name\":\"Rechits chain\",\"showlegend\":false,\"x\":[4.804847240447998,3.830350875854492],\"y\":[-0.9272358417510986,-1.4897358417510986],\"z\":[26.587499618530273,26.587499618530273],\"type\":\"scatter3d\"},{\"anchor\":\"tip\",\"colorscale\":[[0,\"#AB63FA\"],[1,\"#AB63FA\"]],\"hoverinfo\":\"skip\",\"legendgroup\":\"rechits_chain\",\"showscale\":false,\"sizeref\":0.1,\"u\":[-0.8660737883576084],\"v\":[-0.49991618609512994],\"w\":[0.0],\"x\":[3.830350875854492],\"y\":[-1.4897358417510986],\"z\":[26.587499618530273],\"type\":\"cone\"},{\"hoverinfo\":\"skip\",\"legendgroup\":\"rechits_chain\",\"line\":{\"width\":1},\"marker\":{\"color\":\"#AB63FA\"},\"mode\":\"lines\",\"name\":\"Rechits chain\",\"showlegend\":false,\"x\":[5.779334545135498,4.804847240447998],\"y\":[0.7605082988739014,-0.9272358417510986],\"z\":[26.587499618530273,26.587499618530273],\"type\":\"scatter3d\"},{\"anchor\":\"tip\",\"colorscale\":[[0,\"#AB63FA\"],[1,\"#AB63FA\"]],\"hoverinfo\":\"skip\",\"legendgroup\":\"rechits_chain\",\"showscale\":false,\"sizeref\":0.1,\"u\":[-0.5000260805296963],\"v\":[-0.8660103456599751],\"w\":[0.0],\"x\":[4.804847240447998],\"y\":[-0.9272358417510986],\"z\":[26.587499618530273],\"type\":\"cone\"},{\"customdata\":[[\"0.013951198\",\"0.013951198\",\"1.9177563\",\"Follower\",\"10\"],[\"0.021012755\",\"0.050707623\",\"1.1250749\",\"Follower\",\"10\"],[\"0.008172921\",\"0.030238658\",\"1.1251315\",\"Follower\",\"10\"],[\"0.03826755\",\"0.05524856\",\"3.4028235e+38\",\"Seed\",\"10\"],[\"0.012949267\",\"0.046675876\",\"1.1251218\",\"Follower\",\"10\"]],\"hovertemplate\":\"Rechit : %{customdata[3]}<br>Layer : %{customdata[4]}<br>Energy: %{customdata[0]:.2g} GeV<br>Rho: %{customdata[1]:.2g} GeV<br>Delta: %{customdata[2]:.2g} cm\",\"legendgroup\":\"rechits\",\"legendgrouptitle\":{\"text\":\"Rechits\"},\"marker\":{\"color\":\"#FFA15A\",\"size\":[4.946293830871582,6.906362533569336,2.387171745300293,9.77528190612793,4.589632511138916],\"symbol\":\"circle\"},\"mode\":\"markers\",\"name\":\"2D cluster nb 11.0\",\"x\":[3.7988409996032715,1.881385326385498,1.881385326385498,0.907020092010498,0.907020092010498],\"y\":[-3.774184226989746,-3.7402241230010986,-2.6149890422821045,-4.3027238845825195,-3.1776020526885986],\"z\":[26.587499618530273,26.587499618530273,26.587499618530273,26.587499618530273,26.587499618530273],\"type\":\"scatter3d\"},{\"hoverinfo\":\"skip\",\"legendgroup\":\"rechits_chain\",\"line\":{\"width\":1},\"marker\":{\"color\":\"#FFA15A\"},\"mode\":\"lines\",\"name\":\"Rechits chain\",\"showlegend\":false,\"x\":[3.7988409996032715,1.881385326385498],\"y\":[-3.774184226989746,-3.7402241230010986],\"z\":[26.587499618530273,26.587499618530273],\"type\":\"scatter3d\"},{\"anchor\":\"tip\",\"colorscale\":[[0,\"#FFA15A\"],[1,\"#FFA15A\"]],\"hoverinfo\":\"skip\",\"legendgroup\":\"rechits_chain\",\"showscale\":false,\"sizeref\":0.1,\"u\":[-0.999843196698061],\"v\":[0.017708247135239753],\"w\":[0.0],\"x\":[1.881385326385498],\"y\":[-3.7402241230010986],\"z\":[26.587499618530273],\"type\":\"cone\"},{\"hoverinfo\":\"skip\",\"legendgroup\":\"rechits_chain\",\"line\":{\"width\":1.251732532314344},\"marker\":{\"color\":\"#FFA15A\"},\"mode\":\"lines\",\"name\":\"Rechits chain\",\"showlegend\":false,\"x\":[1.881385326385498,0.907020092010498],\"y\":[-3.7402241230010986,-4.3027238845825195],\"z\":[26.587499618530273,26.587499618530273],\"type\":\"scatter3d\"},{\"anchor\":\"tip\",\"colorscale\":[[0,\"#FFA15A\"],[1,\"#FFA15A\"]],\"hoverinfo\":\"skip\",\"legendgroup\":\"rechits_chain\",\"showscale\":false,\"sizeref\":0.1,\"u\":[-0.8660447503076836],\"v\":[-0.49996648934153753],\"w\":[0.0],\"x\":[0.907020092010498],\"y\":[-4.3027238845825195],\"z\":[26.587499618530273],\"type\":\"cone\"},{\"hoverinfo\":\"skip\",\"legendgroup\":\"rechits_chain\",\"line\":{\"width\":1},\"marker\":{\"color\":\"#FFA15A\"},\"mode\":\"lines\",\"name\":\"Rechits chain\",\"showlegend\":false,\"x\":[1.881385326385498,0.907020092010498],\"y\":[-2.6149890422821045,-3.1776020526885986],\"z\":[26.587499618530273,26.587499618530273],\"type\":\"scatter3d\"},{\"anchor\":\"tip\",\"colorscale\":[[0,\"#FFA15A\"],[1,\"#FFA15A\"]],\"hoverinfo\":\"skip\",\"legendgroup\":\"rechits_chain\",\"showscale\":false,\"sizeref\":0.1,\"u\":[-0.8660011645682122],\"v\":[-0.5000419812040788],\"w\":[0.0],\"x\":[0.907020092010498],\"y\":[-3.1776020526885986],\"z\":[26.587499618530273],\"type\":\"cone\"},{\"hoverinfo\":\"skip\",\"legendgroup\":\"rechits_chain\",\"line\":{\"width\":1},\"marker\":{\"color\":\"#FFA15A\"},\"mode\":\"lines\",\"name\":\"Rechits chain\",\"showlegend\":false,\"x\":[0.907020092010498,0.907020092010498],\"y\":[-3.1776020526885986,-4.3027238845825195],\"z\":[26.587499618530273,26.587499618530273],\"type\":\"scatter3d\"},{\"anchor\":\"tip\",\"colorscale\":[[0,\"#FFA15A\"],[1,\"#FFA15A\"]],\"hoverinfo\":\"skip\",\"legendgroup\":\"rechits_chain\",\"showscale\":false,\"sizeref\":0.1,\"u\":[0.0],\"v\":[-1.0],\"w\":[0.0],\"x\":[0.907020092010498],\"y\":[-4.3027238845825195],\"z\":[26.587499618530273],\"type\":\"cone\"},{\"customdata\":[[\"0.041304726\",\"0.30059233\",\"1.1059968\",\"Follower\",\"11\"],[\"0.061703652\",\"0.31732997\",\"1.1059968\",\"Follower\",\"11\"],[\"0.016256033\",\"0.051151376\",\"1.1252441\",\"Follower\",\"11\"],[\"0.011715308\",\"0.32562828\",\"1.1251807\",\"Follower\",\"11\"],[\"0.34481227\",\"0.54021025\",\"3.4028235e+38\",\"Seed\",\"11\"],[\"0.046931162\",\"0.28258467\",\"1.1096947\",\"Follower\",\"11\"],[\"0.022859521\",\"0.040077023\",\"1.1252418\",\"Follower\",\"11\"],[\"0.016603887\",\"0.061389904\",\"1.125\",\"Follower\",\"11\"],[\"0.089572035\",\"0.1442502\",\"1.1254883\",\"Follower\",\"11\"],[\"0.18060613\",\"0.5022574\",\"1.1253028\",\"Follower\",\"11\"],[\"0.048535027\",\"0.38770264\",\"1.1251807\",\"Follower\",\"11\"],[\"0.031649563\",\"0.14256272\",\"1.125\",\"Follower\",\"11\"],[\"0.0711514\",\"0.26441738\",\"1.125075\",\"Follower\",\"11\"],[\"0.10598567\",\"0.30565807\",\"1.125075\",\"Follower\",\"11\"],[\"0.018178973\",\"0.029608734\",\"1.125136\",\"Follower\",\"11\"],[\"0.0071877665\",\"0.14477503\",\"1.1252441\",\"Follower\",\"11\"],[\"0.091864504\",\"0.14845122\",\"1.1252865\",\"Follower\",\"11\"],[\"0.0061729574\",\"0.00976684\",\"1.1248636\",\"Follower\",\"11\"],[\"0.05659511\",\"0.09825165\",\"1.1251221\",\"Follower\",\"11\"],[\"0.07873457\",\"0.11019164\",\"1.1252441\",\"Follower\",\"11\"],[\"0.021609427\",\"0.14077845\",\"1.1408828\",\"Follower\",\"11\"],[\"0.06110287\",\"0.2534501\",\"1.125\",\"Follower\",\"11\"]],\"hovertemplate\":\"Rechit : %{customdata[3]}<br>Layer : %{customdata[4]}<br>Energy: %{customdata[0]:.2g} GeV<br>Rho: %{customdata[1]:.2g} GeV<br>Delta: %{customdata[2]:.2g} cm\",\"legendgroup\":\"rechits\",\"legendgrouptitle\":{\"text\":\"Rechits\"},\"marker\":{\"color\":\"#19D3F3\",\"size\":[10.140791893005371,12.061626434326172,5.678027629852295,4.1103739738464355,20.296241760253906,10.751954078674316,7.30950403213501,5.779356002807617,13.845272064208984,17.201393127441406,10.912774085998535,8.8665771484375,12.743435859680176,14.650524139404297,6.213080883026123,1.772464394569397,13.966214179992676,1.0440622568130493,11.648039817810059,13.22809886932373,7.04036283493042,12.014801025390625],\"symbol\":\"circle\"},\"mode\":\"markers\",\"name\":\"2D cluster nb 12.0\",\"x\":[3.830350875854492,3.830350875854492,2.8759727478027344,2.8759727478027344,2.8759727478027344,2.8759727478027344,1.9014854431152344,1.9014854431152344,1.9014854431152344,1.9014854431152344,1.9014854431152344,0.9271202087402344,0.9271202087402344,0.9271202087402344,0.9271202087402344,-0.047489166259765625,-0.047489166259765625,-1.0216102600097656,4.824947357177734,4.824947357177734,4.824947357177734,1.9014854431152344],\"y\":[-0.36449170112609863,-1.4897358417510986,-3.1811821460723877,0.1944282054901123,-0.9308159351348877,-2.0559380054473877,-3.7438042163848877,3.0074164867401123,1.8824164867401123,-0.3680717945098877,-1.4933159351348877,1.3194282054901123,0.1944282054901123,-0.9308159351348877,-3.1811821460723877,-0.3680717945098877,-1.4933159351348877,0.1944282054901123,-2.0559380054473877,0.1944282054901123,-0.9308159351348877,0.7569282054901123],\"z\":[28.702499389648438,28.702499389648438,28.702499389648438,28.702499389648438,28.702499389648438,28.702499389648438,28.702499389648438,28.702499389648438,28.702499389648438,28.702499389648438,28.702499389648438,28.702499389648438,28.702499389648438,28.702499389648438,28.702499389648438,28.702499389648438,28.702499389648438,28.702499389648438,28.702499389648438,28.702499389648438,28.702499389648438,28.702499389648438],\"type\":\"scatter3d\"},{\"hoverinfo\":\"skip\",\"legendgroup\":\"rechits_chain\",\"line\":{\"width\":1.4183918351379474},\"marker\":{\"color\":\"#19D3F3\"},\"mode\":\"lines\",\"name\":\"Rechits chain\",\"showlegend\":false,\"x\":[3.830350875854492,2.8759727478027344],\"y\":[-0.36449170112609863,0.1944282054901123],\"z\":[28.702499389648438,28.702499389648438],\"type\":\"scatter3d\"},{\"anchor\":\"tip\",\"colorscale\":[[0,\"#19D3F3\"],[1,\"#19D3F3\"]],\"hoverinfo\":\"skip\",\"legendgroup\":\"rechits_chain\",\"showscale\":false,\"sizeref\":0.1,\"u\":[-0.8629121430284744],\"v\":[0.5053539684359922],\"w\":[0.0],\"x\":[2.8759727478027344],\"y\":[0.1944282054901123],\"z\":[28.702499389648438],\"type\":\"cone\"},{\"hoverinfo\":\"skip\",\"legendgroup\":\"rechits_chain\",\"line\":{\"width\":3.836266988215746},\"marker\":{\"color\":\"#19D3F3\"},\"mode\":\"lines\",\"name\":\"Rechits chain\",\"showlegend\":false,\"x\":[3.830350875854492,2.8759727478027344],\"y\":[-1.4897358417510986,-0.9308159351348877],\"z\":[28.702499389648438,28.702499389648438],\"type\":\"scatter3d\"},{\"anchor\":\"tip\",\"colorscale\":[[0,\"#19D3F3\"],[1,\"#19D3F3\"]],\"hoverinfo\":\"skip\",\"legendgroup\":\"rechits_chain\",\"showscale\":false,\"sizeref\":0.1,\"u\":[-0.8629121430284744],\"v\":[0.5053539684359922],\"w\":[0.0],\"x\":[2.8759727478027344],\"y\":[-0.9308159351348877],\"z\":[28.702499389648438],\"type\":\"cone\"},{\"hoverinfo\":\"skip\",\"legendgroup\":\"rechits_chain\",\"line\":{\"width\":2.4157275772107503},\"marker\":{\"color\":\"#19D3F3\"},\"mode\":\"lines\",\"name\":\"Rechits chain\",\"showlegend\":false,\"x\":[2.8759727478027344,2.8759727478027344],\"y\":[-3.1811821460723877,-2.0559380054473877],\"z\":[28.702499389648438,28.702499389648438],\"type\":\"scatter3d\"},{\"anchor\":\"tip\",\"colorscale\":[[0,\"#19D3F3\"],[1,\"#19D3F3\"]],\"hoverinfo\":\"skip\",\"legendgroup\":\"rechits_chain\",\"showscale\":false,\"sizeref\":0.1,\"u\":[0.0],\"v\":[1.0],\"w\":[0.0],\"x\":[2.8759727478027344],\"y\":[-2.0559380054473877],\"z\":[28.702499389648438],\"type\":\"cone\"},{\"hoverinfo\":\"skip\",\"legendgroup\":\"rechits_chain\",\"line\":{\"width\":1.6680847488582609},\"marker\":{\"color\":\"#19D3F3\"},\"mode\":\"lines\",\"name\":\"Rechits chain\",\"showlegend\":false,\"x\":[2.8759727478027344,1.9014854431152344],\"y\":[0.1944282054901123,-0.3680717945098877],\"z\":[28.702499389648438,28.702499389648438],\"type\":\"scatter3d\"},{\"anchor\":\"tip\",\"colorscale\":[[0,\"#19D3F3\"],[1,\"#19D3F3\"]],\"hoverinfo\":\"skip\",\"legendgroup\":\"rechits_chain\",\"showscale\":false,\"sizeref\":0.1,\"u\":[-0.866071776036405],\"v\":[-0.499919672300608],\"w\":[0.0],\"x\":[1.9014854431152344],\"y\":[-0.3680717945098877],\"z\":[28.702499389648438],\"type\":\"cone\"},{\"hoverinfo\":\"skip\",\"legendgroup\":\"rechits_chain\",\"line\":{\"width\":2.765754861363096},\"marker\":{\"color\":\"#19D3F3\"},\"mode\":\"lines\",\"name\":\"Rechits chain\",\"showlegend\":false,\"x\":[2.8759727478027344,3.830350875854492],\"y\":[-2.0559380054473877,-1.4897358417510986],\"z\":[28.702499389648438,28.702499389648438],\"type\":\"scatter3d\"},{\"anchor\":\"tip\",\"colorscale\":[[0,\"#19D3F3\"],[1,\"#19D3F3\"]],\"hoverinfo\":\"skip\",\"legendgroup\":\"rechits_chain\",\"showscale\":false,\"sizeref\":0.1,\"u\":[0.8600366033291608],\"v\":[0.5102323401491127],\"w\":[0.0],\"x\":[3.830350875854492],\"y\":[-1.4897358417510986],\"z\":[28.702499389648438],\"type\":\"cone\"},{\"hoverinfo\":\"skip\",\"legendgroup\":\"rechits_chain\",\"line\":{\"width\":1.7538313609608491},\"marker\":{\"color\":\"#19D3F3\"},\"mode\":\"lines\",\"name\":\"Rechits chain\",\"showlegend\":false,\"x\":[1.9014854431152344,2.8759727478027344],\"y\":[-3.7438042163848877,-3.1811821460723877],\"z\":[28.702499389648438,28.702499389648438],\"type\":\"scatter3d\"},{\"anchor\":\"tip\",\"colorscale\":[[0,\"#19D3F3\"],[1,\"#19D3F3\"]],\"hoverinfo\":\"skip\",\"legendgroup\":\"rechits_chain\",\"showscale\":false,\"sizeref\":0.1,\"u\":[0.8660248024567582],\"v\":[0.5000010415286482],\"w\":[0.0],\"x\":[2.8759727478027344],\"y\":[-3.1811821460723877],\"z\":[28.702499389648438],\"type\":\"cone\"},{\"hoverinfo\":\"skip\",\"legendgroup\":\"rechits_chain\",\"line\":{\"width\":1},\"marker\":{\"color\":\"#19D3F3\"},\"mode\":\"lines\",\"name\":\"Rechits chain\",\"showlegend\":false,\"x\":[1.9014854431152344,1.9014854431152344],\"y\":[3.0074164867401123,1.8824164867401123],\"z\":[28.702499389648438,28.702499389648438],\"type\":\"scatter3d\"},{\"anchor\":\"tip\",\"colorscale\":[[0,\"#19D3F3\"],[1,\"#19D3F3\"]],\"hoverinfo\":\"skip\",\"legendgroup\":\"rechits_chain\",\"showscale\":false,\"sizeref\":0.1,\"u\":[0.0],\"v\":[-1.0],\"w\":[0.0],\"x\":[1.9014854431152344],\"y\":[1.8824164867401123],\"z\":[28.702499389648438],\"type\":\"cone\"},{\"hoverinfo\":\"skip\",\"legendgroup\":\"rechits_chain\",\"line\":{\"width\":2.3625122656009103},\"marker\":{\"color\":\"#19D3F3\"},\"mode\":\"lines\",\"name\":\"Rechits chain\",\"showlegend\":false,\"x\":[1.9014854431152344,1.9014854431152344],\"y\":[1.8824164867401123,0.7569282054901123],\"z\":[28.702499389648438,28.702499389648438],\"type\":\"scatter3d\"},{\"anchor\":\"tip\",\"colorscale\":[[0,\"#19D3F3\"],[1,\"#19D3F3\"]],\"hoverinfo\":\"skip\",\"legendgroup\":\"rechits_chain\",\"showscale\":false,\"sizeref\":0.1,\"u\":[0.0],\"v\":[-1.0],\"w\":[0.0],\"x\":[1.9014854431152344],\"y\":[0.7569282054901123],\"z\":[28.702499389648438],\"type\":\"cone\"},{\"hoverinfo\":\"skip\",\"legendgroup\":\"rechits_chain\",\"line\":{\"width\":3.919407502915965},\"marker\":{\"color\":\"#19D3F3\"},\"mode\":\"lines\",\"name\":\"Rechits chain\",\"showlegend\":false,\"x\":[1.9014854431152344,2.8759727478027344],\"y\":[-0.3680717945098877,-0.9308159351348877],\"z\":[28.702499389648438,28.702499389648438],\"type\":\"scatter3d\"},{\"anchor\":\"tip\",\"colorscale\":[[0,\"#19D3F3\"],[1,\"#19D3F3\"]],\"hoverinfo\":\"skip\",\"legendgroup\":\"rechits_chain\",\"showscale\":false,\"sizeref\":0.1,\"u\":[0.8659778263291473],\"v\":[-0.5000823975168945],\"w\":[0.0],\"x\":[2.8759727478027344],\"y\":[-0.9308159351348877],\"z\":[28.702499389648438],\"type\":\"cone\"},{\"hoverinfo\":\"skip\",\"legendgroup\":\"rechits_chain\",\"line\":{\"width\":3.2571188512603526},\"marker\":{\"color\":\"#19D3F3\"},\"mode\":\"lines\",\"name\":\"Rechits chain\",\"showlegend\":false,\"x\":[1.9014854431152344,2.8759727478027344],\"y\":[-1.4933159351348877,-0.9308159351348877],\"z\":[28.702499389648438,28.702499389648438],\"type\":\"scatter3d\"},{\"anchor\":\"tip\",\"colorscale\":[[0,\"#19D3F3\"],[1,\"#19D3F3\"]],\"hoverinfo\":\"skip\",\"legendgroup\":\"rechits_chain\",\"showscale\":false,\"sizeref\":0.1,\"u\":[0.866071776036405],\"v\":[0.499919672300608],\"w\":[0.0],\"x\":[2.8759727478027344],\"y\":[-0.9308159351348877],\"z\":[28.702499389648438],\"type\":\"cone\"},{\"hoverinfo\":\"skip\",\"legendgroup\":\"rechits_chain\",\"line\":{\"width\":1.1521392628167266},\"marker\":{\"color\":\"#19D3F3\"},\"mode\":\"lines\",\"name\":\"Rechits chain\",\"showlegend\":false,\"x\":[0.9271202087402344,0.9271202087402344],\"y\":[1.3194282054901123,0.1944282054901123],\"z\":[28.702499389648438,28.702499389648438],\"type\":\"scatter3d\"},{\"anchor\":\"tip\",\"colorscale\":[[0,\"#19D3F3\"],[1,\"#19D3F3\"]],\"hoverinfo\":\"skip\",\"legendgroup\":\"rechits_chain\",\"showscale\":false,\"sizeref\":0.1,\"u\":[0.0],\"v\":[-1.0],\"w\":[0.0],\"x\":[0.9271202087402344],\"y\":[0.1944282054901123],\"z\":[28.702499389648438],\"type\":\"cone\"},{\"hoverinfo\":\"skip\",\"legendgroup\":\"rechits_chain\",\"line\":{\"width\":2.3302096139118},\"marker\":{\"color\":\"#19D3F3\"},\"mode\":\"lines\",\"name\":\"Rechits chain\",\"showlegend\":false,\"x\":[0.9271202087402344,1.9014854431152344],\"y\":[0.1944282054901123,-0.3680717945098877],\"z\":[28.702499389648438,28.702499389648438],\"type\":\"scatter3d\"},{\"anchor\":\"tip\",\"colorscale\":[[0,\"#19D3F3\"],[1,\"#19D3F3\"]],\"hoverinfo\":\"skip\",\"legendgroup\":\"rechits_chain\",\"showscale\":false,\"sizeref\":0.1,\"u\":[0.8660446585505366],\"v\":[-0.4999666482837475],\"w\":[0.0],\"x\":[1.9014854431152344],\"y\":[-0.3680717945098877],\"z\":[28.702499389648438],\"type\":\"cone\"},{\"hoverinfo\":\"skip\",\"legendgroup\":\"rechits_chain\",\"line\":{\"width\":3.0502720628806217},\"marker\":{\"color\":\"#19D3F3\"},\"mode\":\"lines\",\"name\":\"Rechits chain\",\"showlegend\":false,\"x\":[0.9271202087402344,1.9014854431152344],\"y\":[-0.9308159351348877,-1.4933159351348877],\"z\":[28.702499389648438,28.702499389648438],\"type\":\"scatter3d\"},{\"anchor\":\"tip\",\"colorscale\":[[0,\"#19D3F3\"],[1,\"#19D3F3\"]],\"hoverinfo\":\"skip\",\"legendgroup\":\"rechits_chain\",\"showscale\":false,\"sizeref\":0.1,\"u\":[0.8660446585505366],\"v\":[-0.4999666482837475],\"w\":[0.0],\"x\":[1.9014854431152344],\"y\":[-1.4933159351348877],\"z\":[28.702499389648438],\"type\":\"cone\"},{\"hoverinfo\":\"skip\",\"legendgroup\":\"rechits_chain\",\"line\":{\"width\":1.2501139789798865},\"marker\":{\"color\":\"#19D3F3\"},\"mode\":\"lines\",\"name\":\"Rechits chain\",\"showlegend\":false,\"x\":[0.9271202087402344,1.9014854431152344],\"y\":[-3.1811821460723877,-3.7438042163848877],\"z\":[28.702499389648438,28.702499389648438],\"type\":\"scatter3d\"},{\"anchor\":\"tip\",\"colorscale\":[[0,\"#19D3F3\"],[1,\"#19D3F3\"]],\"hoverinfo\":\"skip\",\"legendgroup\":\"rechits_chain\",\"showscale\":false,\"sizeref\":0.1,\"u\":[0.8659976776143162],\"v\":[-0.5000480200606845],\"w\":[0.0],\"x\":[1.9014854431152344],\"y\":[-3.7438042163848877],\"z\":[28.702499389648438],\"type\":\"cone\"},{\"hoverinfo\":\"skip\",\"legendgroup\":\"rechits_chain\",\"line\":{\"width\":1},\"marker\":{\"color\":\"#19D3F3\"},\"mode\":\"lines\",\"name\":\"Rechits chain\",\"showlegend\":false,\"x\":[-0.047489166259765625,-0.047489166259765625],\"y\":[-0.3680717945098877,-1.4933159351348877],\"z\":[28.702499389648438,28.702499389648438],\"type\":\"scatter3d\"},{\"anchor\":\"tip\",\"colorscale\":[[0,\"#19D3F3\"],[1,\"#19D3F3\"]],\"hoverinfo\":\"skip\",\"legendgroup\":\"rechits_chain\",\"showscale\":false,\"sizeref\":0.1,\"u\":[0.0],\"v\":[-1.0],\"w\":[0.0],\"x\":[-0.047489166259765625],\"y\":[-1.4933159351348877],\"z\":[28.702499389648438],\"type\":\"cone\"},{\"hoverinfo\":\"skip\",\"legendgroup\":\"rechits_chain\",\"line\":{\"width\":2.3535179862902247},\"marker\":{\"color\":\"#19D3F3\"},\"mode\":\"lines\",\"name\":\"Rechits chain\",\"showlegend\":false,\"x\":[-0.047489166259765625,0.9271202087402344],\"y\":[-1.4933159351348877,-0.9308159351348877],\"z\":[28.702499389648438,28.702499389648438],\"type\":\"scatter3d\"},{\"anchor\":\"tip\",\"colorscale\":[[0,\"#19D3F3\"],[1,\"#19D3F3\"]],\"hoverinfo\":\"skip\",\"legendgroup\":\"rechits_chain\",\"showscale\":false,\"sizeref\":0.1,\"u\":[0.8660988858794976],\"v\":[0.4998727036739385],\"w\":[0.0],\"x\":[0.9271202087402344],\"y\":[-0.9308159351348877],\"z\":[28.702499389648438],\"type\":\"cone\"},{\"hoverinfo\":\"skip\",\"legendgroup\":\"rechits_chain\",\"line\":{\"width\":1},\"marker\":{\"color\":\"#19D3F3\"},\"mode\":\"lines\",\"name\":\"Rechits chain\",\"showlegend\":false,\"x\":[-1.0216102600097656,-0.047489166259765625],\"y\":[0.1944282054901123,-0.3680717945098877],\"z\":[28.702499389648438,28.702499389648438],\"type\":\"scatter3d\"},{\"anchor\":\"tip\",\"colorscale\":[[0,\"#19D3F3\"],[1,\"#19D3F3\"]],\"hoverinfo\":\"skip\",\"legendgroup\":\"rechits_chain\",\"showscale\":false,\"sizeref\":0.1,\"u\":[0.8659904006399372],\"v\":[-0.5000606223244148],\"w\":[0.0],\"x\":[-0.047489166259765625],\"y\":[-0.3680717945098877],\"z\":[28.702499389648438],\"type\":\"cone\"},{\"hoverinfo\":\"skip\",\"legendgroup\":\"rechits_chain\",\"line\":{\"width\":1.733337482176788},\"marker\":{\"color\":\"#19D3F3\"},\"mode\":\"lines\",\"name\":\"Rechits chain\",\"showlegend\":false,\"x\":[4.824947357177734,4.824947357177734],\"y\":[-2.0559380054473877,-0.9308159351348877],\"z\":[28.702499389648438,28.702499389648438],\"type\":\"scatter3d\"},{\"anchor\":\"tip\",\"colorscale\":[[0,\"#19D3F3\"],[1,\"#19D3F3\"]],\"hoverinfo\":\"skip\",\"legendgroup\":\"rechits_chain\",\"showscale\":false,\"sizeref\":0.1,\"u\":[0.0],\"v\":[1.0],\"w\":[0.0],\"x\":[4.824947357177734],\"y\":[-0.9308159351348877],\"z\":[28.702499389648438],\"type\":\"cone\"},{\"hoverinfo\":\"skip\",\"legendgroup\":\"rechits_chain\",\"line\":{\"width\":2.801556827144807},\"marker\":{\"color\":\"#19D3F3\"},\"mode\":\"lines\",\"name\":\"Rechits chain\",\"showlegend\":false,\"x\":[4.824947357177734,4.824947357177734],\"y\":[0.1944282054901123,-0.9308159351348877],\"z\":[28.702499389648438,28.702499389648438],\"type\":\"scatter3d\"},{\"anchor\":\"tip\",\"colorscale\":[[0,\"#19D3F3\"],[1,\"#19D3F3\"]],\"hoverinfo\":\"skip\",\"legendgroup\":\"rechits_chain\",\"showscale\":false,\"sizeref\":0.1,\"u\":[0.0],\"v\":[-1.0],\"w\":[0.0],\"x\":[4.824947357177734],\"y\":[-0.9308159351348877],\"z\":[28.702499389648438],\"type\":\"cone\"},{\"hoverinfo\":\"skip\",\"legendgroup\":\"rechits_chain\",\"line\":{\"width\":3.1900944611195596},\"marker\":{\"color\":\"#19D3F3\"},\"mode\":\"lines\",\"name\":\"Rechits chain\",\"showlegend\":false,\"x\":[4.824947357177734,3.830350875854492],\"y\":[-0.9308159351348877,-1.4897358417510986],\"z\":[28.702499389648438,28.702499389648438],\"type\":\"scatter3d\"},{\"anchor\":\"tip\",\"colorscale\":[[0,\"#19D3F3\"],[1,\"#19D3F3\"]],\"hoverinfo\":\"skip\",\"legendgroup\":\"rechits_chain\",\"showscale\":false,\"sizeref\":0.1,\"u\":[-0.8717779413038103],\"v\":[-0.48990123602221103],\"w\":[0.0],\"x\":[3.830350875854492],\"y\":[-1.4897358417510986],\"z\":[28.702499389648438],\"type\":\"cone\"},{\"hoverinfo\":\"skip\",\"legendgroup\":\"rechits_chain\",\"line\":{\"width\":2.817076744914206},\"marker\":{\"color\":\"#19D3F3\"},\"mode\":\"lines\",\"name\":\"Rechits chain\",\"showlegend\":false,\"x\":[1.9014854431152344,1.9014854431152344],\"y\":[0.7569282054901123,-0.3680717945098877],\"z\":[28.702499389648438,28.702499389648438],\"type\":\"scatter3d\"},{\"anchor\":\"tip\",\"colorscale\":[[0,\"#19D3F3\"],[1,\"#19D3F3\"]],\"hoverinfo\":\"skip\",\"legendgroup\":\"rechits_chain\",\"showscale\":false,\"sizeref\":0.1,\"u\":[0.0],\"v\":[-1.0],\"w\":[0.0],\"x\":[1.9014854431152344],\"y\":[-0.3680717945098877],\"z\":[28.702499389648438],\"type\":\"cone\"},{\"customdata\":[[\"0.007417039\",\"0.031112589\",\"1.1015147\",\"Follower\",\"12\"],[\"0.026086897\",\"0.04001385\",\"1.1738247\",\"Follower\",\"12\"],[\"0.019983174\",\"0.19150378\",\"1.125173\",\"Follower\",\"12\"],[\"0.015457248\",\"0.025141105\",\"1.1252441\",\"Follower\",\"12\"],[\"0.018842408\",\"0.036391605\",\"1.125\",\"Follower\",\"12\"],[\"0.009011499\",\"0.22497608\",\"1.1251807\",\"Follower\",\"12\"],[\"0.30070856\",\"0.3907899\",\"3.4028235e+38\",\"Seed\",\"12\"],[\"0.011950677\",\"0.21019667\",\"1.1251221\",\"Follower\",\"12\"],[\"0.08629131\",\"0.31025964\",\"1.1253028\",\"Follower\",\"12\"],[\"0.052925978\",\"0.27031407\",\"1.1251807\",\"Follower\",\"12\"],[\"0.009183396\",\"0.03980821\",\"1.125\",\"Follower\",\"12\"],[\"0.06124963\",\"0.12100749\",\"1.125075\",\"Follower\",\"12\"],[\"0.02404101\",\"0.13016677\",\"1.125075\",\"Follower\",\"12\"],[\"0.011784588\",\"0.05026808\",\"1.1251221\",\"Follower\",\"12\"],[\"0.022964912\",\"0.0329565\",\"1.1251884\",\"Follower\",\"12\"]],\"hovertemplate\":\"Rechit : %{customdata[3]}<br>Layer : %{customdata[4]}<br>Energy: %{customdata[0]:.2g} GeV<br>Rho: %{customdata[1]:.2g} GeV<br>Delta: %{customdata[2]:.2g} cm\",\"legendgroup\":\"rechits\",\"legendgrouptitle\":{\"text\":\"Rechits\"},\"marker\":{\"color\":\"#B6E880\",\"size\":[1.9227330684661865,7.941534519195557,6.665931701660156,5.436893463134766,6.3846235275268555,2.8546204566955566,19.64127540588379,4.205570697784424,13.666695594787598,11.32726001739502,2.945050001144409,12.026281356811523,7.550673484802246,4.138591289520264,7.331517696380615],\"symbol\":\"circle\"},\"mode\":\"markers\",\"name\":\"2D cluster nb 14.0\",\"x\":[3.8504509925842285,3.8504509925842285,3.808440923690796,2.8339626789093018,2.8339626789093018,2.8339626789093018,2.8339626789093018,2.8339626789093018,1.8594753742218018,1.8594753742218018,0.8851101398468018,0.8851101398468018,0.8851101398468018,0.8851101398468018,4.782937049865723],\"y\":[-2.6185691356658936,0.7569282054901123,-1.5178558826446533,-3.2057220935821533,1.2948882579803467,0.16988825798034668,-0.9553558826446533,-2.0804779529571533,-0.3926117420196533,-1.5178558826446533,1.2948882579803467,0.16988825798034668,-0.9553558826446533,-2.0804779529571533,-0.9553558826446533],\"z\":[29.592500686645508,29.592500686645508,29.592500686645508,29.592500686645508,29.592500686645508,29.592500686645508,29.592500686645508,29.592500686645508,29.592500686645508,29.592500686645508,29.592500686645508,29.592500686645508,29.592500686645508,29.592500686645508,29.592500686645508],\"type\":\"scatter3d\"},{\"hoverinfo\":\"skip\",\"legendgroup\":\"rechits_chain\",\"line\":{\"width\":1},\"marker\":{\"color\":\"#B6E880\"},\"mode\":\"lines\",\"name\":\"Rechits chain\",\"showlegend\":false,\"x\":[3.8504509925842285,3.808440923690796],\"y\":[-2.6185691356658936,-1.5178558826446533],\"z\":[29.592500686645508,29.592500686645508],\"type\":\"scatter3d\"},{\"anchor\":\"tip\",\"colorscale\":[[0,\"#B6E880\"],[1,\"#B6E880\"]],\"hoverinfo\":\"skip\",\"legendgroup\":\"rechits_chain\",\"showscale\":false,\"sizeref\":0.1,\"u\":[-0.03813845700259009],\"v\":[0.9992724643947023],\"w\":[0.0],\"x\":[3.808440923690796],\"y\":[-1.5178558826446533],\"z\":[29.592500686645508],\"type\":\"cone\"},{\"hoverinfo\":\"skip\",\"legendgroup\":\"rechits_chain\",\"line\":{\"width\":1},\"marker\":{\"color\":\"#B6E880\"},\"mode\":\"lines\",\"name\":\"Rechits chain\",\"showlegend\":false,\"x\":[3.8504509925842285,2.8339626789093018],\"y\":[0.7569282054901123,0.16988825798034668],\"z\":[29.592500686645508,29.592500686645508],\"type\":\"scatter3d\"},{\"anchor\":\"tip\",\"colorscale\":[[0,\"#B6E880\"],[1,\"#B6E880\"]],\"hoverinfo\":\"skip\",\"legendgroup\":\"rechits_chain\",\"showscale\":false,\"sizeref\":0.1,\"u\":[-0.865962631735512],\"v\":[-0.500108708620142],\"w\":[0.0],\"x\":[2.8339626789093018],\"y\":[0.16988825798034668],\"z\":[29.592500686645508],\"type\":\"cone\"},{\"hoverinfo\":\"skip\",\"legendgroup\":\"rechits_chain\",\"line\":{\"width\":1.616713874886825},\"marker\":{\"color\":\"#B6E880\"},\"mode\":\"lines\",\"name\":\"Rechits chain\",\"showlegend\":false,\"x\":[3.808440923690796,2.8339626789093018],\"y\":[-1.5178558826446533,-0.9553558826446533],\"z\":[29.592500686645508,29.592500686645508],\"type\":\"scatter3d\"},{\"anchor\":\"tip\",\"colorscale\":[[0,\"#B6E880\"],[1,\"#B6E880\"]],\"hoverinfo\":\"skip\",\"legendgroup\":\"rechits_chain\",\"showscale\":false,\"sizeref\":0.1,\"u\":[-0.8660697636731018],\"v\":[0.4999231585466086],\"w\":[0.0],\"x\":[2.8339626789093018],\"y\":[-0.9553558826446533],\"z\":[29.592500686645508],\"type\":\"cone\"},{\"hoverinfo\":\"skip\",\"legendgroup\":\"rechits_chain\",\"line\":{\"width\":1},\"marker\":{\"color\":\"#B6E880\"},\"mode\":\"lines\",\"name\":\"Rechits chain\",\"showlegend\":false,\"x\":[2.8339626789093018,2.8339626789093018],\"y\":[-3.2057220935821533,-2.0804779529571533],\"z\":[29.592500686645508,29.592500686645508],\"type\":\"scatter3d\"},{\"anchor\":\"tip\",\"colorscale\":[[0,\"#B6E880\"],[1,\"#B6E880\"]],\"hoverinfo\":\"skip\",\"legendgroup\":\"rechits_chain\",\"showscale\":false,\"sizeref\":0.1,\"u\":[0.0],\"v\":[1.0],\"w\":[0.0],\"x\":[2.8339626789093018],\"y\":[-2.0804779529571533],\"z\":[29.592500686645508],\"type\":\"cone\"},{\"hoverinfo\":\"skip\",\"legendgroup\":\"rechits_chain\",\"line\":{\"width\":1},\"marker\":{\"color\":\"#B6E880\"},\"mode\":\"lines\",\"name\":\"Rechits chain\",\"showlegend\":false,\"x\":[2.8339626789093018,2.8339626789093018],\"y\":[1.2948882579803467,0.16988825798034668],\"z\":[29.592500686645508,29.592500686645508],\"type\":\"scatter3d\"},{\"anchor\":\"tip\",\"colorscale\":[[0,\"#B6E880\"],[1,\"#B6E880\"]],\"hoverinfo\":\"skip\",\"legendgroup\":\"rechits_chain\",\"showscale\":false,\"sizeref\":0.1,\"u\":[0.0],\"v\":[-1.0],\"w\":[0.0],\"x\":[2.8339626789093018],\"y\":[0.16988825798034668],\"z\":[29.592500686645508],\"type\":\"cone\"},{\"hoverinfo\":\"skip\",\"legendgroup\":\"rechits_chain\",\"line\":{\"width\":1.6853021253091354},\"marker\":{\"color\":\"#B6E880\"},\"mode\":\"lines\",\"name\":\"Rechits chain\",\"showlegend\":false,\"x\":[2.8339626789093018,1.8594753742218018],\"y\":[0.16988825798034668,-0.3926117420196533],\"z\":[29.592500686645508,29.592500686645508],\"type\":\"scatter3d\"},{\"anchor\":\"tip\",\"colorscale\":[[0,\"#B6E880\"],[1,\"#B6E880\"]],\"hoverinfo\":\"skip\",\"legendgroup\":\"rechits_chain\",\"showscale\":false,\"sizeref\":0.1,\"u\":[-0.866071776036405],\"v\":[-0.499919672300608],\"w\":[0.0],\"x\":[1.8594753742218018],\"y\":[-0.3926117420196533],\"z\":[29.592500686645508],\"type\":\"cone\"},{\"hoverinfo\":\"skip\",\"legendgroup\":\"rechits_chain\",\"line\":{\"width\":1.0082471331714369},\"marker\":{\"color\":\"#B6E880\"},\"mode\":\"lines\",\"name\":\"Rechits chain\",\"showlegend\":false,\"x\":[2.8339626789093018,2.8339626789093018],\"y\":[-2.0804779529571533,-0.9553558826446533],\"z\":[29.592500686645508,29.592500686645508],\"type\":\"scatter3d\"},{\"anchor\":\"tip\",\"colorscale\":[[0,\"#B6E880\"],[1,\"#B6E880\"]],\"hoverinfo\":\"skip\",\"legendgroup\":\"rechits_chain\",\"showscale\":false,\"sizeref\":0.1,\"u\":[0.0],\"v\":[1.0],\"w\":[0.0],\"x\":[2.8339626789093018],\"y\":[-0.9553558826446533],\"z\":[29.592500686645508],\"type\":\"cone\"},{\"hoverinfo\":\"skip\",\"legendgroup\":\"rechits_chain\",\"line\":{\"width\":3.047684771472624},\"marker\":{\"color\":\"#B6E880\"},\"mode\":\"lines\",\"name\":\"Rechits chain\",\"showlegend\":false,\"x\":[1.8594753742218018,2.8339626789093018],\"y\":[-0.3926117420196533,-0.9553558826446533],\"z\":[29.592500686645508,29.592500686645508],\"type\":\"scatter3d\"},{\"anchor\":\"tip\",\"colorscale\":[[0,\"#B6E880\"],[1,\"#B6E880\"]],\"hoverinfo\":\"skip\",\"legendgroup\":\"rechits_chain\",\"showscale\":false,\"sizeref\":0.1,\"u\":[0.8659778263291473],\"v\":[-0.5000823975168945],\"w\":[0.0],\"x\":[2.8339626789093018],\"y\":[-0.9553558826446533],\"z\":[29.592500686645508],\"type\":\"cone\"},{\"hoverinfo\":\"skip\",\"legendgroup\":\"rechits_chain\",\"line\":{\"width\":2.3420880940881443},\"marker\":{\"color\":\"#B6E880\"},\"mode\":\"lines\",\"name\":\"Rechits chain\",\"showlegend\":false,\"x\":[1.8594753742218018,2.8339626789093018],\"y\":[-1.5178558826446533,-0.9553558826446533],\"z\":[29.592500686645508,29.592500686645508],\"type\":\"scatter3d\"},{\"anchor\":\"tip\",\"colorscale\":[[0,\"#B6E880\"],[1,\"#B6E880\"]],\"hoverinfo\":\"skip\",\"legendgroup\":\"rechits_chain\",\"showscale\":false,\"sizeref\":0.1,\"u\":[0.866071776036405],\"v\":[0.499919672300608],\"w\":[0.0],\"x\":[2.8339626789093018],\"y\":[-0.9553558826446533],\"z\":[29.592500686645508],\"type\":\"cone\"},{\"hoverinfo\":\"skip\",\"legendgroup\":\"rechits_chain\",\"line\":{\"width\":1},\"marker\":{\"color\":\"#B6E880\"},\"mode\":\"lines\",\"name\":\"Rechits chain\",\"showlegend\":false,\"x\":[0.8851101398468018,0.8851101398468018],\"y\":[1.2948882579803467,0.16988825798034668],\"z\":[29.592500686645508,29.592500686645508],\"type\":\"scatter3d\"},{\"anchor\":\"tip\",\"colorscale\":[[0,\"#B6E880\"],[1,\"#B6E880\"]],\"hoverinfo\":\"skip\",\"legendgroup\":\"rechits_chain\",\"showscale\":false,\"sizeref\":0.1,\"u\":[0.0],\"v\":[-1.0],\"w\":[0.0],\"x\":[0.8851101398468018],\"y\":[0.16988825798034668],\"z\":[29.592500686645508],\"type\":\"cone\"},{\"hoverinfo\":\"skip\",\"legendgroup\":\"rechits_chain\",\"line\":{\"width\":1.9520771555913974},\"marker\":{\"color\":\"#B6E880\"},\"mode\":\"lines\",\"name\":\"Rechits chain\",\"showlegend\":false,\"x\":[0.8851101398468018,1.8594753742218018],\"y\":[0.16988825798034668,-0.3926117420196533],\"z\":[29.592500686645508,29.592500686645508],\"type\":\"scatter3d\"},{\"anchor\":\"tip\",\"colorscale\":[[0,\"#B6E880\"],[1,\"#B6E880\"]],\"hoverinfo\":\"skip\",\"legendgroup\":\"rechits_chain\",\"showscale\":false,\"sizeref\":0.1,\"u\":[0.8660446585505366],\"v\":[-0.4999666482837475],\"w\":[0.0],\"x\":[1.8594753742218018],\"y\":[-0.3926117420196533],\"z\":[29.592500686645508],\"type\":\"cone\"},{\"hoverinfo\":\"skip\",\"legendgroup\":\"rechits_chain\",\"line\":{\"width\":1.6312656296941093},\"marker\":{\"color\":\"#B6E880\"},\"mode\":\"lines\",\"name\":\"Rechits chain\",\"showlegend\":false,\"x\":[0.8851101398468018,1.8594753742218018],\"y\":[-0.9553558826446533,-1.5178558826446533],\"z\":[29.592500686645508,29.592500686645508],\"type\":\"scatter3d\"},{\"anchor\":\"tip\",\"colorscale\":[[0,\"#B6E880\"],[1,\"#B6E880\"]],\"hoverinfo\":\"skip\",\"legendgroup\":\"rechits_chain\",\"showscale\":false,\"sizeref\":0.1,\"u\":[0.8660446585505366],\"v\":[-0.4999666482837475],\"w\":[0.0],\"x\":[1.8594753742218018],\"y\":[-1.5178558826446533],\"z\":[29.592500686645508],\"type\":\"cone\"},{\"hoverinfo\":\"skip\",\"legendgroup\":\"rechits_chain\",\"line\":{\"width\":1},\"marker\":{\"color\":\"#B6E880\"},\"mode\":\"lines\",\"name\":\"Rechits chain\",\"showlegend\":false,\"x\":[0.8851101398468018,0.8851101398468018],\"y\":[-2.0804779529571533,-0.9553558826446533],\"z\":[29.592500686645508,29.592500686645508],\"type\":\"scatter3d\"},{\"anchor\":\"tip\",\"colorscale\":[[0,\"#B6E880\"],[1,\"#B6E880\"]],\"hoverinfo\":\"skip\",\"legendgroup\":\"rechits_chain\",\"showscale\":false,\"sizeref\":0.1,\"u\":[0.0],\"v\":[1.0],\"w\":[0.0],\"x\":[0.8851101398468018],\"y\":[-0.9553558826446533],\"z\":[29.592500686645508],\"type\":\"cone\"},{\"hoverinfo\":\"skip\",\"legendgroup\":\"rechits_chain\",\"line\":{\"width\":1},\"marker\":{\"color\":\"#B6E880\"},\"mode\":\"lines\",\"name\":\"Rechits chain\",\"showlegend\":false,\"x\":[4.782937049865723,3.808440923690796],\"y\":[-0.9553558826446533,-1.5178558826446533],\"z\":[29.592500686645508,29.592500686645508],\"type\":\"scatter3d\"},{\"anchor\":\"tip\",\"colorscale\":[[0,\"#B6E880\"],[1,\"#B6E880\"]],\"hoverinfo\":\"skip\",\"legendgroup\":\"rechits_chain\",\"showscale\":false,\"sizeref\":0.1,\"u\":[-0.8660737354023266],\"v\":[-0.4999162778368602],\"w\":[0.0],\"x\":[3.808440923690796],\"y\":[-1.5178558826446533],\"z\":[29.592500686645508],\"type\":\"cone\"},{\"customdata\":[[\"0.02106028\",\"0.038029563\",\"1.1252532\",\"Follower\",\"14\"],[\"0.0237412\",\"0.116048425\",\"1.1348215\",\"Follower\",\"14\"],[\"0.08355557\",\"0.21288522\",\"1.2046609\",\"Follower\",\"14\"],[\"0.16355418\",\"0.29049006\",\"3.4028235e+38\",\"Seed\",\"14\"],[\"0.064606406\",\"0.15018144\",\"1.125\",\"Follower\",\"14\"],[\"0.030498702\",\"0.2572105\",\"1.1253028\",\"Follower\",\"14\"],[\"0.116076246\",\"0.21310268\",\"1.1251807\",\"Follower\",\"14\"],[\"0.03146463\",\"0.07658342\",\"1.125\",\"Follower\",\"14\"],[\"0.025631173\",\"0.09495869\",\"1.125075\",\"Follower\",\"14\"],[\"0.010197366\",\"0.020727506\",\"1.1233996\",\"Follower\",\"14\"],[\"0.012538218\",\"0.012538218\",\"2.166708\",\"Follower\",\"14\"]],\"hovertemplate\":\"Rechit : %{customdata[3]}<br>Layer : %{customdata[4]}<br>Energy: %{customdata[0]:.2g} GeV<br>Rho: %{customdata[1]:.2g} GeV<br>Delta: %{customdata[2]:.2g} cm\",\"legendgroup\":\"rechits\",\"legendgrouptitle\":{\"text\":\"Rechits\"},\"marker\":{\"color\":\"#636EFA\",\"size\":[6.917173862457275,7.490616798400879,13.512513160705566,16.726770401000977,12.281628608703613,8.689311981201172,15.085755348205566,8.838530540466309,7.857192039489746,3.446272611618042,4.435253620147705],\"symbol\":\"circle\"},\"mode\":\"markers\",\"name\":\"2D cluster nb 17.0\",\"x\":[3.889720916748047,3.889720916748047,2.9152426719665527,2.863382577896118,1.8888952732086182,1.8888952732086182,1.8888952732086182,0.9145300388336182,0.9145300388336182,4.812356948852539,4.812356948852539],\"y\":[-2.570749044418335,-1.445495843887329,0.2422482967376709,-0.9612958431243896,0.7264482975006104,-0.39855170249938965,-1.5237958431243896,1.2889482975006104,0.16394829750061035,-3.2116620540618896,1.2889482975006104],\"z\":[32.397499084472656,32.397499084472656,32.397499084472656,32.397499084472656,32.397499084472656,32.397499084472656,32.397499084472656,32.397499084472656,32.397499084472656,32.397499084472656,32.397499084472656],\"type\":\"scatter3d\"},{\"hoverinfo\":\"skip\",\"legendgroup\":\"rechits_chain\",\"line\":{\"width\":1.1396789303266162},\"marker\":{\"color\":\"#636EFA\"},\"mode\":\"lines\",\"name\":\"Rechits chain\",\"showlegend\":false,\"x\":[3.889720916748047,3.889720916748047],\"y\":[-2.570749044418335,-1.445495843887329],\"z\":[32.397499084472656,32.397499084472656],\"type\":\"scatter3d\"},{\"anchor\":\"tip\",\"colorscale\":[[0,\"#636EFA\"],[1,\"#636EFA\"]],\"hoverinfo\":\"skip\",\"legendgroup\":\"rechits_chain\",\"showscale\":false,\"sizeref\":0.1,\"u\":[0.0],\"v\":[1.0],\"w\":[0.0],\"x\":[3.889720916748047],\"y\":[-1.445495843887329],\"z\":[32.397499084472656],\"type\":\"cone\"},{\"hoverinfo\":\"skip\",\"legendgroup\":\"rechits_chain\",\"line\":{\"width\":1.7047271233754784},\"marker\":{\"color\":\"#636EFA\"},\"mode\":\"lines\",\"name\":\"Rechits chain\",\"showlegend\":false,\"x\":[3.889720916748047,2.863382577896118],\"y\":[-1.445495843887329,-0.9612958431243896],\"z\":[32.397499084472656,32.397499084472656],\"type\":\"scatter3d\"},{\"anchor\":\"tip\",\"colorscale\":[[0,\"#636EFA\"],[1,\"#636EFA\"]],\"hoverinfo\":\"skip\",\"legendgroup\":\"rechits_chain\",\"showscale\":false,\"sizeref\":0.1,\"u\":[-0.9044050216451336],\"v\":[0.4266750014039554],\"w\":[0.0],\"x\":[2.863382577896118],\"y\":[-0.9612958431243896],\"z\":[32.397499084472656],\"type\":\"cone\"},{\"hoverinfo\":\"skip\",\"legendgroup\":\"rechits_chain\",\"line\":{\"width\":2.262739597317959},\"marker\":{\"color\":\"#636EFA\"},\"mode\":\"lines\",\"name\":\"Rechits chain\",\"showlegend\":false,\"x\":[2.9152426719665527,2.863382577896118],\"y\":[0.2422482967376709,-0.9612958431243896],\"z\":[32.397499084472656,32.397499084472656],\"type\":\"scatter3d\"},{\"anchor\":\"tip\",\"colorscale\":[[0,\"#636EFA\"],[1,\"#636EFA\"]],\"hoverinfo\":\"skip\",\"legendgroup\":\"rechits_chain\",\"showscale\":false,\"sizeref\":0.1,\"u\":[-0.04304953585353418],\"v\":[-0.9990729390103585],\"w\":[0.0],\"x\":[2.863382577896118],\"y\":[-0.9612958431243896],\"z\":[32.397499084472656],\"type\":\"cone\"},{\"hoverinfo\":\"skip\",\"legendgroup\":\"rechits_chain\",\"line\":{\"width\":1.865728473785831},\"marker\":{\"color\":\"#636EFA\"},\"mode\":\"lines\",\"name\":\"Rechits chain\",\"showlegend\":false,\"x\":[1.8888952732086182,1.8888952732086182],\"y\":[0.7264482975006104,-0.39855170249938965],\"z\":[32.397499084472656,32.397499084472656],\"type\":\"scatter3d\"},{\"anchor\":\"tip\",\"colorscale\":[[0,\"#636EFA\"],[1,\"#636EFA\"]],\"hoverinfo\":\"skip\",\"legendgroup\":\"rechits_chain\",\"showscale\":false,\"sizeref\":0.1,\"u\":[0.0],\"v\":[-1.0],\"w\":[0.0],\"x\":[1.8888952732086182],\"y\":[-0.39855170249938965],\"z\":[32.397499084472656],\"type\":\"cone\"},{\"hoverinfo\":\"skip\",\"legendgroup\":\"rechits_chain\",\"line\":{\"width\":3.150937953953166},\"marker\":{\"color\":\"#636EFA\"},\"mode\":\"lines\",\"name\":\"Rechits chain\",\"showlegend\":false,\"x\":[1.8888952732086182,2.863382577896118],\"y\":[-0.39855170249938965,-0.9612958431243896],\"z\":[32.397499084472656,32.397499084472656],\"type\":\"scatter3d\"},{\"anchor\":\"tip\",\"colorscale\":[[0,\"#636EFA\"],[1,\"#636EFA\"]],\"hoverinfo\":\"skip\",\"legendgroup\":\"rechits_chain\",\"showscale\":false,\"sizeref\":0.1,\"u\":[0.8659778263291473],\"v\":[-0.5000823975168945],\"w\":[0.0],\"x\":[2.863382577896118],\"y\":[-0.9612958431243896],\"z\":[32.397499084472656],\"type\":\"cone\"},{\"hoverinfo\":\"skip\",\"legendgroup\":\"rechits_chain\",\"line\":{\"width\":2.4516621744659552},\"marker\":{\"color\":\"#636EFA\"},\"mode\":\"lines\",\"name\":\"Rechits chain\",\"showlegend\":false,\"x\":[1.8888952732086182,2.863382577896118],\"y\":[-1.5237958431243896,-0.9612958431243896],\"z\":[32.397499084472656,32.397499084472656],\"type\":\"scatter3d\"},{\"anchor\":\"tip\",\"colorscale\":[[0,\"#636EFA\"],[1,\"#636EFA\"]],\"hoverinfo\":\"skip\",\"legendgroup\":\"rechits_chain\",\"showscale\":false,\"sizeref\":0.1,\"u\":[0.866071776036405],\"v\":[0.499919672300608],\"w\":[0.0],\"x\":[2.863382577896118],\"y\":[-0.9612958431243896],\"z\":[32.397499084472656],\"type\":\"cone\"},{\"hoverinfo\":\"skip\",\"legendgroup\":\"rechits_chain\",\"line\":{\"width\":2.4234154769954968},\"marker\":{\"color\":\"#636EFA\"},\"mode\":\"lines\",\"name\":\"Rechits chain\",\"showlegend\":false,\"x\":[0.9145300388336182,0.9145300388336182],\"y\":[1.2889482975006104,0.16394829750061035],\"z\":[32.397499084472656,32.397499084472656],\"type\":\"scatter3d\"},{\"anchor\":\"tip\",\"colorscale\":[[0,\"#636EFA\"],[1,\"#636EFA\"]],\"hoverinfo\":\"skip\",\"legendgroup\":\"rechits_chain\",\"showscale\":false,\"sizeref\":0.1,\"u\":[0.0],\"v\":[-1.0],\"w\":[0.0],\"x\":[0.9145300388336182],\"y\":[0.16394829750061035],\"z\":[32.397499084472656],\"type\":\"cone\"},{\"hoverinfo\":\"skip\",\"legendgroup\":\"rechits_chain\",\"line\":{\"width\":2.6281012601771825},\"marker\":{\"color\":\"#636EFA\"},\"mode\":\"lines\",\"name\":\"Rechits chain\",\"showlegend\":false,\"x\":[0.9145300388336182,1.8888952732086182],\"y\":[0.16394829750061035,-0.39855170249938965],\"z\":[32.397499084472656,32.397499084472656],\"type\":\"scatter3d\"},{\"anchor\":\"tip\",\"colorscale\":[[0,\"#636EFA\"],[1,\"#636EFA\"]],\"hoverinfo\":\"skip\",\"legendgroup\":\"rechits_chain\",\"showscale\":false,\"sizeref\":0.1,\"u\":[0.8660446585505366],\"v\":[-0.4999666482837475],\"w\":[0.0],\"x\":[1.8888952732086182],\"y\":[-0.39855170249938965],\"z\":[32.397499084472656],\"type\":\"cone\"},{\"hoverinfo\":\"skip\",\"legendgroup\":\"rechits_chain\",\"line\":{\"width\":1},\"marker\":{\"color\":\"#636EFA\"},\"mode\":\"lines\",\"name\":\"Rechits chain\",\"showlegend\":false,\"x\":[4.812356948852539,3.889720916748047],\"y\":[-3.2116620540618896,-2.570749044418335],\"z\":[32.397499084472656,32.397499084472656],\"type\":\"scatter3d\"},{\"anchor\":\"tip\",\"colorscale\":[[0,\"#636EFA\"],[1,\"#636EFA\"]],\"hoverinfo\":\"skip\",\"legendgroup\":\"rechits_chain\",\"showscale\":false,\"sizeref\":0.1,\"u\":[-0.8212892417302533],\"v\":[0.5705120344200859],\"w\":[0.0],\"x\":[3.889720916748047],\"y\":[-2.570749044418335],\"z\":[32.397499084472656],\"type\":\"cone\"},{\"hoverinfo\":\"skip\",\"legendgroup\":\"rechits_chain\",\"line\":{\"width\":1},\"marker\":{\"color\":\"#636EFA\"},\"mode\":\"lines\",\"name\":\"Rechits chain\",\"showlegend\":false,\"x\":[4.812356948852539,2.9152426719665527],\"y\":[1.2889482975006104,0.2422482967376709],\"z\":[32.397499084472656,32.397499084472656],\"type\":\"scatter3d\"},{\"anchor\":\"tip\",\"colorscale\":[[0,\"#636EFA\"],[1,\"#636EFA\"]],\"hoverinfo\":\"skip\",\"legendgroup\":\"rechits_chain\",\"showscale\":false,\"sizeref\":0.1,\"u\":[-0.8755745094784788],\"v\":[-0.48308309673545946],\"w\":[0.0],\"x\":[2.9152426719665527],\"y\":[0.2422482967376709],\"z\":[32.397499084472656],\"type\":\"cone\"},{\"customdata\":[[\"0.009863457\",\"0.13901478\",\"1.0311764\",\"Follower\",\"15\"],[\"0.020967469\",\"0.070316926\",\"1.031118\",\"Follower\",\"15\"],[\"0.07854049\",\"0.15094456\",\"1.1252339\",\"Follower\",\"15\"],[\"0.042592846\",\"0.16138431\",\"1.1252441\",\"Follower\",\"15\"],[\"0.04624261\",\"0.07802276\",\"1.1251223\",\"Follower\",\"15\"],[\"0.018742826\",\"0.14713162\",\"1.1251221\",\"Follower\",\"15\"],[\"0.11620186\",\"0.21851821\",\"3.4028235e+38\",\"Seed\",\"15\"],[\"0.051449683\",\"0.06611387\",\"1.1252441\",\"Follower\",\"15\"],[\"0.010585552\",\"0.12593651\",\"1.1251807\",\"Follower\",\"15\"],[\"0.04430752\",\"0.12899764\",\"1.1252372\",\"Follower\",\"15\"],[\"0.013642528\",\"0.013642528\",\"1.9486005\",\"Follower\",\"15\"],[\"0.0076773786\",\"0.0076773786\",\"1.9487305\",\"Follower\",\"15\"]],\"hovertemplate\":\"Rechit : %{customdata[3]}<br>Layer : %{customdata[4]}<br>Energy: %{customdata[0]:.2g} GeV<br>Rho: %{customdata[1]:.2g} GeV<br>Delta: %{customdata[2]:.2g} cm\",\"legendgroup\":\"rechits\",\"legendgrouptitle\":{\"text\":\"Rechits\"},\"marker\":{\"color\":\"#AB63FA\",\"size\":[3.2869420051574707,6.896036624908447,13.216286659240723,10.287758827209473,10.681220054626465,6.3592634201049805,15.090930938720703,11.191871643066406,3.6250686645507812,10.476642608642578,4.839221477508545,2.087832450866699],\"symbol\":\"circle\"},\"mode\":\"markers\",\"name\":\"2D cluster nb 20.0\",\"x\":[3.8378608226776123,3.8378608226776123,3.930711030960083,2.956232786178589,2.956232786178589,2.956232786178589,2.956232786178589,1.9817454814910889,1.9817454814910889,1.9817454814910889,1.0073802471160889,-0.9413502216339111],\"y\":[-2.6490490436553955,-3.7742841243743896,-1.496025800704956,-3.183892011642456,-4.309014320373535,-0.933525800704956,-2.058647871017456,-0.37078166007995605,-1.496025800704956,-2.621279001235962,1.316718339920044,1.316718339920044],\"z\":[34.3125,34.3125,34.3125,34.3125,34.3125,34.3125,34.3125,34.3125,34.3125,34.3125,34.3125,34.3125],\"type\":\"scatter3d\"},{\"hoverinfo\":\"skip\",\"legendgroup\":\"rechits_chain\",\"line\":{\"width\":1},\"marker\":{\"color\":\"#AB63FA\"},\"mode\":\"lines\",\"name\":\"Rechits chain\",\"showlegend\":false,\"x\":[3.8378608226776123,2.956232786178589],\"y\":[-2.6490490436553955,-3.183892011642456],\"z\":[34.3125,34.3125],\"type\":\"scatter3d\"},{\"anchor\":\"tip\",\"colorscale\":[[0,\"#AB63FA\"],[1,\"#AB63FA\"]],\"hoverinfo\":\"skip\",\"legendgroup\":\"rechits_chain\",\"showscale\":false,\"sizeref\":0.1,\"u\":[-0.8549729632082165],\"v\":[-0.5186725674093067],\"w\":[0.0],\"x\":[2.956232786178589],\"y\":[-3.183892011642456],\"z\":[34.3125],\"type\":\"cone\"},{\"hoverinfo\":\"skip\",\"legendgroup\":\"rechits_chain\",\"line\":{\"width\":1},\"marker\":{\"color\":\"#AB63FA\"},\"mode\":\"lines\",\"name\":\"Rechits chain\",\"showlegend\":false,\"x\":[3.8378608226776123,2.956232786178589],\"y\":[-3.7742841243743896,-4.309014320373535],\"z\":[34.3125,34.3125],\"type\":\"scatter3d\"},{\"anchor\":\"tip\",\"colorscale\":[[0,\"#AB63FA\"],[1,\"#AB63FA\"]],\"hoverinfo\":\"skip\",\"legendgroup\":\"rechits_chain\",\"showscale\":false,\"sizeref\":0.1,\"u\":[-0.855021459110804],\"v\":[-0.5185926189795146],\"w\":[0.0],\"x\":[2.956232786178589],\"y\":[-4.309014320373535],\"z\":[34.3125],\"type\":\"cone\"},{\"hoverinfo\":\"skip\",\"legendgroup\":\"rechits_chain\",\"line\":{\"width\":2.0610291832508687},\"marker\":{\"color\":\"#AB63FA\"},\"mode\":\"lines\",\"name\":\"Rechits chain\",\"showlegend\":false,\"x\":[3.930711030960083,2.956232786178589],\"y\":[-1.496025800704956,-2.058647871017456],\"z\":[34.3125,34.3125],\"type\":\"scatter3d\"},{\"anchor\":\"tip\",\"colorscale\":[[0,\"#AB63FA\"],[1,\"#AB63FA\"]],\"hoverinfo\":\"skip\",\"legendgroup\":\"rechits_chain\",\"showscale\":false,\"sizeref\":0.1,\"u\":[-0.8660227895475022],\"v\":[-0.5000045279638604],\"w\":[0.0],\"x\":[2.956232786178589],\"y\":[-2.058647871017456],\"z\":[34.3125],\"type\":\"cone\"},{\"hoverinfo\":\"skip\",\"legendgroup\":\"rechits_chain\",\"line\":{\"width\":3.0275751437043326},\"marker\":{\"color\":\"#AB63FA\"},\"mode\":\"lines\",\"name\":\"Rechits chain\",\"showlegend\":false,\"x\":[2.956232786178589,2.956232786178589],\"y\":[-3.183892011642456,-2.058647871017456],\"z\":[34.3125,34.3125],\"type\":\"scatter3d\"},{\"anchor\":\"tip\",\"colorscale\":[[0,\"#AB63FA\"],[1,\"#AB63FA\"]],\"hoverinfo\":\"skip\",\"legendgroup\":\"rechits_chain\",\"showscale\":false,\"sizeref\":0.1,\"u\":[0.0],\"v\":[1.0],\"w\":[0.0],\"x\":[2.956232786178589],\"y\":[-2.058647871017456],\"z\":[34.3125],\"type\":\"cone\"},{\"hoverinfo\":\"skip\",\"legendgroup\":\"rechits_chain\",\"line\":{\"width\":1.905238117091316},\"marker\":{\"color\":\"#AB63FA\"},\"mode\":\"lines\",\"name\":\"Rechits chain\",\"showlegend\":false,\"x\":[2.956232786178589,2.956232786178589],\"y\":[-4.309014320373535,-3.183892011642456],\"z\":[34.3125,34.3125],\"type\":\"scatter3d\"},{\"anchor\":\"tip\",\"colorscale\":[[0,\"#AB63FA\"],[1,\"#AB63FA\"]],\"hoverinfo\":\"skip\",\"legendgroup\":\"rechits_chain\",\"showscale\":false,\"sizeref\":0.1,\"u\":[0.0],\"v\":[1.0],\"w\":[0.0],\"x\":[2.956232786178589],\"y\":[-3.183892011642456],\"z\":[34.3125],\"type\":\"cone\"},{\"hoverinfo\":\"skip\",\"legendgroup\":\"rechits_chain\",\"line\":{\"width\":2.3233477218305114},\"marker\":{\"color\":\"#AB63FA\"},\"mode\":\"lines\",\"name\":\"Rechits chain\",\"showlegend\":false,\"x\":[2.956232786178589,2.956232786178589],\"y\":[-0.933525800704956,-2.058647871017456],\"z\":[34.3125,34.3125],\"type\":\"scatter3d\"},{\"anchor\":\"tip\",\"colorscale\":[[0,\"#AB63FA\"],[1,\"#AB63FA\"]],\"hoverinfo\":\"skip\",\"legendgroup\":\"rechits_chain\",\"showscale\":false,\"sizeref\":0.1,\"u\":[0.0],\"v\":[-1.0],\"w\":[0.0],\"x\":[2.956232786178589],\"y\":[-2.058647871017456],\"z\":[34.3125],\"type\":\"cone\"},{\"hoverinfo\":\"skip\",\"legendgroup\":\"rechits_chain\",\"line\":{\"width\":1.9847130449419184},\"marker\":{\"color\":\"#AB63FA\"},\"mode\":\"lines\",\"name\":\"Rechits chain\",\"showlegend\":false,\"x\":[1.9817454814910889,1.9817454814910889],\"y\":[-0.37078166007995605,-1.496025800704956],\"z\":[34.3125,34.3125],\"type\":\"scatter3d\"},{\"anchor\":\"tip\",\"colorscale\":[[0,\"#AB63FA\"],[1,\"#AB63FA\"]],\"hoverinfo\":\"skip\",\"legendgroup\":\"rechits_chain\",\"showscale\":false,\"sizeref\":0.1,\"u\":[0.0],\"v\":[-1.0],\"w\":[0.0],\"x\":[1.9817454814910889],\"y\":[-1.496025800704956],\"z\":[34.3125],\"type\":\"cone\"},{\"hoverinfo\":\"skip\",\"legendgroup\":\"rechits_chain\",\"line\":{\"width\":2.1205251980191826},\"marker\":{\"color\":\"#AB63FA\"},\"mode\":\"lines\",\"name\":\"Rechits chain\",\"showlegend\":false,\"x\":[1.9817454814910889,2.956232786178589],\"y\":[-1.496025800704956,-0.933525800704956],\"z\":[34.3125,34.3125],\"type\":\"scatter3d\"},{\"anchor\":\"tip\",\"colorscale\":[[0,\"#AB63FA\"],[1,\"#AB63FA\"]],\"hoverinfo\":\"skip\",\"legendgroup\":\"rechits_chain\",\"showscale\":false,\"sizeref\":0.1,\"u\":[0.866071776036405],\"v\":[0.499919672300608],\"w\":[0.0],\"x\":[2.956232786178589],\"y\":[-0.933525800704956],\"z\":[34.3125],\"type\":\"cone\"},{\"hoverinfo\":\"skip\",\"legendgroup\":\"rechits_chain\",\"line\":{\"width\":2.1610753859583474},\"marker\":{\"color\":\"#AB63FA\"},\"mode\":\"lines\",\"name\":\"Rechits chain\",\"showlegend\":false,\"x\":[1.9817454814910889,2.956232786178589],\"y\":[-2.621279001235962,-3.183892011642456],\"z\":[34.3125,34.3125],\"type\":\"scatter3d\"},{\"anchor\":\"tip\",\"colorscale\":[[0,\"#AB63FA\"],[1,\"#AB63FA\"]],\"hoverinfo\":\"skip\",\"legendgroup\":\"rechits_chain\",\"showscale\":false,\"sizeref\":0.1,\"u\":[0.8660282888646941],\"v\":[-0.4999950028611187],\"w\":[0.0],\"x\":[2.956232786178589],\"y\":[-3.183892011642456],\"z\":[34.3125],\"type\":\"cone\"},{\"hoverinfo\":\"skip\",\"legendgroup\":\"rechits_chain\",\"line\":{\"width\":1},\"marker\":{\"color\":\"#AB63FA\"},\"mode\":\"lines\",\"name\":\"Rechits chain\",\"showlegend\":false,\"x\":[1.0073802471160889,1.9817454814910889],\"y\":[1.316718339920044,-0.37078166007995605],\"z\":[34.3125,34.3125],\"type\":\"scatter3d\"},{\"anchor\":\"tip\",\"colorscale\":[[0,\"#AB63FA\"],[1,\"#AB63FA\"]],\"hoverinfo\":\"skip\",\"legendgroup\":\"rechits_chain\",\"showscale\":false,\"sizeref\":0.1,\"u\":[0.500033352457827],\"v\":[-0.8660061468775996],\"w\":[0.0],\"x\":[1.9817454814910889],\"y\":[-0.37078166007995605],\"z\":[34.3125],\"type\":\"cone\"},{\"hoverinfo\":\"skip\",\"legendgroup\":\"rechits_chain\",\"line\":{\"width\":1},\"marker\":{\"color\":\"#AB63FA\"},\"mode\":\"lines\",\"name\":\"Rechits chain\",\"showlegend\":false,\"x\":[-0.9413502216339111,1.0073802471160889],\"y\":[1.316718339920044,1.316718339920044],\"z\":[34.3125,34.3125],\"type\":\"scatter3d\"},{\"anchor\":\"tip\",\"colorscale\":[[0,\"#AB63FA\"],[1,\"#AB63FA\"]],\"hoverinfo\":\"skip\",\"legendgroup\":\"rechits_chain\",\"showscale\":false,\"sizeref\":0.1,\"u\":[1.0],\"v\":[0.0],\"w\":[0.0],\"x\":[1.0073802471160889],\"y\":[1.316718339920044],\"z\":[34.3125],\"type\":\"cone\"},{\"customdata\":[[\"0.022515044\",\"0.0325061\",\"1.9489746\",\"Seed\",\"15\"],[\"0.019982113\",\"0.031239634\",\"1.1249201\",\"Follower\",\"15\"]],\"hovertemplate\":\"Rechit : %{customdata[3]}<br>Layer : %{customdata[4]}<br>Energy: %{customdata[0]:.2g} GeV<br>Rho: %{customdata[1]:.2g} GeV<br>Delta: %{customdata[2]:.2g} cm\",\"legendgroup\":\"rechits\",\"legendgrouptitle\":{\"text\":\"Rechits\"},\"marker\":{\"color\":\"#FFA15A\",\"size\":[7.236836910247803,6.665677070617676],\"symbol\":\"circle\"},\"mode\":\"markers\",\"name\":\"2D cluster nb 21.0\",\"x\":[0.03277087211608887,-0.9413502216339111],\"y\":[-2.621279001235962,-3.183892011642456],\"z\":[34.3125,34.3125],\"type\":\"scatter3d\"},{\"hoverinfo\":\"skip\",\"legendgroup\":\"rechits_chain\",\"line\":{\"width\":1},\"marker\":{\"color\":\"#FFA15A\"},\"mode\":\"lines\",\"name\":\"Rechits chain\",\"showlegend\":false,\"x\":[-0.9413502216339111,0.03277087211608887],\"y\":[-3.183892011642456,-2.621279001235962],\"z\":[34.3125,34.3125],\"type\":\"scatter3d\"},{\"anchor\":\"tip\",\"colorscale\":[[0,\"#FFA15A\"],[1,\"#FFA15A\"]],\"hoverinfo\":\"skip\",\"legendgroup\":\"rechits_chain\",\"showscale\":false,\"sizeref\":0.1,\"u\":[0.8659468930329299],\"v\":[0.5001359599615046],\"w\":[0.0],\"x\":[0.03277087211608887],\"y\":[-2.621279001235962],\"z\":[34.3125],\"type\":\"cone\"},{\"customdata\":[[\"0.043022107\",\"0.09845296\",\"1.056344\",\"Follower\",\"17\"],[\"0.07655353\",\"0.11521868\",\"3.4028235e+38\",\"Seed\",\"17\"],[\"0.03430818\",\"0.108031355\",\"1.0399595\",\"Follower\",\"17\"]],\"hovertemplate\":\"Rechit : %{customdata[3]}<br>Layer : %{customdata[4]}<br>Energy: %{customdata[0]:.2g} GeV<br>Rho: %{customdata[1]:.2g} GeV<br>Delta: %{customdata[2]:.2g} cm\",\"legendgroup\":\"rechits\",\"legendgrouptitle\":{\"text\":\"Rechits\"},\"marker\":{\"color\":\"#B6E880\",\"size\":[10.335749626159668,13.093656539916992,9.252592086791992],\"symbol\":\"circle\"},\"mode\":\"markers\",\"name\":\"2D cluster nb 24.0\",\"x\":[3.8489508628845215,3.8489508628845215,2.9646925926208496],\"y\":[-0.3405117988586426,-1.4657559394836426,-0.9183957576751709],\"z\":[37.11750030517578,37.11750030517578,37.11750030517578],\"type\":\"scatter3d\"},{\"hoverinfo\":\"skip\",\"legendgroup\":\"rechits_chain\",\"line\":{\"width\":2.5230602530558954},\"marker\":{\"color\":\"#B6E880\"},\"mode\":\"lines\",\"name\":\"Rechits chain\",\"showlegend\":false,\"x\":[3.8489508628845215,2.9646925926208496],\"y\":[-0.3405117988586426,-0.9183957576751709],\"z\":[37.11750030517578,37.11750030517578],\"type\":\"scatter3d\"},{\"anchor\":\"tip\",\"colorscale\":[[0,\"#B6E880\"],[1,\"#B6E880\"]],\"hoverinfo\":\"skip\",\"legendgroup\":\"rechits_chain\",\"showscale\":false,\"sizeref\":0.1,\"u\":[-0.8370931298051794],\"v\":[-0.5470604098570553],\"w\":[0.0],\"x\":[2.9646925926208496],\"y\":[-0.9183957576751709],\"z\":[37.11750030517578],\"type\":\"cone\"},{\"hoverinfo\":\"skip\",\"legendgroup\":\"rechits_chain\",\"line\":{\"width\":3.2586109605463163},\"marker\":{\"color\":\"#B6E880\"},\"mode\":\"lines\",\"name\":\"Rechits chain\",\"showlegend\":false,\"x\":[2.9646925926208496,3.8489508628845215],\"y\":[-0.9183957576751709,-1.4657559394836426],\"z\":[37.11750030517578,37.11750030517578],\"type\":\"scatter3d\"},{\"anchor\":\"tip\",\"colorscale\":[[0,\"#B6E880\"],[1,\"#B6E880\"]],\"hoverinfo\":\"skip\",\"legendgroup\":\"rechits_chain\",\"showscale\":false,\"sizeref\":0.1,\"u\":[0.8502814111656097],\"v\":[-0.526328340322103],\"w\":[0.0],\"x\":[3.8489508628845215],\"y\":[-1.4657559394836426],\"z\":[37.11750030517578],\"type\":\"cone\"},{\"customdata\":[[\"0.023556886\",\"0.047033306\",\"1.125173\",\"Follower\",\"18\"],[\"0.035401843\",\"0.093686566\",\"1.1251807\",\"Follower\",\"18\"],[\"0.09301255\",\"0.12336911\",\"3.4028235e+38\",\"Seed\",\"18\"],[\"0.025311295\",\"0.07181757\",\"1.0535862\",\"Follower\",\"18\"],[\"0.011550999\",\"0.023329442\",\"1.1450984\",\"Follower\",\"18\"]],\"hovertemplate\":\"Rechit : %{customdata[3]}<br>Layer : %{customdata[4]}<br>Energy: %{customdata[0]:.2g} GeV<br>Rho: %{customdata[1]:.2g} GeV<br>Delta: %{customdata[2]:.2g} cm\",\"legendgroup\":\"rechits\",\"legendgrouptitle\":{\"text\":\"Rechits\"},\"marker\":{\"color\":\"#FECB52\",\"size\":[7.453318119049072,9.4027681350708,14.025651931762695,7.797089576721191,4.042778491973877],\"symbol\":\"circle\"},\"mode\":\"markers\",\"name\":\"2D cluster nb 26.0\",\"x\":[3.9391708374023438,2.9646925926208496,1.9902052879333496,1.9690253734588623,4.892487525939941],\"y\":[-1.480895757675171,-0.9183957576751709,-1.480895757675171,-2.534269094467163,-0.8465158939361572],\"z\":[38.00749969482422,38.00749969482422,38.00749969482422,38.00749969482422,38.00749969482422],\"type\":\"scatter3d\"},{\"hoverinfo\":\"skip\",\"legendgroup\":\"rechits_chain\",\"line\":{\"width\":1.2558406700060456},\"marker\":{\"color\":\"#FECB52\"},\"mode\":\"lines\",\"name\":\"Rechits chain\",\"showlegend\":false,\"x\":[3.9391708374023438,2.9646925926208496],\"y\":[-1.480895757675171,-0.9183957576751709],\"z\":[38.00749969482422,38.00749969482422],\"type\":\"scatter3d\"},{\"anchor\":\"tip\",\"colorscale\":[[0,\"#FECB52\"],[1,\"#FECB52\"]],\"hoverinfo\":\"skip\",\"legendgroup\":\"rechits_chain\",\"showscale\":false,\"sizeref\":0.1,\"u\":[-0.8660697636731018],\"v\":[0.4999231585466086],\"w\":[0.0],\"x\":[2.9646925926208496],\"y\":[-0.9183957576751709],\"z\":[38.00749969482422],\"type\":\"cone\"},{\"hoverinfo\":\"skip\",\"legendgroup\":\"rechits_chain\",\"line\":{\"width\":1.9531656069569172},\"marker\":{\"color\":\"#FECB52\"},\"mode\":\"lines\",\"name\":\"Rechits chain\",\"showlegend\":false,\"x\":[2.9646925926208496,1.9902052879333496],\"y\":[-0.9183957576751709,-1.480895757675171],\"z\":[38.00749969482422,38.00749969482422],\"type\":\"scatter3d\"},{\"anchor\":\"tip\",\"colorscale\":[[0,\"#FECB52\"],[1,\"#FECB52\"]],\"hoverinfo\":\"skip\",\"legendgroup\":\"rechits_chain\",\"showscale\":false,\"sizeref\":0.1,\"u\":[-0.866071776036405],\"v\":[-0.499919672300608],\"w\":[0.0],\"x\":[1.9902052879333496],\"y\":[-1.480895757675171],\"z\":[38.00749969482422],\"type\":\"cone\"},{\"hoverinfo\":\"skip\",\"legendgroup\":\"rechits_chain\",\"line\":{\"width\":1},\"marker\":{\"color\":\"#FECB52\"},\"mode\":\"lines\",\"name\":\"Rechits chain\",\"showlegend\":false,\"x\":[1.9690253734588623,1.9902052879333496],\"y\":[-2.534269094467163,-1.480895757675171],\"z\":[38.00749969482422,38.00749969482422],\"type\":\"scatter3d\"},{\"anchor\":\"tip\",\"colorscale\":[[0,\"#FECB52\"],[1,\"#FECB52\"]],\"hoverinfo\":\"skip\",\"legendgroup\":\"rechits_chain\",\"showscale\":false,\"sizeref\":0.1,\"u\":[0.02010268696750829],\"v\":[0.9997979205702952],\"w\":[0.0],\"x\":[1.9902052879333496],\"y\":[-1.480895757675171],\"z\":[38.00749969482422],\"type\":\"cone\"},{\"hoverinfo\":\"skip\",\"legendgroup\":\"rechits_chain\",\"line\":{\"width\":1},\"marker\":{\"color\":\"#FECB52\"},\"mode\":\"lines\",\"name\":\"Rechits chain\",\"showlegend\":false,\"x\":[4.892487525939941,3.9391708374023438],\"y\":[-0.8465158939361572,-1.480895757675171],\"z\":[38.00749969482422,38.00749969482422],\"type\":\"scatter3d\"},{\"anchor\":\"tip\",\"colorscale\":[[0,\"#FECB52\"],[1,\"#FECB52\"]],\"hoverinfo\":\"skip\",\"legendgroup\":\"rechits_chain\",\"showscale\":false,\"sizeref\":0.1,\"u\":[-0.8325193931909131],\"v\":[-0.5539959024767548],\"w\":[0.0],\"x\":[3.9391708374023438],\"y\":[-1.480895757675171],\"z\":[38.00749969482422],\"type\":\"cone\"},{\"customdata\":[[\"0.0075199096\",\"0.0075199096\",\"1.9489741\",\"Follower\",\"19\"],[\"0.025334386\",\"0.025334386\",\"3.4028235e+38\",\"Seed\",\"19\"]],\"hovertemplate\":\"Rechit : %{customdata[3]}<br>Layer : %{customdata[4]}<br>Energy: %{customdata[0]:.2g} GeV<br>Rho: %{customdata[1]:.2g} GeV<br>Delta: %{customdata[2]:.2g} cm\",\"legendgroup\":\"rechits\",\"legendgrouptitle\":{\"text\":\"Rechits\"},\"marker\":{\"color\":\"#EF553B\",\"size\":[1.9886536598205566,7.801453590393066],\"symbol\":\"circle\"},\"mode\":\"markers\",\"name\":\"2D cluster nb 28.0\",\"x\":[3.9179909229278564,2.9435126781463623],\"y\":[-3.6595041751861572,-1.9716379642486572],\"z\":[39.92250061035156,39.92250061035156],\"type\":\"scatter3d\"},{\"hoverinfo\":\"skip\",\"legendgroup\":\"rechits_chain\",\"line\":{\"width\":1},\"marker\":{\"color\":\"#EF553B\"},\"mode\":\"lines\",\"name\":\"Rechits chain\",\"showlegend\":false,\"x\":[3.9179909229278564,2.9435126781463623],\"y\":[-3.6595041751861572,-1.9716379642486572],\"z\":[39.92250061035156,39.92250061035156],\"type\":\"scatter3d\"},{\"anchor\":\"tip\",\"colorscale\":[[0,\"#EF553B\"],[1,\"#EF553B\"]],\"hoverinfo\":\"skip\",\"legendgroup\":\"rechits_chain\",\"showscale\":false,\"sizeref\":0.1,\"u\":[-0.49999547204980793],\"v\":[0.8660280179819183],\"w\":[0.0],\"x\":[2.9435126781463623],\"y\":[-1.9716379642486572],\"z\":[39.92250061035156],\"type\":\"cone\"},{\"customdata\":[[\"0.01472834\",\"0.025429327\",\"1.1252372\",\"Follower\",\"22\"],[\"0.021401972\",\"0.028766142\",\"3.4028235e+38\",\"Seed\",\"22\"]],\"hovertemplate\":\"Rechit : %{customdata[3]}<br>Layer : %{customdata[4]}<br>Energy: %{customdata[0]:.2g} GeV<br>Rho: %{customdata[1]:.2g} GeV<br>Delta: %{customdata[2]:.2g} cm\",\"legendgroup\":\"rechits\",\"legendgrouptitle\":{\"text\":\"Rechits\"},\"marker\":{\"color\":\"#00CC96\",\"size\":[5.2057204246521,6.994197845458984],\"symbol\":\"circle\"},\"mode\":\"markers\",\"name\":\"2D cluster nb 29.0\",\"x\":[2.9865827560424805,2.0120954513549805],\"y\":[-3.137322187423706,-2.574709177017212],\"z\":[44.037498474121094,44.037498474121094],\"type\":\"scatter3d\"},{\"hoverinfo\":\"skip\",\"legendgroup\":\"rechits_chain\",\"line\":{\"width\":1},\"marker\":{\"color\":\"#00CC96\"},\"mode\":\"lines\",\"name\":\"Rechits chain\",\"showlegend\":false,\"x\":[2.9865827560424805,2.0120954513549805],\"y\":[-3.137322187423706,-2.574709177017212],\"z\":[44.037498474121094,44.037498474121094],\"type\":\"scatter3d\"},{\"anchor\":\"tip\",\"colorscale\":[[0,\"#00CC96\"],[1,\"#00CC96\"]],\"hoverinfo\":\"skip\",\"legendgroup\":\"rechits_chain\",\"showscale\":false,\"sizeref\":0.1,\"u\":[-0.8660282888646941],\"v\":[0.4999950028611187],\"w\":[0.0],\"x\":[2.0120954513549805],\"y\":[-2.574709177017212],\"z\":[44.037498474121094],\"type\":\"cone\"},{\"customdata\":[[\"0.020513315\",\"0.029963173\",\"1.1500651\",\"Follower\",\"12\"],[\"0.064005226\",\"0.07345508\",\"3.4028235e+38\",\"Seed\",\"12\"],[\"0.018899716\",\"0.061158985\",\"1.1251807\",\"Follower\",\"12\"]],\"hovertemplate\":\"Rechit : %{customdata[3]}<br>Layer : %{customdata[4]}<br>Energy: %{customdata[0]:.2g} GeV<br>Rho: %{customdata[1]:.2g} GeV<br>Delta: %{customdata[2]:.2g} cm\",\"legendgroup\":\"rechits\",\"legendgrouptitle\":{\"text\":\"Rechits\"},\"marker\":{\"color\":\"#FF97FF\",\"size\":[6.791239261627197,12.23688793182373,6.39915657043457],\"symbol\":\"circle\"},\"mode\":\"markers\",\"name\":\"2D cluster nb 15.0\",\"x\":[3.8504509925842285,1.8594753742218018,2.8339626789093018],\"y\":[3.0074164867401123,2.9828765392303467,3.5453765392303467],\"z\":[29.592500686645508,29.592500686645508,29.592500686645508],\"type\":\"scatter3d\"},{\"hoverinfo\":\"skip\",\"legendgroup\":\"rechits_chain\",\"line\":{\"width\":1},\"marker\":{\"color\":\"#FF97FF\"},\"mode\":\"lines\",\"name\":\"Rechits chain\",\"showlegend\":false,\"x\":[3.8504509925842285,2.8339626789093018],\"y\":[3.0074164867401123,3.5453765392303467],\"z\":[29.592500686645508,29.592500686645508],\"type\":\"scatter3d\"},{\"anchor\":\"tip\",\"colorscale\":[[0,\"#FF97FF\"],[1,\"#FF97FF\"]],\"hoverinfo\":\"skip\",\"legendgroup\":\"rechits_chain\",\"showscale\":false,\"sizeref\":0.1,\"u\":[-0.8838529226515429],\"v\":[0.4677649100994278],\"w\":[0.0],\"x\":[2.8339626789093018],\"y\":[3.5453765392303467],\"z\":[29.592500686645508],\"type\":\"cone\"},{\"hoverinfo\":\"skip\",\"legendgroup\":\"rechits_chain\",\"line\":{\"width\":1.3715114095061647},\"marker\":{\"color\":\"#FF97FF\"},\"mode\":\"lines\",\"name\":\"Rechits chain\",\"showlegend\":false,\"x\":[2.8339626789093018,1.8594753742218018],\"y\":[3.5453765392303467,2.9828765392303467],\"z\":[29.592500686645508,29.592500686645508],\"type\":\"scatter3d\"},{\"anchor\":\"tip\",\"colorscale\":[[0,\"#FF97FF\"],[1,\"#FF97FF\"]],\"hoverinfo\":\"skip\",\"legendgroup\":\"rechits_chain\",\"showscale\":false,\"sizeref\":0.1,\"u\":[-0.866071776036405],\"v\":[-0.499919672300608],\"w\":[0.0],\"x\":[1.8594753742218018],\"y\":[2.9828765392303467],\"z\":[29.592500686645508],\"type\":\"cone\"},{\"customdata\":[[\"0.025794381\",\"0.0961184\",\"1.0959091\",\"Follower\",\"13\"],[\"0.016638696\",\"0.04176125\",\"1.0959039\",\"Follower\",\"13\"],[\"0.025021642\",\"0.13218649\",\"1.0188426\",\"Follower\",\"13\"],[\"0.042947806\",\"0.104636185\",\"1.0557734\",\"Follower\",\"13\"],[\"0.012129861\",\"0.07013476\",\"1.0188969\",\"Follower\",\"13\"],[\"0.1582677\",\"0.21597284\",\"3.4028235e+38\",\"Seed\",\"13\"],[\"0.013114198\",\"0.17897245\",\"1.125\",\"Follower\",\"13\"],[\"0.04587585\",\"0.14049694\",\"1.1252441\",\"Follower\",\"13\"],[\"0.07357671\",\"0.11547676\",\"1.1251221\",\"Follower\",\"13\"],[\"0.07727443\",\"0.18302992\",\"1.125425\",\"Follower\",\"13\"],[\"0.05960349\",\"0.100259624\",\"1.1251807\",\"Follower\",\"13\"],[\"0.053243283\",\"0.1090843\",\"1.1253192\",\"Follower\",\"13\"],[\"0.007316481\",\"0.091853485\",\"1.125\",\"Follower\",\"13\"],[\"0.015005735\",\"0.08191278\",\"1.1251972\",\"Follower\",\"13\"],[\"0.008824412\",\"0.044914864\",\"1.1251221\",\"Follower\",\"13\"],[\"0.013235856\",\"0.017648062\",\"1.1252441\",\"Follower\",\"13\"],[\"0.027091129\",\"0.0644362\",\"1.1252865\",\"Follower\",\"13\"],[\"0.014130376\",\"0.06080671\",\"1.125\",\"Follower\",\"13\"],[\"0.04393932\",\"0.07280636\",\"1.1252865\",\"Follower\",\"13\"],[\"0.019773554\",\"0.06936516\",\"1.1249247\",\"Follower\",\"13\"],[\"0.055243902\",\"0.06513068\",\"1.1252441\",\"Follower\",\"13\"],[\"0.008269405\",\"0.027420785\",\"1.1252372\",\"Follower\",\"13\"],[\"0.033386495\",\"0.053069025\",\"1.1253028\",\"Follower\",\"13\"],[\"0.02598189\",\"0.068856746\",\"1.1251221\",\"Follower\",\"13\"],[\"0.01232087\",\"0.050663054\",\"1.1252441\",\"Follower\",\"13\"],[\"0.039365064\",\"0.09052316\",\"1.1253107\",\"Follower\",\"13\"]],\"hovertemplate\":\"Rechit : %{customdata[3]}<br>Layer : %{customdata[4]}<br>Energy: %{customdata[0]:.2g} GeV<br>Rho: %{customdata[1]:.2g} GeV<br>Delta: %{customdata[2]:.2g} cm\",\"legendgroup\":\"rechits\",\"legendgrouptitle\":{\"text\":\"Rechits\"},\"marker\":{\"color\":\"#FECB52\",\"size\":[7.887568950653076,5.789378643035889,7.742008209228516,10.32747745513916,4.276792526245117,16.569528579711914,4.650201797485352,10.643112182617188,12.903846740722656,13.138513565063477,11.89590072631836,11.355865478515625,1.857405662536621,5.295018196105957,2.754218578338623,4.694393157958984,8.122307777404785,5.007367134094238,10.436707496643066,6.615464687347412,11.532394409179688,2.4433391094207764,9.122264862060547,7.922231674194336,4.35156774520874,9.910606384277344],\"symbol\":\"circle\"},\"mode\":\"markers\",\"name\":\"2D cluster nb 16.0\",\"x\":[3.808440923690796,3.808440923690796,3.808440923690796,3.889720916748047,2.9152426719665527,2.9152426719665527,2.9152426719665527,2.9152426719665527,2.9152426719665527,1.9407553672790527,1.9407553672790527,0.9663901329040527,0.9663901329040527,0.9663901329040527,0.9663901329040527,0.9663901329040527,-0.008219242095947266,-0.008219242095947266,-0.008219242095947266,-0.9823403358459473,-0.9823403358459473,5.838704586029053,5.838704586029053,4.864217281341553,4.864217281341553,4.864217281341553],\"y\":[-2.643109083175659,-3.7683441638946533,0.7323882579803467,-0.3202517032623291,-3.133362054824829,1.367248296737671,0.2422482967376709,-0.8829958438873291,-2.008117914199829,1.930236577987671,-0.3202517032623291,1.367248296737671,0.2422482967376709,-0.8829958438873291,-2.008117914199829,-3.133362054824829,0.8047482967376709,-0.3202517032623291,-1.445495843887329,-2.008117914199829,-3.133362054824829,-2.570749044418335,-0.3202517032623291,-2.008117914199829,-3.133362054824829,-0.8829958438873291],\"z\":[31.50749969482422,31.50749969482422,31.50749969482422,31.50749969482422,31.50749969482422,31.50749969482422,31.50749969482422,31.50749969482422,31.50749969482422,31.50749969482422,31.50749969482422,31.50749969482422,31.50749969482422,31.50749969482422,31.50749969482422,31.50749969482422,31.50749969482422,31.50749969482422,31.50749969482422,31.50749969482422,31.50749969482422,31.50749969482422,31.50749969482422,31.50749969482422,31.50749969482422,31.50749969482422],\"type\":\"scatter3d\"},{\"hoverinfo\":\"skip\",\"legendgroup\":\"rechits_chain\",\"line\":{\"width\":1.696769775388853},\"marker\":{\"color\":\"#FECB52\"},\"mode\":\"lines\",\"name\":\"Rechits chain\",\"showlegend\":false,\"x\":[3.808440923690796,2.9152426719665527],\"y\":[-2.643109083175659,-2.008117914199829],\"z\":[31.50749969482422,31.50749969482422],\"type\":\"scatter3d\"},{\"anchor\":\"tip\",\"colorscale\":[[0,\"#FECB52\"],[1,\"#FECB52\"]],\"hoverinfo\":\"skip\",\"legendgroup\":\"rechits_chain\",\"showscale\":false,\"sizeref\":0.1,\"u\":[-0.8150294558168024],\"v\":[0.5794195251723633],\"w\":[0.0],\"x\":[2.9152426719665527],\"y\":[-2.008117914199829],\"z\":[31.50749969482422],\"type\":\"cone\"},{\"hoverinfo\":\"skip\",\"legendgroup\":\"rechits_chain\",\"line\":{\"width\":1},\"marker\":{\"color\":\"#FECB52\"},\"mode\":\"lines\",\"name\":\"Rechits chain\",\"showlegend\":false,\"x\":[3.808440923690796,2.9152426719665527],\"y\":[-3.7683441638946533,-3.133362054824829],\"z\":[31.50749969482422,31.50749969482422],\"type\":\"scatter3d\"},{\"anchor\":\"tip\",\"colorscale\":[[0,\"#FECB52\"],[1,\"#FECB52\"]],\"hoverinfo\":\"skip\",\"legendgroup\":\"rechits_chain\",\"showscale\":false,\"sizeref\":0.1,\"u\":[-0.8150333598687279],\"v\":[0.5794140335727921],\"w\":[0.0],\"x\":[2.9152426719665527],\"y\":[-3.133362054824829],\"z\":[31.50749969482422],\"type\":\"cone\"},{\"hoverinfo\":\"skip\",\"legendgroup\":\"rechits_chain\",\"line\":{\"width\":2.9300900652521618},\"marker\":{\"color\":\"#FECB52\"},\"mode\":\"lines\",\"name\":\"Rechits chain\",\"showlegend\":false,\"x\":[3.808440923690796,2.9152426719665527],\"y\":[0.7323882579803467,0.2422482967376709],\"z\":[31.50749969482422,31.50749969482422],\"type\":\"scatter3d\"},{\"anchor\":\"tip\",\"colorscale\":[[0,\"#FECB52\"],[1,\"#FECB52\"]],\"hoverinfo\":\"skip\",\"legendgroup\":\"rechits_chain\",\"showscale\":false,\"sizeref\":0.1,\"u\":[-0.8766793105213748],\"v\":[-0.4810752399612423],\"w\":[0.0],\"x\":[2.9152426719665527],\"y\":[0.2422482967376709],\"z\":[31.50749969482422],\"type\":\"cone\"},{\"hoverinfo\":\"skip\",\"legendgroup\":\"rechits_chain\",\"line\":{\"width\":2.78668595250716},\"marker\":{\"color\":\"#FECB52\"},\"mode\":\"lines\",\"name\":\"Rechits chain\",\"showlegend\":false,\"x\":[3.889720916748047,3.808440923690796],\"y\":[-0.3202517032623291,0.7323882579803467],\"z\":[31.50749969482422,31.50749969482422],\"type\":\"scatter3d\"},{\"anchor\":\"tip\",\"colorscale\":[[0,\"#FECB52\"],[1,\"#FECB52\"]],\"hoverinfo\":\"skip\",\"legendgroup\":\"rechits_chain\",\"showscale\":false,\"sizeref\":0.1,\"u\":[-0.07698621542474973],\"v\":[0.9970321572720581],\"w\":[0.0],\"x\":[3.808440923690796],\"y\":[0.7323882579803467],\"z\":[31.50749969482422],\"type\":\"cone\"},{\"hoverinfo\":\"skip\",\"legendgroup\":\"rechits_chain\",\"line\":{\"width\":1.0566979312033005},\"marker\":{\"color\":\"#FECB52\"},\"mode\":\"lines\",\"name\":\"Rechits chain\",\"showlegend\":false,\"x\":[2.9152426719665527,3.808440923690796],\"y\":[-3.133362054824829,-2.643109083175659],\"z\":[31.50749969482422,31.50749969482422],\"type\":\"scatter3d\"},{\"anchor\":\"tip\",\"colorscale\":[[0,\"#FECB52\"],[1,\"#FECB52\"]],\"hoverinfo\":\"skip\",\"legendgroup\":\"rechits_chain\",\"showscale\":false,\"sizeref\":0.1,\"u\":[0.876632528348119],\"v\":[0.4811604828349729],\"w\":[0.0],\"x\":[3.808440923690796],\"y\":[-2.643109083175659],\"z\":[31.50749969482422],\"type\":\"cone\"},{\"hoverinfo\":\"skip\",\"legendgroup\":\"rechits_chain\",\"line\":{\"width\":4.07762072567951},\"marker\":{\"color\":\"#FECB52\"},\"mode\":\"lines\",\"name\":\"Rechits chain\",\"showlegend\":false,\"x\":[2.9152426719665527,2.9152426719665527],\"y\":[0.2422482967376709,1.367248296737671],\"z\":[31.50749969482422,31.50749969482422],\"type\":\"scatter3d\"},{\"anchor\":\"tip\",\"colorscale\":[[0,\"#FECB52\"],[1,\"#FECB52\"]],\"hoverinfo\":\"skip\",\"legendgroup\":\"rechits_chain\",\"showscale\":false,\"sizeref\":0.1,\"u\":[0.0],\"v\":[1.0],\"w\":[0.0],\"x\":[2.9152426719665527],\"y\":[1.367248296737671],\"z\":[31.50749969482422],\"type\":\"cone\"},{\"hoverinfo\":\"skip\",\"legendgroup\":\"rechits_chain\",\"line\":{\"width\":2.856559286061691},\"marker\":{\"color\":\"#FECB52\"},\"mode\":\"lines\",\"name\":\"Rechits chain\",\"showlegend\":false,\"x\":[2.9152426719665527,2.9152426719665527],\"y\":[-0.8829958438873291,0.2422482967376709],\"z\":[31.50749969482422,31.50749969482422],\"type\":\"scatter3d\"},{\"anchor\":\"tip\",\"colorscale\":[[0,\"#FECB52\"],[1,\"#FECB52\"]],\"hoverinfo\":\"skip\",\"legendgroup\":\"rechits_chain\",\"showscale\":false,\"sizeref\":0.1,\"u\":[0.0],\"v\":[1.0],\"w\":[0.0],\"x\":[2.9152426719665527],\"y\":[0.2422482967376709],\"z\":[31.50749969482422],\"type\":\"cone\"},{\"hoverinfo\":\"skip\",\"legendgroup\":\"rechits_chain\",\"line\":{\"width\":2.5505355880627394},\"marker\":{\"color\":\"#FECB52\"},\"mode\":\"lines\",\"name\":\"Rechits chain\",\"showlegend\":false,\"x\":[2.9152426719665527,2.9152426719665527],\"y\":[-2.008117914199829,-0.8829958438873291],\"z\":[31.50749969482422,31.50749969482422],\"type\":\"scatter3d\"},{\"anchor\":\"tip\",\"colorscale\":[[0,\"#FECB52\"],[1,\"#FECB52\"]],\"hoverinfo\":\"skip\",\"legendgroup\":\"rechits_chain\",\"showscale\":false,\"sizeref\":0.1,\"u\":[0.0],\"v\":[1.0],\"w\":[0.0],\"x\":[2.9152426719665527],\"y\":[-0.8829958438873291],\"z\":[31.50749969482422],\"type\":\"cone\"},{\"hoverinfo\":\"skip\",\"legendgroup\":\"rechits_chain\",\"line\":{\"width\":2.8851118146598846},\"marker\":{\"color\":\"#FECB52\"},\"mode\":\"lines\",\"name\":\"Rechits chain\",\"showlegend\":false,\"x\":[1.9407553672790527,2.9152426719665527],\"y\":[1.930236577987671,1.367248296737671],\"z\":[31.50749969482422,31.50749969482422],\"type\":\"scatter3d\"},{\"anchor\":\"tip\",\"colorscale\":[[0,\"#FECB52\"],[1,\"#FECB52\"]],\"hoverinfo\":\"skip\",\"legendgroup\":\"rechits_chain\",\"showscale\":false,\"sizeref\":0.1,\"u\":[0.8658838664416397],\"v\":[-0.5002450697768811],\"w\":[0.0],\"x\":[2.9152426719665527],\"y\":[1.367248296737671],\"z\":[31.50749969482422],\"type\":\"cone\"},{\"hoverinfo\":\"skip\",\"legendgroup\":\"rechits_chain\",\"line\":{\"width\":3.070961569719091},\"marker\":{\"color\":\"#FECB52\"},\"mode\":\"lines\",\"name\":\"Rechits chain\",\"showlegend\":false,\"x\":[1.9407553672790527,2.9152426719665527],\"y\":[-0.3202517032623291,0.2422482967376709],\"z\":[31.50749969482422,31.50749969482422],\"type\":\"scatter3d\"},{\"anchor\":\"tip\",\"colorscale\":[[0,\"#FECB52\"],[1,\"#FECB52\"]],\"hoverinfo\":\"skip\",\"legendgroup\":\"rechits_chain\",\"showscale\":false,\"sizeref\":0.1,\"u\":[0.866071776036405],\"v\":[0.499919672300608],\"w\":[0.0],\"x\":[2.9152426719665527],\"y\":[0.2422482967376709],\"z\":[31.50749969482422],\"type\":\"cone\"},{\"hoverinfo\":\"skip\",\"legendgroup\":\"rechits_chain\",\"line\":{\"width\":2.3202409968426996},\"marker\":{\"color\":\"#FECB52\"},\"mode\":\"lines\",\"name\":\"Rechits chain\",\"showlegend\":false,\"x\":[0.9663901329040527,1.9407553672790527],\"y\":[1.367248296737671,1.930236577987671],\"z\":[31.50749969482422,31.50749969482422],\"type\":\"scatter3d\"},{\"anchor\":\"tip\",\"colorscale\":[[0,\"#FECB52\"],[1,\"#FECB52\"]],\"hoverinfo\":\"skip\",\"legendgroup\":\"rechits_chain\",\"showscale\":false,\"sizeref\":0.1,\"u\":[0.8658567195357058],\"v\":[0.5002920559381953],\"w\":[0.0],\"x\":[1.9407553672790527],\"y\":[1.930236577987671],\"z\":[31.50749969482422],\"type\":\"cone\"},{\"hoverinfo\":\"skip\",\"legendgroup\":\"rechits_chain\",\"line\":{\"width\":1},\"marker\":{\"color\":\"#FECB52\"},\"mode\":\"lines\",\"name\":\"Rechits chain\",\"showlegend\":false,\"x\":[0.9663901329040527,0.9663901329040527],\"y\":[0.2422482967376709,1.367248296737671],\"z\":[31.50749969482422,31.50749969482422],\"type\":\"scatter3d\"},{\"anchor\":\"tip\",\"colorscale\":[[0,\"#FECB52\"],[1,\"#FECB52\"]],\"hoverinfo\":\"skip\",\"legendgroup\":\"rechits_chain\",\"showscale\":false,\"sizeref\":0.1,\"u\":[0.0],\"v\":[1.0],\"w\":[0.0],\"x\":[0.9663901329040527],\"y\":[1.367248296737671],\"z\":[31.50749969482422],\"type\":\"cone\"},{\"hoverinfo\":\"skip\",\"legendgroup\":\"rechits_chain\",\"line\":{\"width\":2.7474169090436815},\"marker\":{\"color\":\"#FECB52\"},\"mode\":\"lines\",\"name\":\"Rechits chain\",\"showlegend\":false,\"x\":[0.9663901329040527,1.9407553672790527],\"y\":[-0.8829958438873291,-0.3202517032623291],\"z\":[31.50749969482422,31.50749969482422],\"type\":\"scatter3d\"},{\"anchor\":\"tip\",\"colorscale\":[[0,\"#FECB52\"],[1,\"#FECB52\"]],\"hoverinfo\":\"skip\",\"legendgroup\":\"rechits_chain\",\"showscale\":false,\"sizeref\":0.1,\"u\":[0.8659506941311695],\"v\":[0.500129378594925],\"w\":[0.0],\"x\":[1.9407553672790527],\"y\":[-0.3202517032623291],\"z\":[31.50749969482422],\"type\":\"cone\"},{\"hoverinfo\":\"skip\",\"legendgroup\":\"rechits_chain\",\"line\":{\"width\":1},\"marker\":{\"color\":\"#FECB52\"},\"mode\":\"lines\",\"name\":\"Rechits chain\",\"showlegend\":false,\"x\":[0.9663901329040527,0.9663901329040527],\"y\":[-2.008117914199829,-0.8829958438873291],\"z\":[31.50749969482422,31.50749969482422],\"type\":\"scatter3d\"},{\"anchor\":\"tip\",\"colorscale\":[[0,\"#FECB52\"],[1,\"#FECB52\"]],\"hoverinfo\":\"skip\",\"legendgroup\":\"rechits_chain\",\"showscale\":false,\"sizeref\":0.1,\"u\":[0.0],\"v\":[1.0],\"w\":[0.0],\"x\":[0.9663901329040527],\"y\":[-0.8829958438873291],\"z\":[31.50749969482422],\"type\":\"cone\"},{\"hoverinfo\":\"skip\",\"legendgroup\":\"rechits_chain\",\"line\":{\"width\":1},\"marker\":{\"color\":\"#FECB52\"},\"mode\":\"lines\",\"name\":\"Rechits chain\",\"showlegend\":false,\"x\":[0.9663901329040527,0.9663901329040527],\"y\":[-3.133362054824829,-2.008117914199829],\"z\":[31.50749969482422,31.50749969482422],\"type\":\"scatter3d\"},{\"anchor\":\"tip\",\"colorscale\":[[0,\"#FECB52\"],[1,\"#FECB52\"]],\"hoverinfo\":\"skip\",\"legendgroup\":\"rechits_chain\",\"showscale\":false,\"sizeref\":0.1,\"u\":[0.0],\"v\":[1.0],\"w\":[0.0],\"x\":[0.9663901329040527],\"y\":[-2.008117914199829],\"z\":[31.50749969482422],\"type\":\"cone\"},{\"hoverinfo\":\"skip\",\"legendgroup\":\"rechits_chain\",\"line\":{\"width\":1.4163749939557577},\"marker\":{\"color\":\"#FECB52\"},\"mode\":\"lines\",\"name\":\"Rechits chain\",\"showlegend\":false,\"x\":[-0.008219242095947266,0.9663901329040527],\"y\":[0.8047482967376709,1.367248296737671],\"z\":[31.50749969482422,31.50749969482422],\"type\":\"scatter3d\"},{\"anchor\":\"tip\",\"colorscale\":[[0,\"#FECB52\"],[1,\"#FECB52\"]],\"hoverinfo\":\"skip\",\"legendgroup\":\"rechits_chain\",\"showscale\":false,\"sizeref\":0.1,\"u\":[0.8660988858794976],\"v\":[0.4998727036739385],\"w\":[0.0],\"x\":[0.9663901329040527],\"y\":[1.367248296737671],\"z\":[31.50749969482422],\"type\":\"cone\"},{\"hoverinfo\":\"skip\",\"legendgroup\":\"rechits_chain\",\"line\":{\"width\":1},\"marker\":{\"color\":\"#FECB52\"},\"mode\":\"lines\",\"name\":\"Rechits chain\",\"showlegend\":false,\"x\":[-0.008219242095947266,-0.008219242095947266],\"y\":[-0.3202517032623291,0.8047482967376709],\"z\":[31.50749969482422,31.50749969482422],\"type\":\"scatter3d\"},{\"anchor\":\"tip\",\"colorscale\":[[0,\"#FECB52\"],[1,\"#FECB52\"]],\"hoverinfo\":\"skip\",\"legendgroup\":\"rechits_chain\",\"showscale\":false,\"sizeref\":0.1,\"u\":[0.0],\"v\":[1.0],\"w\":[0.0],\"x\":[-0.008219242095947266],\"y\":[0.8047482967376709],\"z\":[31.50749969482422],\"type\":\"cone\"},{\"hoverinfo\":\"skip\",\"legendgroup\":\"rechits_chain\",\"line\":{\"width\":2.4761750944088665},\"marker\":{\"color\":\"#FECB52\"},\"mode\":\"lines\",\"name\":\"Rechits chain\",\"showlegend\":false,\"x\":[-0.008219242095947266,0.9663901329040527],\"y\":[-1.445495843887329,-0.8829958438873291],\"z\":[31.50749969482422,31.50749969482422],\"type\":\"scatter3d\"},{\"anchor\":\"tip\",\"colorscale\":[[0,\"#FECB52\"],[1,\"#FECB52\"]],\"hoverinfo\":\"skip\",\"legendgroup\":\"rechits_chain\",\"showscale\":false,\"sizeref\":0.1,\"u\":[0.8660988858794976],\"v\":[0.4998727036739385],\"w\":[0.0],\"x\":[0.9663901329040527],\"y\":[-0.8829958438873291],\"z\":[31.50749969482422],\"type\":\"cone\"},{\"hoverinfo\":\"skip\",\"legendgroup\":\"rechits_chain\",\"line\":{\"width\":2.0151357396648093},\"marker\":{\"color\":\"#FECB52\"},\"mode\":\"lines\",\"name\":\"Rechits chain\",\"showlegend\":false,\"x\":[-0.9823403358459473,-0.008219242095947266],\"y\":[-2.008117914199829,-1.445495843887329],\"z\":[31.50749969482422,31.50749969482422],\"type\":\"scatter3d\"},{\"anchor\":\"tip\",\"colorscale\":[[0,\"#FECB52\"],[1,\"#FECB52\"]],\"hoverinfo\":\"skip\",\"legendgroup\":\"rechits_chain\",\"showscale\":false,\"sizeref\":0.1,\"u\":[0.8659434049868368],\"v\":[0.5001419991960314],\"w\":[0.0],\"x\":[-0.008219242095947266],\"y\":[-1.445495843887329],\"z\":[31.50749969482422],\"type\":\"cone\"},{\"hoverinfo\":\"skip\",\"legendgroup\":\"rechits_chain\",\"line\":{\"width\":1.7091728686136174},\"marker\":{\"color\":\"#FECB52\"},\"mode\":\"lines\",\"name\":\"Rechits chain\",\"showlegend\":false,\"x\":[-0.9823403358459473,-0.9823403358459473],\"y\":[-3.133362054824829,-2.008117914199829],\"z\":[31.50749969482422,31.50749969482422],\"type\":\"scatter3d\"},{\"anchor\":\"tip\",\"colorscale\":[[0,\"#FECB52\"],[1,\"#FECB52\"]],\"hoverinfo\":\"skip\",\"legendgroup\":\"rechits_chain\",\"showscale\":false,\"sizeref\":0.1,\"u\":[0.0],\"v\":[1.0],\"w\":[0.0],\"x\":[-0.9823403358459473],\"y\":[-2.008117914199829],\"z\":[31.50749969482422],\"type\":\"cone\"},{\"hoverinfo\":\"skip\",\"legendgroup\":\"rechits_chain\",\"line\":{\"width\":1},\"marker\":{\"color\":\"#FECB52\"},\"mode\":\"lines\",\"name\":\"Rechits chain\",\"showlegend\":false,\"x\":[5.838704586029053,4.864217281341553],\"y\":[-2.570749044418335,-3.133362054824829],\"z\":[31.50749969482422,31.50749969482422],\"type\":\"scatter3d\"},{\"anchor\":\"tip\",\"colorscale\":[[0,\"#FECB52\"],[1,\"#FECB52\"]],\"hoverinfo\":\"skip\",\"legendgroup\":\"rechits_chain\",\"showscale\":false,\"sizeref\":0.1,\"u\":[-0.8660282888646941],\"v\":[-0.4999950028611187],\"w\":[0.0],\"x\":[4.864217281341553],\"y\":[-3.133362054824829],\"z\":[31.50749969482422],\"type\":\"cone\"},{\"hoverinfo\":\"skip\",\"legendgroup\":\"rechits_chain\",\"line\":{\"width\":1.2055663828357892},\"marker\":{\"color\":\"#FECB52\"},\"mode\":\"lines\",\"name\":\"Rechits chain\",\"showlegend\":false,\"x\":[5.838704586029053,4.864217281341553],\"y\":[-0.3202517032623291,-0.8829958438873291],\"z\":[31.50749969482422,31.50749969482422],\"type\":\"scatter3d\"},{\"anchor\":\"tip\",\"colorscale\":[[0,\"#FECB52\"],[1,\"#FECB52\"]],\"hoverinfo\":\"skip\",\"legendgroup\":\"rechits_chain\",\"showscale\":false,\"sizeref\":0.1,\"u\":[-0.8659778263291473],\"v\":[-0.5000823975168945],\"w\":[0.0],\"x\":[4.864217281341553],\"y\":[-0.8829958438873291],\"z\":[31.50749969482422],\"type\":\"cone\"},{\"hoverinfo\":\"skip\",\"legendgroup\":\"rechits_chain\",\"line\":{\"width\":1.538417944182206},\"marker\":{\"color\":\"#FECB52\"},\"mode\":\"lines\",\"name\":\"Rechits chain\",\"showlegend\":false,\"x\":[4.864217281341553,4.864217281341553],\"y\":[-2.008117914199829,-0.8829958438873291],\"z\":[31.50749969482422,31.50749969482422],\"type\":\"scatter3d\"},{\"anchor\":\"tip\",\"colorscale\":[[0,\"#FECB52\"],[1,\"#FECB52\"]],\"hoverinfo\":\"skip\",\"legendgroup\":\"rechits_chain\",\"showscale\":false,\"sizeref\":0.1,\"u\":[0.0],\"v\":[1.0],\"w\":[0.0],\"x\":[4.864217281341553],\"y\":[-0.8829958438873291],\"z\":[31.50749969482422],\"type\":\"cone\"},{\"hoverinfo\":\"skip\",\"legendgroup\":\"rechits_chain\",\"line\":{\"width\":1},\"marker\":{\"color\":\"#FECB52\"},\"mode\":\"lines\",\"name\":\"Rechits chain\",\"showlegend\":false,\"x\":[4.864217281341553,4.864217281341553],\"y\":[-3.133362054824829,-2.008117914199829],\"z\":[31.50749969482422,31.50749969482422],\"type\":\"scatter3d\"},{\"anchor\":\"tip\",\"colorscale\":[[0,\"#FECB52\"],[1,\"#FECB52\"]],\"hoverinfo\":\"skip\",\"legendgroup\":\"rechits_chain\",\"showscale\":false,\"sizeref\":0.1,\"u\":[0.0],\"v\":[1.0],\"w\":[0.0],\"x\":[4.864217281341553],\"y\":[-2.008117914199829],\"z\":[31.50749969482422],\"type\":\"cone\"},{\"hoverinfo\":\"skip\",\"legendgroup\":\"rechits_chain\",\"line\":{\"width\":2.4792550759332714},\"marker\":{\"color\":\"#FECB52\"},\"mode\":\"lines\",\"name\":\"Rechits chain\",\"showlegend\":false,\"x\":[4.864217281341553,3.889720916748047],\"y\":[-0.8829958438873291,-0.3202517032623291],\"z\":[31.50749969482422,31.50749969482422],\"type\":\"scatter3d\"},{\"anchor\":\"tip\",\"colorscale\":[[0,\"#FECB52\"],[1,\"#FECB52\"]],\"hoverinfo\":\"skip\",\"legendgroup\":\"rechits_chain\",\"showscale\":false,\"sizeref\":0.1,\"u\":[-0.865979839742166],\"v\":[0.5000789109331973],\"w\":[0.0],\"x\":[3.889720916748047],\"y\":[-0.3202517032623291],\"z\":[31.50749969482422],\"type\":\"cone\"},{\"customdata\":[[\"0.012085293\",\"0.031283055\",\"1.1248636\",\"Follower\",\"14\"],[\"0.012764349\",\"0.047071535\",\"1.125\",\"Follower\",\"14\"],[\"0.05652908\",\"0.06291125\",\"1.9487305\",\"Seed\",\"14\"]],\"hovertemplate\":\"Rechit : %{customdata[3]}<br>Layer : %{customdata[4]}<br>Energy: %{customdata[0]:.2g} GeV<br>Rho: %{customdata[1]:.2g} GeV<br>Delta: %{customdata[2]:.2g} cm\",\"legendgroup\":\"rechits\",\"legendgrouptitle\":{\"text\":\"Rechits\"},\"marker\":{\"color\":\"#EF553B\",\"size\":[4.2591776847839355,4.5207977294921875,11.64245319366455],\"symbol\":\"circle\"},\"mode\":\"markers\",\"name\":\"2D cluster nb 18.0\",\"x\":[-0.060079336166381836,-1.0342004299163818,-1.0342004299163818],\"y\":[-0.39855170249938965,0.16394829750061035,1.2889482975006104],\"z\":[32.397499084472656,32.397499084472656,32.397499084472656],\"type\":\"scatter3d\"},{\"hoverinfo\":\"skip\",\"legendgroup\":\"rechits_chain\",\"line\":{\"width\":1},\"marker\":{\"color\":\"#EF553B\"},\"mode\":\"lines\",\"name\":\"Rechits chain\",\"showlegend\":false,\"x\":[-0.060079336166381836,-1.0342004299163818],\"y\":[-0.39855170249938965,0.16394829750061035],\"z\":[32.397499084472656,32.397499084472656],\"type\":\"scatter3d\"},{\"anchor\":\"tip\",\"colorscale\":[[0,\"#EF553B\"],[1,\"#EF553B\"]],\"hoverinfo\":\"skip\",\"legendgroup\":\"rechits_chain\",\"showscale\":false,\"sizeref\":0.1,\"u\":[-0.8659904006399372],\"v\":[0.5000606223244148],\"w\":[0.0],\"x\":[-1.0342004299163818],\"y\":[0.16394829750061035],\"z\":[32.397499084472656],\"type\":\"cone\"},{\"hoverinfo\":\"skip\",\"legendgroup\":\"rechits_chain\",\"line\":{\"width\":1},\"marker\":{\"color\":\"#EF553B\"},\"mode\":\"lines\",\"name\":\"Rechits chain\",\"showlegend\":false,\"x\":[-1.0342004299163818,-1.0342004299163818],\"y\":[0.16394829750061035,1.2889482975006104],\"z\":[32.397499084472656,32.397499084472656],\"type\":\"scatter3d\"},{\"anchor\":\"tip\",\"colorscale\":[[0,\"#EF553B\"],[1,\"#EF553B\"]],\"hoverinfo\":\"skip\",\"legendgroup\":\"rechits_chain\",\"showscale\":false,\"sizeref\":0.1,\"u\":[0.0],\"v\":[1.0],\"w\":[0.0],\"x\":[-1.0342004299163818],\"y\":[1.2889482975006104],\"z\":[32.397499084472656],\"type\":\"cone\"},{\"customdata\":[[\"0.022108115\",\"0.027722983\",\"3.4028235e+38\",\"Seed\",\"15\"],[\"0.011229735\",\"0.022283792\",\"1.1940217\",\"Follower\",\"15\"]],\"hovertemplate\":\"Rechit : %{customdata[3]}<br>Layer : %{customdata[4]}<br>Energy: %{customdata[0]:.2g} GeV<br>Rho: %{customdata[1]:.2g} GeV<br>Delta: %{customdata[2]:.2g} cm\",\"legendgroup\":\"rechits\",\"legendgrouptitle\":{\"text\":\"Rechits\"},\"marker\":{\"color\":\"#00CC96\",\"size\":[7.149550437927246,3.907788038253784],\"symbol\":\"circle\"},\"mode\":\"markers\",\"name\":\"2D cluster nb 19.0\",\"x\":[3.8378608226776123,4.905207633972168],\"y\":[1.8519365787506104,1.316718339920044],\"z\":[34.3125,34.3125],\"type\":\"scatter3d\"},{\"hoverinfo\":\"skip\",\"legendgroup\":\"rechits_chain\",\"line\":{\"width\":1},\"marker\":{\"color\":\"#00CC96\"},\"mode\":\"lines\",\"name\":\"Rechits chain\",\"showlegend\":false,\"x\":[4.905207633972168,3.8378608226776123],\"y\":[1.316718339920044,1.8519365787506104],\"z\":[34.3125,34.3125],\"type\":\"scatter3d\"},{\"anchor\":\"tip\",\"colorscale\":[[0,\"#00CC96\"],[1,\"#00CC96\"]],\"hoverinfo\":\"skip\",\"legendgroup\":\"rechits_chain\",\"showscale\":false,\"sizeref\":0.1,\"u\":[-0.8939090694576606],\"v\":[0.4482483413704278],\"w\":[0.0],\"x\":[3.8378608226776123],\"y\":[1.8519365787506104],\"z\":[34.3125],\"type\":\"cone\"},{\"customdata\":[[\"0.014103627\",\"0.014103627\",\"1.9488729\",\"Follower\",\"16\"],[\"0.013662581\",\"0.027848486\",\"1.125075\",\"Follower\",\"16\"],[\"0.028371809\",\"0.0352031\",\"3.4028235e+38\",\"Seed\",\"16\"],[\"0.011449395\",\"0.011449395\",\"1.8674598\",\"Follower\",\"16\"]],\"hovertemplate\":\"Rechit : %{customdata[3]}<br>Layer : %{customdata[4]}<br>Energy: %{customdata[0]:.2g} GeV<br>Rho: %{customdata[1]:.2g} GeV<br>Delta: %{customdata[2]:.2g} cm\",\"legendgroup\":\"rechits\",\"legendgrouptitle\":{\"text\":\"Rechits\"},\"marker\":{\"color\":\"#19D3F3\",\"size\":[4.998298645019531,4.846250057220459,8.343358993530273,4.000494956970215],\"symbol\":\"circle\"},\"mode\":\"markers\",\"name\":\"2D cluster nb 22.0\",\"x\":[2.956232786178589,1.9817454814910889,1.0073802471160889,4.823447227478027],\"y\":[-0.933525800704956,0.754218339920044,0.19171833992004395,-0.9032559394836426],\"z\":[35.20249938964844,35.20249938964844,35.20249938964844,35.20249938964844],\"type\":\"scatter3d\"},{\"hoverinfo\":\"skip\",\"legendgroup\":\"rechits_chain\",\"line\":{\"width\":1},\"marker\":{\"color\":\"#19D3F3\"},\"mode\":\"lines\",\"name\":\"Rechits chain\",\"showlegend\":false,\"x\":[2.956232786178589,1.9817454814910889],\"y\":[-0.933525800704956,0.754218339920044],\"z\":[35.20249938964844,35.20249938964844],\"type\":\"scatter3d\"},{\"anchor\":\"tip\",\"colorscale\":[[0,\"#19D3F3\"],[1,\"#19D3F3\"]],\"hoverinfo\":\"skip\",\"legendgroup\":\"rechits_chain\",\"showscale\":false,\"sizeref\":0.1,\"u\":[-0.5000260805296963],\"v\":[0.8660103456599751],\"w\":[0.0],\"x\":[1.9817454814910889],\"y\":[0.754218339920044],\"z\":[35.20249938964844],\"type\":\"cone\"},{\"hoverinfo\":\"skip\",\"legendgroup\":\"rechits_chain\",\"line\":{\"width\":1.366489608077675},\"marker\":{\"color\":\"#19D3F3\"},\"mode\":\"lines\",\"name\":\"Rechits chain\",\"showlegend\":false,\"x\":[1.9817454814910889,1.0073802471160889],\"y\":[0.754218339920044,0.19171833992004395],\"z\":[35.20249938964844,35.20249938964844],\"type\":\"scatter3d\"},{\"anchor\":\"tip\",\"colorscale\":[[0,\"#19D3F3\"],[1,\"#19D3F3\"]],\"hoverinfo\":\"skip\",\"legendgroup\":\"rechits_chain\",\"showscale\":false,\"sizeref\":0.1,\"u\":[-0.8660446585505366],\"v\":[-0.4999666482837475],\"w\":[0.0],\"x\":[1.0073802471160889],\"y\":[0.19171833992004395],\"z\":[35.20249938964844],\"type\":\"cone\"},{\"hoverinfo\":\"skip\",\"legendgroup\":\"rechits_chain\",\"line\":{\"width\":1},\"marker\":{\"color\":\"#19D3F3\"},\"mode\":\"lines\",\"name\":\"Rechits chain\",\"showlegend\":false,\"x\":[4.823447227478027,2.956232786178589],\"y\":[-0.9032559394836426,-0.933525800704956],\"z\":[35.20249938964844,35.20249938964844],\"type\":\"scatter3d\"},{\"anchor\":\"tip\",\"colorscale\":[[0,\"#19D3F3\"],[1,\"#19D3F3\"]],\"hoverinfo\":\"skip\",\"legendgroup\":\"rechits_chain\",\"showscale\":false,\"sizeref\":0.1,\"u\":[-0.9998686237448408],\"v\":[-0.016209110111230336],\"w\":[0.0],\"x\":[2.956232786178589],\"y\":[-0.933525800704956],\"z\":[35.20249938964844],\"type\":\"cone\"},{\"customdata\":[[\"0.030343495\",\"0.04528855\",\"2.2504883\",\"Seed\",\"17\"],[\"0.029890114\",\"0.045061864\",\"1.0564775\",\"Follower\",\"17\"]],\"hovertemplate\":\"Rechit : %{customdata[3]}<br>Layer : %{customdata[4]}<br>Energy: %{customdata[0]:.2g} GeV<br>Rho: %{customdata[1]:.2g} GeV<br>Delta: %{customdata[2]:.2g} cm\",\"legendgroup\":\"rechits\",\"legendgrouptitle\":{\"text\":\"Rechits\"},\"marker\":{\"color\":\"#FF6692\",\"size\":[8.664894104003906,8.592848777770996],\"symbol\":\"circle\"},\"mode\":\"markers\",\"name\":\"2D cluster nb 23.0\",\"x\":[3.8489508628845215,2.9646925926208496],\"y\":[1.9099764823913574,1.331848382949829],\"z\":[37.11750030517578,37.11750030517578],\"type\":\"scatter3d\"},{\"hoverinfo\":\"skip\",\"legendgroup\":\"rechits_chain\",\"line\":{\"width\":1.0949427120503767},\"marker\":{\"color\":\"#FF6692\"},\"mode\":\"lines\",\"name\":\"Rechits chain\",\"showlegend\":false,\"x\":[2.9646925926208496,3.8489508628845215],\"y\":[1.331848382949829,1.9099764823913574],\"z\":[37.11750030517578,37.11750030517578],\"type\":\"scatter3d\"},{\"anchor\":\"tip\",\"colorscale\":[[0,\"#FF6692\"],[1,\"#FF6692\"]],\"hoverinfo\":\"skip\",\"legendgroup\":\"rechits_chain\",\"showscale\":false,\"sizeref\":0.1,\"u\":[0.8369872890038557],\"v\":[0.5472223296302664],\"w\":[0.0],\"x\":[3.8489508628845215],\"y\":[1.9099764823913574],\"z\":[37.11750030517578],\"type\":\"cone\"},{\"customdata\":[[\"0.027870715\",\"0.0816688\",\"1.125075\",\"Follower\",\"17\"],[\"0.07328799\",\"0.08722335\",\"2.250378\",\"Seed\",\"17\"]],\"hovertemplate\":\"Rechit : %{customdata[3]}<br>Layer : %{customdata[4]}<br>Energy: %{customdata[0]:.2g} GeV<br>Rho: %{customdata[1]:.2g} GeV<br>Delta: %{customdata[2]:.2g} cm\",\"legendgroup\":\"rechits\",\"legendgrouptitle\":{\"text\":\"Rechits\"},\"marker\":{\"color\":\"#FF97FF\",\"size\":[8.258079528808594,12.885029792785645],\"symbol\":\"circle\"},\"mode\":\"markers\",\"name\":\"2D cluster nb 25.0\",\"x\":[1.9902052879333496,1.0158400535583496],\"y\":[-0.3556516170501709,0.2068483829498291],\"z\":[37.11750030517578,37.11750030517578],\"type\":\"scatter3d\"},{\"hoverinfo\":\"skip\",\"legendgroup\":\"rechits_chain\",\"line\":{\"width\":1.0249913909575217},\"marker\":{\"color\":\"#FF97FF\"},\"mode\":\"lines\",\"name\":\"Rechits chain\",\"showlegend\":false,\"x\":[1.9902052879333496,1.0158400535583496],\"y\":[-0.3556516170501709,0.2068483829498291],\"z\":[37.11750030517578,37.11750030517578],\"type\":\"scatter3d\"},{\"anchor\":\"tip\",\"colorscale\":[[0,\"#FF97FF\"],[1,\"#FF97FF\"]],\"hoverinfo\":\"skip\",\"legendgroup\":\"rechits_chain\",\"showscale\":false,\"sizeref\":0.1,\"u\":[-0.8660446585505366],\"v\":[0.4999666482837475],\"w\":[0.0],\"x\":[1.0158400535583496],\"y\":[0.2068483829498291],\"z\":[37.11750030517578],\"type\":\"cone\"},{\"customdata\":[[\"0.012980226\",\"0.016654383\",\"3.4028235e+38\",\"Seed\",\"18\"],[\"0.007348314\",\"0.013838427\",\"1.125\",\"Follower\",\"18\"]],\"hovertemplate\":\"Rechit : %{customdata[3]}<br>Layer : %{customdata[4]}<br>Energy: %{customdata[0]:.2g} GeV<br>Rho: %{customdata[1]:.2g} GeV<br>Delta: %{customdata[2]:.2g} cm\",\"legendgroup\":\"rechits\",\"legendgrouptitle\":{\"text\":\"Rechits\"},\"marker\":{\"color\":\"#636EFA\",\"size\":[4.60106086730957,1.8781834840774536],\"symbol\":\"circle\"},\"mode\":\"markers\",\"name\":\"2D cluster nb 27.0\",\"x\":[0.9946601390838623,0.9946601390838623],\"y\":[1.4037282466888428,0.2787282466888428],\"z\":[38.00749969482422,38.00749969482422],\"type\":\"scatter3d\"},{\"hoverinfo\":\"skip\",\"legendgroup\":\"rechits_chain\",\"line\":{\"width\":1},\"marker\":{\"color\":\"#636EFA\"},\"mode\":\"lines\",\"name\":\"Rechits chain\",\"showlegend\":false,\"x\":[0.9946601390838623,0.9946601390838623],\"y\":[0.2787282466888428,1.4037282466888428],\"z\":[38.00749969482422,38.00749969482422],\"type\":\"scatter3d\"},{\"anchor\":\"tip\",\"colorscale\":[[0,\"#636EFA\"],[1,\"#636EFA\"]],\"hoverinfo\":\"skip\",\"legendgroup\":\"rechits_chain\",\"showscale\":false,\"sizeref\":0.1,\"u\":[0.0],\"v\":[1.0],\"w\":[0.0],\"x\":[0.9946601390838623],\"y\":[1.4037282466888428],\"z\":[38.00749969482422],\"type\":\"cone\"},{\"customdata\":[[\"0.020780547\",\"0.053374328\",\"1.1254883\",\"Follower\",\"11\"],[\"0.065187566\",\"0.07557784\",\"2.2502558\",\"Seed\",\"11\"]],\"hovertemplate\":\"Rechit : %{customdata[3]}<br>Layer : %{customdata[4]}<br>Energy: %{customdata[0]:.2g} GeV<br>Rho: %{customdata[1]:.2g} GeV<br>Delta: %{customdata[2]:.2g} cm\",\"legendgroup\":\"rechits\",\"legendgrouptitle\":{\"text\":\"Rechits\"},\"marker\":{\"color\":\"#FF6692\",\"size\":[6.8531813621521,12.324485778808594],\"symbol\":\"circle\"},\"mode\":\"markers\",\"name\":\"2D cluster nb 13.0\",\"x\":[6.773799896240234,6.773799896240234],\"y\":[2.4449164867401123,1.3194282054901123],\"z\":[28.702499389648438,28.702499389648438],\"type\":\"scatter3d\"},{\"hoverinfo\":\"skip\",\"legendgroup\":\"rechits_chain\",\"line\":{\"width\":1},\"marker\":{\"color\":\"#FF6692\"},\"mode\":\"lines\",\"name\":\"Rechits chain\",\"showlegend\":false,\"x\":[6.773799896240234,6.773799896240234],\"y\":[2.4449164867401123,1.3194282054901123],\"z\":[28.702499389648438,28.702499389648438],\"type\":\"scatter3d\"},{\"anchor\":\"tip\",\"colorscale\":[[0,\"#FF6692\"],[1,\"#FF6692\"]],\"hoverinfo\":\"skip\",\"legendgroup\":\"rechits_chain\",\"showscale\":false,\"sizeref\":0.1,\"u\":[0.0],\"v\":[-1.0],\"w\":[0.0],\"x\":[6.773799896240234],\"y\":[1.3194282054901123],\"z\":[28.702499389648438],\"type\":\"cone\"},{\"customdata\":[[\"0.046918146\",\"0.056642123\",\"3.4028235e+38\",\"Seed\",\"23\"],[\"0.019447956\",\"0.04290703\",\"1.1252949\",\"Follower\",\"23\"]],\"hovertemplate\":\"Rechit : %{customdata[3]}<br>Layer : %{customdata[4]}<br>Energy: %{customdata[0]:.2g} GeV<br>Rho: %{customdata[1]:.2g} GeV<br>Delta: %{customdata[2]:.2g} cm\",\"legendgroup\":\"rechits\",\"legendgrouptitle\":{\"text\":\"Rechits\"},\"marker\":{\"color\":\"#AB63FA\",\"size\":[10.750627517700195,6.536005020141602],\"symbol\":\"circle\"},\"mode\":\"markers\",\"name\":\"2D cluster nb 30.0\",\"x\":[3.9763309955596924,3.0018527507781982],\"y\":[-0.2788116931915283,-0.8415558338165283],\"z\":[46.412498474121094,46.412498474121094],\"type\":\"scatter3d\"},{\"hoverinfo\":\"skip\",\"legendgroup\":\"rechits_chain\",\"line\":{\"width\":1},\"marker\":{\"color\":\"#AB63FA\"},\"mode\":\"lines\",\"name\":\"Rechits chain\",\"showlegend\":false,\"x\":[3.0018527507781982,3.9763309955596924],\"y\":[-0.8415558338165283,-0.2788116931915283],\"z\":[46.412498474121094,46.412498474121094],\"type\":\"scatter3d\"},{\"anchor\":\"tip\",\"colorscale\":[[0,\"#AB63FA\"],[1,\"#AB63FA\"]],\"hoverinfo\":\"skip\",\"legendgroup\":\"rechits_chain\",\"showscale\":false,\"sizeref\":0.1,\"u\":[0.8659758128740153],\"v\":[0.5000858841411029],\"w\":[0.0],\"x\":[3.9763309955596924],\"y\":[-0.2788116931915283],\"z\":[46.412498474121094],\"type\":\"cone\"},{\"customdata\":[[\"0.01622809\",\"0.034874238\",\"1.0940882\",\"Follower\",\"27\"],[\"0.037292298\",\"0.04540634\",\"3.4028235e+38\",\"Seed\",\"27\"]],\"hovertemplate\":\"Rechit : %{customdata[3]}<br>Layer : %{customdata[4]}<br>Energy: %{customdata[0]:.2g} GeV<br>Rho: %{customdata[1]:.2g} GeV<br>Delta: %{customdata[2]:.2g} cm\",\"legendgroup\":\"rechits\",\"legendgrouptitle\":{\"text\":\"Rechits\"},\"marker\":{\"color\":\"#FFA15A\",\"size\":[5.669794082641602,9.65173625946045],\"symbol\":\"circle\"},\"mode\":\"markers\",\"name\":\"2D cluster nb 31.0\",\"x\":[3.981020927429199,3.052982807159424],\"y\":[-0.34313178062438965,0.2363283634185791],\"z\":[52.881500244140625,52.881500244140625],\"type\":\"scatter3d\"},{\"hoverinfo\":\"skip\",\"legendgroup\":\"rechits_chain\",\"line\":{\"width\":1},\"marker\":{\"color\":\"#FFA15A\"},\"mode\":\"lines\",\"name\":\"Rechits chain\",\"showlegend\":false,\"x\":[3.981020927429199,3.052982807159424],\"y\":[-0.34313178062438965,0.2363283634185791],\"z\":[52.881500244140625,52.881500244140625],\"type\":\"scatter3d\"},{\"anchor\":\"tip\",\"colorscale\":[[0,\"#FFA15A\"],[1,\"#FFA15A\"]],\"hoverinfo\":\"skip\",\"legendgroup\":\"rechits_chain\",\"showscale\":false,\"sizeref\":0.1,\"u\":[-0.8482297764809367],\"v\":[0.5296284039693305],\"w\":[0.0],\"x\":[3.052982807159424],\"y\":[0.2363283634185791],\"z\":[52.881500244140625],\"type\":\"cone\"},{\"customdata\":[[\"0.2118894\",\"0.2118894\",\"2.2504973\",\"Masked cluster seed\",\"1\"],[\"0.015557373\",\"0.015557373\",\"1.9486005\",\"Masked cluster seed\",\"1\"],[\"0.044947505\",\"0.044947505\",\"3.4028235e+38\",\"Masked cluster seed\",\"3\"],[\"0.030539697\",\"0.030539697\",\"1.9488604\",\"Masked cluster seed\",\"4\"],[\"0.01924176\",\"0.01924176\",\"3.4028235e+38\",\"Masked cluster seed\",\"5\"],[\"0.01651058\",\"0.01651058\",\"1.9490844\",\"Masked cluster seed\",\"5\"],[\"0.021760447\",\"0.021760447\",\"1.9489837\",\"Masked cluster seed\",\"6\"],[\"0.026580647\",\"0.026580647\",\"3.4028235e+38\",\"Masked cluster seed\",\"6\"],[\"0.02877243\",\"0.02877243\",\"1.9489787\",\"Masked cluster seed\",\"7\"],[\"0.015286616\",\"0.015286616\",\"2.2506056\",\"Masked cluster seed\",\"7\"],[\"0.022632008\",\"0.022632008\",\"3.4028235e+38\",\"Masked cluster seed\",\"8\"],[\"0.036226917\",\"0.036226917\",\"1.9928563\",\"Masked cluster seed\",\"9\"],[\"0.012745979\",\"0.012745979\",\"3.4028235e+38\",\"Outlier\",\"10\"],[\"0.0073921983\",\"0.0073921983\",\"3.4028235e+38\",\"Outlier\",\"10\"],[\"0.037956186\",\"0.037956186\",\"1.9358865\",\"Masked cluster seed\",\"11\"],[\"0.016728435\",\"0.016728435\",\"1.9490395\",\"Masked cluster seed\",\"11\"],[\"0.015277786\",\"0.015277786\",\"1.9487305\",\"Masked cluster seed\",\"12\"],[\"0.10975886\",\"0.10975886\",\"3.4028235e+38\",\"Masked cluster seed\",\"15\"],[\"0.019169679\",\"0.019169679\",\"3.4028235e+38\",\"Masked cluster seed\",\"16\"],[\"0.021411179\",\"0.021411179\",\"2.03926\",\"Masked cluster seed\",\"17\"],[\"0.027232872\",\"0.027232872\",\"3.4028235e+38\",\"Masked cluster seed\",\"22\"],[\"0.014443945\",\"0.014443945\",\"3.4028235e+38\",\"Masked cluster seed\",\"22\"],[\"0.011023067\",\"0.011023067\",\"3.4028235e+38\",\"Outlier\",\"25\"],[\"0.050207596\",\"0.050207596\",\"3.4028235e+38\",\"Masked cluster seed\",\"25\"],[\"0.023441032\",\"0.023441032\",\"1.9114366\",\"Masked cluster seed\",\"27\"],[\"0.01985939\",\"0.01985939\",\"1.9488729\",\"Masked cluster seed\",\"27\"]],\"hovertemplate\":\"Rechit : %{customdata[3]}<br>Layer : %{customdata[4]}<br>Energy: %{customdata[0]:.2g} GeV<br>Rho: %{customdata[1]:.2g} GeV<br>Delta: %{customdata[2]:.2g} cm\",\"legendgroup\":\"rechits\",\"legendgrouptitle\":{\"text\":\"Rechits\"},\"marker\":{\"color\":\"#19D3F3\",\"size\":[17.96589469909668,5.467794418334961,10.545273780822754,8.695740699768066,6.484993934631348,5.752384662628174,7.073692798614502,8.031269073486328,8.410463333129883,5.38377046585083,7.261634349822998,9.51302433013916,4.513906002044678,1.9066790342330933,9.736184120178223,5.815119743347168,5.381004333496094,14.817937850952148,6.467031955718994,6.996255874633789,8.1472806930542,5.112406253814697,3.818892002105713,11.074917793273926,7.429723262786865,6.636194705963135],\"symbol\":\"circle\"},\"mode\":\"markers\",\"name\":\"2D cluster nb nan\",\"x\":[1.677445411682129,0.7030801773071289,5.630754470825195,2.56453275680542,1.659975290298462,1.659975290298462,5.7260847091674805,2.8026227951049805,1.8341155052185059,4.757577419281006,7.644489288330078,4.773337364196777,1.881385326385498,7.728309154510498,3.830350875854492,-0.047489166259765625,-1.0636203289031982,1.0073802471160889,2.8744726181030273,5.88815450668335,3.9179909229278564,5.9100446701049805,2.0273654460906982,5.925314903259277,3.981020927429199,2.078495502471924],\"y\":[-2.712538957595825,1.2254583835601807,-3.8153741359710693,-4.4235639572143555,-6.1355881690979,2.8658766746520996,-1.5775058269500732,3.4857265949249268,-4.950618267059326,2.363346576690674,-2.6287190914154053,-4.336684226989746,-8.24095630645752,-0.36449170112609863,-4.8654680252075195,-4.869048118591309,-0.9553558826446533,-5.434258460998535,3.5974764823913574,-0.3556516170501709,-0.2837717533111572,1.926276445388794,-1.4040558338165283,-3.6545441150665283,1.9073565006256104,-1.451415777206421],\"z\":[13.8774995803833,13.8774995803833,16.782499313354492,17.672500610351562,19.6875,19.6875,20.577499389648438,20.577499389648438,22.6924991607666,22.6924991607666,23.582500457763672,25.697500228881836,26.587499618530273,26.587499618530273,28.702499389648438,28.702499389648438,29.592500686645508,34.3125,35.20249938964844,37.11750030517578,44.037498474121094,44.037498474121094,49.68199920654297,49.68199920654297,52.881500244140625,52.881500244140625],\"type\":\"scatter3d\"},{\"hoverinfo\":\"skip\",\"line\":{\"color\":\"black\",\"width\":3},\"mode\":\"lines\",\"name\":\"Impact from DWC\",\"x\":[3.1775784492492676,3.1781883239746094,3.1795690059661865,3.1801788806915283,3.1815598011016846,3.1821694374084473,3.1836187839508057,3.1842286586761475,3.185678005218506,3.1862876415252686,3.187736988067627,3.1883468627929688,3.1896591186523438,3.1902689933776855,3.1915810108184814,3.1921908855438232,3.1935031414031982,3.19411301612854,3.195425271987915,3.196035146713257,3.1974706649780273,3.198245048522949,3.1998722553253174,3.2006466388702393,3.2021126747131348,3.2028019428253174,3.2043051719665527,3.205005407333374],\"y\":[-1.0072102546691895,-1.007663607597351,-1.0086897611618042,-1.0091431140899658,-1.0101693868637085,-1.0106226205825806,-1.0116997957229614,-1.0121530294418335,-1.0132302045822144,-1.013683557510376,-1.0147607326507568,-1.015213966369629,-1.0161893367767334,-1.0166425704956055,-1.01761794090271,-1.018071174621582,-1.019046425819397,-1.0194997787475586,-1.0204750299453735,-1.0209283828735352,-1.0219953060150146,-1.0225708484649658,-1.0237804651260376,-1.0243560075759888,-1.025445580482483,-1.0259579420089722,-1.027075171470642,-1.0275956392288208],\"z\":[13.8774995803833,14.767499923706055,16.782499313354492,17.672500610351562,19.6875,20.577499389648438,22.6924991607666,23.582500457763672,25.697500228881836,26.587499618530273,28.702499389648438,29.592500686645508,31.50749969482422,32.397499084472656,34.3125,35.20249938964844,37.11750030517578,38.00749969482422,39.92250061035156,40.8125,42.907501220703125,44.037498474121094,46.412498474121094,47.54249954223633,49.68199920654297,50.6879997253418,52.881500244140625,53.903499603271484],\"type\":\"scatter3d\"}],                        {\"autosize\":true,\"title\":{\"text\":\"CLUE3D visualization - ntuple 441, event 5603 - e+ 20.0 GeV\"},\"template\":{\"data\":{\"histogram2dcontour\":[{\"type\":\"histogram2dcontour\",\"colorbar\":{\"outlinewidth\":0,\"ticks\":\"\"},\"colorscale\":[[0.0,\"#0d0887\"],[0.1111111111111111,\"#46039f\"],[0.2222222222222222,\"#7201a8\"],[0.3333333333333333,\"#9c179e\"],[0.4444444444444444,\"#bd3786\"],[0.5555555555555556,\"#d8576b\"],[0.6666666666666666,\"#ed7953\"],[0.7777777777777778,\"#fb9f3a\"],[0.8888888888888888,\"#fdca26\"],[1.0,\"#f0f921\"]]}],\"choropleth\":[{\"type\":\"choropleth\",\"colorbar\":{\"outlinewidth\":0,\"ticks\":\"\"}}],\"histogram2d\":[{\"type\":\"histogram2d\",\"colorbar\":{\"outlinewidth\":0,\"ticks\":\"\"},\"colorscale\":[[0.0,\"#0d0887\"],[0.1111111111111111,\"#46039f\"],[0.2222222222222222,\"#7201a8\"],[0.3333333333333333,\"#9c179e\"],[0.4444444444444444,\"#bd3786\"],[0.5555555555555556,\"#d8576b\"],[0.6666666666666666,\"#ed7953\"],[0.7777777777777778,\"#fb9f3a\"],[0.8888888888888888,\"#fdca26\"],[1.0,\"#f0f921\"]]}],\"heatmap\":[{\"type\":\"heatmap\",\"colorbar\":{\"outlinewidth\":0,\"ticks\":\"\"},\"colorscale\":[[0.0,\"#0d0887\"],[0.1111111111111111,\"#46039f\"],[0.2222222222222222,\"#7201a8\"],[0.3333333333333333,\"#9c179e\"],[0.4444444444444444,\"#bd3786\"],[0.5555555555555556,\"#d8576b\"],[0.6666666666666666,\"#ed7953\"],[0.7777777777777778,\"#fb9f3a\"],[0.8888888888888888,\"#fdca26\"],[1.0,\"#f0f921\"]]}],\"heatmapgl\":[{\"type\":\"heatmapgl\",\"colorbar\":{\"outlinewidth\":0,\"ticks\":\"\"},\"colorscale\":[[0.0,\"#0d0887\"],[0.1111111111111111,\"#46039f\"],[0.2222222222222222,\"#7201a8\"],[0.3333333333333333,\"#9c179e\"],[0.4444444444444444,\"#bd3786\"],[0.5555555555555556,\"#d8576b\"],[0.6666666666666666,\"#ed7953\"],[0.7777777777777778,\"#fb9f3a\"],[0.8888888888888888,\"#fdca26\"],[1.0,\"#f0f921\"]]}],\"contourcarpet\":[{\"type\":\"contourcarpet\",\"colorbar\":{\"outlinewidth\":0,\"ticks\":\"\"}}],\"contour\":[{\"type\":\"contour\",\"colorbar\":{\"outlinewidth\":0,\"ticks\":\"\"},\"colorscale\":[[0.0,\"#0d0887\"],[0.1111111111111111,\"#46039f\"],[0.2222222222222222,\"#7201a8\"],[0.3333333333333333,\"#9c179e\"],[0.4444444444444444,\"#bd3786\"],[0.5555555555555556,\"#d8576b\"],[0.6666666666666666,\"#ed7953\"],[0.7777777777777778,\"#fb9f3a\"],[0.8888888888888888,\"#fdca26\"],[1.0,\"#f0f921\"]]}],\"surface\":[{\"type\":\"surface\",\"colorbar\":{\"outlinewidth\":0,\"ticks\":\"\"},\"colorscale\":[[0.0,\"#0d0887\"],[0.1111111111111111,\"#46039f\"],[0.2222222222222222,\"#7201a8\"],[0.3333333333333333,\"#9c179e\"],[0.4444444444444444,\"#bd3786\"],[0.5555555555555556,\"#d8576b\"],[0.6666666666666666,\"#ed7953\"],[0.7777777777777778,\"#fb9f3a\"],[0.8888888888888888,\"#fdca26\"],[1.0,\"#f0f921\"]]}],\"mesh3d\":[{\"type\":\"mesh3d\",\"colorbar\":{\"outlinewidth\":0,\"ticks\":\"\"}}],\"scatter\":[{\"fillpattern\":{\"fillmode\":\"overlay\",\"size\":10,\"solidity\":0.2},\"type\":\"scatter\"}],\"parcoords\":[{\"type\":\"parcoords\",\"line\":{\"colorbar\":{\"outlinewidth\":0,\"ticks\":\"\"}}}],\"scatterpolargl\":[{\"type\":\"scatterpolargl\",\"marker\":{\"colorbar\":{\"outlinewidth\":0,\"ticks\":\"\"}}}],\"bar\":[{\"error_x\":{\"color\":\"#2a3f5f\"},\"error_y\":{\"color\":\"#2a3f5f\"},\"marker\":{\"line\":{\"color\":\"#E5ECF6\",\"width\":0.5},\"pattern\":{\"fillmode\":\"overlay\",\"size\":10,\"solidity\":0.2}},\"type\":\"bar\"}],\"scattergeo\":[{\"type\":\"scattergeo\",\"marker\":{\"colorbar\":{\"outlinewidth\":0,\"ticks\":\"\"}}}],\"scatterpolar\":[{\"type\":\"scatterpolar\",\"marker\":{\"colorbar\":{\"outlinewidth\":0,\"ticks\":\"\"}}}],\"histogram\":[{\"marker\":{\"pattern\":{\"fillmode\":\"overlay\",\"size\":10,\"solidity\":0.2}},\"type\":\"histogram\"}],\"scattergl\":[{\"type\":\"scattergl\",\"marker\":{\"colorbar\":{\"outlinewidth\":0,\"ticks\":\"\"}}}],\"scatter3d\":[{\"type\":\"scatter3d\",\"line\":{\"colorbar\":{\"outlinewidth\":0,\"ticks\":\"\"}},\"marker\":{\"colorbar\":{\"outlinewidth\":0,\"ticks\":\"\"}}}],\"scattermapbox\":[{\"type\":\"scattermapbox\",\"marker\":{\"colorbar\":{\"outlinewidth\":0,\"ticks\":\"\"}}}],\"scatterternary\":[{\"type\":\"scatterternary\",\"marker\":{\"colorbar\":{\"outlinewidth\":0,\"ticks\":\"\"}}}],\"scattercarpet\":[{\"type\":\"scattercarpet\",\"marker\":{\"colorbar\":{\"outlinewidth\":0,\"ticks\":\"\"}}}],\"carpet\":[{\"aaxis\":{\"endlinecolor\":\"#2a3f5f\",\"gridcolor\":\"white\",\"linecolor\":\"white\",\"minorgridcolor\":\"white\",\"startlinecolor\":\"#2a3f5f\"},\"baxis\":{\"endlinecolor\":\"#2a3f5f\",\"gridcolor\":\"white\",\"linecolor\":\"white\",\"minorgridcolor\":\"white\",\"startlinecolor\":\"#2a3f5f\"},\"type\":\"carpet\"}],\"table\":[{\"cells\":{\"fill\":{\"color\":\"#EBF0F8\"},\"line\":{\"color\":\"white\"}},\"header\":{\"fill\":{\"color\":\"#C8D4E3\"},\"line\":{\"color\":\"white\"}},\"type\":\"table\"}],\"barpolar\":[{\"marker\":{\"line\":{\"color\":\"#E5ECF6\",\"width\":0.5},\"pattern\":{\"fillmode\":\"overlay\",\"size\":10,\"solidity\":0.2}},\"type\":\"barpolar\"}],\"pie\":[{\"automargin\":true,\"type\":\"pie\"}]},\"layout\":{\"autotypenumbers\":\"strict\",\"colorway\":[\"#636efa\",\"#EF553B\",\"#00cc96\",\"#ab63fa\",\"#FFA15A\",\"#19d3f3\",\"#FF6692\",\"#B6E880\",\"#FF97FF\",\"#FECB52\"],\"font\":{\"color\":\"#2a3f5f\"},\"hovermode\":\"closest\",\"hoverlabel\":{\"align\":\"left\"},\"paper_bgcolor\":\"white\",\"plot_bgcolor\":\"#E5ECF6\",\"polar\":{\"bgcolor\":\"#E5ECF6\",\"angularaxis\":{\"gridcolor\":\"white\",\"linecolor\":\"white\",\"ticks\":\"\"},\"radialaxis\":{\"gridcolor\":\"white\",\"linecolor\":\"white\",\"ticks\":\"\"}},\"ternary\":{\"bgcolor\":\"#E5ECF6\",\"aaxis\":{\"gridcolor\":\"white\",\"linecolor\":\"white\",\"ticks\":\"\"},\"baxis\":{\"gridcolor\":\"white\",\"linecolor\":\"white\",\"ticks\":\"\"},\"caxis\":{\"gridcolor\":\"white\",\"linecolor\":\"white\",\"ticks\":\"\"}},\"coloraxis\":{\"colorbar\":{\"outlinewidth\":0,\"ticks\":\"\"}},\"colorscale\":{\"sequential\":[[0.0,\"#0d0887\"],[0.1111111111111111,\"#46039f\"],[0.2222222222222222,\"#7201a8\"],[0.3333333333333333,\"#9c179e\"],[0.4444444444444444,\"#bd3786\"],[0.5555555555555556,\"#d8576b\"],[0.6666666666666666,\"#ed7953\"],[0.7777777777777778,\"#fb9f3a\"],[0.8888888888888888,\"#fdca26\"],[1.0,\"#f0f921\"]],\"sequentialminus\":[[0.0,\"#0d0887\"],[0.1111111111111111,\"#46039f\"],[0.2222222222222222,\"#7201a8\"],[0.3333333333333333,\"#9c179e\"],[0.4444444444444444,\"#bd3786\"],[0.5555555555555556,\"#d8576b\"],[0.6666666666666666,\"#ed7953\"],[0.7777777777777778,\"#fb9f3a\"],[0.8888888888888888,\"#fdca26\"],[1.0,\"#f0f921\"]],\"diverging\":[[0,\"#8e0152\"],[0.1,\"#c51b7d\"],[0.2,\"#de77ae\"],[0.3,\"#f1b6da\"],[0.4,\"#fde0ef\"],[0.5,\"#f7f7f7\"],[0.6,\"#e6f5d0\"],[0.7,\"#b8e186\"],[0.8,\"#7fbc41\"],[0.9,\"#4d9221\"],[1,\"#276419\"]]},\"xaxis\":{\"gridcolor\":\"white\",\"linecolor\":\"white\",\"ticks\":\"\",\"title\":{\"standoff\":15},\"zerolinecolor\":\"white\",\"automargin\":true,\"zerolinewidth\":2},\"yaxis\":{\"gridcolor\":\"white\",\"linecolor\":\"white\",\"ticks\":\"\",\"title\":{\"standoff\":15},\"zerolinecolor\":\"white\",\"automargin\":true,\"zerolinewidth\":2},\"scene\":{\"xaxis\":{\"backgroundcolor\":\"#E5ECF6\",\"gridcolor\":\"white\",\"linecolor\":\"white\",\"showbackground\":true,\"ticks\":\"\",\"zerolinecolor\":\"white\",\"gridwidth\":2},\"yaxis\":{\"backgroundcolor\":\"#E5ECF6\",\"gridcolor\":\"white\",\"linecolor\":\"white\",\"showbackground\":true,\"ticks\":\"\",\"zerolinecolor\":\"white\",\"gridwidth\":2},\"zaxis\":{\"backgroundcolor\":\"#E5ECF6\",\"gridcolor\":\"white\",\"linecolor\":\"white\",\"showbackground\":true,\"ticks\":\"\",\"zerolinecolor\":\"white\",\"gridwidth\":2}},\"shapedefaults\":{\"line\":{\"color\":\"#2a3f5f\"}},\"annotationdefaults\":{\"arrowcolor\":\"#2a3f5f\",\"arrowhead\":0,\"arrowwidth\":1},\"geo\":{\"bgcolor\":\"white\",\"landcolor\":\"#E5ECF6\",\"subunitcolor\":\"white\",\"showland\":true,\"showlakes\":true,\"lakecolor\":\"white\"},\"title\":{\"x\":0.05},\"mapbox\":{\"style\":\"light\"}}},\"scene\":{\"camera\":{\"eye\":{\"x\":0,\"y\":0.0,\"z\":-2.5},\"up\":{\"x\":0,\"y\":0,\"z\":1}}}},                        {\"responsive\": true}                    ).then(function(){\n",
       "                            \n",
       "var gd = document.getElementById('5381ab9c-e32d-4291-bac9-b5e0bd61359a');\n",
       "var x = new MutationObserver(function (mutations, observer) {{\n",
       "        var display = window.getComputedStyle(gd).display;\n",
       "        if (!display || display === 'none') {{\n",
       "            console.log([gd, 'removed!']);\n",
       "            Plotly.purge(gd);\n",
       "            observer.disconnect();\n",
       "        }}\n",
       "}});\n",
       "\n",
       "// Listen for the removal of the full notebook cells\n",
       "var notebookContainer = gd.closest('#notebook-container');\n",
       "if (notebookContainer) {{\n",
       "    x.observe(notebookContainer, {childList: true});\n",
       "}}\n",
       "\n",
       "// Listen for the clearing of the current output cell\n",
       "var outputEl = gd.closest('.output');\n",
       "if (outputEl) {{\n",
       "    x.observe(outputEl, {childList: true});\n",
       "}}\n",
       "\n",
       "                        })                };                });            </script>        </div>"
      ]
     },
     "metadata": {},
     "output_type": "display_data"
    }
   ],
   "source": [
    "vis_3d = (Clue3DVisualization(event)\n",
    "    .add3DClusters()\n",
    "    .add2DClusters()\n",
    "    .addRechits()\n",
    "    .addImpactTrajectory()\n",
    ")\n",
    "vis_3d.fig.show()"
   ]
  },
  {
   "cell_type": "code",
   "execution_count": 29,
   "metadata": {},
   "outputs": [
    {
     "data": {
      "text/html": [
       "<div>\n",
       "<style scoped>\n",
       "    .dataframe tbody tr th:only-of-type {\n",
       "        vertical-align: middle;\n",
       "    }\n",
       "\n",
       "    .dataframe tbody tr th {\n",
       "        vertical-align: top;\n",
       "    }\n",
       "\n",
       "    .dataframe thead th {\n",
       "        text-align: right;\n",
       "    }\n",
       "</style>\n",
       "<table border=\"1\" class=\"dataframe\">\n",
       "  <thead>\n",
       "    <tr style=\"text-align: right;\">\n",
       "      <th></th>\n",
       "      <th>rechits_x</th>\n",
       "      <th>rechits_y</th>\n",
       "      <th>rechits_z</th>\n",
       "      <th>rechits_energy</th>\n",
       "      <th>rechits_layer</th>\n",
       "      <th>rechits_rho</th>\n",
       "      <th>rechits_delta</th>\n",
       "      <th>rechits_nearestHigher</th>\n",
       "      <th>rechits_pointType</th>\n",
       "      <th>clus2D_id</th>\n",
       "      <th>clus2D_pointType</th>\n",
       "      <th>clus3D_id</th>\n",
       "      <th>rechits_cumulativeEnergy</th>\n",
       "      <th>rechits_x_ofNearestHigher</th>\n",
       "      <th>rechits_y_ofNearestHigher</th>\n",
       "      <th>rechits_z_ofNearestHigher</th>\n",
       "    </tr>\n",
       "    <tr>\n",
       "      <th>rechits_id</th>\n",
       "      <th></th>\n",
       "      <th></th>\n",
       "      <th></th>\n",
       "      <th></th>\n",
       "      <th></th>\n",
       "      <th></th>\n",
       "      <th></th>\n",
       "      <th></th>\n",
       "      <th></th>\n",
       "      <th></th>\n",
       "      <th></th>\n",
       "      <th></th>\n",
       "      <th></th>\n",
       "      <th></th>\n",
       "      <th></th>\n",
       "      <th></th>\n",
       "    </tr>\n",
       "  </thead>\n",
       "  <tbody>\n",
       "    <tr>\n",
       "      <th>0</th>\n",
       "      <td>3.626411</td>\n",
       "      <td>-1.587286</td>\n",
       "      <td>13.877500</td>\n",
       "      <td>0.022204</td>\n",
       "      <td>1</td>\n",
       "      <td>0.065240</td>\n",
       "      <td>1.125173e+00</td>\n",
       "      <td>1</td>\n",
       "      <td>0</td>\n",
       "      <td>0.0</td>\n",
       "      <td>0.0</td>\n",
       "      <td>0.0</td>\n",
       "      <td>0.022204</td>\n",
       "      <td>2.651933</td>\n",
       "      <td>-1.024786</td>\n",
       "      <td>13.8775</td>\n",
       "    </tr>\n",
       "    <tr>\n",
       "      <th>1</th>\n",
       "      <td>2.651933</td>\n",
       "      <td>-1.024786</td>\n",
       "      <td>13.877500</td>\n",
       "      <td>0.086072</td>\n",
       "      <td>1</td>\n",
       "      <td>0.204688</td>\n",
       "      <td>1.125303e+00</td>\n",
       "      <td>2</td>\n",
       "      <td>0</td>\n",
       "      <td>0.0</td>\n",
       "      <td>0.0</td>\n",
       "      <td>0.0</td>\n",
       "      <td>0.108276</td>\n",
       "      <td>1.677445</td>\n",
       "      <td>-0.462042</td>\n",
       "      <td>13.8775</td>\n",
       "    </tr>\n",
       "    <tr>\n",
       "      <th>2</th>\n",
       "      <td>1.677445</td>\n",
       "      <td>-0.462042</td>\n",
       "      <td>13.877500</td>\n",
       "      <td>0.215028</td>\n",
       "      <td>1</td>\n",
       "      <td>0.258065</td>\n",
       "      <td>3.402823e+38</td>\n",
       "      <td>-1</td>\n",
       "      <td>1</td>\n",
       "      <td>0.0</td>\n",
       "      <td>0.0</td>\n",
       "      <td>0.0</td>\n",
       "      <td>0.000000</td>\n",
       "      <td>NaN</td>\n",
       "      <td>NaN</td>\n",
       "      <td>NaN</td>\n",
       "    </tr>\n",
       "    <tr>\n",
       "      <th>3</th>\n",
       "      <td>1.677445</td>\n",
       "      <td>-2.712539</td>\n",
       "      <td>13.877500</td>\n",
       "      <td>0.211889</td>\n",
       "      <td>1</td>\n",
       "      <td>0.211889</td>\n",
       "      <td>2.250497e+00</td>\n",
       "      <td>2</td>\n",
       "      <td>1</td>\n",
       "      <td>NaN</td>\n",
       "      <td>NaN</td>\n",
       "      <td>NaN</td>\n",
       "      <td>0.211889</td>\n",
       "      <td>1.677445</td>\n",
       "      <td>-0.462042</td>\n",
       "      <td>13.8775</td>\n",
       "    </tr>\n",
       "    <tr>\n",
       "      <th>4</th>\n",
       "      <td>0.703080</td>\n",
       "      <td>1.225458</td>\n",
       "      <td>13.877500</td>\n",
       "      <td>0.015557</td>\n",
       "      <td>1</td>\n",
       "      <td>0.015557</td>\n",
       "      <td>1.948601e+00</td>\n",
       "      <td>2</td>\n",
       "      <td>1</td>\n",
       "      <td>NaN</td>\n",
       "      <td>NaN</td>\n",
       "      <td>NaN</td>\n",
       "      <td>0.015557</td>\n",
       "      <td>1.677445</td>\n",
       "      <td>-0.462042</td>\n",
       "      <td>13.8775</td>\n",
       "    </tr>\n",
       "    <tr>\n",
       "      <th>...</th>\n",
       "      <td>...</td>\n",
       "      <td>...</td>\n",
       "      <td>...</td>\n",
       "      <td>...</td>\n",
       "      <td>...</td>\n",
       "      <td>...</td>\n",
       "      <td>...</td>\n",
       "      <td>...</td>\n",
       "      <td>...</td>\n",
       "      <td>...</td>\n",
       "      <td>...</td>\n",
       "      <td>...</td>\n",
       "      <td>...</td>\n",
       "      <td>...</td>\n",
       "      <td>...</td>\n",
       "      <td>...</td>\n",
       "    </tr>\n",
       "    <tr>\n",
       "      <th>279</th>\n",
       "      <td>5.925315</td>\n",
       "      <td>-3.654544</td>\n",
       "      <td>49.681999</td>\n",
       "      <td>0.050208</td>\n",
       "      <td>25</td>\n",
       "      <td>0.050208</td>\n",
       "      <td>3.402823e+38</td>\n",
       "      <td>-1</td>\n",
       "      <td>1</td>\n",
       "      <td>NaN</td>\n",
       "      <td>NaN</td>\n",
       "      <td>NaN</td>\n",
       "      <td>0.000000</td>\n",
       "      <td>NaN</td>\n",
       "      <td>NaN</td>\n",
       "      <td>NaN</td>\n",
       "    </tr>\n",
       "    <tr>\n",
       "      <th>280</th>\n",
       "      <td>3.981021</td>\n",
       "      <td>1.907357</td>\n",
       "      <td>52.881500</td>\n",
       "      <td>0.023441</td>\n",
       "      <td>27</td>\n",
       "      <td>0.023441</td>\n",
       "      <td>1.911437e+00</td>\n",
       "      <td>282</td>\n",
       "      <td>1</td>\n",
       "      <td>NaN</td>\n",
       "      <td>NaN</td>\n",
       "      <td>NaN</td>\n",
       "      <td>0.023441</td>\n",
       "      <td>3.052983</td>\n",
       "      <td>0.236328</td>\n",
       "      <td>52.8815</td>\n",
       "    </tr>\n",
       "    <tr>\n",
       "      <th>281</th>\n",
       "      <td>3.981021</td>\n",
       "      <td>-0.343132</td>\n",
       "      <td>52.881500</td>\n",
       "      <td>0.016228</td>\n",
       "      <td>27</td>\n",
       "      <td>0.034874</td>\n",
       "      <td>1.094088e+00</td>\n",
       "      <td>282</td>\n",
       "      <td>0</td>\n",
       "      <td>31.0</td>\n",
       "      <td>2.0</td>\n",
       "      <td>NaN</td>\n",
       "      <td>0.016228</td>\n",
       "      <td>3.052983</td>\n",
       "      <td>0.236328</td>\n",
       "      <td>52.8815</td>\n",
       "    </tr>\n",
       "    <tr>\n",
       "      <th>282</th>\n",
       "      <td>3.052983</td>\n",
       "      <td>0.236328</td>\n",
       "      <td>52.881500</td>\n",
       "      <td>0.037292</td>\n",
       "      <td>27</td>\n",
       "      <td>0.045406</td>\n",
       "      <td>3.402823e+38</td>\n",
       "      <td>-1</td>\n",
       "      <td>1</td>\n",
       "      <td>31.0</td>\n",
       "      <td>2.0</td>\n",
       "      <td>NaN</td>\n",
       "      <td>0.000000</td>\n",
       "      <td>NaN</td>\n",
       "      <td>NaN</td>\n",
       "      <td>NaN</td>\n",
       "    </tr>\n",
       "    <tr>\n",
       "      <th>283</th>\n",
       "      <td>2.078496</td>\n",
       "      <td>-1.451416</td>\n",
       "      <td>52.881500</td>\n",
       "      <td>0.019859</td>\n",
       "      <td>27</td>\n",
       "      <td>0.019859</td>\n",
       "      <td>1.948873e+00</td>\n",
       "      <td>282</td>\n",
       "      <td>1</td>\n",
       "      <td>NaN</td>\n",
       "      <td>NaN</td>\n",
       "      <td>NaN</td>\n",
       "      <td>0.019859</td>\n",
       "      <td>3.052983</td>\n",
       "      <td>0.236328</td>\n",
       "      <td>52.8815</td>\n",
       "    </tr>\n",
       "  </tbody>\n",
       "</table>\n",
       "<p>284 rows × 16 columns</p>\n",
       "</div>"
      ],
      "text/plain": [
       "            rechits_x  rechits_y  rechits_z  rechits_energy  rechits_layer   \n",
       "rechits_id                                                                   \n",
       "0            3.626411  -1.587286  13.877500        0.022204              1  \\\n",
       "1            2.651933  -1.024786  13.877500        0.086072              1   \n",
       "2            1.677445  -0.462042  13.877500        0.215028              1   \n",
       "3            1.677445  -2.712539  13.877500        0.211889              1   \n",
       "4            0.703080   1.225458  13.877500        0.015557              1   \n",
       "...               ...        ...        ...             ...            ...   \n",
       "279          5.925315  -3.654544  49.681999        0.050208             25   \n",
       "280          3.981021   1.907357  52.881500        0.023441             27   \n",
       "281          3.981021  -0.343132  52.881500        0.016228             27   \n",
       "282          3.052983   0.236328  52.881500        0.037292             27   \n",
       "283          2.078496  -1.451416  52.881500        0.019859             27   \n",
       "\n",
       "            rechits_rho  rechits_delta  rechits_nearestHigher   \n",
       "rechits_id                                                      \n",
       "0              0.065240   1.125173e+00                      1  \\\n",
       "1              0.204688   1.125303e+00                      2   \n",
       "2              0.258065   3.402823e+38                     -1   \n",
       "3              0.211889   2.250497e+00                      2   \n",
       "4              0.015557   1.948601e+00                      2   \n",
       "...                 ...            ...                    ...   \n",
       "279            0.050208   3.402823e+38                     -1   \n",
       "280            0.023441   1.911437e+00                    282   \n",
       "281            0.034874   1.094088e+00                    282   \n",
       "282            0.045406   3.402823e+38                     -1   \n",
       "283            0.019859   1.948873e+00                    282   \n",
       "\n",
       "            rechits_pointType  clus2D_id  clus2D_pointType  clus3D_id   \n",
       "rechits_id                                                              \n",
       "0                           0        0.0               0.0        0.0  \\\n",
       "1                           0        0.0               0.0        0.0   \n",
       "2                           1        0.0               0.0        0.0   \n",
       "3                           1        NaN               NaN        NaN   \n",
       "4                           1        NaN               NaN        NaN   \n",
       "...                       ...        ...               ...        ...   \n",
       "279                         1        NaN               NaN        NaN   \n",
       "280                         1        NaN               NaN        NaN   \n",
       "281                         0       31.0               2.0        NaN   \n",
       "282                         1       31.0               2.0        NaN   \n",
       "283                         1        NaN               NaN        NaN   \n",
       "\n",
       "            rechits_cumulativeEnergy  rechits_x_ofNearestHigher   \n",
       "rechits_id                                                        \n",
       "0                           0.022204                   2.651933  \\\n",
       "1                           0.108276                   1.677445   \n",
       "2                           0.000000                        NaN   \n",
       "3                           0.211889                   1.677445   \n",
       "4                           0.015557                   1.677445   \n",
       "...                              ...                        ...   \n",
       "279                         0.000000                        NaN   \n",
       "280                         0.023441                   3.052983   \n",
       "281                         0.016228                   3.052983   \n",
       "282                         0.000000                        NaN   \n",
       "283                         0.019859                   3.052983   \n",
       "\n",
       "            rechits_y_ofNearestHigher  rechits_z_ofNearestHigher  \n",
       "rechits_id                                                        \n",
       "0                           -1.024786                    13.8775  \n",
       "1                           -0.462042                    13.8775  \n",
       "2                                 NaN                        NaN  \n",
       "3                           -0.462042                    13.8775  \n",
       "4                           -0.462042                    13.8775  \n",
       "...                               ...                        ...  \n",
       "279                               NaN                        NaN  \n",
       "280                          0.236328                    52.8815  \n",
       "281                          0.236328                    52.8815  \n",
       "282                               NaN                        NaN  \n",
       "283                          0.236328                    52.8815  \n",
       "\n",
       "[284 rows x 16 columns]"
      ]
     },
     "execution_count": 29,
     "metadata": {},
     "output_type": "execute_result"
    }
   ],
   "source": [
    "Clue3DVisualization(event).rechits_df"
   ]
  },
  {
   "cell_type": "code",
   "execution_count": 30,
   "metadata": {},
   "outputs": [
    {
     "data": {
      "application/vnd.plotly.v1+json": {
       "config": {
        "plotlyServerURL": "https://plot.ly"
       },
       "data": [
        {
         "customdata": [
          [
           0.9273725152015686,
           0.9682412147521973,
           2.2502763271331787,
           "Seed"
          ]
         ],
         "hovertemplate": "2D cluster : %{customdata[3]}<br>Energy: %{customdata[0]:.2g} GeV<br>Rho: %{customdata[1]:.2g} GeV<br>Delta: %{customdata[2]:.2g} cm<br>Size: %{marker.size}",
         "legendgroup": "cluster2D",
         "legendgrouptitle": {
          "text": "2D clusters"
         },
         "marker": {
          "color": [
           "#FECB52"
          ],
          "line": {
           "color": "#EF553B",
           "width": 3
          },
          "size": [
           26
          ],
          "symbol": "circle"
         },
         "mode": "markers",
         "name": "Trackster nb 1.0",
         "type": "scatter",
         "x": [
          2.653810501098633
         ],
         "y": [
          1.5182846784591675
         ]
        },
        {
         "customdata": [
          [
           "0.025794381",
           "0.0961184",
           "1.0959091",
           "Follower"
          ],
          [
           "0.016638696",
           "0.04176125",
           "1.0959039",
           "Follower"
          ],
          [
           "0.025021642",
           "0.13218649",
           "1.0188426",
           "Follower"
          ],
          [
           "0.042947806",
           "0.104636185",
           "1.0557734",
           "Follower"
          ],
          [
           "0.012129861",
           "0.07013476",
           "1.0188969",
           "Follower"
          ],
          [
           "0.1582677",
           "0.21597284",
           "3.4028235e+38",
           "Seed"
          ],
          [
           "0.013114198",
           "0.17897245",
           "1.125",
           "Follower"
          ],
          [
           "0.04587585",
           "0.14049694",
           "1.1252441",
           "Follower"
          ],
          [
           "0.07357671",
           "0.11547676",
           "1.1251221",
           "Follower"
          ],
          [
           "0.07727443",
           "0.18302992",
           "1.125425",
           "Follower"
          ],
          [
           "0.05960349",
           "0.100259624",
           "1.1251807",
           "Follower"
          ],
          [
           "0.053243283",
           "0.1090843",
           "1.1253192",
           "Follower"
          ],
          [
           "0.007316481",
           "0.091853485",
           "1.125",
           "Follower"
          ],
          [
           "0.015005735",
           "0.08191278",
           "1.1251972",
           "Follower"
          ],
          [
           "0.008824412",
           "0.044914864",
           "1.1251221",
           "Follower"
          ],
          [
           "0.013235856",
           "0.017648062",
           "1.1252441",
           "Follower"
          ],
          [
           "0.027091129",
           "0.0644362",
           "1.1252865",
           "Follower"
          ],
          [
           "0.014130376",
           "0.06080671",
           "1.125",
           "Follower"
          ],
          [
           "0.04393932",
           "0.07280636",
           "1.1252865",
           "Follower"
          ],
          [
           "0.019773554",
           "0.06936516",
           "1.1249247",
           "Follower"
          ],
          [
           "0.055243902",
           "0.06513068",
           "1.1252441",
           "Follower"
          ],
          [
           "0.008269405",
           "0.027420785",
           "1.1252372",
           "Follower"
          ],
          [
           "0.033386495",
           "0.053069025",
           "1.1253028",
           "Follower"
          ],
          [
           "0.02598189",
           "0.068856746",
           "1.1251221",
           "Follower"
          ],
          [
           "0.01232087",
           "0.050663054",
           "1.1252441",
           "Follower"
          ],
          [
           "0.039365064",
           "0.09052316",
           "1.1253107",
           "Follower"
          ]
         ],
         "hovertemplate": "Rechit : %{customdata[3]}<br>Energy: %{customdata[0]:.2g} GeV<br>Rho: %{customdata[1]:.2g} GeV<br>Delta: %{customdata[2]:.2g} cm",
         "legendgroup": "rechits",
         "legendgrouptitle": {
          "text": "Rechits"
         },
         "marker": {
          "color": "#FECB52",
          "size": [
           11.427176475524902,
           8.146998405456543,
           11.199615478515625,
           15.241573333740234,
           5.782317161560059,
           25.000001907348633,
           6.366081237792969,
           15.735017776489258,
           19.269306182861328,
           19.63616943359375,
           17.69354820251465,
           16.84929084777832,
           2.0000009536743164,
           7.374145984649658,
           3.4020211696624756,
           6.435166835784912,
           11.794151306152344,
           6.9244513511657715,
           15.412337303161621,
           9.438448905944824,
           17.12526512145996,
           2.9160120487213135,
           13.357420921325684,
           11.481365203857422,
           5.8992156982421875,
           14.589863777160645
          ],
          "symbol": "circle"
         },
         "mode": "markers",
         "name": "2D cluster nb 16.0",
         "type": "scatter",
         "x": [
          3.808440923690796,
          3.808440923690796,
          3.808440923690796,
          3.889720916748047,
          2.9152426719665527,
          2.9152426719665527,
          2.9152426719665527,
          2.9152426719665527,
          2.9152426719665527,
          1.9407553672790527,
          1.9407553672790527,
          0.9663901329040527,
          0.9663901329040527,
          0.9663901329040527,
          0.9663901329040527,
          0.9663901329040527,
          -0.008219242095947266,
          -0.008219242095947266,
          -0.008219242095947266,
          -0.9823403358459473,
          -0.9823403358459473,
          5.838704586029053,
          5.838704586029053,
          4.864217281341553,
          4.864217281341553,
          4.864217281341553
         ],
         "y": [
          -2.643109083175659,
          -3.7683441638946533,
          0.7323882579803467,
          -0.3202517032623291,
          -3.133362054824829,
          1.367248296737671,
          0.2422482967376709,
          -0.8829958438873291,
          -2.008117914199829,
          1.930236577987671,
          -0.3202517032623291,
          1.367248296737671,
          0.2422482967376709,
          -0.8829958438873291,
          -2.008117914199829,
          -3.133362054824829,
          0.8047482967376709,
          -0.3202517032623291,
          -1.445495843887329,
          -2.008117914199829,
          -3.133362054824829,
          -2.570749044418335,
          -0.3202517032623291,
          -2.008117914199829,
          -3.133362054824829,
          -0.8829958438873291
         ]
        },
        {
         "hoverinfo": "skip",
         "legendgroup": "rechits_chain",
         "line": {
          "width": 1.696769775388853
         },
         "marker": {
          "angleref": "previous",
          "color": "#FECB52",
          "size": 10,
          "symbol": "arrow"
         },
         "mode": "markers+lines",
         "name": "Rechits chain",
         "showlegend": true,
         "type": "scatter",
         "x": [
          3.808440923690796,
          2.9152426719665527
         ],
         "y": [
          -2.643109083175659,
          -2.008117914199829
         ]
        },
        {
         "hoverinfo": "skip",
         "legendgroup": "rechits_chain",
         "line": {
          "width": 1
         },
         "marker": {
          "angleref": "previous",
          "color": "#FECB52",
          "size": 10,
          "symbol": "arrow"
         },
         "mode": "markers+lines",
         "name": "Rechits chain",
         "showlegend": false,
         "type": "scatter",
         "x": [
          3.808440923690796,
          2.9152426719665527
         ],
         "y": [
          -3.7683441638946533,
          -3.133362054824829
         ]
        },
        {
         "hoverinfo": "skip",
         "legendgroup": "rechits_chain",
         "line": {
          "width": 2.9300900652521618
         },
         "marker": {
          "angleref": "previous",
          "color": "#FECB52",
          "size": 10,
          "symbol": "arrow"
         },
         "mode": "markers+lines",
         "name": "Rechits chain",
         "showlegend": false,
         "type": "scatter",
         "x": [
          3.808440923690796,
          2.9152426719665527
         ],
         "y": [
          0.7323882579803467,
          0.2422482967376709
         ]
        },
        {
         "hoverinfo": "skip",
         "legendgroup": "rechits_chain",
         "line": {
          "width": 2.78668595250716
         },
         "marker": {
          "angleref": "previous",
          "color": "#FECB52",
          "size": 10,
          "symbol": "arrow"
         },
         "mode": "markers+lines",
         "name": "Rechits chain",
         "showlegend": false,
         "type": "scatter",
         "x": [
          3.889720916748047,
          3.808440923690796
         ],
         "y": [
          -0.3202517032623291,
          0.7323882579803467
         ]
        },
        {
         "hoverinfo": "skip",
         "legendgroup": "rechits_chain",
         "line": {
          "width": 1.0566979312033005
         },
         "marker": {
          "angleref": "previous",
          "color": "#FECB52",
          "size": 10,
          "symbol": "arrow"
         },
         "mode": "markers+lines",
         "name": "Rechits chain",
         "showlegend": false,
         "type": "scatter",
         "x": [
          2.9152426719665527,
          3.808440923690796
         ],
         "y": [
          -3.133362054824829,
          -2.643109083175659
         ]
        },
        {
         "hoverinfo": "skip",
         "legendgroup": "rechits_chain",
         "line": {
          "width": 4.07762072567951
         },
         "marker": {
          "angleref": "previous",
          "color": "#FECB52",
          "size": 10,
          "symbol": "arrow"
         },
         "mode": "markers+lines",
         "name": "Rechits chain",
         "showlegend": false,
         "type": "scatter",
         "x": [
          2.9152426719665527,
          2.9152426719665527
         ],
         "y": [
          0.2422482967376709,
          1.367248296737671
         ]
        },
        {
         "hoverinfo": "skip",
         "legendgroup": "rechits_chain",
         "line": {
          "width": 2.856559286061691
         },
         "marker": {
          "angleref": "previous",
          "color": "#FECB52",
          "size": 10,
          "symbol": "arrow"
         },
         "mode": "markers+lines",
         "name": "Rechits chain",
         "showlegend": false,
         "type": "scatter",
         "x": [
          2.9152426719665527,
          2.9152426719665527
         ],
         "y": [
          -0.8829958438873291,
          0.2422482967376709
         ]
        },
        {
         "hoverinfo": "skip",
         "legendgroup": "rechits_chain",
         "line": {
          "width": 2.5505355880627394
         },
         "marker": {
          "angleref": "previous",
          "color": "#FECB52",
          "size": 10,
          "symbol": "arrow"
         },
         "mode": "markers+lines",
         "name": "Rechits chain",
         "showlegend": false,
         "type": "scatter",
         "x": [
          2.9152426719665527,
          2.9152426719665527
         ],
         "y": [
          -2.008117914199829,
          -0.8829958438873291
         ]
        },
        {
         "hoverinfo": "skip",
         "legendgroup": "rechits_chain",
         "line": {
          "width": 2.8851118146598846
         },
         "marker": {
          "angleref": "previous",
          "color": "#FECB52",
          "size": 10,
          "symbol": "arrow"
         },
         "mode": "markers+lines",
         "name": "Rechits chain",
         "showlegend": false,
         "type": "scatter",
         "x": [
          1.9407553672790527,
          2.9152426719665527
         ],
         "y": [
          1.930236577987671,
          1.367248296737671
         ]
        },
        {
         "hoverinfo": "skip",
         "legendgroup": "rechits_chain",
         "line": {
          "width": 3.070961569719091
         },
         "marker": {
          "angleref": "previous",
          "color": "#FECB52",
          "size": 10,
          "symbol": "arrow"
         },
         "mode": "markers+lines",
         "name": "Rechits chain",
         "showlegend": false,
         "type": "scatter",
         "x": [
          1.9407553672790527,
          2.9152426719665527
         ],
         "y": [
          -0.3202517032623291,
          0.2422482967376709
         ]
        },
        {
         "hoverinfo": "skip",
         "legendgroup": "rechits_chain",
         "line": {
          "width": 2.3202409968426996
         },
         "marker": {
          "angleref": "previous",
          "color": "#FECB52",
          "size": 10,
          "symbol": "arrow"
         },
         "mode": "markers+lines",
         "name": "Rechits chain",
         "showlegend": false,
         "type": "scatter",
         "x": [
          0.9663901329040527,
          1.9407553672790527
         ],
         "y": [
          1.367248296737671,
          1.930236577987671
         ]
        },
        {
         "hoverinfo": "skip",
         "legendgroup": "rechits_chain",
         "line": {
          "width": 1
         },
         "marker": {
          "angleref": "previous",
          "color": "#FECB52",
          "size": 10,
          "symbol": "arrow"
         },
         "mode": "markers+lines",
         "name": "Rechits chain",
         "showlegend": false,
         "type": "scatter",
         "x": [
          0.9663901329040527,
          0.9663901329040527
         ],
         "y": [
          0.2422482967376709,
          1.367248296737671
         ]
        },
        {
         "hoverinfo": "skip",
         "legendgroup": "rechits_chain",
         "line": {
          "width": 2.7474169090436815
         },
         "marker": {
          "angleref": "previous",
          "color": "#FECB52",
          "size": 10,
          "symbol": "arrow"
         },
         "mode": "markers+lines",
         "name": "Rechits chain",
         "showlegend": false,
         "type": "scatter",
         "x": [
          0.9663901329040527,
          1.9407553672790527
         ],
         "y": [
          -0.8829958438873291,
          -0.3202517032623291
         ]
        },
        {
         "hoverinfo": "skip",
         "legendgroup": "rechits_chain",
         "line": {
          "width": 1
         },
         "marker": {
          "angleref": "previous",
          "color": "#FECB52",
          "size": 10,
          "symbol": "arrow"
         },
         "mode": "markers+lines",
         "name": "Rechits chain",
         "showlegend": false,
         "type": "scatter",
         "x": [
          0.9663901329040527,
          0.9663901329040527
         ],
         "y": [
          -2.008117914199829,
          -0.8829958438873291
         ]
        },
        {
         "hoverinfo": "skip",
         "legendgroup": "rechits_chain",
         "line": {
          "width": 1
         },
         "marker": {
          "angleref": "previous",
          "color": "#FECB52",
          "size": 10,
          "symbol": "arrow"
         },
         "mode": "markers+lines",
         "name": "Rechits chain",
         "showlegend": false,
         "type": "scatter",
         "x": [
          0.9663901329040527,
          0.9663901329040527
         ],
         "y": [
          -3.133362054824829,
          -2.008117914199829
         ]
        },
        {
         "hoverinfo": "skip",
         "legendgroup": "rechits_chain",
         "line": {
          "width": 1.4163749939557577
         },
         "marker": {
          "angleref": "previous",
          "color": "#FECB52",
          "size": 10,
          "symbol": "arrow"
         },
         "mode": "markers+lines",
         "name": "Rechits chain",
         "showlegend": false,
         "type": "scatter",
         "x": [
          -0.008219242095947266,
          0.9663901329040527
         ],
         "y": [
          0.8047482967376709,
          1.367248296737671
         ]
        },
        {
         "hoverinfo": "skip",
         "legendgroup": "rechits_chain",
         "line": {
          "width": 1
         },
         "marker": {
          "angleref": "previous",
          "color": "#FECB52",
          "size": 10,
          "symbol": "arrow"
         },
         "mode": "markers+lines",
         "name": "Rechits chain",
         "showlegend": false,
         "type": "scatter",
         "x": [
          -0.008219242095947266,
          -0.008219242095947266
         ],
         "y": [
          -0.3202517032623291,
          0.8047482967376709
         ]
        },
        {
         "hoverinfo": "skip",
         "legendgroup": "rechits_chain",
         "line": {
          "width": 2.4761750944088665
         },
         "marker": {
          "angleref": "previous",
          "color": "#FECB52",
          "size": 10,
          "symbol": "arrow"
         },
         "mode": "markers+lines",
         "name": "Rechits chain",
         "showlegend": false,
         "type": "scatter",
         "x": [
          -0.008219242095947266,
          0.9663901329040527
         ],
         "y": [
          -1.445495843887329,
          -0.8829958438873291
         ]
        },
        {
         "hoverinfo": "skip",
         "legendgroup": "rechits_chain",
         "line": {
          "width": 2.0151357396648093
         },
         "marker": {
          "angleref": "previous",
          "color": "#FECB52",
          "size": 10,
          "symbol": "arrow"
         },
         "mode": "markers+lines",
         "name": "Rechits chain",
         "showlegend": false,
         "type": "scatter",
         "x": [
          -0.9823403358459473,
          -0.008219242095947266
         ],
         "y": [
          -2.008117914199829,
          -1.445495843887329
         ]
        },
        {
         "hoverinfo": "skip",
         "legendgroup": "rechits_chain",
         "line": {
          "width": 1.7091728686136174
         },
         "marker": {
          "angleref": "previous",
          "color": "#FECB52",
          "size": 10,
          "symbol": "arrow"
         },
         "mode": "markers+lines",
         "name": "Rechits chain",
         "showlegend": false,
         "type": "scatter",
         "x": [
          -0.9823403358459473,
          -0.9823403358459473
         ],
         "y": [
          -3.133362054824829,
          -2.008117914199829
         ]
        },
        {
         "hoverinfo": "skip",
         "legendgroup": "rechits_chain",
         "line": {
          "width": 1
         },
         "marker": {
          "angleref": "previous",
          "color": "#FECB52",
          "size": 10,
          "symbol": "arrow"
         },
         "mode": "markers+lines",
         "name": "Rechits chain",
         "showlegend": false,
         "type": "scatter",
         "x": [
          5.838704586029053,
          4.864217281341553
         ],
         "y": [
          -2.570749044418335,
          -3.133362054824829
         ]
        },
        {
         "hoverinfo": "skip",
         "legendgroup": "rechits_chain",
         "line": {
          "width": 1.2055663828357892
         },
         "marker": {
          "angleref": "previous",
          "color": "#FECB52",
          "size": 10,
          "symbol": "arrow"
         },
         "mode": "markers+lines",
         "name": "Rechits chain",
         "showlegend": false,
         "type": "scatter",
         "x": [
          5.838704586029053,
          4.864217281341553
         ],
         "y": [
          -0.3202517032623291,
          -0.8829958438873291
         ]
        },
        {
         "hoverinfo": "skip",
         "legendgroup": "rechits_chain",
         "line": {
          "width": 1.538417944182206
         },
         "marker": {
          "angleref": "previous",
          "color": "#FECB52",
          "size": 10,
          "symbol": "arrow"
         },
         "mode": "markers+lines",
         "name": "Rechits chain",
         "showlegend": false,
         "type": "scatter",
         "x": [
          4.864217281341553,
          4.864217281341553
         ],
         "y": [
          -2.008117914199829,
          -0.8829958438873291
         ]
        },
        {
         "hoverinfo": "skip",
         "legendgroup": "rechits_chain",
         "line": {
          "width": 1
         },
         "marker": {
          "angleref": "previous",
          "color": "#FECB52",
          "size": 10,
          "symbol": "arrow"
         },
         "mode": "markers+lines",
         "name": "Rechits chain",
         "showlegend": false,
         "type": "scatter",
         "x": [
          4.864217281341553,
          4.864217281341553
         ],
         "y": [
          -3.133362054824829,
          -2.008117914199829
         ]
        },
        {
         "hoverinfo": "skip",
         "legendgroup": "rechits_chain",
         "line": {
          "width": 2.4792550759332714
         },
         "marker": {
          "angleref": "previous",
          "color": "#FECB52",
          "size": 10,
          "symbol": "arrow"
         },
         "mode": "markers+lines",
         "name": "Rechits chain",
         "showlegend": false,
         "type": "scatter",
         "x": [
          4.864217281341553,
          3.889720916748047
         ],
         "y": [
          -0.8829958438873291,
          -0.3202517032623291
         ]
        },
        {
         "hoverinfo": "skip",
         "marker": {
          "color": "black",
          "size": 8,
          "symbol": "x"
         },
         "mode": "markers",
         "name": "Impact from DWC",
         "type": "scatter",
         "x": [
          3.1896591186523438
         ],
         "y": [
          -1.0161893367767334
         ]
        }
       ],
       "layout": {
        "autosize": true,
        "shapes": [
         {
          "type": "circle",
          "x0": 1.615242649958684,
          "x1": 4.215242693974421,
          "xref": "x",
          "y0": 0.06724827472980222,
          "y1": 2.6672483187455396,
          "yref": "y"
         }
        ],
        "template": {
         "data": {
          "bar": [
           {
            "error_x": {
             "color": "#2a3f5f"
            },
            "error_y": {
             "color": "#2a3f5f"
            },
            "marker": {
             "line": {
              "color": "#E5ECF6",
              "width": 0.5
             },
             "pattern": {
              "fillmode": "overlay",
              "size": 10,
              "solidity": 0.2
             }
            },
            "type": "bar"
           }
          ],
          "barpolar": [
           {
            "marker": {
             "line": {
              "color": "#E5ECF6",
              "width": 0.5
             },
             "pattern": {
              "fillmode": "overlay",
              "size": 10,
              "solidity": 0.2
             }
            },
            "type": "barpolar"
           }
          ],
          "carpet": [
           {
            "aaxis": {
             "endlinecolor": "#2a3f5f",
             "gridcolor": "white",
             "linecolor": "white",
             "minorgridcolor": "white",
             "startlinecolor": "#2a3f5f"
            },
            "baxis": {
             "endlinecolor": "#2a3f5f",
             "gridcolor": "white",
             "linecolor": "white",
             "minorgridcolor": "white",
             "startlinecolor": "#2a3f5f"
            },
            "type": "carpet"
           }
          ],
          "choropleth": [
           {
            "colorbar": {
             "outlinewidth": 0,
             "ticks": ""
            },
            "type": "choropleth"
           }
          ],
          "contour": [
           {
            "colorbar": {
             "outlinewidth": 0,
             "ticks": ""
            },
            "colorscale": [
             [
              0,
              "#0d0887"
             ],
             [
              0.1111111111111111,
              "#46039f"
             ],
             [
              0.2222222222222222,
              "#7201a8"
             ],
             [
              0.3333333333333333,
              "#9c179e"
             ],
             [
              0.4444444444444444,
              "#bd3786"
             ],
             [
              0.5555555555555556,
              "#d8576b"
             ],
             [
              0.6666666666666666,
              "#ed7953"
             ],
             [
              0.7777777777777778,
              "#fb9f3a"
             ],
             [
              0.8888888888888888,
              "#fdca26"
             ],
             [
              1,
              "#f0f921"
             ]
            ],
            "type": "contour"
           }
          ],
          "contourcarpet": [
           {
            "colorbar": {
             "outlinewidth": 0,
             "ticks": ""
            },
            "type": "contourcarpet"
           }
          ],
          "heatmap": [
           {
            "colorbar": {
             "outlinewidth": 0,
             "ticks": ""
            },
            "colorscale": [
             [
              0,
              "#0d0887"
             ],
             [
              0.1111111111111111,
              "#46039f"
             ],
             [
              0.2222222222222222,
              "#7201a8"
             ],
             [
              0.3333333333333333,
              "#9c179e"
             ],
             [
              0.4444444444444444,
              "#bd3786"
             ],
             [
              0.5555555555555556,
              "#d8576b"
             ],
             [
              0.6666666666666666,
              "#ed7953"
             ],
             [
              0.7777777777777778,
              "#fb9f3a"
             ],
             [
              0.8888888888888888,
              "#fdca26"
             ],
             [
              1,
              "#f0f921"
             ]
            ],
            "type": "heatmap"
           }
          ],
          "heatmapgl": [
           {
            "colorbar": {
             "outlinewidth": 0,
             "ticks": ""
            },
            "colorscale": [
             [
              0,
              "#0d0887"
             ],
             [
              0.1111111111111111,
              "#46039f"
             ],
             [
              0.2222222222222222,
              "#7201a8"
             ],
             [
              0.3333333333333333,
              "#9c179e"
             ],
             [
              0.4444444444444444,
              "#bd3786"
             ],
             [
              0.5555555555555556,
              "#d8576b"
             ],
             [
              0.6666666666666666,
              "#ed7953"
             ],
             [
              0.7777777777777778,
              "#fb9f3a"
             ],
             [
              0.8888888888888888,
              "#fdca26"
             ],
             [
              1,
              "#f0f921"
             ]
            ],
            "type": "heatmapgl"
           }
          ],
          "histogram": [
           {
            "marker": {
             "pattern": {
              "fillmode": "overlay",
              "size": 10,
              "solidity": 0.2
             }
            },
            "type": "histogram"
           }
          ],
          "histogram2d": [
           {
            "colorbar": {
             "outlinewidth": 0,
             "ticks": ""
            },
            "colorscale": [
             [
              0,
              "#0d0887"
             ],
             [
              0.1111111111111111,
              "#46039f"
             ],
             [
              0.2222222222222222,
              "#7201a8"
             ],
             [
              0.3333333333333333,
              "#9c179e"
             ],
             [
              0.4444444444444444,
              "#bd3786"
             ],
             [
              0.5555555555555556,
              "#d8576b"
             ],
             [
              0.6666666666666666,
              "#ed7953"
             ],
             [
              0.7777777777777778,
              "#fb9f3a"
             ],
             [
              0.8888888888888888,
              "#fdca26"
             ],
             [
              1,
              "#f0f921"
             ]
            ],
            "type": "histogram2d"
           }
          ],
          "histogram2dcontour": [
           {
            "colorbar": {
             "outlinewidth": 0,
             "ticks": ""
            },
            "colorscale": [
             [
              0,
              "#0d0887"
             ],
             [
              0.1111111111111111,
              "#46039f"
             ],
             [
              0.2222222222222222,
              "#7201a8"
             ],
             [
              0.3333333333333333,
              "#9c179e"
             ],
             [
              0.4444444444444444,
              "#bd3786"
             ],
             [
              0.5555555555555556,
              "#d8576b"
             ],
             [
              0.6666666666666666,
              "#ed7953"
             ],
             [
              0.7777777777777778,
              "#fb9f3a"
             ],
             [
              0.8888888888888888,
              "#fdca26"
             ],
             [
              1,
              "#f0f921"
             ]
            ],
            "type": "histogram2dcontour"
           }
          ],
          "mesh3d": [
           {
            "colorbar": {
             "outlinewidth": 0,
             "ticks": ""
            },
            "type": "mesh3d"
           }
          ],
          "parcoords": [
           {
            "line": {
             "colorbar": {
              "outlinewidth": 0,
              "ticks": ""
             }
            },
            "type": "parcoords"
           }
          ],
          "pie": [
           {
            "automargin": true,
            "type": "pie"
           }
          ],
          "scatter": [
           {
            "fillpattern": {
             "fillmode": "overlay",
             "size": 10,
             "solidity": 0.2
            },
            "type": "scatter"
           }
          ],
          "scatter3d": [
           {
            "line": {
             "colorbar": {
              "outlinewidth": 0,
              "ticks": ""
             }
            },
            "marker": {
             "colorbar": {
              "outlinewidth": 0,
              "ticks": ""
             }
            },
            "type": "scatter3d"
           }
          ],
          "scattercarpet": [
           {
            "marker": {
             "colorbar": {
              "outlinewidth": 0,
              "ticks": ""
             }
            },
            "type": "scattercarpet"
           }
          ],
          "scattergeo": [
           {
            "marker": {
             "colorbar": {
              "outlinewidth": 0,
              "ticks": ""
             }
            },
            "type": "scattergeo"
           }
          ],
          "scattergl": [
           {
            "marker": {
             "colorbar": {
              "outlinewidth": 0,
              "ticks": ""
             }
            },
            "type": "scattergl"
           }
          ],
          "scattermapbox": [
           {
            "marker": {
             "colorbar": {
              "outlinewidth": 0,
              "ticks": ""
             }
            },
            "type": "scattermapbox"
           }
          ],
          "scatterpolar": [
           {
            "marker": {
             "colorbar": {
              "outlinewidth": 0,
              "ticks": ""
             }
            },
            "type": "scatterpolar"
           }
          ],
          "scatterpolargl": [
           {
            "marker": {
             "colorbar": {
              "outlinewidth": 0,
              "ticks": ""
             }
            },
            "type": "scatterpolargl"
           }
          ],
          "scatterternary": [
           {
            "marker": {
             "colorbar": {
              "outlinewidth": 0,
              "ticks": ""
             }
            },
            "type": "scatterternary"
           }
          ],
          "surface": [
           {
            "colorbar": {
             "outlinewidth": 0,
             "ticks": ""
            },
            "colorscale": [
             [
              0,
              "#0d0887"
             ],
             [
              0.1111111111111111,
              "#46039f"
             ],
             [
              0.2222222222222222,
              "#7201a8"
             ],
             [
              0.3333333333333333,
              "#9c179e"
             ],
             [
              0.4444444444444444,
              "#bd3786"
             ],
             [
              0.5555555555555556,
              "#d8576b"
             ],
             [
              0.6666666666666666,
              "#ed7953"
             ],
             [
              0.7777777777777778,
              "#fb9f3a"
             ],
             [
              0.8888888888888888,
              "#fdca26"
             ],
             [
              1,
              "#f0f921"
             ]
            ],
            "type": "surface"
           }
          ],
          "table": [
           {
            "cells": {
             "fill": {
              "color": "#EBF0F8"
             },
             "line": {
              "color": "white"
             }
            },
            "header": {
             "fill": {
              "color": "#C8D4E3"
             },
             "line": {
              "color": "white"
             }
            },
            "type": "table"
           }
          ]
         },
         "layout": {
          "annotationdefaults": {
           "arrowcolor": "#2a3f5f",
           "arrowhead": 0,
           "arrowwidth": 1
          },
          "autotypenumbers": "strict",
          "coloraxis": {
           "colorbar": {
            "outlinewidth": 0,
            "ticks": ""
           }
          },
          "colorscale": {
           "diverging": [
            [
             0,
             "#8e0152"
            ],
            [
             0.1,
             "#c51b7d"
            ],
            [
             0.2,
             "#de77ae"
            ],
            [
             0.3,
             "#f1b6da"
            ],
            [
             0.4,
             "#fde0ef"
            ],
            [
             0.5,
             "#f7f7f7"
            ],
            [
             0.6,
             "#e6f5d0"
            ],
            [
             0.7,
             "#b8e186"
            ],
            [
             0.8,
             "#7fbc41"
            ],
            [
             0.9,
             "#4d9221"
            ],
            [
             1,
             "#276419"
            ]
           ],
           "sequential": [
            [
             0,
             "#0d0887"
            ],
            [
             0.1111111111111111,
             "#46039f"
            ],
            [
             0.2222222222222222,
             "#7201a8"
            ],
            [
             0.3333333333333333,
             "#9c179e"
            ],
            [
             0.4444444444444444,
             "#bd3786"
            ],
            [
             0.5555555555555556,
             "#d8576b"
            ],
            [
             0.6666666666666666,
             "#ed7953"
            ],
            [
             0.7777777777777778,
             "#fb9f3a"
            ],
            [
             0.8888888888888888,
             "#fdca26"
            ],
            [
             1,
             "#f0f921"
            ]
           ],
           "sequentialminus": [
            [
             0,
             "#0d0887"
            ],
            [
             0.1111111111111111,
             "#46039f"
            ],
            [
             0.2222222222222222,
             "#7201a8"
            ],
            [
             0.3333333333333333,
             "#9c179e"
            ],
            [
             0.4444444444444444,
             "#bd3786"
            ],
            [
             0.5555555555555556,
             "#d8576b"
            ],
            [
             0.6666666666666666,
             "#ed7953"
            ],
            [
             0.7777777777777778,
             "#fb9f3a"
            ],
            [
             0.8888888888888888,
             "#fdca26"
            ],
            [
             1,
             "#f0f921"
            ]
           ]
          },
          "colorway": [
           "#636efa",
           "#EF553B",
           "#00cc96",
           "#ab63fa",
           "#FFA15A",
           "#19d3f3",
           "#FF6692",
           "#B6E880",
           "#FF97FF",
           "#FECB52"
          ],
          "font": {
           "color": "#2a3f5f"
          },
          "geo": {
           "bgcolor": "white",
           "lakecolor": "white",
           "landcolor": "#E5ECF6",
           "showlakes": true,
           "showland": true,
           "subunitcolor": "white"
          },
          "hoverlabel": {
           "align": "left"
          },
          "hovermode": "closest",
          "mapbox": {
           "style": "light"
          },
          "paper_bgcolor": "white",
          "plot_bgcolor": "#E5ECF6",
          "polar": {
           "angularaxis": {
            "gridcolor": "white",
            "linecolor": "white",
            "ticks": ""
           },
           "bgcolor": "#E5ECF6",
           "radialaxis": {
            "gridcolor": "white",
            "linecolor": "white",
            "ticks": ""
           }
          },
          "scene": {
           "xaxis": {
            "backgroundcolor": "#E5ECF6",
            "gridcolor": "white",
            "gridwidth": 2,
            "linecolor": "white",
            "showbackground": true,
            "ticks": "",
            "zerolinecolor": "white"
           },
           "yaxis": {
            "backgroundcolor": "#E5ECF6",
            "gridcolor": "white",
            "gridwidth": 2,
            "linecolor": "white",
            "showbackground": true,
            "ticks": "",
            "zerolinecolor": "white"
           },
           "zaxis": {
            "backgroundcolor": "#E5ECF6",
            "gridcolor": "white",
            "gridwidth": 2,
            "linecolor": "white",
            "showbackground": true,
            "ticks": "",
            "zerolinecolor": "white"
           }
          },
          "shapedefaults": {
           "line": {
            "color": "#2a3f5f"
           }
          },
          "ternary": {
           "aaxis": {
            "gridcolor": "white",
            "linecolor": "white",
            "ticks": ""
           },
           "baxis": {
            "gridcolor": "white",
            "linecolor": "white",
            "ticks": ""
           },
           "bgcolor": "#E5ECF6",
           "caxis": {
            "gridcolor": "white",
            "linecolor": "white",
            "ticks": ""
           }
          },
          "title": {
           "x": 0.05
          },
          "xaxis": {
           "automargin": true,
           "gridcolor": "white",
           "linecolor": "white",
           "ticks": "",
           "title": {
            "standoff": 15
           },
           "zerolinecolor": "white",
           "zerolinewidth": 2
          },
          "yaxis": {
           "automargin": true,
           "gridcolor": "white",
           "linecolor": "white",
           "ticks": "",
           "title": {
            "standoff": 15
           },
           "zerolinecolor": "white",
           "zerolinewidth": 2
          }
         }
        },
        "title": {
         "text": "Layer visualization - ntuple 441, event 5603 - e+ 20.0 GeV - Layer 13"
        },
        "yaxis": {
         "scaleanchor": "x",
         "scaleratio": 1
        }
       }
      },
      "text/html": [
       "<div>                            <div id=\"68d27c26-a51b-4a51-b626-da393bbf7efe\" class=\"plotly-graph-div\" style=\"height:525px; width:100%;\"></div>            <script type=\"text/javascript\">                require([\"plotly\"], function(Plotly) {                    window.PLOTLYENV=window.PLOTLYENV || {};                                    if (document.getElementById(\"68d27c26-a51b-4a51-b626-da393bbf7efe\")) {                    Plotly.newPlot(                        \"68d27c26-a51b-4a51-b626-da393bbf7efe\",                        [{\"customdata\":[[0.9273725152015686,0.9682412147521973,2.2502763271331787,\"Seed\"]],\"hovertemplate\":\"2D cluster : %{customdata[3]}<br>Energy: %{customdata[0]:.2g} GeV<br>Rho: %{customdata[1]:.2g} GeV<br>Delta: %{customdata[2]:.2g} cm<br>Size: %{marker.size}\",\"legendgroup\":\"cluster2D\",\"legendgrouptitle\":{\"text\":\"2D clusters\"},\"marker\":{\"color\":[\"#FECB52\"],\"line\":{\"color\":\"#EF553B\",\"width\":3.0},\"size\":[26],\"symbol\":\"circle\"},\"mode\":\"markers\",\"name\":\"Trackster nb 1.0\",\"x\":[2.653810501098633],\"y\":[1.5182846784591675],\"type\":\"scatter\"},{\"customdata\":[[\"0.025794381\",\"0.0961184\",\"1.0959091\",\"Follower\"],[\"0.016638696\",\"0.04176125\",\"1.0959039\",\"Follower\"],[\"0.025021642\",\"0.13218649\",\"1.0188426\",\"Follower\"],[\"0.042947806\",\"0.104636185\",\"1.0557734\",\"Follower\"],[\"0.012129861\",\"0.07013476\",\"1.0188969\",\"Follower\"],[\"0.1582677\",\"0.21597284\",\"3.4028235e+38\",\"Seed\"],[\"0.013114198\",\"0.17897245\",\"1.125\",\"Follower\"],[\"0.04587585\",\"0.14049694\",\"1.1252441\",\"Follower\"],[\"0.07357671\",\"0.11547676\",\"1.1251221\",\"Follower\"],[\"0.07727443\",\"0.18302992\",\"1.125425\",\"Follower\"],[\"0.05960349\",\"0.100259624\",\"1.1251807\",\"Follower\"],[\"0.053243283\",\"0.1090843\",\"1.1253192\",\"Follower\"],[\"0.007316481\",\"0.091853485\",\"1.125\",\"Follower\"],[\"0.015005735\",\"0.08191278\",\"1.1251972\",\"Follower\"],[\"0.008824412\",\"0.044914864\",\"1.1251221\",\"Follower\"],[\"0.013235856\",\"0.017648062\",\"1.1252441\",\"Follower\"],[\"0.027091129\",\"0.0644362\",\"1.1252865\",\"Follower\"],[\"0.014130376\",\"0.06080671\",\"1.125\",\"Follower\"],[\"0.04393932\",\"0.07280636\",\"1.1252865\",\"Follower\"],[\"0.019773554\",\"0.06936516\",\"1.1249247\",\"Follower\"],[\"0.055243902\",\"0.06513068\",\"1.1252441\",\"Follower\"],[\"0.008269405\",\"0.027420785\",\"1.1252372\",\"Follower\"],[\"0.033386495\",\"0.053069025\",\"1.1253028\",\"Follower\"],[\"0.02598189\",\"0.068856746\",\"1.1251221\",\"Follower\"],[\"0.01232087\",\"0.050663054\",\"1.1252441\",\"Follower\"],[\"0.039365064\",\"0.09052316\",\"1.1253107\",\"Follower\"]],\"hovertemplate\":\"Rechit : %{customdata[3]}<br>Energy: %{customdata[0]:.2g} GeV<br>Rho: %{customdata[1]:.2g} GeV<br>Delta: %{customdata[2]:.2g} cm\",\"legendgroup\":\"rechits\",\"legendgrouptitle\":{\"text\":\"Rechits\"},\"marker\":{\"color\":\"#FECB52\",\"size\":[11.427176475524902,8.146998405456543,11.199615478515625,15.241573333740234,5.782317161560059,25.000001907348633,6.366081237792969,15.735017776489258,19.269306182861328,19.63616943359375,17.69354820251465,16.84929084777832,2.0000009536743164,7.374145984649658,3.4020211696624756,6.435166835784912,11.794151306152344,6.9244513511657715,15.412337303161621,9.438448905944824,17.12526512145996,2.9160120487213135,13.357420921325684,11.481365203857422,5.8992156982421875,14.589863777160645],\"symbol\":\"circle\"},\"mode\":\"markers\",\"name\":\"2D cluster nb 16.0\",\"x\":[3.808440923690796,3.808440923690796,3.808440923690796,3.889720916748047,2.9152426719665527,2.9152426719665527,2.9152426719665527,2.9152426719665527,2.9152426719665527,1.9407553672790527,1.9407553672790527,0.9663901329040527,0.9663901329040527,0.9663901329040527,0.9663901329040527,0.9663901329040527,-0.008219242095947266,-0.008219242095947266,-0.008219242095947266,-0.9823403358459473,-0.9823403358459473,5.838704586029053,5.838704586029053,4.864217281341553,4.864217281341553,4.864217281341553],\"y\":[-2.643109083175659,-3.7683441638946533,0.7323882579803467,-0.3202517032623291,-3.133362054824829,1.367248296737671,0.2422482967376709,-0.8829958438873291,-2.008117914199829,1.930236577987671,-0.3202517032623291,1.367248296737671,0.2422482967376709,-0.8829958438873291,-2.008117914199829,-3.133362054824829,0.8047482967376709,-0.3202517032623291,-1.445495843887329,-2.008117914199829,-3.133362054824829,-2.570749044418335,-0.3202517032623291,-2.008117914199829,-3.133362054824829,-0.8829958438873291],\"type\":\"scatter\"},{\"hoverinfo\":\"skip\",\"legendgroup\":\"rechits_chain\",\"line\":{\"width\":1.696769775388853},\"marker\":{\"angleref\":\"previous\",\"color\":\"#FECB52\",\"size\":10,\"symbol\":\"arrow\"},\"mode\":\"markers+lines\",\"name\":\"Rechits chain\",\"showlegend\":true,\"x\":[3.808440923690796,2.9152426719665527],\"y\":[-2.643109083175659,-2.008117914199829],\"type\":\"scatter\"},{\"hoverinfo\":\"skip\",\"legendgroup\":\"rechits_chain\",\"line\":{\"width\":1},\"marker\":{\"angleref\":\"previous\",\"color\":\"#FECB52\",\"size\":10,\"symbol\":\"arrow\"},\"mode\":\"markers+lines\",\"name\":\"Rechits chain\",\"showlegend\":false,\"x\":[3.808440923690796,2.9152426719665527],\"y\":[-3.7683441638946533,-3.133362054824829],\"type\":\"scatter\"},{\"hoverinfo\":\"skip\",\"legendgroup\":\"rechits_chain\",\"line\":{\"width\":2.9300900652521618},\"marker\":{\"angleref\":\"previous\",\"color\":\"#FECB52\",\"size\":10,\"symbol\":\"arrow\"},\"mode\":\"markers+lines\",\"name\":\"Rechits chain\",\"showlegend\":false,\"x\":[3.808440923690796,2.9152426719665527],\"y\":[0.7323882579803467,0.2422482967376709],\"type\":\"scatter\"},{\"hoverinfo\":\"skip\",\"legendgroup\":\"rechits_chain\",\"line\":{\"width\":2.78668595250716},\"marker\":{\"angleref\":\"previous\",\"color\":\"#FECB52\",\"size\":10,\"symbol\":\"arrow\"},\"mode\":\"markers+lines\",\"name\":\"Rechits chain\",\"showlegend\":false,\"x\":[3.889720916748047,3.808440923690796],\"y\":[-0.3202517032623291,0.7323882579803467],\"type\":\"scatter\"},{\"hoverinfo\":\"skip\",\"legendgroup\":\"rechits_chain\",\"line\":{\"width\":1.0566979312033005},\"marker\":{\"angleref\":\"previous\",\"color\":\"#FECB52\",\"size\":10,\"symbol\":\"arrow\"},\"mode\":\"markers+lines\",\"name\":\"Rechits chain\",\"showlegend\":false,\"x\":[2.9152426719665527,3.808440923690796],\"y\":[-3.133362054824829,-2.643109083175659],\"type\":\"scatter\"},{\"hoverinfo\":\"skip\",\"legendgroup\":\"rechits_chain\",\"line\":{\"width\":4.07762072567951},\"marker\":{\"angleref\":\"previous\",\"color\":\"#FECB52\",\"size\":10,\"symbol\":\"arrow\"},\"mode\":\"markers+lines\",\"name\":\"Rechits chain\",\"showlegend\":false,\"x\":[2.9152426719665527,2.9152426719665527],\"y\":[0.2422482967376709,1.367248296737671],\"type\":\"scatter\"},{\"hoverinfo\":\"skip\",\"legendgroup\":\"rechits_chain\",\"line\":{\"width\":2.856559286061691},\"marker\":{\"angleref\":\"previous\",\"color\":\"#FECB52\",\"size\":10,\"symbol\":\"arrow\"},\"mode\":\"markers+lines\",\"name\":\"Rechits chain\",\"showlegend\":false,\"x\":[2.9152426719665527,2.9152426719665527],\"y\":[-0.8829958438873291,0.2422482967376709],\"type\":\"scatter\"},{\"hoverinfo\":\"skip\",\"legendgroup\":\"rechits_chain\",\"line\":{\"width\":2.5505355880627394},\"marker\":{\"angleref\":\"previous\",\"color\":\"#FECB52\",\"size\":10,\"symbol\":\"arrow\"},\"mode\":\"markers+lines\",\"name\":\"Rechits chain\",\"showlegend\":false,\"x\":[2.9152426719665527,2.9152426719665527],\"y\":[-2.008117914199829,-0.8829958438873291],\"type\":\"scatter\"},{\"hoverinfo\":\"skip\",\"legendgroup\":\"rechits_chain\",\"line\":{\"width\":2.8851118146598846},\"marker\":{\"angleref\":\"previous\",\"color\":\"#FECB52\",\"size\":10,\"symbol\":\"arrow\"},\"mode\":\"markers+lines\",\"name\":\"Rechits chain\",\"showlegend\":false,\"x\":[1.9407553672790527,2.9152426719665527],\"y\":[1.930236577987671,1.367248296737671],\"type\":\"scatter\"},{\"hoverinfo\":\"skip\",\"legendgroup\":\"rechits_chain\",\"line\":{\"width\":3.070961569719091},\"marker\":{\"angleref\":\"previous\",\"color\":\"#FECB52\",\"size\":10,\"symbol\":\"arrow\"},\"mode\":\"markers+lines\",\"name\":\"Rechits chain\",\"showlegend\":false,\"x\":[1.9407553672790527,2.9152426719665527],\"y\":[-0.3202517032623291,0.2422482967376709],\"type\":\"scatter\"},{\"hoverinfo\":\"skip\",\"legendgroup\":\"rechits_chain\",\"line\":{\"width\":2.3202409968426996},\"marker\":{\"angleref\":\"previous\",\"color\":\"#FECB52\",\"size\":10,\"symbol\":\"arrow\"},\"mode\":\"markers+lines\",\"name\":\"Rechits chain\",\"showlegend\":false,\"x\":[0.9663901329040527,1.9407553672790527],\"y\":[1.367248296737671,1.930236577987671],\"type\":\"scatter\"},{\"hoverinfo\":\"skip\",\"legendgroup\":\"rechits_chain\",\"line\":{\"width\":1},\"marker\":{\"angleref\":\"previous\",\"color\":\"#FECB52\",\"size\":10,\"symbol\":\"arrow\"},\"mode\":\"markers+lines\",\"name\":\"Rechits chain\",\"showlegend\":false,\"x\":[0.9663901329040527,0.9663901329040527],\"y\":[0.2422482967376709,1.367248296737671],\"type\":\"scatter\"},{\"hoverinfo\":\"skip\",\"legendgroup\":\"rechits_chain\",\"line\":{\"width\":2.7474169090436815},\"marker\":{\"angleref\":\"previous\",\"color\":\"#FECB52\",\"size\":10,\"symbol\":\"arrow\"},\"mode\":\"markers+lines\",\"name\":\"Rechits chain\",\"showlegend\":false,\"x\":[0.9663901329040527,1.9407553672790527],\"y\":[-0.8829958438873291,-0.3202517032623291],\"type\":\"scatter\"},{\"hoverinfo\":\"skip\",\"legendgroup\":\"rechits_chain\",\"line\":{\"width\":1},\"marker\":{\"angleref\":\"previous\",\"color\":\"#FECB52\",\"size\":10,\"symbol\":\"arrow\"},\"mode\":\"markers+lines\",\"name\":\"Rechits chain\",\"showlegend\":false,\"x\":[0.9663901329040527,0.9663901329040527],\"y\":[-2.008117914199829,-0.8829958438873291],\"type\":\"scatter\"},{\"hoverinfo\":\"skip\",\"legendgroup\":\"rechits_chain\",\"line\":{\"width\":1},\"marker\":{\"angleref\":\"previous\",\"color\":\"#FECB52\",\"size\":10,\"symbol\":\"arrow\"},\"mode\":\"markers+lines\",\"name\":\"Rechits chain\",\"showlegend\":false,\"x\":[0.9663901329040527,0.9663901329040527],\"y\":[-3.133362054824829,-2.008117914199829],\"type\":\"scatter\"},{\"hoverinfo\":\"skip\",\"legendgroup\":\"rechits_chain\",\"line\":{\"width\":1.4163749939557577},\"marker\":{\"angleref\":\"previous\",\"color\":\"#FECB52\",\"size\":10,\"symbol\":\"arrow\"},\"mode\":\"markers+lines\",\"name\":\"Rechits chain\",\"showlegend\":false,\"x\":[-0.008219242095947266,0.9663901329040527],\"y\":[0.8047482967376709,1.367248296737671],\"type\":\"scatter\"},{\"hoverinfo\":\"skip\",\"legendgroup\":\"rechits_chain\",\"line\":{\"width\":1},\"marker\":{\"angleref\":\"previous\",\"color\":\"#FECB52\",\"size\":10,\"symbol\":\"arrow\"},\"mode\":\"markers+lines\",\"name\":\"Rechits chain\",\"showlegend\":false,\"x\":[-0.008219242095947266,-0.008219242095947266],\"y\":[-0.3202517032623291,0.8047482967376709],\"type\":\"scatter\"},{\"hoverinfo\":\"skip\",\"legendgroup\":\"rechits_chain\",\"line\":{\"width\":2.4761750944088665},\"marker\":{\"angleref\":\"previous\",\"color\":\"#FECB52\",\"size\":10,\"symbol\":\"arrow\"},\"mode\":\"markers+lines\",\"name\":\"Rechits chain\",\"showlegend\":false,\"x\":[-0.008219242095947266,0.9663901329040527],\"y\":[-1.445495843887329,-0.8829958438873291],\"type\":\"scatter\"},{\"hoverinfo\":\"skip\",\"legendgroup\":\"rechits_chain\",\"line\":{\"width\":2.0151357396648093},\"marker\":{\"angleref\":\"previous\",\"color\":\"#FECB52\",\"size\":10,\"symbol\":\"arrow\"},\"mode\":\"markers+lines\",\"name\":\"Rechits chain\",\"showlegend\":false,\"x\":[-0.9823403358459473,-0.008219242095947266],\"y\":[-2.008117914199829,-1.445495843887329],\"type\":\"scatter\"},{\"hoverinfo\":\"skip\",\"legendgroup\":\"rechits_chain\",\"line\":{\"width\":1.7091728686136174},\"marker\":{\"angleref\":\"previous\",\"color\":\"#FECB52\",\"size\":10,\"symbol\":\"arrow\"},\"mode\":\"markers+lines\",\"name\":\"Rechits chain\",\"showlegend\":false,\"x\":[-0.9823403358459473,-0.9823403358459473],\"y\":[-3.133362054824829,-2.008117914199829],\"type\":\"scatter\"},{\"hoverinfo\":\"skip\",\"legendgroup\":\"rechits_chain\",\"line\":{\"width\":1},\"marker\":{\"angleref\":\"previous\",\"color\":\"#FECB52\",\"size\":10,\"symbol\":\"arrow\"},\"mode\":\"markers+lines\",\"name\":\"Rechits chain\",\"showlegend\":false,\"x\":[5.838704586029053,4.864217281341553],\"y\":[-2.570749044418335,-3.133362054824829],\"type\":\"scatter\"},{\"hoverinfo\":\"skip\",\"legendgroup\":\"rechits_chain\",\"line\":{\"width\":1.2055663828357892},\"marker\":{\"angleref\":\"previous\",\"color\":\"#FECB52\",\"size\":10,\"symbol\":\"arrow\"},\"mode\":\"markers+lines\",\"name\":\"Rechits chain\",\"showlegend\":false,\"x\":[5.838704586029053,4.864217281341553],\"y\":[-0.3202517032623291,-0.8829958438873291],\"type\":\"scatter\"},{\"hoverinfo\":\"skip\",\"legendgroup\":\"rechits_chain\",\"line\":{\"width\":1.538417944182206},\"marker\":{\"angleref\":\"previous\",\"color\":\"#FECB52\",\"size\":10,\"symbol\":\"arrow\"},\"mode\":\"markers+lines\",\"name\":\"Rechits chain\",\"showlegend\":false,\"x\":[4.864217281341553,4.864217281341553],\"y\":[-2.008117914199829,-0.8829958438873291],\"type\":\"scatter\"},{\"hoverinfo\":\"skip\",\"legendgroup\":\"rechits_chain\",\"line\":{\"width\":1},\"marker\":{\"angleref\":\"previous\",\"color\":\"#FECB52\",\"size\":10,\"symbol\":\"arrow\"},\"mode\":\"markers+lines\",\"name\":\"Rechits chain\",\"showlegend\":false,\"x\":[4.864217281341553,4.864217281341553],\"y\":[-3.133362054824829,-2.008117914199829],\"type\":\"scatter\"},{\"hoverinfo\":\"skip\",\"legendgroup\":\"rechits_chain\",\"line\":{\"width\":2.4792550759332714},\"marker\":{\"angleref\":\"previous\",\"color\":\"#FECB52\",\"size\":10,\"symbol\":\"arrow\"},\"mode\":\"markers+lines\",\"name\":\"Rechits chain\",\"showlegend\":false,\"x\":[4.864217281341553,3.889720916748047],\"y\":[-0.8829958438873291,-0.3202517032623291],\"type\":\"scatter\"},{\"hoverinfo\":\"skip\",\"marker\":{\"color\":\"black\",\"size\":8,\"symbol\":\"x\"},\"mode\":\"markers\",\"name\":\"Impact from DWC\",\"x\":[3.1896591186523438],\"y\":[-1.0161893367767334],\"type\":\"scatter\"}],                        {\"autosize\":true,\"title\":{\"text\":\"Layer visualization - ntuple 441, event 5603 - e+ 20.0 GeV - Layer 13\"},\"template\":{\"data\":{\"histogram2dcontour\":[{\"type\":\"histogram2dcontour\",\"colorbar\":{\"outlinewidth\":0,\"ticks\":\"\"},\"colorscale\":[[0.0,\"#0d0887\"],[0.1111111111111111,\"#46039f\"],[0.2222222222222222,\"#7201a8\"],[0.3333333333333333,\"#9c179e\"],[0.4444444444444444,\"#bd3786\"],[0.5555555555555556,\"#d8576b\"],[0.6666666666666666,\"#ed7953\"],[0.7777777777777778,\"#fb9f3a\"],[0.8888888888888888,\"#fdca26\"],[1.0,\"#f0f921\"]]}],\"choropleth\":[{\"type\":\"choropleth\",\"colorbar\":{\"outlinewidth\":0,\"ticks\":\"\"}}],\"histogram2d\":[{\"type\":\"histogram2d\",\"colorbar\":{\"outlinewidth\":0,\"ticks\":\"\"},\"colorscale\":[[0.0,\"#0d0887\"],[0.1111111111111111,\"#46039f\"],[0.2222222222222222,\"#7201a8\"],[0.3333333333333333,\"#9c179e\"],[0.4444444444444444,\"#bd3786\"],[0.5555555555555556,\"#d8576b\"],[0.6666666666666666,\"#ed7953\"],[0.7777777777777778,\"#fb9f3a\"],[0.8888888888888888,\"#fdca26\"],[1.0,\"#f0f921\"]]}],\"heatmap\":[{\"type\":\"heatmap\",\"colorbar\":{\"outlinewidth\":0,\"ticks\":\"\"},\"colorscale\":[[0.0,\"#0d0887\"],[0.1111111111111111,\"#46039f\"],[0.2222222222222222,\"#7201a8\"],[0.3333333333333333,\"#9c179e\"],[0.4444444444444444,\"#bd3786\"],[0.5555555555555556,\"#d8576b\"],[0.6666666666666666,\"#ed7953\"],[0.7777777777777778,\"#fb9f3a\"],[0.8888888888888888,\"#fdca26\"],[1.0,\"#f0f921\"]]}],\"heatmapgl\":[{\"type\":\"heatmapgl\",\"colorbar\":{\"outlinewidth\":0,\"ticks\":\"\"},\"colorscale\":[[0.0,\"#0d0887\"],[0.1111111111111111,\"#46039f\"],[0.2222222222222222,\"#7201a8\"],[0.3333333333333333,\"#9c179e\"],[0.4444444444444444,\"#bd3786\"],[0.5555555555555556,\"#d8576b\"],[0.6666666666666666,\"#ed7953\"],[0.7777777777777778,\"#fb9f3a\"],[0.8888888888888888,\"#fdca26\"],[1.0,\"#f0f921\"]]}],\"contourcarpet\":[{\"type\":\"contourcarpet\",\"colorbar\":{\"outlinewidth\":0,\"ticks\":\"\"}}],\"contour\":[{\"type\":\"contour\",\"colorbar\":{\"outlinewidth\":0,\"ticks\":\"\"},\"colorscale\":[[0.0,\"#0d0887\"],[0.1111111111111111,\"#46039f\"],[0.2222222222222222,\"#7201a8\"],[0.3333333333333333,\"#9c179e\"],[0.4444444444444444,\"#bd3786\"],[0.5555555555555556,\"#d8576b\"],[0.6666666666666666,\"#ed7953\"],[0.7777777777777778,\"#fb9f3a\"],[0.8888888888888888,\"#fdca26\"],[1.0,\"#f0f921\"]]}],\"surface\":[{\"type\":\"surface\",\"colorbar\":{\"outlinewidth\":0,\"ticks\":\"\"},\"colorscale\":[[0.0,\"#0d0887\"],[0.1111111111111111,\"#46039f\"],[0.2222222222222222,\"#7201a8\"],[0.3333333333333333,\"#9c179e\"],[0.4444444444444444,\"#bd3786\"],[0.5555555555555556,\"#d8576b\"],[0.6666666666666666,\"#ed7953\"],[0.7777777777777778,\"#fb9f3a\"],[0.8888888888888888,\"#fdca26\"],[1.0,\"#f0f921\"]]}],\"mesh3d\":[{\"type\":\"mesh3d\",\"colorbar\":{\"outlinewidth\":0,\"ticks\":\"\"}}],\"scatter\":[{\"fillpattern\":{\"fillmode\":\"overlay\",\"size\":10,\"solidity\":0.2},\"type\":\"scatter\"}],\"parcoords\":[{\"type\":\"parcoords\",\"line\":{\"colorbar\":{\"outlinewidth\":0,\"ticks\":\"\"}}}],\"scatterpolargl\":[{\"type\":\"scatterpolargl\",\"marker\":{\"colorbar\":{\"outlinewidth\":0,\"ticks\":\"\"}}}],\"bar\":[{\"error_x\":{\"color\":\"#2a3f5f\"},\"error_y\":{\"color\":\"#2a3f5f\"},\"marker\":{\"line\":{\"color\":\"#E5ECF6\",\"width\":0.5},\"pattern\":{\"fillmode\":\"overlay\",\"size\":10,\"solidity\":0.2}},\"type\":\"bar\"}],\"scattergeo\":[{\"type\":\"scattergeo\",\"marker\":{\"colorbar\":{\"outlinewidth\":0,\"ticks\":\"\"}}}],\"scatterpolar\":[{\"type\":\"scatterpolar\",\"marker\":{\"colorbar\":{\"outlinewidth\":0,\"ticks\":\"\"}}}],\"histogram\":[{\"marker\":{\"pattern\":{\"fillmode\":\"overlay\",\"size\":10,\"solidity\":0.2}},\"type\":\"histogram\"}],\"scattergl\":[{\"type\":\"scattergl\",\"marker\":{\"colorbar\":{\"outlinewidth\":0,\"ticks\":\"\"}}}],\"scatter3d\":[{\"type\":\"scatter3d\",\"line\":{\"colorbar\":{\"outlinewidth\":0,\"ticks\":\"\"}},\"marker\":{\"colorbar\":{\"outlinewidth\":0,\"ticks\":\"\"}}}],\"scattermapbox\":[{\"type\":\"scattermapbox\",\"marker\":{\"colorbar\":{\"outlinewidth\":0,\"ticks\":\"\"}}}],\"scatterternary\":[{\"type\":\"scatterternary\",\"marker\":{\"colorbar\":{\"outlinewidth\":0,\"ticks\":\"\"}}}],\"scattercarpet\":[{\"type\":\"scattercarpet\",\"marker\":{\"colorbar\":{\"outlinewidth\":0,\"ticks\":\"\"}}}],\"carpet\":[{\"aaxis\":{\"endlinecolor\":\"#2a3f5f\",\"gridcolor\":\"white\",\"linecolor\":\"white\",\"minorgridcolor\":\"white\",\"startlinecolor\":\"#2a3f5f\"},\"baxis\":{\"endlinecolor\":\"#2a3f5f\",\"gridcolor\":\"white\",\"linecolor\":\"white\",\"minorgridcolor\":\"white\",\"startlinecolor\":\"#2a3f5f\"},\"type\":\"carpet\"}],\"table\":[{\"cells\":{\"fill\":{\"color\":\"#EBF0F8\"},\"line\":{\"color\":\"white\"}},\"header\":{\"fill\":{\"color\":\"#C8D4E3\"},\"line\":{\"color\":\"white\"}},\"type\":\"table\"}],\"barpolar\":[{\"marker\":{\"line\":{\"color\":\"#E5ECF6\",\"width\":0.5},\"pattern\":{\"fillmode\":\"overlay\",\"size\":10,\"solidity\":0.2}},\"type\":\"barpolar\"}],\"pie\":[{\"automargin\":true,\"type\":\"pie\"}]},\"layout\":{\"autotypenumbers\":\"strict\",\"colorway\":[\"#636efa\",\"#EF553B\",\"#00cc96\",\"#ab63fa\",\"#FFA15A\",\"#19d3f3\",\"#FF6692\",\"#B6E880\",\"#FF97FF\",\"#FECB52\"],\"font\":{\"color\":\"#2a3f5f\"},\"hovermode\":\"closest\",\"hoverlabel\":{\"align\":\"left\"},\"paper_bgcolor\":\"white\",\"plot_bgcolor\":\"#E5ECF6\",\"polar\":{\"bgcolor\":\"#E5ECF6\",\"angularaxis\":{\"gridcolor\":\"white\",\"linecolor\":\"white\",\"ticks\":\"\"},\"radialaxis\":{\"gridcolor\":\"white\",\"linecolor\":\"white\",\"ticks\":\"\"}},\"ternary\":{\"bgcolor\":\"#E5ECF6\",\"aaxis\":{\"gridcolor\":\"white\",\"linecolor\":\"white\",\"ticks\":\"\"},\"baxis\":{\"gridcolor\":\"white\",\"linecolor\":\"white\",\"ticks\":\"\"},\"caxis\":{\"gridcolor\":\"white\",\"linecolor\":\"white\",\"ticks\":\"\"}},\"coloraxis\":{\"colorbar\":{\"outlinewidth\":0,\"ticks\":\"\"}},\"colorscale\":{\"sequential\":[[0.0,\"#0d0887\"],[0.1111111111111111,\"#46039f\"],[0.2222222222222222,\"#7201a8\"],[0.3333333333333333,\"#9c179e\"],[0.4444444444444444,\"#bd3786\"],[0.5555555555555556,\"#d8576b\"],[0.6666666666666666,\"#ed7953\"],[0.7777777777777778,\"#fb9f3a\"],[0.8888888888888888,\"#fdca26\"],[1.0,\"#f0f921\"]],\"sequentialminus\":[[0.0,\"#0d0887\"],[0.1111111111111111,\"#46039f\"],[0.2222222222222222,\"#7201a8\"],[0.3333333333333333,\"#9c179e\"],[0.4444444444444444,\"#bd3786\"],[0.5555555555555556,\"#d8576b\"],[0.6666666666666666,\"#ed7953\"],[0.7777777777777778,\"#fb9f3a\"],[0.8888888888888888,\"#fdca26\"],[1.0,\"#f0f921\"]],\"diverging\":[[0,\"#8e0152\"],[0.1,\"#c51b7d\"],[0.2,\"#de77ae\"],[0.3,\"#f1b6da\"],[0.4,\"#fde0ef\"],[0.5,\"#f7f7f7\"],[0.6,\"#e6f5d0\"],[0.7,\"#b8e186\"],[0.8,\"#7fbc41\"],[0.9,\"#4d9221\"],[1,\"#276419\"]]},\"xaxis\":{\"gridcolor\":\"white\",\"linecolor\":\"white\",\"ticks\":\"\",\"title\":{\"standoff\":15},\"zerolinecolor\":\"white\",\"automargin\":true,\"zerolinewidth\":2},\"yaxis\":{\"gridcolor\":\"white\",\"linecolor\":\"white\",\"ticks\":\"\",\"title\":{\"standoff\":15},\"zerolinecolor\":\"white\",\"automargin\":true,\"zerolinewidth\":2},\"scene\":{\"xaxis\":{\"backgroundcolor\":\"#E5ECF6\",\"gridcolor\":\"white\",\"linecolor\":\"white\",\"showbackground\":true,\"ticks\":\"\",\"zerolinecolor\":\"white\",\"gridwidth\":2},\"yaxis\":{\"backgroundcolor\":\"#E5ECF6\",\"gridcolor\":\"white\",\"linecolor\":\"white\",\"showbackground\":true,\"ticks\":\"\",\"zerolinecolor\":\"white\",\"gridwidth\":2},\"zaxis\":{\"backgroundcolor\":\"#E5ECF6\",\"gridcolor\":\"white\",\"linecolor\":\"white\",\"showbackground\":true,\"ticks\":\"\",\"zerolinecolor\":\"white\",\"gridwidth\":2}},\"shapedefaults\":{\"line\":{\"color\":\"#2a3f5f\"}},\"annotationdefaults\":{\"arrowcolor\":\"#2a3f5f\",\"arrowhead\":0,\"arrowwidth\":1},\"geo\":{\"bgcolor\":\"white\",\"landcolor\":\"#E5ECF6\",\"subunitcolor\":\"white\",\"showland\":true,\"showlakes\":true,\"lakecolor\":\"white\"},\"title\":{\"x\":0.05},\"mapbox\":{\"style\":\"light\"}}},\"yaxis\":{\"scaleanchor\":\"x\",\"scaleratio\":1},\"shapes\":[{\"type\":\"circle\",\"x0\":1.615242649958684,\"x1\":4.215242693974421,\"xref\":\"x\",\"y0\":0.06724827472980222,\"y1\":2.6672483187455396,\"yref\":\"y\"}]},                        {\"responsive\": true}                    ).then(function(){\n",
       "                            \n",
       "var gd = document.getElementById('68d27c26-a51b-4a51-b626-da393bbf7efe');\n",
       "var x = new MutationObserver(function (mutations, observer) {{\n",
       "        var display = window.getComputedStyle(gd).display;\n",
       "        if (!display || display === 'none') {{\n",
       "            console.log([gd, 'removed!']);\n",
       "            Plotly.purge(gd);\n",
       "            observer.disconnect();\n",
       "        }}\n",
       "}});\n",
       "\n",
       "// Listen for the removal of the full notebook cells\n",
       "var notebookContainer = gd.closest('#notebook-container');\n",
       "if (notebookContainer) {{\n",
       "    x.observe(notebookContainer, {childList: true});\n",
       "}}\n",
       "\n",
       "// Listen for the clearing of the current output cell\n",
       "var outputEl = gd.closest('.output');\n",
       "if (outputEl) {{\n",
       "    x.observe(outputEl, {childList: true});\n",
       "}}\n",
       "\n",
       "                        })                };                });            </script>        </div>"
      ]
     },
     "metadata": {},
     "output_type": "display_data"
    }
   ],
   "source": [
    "vis_layer = (LayerVisualization(event, layerNb=13) #layer 13 (weird clus pos), layer 10 : double layer cluster\n",
    "    .add2DClusters()\n",
    "    .addRechits()\n",
    "    .addImpactPoint()\n",
    "    .addCircleSearchForComputingClusterPosition()\n",
    "    )\n",
    "\n",
    "vis_layer.fig.show()"
   ]
  },
  {
   "cell_type": "code",
   "execution_count": 31,
   "metadata": {},
   "outputs": [],
   "source": [
    "vis_layer.fig.write_image(\"event-layer.png\", scale=5)"
   ]
  },
  {
   "cell_type": "code",
   "execution_count": 32,
   "metadata": {},
   "outputs": [],
   "source": [
    "vis_3d.fig.write_image(\"event.png\")\n"
   ]
  },
  {
   "cell_type": "code",
   "execution_count": 33,
   "metadata": {},
   "outputs": [],
   "source": [
    "vis_3d.fig.write_html(\"event.html\")\n",
    "vis_layer.fig.write_html(\"event-layer.html\")"
   ]
  }
 ],
 "metadata": {
  "kernelspec": {
   "display_name": "Python 3",
   "language": "python",
   "name": "python3"
  },
  "language_info": {
   "codemirror_mode": {
    "name": "ipython",
    "version": 3
   },
   "file_extension": ".py",
   "mimetype": "text/x-python",
   "name": "python",
   "nbconvert_exporter": "python",
   "pygments_lexer": "ipython3",
   "version": "3.11.0"
  },
  "orig_nbformat": 4
 },
 "nbformat": 4,
 "nbformat_minor": 2
}
