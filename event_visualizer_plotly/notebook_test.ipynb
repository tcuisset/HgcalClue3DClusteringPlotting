{
 "cells": [
  {
   "cell_type": "code",
   "execution_count": 4,
   "metadata": {},
   "outputs": [],
   "source": [
    "%load_ext autoreload\n",
    "%autoreload 2\n",
    "import sys\n",
    "sys.path.append(\"..\")\n",
    "import pandas as pd\n",
    "from vis_clue3D import Clue3DVisualization\n",
    "from vis_layer import LayerVisualization\n",
    "from vis_longitudinal_profile import LongitudinalProfileVisualization\n",
    "import uproot\n",
    "from hists.dataframe import DataframeComputations\n",
    "from utils import *"
   ]
  },
  {
   "cell_type": "code",
   "execution_count": 5,
   "metadata": {},
   "outputs": [],
   "source": [
    "el = EventLoader('/data_cms_upgrade/cuisset/testbeam18/clue3d/v31/cmssw/data/CLUE_clusters.root')"
   ]
  },
  {
   "cell_type": "code",
   "execution_count": 6,
   "metadata": {},
   "outputs": [
    {
     "data": {
      "text/plain": [
       "{'beamEnergy': array([300., 300., 300., ..., 200., 200., 200.], dtype=float32),\n",
       " 'ntupleNumber': array([435, 435, 435, ..., 676, 676, 676], dtype=uint16),\n",
       " 'event': array([1284, 1287, 1288, ...,  760,  770,  772], dtype=uint32)}"
      ]
     },
     "execution_count": 6,
     "metadata": {},
     "output_type": "execute_result"
    }
   ],
   "source": [
    "e_d = el.tree.arrays(filter_name=[\"beamEnergy\", \"ntupleNumber\", \"event\"], library=\"np\")\n",
    "e_d"
   ]
  },
  {
   "cell_type": "code",
   "execution_count": 8,
   "metadata": {},
   "outputs": [
    {
     "ename": "RuntimeError",
     "evalue": "Could not find event",
     "output_type": "error",
     "traceback": [
      "\u001b[0;31m---------------------------------------------------------------------------\u001b[0m",
      "\u001b[0;31mRuntimeError\u001b[0m                              Traceback (most recent call last)",
      "Cell \u001b[0;32mIn[8], line 1\u001b[0m\n\u001b[0;32m----> 1\u001b[0m el\u001b[39m.\u001b[39;49mloadEvent(EventID(\u001b[39m300\u001b[39;49m, \u001b[39m436\u001b[39;49m, \u001b[39m12014\u001b[39;49m))\n",
      "File \u001b[0;32m/grid_mnt/vol_home/llr/cms/cuisset/hgcal/testbeam18/clue3d-dev/src/Plotting/event_visualizer_plotly/utils.py:135\u001b[0m, in \u001b[0;36mEventLoader.loadEvent\u001b[0;34m(self, eventId)\u001b[0m\n\u001b[1;32m    133\u001b[0m eventLocation \u001b[39m=\u001b[39m \u001b[39mself\u001b[39m\u001b[39m.\u001b[39m_locateEvent(eventId)\n\u001b[1;32m    134\u001b[0m \u001b[39mif\u001b[39;00m eventLocation \u001b[39mis\u001b[39;00m \u001b[39mNone\u001b[39;00m:\n\u001b[0;32m--> 135\u001b[0m     \u001b[39mraise\u001b[39;00m \u001b[39mRuntimeError\u001b[39;00m(\u001b[39m\"\u001b[39m\u001b[39mCould not find event\u001b[39m\u001b[39m\"\u001b[39m)\n\u001b[1;32m    136\u001b[0m eventList \u001b[39m=\u001b[39m \u001b[39mself\u001b[39m\u001b[39m.\u001b[39mtree\u001b[39m.\u001b[39marrays(entry_start\u001b[39m=\u001b[39meventLocation, entry_stop\u001b[39m=\u001b[39meventLocation\u001b[39m+\u001b[39m\u001b[39m1\u001b[39m)\n\u001b[1;32m    137\u001b[0m \u001b[39mif\u001b[39;00m \u001b[39mlen\u001b[39m(eventList) \u001b[39m>\u001b[39m \u001b[39m1\u001b[39m:\n",
      "\u001b[0;31mRuntimeError\u001b[0m: Could not find event"
     ]
    }
   ],
   "source": [
    "el.loadEvent(EventID(300, 436, 12014))"
   ]
  },
  {
   "cell_type": "code",
   "execution_count": 11,
   "metadata": {},
   "outputs": [
    {
     "data": {
      "text/plain": [
       "array([    6,     9,    12, ..., 12011, 12014, 12018], dtype=uint16)"
      ]
     },
     "execution_count": 11,
     "metadata": {},
     "output_type": "execute_result"
    }
   ],
   "source": [
    "el.eventNumbersPerNtuple(300, 435)"
   ]
  },
  {
   "cell_type": "code",
   "execution_count": null,
   "metadata": {},
   "outputs": [
    {
     "data": {
      "text/plain": [
       "rec.array([( 20., 436,    19, 4083), ( 20., 436,    24, 4084),\n",
       "           ( 20., 436,    30, 4085), ..., (300., 435, 12011, 3362),\n",
       "           (300., 435, 12014, 3363), (300., 435, 12018, 3364)],\n",
       "          dtype=[('beamEnergy', '<f2'), ('ntupleNumber', '<u2'), ('event', '<u2'), ('index', '<u4')])"
      ]
     },
     "execution_count": 60,
     "metadata": {},
     "output_type": "execute_result"
    }
   ],
   "source": [
    "el.eventIndex.record_array"
   ]
  },
  {
   "cell_type": "code",
   "execution_count": null,
   "metadata": {},
   "outputs": [
    {
     "ename": "NameError",
     "evalue": "name 'el' is not defined",
     "output_type": "error",
     "traceback": [
      "\u001b[0;31m---------------------------------------------------------------------------\u001b[0m",
      "\u001b[0;31mNameError\u001b[0m                                 Traceback (most recent call last)",
      "Cell \u001b[0;32mIn[3], line 1\u001b[0m\n\u001b[0;32m----> 1\u001b[0m el\u001b[39m.\u001b[39meventIndex\u001b[39m.\u001b[39mfindRange([\u001b[39m300\u001b[39m, \u001b[39m435\u001b[39m])\u001b[39m.\u001b[39mevent\n",
      "\u001b[0;31mNameError\u001b[0m: name 'el' is not defined"
     ]
    }
   ],
   "source": [
    "el.eventIndex.findRange([300, 435]).event"
   ]
  },
  {
   "cell_type": "code",
   "execution_count": null,
   "metadata": {},
   "outputs": [
    {
     "data": {
      "text/html": [
       "<div>\n",
       "<style scoped>\n",
       "    .dataframe tbody tr th:only-of-type {\n",
       "        vertical-align: middle;\n",
       "    }\n",
       "\n",
       "    .dataframe tbody tr th {\n",
       "        vertical-align: top;\n",
       "    }\n",
       "\n",
       "    .dataframe thead th {\n",
       "        text-align: right;\n",
       "    }\n",
       "</style>\n",
       "<table border=\"1\" class=\"dataframe\">\n",
       "  <thead>\n",
       "    <tr style=\"text-align: right;\">\n",
       "      <th></th>\n",
       "      <th>rechits_x</th>\n",
       "      <th>rechits_y</th>\n",
       "      <th>rechits_z</th>\n",
       "      <th>rechits_energy</th>\n",
       "      <th>rechits_layer</th>\n",
       "      <th>rechits_rho</th>\n",
       "      <th>rechits_delta</th>\n",
       "      <th>rechits_nearestHigher</th>\n",
       "      <th>rechits_pointType</th>\n",
       "      <th>clus2D_pointType</th>\n",
       "      <th>clus3D_id</th>\n",
       "      <th>rechits_cumulativeEnergy</th>\n",
       "      <th>rechits_x_ofNearestHigher</th>\n",
       "      <th>rechits_y_ofNearestHigher</th>\n",
       "      <th>rechits_z_ofNearestHigher</th>\n",
       "    </tr>\n",
       "    <tr>\n",
       "      <th>clus2D_id</th>\n",
       "      <th></th>\n",
       "      <th></th>\n",
       "      <th></th>\n",
       "      <th></th>\n",
       "      <th></th>\n",
       "      <th></th>\n",
       "      <th></th>\n",
       "      <th></th>\n",
       "      <th></th>\n",
       "      <th></th>\n",
       "      <th></th>\n",
       "      <th></th>\n",
       "      <th></th>\n",
       "      <th></th>\n",
       "      <th></th>\n",
       "    </tr>\n",
       "  </thead>\n",
       "  <tbody>\n",
       "    <tr>\n",
       "      <th>61.0</th>\n",
       "      <td>4.955517</td>\n",
       "      <td>1.344368</td>\n",
       "      <td>46.412498</td>\n",
       "      <td>0.155321</td>\n",
       "      <td>23</td>\n",
       "      <td>0.161675</td>\n",
       "      <td>1.098631</td>\n",
       "      <td>771</td>\n",
       "      <td>0</td>\n",
       "      <td>0.0</td>\n",
       "      <td>0.0</td>\n",
       "      <td>0.17178</td>\n",
       "      <td>3.976331</td>\n",
       "      <td>0.846188</td>\n",
       "      <td>46.412498</td>\n",
       "    </tr>\n",
       "    <tr>\n",
       "      <th>62.0</th>\n",
       "      <td>5.930005</td>\n",
       "      <td>-0.343132</td>\n",
       "      <td>46.412498</td>\n",
       "      <td>0.065350</td>\n",
       "      <td>23</td>\n",
       "      <td>0.075936</td>\n",
       "      <td>1.125303</td>\n",
       "      <td>791</td>\n",
       "      <td>0</td>\n",
       "      <td>0.0</td>\n",
       "      <td>0.0</td>\n",
       "      <td>0.06535</td>\n",
       "      <td>4.955517</td>\n",
       "      <td>-0.905876</td>\n",
       "      <td>46.412498</td>\n",
       "    </tr>\n",
       "  </tbody>\n",
       "</table>\n",
       "</div>"
      ],
      "text/plain": [
       "           rechits_x  rechits_y  rechits_z  rechits_energy  rechits_layer   \n",
       "clus2D_id                                                                   \n",
       "61.0        4.955517   1.344368  46.412498        0.155321             23  \\\n",
       "62.0        5.930005  -0.343132  46.412498        0.065350             23   \n",
       "\n",
       "           rechits_rho  rechits_delta  rechits_nearestHigher   \n",
       "clus2D_id                                                      \n",
       "61.0          0.161675       1.098631                    771  \\\n",
       "62.0          0.075936       1.125303                    791   \n",
       "\n",
       "           rechits_pointType  clus2D_pointType  clus3D_id   \n",
       "clus2D_id                                                   \n",
       "61.0                       0               0.0        0.0  \\\n",
       "62.0                       0               0.0        0.0   \n",
       "\n",
       "           rechits_cumulativeEnergy  rechits_x_ofNearestHigher   \n",
       "clus2D_id                                                        \n",
       "61.0                        0.17178                   3.976331  \\\n",
       "62.0                        0.06535                   4.955517   \n",
       "\n",
       "           rechits_y_ofNearestHigher  rechits_z_ofNearestHigher  \n",
       "clus2D_id                                                        \n",
       "61.0                        0.846188                  46.412498  \n",
       "62.0                       -0.905876                  46.412498  "
      ]
     },
     "execution_count": 76,
     "metadata": {},
     "output_type": "execute_result"
    }
   ],
   "source": [
    "LayerVisualization(event, 23).rechits_df_onLayer.sort_values([\"clus2D_id\", \"rechits_energy\"], ascending=False).groupby(\"clus2D_id\").first()"
   ]
  },
  {
   "cell_type": "code",
   "execution_count": null,
   "metadata": {},
   "outputs": [],
   "source": []
  }
 ],
 "metadata": {
  "kernelspec": {
   "display_name": "Python 3",
   "language": "python",
   "name": "python3"
  },
  "language_info": {
   "codemirror_mode": {
    "name": "ipython",
    "version": 3
   },
   "file_extension": ".py",
   "mimetype": "text/x-python",
   "name": "python",
   "nbconvert_exporter": "python",
   "pygments_lexer": "ipython3",
   "version": "3.10.10"
  },
  "orig_nbformat": 4
 },
 "nbformat": 4,
 "nbformat_minor": 2
}
