{
 "cells": [
  {
   "cell_type": "code",
   "execution_count": 2,
   "metadata": {},
   "outputs": [
    {
     "name": "stdout",
     "output_type": "stream",
     "text": [
      "The autoreload extension is already loaded. To reload it, use:\n",
      "  %reload_ext autoreload\n"
     ]
    }
   ],
   "source": [
    "%load_ext autoreload\n",
    "%autoreload 2\n",
    "import sys\n",
    "sys.path.append(\"..\")\n",
    "import pandas as pd\n",
    "from vis_clue3D import Clue3DVisualization\n",
    "from vis_layer import LayerVisualization\n",
    "import uproot\n",
    "from hists.dataframe import DataframeComputations\n",
    "from utils import *"
   ]
  },
  {
   "cell_type": "code",
   "execution_count": 3,
   "metadata": {},
   "outputs": [],
   "source": [
    "el = EventLoader('/data_cms_upgrade/cuisset/testbeam18/clue3d/v31/cmssw/data/CLUE_clusters.root')\n",
    "#ev2 = el.loadEvent(441, 5603)\n",
    "event = el.loadEvent(EventID(441, 5603))"
   ]
  },
  {
   "cell_type": "code",
   "execution_count": 9,
   "metadata": {},
   "outputs": [],
   "source": [
    "vis = (LayerVisualization(event, layerNb=13) #layer 13 (weird clus pos), layer 10 : double layer cluster\n",
    "    .add2DClusters()\n",
    "    .addRechits()\n",
    "    .addImpactPoint()\n",
    "    .addCircleSearchForComputingClusterPosition()\n",
    "    )\n",
    "\n"
   ]
  },
  {
   "cell_type": "code",
   "execution_count": 10,
   "metadata": {},
   "outputs": [
    {
     "data": {
      "application/vnd.plotly.v1+json": {
       "config": {
        "plotlyServerURL": "https://plot.ly"
       },
       "data": [
        {
         "customdata": [
          [
           0.9273725152015686,
           0.9682412147521973,
           2.2502763271331787,
           "Seed"
          ]
         ],
         "hovertemplate": "2D cluster : %{customdata[3]}<br>Energy: %{customdata[0]:.2g} GeV<br>Rho: %{customdata[1]:.2g} GeV<br>Delta: %{customdata[2]:.2g} cm<br>Size: %{marker.size}",
         "legendgroup": "cluster2D",
         "legendgrouptitle": {
          "text": "2D clusters"
         },
         "marker": {
          "color": [
           "#FECB52"
          ],
          "line": {
           "color": "#EF553B",
           "width": 3
          },
          "size": [
           26
          ],
          "symbol": "circle"
         },
         "mode": "markers",
         "name": "Trackster nb 1.0",
         "type": "scatter",
         "x": [
          2.653810501098633
         ],
         "y": [
          1.5182846784591675
         ]
        },
        {
         "customdata": [
          [
           0.02579438127577305,
           0.09611839801073074,
           1.0959091186523438,
           "Follower"
          ],
          [
           0.01663869619369507,
           0.04176124930381775,
           1.0959038734436035,
           "Follower"
          ],
          [
           0.025021642446517944,
           0.13218648731708527,
           1.0188425779342651,
           "Follower"
          ],
          [
           0.04294780641794205,
           0.10463618487119675,
           1.055773377418518,
           "Follower"
          ],
          [
           0.012129860930144787,
           0.07013475894927979,
           1.0188969373703003,
           "Follower"
          ],
          [
           0.15826770663261414,
           0.21597284078598022,
           3.4028234663852886e+38,
           "Seed"
          ],
          [
           0.013114198110997677,
           0.17897245287895203,
           1.125,
           "Follower"
          ],
          [
           0.045875851064920425,
           0.14049693942070007,
           1.125244140625,
           "Follower"
          ],
          [
           0.07357671111822128,
           0.11547675728797913,
           1.1251220703125,
           "Follower"
          ],
          [
           0.07727442681789398,
           0.1830299198627472,
           1.1254249811172485,
           "Follower"
          ],
          [
           0.0596034899353981,
           0.10025962442159653,
           1.125180721282959,
           "Follower"
          ],
          [
           0.053243283182382584,
           0.10908430069684982,
           1.125319242477417,
           "Follower"
          ],
          [
           0.007316480856388807,
           0.09185348451137543,
           1.125,
           "Follower"
          ],
          [
           0.015005734749138355,
           0.08191277831792831,
           1.125197172164917,
           "Follower"
          ],
          [
           0.008824411779642105,
           0.044914864003658295,
           1.1251220703125,
           "Follower"
          ],
          [
           0.013235855847597122,
           0.017648061737418175,
           1.125244140625,
           "Follower"
          ],
          [
           0.02709112875163555,
           0.06443619728088379,
           1.1252864599227905,
           "Follower"
          ],
          [
           0.014130376279354095,
           0.06080671027302742,
           1.125,
           "Follower"
          ],
          [
           0.043939318507909775,
           0.07280635833740234,
           1.1252864599227905,
           "Follower"
          ],
          [
           0.01977355405688286,
           0.06936515867710114,
           1.124924659729004,
           "Follower"
          ],
          [
           0.055243901908397675,
           0.06513068079948425,
           1.125244140625,
           "Follower"
          ],
          [
           0.008269404992461205,
           0.027420785278081894,
           1.125237226486206,
           "Follower"
          ],
          [
           0.03338649496436119,
           0.05306902527809143,
           1.125302791595459,
           "Follower"
          ],
          [
           0.02598189003765583,
           0.06885674595832825,
           1.1251220703125,
           "Follower"
          ],
          [
           0.012320869602262974,
           0.0506630539894104,
           1.125244140625,
           "Follower"
          ],
          [
           0.03936506435275078,
           0.09052316099405289,
           1.1253106594085693,
           "Follower"
          ]
         ],
         "hovertemplate": "Rechit : %{customdata[3]}<br>Energy: %{customdata[0]:.2g} GeV<br>Rho: %{customdata[1]:.2g} GeV<br>Delta: %{customdata[2]:.2g} cmSize : %{marker.size}",
         "legendgroup": "rechits",
         "legendgrouptitle": {
          "text": "Rechits"
         },
         "marker": {
          "color": "#FECB52",
          "size": [
           10.837052345275879,
           7.414257526397705,
           10.599596977233887,
           14.817293167114258,
           4.9467644691467285,
           25,
           5.555909633636475,
           15.33219051361084,
           19.020143508911133,
           19.402957916259766,
           17.375873565673828,
           16.494911193847656,
           1,
           6.6078033447265625,
           2.462977409362793,
           5.6279988288879395,
           11.219983100891113,
           6.138556480407715,
           14.99548053741455,
           8.761857986450195,
           16.782882690429688,
           1.955837368965149,
           12.85122013092041,
           10.893597602844238,
           5.068745136260986,
           14.137248039245605
          ],
          "symbol": "circle"
         },
         "mode": "markers",
         "name": "2D cluster nb 16.0",
         "type": "scatter",
         "x": [
          3.808440923690796,
          3.808440923690796,
          3.808440923690796,
          3.889720916748047,
          2.9152426719665527,
          2.9152426719665527,
          2.9152426719665527,
          2.9152426719665527,
          2.9152426719665527,
          1.9407553672790527,
          1.9407553672790527,
          0.9663901329040527,
          0.9663901329040527,
          0.9663901329040527,
          0.9663901329040527,
          0.9663901329040527,
          -0.008219242095947266,
          -0.008219242095947266,
          -0.008219242095947266,
          -0.9823403358459473,
          -0.9823403358459473,
          5.838704586029053,
          5.838704586029053,
          4.864217281341553,
          4.864217281341553,
          4.864217281341553
         ],
         "y": [
          -2.643109083175659,
          -3.7683441638946533,
          0.7323882579803467,
          -0.3202517032623291,
          -3.133362054824829,
          1.367248296737671,
          0.2422482967376709,
          -0.8829958438873291,
          -2.008117914199829,
          1.930236577987671,
          -0.3202517032623291,
          1.367248296737671,
          0.2422482967376709,
          -0.8829958438873291,
          -2.008117914199829,
          -3.133362054824829,
          0.8047482967376709,
          -0.3202517032623291,
          -1.445495843887329,
          -2.008117914199829,
          -3.133362054824829,
          -2.570749044418335,
          -0.3202517032623291,
          -2.008117914199829,
          -3.133362054824829,
          -0.8829958438873291
         ]
        },
        {
         "hoverinfo": "skip",
         "legendgroup": "rechits_chain",
         "line": {
          "width": 1.696769775388853
         },
         "marker": {
          "angleref": "previous",
          "color": "#FECB52",
          "size": 10,
          "symbol": "arrow"
         },
         "mode": "markers+lines",
         "name": "Rechits chain",
         "showlegend": true,
         "type": "scatter",
         "x": [
          3.808440923690796,
          2.9152426719665527
         ],
         "y": [
          -2.643109083175659,
          -2.008117914199829
         ]
        },
        {
         "hoverinfo": "skip",
         "legendgroup": "rechits_chain",
         "line": {
          "width": 1
         },
         "marker": {
          "angleref": "previous",
          "color": "#FECB52",
          "size": 10,
          "symbol": "arrow"
         },
         "mode": "markers+lines",
         "name": "Rechits chain",
         "showlegend": false,
         "type": "scatter",
         "x": [
          3.808440923690796,
          2.9152426719665527
         ],
         "y": [
          -3.7683441638946533,
          -3.133362054824829
         ]
        },
        {
         "hoverinfo": "skip",
         "legendgroup": "rechits_chain",
         "line": {
          "width": 2.9300900652521618
         },
         "marker": {
          "angleref": "previous",
          "color": "#FECB52",
          "size": 10,
          "symbol": "arrow"
         },
         "mode": "markers+lines",
         "name": "Rechits chain",
         "showlegend": false,
         "type": "scatter",
         "x": [
          3.808440923690796,
          2.9152426719665527
         ],
         "y": [
          0.7323882579803467,
          0.2422482967376709
         ]
        },
        {
         "hoverinfo": "skip",
         "legendgroup": "rechits_chain",
         "line": {
          "width": 2.78668595250716
         },
         "marker": {
          "angleref": "previous",
          "color": "#FECB52",
          "size": 10,
          "symbol": "arrow"
         },
         "mode": "markers+lines",
         "name": "Rechits chain",
         "showlegend": false,
         "type": "scatter",
         "x": [
          3.889720916748047,
          3.808440923690796
         ],
         "y": [
          -0.3202517032623291,
          0.7323882579803467
         ]
        },
        {
         "hoverinfo": "skip",
         "legendgroup": "rechits_chain",
         "line": {
          "width": 1.0566979312033005
         },
         "marker": {
          "angleref": "previous",
          "color": "#FECB52",
          "size": 10,
          "symbol": "arrow"
         },
         "mode": "markers+lines",
         "name": "Rechits chain",
         "showlegend": false,
         "type": "scatter",
         "x": [
          2.9152426719665527,
          3.808440923690796
         ],
         "y": [
          -3.133362054824829,
          -2.643109083175659
         ]
        },
        {
         "hoverinfo": "skip",
         "legendgroup": "rechits_chain",
         "line": {
          "width": 4.07762072567951
         },
         "marker": {
          "angleref": "previous",
          "color": "#FECB52",
          "size": 10,
          "symbol": "arrow"
         },
         "mode": "markers+lines",
         "name": "Rechits chain",
         "showlegend": false,
         "type": "scatter",
         "x": [
          2.9152426719665527,
          2.9152426719665527
         ],
         "y": [
          0.2422482967376709,
          1.367248296737671
         ]
        },
        {
         "hoverinfo": "skip",
         "legendgroup": "rechits_chain",
         "line": {
          "width": 2.856559286061691
         },
         "marker": {
          "angleref": "previous",
          "color": "#FECB52",
          "size": 10,
          "symbol": "arrow"
         },
         "mode": "markers+lines",
         "name": "Rechits chain",
         "showlegend": false,
         "type": "scatter",
         "x": [
          2.9152426719665527,
          2.9152426719665527
         ],
         "y": [
          -0.8829958438873291,
          0.2422482967376709
         ]
        },
        {
         "hoverinfo": "skip",
         "legendgroup": "rechits_chain",
         "line": {
          "width": 2.5505355880627394
         },
         "marker": {
          "angleref": "previous",
          "color": "#FECB52",
          "size": 10,
          "symbol": "arrow"
         },
         "mode": "markers+lines",
         "name": "Rechits chain",
         "showlegend": false,
         "type": "scatter",
         "x": [
          2.9152426719665527,
          2.9152426719665527
         ],
         "y": [
          -2.008117914199829,
          -0.8829958438873291
         ]
        },
        {
         "hoverinfo": "skip",
         "legendgroup": "rechits_chain",
         "line": {
          "width": 2.8851118146598846
         },
         "marker": {
          "angleref": "previous",
          "color": "#FECB52",
          "size": 10,
          "symbol": "arrow"
         },
         "mode": "markers+lines",
         "name": "Rechits chain",
         "showlegend": false,
         "type": "scatter",
         "x": [
          1.9407553672790527,
          2.9152426719665527
         ],
         "y": [
          1.930236577987671,
          1.367248296737671
         ]
        },
        {
         "hoverinfo": "skip",
         "legendgroup": "rechits_chain",
         "line": {
          "width": 3.070961569719091
         },
         "marker": {
          "angleref": "previous",
          "color": "#FECB52",
          "size": 10,
          "symbol": "arrow"
         },
         "mode": "markers+lines",
         "name": "Rechits chain",
         "showlegend": false,
         "type": "scatter",
         "x": [
          1.9407553672790527,
          2.9152426719665527
         ],
         "y": [
          -0.3202517032623291,
          0.2422482967376709
         ]
        },
        {
         "hoverinfo": "skip",
         "legendgroup": "rechits_chain",
         "line": {
          "width": 2.3202409968426996
         },
         "marker": {
          "angleref": "previous",
          "color": "#FECB52",
          "size": 10,
          "symbol": "arrow"
         },
         "mode": "markers+lines",
         "name": "Rechits chain",
         "showlegend": false,
         "type": "scatter",
         "x": [
          0.9663901329040527,
          1.9407553672790527
         ],
         "y": [
          1.367248296737671,
          1.930236577987671
         ]
        },
        {
         "hoverinfo": "skip",
         "legendgroup": "rechits_chain",
         "line": {
          "width": 1
         },
         "marker": {
          "angleref": "previous",
          "color": "#FECB52",
          "size": 10,
          "symbol": "arrow"
         },
         "mode": "markers+lines",
         "name": "Rechits chain",
         "showlegend": false,
         "type": "scatter",
         "x": [
          0.9663901329040527,
          0.9663901329040527
         ],
         "y": [
          0.2422482967376709,
          1.367248296737671
         ]
        },
        {
         "hoverinfo": "skip",
         "legendgroup": "rechits_chain",
         "line": {
          "width": 2.7474169090436815
         },
         "marker": {
          "angleref": "previous",
          "color": "#FECB52",
          "size": 10,
          "symbol": "arrow"
         },
         "mode": "markers+lines",
         "name": "Rechits chain",
         "showlegend": false,
         "type": "scatter",
         "x": [
          0.9663901329040527,
          1.9407553672790527
         ],
         "y": [
          -0.8829958438873291,
          -0.3202517032623291
         ]
        },
        {
         "hoverinfo": "skip",
         "legendgroup": "rechits_chain",
         "line": {
          "width": 1
         },
         "marker": {
          "angleref": "previous",
          "color": "#FECB52",
          "size": 10,
          "symbol": "arrow"
         },
         "mode": "markers+lines",
         "name": "Rechits chain",
         "showlegend": false,
         "type": "scatter",
         "x": [
          0.9663901329040527,
          0.9663901329040527
         ],
         "y": [
          -2.008117914199829,
          -0.8829958438873291
         ]
        },
        {
         "hoverinfo": "skip",
         "legendgroup": "rechits_chain",
         "line": {
          "width": 1
         },
         "marker": {
          "angleref": "previous",
          "color": "#FECB52",
          "size": 10,
          "symbol": "arrow"
         },
         "mode": "markers+lines",
         "name": "Rechits chain",
         "showlegend": false,
         "type": "scatter",
         "x": [
          0.9663901329040527,
          0.9663901329040527
         ],
         "y": [
          -3.133362054824829,
          -2.008117914199829
         ]
        },
        {
         "hoverinfo": "skip",
         "legendgroup": "rechits_chain",
         "line": {
          "width": 1.4163749939557577
         },
         "marker": {
          "angleref": "previous",
          "color": "#FECB52",
          "size": 10,
          "symbol": "arrow"
         },
         "mode": "markers+lines",
         "name": "Rechits chain",
         "showlegend": false,
         "type": "scatter",
         "x": [
          -0.008219242095947266,
          0.9663901329040527
         ],
         "y": [
          0.8047482967376709,
          1.367248296737671
         ]
        },
        {
         "hoverinfo": "skip",
         "legendgroup": "rechits_chain",
         "line": {
          "width": 1
         },
         "marker": {
          "angleref": "previous",
          "color": "#FECB52",
          "size": 10,
          "symbol": "arrow"
         },
         "mode": "markers+lines",
         "name": "Rechits chain",
         "showlegend": false,
         "type": "scatter",
         "x": [
          -0.008219242095947266,
          -0.008219242095947266
         ],
         "y": [
          -0.3202517032623291,
          0.8047482967376709
         ]
        },
        {
         "hoverinfo": "skip",
         "legendgroup": "rechits_chain",
         "line": {
          "width": 2.4761750944088665
         },
         "marker": {
          "angleref": "previous",
          "color": "#FECB52",
          "size": 10,
          "symbol": "arrow"
         },
         "mode": "markers+lines",
         "name": "Rechits chain",
         "showlegend": false,
         "type": "scatter",
         "x": [
          -0.008219242095947266,
          0.9663901329040527
         ],
         "y": [
          -1.445495843887329,
          -0.8829958438873291
         ]
        },
        {
         "hoverinfo": "skip",
         "legendgroup": "rechits_chain",
         "line": {
          "width": 2.0151357396648093
         },
         "marker": {
          "angleref": "previous",
          "color": "#FECB52",
          "size": 10,
          "symbol": "arrow"
         },
         "mode": "markers+lines",
         "name": "Rechits chain",
         "showlegend": false,
         "type": "scatter",
         "x": [
          -0.9823403358459473,
          -0.008219242095947266
         ],
         "y": [
          -2.008117914199829,
          -1.445495843887329
         ]
        },
        {
         "hoverinfo": "skip",
         "legendgroup": "rechits_chain",
         "line": {
          "width": 1.7091728686136174
         },
         "marker": {
          "angleref": "previous",
          "color": "#FECB52",
          "size": 10,
          "symbol": "arrow"
         },
         "mode": "markers+lines",
         "name": "Rechits chain",
         "showlegend": false,
         "type": "scatter",
         "x": [
          -0.9823403358459473,
          -0.9823403358459473
         ],
         "y": [
          -3.133362054824829,
          -2.008117914199829
         ]
        },
        {
         "hoverinfo": "skip",
         "legendgroup": "rechits_chain",
         "line": {
          "width": 1
         },
         "marker": {
          "angleref": "previous",
          "color": "#FECB52",
          "size": 10,
          "symbol": "arrow"
         },
         "mode": "markers+lines",
         "name": "Rechits chain",
         "showlegend": false,
         "type": "scatter",
         "x": [
          5.838704586029053,
          4.864217281341553
         ],
         "y": [
          -2.570749044418335,
          -3.133362054824829
         ]
        },
        {
         "hoverinfo": "skip",
         "legendgroup": "rechits_chain",
         "line": {
          "width": 1.2055663828357892
         },
         "marker": {
          "angleref": "previous",
          "color": "#FECB52",
          "size": 10,
          "symbol": "arrow"
         },
         "mode": "markers+lines",
         "name": "Rechits chain",
         "showlegend": false,
         "type": "scatter",
         "x": [
          5.838704586029053,
          4.864217281341553
         ],
         "y": [
          -0.3202517032623291,
          -0.8829958438873291
         ]
        },
        {
         "hoverinfo": "skip",
         "legendgroup": "rechits_chain",
         "line": {
          "width": 1.538417944182206
         },
         "marker": {
          "angleref": "previous",
          "color": "#FECB52",
          "size": 10,
          "symbol": "arrow"
         },
         "mode": "markers+lines",
         "name": "Rechits chain",
         "showlegend": false,
         "type": "scatter",
         "x": [
          4.864217281341553,
          4.864217281341553
         ],
         "y": [
          -2.008117914199829,
          -0.8829958438873291
         ]
        },
        {
         "hoverinfo": "skip",
         "legendgroup": "rechits_chain",
         "line": {
          "width": 1
         },
         "marker": {
          "angleref": "previous",
          "color": "#FECB52",
          "size": 10,
          "symbol": "arrow"
         },
         "mode": "markers+lines",
         "name": "Rechits chain",
         "showlegend": false,
         "type": "scatter",
         "x": [
          4.864217281341553,
          4.864217281341553
         ],
         "y": [
          -3.133362054824829,
          -2.008117914199829
         ]
        },
        {
         "hoverinfo": "skip",
         "legendgroup": "rechits_chain",
         "line": {
          "width": 2.4792550759332714
         },
         "marker": {
          "angleref": "previous",
          "color": "#FECB52",
          "size": 10,
          "symbol": "arrow"
         },
         "mode": "markers+lines",
         "name": "Rechits chain",
         "showlegend": false,
         "type": "scatter",
         "x": [
          4.864217281341553,
          3.889720916748047
         ],
         "y": [
          -0.8829958438873291,
          -0.3202517032623291
         ]
        },
        {
         "hoverinfo": "skip",
         "marker": {
          "color": "black",
          "size": 8,
          "symbol": "x"
         },
         "mode": "markers",
         "name": "Impact from DWC",
         "type": "scatter",
         "x": [
          3.1896591186523438
         ],
         "y": [
          -1.0161893367767334
         ]
        }
       ],
       "layout": {
        "autosize": true,
        "shapes": [
         {
          "type": "circle",
          "x0": 1.615242649958684,
          "x1": 4.215242693974421,
          "xref": "x",
          "y0": 0.06724827472980222,
          "y1": 2.6672483187455396,
          "yref": "y"
         }
        ],
        "template": {
         "data": {
          "bar": [
           {
            "error_x": {
             "color": "#2a3f5f"
            },
            "error_y": {
             "color": "#2a3f5f"
            },
            "marker": {
             "line": {
              "color": "#E5ECF6",
              "width": 0.5
             },
             "pattern": {
              "fillmode": "overlay",
              "size": 10,
              "solidity": 0.2
             }
            },
            "type": "bar"
           }
          ],
          "barpolar": [
           {
            "marker": {
             "line": {
              "color": "#E5ECF6",
              "width": 0.5
             },
             "pattern": {
              "fillmode": "overlay",
              "size": 10,
              "solidity": 0.2
             }
            },
            "type": "barpolar"
           }
          ],
          "carpet": [
           {
            "aaxis": {
             "endlinecolor": "#2a3f5f",
             "gridcolor": "white",
             "linecolor": "white",
             "minorgridcolor": "white",
             "startlinecolor": "#2a3f5f"
            },
            "baxis": {
             "endlinecolor": "#2a3f5f",
             "gridcolor": "white",
             "linecolor": "white",
             "minorgridcolor": "white",
             "startlinecolor": "#2a3f5f"
            },
            "type": "carpet"
           }
          ],
          "choropleth": [
           {
            "colorbar": {
             "outlinewidth": 0,
             "ticks": ""
            },
            "type": "choropleth"
           }
          ],
          "contour": [
           {
            "colorbar": {
             "outlinewidth": 0,
             "ticks": ""
            },
            "colorscale": [
             [
              0,
              "#0d0887"
             ],
             [
              0.1111111111111111,
              "#46039f"
             ],
             [
              0.2222222222222222,
              "#7201a8"
             ],
             [
              0.3333333333333333,
              "#9c179e"
             ],
             [
              0.4444444444444444,
              "#bd3786"
             ],
             [
              0.5555555555555556,
              "#d8576b"
             ],
             [
              0.6666666666666666,
              "#ed7953"
             ],
             [
              0.7777777777777778,
              "#fb9f3a"
             ],
             [
              0.8888888888888888,
              "#fdca26"
             ],
             [
              1,
              "#f0f921"
             ]
            ],
            "type": "contour"
           }
          ],
          "contourcarpet": [
           {
            "colorbar": {
             "outlinewidth": 0,
             "ticks": ""
            },
            "type": "contourcarpet"
           }
          ],
          "heatmap": [
           {
            "colorbar": {
             "outlinewidth": 0,
             "ticks": ""
            },
            "colorscale": [
             [
              0,
              "#0d0887"
             ],
             [
              0.1111111111111111,
              "#46039f"
             ],
             [
              0.2222222222222222,
              "#7201a8"
             ],
             [
              0.3333333333333333,
              "#9c179e"
             ],
             [
              0.4444444444444444,
              "#bd3786"
             ],
             [
              0.5555555555555556,
              "#d8576b"
             ],
             [
              0.6666666666666666,
              "#ed7953"
             ],
             [
              0.7777777777777778,
              "#fb9f3a"
             ],
             [
              0.8888888888888888,
              "#fdca26"
             ],
             [
              1,
              "#f0f921"
             ]
            ],
            "type": "heatmap"
           }
          ],
          "heatmapgl": [
           {
            "colorbar": {
             "outlinewidth": 0,
             "ticks": ""
            },
            "colorscale": [
             [
              0,
              "#0d0887"
             ],
             [
              0.1111111111111111,
              "#46039f"
             ],
             [
              0.2222222222222222,
              "#7201a8"
             ],
             [
              0.3333333333333333,
              "#9c179e"
             ],
             [
              0.4444444444444444,
              "#bd3786"
             ],
             [
              0.5555555555555556,
              "#d8576b"
             ],
             [
              0.6666666666666666,
              "#ed7953"
             ],
             [
              0.7777777777777778,
              "#fb9f3a"
             ],
             [
              0.8888888888888888,
              "#fdca26"
             ],
             [
              1,
              "#f0f921"
             ]
            ],
            "type": "heatmapgl"
           }
          ],
          "histogram": [
           {
            "marker": {
             "pattern": {
              "fillmode": "overlay",
              "size": 10,
              "solidity": 0.2
             }
            },
            "type": "histogram"
           }
          ],
          "histogram2d": [
           {
            "colorbar": {
             "outlinewidth": 0,
             "ticks": ""
            },
            "colorscale": [
             [
              0,
              "#0d0887"
             ],
             [
              0.1111111111111111,
              "#46039f"
             ],
             [
              0.2222222222222222,
              "#7201a8"
             ],
             [
              0.3333333333333333,
              "#9c179e"
             ],
             [
              0.4444444444444444,
              "#bd3786"
             ],
             [
              0.5555555555555556,
              "#d8576b"
             ],
             [
              0.6666666666666666,
              "#ed7953"
             ],
             [
              0.7777777777777778,
              "#fb9f3a"
             ],
             [
              0.8888888888888888,
              "#fdca26"
             ],
             [
              1,
              "#f0f921"
             ]
            ],
            "type": "histogram2d"
           }
          ],
          "histogram2dcontour": [
           {
            "colorbar": {
             "outlinewidth": 0,
             "ticks": ""
            },
            "colorscale": [
             [
              0,
              "#0d0887"
             ],
             [
              0.1111111111111111,
              "#46039f"
             ],
             [
              0.2222222222222222,
              "#7201a8"
             ],
             [
              0.3333333333333333,
              "#9c179e"
             ],
             [
              0.4444444444444444,
              "#bd3786"
             ],
             [
              0.5555555555555556,
              "#d8576b"
             ],
             [
              0.6666666666666666,
              "#ed7953"
             ],
             [
              0.7777777777777778,
              "#fb9f3a"
             ],
             [
              0.8888888888888888,
              "#fdca26"
             ],
             [
              1,
              "#f0f921"
             ]
            ],
            "type": "histogram2dcontour"
           }
          ],
          "mesh3d": [
           {
            "colorbar": {
             "outlinewidth": 0,
             "ticks": ""
            },
            "type": "mesh3d"
           }
          ],
          "parcoords": [
           {
            "line": {
             "colorbar": {
              "outlinewidth": 0,
              "ticks": ""
             }
            },
            "type": "parcoords"
           }
          ],
          "pie": [
           {
            "automargin": true,
            "type": "pie"
           }
          ],
          "scatter": [
           {
            "fillpattern": {
             "fillmode": "overlay",
             "size": 10,
             "solidity": 0.2
            },
            "type": "scatter"
           }
          ],
          "scatter3d": [
           {
            "line": {
             "colorbar": {
              "outlinewidth": 0,
              "ticks": ""
             }
            },
            "marker": {
             "colorbar": {
              "outlinewidth": 0,
              "ticks": ""
             }
            },
            "type": "scatter3d"
           }
          ],
          "scattercarpet": [
           {
            "marker": {
             "colorbar": {
              "outlinewidth": 0,
              "ticks": ""
             }
            },
            "type": "scattercarpet"
           }
          ],
          "scattergeo": [
           {
            "marker": {
             "colorbar": {
              "outlinewidth": 0,
              "ticks": ""
             }
            },
            "type": "scattergeo"
           }
          ],
          "scattergl": [
           {
            "marker": {
             "colorbar": {
              "outlinewidth": 0,
              "ticks": ""
             }
            },
            "type": "scattergl"
           }
          ],
          "scattermapbox": [
           {
            "marker": {
             "colorbar": {
              "outlinewidth": 0,
              "ticks": ""
             }
            },
            "type": "scattermapbox"
           }
          ],
          "scatterpolar": [
           {
            "marker": {
             "colorbar": {
              "outlinewidth": 0,
              "ticks": ""
             }
            },
            "type": "scatterpolar"
           }
          ],
          "scatterpolargl": [
           {
            "marker": {
             "colorbar": {
              "outlinewidth": 0,
              "ticks": ""
             }
            },
            "type": "scatterpolargl"
           }
          ],
          "scatterternary": [
           {
            "marker": {
             "colorbar": {
              "outlinewidth": 0,
              "ticks": ""
             }
            },
            "type": "scatterternary"
           }
          ],
          "surface": [
           {
            "colorbar": {
             "outlinewidth": 0,
             "ticks": ""
            },
            "colorscale": [
             [
              0,
              "#0d0887"
             ],
             [
              0.1111111111111111,
              "#46039f"
             ],
             [
              0.2222222222222222,
              "#7201a8"
             ],
             [
              0.3333333333333333,
              "#9c179e"
             ],
             [
              0.4444444444444444,
              "#bd3786"
             ],
             [
              0.5555555555555556,
              "#d8576b"
             ],
             [
              0.6666666666666666,
              "#ed7953"
             ],
             [
              0.7777777777777778,
              "#fb9f3a"
             ],
             [
              0.8888888888888888,
              "#fdca26"
             ],
             [
              1,
              "#f0f921"
             ]
            ],
            "type": "surface"
           }
          ],
          "table": [
           {
            "cells": {
             "fill": {
              "color": "#EBF0F8"
             },
             "line": {
              "color": "white"
             }
            },
            "header": {
             "fill": {
              "color": "#C8D4E3"
             },
             "line": {
              "color": "white"
             }
            },
            "type": "table"
           }
          ]
         },
         "layout": {
          "annotationdefaults": {
           "arrowcolor": "#2a3f5f",
           "arrowhead": 0,
           "arrowwidth": 1
          },
          "autotypenumbers": "strict",
          "coloraxis": {
           "colorbar": {
            "outlinewidth": 0,
            "ticks": ""
           }
          },
          "colorscale": {
           "diverging": [
            [
             0,
             "#8e0152"
            ],
            [
             0.1,
             "#c51b7d"
            ],
            [
             0.2,
             "#de77ae"
            ],
            [
             0.3,
             "#f1b6da"
            ],
            [
             0.4,
             "#fde0ef"
            ],
            [
             0.5,
             "#f7f7f7"
            ],
            [
             0.6,
             "#e6f5d0"
            ],
            [
             0.7,
             "#b8e186"
            ],
            [
             0.8,
             "#7fbc41"
            ],
            [
             0.9,
             "#4d9221"
            ],
            [
             1,
             "#276419"
            ]
           ],
           "sequential": [
            [
             0,
             "#0d0887"
            ],
            [
             0.1111111111111111,
             "#46039f"
            ],
            [
             0.2222222222222222,
             "#7201a8"
            ],
            [
             0.3333333333333333,
             "#9c179e"
            ],
            [
             0.4444444444444444,
             "#bd3786"
            ],
            [
             0.5555555555555556,
             "#d8576b"
            ],
            [
             0.6666666666666666,
             "#ed7953"
            ],
            [
             0.7777777777777778,
             "#fb9f3a"
            ],
            [
             0.8888888888888888,
             "#fdca26"
            ],
            [
             1,
             "#f0f921"
            ]
           ],
           "sequentialminus": [
            [
             0,
             "#0d0887"
            ],
            [
             0.1111111111111111,
             "#46039f"
            ],
            [
             0.2222222222222222,
             "#7201a8"
            ],
            [
             0.3333333333333333,
             "#9c179e"
            ],
            [
             0.4444444444444444,
             "#bd3786"
            ],
            [
             0.5555555555555556,
             "#d8576b"
            ],
            [
             0.6666666666666666,
             "#ed7953"
            ],
            [
             0.7777777777777778,
             "#fb9f3a"
            ],
            [
             0.8888888888888888,
             "#fdca26"
            ],
            [
             1,
             "#f0f921"
            ]
           ]
          },
          "colorway": [
           "#636efa",
           "#EF553B",
           "#00cc96",
           "#ab63fa",
           "#FFA15A",
           "#19d3f3",
           "#FF6692",
           "#B6E880",
           "#FF97FF",
           "#FECB52"
          ],
          "font": {
           "color": "#2a3f5f"
          },
          "geo": {
           "bgcolor": "white",
           "lakecolor": "white",
           "landcolor": "#E5ECF6",
           "showlakes": true,
           "showland": true,
           "subunitcolor": "white"
          },
          "hoverlabel": {
           "align": "left"
          },
          "hovermode": "closest",
          "mapbox": {
           "style": "light"
          },
          "paper_bgcolor": "white",
          "plot_bgcolor": "#E5ECF6",
          "polar": {
           "angularaxis": {
            "gridcolor": "white",
            "linecolor": "white",
            "ticks": ""
           },
           "bgcolor": "#E5ECF6",
           "radialaxis": {
            "gridcolor": "white",
            "linecolor": "white",
            "ticks": ""
           }
          },
          "scene": {
           "xaxis": {
            "backgroundcolor": "#E5ECF6",
            "gridcolor": "white",
            "gridwidth": 2,
            "linecolor": "white",
            "showbackground": true,
            "ticks": "",
            "zerolinecolor": "white"
           },
           "yaxis": {
            "backgroundcolor": "#E5ECF6",
            "gridcolor": "white",
            "gridwidth": 2,
            "linecolor": "white",
            "showbackground": true,
            "ticks": "",
            "zerolinecolor": "white"
           },
           "zaxis": {
            "backgroundcolor": "#E5ECF6",
            "gridcolor": "white",
            "gridwidth": 2,
            "linecolor": "white",
            "showbackground": true,
            "ticks": "",
            "zerolinecolor": "white"
           }
          },
          "shapedefaults": {
           "line": {
            "color": "#2a3f5f"
           }
          },
          "ternary": {
           "aaxis": {
            "gridcolor": "white",
            "linecolor": "white",
            "ticks": ""
           },
           "baxis": {
            "gridcolor": "white",
            "linecolor": "white",
            "ticks": ""
           },
           "bgcolor": "#E5ECF6",
           "caxis": {
            "gridcolor": "white",
            "linecolor": "white",
            "ticks": ""
           }
          },
          "title": {
           "x": 0.05
          },
          "xaxis": {
           "automargin": true,
           "gridcolor": "white",
           "linecolor": "white",
           "ticks": "",
           "title": {
            "standoff": 15
           },
           "zerolinecolor": "white",
           "zerolinewidth": 2
          },
          "yaxis": {
           "automargin": true,
           "gridcolor": "white",
           "linecolor": "white",
           "ticks": "",
           "title": {
            "standoff": 15
           },
           "zerolinecolor": "white",
           "zerolinewidth": 2
          }
         }
        },
        "title": {
         "text": "Layer 13 view"
        },
        "yaxis": {
         "scaleanchor": "x",
         "scaleratio": 1
        }
       }
      },
      "text/html": [
       "<div>                            <div id=\"adc1533d-1d4a-4f0d-8d58-1a90fe59c451\" class=\"plotly-graph-div\" style=\"height:525px; width:100%;\"></div>            <script type=\"text/javascript\">                require([\"plotly\"], function(Plotly) {                    window.PLOTLYENV=window.PLOTLYENV || {};                                    if (document.getElementById(\"adc1533d-1d4a-4f0d-8d58-1a90fe59c451\")) {                    Plotly.newPlot(                        \"adc1533d-1d4a-4f0d-8d58-1a90fe59c451\",                        [{\"customdata\":[[0.9273725152015686,0.9682412147521973,2.2502763271331787,\"Seed\"]],\"hovertemplate\":\"2D cluster : %{customdata[3]}<br>Energy: %{customdata[0]:.2g} GeV<br>Rho: %{customdata[1]:.2g} GeV<br>Delta: %{customdata[2]:.2g} cm<br>Size: %{marker.size}\",\"legendgroup\":\"cluster2D\",\"legendgrouptitle\":{\"text\":\"2D clusters\"},\"marker\":{\"color\":[\"#FECB52\"],\"line\":{\"color\":\"#EF553B\",\"width\":3.0},\"size\":[26],\"symbol\":\"circle\"},\"mode\":\"markers\",\"name\":\"Trackster nb 1.0\",\"x\":[2.653810501098633],\"y\":[1.5182846784591675],\"type\":\"scatter\"},{\"customdata\":[[0.02579438127577305,0.09611839801073074,1.0959091186523438,\"Follower\"],[0.01663869619369507,0.04176124930381775,1.0959038734436035,\"Follower\"],[0.025021642446517944,0.13218648731708527,1.0188425779342651,\"Follower\"],[0.04294780641794205,0.10463618487119675,1.055773377418518,\"Follower\"],[0.012129860930144787,0.07013475894927979,1.0188969373703003,\"Follower\"],[0.15826770663261414,0.21597284078598022,3.4028234663852886e+38,\"Seed\"],[0.013114198110997677,0.17897245287895203,1.125,\"Follower\"],[0.045875851064920425,0.14049693942070007,1.125244140625,\"Follower\"],[0.07357671111822128,0.11547675728797913,1.1251220703125,\"Follower\"],[0.07727442681789398,0.1830299198627472,1.1254249811172485,\"Follower\"],[0.0596034899353981,0.10025962442159653,1.125180721282959,\"Follower\"],[0.053243283182382584,0.10908430069684982,1.125319242477417,\"Follower\"],[0.007316480856388807,0.09185348451137543,1.125,\"Follower\"],[0.015005734749138355,0.08191277831792831,1.125197172164917,\"Follower\"],[0.008824411779642105,0.044914864003658295,1.1251220703125,\"Follower\"],[0.013235855847597122,0.017648061737418175,1.125244140625,\"Follower\"],[0.02709112875163555,0.06443619728088379,1.1252864599227905,\"Follower\"],[0.014130376279354095,0.06080671027302742,1.125,\"Follower\"],[0.043939318507909775,0.07280635833740234,1.1252864599227905,\"Follower\"],[0.01977355405688286,0.06936515867710114,1.124924659729004,\"Follower\"],[0.055243901908397675,0.06513068079948425,1.125244140625,\"Follower\"],[0.008269404992461205,0.027420785278081894,1.125237226486206,\"Follower\"],[0.03338649496436119,0.05306902527809143,1.125302791595459,\"Follower\"],[0.02598189003765583,0.06885674595832825,1.1251220703125,\"Follower\"],[0.012320869602262974,0.0506630539894104,1.125244140625,\"Follower\"],[0.03936506435275078,0.09052316099405289,1.1253106594085693,\"Follower\"]],\"hovertemplate\":\"Rechit : %{customdata[3]}<br>Energy: %{customdata[0]:.2g} GeV<br>Rho: %{customdata[1]:.2g} GeV<br>Delta: %{customdata[2]:.2g} cmSize : %{marker.size}\",\"legendgroup\":\"rechits\",\"legendgrouptitle\":{\"text\":\"Rechits\"},\"marker\":{\"color\":\"#FECB52\",\"size\":[10.837052345275879,7.414257526397705,10.599596977233887,14.817293167114258,4.9467644691467285,25.0,5.555909633636475,15.33219051361084,19.020143508911133,19.402957916259766,17.375873565673828,16.494911193847656,1.0,6.6078033447265625,2.462977409362793,5.6279988288879395,11.219983100891113,6.138556480407715,14.99548053741455,8.761857986450195,16.782882690429688,1.955837368965149,12.85122013092041,10.893597602844238,5.068745136260986,14.137248039245605],\"symbol\":\"circle\"},\"mode\":\"markers\",\"name\":\"2D cluster nb 16.0\",\"x\":[3.808440923690796,3.808440923690796,3.808440923690796,3.889720916748047,2.9152426719665527,2.9152426719665527,2.9152426719665527,2.9152426719665527,2.9152426719665527,1.9407553672790527,1.9407553672790527,0.9663901329040527,0.9663901329040527,0.9663901329040527,0.9663901329040527,0.9663901329040527,-0.008219242095947266,-0.008219242095947266,-0.008219242095947266,-0.9823403358459473,-0.9823403358459473,5.838704586029053,5.838704586029053,4.864217281341553,4.864217281341553,4.864217281341553],\"y\":[-2.643109083175659,-3.7683441638946533,0.7323882579803467,-0.3202517032623291,-3.133362054824829,1.367248296737671,0.2422482967376709,-0.8829958438873291,-2.008117914199829,1.930236577987671,-0.3202517032623291,1.367248296737671,0.2422482967376709,-0.8829958438873291,-2.008117914199829,-3.133362054824829,0.8047482967376709,-0.3202517032623291,-1.445495843887329,-2.008117914199829,-3.133362054824829,-2.570749044418335,-0.3202517032623291,-2.008117914199829,-3.133362054824829,-0.8829958438873291],\"type\":\"scatter\"},{\"hoverinfo\":\"skip\",\"legendgroup\":\"rechits_chain\",\"line\":{\"width\":1.696769775388853},\"marker\":{\"angleref\":\"previous\",\"color\":\"#FECB52\",\"size\":10,\"symbol\":\"arrow\"},\"mode\":\"markers+lines\",\"name\":\"Rechits chain\",\"showlegend\":true,\"x\":[3.808440923690796,2.9152426719665527],\"y\":[-2.643109083175659,-2.008117914199829],\"type\":\"scatter\"},{\"hoverinfo\":\"skip\",\"legendgroup\":\"rechits_chain\",\"line\":{\"width\":1},\"marker\":{\"angleref\":\"previous\",\"color\":\"#FECB52\",\"size\":10,\"symbol\":\"arrow\"},\"mode\":\"markers+lines\",\"name\":\"Rechits chain\",\"showlegend\":false,\"x\":[3.808440923690796,2.9152426719665527],\"y\":[-3.7683441638946533,-3.133362054824829],\"type\":\"scatter\"},{\"hoverinfo\":\"skip\",\"legendgroup\":\"rechits_chain\",\"line\":{\"width\":2.9300900652521618},\"marker\":{\"angleref\":\"previous\",\"color\":\"#FECB52\",\"size\":10,\"symbol\":\"arrow\"},\"mode\":\"markers+lines\",\"name\":\"Rechits chain\",\"showlegend\":false,\"x\":[3.808440923690796,2.9152426719665527],\"y\":[0.7323882579803467,0.2422482967376709],\"type\":\"scatter\"},{\"hoverinfo\":\"skip\",\"legendgroup\":\"rechits_chain\",\"line\":{\"width\":2.78668595250716},\"marker\":{\"angleref\":\"previous\",\"color\":\"#FECB52\",\"size\":10,\"symbol\":\"arrow\"},\"mode\":\"markers+lines\",\"name\":\"Rechits chain\",\"showlegend\":false,\"x\":[3.889720916748047,3.808440923690796],\"y\":[-0.3202517032623291,0.7323882579803467],\"type\":\"scatter\"},{\"hoverinfo\":\"skip\",\"legendgroup\":\"rechits_chain\",\"line\":{\"width\":1.0566979312033005},\"marker\":{\"angleref\":\"previous\",\"color\":\"#FECB52\",\"size\":10,\"symbol\":\"arrow\"},\"mode\":\"markers+lines\",\"name\":\"Rechits chain\",\"showlegend\":false,\"x\":[2.9152426719665527,3.808440923690796],\"y\":[-3.133362054824829,-2.643109083175659],\"type\":\"scatter\"},{\"hoverinfo\":\"skip\",\"legendgroup\":\"rechits_chain\",\"line\":{\"width\":4.07762072567951},\"marker\":{\"angleref\":\"previous\",\"color\":\"#FECB52\",\"size\":10,\"symbol\":\"arrow\"},\"mode\":\"markers+lines\",\"name\":\"Rechits chain\",\"showlegend\":false,\"x\":[2.9152426719665527,2.9152426719665527],\"y\":[0.2422482967376709,1.367248296737671],\"type\":\"scatter\"},{\"hoverinfo\":\"skip\",\"legendgroup\":\"rechits_chain\",\"line\":{\"width\":2.856559286061691},\"marker\":{\"angleref\":\"previous\",\"color\":\"#FECB52\",\"size\":10,\"symbol\":\"arrow\"},\"mode\":\"markers+lines\",\"name\":\"Rechits chain\",\"showlegend\":false,\"x\":[2.9152426719665527,2.9152426719665527],\"y\":[-0.8829958438873291,0.2422482967376709],\"type\":\"scatter\"},{\"hoverinfo\":\"skip\",\"legendgroup\":\"rechits_chain\",\"line\":{\"width\":2.5505355880627394},\"marker\":{\"angleref\":\"previous\",\"color\":\"#FECB52\",\"size\":10,\"symbol\":\"arrow\"},\"mode\":\"markers+lines\",\"name\":\"Rechits chain\",\"showlegend\":false,\"x\":[2.9152426719665527,2.9152426719665527],\"y\":[-2.008117914199829,-0.8829958438873291],\"type\":\"scatter\"},{\"hoverinfo\":\"skip\",\"legendgroup\":\"rechits_chain\",\"line\":{\"width\":2.8851118146598846},\"marker\":{\"angleref\":\"previous\",\"color\":\"#FECB52\",\"size\":10,\"symbol\":\"arrow\"},\"mode\":\"markers+lines\",\"name\":\"Rechits chain\",\"showlegend\":false,\"x\":[1.9407553672790527,2.9152426719665527],\"y\":[1.930236577987671,1.367248296737671],\"type\":\"scatter\"},{\"hoverinfo\":\"skip\",\"legendgroup\":\"rechits_chain\",\"line\":{\"width\":3.070961569719091},\"marker\":{\"angleref\":\"previous\",\"color\":\"#FECB52\",\"size\":10,\"symbol\":\"arrow\"},\"mode\":\"markers+lines\",\"name\":\"Rechits chain\",\"showlegend\":false,\"x\":[1.9407553672790527,2.9152426719665527],\"y\":[-0.3202517032623291,0.2422482967376709],\"type\":\"scatter\"},{\"hoverinfo\":\"skip\",\"legendgroup\":\"rechits_chain\",\"line\":{\"width\":2.3202409968426996},\"marker\":{\"angleref\":\"previous\",\"color\":\"#FECB52\",\"size\":10,\"symbol\":\"arrow\"},\"mode\":\"markers+lines\",\"name\":\"Rechits chain\",\"showlegend\":false,\"x\":[0.9663901329040527,1.9407553672790527],\"y\":[1.367248296737671,1.930236577987671],\"type\":\"scatter\"},{\"hoverinfo\":\"skip\",\"legendgroup\":\"rechits_chain\",\"line\":{\"width\":1},\"marker\":{\"angleref\":\"previous\",\"color\":\"#FECB52\",\"size\":10,\"symbol\":\"arrow\"},\"mode\":\"markers+lines\",\"name\":\"Rechits chain\",\"showlegend\":false,\"x\":[0.9663901329040527,0.9663901329040527],\"y\":[0.2422482967376709,1.367248296737671],\"type\":\"scatter\"},{\"hoverinfo\":\"skip\",\"legendgroup\":\"rechits_chain\",\"line\":{\"width\":2.7474169090436815},\"marker\":{\"angleref\":\"previous\",\"color\":\"#FECB52\",\"size\":10,\"symbol\":\"arrow\"},\"mode\":\"markers+lines\",\"name\":\"Rechits chain\",\"showlegend\":false,\"x\":[0.9663901329040527,1.9407553672790527],\"y\":[-0.8829958438873291,-0.3202517032623291],\"type\":\"scatter\"},{\"hoverinfo\":\"skip\",\"legendgroup\":\"rechits_chain\",\"line\":{\"width\":1},\"marker\":{\"angleref\":\"previous\",\"color\":\"#FECB52\",\"size\":10,\"symbol\":\"arrow\"},\"mode\":\"markers+lines\",\"name\":\"Rechits chain\",\"showlegend\":false,\"x\":[0.9663901329040527,0.9663901329040527],\"y\":[-2.008117914199829,-0.8829958438873291],\"type\":\"scatter\"},{\"hoverinfo\":\"skip\",\"legendgroup\":\"rechits_chain\",\"line\":{\"width\":1},\"marker\":{\"angleref\":\"previous\",\"color\":\"#FECB52\",\"size\":10,\"symbol\":\"arrow\"},\"mode\":\"markers+lines\",\"name\":\"Rechits chain\",\"showlegend\":false,\"x\":[0.9663901329040527,0.9663901329040527],\"y\":[-3.133362054824829,-2.008117914199829],\"type\":\"scatter\"},{\"hoverinfo\":\"skip\",\"legendgroup\":\"rechits_chain\",\"line\":{\"width\":1.4163749939557577},\"marker\":{\"angleref\":\"previous\",\"color\":\"#FECB52\",\"size\":10,\"symbol\":\"arrow\"},\"mode\":\"markers+lines\",\"name\":\"Rechits chain\",\"showlegend\":false,\"x\":[-0.008219242095947266,0.9663901329040527],\"y\":[0.8047482967376709,1.367248296737671],\"type\":\"scatter\"},{\"hoverinfo\":\"skip\",\"legendgroup\":\"rechits_chain\",\"line\":{\"width\":1},\"marker\":{\"angleref\":\"previous\",\"color\":\"#FECB52\",\"size\":10,\"symbol\":\"arrow\"},\"mode\":\"markers+lines\",\"name\":\"Rechits chain\",\"showlegend\":false,\"x\":[-0.008219242095947266,-0.008219242095947266],\"y\":[-0.3202517032623291,0.8047482967376709],\"type\":\"scatter\"},{\"hoverinfo\":\"skip\",\"legendgroup\":\"rechits_chain\",\"line\":{\"width\":2.4761750944088665},\"marker\":{\"angleref\":\"previous\",\"color\":\"#FECB52\",\"size\":10,\"symbol\":\"arrow\"},\"mode\":\"markers+lines\",\"name\":\"Rechits chain\",\"showlegend\":false,\"x\":[-0.008219242095947266,0.9663901329040527],\"y\":[-1.445495843887329,-0.8829958438873291],\"type\":\"scatter\"},{\"hoverinfo\":\"skip\",\"legendgroup\":\"rechits_chain\",\"line\":{\"width\":2.0151357396648093},\"marker\":{\"angleref\":\"previous\",\"color\":\"#FECB52\",\"size\":10,\"symbol\":\"arrow\"},\"mode\":\"markers+lines\",\"name\":\"Rechits chain\",\"showlegend\":false,\"x\":[-0.9823403358459473,-0.008219242095947266],\"y\":[-2.008117914199829,-1.445495843887329],\"type\":\"scatter\"},{\"hoverinfo\":\"skip\",\"legendgroup\":\"rechits_chain\",\"line\":{\"width\":1.7091728686136174},\"marker\":{\"angleref\":\"previous\",\"color\":\"#FECB52\",\"size\":10,\"symbol\":\"arrow\"},\"mode\":\"markers+lines\",\"name\":\"Rechits chain\",\"showlegend\":false,\"x\":[-0.9823403358459473,-0.9823403358459473],\"y\":[-3.133362054824829,-2.008117914199829],\"type\":\"scatter\"},{\"hoverinfo\":\"skip\",\"legendgroup\":\"rechits_chain\",\"line\":{\"width\":1},\"marker\":{\"angleref\":\"previous\",\"color\":\"#FECB52\",\"size\":10,\"symbol\":\"arrow\"},\"mode\":\"markers+lines\",\"name\":\"Rechits chain\",\"showlegend\":false,\"x\":[5.838704586029053,4.864217281341553],\"y\":[-2.570749044418335,-3.133362054824829],\"type\":\"scatter\"},{\"hoverinfo\":\"skip\",\"legendgroup\":\"rechits_chain\",\"line\":{\"width\":1.2055663828357892},\"marker\":{\"angleref\":\"previous\",\"color\":\"#FECB52\",\"size\":10,\"symbol\":\"arrow\"},\"mode\":\"markers+lines\",\"name\":\"Rechits chain\",\"showlegend\":false,\"x\":[5.838704586029053,4.864217281341553],\"y\":[-0.3202517032623291,-0.8829958438873291],\"type\":\"scatter\"},{\"hoverinfo\":\"skip\",\"legendgroup\":\"rechits_chain\",\"line\":{\"width\":1.538417944182206},\"marker\":{\"angleref\":\"previous\",\"color\":\"#FECB52\",\"size\":10,\"symbol\":\"arrow\"},\"mode\":\"markers+lines\",\"name\":\"Rechits chain\",\"showlegend\":false,\"x\":[4.864217281341553,4.864217281341553],\"y\":[-2.008117914199829,-0.8829958438873291],\"type\":\"scatter\"},{\"hoverinfo\":\"skip\",\"legendgroup\":\"rechits_chain\",\"line\":{\"width\":1},\"marker\":{\"angleref\":\"previous\",\"color\":\"#FECB52\",\"size\":10,\"symbol\":\"arrow\"},\"mode\":\"markers+lines\",\"name\":\"Rechits chain\",\"showlegend\":false,\"x\":[4.864217281341553,4.864217281341553],\"y\":[-3.133362054824829,-2.008117914199829],\"type\":\"scatter\"},{\"hoverinfo\":\"skip\",\"legendgroup\":\"rechits_chain\",\"line\":{\"width\":2.4792550759332714},\"marker\":{\"angleref\":\"previous\",\"color\":\"#FECB52\",\"size\":10,\"symbol\":\"arrow\"},\"mode\":\"markers+lines\",\"name\":\"Rechits chain\",\"showlegend\":false,\"x\":[4.864217281341553,3.889720916748047],\"y\":[-0.8829958438873291,-0.3202517032623291],\"type\":\"scatter\"},{\"hoverinfo\":\"skip\",\"marker\":{\"color\":\"black\",\"size\":8,\"symbol\":\"x\"},\"mode\":\"markers\",\"name\":\"Impact from DWC\",\"x\":[3.1896591186523438],\"y\":[-1.0161893367767334],\"type\":\"scatter\"}],                        {\"autosize\":true,\"title\":{\"text\":\"Layer 13 view\"},\"template\":{\"data\":{\"histogram2dcontour\":[{\"type\":\"histogram2dcontour\",\"colorbar\":{\"outlinewidth\":0,\"ticks\":\"\"},\"colorscale\":[[0.0,\"#0d0887\"],[0.1111111111111111,\"#46039f\"],[0.2222222222222222,\"#7201a8\"],[0.3333333333333333,\"#9c179e\"],[0.4444444444444444,\"#bd3786\"],[0.5555555555555556,\"#d8576b\"],[0.6666666666666666,\"#ed7953\"],[0.7777777777777778,\"#fb9f3a\"],[0.8888888888888888,\"#fdca26\"],[1.0,\"#f0f921\"]]}],\"choropleth\":[{\"type\":\"choropleth\",\"colorbar\":{\"outlinewidth\":0,\"ticks\":\"\"}}],\"histogram2d\":[{\"type\":\"histogram2d\",\"colorbar\":{\"outlinewidth\":0,\"ticks\":\"\"},\"colorscale\":[[0.0,\"#0d0887\"],[0.1111111111111111,\"#46039f\"],[0.2222222222222222,\"#7201a8\"],[0.3333333333333333,\"#9c179e\"],[0.4444444444444444,\"#bd3786\"],[0.5555555555555556,\"#d8576b\"],[0.6666666666666666,\"#ed7953\"],[0.7777777777777778,\"#fb9f3a\"],[0.8888888888888888,\"#fdca26\"],[1.0,\"#f0f921\"]]}],\"heatmap\":[{\"type\":\"heatmap\",\"colorbar\":{\"outlinewidth\":0,\"ticks\":\"\"},\"colorscale\":[[0.0,\"#0d0887\"],[0.1111111111111111,\"#46039f\"],[0.2222222222222222,\"#7201a8\"],[0.3333333333333333,\"#9c179e\"],[0.4444444444444444,\"#bd3786\"],[0.5555555555555556,\"#d8576b\"],[0.6666666666666666,\"#ed7953\"],[0.7777777777777778,\"#fb9f3a\"],[0.8888888888888888,\"#fdca26\"],[1.0,\"#f0f921\"]]}],\"heatmapgl\":[{\"type\":\"heatmapgl\",\"colorbar\":{\"outlinewidth\":0,\"ticks\":\"\"},\"colorscale\":[[0.0,\"#0d0887\"],[0.1111111111111111,\"#46039f\"],[0.2222222222222222,\"#7201a8\"],[0.3333333333333333,\"#9c179e\"],[0.4444444444444444,\"#bd3786\"],[0.5555555555555556,\"#d8576b\"],[0.6666666666666666,\"#ed7953\"],[0.7777777777777778,\"#fb9f3a\"],[0.8888888888888888,\"#fdca26\"],[1.0,\"#f0f921\"]]}],\"contourcarpet\":[{\"type\":\"contourcarpet\",\"colorbar\":{\"outlinewidth\":0,\"ticks\":\"\"}}],\"contour\":[{\"type\":\"contour\",\"colorbar\":{\"outlinewidth\":0,\"ticks\":\"\"},\"colorscale\":[[0.0,\"#0d0887\"],[0.1111111111111111,\"#46039f\"],[0.2222222222222222,\"#7201a8\"],[0.3333333333333333,\"#9c179e\"],[0.4444444444444444,\"#bd3786\"],[0.5555555555555556,\"#d8576b\"],[0.6666666666666666,\"#ed7953\"],[0.7777777777777778,\"#fb9f3a\"],[0.8888888888888888,\"#fdca26\"],[1.0,\"#f0f921\"]]}],\"surface\":[{\"type\":\"surface\",\"colorbar\":{\"outlinewidth\":0,\"ticks\":\"\"},\"colorscale\":[[0.0,\"#0d0887\"],[0.1111111111111111,\"#46039f\"],[0.2222222222222222,\"#7201a8\"],[0.3333333333333333,\"#9c179e\"],[0.4444444444444444,\"#bd3786\"],[0.5555555555555556,\"#d8576b\"],[0.6666666666666666,\"#ed7953\"],[0.7777777777777778,\"#fb9f3a\"],[0.8888888888888888,\"#fdca26\"],[1.0,\"#f0f921\"]]}],\"mesh3d\":[{\"type\":\"mesh3d\",\"colorbar\":{\"outlinewidth\":0,\"ticks\":\"\"}}],\"scatter\":[{\"fillpattern\":{\"fillmode\":\"overlay\",\"size\":10,\"solidity\":0.2},\"type\":\"scatter\"}],\"parcoords\":[{\"type\":\"parcoords\",\"line\":{\"colorbar\":{\"outlinewidth\":0,\"ticks\":\"\"}}}],\"scatterpolargl\":[{\"type\":\"scatterpolargl\",\"marker\":{\"colorbar\":{\"outlinewidth\":0,\"ticks\":\"\"}}}],\"bar\":[{\"error_x\":{\"color\":\"#2a3f5f\"},\"error_y\":{\"color\":\"#2a3f5f\"},\"marker\":{\"line\":{\"color\":\"#E5ECF6\",\"width\":0.5},\"pattern\":{\"fillmode\":\"overlay\",\"size\":10,\"solidity\":0.2}},\"type\":\"bar\"}],\"scattergeo\":[{\"type\":\"scattergeo\",\"marker\":{\"colorbar\":{\"outlinewidth\":0,\"ticks\":\"\"}}}],\"scatterpolar\":[{\"type\":\"scatterpolar\",\"marker\":{\"colorbar\":{\"outlinewidth\":0,\"ticks\":\"\"}}}],\"histogram\":[{\"marker\":{\"pattern\":{\"fillmode\":\"overlay\",\"size\":10,\"solidity\":0.2}},\"type\":\"histogram\"}],\"scattergl\":[{\"type\":\"scattergl\",\"marker\":{\"colorbar\":{\"outlinewidth\":0,\"ticks\":\"\"}}}],\"scatter3d\":[{\"type\":\"scatter3d\",\"line\":{\"colorbar\":{\"outlinewidth\":0,\"ticks\":\"\"}},\"marker\":{\"colorbar\":{\"outlinewidth\":0,\"ticks\":\"\"}}}],\"scattermapbox\":[{\"type\":\"scattermapbox\",\"marker\":{\"colorbar\":{\"outlinewidth\":0,\"ticks\":\"\"}}}],\"scatterternary\":[{\"type\":\"scatterternary\",\"marker\":{\"colorbar\":{\"outlinewidth\":0,\"ticks\":\"\"}}}],\"scattercarpet\":[{\"type\":\"scattercarpet\",\"marker\":{\"colorbar\":{\"outlinewidth\":0,\"ticks\":\"\"}}}],\"carpet\":[{\"aaxis\":{\"endlinecolor\":\"#2a3f5f\",\"gridcolor\":\"white\",\"linecolor\":\"white\",\"minorgridcolor\":\"white\",\"startlinecolor\":\"#2a3f5f\"},\"baxis\":{\"endlinecolor\":\"#2a3f5f\",\"gridcolor\":\"white\",\"linecolor\":\"white\",\"minorgridcolor\":\"white\",\"startlinecolor\":\"#2a3f5f\"},\"type\":\"carpet\"}],\"table\":[{\"cells\":{\"fill\":{\"color\":\"#EBF0F8\"},\"line\":{\"color\":\"white\"}},\"header\":{\"fill\":{\"color\":\"#C8D4E3\"},\"line\":{\"color\":\"white\"}},\"type\":\"table\"}],\"barpolar\":[{\"marker\":{\"line\":{\"color\":\"#E5ECF6\",\"width\":0.5},\"pattern\":{\"fillmode\":\"overlay\",\"size\":10,\"solidity\":0.2}},\"type\":\"barpolar\"}],\"pie\":[{\"automargin\":true,\"type\":\"pie\"}]},\"layout\":{\"autotypenumbers\":\"strict\",\"colorway\":[\"#636efa\",\"#EF553B\",\"#00cc96\",\"#ab63fa\",\"#FFA15A\",\"#19d3f3\",\"#FF6692\",\"#B6E880\",\"#FF97FF\",\"#FECB52\"],\"font\":{\"color\":\"#2a3f5f\"},\"hovermode\":\"closest\",\"hoverlabel\":{\"align\":\"left\"},\"paper_bgcolor\":\"white\",\"plot_bgcolor\":\"#E5ECF6\",\"polar\":{\"bgcolor\":\"#E5ECF6\",\"angularaxis\":{\"gridcolor\":\"white\",\"linecolor\":\"white\",\"ticks\":\"\"},\"radialaxis\":{\"gridcolor\":\"white\",\"linecolor\":\"white\",\"ticks\":\"\"}},\"ternary\":{\"bgcolor\":\"#E5ECF6\",\"aaxis\":{\"gridcolor\":\"white\",\"linecolor\":\"white\",\"ticks\":\"\"},\"baxis\":{\"gridcolor\":\"white\",\"linecolor\":\"white\",\"ticks\":\"\"},\"caxis\":{\"gridcolor\":\"white\",\"linecolor\":\"white\",\"ticks\":\"\"}},\"coloraxis\":{\"colorbar\":{\"outlinewidth\":0,\"ticks\":\"\"}},\"colorscale\":{\"sequential\":[[0.0,\"#0d0887\"],[0.1111111111111111,\"#46039f\"],[0.2222222222222222,\"#7201a8\"],[0.3333333333333333,\"#9c179e\"],[0.4444444444444444,\"#bd3786\"],[0.5555555555555556,\"#d8576b\"],[0.6666666666666666,\"#ed7953\"],[0.7777777777777778,\"#fb9f3a\"],[0.8888888888888888,\"#fdca26\"],[1.0,\"#f0f921\"]],\"sequentialminus\":[[0.0,\"#0d0887\"],[0.1111111111111111,\"#46039f\"],[0.2222222222222222,\"#7201a8\"],[0.3333333333333333,\"#9c179e\"],[0.4444444444444444,\"#bd3786\"],[0.5555555555555556,\"#d8576b\"],[0.6666666666666666,\"#ed7953\"],[0.7777777777777778,\"#fb9f3a\"],[0.8888888888888888,\"#fdca26\"],[1.0,\"#f0f921\"]],\"diverging\":[[0,\"#8e0152\"],[0.1,\"#c51b7d\"],[0.2,\"#de77ae\"],[0.3,\"#f1b6da\"],[0.4,\"#fde0ef\"],[0.5,\"#f7f7f7\"],[0.6,\"#e6f5d0\"],[0.7,\"#b8e186\"],[0.8,\"#7fbc41\"],[0.9,\"#4d9221\"],[1,\"#276419\"]]},\"xaxis\":{\"gridcolor\":\"white\",\"linecolor\":\"white\",\"ticks\":\"\",\"title\":{\"standoff\":15},\"zerolinecolor\":\"white\",\"automargin\":true,\"zerolinewidth\":2},\"yaxis\":{\"gridcolor\":\"white\",\"linecolor\":\"white\",\"ticks\":\"\",\"title\":{\"standoff\":15},\"zerolinecolor\":\"white\",\"automargin\":true,\"zerolinewidth\":2},\"scene\":{\"xaxis\":{\"backgroundcolor\":\"#E5ECF6\",\"gridcolor\":\"white\",\"linecolor\":\"white\",\"showbackground\":true,\"ticks\":\"\",\"zerolinecolor\":\"white\",\"gridwidth\":2},\"yaxis\":{\"backgroundcolor\":\"#E5ECF6\",\"gridcolor\":\"white\",\"linecolor\":\"white\",\"showbackground\":true,\"ticks\":\"\",\"zerolinecolor\":\"white\",\"gridwidth\":2},\"zaxis\":{\"backgroundcolor\":\"#E5ECF6\",\"gridcolor\":\"white\",\"linecolor\":\"white\",\"showbackground\":true,\"ticks\":\"\",\"zerolinecolor\":\"white\",\"gridwidth\":2}},\"shapedefaults\":{\"line\":{\"color\":\"#2a3f5f\"}},\"annotationdefaults\":{\"arrowcolor\":\"#2a3f5f\",\"arrowhead\":0,\"arrowwidth\":1},\"geo\":{\"bgcolor\":\"white\",\"landcolor\":\"#E5ECF6\",\"subunitcolor\":\"white\",\"showland\":true,\"showlakes\":true,\"lakecolor\":\"white\"},\"title\":{\"x\":0.05},\"mapbox\":{\"style\":\"light\"}}},\"yaxis\":{\"scaleanchor\":\"x\",\"scaleratio\":1},\"shapes\":[{\"type\":\"circle\",\"x0\":1.615242649958684,\"x1\":4.215242693974421,\"xref\":\"x\",\"y0\":0.06724827472980222,\"y1\":2.6672483187455396,\"yref\":\"y\"}]},                        {\"responsive\": true}                    ).then(function(){\n",
       "                            \n",
       "var gd = document.getElementById('adc1533d-1d4a-4f0d-8d58-1a90fe59c451');\n",
       "var x = new MutationObserver(function (mutations, observer) {{\n",
       "        var display = window.getComputedStyle(gd).display;\n",
       "        if (!display || display === 'none') {{\n",
       "            console.log([gd, 'removed!']);\n",
       "            Plotly.purge(gd);\n",
       "            observer.disconnect();\n",
       "        }}\n",
       "}});\n",
       "\n",
       "// Listen for the removal of the full notebook cells\n",
       "var notebookContainer = gd.closest('#notebook-container');\n",
       "if (notebookContainer) {{\n",
       "    x.observe(notebookContainer, {childList: true});\n",
       "}}\n",
       "\n",
       "// Listen for the clearing of the current output cell\n",
       "var outputEl = gd.closest('.output');\n",
       "if (outputEl) {{\n",
       "    x.observe(outputEl, {childList: true});\n",
       "}}\n",
       "\n",
       "                        })                };                });            </script>        </div>"
      ]
     },
     "metadata": {},
     "output_type": "display_data"
    }
   ],
   "source": [
    "\n",
    "vis.fig.show()"
   ]
  },
  {
   "cell_type": "code",
   "execution_count": 11,
   "metadata": {},
   "outputs": [],
   "source": [
    "event = el.loadEvent(EventID(441, 5603))\n",
    "vis = Clue3DVisualization(event)"
   ]
  },
  {
   "cell_type": "code",
   "execution_count": 12,
   "metadata": {},
   "outputs": [
    {
     "data": {
      "text/plain": [
       "array([[21,  8]])"
      ]
     },
     "execution_count": 12,
     "metadata": {},
     "output_type": "execute_result"
    }
   ],
   "source": [
    "np.dstack((vis.clus3D_df[\"clus3D_size\"]))[0]"
   ]
  },
  {
   "cell_type": "code",
   "execution_count": null,
   "metadata": {},
   "outputs": [
    {
     "data": {
      "text/plain": [
       "clus3D_id\n",
       "0    #636EFA\n",
       "1    #EF553B\n",
       "Name: clus3D_id, dtype: object"
      ]
     },
     "execution_count": 72,
     "metadata": {},
     "output_type": "execute_result"
    }
   ],
   "source": [
    "vis.clus3D_df.index.to_series().map(vis.mapClus3Did_color)"
   ]
  },
  {
   "cell_type": "code",
   "execution_count": null,
   "metadata": {},
   "outputs": [
    {
     "data": {
      "text/plain": [
       "1.087133"
      ]
     },
     "execution_count": 73,
     "metadata": {},
     "output_type": "execute_result"
    }
   ],
   "source": [
    "LayerVisualization(event, 10).rechits_df_onLayer.rechits_energy.sum()"
   ]
  }
 ],
 "metadata": {
  "kernelspec": {
   "display_name": "Python 3",
   "language": "python",
   "name": "python3"
  },
  "language_info": {
   "codemirror_mode": {
    "name": "ipython",
    "version": 3
   },
   "file_extension": ".py",
   "mimetype": "text/x-python",
   "name": "python",
   "nbconvert_exporter": "python",
   "pygments_lexer": "ipython3",
   "version": "3.11.0"
  },
  "orig_nbformat": 4
 },
 "nbformat": 4,
 "nbformat_minor": 2
}
