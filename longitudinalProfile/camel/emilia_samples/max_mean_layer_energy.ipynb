{
 "cells": [
  {
   "attachments": {},
   "cell_type": "markdown",
   "metadata": {},
   "source": [
    "Compute the mean  longitudinal profile of Emilia's samples and look at the maximum"
   ]
  },
  {
   "cell_type": "code",
   "execution_count": 14,
   "metadata": {},
   "outputs": [
    {
     "name": "stdout",
     "output_type": "stream",
     "text": [
      "The autoreload extension is already loaded. To reload it, use:\n",
      "  %reload_ext autoreload\n"
     ]
    }
   ],
   "source": [
    "import hist\n",
    "import pandas as pd\n",
    "import sys\n",
    "sys.path.append(\"../../..\")\n",
    "from tqdm.auto import tqdm\n",
    "\n",
    "%load_ext autoreload\n",
    "%autoreload 1\n",
    "%aimport longitudinalProfile.camel.emilia_samples.emilia_peak_finder\n",
    "from longitudinalProfile.camel.emilia_samples.emilia_peak_finder import *\n",
    "\n",
    "from longitudinalProfile.camel.peak_finding import *"
   ]
  },
  {
   "cell_type": "code",
   "execution_count": 5,
   "metadata": {},
   "outputs": [],
   "source": [
    "reader = EmiliaSampleReader()\n",
    "h = hist.Hist(hist.axis.Integer(start=1, stop=26, name=\"layer\", label=\"Layer number\"), storage=hist.storage.Mean())"
   ]
  },
  {
   "cell_type": "code",
   "execution_count": 21,
   "metadata": {},
   "outputs": [
    {
     "data": {
      "application/vnd.jupyter.widget-view+json": {
       "model_id": "1f5208ce573c4741aee3c6f27ea3fc26",
       "version_major": 2,
       "version_minor": 0
      },
      "text/plain": [
       "  0%|          | 0/20 [00:00<?, ?it/s]"
      ]
     },
     "metadata": {},
     "output_type": "display_data"
    }
   ],
   "source": [
    "for i in tqdm(range(20)):\n",
    "    sample_df = reader.getSample(i)\n",
    "    energyPerLayer_series = sample_df.rechits_energy.groupby([\"eventInternal\", \"rechits_layer\"]).sum()\n",
    "    \"\"\" Series of energy per layer indexed by event, layer \"\"\"\n",
    "\n",
    "    newIndex = pd.MultiIndex.from_product([energyPerLayer_series.index.levels[0], energyPerLayer_series.index.levels[1]])\n",
    "\n",
    "    # Reindex the series, this will create new rows as needed, filled with zeros\n",
    "    return_df = energyPerLayer_series.reindex(newIndex, fill_value=0).reset_index(\"rechits_layer\")\n",
    "    \"\"\" Dataframe indexed by event with cols rechits_layer, rechits_energy (rechits_energy being the energy sum on layer)\"\"\"\n",
    "    h.fill(return_df.rechits_layer, sample=return_df.rechits_energy)"
   ]
  },
  {
   "cell_type": "code",
   "execution_count": 22,
   "metadata": {},
   "outputs": [
    {
     "data": {
      "text/html": [
       "<html>\n",
       "<div style=\"display:flex; align-items:center;\">\n",
       "<div style=\"width:290px;\">\n",
       "<svg xmlns=\"http://www.w3.org/2000/svg\" viewBox=\"-10 -105 270 120\">\n",
       "<line x1=\"-5\" y1=\"0\" x2=\"255\" y2=\"0\" style=\"fill:none;stroke-width:2;stroke:currentColor\"/>\n",
       "<text text-anchor=\"middle\" x=\"0\" y=\"15\" style=\"fill:currentColor;\">\n",
       "1\n",
       "</text>\n",
       "<text text-anchor=\"middle\" x=\"250\" y=\"15\" style=\"fill:currentColor;\">\n",
       "26\n",
       "</text>\n",
       "<text text-anchor=\"middle\" x=\"125.0\" y=\"15\" style=\"fill:currentColor;\">\n",
       "Layer number\n",
       "</text>\n",
       "<polyline points=\"  0,0   0,-2.16  10,-2.16  10,-9.03  20,-9.03  20,-23.3  30,-23.3  30,-43.7  40,-43.7  40,-65.8  50,-65.8  50,-84.5  60,-84.5  60,-96.2  70,-96.2  70,-100  80,-100  80,-96.8  90,-96.8  90,-88.6 100,-88.6 100,-77.7 110,-77.7 110,-65.6 120,-65.6 120,-53.9 130,-53.9 130,-43.2 140,-43.2 140,-34 150,-34 150,-26.2 160,-26.2 160,-20 170,-20 170,-15.1 180,-15.1 180,-11.2 190,-11.2 190,-8.33 200,-8.33 200,-6.11 210,-6.11 210,-4.48 220,-4.48 220,-3.24 230,-3.24 230,-2.33 240,-2.33 240,-0.942 250,-0.942 250,0\" style=\"fill:none; stroke:currentColor;\"/>\n",
       "</svg>\n",
       "</div>\n",
       "<div style=\"flex=grow:1;\">\n",
       "Integer(1, 26, name='layer', label='Layer number')<br/>\n",
       "<hr style=\"margin-top:.2em; margin-bottom:.2em;\"/>\n",
       "Mean() Σ=Mean(count=6.5e+06, value=1.99956, variance=3.4788)\n",
       "\n",
       "</div>\n",
       "</div>\n",
       "</html>"
      ],
      "text/plain": [
       "Hist(Integer(1, 26, name='layer', label='Layer number'), storage=Mean()) # Sum: Mean(count=6.5e+06, value=1.99956, variance=3.4788)"
      ]
     },
     "execution_count": 22,
     "metadata": {},
     "output_type": "execute_result"
    }
   ],
   "source": [
    "h"
   ]
  },
  {
   "cell_type": "code",
   "execution_count": 23,
   "metadata": {},
   "outputs": [
    {
     "data": {
      "text/plain": [
       "MeanView(\n",
       "      [(260000., 0.10966787,   1904.18570872),\n",
       "       (260000., 0.45938106,  17334.54909034),\n",
       "       (260000., 1.18623228,  74658.63821576),\n",
       "       (260000., 2.2237748 , 180088.48532567),\n",
       "       (260000., 3.34838887, 285188.19391634),\n",
       "       (260000., 4.29933107, 324560.58444922),\n",
       "       (260000., 4.89237693, 286237.42498625),\n",
       "       (260000., 5.08774432, 217385.79275268),\n",
       "       (260000., 4.92492643, 164146.93852697),\n",
       "       (260000., 4.50957646, 139216.43388844),\n",
       "       (260000., 3.95329595, 135921.76396078),\n",
       "       (260000., 3.33967912, 137683.31265942),\n",
       "       (260000., 2.74274081, 133455.21687939),\n",
       "       (260000., 2.19841456, 121699.91065346),\n",
       "       (260000., 1.72837451, 103362.08451709),\n",
       "       (260000., 1.33515755,  82578.48649949),\n",
       "       (260000., 1.0181326 ,  62633.59276697),\n",
       "       (260000., 0.76667671,  45530.66720572),\n",
       "       (260000., 0.57149203,  31933.63677664),\n",
       "       (260000., 0.42357294,  21962.10172805),\n",
       "       (260000., 0.31082269,  14693.1327179 ),\n",
       "       (260000., 0.22777736,   9758.96291762),\n",
       "       (260000., 0.16479069,   6293.4158926 ),\n",
       "       (260000., 0.11863256,   4073.2462566 ),\n",
       "       (260000., 0.04794601,    958.56634524)],\n",
       "      dtype=[('count', '<f8'), ('value', '<f8'), ('_sum_of_deltas_squared', '<f8')])"
      ]
     },
     "execution_count": 23,
     "metadata": {},
     "output_type": "execute_result"
    }
   ],
   "source": [
    "h.view()"
   ]
  },
  {
   "cell_type": "code",
   "execution_count": 24,
   "metadata": {},
   "outputs": [
    {
     "data": {
      "text/plain": [
       "5.087744322829862"
      ]
     },
     "execution_count": 24,
     "metadata": {},
     "output_type": "execute_result"
    }
   ],
   "source": [
    "np.max(h.view(flow=False).value)"
   ]
  }
 ],
 "metadata": {
  "kernelspec": {
   "display_name": "clustering-analysis-gpu2",
   "language": "python",
   "name": "python3"
  },
  "language_info": {
   "codemirror_mode": {
    "name": "ipython",
    "version": 3
   },
   "file_extension": ".py",
   "mimetype": "text/x-python",
   "name": "python",
   "nbconvert_exporter": "python",
   "pygments_lexer": "ipython3",
   "version": "3.10.11"
  },
  "orig_nbformat": 4
 },
 "nbformat": 4,
 "nbformat_minor": 2
}
