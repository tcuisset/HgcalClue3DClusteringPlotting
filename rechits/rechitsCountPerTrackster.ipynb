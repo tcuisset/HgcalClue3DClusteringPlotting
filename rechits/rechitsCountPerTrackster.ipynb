{
 "cells": [
  {
   "cell_type": "code",
   "execution_count": 21,
   "metadata": {},
   "outputs": [],
   "source": [
    "import sys\n",
    "sys.path.append(\"..\")\n",
    "import awkward as ak\n",
    "import numpy as np\n",
    "\n",
    "from ntupleReaders.clue_ntuple_reader import ClueNtupleReader"
   ]
  },
  {
   "cell_type": "code",
   "execution_count": 26,
   "metadata": {},
   "outputs": [],
   "source": [
    "reader = ClueNtupleReader(\"v42\", \"cmssw\", \"data\")\n",
    "array = reader.tree.arrays(cut=\"beamEnergy==20\", filter_name=[\"clus3D_idxs\", \"clus2D_idxs\"])\n",
    "array = array[ak.num(array.clus3D_idxs) > 0]"
   ]
  },
  {
   "cell_type": "code",
   "execution_count": 27,
   "metadata": {},
   "outputs": [
    {
     "data": {
      "text/html": [
       "<pre>[{clus2D_idxs: [[1, 2], ..., [269, ...]], clus3D_idxs: [[...]]},\n",
       " {clus2D_idxs: [[2, 3, 4, 5, 6], ..., [...]], clus3D_idxs: [[...]]},\n",
       " {clus2D_idxs: [[0, 1, 2, 4, 5], ..., [...]], clus3D_idxs: [[...]]},\n",
       " {clus2D_idxs: [[0, 1, 2, ..., 4, 5], ...], clus3D_idxs: [[...]]},\n",
       " {clus2D_idxs: [[0, 1], ..., [226, ...]], clus3D_idxs: [[...]]},\n",
       " {clus2D_idxs: [[0, 1, 2], ..., [237, ...]], clus3D_idxs: [[...]]},\n",
       " {clus2D_idxs: [[0, 1, 2, 3], ..., [...]], clus3D_idxs: [[...]]},\n",
       " {clus2D_idxs: [[1, 2, 3, 4, 6], ..., [...]], clus3D_idxs: [[...]]},\n",
       " {clus2D_idxs: [[0, 1, 2, ..., 4, 6], ...], clus3D_idxs: [[...]]},\n",
       " {clus2D_idxs: [[0, 1], ..., [258, ...]], clus3D_idxs: [[...]]},\n",
       " ...,\n",
       " {clus2D_idxs: [[1, 2], ..., [253, ...]], clus3D_idxs: [[...]]},\n",
       " {clus2D_idxs: [[0, 1, 2, 3], ..., [...]], clus3D_idxs: [[...]]},\n",
       " {clus2D_idxs: [[0, 1, 2], ..., [298, ...]], clus3D_idxs: [...]},\n",
       " {clus2D_idxs: [[0, 1], ..., [233, ...]], clus3D_idxs: [[...]]},\n",
       " {clus2D_idxs: [[0, 1, 2, 3, 4], ..., [...]], clus3D_idxs: [[...]]},\n",
       " {clus2D_idxs: [[0, 1, 2], ..., [226, ...]], clus3D_idxs: [[...]]},\n",
       " {clus2D_idxs: [[0, 1], ..., [243, ...]], clus3D_idxs: [[...]]},\n",
       " {clus2D_idxs: [[0, 1, 2, 3], ..., [...]], clus3D_idxs: [[...]]},\n",
       " {clus2D_idxs: [[0, 1, 2, 4], ..., [...]], clus3D_idxs: [[...]]}]\n",
       "--------------------------------------------------------------------\n",
       "type: 19433 * {\n",
       "    clus2D_idxs: var * var * int32,\n",
       "    clus3D_idxs: var * var * int32\n",
       "}</pre>"
      ],
      "text/plain": [
       "<Array [{clus2D_idxs: [...], ...}, ..., {...}] type='19433 * {clus2D_idxs: ...'>"
      ]
     },
     "execution_count": 27,
     "metadata": {},
     "output_type": "execute_result"
    }
   ],
   "source": [
    "array"
   ]
  },
  {
   "cell_type": "code",
   "execution_count": 28,
   "metadata": {},
   "outputs": [
    {
     "data": {
      "text/plain": [
       "195.2678433592343"
      ]
     },
     "execution_count": 28,
     "metadata": {},
     "output_type": "execute_result"
    }
   ],
   "source": [
    "np.average(ak.num(ak.flatten(array.clus2D_idxs[array.clus3D_idxs[:, 0]], axis=-1)))"
   ]
  },
  {
   "cell_type": "code",
   "execution_count": null,
   "metadata": {},
   "outputs": [],
   "source": []
  }
 ],
 "metadata": {
  "kernelspec": {
   "display_name": "clustering-analysis-gpu2",
   "language": "python",
   "name": "python3"
  },
  "language_info": {
   "codemirror_mode": {
    "name": "ipython",
    "version": 3
   },
   "file_extension": ".py",
   "mimetype": "text/x-python",
   "name": "python",
   "nbconvert_exporter": "python",
   "pygments_lexer": "ipython3",
   "version": "3.10.11"
  },
  "orig_nbformat": 4
 },
 "nbformat": 4,
 "nbformat_minor": 2
}
