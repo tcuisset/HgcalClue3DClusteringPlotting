{
 "cells": [
  {
   "attachments": {},
   "cell_type": "markdown",
   "metadata": {},
   "source": [
    "# Study x and y positions of rechits"
   ]
  },
  {
   "cell_type": "code",
   "execution_count": 1,
   "metadata": {},
   "outputs": [],
   "source": [
    "import pandas as pd\n",
    "import uproot\n",
    "import sys\n",
    "sys.path.append(\"..\")\n",
    "from hists.dataframe import *\n",
    "import matplotlib.pyplot as plt"
   ]
  },
  {
   "cell_type": "code",
   "execution_count": 2,
   "metadata": {},
   "outputs": [],
   "source": [
    "input_file = '/data_cms_upgrade/cuisset/testbeam18/clue3d/v40/cmssw/sim_proton_v46_patchMIP/CLUE_clusters.root'"
   ]
  },
  {
   "cell_type": "code",
   "execution_count": 3,
   "metadata": {},
   "outputs": [],
   "source": [
    "min_x = 0\n",
    "max_x = 0\n",
    "min_y= 0\n",
    "max_y = 0\n",
    "for array_i in uproot.iterate(input_file + \":clusters\", step_size=\"100MB\", library=\"ak\", filter_name=[\"rechits_x\", \"rechits_y\"],\n",
    "                              entry_stop=1000):\n",
    "    min_x = min(ak.min(array_i.rechits_x), min_x)\n",
    "    min_y = min(ak.min(array_i.rechits_y), min_y)\n",
    "    max_x = max(ak.max(array_i.rechits_x), max_x)\n",
    "    max_y = max(ak.max(array_i.rechits_y), max_y)\n"
   ]
  },
  {
   "cell_type": "code",
   "execution_count": 4,
   "metadata": {},
   "outputs": [
    {
     "name": "stdout",
     "output_type": "stream",
     "text": [
      "-6.8023453\n",
      "6.8023453\n",
      "-6.171528\n",
      "6.171528\n"
     ]
    }
   ],
   "source": [
    "print(min_x)\n",
    "print(max_x)\n",
    "print(min_y)\n",
    "print(max_y)"
   ]
  },
  {
   "cell_type": "code",
   "execution_count": 8,
   "metadata": {},
   "outputs": [],
   "source": [
    "beamEn = set()\n",
    "for array_i in uproot.iterate(input_file + \":clusters\", step_size=\"100MB\", library=\"pd\", filter_name=[\"beamEnergy\"]):\n",
    "    beamEn.update(array_i.beamEnergy.unique())\n",
    "    "
   ]
  },
  {
   "cell_type": "code",
   "execution_count": 9,
   "metadata": {},
   "outputs": [
    {
     "data": {
      "text/plain": [
       "{20.0, 30.0, 50.0, 80.0, 100.0, 120.0, 150.0, 200.0, 250.0, 300.0}"
      ]
     },
     "execution_count": 9,
     "metadata": {},
     "output_type": "execute_result"
    }
   ],
   "source": [
    "beamEn"
   ]
  },
  {
   "cell_type": "code",
   "execution_count": null,
   "metadata": {},
   "outputs": [],
   "source": []
  }
 ],
 "metadata": {
  "kernelspec": {
   "display_name": "clustering-analysis",
   "language": "python",
   "name": "python3"
  },
  "language_info": {
   "codemirror_mode": {
    "name": "ipython",
    "version": 3
   },
   "file_extension": ".py",
   "mimetype": "text/x-python",
   "name": "python",
   "nbconvert_exporter": "python",
   "pygments_lexer": "ipython3",
   "version": "3.10.10"
  },
  "orig_nbformat": 4
 },
 "nbformat": 4,
 "nbformat_minor": 2
}
