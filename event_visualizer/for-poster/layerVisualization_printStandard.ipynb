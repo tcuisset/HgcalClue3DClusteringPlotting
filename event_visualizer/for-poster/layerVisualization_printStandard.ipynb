{
 "cells": [
  {
   "cell_type": "code",
   "execution_count": 2,
   "metadata": {},
   "outputs": [
    {
     "name": "stdout",
     "output_type": "stream",
     "text": [
      "The autoreload extension is already loaded. To reload it, use:\n",
      "  %reload_ext autoreload\n"
     ]
    }
   ],
   "source": [
    "%load_ext autoreload\n",
    "%autoreload 2\n",
    "import sys\n",
    "sys.path.append(\"../..\")\n",
    "\n",
    "from event_visualizer.notebook_visualizer import EventDisplay\n",
    "from event_visualizer.plotter.layer import LayerVisualization\n",
    "from event_visualizer.event_index import EventLoader, EventID\n",
    "from event_visualizer.dash_app.plots import makePlotClue3D, makePlotLayer, makePlotLongitudinalProfile"
   ]
  },
  {
   "cell_type": "code",
   "execution_count": 3,
   "metadata": {},
   "outputs": [],
   "source": [
    "el = EventLoader(\"/data_cms_upgrade/cuisset/testbeam18/clue3d/v44/cmssw/data/CLUE_clusters.root\", \"data\")"
   ]
  },
  {
   "cell_type": "code",
   "execution_count": 4,
   "metadata": {},
   "outputs": [],
   "source": [
    "event = el.loadEvent(EventID(20, 437, 34))"
   ]
  },
  {
   "cell_type": "code",
   "execution_count": 7,
   "metadata": {},
   "outputs": [],
   "source": [
    "size=1000\n",
    "\n",
    "def makeLayerFigure(layer):\n",
    "    fig = (LayerVisualization(event, layerNb=layer)\n",
    "        .addHexagonSensors(fill=True)\n",
    "        .add2DClusters()\n",
    "        .addRechits(energyForScale=event.rechits_df.rechits_energy)\n",
    "        .addImpactPoint()\n",
    "        #.addButtons()\n",
    "        #.addDetectorExtent()\n",
    "        \n",
    "    ).fig\n",
    "    fig.update_layout(xaxis_visible=False, yaxis_visible=False, title=None, showlegend=False, height=size, width=size,\n",
    "                    xaxis_showgrid=False, yaxis_showgrid=False, paper_bgcolor='rgba(0,0,0,0)',  plot_bgcolor='rgba(0,0,0,0)')\n",
    "    return fig"
   ]
  },
  {
   "cell_type": "code",
   "execution_count": 16,
   "metadata": {},
   "outputs": [],
   "source": [
    "layer = 5\n",
    "fig = makeLayerFigure(layer)\n",
    "fig.write_image(f\"saved-views/20GeV-437-34/layer-{layer}-standard.pdf\")"
   ]
  }
 ],
 "metadata": {
  "kernelspec": {
   "display_name": "clustering-analysis",
   "language": "python",
   "name": "python3"
  },
  "language_info": {
   "codemirror_mode": {
    "name": "ipython",
    "version": 3
   },
   "file_extension": ".py",
   "mimetype": "text/x-python",
   "name": "python",
   "nbconvert_exporter": "python",
   "pygments_lexer": "ipython3",
   "version": "3.11.6"
  }
 },
 "nbformat": 4,
 "nbformat_minor": 2
}
