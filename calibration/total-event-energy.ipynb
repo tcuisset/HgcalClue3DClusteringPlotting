{
 "cells": [
  {
   "attachments": {},
   "cell_type": "markdown",
   "metadata": {},
   "source": [
    "# Total event energy : cross-check of bokeh, to show that rechits energy is lower in data than simulation"
   ]
  },
  {
   "cell_type": "code",
   "execution_count": 1,
   "metadata": {},
   "outputs": [],
   "source": [
    "import pandas as pd\n",
    "import uproot\n",
    "import os\n",
    "import awkward as ak\n",
    "import matplotlib.pyplot as plt\n",
    "import numpy as np"
   ]
  },
  {
   "cell_type": "code",
   "execution_count": null,
   "metadata": {},
   "outputs": [],
   "source": []
  },
  {
   "cell_type": "code",
   "execution_count": 18,
   "metadata": {},
   "outputs": [],
   "source": [
    "input_file = '/data_cms_upgrade/cuisset/testbeam18/ntuple-selection/v2/ntuple_selection_sim_proton_v7_em_beamen50_1.root'\n",
    "#input_file = '/grid_mnt/data_cms_upgrade/cuisset/testbeam18/ntuple-selection/v2/ntuple_selection_data_em_415.root'\n",
    "for array_i in uproot.iterate(input_file + \":relevant_branches\", step_size=\"100MB\", library=\"ak\", filter_name=[\"event\", \"ce_clean_*\"]):\n",
    "    array = array_i\n",
    "    break"
   ]
  },
  {
   "cell_type": "code",
   "execution_count": 9,
   "metadata": {},
   "outputs": [],
   "source": [
    "df = ak.to_dataframe(array, levelname=lambda i : {0 : \"event_minus_one\", 1:\"rechit_id\"}[i]).reset_index(level=1).reset_index(level=0, drop=True).set_index([\"event\", \"rechit_id\"])"
   ]
  },
  {
   "cell_type": "code",
   "execution_count": 10,
   "metadata": {},
   "outputs": [
    {
     "data": {
      "text/html": [
       "<div>\n",
       "<style scoped>\n",
       "    .dataframe tbody tr th:only-of-type {\n",
       "        vertical-align: middle;\n",
       "    }\n",
       "\n",
       "    .dataframe tbody tr th {\n",
       "        vertical-align: top;\n",
       "    }\n",
       "\n",
       "    .dataframe thead th {\n",
       "        text-align: right;\n",
       "    }\n",
       "</style>\n",
       "<table border=\"1\" class=\"dataframe\">\n",
       "  <thead>\n",
       "    <tr style=\"text-align: right;\">\n",
       "      <th></th>\n",
       "      <th></th>\n",
       "      <th>ce_clean_detid</th>\n",
       "      <th>ce_clean_x_unshifted</th>\n",
       "      <th>ce_clean_y_unshifted</th>\n",
       "      <th>ce_clean_z</th>\n",
       "      <th>ce_clean_layer</th>\n",
       "      <th>ce_clean_energy</th>\n",
       "      <th>ce_clean_energy_MeV</th>\n",
       "    </tr>\n",
       "    <tr>\n",
       "      <th>event</th>\n",
       "      <th>rechit_id</th>\n",
       "      <th></th>\n",
       "      <th></th>\n",
       "      <th></th>\n",
       "      <th></th>\n",
       "      <th></th>\n",
       "      <th></th>\n",
       "      <th></th>\n",
       "    </tr>\n",
       "  </thead>\n",
       "  <tbody>\n",
       "    <tr>\n",
       "      <th rowspan=\"5\" valign=\"top\">9423</th>\n",
       "      <th>0</th>\n",
       "      <td>16777278</td>\n",
       "      <td>0.000000</td>\n",
       "      <td>2.244192</td>\n",
       "      <td>13.877500</td>\n",
       "      <td>1</td>\n",
       "      <td>1.359535</td>\n",
       "      <td>15.347791</td>\n",
       "    </tr>\n",
       "    <tr>\n",
       "      <th>1</th>\n",
       "      <td>16777341</td>\n",
       "      <td>-0.971764</td>\n",
       "      <td>2.805240</td>\n",
       "      <td>13.877500</td>\n",
       "      <td>1</td>\n",
       "      <td>20.696630</td>\n",
       "      <td>233.644257</td>\n",
       "    </tr>\n",
       "    <tr>\n",
       "      <th>2</th>\n",
       "      <td>33554557</td>\n",
       "      <td>-0.971764</td>\n",
       "      <td>2.805240</td>\n",
       "      <td>14.767500</td>\n",
       "      <td>2</td>\n",
       "      <td>50.925503</td>\n",
       "      <td>501.667114</td>\n",
       "    </tr>\n",
       "    <tr>\n",
       "      <th>3</th>\n",
       "      <td>33554620</td>\n",
       "      <td>-1.943527</td>\n",
       "      <td>3.366288</td>\n",
       "      <td>14.767500</td>\n",
       "      <td>2</td>\n",
       "      <td>1.430526</td>\n",
       "      <td>14.092113</td>\n",
       "    </tr>\n",
       "    <tr>\n",
       "      <th>4</th>\n",
       "      <td>50331772</td>\n",
       "      <td>-0.971764</td>\n",
       "      <td>3.927336</td>\n",
       "      <td>16.782499</td>\n",
       "      <td>3</td>\n",
       "      <td>11.401217</td>\n",
       "      <td>112.313385</td>\n",
       "    </tr>\n",
       "    <tr>\n",
       "      <th>...</th>\n",
       "      <th>...</th>\n",
       "      <td>...</td>\n",
       "      <td>...</td>\n",
       "      <td>...</td>\n",
       "      <td>...</td>\n",
       "      <td>...</td>\n",
       "      <td>...</td>\n",
       "      <td>...</td>\n",
       "    </tr>\n",
       "    <tr>\n",
       "      <th rowspan=\"5\" valign=\"top\">4986</th>\n",
       "      <th>432</th>\n",
       "      <td>436207741</td>\n",
       "      <td>-0.971764</td>\n",
       "      <td>2.805240</td>\n",
       "      <td>50.688000</td>\n",
       "      <td>26</td>\n",
       "      <td>1.309434</td>\n",
       "      <td>14.397223</td>\n",
       "    </tr>\n",
       "    <tr>\n",
       "      <th>433</th>\n",
       "      <td>436207867</td>\n",
       "      <td>-2.915291</td>\n",
       "      <td>3.927336</td>\n",
       "      <td>50.688000</td>\n",
       "      <td>26</td>\n",
       "      <td>1.057511</td>\n",
       "      <td>11.627335</td>\n",
       "    </tr>\n",
       "    <tr>\n",
       "      <th>434</th>\n",
       "      <td>452984891</td>\n",
       "      <td>0.000000</td>\n",
       "      <td>5.610480</td>\n",
       "      <td>52.881500</td>\n",
       "      <td>27</td>\n",
       "      <td>2.598599</td>\n",
       "      <td>28.982174</td>\n",
       "    </tr>\n",
       "    <tr>\n",
       "      <th>435</th>\n",
       "      <td>452985085</td>\n",
       "      <td>-2.915291</td>\n",
       "      <td>1.683144</td>\n",
       "      <td>52.881500</td>\n",
       "      <td>27</td>\n",
       "      <td>1.675228</td>\n",
       "      <td>18.683819</td>\n",
       "    </tr>\n",
       "    <tr>\n",
       "      <th>436</th>\n",
       "      <td>452985146</td>\n",
       "      <td>-3.887054</td>\n",
       "      <td>4.488384</td>\n",
       "      <td>52.881500</td>\n",
       "      <td>27</td>\n",
       "      <td>1.198057</td>\n",
       "      <td>13.361929</td>\n",
       "    </tr>\n",
       "  </tbody>\n",
       "</table>\n",
       "<p>898830 rows × 7 columns</p>\n",
       "</div>"
      ],
      "text/plain": [
       "                 ce_clean_detid  ce_clean_x_unshifted  ce_clean_y_unshifted  \\\n",
       "event rechit_id                                                               \n",
       "9423  0                16777278              0.000000              2.244192   \n",
       "      1                16777341             -0.971764              2.805240   \n",
       "      2                33554557             -0.971764              2.805240   \n",
       "      3                33554620             -1.943527              3.366288   \n",
       "      4                50331772             -0.971764              3.927336   \n",
       "...                         ...                   ...                   ...   \n",
       "4986  432             436207741             -0.971764              2.805240   \n",
       "      433             436207867             -2.915291              3.927336   \n",
       "      434             452984891              0.000000              5.610480   \n",
       "      435             452985085             -2.915291              1.683144   \n",
       "      436             452985146             -3.887054              4.488384   \n",
       "\n",
       "                 ce_clean_z  ce_clean_layer  ce_clean_energy  \\\n",
       "event rechit_id                                                \n",
       "9423  0           13.877500               1         1.359535   \n",
       "      1           13.877500               1        20.696630   \n",
       "      2           14.767500               2        50.925503   \n",
       "      3           14.767500               2         1.430526   \n",
       "      4           16.782499               3        11.401217   \n",
       "...                     ...             ...              ...   \n",
       "4986  432         50.688000              26         1.309434   \n",
       "      433         50.688000              26         1.057511   \n",
       "      434         52.881500              27         2.598599   \n",
       "      435         52.881500              27         1.675228   \n",
       "      436         52.881500              27         1.198057   \n",
       "\n",
       "                 ce_clean_energy_MeV  \n",
       "event rechit_id                       \n",
       "9423  0                    15.347791  \n",
       "      1                   233.644257  \n",
       "      2                   501.667114  \n",
       "      3                    14.092113  \n",
       "      4                   112.313385  \n",
       "...                              ...  \n",
       "4986  432                  14.397223  \n",
       "      433                  11.627335  \n",
       "      434                  28.982174  \n",
       "      435                  18.683819  \n",
       "      436                  13.361929  \n",
       "\n",
       "[898830 rows x 7 columns]"
      ]
     },
     "execution_count": 10,
     "metadata": {},
     "output_type": "execute_result"
    }
   ],
   "source": [
    "df"
   ]
  },
  {
   "cell_type": "code",
   "execution_count": 23,
   "metadata": {},
   "outputs": [
    {
     "data": {
      "text/plain": [
       "array([[<Axes: title={'center': 'energy_MeV_sum'}>]], dtype=object)"
      ]
     },
     "execution_count": 23,
     "metadata": {},
     "output_type": "execute_result"
    },
    {
     "data": {
      "image/png": "[encoded data removed]",
      "text/plain": [
       "<Figure size 640x480 with 1 Axes>"
      ]
     },
     "metadata": {},
     "output_type": "display_data"
    }
   ],
   "source": [
    "df.groupby(\"event\").agg(\n",
    "    energy_MeV_sum=pd.NamedAgg(column=\"ce_clean_energy_MeV\", aggfunc=\"sum\")\n",
    ").hist(bins=100)"
   ]
  },
  {
   "cell_type": "code",
   "execution_count": 12,
   "metadata": {},
   "outputs": [],
   "source": [
    "def plot(filePath):\n",
    "    tree = uproot.open(filePath + \":relevant_branches\")\n",
    "    array = tree.arrays( library=\"ak\", filter_name=[\"event\", \"ce_clean_energy_MeV\"])\n",
    "    df = ak.to_dataframe(array, levelname=lambda i : {0 : \"event_minus_one\", 1:\"rechit_id\"}[i]).reset_index(level=1).reset_index(level=0, drop=True).set_index([\"event\", \"rechit_id\"])\n",
    "    agg = df.groupby(\"event\").agg(\n",
    "        energy_MeV_sum=pd.NamedAgg(column=\"ce_clean_energy_MeV\", aggfunc=\"sum\")\n",
    "    )\n",
    "    print(agg.mean())\n",
    "    agg.hist(bins=100)"
   ]
  },
  {
   "cell_type": "code",
   "execution_count": 13,
   "metadata": {},
   "outputs": [
    {
     "name": "stdout",
     "output_type": "stream",
     "text": [
      "energy_MeV_sum    288518.53125\n",
      "dtype: float32\n"
     ]
    },
    {
     "data": {
      "image/png": "[encoded data removed]",
      "text/plain": [
       "<Figure size 640x480 with 1 Axes>"
      ]
     },
     "metadata": {},
     "output_type": "display_data"
    }
   ],
   "source": [
    "plot('/data_cms_upgrade/cuisset/testbeam18/ntuple-selection/v2/ntuple_selection_sim_proton_v7_em_beamen300_1.root')"
   ]
  },
  {
   "cell_type": "code",
   "execution_count": 14,
   "metadata": {},
   "outputs": [
    {
     "name": "stdout",
     "output_type": "stream",
     "text": [
      "energy_MeV_sum    269488.09375\n",
      "dtype: float32\n"
     ]
    },
    {
     "data": {
      "image/png": "[encoded data removed]",
      "text/plain": [
       "<Figure size 640x480 with 1 Axes>"
      ]
     },
     "metadata": {},
     "output_type": "display_data"
    }
   ],
   "source": [
    "plot('/grid_mnt/data_cms_upgrade/cuisset/testbeam18/ntuple-selection/v2/ntuple_selection_data_em_435.root')"
   ]
  },
  {
   "cell_type": "code",
   "execution_count": null,
   "metadata": {},
   "outputs": [],
   "source": []
  }
 ],
 "metadata": {
  "kernelspec": {
   "display_name": "clustering-analysis",
   "language": "python",
   "name": "python3"
  },
  "language_info": {
   "codemirror_mode": {
    "name": "ipython",
    "version": 3
   },
   "file_extension": ".py",
   "mimetype": "text/x-python",
   "name": "python",
   "nbconvert_exporter": "python",
   "pygments_lexer": "ipython3",
   "version": "3.11.0"
  },
  "orig_nbformat": 4
 },
 "nbformat": 4,
 "nbformat_minor": 2
}
