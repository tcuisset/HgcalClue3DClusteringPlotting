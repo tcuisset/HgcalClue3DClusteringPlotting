{
 "cells": [
  {
   "cell_type": "code",
   "execution_count": 44,
   "metadata": {},
   "outputs": [],
   "source": [
    "import torch\n",
    "import torch.nn as nn\n",
    "from torch_cluster import knn_graph\n",
    "from torch_geometric.nn import (EdgeConv, graclus, max_pool, max_pool_x,\n",
    "                                global_mean_pool, global_max_pool,\n",
    "                                global_add_pool,BatchNorm)\n",
    "from torch_geometric.utils import normalized_cut, degree\n",
    "from torch_geometric.utils.undirected import to_undirected\n",
    "\n",
    "x = torch.tensor([[-1., -1.], [-1., 1.], [1., -1.], [1., 1.], [0, 0]])\n",
    "batch = torch.tensor([0, 0, 0, 0, 0])\n",
    "\n",
    "k = 2\n",
    "\n",
    "edgeconv1 = EdgeConv(nn=nn.Linear(2*2, 2), aggr=\"sum\")"
   ]
  },
  {
   "cell_type": "code",
   "execution_count": 26,
   "metadata": {},
   "outputs": [],
   "source": [
    "def normalized_cut_2d(edge_index, pos):\n",
    "    row, col = edge_index\n",
    "    edge_attr = torch.norm(pos[row] - pos[col], p=2, dim=1)\n",
    "    return normalized_cut(edge_index, edge_attr, num_nodes=pos.size(0))"
   ]
  },
  {
   "cell_type": "code",
   "execution_count": 27,
   "metadata": {},
   "outputs": [
    {
     "data": {
      "text/plain": [
       "tensor([[-1., -1.],\n",
       "        [-1.,  1.],\n",
       "        [ 1., -1.],\n",
       "        [ 1.,  1.],\n",
       "        [ 0.,  0.]])"
      ]
     },
     "execution_count": 27,
     "metadata": {},
     "output_type": "execute_result"
    }
   ],
   "source": [
    "x"
   ]
  },
  {
   "cell_type": "code",
   "execution_count": 38,
   "metadata": {},
   "outputs": [
    {
     "data": {
      "text/plain": [
       "tensor([[0, 0, 0, 1, 1, 1, 2, 2, 3, 3, 4, 4, 4, 4],\n",
       "        [1, 2, 4, 0, 3, 4, 0, 4, 1, 4, 0, 1, 2, 3]])"
      ]
     },
     "execution_count": 38,
     "metadata": {},
     "output_type": "execute_result"
    }
   ],
   "source": [
    "edge_index = to_undirected(knn_graph(x, k, batch))\n",
    "edge_index"
   ]
  },
  {
   "cell_type": "code",
   "execution_count": 29,
   "metadata": {},
   "outputs": [
    {
     "data": {
      "text/plain": [
       "tensor([[-1.8514, -1.1597],\n",
       "        [ 0.7960, -1.9523],\n",
       "        [ 0.4476,  0.7679],\n",
       "        [ 1.6644,  0.9080],\n",
       "        [ 0.5838, -0.4750]], grad_fn=<ScatterAddBackward0>)"
      ]
     },
     "execution_count": 29,
     "metadata": {},
     "output_type": "execute_result"
    }
   ],
   "source": [
    "x_edgeconv1 = edgeconv1(x, edge_index)\n",
    "x_edgeconv1"
   ]
  },
  {
   "cell_type": "code",
   "execution_count": 30,
   "metadata": {},
   "outputs": [
    {
     "data": {
      "text/plain": [
       "tensor([1.8423, 2.5001, 1.4756, 1.8423, 2.4911, 0.8706, 2.5001, 0.9377, 2.4911,\n",
       "        1.3164, 1.4756, 0.8706, 0.9377, 1.3164], grad_fn=<MulBackward0>)"
      ]
     },
     "execution_count": 30,
     "metadata": {},
     "output_type": "execute_result"
    }
   ],
   "source": [
    "weight = normalized_cut_2d(edge_index, x_edgeconv1)\n",
    "weight"
   ]
  },
  {
   "cell_type": "code",
   "execution_count": 33,
   "metadata": {},
   "outputs": [
    {
     "data": {
      "text/plain": [
       "tensor([2.7635, 3.0001, 2.5296, 2.7635, 2.9893, 1.4925, 3.0001, 1.2503, 2.9893,\n",
       "        1.7552, 2.5296, 1.4925, 1.2503, 1.7552],\n",
       "       grad_fn=<LinalgVectorNormBackward0>)"
      ]
     },
     "execution_count": 33,
     "metadata": {},
     "output_type": "execute_result"
    }
   ],
   "source": [
    "row, col = edge_index\n",
    "pos = x_edgeconv1\n",
    "torch.norm(pos[row] - pos[col], p=2, dim=1)"
   ]
  },
  {
   "cell_type": "code",
   "execution_count": 43,
   "metadata": {},
   "outputs": [
    {
     "data": {
      "text/plain": [
       "tensor([1.8423, 2.5001, 1.4756, 1.8423, 2.4911, 0.8706, 2.5001, 0.9377, 2.4911,\n",
       "        1.3164, 1.4756, 0.8706, 0.9377, 1.3164], grad_fn=<MulBackward0>)"
      ]
     },
     "execution_count": 43,
     "metadata": {},
     "output_type": "execute_result"
    }
   ],
   "source": [
    "weight = normalized_cut(edge_index, torch.norm(pos[row] - pos[col], p=2, dim=1), num_nodes=pos.size(0))\n",
    "weight"
   ]
  },
  {
   "cell_type": "code",
   "execution_count": 46,
   "metadata": {},
   "outputs": [
    {
     "data": {
      "text/plain": [
       "tensor([0, 1, 0, 3, 3])"
      ]
     },
     "execution_count": 46,
     "metadata": {},
     "output_type": "execute_result"
    }
   ],
   "source": [
    "cluster = graclus(edge_index, weight, x_edgeconv1.size(0))\n",
    "cluster"
   ]
  }
 ],
 "metadata": {
  "kernelspec": {
   "display_name": "clustering-analysis-gpu2",
   "language": "python",
   "name": "python3"
  },
  "language_info": {
   "codemirror_mode": {
    "name": "ipython",
    "version": 3
   },
   "file_extension": ".py",
   "mimetype": "text/x-python",
   "name": "python",
   "nbconvert_exporter": "python",
   "pygments_lexer": "ipython3",
   "version": "3.10.11"
  },
  "orig_nbformat": 4
 },
 "nbformat": 4,
 "nbformat_minor": 2
}
