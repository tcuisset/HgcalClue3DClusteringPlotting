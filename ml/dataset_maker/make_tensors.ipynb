{
 "cells": [
  {
   "cell_type": "code",
   "execution_count": 1,
   "metadata": {},
   "outputs": [],
   "source": [
    "%load_ext autoreload\n",
    "%autoreload 2\n",
    "import sys\n",
    "sys.path.append(\"../..\")\n",
    "\n",
    "import uproot\n",
    "\n",
    "from ntupleReaders.computation import computeAllFromTree, NumpyArrayFilter\n",
    "from ntupleReaders.clue_ntuple_reader import ClueNtupleReader\n",
    "from ml.dataset_maker.tensors import *\n",
    "from ml.dataset_maker.energyPerLayer import *\n",
    "from ml.dataset_maker.tracksterProperties import *"
   ]
  },
  {
   "cell_type": "code",
   "execution_count": 2,
   "metadata": {},
   "outputs": [],
   "source": [
    "reader = ClueNtupleReader(\"v40\", \"cmssw\",\"sim_proton_v46_patchMIP\")\n",
    "filter = reader.loadFilterArray()"
   ]
  },
  {
   "cell_type": "code",
   "execution_count": null,
   "metadata": {},
   "outputs": [],
   "source": []
  },
  {
   "cell_type": "code",
   "execution_count": 3,
   "metadata": {},
   "outputs": [
    {
     "data": {
      "application/vnd.jupyter.widget-view+json": {
       "model_id": "7fb92dcd0dd74fee8416544b4b329464",
       "version_major": 2,
       "version_minor": 0
      },
      "text/plain": [
       "  0%|          | 0/359937 [00:00<?, ?it/s]"
      ]
     },
     "metadata": {},
     "output_type": "display_data"
    }
   ],
   "source": [
    "tensorComp = TracksterPropertiesTensorMaker(eventFilter=NumpyArrayFilter(filter))\n",
    "computeAllFromTree(reader.tree, [tensorComp])"
   ]
  },
  {
   "cell_type": "code",
   "execution_count": 4,
   "metadata": {},
   "outputs": [
    {
     "data": {
      "text/plain": [
       "(tensor([[92.5050,  9.0000,  4.0000, 12.0000],\n",
       "         [94.6119,  8.0000,  4.0000, 11.0000],\n",
       "         [94.6065,  9.0000,  5.0000, 13.0000],\n",
       "         ...,\n",
       "         [74.9397,  8.0000,  4.0000, 11.0000],\n",
       "         [75.6494,  9.0000,  4.0000, 12.0000],\n",
       "         [75.6710,  9.0000,  4.0000, 12.0000]]),\n",
       " tensor([ 99.6533, 100.2410, 100.1068,  ...,  79.9647,  79.8539,  79.8560]))"
      ]
     },
     "execution_count": 4,
     "metadata": {},
     "output_type": "execute_result"
    }
   ],
   "source": [
    "tensorComp.getResult()"
   ]
  },
  {
   "cell_type": "code",
   "execution_count": 5,
   "metadata": {},
   "outputs": [],
   "source": [
    "tensorComp.saveTensor(reader.pathToFolder)"
   ]
  },
  {
   "cell_type": "code",
   "execution_count": null,
   "metadata": {},
   "outputs": [],
   "source": []
  }
 ],
 "metadata": {
  "kernelspec": {
   "display_name": "clustering-analysis-torch",
   "language": "python",
   "name": "python3"
  },
  "language_info": {
   "codemirror_mode": {
    "name": "ipython",
    "version": 3
   },
   "file_extension": ".py",
   "mimetype": "text/x-python",
   "name": "python",
   "nbconvert_exporter": "python",
   "pygments_lexer": "ipython3",
   "version": "3.10.11"
  },
  "orig_nbformat": 4
 },
 "nbformat": 4,
 "nbformat_minor": 2
}
