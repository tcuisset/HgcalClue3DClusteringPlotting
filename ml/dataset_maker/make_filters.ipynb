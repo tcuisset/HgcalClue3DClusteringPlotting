{
 "cells": [
  {
   "cell_type": "code",
   "execution_count": 1,
   "metadata": {},
   "outputs": [],
   "source": [
    "%load_ext autoreload\n",
    "%autoreload 1\n",
    "import sys\n",
    "sys.path.append(\"../..\")\n",
    "\n",
    "%aimport ml.dataset_maker.filters\n",
    "%aimport ntupleReaders.computation\n",
    "from ntupleReaders.clue_ntuple_reader import ClueNtupleReader\n",
    "from ml.dataset_maker.filters import LowRecoEnergyFilter, LowMainTracksterEnergyFilter, applyAllFilters, makeDefaultFilters"
   ]
  },
  {
   "cell_type": "code",
   "execution_count": 2,
   "metadata": {},
   "outputs": [],
   "source": [
    "reader = ClueNtupleReader(\"v40\", \"cmssw\",\"sim_proton_v46_patchMIP\")"
   ]
  },
  {
   "cell_type": "code",
   "execution_count": 3,
   "metadata": {},
   "outputs": [
    {
     "data": {
      "text/plain": [
       "['rechits_energy', 'rechits_layer']"
      ]
     },
     "execution_count": 3,
     "metadata": {},
     "output_type": "execute_result"
    }
   ],
   "source": [
    "from ntupleReaders.tools import DataframeComputationsToolMaker\n",
    "DataframeComputationsToolMaker(rechits_columns=[\"rechits_energy\", \"rechits_layer\"]).neededBranches"
   ]
  },
  {
   "cell_type": "code",
   "execution_count": 4,
   "metadata": {},
   "outputs": [
    {
     "data": {
      "text/plain": [
       "['rechits_energy',\n",
       " 'rechits_layer',\n",
       " 'rechits_energy',\n",
       " 'rechits_layer',\n",
       " 'rechits_energy',\n",
       " 'rechits_layer',\n",
       " 'rechits_energy',\n",
       " 'rechits_layer']"
      ]
     },
     "execution_count": 4,
     "metadata": {},
     "output_type": "execute_result"
    }
   ],
   "source": [
    "makeDefaultFilters()[0].neededComputationTools[0].neededBranches"
   ]
  },
  {
   "cell_type": "code",
   "execution_count": 5,
   "metadata": {},
   "outputs": [
    {
     "data": {
      "application/vnd.jupyter.widget-view+json": {
       "model_id": "12a7b1311afa4234b94bdcbf80bd7135",
       "version_major": 2,
       "version_minor": 0
      },
      "text/plain": [
       "Computing filters:   0%|          | 0/359937 [00:00<?, ?it/s]"
      ]
     },
     "metadata": {},
     "output_type": "display_data"
    },
    {
     "name": "stdout",
     "output_type": "stream",
     "text": [
      "LowRecoEnergyFilter - Efficiency 99.057613%\n",
      "LowMainTracksterEnergyFilter - Efficiency 98.277476%\n",
      "FilterEmptyEvents - Efficiency 99.999167%\n"
     ]
    },
    {
     "data": {
      "text/html": [
       "<pre>[True,\n",
       " True,\n",
       " True,\n",
       " True,\n",
       " True,\n",
       " True,\n",
       " True,\n",
       " True,\n",
       " True,\n",
       " True,\n",
       " ...,\n",
       " True,\n",
       " True,\n",
       " True,\n",
       " True,\n",
       " True,\n",
       " True,\n",
       " True,\n",
       " True,\n",
       " True]\n",
       "-------------------\n",
       "type: 359937 * bool</pre>"
      ],
      "text/plain": [
       "<Array [True, True, True, True, ..., True, True, True] type='359937 * bool'>"
      ]
     },
     "execution_count": 5,
     "metadata": {},
     "output_type": "execute_result"
    }
   ],
   "source": [
    "applyAllFilters(reader.tree)"
   ]
  },
  {
   "cell_type": "code",
   "execution_count": null,
   "metadata": {},
   "outputs": [],
   "source": []
  }
 ],
 "metadata": {
  "kernelspec": {
   "display_name": "clustering-analysis-torch",
   "language": "python",
   "name": "python3"
  },
  "language_info": {
   "codemirror_mode": {
    "name": "ipython",
    "version": 3
   },
   "file_extension": ".py",
   "mimetype": "text/x-python",
   "name": "python",
   "nbconvert_exporter": "python",
   "pygments_lexer": "ipython3",
   "version": "3.10.11"
  },
  "orig_nbformat": 4
 },
 "nbformat": 4,
 "nbformat_minor": 2
}
