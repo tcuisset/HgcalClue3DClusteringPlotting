{
 "cells": [
  {
   "attachments": {},
   "cell_type": "markdown",
   "metadata": {},
   "source": [
    "# Notebook for computing and saving event filters\n",
    " - instantiate a ntupleReaders.clue_ntuple_reader.ClueNtupleReader\n",
    " - call ml.dataset_maker.filters.makeAndSaveFilters\n",
    "this should make and save the default event filter"
   ]
  },
  {
   "cell_type": "code",
   "execution_count": 9,
   "metadata": {},
   "outputs": [
    {
     "name": "stdout",
     "output_type": "stream",
     "text": [
      "The autoreload extension is already loaded. To reload it, use:\n",
      "  %reload_ext autoreload\n"
     ]
    }
   ],
   "source": [
    "%load_ext autoreload\n",
    "%autoreload 1\n",
    "import sys\n",
    "sys.path.append(\"../..\")\n",
    "\n",
    "%aimport ml.dataset_maker.filters\n",
    "%aimport ntupleReaders.computation\n",
    "from ntupleReaders.clue_ntuple_reader import ClueNtupleReader\n",
    "from ml.dataset_maker.filters import LowRecoEnergyFilter, LowMainTracksterEnergyFilter, FilterRatioSecondToFirstTrackster, applyAllFilters, makeDefaultFilters, makeAndSaveFilters"
   ]
  },
  {
   "cell_type": "code",
   "execution_count": 5,
   "metadata": {},
   "outputs": [],
   "source": [
    "version = \"v41\""
   ]
  },
  {
   "cell_type": "code",
   "execution_count": null,
   "metadata": {},
   "outputs": [],
   "source": [
    "# Make default filters\n",
    "makeAndSaveFilters([ClueNtupleReader(version, \"cmssw\",\"data\"), ClueNtupleReader(version, \"cmssw\",\"sim_proton_v46_patchMIP\")])"
   ]
  },
  {
   "cell_type": "code",
   "execution_count": 10,
   "metadata": {},
   "outputs": [
    {
     "data": {
      "application/vnd.jupyter.widget-view+json": {
       "model_id": "07371c8ad45f47f9a387111b7a7cfaf0",
       "version_major": 2,
       "version_minor": 0
      },
      "text/plain": [
       "Computing filters:   0%|          | 0/359937 [00:00<?, ?it/s]"
      ]
     },
     "metadata": {},
     "output_type": "display_data"
    },
    {
     "name": "stdout",
     "output_type": "stream",
     "text": [
      "LowRecoEnergyFilter - Efficiency 99.091508%\n",
      "LowMainTracksterEnergyFilter - Efficiency 98.389718%\n",
      "FilterEmptyEvents - Efficiency 99.999167%\n",
      "FilterRatioSecondToFirstTrackster - Efficiency 92.072224%\n"
     ]
    }
   ],
   "source": [
    "makeAndSaveFilters(ClueNtupleReader(version, \"cmssw\",\"sim_proton_v46_patchMIP\"),\n",
    "        fileName=\"ratioSecondToFirstTrackster\", filters=makeDefaultFilters() + [FilterRatioSecondToFirstTrackster()])"
   ]
  },
  {
   "cell_type": "code",
   "execution_count": 4,
   "metadata": {},
   "outputs": [
    {
     "data": {
      "text/plain": [
       "['rechits_energy',\n",
       " 'rechits_layer',\n",
       " 'rechits_energy',\n",
       " 'rechits_layer',\n",
       " 'rechits_energy',\n",
       " 'rechits_layer',\n",
       " 'rechits_energy',\n",
       " 'rechits_layer']"
      ]
     },
     "execution_count": 4,
     "metadata": {},
     "output_type": "execute_result"
    }
   ],
   "source": [
    "from ntupleReaders.tools import DataframeComputationsToolMaker\n",
    "DataframeComputationsToolMaker(rechits_columns=[\"rechits_energy\", \"rechits_layer\"]).neededBranches"
   ]
  },
  {
   "cell_type": "code",
   "execution_count": 5,
   "metadata": {},
   "outputs": [
    {
     "data": {
      "text/plain": [
       "['rechits_energy',\n",
       " 'rechits_layer',\n",
       " 'rechits_energy',\n",
       " 'rechits_layer',\n",
       " 'rechits_energy',\n",
       " 'rechits_layer',\n",
       " 'rechits_energy',\n",
       " 'rechits_layer',\n",
       " 'rechits_energy',\n",
       " 'rechits_layer',\n",
       " 'rechits_energy',\n",
       " 'rechits_layer',\n",
       " 'rechits_energy',\n",
       " 'rechits_layer']"
      ]
     },
     "execution_count": 5,
     "metadata": {},
     "output_type": "execute_result"
    }
   ],
   "source": [
    "makeDefaultFilters()[0].neededComputationTools[0].neededBranches"
   ]
  },
  {
   "cell_type": "code",
   "execution_count": null,
   "metadata": {},
   "outputs": [],
   "source": []
  }
 ],
 "metadata": {
  "kernelspec": {
   "display_name": "clustering-analysis-torch",
   "language": "python",
   "name": "python3"
  },
  "language_info": {
   "codemirror_mode": {
    "name": "ipython",
    "version": 3
   },
   "file_extension": ".py",
   "mimetype": "text/x-python",
   "name": "python",
   "nbconvert_exporter": "python",
   "pygments_lexer": "ipython3",
   "version": "3.10.11"
  },
  "orig_nbformat": 4
 },
 "nbformat": 4,
 "nbformat_minor": 2
}
