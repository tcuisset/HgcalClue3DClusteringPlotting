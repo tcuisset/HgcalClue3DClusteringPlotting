{
 "cells": [
  {
   "cell_type": "code",
   "execution_count": 2,
   "metadata": {},
   "outputs": [],
   "source": [
    "%load_ext autoreload\n",
    "%autoreload 1\n",
    "import os\n",
    "import sys\n",
    "sys.path.append(\"../..\")\n",
    "\n",
    "import torch\n",
    "import torch.nn as nn\n",
    "import torch.nn.functional as F\n",
    "import torch_geometric\n",
    "\n",
    "import numpy as np\n",
    "from tqdm.auto import tqdm\n",
    "\n",
    "from ntupleReaders.clue_ntuple_reader import ClueNtupleReader\n",
    "%aimport ml.regression.rechits\n",
    "from ml.regression.rechits import *"
   ]
  },
  {
   "cell_type": "code",
   "execution_count": 3,
   "metadata": {},
   "outputs": [],
   "source": [
    "reader_sim = ClueNtupleReader(\"v40\", \"cmssw\", \"sim_proton_v46_patchMIP\")\n",
    "reader_data = ClueNtupleReader(reader_sim.version, reader_sim.clueParams, \"data\")\n",
    "#data_list = torch.load(os.path.join(reader_sim.pathToFolder, \"rechitsGeometric.pt\"))"
   ]
  },
  {
   "cell_type": "code",
   "execution_count": 4,
   "metadata": {},
   "outputs": [],
   "source": [
    "dataset = TracksterPropertiesDataset(reader_sim)"
   ]
  },
  {
   "cell_type": "code",
   "execution_count": 5,
   "metadata": {},
   "outputs": [
    {
     "data": {
      "text/plain": [
       "Data(x=[541, 4], beamEnergy=[1], trueBeamEnergy=[1])"
      ]
     },
     "execution_count": 5,
     "metadata": {},
     "output_type": "execute_result"
    }
   ],
   "source": [
    "dataset[5]"
   ]
  },
  {
   "cell_type": "code",
   "execution_count": 6,
   "metadata": {},
   "outputs": [
    {
     "name": "stdout",
     "output_type": "stream",
     "text": [
      "epoch size,batch_size: 287740 200\n"
     ]
    },
    {
     "name": "stderr",
     "output_type": "stream",
     "text": [
      "2023-06-08 11:44:16.570437: I tensorflow/core/platform/cpu_feature_guard.cc:193] This TensorFlow binary is optimized with oneAPI Deep Neural Network Library (oneDNN) to use the following CPU instructions in performance-critical operations:  SSE4.1 SSE4.2 AVX AVX2 AVX512F AVX512_VNNI FMA\n",
      "To enable them in other operations, rebuild TensorFlow with the appropriate compiler flags.\n",
      "2023-06-08 11:44:18.045881: I tensorflow/core/util/port.cc:104] oneDNN custom operations are on. You may see slightly different numerical results due to floating-point round-off errors from different computation orders. To turn them off, set the environment variable `TF_ENABLE_ONEDNN_OPTS=0`.\n"
     ]
    }
   ],
   "source": [
    "totalev = len(dataset)\n",
    "ntrain = int(0.8*totalev)\n",
    "shuffled_dataset = dataset.shuffle()\n",
    "ntrainbatch = 200\n",
    "ntestbatch = 100\n",
    "trainloader = torch_geometric.loader.DataLoader(shuffled_dataset[:ntrain], batch_size=ntrainbatch)\n",
    "testloader = torch_geometric.loader.DataLoader(shuffled_dataset[ntrain:], batch_size=ntestbatch)\n",
    "#batch_size = ntrainbatch\n",
    "epoch_size = len(shuffled_dataset[:ntrain])\n",
    "print(\"epoch size,batch_size:\",epoch_size,ntrainbatch)\n",
    "\n",
    "from torch.utils.tensorboard import SummaryWriter\n",
    "writer = SummaryWriter()"
   ]
  },
  {
   "cell_type": "code",
   "execution_count": 7,
   "metadata": {},
   "outputs": [],
   "source": [
    "from ml.dynamic_reduction_network import DynamicReductionNetwork\n",
    "from ml.cyclic_lr import CyclicLRWithRestarts\n",
    "\n",
    "class Net(nn.Module):\n",
    "    def __init__(self):\n",
    "        super(Net, self).__init__()\n",
    "        self.drn = DynamicReductionNetwork(input_dim=4,hidden_dim=20,k=10,output_dim=1,norm=torch.tensor([ 1., 1., 1., 1.]))\n",
    "        \n",
    "    def forward(self, data):\n",
    "        logits = self.drn(data)\n",
    "        #return F.softplus(logits)\n",
    "        return logits\n",
    "device = torch.device('cuda:1')#('cuda' if torch.cuda.is_available() else 'cpu')\n",
    "model = Net().to(device)\n",
    "#optimizer = torch.optim.AdamW(model.parameters(), lr=0.001)\n",
    "optimizer = torch.optim.AdamW(model.parameters(), lr=1e-3, weight_decay=1e-3)\n",
    "#optimizer = torch.optim.AdamW(model.parameters(), lr=3e-4, weight_decay=1e-3)\n",
    "scheduler = CyclicLRWithRestarts(optimizer, ntrainbatch, epoch_size, restart_period=80, t_mult=1.2, policy=\"cosine\")\n",
    "#criterion = torch.nn.MSELoss()\n",
    "\n",
    "#lossmse = nn.MSELoss()\n",
    "def resoloss2(output,truth):\n",
    "    \"\"\" Computes MSE loss between output and truth \"\"\"\n",
    "    batch_size = output.size()[0]\n",
    "    mse = F.mse_loss(output, truth, reduction='mean')\n",
    "    #mse = torch.sum((output-truth)**2/truth)/batch_size\n",
    "    #mse = torch.sum(((output-truth)/truth)**2)/batch_size\n",
    "    #mse = torch.mean(torch.abs((output - truth)))\n",
    "    \n",
    "    #res = \n",
    "    return (mse)\n",
    "\n",
    "#model.train()\n",
    "def train(epoch):\n",
    "    model.train()\n",
    "    torch.cuda.empty_cache()\n",
    "    scheduler.step()\n",
    "    loss = []\n",
    "    for data in tqdm(trainloader):\n",
    "            data = data.to(device)\n",
    "            optimizer.zero_grad()\n",
    "            result = model(data)\n",
    "            lossc = resoloss2(result, data.trueBeamEnergy)\n",
    "            loss.append(lossc.item()) \n",
    "            lossc.backward()\n",
    "            optimizer.step()\n",
    "            scheduler.batch_step()\n",
    "    print( 'batches for train:',len(loss)) \n",
    "    print('train loss:',np.mean(np.array(loss)))\n",
    "    return np.mean(np.array(loss))\n",
    "\n",
    "from scipy.stats import norm\n",
    "import matplotlib.mlab as mlab\n",
    "import scipy.stats as scs\n",
    "from scipy.optimize import curve_fit\n",
    "import matplotlib.pyplot as plt\n",
    "#%matplotlib inline\n",
    "\n",
    "def gaussian(x,  mean,a, sigma):\n",
    "    return a * np.exp(-((x - mean)**2 / (2 * sigma**2)))\n",
    "\n",
    "def evaluate(epoch):\n",
    "        \"\"\"\"Evaluate the model\"\"\"\n",
    "        model.zero_grad()\n",
    "        torch.cuda.empty_cache()\n",
    "        model.eval()\n",
    "        pred = []\n",
    "        true = []\n",
    "        loss= []\n",
    "        \n",
    "        correct = 0\n",
    "        predc = []\n",
    "        truec = []\n",
    "        for data in tqdm(testloader):\n",
    "            data = data.to(device)        \n",
    "            result = model(data)\n",
    "            lossc = resoloss2(result, data.trueBeamEnergy)\n",
    "\n",
    "            loss.append(lossc.item())\n",
    "\n",
    "            for i in result:\n",
    "                pred.append(i.detach().cpu())\n",
    "                #predc.append(i.detach().cpu().argmax())\n",
    "            for i in data.trueBeamEnergy.detach():\n",
    "                true.append(i.detach().cpu())\n",
    "\n",
    "        print('batches for test:', len(loss)) \n",
    "        print('test loss:',np.mean(np.array(loss)))\n",
    "#        fracarr = np.array(frac\n",
    "\n",
    "        \n",
    "        preda = np.array(pred)\n",
    "        \"\"\" Array of predictions (beam energy) \"\"\"\n",
    "        truea = np.array(true)\n",
    "        \"\"\" Array of true beam energy \"\"\"\n",
    "        #preda = preda[:,2] ### added\n",
    "        #truea = truea[:,1] ### added\n",
    "        fracarr = (preda - truea)/truea\n",
    "        \"\"\" Array of (prediction - truth)/truth \"\"\"\n",
    "        #print(preda,truea,fracarr)\n",
    "        print('pred - true / true mean:',(np.mean(fracarr)))\n",
    "        print('pred - true / true std:',(np.std(fracarr)))\n",
    "        (mu, sigma) = norm.fit(fracarr)\n",
    "        \"\"\" gaussian fit of (prediction - truth)/truth \"\"\"\n",
    "        print('mu,sig:',mu,sigma)\n",
    "        \n",
    "\n",
    "        #bin_heights, bin_borders, _ = plt.hist(fracarr,range=[-2,2], bins=100, label='histogram')\n",
    "        #bin_centers = bin_borders[:-1] + np.diff(bin_borders) / 2\n",
    "        \n",
    "        #### Histogram of (pred - true) / true \n",
    "        from matplotlib.pyplot import figure\n",
    "        # fig = figure(figsize=(30, 20), dpi=40)\n",
    "        # plt.rcParams['axes.labelsize'] = 36\n",
    "        # plt.rcParams['axes.titlesize'] = 36\n",
    "        # plt.hist(fracarr,bins=100,range=[-4,4])\n",
    "        # plt.xticks(fontsize=16)\n",
    "        # plt.yticks(fontsize=16)\n",
    "        # plt.axvline(x=0.0,c='r')\n",
    "        #plt.show()\n",
    "        writer.add_histogram(\"Pred-truth / truth\", fracarr, epoch)\n",
    "\n",
    "        \n",
    "        '''\n",
    "        bins =  np.linspace(0,18,19)\n",
    "\n",
    "        fig, axs = plt.subplots(6,3, figsize=(40, 40), facecolor='w', edgecolor='k')\n",
    "        axs = axs.ravel()\n",
    "\n",
    "        for i in tqdm(range (bins.size - 1)):\n",
    "            predaa = preda[(truea >bins[i]) & (truea <bins[i+1]) ]\n",
    "            trueaa = truea[(truea >bins[i]) & (truea <bins[i+1]) ]\n",
    "            fracarr = (predaa - trueaa)/trueaa\n",
    "            #if (fracarr < 0):\n",
    "            axs[i].hist(fracarr,bins=100,range=[-4,4],)\n",
    "            axs[i].set_xlabel('pred - true / true')\n",
    "            axs[i].set_ylabel('counts')\n",
    "            axs[i].set_title(str(bins[i])+\" to \"+str(bins[i+1]))\n",
    "            #print (vals)\n",
    "        if (epoch%5==0):\n",
    "            plt.savefig('%s/mt-mp_frac_ep%d.png'%(plot_dir, epoch), bbox_inches='tight')\n",
    "        plt.show()'''\n",
    "        \n",
    "        '''try:\n",
    "            from matplotlib.pyplot import figure\n",
    "            figure(figsize=(20, 10), dpi=30)\n",
    "            plt.rcParams['axes.labelsize'] = 16\n",
    "            plt.rcParams['axes.titlesize'] = 16\n",
    "            popt, _ = curve_fit(gaussian, bin_centers, bin_heights, p0=[0., 100., 1.],bounds = ([-np.inf,0,0],[np.inf,np.inf,np.inf]))\n",
    "            x_interval_for_fit = np.linspace(bin_borders[0], bin_borders[-1], 100)\n",
    "            plt.plot(x_interval_for_fit, gaussian(x_interval_for_fit, *popt), label='fit')\n",
    "            plt.legend()\n",
    "\n",
    "\n",
    "            plt.xlabel('pred - true / true')\n",
    "            plt.ylabel('counts')\n",
    "            #plt.yscale(\"log\")\n",
    "            #plt.title(r'$\\mathrm{pred - true / true:}\\ \\mu=%.3f,\\ \\sigma=%.3f$' %(mu, sigma))\n",
    "            plt.title(r'$\\mathrm{pred - true / true:}\\ \\mu=%.3f,\\ \\sigma=%.3f$' %(popt[0], popt[2]))\n",
    "            plt.grid(True)\n",
    "\n",
    "            plt.show()\n",
    "\n",
    "        except RuntimeError:\n",
    "            print(\"Error - curve_fit failed\")\n",
    "            plt.xlabel('pred - true / true')\n",
    "            plt.ylabel('counts')\n",
    "            #plt.title(r'$\\mathrm{pred - true / true:}\\ \\mu=%.3f,\\ \\sigma=%.3f$' %(mu, sigma))\n",
    "            plt.title('pred - true / true fit failed')\n",
    "            #plt.yscale(\"log\")\n",
    "            plt.grid(True)\n",
    "\n",
    "            plt.show()'''\n",
    "        ### Scatter of true beam energy (x) vs predicted beam energy (y)\n",
    "        from matplotlib.pyplot import figure\n",
    "        fig = figure(figsize=(30, 30), dpi=40)\n",
    "        #plt.rcParams['axes.labelsize'] = 36\n",
    "        #plt.rcParams['axes.titlesize'] = 36\n",
    "        #plt.hist2d(truea,preda,bins=200)\n",
    "        plt.scatter(truea,preda,alpha=0.4)\n",
    "        plt.plot([0,500], [0,500], 'k-')\n",
    "        plt.xticks(fontsize=16)\n",
    "        plt.yticks(fontsize=16)\n",
    "        #plt.xlim([-2, 18])\n",
    "        #plt.ylim([-2, 20])\n",
    "        plt.axvline(x=1.0,c='r')\n",
    "        plt.axhline(y=1.0,c='r')\n",
    "        #plt.show()\n",
    "        writer.add_figure(\"Scatter\", fig, epoch)\n",
    "        #if (epoch%5 ==0):\n",
    "        #    plt.savefig('%s/mpredVsmtrue_ep%d.png'%(plot_dir, epoch), bbox_inches='tight')\n",
    "        #plt.show()\n",
    "        return np.mean(np.array(loss))\n",
    "        #del pred,true,loss,preda,truea,fracarr  #memtest\n"
   ]
  },
  {
   "cell_type": "code",
   "execution_count": 8,
   "metadata": {},
   "outputs": [
    {
     "name": "stdout",
     "output_type": "stream",
     "text": [
      "epoch: 0\n"
     ]
    },
    {
     "data": {
      "application/vnd.jupyter.widget-view+json": {
       "model_id": "48948de5865747268ba1807f7cf3f1d3",
       "version_major": 2,
       "version_minor": 0
      },
      "text/plain": [
       "  0%|          | 0/1439 [00:00<?, ?it/s]"
      ]
     },
     "metadata": {},
     "output_type": "display_data"
    },
    {
     "name": "stderr",
     "output_type": "stream",
     "text": [
      "/grid_mnt/vol_home/llr/cms/cuisset/mambaforge/envs/clustering-analysis-gpu2/lib/python3.10/site-packages/torch_geometric/utils/scatter.py:93: UserWarning: The usage of `scatter(reduce='max')` can be accelerated via the 'torch-scatter' package, but it was not found\n",
      "  warnings.warn(f\"The usage of `scatter(reduce='{reduce}')` \"\n"
     ]
    },
    {
     "name": "stdout",
     "output_type": "stream",
     "text": [
      "batches for train: 1439\n",
      "train loss: 2938.9465175944124\n"
     ]
    },
    {
     "data": {
      "application/vnd.jupyter.widget-view+json": {
       "model_id": "160dbc38035743b6a406039dc6283519",
       "version_major": 2,
       "version_minor": 0
      },
      "text/plain": [
       "  0%|          | 0/720 [00:00<?, ?it/s]"
      ]
     },
     "metadata": {},
     "output_type": "display_data"
    },
    {
     "name": "stdout",
     "output_type": "stream",
     "text": [
      "batches for test: 720\n",
      "test loss: 3131.335665215386\n",
      "pred - true / true mean: -0.44413283\n",
      "pred - true / true std: 0.098068416\n",
      "mu,sig: -0.44413283 0.098068416\n",
      "new best test loss: 3131.335665215386\n",
      "epoch: 1\n"
     ]
    },
    {
     "data": {
      "application/vnd.jupyter.widget-view+json": {
       "model_id": "46cca54fc8ad46f99a5ce5a0781a493c",
       "version_major": 2,
       "version_minor": 0
      },
      "text/plain": [
       "  0%|          | 0/1439 [00:00<?, ?it/s]"
      ]
     },
     "metadata": {},
     "output_type": "display_data"
    },
    {
     "name": "stdout",
     "output_type": "stream",
     "text": [
      "batches for train: 1439\n",
      "train loss: 2019.8970207124223\n"
     ]
    },
    {
     "data": {
      "application/vnd.jupyter.widget-view+json": {
       "model_id": "ba016e29fc8e461c89854d14b852b803",
       "version_major": 2,
       "version_minor": 0
      },
      "text/plain": [
       "  0%|          | 0/720 [00:00<?, ?it/s]"
      ]
     },
     "metadata": {},
     "output_type": "display_data"
    },
    {
     "name": "stdout",
     "output_type": "stream",
     "text": [
      "batches for test: 720\n",
      "test loss: 2178.4273881700306\n",
      "pred - true / true mean: -0.3200301\n",
      "pred - true / true std: 0.09660354\n",
      "mu,sig: -0.3200301 0.09660354\n",
      "new best test loss: 2178.4273881700306\n",
      "epoch: 2\n"
     ]
    },
    {
     "data": {
      "application/vnd.jupyter.widget-view+json": {
       "model_id": "a30ff58b6d8e477c9054b910ba360ba4",
       "version_major": 2,
       "version_minor": 0
      },
      "text/plain": [
       "  0%|          | 0/1439 [00:00<?, ?it/s]"
      ]
     },
     "metadata": {},
     "output_type": "display_data"
    },
    {
     "name": "stdout",
     "output_type": "stream",
     "text": [
      "batches for train: 1439\n",
      "train loss: 1817.8395944347474\n"
     ]
    },
    {
     "data": {
      "application/vnd.jupyter.widget-view+json": {
       "model_id": "979cbe3e912642d48ebf3b9c84b7708b",
       "version_major": 2,
       "version_minor": 0
      },
      "text/plain": [
       "  0%|          | 0/720 [00:00<?, ?it/s]"
      ]
     },
     "metadata": {},
     "output_type": "display_data"
    },
    {
     "name": "stdout",
     "output_type": "stream",
     "text": [
      "batches for test: 720\n",
      "test loss: 1611.2028107537164\n",
      "pred - true / true mean: -0.22213006\n",
      "pred - true / true std: 0.12121413\n",
      "mu,sig: -0.22213006 0.12121413\n",
      "new best test loss: 1611.2028107537164\n",
      "epoch: 3\n"
     ]
    },
    {
     "data": {
      "application/vnd.jupyter.widget-view+json": {
       "model_id": "ef23c8a731c54d60ac265baab52517f1",
       "version_major": 2,
       "version_minor": 0
      },
      "text/plain": [
       "  0%|          | 0/1439 [00:00<?, ?it/s]"
      ]
     },
     "metadata": {},
     "output_type": "display_data"
    },
    {
     "name": "stdout",
     "output_type": "stream",
     "text": [
      "batches for train: 1439\n",
      "train loss: 1616.8993411087345\n"
     ]
    },
    {
     "data": {
      "application/vnd.jupyter.widget-view+json": {
       "model_id": "eb0c428b07714882b292ce05ff453eb5",
       "version_major": 2,
       "version_minor": 0
      },
      "text/plain": [
       "  0%|          | 0/720 [00:00<?, ?it/s]"
      ]
     },
     "metadata": {},
     "output_type": "display_data"
    },
    {
     "name": "stdout",
     "output_type": "stream",
     "text": [
      "batches for test: 720\n",
      "test loss: 1320.709460957845\n",
      "pred - true / true mean: -0.22480105\n",
      "pred - true / true std: 0.109562166\n",
      "mu,sig: -0.22480105 0.109562166\n",
      "new best test loss: 1320.709460957845\n",
      "epoch: 4\n"
     ]
    },
    {
     "data": {
      "application/vnd.jupyter.widget-view+json": {
       "model_id": "99d9371347a344bd9f9414b15329a987",
       "version_major": 2,
       "version_minor": 0
      },
      "text/plain": [
       "  0%|          | 0/1439 [00:00<?, ?it/s]"
      ]
     },
     "metadata": {},
     "output_type": "display_data"
    },
    {
     "name": "stdout",
     "output_type": "stream",
     "text": [
      "batches for train: 1439\n",
      "train loss: 1414.2785108405903\n"
     ]
    },
    {
     "data": {
      "application/vnd.jupyter.widget-view+json": {
       "model_id": "a9a6a4ee187b42639af2157051fb6525",
       "version_major": 2,
       "version_minor": 0
      },
      "text/plain": [
       "  0%|          | 0/720 [00:00<?, ?it/s]"
      ]
     },
     "metadata": {},
     "output_type": "display_data"
    },
    {
     "name": "stdout",
     "output_type": "stream",
     "text": [
      "batches for test: 720\n",
      "test loss: 987.065463341607\n",
      "pred - true / true mean: -0.19195148\n",
      "pred - true / true std: 0.15977165\n",
      "mu,sig: -0.19195148 0.15977165\n",
      "new best test loss: 987.065463341607\n",
      "epoch: 5\n"
     ]
    },
    {
     "data": {
      "application/vnd.jupyter.widget-view+json": {
       "model_id": "4ec56fd0bc7b48e79276543909fbb1a4",
       "version_major": 2,
       "version_minor": 0
      },
      "text/plain": [
       "  0%|          | 0/1439 [00:00<?, ?it/s]"
      ]
     },
     "metadata": {},
     "output_type": "display_data"
    },
    {
     "name": "stdout",
     "output_type": "stream",
     "text": [
      "batches for train: 1439\n",
      "train loss: 1278.0829385064226\n"
     ]
    },
    {
     "data": {
      "application/vnd.jupyter.widget-view+json": {
       "model_id": "8889cab8bde74c5b979e38c960bc95f0",
       "version_major": 2,
       "version_minor": 0
      },
      "text/plain": [
       "  0%|          | 0/720 [00:00<?, ?it/s]"
      ]
     },
     "metadata": {},
     "output_type": "display_data"
    },
    {
     "name": "stdout",
     "output_type": "stream",
     "text": [
      "batches for test: 720\n",
      "test loss: 895.4902246263292\n",
      "pred - true / true mean: -0.16828275\n",
      "pred - true / true std: 0.17144744\n",
      "mu,sig: -0.16828275 0.17144744\n",
      "new best test loss: 895.4902246263292\n",
      "epoch: 6\n"
     ]
    },
    {
     "data": {
      "application/vnd.jupyter.widget-view+json": {
       "model_id": "8bc40aaee60141d3a08d231b93acadb2",
       "version_major": 2,
       "version_minor": 0
      },
      "text/plain": [
       "  0%|          | 0/1439 [00:00<?, ?it/s]"
      ]
     },
     "metadata": {},
     "output_type": "display_data"
    },
    {
     "name": "stdout",
     "output_type": "stream",
     "text": [
      "batches for train: 1439\n",
      "train loss: 1162.342493116897\n"
     ]
    },
    {
     "data": {
      "application/vnd.jupyter.widget-view+json": {
       "model_id": "f198a28dc745448ab0273230ee551c30",
       "version_major": 2,
       "version_minor": 0
      },
      "text/plain": [
       "  0%|          | 0/720 [00:00<?, ?it/s]"
      ]
     },
     "metadata": {},
     "output_type": "display_data"
    },
    {
     "name": "stdout",
     "output_type": "stream",
     "text": [
      "batches for test: 720\n",
      "test loss: 760.0041618771023\n",
      "pred - true / true mean: -0.15440784\n",
      "pred - true / true std: 0.13966395\n",
      "mu,sig: -0.15440784 0.13966395\n",
      "new best test loss: 760.0041618771023\n",
      "epoch: 7\n"
     ]
    },
    {
     "data": {
      "application/vnd.jupyter.widget-view+json": {
       "model_id": "30a00eb756544c6da7f2edf4c4a34b43",
       "version_major": 2,
       "version_minor": 0
      },
      "text/plain": [
       "  0%|          | 0/1439 [00:00<?, ?it/s]"
      ]
     },
     "metadata": {},
     "output_type": "display_data"
    },
    {
     "name": "stdout",
     "output_type": "stream",
     "text": [
      "batches for train: 1439\n",
      "train loss: 1091.3083013835428\n"
     ]
    },
    {
     "data": {
      "application/vnd.jupyter.widget-view+json": {
       "model_id": "6fd5732fb58e4c4193cba11dc0b403b8",
       "version_major": 2,
       "version_minor": 0
      },
      "text/plain": [
       "  0%|          | 0/720 [00:00<?, ?it/s]"
      ]
     },
     "metadata": {},
     "output_type": "display_data"
    },
    {
     "name": "stdout",
     "output_type": "stream",
     "text": [
      "batches for test: 720\n",
      "test loss: 1051.0389673021104\n",
      "pred - true / true mean: -0.18695754\n",
      "pred - true / true std: 0.14930815\n",
      "mu,sig: -0.18695754 0.14930815\n",
      "epoch: 8\n"
     ]
    },
    {
     "data": {
      "application/vnd.jupyter.widget-view+json": {
       "model_id": "5aab3e06d83f41f5b85608e35459f611",
       "version_major": 2,
       "version_minor": 0
      },
      "text/plain": [
       "  0%|          | 0/1439 [00:00<?, ?it/s]"
      ]
     },
     "metadata": {},
     "output_type": "display_data"
    },
    {
     "name": "stdout",
     "output_type": "stream",
     "text": [
      "batches for train: 1439\n",
      "train loss: 1016.3380446337925\n"
     ]
    },
    {
     "data": {
      "application/vnd.jupyter.widget-view+json": {
       "model_id": "c1b646bf1215457483f998fab6a519ec",
       "version_major": 2,
       "version_minor": 0
      },
      "text/plain": [
       "  0%|          | 0/720 [00:00<?, ?it/s]"
      ]
     },
     "metadata": {},
     "output_type": "display_data"
    },
    {
     "name": "stdout",
     "output_type": "stream",
     "text": [
      "batches for test: 720\n",
      "test loss: 716.3057083129883\n",
      "pred - true / true mean: -0.15193127\n",
      "pred - true / true std: 0.13918276\n",
      "mu,sig: -0.15193127 0.13918276\n",
      "new best test loss: 716.3057083129883\n",
      "epoch: 9\n"
     ]
    },
    {
     "data": {
      "application/vnd.jupyter.widget-view+json": {
       "model_id": "ea039520d5164e2c8722ee8fac5998c2",
       "version_major": 2,
       "version_minor": 0
      },
      "text/plain": [
       "  0%|          | 0/1439 [00:00<?, ?it/s]"
      ]
     },
     "metadata": {},
     "output_type": "display_data"
    },
    {
     "name": "stdout",
     "output_type": "stream",
     "text": [
      "batches for train: 1439\n",
      "train loss: 957.6838748128652\n"
     ]
    },
    {
     "data": {
      "application/vnd.jupyter.widget-view+json": {
       "model_id": "fbc7bdb1ab7f499fbbdecd4b8f65a578",
       "version_major": 2,
       "version_minor": 0
      },
      "text/plain": [
       "  0%|          | 0/720 [00:00<?, ?it/s]"
      ]
     },
     "metadata": {},
     "output_type": "display_data"
    },
    {
     "name": "stdout",
     "output_type": "stream",
     "text": [
      "batches for test: 720\n",
      "test loss: 986.2935523139106\n",
      "pred - true / true mean: -0.20164011\n",
      "pred - true / true std: 0.168052\n",
      "mu,sig: -0.20164011 0.168052\n",
      "epoch: 10\n"
     ]
    },
    {
     "data": {
      "application/vnd.jupyter.widget-view+json": {
       "model_id": "959f698e74f24b89993d896ccb4cecd8",
       "version_major": 2,
       "version_minor": 0
      },
      "text/plain": [
       "  0%|          | 0/1439 [00:00<?, ?it/s]"
      ]
     },
     "metadata": {},
     "output_type": "display_data"
    },
    {
     "name": "stdout",
     "output_type": "stream",
     "text": [
      "batches for train: 1439\n",
      "train loss: 916.9757688733089\n"
     ]
    },
    {
     "data": {
      "application/vnd.jupyter.widget-view+json": {
       "model_id": "b9dd8af4d46249328b1f8dfb695d2df9",
       "version_major": 2,
       "version_minor": 0
      },
      "text/plain": [
       "  0%|          | 0/720 [00:00<?, ?it/s]"
      ]
     },
     "metadata": {},
     "output_type": "display_data"
    },
    {
     "name": "stdout",
     "output_type": "stream",
     "text": [
      "batches for test: 720\n",
      "test loss: 700.9016333262126\n",
      "pred - true / true mean: -0.18879601\n",
      "pred - true / true std: 0.1281339\n",
      "mu,sig: -0.18879601 0.1281339\n",
      "new best test loss: 700.9016333262126\n",
      "epoch: 11\n"
     ]
    },
    {
     "data": {
      "application/vnd.jupyter.widget-view+json": {
       "model_id": "85ed19d8078e452e8bd53f68f8cb3a25",
       "version_major": 2,
       "version_minor": 0
      },
      "text/plain": [
       "  0%|          | 0/1439 [00:00<?, ?it/s]"
      ]
     },
     "metadata": {},
     "output_type": "display_data"
    },
    {
     "name": "stdout",
     "output_type": "stream",
     "text": [
      "batches for train: 1439\n",
      "train loss: 872.506843508574\n"
     ]
    },
    {
     "data": {
      "application/vnd.jupyter.widget-view+json": {
       "model_id": "1bf14bb7ae6741e0b5312ef7d95bcdd5",
       "version_major": 2,
       "version_minor": 0
      },
      "text/plain": [
       "  0%|          | 0/720 [00:00<?, ?it/s]"
      ]
     },
     "metadata": {},
     "output_type": "display_data"
    },
    {
     "name": "stdout",
     "output_type": "stream",
     "text": [
      "batches for test: 720\n",
      "test loss: 783.2364513821072\n",
      "pred - true / true mean: -0.18427281\n",
      "pred - true / true std: 0.14570807\n",
      "mu,sig: -0.18427281 0.14570807\n",
      "epoch: 12\n"
     ]
    },
    {
     "data": {
      "application/vnd.jupyter.widget-view+json": {
       "model_id": "1157d29b554d4c3b8cf395271aac8da0",
       "version_major": 2,
       "version_minor": 0
      },
      "text/plain": [
       "  0%|          | 0/1439 [00:00<?, ?it/s]"
      ]
     },
     "metadata": {},
     "output_type": "display_data"
    },
    {
     "name": "stdout",
     "output_type": "stream",
     "text": [
      "batches for train: 1439\n",
      "train loss: 830.008298787746\n"
     ]
    },
    {
     "data": {
      "application/vnd.jupyter.widget-view+json": {
       "model_id": "e9d3952d76174730a4d07ccae153e73a",
       "version_major": 2,
       "version_minor": 0
      },
      "text/plain": [
       "  0%|          | 0/720 [00:00<?, ?it/s]"
      ]
     },
     "metadata": {},
     "output_type": "display_data"
    },
    {
     "name": "stdout",
     "output_type": "stream",
     "text": [
      "batches for test: 720\n",
      "test loss: 746.531498336792\n",
      "pred - true / true mean: -0.18376137\n",
      "pred - true / true std: 0.11533263\n",
      "mu,sig: -0.18376137 0.11533263\n",
      "epoch: 13\n"
     ]
    },
    {
     "data": {
      "application/vnd.jupyter.widget-view+json": {
       "model_id": "b0c442720f0741419079365a62990ad6",
       "version_major": 2,
       "version_minor": 0
      },
      "text/plain": [
       "  0%|          | 0/1439 [00:00<?, ?it/s]"
      ]
     },
     "metadata": {},
     "output_type": "display_data"
    },
    {
     "name": "stdout",
     "output_type": "stream",
     "text": [
      "batches for train: 1439\n",
      "train loss: 805.7194342172502\n"
     ]
    },
    {
     "data": {
      "application/vnd.jupyter.widget-view+json": {
       "model_id": "2de1edb1bfd440cf97ace66d26fd6d45",
       "version_major": 2,
       "version_minor": 0
      },
      "text/plain": [
       "  0%|          | 0/720 [00:00<?, ?it/s]"
      ]
     },
     "metadata": {},
     "output_type": "display_data"
    },
    {
     "name": "stdout",
     "output_type": "stream",
     "text": [
      "batches for test: 720\n",
      "test loss: 828.2161069234212\n",
      "pred - true / true mean: -0.14333855\n",
      "pred - true / true std: 0.14162636\n",
      "mu,sig: -0.14333855 0.14162636\n",
      "epoch: 14\n"
     ]
    },
    {
     "data": {
      "application/vnd.jupyter.widget-view+json": {
       "model_id": "f6d1a3eb961c44b0aebd4b1555850101",
       "version_major": 2,
       "version_minor": 0
      },
      "text/plain": [
       "  0%|          | 0/1439 [00:00<?, ?it/s]"
      ]
     },
     "metadata": {},
     "output_type": "display_data"
    },
    {
     "name": "stdout",
     "output_type": "stream",
     "text": [
      "batches for train: 1439\n",
      "train loss: 777.8621550474505\n"
     ]
    },
    {
     "data": {
      "application/vnd.jupyter.widget-view+json": {
       "model_id": "dcf4b9d90ba345a6b1c8bec621496943",
       "version_major": 2,
       "version_minor": 0
      },
      "text/plain": [
       "  0%|          | 0/720 [00:00<?, ?it/s]"
      ]
     },
     "metadata": {},
     "output_type": "display_data"
    },
    {
     "name": "stdout",
     "output_type": "stream",
     "text": [
      "batches for test: 720\n",
      "test loss: 466.106653298272\n",
      "pred - true / true mean: -0.124925144\n",
      "pred - true / true std: 0.13642398\n",
      "mu,sig: -0.124925144 0.13642398\n",
      "new best test loss: 466.106653298272\n",
      "epoch: 15\n"
     ]
    },
    {
     "data": {
      "application/vnd.jupyter.widget-view+json": {
       "model_id": "2858fc25f07d4e4b873ab2522c822d0d",
       "version_major": 2,
       "version_minor": 0
      },
      "text/plain": [
       "  0%|          | 0/1439 [00:00<?, ?it/s]"
      ]
     },
     "metadata": {},
     "output_type": "display_data"
    },
    {
     "name": "stdout",
     "output_type": "stream",
     "text": [
      "batches for train: 1439\n",
      "train loss: 752.9209744027293\n"
     ]
    },
    {
     "data": {
      "application/vnd.jupyter.widget-view+json": {
       "model_id": "1d2e4ece43c4401db92f95999c6227b8",
       "version_major": 2,
       "version_minor": 0
      },
      "text/plain": [
       "  0%|          | 0/720 [00:00<?, ?it/s]"
      ]
     },
     "metadata": {},
     "output_type": "display_data"
    },
    {
     "name": "stdout",
     "output_type": "stream",
     "text": [
      "batches for test: 720\n",
      "test loss: 559.4907111697727\n",
      "pred - true / true mean: -0.13796425\n",
      "pred - true / true std: 0.13500753\n",
      "mu,sig: -0.13796425 0.13500753\n",
      "epoch: 16\n"
     ]
    },
    {
     "data": {
      "application/vnd.jupyter.widget-view+json": {
       "model_id": "c76adae762da4c13aa2708b1463ad511",
       "version_major": 2,
       "version_minor": 0
      },
      "text/plain": [
       "  0%|          | 0/1439 [00:00<?, ?it/s]"
      ]
     },
     "metadata": {},
     "output_type": "display_data"
    },
    {
     "name": "stdout",
     "output_type": "stream",
     "text": [
      "batches for train: 1439\n",
      "train loss: 735.1232370637704\n"
     ]
    },
    {
     "data": {
      "application/vnd.jupyter.widget-view+json": {
       "model_id": "78853f25816e4481abe6e581c27f7edb",
       "version_major": 2,
       "version_minor": 0
      },
      "text/plain": [
       "  0%|          | 0/720 [00:00<?, ?it/s]"
      ]
     },
     "metadata": {},
     "output_type": "display_data"
    },
    {
     "name": "stdout",
     "output_type": "stream",
     "text": [
      "batches for test: 720\n",
      "test loss: 436.11297526889376\n",
      "pred - true / true mean: -0.09322531\n",
      "pred - true / true std: 0.15164325\n",
      "mu,sig: -0.09322531 0.15164325\n",
      "new best test loss: 436.11297526889376\n",
      "epoch: 17\n"
     ]
    },
    {
     "data": {
      "application/vnd.jupyter.widget-view+json": {
       "model_id": "62084918d11345d985a6eee8172f4bb6",
       "version_major": 2,
       "version_minor": 0
      },
      "text/plain": [
       "  0%|          | 0/1439 [00:00<?, ?it/s]"
      ]
     },
     "metadata": {},
     "output_type": "display_data"
    },
    {
     "name": "stdout",
     "output_type": "stream",
     "text": [
      "batches for train: 1439\n",
      "train loss: 709.579388118105\n"
     ]
    },
    {
     "data": {
      "application/vnd.jupyter.widget-view+json": {
       "model_id": "46774d61e0e744c385e9515ee209e107",
       "version_major": 2,
       "version_minor": 0
      },
      "text/plain": [
       "  0%|          | 0/720 [00:00<?, ?it/s]"
      ]
     },
     "metadata": {},
     "output_type": "display_data"
    },
    {
     "name": "stdout",
     "output_type": "stream",
     "text": [
      "batches for test: 720\n",
      "test loss: 672.0319867875841\n",
      "pred - true / true mean: -0.11883284\n",
      "pred - true / true std: 0.14933987\n",
      "mu,sig: -0.11883284 0.14933987\n",
      "epoch: 18\n"
     ]
    },
    {
     "data": {
      "application/vnd.jupyter.widget-view+json": {
       "model_id": "48a3941191c84294aca38b23b139cf9c",
       "version_major": 2,
       "version_minor": 0
      },
      "text/plain": [
       "  0%|          | 0/1439 [00:00<?, ?it/s]"
      ]
     },
     "metadata": {},
     "output_type": "display_data"
    },
    {
     "name": "stdout",
     "output_type": "stream",
     "text": [
      "batches for train: 1439\n",
      "train loss: 696.618203317564\n"
     ]
    },
    {
     "data": {
      "application/vnd.jupyter.widget-view+json": {
       "model_id": "867277f963054b7d9c2597bc76feb7bb",
       "version_major": 2,
       "version_minor": 0
      },
      "text/plain": [
       "  0%|          | 0/720 [00:00<?, ?it/s]"
      ]
     },
     "metadata": {},
     "output_type": "display_data"
    },
    {
     "name": "stdout",
     "output_type": "stream",
     "text": [
      "batches for test: 720\n",
      "test loss: 330.94776929219563\n",
      "pred - true / true mean: -0.051324748\n",
      "pred - true / true std: 0.1618406\n",
      "mu,sig: -0.051324748 0.1618406\n",
      "new best test loss: 330.94776929219563\n",
      "epoch: 19\n"
     ]
    },
    {
     "data": {
      "application/vnd.jupyter.widget-view+json": {
       "model_id": "0afe7cf56dcb453b92edf799d5c5f7c6",
       "version_major": 2,
       "version_minor": 0
      },
      "text/plain": [
       "  0%|          | 0/1439 [00:00<?, ?it/s]"
      ]
     },
     "metadata": {},
     "output_type": "display_data"
    },
    {
     "name": "stdout",
     "output_type": "stream",
     "text": [
      "batches for train: 1439\n",
      "train loss: 681.7665104127079\n"
     ]
    },
    {
     "data": {
      "application/vnd.jupyter.widget-view+json": {
       "model_id": "d075ac63f5974aa69505d5eb3347dba6",
       "version_major": 2,
       "version_minor": 0
      },
      "text/plain": [
       "  0%|          | 0/720 [00:00<?, ?it/s]"
      ]
     },
     "metadata": {},
     "output_type": "display_data"
    },
    {
     "name": "stdout",
     "output_type": "stream",
     "text": [
      "batches for test: 720\n",
      "test loss: 384.032579337226\n",
      "pred - true / true mean: -0.08957938\n",
      "pred - true / true std: 0.1483227\n",
      "mu,sig: -0.08957938 0.1483227\n",
      "epoch: 20\n"
     ]
    },
    {
     "data": {
      "application/vnd.jupyter.widget-view+json": {
       "model_id": "2187e8f34c7a4aa682449964795e4749",
       "version_major": 2,
       "version_minor": 0
      },
      "text/plain": [
       "  0%|          | 0/1439 [00:00<?, ?it/s]"
      ]
     },
     "metadata": {},
     "output_type": "display_data"
    },
    {
     "name": "stdout",
     "output_type": "stream",
     "text": [
      "batches for train: 1439\n",
      "train loss: 671.0186404293821\n"
     ]
    },
    {
     "data": {
      "application/vnd.jupyter.widget-view+json": {
       "model_id": "8768ad77ebad4dbe823df9bd1ed3fd0f",
       "version_major": 2,
       "version_minor": 0
      },
      "text/plain": [
       "  0%|          | 0/720 [00:00<?, ?it/s]"
      ]
     },
     "metadata": {},
     "output_type": "display_data"
    },
    {
     "name": "stdout",
     "output_type": "stream",
     "text": [
      "batches for test: 720\n",
      "test loss: 463.1497875849406\n",
      "pred - true / true mean: -0.08267741\n",
      "pred - true / true std: 0.14432512\n",
      "mu,sig: -0.08267741 0.14432512\n",
      "epoch: 21\n"
     ]
    },
    {
     "data": {
      "application/vnd.jupyter.widget-view+json": {
       "model_id": "3dcd32e2e603498a9758cbb32fa6f77b",
       "version_major": 2,
       "version_minor": 0
      },
      "text/plain": [
       "  0%|          | 0/1439 [00:00<?, ?it/s]"
      ]
     },
     "metadata": {},
     "output_type": "display_data"
    },
    {
     "name": "stdout",
     "output_type": "stream",
     "text": [
      "batches for train: 1439\n",
      "train loss: 655.967830867383\n"
     ]
    },
    {
     "data": {
      "application/vnd.jupyter.widget-view+json": {
       "model_id": "3245b9c4951e40f6ad542d768c7a04e0",
       "version_major": 2,
       "version_minor": 0
      },
      "text/plain": [
       "  0%|          | 0/720 [00:00<?, ?it/s]"
      ]
     },
     "metadata": {},
     "output_type": "display_data"
    },
    {
     "name": "stdout",
     "output_type": "stream",
     "text": [
      "batches for test: 720\n",
      "test loss: 405.1846091376411\n",
      "pred - true / true mean: -0.08099406\n",
      "pred - true / true std: 0.14379816\n",
      "mu,sig: -0.08099406 0.14379816\n",
      "epoch: 22\n"
     ]
    },
    {
     "data": {
      "application/vnd.jupyter.widget-view+json": {
       "model_id": "f24ba6a7315240ed938d577b3a63d265",
       "version_major": 2,
       "version_minor": 0
      },
      "text/plain": [
       "  0%|          | 0/1439 [00:00<?, ?it/s]"
      ]
     },
     "metadata": {},
     "output_type": "display_data"
    }
   ],
   "source": [
    "#from tqdm import notebook.tqdm as tqdm\n",
    "#import tqdm.notebook.tqdm as tqdm\n",
    "#checkpoint_dir = '/home/sameasy2006/hgcal_ldrd-gravnet2_wip_trainer_args/ouput_regression_testtesttesttest_dyn2addlayer/'\n",
    "#checkpoint_dir = '/home/sameasy2006/hgcal_ldrd-gravnet2_wip_trainer_args/ouput_regression_add1ip1dyn_binresoloss/'\n",
    "#\"/home/llr/cms/sghosh/GNNECAL/model_nopho_deepernet/\"\n",
    "checkpoint_dir = \"/grid_mnt/vol_home/llr/cms/cuisset/hgcal/testbeam18/clue3d-dev/src/Plotting/ml/regression/checkpoints\"\n",
    "plot_dir = \"/grid_mnt/vol_home/llr/cms/cuisset/hgcal/testbeam18/clue3d-dev/src/Plotting/ml/regression/plots\"\n",
    "nepoch=500\n",
    "os.makedirs(checkpoint_dir, exist_ok=True)\n",
    "best_loss = 99999999\n",
    "losst = []\n",
    "\"\"\" Training loss for each epoch \"\"\"\n",
    "lossv = []\n",
    "\"\"\" Validation loss for each epoch\"\"\"\n",
    "epochs = []\n",
    "for epoch in range(nepoch):\n",
    "    print ('epoch:',epoch)\n",
    "    losst.append(train(epoch))\n",
    "    loss_epoch = evaluate(epoch)\n",
    "    lossv.append(loss_epoch)\n",
    "    epochs.append(epoch)\n",
    "    checkpoint = {\n",
    "    'epoch': epoch + 1,\n",
    "    'state_dict': model.state_dict(),\n",
    "    'optimizer': optimizer.state_dict()\n",
    "    }\n",
    "    \n",
    "    checkpoint_file = 'model_epoch_%i.pth.tar' % ( epoch )\n",
    "    torch.save(checkpoint,\n",
    "                   os.path.join(checkpoint_dir,checkpoint_file ))\n",
    "    if loss_epoch < best_loss:\n",
    "        best_loss = loss_epoch\n",
    "        print('new best test loss:',best_loss)\n",
    "        torch.save(checkpoint,\n",
    "                   os.path.join(checkpoint_dir,'model_checkpoint_best.pth.tar' ))\n",
    "    \n",
    "    writer.add_scalar(\"Loss/Training\", losst[-1], epoch)\n",
    "    writer.add_scalar(\"Loss/Testing\", loss_epoch, epoch)\n",
    "\n",
    " "
   ]
  },
  {
   "cell_type": "code",
   "execution_count": null,
   "metadata": {},
   "outputs": [],
   "source": []
  }
 ],
 "metadata": {
  "kernelspec": {
   "display_name": "clustering-analysis-gpu2 (for llrai01)",
   "language": "python",
   "name": "clustering-analysis-gpu"
  },
  "language_info": {
   "codemirror_mode": {
    "name": "ipython",
    "version": 3
   },
   "file_extension": ".py",
   "mimetype": "text/x-python",
   "name": "python",
   "nbconvert_exporter": "python",
   "pygments_lexer": "ipython3",
   "version": "3.10.11"
  },
  "orig_nbformat": 4
 },
 "nbformat": 4,
 "nbformat_minor": 2
}
