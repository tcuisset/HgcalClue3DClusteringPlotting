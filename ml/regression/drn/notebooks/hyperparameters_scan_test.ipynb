{
 "cells": [
  {
   "cell_type": "code",
   "execution_count": 1,
   "metadata": {},
   "outputs": [
    {
     "name": "stderr",
     "output_type": "stream",
     "text": [
      "2023-06-21 12:18:32.658472: I tensorflow/core/platform/cpu_feature_guard.cc:193] This TensorFlow binary is optimized with oneAPI Deep Neural Network Library (oneDNN) to use the following CPU instructions in performance-critical operations:  SSE4.1 SSE4.2 AVX AVX2 AVX512F AVX512_VNNI FMA\n",
      "To enable them in other operations, rebuild TensorFlow with the appropriate compiler flags.\n",
      "2023-06-21 12:18:32.772897: I tensorflow/core/util/port.cc:104] oneDNN custom operations are on. You may see slightly different numerical results due to floating-point round-off errors from different computation orders. To turn them off, set the environment variable `TF_ENABLE_ONEDNN_OPTS=0`.\n"
     ]
    }
   ],
   "source": [
    "import sys\n",
    "sys.path.append(\"../../../..\")\n",
    "%load_ext autoreload\n",
    "%autoreload 2\n",
    "\n",
    "#%aimport ml.regression.drn.hyperparameters_scan\n",
    "from ml.regression.drn.hyperparameters_scan import *\n",
    "import ml"
   ]
  },
  {
   "cell_type": "code",
   "execution_count": 6,
   "metadata": {},
   "outputs": [
    {
     "name": "stderr",
     "output_type": "stream",
     "text": [
      "/grid_mnt/vol_home/llr/cms/cuisset/mambaforge/envs/clustering-analysis-gpu2/lib/python3.10/site-packages/lightning/pytorch/cli.py:484: UserWarning: LightningCLI's args parameter is intended to run from within Python like if it were from the command line. To prevent mistakes it is not recommended to provide both args and command line arguments, got: sys.argv[1:]=['--ip=127.0.0.1', '--stdin=9018', '--control=9016', '--hb=9015', '--Session.signature_scheme=\"hmac-sha256\"', '--Session.key=b\"63a9dfae-2d24-4a1a-849a-18da6ec4f13c\"', '--shell=9017', '--transport=\"tcp\"', '--iopub=9019', '--f=/home/llr/cms/cuisset/.local/share/jupyter/runtime/kernel-v2-19047u1djDygYFz30.json'], args=['--config=/grid_mnt/vol_home/llr/cms/cuisset/hgcal/testbeam18/clue3d-dev/src/Plotting/ml/regression/drn/configs/common.yaml', '--config=/grid_mnt/vol_home/llr/cms/cuisset/hgcal/testbeam18/clue3d-dev/src/Plotting/ml/regression/drn/configs/LC.yaml', '--trainer.max_epochs=1', '--trainer.limit_train_batches=0.1', '--trainer.devices=[2]', '--data.keepOnGpu=cuda:2', '--trainer.logger=TensorBoardLogger', '--trainer.logger.save_dir=.', '--trainer.logger.name=test-trainer', '--trainer.logger.version=version'].\n",
      "  rank_zero_warn(\n",
      "Global seed set to 800186771\n",
      "GPU available: True (cuda), used: True\n",
      "TPU available: False, using: 0 TPU cores\n",
      "IPU available: False, using: 0 IPUs\n",
      "HPU available: False, using: 0 HPUs\n",
      "LOCAL_RANK: 0 - CUDA_VISIBLE_DEVICES: [0,1,2,3]\n",
      "/grid_mnt/vol_home/llr/cms/cuisset/mambaforge/envs/clustering-analysis-gpu2/lib/python3.10/site-packages/lightning/pytorch/trainer/connectors/data_connector.py:430: PossibleUserWarning: The dataloader, train_dataloader, does not have many workers which may be a bottleneck. Consider increasing the value of the `num_workers` argument` (try 96 which is the number of cpus on this machine) in the `DataLoader` init to improve performance.\n",
      "  rank_zero_warn(\n",
      "/grid_mnt/vol_home/llr/cms/cuisset/mambaforge/envs/clustering-analysis-gpu2/lib/python3.10/site-packages/lightning/pytorch/loops/fit_loop.py:280: PossibleUserWarning: The number of training batches (1) is smaller than the logging interval Trainer(log_every_n_steps=50). Set a lower value for log_every_n_steps if you want to see logs for the training epoch.\n",
      "  rank_zero_warn(\n",
      "\n",
      "  | Name | Type                    | Params\n",
      "-------------------------------------------------\n",
      "0 | drn  | DynamicReductionNetwork | 9.0 K \n",
      "-------------------------------------------------\n",
      "9.0 K     Trainable params\n",
      "0         Non-trainable params\n",
      "9.0 K     Total params\n",
      "0.036     Total estimated model params size (MB)\n"
     ]
    },
    {
     "data": {
      "application/vnd.jupyter.widget-view+json": {
       "model_id": "d1b83834283f4689b65d0c666e677829",
       "version_major": 2,
       "version_minor": 0
      },
      "text/plain": [
       "Sanity Checking: 0it [00:00, ?it/s]"
      ]
     },
     "metadata": {},
     "output_type": "display_data"
    },
    {
     "name": "stderr",
     "output_type": "stream",
     "text": [
      "/grid_mnt/vol_home/llr/cms/cuisset/mambaforge/envs/clustering-analysis-gpu2/lib/python3.10/site-packages/lightning/pytorch/trainer/connectors/data_connector.py:430: PossibleUserWarning: The dataloader, val_dataloader, does not have many workers which may be a bottleneck. Consider increasing the value of the `num_workers` argument` (try 96 which is the number of cpus on this machine) in the `DataLoader` init to improve performance.\n",
      "  rank_zero_warn(\n"
     ]
    },
    {
     "name": "stdout",
     "output_type": "stream",
     "text": [
      "SimplePlotsCallbacks : skipping histogramming for beam energy=30 GeV due to no values to histogram\n",
      "SimplePlotsCallbacks : skipping histogramming for beam energy=100 GeV due to no values to histogram\n",
      "SimplePlotsCallbacks : skipping histogramming for beam energy=250 GeV due to no values to histogram\n"
     ]
    },
    {
     "data": {
      "application/vnd.jupyter.widget-view+json": {
       "model_id": "01d776591907414e95aae5886deb0dcf",
       "version_major": 2,
       "version_minor": 0
      },
      "text/plain": [
       "Training: 0it [00:00, ?it/s]"
      ]
     },
     "metadata": {},
     "output_type": "display_data"
    },
    {
     "name": "stderr",
     "output_type": "stream",
     "text": [
      "/grid_mnt/vol_home/llr/cms/cuisset/mambaforge/envs/clustering-analysis-gpu2/lib/python3.10/site-packages/torch_geometric/utils/scatter.py:93: UserWarning: The usage of `scatter(reduce='max')` can be accelerated via the 'torch-scatter' package, but it was not found\n",
      "  warnings.warn(f\"The usage of `scatter(reduce='{reduce}')` \"\n"
     ]
    },
    {
     "data": {
      "application/vnd.jupyter.widget-view+json": {
       "model_id": "744a227840ea4baa85a3a1166317269e",
       "version_major": 2,
       "version_minor": 0
      },
      "text/plain": [
       "Validation: 0it [00:00, ?it/s]"
      ]
     },
     "metadata": {},
     "output_type": "display_data"
    },
    {
     "name": "stdout",
     "output_type": "stream",
     "text": [
      "SimplePlotsCallbacks : skipping histogramming for beam energy=30 GeV due to no values to histogram\n",
      "SimplePlotsCallbacks : skipping histogramming for beam energy=100 GeV due to no values to histogram\n",
      "SimplePlotsCallbacks : skipping histogramming for beam energy=250 GeV due to no values to histogram\n",
      "SimplePlotsCallbacks : skipping histogramming for beam energy=30 GeV due to no values to histogram\n",
      "SimplePlotsCallbacks : skipping histogramming for beam energy=100 GeV due to no values to histogram\n",
      "SimplePlotsCallbacks : skipping histogramming for beam energy=250 GeV due to no values to histogram\n"
     ]
    },
    {
     "name": "stderr",
     "output_type": "stream",
     "text": [
      "`Trainer.fit` stopped: `max_epochs=1` reached.\n",
      "GPU available: True (cuda), used: True\n",
      "TPU available: False, using: 0 TPU cores\n",
      "IPU available: False, using: 0 IPUs\n",
      "HPU available: False, using: 0 HPUs\n",
      "Restoring states from the checkpoint path at ./test-trainer/version/checkpoints/epoch=0-step=1.ckpt\n",
      "LOCAL_RANK: 0 - CUDA_VISIBLE_DEVICES: [0,1,2,3]\n",
      "Loaded model weights from the checkpoint at ./test-trainer/version/checkpoints/epoch=0-step=1.ckpt\n",
      "/grid_mnt/vol_home/llr/cms/cuisset/mambaforge/envs/clustering-analysis-gpu2/lib/python3.10/site-packages/lightning/pytorch/trainer/connectors/data_connector.py:430: PossibleUserWarning: The dataloader, predict_dataloader, does not have many workers which may be a bottleneck. Consider increasing the value of the `num_workers` argument` (try 96 which is the number of cpus on this machine) in the `DataLoader` init to improve performance.\n",
      "  rank_zero_warn(\n"
     ]
    },
    {
     "data": {
      "application/vnd.jupyter.widget-view+json": {
       "model_id": "a48a95afeb0a4e72a67d600c9773b8f6",
       "version_major": 2,
       "version_minor": 0
      },
      "text/plain": [
       "Predicting: 0it [00:00, ?it/s]"
      ]
     },
     "metadata": {},
     "output_type": "display_data"
    },
    {
     "name": "stdout",
     "output_type": "stream",
     "text": [
      "Energy resolution straight line fit error (using test data only)\n",
      "Not enough sigma/E points to fit : only energies  were provided\n",
      "\n"
     ]
    }
   ],
   "source": [
    "cli = runForSingleParameterSet(args=[\"--config=/grid_mnt/vol_home/llr/cms/cuisset/hgcal/testbeam18/clue3d-dev/src/Plotting/ml/regression/drn/configs/common.yaml\",\n",
    "    \"--config=/grid_mnt/vol_home/llr/cms/cuisset/hgcal/testbeam18/clue3d-dev/src/Plotting/ml/regression/drn/configs/LC.yaml\",\n",
    "    #\"--data.datasetComputationClass=ml.regression.drn.dataset_making.LayerClustersTensorMaker\", \n",
    "    \"--trainer.max_epochs=1\", \"--trainer.limit_train_batches=0.1\",\n",
    "    #\"--trainer.limit_val_batches=0.5\"\n",
    "    \"--trainer.devices=[2]\", \"--data.keepOnGpu=cuda:2\", \n",
    "    \"--trainer.logger=TensorBoardLogger\", \"--trainer.logger.save_dir=.\", \"--trainer.logger.name=test-trainer\", \"--trainer.logger.version=version\"\n",
    "    ],\n",
    "    data_trainer_kwargs=dict(limit_predict_batches=0.1))"
   ]
  },
  {
   "cell_type": "code",
   "execution_count": 12,
   "metadata": {},
   "outputs": [
    {
     "data": {
      "text/plain": [
       "{'drn.hidden_dim': 20,\n",
       " 'drn.k': 10,\n",
       " 'drn.aggr': 'add',\n",
       " 'drn.dropout': 0.3,\n",
       " 'drn.norm_0': 1.0,\n",
       " 'drn.norm_1': 1.0,\n",
       " 'drn.norm_2': 1.0,\n",
       " 'drn.norm_3': 1.0,\n",
       " 'optimizer': 'torch.optim.AdamW',\n",
       " 'optimizer.lr': 0.001,\n",
       " 'optimizer.weight_decay': 0.001,\n",
       " 'lr_scheduler': 'ml.regression.drn.modules.CyclicLRWithRestartsAdapter',\n",
       " 'lr_scheduler.restart_period': 80,\n",
       " 'lr_scheduler.t_mult': 1.2,\n",
       " 'lr_scheduler.policy': 'cosine',\n",
       " 'lr_scheduler.min_lr': 1e-07,\n",
       " 'lr_scheduler.gamma': 1.0,\n",
       " 'lr_scheduler.triangular_step': 0.5}"
      ]
     },
     "execution_count": 12,
     "metadata": {},
     "output_type": "execute_result"
    }
   ],
   "source": [
    "cli.model.hyperparameters"
   ]
  },
  {
   "cell_type": "code",
   "execution_count": 10,
   "metadata": {},
   "outputs": [],
   "source": [
    "cli.trainer.logger.log_hyperparams(cli.model.hyperparameters, {\"test\":125})"
   ]
  },
  {
   "cell_type": "code",
   "execution_count": 8,
   "metadata": {},
   "outputs": [
    {
     "data": {
      "text/plain": [
       "'/grid_mnt/vol_home/llr/cms/cuisset/hgcal/testbeam18/clue3d-dev/src/Plotting/ml/regression/drn/notebooks/lightning_logs/version_0'"
      ]
     },
     "execution_count": 8,
     "metadata": {},
     "output_type": "execute_result"
    }
   ],
   "source": [
    "cli.trainer.logger.log_hy"
   ]
  },
  {
   "cell_type": "code",
   "execution_count": 5,
   "metadata": {},
   "outputs": [
    {
     "data": {
      "text/plain": [
       "[{'model.drn.init_args.dropout': 0.1},\n",
       " {'model.drn.init_args.dropout': 0.2},\n",
       " {'model.drn.init_args.dropout': 0.3}]"
      ]
     },
     "execution_count": 5,
     "metadata": {},
     "output_type": "execute_result"
    }
   ],
   "source": [
    "makeSimpleScan(\"model.drn.init_args.dropout\", [0.1, 0.2, 0.3])"
   ]
  },
  {
   "cell_type": "code",
   "execution_count": 4,
   "metadata": {},
   "outputs": [],
   "source": [
    "dropout_scan = ParameterScan(name=\"dropout\", configs=makeSimpleScan(\"model.drn.init_args.dropout\", [0.1, 0.2, 0.3]))"
   ]
  },
  {
   "cell_type": "code",
   "execution_count": 2,
   "metadata": {},
   "outputs": [],
   "source": [
    "loss_scan =     ParameterScan(name=\"loss\", configs=[\n",
    "        SingleParameterConfig(\"RatioCorrectedLoss\", \n",
    "            {\"model.loss\": \"ml.regression.drn.modules.RatioCorrectedLoss\",\n",
    "            \"model.loss.coefs\" : [-0.2597882 , -0.24326517,  1.01537901]}),\n",
    "        SingleParameterConfig(\"RatioRelativeMSE\",\n",
    "            {\"model.loss\": \"ml.regression.drn.modules.RatioRelativeMSE\"}),\n",
    "        SingleParameterConfig(\"RatioRelativeExpLoss\",\n",
    "        {\"model.loss\": \"ml.regression.drn.modules.RatioRelativeExpLoss\"}),\n",
    "    ])"
   ]
  },
  {
   "cell_type": "code",
   "execution_count": 3,
   "metadata": {},
   "outputs": [
    {
     "name": "stderr",
     "output_type": "stream",
     "text": [
      "/grid_mnt/vol_home/llr/cms/cuisset/mambaforge/envs/clustering-analysis-gpu2/lib/python3.10/site-packages/lightning/pytorch/cli.py:484: UserWarning: LightningCLI's args parameter is intended to run from within Python like if it were from the command line. To prevent mistakes it is not recommended to provide both args and command line arguments, got: sys.argv[1:]=['--ip=127.0.0.1', '--stdin=9028', '--control=9026', '--hb=9025', '--Session.signature_scheme=\"hmac-sha256\"', '--Session.key=b\"35b8ef75-656c-4558-b406-4b6b3aadff15\"', '--shell=9027', '--transport=\"tcp\"', '--iopub=9029', '--f=/home/llr/cms/cuisset/.local/share/jupyter/runtime/kernel-v2-19047fhcWmWxO0D5P.json'], args=['--config=/grid_mnt/vol_home/llr/cms/cuisset/hgcal/testbeam18/clue3d-dev/src/Plotting/ml/regression/drn/configs/common.yaml', '--config=/grid_mnt/vol_home/llr/cms/cuisset/hgcal/testbeam18/clue3d-dev/src/Plotting/ml/regression/drn/configs/LC.yaml', '--trainer.max_epochs=1', '--trainer.limit_train_batches=0.1', '--trainer.devices=[2]', '--data.keepOnGpu=cuda:2', '--model.loss=ml.regression.drn.modules.RatioRelativeExpLoss', '--trainer.logger.version=loss=RatioRelativeExpLoss'].\n",
      "  rank_zero_warn(\n",
      "/grid_mnt/vol_home/llr/cms/cuisset/mambaforge/envs/clustering-analysis-gpu2/lib/python3.10/site-packages/lightning/fabric/utilities/seed.py:39: UserWarning: No seed found, seed set to 1583316006\n",
      "  rank_zero_warn(f\"No seed found, seed set to {seed}\")\n",
      "Global seed set to 1583316006\n",
      "GPU available: True (cuda), used: True\n",
      "TPU available: False, using: 0 TPU cores\n",
      "IPU available: False, using: 0 IPUs\n",
      "HPU available: False, using: 0 HPUs\n",
      "LOCAL_RANK: 0 - CUDA_VISIBLE_DEVICES: [0,1,2,3]\n",
      "/grid_mnt/vol_home/llr/cms/cuisset/mambaforge/envs/clustering-analysis-gpu2/lib/python3.10/site-packages/lightning/pytorch/trainer/connectors/data_connector.py:430: PossibleUserWarning: The dataloader, train_dataloader, does not have many workers which may be a bottleneck. Consider increasing the value of the `num_workers` argument` (try 96 which is the number of cpus on this machine) in the `DataLoader` init to improve performance.\n",
      "  rank_zero_warn(\n",
      "/grid_mnt/vol_home/llr/cms/cuisset/mambaforge/envs/clustering-analysis-gpu2/lib/python3.10/site-packages/lightning/pytorch/loops/fit_loop.py:280: PossibleUserWarning: The number of training batches (1) is smaller than the logging interval Trainer(log_every_n_steps=50). Set a lower value for log_every_n_steps if you want to see logs for the training epoch.\n",
      "  rank_zero_warn(\n",
      "\n",
      "  | Name | Type                    | Params\n",
      "-------------------------------------------------\n",
      "0 | drn  | DynamicReductionNetwork | 9.0 K \n",
      "-------------------------------------------------\n",
      "9.0 K     Trainable params\n",
      "0         Non-trainable params\n",
      "9.0 K     Total params\n",
      "0.036     Total estimated model params size (MB)\n"
     ]
    },
    {
     "data": {
      "application/vnd.jupyter.widget-view+json": {
       "model_id": "519c567921b54cdf95c31238e2485a62",
       "version_major": 2,
       "version_minor": 0
      },
      "text/plain": [
       "Sanity Checking: 0it [00:00, ?it/s]"
      ]
     },
     "metadata": {},
     "output_type": "display_data"
    },
    {
     "name": "stderr",
     "output_type": "stream",
     "text": [
      "/grid_mnt/vol_home/llr/cms/cuisset/mambaforge/envs/clustering-analysis-gpu2/lib/python3.10/site-packages/lightning/pytorch/trainer/connectors/data_connector.py:430: PossibleUserWarning: The dataloader, val_dataloader, does not have many workers which may be a bottleneck. Consider increasing the value of the `num_workers` argument` (try 96 which is the number of cpus on this machine) in the `DataLoader` init to improve performance.\n",
      "  rank_zero_warn(\n"
     ]
    },
    {
     "name": "stdout",
     "output_type": "stream",
     "text": [
      "SimplePlotsCallbacks : skipping histogramming for beam energy=30 GeV due to no values to histogram\n",
      "SimplePlotsCallbacks : skipping histogramming for beam energy=100 GeV due to no values to histogram\n",
      "SimplePlotsCallbacks : skipping histogramming for beam energy=250 GeV due to no values to histogram\n"
     ]
    },
    {
     "data": {
      "application/vnd.jupyter.widget-view+json": {
       "model_id": "ed0657d6c47e4115bf7739f7cc46ad07",
       "version_major": 2,
       "version_minor": 0
      },
      "text/plain": [
       "Training: 0it [00:00, ?it/s]"
      ]
     },
     "metadata": {},
     "output_type": "display_data"
    },
    {
     "name": "stderr",
     "output_type": "stream",
     "text": [
      "/grid_mnt/vol_home/llr/cms/cuisset/mambaforge/envs/clustering-analysis-gpu2/lib/python3.10/site-packages/torch_geometric/utils/scatter.py:93: UserWarning: The usage of `scatter(reduce='max')` can be accelerated via the 'torch-scatter' package, but it was not found\n",
      "  warnings.warn(f\"The usage of `scatter(reduce='{reduce}')` \"\n"
     ]
    },
    {
     "data": {
      "application/vnd.jupyter.widget-view+json": {
       "model_id": "b73420e2082e45f9b3a5510ac2daa4e6",
       "version_major": 2,
       "version_minor": 0
      },
      "text/plain": [
       "Validation: 0it [00:00, ?it/s]"
      ]
     },
     "metadata": {},
     "output_type": "display_data"
    },
    {
     "name": "stdout",
     "output_type": "stream",
     "text": [
      "SimplePlotsCallbacks : skipping histogramming for beam energy=30 GeV due to no values to histogram\n",
      "SimplePlotsCallbacks : skipping histogramming for beam energy=100 GeV due to no values to histogram\n",
      "SimplePlotsCallbacks : skipping histogramming for beam energy=250 GeV due to no values to histogram\n",
      "SimplePlotsCallbacks : skipping histogramming for beam energy=30 GeV due to no values to histogram\n",
      "SimplePlotsCallbacks : skipping histogramming for beam energy=100 GeV due to no values to histogram\n",
      "SimplePlotsCallbacks : skipping histogramming for beam energy=250 GeV due to no values to histogram\n"
     ]
    },
    {
     "name": "stderr",
     "output_type": "stream",
     "text": [
      "`Trainer.fit` stopped: `max_epochs=1` reached.\n",
      "GPU available: True (cuda), used: True\n",
      "TPU available: False, using: 0 TPU cores\n",
      "IPU available: False, using: 0 IPUs\n",
      "HPU available: False, using: 0 HPUs\n",
      "Restoring states from the checkpoint path at ./lightning_logs/loss=RatioRelativeExpLoss/checkpoints/epoch=0-step=1.ckpt\n",
      "LOCAL_RANK: 0 - CUDA_VISIBLE_DEVICES: [0,1,2,3]\n",
      "Loaded model weights from the checkpoint at ./lightning_logs/loss=RatioRelativeExpLoss/checkpoints/epoch=0-step=1.ckpt\n",
      "/grid_mnt/vol_home/llr/cms/cuisset/mambaforge/envs/clustering-analysis-gpu2/lib/python3.10/site-packages/lightning/pytorch/trainer/connectors/data_connector.py:430: PossibleUserWarning: The dataloader, predict_dataloader, does not have many workers which may be a bottleneck. Consider increasing the value of the `num_workers` argument` (try 96 which is the number of cpus on this machine) in the `DataLoader` init to improve performance.\n",
      "  rank_zero_warn(\n"
     ]
    },
    {
     "data": {
      "application/vnd.jupyter.widget-view+json": {
       "model_id": "ab0f6e383aab43868ee8512a83315eb2",
       "version_major": 2,
       "version_minor": 0
      },
      "text/plain": [
       "Predicting: 0it [00:00, ?it/s]"
      ]
     },
     "metadata": {},
     "output_type": "display_data"
    },
    {
     "name": "stdout",
     "output_type": "stream",
     "text": [
      "Traceback (most recent call last):\n",
      "  File \"/grid_mnt/vol_home/llr/cms/cuisset/mambaforge/envs/clustering-analysis-gpu2/lib/python3.10/site-packages/torch_geometric/data/storage.py\", line 78, in __getattr__\n",
      "    return self[key]\n",
      "  File \"/grid_mnt/vol_home/llr/cms/cuisset/mambaforge/envs/clustering-analysis-gpu2/lib/python3.10/site-packages/torch_geometric/data/storage.py\", line 103, in __getitem__\n",
      "    return self._mapping[key]\n",
      "KeyError: 'trueBeamEnergy'\n",
      "\n",
      "During handling of the above exception, another exception occurred:\n",
      "\n",
      "Traceback (most recent call last):\n",
      "  File \"/grid_mnt/vol_home/llr/cms/cuisset/hgcal/testbeam18/clue3d-dev/src/Plotting/ml/regression/drn/notebooks/../../../../ml/regression/drn/hyperparameters_scan.py\", line 67, in runForSingleParameterSet\n",
      "    metricsLogger.makeAll()\n",
      "  File \"/grid_mnt/vol_home/llr/cms/cuisset/hgcal/testbeam18/clue3d-dev/src/Plotting/ml/regression/drn/notebooks/../../../../ml/regression/drn/cli.py\", line 268, in makeAll\n",
      "    self.predict()\n",
      "  File \"/grid_mnt/vol_home/llr/cms/cuisset/hgcal/testbeam18/clue3d-dev/src/Plotting/ml/regression/drn/notebooks/../../../../ml/regression/drn/cli.py\", line 187, in predict\n",
      "    self.data_predictor.runPredictionOnTrainer(trainer, ckpt_path=self.ckpt_path)\n",
      "  File \"/grid_mnt/vol_home/llr/cms/cuisset/hgcal/testbeam18/clue3d-dev/src/Plotting/ml/regression/drn/notebooks/../../../../ml/regression/drn/predict/predict.py\", line 33, in runPredictionOnTrainer\n",
      "    trainer.predict(model=self.model, dataloaders=DataLoader(self.dataset_data, batch_size=self.batch_size), ckpt_path=ckpt_path)\n",
      "  File \"/grid_mnt/vol_home/llr/cms/cuisset/mambaforge/envs/clustering-analysis-gpu2/lib/python3.10/site-packages/lightning/pytorch/trainer/trainer.py\", line 805, in predict\n",
      "    return call._call_and_handle_interrupt(\n",
      "  File \"/grid_mnt/vol_home/llr/cms/cuisset/mambaforge/envs/clustering-analysis-gpu2/lib/python3.10/site-packages/lightning/pytorch/trainer/call.py\", line 44, in _call_and_handle_interrupt\n",
      "    return trainer_fn(*args, **kwargs)\n",
      "  File \"/grid_mnt/vol_home/llr/cms/cuisset/mambaforge/envs/clustering-analysis-gpu2/lib/python3.10/site-packages/lightning/pytorch/trainer/trainer.py\", line 847, in _predict_impl\n",
      "    results = self._run(model, ckpt_path=ckpt_path)\n",
      "  File \"/grid_mnt/vol_home/llr/cms/cuisset/mambaforge/envs/clustering-analysis-gpu2/lib/python3.10/site-packages/lightning/pytorch/trainer/trainer.py\", line 935, in _run\n",
      "    results = self._run_stage()\n",
      "  File \"/grid_mnt/vol_home/llr/cms/cuisset/mambaforge/envs/clustering-analysis-gpu2/lib/python3.10/site-packages/lightning/pytorch/trainer/trainer.py\", line 973, in _run_stage\n",
      "    return self.predict_loop.run()\n",
      "  File \"/grid_mnt/vol_home/llr/cms/cuisset/mambaforge/envs/clustering-analysis-gpu2/lib/python3.10/site-packages/lightning/pytorch/loops/utilities.py\", line 177, in _decorator\n",
      "    return loop_run(self, *args, **kwargs)\n",
      "  File \"/grid_mnt/vol_home/llr/cms/cuisset/mambaforge/envs/clustering-analysis-gpu2/lib/python3.10/site-packages/lightning/pytorch/loops/prediction_loop.py\", line 112, in run\n",
      "    self._predict_step(batch, batch_idx, dataloader_idx)\n",
      "  File \"/grid_mnt/vol_home/llr/cms/cuisset/mambaforge/envs/clustering-analysis-gpu2/lib/python3.10/site-packages/lightning/pytorch/loops/prediction_loop.py\", line 235, in _predict_step\n",
      "    call._call_callback_hooks(trainer, \"on_predict_batch_end\", predictions, *step_kwargs.values())\n",
      "  File \"/grid_mnt/vol_home/llr/cms/cuisset/mambaforge/envs/clustering-analysis-gpu2/lib/python3.10/site-packages/lightning/pytorch/trainer/call.py\", line 190, in _call_callback_hooks\n",
      "    fn(trainer, trainer.lightning_module, *args, **kwargs)\n",
      "  File \"/grid_mnt/vol_home/llr/cms/cuisset/hgcal/testbeam18/clue3d-dev/src/Plotting/ml/regression/drn/notebooks/../../../../ml/regression/drn/predict/predict.py\", line 29, in on_predict_batch_end\n",
      "    self.h_2D.fill(batch.beamEnergy.detach().cpu().numpy(), pl_module.loss_params.mapNetworkOutputToEnergyEstimate(outputs, batch).detach().cpu().numpy())\n",
      "  File \"/grid_mnt/vol_home/llr/cms/cuisset/hgcal/testbeam18/clue3d-dev/src/Plotting/ml/regression/drn/notebooks/../../../../ml/regression/drn/modules.py\", line 184, in mapNetworkOutputToEnergyEstimate\n",
      "    return network_output_batch * data_batch.trueBeamEnergy # probably not genenerlizable to data\n",
      "  File \"/grid_mnt/vol_home/llr/cms/cuisset/mambaforge/envs/clustering-analysis-gpu2/lib/python3.10/site-packages/torch_geometric/data/data.py\", line 441, in __getattr__\n",
      "    return getattr(self._store, key)\n",
      "  File \"/grid_mnt/vol_home/llr/cms/cuisset/mambaforge/envs/clustering-analysis-gpu2/lib/python3.10/site-packages/torch_geometric/data/storage.py\", line 80, in __getattr__\n",
      "    raise AttributeError(\n",
      "AttributeError: 'GlobalStorage' object has no attribute 'trueBeamEnergy'\n",
      "\n"
     ]
    },
    {
     "name": "stderr",
     "output_type": "stream",
     "text": [
      "/grid_mnt/vol_home/llr/cms/cuisset/mambaforge/envs/clustering-analysis-gpu2/lib/python3.10/site-packages/lightning/pytorch/cli.py:484: UserWarning: LightningCLI's args parameter is intended to run from within Python like if it were from the command line. To prevent mistakes it is not recommended to provide both args and command line arguments, got: sys.argv[1:]=['--ip=127.0.0.1', '--stdin=9028', '--control=9026', '--hb=9025', '--Session.signature_scheme=\"hmac-sha256\"', '--Session.key=b\"35b8ef75-656c-4558-b406-4b6b3aadff15\"', '--shell=9027', '--transport=\"tcp\"', '--iopub=9029', '--f=/home/llr/cms/cuisset/.local/share/jupyter/runtime/kernel-v2-19047fhcWmWxO0D5P.json'], args=['--config=/grid_mnt/vol_home/llr/cms/cuisset/hgcal/testbeam18/clue3d-dev/src/Plotting/ml/regression/drn/configs/common.yaml', '--config=/grid_mnt/vol_home/llr/cms/cuisset/hgcal/testbeam18/clue3d-dev/src/Plotting/ml/regression/drn/configs/LC.yaml', '--trainer.max_epochs=1', '--trainer.limit_train_batches=0.1', '--trainer.devices=[2]', '--data.keepOnGpu=cuda:2', '--model.loss=ml.regression.drn.modules.RatioCorrectedLoss', '--model.loss.coefs=[-0.2597882, -0.24326517, 1.01537901]', '--trainer.logger.version=loss=RatioCorrectedLoss'].\n",
      "  rank_zero_warn(\n",
      "Global seed set to 1583316006\n",
      "GPU available: True (cuda), used: True\n",
      "TPU available: False, using: 0 TPU cores\n",
      "IPU available: False, using: 0 IPUs\n",
      "HPU available: False, using: 0 HPUs\n",
      "LOCAL_RANK: 0 - CUDA_VISIBLE_DEVICES: [0,1,2,3]\n",
      "\n",
      "  | Name | Type                    | Params\n",
      "-------------------------------------------------\n",
      "0 | drn  | DynamicReductionNetwork | 9.0 K \n",
      "-------------------------------------------------\n",
      "9.0 K     Trainable params\n",
      "0         Non-trainable params\n",
      "9.0 K     Total params\n",
      "0.036     Total estimated model params size (MB)\n"
     ]
    },
    {
     "data": {
      "application/vnd.jupyter.widget-view+json": {
       "model_id": "6ac808b642474db1838a3ae9b5447594",
       "version_major": 2,
       "version_minor": 0
      },
      "text/plain": [
       "Sanity Checking: 0it [00:00, ?it/s]"
      ]
     },
     "metadata": {},
     "output_type": "display_data"
    },
    {
     "name": "stdout",
     "output_type": "stream",
     "text": [
      "SimplePlotsCallbacks : skipping histogramming for beam energy=30 GeV due to no values to histogram\n",
      "SimplePlotsCallbacks : skipping histogramming for beam energy=100 GeV due to no values to histogram\n",
      "SimplePlotsCallbacks : skipping histogramming for beam energy=250 GeV due to no values to histogram\n"
     ]
    },
    {
     "data": {
      "application/vnd.jupyter.widget-view+json": {
       "model_id": "cde208f84ec449669dd8090f40e8b50d",
       "version_major": 2,
       "version_minor": 0
      },
      "text/plain": [
       "Training: 0it [00:00, ?it/s]"
      ]
     },
     "metadata": {},
     "output_type": "display_data"
    },
    {
     "data": {
      "application/vnd.jupyter.widget-view+json": {
       "model_id": "aed6bcbac1d348829c7f57a95ecc813c",
       "version_major": 2,
       "version_minor": 0
      },
      "text/plain": [
       "Validation: 0it [00:00, ?it/s]"
      ]
     },
     "metadata": {},
     "output_type": "display_data"
    },
    {
     "name": "stdout",
     "output_type": "stream",
     "text": [
      "SimplePlotsCallbacks : skipping histogramming for beam energy=30 GeV due to no values to histogram\n",
      "SimplePlotsCallbacks : skipping histogramming for beam energy=100 GeV due to no values to histogram\n",
      "SimplePlotsCallbacks : skipping histogramming for beam energy=250 GeV due to no values to histogram\n",
      "SimplePlotsCallbacks : skipping histogramming for beam energy=30 GeV due to no values to histogram\n",
      "SimplePlotsCallbacks : skipping histogramming for beam energy=100 GeV due to no values to histogram\n",
      "SimplePlotsCallbacks : skipping histogramming for beam energy=250 GeV due to no values to histogram\n"
     ]
    },
    {
     "name": "stderr",
     "output_type": "stream",
     "text": [
      "`Trainer.fit` stopped: `max_epochs=1` reached.\n",
      "GPU available: True (cuda), used: True\n",
      "TPU available: False, using: 0 TPU cores\n",
      "IPU available: False, using: 0 IPUs\n",
      "HPU available: False, using: 0 HPUs\n",
      "Restoring states from the checkpoint path at ./lightning_logs/loss=RatioCorrectedLoss/checkpoints/epoch=0-step=1.ckpt\n",
      "LOCAL_RANK: 0 - CUDA_VISIBLE_DEVICES: [0,1,2,3]\n",
      "Loaded model weights from the checkpoint at ./lightning_logs/loss=RatioCorrectedLoss/checkpoints/epoch=0-step=1.ckpt\n"
     ]
    },
    {
     "data": {
      "application/vnd.jupyter.widget-view+json": {
       "model_id": "34b324db26dd4903b561587a013d0e68",
       "version_major": 2,
       "version_minor": 0
      },
      "text/plain": [
       "Predicting: 0it [00:00, ?it/s]"
      ]
     },
     "metadata": {},
     "output_type": "display_data"
    },
    {
     "name": "stderr",
     "output_type": "stream",
     "text": [
      "/grid_mnt/vol_home/llr/cms/cuisset/mambaforge/envs/clustering-analysis-gpu2/lib/python3.10/site-packages/scipy/optimize/_minpack_py.py:906: OptimizeWarning: Covariance of the parameters could not be estimated\n",
      "  warnings.warn('Covariance of the parameters could not be estimated',\n",
      "/grid_mnt/vol_home/llr/cms/cuisset/mambaforge/envs/clustering-analysis-gpu2/lib/python3.10/site-packages/uncertainties/core.py:188: RuntimeWarning: invalid value encountered in divide\n",
      "  covariance_mat/norm_vector/norm_vector[:,numpy.newaxis],\n"
     ]
    },
    {
     "name": "stdout",
     "output_type": "stream",
     "text": [
      "Energy resolution straight line fit error (using full data)\n",
      "Array must not contain infs or NaNs\n",
      "\n"
     ]
    },
    {
     "name": "stderr",
     "output_type": "stream",
     "text": [
      "/grid_mnt/vol_home/llr/cms/cuisset/mambaforge/envs/clustering-analysis-gpu2/lib/python3.10/site-packages/lightning/pytorch/cli.py:484: UserWarning: LightningCLI's args parameter is intended to run from within Python like if it were from the command line. To prevent mistakes it is not recommended to provide both args and command line arguments, got: sys.argv[1:]=['--ip=127.0.0.1', '--stdin=9028', '--control=9026', '--hb=9025', '--Session.signature_scheme=\"hmac-sha256\"', '--Session.key=b\"35b8ef75-656c-4558-b406-4b6b3aadff15\"', '--shell=9027', '--transport=\"tcp\"', '--iopub=9029', '--f=/home/llr/cms/cuisset/.local/share/jupyter/runtime/kernel-v2-19047fhcWmWxO0D5P.json'], args=['--config=/grid_mnt/vol_home/llr/cms/cuisset/hgcal/testbeam18/clue3d-dev/src/Plotting/ml/regression/drn/configs/common.yaml', '--config=/grid_mnt/vol_home/llr/cms/cuisset/hgcal/testbeam18/clue3d-dev/src/Plotting/ml/regression/drn/configs/LC.yaml', '--trainer.max_epochs=1', '--trainer.limit_train_batches=0.1', '--trainer.devices=[2]', '--data.keepOnGpu=cuda:2', '--model.loss=ml.regression.drn.modules.RatioRelativeMSE', '--trainer.logger.version=loss=RatioRelativeMSE'].\n",
      "  rank_zero_warn(\n",
      "Global seed set to 1583316006\n",
      "GPU available: True (cuda), used: True\n",
      "TPU available: False, using: 0 TPU cores\n",
      "IPU available: False, using: 0 IPUs\n",
      "HPU available: False, using: 0 HPUs\n",
      "LOCAL_RANK: 0 - CUDA_VISIBLE_DEVICES: [0,1,2,3]\n",
      "\n",
      "  | Name | Type                    | Params\n",
      "-------------------------------------------------\n",
      "0 | drn  | DynamicReductionNetwork | 9.0 K \n",
      "-------------------------------------------------\n",
      "9.0 K     Trainable params\n",
      "0         Non-trainable params\n",
      "9.0 K     Total params\n",
      "0.036     Total estimated model params size (MB)\n"
     ]
    },
    {
     "data": {
      "application/vnd.jupyter.widget-view+json": {
       "model_id": "56ec7abf805b4450a819185c1b6594d1",
       "version_major": 2,
       "version_minor": 0
      },
      "text/plain": [
       "Sanity Checking: 0it [00:00, ?it/s]"
      ]
     },
     "metadata": {},
     "output_type": "display_data"
    },
    {
     "name": "stdout",
     "output_type": "stream",
     "text": [
      "SimplePlotsCallbacks : skipping histogramming for beam energy=30 GeV due to no values to histogram\n",
      "SimplePlotsCallbacks : skipping histogramming for beam energy=100 GeV due to no values to histogram\n",
      "SimplePlotsCallbacks : skipping histogramming for beam energy=250 GeV due to no values to histogram\n"
     ]
    },
    {
     "data": {
      "application/vnd.jupyter.widget-view+json": {
       "model_id": "496d8492e76e4ae5925582cb3b4207fc",
       "version_major": 2,
       "version_minor": 0
      },
      "text/plain": [
       "Training: 0it [00:00, ?it/s]"
      ]
     },
     "metadata": {},
     "output_type": "display_data"
    },
    {
     "data": {
      "application/vnd.jupyter.widget-view+json": {
       "model_id": "5e70a4d364234cf5aba1e5ebf3e8200e",
       "version_major": 2,
       "version_minor": 0
      },
      "text/plain": [
       "Validation: 0it [00:00, ?it/s]"
      ]
     },
     "metadata": {},
     "output_type": "display_data"
    },
    {
     "name": "stdout",
     "output_type": "stream",
     "text": [
      "SimplePlotsCallbacks : skipping histogramming for beam energy=30 GeV due to no values to histogram\n",
      "SimplePlotsCallbacks : skipping histogramming for beam energy=100 GeV due to no values to histogram\n",
      "SimplePlotsCallbacks : skipping histogramming for beam energy=250 GeV due to no values to histogram\n",
      "SimplePlotsCallbacks : skipping histogramming for beam energy=30 GeV due to no values to histogram\n",
      "SimplePlotsCallbacks : skipping histogramming for beam energy=100 GeV due to no values to histogram\n",
      "SimplePlotsCallbacks : skipping histogramming for beam energy=250 GeV due to no values to histogram\n"
     ]
    },
    {
     "name": "stderr",
     "output_type": "stream",
     "text": [
      "`Trainer.fit` stopped: `max_epochs=1` reached.\n",
      "GPU available: True (cuda), used: True\n",
      "TPU available: False, using: 0 TPU cores\n",
      "IPU available: False, using: 0 IPUs\n",
      "HPU available: False, using: 0 HPUs\n",
      "Restoring states from the checkpoint path at ./lightning_logs/loss=RatioRelativeMSE/checkpoints/epoch=0-step=1.ckpt\n",
      "LOCAL_RANK: 0 - CUDA_VISIBLE_DEVICES: [0,1,2,3]\n",
      "Loaded model weights from the checkpoint at ./lightning_logs/loss=RatioRelativeMSE/checkpoints/epoch=0-step=1.ckpt\n"
     ]
    },
    {
     "data": {
      "application/vnd.jupyter.widget-view+json": {
       "model_id": "6b28ed8cf83144e0a2b8d093397644b8",
       "version_major": 2,
       "version_minor": 0
      },
      "text/plain": [
       "Predicting: 0it [00:00, ?it/s]"
      ]
     },
     "metadata": {},
     "output_type": "display_data"
    },
    {
     "name": "stdout",
     "output_type": "stream",
     "text": [
      "Traceback (most recent call last):\n",
      "  File \"/grid_mnt/vol_home/llr/cms/cuisset/mambaforge/envs/clustering-analysis-gpu2/lib/python3.10/site-packages/torch_geometric/data/storage.py\", line 78, in __getattr__\n",
      "    return self[key]\n",
      "  File \"/grid_mnt/vol_home/llr/cms/cuisset/mambaforge/envs/clustering-analysis-gpu2/lib/python3.10/site-packages/torch_geometric/data/storage.py\", line 103, in __getitem__\n",
      "    return self._mapping[key]\n",
      "KeyError: 'trueBeamEnergy'\n",
      "\n",
      "During handling of the above exception, another exception occurred:\n",
      "\n",
      "Traceback (most recent call last):\n",
      "  File \"/grid_mnt/vol_home/llr/cms/cuisset/hgcal/testbeam18/clue3d-dev/src/Plotting/ml/regression/drn/notebooks/../../../../ml/regression/drn/hyperparameters_scan.py\", line 67, in runForSingleParameterSet\n",
      "    metricsLogger.makeAll()\n",
      "  File \"/grid_mnt/vol_home/llr/cms/cuisset/hgcal/testbeam18/clue3d-dev/src/Plotting/ml/regression/drn/notebooks/../../../../ml/regression/drn/cli.py\", line 268, in makeAll\n",
      "    self.predict()\n",
      "  File \"/grid_mnt/vol_home/llr/cms/cuisset/hgcal/testbeam18/clue3d-dev/src/Plotting/ml/regression/drn/notebooks/../../../../ml/regression/drn/cli.py\", line 187, in predict\n",
      "    self.data_predictor.runPredictionOnTrainer(trainer, ckpt_path=self.ckpt_path)\n",
      "  File \"/grid_mnt/vol_home/llr/cms/cuisset/hgcal/testbeam18/clue3d-dev/src/Plotting/ml/regression/drn/notebooks/../../../../ml/regression/drn/predict/predict.py\", line 33, in runPredictionOnTrainer\n",
      "    trainer.predict(model=self.model, dataloaders=DataLoader(self.dataset_data, batch_size=self.batch_size), ckpt_path=ckpt_path)\n",
      "  File \"/grid_mnt/vol_home/llr/cms/cuisset/mambaforge/envs/clustering-analysis-gpu2/lib/python3.10/site-packages/lightning/pytorch/trainer/trainer.py\", line 805, in predict\n",
      "    return call._call_and_handle_interrupt(\n",
      "  File \"/grid_mnt/vol_home/llr/cms/cuisset/mambaforge/envs/clustering-analysis-gpu2/lib/python3.10/site-packages/lightning/pytorch/trainer/call.py\", line 44, in _call_and_handle_interrupt\n",
      "    return trainer_fn(*args, **kwargs)\n",
      "  File \"/grid_mnt/vol_home/llr/cms/cuisset/mambaforge/envs/clustering-analysis-gpu2/lib/python3.10/site-packages/lightning/pytorch/trainer/trainer.py\", line 847, in _predict_impl\n",
      "    results = self._run(model, ckpt_path=ckpt_path)\n",
      "  File \"/grid_mnt/vol_home/llr/cms/cuisset/mambaforge/envs/clustering-analysis-gpu2/lib/python3.10/site-packages/lightning/pytorch/trainer/trainer.py\", line 935, in _run\n",
      "    results = self._run_stage()\n",
      "  File \"/grid_mnt/vol_home/llr/cms/cuisset/mambaforge/envs/clustering-analysis-gpu2/lib/python3.10/site-packages/lightning/pytorch/trainer/trainer.py\", line 973, in _run_stage\n",
      "    return self.predict_loop.run()\n",
      "  File \"/grid_mnt/vol_home/llr/cms/cuisset/mambaforge/envs/clustering-analysis-gpu2/lib/python3.10/site-packages/lightning/pytorch/loops/utilities.py\", line 177, in _decorator\n",
      "    return loop_run(self, *args, **kwargs)\n",
      "  File \"/grid_mnt/vol_home/llr/cms/cuisset/mambaforge/envs/clustering-analysis-gpu2/lib/python3.10/site-packages/lightning/pytorch/loops/prediction_loop.py\", line 112, in run\n",
      "    self._predict_step(batch, batch_idx, dataloader_idx)\n",
      "  File \"/grid_mnt/vol_home/llr/cms/cuisset/mambaforge/envs/clustering-analysis-gpu2/lib/python3.10/site-packages/lightning/pytorch/loops/prediction_loop.py\", line 235, in _predict_step\n",
      "    call._call_callback_hooks(trainer, \"on_predict_batch_end\", predictions, *step_kwargs.values())\n",
      "  File \"/grid_mnt/vol_home/llr/cms/cuisset/mambaforge/envs/clustering-analysis-gpu2/lib/python3.10/site-packages/lightning/pytorch/trainer/call.py\", line 190, in _call_callback_hooks\n",
      "    fn(trainer, trainer.lightning_module, *args, **kwargs)\n",
      "  File \"/grid_mnt/vol_home/llr/cms/cuisset/hgcal/testbeam18/clue3d-dev/src/Plotting/ml/regression/drn/notebooks/../../../../ml/regression/drn/predict/predict.py\", line 29, in on_predict_batch_end\n",
      "    self.h_2D.fill(batch.beamEnergy.detach().cpu().numpy(), pl_module.loss_params.mapNetworkOutputToEnergyEstimate(outputs, batch).detach().cpu().numpy())\n",
      "  File \"/grid_mnt/vol_home/llr/cms/cuisset/hgcal/testbeam18/clue3d-dev/src/Plotting/ml/regression/drn/notebooks/../../../../ml/regression/drn/modules.py\", line 184, in mapNetworkOutputToEnergyEstimate\n",
      "    return network_output_batch * data_batch.trueBeamEnergy # probably not genenerlizable to data\n",
      "  File \"/grid_mnt/vol_home/llr/cms/cuisset/mambaforge/envs/clustering-analysis-gpu2/lib/python3.10/site-packages/torch_geometric/data/data.py\", line 441, in __getattr__\n",
      "    return getattr(self._store, key)\n",
      "  File \"/grid_mnt/vol_home/llr/cms/cuisset/mambaforge/envs/clustering-analysis-gpu2/lib/python3.10/site-packages/torch_geometric/data/storage.py\", line 80, in __getattr__\n",
      "    raise AttributeError(\n",
      "AttributeError: 'GlobalStorage' object has no attribute 'trueBeamEnergy'\n",
      "\n"
     ]
    },
    {
     "ename": "",
     "evalue": "",
     "output_type": "error",
     "traceback": [
      "\u001b[1;31mThe Kernel crashed while executing code in the the current cell or a previous cell. Please review the code in the cell(s) to identify a possible cause of the failure. Click <a href='https://aka.ms/vscodeJupyterKernelCrash'>here</a> for more info. View Jupyter <a href='command:jupyter.viewOutput'>log</a> for further details."
     ]
    }
   ],
   "source": [
    "scan(parameters=[loss_scan], default_args=[\n",
    "    \"--config=/grid_mnt/vol_home/llr/cms/cuisset/hgcal/testbeam18/clue3d-dev/src/Plotting/ml/regression/drn/configs/common.yaml\",\n",
    "    \"--config=/grid_mnt/vol_home/llr/cms/cuisset/hgcal/testbeam18/clue3d-dev/src/Plotting/ml/regression/drn/configs/LC.yaml\",\n",
    "    #\"--data.datasetComputationClass=ml.regression.drn.dataset_making.LayerClustersTensorMaker\", \n",
    "    \"--trainer.max_epochs=1\", \"--trainer.limit_train_batches=0.1\",\n",
    "    #\"--trainer.limit_val_batches=0.5\"\n",
    "    \"--trainer.devices=[2]\", \"--data.keepOnGpu=cuda:2\"\n",
    "    ])"
   ]
  },
  {
   "cell_type": "code",
   "execution_count": null,
   "metadata": {},
   "outputs": [],
   "source": []
  }
 ],
 "metadata": {
  "kernelspec": {
   "display_name": "clustering-analysis-gpu2",
   "language": "python",
   "name": "python3"
  },
  "language_info": {
   "codemirror_mode": {
    "name": "ipython",
    "version": 3
   },
   "file_extension": ".py",
   "mimetype": "text/x-python",
   "name": "python",
   "nbconvert_exporter": "python",
   "pygments_lexer": "ipython3",
   "version": "3.10.11"
  },
  "orig_nbformat": 4
 },
 "nbformat": 4,
 "nbformat_minor": 2
}
