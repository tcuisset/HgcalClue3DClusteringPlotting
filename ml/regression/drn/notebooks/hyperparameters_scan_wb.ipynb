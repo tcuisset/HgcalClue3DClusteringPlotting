{
 "cells": [
  {
   "cell_type": "code",
   "execution_count": 1,
   "metadata": {},
   "outputs": [],
   "source": [
    "import sys\n",
    "sys.path.append(\"../../../..\")\n",
    "%load_ext autoreload\n",
    "%autoreload 2\n",
    "\n",
    "from energy_resolution.sigma_over_e import convert2DHistogramToDictOfHistograms\n",
    "#%aimport ml.regression.drn.hyperparameters_scan\n",
    "from ml.regression.drn.hyperparameters_scan import *"
   ]
  },
  {
   "cell_type": "code",
   "execution_count": 2,
   "metadata": {},
   "outputs": [
    {
     "name": "stderr",
     "output_type": "stream",
     "text": [
      "/grid_mnt/vol_home/llr/cms/cuisset/mambaforge/envs/clustering-analysis-gpu2/lib/python3.10/site-packages/lightning/pytorch/cli.py:484: UserWarning: LightningCLI's args parameter is intended to run from within Python like if it were from the command line. To prevent mistakes it is not recommended to provide both args and command line arguments, got: sys.argv[1:]=['--ip=127.0.0.1', '--stdin=9043', '--control=9041', '--hb=9040', '--Session.signature_scheme=\"hmac-sha256\"', '--Session.key=b\"dec1236a-3b7c-4f82-93eb-c65ba2295fae\"', '--shell=9042', '--transport=\"tcp\"', '--iopub=9044', '--f=/home/llr/cms/cuisset/.local/share/jupyter/runtime/kernel-v2-3269227rgiodjm5B3v.json'], args=['--config=/grid_mnt/vol_home/llr/cms/cuisset/hgcal/testbeam18/clue3d-dev/src/Plotting/ml/regression/drn/configs/common.yaml', '--data.datasetComputationClass=ml.regression.drn.dataset_making.LayerClustersTensorMaker', '--trainer.max_epochs=3', '--trainer.limit_val_batches=0.25'].\n",
      "  rank_zero_warn(\n",
      "/grid_mnt/vol_home/llr/cms/cuisset/mambaforge/envs/clustering-analysis-gpu2/lib/python3.10/site-packages/lightning/fabric/utilities/seed.py:39: UserWarning: No seed found, seed set to 1679999396\n",
      "  rank_zero_warn(f\"No seed found, seed set to {seed}\")\n",
      "Global seed set to 1679999396\n",
      "GPU available: True (cuda), used: True\n",
      "TPU available: False, using: 0 TPU cores\n",
      "IPU available: False, using: 0 IPUs\n",
      "HPU available: False, using: 0 HPUs\n",
      "LOCAL_RANK: 0 - CUDA_VISIBLE_DEVICES: [0,1,2,3]\n",
      "/grid_mnt/vol_home/llr/cms/cuisset/mambaforge/envs/clustering-analysis-gpu2/lib/python3.10/site-packages/lightning/pytorch/trainer/connectors/data_connector.py:430: PossibleUserWarning: The dataloader, train_dataloader, does not have many workers which may be a bottleneck. Consider increasing the value of the `num_workers` argument` (try 96 which is the number of cpus on this machine) in the `DataLoader` init to improve performance.\n",
      "  rank_zero_warn(\n",
      "/grid_mnt/vol_home/llr/cms/cuisset/mambaforge/envs/clustering-analysis-gpu2/lib/python3.10/site-packages/lightning/pytorch/loops/fit_loop.py:280: PossibleUserWarning: The number of training batches (13) is smaller than the logging interval Trainer(log_every_n_steps=50). Set a lower value for log_every_n_steps if you want to see logs for the training epoch.\n",
      "  rank_zero_warn(\n",
      "\n",
      "  | Name | Type                    | Params\n",
      "-------------------------------------------------\n",
      "0 | drn  | DynamicReductionNetwork | 9.0 K \n",
      "-------------------------------------------------\n",
      "9.0 K     Trainable params\n",
      "0         Non-trainable params\n",
      "9.0 K     Total params\n",
      "0.036     Total estimated model params size (MB)\n"
     ]
    },
    {
     "data": {
      "application/vnd.jupyter.widget-view+json": {
       "model_id": "872fd5e8e83d4ec2a0d425c6b3163182",
       "version_major": 2,
       "version_minor": 0
      },
      "text/plain": [
       "Sanity Checking: 0it [00:00, ?it/s]"
      ]
     },
     "metadata": {},
     "output_type": "display_data"
    },
    {
     "name": "stderr",
     "output_type": "stream",
     "text": [
      "/grid_mnt/vol_home/llr/cms/cuisset/mambaforge/envs/clustering-analysis-gpu2/lib/python3.10/site-packages/lightning/pytorch/trainer/connectors/data_connector.py:430: PossibleUserWarning: The dataloader, val_dataloader, does not have many workers which may be a bottleneck. Consider increasing the value of the `num_workers` argument` (try 96 which is the number of cpus on this machine) in the `DataLoader` init to improve performance.\n",
      "  rank_zero_warn(\n"
     ]
    },
    {
     "data": {
      "application/vnd.jupyter.widget-view+json": {
       "model_id": "7d9740c644944660a23ccc2d625f5fa1",
       "version_major": 2,
       "version_minor": 0
      },
      "text/plain": [
       "Training: 0it [00:00, ?it/s]"
      ]
     },
     "metadata": {},
     "output_type": "display_data"
    },
    {
     "name": "stderr",
     "output_type": "stream",
     "text": [
      "/grid_mnt/vol_home/llr/cms/cuisset/mambaforge/envs/clustering-analysis-gpu2/lib/python3.10/site-packages/torch_geometric/utils/scatter.py:93: UserWarning: The usage of `scatter(reduce='max')` can be accelerated via the 'torch-scatter' package, but it was not found\n",
      "  warnings.warn(f\"The usage of `scatter(reduce='{reduce}')` \"\n"
     ]
    },
    {
     "data": {
      "application/vnd.jupyter.widget-view+json": {
       "model_id": "10b62d9e263c41e69c861e087060f78b",
       "version_major": 2,
       "version_minor": 0
      },
      "text/plain": [
       "Validation: 0it [00:00, ?it/s]"
      ]
     },
     "metadata": {},
     "output_type": "display_data"
    },
    {
     "data": {
      "application/vnd.jupyter.widget-view+json": {
       "model_id": "a2ac14e07846480e91321522af40d828",
       "version_major": 2,
       "version_minor": 0
      },
      "text/plain": [
       "Validation: 0it [00:00, ?it/s]"
      ]
     },
     "metadata": {},
     "output_type": "display_data"
    },
    {
     "data": {
      "application/vnd.jupyter.widget-view+json": {
       "model_id": "0b58aaa55b4f4e9cb35335944fbfe41e",
       "version_major": 2,
       "version_minor": 0
      },
      "text/plain": [
       "Validation: 0it [00:00, ?it/s]"
      ]
     },
     "metadata": {},
     "output_type": "display_data"
    },
    {
     "name": "stdout",
     "output_type": "stream",
     "text": [
      "Start predicting!\n",
      "Start fitting!\n"
     ]
    },
    {
     "name": "stderr",
     "output_type": "stream",
     "text": [
      "/grid_mnt/vol_home/llr/cms/cuisset/mambaforge/envs/clustering-analysis-gpu2/lib/python3.10/site-packages/scipy/optimize/_minpack_py.py:906: OptimizeWarning: Covariance of the parameters could not be estimated\n",
      "  warnings.warn('Covariance of the parameters could not be estimated',\n",
      "/grid_mnt/vol_home/llr/cms/cuisset/mambaforge/envs/clustering-analysis-gpu2/lib/python3.10/site-packages/uncertainties/core.py:188: RuntimeWarning: invalid value encountered in divide\n",
      "  covariance_mat/norm_vector/norm_vector[:,numpy.newaxis],\n"
     ]
    },
    {
     "name": "stdout",
     "output_type": "stream",
     "text": [
      "SigmaOverE fit failed due to unknown exception : \n",
      "Array must not contain infs or NaNs\n",
      "Traceback (most recent call last):\n",
      "  File \"/grid_mnt/vol_home/llr/cms/cuisset/hgcal/testbeam18/clue3d-dev/src/Plotting/ml/regression/drn/../../../ml/regression/drn/callbacks/sigma_over_e.py\", line 222, in on_validation_epoch_end\n",
      "    raise straightLineFit_exception\n",
      "  File \"/grid_mnt/vol_home/llr/cms/cuisset/hgcal/testbeam18/clue3d-dev/src/Plotting/ml/regression/drn/../../../ml/regression/drn/callbacks/sigma_over_e.py\", line 214, in on_validation_epoch_end\n",
      "    plotSCAsEllipse(self.overlaySigmaOverEResults + [self.sigmaOverEPlotter.plotElt]),\n",
      "  File \"/grid_mnt/vol_home/llr/cms/cuisset/hgcal/testbeam18/clue3d-dev/src/Plotting/ml/regression/drn/../../../energy_resolution/sigma_over_e.py\", line 313, in plotSCAsEllipse\n",
      "    ax.add_patch(plotEllipse(S_scaled, C_scaled, ellipse_kwargs=dict(color=plotElement.color, alpha=0.5)))\n",
      "  File \"/grid_mnt/vol_home/llr/cms/cuisset/hgcal/testbeam18/clue3d-dev/src/Plotting/ml/regression/drn/../../../energy_resolution/sigma_over_e.py\", line 294, in plotEllipse\n",
      "    W, V = np.linalg.eig(cov)\n",
      "  File \"<__array_function__ internals>\", line 200, in eig\n",
      "  File \"/grid_mnt/vol_home/llr/cms/cuisset/mambaforge/envs/clustering-analysis-gpu2/lib/python3.10/site-packages/numpy/linalg/linalg.py\", line 1298, in eig\n",
      "    _assert_finite(a)\n",
      "  File \"/grid_mnt/vol_home/llr/cms/cuisset/mambaforge/envs/clustering-analysis-gpu2/lib/python3.10/site-packages/numpy/linalg/linalg.py\", line 195, in _assert_finite\n",
      "    raise LinAlgError(\"Array must not contain infs or NaNs\")\n",
      "numpy.linalg.LinAlgError: Array must not contain infs or NaNs\n",
      "\n"
     ]
    },
    {
     "name": "stderr",
     "output_type": "stream",
     "text": [
      "`Trainer.fit` stopped: `max_epochs=3` reached.\n"
     ]
    }
   ],
   "source": [
    "cli = cli_main([\"--config=/grid_mnt/vol_home/llr/cms/cuisset/hgcal/testbeam18/clue3d-dev/src/Plotting/ml/regression/drn/configs/common.yaml\",\n",
    "    \"--data.datasetComputationClass=ml.regression.drn.dataset_making.LayerClustersTensorMaker\", \"--trainer.max_epochs=3\", #\"--trainer.limit_train_batches=0.1\",\n",
    "    \"--trainer.limit_val_batches=0.25\"], metrics_keys=[\"EnergyResolution/S*C (test set)\"], run=False)\n",
    "modelCheckpoint = cli.trainer.checkpoint_callback\n",
    "cli.trainer.fit(model=cli.model, datamodule=cli.datamodule)"
   ]
  },
  {
   "cell_type": "code",
   "execution_count": 5,
   "metadata": {},
   "outputs": [
    {
     "data": {
      "text/plain": [
       "functools.partial(<class 'ml.regression.drn.cli.SaveHyperparametersConfigCallback'>, metrics_keys=['EnergyResolution/S*C (test set)'])"
      ]
     },
     "execution_count": 5,
     "metadata": {},
     "output_type": "execute_result"
    }
   ],
   "source": [
    "cli.save_config_callback"
   ]
  },
  {
   "cell_type": "code",
   "execution_count": 3,
   "metadata": {},
   "outputs": [
    {
     "name": "stderr",
     "output_type": "stream",
     "text": [
      "GPU available: True (cuda), used: True\n",
      "TPU available: False, using: 0 TPU cores\n",
      "IPU available: False, using: 0 IPUs\n",
      "HPU available: False, using: 0 HPUs\n",
      "Restoring states from the checkpoint path at /grid_mnt/vol_home/llr/cms/cuisset/hgcal/testbeam18/clue3d-dev/src/Plotting/ml/regression/drn/lightning_logs/version_53/checkpoints/epoch=2-step=39.ckpt\n",
      "LOCAL_RANK: 0 - CUDA_VISIBLE_DEVICES: [0,1,2,3]\n",
      "Loaded model weights from the checkpoint at /grid_mnt/vol_home/llr/cms/cuisset/hgcal/testbeam18/clue3d-dev/src/Plotting/ml/regression/drn/lightning_logs/version_53/checkpoints/epoch=2-step=39.ckpt\n",
      "/grid_mnt/vol_home/llr/cms/cuisset/mambaforge/envs/clustering-analysis-gpu2/lib/python3.10/site-packages/lightning/pytorch/trainer/connectors/data_connector.py:430: PossibleUserWarning: The dataloader, predict_dataloader, does not have many workers which may be a bottleneck. Consider increasing the value of the `num_workers` argument` (try 96 which is the number of cpus on this machine) in the `DataLoader` init to improve performance.\n",
      "  rank_zero_warn(\n"
     ]
    },
    {
     "data": {
      "application/vnd.jupyter.widget-view+json": {
       "model_id": "f851e581ed4c47f5a3bc76762a5f66da",
       "version_major": 2,
       "version_minor": 0
      },
      "text/plain": [
       "Predicting: 0it [00:00, ?it/s]"
      ]
     },
     "metadata": {},
     "output_type": "display_data"
    },
    {
     "ename": "LinAlgError",
     "evalue": "Array must not contain infs or NaNs",
     "output_type": "error",
     "traceback": [
      "\u001b[0;31m---------------------------------------------------------------------------\u001b[0m",
      "\u001b[0;31mLinAlgError\u001b[0m                               Traceback (most recent call last)",
      "Cell \u001b[0;32mIn[3], line 2\u001b[0m\n\u001b[1;32m      1\u001b[0m dml \u001b[39m=\u001b[39m DataMetricsLogger(cli, ckpt_path\u001b[39m=\u001b[39mmodelCheckpoint\u001b[39m.\u001b[39mbest_model_path, data_trainer_kwargs\u001b[39m=\u001b[39m\u001b[39mdict\u001b[39m(limit_predict_batches\u001b[39m=\u001b[39m\u001b[39m0.3\u001b[39m))\n\u001b[0;32m----> 2\u001b[0m dml\u001b[39m.\u001b[39;49mmakeAll()\n",
      "File \u001b[0;32m/grid_mnt/vol_home/llr/cms/cuisset/hgcal/testbeam18/clue3d-dev/src/Plotting/ml/regression/drn/../../../ml/regression/drn/hyperparameters_scan.py:133\u001b[0m, in \u001b[0;36mDataMetricsLogger.makeAll\u001b[0;34m(self)\u001b[0m\n\u001b[1;32m    131\u001b[0m \u001b[39mself\u001b[39m\u001b[39m.\u001b[39mmakePlotter()\n\u001b[1;32m    132\u001b[0m \u001b[39mself\u001b[39m\u001b[39m.\u001b[39msigmaMuFits()\n\u001b[0;32m--> 133\u001b[0m \u001b[39mself\u001b[39;49m\u001b[39m.\u001b[39;49mlogMetrics()\n",
      "File \u001b[0;32m/grid_mnt/vol_home/llr/cms/cuisset/hgcal/testbeam18/clue3d-dev/src/Plotting/ml/regression/drn/../../../ml/regression/drn/hyperparameters_scan.py:98\u001b[0m, in \u001b[0;36mDataMetricsLogger.logMetrics\u001b[0;34m(self)\u001b[0m\n\u001b[1;32m     90\u001b[0m     \u001b[39mpass\u001b[39;00m \u001b[39m# in case the straight line fit fails : still plot without the fit\u001b[39;00m\n\u001b[1;32m     92\u001b[0m tbWriter\u001b[39m.\u001b[39madd_figure(\n\u001b[1;32m     93\u001b[0m     \u001b[39m\"\u001b[39m\u001b[39mSigmaOverE/Full data (fct of 1/sqrt(E))\u001b[39m\u001b[39m\"\u001b[39m,\n\u001b[1;32m     94\u001b[0m     \u001b[39mself\u001b[39m\u001b[39m.\u001b[39mplotter\u001b[39m.\u001b[39mplotSigmaOverMean(xMode\u001b[39m=\u001b[39m\u001b[39m\"\u001b[39m\u001b[39m1/sqrt(E)\u001b[39m\u001b[39m\"\u001b[39m, plotFit\u001b[39m=\u001b[39m\u001b[39mTrue\u001b[39;00m),\n\u001b[1;32m     95\u001b[0m     epochPicked)\n\u001b[1;32m     97\u001b[0m tbWriter\u001b[39m.\u001b[39madd_figure(\u001b[39m\"\u001b[39m\u001b[39mSigmaOverE/Full data (ellipse)\u001b[39m\u001b[39m\"\u001b[39m,\n\u001b[0;32m---> 98\u001b[0m     plotSCAsEllipse(\u001b[39mself\u001b[39;49m\u001b[39m.\u001b[39;49moverlaySigmaOverEResults \u001b[39m+\u001b[39;49m [\u001b[39mself\u001b[39;49m\u001b[39m.\u001b[39;49mplotter\u001b[39m.\u001b[39;49mplotElt]),\n\u001b[1;32m     99\u001b[0m     epochPicked)\n\u001b[1;32m    103\u001b[0m \u001b[39m## Redo the fit using only test points\u001b[39;00m\n\u001b[1;32m    104\u001b[0m \u001b[39mtry\u001b[39;00m:\n",
      "File \u001b[0;32m/grid_mnt/vol_home/llr/cms/cuisset/hgcal/testbeam18/clue3d-dev/src/Plotting/ml/regression/drn/../../../energy_resolution/sigma_over_e.py:313\u001b[0m, in \u001b[0;36mplotSCAsEllipse\u001b[0;34m(plotElements)\u001b[0m\n\u001b[1;32m    311\u001b[0m     x, y \u001b[39m=\u001b[39m S_scaled\u001b[39m.\u001b[39mnominal_value, C_scaled\u001b[39m.\u001b[39mnominal_value\n\u001b[1;32m    312\u001b[0m     ax\u001b[39m.\u001b[39mplot([x], [y], \u001b[39m\"\u001b[39m\u001b[39m.\u001b[39m\u001b[39m\"\u001b[39m, label\u001b[39m=\u001b[39mplotElement\u001b[39m.\u001b[39mlegend, color\u001b[39m=\u001b[39mplotElement\u001b[39m.\u001b[39mcolor)\n\u001b[0;32m--> 313\u001b[0m     ax\u001b[39m.\u001b[39madd_patch(plotEllipse(S_scaled, C_scaled, ellipse_kwargs\u001b[39m=\u001b[39;49m\u001b[39mdict\u001b[39;49m(color\u001b[39m=\u001b[39;49mplotElement\u001b[39m.\u001b[39;49mcolor, alpha\u001b[39m=\u001b[39;49m\u001b[39m0.5\u001b[39;49m)))\n\u001b[1;32m    314\u001b[0m     ax\u001b[39m.\u001b[39mannotate(plotElement\u001b[39m.\u001b[39mlegend, xy\u001b[39m=\u001b[39m(x, y))\n\u001b[1;32m    316\u001b[0m ax\u001b[39m.\u001b[39mset_xlabel(\u001b[39mr\u001b[39m\u001b[39m\"\u001b[39m\u001b[39m$S (\u001b[39m\u001b[39m\\\u001b[39m\u001b[39msqrt\u001b[39m\u001b[39m{GeV}\u001b[39;00m\u001b[39m \u001b[39m\u001b[39m\\\u001b[39m\u001b[39m%\u001b[39m\u001b[39m)$\u001b[39m\u001b[39m\"\u001b[39m)\n",
      "File \u001b[0;32m/grid_mnt/vol_home/llr/cms/cuisset/hgcal/testbeam18/clue3d-dev/src/Plotting/ml/regression/drn/../../../energy_resolution/sigma_over_e.py:294\u001b[0m, in \u001b[0;36mplotEllipse\u001b[0;34m(x, y, cl, ellipse_kwargs)\u001b[0m\n\u001b[1;32m    292\u001b[0m \u001b[39m\u001b[39m\u001b[39m\"\"\" Builds a matplotlib.patches.ellipse depicting the confidence area for the two variables x and y \"\"\"\u001b[39;00m\n\u001b[1;32m    293\u001b[0m cov \u001b[39m=\u001b[39m uncertainties\u001b[39m.\u001b[39mcovariance_matrix([x, y])\n\u001b[0;32m--> 294\u001b[0m W, V \u001b[39m=\u001b[39m np\u001b[39m.\u001b[39;49mlinalg\u001b[39m.\u001b[39;49meig(cov)\n\u001b[1;32m    295\u001b[0m j_max \u001b[39m=\u001b[39m np\u001b[39m.\u001b[39margmax(W)\n\u001b[1;32m    296\u001b[0m j_min \u001b[39m=\u001b[39m np\u001b[39m.\u001b[39margmin(W)\n",
      "File \u001b[0;32m<__array_function__ internals>:200\u001b[0m, in \u001b[0;36meig\u001b[0;34m(*args, **kwargs)\u001b[0m\n",
      "File \u001b[0;32m/grid_mnt/vol_home/llr/cms/cuisset/mambaforge/envs/clustering-analysis-gpu2/lib/python3.10/site-packages/numpy/linalg/linalg.py:1298\u001b[0m, in \u001b[0;36meig\u001b[0;34m(a)\u001b[0m\n\u001b[1;32m   1296\u001b[0m _assert_stacked_2d(a)\n\u001b[1;32m   1297\u001b[0m _assert_stacked_square(a)\n\u001b[0;32m-> 1298\u001b[0m _assert_finite(a)\n\u001b[1;32m   1299\u001b[0m t, result_t \u001b[39m=\u001b[39m _commonType(a)\n\u001b[1;32m   1301\u001b[0m extobj \u001b[39m=\u001b[39m get_linalg_error_extobj(\n\u001b[1;32m   1302\u001b[0m     _raise_linalgerror_eigenvalues_nonconvergence)\n",
      "File \u001b[0;32m/grid_mnt/vol_home/llr/cms/cuisset/mambaforge/envs/clustering-analysis-gpu2/lib/python3.10/site-packages/numpy/linalg/linalg.py:195\u001b[0m, in \u001b[0;36m_assert_finite\u001b[0;34m(*arrays)\u001b[0m\n\u001b[1;32m    193\u001b[0m \u001b[39mfor\u001b[39;00m a \u001b[39min\u001b[39;00m arrays:\n\u001b[1;32m    194\u001b[0m     \u001b[39mif\u001b[39;00m \u001b[39mnot\u001b[39;00m isfinite(a)\u001b[39m.\u001b[39mall():\n\u001b[0;32m--> 195\u001b[0m         \u001b[39mraise\u001b[39;00m LinAlgError(\u001b[39m\"\u001b[39m\u001b[39mArray must not contain infs or NaNs\u001b[39m\u001b[39m\"\u001b[39m)\n",
      "\u001b[0;31mLinAlgError\u001b[0m: Array must not contain infs or NaNs"
     ]
    }
   ],
   "source": [
    "dml = DataMetricsLogger(cli, ckpt_path=modelCheckpoint.best_model_path, data_trainer_kwargs=dict(limit_predict_batches=0.3))\n",
    "dml.makeAll()"
   ]
  },
  {
   "cell_type": "code",
   "execution_count": 20,
   "metadata": {},
   "outputs": [
    {
     "ename": "AttributeError",
     "evalue": "'NoneType' object has no attribute 'axes'",
     "output_type": "error",
     "traceback": [
      "\u001b[0;31m---------------------------------------------------------------------------\u001b[0m",
      "\u001b[0;31mAttributeError\u001b[0m                            Traceback (most recent call last)",
      "Cell \u001b[0;32mIn[20], line 1\u001b[0m\n\u001b[0;32m----> 1\u001b[0m convert2DHistogramToDictOfHistograms(dml\u001b[39m.\u001b[39;49mmakePlotter())\n",
      "File \u001b[0;32m/grid_mnt/vol_home/llr/cms/cuisset/hgcal/testbeam18/clue3d-dev/src/Plotting/ml/regression/drn/../../../energy_resolution/sigma_over_e.py:45\u001b[0m, in \u001b[0;36mconvert2DHistogramToDictOfHistograms\u001b[0;34m(h_2D)\u001b[0m\n\u001b[1;32m     40\u001b[0m \u001b[39m\u001b[39m\u001b[39m\"\"\" Convert a 2D histogram with beamEnergy, X axises \u001b[39;00m\n\u001b[1;32m     41\u001b[0m \u001b[39mto a dict of hists : { beamEnergy : h_2D[hist.loc(beamEnergy), :] }\u001b[39;00m\n\u001b[1;32m     42\u001b[0m \u001b[39mRemoves empty slices\u001b[39;00m\n\u001b[1;32m     43\u001b[0m \u001b[39m\"\"\"\u001b[39;00m\n\u001b[1;32m     44\u001b[0m res_dict \u001b[39m=\u001b[39m \u001b[39mdict\u001b[39m()\n\u001b[0;32m---> 45\u001b[0m \u001b[39mfor\u001b[39;00m beamEnergy \u001b[39min\u001b[39;00m h_2D\u001b[39m.\u001b[39;49maxes[\u001b[39m\"\u001b[39m\u001b[39mbeamEnergy\u001b[39m\u001b[39m\"\u001b[39m]:\n\u001b[1;32m     46\u001b[0m     sliced_h \u001b[39m=\u001b[39m h_2D[{\u001b[39m\"\u001b[39m\u001b[39mbeamEnergy\u001b[39m\u001b[39m\"\u001b[39m:hist\u001b[39m.\u001b[39mloc(beamEnergy)}]\n\u001b[1;32m     47\u001b[0m     \u001b[39mif\u001b[39;00m sliced_h\u001b[39m.\u001b[39msum() \u001b[39m>\u001b[39m \u001b[39m0\u001b[39m:\n",
      "\u001b[0;31mAttributeError\u001b[0m: 'NoneType' object has no attribute 'axes'"
     ]
    }
   ],
   "source": [
    "dml.predict()\n",
    "dml.makePlotter()"
   ]
  },
  {
   "cell_type": "code",
   "execution_count": 21,
   "metadata": {},
   "outputs": [
    {
     "data": {
      "text/plain": [
       "{20: Hist(Regular(2000, 0, 350, name='clus3D_mainTrackster_energy_pred', label='Main trackster energy, predicetd by NN (GeV)'), storage=Double()) # Sum: 18242.0,\n",
       " 50: Hist(Regular(2000, 0, 350, name='clus3D_mainTrackster_energy_pred', label='Main trackster energy, predicetd by NN (GeV)'), storage=Double()) # Sum: 27311.0,\n",
       " 80: Hist(Regular(2000, 0, 350, name='clus3D_mainTrackster_energy_pred', label='Main trackster energy, predicetd by NN (GeV)'), storage=Double()) # Sum: 30451.0,\n",
       " 300: Hist(Regular(2000, 0, 350, name='clus3D_mainTrackster_energy_pred', label='Main trackster energy, predicetd by NN (GeV)'), storage=Double()) # Sum: 3868.0}"
      ]
     },
     "execution_count": 21,
     "metadata": {},
     "output_type": "execute_result"
    }
   ],
   "source": [
    "convert2DHistogramToDictOfHistograms(dml.plotter.histogram_2D)"
   ]
  },
  {
   "cell_type": "code",
   "execution_count": 22,
   "metadata": {},
   "outputs": [],
   "source": [
    "dml.sigmaMuFits()"
   ]
  },
  {
   "cell_type": "code",
   "execution_count": 23,
   "metadata": {},
   "outputs": [
    {
     "name": "stdout",
     "output_type": "stream",
     "text": [
      "`ydata` must not be empty!\n"
     ]
    }
   ],
   "source": [
    "dml.logMetrics()"
   ]
  },
  {
   "cell_type": "code",
   "execution_count": 4,
   "metadata": {},
   "outputs": [
    {
     "data": {
      "text/plain": [
       "'/grid_mnt/vol_home/llr/cms/cuisset/hgcal/testbeam18/clue3d-dev/src/Plotting/ml/regression/drn/lightning_logs/version_53'"
      ]
     },
     "execution_count": 4,
     "metadata": {},
     "output_type": "execute_result"
    }
   ],
   "source": [
    "dml.cli.trainer.logger.log_dir"
   ]
  },
  {
   "cell_type": "code",
   "execution_count": 6,
   "metadata": {},
   "outputs": [
    {
     "name": "stderr",
     "output_type": "stream",
     "text": [
      "/grid_mnt/vol_home/llr/cms/cuisset/mambaforge/envs/clustering-analysis-gpu2/lib/python3.10/site-packages/lightning/pytorch/cli.py:484: UserWarning: LightningCLI's args parameter is intended to run from within Python like if it were from the command line. To prevent mistakes it is not recommended to provide both args and command line arguments, got: sys.argv[1:]=['--ip=127.0.0.1', '--stdin=9043', '--control=9041', '--hb=9040', '--Session.signature_scheme=\"hmac-sha256\"', '--Session.key=b\"dec1236a-3b7c-4f82-93eb-c65ba2295fae\"', '--shell=9042', '--transport=\"tcp\"', '--iopub=9044', '--f=/home/llr/cms/cuisset/.local/share/jupyter/runtime/kernel-v2-3269227rgiodjm5B3v.json'], args=['--config=/grid_mnt/vol_home/llr/cms/cuisset/hgcal/testbeam18/clue3d-dev/src/Plotting/ml/regression/drn/configs/common.yaml', '--data.datasetComputationClass=ml.regression.drn.dataset_making.LayerClustersTensorMaker', '--trainer.max_epochs=3', '--trainer.limit_val_batches=0.25'].\n",
      "  rank_zero_warn(\n",
      "Global seed set to 1679999396\n",
      "GPU available: True (cuda), used: True\n",
      "TPU available: False, using: 0 TPU cores\n",
      "IPU available: False, using: 0 IPUs\n",
      "HPU available: False, using: 0 HPUs\n",
      "LOCAL_RANK: 0 - CUDA_VISIBLE_DEVICES: [0,1,2,3]\n",
      "/grid_mnt/vol_home/llr/cms/cuisset/mambaforge/envs/clustering-analysis-gpu2/lib/python3.10/site-packages/lightning/pytorch/trainer/connectors/data_connector.py:430: PossibleUserWarning: The dataloader, train_dataloader, does not have many workers which may be a bottleneck. Consider increasing the value of the `num_workers` argument` (try 96 which is the number of cpus on this machine) in the `DataLoader` init to improve performance.\n",
      "  rank_zero_warn(\n",
      "/grid_mnt/vol_home/llr/cms/cuisset/mambaforge/envs/clustering-analysis-gpu2/lib/python3.10/site-packages/lightning/pytorch/loops/fit_loop.py:280: PossibleUserWarning: The number of training batches (13) is smaller than the logging interval Trainer(log_every_n_steps=50). Set a lower value for log_every_n_steps if you want to see logs for the training epoch.\n",
      "  rank_zero_warn(\n",
      "\n",
      "  | Name | Type                    | Params\n",
      "-------------------------------------------------\n",
      "0 | drn  | DynamicReductionNetwork | 9.0 K \n",
      "-------------------------------------------------\n",
      "9.0 K     Trainable params\n",
      "0         Non-trainable params\n",
      "9.0 K     Total params\n",
      "0.036     Total estimated model params size (MB)\n"
     ]
    },
    {
     "data": {
      "application/vnd.jupyter.widget-view+json": {
       "model_id": "497511c52b574981b3ec602495bdbef8",
       "version_major": 2,
       "version_minor": 0
      },
      "text/plain": [
       "Sanity Checking: 0it [00:00, ?it/s]"
      ]
     },
     "metadata": {},
     "output_type": "display_data"
    },
    {
     "name": "stderr",
     "output_type": "stream",
     "text": [
      "/grid_mnt/vol_home/llr/cms/cuisset/mambaforge/envs/clustering-analysis-gpu2/lib/python3.10/site-packages/lightning/pytorch/trainer/connectors/data_connector.py:430: PossibleUserWarning: The dataloader, val_dataloader, does not have many workers which may be a bottleneck. Consider increasing the value of the `num_workers` argument` (try 96 which is the number of cpus on this machine) in the `DataLoader` init to improve performance.\n",
      "  rank_zero_warn(\n"
     ]
    },
    {
     "data": {
      "application/vnd.jupyter.widget-view+json": {
       "model_id": "b1ba6f5b432d45649edf1a6649f00f47",
       "version_major": 2,
       "version_minor": 0
      },
      "text/plain": [
       "Training: 0it [00:00, ?it/s]"
      ]
     },
     "metadata": {},
     "output_type": "display_data"
    },
    {
     "name": "stderr",
     "output_type": "stream",
     "text": [
      "/grid_mnt/vol_home/llr/cms/cuisset/mambaforge/envs/clustering-analysis-gpu2/lib/python3.10/site-packages/torch_geometric/utils/scatter.py:93: UserWarning: The usage of `scatter(reduce='max')` can be accelerated via the 'torch-scatter' package, but it was not found\n",
      "  warnings.warn(f\"The usage of `scatter(reduce='{reduce}')` \"\n"
     ]
    },
    {
     "data": {
      "application/vnd.jupyter.widget-view+json": {
       "model_id": "bc124c36cf7945259cdbb18312fee4b1",
       "version_major": 2,
       "version_minor": 0
      },
      "text/plain": [
       "Validation: 0it [00:00, ?it/s]"
      ]
     },
     "metadata": {},
     "output_type": "display_data"
    },
    {
     "data": {
      "application/vnd.jupyter.widget-view+json": {
       "model_id": "f0afff28ce2246e989be4528b5b23f11",
       "version_major": 2,
       "version_minor": 0
      },
      "text/plain": [
       "Validation: 0it [00:00, ?it/s]"
      ]
     },
     "metadata": {},
     "output_type": "display_data"
    },
    {
     "data": {
      "application/vnd.jupyter.widget-view+json": {
       "model_id": "71aa31dc23934e7c8c7a10ca5d784029",
       "version_major": 2,
       "version_minor": 0
      },
      "text/plain": [
       "Validation: 0it [00:00, ?it/s]"
      ]
     },
     "metadata": {},
     "output_type": "display_data"
    },
    {
     "name": "stdout",
     "output_type": "stream",
     "text": [
      "Start predicting!\n",
      "Start fitting!\n"
     ]
    },
    {
     "name": "stderr",
     "output_type": "stream",
     "text": [
      "/grid_mnt/vol_home/llr/cms/cuisset/mambaforge/envs/clustering-analysis-gpu2/lib/python3.10/site-packages/scipy/optimize/_minpack_py.py:906: OptimizeWarning: Covariance of the parameters could not be estimated\n",
      "  warnings.warn('Covariance of the parameters could not be estimated',\n",
      "/grid_mnt/vol_home/llr/cms/cuisset/mambaforge/envs/clustering-analysis-gpu2/lib/python3.10/site-packages/uncertainties/core.py:188: RuntimeWarning: invalid value encountered in divide\n",
      "  covariance_mat/norm_vector/norm_vector[:,numpy.newaxis],\n"
     ]
    },
    {
     "name": "stdout",
     "output_type": "stream",
     "text": [
      "SigmaOverE fit failed due to unknown exception : \n",
      "Array must not contain infs or NaNs\n",
      "Traceback (most recent call last):\n",
      "  File \"/grid_mnt/vol_home/llr/cms/cuisset/hgcal/testbeam18/clue3d-dev/src/Plotting/ml/regression/drn/../../../ml/regression/drn/callbacks/sigma_over_e.py\", line 194, in on_validation_epoch_end\n",
      "    plotSCAsEllipse(self.overlaySigmaOverEResults + [self.sigmaOverEPlotter.plotElt]),\n",
      "  File \"/grid_mnt/vol_home/llr/cms/cuisset/hgcal/testbeam18/clue3d-dev/src/Plotting/ml/regression/drn/../../../energy_resolution/sigma_over_e.py\", line 313, in plotSCAsEllipse\n",
      "    ax.add_patch(plotEllipse(S_scaled, C_scaled, ellipse_kwargs=dict(color=plotElement.color, alpha=0.5)))\n",
      "  File \"/grid_mnt/vol_home/llr/cms/cuisset/hgcal/testbeam18/clue3d-dev/src/Plotting/ml/regression/drn/../../../energy_resolution/sigma_over_e.py\", line 294, in plotEllipse\n",
      "    W, V = np.linalg.eig(cov)\n",
      "  File \"<__array_function__ internals>\", line 200, in eig\n",
      "  File \"/grid_mnt/vol_home/llr/cms/cuisset/mambaforge/envs/clustering-analysis-gpu2/lib/python3.10/site-packages/numpy/linalg/linalg.py\", line 1298, in eig\n",
      "    _assert_finite(a)\n",
      "  File \"/grid_mnt/vol_home/llr/cms/cuisset/mambaforge/envs/clustering-analysis-gpu2/lib/python3.10/site-packages/numpy/linalg/linalg.py\", line 195, in _assert_finite\n",
      "    raise LinAlgError(\"Array must not contain infs or NaNs\")\n",
      "numpy.linalg.LinAlgError: Array must not contain infs or NaNs\n",
      "\n"
     ]
    },
    {
     "name": "stderr",
     "output_type": "stream",
     "text": [
      "`Trainer.fit` stopped: `max_epochs=3` reached.\n",
      "GPU available: True (cuda), used: True\n",
      "TPU available: False, using: 0 TPU cores\n",
      "IPU available: False, using: 0 IPUs\n",
      "HPU available: False, using: 0 HPUs\n",
      "Restoring states from the checkpoint path at /grid_mnt/vol_home/llr/cms/cuisset/hgcal/testbeam18/clue3d-dev/src/Plotting/ml/regression/drn/lightning_logs/version_55/checkpoints/epoch=2-step=39.ckpt\n",
      "LOCAL_RANK: 0 - CUDA_VISIBLE_DEVICES: [0,1,2,3]\n",
      "Loaded model weights from the checkpoint at /grid_mnt/vol_home/llr/cms/cuisset/hgcal/testbeam18/clue3d-dev/src/Plotting/ml/regression/drn/lightning_logs/version_55/checkpoints/epoch=2-step=39.ckpt\n",
      "/grid_mnt/vol_home/llr/cms/cuisset/mambaforge/envs/clustering-analysis-gpu2/lib/python3.10/site-packages/lightning/pytorch/trainer/connectors/data_connector.py:430: PossibleUserWarning: The dataloader, predict_dataloader, does not have many workers which may be a bottleneck. Consider increasing the value of the `num_workers` argument` (try 96 which is the number of cpus on this machine) in the `DataLoader` init to improve performance.\n",
      "  rank_zero_warn(\n"
     ]
    },
    {
     "data": {
      "application/vnd.jupyter.widget-view+json": {
       "model_id": "890ca3884cf84b799c90f93d06478349",
       "version_major": 2,
       "version_minor": 0
      },
      "text/plain": [
       "Predicting: 0it [00:00, ?it/s]"
      ]
     },
     "metadata": {},
     "output_type": "display_data"
    },
    {
     "name": "stdout",
     "output_type": "stream",
     "text": [
      "Not enough good fit results (2 fits succeeded out of 2)\n"
     ]
    },
    {
     "ename": "AttributeError",
     "evalue": "'SigmaOverEPlotter' object has no attribute 'sigma_mu_results'",
     "output_type": "error",
     "traceback": [
      "\u001b[0;31m---------------------------------------------------------------------------\u001b[0m",
      "\u001b[0;31mAttributeError\u001b[0m                            Traceback (most recent call last)",
      "Cell \u001b[0;32mIn[6], line 1\u001b[0m\n\u001b[0;32m----> 1\u001b[0m runForSingleParameterSet(args\u001b[39m=\u001b[39;49m[\u001b[39m\"\u001b[39;49m\u001b[39m--config=/grid_mnt/vol_home/llr/cms/cuisset/hgcal/testbeam18/clue3d-dev/src/Plotting/ml/regression/drn/configs/common.yaml\u001b[39;49m\u001b[39m\"\u001b[39;49m,\n\u001b[1;32m      2\u001b[0m     \u001b[39m\"\u001b[39;49m\u001b[39m--data.datasetComputationClass=ml.regression.drn.dataset_making.LayerClustersTensorMaker\u001b[39;49m\u001b[39m\"\u001b[39;49m, \u001b[39m\"\u001b[39;49m\u001b[39m--trainer.max_epochs=3\u001b[39;49m\u001b[39m\"\u001b[39;49m, \u001b[39m#\"--trainer.limit_train_batches=0.1\",\u001b[39;49;00m\n\u001b[1;32m      3\u001b[0m     \u001b[39m\"\u001b[39;49m\u001b[39m--trainer.limit_val_batches=0.25\u001b[39;49m\u001b[39m\"\u001b[39;49m],\n\u001b[1;32m      4\u001b[0m     data_trainer_kwargs\u001b[39m=\u001b[39;49m\u001b[39mdict\u001b[39;49m(limit_predict_batches\u001b[39m=\u001b[39;49m\u001b[39m0.05\u001b[39;49m))\n",
      "File \u001b[0;32m/grid_mnt/vol_home/llr/cms/cuisset/hgcal/testbeam18/clue3d-dev/src/Plotting/ml/regression/drn/../../../ml/regression/drn/hyperparameters_scan.py:146\u001b[0m, in \u001b[0;36mrunForSingleParameterSet\u001b[0;34m(args, data_trainer_kwargs)\u001b[0m\n\u001b[1;32m    143\u001b[0m cli\u001b[39m.\u001b[39mtrainer\u001b[39m.\u001b[39mfit(model\u001b[39m=\u001b[39mcli\u001b[39m.\u001b[39mmodel, datamodule\u001b[39m=\u001b[39mcli\u001b[39m.\u001b[39mdatamodule)\n\u001b[1;32m    145\u001b[0m metricsLogger \u001b[39m=\u001b[39m DataMetricsLogger(cli, ckpt_path\u001b[39m=\u001b[39mmodelCheckpoint\u001b[39m.\u001b[39mbest_model_path, data_trainer_kwargs\u001b[39m=\u001b[39mdata_trainer_kwargs)\n\u001b[0;32m--> 146\u001b[0m metricsLogger\u001b[39m.\u001b[39mmakeAll()\n\u001b[1;32m    148\u001b[0m \u001b[39m# Saving hyperparameters\u001b[39;00m\n\u001b[1;32m    149\u001b[0m metrics_to_save \u001b[39m=\u001b[39m {key:value \u001b[39mfor\u001b[39;00m key, value \u001b[39min\u001b[39;00m metricsLogger\u001b[39m.\u001b[39mscalarMetrics\u001b[39m.\u001b[39mitems() \u001b[39mif\u001b[39;00m key \u001b[39min\u001b[39;00m hyperparameters_metric_keys}\n",
      "File \u001b[0;32m/grid_mnt/vol_home/llr/cms/cuisset/hgcal/testbeam18/clue3d-dev/src/Plotting/ml/regression/drn/../../../ml/regression/drn/hyperparameters_scan.py:137\u001b[0m, in \u001b[0;36mDataMetricsLogger.makeAll\u001b[0;34m(self)\u001b[0m\n\u001b[1;32m    135\u001b[0m \u001b[39mself\u001b[39m\u001b[39m.\u001b[39mmakePlotter()\n\u001b[1;32m    136\u001b[0m \u001b[39mself\u001b[39m\u001b[39m.\u001b[39msigmaMuFits()\n\u001b[0;32m--> 137\u001b[0m \u001b[39mself\u001b[39;49m\u001b[39m.\u001b[39;49mlogMetrics()\n",
      "File \u001b[0;32m/grid_mnt/vol_home/llr/cms/cuisset/hgcal/testbeam18/clue3d-dev/src/Plotting/ml/regression/drn/../../../ml/regression/drn/hyperparameters_scan.py:82\u001b[0m, in \u001b[0;36mDataMetricsLogger.logMetrics\u001b[0;34m(self)\u001b[0m\n\u001b[1;32m     75\u001b[0m tbWriter:SummaryWriter \u001b[39m=\u001b[39m logger\u001b[39m.\u001b[39mexperiment\n\u001b[1;32m     78\u001b[0m plt\u001b[39m.\u001b[39mstyle\u001b[39m.\u001b[39muse(hep\u001b[39m.\u001b[39mstyle\u001b[39m.\u001b[39mCMS)\n\u001b[1;32m     80\u001b[0m tbWriter\u001b[39m.\u001b[39madd_figure(\n\u001b[1;32m     81\u001b[0m     \u001b[39m\"\u001b[39m\u001b[39mSigmaOverE/Full simulation (fct of E)\u001b[39m\u001b[39m\"\u001b[39m,\n\u001b[0;32m---> 82\u001b[0m     plotSigmaOverMean(\u001b[39mself\u001b[39m\u001b[39m.\u001b[39moverlaySigmaOverEResults \u001b[39m+\u001b[39m [\u001b[39mself\u001b[39;49m\u001b[39m.\u001b[39;49mplotter\u001b[39m.\u001b[39;49mplotElt], xMode\u001b[39m=\u001b[39m\u001b[39m\"\u001b[39m\u001b[39mE\u001b[39m\u001b[39m\"\u001b[39m),\n\u001b[1;32m     83\u001b[0m     \u001b[39mself\u001b[39m\u001b[39m.\u001b[39mepochPicked)\n\u001b[1;32m     85\u001b[0m \u001b[39mtry\u001b[39;00m:\n\u001b[1;32m     86\u001b[0m     fitRes \u001b[39m=\u001b[39m \u001b[39mself\u001b[39m\u001b[39m.\u001b[39mplotter\u001b[39m.\u001b[39mfitSigmaOverE()\n",
      "File \u001b[0;32m/grid_mnt/vol_home/llr/cms/cuisset/hgcal/testbeam18/clue3d-dev/src/Plotting/ml/regression/drn/../../../ml/regression/drn/callbacks/sigma_over_e.py:85\u001b[0m, in \u001b[0;36mSigmaOverEPlotter.plotElt\u001b[0;34m(self)\u001b[0m\n\u001b[1;32m     82\u001b[0m     fitResult \u001b[39m=\u001b[39m \u001b[39mNone\u001b[39;00m\n\u001b[1;32m     83\u001b[0m     legend \u001b[39m=\u001b[39m \u001b[39m\"\u001b[39m\u001b[39mML (fit on all points)\u001b[39m\u001b[39m\"\u001b[39m\n\u001b[1;32m     84\u001b[0m \u001b[39mreturn\u001b[39;00m SigmaOverEPlotElement_ML(legend\u001b[39m=\u001b[39mlegend, fitResult\u001b[39m=\u001b[39mfitResult, fitFunction\u001b[39m=\u001b[39msigmaOverE_fitFunction, \n\u001b[0;32m---> 85\u001b[0m         dataPoints\u001b[39m=\u001b[39m{beamEnergy : result\u001b[39m.\u001b[39msigma \u001b[39m/\u001b[39m result\u001b[39m.\u001b[39mmu \u001b[39mfor\u001b[39;00m beamEnergy, result \u001b[39min\u001b[39;00m \u001b[39mself\u001b[39;49m\u001b[39m.\u001b[39;49msigma_mu_results\u001b[39m.\u001b[39mitems()}, \n\u001b[1;32m     86\u001b[0m         color\u001b[39m=\u001b[39m\u001b[39m\"\u001b[39m\u001b[39mpurple\u001b[39m\u001b[39m\"\u001b[39m, beamEnergiesInTestSet\u001b[39m=\u001b[39m\u001b[39mself\u001b[39m\u001b[39m.\u001b[39mbeamEnergiesInTestSet)\n",
      "\u001b[0;31mAttributeError\u001b[0m: 'SigmaOverEPlotter' object has no attribute 'sigma_mu_results'"
     ]
    }
   ],
   "source": [
    "runForSingleParameterSet(args=[\"--config=/grid_mnt/vol_home/llr/cms/cuisset/hgcal/testbeam18/clue3d-dev/src/Plotting/ml/regression/drn/configs/common.yaml\",\n",
    "    \"--data.datasetComputationClass=ml.regression.drn.dataset_making.LayerClustersTensorMaker\", \"--trainer.max_epochs=3\", #\"--trainer.limit_train_batches=0.1\",\n",
    "    \"--trainer.limit_val_batches=0.25\"],\n",
    "    data_trainer_kwargs=dict(limit_predict_batches=0.05))"
   ]
  },
  {
   "cell_type": "code",
   "execution_count": null,
   "metadata": {},
   "outputs": [],
   "source": []
  },
  {
   "cell_type": "code",
   "execution_count": 14,
   "metadata": {},
   "outputs": [
    {
     "data": {
      "text/plain": [
       "[{'model.drn.init_args.dropout': 0.1},\n",
       " {'model.drn.init_args.dropout': 0.2},\n",
       " {'model.drn.init_args.dropout': 0.3}]"
      ]
     },
     "execution_count": 14,
     "metadata": {},
     "output_type": "execute_result"
    }
   ],
   "source": [
    "makeSimpleScan(\"model.drn.init_args.dropout\", [0.1, 0.2, 0.3])"
   ]
  }
 ],
 "metadata": {
  "kernelspec": {
   "display_name": "clustering-analysis-gpu2",
   "language": "python",
   "name": "python3"
  },
  "language_info": {
   "codemirror_mode": {
    "name": "ipython",
    "version": 3
   },
   "file_extension": ".py",
   "mimetype": "text/x-python",
   "name": "python",
   "nbconvert_exporter": "python",
   "pygments_lexer": "ipython3",
   "version": "3.10.11"
  },
  "orig_nbformat": 4
 },
 "nbformat": 4,
 "nbformat_minor": 2
}
