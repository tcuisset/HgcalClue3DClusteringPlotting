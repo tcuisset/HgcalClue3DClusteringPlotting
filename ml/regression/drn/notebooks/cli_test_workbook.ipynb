{
 "cells": [
  {
   "cell_type": "code",
   "execution_count": 13,
   "metadata": {},
   "outputs": [],
   "source": [
    "from lightning.pytorch.cli import LightningArgumentParser, LightningCLI\n",
    "import lightning.pytorch as pl\n",
    "from lightning.pytorch.cli import OptimizerCallable, LRSchedulerCallable\n",
    "from jsonargparse import lazy_instance\n",
    "import torch"
   ]
  },
  {
   "cell_type": "code",
   "execution_count": 2,
   "metadata": {},
   "outputs": [],
   "source": [
    "import typing\n",
    "\n",
    "class LRSchedulerAdapterBase:\n",
    "    def instantiate(self, parameters, batch_size):\n",
    "        pass\n",
    "\n",
    "class LRSchedulerTest(LRSchedulerAdapterBase):\n",
    "    def __init__(self, lr_param:float) -> None:\n",
    "        super().__init__()\n",
    "        self.lr_param = lr_param\n",
    "    def instantiate(self, parameters, batch_size):\n",
    "        return self.lr_param\n",
    "\n",
    "\n",
    "class TestModule(pl.LightningModule):\n",
    "    def __init__(self, lrs:typing.Union[LRSchedulerCallable, LRSchedulerAdapterBase]=LRSchedulerTest(lr_param=8)) -> None:\n",
    "        self.lrs = lrs\n",
    "    \n",
    "    def configure_optimizers(self):\n",
    "        print(self.lrs.lr_param) "
   ]
  },
  {
   "cell_type": "code",
   "execution_count": 3,
   "metadata": {},
   "outputs": [
    {
     "ename": "TypeError",
     "evalue": "LRSchedulerTest.__init__() missing 1 required positional argument: 'lr_param'",
     "output_type": "error",
     "traceback": [
      "\u001b[0;31m---------------------------------------------------------------------------\u001b[0m",
      "\u001b[0;31mTypeError\u001b[0m                                 Traceback (most recent call last)",
      "Cell \u001b[0;32mIn[3], line 1\u001b[0m\n\u001b[0;32m----> 1\u001b[0m LRSchedulerTest()\n",
      "\u001b[0;31mTypeError\u001b[0m: LRSchedulerTest.__init__() missing 1 required positional argument: 'lr_param'"
     ]
    }
   ],
   "source": [
    "LRSchedulerTest()"
   ]
  },
  {
   "cell_type": "code",
   "execution_count": 39,
   "metadata": {},
   "outputs": [
    {
     "name": "stderr",
     "output_type": "stream",
     "text": [
      "/grid_mnt/vol_home/llr/cms/cuisset/mambaforge/envs/clustering-analysis-gpu2/lib/python3.10/site-packages/lightning/pytorch/cli.py:484: UserWarning: LightningCLI's args parameter is intended to run from within Python like if it were from the command line. To prevent mistakes it is not recommended to provide both args and command line arguments, got: sys.argv[1:]=['--ip=127.0.0.1', '--stdin=9003', '--control=9001', '--hb=9000', '--Session.signature_scheme=\"hmac-sha256\"', '--Session.key=b\"56e907ce-3087-42ac-8586-520bbf56a8be\"', '--shell=9002', '--transport=\"tcp\"', '--iopub=9004', '--f=/home/llr/cms/cuisset/.local/share/jupyter/runtime/kernel-v2-136478WDE6mus5Xpen.json'], args=['--model.lrs=ReduceLROnPlateau'].\n",
      "  rank_zero_warn(\n"
     ]
    },
    {
     "ename": "AttributeError",
     "evalue": "'NoneType' object has no attribute 'get'",
     "output_type": "error",
     "traceback": [
      "\u001b[0;31m---------------------------------------------------------------------------\u001b[0m",
      "\u001b[0;31mAttributeError\u001b[0m                            Traceback (most recent call last)",
      "Cell \u001b[0;32mIn[39], line 1\u001b[0m\n\u001b[0;32m----> 1\u001b[0m cli \u001b[39m=\u001b[39m LightningCLI(TestModule, \u001b[39m# args=[\"--model.lrs=Adam\"], \u001b[39;49;00m\n\u001b[1;32m      2\u001b[0m         args\u001b[39m=\u001b[39;49m[\u001b[39m\"\u001b[39;49m\u001b[39m--model.lrs=ReduceLROnPlateau\u001b[39;49m\u001b[39m\"\u001b[39;49m, ],\n\u001b[1;32m      3\u001b[0m         run\u001b[39m=\u001b[39;49m\u001b[39mFalse\u001b[39;49;00m)\n\u001b[1;32m      4\u001b[0m cli\u001b[39m.\u001b[39mmodel\u001b[39m.\u001b[39mconfigure_optimizers()\n",
      "File \u001b[0;32m/grid_mnt/vol_home/llr/cms/cuisset/mambaforge/envs/clustering-analysis-gpu2/lib/python3.10/site-packages/lightning/pytorch/cli.py:343\u001b[0m, in \u001b[0;36mLightningCLI.__init__\u001b[0;34m(self, model_class, datamodule_class, save_config_callback, save_config_kwargs, trainer_class, trainer_defaults, seed_everything_default, parser_kwargs, subclass_mode_model, subclass_mode_data, args, run, auto_configure_optimizers)\u001b[0m\n\u001b[1;32m    341\u001b[0m main_kwargs, subparser_kwargs \u001b[39m=\u001b[39m \u001b[39mself\u001b[39m\u001b[39m.\u001b[39m_setup_parser_kwargs(\u001b[39mself\u001b[39m\u001b[39m.\u001b[39mparser_kwargs)\n\u001b[1;32m    342\u001b[0m \u001b[39mself\u001b[39m\u001b[39m.\u001b[39msetup_parser(run, main_kwargs, subparser_kwargs)\n\u001b[0;32m--> 343\u001b[0m \u001b[39mself\u001b[39;49m\u001b[39m.\u001b[39;49mparse_arguments(\u001b[39mself\u001b[39;49m\u001b[39m.\u001b[39;49mparser, args)\n\u001b[1;32m    345\u001b[0m \u001b[39mself\u001b[39m\u001b[39m.\u001b[39msubcommand \u001b[39m=\u001b[39m \u001b[39mself\u001b[39m\u001b[39m.\u001b[39mconfig[\u001b[39m\"\u001b[39m\u001b[39msubcommand\u001b[39m\u001b[39m\"\u001b[39m] \u001b[39mif\u001b[39;00m run \u001b[39melse\u001b[39;00m \u001b[39mNone\u001b[39;00m\n\u001b[1;32m    347\u001b[0m \u001b[39mself\u001b[39m\u001b[39m.\u001b[39m_set_seed()\n",
      "File \u001b[0;32m/grid_mnt/vol_home/llr/cms/cuisset/mambaforge/envs/clustering-analysis-gpu2/lib/python3.10/site-packages/lightning/pytorch/cli.py:492\u001b[0m, in \u001b[0;36mLightningCLI.parse_arguments\u001b[0;34m(self, parser, args)\u001b[0m\n\u001b[1;32m    490\u001b[0m     \u001b[39mself\u001b[39m\u001b[39m.\u001b[39mconfig \u001b[39m=\u001b[39m parser\u001b[39m.\u001b[39mparse_object(args)\n\u001b[1;32m    491\u001b[0m \u001b[39melse\u001b[39;00m:\n\u001b[0;32m--> 492\u001b[0m     \u001b[39mself\u001b[39m\u001b[39m.\u001b[39mconfig \u001b[39m=\u001b[39m parser\u001b[39m.\u001b[39;49mparse_args(args)\n",
      "File \u001b[0;32m/grid_mnt/vol_home/llr/cms/cuisset/mambaforge/envs/clustering-analysis-gpu2/lib/python3.10/site-packages/jsonargparse/deprecated.py:119\u001b[0m, in \u001b[0;36mparse_as_dict_patch.<locals>.patch_parse_method.<locals>.patched_parse\u001b[0;34m(self, _skip_check, *args, **kwargs)\u001b[0m\n\u001b[1;32m    117\u001b[0m \u001b[39mdef\u001b[39;00m \u001b[39mpatched_parse\u001b[39m(\u001b[39mself\u001b[39m, \u001b[39m*\u001b[39margs, _skip_check: \u001b[39mbool\u001b[39m \u001b[39m=\u001b[39m \u001b[39mFalse\u001b[39;00m, \u001b[39m*\u001b[39m\u001b[39m*\u001b[39mkwargs) \u001b[39m-\u001b[39m\u001b[39m>\u001b[39m Union[Namespace, Dict[\u001b[39mstr\u001b[39m, Any]]:\n\u001b[1;32m    118\u001b[0m     parse_method \u001b[39m=\u001b[39m \u001b[39mgetattr\u001b[39m(\u001b[39mself\u001b[39m, unpatched_method_name)\n\u001b[0;32m--> 119\u001b[0m     cfg \u001b[39m=\u001b[39m parse_method(\u001b[39m*\u001b[39;49margs, _skip_check\u001b[39m=\u001b[39;49m_skip_check, \u001b[39m*\u001b[39;49m\u001b[39m*\u001b[39;49mkwargs)\n\u001b[1;32m    120\u001b[0m     \u001b[39mreturn\u001b[39;00m cfg\u001b[39m.\u001b[39mas_dict() \u001b[39mif\u001b[39;00m \u001b[39mself\u001b[39m\u001b[39m.\u001b[39m_parse_as_dict \u001b[39mand\u001b[39;00m \u001b[39mnot\u001b[39;00m _skip_check \u001b[39melse\u001b[39;00m cfg\n",
      "File \u001b[0;32m/grid_mnt/vol_home/llr/cms/cuisset/mambaforge/envs/clustering-analysis-gpu2/lib/python3.10/site-packages/jsonargparse/core.py:385\u001b[0m, in \u001b[0;36mArgumentParser.parse_args\u001b[0;34m(self, args, namespace, env, defaults, with_meta, **kwargs)\u001b[0m\n\u001b[1;32m    382\u001b[0m     cfg \u001b[39m=\u001b[39m \u001b[39mself\u001b[39m\u001b[39m.\u001b[39mmerge_config(namespace, cfg)\n\u001b[1;32m    384\u001b[0m \u001b[39mwith\u001b[39;00m _ActionSubCommands\u001b[39m.\u001b[39mparse_kwargs_context({\u001b[39m\"\u001b[39m\u001b[39menv\u001b[39m\u001b[39m\"\u001b[39m: env, \u001b[39m\"\u001b[39m\u001b[39mdefaults\u001b[39m\u001b[39m\"\u001b[39m: defaults}):\n\u001b[0;32m--> 385\u001b[0m     cfg, unk \u001b[39m=\u001b[39m \u001b[39mself\u001b[39;49m\u001b[39m.\u001b[39;49mparse_known_args(args\u001b[39m=\u001b[39;49margs, namespace\u001b[39m=\u001b[39;49mcfg)\n\u001b[1;32m    386\u001b[0m \u001b[39mif\u001b[39;00m unk:\n\u001b[1;32m    387\u001b[0m     \u001b[39mself\u001b[39m\u001b[39m.\u001b[39merror(\u001b[39mf\u001b[39m\u001b[39m'\u001b[39m\u001b[39mUnrecognized arguments: \u001b[39m\u001b[39m{\u001b[39;00m\u001b[39m\"\u001b[39m\u001b[39m \u001b[39m\u001b[39m\"\u001b[39m\u001b[39m.\u001b[39mjoin(unk)\u001b[39m}\u001b[39;00m\u001b[39m'\u001b[39m)\n",
      "File \u001b[0;32m/grid_mnt/vol_home/llr/cms/cuisset/mambaforge/envs/clustering-analysis-gpu2/lib/python3.10/site-packages/jsonargparse/core.py:256\u001b[0m, in \u001b[0;36mArgumentParser.parse_known_args\u001b[0;34m(self, args, namespace)\u001b[0m\n\u001b[1;32m    252\u001b[0m \u001b[39mtry\u001b[39;00m:\n\u001b[1;32m    253\u001b[0m     \u001b[39mwith\u001b[39;00m patch_namespace(), parser_context(\n\u001b[1;32m    254\u001b[0m         parent_parser\u001b[39m=\u001b[39m\u001b[39mself\u001b[39m, lenient_check\u001b[39m=\u001b[39m\u001b[39mTrue\u001b[39;00m\n\u001b[1;32m    255\u001b[0m     ), ActionTypeHint\u001b[39m.\u001b[39msubclass_arg_context(\u001b[39mself\u001b[39m):\n\u001b[0;32m--> 256\u001b[0m         namespace, args \u001b[39m=\u001b[39m \u001b[39mself\u001b[39;49m\u001b[39m.\u001b[39;49m_parse_known_args(args, namespace)\n\u001b[1;32m    257\u001b[0m \u001b[39mexcept\u001b[39;00m argparse\u001b[39m.\u001b[39mArgumentError \u001b[39mas\u001b[39;00m ex:\n\u001b[1;32m    258\u001b[0m     \u001b[39mself\u001b[39m\u001b[39m.\u001b[39merror(\u001b[39mstr\u001b[39m(ex), ex)\n",
      "File \u001b[0;32m/grid_mnt/vol_home/llr/cms/cuisset/mambaforge/envs/clustering-analysis-gpu2/lib/python3.10/argparse.py:2079\u001b[0m, in \u001b[0;36mArgumentParser._parse_known_args\u001b[0;34m(self, arg_strings, namespace)\u001b[0m\n\u001b[1;32m   2076\u001b[0m         start_index \u001b[39m=\u001b[39m next_option_string_index\n\u001b[1;32m   2078\u001b[0m     \u001b[39m# consume the next optional and any arguments for it\u001b[39;00m\n\u001b[0;32m-> 2079\u001b[0m     start_index \u001b[39m=\u001b[39m consume_optional(start_index)\n\u001b[1;32m   2081\u001b[0m \u001b[39m# consume any positionals following the last Optional\u001b[39;00m\n\u001b[1;32m   2082\u001b[0m stop_index \u001b[39m=\u001b[39m consume_positionals(start_index)\n",
      "File \u001b[0;32m/grid_mnt/vol_home/llr/cms/cuisset/mambaforge/envs/clustering-analysis-gpu2/lib/python3.10/argparse.py:2019\u001b[0m, in \u001b[0;36mArgumentParser._parse_known_args.<locals>.consume_optional\u001b[0;34m(start_index)\u001b[0m\n\u001b[1;32m   2017\u001b[0m \u001b[39massert\u001b[39;00m action_tuples\n\u001b[1;32m   2018\u001b[0m \u001b[39mfor\u001b[39;00m action, args, option_string \u001b[39min\u001b[39;00m action_tuples:\n\u001b[0;32m-> 2019\u001b[0m     take_action(action, args, option_string)\n\u001b[1;32m   2020\u001b[0m \u001b[39mreturn\u001b[39;00m stop\n",
      "File \u001b[0;32m/grid_mnt/vol_home/llr/cms/cuisset/mambaforge/envs/clustering-analysis-gpu2/lib/python3.10/argparse.py:1943\u001b[0m, in \u001b[0;36mArgumentParser._parse_known_args.<locals>.take_action\u001b[0;34m(action, argument_strings, option_string)\u001b[0m\n\u001b[1;32m   1940\u001b[0m \u001b[39m# take the action if we didn't receive a SUPPRESS value\u001b[39;00m\n\u001b[1;32m   1941\u001b[0m \u001b[39m# (e.g. from a default)\u001b[39;00m\n\u001b[1;32m   1942\u001b[0m \u001b[39mif\u001b[39;00m argument_values \u001b[39mis\u001b[39;00m \u001b[39mnot\u001b[39;00m SUPPRESS:\n\u001b[0;32m-> 1943\u001b[0m     action(\u001b[39mself\u001b[39;49m, namespace, argument_values, option_string)\n",
      "File \u001b[0;32m/grid_mnt/vol_home/llr/cms/cuisset/mambaforge/envs/clustering-analysis-gpu2/lib/python3.10/site-packages/jsonargparse/typehints.py:428\u001b[0m, in \u001b[0;36mActionTypeHint.__call__\u001b[0;34m(self, *args, **kwargs)\u001b[0m\n\u001b[1;32m    426\u001b[0m         prev_val \u001b[39m=\u001b[39m cfg\u001b[39m.\u001b[39mget(\u001b[39mself\u001b[39m\u001b[39m.\u001b[39mdest)\n\u001b[1;32m    427\u001b[0m         \u001b[39mif\u001b[39;00m is_subclass_spec(prev_val) \u001b[39mand\u001b[39;00m \u001b[39m\"\u001b[39m\u001b[39minit_args\u001b[39m\u001b[39m\"\u001b[39m \u001b[39min\u001b[39;00m prev_val:\n\u001b[0;32m--> 428\u001b[0m             ActionTypeHint\u001b[39m.\u001b[39;49mdiscard_init_args_on_class_path_change(\n\u001b[1;32m    429\u001b[0m                 \u001b[39mself\u001b[39;49m,\n\u001b[1;32m    430\u001b[0m                 prev_val\u001b[39m.\u001b[39;49minit_args,\n\u001b[1;32m    431\u001b[0m                 val\u001b[39m.\u001b[39;49mget(\u001b[39m\"\u001b[39;49m\u001b[39minit_args\u001b[39;49m\u001b[39m\"\u001b[39;49m),\n\u001b[1;32m    432\u001b[0m             )\n\u001b[1;32m    433\u001b[0m cfg\u001b[39m.\u001b[39mupdate(val, \u001b[39mself\u001b[39m\u001b[39m.\u001b[39mdest)\n\u001b[1;32m    434\u001b[0m \u001b[39mreturn\u001b[39;00m \u001b[39mNone\u001b[39;00m\n",
      "File \u001b[0;32m/grid_mnt/vol_home/llr/cms/cuisset/mambaforge/envs/clustering-analysis-gpu2/lib/python3.10/site-packages/jsonargparse/typehints.py:328\u001b[0m, in \u001b[0;36mActionTypeHint.discard_init_args_on_class_path_change\u001b[0;34m(parser_or_action, prev_cfg, cfg)\u001b[0m\n\u001b[1;32m    326\u001b[0m key \u001b[39m=\u001b[39m keys[num]\n\u001b[1;32m    327\u001b[0m prev_val \u001b[39m=\u001b[39m prev_cfg\u001b[39m.\u001b[39mget(key)\n\u001b[0;32m--> 328\u001b[0m val \u001b[39m=\u001b[39m cfg\u001b[39m.\u001b[39;49mget(key)\n\u001b[1;32m    329\u001b[0m \u001b[39mif\u001b[39;00m is_subclass_spec(prev_val) \u001b[39mand\u001b[39;00m is_subclass_spec(val):\n\u001b[1;32m    330\u001b[0m     action \u001b[39m=\u001b[39m parser_or_action\n",
      "\u001b[0;31mAttributeError\u001b[0m: 'NoneType' object has no attribute 'get'"
     ]
    }
   ],
   "source": [
    "cli = LightningCLI(TestModule, # args=[\"--model.lrs=Adam\"], \n",
    "        args=[\"--model.lrs=ReduceLROnPlateau\", ],\n",
    "        run=False)\n",
    "cli.model.configure_optimizers()"
   ]
  },
  {
   "cell_type": "code",
   "execution_count": 20,
   "metadata": {},
   "outputs": [],
   "source": [
    "class TestModule2(pl.LightningModule):\n",
    "    def __init__(self, opt:OptimizerCallable) -> None:\n",
    "        self.opt = opt\n",
    "    \n",
    "    def configure_optimizers(self):\n",
    "        print(self.opt([torch.nn.Parameter(torch.tensor(1.))])) "
   ]
  },
  {
   "cell_type": "code",
   "execution_count": 23,
   "metadata": {},
   "outputs": [
    {
     "name": "stderr",
     "output_type": "stream",
     "text": [
      "/grid_mnt/vol_home/llr/cms/cuisset/mambaforge/envs/clustering-analysis-gpu2/lib/python3.10/site-packages/lightning/pytorch/cli.py:484: UserWarning: LightningCLI's args parameter is intended to run from within Python like if it were from the command line. To prevent mistakes it is not recommended to provide both args and command line arguments, got: sys.argv[1:]=['--ip=127.0.0.1', '--stdin=9049', '--control=9047', '--hb=9046', '--Session.signature_scheme=\"hmac-sha256\"', '--Session.key=b\"2d7413f8-9a5b-4780-9f77-ddb92488bf3b\"', '--shell=9048', '--transport=\"tcp\"', '--iopub=9050', '--f=/home/llr/cms/cuisset/.local/share/jupyter/runtime/kernel-v2-241813gzOio1uADbtH.json'], args=['--model.opt=AdamW', '--model.opt.lr=1e-5'].\n",
      "  rank_zero_warn(\n",
      "Global seed set to 863193537\n",
      "GPU available: True (cuda), used: True\n",
      "TPU available: False, using: 0 TPU cores\n",
      "IPU available: False, using: 0 IPUs\n",
      "HPU available: False, using: 0 HPUs\n"
     ]
    },
    {
     "name": "stdout",
     "output_type": "stream",
     "text": [
      "AdamW (\n",
      "Parameter Group 0\n",
      "    amsgrad: False\n",
      "    betas: (0.9, 0.999)\n",
      "    capturable: False\n",
      "    differentiable: False\n",
      "    eps: 1e-08\n",
      "    foreach: None\n",
      "    fused: None\n",
      "    lr: 1e-05\n",
      "    maximize: False\n",
      "    weight_decay: 0.01\n",
      ")\n"
     ]
    }
   ],
   "source": [
    "cli = LightningCLI(TestModule2, # args=[\"--model.lrs=Adam\"], \n",
    "        args=[\"--model.opt=AdamW\", \"--model.opt.lr=1e-5\"],\n",
    "        run=False)\n",
    "cli.model.configure_optimizers()"
   ]
  },
  {
   "cell_type": "code",
   "execution_count": 24,
   "metadata": {},
   "outputs": [
    {
     "name": "stdout",
     "output_type": "stream",
     "text": [
      "AdamW (\n",
      "Parameter Group 0\n",
      "    amsgrad: False\n",
      "    betas: (0.9, 0.999)\n",
      "    capturable: False\n",
      "    differentiable: False\n",
      "    eps: 1e-08\n",
      "    foreach: None\n",
      "    fused: None\n",
      "    lr: 1e-05\n",
      "    maximize: False\n",
      "    weight_decay: 0.01\n",
      ")\n"
     ]
    }
   ],
   "source": [
    "cli.model.configure_optimizers()"
   ]
  }
 ],
 "metadata": {
  "kernelspec": {
   "display_name": "clustering-analysis-gpu2",
   "language": "python",
   "name": "python3"
  },
  "language_info": {
   "codemirror_mode": {
    "name": "ipython",
    "version": 3
   },
   "file_extension": ".py",
   "mimetype": "text/x-python",
   "name": "python",
   "nbconvert_exporter": "python",
   "pygments_lexer": "ipython3",
   "version": "3.10.11"
  },
  "orig_nbformat": 4
 },
 "nbformat": 4,
 "nbformat_minor": 2
}
