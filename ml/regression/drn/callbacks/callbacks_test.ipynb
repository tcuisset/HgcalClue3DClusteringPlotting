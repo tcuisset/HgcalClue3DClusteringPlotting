{
 "cells": [
  {
   "cell_type": "code",
   "execution_count": 1,
   "metadata": {},
   "outputs": [],
   "source": [
    "import sys\n",
    "sys.path.append(\"../../../..\")\n",
    "%load_ext autoreload\n",
    "%autoreload 1\n",
    "import lightning.pytorch as pl\n",
    "import numpy as np\n",
    "\n",
    "from ntupleReaders.clue_ntuple_reader import ClueNtupleReader\n",
    "\n",
    "from ml.dynamic_reduction_network import DynamicReductionNetwork\n",
    "%aimport ml.regression.drn.modules\n",
    "%aimport ml.regression.drn.dataset_making\n",
    "%aimport energy_resolution.sigma_over_e\n",
    "from ml.regression.drn.modules import *\n",
    "from ml.regression.drn.dataset_making import *\n",
    "%aimport ml.regression.drn.callbacks.sigma_over_e\n",
    "from ml.regression.drn.callbacks.sigma_over_e import *\n",
    "%aimport ml.regression.drn.callbacks.simple_plots\n",
    "from ml.regression.drn.callbacks.simple_plots import *"
   ]
  },
  {
   "cell_type": "code",
   "execution_count": 2,
   "metadata": {},
   "outputs": [],
   "source": [
    "reader = ClueNtupleReader(\"v41\", \"cmssw\", \"data\") # sim_proton_v46_patchMIP\n",
    "datamodule = DRNDataModule(reader, datasetComputationClass=LayerClustersTensorMaker, multiprocess_loader=False)\n",
    "\n",
    "class MockDRN(nn.Module):\n",
    "    def __init__(self, *args, **kwargs) -> None:\n",
    "        super().__init__(*args, **kwargs)\n",
    "        self.param = nn.Parameter(torch.tensor([1.]))\n",
    "    def forward(self, x):\n",
    "        return torch.normal(mean=torch.ones(x.num_graphs, device=x.x.device), std=torch.ones(x.num_graphs, device=x.x.device)*0.05)  * self.param\n",
    "\n",
    "model = DRNModule(drn=MockDRN(), loss=RatioCorrectedLoss([-0.2597882 , -0.24326517,  1.01537901], simulation=False), optimizer=torch.optim.AdamW)\n",
    "devices = [3]"
   ]
  },
  {
   "cell_type": "code",
   "execution_count": 9,
   "metadata": {},
   "outputs": [],
   "source": [
    "callbacks = [\n",
    "    SigmaOverECallback( overlaySigmaOverEResults=[reader.loadSigmaOverEResults(\"rechits\"), reader.loadSigmaOverEResults(\"clue3d\")], \n",
    "    every_n_epochs=1, fit_data=\"full\", debug_mode=False, train_datatype=\"data\"),\n",
    "\n",
    "    SimplePlotsCallback(simulation=False)\n",
    "]\n",
    "#callback.on_validation_epoch_end(trainer, model)"
   ]
  },
  {
   "cell_type": "code",
   "execution_count": 10,
   "metadata": {},
   "outputs": [
    {
     "name": "stderr",
     "output_type": "stream",
     "text": [
      "GPU available: True (cuda), used: True\n",
      "TPU available: False, using: 0 TPU cores\n",
      "IPU available: False, using: 0 IPUs\n",
      "HPU available: False, using: 0 HPUs\n",
      "LOCAL_RANK: 0 - CUDA_VISIBLE_DEVICES: [0,1,2,3]\n",
      "\n",
      "  | Name | Type    | Params\n",
      "---------------------------------\n",
      "0 | drn  | MockDRN | 1     \n",
      "---------------------------------\n",
      "1         Trainable params\n",
      "0         Non-trainable params\n",
      "1         Total params\n",
      "0.000     Total estimated model params size (MB)\n"
     ]
    },
    {
     "data": {
      "application/vnd.jupyter.widget-view+json": {
       "model_id": "928e36f70b814535830576eb1708a384",
       "version_major": 2,
       "version_minor": 0
      },
      "text/plain": [
       "Sanity Checking: 0it [00:00, ?it/s]"
      ]
     },
     "metadata": {},
     "output_type": "display_data"
    },
    {
     "name": "stderr",
     "output_type": "stream",
     "text": [
      "/grid_mnt/vol_home/llr/cms/cuisset/mambaforge/envs/clustering-analysis-gpu2/lib/python3.10/site-packages/lightning/pytorch/trainer/connectors/data_connector.py:430: PossibleUserWarning: The dataloader, val_dataloader, does not have many workers which may be a bottleneck. Consider increasing the value of the `num_workers` argument` (try 96 which is the number of cpus on this machine) in the `DataLoader` init to improve performance.\n",
      "  rank_zero_warn(\n",
      "/grid_mnt/vol_home/llr/cms/cuisset/mambaforge/envs/clustering-analysis-gpu2/lib/python3.10/site-packages/lightning/pytorch/trainer/connectors/data_connector.py:430: PossibleUserWarning: The dataloader, train_dataloader, does not have many workers which may be a bottleneck. Consider increasing the value of the `num_workers` argument` (try 96 which is the number of cpus on this machine) in the `DataLoader` init to improve performance.\n",
      "  rank_zero_warn(\n",
      "/grid_mnt/vol_home/llr/cms/cuisset/mambaforge/envs/clustering-analysis-gpu2/lib/python3.10/site-packages/lightning/pytorch/loops/fit_loop.py:280: PossibleUserWarning: The number of training batches (10) is smaller than the logging interval Trainer(log_every_n_steps=50). Set a lower value for log_every_n_steps if you want to see logs for the training epoch.\n",
      "  rank_zero_warn(\n"
     ]
    },
    {
     "data": {
      "application/vnd.jupyter.widget-view+json": {
       "model_id": "503f97b8b28841d8b248e3516aa34472",
       "version_major": 2,
       "version_minor": 0
      },
      "text/plain": [
       "Training: 0it [00:00, ?it/s]"
      ]
     },
     "metadata": {},
     "output_type": "display_data"
    },
    {
     "data": {
      "application/vnd.jupyter.widget-view+json": {
       "model_id": "0680e03112a04370a3527d5946754830",
       "version_major": 2,
       "version_minor": 0
      },
      "text/plain": [
       "Validation: 0it [00:00, ?it/s]"
      ]
     },
     "metadata": {},
     "output_type": "display_data"
    },
    {
     "name": "stdout",
     "output_type": "stream",
     "text": [
      "Start predicting!\n",
      "Start fitting!\n"
     ]
    },
    {
     "name": "stderr",
     "output_type": "stream",
     "text": [
      "`Trainer.fit` stopped: `max_epochs=1` reached.\n"
     ]
    }
   ],
   "source": [
    "trainer = pl.Trainer(accelerator=\"gpu\", devices=devices, enable_progress_bar=True, fast_dev_run=False, logger=True, detect_anomaly=False, \n",
    "                     callbacks=callbacks, #limit_train_batches=0.09, limit_val_batches=0.25,\n",
    "                     max_epochs=1)\n",
    "\n",
    "trainer.fit(model=model, datamodule=datamodule)"
   ]
  },
  {
   "cell_type": "code",
   "execution_count": 5,
   "metadata": {},
   "outputs": [
    {
     "data": {
      "text/plain": [
       "<Figure size 1000x1000 with 1 Axes>"
      ]
     },
     "execution_count": 5,
     "metadata": {},
     "output_type": "execute_result"
    }
   ],
   "source": [
    "plotFittedMean(callbacks[0].overlaySigmaOverEResults + [callbacks[0].sigmaOverEPlotter.plotElt], errors=True, beamEnergiesToCircle=True)"
   ]
  },
  {
   "cell_type": "code",
   "execution_count": 6,
   "metadata": {},
   "outputs": [],
   "source": [
    "datamodule.prepare_data()\n",
    "datamodule.setup(\"predict\")\n",
    "beamEnergies = []\n",
    "tracksterEnergy_bare = []\n",
    "tracksterEnergy_pred = []\n",
    "count = 0\n",
    "for batch in datamodule.train_dataloader():\n",
    "    beamEnergies.append(batch.beamEnergy)\n",
    "    tracksterEnergy_bare.append(batch.tracksterEnergy)\n",
    "    tracksterEnergy_pred.append(batch.tracksterEnergy*torch.normal(torch.ones_like(batch.tracksterEnergy), batch.beamEnergy*0.0001))\n",
    "    count += len(batch.beamEnergy)\n",
    "    if count > 1e4:\n",
    "        break"
   ]
  },
  {
   "cell_type": "code",
   "execution_count": 7,
   "metadata": {},
   "outputs": [],
   "source": [
    "beamEnergies = convertListOfTensorsToNumpy(beamEnergies)\n",
    "tracksterEnergy_bare = convertListOfTensorsToNumpy(tracksterEnergy_bare)\n",
    "tracksterEnergy_pred = convertListOfTensorsToNumpy(tracksterEnergy_pred)"
   ]
  },
  {
   "cell_type": "code",
   "execution_count": 8,
   "metadata": {},
   "outputs": [
    {
     "data": {
      "text/plain": [
       "(<Figure size 1000x500 with 1 Axes>,\n",
       " <Axes: xlabel='Beam energy (GeV)', ylabel='Ratio of (predicted) trackster energy over incident beam energy'>)"
      ]
     },
     "execution_count": 8,
     "metadata": {},
     "output_type": "execute_result"
    }
   ],
   "source": [
    "doubleViolin(beamEnergies, tracksterEnergy_bare, tracksterEnergy_pred,overlapViolins=False, normBy=\"incidentBeamEnergy\")"
   ]
  },
  {
   "cell_type": "code",
   "execution_count": null,
   "metadata": {},
   "outputs": [],
   "source": []
  }
 ],
 "metadata": {
  "kernelspec": {
   "display_name": "clustering-analysis-gpu2",
   "language": "python",
   "name": "python3"
  },
  "language_info": {
   "codemirror_mode": {
    "name": "ipython",
    "version": 3
   },
   "file_extension": ".py",
   "mimetype": "text/x-python",
   "name": "python",
   "nbconvert_exporter": "python",
   "pygments_lexer": "ipython3",
   "version": "3.10.11"
  },
  "orig_nbformat": 4
 },
 "nbformat": 4,
 "nbformat_minor": 2
}
