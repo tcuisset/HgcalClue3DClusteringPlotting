{
 "cells": [
  {
   "cell_type": "code",
   "execution_count": 1,
   "metadata": {},
   "outputs": [],
   "source": [
    "import sys\n",
    "sys.path.append(\"../../..\")\n",
    "import os\n",
    "#os.environ[\"CUDA_LAUNCH_BLOCKING\"] = \"1\"\n",
    "%load_ext autoreload\n",
    "%autoreload 1\n",
    "import lightning.pytorch as pl\n",
    "from lightning.pytorch.callbacks import DeviceStatsMonitor\n",
    "from lightning.pytorch.tuner.tuning import Tuner\n",
    "import numpy as np\n",
    "\n",
    "from ntupleReaders.clue_ntuple_reader import ClueNtupleReader\n",
    "\n",
    "from ml.dynamic_reduction_network import DynamicReductionNetwork\n",
    "%aimport ml.regression.drn.modules\n",
    "%aimport ml.regression.drn.dataset_making\n",
    "from ml.regression.drn.modules import *\n",
    "from ml.regression.drn.dataset_making import *"
   ]
  },
  {
   "cell_type": "code",
   "execution_count": null,
   "metadata": {},
   "outputs": [],
   "source": []
  },
  {
   "cell_type": "code",
   "execution_count": 3,
   "metadata": {},
   "outputs": [],
   "source": [
    "reader = ClueNtupleReader(\"v40\", \"cmssw\", \"sim_proton_v46_patchMIP\")"
   ]
  },
  {
   "cell_type": "code",
   "execution_count": 4,
   "metadata": {},
   "outputs": [],
   "source": [
    "dataset = DRNDataset(datasetType=\"train_val\", reader=reader, datasetComputationClass=LayerClustersTensorMaker)"
   ]
  },
  {
   "cell_type": "code",
   "execution_count": 2,
   "metadata": {},
   "outputs": [],
   "source": [
    "model = DRNModule(drn=DynamicReductionNetwork(input_dim=4,hidden_dim=20,k=10,output_dim=1,norm=torch.tensor([ 1., 1., 1., 1.])),\n",
    "    loss=RatioCorrectedLoss([-0.2597882 , -0.24326517,  1.01537901],), optimizer=torch.optim.AdamW)"
   ]
  },
  {
   "cell_type": "code",
   "execution_count": 5,
   "metadata": {},
   "outputs": [
    {
     "data": {
      "text/plain": [
       "<ml.regression.drn.modules.RatioCorrectedLoss at 0x7f480c446ec0>"
      ]
     },
     "execution_count": 5,
     "metadata": {},
     "output_type": "execute_result"
    }
   ],
   "source": [
    "model._hparams[\"loss\"]"
   ]
  }
 ],
 "metadata": {
  "kernelspec": {
   "display_name": "clustering-analysis-gpu2",
   "language": "python",
   "name": "python3"
  },
  "language_info": {
   "codemirror_mode": {
    "name": "ipython",
    "version": 3
   },
   "file_extension": ".py",
   "mimetype": "text/x-python",
   "name": "python",
   "nbconvert_exporter": "python",
   "pygments_lexer": "ipython3",
   "version": "3.10.11"
  },
  "orig_nbformat": 4
 },
 "nbformat": 4,
 "nbformat_minor": 2
}
