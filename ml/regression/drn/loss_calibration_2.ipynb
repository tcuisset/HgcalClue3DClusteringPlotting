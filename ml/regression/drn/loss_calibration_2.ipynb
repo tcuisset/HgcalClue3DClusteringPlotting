{
 "cells": [
  {
   "cell_type": "code",
   "execution_count": 18,
   "metadata": {},
   "outputs": [
    {
     "name": "stdout",
     "output_type": "stream",
     "text": [
      "The autoreload extension is already loaded. To reload it, use:\n",
      "  %reload_ext autoreload\n"
     ]
    }
   ],
   "source": [
    "from collections import defaultdict\n",
    "import matplotlib\n",
    "import matplotlib.pyplot as plt\n",
    "import mplhep as hep\n",
    "plt.style.use(hep.style.CMS)\n",
    "import numpy as np\n",
    "import scipy\n",
    "import hist\n",
    "\n",
    "import sys\n",
    "sys.path.append(\"../../..\")\n",
    "\n",
    "import torch\n",
    "\n",
    "%load_ext autoreload\n",
    "%autoreload 1\n",
    "from hists.parameters import synchrotronBeamEnergiesMap, beamEnergies\n",
    "from hists.custom_hists import beamEnergiesAxis\n",
    "from ntupleReaders.clue_ntuple_reader import ClueNtupleReader\n",
    "%aimport ml.regression.drn.modules\n",
    "from ml.regression.drn.modules import DRNDataset, ratioTransform, DRNDataModule, tracksterEnergyTransform, RatioCorrectedLoss\n",
    "from ml.regression.drn.dataset_making import LayerClustersTensorMaker"
   ]
  },
  {
   "cell_type": "code",
   "execution_count": 5,
   "metadata": {},
   "outputs": [],
   "source": [
    "def tracksterCorrectedEstimate(rawTracksterEnergy):\n",
    "    \"\"\" Correction function of trackster energy \n",
    "    Returns corrected trackster energy\n",
    "    \"\"\"\n",
    "    a = [-0.2597882 , -0.24326517,  1.01537901] # for simulation\n",
    "    return rawTracksterEnergy * 1/ (a[0] * rawTracksterEnergy**(a[1]) + a[2] )"
   ]
  },
  {
   "cell_type": "code",
   "execution_count": 12,
   "metadata": {},
   "outputs": [],
   "source": [
    "reader = ClueNtupleReader(\"v40\", \"cmssw\", \"sim_proton_v46_patchMIP\")\n",
    "dataset = DRNDataset(reader, datasetComputationClass=LayerClustersTensorMaker, pre_transform=ratioTransform)\n",
    "datamodule = DRNDataModule(reader, LayerClustersTensorMaker, tracksterEnergyTransform)\n",
    "datamodule.prepare_data()\n",
    "datamodule.setup(\"fit\")"
   ]
  },
  {
   "cell_type": "code",
   "execution_count": 21,
   "metadata": {},
   "outputs": [
    {
     "name": "stderr",
     "output_type": "stream",
     "text": [
      "/grid_mnt/vol_home/llr/cms/cuisset/mambaforge/envs/clustering-analysis-gpu2/lib/python3.10/site-packages/torch_geometric/data/collate.py:145: UserWarning: TypedStorage is deprecated. It will be removed in the future and UntypedStorage will be the only storage class. This should only matter to you if you are using storages directly.  To access UntypedStorage directly, use tensor.untyped_storage() instead of tensor.storage()\n",
      "  storage = elem.storage()._new_shared(numel)\n",
      "/grid_mnt/vol_home/llr/cms/cuisset/mambaforge/envs/clustering-analysis-gpu2/lib/python3.10/site-packages/torch_geometric/data/collate.py:145: UserWarning: TypedStorage is deprecated. It will be removed in the future and UntypedStorage will be the only storage class. This should only matter to you if you are using storages directly.  To access UntypedStorage directly, use tensor.untyped_storage() instead of tensor.storage()\n",
      "  storage = elem.storage()._new_shared(numel)\n"
     ]
    }
   ],
   "source": [
    "loss = RatioCorrectedLoss([-0.2597882 , -0.24326517,  1.01537901], reduction=\"none\")\n",
    "h = hist.Hist(beamEnergiesAxis(), storage=hist.storage.Weight)\n",
    "for batch in datamodule.train_dataloader():\n",
    "    losses = loss(torch.ones_like(batch.beamEnergy), batch)\n",
    "    h.fill(batch.beamEnergy, weight=losses)\n",
    "    single_batch = batch\n",
    "    "
   ]
  },
  {
   "cell_type": "code",
   "execution_count": 22,
   "metadata": {},
   "outputs": [
    {
     "data": {
      "text/html": [
       "<html>\n",
       "<div style=\"display:flex; align-items:center;\">\n",
       "<div style=\"width:290px;\">\n",
       "<svg xmlns=\"http://www.w3.org/2000/svg\" viewBox=\"-10 -105 270 120\">\n",
       "<line x1=\"-5\" y1=\"0\" x2=\"255\" y2=\"0\" style=\"fill:none;stroke-width:2;stroke:currentColor\"/>\n",
       "<text text-anchor=\"middle\" x=\"0\" y=\"15\" style=\"fill:currentColor;\">\n",
       "0\n",
       "</text>\n",
       "<text text-anchor=\"middle\" x=\"250\" y=\"15\" style=\"fill:currentColor;\">\n",
       "10\n",
       "</text>\n",
       "<text text-anchor=\"middle\" x=\"125.0\" y=\"15\" style=\"fill:currentColor;\">\n",
       "Beam energy (GeV)\n",
       "</text>\n",
       "<polyline points=\"  0,0   0,-4.9  25,-4.9  25,-0  50,-0  50,-15.4  75,-15.4  75,-20.5 100,-20.5 100,-0 125,-0 125,-27.9 150,-27.9 150,-36.5 175,-36.5 175,-47.2 200,-47.2 200,-0 225,-0 225,-100 250,-100 250,0\" style=\"fill:none; stroke:currentColor;\"/>\n",
       "</svg>\n",
       "</div>\n",
       "<div style=\"flex=grow:1;\">\n",
       "IntCategory([20, 30, 50, 80, 100, 120, 150, 200, 250, 300], name='beamEnergy', label='Beam energy (GeV)')<br/>\n",
       "<hr style=\"margin-top:.2em; margin-bottom:.2em;\"/>\n",
       "Weight() Σ=WeightedSum(value=1.76013e+06, variance=7.77347e+08)\n",
       "\n",
       "</div>\n",
       "</div>\n",
       "</html>"
      ],
      "text/plain": [
       "Hist(IntCategory([20, 30, 50, 80, 100, 120, 150, 200, 250, 300], name='beamEnergy', label='Beam energy (GeV)'), storage=Weight()) # Sum: WeightedSum(value=1.76013e+06, variance=7.77347e+08)"
      ]
     },
     "execution_count": 22,
     "metadata": {},
     "output_type": "execute_result"
    }
   ],
   "source": [
    "h"
   ]
  },
  {
   "cell_type": "code",
   "execution_count": 24,
   "metadata": {},
   "outputs": [
    {
     "data": {
      "text/plain": [
       "array([ 34138.82617956,      0.        , 107298.11311136, 142813.29001178,\n",
       "            0.        , 194633.38293148, 254814.9103512 , 329231.13863341,\n",
       "            0.        , 697200.30600647])"
      ]
     },
     "execution_count": 24,
     "metadata": {},
     "output_type": "execute_result"
    }
   ],
   "source": [
    "h.view().value"
   ]
  },
  {
   "cell_type": "code",
   "execution_count": 16,
   "metadata": {},
   "outputs": [
    {
     "data": {
      "text/plain": [
       "tensor([ 80.,  80., 150.,  ...,  50.,  20., 200.])"
      ]
     },
     "execution_count": 16,
     "metadata": {},
     "output_type": "execute_result"
    }
   ],
   "source": [
    "single_batch.beamEnergy"
   ]
  },
  {
   "cell_type": "code",
   "execution_count": 6,
   "metadata": {},
   "outputs": [],
   "source": [
    "losses = defaultdict(list)\n",
    "for data in dataset:\n",
    "    tracksterEnergy = torch.sum(data.x[:, 3]).item()\n",
    "    tracksterEnergyCorr = tracksterCorrectedEstimate(tracksterEnergy)\n",
    "    r_hat = 1\n",
    "    loss = (r_hat * tracksterEnergyCorr - data.trueBeamEnergy.item())**2\n",
    "    losses[data.beamEnergy.item()].append(loss)"
   ]
  },
  {
   "cell_type": "code",
   "execution_count": 10,
   "metadata": {},
   "outputs": [],
   "source": [
    "losses =  dict(sorted(losses.items()))\n",
    "class_corrected_losses = {beamEnergy : np.array(losses_list)/len(losses_list) for beamEnergy, losses_list in losses.items()}"
   ]
  },
  {
   "cell_type": "code",
   "execution_count": 11,
   "metadata": {},
   "outputs": [
    {
     "data": {
      "text/plain": [
       "<BarContainer object of 7 artists>"
      ]
     },
     "execution_count": 11,
     "metadata": {},
     "output_type": "execute_result"
    },
    {
     "data": {
      "image/png": "[encoded data removed]",
      "text/plain": [
       "<Figure size 1000x1000 with 1 Axes>"
      ]
     },
     "metadata": {},
     "output_type": "display_data"
    }
   ],
   "source": [
    "plt.bar(list(class_corrected_losses.keys()), [sum(losses) for losses in class_corrected_losses.values()])"
   ]
  },
  {
   "cell_type": "code",
   "execution_count": 16,
   "metadata": {},
   "outputs": [],
   "source": [
    "import torch_geometric.loader\n",
    "batch = next(iter(torch_geometric.loader.DataLoader(dataset, batch_size=2)))"
   ]
  },
  {
   "cell_type": "code",
   "execution_count": 23,
   "metadata": {},
   "outputs": [
    {
     "data": {
      "text/plain": [
       "tensor([ 0.2203,  1.1610,  2.5184,  4.3519,  0.1707,  6.9958,  8.8507,  0.0671,\n",
       "        11.0141, 10.0720, 10.8473,  9.1773,  7.5854,  8.2291,  7.6893,  4.1672,\n",
       "         5.2147,  3.1361,  3.2306,  1.6776,  1.7982,  0.0436,  1.0041,  1.3259,\n",
       "         0.7549,  0.0848,  0.4544,  0.0554,  0.0361,  0.0767,  0.1221,  0.1476,\n",
       "         0.0977,  0.0295,  0.0321,  0.0497,  0.6173,  1.7092,  5.3793,  6.4365,\n",
       "        11.3475, 10.8499, 12.1795, 10.9045, 10.7231,  9.6410,  8.5726,  6.8716,\n",
       "         4.9564,  3.4566,  3.0501,  1.8395,  1.3047,  0.7432,  0.0520,  0.7760,\n",
       "         0.0484,  0.0773,  0.2842,  0.0727,  0.4278,  0.1144,  0.0860,  0.1038,\n",
       "         0.0291,  0.1926,  0.0564,  0.1095])"
      ]
     },
     "execution_count": 23,
     "metadata": {},
     "output_type": "execute_result"
    }
   ],
   "source": [
    "RatioCorrectedLoss"
   ]
  }
 ],
 "metadata": {
  "kernelspec": {
   "display_name": "clustering-analysis-gpu2",
   "language": "python",
   "name": "python3"
  },
  "language_info": {
   "codemirror_mode": {
    "name": "ipython",
    "version": 3
   },
   "file_extension": ".py",
   "mimetype": "text/x-python",
   "name": "python",
   "nbconvert_exporter": "python",
   "pygments_lexer": "ipython3",
   "version": "3.10.11"
  },
  "orig_nbformat": 4
 },
 "nbformat": 4,
 "nbformat_minor": 2
}
