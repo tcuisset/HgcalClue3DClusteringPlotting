{
 "cells": [
  {
   "attachments": {},
   "cell_type": "markdown",
   "metadata": {},
   "source": [
    "# Testing of hists/dataframe.py"
   ]
  },
  {
   "cell_type": "code",
   "execution_count": 1,
   "metadata": {},
   "outputs": [],
   "source": [
    "%load_ext autoreload\n",
    "%autoreload 2\n",
    "from functools import partial\n",
    "import pandas as pd\n",
    "import numpy as np\n",
    "import uproot\n",
    "import awkward as ak\n",
    "import sys\n",
    "sys.path.append(\"..\")\n",
    "from hists.dataframe import *\n",
    "from hists.shower_axis import *"
   ]
  },
  {
   "cell_type": "code",
   "execution_count": 2,
   "metadata": {},
   "outputs": [],
   "source": [
    "#input_file = '/grid_mnt/vol_home/llr/cms/cuisset/hgcal/testbeam18/clue3d-dev/src/ClusteringAnalysis/CLUE_clusters_single.root'\n",
    "input_file = '/data_cms_upgrade/cuisset/testbeam18/clue3d/v41/cmssw/sim_proton_v46_patchMIP/CLUE_clusters.root'\n",
    "#input_file = '/data_cms_upgrade/cuisset/testbeam18/clue3d/v20/cmssw/sim_proton_v7/CLUE_clusters.root'"
   ]
  },
  {
   "cell_type": "code",
   "execution_count": 3,
   "metadata": {},
   "outputs": [],
   "source": [
    "for array_i in uproot.iterate(input_file + \":clusters\", step_size=\"10MB\", library=\"ak\"):\n",
    "    series = array_i\n",
    "    break"
   ]
  },
  {
   "cell_type": "code",
   "execution_count": 4,
   "metadata": {},
   "outputs": [],
   "source": [
    "comp = DataframeComputations(series)"
   ]
  },
  {
   "cell_type": "code",
   "execution_count": 5,
   "metadata": {},
   "outputs": [
    {
     "data": {
      "text/plain": [
       "array([ 1,  2,  3,  4,  5,  6,  7,  8,  9, 10, 11, 12, 13, 14, 15, 16, 17,\n",
       "       18, 19, 20, 21, 22, 23, 24, 25, 26, 27, 28], dtype=int32)"
      ]
     },
     "execution_count": 5,
     "metadata": {},
     "output_type": "execute_result"
    }
   ],
   "source": [
    "comp.rechits_totalReconstructedEnergyPerEventLayer.index.levels[1].to_numpy(dtype=np.int32)"
   ]
  },
  {
   "cell_type": "code",
   "execution_count": 7,
   "metadata": {},
   "outputs": [
    {
     "data": {
      "text/html": [
       "<div>\n",
       "<style scoped>\n",
       "    .dataframe tbody tr th:only-of-type {\n",
       "        vertical-align: middle;\n",
       "    }\n",
       "\n",
       "    .dataframe tbody tr th {\n",
       "        vertical-align: top;\n",
       "    }\n",
       "\n",
       "    .dataframe thead th {\n",
       "        text-align: right;\n",
       "    }\n",
       "</style>\n",
       "<table border=\"1\" class=\"dataframe\">\n",
       "  <thead>\n",
       "    <tr style=\"text-align: right;\">\n",
       "      <th></th>\n",
       "      <th>intervalFractionEnergy_minLayer</th>\n",
       "      <th>intervalFractionEnergy_maxLayer</th>\n",
       "      <th>beamEnergy</th>\n",
       "      <th>synchrotronBeamEnergy</th>\n",
       "      <th>intervalFractionEnergy_length</th>\n",
       "    </tr>\n",
       "    <tr>\n",
       "      <th>eventInternal</th>\n",
       "      <th></th>\n",
       "      <th></th>\n",
       "      <th></th>\n",
       "      <th></th>\n",
       "      <th></th>\n",
       "    </tr>\n",
       "  </thead>\n",
       "  <tbody>\n",
       "    <tr>\n",
       "      <th>0</th>\n",
       "      <td>4</td>\n",
       "      <td>12</td>\n",
       "      <td>100.0</td>\n",
       "      <td>99.83</td>\n",
       "      <td>9</td>\n",
       "    </tr>\n",
       "    <tr>\n",
       "      <th>1</th>\n",
       "      <td>6</td>\n",
       "      <td>13</td>\n",
       "      <td>100.0</td>\n",
       "      <td>99.83</td>\n",
       "      <td>8</td>\n",
       "    </tr>\n",
       "    <tr>\n",
       "      <th>2</th>\n",
       "      <td>4</td>\n",
       "      <td>12</td>\n",
       "      <td>100.0</td>\n",
       "      <td>99.83</td>\n",
       "      <td>9</td>\n",
       "    </tr>\n",
       "    <tr>\n",
       "      <th>3</th>\n",
       "      <td>5</td>\n",
       "      <td>12</td>\n",
       "      <td>100.0</td>\n",
       "      <td>99.83</td>\n",
       "      <td>8</td>\n",
       "    </tr>\n",
       "    <tr>\n",
       "      <th>4</th>\n",
       "      <td>5</td>\n",
       "      <td>12</td>\n",
       "      <td>100.0</td>\n",
       "      <td>99.83</td>\n",
       "      <td>8</td>\n",
       "    </tr>\n",
       "    <tr>\n",
       "      <th>...</th>\n",
       "      <td>...</td>\n",
       "      <td>...</td>\n",
       "      <td>...</td>\n",
       "      <td>...</td>\n",
       "      <td>...</td>\n",
       "    </tr>\n",
       "    <tr>\n",
       "      <th>1051</th>\n",
       "      <td>7</td>\n",
       "      <td>14</td>\n",
       "      <td>100.0</td>\n",
       "      <td>99.83</td>\n",
       "      <td>8</td>\n",
       "    </tr>\n",
       "    <tr>\n",
       "      <th>1052</th>\n",
       "      <td>8</td>\n",
       "      <td>17</td>\n",
       "      <td>100.0</td>\n",
       "      <td>99.83</td>\n",
       "      <td>10</td>\n",
       "    </tr>\n",
       "    <tr>\n",
       "      <th>1053</th>\n",
       "      <td>3</td>\n",
       "      <td>11</td>\n",
       "      <td>100.0</td>\n",
       "      <td>99.83</td>\n",
       "      <td>9</td>\n",
       "    </tr>\n",
       "    <tr>\n",
       "      <th>1054</th>\n",
       "      <td>6</td>\n",
       "      <td>13</td>\n",
       "      <td>100.0</td>\n",
       "      <td>99.83</td>\n",
       "      <td>8</td>\n",
       "    </tr>\n",
       "    <tr>\n",
       "      <th>1055</th>\n",
       "      <td>4</td>\n",
       "      <td>12</td>\n",
       "      <td>100.0</td>\n",
       "      <td>99.83</td>\n",
       "      <td>9</td>\n",
       "    </tr>\n",
       "  </tbody>\n",
       "</table>\n",
       "<p>1056 rows × 5 columns</p>\n",
       "</div>"
      ],
      "text/plain": [
       "               intervalFractionEnergy_minLayer  \\\n",
       "eventInternal                                    \n",
       "0                                            4   \n",
       "1                                            6   \n",
       "2                                            4   \n",
       "3                                            5   \n",
       "4                                            5   \n",
       "...                                        ...   \n",
       "1051                                         7   \n",
       "1052                                         8   \n",
       "1053                                         3   \n",
       "1054                                         6   \n",
       "1055                                         4   \n",
       "\n",
       "               intervalFractionEnergy_maxLayer  beamEnergy  \\\n",
       "eventInternal                                                \n",
       "0                                           12       100.0   \n",
       "1                                           13       100.0   \n",
       "2                                           12       100.0   \n",
       "3                                           12       100.0   \n",
       "4                                           12       100.0   \n",
       "...                                        ...         ...   \n",
       "1051                                        14       100.0   \n",
       "1052                                        17       100.0   \n",
       "1053                                        11       100.0   \n",
       "1054                                        13       100.0   \n",
       "1055                                        12       100.0   \n",
       "\n",
       "               synchrotronBeamEnergy  intervalFractionEnergy_length  \n",
       "eventInternal                                                        \n",
       "0                              99.83                              9  \n",
       "1                              99.83                              8  \n",
       "2                              99.83                              9  \n",
       "3                              99.83                              8  \n",
       "4                              99.83                              8  \n",
       "...                              ...                            ...  \n",
       "1051                           99.83                              8  \n",
       "1052                           99.83                             10  \n",
       "1053                           99.83                              9  \n",
       "1054                           99.83                              8  \n",
       "1055                           99.83                              9  \n",
       "\n",
       "[1056 rows x 5 columns]"
      ]
     },
     "execution_count": 7,
     "metadata": {},
     "output_type": "execute_result"
    }
   ],
   "source": [
    "comp.rechits_intervalHoldingFractionOfEnergy_joined(0.68)"
   ]
  },
  {
   "cell_type": "code",
   "execution_count": null,
   "metadata": {},
   "outputs": [],
   "source": [
    "pd.set_option('display.min_rows', 20)\n",
    "pd.set_option('display.max_rows', 500)"
   ]
  },
  {
   "cell_type": "code",
   "execution_count": null,
   "metadata": {},
   "outputs": [],
   "source": [
    "comp_n = DataframeComputations(series)\n",
    "comp_e = DataframeComputations(series[0:0])"
   ]
  },
  {
   "cell_type": "code",
   "execution_count": null,
   "metadata": {},
   "outputs": [],
   "source": [
    "self = comp_e\n",
    "self.clusters3D_merged_2D_custom(self.clusters3D_with_clus2D_id(), self.clusters2D)"
   ]
  },
  {
   "cell_type": "code",
   "execution_count": null,
   "metadata": {},
   "outputs": [],
   "source": [
    "comp_e.clusters3D_with_clus2D_id().reset_index()"
   ]
  },
  {
   "cell_type": "code",
   "execution_count": null,
   "metadata": {},
   "outputs": [],
   "source": [
    "self = comp_n\n",
    "self.clusters3D_merged_2D_custom(self.clusters3D_with_clus2D_id(), self.clusters2D)"
   ]
  },
  {
   "cell_type": "code",
   "execution_count": null,
   "metadata": {},
   "outputs": [],
   "source": [
    "df = comp.clusters3D_intervalHoldingFractionOfEnergy_joined(fraction=0.7)\n",
    "df = df[df.index.isin(comp.clusters3D_largestClusterIndex_fast)]"
   ]
  },
  {
   "cell_type": "code",
   "execution_count": null,
   "metadata": {},
   "outputs": [],
   "source": [
    "df"
   ]
  },
  {
   "cell_type": "code",
   "execution_count": null,
   "metadata": {},
   "outputs": [],
   "source": [
    "comp.clusters3D_layerWithMaxClusteredEnergy"
   ]
  },
  {
   "cell_type": "code",
   "execution_count": null,
   "metadata": {},
   "outputs": [],
   "source": [
    "pd.merge(df, \n",
    "    comp.clusters3D_layerWithMaxClusteredEnergy[[\"eventInternal\",\"clus3D_id\",\"layer_with_max_clustered_energy\", \"clus2D_energy_sum\"]].set_index([\"eventInternal\", \"clus3D_id\"]), \n",
    "    left_index=True, right_index=True)"
   ]
  },
  {
   "cell_type": "code",
   "execution_count": null,
   "metadata": {},
   "outputs": [],
   "source": [
    "array = comp.array\n",
    "array"
   ]
  },
  {
   "cell_type": "code",
   "execution_count": null,
   "metadata": {},
   "outputs": [],
   "source": [
    "array = array[ak.num(array.clus3D_energy, axis=-1) >= 2]\n",
    "        # compute indices of 3D clusters for each event, sorted by energy\n",
    "clus3D_energySortedIndices = ak.argsort(array['clus3D_energy'], axis=-1, ascending=False)#[:, 0]\n",
    "clus3D_energySortedIndices[:, 0:1]"
   ]
  },
  {
   "cell_type": "code",
   "execution_count": null,
   "metadata": {},
   "outputs": [],
   "source": [
    "clus2D_ids = array.clus3D_idxs[clus3D_energySortedIndices[:, 0:1]][:, 0, :]\n",
    "clus2D_ids"
   ]
  },
  {
   "cell_type": "code",
   "execution_count": null,
   "metadata": {},
   "outputs": [],
   "source": [
    "rechits_ids = ak.flatten(array.clus2D_idxs[array.clus3D_idxs[clus3D_energySortedIndices][:, 0, :]], axis=-1)\n",
    "rechits_ids"
   ]
  },
  {
   "cell_type": "code",
   "execution_count": null,
   "metadata": {},
   "outputs": [],
   "source": [
    "array[[\"rechits_x\", \"rechits_y\"]][rechits_ids]"
   ]
  },
  {
   "cell_type": "code",
   "execution_count": null,
   "metadata": {},
   "outputs": [],
   "source": [
    "for evt in zip(array.rechits_energy[rechits_ids], array.rechits_x[rechits_ids]):\n",
    "    print(evt)"
   ]
  }
 ],
 "metadata": {
  "kernelspec": {
   "display_name": "clustering-analysis-panel",
   "language": "python",
   "name": "python3"
  },
  "language_info": {
   "codemirror_mode": {
    "name": "ipython",
    "version": 3
   },
   "file_extension": ".py",
   "mimetype": "text/x-python",
   "name": "python",
   "nbconvert_exporter": "python",
   "pygments_lexer": "ipython3",
   "version": "3.10.11"
  },
  "orig_nbformat": 4,
  "vscode": {
   "interpreter": {
    "hash": "5d685b00a9ac5471bb0a7d830a96dd3d4e849afd73d4252b93d3e12d43cf373e"
   }
  }
 },
 "nbformat": 4,
 "nbformat_minor": 2
}
