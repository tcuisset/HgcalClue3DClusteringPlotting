{
 "cells": [
  {
   "cell_type": "code",
   "execution_count": 63,
   "metadata": {},
   "outputs": [
    {
     "name": "stdout",
     "output_type": "stream",
     "text": [
      "The autoreload extension is already loaded. To reload it, use:\n",
      "  %reload_ext autoreload\n"
     ]
    }
   ],
   "source": [
    "%load_ext autoreload\n",
    "%autoreload 2\n",
    "import zfit\n",
    "\n",
    "import sys\n",
    "sys.path.append(\"..\")\n",
    "from HistogramLib.store import HistogramStore\n",
    "from HistogramLib.plot_manager import PlotManager\n",
    "from HistogramLib.bokeh.histogram_widget import *\n",
    "from hists.store import HistogramId\n",
    "\n",
    "from fit import *"
   ]
  },
  {
   "cell_type": "code",
   "execution_count": null,
   "metadata": {},
   "outputs": [
    {
     "data": {
      "text/html": [
       "<html>\n",
       "<div style=\"display:flex; align-items:center;\">\n",
       "<div style=\"width:290px;\">\n",
       "<svg xmlns=\"http://www.w3.org/2000/svg\" viewBox=\"-10 -105 270 120\">\n",
       "<line x1=\"-5\" y1=\"0\" x2=\"255\" y2=\"0\" style=\"fill:none;stroke-width:2;stroke:currentColor\"/>\n",
       "<text text-anchor=\"middle\" x=\"0\" y=\"15\" style=\"fill:currentColor;\">\n",
       "14.9\n",
       "</text>\n",
       "<text text-anchor=\"middle\" x=\"250\" y=\"15\" style=\"fill:currentColor;\">\n",
       "29.9\n",
       "</text>\n",
       "<text text-anchor=\"middle\" x=\"125.0\" y=\"15\" style=\"fill:currentColor;\">\n",
       "Total reconstructed energy per event (GeV)\n",
       "</text>\n",
       "<polyline points=\"  0,0   0,-0.865 2.90698,-0.865 2.90698,-1.22 5.81395,-1.22 5.81395,-1.44 8.72093,-1.44 8.72093,-1.66 11.6279,-1.66 11.6279,-0.865 14.5349,-0.865 14.5349,-1.22 17.4419,-1.22 17.4419,-1.59 20.3488,-1.59 20.3488,-1.51 23.2558,-1.51 23.2558,-2.52 26.1628,-2.52 26.1628,-2.02 29.0698,-2.02 29.0698,-2.67 31.9767,-2.67 31.9767,-3.96 34.8837,-3.96 34.8837,-4.54 37.7907,-4.54 37.7907,-6.34 40.6977,-6.34 40.6977,-7.42 43.6047,-7.42 43.6047,-11.3 46.5116,-11.3 46.5116,-12.8 49.4186,-12.8 49.4186,-20.4 52.3256,-20.4 52.3256,-24.1 55.2326,-24.1 55.2326,-36.1 58.1395,-36.1 58.1395,-46.3 61.0465,-46.3 61.0465,-54.7 63.9535,-54.7 63.9535,-69.8 66.8605,-69.8 66.8605,-77.1 69.7674,-77.1 69.7674,-88.5 72.6744,-88.5 72.6744,-99.2 75.5814,-99.2 75.5814,-98.8 78.4884,-98.8 78.4884,-100 81.3953,-100 81.3953,-96.8 84.3023,-96.8 84.3023,-90.6 87.2093,-90.6 87.2093,-82.8 90.1163,-82.8 90.1163,-72.3 93.0233,-72.3 93.0233,-62 95.9302,-62 95.9302,-51.7 98.8372,-51.7 98.8372,-38.7 101.744,-38.7 101.744,-32.2 104.651,-32.2 104.651,-24.5 107.558,-24.5 107.558,-15.4 110.465,-15.4 110.465,-12.8 113.372,-12.8 113.372,-8.43 116.279,-8.43 116.279,-6.12 119.186,-6.12 119.186,-3.31 122.093,-3.31 122.093,-2.09 125,-2.09 125,-1.15 127.907,-1.15 127.907,-0.72 130.814,-0.72 130.814,-0.576 133.721,-0.576 133.721,-0.36 136.628,-0.36 136.628,-0.72 139.535,-0.72 139.535,-0.36 142.442,-0.36 142.442,-0.072 145.349,-0.072 145.349,-0 148.256,-0 148.256,-0.216 151.163,-0.216 151.163,-0.072 154.07,-0.072 154.07,-0 156.977,-0 156.977,-0 159.884,-0 159.884,-0 162.791,-0 162.791,-0 165.698,-0 165.698,-0 168.605,-0 168.605,-0 171.512,-0 171.512,-0 174.419,-0 174.419,-0 177.326,-0 177.326,-0.072 180.233,-0.072 180.233,-0 183.14,-0 183.14,-0 186.047,-0 186.047,-0 188.953,-0 188.953,-0.072 191.86,-0.072 191.86,-0.072 194.767,-0.072 194.767,-0 197.674,-0 197.674,-0 200.581,-0 200.581,-0 203.488,-0 203.488,-0 206.395,-0 206.395,-0 209.302,-0 209.302,-0 212.209,-0 212.209,-0 215.116,-0 215.116,-0 218.023,-0 218.023,-0 220.93,-0 220.93,-0.072 223.837,-0.072 223.837,-0.072 226.744,-0.072 226.744,-0 229.651,-0 229.651,-0 232.558,-0 232.558,-0 235.465,-0 235.465,-0 238.372,-0 238.372,-0 241.279,-0 241.279,-0 244.186,-0 244.186,-0 247.093,-0 247.093,-0 250,-0 250,0\" style=\"fill:none; stroke:currentColor;\"/>\n",
       "</svg>\n",
       "</div>\n",
       "<div style=\"flex=grow:1;\">\n",
       "Regular(86, 14.875, 29.925, name='rechits_energy_sum', label='Total reconstructed energy per event (GeV)')<br/>\n",
       "<hr style=\"margin-top:.2em; margin-bottom:.2em;\"/>\n",
       "Double() Σ=19200.0 <em>(19433.0 with flow)</em>\n",
       "\n",
       "</div>\n",
       "</div>\n",
       "</html>"
      ],
      "text/plain": [
       "Hist(Regular(86, 14.875, 29.925, name='rechits_energy_sum', label='Total reconstructed energy per event (GeV)'), storage=Double()) # Sum: 19200.0 (19433.0 with flow)"
      ]
     },
     "execution_count": 3,
     "metadata": {},
     "output_type": "execute_result"
    }
   ],
   "source": [
    "hist_folder = '/grid_mnt/data_cms_upgrade/cuisset/testbeam18/clue3d/v40'\n",
    "histStore = HistogramStore(hist_folder, HistogramId)\n",
    "h1 = histStore.get(HistogramId(\"RechitsTotalEnergyPerEvent\", \"cmssw\", \"data\")).getHistogram(HistogramKind.COUNT)\n",
    "h_proj = h1[{\"beamEnergy\":hist.loc(20), \"rechits_energy_sum\":slice(hist.loc(15), hist.loc(30))}]\n",
    "h_proj"
   ]
  },
  {
   "cell_type": "code",
   "execution_count": 38,
   "metadata": {},
   "outputs": [],
   "source": [
    "fitter = GaussianIterativeFitter(h_proj, sigmaWindow=(1, 2.5))"
   ]
  },
  {
   "cell_type": "code",
   "execution_count": 39,
   "metadata": {},
   "outputs": [
    {
     "name": "stdout",
     "output_type": "stream",
     "text": [
      "<zfit.Parameter 'mu_' floating=True value=19.6>\n",
      "<zfit.Parameter 'sigma_' floating=True value=1.057>\n"
     ]
    }
   ],
   "source": [
    "GaussianParameters.print()"
   ]
  },
  {
   "cell_type": "code",
   "execution_count": 40,
   "metadata": {},
   "outputs": [
    {
     "data": {
      "application/vnd.jupyter.widget-view+json": {
       "model_id": "d4652063cb694c98869fb35b4044374c",
       "version_major": 2,
       "version_minor": 0
      },
      "text/plain": [
       "  0%|          | 0/5 [00:00<?, ?it/s]"
      ]
     },
     "metadata": {},
     "output_type": "display_data"
    },
    {
     "name": "stdout",
     "output_type": "stream",
     "text": [
      "<zfit.Parameter 'mu_' floating=True value=19.6>\n",
      "<zfit.Parameter 'sigma_' floating=True value=1.057>\n",
      "<zfit.Parameter 'mu_' floating=True value=19.64>\n",
      "<zfit.Parameter 'sigma_' floating=True value=0.9565>\n",
      "<zfit.Parameter 'mu_' floating=True value=19.64>\n",
      "<zfit.Parameter 'sigma_' floating=True value=0.9521>\n",
      "<zfit.Parameter 'mu_' floating=True value=19.64>\n",
      "<zfit.Parameter 'sigma_' floating=True value=0.9521>\n",
      "<zfit.Parameter 'mu_' floating=True value=19.64>\n",
      "<zfit.Parameter 'sigma_' floating=True value=0.9521>\n"
     ]
    },
    {
     "data": {
      "text/plain": [
       "\u001b[1mFitResult\u001b[22m of\n",
       "<BinnedNLL model=[<zfit.models.tobinned.BinnedFromUnbinnedPDF object at 0x7f6db06644c0>] data=[<zfit._data.binneddatav1.BinnedData object at 0x7f6d8017edd0>] constraints=[]> \n",
       "with\n",
       "<Minuit Minuit tol=0.001>\n",
       "\n",
       "╒═════════╤═════════════╤══════════════════╤═════════╤═════════════╕\n",
       "│ valid   │ converged   │ param at limit   │ edm     │ min value   │\n",
       "╞═════════╪═════════════╪══════════════════╪═════════╪═════════════╡\n",
       "│ \u001b[48;5;10mTrue\u001b[0m    │ True\u001b[0m        │ False\u001b[0m            │ 1.6e-08 │ 86.85547    │\n",
       "╘═════════╧═════════════╧══════════════════╧═════════╧═════════════╛\n",
       "\n",
       "\u001b[1mParameters\n",
       "\u001b[22mname      value  (rounded)    at limit\n",
       "------  ------------------  ----------\n",
       "mu_                19.6406       False\u001b[0m\n",
       "sigma_            0.952126       False\u001b[0m"
      ]
     },
     "execution_count": 40,
     "metadata": {},
     "output_type": "execute_result"
    }
   ],
   "source": [
    "fitRes = fitter.multiIteration(verbose=True)\n",
    "fitRes"
   ]
  },
  {
   "cell_type": "code",
   "execution_count": 48,
   "metadata": {},
   "outputs": [
    {
     "data": {
      "text/plain": [
       "[19.64063167903085, 0.9521258667109804]"
      ]
     },
     "execution_count": 48,
     "metadata": {},
     "output_type": "execute_result"
    }
   ],
   "source": [
    "list(fitRes.values)"
   ]
  },
  {
   "cell_type": "code",
   "execution_count": 62,
   "metadata": {},
   "outputs": [
    {
     "data": {
      "text/plain": [
       "<BinnedNLL model=['BinnedFromUnbinnedPDF'] data=['BinnedData'] constraints=[] >"
      ]
     },
     "execution_count": 62,
     "metadata": {},
     "output_type": "execute_result"
    }
   ],
   "source": [
    "fitRes.loss"
   ]
  },
  {
   "cell_type": "code",
   "execution_count": 27,
   "metadata": {},
   "outputs": [
    {
     "name": "stderr",
     "output_type": "stream",
     "text": [
      "/grid_mnt/vol_home/llr/cms/cuisset/mambaforge/envs/clustering-analysis/lib/python3.10/site-packages/zfit/core/loss.py:298: AdvancedFeatureWarning: Either you're using an advanced feature OR causing unwanted behavior. To turn this warning off, use `zfit.settings.advanced_warnings['inconsistent_fitrange'] = False`  or 'all' (use with care) with `zfit.settings.advanced_warnings['all'] = False\n",
      "PDFs [<zfit.models.tobinned.BinnedFromUnbinnedPDF object at 0x7f8768386170>] as well as `data` [<zfit._data.binneddatav1.BinnedData object at 0x7f87a7d46d40>] have different ranges [(<zfit Space obs=('rechits_energy_sum',), axes=None, limits=(array([[10.]]), array([[20.]])), binned=True>, <zfit Space obs=('rechits_energy_sum',), axes=None, limits=(array([[14.875]]), array([[29.925]])), binned=True>)] they are defined in. The data range will cut the data while the norm range defines the normalization.\n",
      "  warn_advanced_feature(\n"
     ]
    },
    {
     "name": "stdout",
     "output_type": "stream",
     "text": [
      "W VariableMetricBuilder No improvement in line search\n",
      "W VariableMetricBuilder Iterations finish without convergence; Edm 5.20239e+13 Requested 0.001\n"
     ]
    },
    {
     "data": {
      "text/plain": [
       "\u001b[1mFitResult\u001b[22m of\n",
       "<BinnedNLL model=[<zfit.models.tobinned.BinnedFromUnbinnedPDF object at 0x7f8768386170>] data=[<zfit._data.binneddatav1.BinnedData object at 0x7f87a7d46d40>] constraints=[]> \n",
       "with\n",
       "<Minuit Minuit tol=0.001>\n",
       "\n",
       "╒═════════╤═════════════╤══════════════════╤═════════╤═════════════╕\n",
       "│ valid   │ converged   │ param at limit   │ edm     │ min value   │\n",
       "╞═════════╪═════════════╪══════════════════╪═════════╪═════════════╡\n",
       "│ \u001b[48;5;10mTrue\u001b[0m    │ True\u001b[0m        │ False\u001b[0m            │ 0.00097 │ 2797.999    │\n",
       "╘═════════╧═════════════╧══════════════════╧═════════╧═════════════╛\n",
       "\n",
       "\u001b[1mParameters\n",
       "\u001b[22mname      value  (rounded)    at limit\n",
       "------  ------------------  ----------\n",
       "mu_                 19.594       False\u001b[0m\n",
       "sigma_             1.05592       False\u001b[0m"
      ]
     },
     "execution_count": 27,
     "metadata": {},
     "output_type": "execute_result"
    }
   ],
   "source": [
    "loss = zfit.loss.BinnedNLL(new_pdf, fitter.data)\n",
    "minimizer = zfit.minimize.Minuit(verbosity=5)\n",
    "minimizer.minimize(loss)"
   ]
  }
 ],
 "metadata": {
  "kernelspec": {
   "display_name": "clustering-analysis-dash",
   "language": "python",
   "name": "python3"
  },
  "language_info": {
   "codemirror_mode": {
    "name": "ipython",
    "version": 3
   },
   "file_extension": ".py",
   "mimetype": "text/x-python",
   "name": "python",
   "nbconvert_exporter": "python",
   "pygments_lexer": "ipython3",
   "version": "3.10.10"
  },
  "orig_nbformat": 4
 },
 "nbformat": 4,
 "nbformat_minor": 2
}
