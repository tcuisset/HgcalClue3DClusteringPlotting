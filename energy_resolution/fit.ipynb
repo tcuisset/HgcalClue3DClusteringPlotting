{
 "cells": [
  {
   "cell_type": "code",
   "execution_count": 1,
   "metadata": {},
   "outputs": [
    {
     "name": "stderr",
     "output_type": "stream",
     "text": [
      "/grid_mnt/vol_home/llr/cms/cuisset/mambaforge/envs/clustering-anlysis-mamba-v2/lib/python3.10/site-packages/zfit/__init__.py:63: UserWarning: TensorFlow warnings are by default suppressed by zfit. In order to show them, set the environment variable ZFIT_DISABLE_TF_WARNINGS=0. In order to suppress the TensorFlow warnings AND this warning, set ZFIT_DISABLE_TF_WARNINGS=1.\n",
      "  warnings.warn(\n",
      "/grid_mnt/vol_home/llr/cms/cuisset/mambaforge/envs/clustering-anlysis-mamba-v2/lib/python3.10/site-packages/tensorflow_addons/utils/tfa_eol_msg.py:23: UserWarning: \n",
      "\n",
      "TensorFlow Addons (TFA) has ended development and introduction of new features.\n",
      "TFA has entered a minimal maintenance and release mode until a planned end of life in May 2024.\n",
      "Please modify downstream libraries to take dependencies from other repositories in our TensorFlow community (e.g. Keras, Keras-CV, and Keras-NLP). \n",
      "\n",
      "For more information see: https://github.com/tensorflow/addons/issues/2807 \n",
      "\n",
      "  warnings.warn(\n"
     ]
    }
   ],
   "source": [
    "import zfit\n",
    "\n",
    "import sys\n",
    "sys.path.append(\"..\")\n",
    "from HistogramLib.store import HistogramStore\n",
    "from HistogramLib.plot_manager import PlotManager\n",
    "from HistogramLib.bokeh.histogram_widget import *\n",
    "from hists.store import HistogramId"
   ]
  },
  {
   "cell_type": "code",
   "execution_count": 2,
   "metadata": {},
   "outputs": [
    {
     "data": {
      "text/html": [
       "<html>\n",
       "<div style=\"display:flex; align-items:center;\">\n",
       "<div style=\"width:290px;\">\n",
       "<svg xmlns=\"http://www.w3.org/2000/svg\" viewBox=\"-10 -105 270 120\">\n",
       "<line x1=\"-5\" y1=\"0\" x2=\"255\" y2=\"0\" style=\"fill:none;stroke-width:2;stroke:currentColor\"/>\n",
       "<text text-anchor=\"middle\" x=\"0\" y=\"15\" style=\"fill:currentColor;\">\n",
       "14.9\n",
       "</text>\n",
       "<text text-anchor=\"middle\" x=\"250\" y=\"15\" style=\"fill:currentColor;\">\n",
       "29.9\n",
       "</text>\n",
       "<text text-anchor=\"middle\" x=\"125.0\" y=\"15\" style=\"fill:currentColor;\">\n",
       "Total reconstructed energy per event (GeV)\n",
       "</text>\n",
       "<polyline points=\"  0,0   0,-0.853 2.90698,-0.853 2.90698,-1.28 5.81395,-1.28 5.81395,-1.42 8.72093,-1.42 8.72093,-1.63 11.6279,-1.63 11.6279,-0.853 14.5349,-0.853 14.5349,-1.21 17.4419,-1.21 17.4419,-1.71 20.3488,-1.71 20.3488,-1.49 23.2558,-1.49 23.2558,-2.49 26.1628,-2.49 26.1628,-1.99 29.0698,-1.99 29.0698,-2.63 31.9767,-2.63 31.9767,-3.91 34.8837,-3.91 34.8837,-4.48 37.7907,-4.48 37.7907,-6.25 40.6977,-6.25 40.6977,-7.46 43.6047,-7.46 43.6047,-11.2 46.5116,-11.2 46.5116,-12.7 49.4186,-12.7 49.4186,-20.5 52.3256,-20.5 52.3256,-24.3 55.2326,-24.3 55.2326,-36 58.1395,-36 58.1395,-46.4 61.0465,-46.4 61.0465,-54.2 63.9535,-54.2 63.9535,-69.7 66.8605,-69.7 66.8605,-76.7 69.7674,-76.7 69.7674,-88.3 72.6744,-88.3 72.6744,-99.4 75.5814,-99.4 75.5814,-98.5 78.4884,-98.5 78.4884,-100 81.3953,-100 81.3953,-96.7 84.3023,-96.7 84.3023,-90.5 87.2093,-90.5 87.2093,-82.5 90.1163,-82.5 90.1163,-72.3 93.0233,-72.3 93.0233,-61.9 95.9302,-61.9 95.9302,-51.7 98.8372,-51.7 98.8372,-38.7 101.744,-38.7 101.744,-32.2 104.651,-32.2 104.651,-24.3 107.558,-24.3 107.558,-15.2 110.465,-15.2 110.465,-12.7 113.372,-12.7 113.372,-8.39 116.279,-8.39 116.279,-6.04 119.186,-6.04 119.186,-3.41 122.093,-3.41 122.093,-2.06 125,-2.06 125,-1.14 127.907,-1.14 127.907,-0.711 130.814,-0.711 130.814,-0.569 133.721,-0.569 133.721,-0.355 136.628,-0.355 136.628,-0.711 139.535,-0.711 139.535,-0.355 142.442,-0.355 142.442,-0.0711 145.349,-0.0711 145.349,-0 148.256,-0 148.256,-0.213 151.163,-0.213 151.163,-0.0711 154.07,-0.0711 154.07,-0 156.977,-0 156.977,-0 159.884,-0 159.884,-0 162.791,-0 162.791,-0 165.698,-0 165.698,-0 168.605,-0 168.605,-0 171.512,-0 171.512,-0 174.419,-0 174.419,-0 177.326,-0 177.326,-0.0711 180.233,-0.0711 180.233,-0 183.14,-0 183.14,-0 186.047,-0 186.047,-0 188.953,-0 188.953,-0.0711 191.86,-0.0711 191.86,-0.0711 194.767,-0.0711 194.767,-0 197.674,-0 197.674,-0 200.581,-0 200.581,-0 203.488,-0 203.488,-0 206.395,-0 206.395,-0 209.302,-0 209.302,-0 212.209,-0 212.209,-0 215.116,-0 215.116,-0 218.023,-0 218.023,-0 220.93,-0 220.93,-0.0711 223.837,-0.0711 223.837,-0.0711 226.744,-0.0711 226.744,-0 229.651,-0 229.651,-0 232.558,-0 232.558,-0 235.465,-0 235.465,-0 238.372,-0 238.372,-0 241.279,-0 241.279,-0 244.186,-0 244.186,-0 247.093,-0 247.093,-0 250,-0 250,0\" style=\"fill:none; stroke:currentColor;\"/>\n",
       "</svg>\n",
       "</div>\n",
       "<div style=\"flex=grow:1;\">\n",
       "Regular(86, 14.875, 29.925, name='rechits_energy_sum', label='Total reconstructed energy per event (GeV)')<br/>\n",
       "<hr style=\"margin-top:.2em; margin-bottom:.2em;\"/>\n",
       "Double() Σ=19432.0 <em>(19969.0 with flow)</em>\n",
       "\n",
       "</div>\n",
       "</div>\n",
       "</html>"
      ],
      "text/plain": [
       "Hist(Regular(86, 14.875, 29.925, name='rechits_energy_sum', label='Total reconstructed energy per event (GeV)'), storage=Double()) # Sum: 19432.0 (19969.0 with flow)"
      ]
     },
     "execution_count": 2,
     "metadata": {},
     "output_type": "execute_result"
    }
   ],
   "source": [
    "hist_folder = '/grid_mnt/data_cms_upgrade/cuisset/testbeam18/clue3d/v33'\n",
    "histStore = HistogramStore(hist_folder, HistogramId)\n",
    "h1 = histStore.get(HistogramId(\"RechitsTotalEnergyPerEvent\", \"cmssw\", \"data\")).getHistogram(HistogramKind.COUNT)\n",
    "h_proj = h1[{\"beamEnergy\":hist.loc(20), \"rechits_energy_sum\":slice(hist.loc(15), hist.loc(30))}]\n",
    "h_proj"
   ]
  },
  {
   "cell_type": "code",
   "execution_count": 3,
   "metadata": {},
   "outputs": [
    {
     "data": {
      "text/html": [
       "<html>\n",
       "<div style=\"display:flex; align-items:center;\">\n",
       "<div style=\"width:290px;\">\n",
       "<svg xmlns=\"http://www.w3.org/2000/svg\" viewBox=\"-10 -105 270 120\">\n",
       "<line x1=\"-5\" y1=\"0\" x2=\"255\" y2=\"0\" style=\"fill:none;stroke-width:2;stroke:currentColor\"/>\n",
       "<text text-anchor=\"middle\" x=\"0\" y=\"15\" style=\"fill:currentColor;\">\n",
       "14.9\n",
       "</text>\n",
       "<text text-anchor=\"middle\" x=\"250\" y=\"15\" style=\"fill:currentColor;\">\n",
       "29.9\n",
       "</text>\n",
       "<text text-anchor=\"middle\" x=\"125.0\" y=\"15\" style=\"fill:currentColor;\">\n",
       "rechits_energy_sum\n",
       "</text>\n",
       "<polyline points=\"  0,0   0,-0.853 2.90698,-0.853 2.90698,-1.28 5.81395,-1.28 5.81395,-1.42 8.72093,-1.42 8.72093,-1.63 11.6279,-1.63 11.6279,-0.853 14.5349,-0.853 14.5349,-1.21 17.4419,-1.21 17.4419,-1.71 20.3488,-1.71 20.3488,-1.49 23.2558,-1.49 23.2558,-2.49 26.1628,-2.49 26.1628,-1.99 29.0698,-1.99 29.0698,-2.63 31.9767,-2.63 31.9767,-3.91 34.8837,-3.91 34.8837,-4.48 37.7907,-4.48 37.7907,-6.25 40.6977,-6.25 40.6977,-7.46 43.6047,-7.46 43.6047,-11.2 46.5116,-11.2 46.5116,-12.7 49.4186,-12.7 49.4186,-20.5 52.3256,-20.5 52.3256,-24.3 55.2326,-24.3 55.2326,-36 58.1395,-36 58.1395,-46.4 61.0465,-46.4 61.0465,-54.2 63.9535,-54.2 63.9535,-69.7 66.8605,-69.7 66.8605,-76.7 69.7674,-76.7 69.7674,-88.3 72.6744,-88.3 72.6744,-99.4 75.5814,-99.4 75.5814,-98.5 78.4884,-98.5 78.4884,-100 81.3953,-100 81.3953,-96.7 84.3023,-96.7 84.3023,-90.5 87.2093,-90.5 87.2093,-82.5 90.1163,-82.5 90.1163,-72.3 93.0233,-72.3 93.0233,-61.9 95.9302,-61.9 95.9302,-51.7 98.8372,-51.7 98.8372,-38.7 101.744,-38.7 101.744,-32.2 104.651,-32.2 104.651,-24.3 107.558,-24.3 107.558,-15.2 110.465,-15.2 110.465,-12.7 113.372,-12.7 113.372,-8.39 116.279,-8.39 116.279,-6.04 119.186,-6.04 119.186,-3.41 122.093,-3.41 122.093,-2.06 125,-2.06 125,-1.14 127.907,-1.14 127.907,-0.711 130.814,-0.711 130.814,-0.569 133.721,-0.569 133.721,-0.355 136.628,-0.355 136.628,-0.711 139.535,-0.711 139.535,-0.355 142.442,-0.355 142.442,-0.0711 145.349,-0.0711 145.349,-0 148.256,-0 148.256,-0.213 151.163,-0.213 151.163,-0.0711 154.07,-0.0711 154.07,-0 156.977,-0 156.977,-0 159.884,-0 159.884,-0 162.791,-0 162.791,-0 165.698,-0 165.698,-0 168.605,-0 168.605,-0 171.512,-0 171.512,-0 174.419,-0 174.419,-0 177.326,-0 177.326,-0.0711 180.233,-0.0711 180.233,-0 183.14,-0 183.14,-0 186.047,-0 186.047,-0 188.953,-0 188.953,-0.0711 191.86,-0.0711 191.86,-0.0711 194.767,-0.0711 194.767,-0 197.674,-0 197.674,-0 200.581,-0 200.581,-0 203.488,-0 203.488,-0 206.395,-0 206.395,-0 209.302,-0 209.302,-0 212.209,-0 212.209,-0 215.116,-0 215.116,-0 218.023,-0 218.023,-0 220.93,-0 220.93,-0.0711 223.837,-0.0711 223.837,-0.0711 226.744,-0.0711 226.744,-0 229.651,-0 229.651,-0 232.558,-0 232.558,-0 235.465,-0 235.465,-0 238.372,-0 238.372,-0 241.279,-0 241.279,-0 244.186,-0 244.186,-0 247.093,-0 247.093,-0 250,-0 250,0\" style=\"fill:none; stroke:currentColor;\"/>\n",
       "</svg>\n",
       "</div>\n",
       "<div style=\"flex=grow:1;\">\n",
       "Regular(86, 14.875, 29.925, underflow=False, overflow=False, name='rechits_energy_sum')<br/>\n",
       "<hr style=\"margin-top:.2em; margin-bottom:.2em;\"/>\n",
       "Weight() Σ=WeightedSum(value=19432, variance=19432)\n",
       "\n",
       "</div>\n",
       "</div>\n",
       "</html>"
      ],
      "text/plain": [
       "<zfit._data.binneddatav1.BinnedData at 0x7f6af69e9540>"
      ]
     },
     "execution_count": 3,
     "metadata": {},
     "output_type": "execute_result"
    }
   ],
   "source": [
    "data = zfit.data.BinnedData.from_hist(h_proj)\n",
    "data"
   ]
  },
  {
   "cell_type": "code",
   "execution_count": 4,
   "metadata": {},
   "outputs": [],
   "source": [
    "mu = zfit.Parameter(\"mu_\", 100, 0., 500.)\n",
    "sigma = zfit.Parameter(\"sigma_\", 1, 0., 100.)"
   ]
  },
  {
   "cell_type": "code",
   "execution_count": 6,
   "metadata": {},
   "outputs": [
    {
     "ename": "ValueError",
     "evalue": "Could not create space ('rechits_energy_sum',) from pdf zfit.model.Gauss(\"Gauss\", dtype=float64) with binning ('rechits_energy_sum',)",
     "output_type": "error",
     "traceback": [
      "\u001b[0;31m---------------------------------------------------------------------------\u001b[0m",
      "\u001b[0;31mTypeError\u001b[0m                                 Traceback (most recent call last)",
      "File \u001b[0;32m/grid_mnt/vol_home/llr/cms/cuisset/mambaforge/envs/clustering-anlysis-mamba-v2/lib/python3.10/site-packages/zfit/models/tobinned.py:60\u001b[0m, in \u001b[0;36mBinnedFromUnbinnedPDF.__init__\u001b[0;34m(self, pdf, space, extended, norm)\u001b[0m\n\u001b[1;32m     59\u001b[0m \u001b[39mtry\u001b[39;00m:\n\u001b[0;32m---> 60\u001b[0m     space \u001b[39m=\u001b[39m pdf\u001b[39m.\u001b[39;49mspace\u001b[39m.\u001b[39;49mwith_binning(space)\n\u001b[1;32m     61\u001b[0m \u001b[39mexcept\u001b[39;00m \u001b[39mException\u001b[39;00m \u001b[39mas\u001b[39;00m error:\n",
      "File \u001b[0;32m/grid_mnt/vol_home/llr/cms/cuisset/mambaforge/envs/clustering-anlysis-mamba-v2/lib/python3.10/site-packages/zfit/core/space.py:1993\u001b[0m, in \u001b[0;36mSpace.with_binning\u001b[0;34m(self, binning)\u001b[0m\n\u001b[1;32m   1989\u001b[0m \u001b[39mdef\u001b[39;00m \u001b[39mwith_binning\u001b[39m(\u001b[39mself\u001b[39m, binning):\n\u001b[1;32m   1990\u001b[0m     \u001b[39m# if binning is not None and not isinstance(binning, Binnings):\u001b[39;00m\n\u001b[1;32m   1991\u001b[0m     \u001b[39m#     binning = convert_to_container(binning)\u001b[39;00m\n\u001b[1;32m   1992\u001b[0m     \u001b[39m#     binning = Binnings(binning)\u001b[39;00m\n\u001b[0;32m-> 1993\u001b[0m     \u001b[39mreturn\u001b[39;00m \u001b[39mself\u001b[39;49m\u001b[39m.\u001b[39;49mcopy(binning\u001b[39m=\u001b[39;49mbinning)\n",
      "File \u001b[0;32m/grid_mnt/vol_home/llr/cms/cuisset/mambaforge/envs/clustering-anlysis-mamba-v2/lib/python3.10/site-packages/zfit/core/space.py:2024\u001b[0m, in \u001b[0;36mSpace.copy\u001b[0;34m(self, **overwrite_kwargs)\u001b[0m\n\u001b[1;32m   2022\u001b[0m \u001b[39m# if binning is not None and kwargs.get('obs'):\u001b[39;00m\n\u001b[1;32m   2023\u001b[0m \u001b[39m#     kwargs['binning'] = [binning[ob] for ob in kwargs['obs']]\u001b[39;00m\n\u001b[0;32m-> 2024\u001b[0m new_space \u001b[39m=\u001b[39m \u001b[39mtype\u001b[39;49m(\u001b[39mself\u001b[39;49m)(\u001b[39m*\u001b[39;49m\u001b[39m*\u001b[39;49mkwargs)\n\u001b[1;32m   2025\u001b[0m \u001b[39mreturn\u001b[39;00m new_space\n",
      "File \u001b[0;32m/grid_mnt/vol_home/llr/cms/cuisset/mambaforge/envs/clustering-anlysis-mamba-v2/lib/python3.10/site-packages/zfit/core/space.py:1206\u001b[0m, in \u001b[0;36mSpace.__init__\u001b[0;34m(self, obs, limits, binning, axes, rect_limits, name)\u001b[0m\n\u001b[1;32m   1205\u001b[0m     \u001b[39mif\u001b[39;00m binning \u001b[39mis\u001b[39;00m \u001b[39mnot\u001b[39;00m \u001b[39mNone\u001b[39;00m:\n\u001b[0;32m-> 1206\u001b[0m         binning \u001b[39m=\u001b[39m Binnings(binning)\n\u001b[1;32m   1207\u001b[0m \u001b[39mif\u001b[39;00m binning \u001b[39mis\u001b[39;00m \u001b[39mnot\u001b[39;00m \u001b[39mNone\u001b[39;00m \u001b[39mand\u001b[39;00m \u001b[39mnot\u001b[39;00m \u001b[39mall\u001b[39m(binning\u001b[39m.\u001b[39mname):\n",
      "File \u001b[0;32m/grid_mnt/vol_home/llr/cms/cuisset/mambaforge/envs/clustering-anlysis-mamba-v2/lib/python3.10/site-packages/boost_histogram/_internal/axestuple.py:57\u001b[0m, in \u001b[0;36mAxesTuple.__init__\u001b[0;34m(self, _AxesTuple__iterable)\u001b[0m\n\u001b[1;32m     56\u001b[0m     \u001b[39mif\u001b[39;00m \u001b[39mnot\u001b[39;00m \u001b[39misinstance\u001b[39m(item, Axis):\n\u001b[0;32m---> 57\u001b[0m         \u001b[39mraise\u001b[39;00m \u001b[39mTypeError\u001b[39;00m(\n\u001b[1;32m     58\u001b[0m             \u001b[39mf\u001b[39m\u001b[39m\"\u001b[39m\u001b[39mOnly an iterable of Axis supported in AxesTuple, got \u001b[39m\u001b[39m{\u001b[39;00mitem\u001b[39m}\u001b[39;00m\u001b[39m\"\u001b[39m\n\u001b[1;32m     59\u001b[0m         )\n\u001b[1;32m     60\u001b[0m \u001b[39msuper\u001b[39m()\u001b[39m.\u001b[39m\u001b[39m__init__\u001b[39m()\n",
      "\u001b[0;31mTypeError\u001b[0m: Only an iterable of Axis supported in AxesTuple, got rechits_energy_sum",
      "\nThe above exception was the direct cause of the following exception:\n",
      "\u001b[0;31mValueError\u001b[0m                                Traceback (most recent call last)",
      "Cell \u001b[0;32mIn[6], line 1\u001b[0m\n\u001b[0;32m----> 1\u001b[0m pdf \u001b[39m=\u001b[39m zfit\u001b[39m.\u001b[39;49mpdf\u001b[39m.\u001b[39;49mBinnedFromUnbinnedPDF(zfit\u001b[39m.\u001b[39;49mpdf\u001b[39m.\u001b[39;49mGauss(obs\u001b[39m=\u001b[39;49mdata\u001b[39m.\u001b[39;49mobs, mu\u001b[39m=\u001b[39;49mmu, sigma\u001b[39m=\u001b[39;49msigma), data\u001b[39m.\u001b[39;49mobs)\n\u001b[1;32m      2\u001b[0m loss \u001b[39m=\u001b[39m zfit\u001b[39m.\u001b[39mloss\u001b[39m.\u001b[39mBinnedNLL(pdf, data)\n\u001b[1;32m      3\u001b[0m minimizer \u001b[39m=\u001b[39m zfit\u001b[39m.\u001b[39mminimize\u001b[39m.\u001b[39mMinuit()\n",
      "File \u001b[0;32m/grid_mnt/vol_home/llr/cms/cuisset/mambaforge/envs/clustering-anlysis-mamba-v2/lib/python3.10/site-packages/zfit/models/tobinned.py:62\u001b[0m, in \u001b[0;36mBinnedFromUnbinnedPDF.__init__\u001b[0;34m(self, pdf, space, extended, norm)\u001b[0m\n\u001b[1;32m     60\u001b[0m         space \u001b[39m=\u001b[39m pdf\u001b[39m.\u001b[39mspace\u001b[39m.\u001b[39mwith_binning(space)\n\u001b[1;32m     61\u001b[0m     \u001b[39mexcept\u001b[39;00m \u001b[39mException\u001b[39;00m \u001b[39mas\u001b[39;00m error:\n\u001b[0;32m---> 62\u001b[0m         \u001b[39mraise\u001b[39;00m \u001b[39mValueError\u001b[39;00m(\n\u001b[1;32m     63\u001b[0m             \u001b[39mf\u001b[39m\u001b[39m\"\u001b[39m\u001b[39mCould not create space \u001b[39m\u001b[39m{\u001b[39;00mspace\u001b[39m}\u001b[39;00m\u001b[39m from pdf \u001b[39m\u001b[39m{\u001b[39;00mpdf\u001b[39m}\u001b[39;00m\u001b[39m with binning \u001b[39m\u001b[39m{\u001b[39;00mspace\u001b[39m}\u001b[39;00m\u001b[39m\"\u001b[39m\n\u001b[1;32m     64\u001b[0m         ) \u001b[39mfrom\u001b[39;00m \u001b[39merror\u001b[39;00m\n\u001b[1;32m     65\u001b[0m \u001b[39msuper\u001b[39m()\u001b[39m.\u001b[39m\u001b[39m__init__\u001b[39m(\n\u001b[1;32m     66\u001b[0m     obs\u001b[39m=\u001b[39mspace,\n\u001b[1;32m     67\u001b[0m     extended\u001b[39m=\u001b[39mextended,\n\u001b[0;32m   (...)\u001b[0m\n\u001b[1;32m     71\u001b[0m     name\u001b[39m=\u001b[39m\u001b[39m\"\u001b[39m\u001b[39mBinnedFromUnbinnedPDF\u001b[39m\u001b[39m\"\u001b[39m,\n\u001b[1;32m     72\u001b[0m )\n\u001b[1;32m     73\u001b[0m \u001b[39mself\u001b[39m\u001b[39m.\u001b[39mpdfs \u001b[39m=\u001b[39m \u001b[39mself\u001b[39m\u001b[39m.\u001b[39mmodels\n",
      "\u001b[0;31mValueError\u001b[0m: Could not create space ('rechits_energy_sum',) from pdf zfit.model.Gauss(\"Gauss\", dtype=float64) with binning ('rechits_energy_sum',)"
     ]
    }
   ],
   "source": [
    "pdf = zfit.pdf.BinnedFromUnbinnedPDF(zfit.pdf.Gauss(obs=data.obs, mu=mu, sigma=sigma), data.obs)\n",
    "loss = zfit.loss.BinnedNLL(pdf, data)\n",
    "minimizer = zfit.minimize.Minuit()\n",
    "result = minimizer.minimize(loss)\n"
   ]
  },
  {
   "cell_type": "code",
   "execution_count": null,
   "metadata": {},
   "outputs": [],
   "source": []
  }
 ],
 "metadata": {
  "kernelspec": {
   "display_name": "clustering-analysis-dash",
   "language": "python",
   "name": "python3"
  },
  "language_info": {
   "codemirror_mode": {
    "name": "ipython",
    "version": 3
   },
   "file_extension": ".py",
   "mimetype": "text/x-python",
   "name": "python",
   "nbconvert_exporter": "python",
   "pygments_lexer": "ipython3",
   "version": "3.10.10"
  },
  "orig_nbformat": 4
 },
 "nbformat": 4,
 "nbformat_minor": 2
}
