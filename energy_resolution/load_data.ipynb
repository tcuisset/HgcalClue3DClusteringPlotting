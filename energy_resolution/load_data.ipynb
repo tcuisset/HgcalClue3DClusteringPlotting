{
 "cells": [
  {
   "cell_type": "code",
   "execution_count": 1,
   "metadata": {},
   "outputs": [],
   "source": [
    "import sys\n",
    "from collections import namedtuple\n",
    "import numpy as np\n",
    "from uncertainties import ufloat, unumpy\n",
    "import uncertainties\n",
    "import scipy\n",
    "import matplotlib\n",
    "import matplotlib.pyplot as plt\n",
    "import mplhep as hep\n",
    "plt.style.use(hep.style.CMS)\n",
    "import awkward as ak\n",
    "import pandas as pd\n",
    "import uproot\n",
    "\n",
    "sys.path.append(\"..\")\n",
    "from HistogramLib.store import HistogramStore\n",
    "from HistogramLib.plot_manager import PlotManager\n",
    "from HistogramLib.bokeh.histogram_widget import *\n",
    "from hists.parameters import beamEnergies, synchrotronBeamEnergiesMap\n",
    "from hists.store import HistogramId\n",
    "from bokeh_apps.widgets import *"
   ]
  },
  {
   "attachments": {},
   "cell_type": "markdown",
   "metadata": {},
   "source": [
    "# From histograms"
   ]
  },
  {
   "cell_type": "code",
   "execution_count": 2,
   "metadata": {},
   "outputs": [],
   "source": [
    "hist_folder = '/grid_mnt/data_cms_upgrade/cuisset/testbeam18/clue3d/v33'\n",
    "histStore = HistogramStore(hist_folder, HistogramId)"
   ]
  },
  {
   "cell_type": "code",
   "execution_count": 3,
   "metadata": {},
   "outputs": [
    {
     "data": {
      "text/html": [
       "<html>\n",
       "<div style=\"display:flex; align-items:center;\">\n",
       "<div style=\"width:290px;\">\n",
       "<svg xmlns=\"http://www.w3.org/2000/svg\" viewBox=\"-10 -105 270 120\">\n",
       "<line x1=\"-5\" y1=\"0\" x2=\"255\" y2=\"0\" style=\"fill:none;stroke-width:2;stroke:currentColor\"/>\n",
       "<text text-anchor=\"middle\" x=\"0\" y=\"15\" style=\"fill:currentColor;\">\n",
       "14.9\n",
       "</text>\n",
       "<text text-anchor=\"middle\" x=\"250\" y=\"15\" style=\"fill:currentColor;\">\n",
       "29.9\n",
       "</text>\n",
       "<text text-anchor=\"middle\" x=\"125.0\" y=\"15\" style=\"fill:currentColor;\">\n",
       "Total reconstructed energy per event (GeV)\n",
       "</text>\n",
       "<polyline points=\"  0,0   0,-0.853 2.90698,-0.853 2.90698,-1.28 5.81395,-1.28 5.81395,-1.42 8.72093,-1.42 8.72093,-1.63 11.6279,-1.63 11.6279,-0.853 14.5349,-0.853 14.5349,-1.21 17.4419,-1.21 17.4419,-1.71 20.3488,-1.71 20.3488,-1.49 23.2558,-1.49 23.2558,-2.49 26.1628,-2.49 26.1628,-1.99 29.0698,-1.99 29.0698,-2.63 31.9767,-2.63 31.9767,-3.91 34.8837,-3.91 34.8837,-4.48 37.7907,-4.48 37.7907,-6.25 40.6977,-6.25 40.6977,-7.46 43.6047,-7.46 43.6047,-11.2 46.5116,-11.2 46.5116,-12.7 49.4186,-12.7 49.4186,-20.5 52.3256,-20.5 52.3256,-24.3 55.2326,-24.3 55.2326,-36 58.1395,-36 58.1395,-46.4 61.0465,-46.4 61.0465,-54.2 63.9535,-54.2 63.9535,-69.7 66.8605,-69.7 66.8605,-76.7 69.7674,-76.7 69.7674,-88.3 72.6744,-88.3 72.6744,-99.4 75.5814,-99.4 75.5814,-98.5 78.4884,-98.5 78.4884,-100 81.3953,-100 81.3953,-96.7 84.3023,-96.7 84.3023,-90.5 87.2093,-90.5 87.2093,-82.5 90.1163,-82.5 90.1163,-72.3 93.0233,-72.3 93.0233,-61.9 95.9302,-61.9 95.9302,-51.7 98.8372,-51.7 98.8372,-38.7 101.744,-38.7 101.744,-32.2 104.651,-32.2 104.651,-24.3 107.558,-24.3 107.558,-15.2 110.465,-15.2 110.465,-12.7 113.372,-12.7 113.372,-8.39 116.279,-8.39 116.279,-6.04 119.186,-6.04 119.186,-3.41 122.093,-3.41 122.093,-2.06 125,-2.06 125,-1.14 127.907,-1.14 127.907,-0.711 130.814,-0.711 130.814,-0.569 133.721,-0.569 133.721,-0.355 136.628,-0.355 136.628,-0.711 139.535,-0.711 139.535,-0.355 142.442,-0.355 142.442,-0.0711 145.349,-0.0711 145.349,-0 148.256,-0 148.256,-0.213 151.163,-0.213 151.163,-0.0711 154.07,-0.0711 154.07,-0 156.977,-0 156.977,-0 159.884,-0 159.884,-0 162.791,-0 162.791,-0 165.698,-0 165.698,-0 168.605,-0 168.605,-0 171.512,-0 171.512,-0 174.419,-0 174.419,-0 177.326,-0 177.326,-0.0711 180.233,-0.0711 180.233,-0 183.14,-0 183.14,-0 186.047,-0 186.047,-0 188.953,-0 188.953,-0.0711 191.86,-0.0711 191.86,-0.0711 194.767,-0.0711 194.767,-0 197.674,-0 197.674,-0 200.581,-0 200.581,-0 203.488,-0 203.488,-0 206.395,-0 206.395,-0 209.302,-0 209.302,-0 212.209,-0 212.209,-0 215.116,-0 215.116,-0 218.023,-0 218.023,-0 220.93,-0 220.93,-0.0711 223.837,-0.0711 223.837,-0.0711 226.744,-0.0711 226.744,-0 229.651,-0 229.651,-0 232.558,-0 232.558,-0 235.465,-0 235.465,-0 238.372,-0 238.372,-0 241.279,-0 241.279,-0 244.186,-0 244.186,-0 247.093,-0 247.093,-0 250,-0 250,0\" style=\"fill:none; stroke:currentColor;\"/>\n",
       "</svg>\n",
       "</div>\n",
       "<div style=\"flex=grow:1;\">\n",
       "Regular(86, 14.875, 29.925, name='rechits_energy_sum', label='Total reconstructed energy per event (GeV)')<br/>\n",
       "<hr style=\"margin-top:.2em; margin-bottom:.2em;\"/>\n",
       "Double() Σ=19432.0 <em>(19969.0 with flow)</em>\n",
       "\n",
       "</div>\n",
       "</div>\n",
       "</html>"
      ],
      "text/plain": [
       "Hist(Regular(86, 14.875, 29.925, name='rechits_energy_sum', label='Total reconstructed energy per event (GeV)'), storage=Double()) # Sum: 19432.0 (19969.0 with flow)"
      ]
     },
     "execution_count": 3,
     "metadata": {},
     "output_type": "execute_result"
    }
   ],
   "source": [
    "h1 = histStore.get(HistogramId(\"RechitsTotalEnergyPerEvent\", \"cmssw\", \"data\")).getHistogram(HistogramKind.COUNT)\n",
    "h1[{\"beamEnergy\":hist.loc(20), \"rechits_energy_sum\":slice(hist.loc(15), hist.loc(30))}]"
   ]
  },
  {
   "cell_type": "code",
   "execution_count": null,
   "metadata": {},
   "outputs": [],
   "source": []
  },
  {
   "attachments": {},
   "cell_type": "markdown",
   "metadata": {},
   "source": [
    "# From CLUE_clusters.root"
   ]
  },
  {
   "cell_type": "code",
   "execution_count": 4,
   "metadata": {},
   "outputs": [],
   "source": [
    "tree = uproot.open('/data_cms_upgrade/cuisset/testbeam18/clue3d/v31/cmssw/data/CLUE_clusters.root:clusters')\n",
    "arrays = tree.arrays(entry_stop=100)"
   ]
  },
  {
   "cell_type": "code",
   "execution_count": 5,
   "metadata": {},
   "outputs": [
    {
     "data": {
      "text/html": [
       "<pre>[144,\n",
       " 289,\n",
       " 282,\n",
       " 282,\n",
       " 282,\n",
       " 287,\n",
       " 277,\n",
       " 281,\n",
       " 282,\n",
       " 282,\n",
       " ...,\n",
       " 282,\n",
       " 281,\n",
       " 277,\n",
       " 286,\n",
       " 292,\n",
       " 285,\n",
       " 280,\n",
       " 284,\n",
       " 281]\n",
       "--------------------\n",
       "type: 100 * ?float32</pre>"
      ],
      "text/plain": [
       "<Array [144, 289, 282, 282, 282, ..., 285, 280, 284, 281] type='100 * ?float32'>"
      ]
     },
     "execution_count": 5,
     "metadata": {},
     "output_type": "execute_result"
    }
   ],
   "source": [
    "ak.max(arrays.clus3D_energy, axis=-1)"
   ]
  },
  {
   "cell_type": "code",
   "execution_count": 6,
   "metadata": {},
   "outputs": [],
   "source": [
    "def getTotalEnergyRechits(events:ak.Array):\n",
    "    return ak.sum(events.rechits_energy, axis=-1)\n",
    "def getTotalEnergyCLUE(events:ak.Array):\n",
    "    return ak.sum(events.clus2D_energy, axis=-1)\n",
    "def getTotalEnergyCLUE3D(events:ak.Array, mainTracksterOnly=True):\n",
    "    if mainTracksterOnly:\n",
    "        return ak.max(events.clus3D_energy, axis=-1)\n",
    "    else:\n",
    "        return ak.sum(events.clus3D_energy, axis=-1)"
   ]
  },
  {
   "cell_type": "code",
   "execution_count": 7,
   "metadata": {},
   "outputs": [],
   "source": [
    "def filterFromDf(events:ak.Array, df:pd.DataFrame):\n",
    "    cut = np.isin(events.beamEnergy, df.beamEnergy) & np.isin(events.event, df.event) & np.isin(events.ntupleNumber, df.ntupleNumber)\n",
    "    return events[~cut] "
   ]
  }
 ],
 "metadata": {
  "kernelspec": {
   "display_name": "clustering-analysis-dash",
   "language": "python",
   "name": "python3"
  },
  "language_info": {
   "codemirror_mode": {
    "name": "ipython",
    "version": 3
   },
   "file_extension": ".py",
   "mimetype": "text/x-python",
   "name": "python",
   "nbconvert_exporter": "python",
   "pygments_lexer": "ipython3",
   "version": "3.10.10"
  },
  "orig_nbformat": 4
 },
 "nbformat": 4,
 "nbformat_minor": 2
}
